{
 "cells": [
  {
   "cell_type": "code",
   "execution_count": 9,
   "id": "8b685381",
   "metadata": {},
   "outputs": [
    {
     "data": {
      "text/plain": [
       "Package MPLEExample_DirectCleanApproach_Vehicle (859fa8d1-bb04-4b41-859a-485945897247)\n"
      ]
     },
     "execution_count": 9,
     "metadata": {},
     "output_type": "execute_result"
    }
   ],
   "source": [
    "package MPLEExample_DirectCleanApproach_Vehicle {\n",
    "//\n",
    "// Shared Assets\n",
    "//\n",
    "part def Vehicle {\n",
    "    part roof : Roof;\n",
    "}\n",
    "\n",
    "part def Roof;\n",
    "part def StandardRoof :> Roof;\n",
    "part def SkyRoof :> Roof;\n",
    "part def ConvertibleRoof :> Roof;\n",
    "\n",
    "//\n",
    "// Definition of the variability\n",
    "//\n",
    "variation part def RoofChoices :> Roof {\n",
    "    variant part standardRoof : StandardRoof;\n",
    "    variant part skyRoof : SkyRoof;\n",
    "    variant part convertibleRoof : ConvertibleRoof;\n",
    "}\n",
    "\n",
    "part def VehicleChoices :> Vehicle {\n",
    "    variation :>> roof : RoofChoices;\n",
    "}\n",
    "\n",
    "\n",
    "//\n",
    "// Member Products\n",
    "//\n",
    "part convertibleVehicle : VehicleChoices {\n",
    "    :>> roof = roof::convertibleRoof;\n",
    "}\n",
    "}"
   ]
  },
  {
   "cell_type": "code",
   "execution_count": 11,
   "id": "657afb51",
   "metadata": {},
   "outputs": [
    {
     "data": {
      "image/svg+xml": [
       "<?xml version=\"1.0\" encoding=\"UTF-8\" standalone=\"no\"?><svg xmlns=\"http://www.w3.org/2000/svg\" xmlns:xlink=\"http://www.w3.org/1999/xlink\" contentStyleType=\"text/css\" height=\"193px\" preserveAspectRatio=\"none\" style=\"width:617px;height:193px;background:#FFFFFF;\" version=\"1.1\" viewBox=\"0 0 617 193\" width=\"617px\" zoomAndPan=\"magnify\"><defs/><g><!--MD5=[43c9051892ef23e1a46a86907403d788]\n",
       "class E1--><a href=\"psysml:51e63bcc-8130-4916-bead-a57690b3a0b4\" target=\"_top\" title=\"psysml:51e63bcc-8130-4916-bead-a57690b3a0b4\" xlink:actuate=\"onRequest\" xlink:href=\"psysml:51e63bcc-8130-4916-bead-a57690b3a0b4\" xlink:show=\"new\" xlink:title=\"psysml:51e63bcc-8130-4916-bead-a57690b3a0b4\" xlink:type=\"simple\"><g id=\"elem_E1\"><rect fill=\"#FFFFFF\" height=\"50.7031\" id=\"E1\" style=\"stroke:#181818;stroke-width:0.5;\" width=\"87\" x=\"251.5\" y=\"7\"/><text fill=\"#000000\" font-family=\"sans-serif\" font-size=\"12\" font-style=\"italic\" lengthAdjust=\"spacing\" textLength=\"58\" x=\"266\" y=\"24.457\">«part  def»</text><text fill=\"#000000\" font-family=\"sans-serif\" font-size=\"14\" font-style=\"italic\" lengthAdjust=\"spacing\" textLength=\"81\" x=\"254.5\" y=\"41.627\">RoofChoices</text><line style=\"stroke:#181818;stroke-width:0.5;\" x1=\"252.5\" x2=\"337.5\" y1=\"49.7031\" y2=\"49.7031\"/></g></a><!--MD5=[b4997ac47864f28c2f74865a473b2911]\n",
       "class E2--><a href=\"psysml:2cf1cf54-c185-4a68-920e-914fc3733e16\" target=\"_top\" title=\"psysml:2cf1cf54-c185-4a68-920e-914fc3733e16\" xlink:actuate=\"onRequest\" xlink:href=\"psysml:2cf1cf54-c185-4a68-920e-914fc3733e16\" xlink:show=\"new\" xlink:title=\"psysml:2cf1cf54-c185-4a68-920e-914fc3733e16\" xlink:type=\"simple\"><g id=\"elem_E2\"><rect fill=\"#FFFFFF\" height=\"50.7031\" id=\"E2\" rx=\"10\" ry=\"10\" style=\"stroke:#181818;stroke-width:0.5;\" width=\"192\" x=\"7\" y=\"136\"/><text fill=\"#000000\" font-family=\"sans-serif\" font-size=\"12\" font-style=\"italic\" lengthAdjust=\"spacing\" textLength=\"35\" x=\"85.5\" y=\"153.457\">«part»</text><text fill=\"#000000\" font-family=\"sans-serif\" font-size=\"14\" lengthAdjust=\"spacing\" textLength=\"182\" x=\"10\" y=\"170.627\">standardRoof: StandardRoof</text><line style=\"stroke:#181818;stroke-width:0.5;\" x1=\"8\" x2=\"198\" y1=\"178.7031\" y2=\"178.7031\"/></g></a><!--MD5=[09b614a08d8cba4a07c9adeb5e0fee81]\n",
       "class E3--><a href=\"psysml:4908fc14-a5d8-41aa-88b5-41e029ed8d75\" target=\"_top\" title=\"psysml:4908fc14-a5d8-41aa-88b5-41e029ed8d75\" xlink:actuate=\"onRequest\" xlink:href=\"psysml:4908fc14-a5d8-41aa-88b5-41e029ed8d75\" xlink:show=\"new\" xlink:title=\"psysml:4908fc14-a5d8-41aa-88b5-41e029ed8d75\" xlink:type=\"simple\"><g id=\"elem_E3\"><rect fill=\"#FFFFFF\" height=\"50.7031\" id=\"E3\" rx=\"10\" ry=\"10\" style=\"stroke:#181818;stroke-width:0.5;\" width=\"122\" x=\"234\" y=\"136\"/><text fill=\"#000000\" font-family=\"sans-serif\" font-size=\"12\" font-style=\"italic\" lengthAdjust=\"spacing\" textLength=\"35\" x=\"277.5\" y=\"153.457\">«part»</text><text fill=\"#000000\" font-family=\"sans-serif\" font-size=\"14\" lengthAdjust=\"spacing\" textLength=\"112\" x=\"237\" y=\"170.627\">skyRoof: SkyRoof</text><line style=\"stroke:#181818;stroke-width:0.5;\" x1=\"235\" x2=\"355\" y1=\"178.7031\" y2=\"178.7031\"/></g></a><!--MD5=[ebbe1d658d1005bcc118a6aa81145e00]\n",
       "class E4--><a href=\"psysml:b6a35d0d-a4ab-4163-af50-c4dbb62e6d51\" target=\"_top\" title=\"psysml:b6a35d0d-a4ab-4163-af50-c4dbb62e6d51\" xlink:actuate=\"onRequest\" xlink:href=\"psysml:b6a35d0d-a4ab-4163-af50-c4dbb62e6d51\" xlink:show=\"new\" xlink:title=\"psysml:b6a35d0d-a4ab-4163-af50-c4dbb62e6d51\" xlink:type=\"simple\"><g id=\"elem_E4\"><rect fill=\"#FFFFFF\" height=\"50.7031\" id=\"E4\" rx=\"10\" ry=\"10\" style=\"stroke:#181818;stroke-width:0.5;\" width=\"219\" x=\"391.5\" y=\"136\"/><text fill=\"#000000\" font-family=\"sans-serif\" font-size=\"12\" font-style=\"italic\" lengthAdjust=\"spacing\" textLength=\"35\" x=\"483.5\" y=\"153.457\">«part»</text><text fill=\"#000000\" font-family=\"sans-serif\" font-size=\"14\" lengthAdjust=\"spacing\" textLength=\"209\" x=\"394.5\" y=\"170.627\">convertibleRoof: ConvertibleRoof</text><line style=\"stroke:#181818;stroke-width:0.5;\" x1=\"392.5\" x2=\"609.5\" y1=\"178.7031\" y2=\"178.7031\"/></g></a><!--MD5=[1f1cd8e6dd4c1b2ca2aaccc9b9bcea6e]\n",
       "link E1 to E2--><g id=\"link_E1_E2\"><a href=\"psysml:70018eaf-6f07-4232-afaa-b2ad8e8dbb6a\" target=\"_top\" title=\"psysml:70018eaf-6f07-4232-afaa-b2ad8e8dbb6a\" xlink:actuate=\"onRequest\" xlink:href=\"psysml:70018eaf-6f07-4232-afaa-b2ad8e8dbb6a\" xlink:show=\"new\" xlink:title=\"psysml:70018eaf-6f07-4232-afaa-b2ad8e8dbb6a\" xlink:type=\"simple\"><path d=\"M248.87,64.01 C218.53,84.08 178.99,110.24 148.73,130.25 \" fill=\"none\" id=\"E1-E2\" style=\"stroke:#181818;stroke-width:1.0;\"/><polygon fill=\"#181818\" points=\"140.05,135.99,148.3759,134.0716,145.0615,129.0701,140.05,135.99\" style=\"stroke:#181818;stroke-width:1.0;\"/><path d=\"M250.2781,52.9463 A9,9 0 0 0 259.6327 67.0385\" fill=\"none\" style=\"stroke:#181818;stroke-width:1.5;\"/><text fill=\"#000000\" font-family=\"sans-serif\" font-size=\"13\" lengthAdjust=\"spacing\" textLength=\"51\" x=\"212\" y=\"102.4951\">«variant»</text></a></g><!--MD5=[5a52c8b875856e813bbf7898a393ae67]\n",
       "link E1 to E3--><g id=\"link_E1_E3\"><a href=\"psysml:401db943-8254-470f-bbc2-9b959c767344\" target=\"_top\" title=\"psysml:401db943-8254-470f-bbc2-9b959c767344\" xlink:actuate=\"onRequest\" xlink:href=\"psysml:401db943-8254-470f-bbc2-9b959c767344\" xlink:show=\"new\" xlink:title=\"psysml:401db943-8254-470f-bbc2-9b959c767344\" xlink:type=\"simple\"><path d=\"M295,68.58 C295,86.25 295,107.62 295,125.3 \" fill=\"none\" id=\"E1-E3\" style=\"stroke:#181818;stroke-width:1.0;\"/><polygon fill=\"#181818\" points=\"295,135.77,298,127.77,292,127.77,295,135.77\" style=\"stroke:#181818;stroke-width:1.0;\"/><path d=\"M286.5428,61.3682 A9,9 0 0 0 303.4572 61.3682\" fill=\"none\" style=\"stroke:#181818;stroke-width:1.5;\"/><text fill=\"#000000\" font-family=\"sans-serif\" font-size=\"13\" lengthAdjust=\"spacing\" textLength=\"51\" x=\"296\" y=\"102.4951\">«variant»</text></a></g><!--MD5=[ee384bb554873b72f85793eae40e290c]\n",
       "link E1 to E4--><g id=\"link_E1_E4\"><a href=\"psysml:71b23628-54f8-4070-b40e-0103e85d2285\" target=\"_top\" title=\"psysml:71b23628-54f8-4070-b40e-0103e85d2285\" xlink:actuate=\"onRequest\" xlink:href=\"psysml:71b23628-54f8-4070-b40e-0103e85d2285\" xlink:show=\"new\" xlink:title=\"psysml:71b23628-54f8-4070-b40e-0103e85d2285\" xlink:type=\"simple\"><path d=\"M344.04,63.73 C376.78,83.92 419.65,110.35 452.32,130.49 \" fill=\"none\" id=\"E1-E4\" style=\"stroke:#181818;stroke-width:1.0;\"/><polygon fill=\"#181818\" points=\"461.24,135.99,456.0091,129.2344,452.8569,134.3396,461.24,135.99\" style=\"stroke:#181818;stroke-width:1.0;\"/><path d=\"M333.386,67.1032 A9,9 0 0 0 342.2723 52.7112\" fill=\"none\" style=\"stroke:#181818;stroke-width:1.5;\"/><text fill=\"#000000\" font-family=\"sans-serif\" font-size=\"13\" lengthAdjust=\"spacing\" textLength=\"51\" x=\"411\" y=\"102.4951\">«variant»</text></a></g><!--MD5=[10d2140feacb2ed8062af6642bc045d0]\n",
       "@startuml\r\n",
       "skin sysmlbw\r\n",
       "skinparam monochrome true\r\n",
       "skinparam wrapWidth 300\r\n",
       "hide circle\r\n",
       "\r\n",
       "comp def \"<i>RoofChoices</i>\" as E1  <<(T,blue) part  def>> [[psysml:51e63bcc-8130-4916-bead-a57690b3a0b4 ]] {\r\n",
       "}\r\n",
       "comp usage \"standardRoof: StandardRoof \" as E2  <<(T,blue) part>> [[psysml:2cf1cf54-c185-4a68-920e-914fc3733e16 ]] {\r\n",
       "}\r\n",
       "comp usage \"skyRoof: SkyRoof \" as E3  <<(T,blue) part>> [[psysml:4908fc14-a5d8-41aa-88b5-41e029ed8d75 ]] {\r\n",
       "}\r\n",
       "comp usage \"convertibleRoof: ConvertibleRoof \" as E4  <<(T,blue) part>> [[psysml:b6a35d0d-a4ab-4163-af50-c4dbb62e6d51 ]] {\r\n",
       "}\r\n",
       "E1 )- ->> E2 [[psysml:70018eaf-6f07-4232-afaa-b2ad8e8dbb6a ]] : <<variant>>\r\n",
       "E1 )- ->> E3 [[psysml:401db943-8254-470f-bbc2-9b959c767344 ]] : <<variant>>\r\n",
       "E1 )- ->> E4 [[psysml:71b23628-54f8-4070-b40e-0103e85d2285 ]] : <<variant>>\r\n",
       "@enduml\r\n",
       "\n",
       "PlantUML version 1.2022.7(Mon Aug 22 19:01:30 CEST 2022)\n",
       "(EPL source distribution)\n",
       "Java Runtime: OpenJDK Runtime Environment\n",
       "JVM: OpenJDK 64-Bit Server VM\n",
       "Default Encoding: Cp1252\n",
       "Language: en\n",
       "Country: US\n",
       "--></g></svg>"
      ]
     },
     "execution_count": 11,
     "metadata": {},
     "output_type": "execute_result"
    }
   ],
   "source": [
    "%viz MPLEExample_DirectCleanApproach_Vehicle::RoofChoices"
   ]
  }
 ],
 "metadata": {
  "kernelspec": {
   "display_name": "SysML",
   "language": "sysml",
   "name": "sysml"
  },
  "language_info": {
   "codemirror_mode": "sysml",
   "file_extension": ".sysml",
   "mimetype": "text/x-sysml",
   "name": "SysML",
   "pygments_lexer": "java",
   "version": "1.0.0"
  }
 },
 "nbformat": 4,
 "nbformat_minor": 5
}
