{
 "cells": [
  {
   "cell_type": "code",
   "execution_count": 10,
   "id": "a7f9827c",
   "metadata": {},
   "outputs": [
    {
     "data": {
      "text/plain": [
       "Package Drone_BaseArchitecture (79ee8ba6-46e4-40a9-b91d-f89f2fdbbd83)\n",
       "Package Drone_StakeholderRequirements (41a26714-dcf2-415f-b4e5-245415494bc5)\n",
       "Package Drone_SystemArchitecture (b721ac0f-6b63-465e-a31a-36031c59f861)\n",
       "Package Drone_SystemRequirements (b6289b36-a23c-4223-8eca-d51032713897)\n"
      ]
     },
     "execution_count": 10,
     "metadata": {},
     "output_type": "execute_result"
    }
   ],
   "source": [
    "package Drone_BaseArchitecture {\n",
    "    part def Drone;\n",
    "}\n",
    "\n",
    "package Drone_StakeholderRequirements {    \n",
    "    requirement <'REQ-42'> longDistance {\n",
    "        doc /* The drone shall have a sufficient range \n",
    "             * to operate at a distance of 5 km from the \n",
    "             * operator's location.\n",
    "            */  \n",
    "        subject drone : Drone_BaseArchitecture::Drone;\n",
    "    }\n",
    "}\n",
    "\n",
    "package Drone_SystemArchitecture {\n",
    "    \n",
    "    part drone : Drone_BaseArchitecture::Drone {\n",
    "        attribute totalMass = 750;\n",
    "        part battery {\n",
    "            attribute capacity = 6000;\n",
    "        }        \n",
    "    }\n",
    "    satisfy Drone_StakeholderRequirements::longDistance by drone;  \n",
    "}\n",
    "\n",
    "package Drone_SystemRequirements {\n",
    "    \n",
    "    import RequirementDerivation::*;\n",
    "    \n",
    "    requirement <'REQ-9942'> totalMass {\n",
    "        subject drone :>> Drone_SystemArchitecture::drone;        \n",
    "        assert constraint {\n",
    "            drone.totalMass <= 750\n",
    "        }\n",
    "    }\n",
    "    requirement <'REQ-9943'> battery {\n",
    "        subject battery :>> Drone_SystemArchitecture::drone.battery;\n",
    "    }\n",
    "    requirement <'REQ-9944'> maxCapacity {\n",
    "        subject battery :>> Drone_SystemArchitecture::drone.battery;\n",
    "        assert constraint {\n",
    "            battery.capacity >= 6000\n",
    "        }\n",
    "    }\n",
    "    #derivation connection {\n",
    "        end #original ::> Drone_StakeholderRequirements::longDistance;\n",
    "        end #derive ::> Drone_SystemRequirements::totalMass;\n",
    "        end #derive ::> Drone_SystemRequirements::maxCapacity;\n",
    "    }\n",
    "}\n",
    "\n"
   ]
  }
 ],
 "metadata": {
  "kernelspec": {
   "display_name": "SysML",
   "language": "sysml",
   "name": "sysml"
  },
  "language_info": {
   "codemirror_mode": "sysml",
   "file_extension": ".sysml",
   "mimetype": "text/x-sysml",
   "name": "SysML",
   "pygments_lexer": "java",
   "version": "1.0.0"
  }
 },
 "nbformat": 4,
 "nbformat_minor": 5
}
