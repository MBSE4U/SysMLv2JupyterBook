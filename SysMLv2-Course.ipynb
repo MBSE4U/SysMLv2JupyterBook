{
 "cells": [
  {
   "cell_type": "code",
   "execution_count": 6,
   "id": "58904107",
   "metadata": {},
   "outputs": [
    {
     "data": {
      "text/plain": [
       "ActionDefinition ObserveArea (622963a2-7d45-4b2f-bad0-0a032215ef37)\n"
      ]
     },
     "execution_count": 6,
     "metadata": {},
     "output_type": "execute_result"
    }
   ],
   "source": [
    "action def ObserveArea {\n",
    "    in item hi_observationArea;\n",
    "            \n",
    "    first start;\n",
    "    then action defineObservationArea {\n",
    "        in item hi_observationArea = ObserveArea::hi_observationArea;\n",
    "        out item observationArea;\n",
    "    }\n",
    "    then action approachArea {\n",
    "        in item observationArea;\n",
    "    }\n",
    "    then variation action flyPatterns {\n",
    "        variant action flyObservationPatterns;\n",
    "        variant action flyCameraPatterns;\n",
    "        variant action flyFunPatterns;\n",
    "    }\n",
    "    then action returnToHomeBase;\n",
    "    then done;            \n",
    "    flow defineObservationArea.observationArea to approachArea.observationArea;\n",
    "}\n"
   ]
  },
  {
   "cell_type": "code",
   "execution_count": 7,
   "id": "fc91c577",
   "metadata": {},
   "outputs": [
    {
     "data": {
      "image/svg+xml": [
       "<?xml version=\"1.0\" encoding=\"UTF-8\" standalone=\"no\"?><svg xmlns=\"http://www.w3.org/2000/svg\" xmlns:xlink=\"http://www.w3.org/1999/xlink\" contentStyleType=\"text/css\" height=\"1161px\" preserveAspectRatio=\"none\" style=\"width:724px;height:1161px;background:#FFFFFF;\" version=\"1.1\" viewBox=\"0 0 724 1161\" width=\"724px\" zoomAndPan=\"magnify\"><defs/><g><!--MD5=[fbc87193dbaf4d95561dea2c320d4a47]\n",
       "cluster E1--><g id=\"cluster_E1\"><a href=\"psysml:622963a2-7d45-4b2f-bad0-0a032215ef37\" target=\"_top\" title=\"psysml:622963a2-7d45-4b2f-bad0-0a032215ef37\" xlink:actuate=\"onRequest\" xlink:href=\"psysml:622963a2-7d45-4b2f-bad0-0a032215ef37\" xlink:show=\"new\" xlink:title=\"psysml:622963a2-7d45-4b2f-bad0-0a032215ef37\" xlink:type=\"simple\"><rect fill=\"#FFFFFF\" height=\"1112\" id=\"E1\" style=\"stroke:#383838;stroke-width:1.5;\" width=\"710\" x=\"7\" y=\"43.1855\"/><text fill=\"#000000\" font-family=\"sans-serif\" font-size=\"12\" font-style=\"italic\" lengthAdjust=\"spacing\" textLength=\"70\" x=\"327\" y=\"60.6426\">«action  def»</text><text fill=\"#000000\" font-family=\"sans-serif\" font-size=\"14\" lengthAdjust=\"spacing\" textLength=\"84\" x=\"320\" y=\"77.8125\">ObserveArea</text><line style=\"stroke:#383838;stroke-width:1.0;\" x1=\"7\" x2=\"717\" y1=\"85.8887\" y2=\"85.8887\"/></a></g><!--MD5=[d5e69f78d87373223dbae638b30a9c99]\n",
       "cluster E3--><g id=\"cluster_E3\"><a href=\"psysml:4a54df2a-1f48-462b-980a-8b0c15bbea10\" target=\"_top\" title=\"psysml:4a54df2a-1f48-462b-980a-8b0c15bbea10\" xlink:actuate=\"onRequest\" xlink:href=\"psysml:4a54df2a-1f48-462b-980a-8b0c15bbea10\" xlink:show=\"new\" xlink:title=\"psysml:4a54df2a-1f48-462b-980a-8b0c15bbea10\" xlink:type=\"simple\"><rect fill=\"#FFFFFF\" height=\"207\" id=\"E3\" rx=\"10\" ry=\"10\" style=\"stroke:#383838;stroke-width:1.5;\" width=\"215\" x=\"130\" y=\"354.1855\"/><text fill=\"#000000\" font-family=\"sans-serif\" font-size=\"12\" font-style=\"italic\" lengthAdjust=\"spacing\" textLength=\"47\" x=\"214\" y=\"371.6426\">«action»</text><text fill=\"#000000\" font-family=\"sans-serif\" font-size=\"14\" lengthAdjust=\"spacing\" textLength=\"146\" x=\"164.5\" y=\"388.8125\">defineObservationArea</text><line style=\"stroke:#383838;stroke-width:1.0;\" x1=\"130\" x2=\"345\" y1=\"396.8887\" y2=\"396.8887\"/></a></g><!--MD5=[14e3b0961a2654348d326746436168a1]\n",
       "cluster E6--><g id=\"cluster_E6\"><a href=\"psysml:1f4f87a6-3adc-4d31-8f59-811bb335ac94\" target=\"_top\" title=\"psysml:1f4f87a6-3adc-4d31-8f59-811bb335ac94\" xlink:actuate=\"onRequest\" xlink:href=\"psysml:1f4f87a6-3adc-4d31-8f59-811bb335ac94\" xlink:show=\"new\" xlink:title=\"psysml:1f4f87a6-3adc-4d31-8f59-811bb335ac94\" xlink:type=\"simple\"><rect fill=\"#FFFFFF\" height=\"129\" id=\"E6\" rx=\"10\" ry=\"10\" style=\"stroke:#383838;stroke-width:1.5;\" width=\"162\" x=\"96\" y=\"634.1855\"/><text fill=\"#000000\" font-family=\"sans-serif\" font-size=\"12\" font-style=\"italic\" lengthAdjust=\"spacing\" textLength=\"47\" x=\"153.5\" y=\"651.6426\">«action»</text><text fill=\"#000000\" font-family=\"sans-serif\" font-size=\"14\" lengthAdjust=\"spacing\" textLength=\"90\" x=\"132\" y=\"668.8125\">approachArea</text><line style=\"stroke:#383838;stroke-width:1.0;\" x1=\"96\" x2=\"258\" y1=\"676.8887\" y2=\"676.8887\"/></a></g><!--MD5=[55dfccfc6c49c2d10cd1bd2211a6c90c]\n",
       "cluster E8--><g id=\"cluster_E8\"><a href=\"psysml:afa35aa7-bc7b-4000-b5d6-498ea718935a\" target=\"_top\" title=\"psysml:afa35aa7-bc7b-4000-b5d6-498ea718935a\" xlink:actuate=\"onRequest\" xlink:href=\"psysml:afa35aa7-bc7b-4000-b5d6-498ea718935a\" xlink:show=\"new\" xlink:title=\"psysml:afa35aa7-bc7b-4000-b5d6-498ea718935a\" xlink:type=\"simple\"><rect fill=\"#FFFFFF\" height=\"151\" id=\"E8\" rx=\"10\" ry=\"10\" style=\"stroke:#383838;stroke-width:1.5;\" width=\"525\" x=\"160\" y=\"804.1855\"/><text fill=\"#000000\" font-family=\"sans-serif\" font-size=\"12\" font-style=\"italic\" lengthAdjust=\"spacing\" textLength=\"61\" x=\"392\" y=\"821.6426\">«variation»</text><text fill=\"#000000\" font-family=\"sans-serif\" font-size=\"12\" font-style=\"italic\" lengthAdjust=\"spacing\" textLength=\"47\" x=\"399\" y=\"836.7363\">«action»</text><text fill=\"#000000\" font-family=\"sans-serif\" font-size=\"14\" font-style=\"italic\" lengthAdjust=\"spacing\" textLength=\"67\" x=\"389\" y=\"853.9063\">flyPatterns</text><line style=\"stroke:#383838;stroke-width:1.0;\" x1=\"160\" x2=\"685\" y1=\"861.9824\" y2=\"861.9824\"/></a></g><text fill=\"#000000\" font-family=\"sans-serif\" font-size=\"14\" lengthAdjust=\"spacing\" textLength=\"123\" x=\"49.5\" y=\"22.1094\">hi_observationArea</text><rect fill=\"#FFFFFF\" height=\"12\" style=\"stroke:#181818;stroke-width:1.5;\" width=\"12\" x=\"105\" y=\"37.1855\"/><ellipse cx=\"91\" cy=\"354.1855\" fill=\"#222222\" rx=\"10\" ry=\"10\" style=\"stroke:none;stroke-width:1.0;\"/><ellipse cx=\"129\" cy=\"1129.1855\" fill=\"none\" rx=\"10\" ry=\"10\" style=\"stroke:#222222;stroke-width:1.0;\"/><ellipse cx=\"129.5\" cy=\"1129.6855\" fill=\"#222222\" rx=\"6\" ry=\"6\" style=\"stroke:none;stroke-width:1.0;\"/><text fill=\"#000000\" font-family=\"sans-serif\" font-size=\"14\" lengthAdjust=\"spacing\" textLength=\"123\" x=\"86.5\" y=\"333.1094\">hi_observationArea</text><rect fill=\"#FFFFFF\" height=\"12\" style=\"stroke:#181818;stroke-width:1.5;\" width=\"12\" x=\"142\" y=\"348.1855\"/><text fill=\"#000000\" font-family=\"sans-serif\" font-size=\"14\" lengthAdjust=\"spacing\" textLength=\"104\" x=\"125\" y=\"581.7188\">observationArea</text><rect fill=\"#FFFFFF\" height=\"12\" style=\"stroke:#181818;stroke-width:1.5;\" width=\"12\" x=\"171\" y=\"555.1855\"/><text fill=\"#000000\" font-family=\"sans-serif\" font-size=\"14\" lengthAdjust=\"spacing\" textLength=\"104\" x=\"125\" y=\"613.1094\">observationArea</text><rect fill=\"#FFFFFF\" height=\"12\" style=\"stroke:#181818;stroke-width:1.5;\" width=\"12\" x=\"171\" y=\"628.1855\"/><g><a href=\"psysml:119b25b4-7c7c-4469-9529-1dbdbff01294\" target=\"_top\" title=\"psysml:119b25b4-7c7c-4469-9529-1dbdbff01294\" xlink:actuate=\"onRequest\" xlink:href=\"psysml:119b25b4-7c7c-4469-9529-1dbdbff01294\" xlink:show=\"new\" xlink:title=\"psysml:119b25b4-7c7c-4469-9529-1dbdbff01294\" xlink:type=\"simple\"><rect fill=\"#FFFFFF\" height=\"47.7031\" id=\"E9\" rx=\"10\" ry=\"10\" style=\"stroke:#383838;stroke-width:1.5;\" width=\"155\" x=\"505.5\" y=\"883.1855\"/><text fill=\"#000000\" font-family=\"sans-serif\" font-size=\"12\" font-style=\"italic\" lengthAdjust=\"spacing\" textLength=\"47\" x=\"559.5\" y=\"900.6426\">«action»</text><text fill=\"#000000\" font-family=\"sans-serif\" font-size=\"14\" lengthAdjust=\"spacing\" textLength=\"144\" x=\"511\" y=\"917.8125\">flyObservationPatterns</text></a></g><g><a href=\"psysml:e88f95b5-918a-4ab5-a3a7-de4632f5f0e5\" target=\"_top\" title=\"psysml:e88f95b5-918a-4ab5-a3a7-de4632f5f0e5\" xlink:actuate=\"onRequest\" xlink:href=\"psysml:e88f95b5-918a-4ab5-a3a7-de4632f5f0e5\" xlink:show=\"new\" xlink:title=\"psysml:e88f95b5-918a-4ab5-a3a7-de4632f5f0e5\" xlink:type=\"simple\"><rect fill=\"#FFFFFF\" height=\"47.7031\" id=\"E10\" rx=\"10\" ry=\"10\" style=\"stroke:#383838;stroke-width:1.5;\" width=\"128\" x=\"342\" y=\"883.1855\"/><text fill=\"#000000\" font-family=\"sans-serif\" font-size=\"12\" font-style=\"italic\" lengthAdjust=\"spacing\" textLength=\"47\" x=\"382.5\" y=\"900.6426\">«action»</text><text fill=\"#000000\" font-family=\"sans-serif\" font-size=\"14\" lengthAdjust=\"spacing\" textLength=\"117\" x=\"347.5\" y=\"917.8125\">flyCameraPatterns</text></a></g><g><a href=\"psysml:35a18446-f304-43f3-aa60-0ff40122e96d\" target=\"_top\" title=\"psysml:35a18446-f304-43f3-aa60-0ff40122e96d\" xlink:actuate=\"onRequest\" xlink:href=\"psysml:35a18446-f304-43f3-aa60-0ff40122e96d\" xlink:show=\"new\" xlink:title=\"psysml:35a18446-f304-43f3-aa60-0ff40122e96d\" xlink:type=\"simple\"><rect fill=\"#FFFFFF\" height=\"47.7031\" id=\"E11\" rx=\"10\" ry=\"10\" style=\"stroke:#383838;stroke-width:1.5;\" width=\"103\" x=\"203.5\" y=\"883.1855\"/><text fill=\"#000000\" font-family=\"sans-serif\" font-size=\"12\" font-style=\"italic\" lengthAdjust=\"spacing\" textLength=\"47\" x=\"231.5\" y=\"900.6426\">«action»</text><text fill=\"#000000\" font-family=\"sans-serif\" font-size=\"14\" lengthAdjust=\"spacing\" textLength=\"92\" x=\"209\" y=\"917.8125\">flyFunPatterns</text></a></g><g><a href=\"psysml:8d693eb1-2be1-4218-a51d-dc11a129d655\" target=\"_top\" title=\"psysml:8d693eb1-2be1-4218-a51d-dc11a129d655\" xlink:actuate=\"onRequest\" xlink:href=\"psysml:8d693eb1-2be1-4218-a51d-dc11a129d655\" xlink:show=\"new\" xlink:title=\"psysml:8d693eb1-2be1-4218-a51d-dc11a129d655\" xlink:type=\"simple\"><rect fill=\"#FFFFFF\" height=\"47.7031\" id=\"E12\" rx=\"10\" ry=\"10\" style=\"stroke:#383838;stroke-width:1.5;\" width=\"134\" x=\"62\" y=\"1010.1855\"/><text fill=\"#000000\" font-family=\"sans-serif\" font-size=\"12\" font-style=\"italic\" lengthAdjust=\"spacing\" textLength=\"47\" x=\"105.5\" y=\"1027.6426\">«action»</text><text fill=\"#000000\" font-family=\"sans-serif\" font-size=\"14\" lengthAdjust=\"spacing\" textLength=\"123\" x=\"67.5\" y=\"1044.8125\">returnToHomeBase</text></a></g><!--MD5=[36dc070c46d4dab68f3073988eb72811]\n",
       "link *start*E1 to E3--><g id=\"link_*start*E1_E3\"><a href=\"psysml:450defd3-39c3-480c-9f23-d855a1b03897\" target=\"_top\" title=\"psysml:450defd3-39c3-480c-9f23-d855a1b03897\" xlink:actuate=\"onRequest\" xlink:href=\"psysml:450defd3-39c3-480c-9f23-d855a1b03897\" xlink:show=\"new\" xlink:title=\"psysml:450defd3-39c3-480c-9f23-d855a1b03897\" xlink:type=\"simple\"><path d=\"M99.34,360.4255 C104.3,363.543 111.1925,367.8755 119.2472,372.9387 C121.2609,374.2045 123.3472,375.5159 125.4941,376.8654 C126.5675,377.5402 127.6561,378.2245 128.7584,378.9174 C129.0339,379.0906 129.3104,379.2643 129.5876,379.4386 \" fill=\"none\" id=\"*start*E1-to-E3\" style=\"stroke:#181818;stroke-width:1.0;\"/><polygon fill=\"#181818\" points=\"129.5876,379.4386,124.0967,371.2624,125.3545,376.7777,119.8392,378.0354,129.5876,379.4386\" style=\"stroke:#181818;stroke-width:1.0;\"/></a></g><!--MD5=[5a73941ca41f9cf0e1e9368527ad211c]\n",
       "link E12 to *end*E1--><g id=\"link_E12_*end*E1\"><a href=\"psysml:70ec67e3-c0e7-4295-a4c5-8b5cc1b59b4b\" target=\"_top\" title=\"psysml:70ec67e3-c0e7-4295-a4c5-8b5cc1b59b4b\" xlink:actuate=\"onRequest\" xlink:href=\"psysml:70ec67e3-c0e7-4295-a4c5-8b5cc1b59b4b\" xlink:show=\"new\" xlink:title=\"psysml:70ec67e3-c0e7-4295-a4c5-8b5cc1b59b4b\" xlink:type=\"simple\"><path d=\"M129,1058.6555 C129,1076.0955 129,1099.3255 129,1114.0255 \" fill=\"none\" id=\"E12-to-*end*E1\" style=\"stroke:#181818;stroke-width:1.0;\"/><polygon fill=\"#181818\" points=\"129,1119.0255,133,1110.0255,129,1114.0255,125,1110.0255,129,1119.0255\" style=\"stroke:#181818;stroke-width:1.0;\"/></a></g><!--MD5=[185131fc0dcab0a4505a2ebe144e961b]\n",
       "link E4 to E2--><g id=\"link_E4_E2\"><a href=\"psysml:f9dd70dd-9f6e-4d57-a0b9-01b08df1d708\" target=\"_top\" title=\"psysml:f9dd70dd-9f6e-4d57-a0b9-01b08df1d708\" xlink:actuate=\"onRequest\" xlink:href=\"psysml:f9dd70dd-9f6e-4d57-a0b9-01b08df1d708\" xlink:show=\"new\" xlink:title=\"psysml:f9dd70dd-9f6e-4d57-a0b9-01b08df1d708\" xlink:type=\"simple\"><path d=\"M147.88,348.0955 C147.61,336.5455 147,307.4955 147,283.1855 C147,110.1855 147,110.1855 147,110.1855 C147,84.8655 126.33,60.0155 116.31,49.4655 \" fill=\"none\" id=\"E4-E2\" style=\"stroke:#181818;stroke-width:5.0;\"/><text fill=\"#000000\" font-family=\"sans-serif\" font-size=\"13\" lengthAdjust=\"spacing\" textLength=\"8\" x=\"148\" y=\"186.6807\">=</text><text fill=\"#000000\" font-family=\"sans-serif\" font-size=\"13\" lengthAdjust=\"spacing\" textLength=\"7\" x=\"110.2829\" y=\"70.7306\">1</text></a></g><!--MD5=[ec9844e0c75763426927cad3229d1081]\n",
       "link E3 to E6--><g id=\"link_E3_E6\"><a href=\"psysml:519184a5-e397-447f-8ae4-dfcf08cce2ce\" target=\"_top\" title=\"psysml:519184a5-e397-447f-8ae4-dfcf08cce2ce\" xlink:actuate=\"onRequest\" xlink:href=\"psysml:519184a5-e397-447f-8ae4-dfcf08cce2ce\" xlink:show=\"new\" xlink:title=\"psysml:519184a5-e397-447f-8ae4-dfcf08cce2ce\" xlink:type=\"simple\"><path d=\"M227,561.4988 C227,561.918 227,562.342 227,562.7707 C227,563.6282 227,564.5047 227,565.4007 C227,567.1926 227,569.0625 227,571.0137 C227,578.8184 227,587.9238 227,598.5469 C227,603.8584 227,609.5493 227,615.6467 C227,618.6954 227,621.8458 227,625.1011 C227,626.7288 227,628.3827 227,630.0633 C227,630.9036 227,631.7506 227,632.6043 C227,633.0311 227,633.4596 227,633.8898 \" fill=\"none\" id=\"E3-to-E6\" style=\"stroke:#181818;stroke-width:1.0;\"/><polygon fill=\"#181818\" points=\"227,633.8898,231,624.8898,227,628.8898,223,624.8898,227,633.8898\" style=\"stroke:#181818;stroke-width:1.0;\"/><text fill=\"#000000\" font-family=\"sans-serif\" font-size=\"13\" lengthAdjust=\"spacing\" textLength=\"5\" x=\"194.4\" y=\"698.2607\">*</text></a></g><!--MD5=[0a839d0f80c2d72d4b9b307f046d0de8]\n",
       "link E6 to E8--><g id=\"link_E6_E8\"><a href=\"psysml:be7c730f-7952-4f28-acb7-54651926f27a\" target=\"_top\" title=\"psysml:be7c730f-7952-4f28-acb7-54651926f27a\" xlink:actuate=\"onRequest\" xlink:href=\"psysml:be7c730f-7952-4f28-acb7-54651926f27a\" xlink:show=\"new\" xlink:title=\"psysml:be7c730f-7952-4f28-acb7-54651926f27a\" xlink:type=\"simple\"><path d=\"M174.9264,763.7928 C174.9024,764.2848 174.8784,764.7795 174.8542,765.2767 C174.7574,767.2659 174.6586,769.2967 174.558,771.3634 C174.3568,775.4968 174.1487,779.774 173.9358,784.1498 C173.7229,788.5255 173.5051,792.9998 173.2848,797.5274 C173.2297,798.6593 173.1745,799.7945 173.1191,800.9324 C173.0914,801.5013 173.0637,802.0709 173.036,802.6411 C173.0221,802.9261 173.0082,803.2114 172.9943,803.4967 C172.9874,803.6394 172.9804,803.7821 172.9735,803.9248 C172.97,803.9962 172.9666,804.0676 172.9631,804.139 \" fill=\"none\" id=\"E6-to-E8\" style=\"stroke:#181818;stroke-width:1.0;\"/><polygon fill=\"#181818\" points=\"172.9631,804.139,177.3958,795.344,173.2061,799.1449,169.4052,794.9552,172.9631,804.139\" style=\"stroke:#181818;stroke-width:1.0;\"/><text fill=\"#000000\" font-family=\"sans-serif\" font-size=\"13\" lengthAdjust=\"spacing\" textLength=\"5\" x=\"163\" y=\"903.5907\">*</text></a></g><!--MD5=[79c20e47ca7a9634b8a878f2f41c203f]\n",
       "link E8 to E12--><g id=\"link_E8_E12\"><a href=\"psysml:a77c8b4b-1038-4b0a-87bb-84ddc898d17b\" target=\"_top\" title=\"psysml:a77c8b4b-1038-4b0a-87bb-84ddc898d17b\" xlink:actuate=\"onRequest\" xlink:href=\"psysml:a77c8b4b-1038-4b0a-87bb-84ddc898d17b\" xlink:show=\"new\" xlink:title=\"psysml:a77c8b4b-1038-4b0a-87bb-84ddc898d17b\" xlink:type=\"simple\"><path d=\"M167.3569,955.2351 C167.3265,955.4528 167.2955,955.6704 167.2639,955.888 C167.0117,957.6285 166.7263,959.3655 166.404,961.0889 C165.7594,964.5357 164.9675,967.928 164,971.1855 C160.43,983.2155 154.19,995.4455 147.95,1005.8355 \" fill=\"none\" id=\"E8-to-E12\" style=\"stroke:#181818;stroke-width:1.0;\"/><polygon fill=\"#181818\" points=\"145.29,1010.1755,153.4083,1004.5994,147.9065,1005.9148,146.5911,1000.413,145.29,1010.1755\" style=\"stroke:#181818;stroke-width:1.0;\"/><text fill=\"#000000\" font-family=\"sans-serif\" font-size=\"13\" lengthAdjust=\"spacing\" textLength=\"5\" x=\"143.9961\" y=\"999.1551\">*</text></a></g><!--MD5=[3a9b96bfbf6b6ad89c494e81751bda47]\n",
       "link E5 to E7--><g id=\"link_E5_E7\"><a href=\"psysml:e914bab4-b610-4409-8757-5cbb896d20eb\" target=\"_top\" title=\"psysml:e914bab4-b610-4409-8757-5cbb896d20eb\" xlink:actuate=\"onRequest\" xlink:href=\"psysml:e914bab4-b610-4409-8757-5cbb896d20eb\" xlink:show=\"new\" xlink:title=\"psysml:e914bab4-b610-4409-8757-5cbb896d20eb\" xlink:type=\"simple\"><path d=\"M177,567.2955 C177,578.9555 177,607.7455 177,623.1255 \" fill=\"none\" id=\"E5-to-E7\" style=\"stroke:#181818;stroke-width:1.0;\"/><polygon fill=\"#181818\" points=\"177,628.1255,181,619.1255,177,623.1255,173,619.1255,177,628.1255\" style=\"stroke:#181818;stroke-width:1.0;\"/><text fill=\"#000000\" font-family=\"sans-serif\" font-size=\"13\" lengthAdjust=\"spacing\" textLength=\"5\" x=\"170.5313\" y=\"617.4637\">*</text></a></g><!--MD5=[8b34f8d4f7a336af565af8e7d2efd00c]\n",
       "@startuml\r\n",
       "skin sysmlbw\r\n",
       "skinparam monochrome true\r\n",
       "skinparam wrapWidth 300\r\n",
       "hide circle\r\n",
       "\r\n",
       "rec def \"ObserveArea\" as E1  <<(T,blue) action  def>> [[psysml:622963a2-7d45-4b2f-bad0-0a032215ef37 ]] {\r\n",
       "portin \"hi_observationArea\" as E2  [[psysml:7b6d38a7-8910-4ff3-ab01-08fcea9a9d51 ]] \r\n",
       "rec usage \"defineObservationArea\" as E3  <<(T,blue) action>> [[psysml:4a54df2a-1f48-462b-980a-8b0c15bbea10 ]] {\r\n",
       "portin \"hi_observationArea\" as E4  [[psysml:5a87a796-ed11-423d-97af-dcc9f28d9454 ]] \r\n",
       "portout \"observationArea\" as E5  [[psysml:29935f8d-f978-48a9-a6a7-f5059ef8ddcd ]] \r\n",
       "}\r\n",
       "\r\n",
       "rec usage \"approachArea\" as E6  <<(T,blue) action>> [[psysml:1f4f87a6-3adc-4d31-8f59-811bb335ac94 ]] {\r\n",
       "portin \"observationArea\" as E7  [[psysml:f56b2cf5-6124-4734-87b8-2f8c6db16173 ]] \r\n",
       "}\r\n",
       "\r\n",
       "rec usage \"<i>flyPatterns</i>\" as E8  <<variation>>\\n <<(T,blue) action>> [[psysml:afa35aa7-bc7b-4000-b5d6-498ea718935a ]] {\r\n",
       "rec usage \"flyObservationPatterns\" as E9  <<(T,blue) action>> [[psysml:119b25b4-7c7c-4469-9529-1dbdbff01294 ]] {\r\n",
       "}\r\n",
       "\r\n",
       "rec usage \"flyCameraPatterns\" as E10  <<(T,blue) action>> [[psysml:e88f95b5-918a-4ab5-a3a7-de4632f5f0e5 ]] {\r\n",
       "}\r\n",
       "\r\n",
       "rec usage \"flyFunPatterns\" as E11  <<(T,blue) action>> [[psysml:35a18446-f304-43f3-aa60-0ff40122e96d ]] {\r\n",
       "}\r\n",
       "\r\n",
       "}\r\n",
       "\r\n",
       "rec usage \"returnToHomeBase\" as E12  <<(T,blue) action>> [[psysml:8d693eb1-2be1-4218-a51d-dc11a129d655 ]] {\r\n",
       "}\r\n",
       "\r\n",
       "[*] - -> E3 [[psysml:450defd3-39c3-480c-9f23-d855a1b03897 ]] \r\n",
       "E12 - -> [*] [[psysml:70ec67e3-c0e7-4295-a4c5-8b5cc1b59b4b ]] \r\n",
       "}\r\n",
       "\r\n",
       "E4 -[thickness=5]- \"1\"E2 [[psysml:f9dd70dd-9f6e-4d57-a0b9-01b08df1d708 ]] : =\r\n",
       "E3 - -> \"*\"E6 [[psysml:519184a5-e397-447f-8ae4-dfcf08cce2ce ]] \r\n",
       "E6 - -> \"*\"E8 [[psysml:be7c730f-7952-4f28-acb7-54651926f27a ]] \r\n",
       "E8 - -> \"*\"E12 [[psysml:a77c8b4b-1038-4b0a-87bb-84ddc898d17b ]] \r\n",
       "E5 - -> \"*\"E7 [[psysml:e914bab4-b610-4409-8757-5cbb896d20eb ]] \r\n",
       "@enduml\r\n",
       "\n",
       "PlantUML version 1.2022.7(Mon Aug 22 19:01:30 CEST 2022)\n",
       "(EPL source distribution)\n",
       "Java Runtime: OpenJDK Runtime Environment\n",
       "JVM: OpenJDK 64-Bit Server VM\n",
       "Default Encoding: Cp1252\n",
       "Language: en\n",
       "Country: US\n",
       "--></g></svg>"
      ]
     },
     "execution_count": 7,
     "metadata": {},
     "output_type": "execute_result"
    }
   ],
   "source": [
    "%viz ObserveArea"
   ]
  }
 ],
 "metadata": {
  "kernelspec": {
   "display_name": "SysML",
   "language": "sysml",
   "name": "sysml"
  },
  "language_info": {
   "codemirror_mode": "sysml",
   "file_extension": ".sysml",
   "mimetype": "text/x-sysml",
   "name": "SysML",
   "pygments_lexer": "java",
   "version": "1.0.0"
  }
 },
 "nbformat": 4,
 "nbformat_minor": 5
}
