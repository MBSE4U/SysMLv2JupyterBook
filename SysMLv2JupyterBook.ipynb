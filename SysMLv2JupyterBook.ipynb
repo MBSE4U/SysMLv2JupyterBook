{
 "cells": [
  {
   "cell_type": "markdown",
   "metadata": {},
   "source": [
    "# SysML v2 JupyterBook\n",
    "\n",
    "This Jupyter Notebook is an exploration of SysML v2 from the user perspective. It shows some SysML v2 basics, but mainly focuses on the special features compared to SysML v1 and how they can be used. For a detailed introduction to the textual syntax of SysML v2, I recommend the following PDF: [Introduction to the SysML v2 Language Textual Notation](https://github.com/Systems-Modeling/SysML-v2-Release/blob/master/doc/Intro%20to%20the%20SysML%20v2%20Language.pdf).\n",
    "\n",
    "**Please note: This is work in progress. You will see sketchy stuff. If you have any comments, contact me: [tim@mbse4u.com](mailto:tim@mbse4u.com).**\n",
    "\n",
    "## Modeling with SysML v2\n",
    "\n",
    "### Introduction\n",
    "\n",
    "This section provides \n",
    "\n",
    "* a brief introduction of the modeling with SysML v2,\n",
    "* with a special focus on what is different compared to SysML v1.\n",
    "\n",
    "It is not (yet) a complete SysML v2 tutorial. It uses the SysML v2 pilot implementation which is not intended as full modeling tool for industrail application. The SysML v2 pilot implementation is developed and used \n",
    "\n",
    "### Example and first steps\n",
    "\n",
    "The simple example system is the following electrical vehicle:\n",
    "\n",
    "![Electrical HSUV](lego-evehicle.jpg)\n",
    "\n",
    "Let's start with a logical architecture of the vehicle. A first major difference compared to SysML is that there is a textual syntax for SysML v2.\n",
    "The following cell shows the textual SysML v2 syntax of the logical architecture. The package statement defines the namespace of our architecture. The architecture itself is a simple hierarchical set of parts."
   ]
  },
  {
   "cell_type": "code",
   "execution_count": 10,
   "metadata": {},
   "outputs": [
    {
     "data": {
      "text/plain": [
       "Package eVehicle_LogicalArchitecture (591b961a-c162-4be9-99df-f8c82451be6a)\n"
      ]
     },
     "execution_count": 10,
     "metadata": {},
     "output_type": "execute_result"
    }
   ],
   "source": [
    "package eVehicle_LogicalArchitecture {\n",
    "    part eVehicle {    \n",
    "        part body;\n",
    "        part battery;\n",
    "        part engine;\n",
    "        part frontAxis;\n",
    "        part rearAxis;\n",
    "        part frontWheel[2];\n",
    "        part rearWheel[2];\n",
    "    }\n",
    "}"
   ]
  },
  {
   "cell_type": "markdown",
   "metadata": {},
   "source": [
    "Run the cell above to create the real model (it is only a textual visualization). Then you can see the model by running the following code. It provides a deep insight into the model structures:"
   ]
  },
  {
   "cell_type": "code",
   "execution_count": 11,
   "metadata": {},
   "outputs": [
    {
     "data": {
      "text/plain": [
       "Package eVehicle_LogicalArchitecture (591b961a-c162-4be9-99df-f8c82451be6a)\n",
       "  [Membership] PartUsage eVehicle (a3fd1d82-407a-4542-8ab2-8a1be2ef9019)\n",
       "    [Subsetting] PartUsage parts (5e706ee2-d20c-4e77-90f3-fda3ba1c3172)\n",
       "    [FeatureMembership] PartUsage body (4094b2ed-860b-4bcc-a719-e52cc75abc5b)\n",
       "      [Subsetting] PartUsage parts (5e706ee2-d20c-4e77-90f3-fda3ba1c3172)\n",
       "    [FeatureMembership] PartUsage battery (d242560f-e9bb-4c8b-8dec-1f986aaac8e8)\n",
       "      [Subsetting] PartUsage parts (5e706ee2-d20c-4e77-90f3-fda3ba1c3172)\n",
       "    [FeatureMembership] PartUsage engine (2854968d-ba43-43a6-a084-5eec69b4cf7a)\n",
       "      [Subsetting] PartUsage parts (5e706ee2-d20c-4e77-90f3-fda3ba1c3172)\n",
       "    [FeatureMembership] PartUsage frontAxis (f43fe7ae-45cd-48e9-9865-48b3122161f5)\n",
       "      [Subsetting] PartUsage parts (5e706ee2-d20c-4e77-90f3-fda3ba1c3172)\n",
       "    [FeatureMembership] PartUsage rearAxis (6879ef31-fe69-43fa-b5ca-aced7a62bc14)\n",
       "      [Subsetting] PartUsage parts (5e706ee2-d20c-4e77-90f3-fda3ba1c3172)\n",
       "    [FeatureMembership] PartUsage frontWheel (5bcf168a-71ad-4e4a-acb2-52114c8cafae)\n",
       "      [Subsetting] PartUsage parts (5e706ee2-d20c-4e77-90f3-fda3ba1c3172)\n",
       "      [FeatureMembership] MultiplicityRange (3d9a5668-9492-46ad-a4ad-87e8b9125101)\n",
       "        [Redefinition] MultiplicityRange (6eb9a10a-860b-476f-bcf9-9c6d84179c59)\n",
       "        [FeatureMembership] LiteralInteger (2f669fe0-8d95-42af-b13e-a1644952d250)\n",
       "          [ReturnParameterMembership] Feature $result (285f4272-7b33-4266-8b83-c99fb56debe3)\n",
       "    [FeatureMembership] PartUsage rearWheel (182abdd2-1311-4de0-87fc-d39a741bcd9b)\n",
       "      [Subsetting] PartUsage parts (5e706ee2-d20c-4e77-90f3-fda3ba1c3172)\n",
       "      [FeatureMembership] MultiplicityRange (1968daf5-16b0-49e1-bfb2-9a6c1d8639d5)\n",
       "        [Redefinition] MultiplicityRange (6eb9a10a-860b-476f-bcf9-9c6d84179c59)\n",
       "        [FeatureMembership] LiteralInteger (fe54bf3b-6669-46be-916c-9dbbe518c76d)\n",
       "          [ReturnParameterMembership] Feature $result (1968801a-cd07-4682-a9d4-d888f1090b27)\n"
      ]
     },
     "execution_count": 11,
     "metadata": {},
     "output_type": "execute_result"
    }
   ],
   "source": [
    "%show eVehicle_LogicalArchitecture"
   ]
  },
  {
   "cell_type": "markdown",
   "metadata": {},
   "source": [
    "More convenient for the common model user, of course, is the graphical notation presented after the execution of the following cell:"
   ]
  },
  {
   "cell_type": "code",
   "execution_count": 12,
   "metadata": {},
   "outputs": [
    {
     "data": {
      "image/svg+xml": [
       "<?xml version=\"1.0\" encoding=\"UTF-8\" standalone=\"no\"?><svg xmlns=\"http://www.w3.org/2000/svg\" xmlns:xlink=\"http://www.w3.org/1999/xlink\" contentScriptType=\"application/ecmascript\" contentStyleType=\"text/css\" height=\"226px\" preserveAspectRatio=\"none\" style=\"width:825px;height:226px;\" version=\"1.1\" viewBox=\"0 0 825 226\" width=\"825px\" zoomAndPan=\"magnify\"><defs/><g><!--MD5=[fbc87193dbaf4d95561dea2c320d4a47]\n",
       "cluster E1--><polygon fill=\"#FFFFFF\" points=\"16,6,228,6,235,29.6094,803,29.6094,803,214,16,214,16,6\" style=\"stroke: #000000; stroke-width: 1.5;\"/><line style=\"stroke: #000000; stroke-width: 1.5;\" x1=\"16\" x2=\"235\" y1=\"29.6094\" y2=\"29.6094\"/><text fill=\"#000000\" font-family=\"sans-serif\" font-size=\"14\" font-weight=\"bold\" lengthAdjust=\"spacingAndGlyphs\" textLength=\"206\" x=\"20\" y=\"22.5332\">eVehicle_LogicalArchitecture</text><!--MD5=[b4997ac47864f28c2f74865a473b2911]\n",
       "class E2--><rect fill=\"#FFFFFF\" height=\"48.1875\" id=\"E2\" rx=\"10\" ry=\"10\" style=\"stroke: #383838; stroke-width: 1.5;\" width=\"81\" x=\"338.5\" y=\"42\"/><text fill=\"#000000\" font-family=\"sans-serif\" font-size=\"12\" font-style=\"italic\" lengthAdjust=\"spacingAndGlyphs\" textLength=\"35\" x=\"361.5\" y=\"59.457\">«part»</text><text fill=\"#000000\" font-family=\"sans-serif\" font-size=\"12\" lengthAdjust=\"spacingAndGlyphs\" textLength=\"75\" x=\"341.5\" y=\"74.5508\">eVehicle: Part</text><line style=\"stroke: #383838; stroke-width: 1.5;\" x1=\"339.5\" x2=\"418.5\" y1=\"82.1875\" y2=\"82.1875\"/><!--MD5=[09b614a08d8cba4a07c9adeb5e0fee81]\n",
       "class E3--><rect fill=\"#FFFFFF\" height=\"48.1875\" id=\"E3\" rx=\"10\" ry=\"10\" style=\"stroke: #383838; stroke-width: 1.5;\" width=\"60\" x=\"32\" y=\"150\"/><text fill=\"#000000\" font-family=\"sans-serif\" font-size=\"12\" font-style=\"italic\" lengthAdjust=\"spacingAndGlyphs\" textLength=\"35\" x=\"44.5\" y=\"167.457\">«part»</text><text fill=\"#000000\" font-family=\"sans-serif\" font-size=\"12\" lengthAdjust=\"spacingAndGlyphs\" textLength=\"54\" x=\"35\" y=\"182.5508\">body: Part</text><line style=\"stroke: #383838; stroke-width: 1.5;\" x1=\"33\" x2=\"91\" y1=\"190.1875\" y2=\"190.1875\"/><!--MD5=[ebbe1d658d1005bcc118a6aa81145e00]\n",
       "class E4--><rect fill=\"#FFFFFF\" height=\"48.1875\" id=\"E4\" rx=\"10\" ry=\"10\" style=\"stroke: #383838; stroke-width: 1.5;\" width=\"70\" x=\"127\" y=\"150\"/><text fill=\"#000000\" font-family=\"sans-serif\" font-size=\"12\" font-style=\"italic\" lengthAdjust=\"spacingAndGlyphs\" textLength=\"35\" x=\"144.5\" y=\"167.457\">«part»</text><text fill=\"#000000\" font-family=\"sans-serif\" font-size=\"12\" lengthAdjust=\"spacingAndGlyphs\" textLength=\"64\" x=\"130\" y=\"182.5508\">battery: Part</text><line style=\"stroke: #383838; stroke-width: 1.5;\" x1=\"128\" x2=\"196\" y1=\"190.1875\" y2=\"190.1875\"/><!--MD5=[270fce915f116d4de14055a7c1d9a0f3]\n",
       "class E5--><rect fill=\"#FFFFFF\" height=\"48.1875\" id=\"E5\" rx=\"10\" ry=\"10\" style=\"stroke: #383838; stroke-width: 1.5;\" width=\"72\" x=\"232\" y=\"150\"/><text fill=\"#000000\" font-family=\"sans-serif\" font-size=\"12\" font-style=\"italic\" lengthAdjust=\"spacingAndGlyphs\" textLength=\"35\" x=\"250.5\" y=\"167.457\">«part»</text><text fill=\"#000000\" font-family=\"sans-serif\" font-size=\"12\" lengthAdjust=\"spacingAndGlyphs\" textLength=\"66\" x=\"235\" y=\"182.5508\">engine: Part</text><line style=\"stroke: #383838; stroke-width: 1.5;\" x1=\"233\" x2=\"303\" y1=\"190.1875\" y2=\"190.1875\"/><!--MD5=[60a26617385b1d2d0262a64233df1f8d]\n",
       "class E6--><rect fill=\"#FFFFFF\" height=\"48.1875\" id=\"E6\" rx=\"10\" ry=\"10\" style=\"stroke: #383838; stroke-width: 1.5;\" width=\"80\" x=\"339\" y=\"150\"/><text fill=\"#000000\" font-family=\"sans-serif\" font-size=\"12\" font-style=\"italic\" lengthAdjust=\"spacingAndGlyphs\" textLength=\"35\" x=\"361.5\" y=\"167.457\">«part»</text><text fill=\"#000000\" font-family=\"sans-serif\" font-size=\"12\" lengthAdjust=\"spacingAndGlyphs\" textLength=\"74\" x=\"342\" y=\"182.5508\">frontAxis: Part</text><line style=\"stroke: #383838; stroke-width: 1.5;\" x1=\"340\" x2=\"418\" y1=\"190.1875\" y2=\"190.1875\"/><!--MD5=[2156ba9850f5573cc1fc38a6a4b2f02b]\n",
       "class E7--><rect fill=\"#FFFFFF\" height=\"48.1875\" id=\"E7\" rx=\"10\" ry=\"10\" style=\"stroke: #383838; stroke-width: 1.5;\" width=\"78\" x=\"454\" y=\"150\"/><text fill=\"#000000\" font-family=\"sans-serif\" font-size=\"12\" font-style=\"italic\" lengthAdjust=\"spacingAndGlyphs\" textLength=\"35\" x=\"475.5\" y=\"167.457\">«part»</text><text fill=\"#000000\" font-family=\"sans-serif\" font-size=\"12\" lengthAdjust=\"spacingAndGlyphs\" textLength=\"72\" x=\"457\" y=\"182.5508\">rearAxis: Part</text><line style=\"stroke: #383838; stroke-width: 1.5;\" x1=\"455\" x2=\"531\" y1=\"190.1875\" y2=\"190.1875\"/><!--MD5=[b9389687b975829384b498ac4b7476b2]\n",
       "class E8--><rect fill=\"#FFFFFF\" height=\"48.1875\" id=\"E8\" rx=\"10\" ry=\"10\" style=\"stroke: #383838; stroke-width: 1.5;\" width=\"93\" x=\"567.5\" y=\"150\"/><text fill=\"#000000\" font-family=\"sans-serif\" font-size=\"12\" font-style=\"italic\" lengthAdjust=\"spacingAndGlyphs\" textLength=\"35\" x=\"596.5\" y=\"167.457\">«part»</text><text fill=\"#000000\" font-family=\"sans-serif\" font-size=\"12\" lengthAdjust=\"spacingAndGlyphs\" textLength=\"87\" x=\"570.5\" y=\"182.5508\">frontWheel: Part</text><line style=\"stroke: #383838; stroke-width: 1.5;\" x1=\"568.5\" x2=\"659.5\" y1=\"190.1875\" y2=\"190.1875\"/><!--MD5=[fd4143e9d270a159db93a4ea2a975926]\n",
       "class E9--><rect fill=\"#FFFFFF\" height=\"48.1875\" id=\"E9\" rx=\"10\" ry=\"10\" style=\"stroke: #383838; stroke-width: 1.5;\" width=\"91\" x=\"695.5\" y=\"150\"/><text fill=\"#000000\" font-family=\"sans-serif\" font-size=\"12\" font-style=\"italic\" lengthAdjust=\"spacingAndGlyphs\" textLength=\"35\" x=\"723.5\" y=\"167.457\">«part»</text><text fill=\"#000000\" font-family=\"sans-serif\" font-size=\"12\" lengthAdjust=\"spacingAndGlyphs\" textLength=\"85\" x=\"698.5\" y=\"182.5508\">rearWheel: Part</text><line style=\"stroke: #383838; stroke-width: 1.5;\" x1=\"696.5\" x2=\"785.5\" y1=\"190.1875\" y2=\"190.1875\"/><!--MD5=[209b3feb70ccb6233bfe1053d122c12c]\n",
       "reverse link E2 to E3--><path d=\"M325.374,81.029 C270.503,95.967 183.159,121.366 110,150 C104.149,152.2902 98.019,154.9865 92.1719,157.7116 \" fill=\"none\" id=\"E2&lt;-E3\" style=\"stroke: #383838; stroke-width: 1.0;\"/><polygon fill=\"#383838\" points=\"338.258,77.552,331.423,75.2536,326.6725,80.6788,333.5075,82.9772,338.258,77.552\" style=\"stroke: #383838; stroke-width: 1.0;\"/><!--MD5=[9618e71518536f8baf3342ff6fdab317]\n",
       "reverse link E2 to E4--><path d=\"M326.754,92.521 C286.675,112.099 232.441,138.5911 197.337,155.7387 \" fill=\"none\" id=\"E2&lt;-E4\" style=\"stroke: #383838; stroke-width: 1.0;\"/><polygon fill=\"#383838\" points=\"338.439,86.813,331.2922,85.8522,327.6565,92.0796,334.8033,93.0405,338.439,86.813\" style=\"stroke: #383838; stroke-width: 1.0;\"/><!--MD5=[4e1a83fab71cdb913c109063314ae896]\n",
       "reverse link E2 to E5--><path d=\"M345.314,99.168 C328.265,115.45 307.949,134.8509 292.422,149.6784 \" fill=\"none\" id=\"E2&lt;-E5\" style=\"stroke: #383838; stroke-width: 1.0;\"/><polygon fill=\"#383838\" points=\"354.915,90,347.8132,91.2506,346.2361,98.2872,353.338,97.0365,354.915,90\" style=\"stroke: #383838; stroke-width: 1.0;\"/><!--MD5=[ce036f65110ae2351ccce5a81dc2e928]\n",
       "reverse link E2 to E6--><path d=\"M379,103.338 C379,118.681 379,136.098 379,149.6784 \" fill=\"none\" id=\"E2&lt;-E6\" style=\"stroke: #383838; stroke-width: 1.0;\"/><polygon fill=\"#383838\" points=\"379,90,375,96,379,102,383,96,379,90\" style=\"stroke: #383838; stroke-width: 1.0;\"/><!--MD5=[1c72b32696d764168c30777981ec3f66]\n",
       "reverse link E2 to E7--><path d=\"M413.596,99.168 C431.106,115.45 451.972,134.8509 467.918,149.6784 \" fill=\"none\" id=\"E2&lt;-E7\" style=\"stroke: #383838; stroke-width: 1.0;\"/><polygon fill=\"#383838\" points=\"403.736,90,405.4059,97.0151,412.5236,98.1718,410.8537,91.1567,403.736,90\" style=\"stroke: #383838; stroke-width: 1.0;\"/><!--MD5=[65f962d72b3a6bed1ede4f3c867e43a4]\n",
       "reverse link E2 to E8--><path d=\"M431.521,90.69 C472.265,109.069 528.214,134.3052 567.383,151.9729 \" fill=\"none\" id=\"E2&lt;-E8\" style=\"stroke: #383838; stroke-width: 1.0;\"/><polygon fill=\"#383838\" points=\"419.666,85.343,423.4907,91.4562,430.6047,90.277,426.78,84.1638,419.666,85.343\" style=\"stroke: #383838; stroke-width: 1.0;\"/><text fill=\"#000000\" font-family=\"sans-serif\" font-size=\"13\" lengthAdjust=\"spacingAndGlyphs\" textLength=\"7\" x=\"552.3956\" y=\"144.6955\">2</text><!--MD5=[4a91eb351f2fb42055d99b719d3dd418]\n",
       "reverse link E2 to E9--><path d=\"M432.868,80.578 C493.029,96.061 593.11,122.769 678,150 C683.654,151.8138 689.556,153.8178 695.383,155.8641 \" fill=\"none\" id=\"E2&lt;-E9\" style=\"stroke: #383838; stroke-width: 1.0;\"/><polygon fill=\"#383838\" points=\"419.928,77.263,424.7472,82.6273,431.5524,80.2419,426.7332,74.8777,419.928,77.263\" style=\"stroke: #383838; stroke-width: 1.0;\"/><text fill=\"#000000\" font-family=\"sans-serif\" font-size=\"13\" lengthAdjust=\"spacingAndGlyphs\" textLength=\"7\" x=\"680.555\" y=\"149.2069\">2</text><!--MD5=[b4d2cbc63e6fe8a97201b609dfee7ddf]\n",
       "@startuml\r\n",
       "skinparam monochrome true\r\n",
       "skinparam classbackgroundcolor white\r\n",
       "skinparam shadowing false\r\n",
       "skinparam wrapWidth 300\r\n",
       "hide circle\r\n",
       "\r\n",
       "package \"eVehicle_LogicalArchitecture\" as E1   {\r\n",
       "comp usage \"eVehicle: Part\" as E2  <<(T,blue)part>> {\r\n",
       "}\r\n",
       "comp usage \"body: Part\" as E3  <<(T,blue)part>> {\r\n",
       "}\r\n",
       "comp usage \"battery: Part\" as E4  <<(T,blue)part>> {\r\n",
       "}\r\n",
       "comp usage \"engine: Part\" as E5  <<(T,blue)part>> {\r\n",
       "}\r\n",
       "comp usage \"frontAxis: Part\" as E6  <<(T,blue)part>> {\r\n",
       "}\r\n",
       "comp usage \"rearAxis: Part\" as E7  <<(T,blue)part>> {\r\n",
       "}\r\n",
       "comp usage \"frontWheel: Part\" as E8  <<(T,blue)part>> {\r\n",
       "}\r\n",
       "comp usage \"rearWheel: Part\" as E9  <<(T,blue)part>> {\r\n",
       "}\r\n",
       "E2 *- - E3\r\n",
       "E2 *- - E4\r\n",
       "E2 *- - E5\r\n",
       "E2 *- - E6\r\n",
       "E2 *- - E7\r\n",
       "E2 *- - \"2\"E8\r\n",
       "E2 *- - \"2\"E9\r\n",
       "}\r\n",
       "@enduml\r\n",
       "\n",
       "PlantUML version 1.2020.13(Sat Jun 13 14:26:38 CEST 2020)\n",
       "(EPL source distribution)\n",
       "Java Runtime: OpenJDK Runtime Environment\n",
       "JVM: OpenJDK 64-Bit Server VM\n",
       "Default Encoding: Cp1252\n",
       "Language: en\n",
       "Country: US\n",
       "--></g></svg>"
      ]
     },
     "execution_count": 12,
     "metadata": {},
     "output_type": "execute_result"
    }
   ],
   "source": [
    "%viz --view=tree eVehicle_LogicalArchitecture"
   ]
  },
  {
   "cell_type": "markdown",
   "metadata": {},
   "source": [
    "The diagram is only a view, and not an editor. A graphical editor is not provided in the pilot implementation. Future SysML v2 modeling tools will certainly offer graphical editors."
   ]
  },
  {
   "cell_type": "markdown",
   "metadata": {},
   "source": [
    "### Changes to SysML v1\n",
    "\n",
    "SysML v2 is a complete new language with a different foundation than SysML v1. Therefore, there are plenty of differences. Here, we highlight only the changes that are most relevant to the modeler.\n",
    "\n",
    "If I had modeled the eHSUV in SysML v1, I would have had to first define blocks and then part properties whose types are the blocks.\n",
    "\n",
    "![eVehicle in SysML v1](evehicle-logical-architecture-sysmlv1.jpg)\n"
   ]
  },
  {
   "cell_type": "markdown",
   "metadata": {},
   "source": [
    "### Parts and PartDefinitions\n",
    "\n",
    "In SysML v2, you can define parts without types. However, you could define types if you like. A type can be used to reuse definitions. I extend our example and add a property to the wheel to specify the size. The type of the attribute is Integer. I skip units for now."
   ]
  },
  {
   "cell_type": "code",
   "execution_count": 13,
   "metadata": {},
   "outputs": [
    {
     "data": {
      "text/plain": [
       "Package eVehicle_LogicalArchitecture (8749589e-603e-4b3d-bdff-2219f9f4f758)\n"
      ]
     },
     "execution_count": 13,
     "metadata": {},
     "output_type": "execute_result"
    }
   ],
   "source": [
    "package eVehicle_LogicalArchitecture {\n",
    "    \n",
    "    import ScalarValues::Integer;\n",
    "    \n",
    "    part eVehicle {    \n",
    "        part body;\n",
    "        part battery;\n",
    "        part engine;\n",
    "        part frontAxis;\n",
    "        part rearAxis;\n",
    "        part frontWheel[2] {\n",
    "            attribute size : Integer;\n",
    "        }\n",
    "        part rearWheel[2] {\n",
    "            attribute size : Integer;\n",
    "        }\n",
    "    }\n",
    "}"
   ]
  },
  {
   "cell_type": "markdown",
   "metadata": {},
   "source": [
    "Run the cell with the SysML v2 model, and visualize the model. If you also would like to see the model structure, execute the %show command."
   ]
  },
  {
   "cell_type": "code",
   "execution_count": 14,
   "metadata": {},
   "outputs": [
    {
     "data": {
      "image/svg+xml": [
       "<?xml version=\"1.0\" encoding=\"UTF-8\" standalone=\"no\"?><svg xmlns=\"http://www.w3.org/2000/svg\" xmlns:xlink=\"http://www.w3.org/1999/xlink\" contentScriptType=\"application/ecmascript\" contentStyleType=\"text/css\" height=\"240px\" preserveAspectRatio=\"none\" style=\"width:825px;height:240px;\" version=\"1.1\" viewBox=\"0 0 825 240\" width=\"825px\" zoomAndPan=\"magnify\"><defs/><g><!--MD5=[fbc87193dbaf4d95561dea2c320d4a47]\n",
       "cluster E1--><polygon fill=\"#FFFFFF\" points=\"16,6,228,6,235,29.6094,803,29.6094,803,228,16,228,16,6\" style=\"stroke: #000000; stroke-width: 1.5;\"/><line style=\"stroke: #000000; stroke-width: 1.5;\" x1=\"16\" x2=\"235\" y1=\"29.6094\" y2=\"29.6094\"/><text fill=\"#000000\" font-family=\"sans-serif\" font-size=\"14\" font-weight=\"bold\" lengthAdjust=\"spacingAndGlyphs\" textLength=\"206\" x=\"20\" y=\"22.5332\">eVehicle_LogicalArchitecture</text><!--MD5=[b4997ac47864f28c2f74865a473b2911]\n",
       "class E2--><rect fill=\"#FFFFFF\" height=\"48.1875\" id=\"E2\" style=\"stroke: #383838; stroke-width: 1.5;\" width=\"67\" x=\"586.5\" y=\"42\"/><text fill=\"#000000\" font-family=\"sans-serif\" font-size=\"12\" font-style=\"italic\" lengthAdjust=\"spacingAndGlyphs\" textLength=\"65\" x=\"587.5\" y=\"59.457\">«dataType»</text><text fill=\"#000000\" font-family=\"sans-serif\" font-size=\"12\" lengthAdjust=\"spacingAndGlyphs\" textLength=\"38\" x=\"601\" y=\"74.5508\">Integer</text><line style=\"stroke: #383838; stroke-width: 1.5;\" x1=\"587.5\" x2=\"652.5\" y1=\"82.1875\" y2=\"82.1875\"/><!--MD5=[09b614a08d8cba4a07c9adeb5e0fee81]\n",
       "class E3--><rect fill=\"#FFFFFF\" height=\"48.1875\" id=\"E3\" rx=\"10\" ry=\"10\" style=\"stroke: #383838; stroke-width: 1.5;\" width=\"81\" x=\"338.5\" y=\"42\"/><text fill=\"#000000\" font-family=\"sans-serif\" font-size=\"12\" font-style=\"italic\" lengthAdjust=\"spacingAndGlyphs\" textLength=\"35\" x=\"361.5\" y=\"59.457\">«part»</text><text fill=\"#000000\" font-family=\"sans-serif\" font-size=\"12\" lengthAdjust=\"spacingAndGlyphs\" textLength=\"75\" x=\"341.5\" y=\"74.5508\">eVehicle: Part</text><line style=\"stroke: #383838; stroke-width: 1.5;\" x1=\"339.5\" x2=\"418.5\" y1=\"82.1875\" y2=\"82.1875\"/><!--MD5=[ebbe1d658d1005bcc118a6aa81145e00]\n",
       "class E4--><rect fill=\"#FFFFFF\" height=\"48.1875\" id=\"E4\" rx=\"10\" ry=\"10\" style=\"stroke: #383838; stroke-width: 1.5;\" width=\"60\" x=\"32\" y=\"157\"/><text fill=\"#000000\" font-family=\"sans-serif\" font-size=\"12\" font-style=\"italic\" lengthAdjust=\"spacingAndGlyphs\" textLength=\"35\" x=\"44.5\" y=\"174.457\">«part»</text><text fill=\"#000000\" font-family=\"sans-serif\" font-size=\"12\" lengthAdjust=\"spacingAndGlyphs\" textLength=\"54\" x=\"35\" y=\"189.5508\">body: Part</text><line style=\"stroke: #383838; stroke-width: 1.5;\" x1=\"33\" x2=\"91\" y1=\"197.1875\" y2=\"197.1875\"/><!--MD5=[270fce915f116d4de14055a7c1d9a0f3]\n",
       "class E5--><rect fill=\"#FFFFFF\" height=\"48.1875\" id=\"E5\" rx=\"10\" ry=\"10\" style=\"stroke: #383838; stroke-width: 1.5;\" width=\"70\" x=\"127\" y=\"157\"/><text fill=\"#000000\" font-family=\"sans-serif\" font-size=\"12\" font-style=\"italic\" lengthAdjust=\"spacingAndGlyphs\" textLength=\"35\" x=\"144.5\" y=\"174.457\">«part»</text><text fill=\"#000000\" font-family=\"sans-serif\" font-size=\"12\" lengthAdjust=\"spacingAndGlyphs\" textLength=\"64\" x=\"130\" y=\"189.5508\">battery: Part</text><line style=\"stroke: #383838; stroke-width: 1.5;\" x1=\"128\" x2=\"196\" y1=\"197.1875\" y2=\"197.1875\"/><!--MD5=[60a26617385b1d2d0262a64233df1f8d]\n",
       "class E6--><rect fill=\"#FFFFFF\" height=\"48.1875\" id=\"E6\" rx=\"10\" ry=\"10\" style=\"stroke: #383838; stroke-width: 1.5;\" width=\"72\" x=\"232\" y=\"157\"/><text fill=\"#000000\" font-family=\"sans-serif\" font-size=\"12\" font-style=\"italic\" lengthAdjust=\"spacingAndGlyphs\" textLength=\"35\" x=\"250.5\" y=\"174.457\">«part»</text><text fill=\"#000000\" font-family=\"sans-serif\" font-size=\"12\" lengthAdjust=\"spacingAndGlyphs\" textLength=\"66\" x=\"235\" y=\"189.5508\">engine: Part</text><line style=\"stroke: #383838; stroke-width: 1.5;\" x1=\"233\" x2=\"303\" y1=\"197.1875\" y2=\"197.1875\"/><!--MD5=[2156ba9850f5573cc1fc38a6a4b2f02b]\n",
       "class E7--><rect fill=\"#FFFFFF\" height=\"48.1875\" id=\"E7\" rx=\"10\" ry=\"10\" style=\"stroke: #383838; stroke-width: 1.5;\" width=\"80\" x=\"339\" y=\"157\"/><text fill=\"#000000\" font-family=\"sans-serif\" font-size=\"12\" font-style=\"italic\" lengthAdjust=\"spacingAndGlyphs\" textLength=\"35\" x=\"361.5\" y=\"174.457\">«part»</text><text fill=\"#000000\" font-family=\"sans-serif\" font-size=\"12\" lengthAdjust=\"spacingAndGlyphs\" textLength=\"74\" x=\"342\" y=\"189.5508\">frontAxis: Part</text><line style=\"stroke: #383838; stroke-width: 1.5;\" x1=\"340\" x2=\"418\" y1=\"197.1875\" y2=\"197.1875\"/><!--MD5=[b9389687b975829384b498ac4b7476b2]\n",
       "class E8--><rect fill=\"#FFFFFF\" height=\"48.1875\" id=\"E8\" rx=\"10\" ry=\"10\" style=\"stroke: #383838; stroke-width: 1.5;\" width=\"78\" x=\"454\" y=\"157\"/><text fill=\"#000000\" font-family=\"sans-serif\" font-size=\"12\" font-style=\"italic\" lengthAdjust=\"spacingAndGlyphs\" textLength=\"35\" x=\"475.5\" y=\"174.457\">«part»</text><text fill=\"#000000\" font-family=\"sans-serif\" font-size=\"12\" lengthAdjust=\"spacingAndGlyphs\" textLength=\"72\" x=\"457\" y=\"189.5508\">rearAxis: Part</text><line style=\"stroke: #383838; stroke-width: 1.5;\" x1=\"455\" x2=\"531\" y1=\"197.1875\" y2=\"197.1875\"/><!--MD5=[fd4143e9d270a159db93a4ea2a975926]\n",
       "class E9--><rect fill=\"#FFFFFF\" height=\"62.0234\" id=\"E9\" rx=\"10\" ry=\"10\" style=\"stroke: #383838; stroke-width: 1.5;\" width=\"93\" x=\"567.5\" y=\"150\"/><text fill=\"#000000\" font-family=\"sans-serif\" font-size=\"12\" font-style=\"italic\" lengthAdjust=\"spacingAndGlyphs\" textLength=\"35\" x=\"596.5\" y=\"167.457\">«part»</text><text fill=\"#000000\" font-family=\"sans-serif\" font-size=\"12\" lengthAdjust=\"spacingAndGlyphs\" textLength=\"87\" x=\"570.5\" y=\"182.5508\">frontWheel: Part</text><line style=\"stroke: #383838; stroke-width: 1.5;\" x1=\"568.5\" x2=\"659.5\" y1=\"190.1875\" y2=\"190.1875\"/><text fill=\"#000000\" font-family=\"sans-serif\" font-size=\"11\" lengthAdjust=\"spacingAndGlyphs\" textLength=\"59\" x=\"573.5\" y=\"205.6064\">size: Integer</text><!--MD5=[96f4274e9e20536e775497830990834d]\n",
       "class E10--><rect fill=\"#FFFFFF\" height=\"62.0234\" id=\"E10\" rx=\"10\" ry=\"10\" style=\"stroke: #383838; stroke-width: 1.5;\" width=\"91\" x=\"695.5\" y=\"150\"/><text fill=\"#000000\" font-family=\"sans-serif\" font-size=\"12\" font-style=\"italic\" lengthAdjust=\"spacingAndGlyphs\" textLength=\"35\" x=\"723.5\" y=\"167.457\">«part»</text><text fill=\"#000000\" font-family=\"sans-serif\" font-size=\"12\" lengthAdjust=\"spacingAndGlyphs\" textLength=\"85\" x=\"698.5\" y=\"182.5508\">rearWheel: Part</text><line style=\"stroke: #383838; stroke-width: 1.5;\" x1=\"696.5\" x2=\"785.5\" y1=\"190.1875\" y2=\"190.1875\"/><text fill=\"#000000\" font-family=\"sans-serif\" font-size=\"11\" lengthAdjust=\"spacingAndGlyphs\" textLength=\"59\" x=\"701.5\" y=\"205.6064\">size: Integer</text><!--MD5=[4672eba38e49728da53d11aeb285b987]\n",
       "reverse link E3 to E4--><path d=\"M325.49,79.148 C270.105,92.716 181.802,117.162 110,150 C104.012,152.7384 97.871,156.0983 92.0666,159.5668 \" fill=\"none\" id=\"E3&lt;-E4\" style=\"stroke: #383838; stroke-width: 1.0;\"/><polygon fill=\"#383838\" points=\"338.15,76.095,331.3796,73.6127,326.4843,78.9076,333.2547,81.3899,338.15,76.095\" style=\"stroke: #383838; stroke-width: 1.0;\"/><!--MD5=[191cde3d490a3f6d7bb551fe3ddca469]\n",
       "reverse link E3 to E5--><path d=\"M326.412,92.836 C294.08,108.913 251.915,130.225 215,150 C209.222,153.0955 203.133,156.4513 197.224,159.7596 \" fill=\"none\" id=\"E3&lt;-E5\" style=\"stroke: #383838; stroke-width: 1.0;\"/><polygon fill=\"#383838\" points=\"338.291,86.945,331.1385,86.0274,327.5405,92.2767,334.693,93.1944,338.291,86.945\" style=\"stroke: #383838; stroke-width: 1.0;\"/><!--MD5=[1026b4b93417a13aa8999a858998add2]\n",
       "reverse link E3 to E6--><path d=\"M347.008,99.569 C328.995,117.906 306.929,140.369 290.7,156.891 \" fill=\"none\" id=\"E3&lt;-E6\" style=\"stroke: #383838; stroke-width: 1.0;\"/><polygon fill=\"#383838\" points=\"356.27,90.14,349.2119,91.6173,347.8609,98.7008,354.919,97.2234,356.27,90.14\" style=\"stroke: #383838; stroke-width: 1.0;\"/><!--MD5=[85760999379eecfd2565a9fecdca67e4]\n",
       "reverse link E3 to E7--><path d=\"M379,103.167 C379,120.78 379,141.435 379,156.891 \" fill=\"none\" id=\"E3&lt;-E7\" style=\"stroke: #383838; stroke-width: 1.0;\"/><polygon fill=\"#383838\" points=\"379,90.14,375,96.14,379,102.14,383,96.14,379,90.14\" style=\"stroke: #383838; stroke-width: 1.0;\"/><!--MD5=[4cb75b73ec3682b8f7f8edc9cc86126a]\n",
       "reverse link E3 to E8--><path d=\"M411.601,99.315 C430.148,117.699 452.942,140.293 469.687,156.891 \" fill=\"none\" id=\"E3&lt;-E8\" style=\"stroke: #383838; stroke-width: 1.0;\"/><polygon fill=\"#383838\" points=\"402.345,90.14,403.79,97.2048,410.8671,98.5883,409.4222,91.5234,402.345,90.14\" style=\"stroke: #383838; stroke-width: 1.0;\"/><!--MD5=[f7e0269b2e2fed3d07255bf4c5cf9d61]\n",
       "reverse link E3 to E9--><path d=\"M431.521,92.255 C472.265,111.847 528.214,138.75 567.383,157.5844 \" fill=\"none\" id=\"E3&lt;-E9\" style=\"stroke: #383838; stroke-width: 1.0;\"/><polygon fill=\"#383838\" points=\"419.666,86.554,423.3402,92.7589,430.4809,91.7538,426.8067,85.5489,419.666,86.554\" style=\"stroke: #383838; stroke-width: 1.0;\"/><text fill=\"#000000\" font-family=\"sans-serif\" font-size=\"13\" lengthAdjust=\"spacingAndGlyphs\" textLength=\"7\" x=\"552.3956\" y=\"150.0983\">2</text><!--MD5=[622114938c97d4dd2a5a002a72a9cb82]\n",
       "reverse link E3 to E10--><path d=\"M432.876,78.969 C493.439,93.107 594.254,118.707 678,150 C683.674,152.1201 689.535,154.5565 695.293,157.1047 \" fill=\"none\" id=\"E3&lt;-E10\" style=\"stroke: #383838; stroke-width: 1.0;\"/><polygon fill=\"#383838\" points=\"419.85,75.96,424.7952,81.2083,431.5418,78.6621,426.5966,73.4138,419.85,75.96\" style=\"stroke: #383838; stroke-width: 1.0;\"/><text fill=\"#000000\" font-family=\"sans-serif\" font-size=\"13\" lengthAdjust=\"spacingAndGlyphs\" textLength=\"7\" x=\"680.4506\" y=\"149.543\">2</text><!--MD5=[e98863524cf6f7525097ff8eeedf8307]\n",
       "@startuml\r\n",
       "skinparam monochrome true\r\n",
       "skinparam classbackgroundcolor white\r\n",
       "skinparam shadowing false\r\n",
       "skinparam wrapWidth 300\r\n",
       "hide circle\r\n",
       "\r\n",
       "package \"eVehicle_LogicalArchitecture\" as E1   {\r\n",
       "comp def \"Integer\" as E2  <<(T,blue)dataType>> {\r\n",
       "}\r\n",
       "comp usage \"eVehicle: Part\" as E3  <<(T,blue)part>> {\r\n",
       "}\r\n",
       "comp usage \"body: Part\" as E4  <<(T,blue)part>> {\r\n",
       "}\r\n",
       "comp usage \"battery: Part\" as E5  <<(T,blue)part>> {\r\n",
       "}\r\n",
       "comp usage \"engine: Part\" as E6  <<(T,blue)part>> {\r\n",
       "}\r\n",
       "comp usage \"frontAxis: Part\" as E7  <<(T,blue)part>> {\r\n",
       "}\r\n",
       "comp usage \"rearAxis: Part\" as E8  <<(T,blue)part>> {\r\n",
       "}\r\n",
       "comp usage \"frontWheel: Part\" as E9  <<(T,blue)part>> {\r\n",
       "size: Integer\r\n",
       "}\r\n",
       "comp usage \"rearWheel: Part\" as E10  <<(T,blue)part>> {\r\n",
       "size: Integer\r\n",
       "}\r\n",
       "E3 *- - E4\r\n",
       "E3 *- - E5\r\n",
       "E3 *- - E6\r\n",
       "E3 *- - E7\r\n",
       "E3 *- - E8\r\n",
       "E3 *- - \"2\"E9\r\n",
       "E3 *- - \"2\"E10\r\n",
       "}\r\n",
       "@enduml\r\n",
       "\n",
       "PlantUML version 1.2020.13(Sat Jun 13 14:26:38 CEST 2020)\n",
       "(EPL source distribution)\n",
       "Java Runtime: OpenJDK Runtime Environment\n",
       "JVM: OpenJDK 64-Bit Server VM\n",
       "Default Encoding: Cp1252\n",
       "Language: en\n",
       "Country: US\n",
       "--></g></svg>"
      ]
     },
     "execution_count": 14,
     "metadata": {},
     "output_type": "execute_result"
    }
   ],
   "source": [
    "%viz --view=tree eVehicle_LogicalArchitecture"
   ]
  },
  {
   "cell_type": "markdown",
   "metadata": {},
   "source": [
    "Although it is still very simple, the model already smells of reuse. The size attribute is currently defined twice. Now we define a type repsectively PartDefinition Wheels and specify that as the type of Parts."
   ]
  },
  {
   "cell_type": "code",
   "execution_count": 15,
   "metadata": {},
   "outputs": [
    {
     "data": {
      "text/plain": [
       "Package eVehicle_Definitions (fb0059e2-6f8f-4072-80f6-cd9fea70d935)\n",
       "Package eVehicle_LogicalArchitecture (35d47a1a-c6d6-41e5-8d7d-af0e3166e933)\n"
      ]
     },
     "execution_count": 15,
     "metadata": {},
     "output_type": "execute_result"
    }
   ],
   "source": [
    "package eVehicle_Definitions {\n",
    "\n",
    "    import ScalarValues::Integer;   \n",
    "    \n",
    "    part def Wheel {\n",
    "        attribute size : Integer;\n",
    "    }\n",
    "}\n",
    "\n",
    "package eVehicle_LogicalArchitecture {\n",
    "\n",
    "    import eVehicle_Definitions::*;\n",
    "    \n",
    "    part eVehicle {    \n",
    "        part body;\n",
    "        part battery;\n",
    "        part engine;\n",
    "        part frontAxis;\n",
    "        part rearAxis;\n",
    "        part frontWheel : Wheel[2];\n",
    "        part rearWheel : Wheel[2];\n",
    "    }\n",
    "}"
   ]
  },
  {
   "cell_type": "code",
   "execution_count": 7,
   "metadata": {},
   "outputs": [
    {
     "data": {
      "image/svg+xml": [
       "<?xml version=\"1.0\" encoding=\"UTF-8\" standalone=\"no\"?><svg xmlns=\"http://www.w3.org/2000/svg\" xmlns:xlink=\"http://www.w3.org/1999/xlink\" contentScriptType=\"application/ecmascript\" contentStyleType=\"text/css\" height=\"132px\" preserveAspectRatio=\"none\" style=\"width:244px;height:132px;\" version=\"1.1\" viewBox=\"0 0 244 132\" width=\"244px\" zoomAndPan=\"magnify\"><defs/><g><!--MD5=[fbc87193dbaf4d95561dea2c320d4a47]\n",
       "cluster E1--><polygon fill=\"#FFFFFF\" points=\"16,6,167,6,174,29.6094,222,29.6094,222,120,16,120,16,6\" style=\"stroke: #000000; stroke-width: 1.5;\"/><line style=\"stroke: #000000; stroke-width: 1.5;\" x1=\"16\" x2=\"174\" y1=\"29.6094\" y2=\"29.6094\"/><text fill=\"#000000\" font-family=\"sans-serif\" font-size=\"14\" font-weight=\"bold\" lengthAdjust=\"spacingAndGlyphs\" textLength=\"145\" x=\"20\" y=\"22.5332\">eVehicle_Definitions</text><!--MD5=[b4997ac47864f28c2f74865a473b2911]\n",
       "class E2--><rect fill=\"#FFFFFF\" height=\"48.1875\" id=\"E2\" style=\"stroke: #383838; stroke-width: 1.5;\" width=\"67\" x=\"138.5\" y=\"49\"/><text fill=\"#000000\" font-family=\"sans-serif\" font-size=\"12\" font-style=\"italic\" lengthAdjust=\"spacingAndGlyphs\" textLength=\"65\" x=\"139.5\" y=\"66.457\">«dataType»</text><text fill=\"#000000\" font-family=\"sans-serif\" font-size=\"12\" lengthAdjust=\"spacingAndGlyphs\" textLength=\"38\" x=\"153\" y=\"81.5508\">Integer</text><line style=\"stroke: #383838; stroke-width: 1.5;\" x1=\"139.5\" x2=\"204.5\" y1=\"89.1875\" y2=\"89.1875\"/><!--MD5=[09b614a08d8cba4a07c9adeb5e0fee81]\n",
       "class E3--><rect fill=\"#FFFFFF\" height=\"62.0234\" id=\"E3\" style=\"stroke: #383838; stroke-width: 1.5;\" width=\"71\" x=\"32.5\" y=\"42\"/><text fill=\"#000000\" font-family=\"sans-serif\" font-size=\"12\" font-style=\"italic\" lengthAdjust=\"spacingAndGlyphs\" textLength=\"55\" x=\"40.5\" y=\"59.457\">«part def»</text><text fill=\"#000000\" font-family=\"sans-serif\" font-size=\"12\" lengthAdjust=\"spacingAndGlyphs\" textLength=\"35\" x=\"50.5\" y=\"74.5508\">Wheel</text><line style=\"stroke: #383838; stroke-width: 1.5;\" x1=\"33.5\" x2=\"102.5\" y1=\"82.1875\" y2=\"82.1875\"/><text fill=\"#000000\" font-family=\"sans-serif\" font-size=\"11\" lengthAdjust=\"spacingAndGlyphs\" textLength=\"59\" x=\"38.5\" y=\"97.6064\">size: Integer</text><!--MD5=[371b71c21fa9e3a2ef3b90ac3732c26e]\n",
       "@startuml\r\n",
       "skinparam monochrome true\r\n",
       "skinparam classbackgroundcolor white\r\n",
       "skinparam shadowing false\r\n",
       "skinparam wrapWidth 300\r\n",
       "hide circle\r\n",
       "\r\n",
       "package \"eVehicle_Definitions\" as E1   {\r\n",
       "comp def \"Integer\" as E2  <<(T,blue)dataType>> {\r\n",
       "}\r\n",
       "comp def \"Wheel\" as E3  <<(T,blue)part def>> {\r\n",
       "size: Integer\r\n",
       "}\r\n",
       "}\r\n",
       "@enduml\r\n",
       "\n",
       "PlantUML version 1.2020.13(Sat Jun 13 14:26:38 CEST 2020)\n",
       "(EPL source distribution)\n",
       "Java Runtime: OpenJDK Runtime Environment\n",
       "JVM: OpenJDK 64-Bit Server VM\n",
       "Default Encoding: Cp1252\n",
       "Language: en\n",
       "Country: US\n",
       "--></g></svg>"
      ]
     },
     "execution_count": 7,
     "metadata": {},
     "output_type": "execute_result"
    }
   ],
   "source": [
    "%viz --view=tree eVehicle_Definitions"
   ]
  },
  {
   "cell_type": "code",
   "execution_count": 16,
   "metadata": {},
   "outputs": [
    {
     "data": {
      "image/svg+xml": [
       "<?xml version=\"1.0\" encoding=\"UTF-8\" standalone=\"no\"?><svg xmlns=\"http://www.w3.org/2000/svg\" xmlns:xlink=\"http://www.w3.org/1999/xlink\" contentScriptType=\"application/ecmascript\" contentStyleType=\"text/css\" height=\"226px\" preserveAspectRatio=\"none\" style=\"width:850px;height:226px;\" version=\"1.1\" viewBox=\"0 0 850 226\" width=\"850px\" zoomAndPan=\"magnify\"><defs/><g><!--MD5=[fbc87193dbaf4d95561dea2c320d4a47]\n",
       "cluster E1--><polygon fill=\"#FFFFFF\" points=\"16,6,228,6,235,29.6094,828,29.6094,828,214,16,214,16,6\" style=\"stroke: #000000; stroke-width: 1.5;\"/><line style=\"stroke: #000000; stroke-width: 1.5;\" x1=\"16\" x2=\"235\" y1=\"29.6094\" y2=\"29.6094\"/><text fill=\"#000000\" font-family=\"sans-serif\" font-size=\"14\" font-weight=\"bold\" lengthAdjust=\"spacingAndGlyphs\" textLength=\"206\" x=\"20\" y=\"22.5332\">eVehicle_LogicalArchitecture</text><!--MD5=[b4997ac47864f28c2f74865a473b2911]\n",
       "class E2--><rect fill=\"#FFFFFF\" height=\"48.1875\" id=\"E2\" rx=\"10\" ry=\"10\" style=\"stroke: #383838; stroke-width: 1.5;\" width=\"81\" x=\"338.5\" y=\"42\"/><text fill=\"#000000\" font-family=\"sans-serif\" font-size=\"12\" font-style=\"italic\" lengthAdjust=\"spacingAndGlyphs\" textLength=\"35\" x=\"361.5\" y=\"59.457\">«part»</text><text fill=\"#000000\" font-family=\"sans-serif\" font-size=\"12\" lengthAdjust=\"spacingAndGlyphs\" textLength=\"75\" x=\"341.5\" y=\"74.5508\">eVehicle: Part</text><line style=\"stroke: #383838; stroke-width: 1.5;\" x1=\"339.5\" x2=\"418.5\" y1=\"82.1875\" y2=\"82.1875\"/><!--MD5=[09b614a08d8cba4a07c9adeb5e0fee81]\n",
       "class E3--><rect fill=\"#FFFFFF\" height=\"48.1875\" id=\"E3\" rx=\"10\" ry=\"10\" style=\"stroke: #383838; stroke-width: 1.5;\" width=\"60\" x=\"32\" y=\"150\"/><text fill=\"#000000\" font-family=\"sans-serif\" font-size=\"12\" font-style=\"italic\" lengthAdjust=\"spacingAndGlyphs\" textLength=\"35\" x=\"44.5\" y=\"167.457\">«part»</text><text fill=\"#000000\" font-family=\"sans-serif\" font-size=\"12\" lengthAdjust=\"spacingAndGlyphs\" textLength=\"54\" x=\"35\" y=\"182.5508\">body: Part</text><line style=\"stroke: #383838; stroke-width: 1.5;\" x1=\"33\" x2=\"91\" y1=\"190.1875\" y2=\"190.1875\"/><!--MD5=[ebbe1d658d1005bcc118a6aa81145e00]\n",
       "class E4--><rect fill=\"#FFFFFF\" height=\"48.1875\" id=\"E4\" rx=\"10\" ry=\"10\" style=\"stroke: #383838; stroke-width: 1.5;\" width=\"70\" x=\"127\" y=\"150\"/><text fill=\"#000000\" font-family=\"sans-serif\" font-size=\"12\" font-style=\"italic\" lengthAdjust=\"spacingAndGlyphs\" textLength=\"35\" x=\"144.5\" y=\"167.457\">«part»</text><text fill=\"#000000\" font-family=\"sans-serif\" font-size=\"12\" lengthAdjust=\"spacingAndGlyphs\" textLength=\"64\" x=\"130\" y=\"182.5508\">battery: Part</text><line style=\"stroke: #383838; stroke-width: 1.5;\" x1=\"128\" x2=\"196\" y1=\"190.1875\" y2=\"190.1875\"/><!--MD5=[270fce915f116d4de14055a7c1d9a0f3]\n",
       "class E5--><rect fill=\"#FFFFFF\" height=\"48.1875\" id=\"E5\" rx=\"10\" ry=\"10\" style=\"stroke: #383838; stroke-width: 1.5;\" width=\"72\" x=\"232\" y=\"150\"/><text fill=\"#000000\" font-family=\"sans-serif\" font-size=\"12\" font-style=\"italic\" lengthAdjust=\"spacingAndGlyphs\" textLength=\"35\" x=\"250.5\" y=\"167.457\">«part»</text><text fill=\"#000000\" font-family=\"sans-serif\" font-size=\"12\" lengthAdjust=\"spacingAndGlyphs\" textLength=\"66\" x=\"235\" y=\"182.5508\">engine: Part</text><line style=\"stroke: #383838; stroke-width: 1.5;\" x1=\"233\" x2=\"303\" y1=\"190.1875\" y2=\"190.1875\"/><!--MD5=[60a26617385b1d2d0262a64233df1f8d]\n",
       "class E6--><rect fill=\"#FFFFFF\" height=\"48.1875\" id=\"E6\" rx=\"10\" ry=\"10\" style=\"stroke: #383838; stroke-width: 1.5;\" width=\"80\" x=\"339\" y=\"150\"/><text fill=\"#000000\" font-family=\"sans-serif\" font-size=\"12\" font-style=\"italic\" lengthAdjust=\"spacingAndGlyphs\" textLength=\"35\" x=\"361.5\" y=\"167.457\">«part»</text><text fill=\"#000000\" font-family=\"sans-serif\" font-size=\"12\" lengthAdjust=\"spacingAndGlyphs\" textLength=\"74\" x=\"342\" y=\"182.5508\">frontAxis: Part</text><line style=\"stroke: #383838; stroke-width: 1.5;\" x1=\"340\" x2=\"418\" y1=\"190.1875\" y2=\"190.1875\"/><!--MD5=[2156ba9850f5573cc1fc38a6a4b2f02b]\n",
       "class E7--><rect fill=\"#FFFFFF\" height=\"48.1875\" id=\"E7\" rx=\"10\" ry=\"10\" style=\"stroke: #383838; stroke-width: 1.5;\" width=\"78\" x=\"454\" y=\"150\"/><text fill=\"#000000\" font-family=\"sans-serif\" font-size=\"12\" font-style=\"italic\" lengthAdjust=\"spacingAndGlyphs\" textLength=\"35\" x=\"475.5\" y=\"167.457\">«part»</text><text fill=\"#000000\" font-family=\"sans-serif\" font-size=\"12\" lengthAdjust=\"spacingAndGlyphs\" textLength=\"72\" x=\"457\" y=\"182.5508\">rearAxis: Part</text><line style=\"stroke: #383838; stroke-width: 1.5;\" x1=\"455\" x2=\"531\" y1=\"190.1875\" y2=\"190.1875\"/><!--MD5=[b9389687b975829384b498ac4b7476b2]\n",
       "class E8--><rect fill=\"#FFFFFF\" height=\"48.1875\" id=\"E8\" rx=\"10\" ry=\"10\" style=\"stroke: #383838; stroke-width: 1.5;\" width=\"106\" x=\"567\" y=\"150\"/><text fill=\"#000000\" font-family=\"sans-serif\" font-size=\"12\" font-style=\"italic\" lengthAdjust=\"spacingAndGlyphs\" textLength=\"35\" x=\"602.5\" y=\"167.457\">«part»</text><text fill=\"#000000\" font-family=\"sans-serif\" font-size=\"12\" lengthAdjust=\"spacingAndGlyphs\" textLength=\"100\" x=\"570\" y=\"182.5508\">frontWheel: Wheel</text><line style=\"stroke: #383838; stroke-width: 1.5;\" x1=\"568\" x2=\"672\" y1=\"190.1875\" y2=\"190.1875\"/><!--MD5=[fd4143e9d270a159db93a4ea2a975926]\n",
       "class E9--><rect fill=\"#FFFFFF\" height=\"48.1875\" id=\"E9\" rx=\"10\" ry=\"10\" style=\"stroke: #383838; stroke-width: 1.5;\" width=\"104\" x=\"708\" y=\"150\"/><text fill=\"#000000\" font-family=\"sans-serif\" font-size=\"12\" font-style=\"italic\" lengthAdjust=\"spacingAndGlyphs\" textLength=\"35\" x=\"742.5\" y=\"167.457\">«part»</text><text fill=\"#000000\" font-family=\"sans-serif\" font-size=\"12\" lengthAdjust=\"spacingAndGlyphs\" textLength=\"98\" x=\"711\" y=\"182.5508\">rearWheel: Wheel</text><line style=\"stroke: #383838; stroke-width: 1.5;\" x1=\"709\" x2=\"811\" y1=\"190.1875\" y2=\"190.1875\"/><!--MD5=[209b3feb70ccb6233bfe1053d122c12c]\n",
       "reverse link E2 to E3--><path d=\"M325.374,81.029 C270.503,95.967 183.159,121.366 110,150 C104.149,152.2902 98.019,154.9865 92.1719,157.7116 \" fill=\"none\" id=\"E2&lt;-E3\" style=\"stroke: #383838; stroke-width: 1.0;\"/><polygon fill=\"#383838\" points=\"338.258,77.552,331.423,75.2536,326.6725,80.6788,333.5075,82.9772,338.258,77.552\" style=\"stroke: #383838; stroke-width: 1.0;\"/><!--MD5=[9618e71518536f8baf3342ff6fdab317]\n",
       "reverse link E2 to E4--><path d=\"M326.754,92.521 C286.675,112.099 232.441,138.5911 197.337,155.7387 \" fill=\"none\" id=\"E2&lt;-E4\" style=\"stroke: #383838; stroke-width: 1.0;\"/><polygon fill=\"#383838\" points=\"338.439,86.813,331.2922,85.8522,327.6565,92.0796,334.8033,93.0405,338.439,86.813\" style=\"stroke: #383838; stroke-width: 1.0;\"/><!--MD5=[4e1a83fab71cdb913c109063314ae896]\n",
       "reverse link E2 to E5--><path d=\"M345.314,99.168 C328.265,115.45 307.949,134.8509 292.422,149.6784 \" fill=\"none\" id=\"E2&lt;-E5\" style=\"stroke: #383838; stroke-width: 1.0;\"/><polygon fill=\"#383838\" points=\"354.915,90,347.8132,91.2506,346.2361,98.2872,353.338,97.0365,354.915,90\" style=\"stroke: #383838; stroke-width: 1.0;\"/><!--MD5=[ce036f65110ae2351ccce5a81dc2e928]\n",
       "reverse link E2 to E6--><path d=\"M379,103.338 C379,118.681 379,136.098 379,149.6784 \" fill=\"none\" id=\"E2&lt;-E6\" style=\"stroke: #383838; stroke-width: 1.0;\"/><polygon fill=\"#383838\" points=\"379,90,375,96,379,102,383,96,379,90\" style=\"stroke: #383838; stroke-width: 1.0;\"/><!--MD5=[1c72b32696d764168c30777981ec3f66]\n",
       "reverse link E2 to E7--><path d=\"M413.596,99.168 C431.106,115.45 451.972,134.8509 467.918,149.6784 \" fill=\"none\" id=\"E2&lt;-E7\" style=\"stroke: #383838; stroke-width: 1.0;\"/><polygon fill=\"#383838\" points=\"403.736,90,405.4059,97.0151,412.5236,98.1718,410.8537,91.1567,403.736,90\" style=\"stroke: #383838; stroke-width: 1.0;\"/><!--MD5=[65f962d72b3a6bed1ede4f3c867e43a4]\n",
       "reverse link E2 to E8--><path d=\"M431.59,90.131 C471.855,107.841 527.141,132.1573 567.406,149.8676 \" fill=\"none\" id=\"E2&lt;-E8\" style=\"stroke: #383838; stroke-width: 1.0;\"/><polygon fill=\"#383838\" points=\"419.61,84.862,423.4917,90.9392,430.5944,89.6935,426.7127,83.6163,419.61,84.862\" style=\"stroke: #383838; stroke-width: 1.0;\"/><text fill=\"#000000\" font-family=\"sans-serif\" font-size=\"13\" lengthAdjust=\"spacingAndGlyphs\" textLength=\"7\" x=\"552.1672\" y=\"142.6553\">2</text><!--MD5=[4a91eb351f2fb42055d99b719d3dd418]\n",
       "reverse link E2 to E9--><path d=\"M432.616,80.192 C494.999,95.787 600.954,123.043 691,150 C696.444,151.6296 702.105,153.397 707.741,155.2034 \" fill=\"none\" id=\"E2&lt;-E9\" style=\"stroke: #383838; stroke-width: 1.0;\"/><polygon fill=\"#383838\" points=\"419.612,76.952,424.4671,82.2838,431.2561,79.8528,426.401,74.521,419.612,76.952\" style=\"stroke: #383838; stroke-width: 1.0;\"/><text fill=\"#000000\" font-family=\"sans-serif\" font-size=\"13\" lengthAdjust=\"spacingAndGlyphs\" textLength=\"7\" x=\"692.8999\" y=\"148.9418\">2</text><!--MD5=[557b53f8916cd2c926c742bd9cf3d957]\n",
       "@startuml\r\n",
       "skinparam monochrome true\r\n",
       "skinparam classbackgroundcolor white\r\n",
       "skinparam shadowing false\r\n",
       "skinparam wrapWidth 300\r\n",
       "hide circle\r\n",
       "\r\n",
       "package \"eVehicle_LogicalArchitecture\" as E1   {\r\n",
       "comp usage \"eVehicle: Part\" as E2  <<(T,blue)part>> {\r\n",
       "}\r\n",
       "comp usage \"body: Part\" as E3  <<(T,blue)part>> {\r\n",
       "}\r\n",
       "comp usage \"battery: Part\" as E4  <<(T,blue)part>> {\r\n",
       "}\r\n",
       "comp usage \"engine: Part\" as E5  <<(T,blue)part>> {\r\n",
       "}\r\n",
       "comp usage \"frontAxis: Part\" as E6  <<(T,blue)part>> {\r\n",
       "}\r\n",
       "comp usage \"rearAxis: Part\" as E7  <<(T,blue)part>> {\r\n",
       "}\r\n",
       "comp usage \"frontWheel: Wheel\" as E8  <<(T,blue)part>> {\r\n",
       "}\r\n",
       "comp usage \"rearWheel: Wheel\" as E9  <<(T,blue)part>> {\r\n",
       "}\r\n",
       "E2 *- - E3\r\n",
       "E2 *- - E4\r\n",
       "E2 *- - E5\r\n",
       "E2 *- - E6\r\n",
       "E2 *- - E7\r\n",
       "E2 *- - \"2\"E8\r\n",
       "E2 *- - \"2\"E9\r\n",
       "}\r\n",
       "@enduml\r\n",
       "\n",
       "PlantUML version 1.2020.13(Sat Jun 13 14:26:38 CEST 2020)\n",
       "(EPL source distribution)\n",
       "Java Runtime: OpenJDK Runtime Environment\n",
       "JVM: OpenJDK 64-Bit Server VM\n",
       "Default Encoding: Cp1252\n",
       "Language: en\n",
       "Country: US\n",
       "--></g></svg>"
      ]
     },
     "execution_count": 16,
     "metadata": {},
     "output_type": "execute_result"
    }
   ],
   "source": [
    "%viz --view=tree eVehicle_LogicalArchitecture"
   ]
  },
  {
   "cell_type": "markdown",
   "metadata": {},
   "source": [
    "The attribute size itself can also be defined and reused for several attribute usages. It is a common concept in SysML v2 to separate  definition of elements and usage of elements. SysML v1 also follows this concept, but not as consequent as SysML v2. For example, SysML v1 does not provide a separate attribute definition.\n",
    "\n",
    "The attribute definition is not mandatory and only partly useful in this example, because the size is only used at one place. But I added it anyhow as an example for attribute definitions. The keyword *attribute* can be omitted as for example in the definition of the *size* attribute. Alternatively, the keyword *value* can be used instead of *attribute*."
   ]
  },
  {
   "cell_type": "code",
   "execution_count": 16,
   "metadata": {},
   "outputs": [
    {
     "data": {
      "text/plain": [
       "Package eVehicle_Definitions (d70a8a62-b9ee-48e4-ad83-0ddfbf74cd92)\n",
       "Package eVehicle_LogicalArchitecture (dd4b3fad-565a-4770-9998-0c0a66335376)\n"
      ]
     },
     "execution_count": 16,
     "metadata": {},
     "output_type": "execute_result"
    }
   ],
   "source": [
    "package eVehicle_Definitions {\n",
    "   \n",
    "    attribute def WheelSize {\n",
    "        import ScalarValues::Integer;\n",
    "        size : Integer;\n",
    "    }\n",
    "    \n",
    "    part def Wheel {\n",
    "        attribute sizeOfWheel : WheelSize;\n",
    "    }\n",
    "}\n",
    "\n",
    "package eVehicle_LogicalArchitecture {   \n",
    "    \n",
    "    import eVehicle_Definitions::*;\n",
    "    \n",
    "    part eVehicle {    \n",
    "        part body;\n",
    "        part battery;\n",
    "        part engine;\n",
    "        part frontAxis;\n",
    "        part rearAxis;\n",
    "        part frontWheel : Wheel[2];\n",
    "        part rearWheel : Wheel[2];\n",
    "    }\n",
    "}"
   ]
  },
  {
   "cell_type": "code",
   "execution_count": 19,
   "metadata": {},
   "outputs": [
    {
     "data": {
      "image/svg+xml": [
       "<?xml version=\"1.0\" encoding=\"UTF-8\" standalone=\"no\"?><svg xmlns=\"http://www.w3.org/2000/svg\" xmlns:xlink=\"http://www.w3.org/1999/xlink\" contentScriptType=\"application/ecmascript\" contentStyleType=\"text/css\" height=\"240px\" preserveAspectRatio=\"none\" style=\"width:276px;height:240px;\" version=\"1.1\" viewBox=\"0 0 276 240\" width=\"276px\" zoomAndPan=\"magnify\"><defs/><g><!--MD5=[fbc87193dbaf4d95561dea2c320d4a47]\n",
       "cluster E1--><polygon fill=\"#FFFFFF\" points=\"16,6,167,6,174,29.6094,254,29.6094,254,228,16,228,16,6\" style=\"stroke: #000000; stroke-width: 1.5;\"/><line style=\"stroke: #000000; stroke-width: 1.5;\" x1=\"16\" x2=\"174\" y1=\"29.6094\" y2=\"29.6094\"/><text fill=\"#000000\" font-family=\"sans-serif\" font-size=\"14\" font-weight=\"bold\" lengthAdjust=\"spacingAndGlyphs\" textLength=\"145\" x=\"20\" y=\"22.5332\">eVehicle_Definitions</text><!--MD5=[b4997ac47864f28c2f74865a473b2911]\n",
       "class E2--><rect fill=\"#FFFFFF\" height=\"62.0234\" id=\"E2\" style=\"stroke: #383838; stroke-width: 1.5;\" width=\"81\" x=\"156.5\" y=\"42\"/><text fill=\"#000000\" font-family=\"sans-serif\" font-size=\"12\" font-style=\"italic\" lengthAdjust=\"spacingAndGlyphs\" textLength=\"79\" x=\"157.5\" y=\"59.457\">«attribute def»</text><text fill=\"#000000\" font-family=\"sans-serif\" font-size=\"12\" lengthAdjust=\"spacingAndGlyphs\" textLength=\"58\" x=\"168\" y=\"74.5508\">WheelSize</text><line style=\"stroke: #383838; stroke-width: 1.5;\" x1=\"157.5\" x2=\"236.5\" y1=\"82.1875\" y2=\"82.1875\"/><text fill=\"#000000\" font-family=\"sans-serif\" font-size=\"11\" lengthAdjust=\"spacingAndGlyphs\" textLength=\"59\" x=\"162.5\" y=\"97.6064\">size: Integer</text><!--MD5=[09b614a08d8cba4a07c9adeb5e0fee81]\n",
       "class E3--><rect fill=\"#FFFFFF\" height=\"48.1875\" id=\"E3\" style=\"stroke: #383838; stroke-width: 1.5;\" width=\"67\" x=\"163.5\" y=\"164\"/><text fill=\"#000000\" font-family=\"sans-serif\" font-size=\"12\" font-style=\"italic\" lengthAdjust=\"spacingAndGlyphs\" textLength=\"65\" x=\"164.5\" y=\"181.457\">«dataType»</text><text fill=\"#000000\" font-family=\"sans-serif\" font-size=\"12\" lengthAdjust=\"spacingAndGlyphs\" textLength=\"38\" x=\"178\" y=\"196.5508\">Integer</text><line style=\"stroke: #383838; stroke-width: 1.5;\" x1=\"164.5\" x2=\"229.5\" y1=\"204.1875\" y2=\"204.1875\"/><!--MD5=[ebbe1d658d1005bcc118a6aa81145e00]\n",
       "class E4--><rect fill=\"#FFFFFF\" height=\"62.0234\" id=\"E4\" style=\"stroke: #383838; stroke-width: 1.5;\" width=\"89\" x=\"32.5\" y=\"42\"/><text fill=\"#000000\" font-family=\"sans-serif\" font-size=\"12\" font-style=\"italic\" lengthAdjust=\"spacingAndGlyphs\" textLength=\"55\" x=\"49.5\" y=\"59.457\">«part def»</text><text fill=\"#000000\" font-family=\"sans-serif\" font-size=\"12\" lengthAdjust=\"spacingAndGlyphs\" textLength=\"35\" x=\"59.5\" y=\"74.5508\">Wheel</text><line style=\"stroke: #383838; stroke-width: 1.5;\" x1=\"33.5\" x2=\"120.5\" y1=\"82.1875\" y2=\"82.1875\"/><text fill=\"#000000\" font-family=\"sans-serif\" font-size=\"11\" lengthAdjust=\"spacingAndGlyphs\" textLength=\"77\" x=\"38.5\" y=\"97.6064\">size: WheelSize</text><!--MD5=[209b3feb70ccb6233bfe1053d122c12c]\n",
       "reverse link E2 to E3--><path d=\"M197,119.53 C197,134.732 197,151.0349 197,163.8067 \" fill=\"none\" id=\"E2&lt;-E3\" style=\"stroke: #383838; stroke-width: 1.0;\"/><ellipse cx=\"197\" cy=\"112.282\" fill=\"#FFFFFF\" rx=\"8\" ry=\"8\" style=\"stroke: #383838; stroke-width: 1.0;\"/><line style=\"stroke: #383838; stroke-width: 1.0;\" x1=\"197\" x2=\"197\" y1=\"120.282\" y2=\"104.282\"/><line style=\"stroke: #383838; stroke-width: 1.0;\" x1=\"189\" x2=\"205\" y1=\"112.282\" y2=\"112.282\"/><!--MD5=[6c4c2c4f81c09816d5de7c9e310ac6e5]\n",
       "@startuml\r\n",
       "skinparam monochrome true\r\n",
       "skinparam classbackgroundcolor white\r\n",
       "skinparam shadowing false\r\n",
       "skinparam wrapWidth 300\r\n",
       "hide circle\r\n",
       "\r\n",
       "package \"eVehicle_Definitions\" as E1   {\r\n",
       "comp def \"WheelSize\" as E2  <<(T,blue)attribute def>> {\r\n",
       "size: Integer\r\n",
       "}\r\n",
       "comp def \"Integer\" as E3  <<(T,blue)dataType>> {\r\n",
       "}\r\n",
       "comp def \"Wheel\" as E4  <<(T,blue)part def>> {\r\n",
       "size: WheelSize\r\n",
       "}\r\n",
       "E2 +- - E3\r\n",
       "}\r\n",
       "@enduml\r\n",
       "\n",
       "PlantUML version 1.2020.13(Sat Jun 13 14:26:38 CEST 2020)\n",
       "(EPL source distribution)\n",
       "Java Runtime: OpenJDK Runtime Environment\n",
       "JVM: OpenJDK 64-Bit Server VM\n",
       "Default Encoding: Cp1252\n",
       "Language: en\n",
       "Country: US\n",
       "--></g></svg>"
      ]
     },
     "execution_count": 19,
     "metadata": {},
     "output_type": "execute_result"
    }
   ],
   "source": [
    "%viz --view=tree eVehicle_Definitions"
   ]
  },
  {
   "cell_type": "code",
   "execution_count": 18,
   "metadata": {},
   "outputs": [
    {
     "data": {
      "image/svg+xml": [
       "<?xml version=\"1.0\" encoding=\"UTF-8\" standalone=\"no\"?><svg xmlns=\"http://www.w3.org/2000/svg\" xmlns:xlink=\"http://www.w3.org/1999/xlink\" contentScriptType=\"application/ecmascript\" contentStyleType=\"text/css\" height=\"226px\" preserveAspectRatio=\"none\" style=\"width:850px;height:226px;\" version=\"1.1\" viewBox=\"0 0 850 226\" width=\"850px\" zoomAndPan=\"magnify\"><defs/><g><!--MD5=[fbc87193dbaf4d95561dea2c320d4a47]\n",
       "cluster E1--><polygon fill=\"#FFFFFF\" points=\"16,6,228,6,235,29.6094,828,29.6094,828,214,16,214,16,6\" style=\"stroke: #000000; stroke-width: 1.5;\"/><line style=\"stroke: #000000; stroke-width: 1.5;\" x1=\"16\" x2=\"235\" y1=\"29.6094\" y2=\"29.6094\"/><text fill=\"#000000\" font-family=\"sans-serif\" font-size=\"14\" font-weight=\"bold\" lengthAdjust=\"spacingAndGlyphs\" textLength=\"206\" x=\"20\" y=\"22.5332\">eVehicle_LogicalArchitecture</text><!--MD5=[b4997ac47864f28c2f74865a473b2911]\n",
       "class E2--><rect fill=\"#FFFFFF\" height=\"48.1875\" id=\"E2\" rx=\"10\" ry=\"10\" style=\"stroke: #383838; stroke-width: 1.5;\" width=\"81\" x=\"338.5\" y=\"42\"/><text fill=\"#000000\" font-family=\"sans-serif\" font-size=\"12\" font-style=\"italic\" lengthAdjust=\"spacingAndGlyphs\" textLength=\"35\" x=\"361.5\" y=\"59.457\">«part»</text><text fill=\"#000000\" font-family=\"sans-serif\" font-size=\"12\" lengthAdjust=\"spacingAndGlyphs\" textLength=\"75\" x=\"341.5\" y=\"74.5508\">eVehicle: Part</text><line style=\"stroke: #383838; stroke-width: 1.5;\" x1=\"339.5\" x2=\"418.5\" y1=\"82.1875\" y2=\"82.1875\"/><!--MD5=[09b614a08d8cba4a07c9adeb5e0fee81]\n",
       "class E3--><rect fill=\"#FFFFFF\" height=\"48.1875\" id=\"E3\" rx=\"10\" ry=\"10\" style=\"stroke: #383838; stroke-width: 1.5;\" width=\"60\" x=\"32\" y=\"150\"/><text fill=\"#000000\" font-family=\"sans-serif\" font-size=\"12\" font-style=\"italic\" lengthAdjust=\"spacingAndGlyphs\" textLength=\"35\" x=\"44.5\" y=\"167.457\">«part»</text><text fill=\"#000000\" font-family=\"sans-serif\" font-size=\"12\" lengthAdjust=\"spacingAndGlyphs\" textLength=\"54\" x=\"35\" y=\"182.5508\">body: Part</text><line style=\"stroke: #383838; stroke-width: 1.5;\" x1=\"33\" x2=\"91\" y1=\"190.1875\" y2=\"190.1875\"/><!--MD5=[ebbe1d658d1005bcc118a6aa81145e00]\n",
       "class E4--><rect fill=\"#FFFFFF\" height=\"48.1875\" id=\"E4\" rx=\"10\" ry=\"10\" style=\"stroke: #383838; stroke-width: 1.5;\" width=\"70\" x=\"127\" y=\"150\"/><text fill=\"#000000\" font-family=\"sans-serif\" font-size=\"12\" font-style=\"italic\" lengthAdjust=\"spacingAndGlyphs\" textLength=\"35\" x=\"144.5\" y=\"167.457\">«part»</text><text fill=\"#000000\" font-family=\"sans-serif\" font-size=\"12\" lengthAdjust=\"spacingAndGlyphs\" textLength=\"64\" x=\"130\" y=\"182.5508\">battery: Part</text><line style=\"stroke: #383838; stroke-width: 1.5;\" x1=\"128\" x2=\"196\" y1=\"190.1875\" y2=\"190.1875\"/><!--MD5=[270fce915f116d4de14055a7c1d9a0f3]\n",
       "class E5--><rect fill=\"#FFFFFF\" height=\"48.1875\" id=\"E5\" rx=\"10\" ry=\"10\" style=\"stroke: #383838; stroke-width: 1.5;\" width=\"72\" x=\"232\" y=\"150\"/><text fill=\"#000000\" font-family=\"sans-serif\" font-size=\"12\" font-style=\"italic\" lengthAdjust=\"spacingAndGlyphs\" textLength=\"35\" x=\"250.5\" y=\"167.457\">«part»</text><text fill=\"#000000\" font-family=\"sans-serif\" font-size=\"12\" lengthAdjust=\"spacingAndGlyphs\" textLength=\"66\" x=\"235\" y=\"182.5508\">engine: Part</text><line style=\"stroke: #383838; stroke-width: 1.5;\" x1=\"233\" x2=\"303\" y1=\"190.1875\" y2=\"190.1875\"/><!--MD5=[60a26617385b1d2d0262a64233df1f8d]\n",
       "class E6--><rect fill=\"#FFFFFF\" height=\"48.1875\" id=\"E6\" rx=\"10\" ry=\"10\" style=\"stroke: #383838; stroke-width: 1.5;\" width=\"80\" x=\"339\" y=\"150\"/><text fill=\"#000000\" font-family=\"sans-serif\" font-size=\"12\" font-style=\"italic\" lengthAdjust=\"spacingAndGlyphs\" textLength=\"35\" x=\"361.5\" y=\"167.457\">«part»</text><text fill=\"#000000\" font-family=\"sans-serif\" font-size=\"12\" lengthAdjust=\"spacingAndGlyphs\" textLength=\"74\" x=\"342\" y=\"182.5508\">frontAxis: Part</text><line style=\"stroke: #383838; stroke-width: 1.5;\" x1=\"340\" x2=\"418\" y1=\"190.1875\" y2=\"190.1875\"/><!--MD5=[2156ba9850f5573cc1fc38a6a4b2f02b]\n",
       "class E7--><rect fill=\"#FFFFFF\" height=\"48.1875\" id=\"E7\" rx=\"10\" ry=\"10\" style=\"stroke: #383838; stroke-width: 1.5;\" width=\"78\" x=\"454\" y=\"150\"/><text fill=\"#000000\" font-family=\"sans-serif\" font-size=\"12\" font-style=\"italic\" lengthAdjust=\"spacingAndGlyphs\" textLength=\"35\" x=\"475.5\" y=\"167.457\">«part»</text><text fill=\"#000000\" font-family=\"sans-serif\" font-size=\"12\" lengthAdjust=\"spacingAndGlyphs\" textLength=\"72\" x=\"457\" y=\"182.5508\">rearAxis: Part</text><line style=\"stroke: #383838; stroke-width: 1.5;\" x1=\"455\" x2=\"531\" y1=\"190.1875\" y2=\"190.1875\"/><!--MD5=[b9389687b975829384b498ac4b7476b2]\n",
       "class E8--><rect fill=\"#FFFFFF\" height=\"48.1875\" id=\"E8\" rx=\"10\" ry=\"10\" style=\"stroke: #383838; stroke-width: 1.5;\" width=\"106\" x=\"567\" y=\"150\"/><text fill=\"#000000\" font-family=\"sans-serif\" font-size=\"12\" font-style=\"italic\" lengthAdjust=\"spacingAndGlyphs\" textLength=\"35\" x=\"602.5\" y=\"167.457\">«part»</text><text fill=\"#000000\" font-family=\"sans-serif\" font-size=\"12\" lengthAdjust=\"spacingAndGlyphs\" textLength=\"100\" x=\"570\" y=\"182.5508\">frontWheel: Wheel</text><line style=\"stroke: #383838; stroke-width: 1.5;\" x1=\"568\" x2=\"672\" y1=\"190.1875\" y2=\"190.1875\"/><!--MD5=[fd4143e9d270a159db93a4ea2a975926]\n",
       "class E9--><rect fill=\"#FFFFFF\" height=\"48.1875\" id=\"E9\" rx=\"10\" ry=\"10\" style=\"stroke: #383838; stroke-width: 1.5;\" width=\"104\" x=\"708\" y=\"150\"/><text fill=\"#000000\" font-family=\"sans-serif\" font-size=\"12\" font-style=\"italic\" lengthAdjust=\"spacingAndGlyphs\" textLength=\"35\" x=\"742.5\" y=\"167.457\">«part»</text><text fill=\"#000000\" font-family=\"sans-serif\" font-size=\"12\" lengthAdjust=\"spacingAndGlyphs\" textLength=\"98\" x=\"711\" y=\"182.5508\">rearWheel: Wheel</text><line style=\"stroke: #383838; stroke-width: 1.5;\" x1=\"709\" x2=\"811\" y1=\"190.1875\" y2=\"190.1875\"/><!--MD5=[209b3feb70ccb6233bfe1053d122c12c]\n",
       "reverse link E2 to E3--><path d=\"M325.374,81.029 C270.503,95.967 183.159,121.366 110,150 C104.149,152.2902 98.019,154.9865 92.1719,157.7116 \" fill=\"none\" id=\"E2&lt;-E3\" style=\"stroke: #383838; stroke-width: 1.0;\"/><polygon fill=\"#383838\" points=\"338.258,77.552,331.423,75.2536,326.6725,80.6788,333.5075,82.9772,338.258,77.552\" style=\"stroke: #383838; stroke-width: 1.0;\"/><!--MD5=[9618e71518536f8baf3342ff6fdab317]\n",
       "reverse link E2 to E4--><path d=\"M326.754,92.521 C286.675,112.099 232.441,138.5911 197.337,155.7387 \" fill=\"none\" id=\"E2&lt;-E4\" style=\"stroke: #383838; stroke-width: 1.0;\"/><polygon fill=\"#383838\" points=\"338.439,86.813,331.2922,85.8522,327.6565,92.0796,334.8033,93.0405,338.439,86.813\" style=\"stroke: #383838; stroke-width: 1.0;\"/><!--MD5=[4e1a83fab71cdb913c109063314ae896]\n",
       "reverse link E2 to E5--><path d=\"M345.314,99.168 C328.265,115.45 307.949,134.8509 292.422,149.6784 \" fill=\"none\" id=\"E2&lt;-E5\" style=\"stroke: #383838; stroke-width: 1.0;\"/><polygon fill=\"#383838\" points=\"354.915,90,347.8132,91.2506,346.2361,98.2872,353.338,97.0365,354.915,90\" style=\"stroke: #383838; stroke-width: 1.0;\"/><!--MD5=[ce036f65110ae2351ccce5a81dc2e928]\n",
       "reverse link E2 to E6--><path d=\"M379,103.338 C379,118.681 379,136.098 379,149.6784 \" fill=\"none\" id=\"E2&lt;-E6\" style=\"stroke: #383838; stroke-width: 1.0;\"/><polygon fill=\"#383838\" points=\"379,90,375,96,379,102,383,96,379,90\" style=\"stroke: #383838; stroke-width: 1.0;\"/><!--MD5=[1c72b32696d764168c30777981ec3f66]\n",
       "reverse link E2 to E7--><path d=\"M413.596,99.168 C431.106,115.45 451.972,134.8509 467.918,149.6784 \" fill=\"none\" id=\"E2&lt;-E7\" style=\"stroke: #383838; stroke-width: 1.0;\"/><polygon fill=\"#383838\" points=\"403.736,90,405.4059,97.0151,412.5236,98.1718,410.8537,91.1567,403.736,90\" style=\"stroke: #383838; stroke-width: 1.0;\"/><!--MD5=[65f962d72b3a6bed1ede4f3c867e43a4]\n",
       "reverse link E2 to E8--><path d=\"M431.59,90.131 C471.855,107.841 527.141,132.1573 567.406,149.8676 \" fill=\"none\" id=\"E2&lt;-E8\" style=\"stroke: #383838; stroke-width: 1.0;\"/><polygon fill=\"#383838\" points=\"419.61,84.862,423.4917,90.9392,430.5944,89.6935,426.7127,83.6163,419.61,84.862\" style=\"stroke: #383838; stroke-width: 1.0;\"/><text fill=\"#000000\" font-family=\"sans-serif\" font-size=\"13\" lengthAdjust=\"spacingAndGlyphs\" textLength=\"7\" x=\"552.1672\" y=\"142.6553\">2</text><!--MD5=[4a91eb351f2fb42055d99b719d3dd418]\n",
       "reverse link E2 to E9--><path d=\"M432.616,80.192 C494.999,95.787 600.954,123.043 691,150 C696.444,151.6296 702.105,153.397 707.741,155.2034 \" fill=\"none\" id=\"E2&lt;-E9\" style=\"stroke: #383838; stroke-width: 1.0;\"/><polygon fill=\"#383838\" points=\"419.612,76.952,424.4671,82.2838,431.2561,79.8528,426.401,74.521,419.612,76.952\" style=\"stroke: #383838; stroke-width: 1.0;\"/><text fill=\"#000000\" font-family=\"sans-serif\" font-size=\"13\" lengthAdjust=\"spacingAndGlyphs\" textLength=\"7\" x=\"692.8999\" y=\"148.9418\">2</text><!--MD5=[557b53f8916cd2c926c742bd9cf3d957]\n",
       "@startuml\r\n",
       "skinparam monochrome true\r\n",
       "skinparam classbackgroundcolor white\r\n",
       "skinparam shadowing false\r\n",
       "skinparam wrapWidth 300\r\n",
       "hide circle\r\n",
       "\r\n",
       "package \"eVehicle_LogicalArchitecture\" as E1   {\r\n",
       "comp usage \"eVehicle: Part\" as E2  <<(T,blue)part>> {\r\n",
       "}\r\n",
       "comp usage \"body: Part\" as E3  <<(T,blue)part>> {\r\n",
       "}\r\n",
       "comp usage \"battery: Part\" as E4  <<(T,blue)part>> {\r\n",
       "}\r\n",
       "comp usage \"engine: Part\" as E5  <<(T,blue)part>> {\r\n",
       "}\r\n",
       "comp usage \"frontAxis: Part\" as E6  <<(T,blue)part>> {\r\n",
       "}\r\n",
       "comp usage \"rearAxis: Part\" as E7  <<(T,blue)part>> {\r\n",
       "}\r\n",
       "comp usage \"frontWheel: Wheel\" as E8  <<(T,blue)part>> {\r\n",
       "}\r\n",
       "comp usage \"rearWheel: Wheel\" as E9  <<(T,blue)part>> {\r\n",
       "}\r\n",
       "E2 *- - E3\r\n",
       "E2 *- - E4\r\n",
       "E2 *- - E5\r\n",
       "E2 *- - E6\r\n",
       "E2 *- - E7\r\n",
       "E2 *- - \"2\"E8\r\n",
       "E2 *- - \"2\"E9\r\n",
       "}\r\n",
       "@enduml\r\n",
       "\n",
       "PlantUML version 1.2020.13(Sat Jun 13 14:26:38 CEST 2020)\n",
       "(EPL source distribution)\n",
       "Java Runtime: OpenJDK Runtime Environment\n",
       "JVM: OpenJDK 64-Bit Server VM\n",
       "Default Encoding: Cp1252\n",
       "Language: en\n",
       "Country: US\n",
       "--></g></svg>"
      ]
     },
     "execution_count": 18,
     "metadata": {},
     "output_type": "execute_result"
    }
   ],
   "source": [
    "%viz --view=tree eVehicle_LogicalArchitecture"
   ]
  },
  {
   "cell_type": "markdown",
   "metadata": {},
   "source": [
    "## Putting the parts together\n",
    "\n",
    "By now the model only defines the breakdown structure of the vehicle. There is no definition yet of how the parts are connected. The next example model *eVehicle_LogicalArchitecture* connects the parts in a meaningful way.\n"
   ]
  },
  {
   "cell_type": "code",
   "execution_count": 19,
   "metadata": {},
   "outputs": [
    {
     "data": {
      "text/plain": [
       "Package eVehicle_LogicalArchitecture (59c118fb-9398-406c-a2dc-d2eb77aee7fa)\n"
      ]
     },
     "execution_count": 19,
     "metadata": {},
     "output_type": "execute_result"
    }
   ],
   "source": [
    "package eVehicle_LogicalArchitecture {\n",
    "       \n",
    "    import eVehicle_Definitions::*;\n",
    "    \n",
    "    part eVehicle {    \n",
    "        part body;\n",
    "        part battery;\n",
    "        part engine;\n",
    "        part frontAxis;\n",
    "        part rearAxis;\n",
    "        part frontWheel : Wheel[2];\n",
    "        part rearWheel : Wheel[2];\n",
    "        \n",
    "        connect battery to engine;\n",
    "        connect engine to frontAxis;\n",
    "        connect frontAxis to frontWheel;\n",
    "        connect rearAxis to rearWheel;\n",
    "        connect body to battery;\n",
    "        connect body to engine;\n",
    "        connect body to frontAxis;\n",
    "        connect body to rearAxis;\n",
    "    }\n",
    "}"
   ]
  },
  {
   "cell_type": "code",
   "execution_count": 23,
   "metadata": {},
   "outputs": [
    {
     "data": {
      "image/svg+xml": [
       "<?xml version=\"1.0\" encoding=\"UTF-8\" standalone=\"no\"?><svg xmlns=\"http://www.w3.org/2000/svg\" xmlns:xlink=\"http://www.w3.org/1999/xlink\" contentScriptType=\"application/ecmascript\" contentStyleType=\"text/css\" height=\"352px\" preserveAspectRatio=\"none\" style=\"width:364px;height:352px;\" version=\"1.1\" viewBox=\"0 0 364 352\" width=\"364px\" zoomAndPan=\"magnify\"><defs/><g><!--MD5=[fbc87193dbaf4d95561dea2c320d4a47]\n",
       "cluster E1--><rect fill=\"#F8F8F8\" height=\"334\" rx=\"12.5\" ry=\"12.5\" style=\"stroke: #000000; stroke-width: 1.5;\" width=\"345\" x=\"7\" y=\"7\"/><rect fill=\"#FFFFFF\" height=\"300.3906\" rx=\"12.5\" ry=\"12.5\" style=\"stroke: #FFFFFF; stroke-width: 1.0;\" width=\"339\" x=\"10\" y=\"37.6094\"/><line style=\"stroke: #000000; stroke-width: 1.5;\" x1=\"7\" x2=\"352\" y1=\"34.6094\" y2=\"34.6094\"/><text fill=\"#000000\" font-family=\"sans-serif\" font-size=\"14\" lengthAdjust=\"spacingAndGlyphs\" textLength=\"88\" x=\"135.5\" y=\"25.5332\">eVehicle: Part</text><g id=\"E1.E2\"><rect fill=\"#FFFFFF\" height=\"50\" rx=\"12.5\" ry=\"12.5\" style=\"stroke: #383838; stroke-width: 1.5;\" width=\"85\" x=\"140.5\" y=\"275\"/><line style=\"stroke: #383838; stroke-width: 1.5;\" x1=\"140.5\" x2=\"225.5\" y1=\"302.6094\" y2=\"302.6094\"/><text fill=\"#000000\" font-family=\"sans-serif\" font-size=\"14\" lengthAdjust=\"spacingAndGlyphs\" textLength=\"65\" x=\"150.5\" y=\"294.5332\">body: Part</text></g><g id=\"E1.E3\"><rect fill=\"#FFFFFF\" height=\"50\" rx=\"12.5\" ry=\"12.5\" style=\"stroke: #383838; stroke-width: 1.5;\" width=\"98\" x=\"238\" y=\"217\"/><line style=\"stroke: #383838; stroke-width: 1.5;\" x1=\"238\" x2=\"336\" y1=\"244.6094\" y2=\"244.6094\"/><text fill=\"#000000\" font-family=\"sans-serif\" font-size=\"14\" lengthAdjust=\"spacingAndGlyphs\" textLength=\"78\" x=\"248\" y=\"236.5332\">battery: Part</text></g><g id=\"E1.E4\"><rect fill=\"#FFFFFF\" height=\"50\" rx=\"12.5\" ry=\"12.5\" style=\"stroke: #383838; stroke-width: 1.5;\" width=\"97\" x=\"229.5\" y=\"159\"/><line style=\"stroke: #383838; stroke-width: 1.5;\" x1=\"229.5\" x2=\"326.5\" y1=\"186.6094\" y2=\"186.6094\"/><text fill=\"#000000\" font-family=\"sans-serif\" font-size=\"14\" lengthAdjust=\"spacingAndGlyphs\" textLength=\"77\" x=\"239.5\" y=\"178.5332\">engine: Part</text></g><g id=\"E1.E5\"><rect fill=\"#FFFFFF\" height=\"50\" rx=\"12.5\" ry=\"12.5\" style=\"stroke: #383838; stroke-width: 1.5;\" width=\"108\" x=\"176\" y=\"101\"/><line style=\"stroke: #383838; stroke-width: 1.5;\" x1=\"176\" x2=\"284\" y1=\"128.6094\" y2=\"128.6094\"/><text fill=\"#000000\" font-family=\"sans-serif\" font-size=\"14\" lengthAdjust=\"spacingAndGlyphs\" textLength=\"88\" x=\"186\" y=\"120.5332\">frontAxis: Part</text></g><g id=\"E1.E6\"><rect fill=\"#FFFFFF\" height=\"50\" rx=\"12.5\" ry=\"12.5\" style=\"stroke: #383838; stroke-width: 1.5;\" width=\"105\" x=\"23.5\" y=\"217\"/><line style=\"stroke: #383838; stroke-width: 1.5;\" x1=\"23.5\" x2=\"128.5\" y1=\"244.6094\" y2=\"244.6094\"/><text fill=\"#000000\" font-family=\"sans-serif\" font-size=\"14\" lengthAdjust=\"spacingAndGlyphs\" textLength=\"85\" x=\"33.5\" y=\"236.5332\">rearAxis: Part</text></g><g id=\"E1.E7\"><rect fill=\"#FFFFFF\" height=\"50\" rx=\"12.5\" ry=\"12.5\" style=\"stroke: #383838; stroke-width: 1.5;\" width=\"137\" x=\"161.5\" y=\"43\"/><line style=\"stroke: #383838; stroke-width: 1.5;\" x1=\"161.5\" x2=\"298.5\" y1=\"70.6094\" y2=\"70.6094\"/><text fill=\"#000000\" font-family=\"sans-serif\" font-size=\"14\" lengthAdjust=\"spacingAndGlyphs\" textLength=\"117\" x=\"171.5\" y=\"62.5332\">frontWheel: Wheel</text></g><g id=\"E1.E8\"><rect fill=\"#FFFFFF\" height=\"50\" rx=\"12.5\" ry=\"12.5\" style=\"stroke: #383838; stroke-width: 1.5;\" width=\"134\" x=\"23\" y=\"159\"/><line style=\"stroke: #383838; stroke-width: 1.5;\" x1=\"23\" x2=\"157\" y1=\"186.6094\" y2=\"186.6094\"/><text fill=\"#000000\" font-family=\"sans-serif\" font-size=\"14\" lengthAdjust=\"spacingAndGlyphs\" textLength=\"114\" x=\"33\" y=\"178.5332\">rearWheel: Wheel</text></g><!--MD5=[f0cdf4548168e5211fb3a02bf679d63a]\n",
       "link E4 to E3--><path d=\"M281.869,209.074 C282.288,211.683 282.715,214.338 283.134,216.946 \" fill=\"none\" id=\"E4-E3\" style=\"stroke: #383838; stroke-width: 3.0;\"/><!--MD5=[1c62de2aa5b76f0fb657ff8443a1a700]\n",
       "link E5 to E4--><path d=\"M250.635,151.074 C252.871,153.683 255.147,156.338 257.383,158.946 \" fill=\"none\" id=\"E5-E4\" style=\"stroke: #383838; stroke-width: 3.0;\"/><!--MD5=[4d1e63f6c5cc89ece832f1e02a2fb60c]\n",
       "link E7 to E5--><path d=\"M230,93.074 C230,95.683 230,98.338 230,100.946 \" fill=\"none\" id=\"E7-E5\" style=\"stroke: #383838; stroke-width: 3.0;\"/><!--MD5=[c5e8897d989ce984f93528998a7150fe]\n",
       "link E8 to E6--><path d=\"M83.9815,209.074 C83.3293,211.683 82.6655,214.338 82.0134,216.946 \" fill=\"none\" id=\"E8-E6\" style=\"stroke: #383838; stroke-width: 3.0;\"/><!--MD5=[05d275557350bfb9b23a4ef7222b4c39]\n",
       "link E3 to E2--><path d=\"M242.291,267.074 C236.786,270.0385 231.169,273.0628 225.695,276.0106 \" fill=\"none\" id=\"E3-E2\" style=\"stroke: #383838; stroke-width: 3.0;\"/><!--MD5=[185131fc0dcab0a4505a2ebe144e961b]\n",
       "link E4 to E2--><path d=\"M229.339,208.538 C225.973,211.138 222.808,213.957 220,217 C204.854,233.414 195.084,257.0765 189.41,274.7682 \" fill=\"none\" id=\"E4-E2\" style=\"stroke: #383838; stroke-width: 3.0;\"/><!--MD5=[15ebcb19ae302d9b601edb458606d402]\n",
       "link E5 to E2--><path d=\"M214.09,151.023 C203.512,168.503 190.576,193.187 185,217 C180.519,236.134 180.288,258.4674 181.027,274.9908 \" fill=\"none\" id=\"E5-E2\" style=\"stroke: #383838; stroke-width: 3.0;\"/><!--MD5=[2351f337d6de0f557b50152ba70847b5]\n",
       "link E6 to E2--><path d=\"M121.999,267.074 C128.116,270.2756 134.367,273.5471 140.423,276.7165 \" fill=\"none\" id=\"E6-E2\" style=\"stroke: #383838; stroke-width: 3.0;\"/><!--MD5=[df1f860b4f243f3ef5c23c4b4db4dcd8]\n",
       "@startuml\r\n",
       "skinparam ranksep 8\r\n",
       "skinparam rectangle {\r\n",
       " backgroundColor<<block>> LightGreen\r\n",
       "}\r\n",
       "skinparam monochrome true\r\n",
       "skinparam classbackgroundcolor white\r\n",
       "skinparam shadowing false\r\n",
       "skinparam wrapWidth 300\r\n",
       "hide circle\r\n",
       "\r\n",
       "rec usage \"eVehicle: Part\" as E1  {\r\n",
       "rec usage \"body: Part\" as E2  {\r\n",
       "}\r\n",
       "rec usage \"battery: Part\" as E3  {\r\n",
       "}\r\n",
       "rec usage \"engine: Part\" as E4  {\r\n",
       "}\r\n",
       "rec usage \"frontAxis: Part\" as E5  {\r\n",
       "}\r\n",
       "rec usage \"rearAxis: Part\" as E6  {\r\n",
       "}\r\n",
       "rec usage \"frontWheel: Wheel\" as E7  {\r\n",
       "}\r\n",
       "rec usage \"rearWheel: Wheel\" as E8  {\r\n",
       "}\r\n",
       "}\r\n",
       "E4 -[thickness=3]- E3\r\n",
       "E5 -[thickness=3]- E4\r\n",
       "E7 -[thickness=3]- E5\r\n",
       "E8 -[thickness=3]- E6\r\n",
       "E3 -[thickness=3]- E2\r\n",
       "E4 -[thickness=3]- E2\r\n",
       "E5 -[thickness=3]- E2\r\n",
       "E6 -[thickness=3]- E2\r\n",
       "@enduml\r\n",
       "\n",
       "PlantUML version 1.2020.13(Sat Jun 13 14:26:38 CEST 2020)\n",
       "(EPL source distribution)\n",
       "Java Runtime: OpenJDK Runtime Environment\n",
       "JVM: OpenJDK 64-Bit Server VM\n",
       "Default Encoding: Cp1252\n",
       "Language: en\n",
       "Country: US\n",
       "--></g></svg>"
      ]
     },
     "execution_count": 23,
     "metadata": {},
     "output_type": "execute_result"
    }
   ],
   "source": [
    "%viz --view=interconnection eVehicle_LogicalArchitecture::eVehicle"
   ]
  },
  {
   "cell_type": "markdown",
   "metadata": {},
   "source": [
    "## Modeling interfaces\n",
    "\n",
    "The interaction points are defined by ports in SysML v2, similar to SysML v1. The following extended example defines the interaction points between the engine and the battery. The connection is changed to connect the ports instead of the parts."
   ]
  },
  {
   "cell_type": "code",
   "execution_count": 18,
   "metadata": {},
   "outputs": [
    {
     "data": {
      "text/plain": [
       "Package eVehicle_LogicalArchitecture (49ce1ed5-4cd6-47f2-ba22-d3bbb80b23aa)\n"
      ]
     },
     "execution_count": 18,
     "metadata": {},
     "output_type": "execute_result"
    }
   ],
   "source": [
    "package eVehicle_LogicalArchitecture {\n",
    "       \n",
    "    import eVehicle_Definitions::*;\n",
    "    \n",
    "    part eVehicle {    \n",
    "        part body;\n",
    "        part battery {\n",
    "            port powerOut;\n",
    "        }\n",
    "        part engine {\n",
    "            port powerIn;\n",
    "        }\n",
    "        part frontAxis;\n",
    "        part rearAxis;\n",
    "        part frontWheel : Wheel[2];\n",
    "        part rearWheel : Wheel[2];\n",
    "        \n",
    "        connect battery::powerOut to engine::powerIn;\n",
    "        connect engine to frontAxis;\n",
    "        connect frontAxis to frontWheel;\n",
    "        connect rearAxis to rearWheel;\n",
    "        connect body to battery;\n",
    "        connect body to engine;\n",
    "        connect body to frontAxis;\n",
    "        connect body to rearAxis;\n",
    "    }\n",
    "}"
   ]
  },
  {
   "cell_type": "code",
   "execution_count": 28,
   "metadata": {},
   "outputs": [
    {
     "data": {
      "image/svg+xml": [
       "<?xml version=\"1.0\" encoding=\"UTF-8\" standalone=\"no\"?><svg xmlns=\"http://www.w3.org/2000/svg\" xmlns:xlink=\"http://www.w3.org/1999/xlink\" contentScriptType=\"application/ecmascript\" contentStyleType=\"text/css\" height=\"388px\" preserveAspectRatio=\"none\" style=\"width:554px;height:388px;\" version=\"1.1\" viewBox=\"0 0 554 388\" width=\"554px\" zoomAndPan=\"magnify\"><defs/><g><!--MD5=[fbc87193dbaf4d95561dea2c320d4a47]\n",
       "cluster E1--><rect fill=\"#F8F8F8\" height=\"370\" rx=\"12.5\" ry=\"12.5\" style=\"stroke: #000000; stroke-width: 1.5;\" width=\"535\" x=\"7\" y=\"7\"/><rect fill=\"#FFFFFF\" height=\"336.3906\" rx=\"12.5\" ry=\"12.5\" style=\"stroke: #FFFFFF; stroke-width: 1.0;\" width=\"529\" x=\"10\" y=\"37.6094\"/><line style=\"stroke: #000000; stroke-width: 1.5;\" x1=\"7\" x2=\"542\" y1=\"34.6094\" y2=\"34.6094\"/><text fill=\"#000000\" font-family=\"sans-serif\" font-size=\"14\" lengthAdjust=\"spacingAndGlyphs\" textLength=\"88\" x=\"230.5\" y=\"25.5332\">eVehicle: Part</text><!--MD5=[d5e69f78d87373223dbae638b30a9c99]\n",
       "cluster E3--><rect fill=\"#F8F8F8\" height=\"110\" rx=\"12.5\" ry=\"12.5\" style=\"stroke: #000000; stroke-width: 1.5;\" width=\"118\" x=\"400\" y=\"185\"/><rect fill=\"#FFFFFF\" height=\"76.3906\" rx=\"12.5\" ry=\"12.5\" style=\"stroke: #FFFFFF; stroke-width: 1.0;\" width=\"112\" x=\"403\" y=\"215.6094\"/><line style=\"stroke: #000000; stroke-width: 1.5;\" x1=\"400\" x2=\"518\" y1=\"212.6094\" y2=\"212.6094\"/><text fill=\"#000000\" font-family=\"sans-serif\" font-size=\"14\" lengthAdjust=\"spacingAndGlyphs\" textLength=\"78\" x=\"420\" y=\"204.5332\">battery: Part</text><!--MD5=[de5ec2e2e8f62f467e546659f5068c88]\n",
       "cluster E5--><rect fill=\"#F8F8F8\" height=\"93\" rx=\"12.5\" ry=\"12.5\" style=\"stroke: #000000; stroke-width: 1.5;\" width=\"117\" x=\"210\" y=\"126\"/><rect fill=\"#FFFFFF\" height=\"59.3906\" rx=\"12.5\" ry=\"12.5\" style=\"stroke: #FFFFFF; stroke-width: 1.0;\" width=\"111\" x=\"213\" y=\"156.6094\"/><line style=\"stroke: #000000; stroke-width: 1.5;\" x1=\"210\" x2=\"327\" y1=\"153.6094\" y2=\"153.6094\"/><text fill=\"#000000\" font-family=\"sans-serif\" font-size=\"14\" lengthAdjust=\"spacingAndGlyphs\" textLength=\"77\" x=\"230\" y=\"145.5332\">engine: Part</text><g id=\"E1.E2\"><rect fill=\"#FFFFFF\" height=\"50\" rx=\"12.5\" ry=\"12.5\" style=\"stroke: #383838; stroke-width: 1.5;\" width=\"85\" x=\"181.5\" y=\"311\"/><line style=\"stroke: #383838; stroke-width: 1.5;\" x1=\"181.5\" x2=\"266.5\" y1=\"338.6094\" y2=\"338.6094\"/><text fill=\"#000000\" font-family=\"sans-serif\" font-size=\"14\" lengthAdjust=\"spacingAndGlyphs\" textLength=\"65\" x=\"191.5\" y=\"330.5332\">body: Part</text></g><text fill=\"#000000\" font-family=\"sans-serif\" font-size=\"14\" lengthAdjust=\"spacingAndGlyphs\" textLength=\"95\" x=\"370.5\" y=\"163.9238\">powerOut: Port</text><rect fill=\"#383838\" height=\"12\" style=\"stroke: #F8F8F8; stroke-width: 1.5;\" width=\"12\" x=\"412\" y=\"179\"/><text fill=\"#000000\" font-family=\"sans-serif\" font-size=\"14\" lengthAdjust=\"spacingAndGlyphs\" textLength=\"83\" x=\"267.5\" y=\"104.9238\">powerIn: Port</text><rect fill=\"#383838\" height=\"12\" style=\"stroke: #F8F8F8; stroke-width: 1.5;\" width=\"12\" x=\"303\" y=\"120\"/><g id=\"E1.E7\"><rect fill=\"#FFFFFF\" height=\"50\" rx=\"12.5\" ry=\"12.5\" style=\"stroke: #383838; stroke-width: 1.5;\" width=\"108\" x=\"86\" y=\"101\"/><line style=\"stroke: #383838; stroke-width: 1.5;\" x1=\"86\" x2=\"194\" y1=\"128.6094\" y2=\"128.6094\"/><text fill=\"#000000\" font-family=\"sans-serif\" font-size=\"14\" lengthAdjust=\"spacingAndGlyphs\" textLength=\"88\" x=\"96\" y=\"120.5332\">frontAxis: Part</text></g><g id=\"E1.E8\"><rect fill=\"#FFFFFF\" height=\"50\" rx=\"12.5\" ry=\"12.5\" style=\"stroke: #383838; stroke-width: 1.5;\" width=\"105\" x=\"44.5\" y=\"236\"/><line style=\"stroke: #383838; stroke-width: 1.5;\" x1=\"44.5\" x2=\"149.5\" y1=\"263.6094\" y2=\"263.6094\"/><text fill=\"#000000\" font-family=\"sans-serif\" font-size=\"14\" lengthAdjust=\"spacingAndGlyphs\" textLength=\"85\" x=\"54.5\" y=\"255.5332\">rearAxis: Part</text></g><g id=\"E1.E9\"><rect fill=\"#FFFFFF\" height=\"50\" rx=\"12.5\" ry=\"12.5\" style=\"stroke: #383838; stroke-width: 1.5;\" width=\"137\" x=\"71.5\" y=\"43\"/><line style=\"stroke: #383838; stroke-width: 1.5;\" x1=\"71.5\" x2=\"208.5\" y1=\"70.6094\" y2=\"70.6094\"/><text fill=\"#000000\" font-family=\"sans-serif\" font-size=\"14\" lengthAdjust=\"spacingAndGlyphs\" textLength=\"117\" x=\"81.5\" y=\"62.5332\">frontWheel: Wheel</text></g><g id=\"E1.E10\"><rect fill=\"#FFFFFF\" height=\"50\" rx=\"12.5\" ry=\"12.5\" style=\"stroke: #383838; stroke-width: 1.5;\" width=\"134\" x=\"23\" y=\"160\"/><line style=\"stroke: #383838; stroke-width: 1.5;\" x1=\"23\" x2=\"157\" y1=\"187.6094\" y2=\"187.6094\"/><text fill=\"#000000\" font-family=\"sans-serif\" font-size=\"14\" lengthAdjust=\"spacingAndGlyphs\" textLength=\"114\" x=\"33\" y=\"179.5332\">rearWheel: Wheel</text></g><!--MD5=[f667431f98296947986a1a7595a31603]\n",
       "link E6 to E4--><path d=\"M315.173,130.228 C334.358,140.261 392.803,170.823 411.895,180.808 \" fill=\"none\" id=\"E6-E4\" style=\"stroke: #383838; stroke-width: 3.0;\"/><!--MD5=[4d1e63f6c5cc89ece832f1e02a2fb60c]\n",
       "link E7 to E5--><path d=\"M194.334,148.354 C196.918,149.269 199.483,150.155 202,151 C205.0675,152.0295 207.5963,152.754 209.8527,153.3342 C209.8879,153.3433 209.9231,153.3523 209.9582,153.3613 \" fill=\"none\" id=\"E7-E5\" style=\"stroke: #383838; stroke-width: 3.0;\"/><!--MD5=[cf04703ca05eebef50f1cfe8b03e143b]\n",
       "link E9 to E7--><path d=\"M140,93.074 C140,95.683 140,98.338 140,100.946 \" fill=\"none\" id=\"E9-E7\" style=\"stroke: #383838; stroke-width: 3.0;\"/><!--MD5=[211124029f8d90d89da20960a30e5017]\n",
       "link E10 to E8--><path d=\"M92.292,210.23 C93.074,218.492 93.947,227.722 94.727,235.968 \" fill=\"none\" id=\"E10-E8\" style=\"stroke: #383838; stroke-width: 3.0;\"/><!--MD5=[05d275557350bfb9b23a4ef7222b4c39]\n",
       "link E3 to E2--><path d=\"M409.9718,295.077 C409.4709,295.411 408.9676,295.7417 408.462,296.0685 C404.4179,298.6831 400.2328,301.056 396,303 C354.597,322.0149 302.662,329.7331 266.751,332.8646 \" fill=\"none\" id=\"E3-E2\" style=\"stroke: #383838; stroke-width: 3.0;\"/><!--MD5=[15ebcb19ae302d9b601edb458606d402]\n",
       "link E5 to E2--><path d=\"M268.3162,219.1554 C268.2043,219.448 268.0919,219.7418 267.979,220.0368 C267.7533,220.6269 267.5257,221.2218 267.2964,221.8214 C266.8376,223.0205 266.3718,224.2381 265.8997,225.4723 C264.9554,227.9408 263.9856,230.4757 262.9963,233.0618 C261.0176,238.2341 258.9605,243.6115 256.8713,249.0729 C248.5143,270.9183 239.6435,294.1065 233.226,310.882 \" fill=\"none\" id=\"E5-E2\" style=\"stroke: #383838; stroke-width: 3.0;\"/><!--MD5=[583832df87f4419a098336a29a52fa00]\n",
       "link E7 to E2--><path d=\"M168.494,151.368 C170.526,153.812 172.4,156.368 174,159 C203.785,207.992 216.425,275.393 221.29,310.8884 \" fill=\"none\" id=\"E7-E2\" style=\"stroke: #383838; stroke-width: 3.0;\"/><!--MD5=[f1f3f9f2fc535e6147756cb86a7f2e32]\n",
       "link E8 to E2--><path d=\"M138.937,286.105 C152.809,294.079 168.239,302.9482 182.108,310.9201 \" fill=\"none\" id=\"E8-E2\" style=\"stroke: #383838; stroke-width: 3.0;\"/><!--MD5=[ab9aff8306ed253b82d91507f82f0a1b]\n",
       "@startuml\r\n",
       "skinparam ranksep 8\r\n",
       "skinparam rectangle {\r\n",
       " backgroundColor<<block>> LightGreen\r\n",
       "}\r\n",
       "skinparam monochrome true\r\n",
       "skinparam classbackgroundcolor white\r\n",
       "skinparam shadowing false\r\n",
       "skinparam wrapWidth 300\r\n",
       "hide circle\r\n",
       "\r\n",
       "rec usage \"eVehicle: Part\" as E1  {\r\n",
       "rec usage \"body: Part\" as E2  {\r\n",
       "}\r\n",
       "rec usage \"battery: Part\" as E3  {\r\n",
       "portin \"powerOut: Port\" as E4  <<port>> \r\n",
       "}\r\n",
       "rec usage \"engine: Part\" as E5  {\r\n",
       "portin \"powerIn: Port\" as E6  <<port>> \r\n",
       "}\r\n",
       "rec usage \"frontAxis: Part\" as E7  {\r\n",
       "}\r\n",
       "rec usage \"rearAxis: Part\" as E8  {\r\n",
       "}\r\n",
       "rec usage \"frontWheel: Wheel\" as E9  {\r\n",
       "}\r\n",
       "rec usage \"rearWheel: Wheel\" as E10  {\r\n",
       "}\r\n",
       "}\r\n",
       "E6 -[thickness=3]- E4\r\n",
       "E7 -[thickness=3]- E5\r\n",
       "E9 -[thickness=3]- E7\r\n",
       "E10 -[thickness=3]- E8\r\n",
       "E3 -[thickness=3]- E2\r\n",
       "E5 -[thickness=3]- E2\r\n",
       "E7 -[thickness=3]- E2\r\n",
       "E8 -[thickness=3]- E2\r\n",
       "@enduml\r\n",
       "\n",
       "PlantUML version 1.2020.13(Sat Jun 13 14:26:38 CEST 2020)\n",
       "(EPL source distribution)\n",
       "Java Runtime: OpenJDK Runtime Environment\n",
       "JVM: OpenJDK 64-Bit Server VM\n",
       "Default Encoding: Cp1252\n",
       "Language: en\n",
       "Country: US\n",
       "--></g></svg>"
      ]
     },
     "execution_count": 28,
     "metadata": {},
     "output_type": "execute_result"
    }
   ],
   "source": [
    "%viz --view=interconnection eVehicle_LogicalArchitecture::eVehicle"
   ]
  },
  {
   "cell_type": "markdown",
   "metadata": {},
   "source": [
    "The ports *powerIn* and *powerOut* have no types respectively the SysML v2 library element *Port* as default type. The consistent usage/definition pattern applies here as well. The port is a usage. With a PortDef the interaction point can be defined. In this example it is a good candidate for a model library.\n",
    "\n",
    "The port only specifies the interaction point. The interface defines the connection between interaction points. The *PowerOutPort* is conjugated for the *consumerPort* port."
   ]
  },
  {
   "cell_type": "code",
   "execution_count": 25,
   "metadata": {},
   "outputs": [
    {
     "data": {
      "text/plain": [
       "Package eVehicleLibrary (224a6ab4-e716-420d-a61b-38559e934f80)\n"
      ]
     },
     "execution_count": 25,
     "metadata": {},
     "output_type": "execute_result"
    }
   ],
   "source": [
    "package eVehicleLibrary {\n",
    "    \n",
    "    attribute def ElectricCurrent;\n",
    "    \n",
    "    port def PowerOutPort {\n",
    "        out power : ElectricCurrent;\n",
    "    }\n",
    "    \n",
    "    interface def PowerInterface {\n",
    "        end supplierPort : PowerOutPort;\n",
    "        end consumerPort : ~PowerOutPort;\n",
    "    }\n",
    "}"
   ]
  },
  {
   "cell_type": "markdown",
   "metadata": {},
   "source": [
    "Next, the definitions of the port and the interface are applied to the model. "
   ]
  },
  {
   "cell_type": "code",
   "execution_count": 27,
   "metadata": {},
   "outputs": [
    {
     "data": {
      "text/plain": [
       "Package eVehicle_LogicalArchitecture (d8c72875-1b6f-460f-bd4b-846cbc5b0636)\n"
      ]
     },
     "execution_count": 27,
     "metadata": {},
     "output_type": "execute_result"
    }
   ],
   "source": [
    "package eVehicle_LogicalArchitecture {\n",
    "       \n",
    "    import eVehicle_Definitions::*;\n",
    "    import eVehicleLibrary::*;\n",
    "    \n",
    "    part eVehicle {    \n",
    "        part body;\n",
    "        part battery {\n",
    "            port powerOut : PowerOutPort;\n",
    "        }\n",
    "        part engine {\n",
    "            port powerIn : ~PowerOutPort;\n",
    "        }\n",
    "        part frontAxis;\n",
    "        part rearAxis;\n",
    "        part frontWheel : Wheel[2];\n",
    "        part rearWheel : Wheel[2];\n",
    "        \n",
    "        interface : PowerInterface connect \n",
    "            supplierPort => battery::powerOut to \n",
    "            consumerPort => engine::powerIn;\n",
    "        connect engine to frontAxis;\n",
    "        connect frontAxis to frontWheel;\n",
    "        connect rearAxis to rearWheel;\n",
    "        connect body to battery;\n",
    "        connect body to engine;\n",
    "        connect body to frontAxis;\n",
    "        connect body to rearAxis;\n",
    "    }\n",
    "}"
   ]
  },
  {
   "cell_type": "code",
   "execution_count": 28,
   "metadata": {},
   "outputs": [
    {
     "data": {
      "image/svg+xml": [
       "<?xml version=\"1.0\" encoding=\"UTF-8\" standalone=\"no\"?><svg xmlns=\"http://www.w3.org/2000/svg\" xmlns:xlink=\"http://www.w3.org/1999/xlink\" contentScriptType=\"application/ecmascript\" contentStyleType=\"text/css\" height=\"388px\" preserveAspectRatio=\"none\" style=\"width:554px;height:388px;\" version=\"1.1\" viewBox=\"0 0 554 388\" width=\"554px\" zoomAndPan=\"magnify\"><defs/><g><!--MD5=[fbc87193dbaf4d95561dea2c320d4a47]\n",
       "cluster E1--><rect fill=\"#F8F8F8\" height=\"370\" rx=\"12.5\" ry=\"12.5\" style=\"stroke: #000000; stroke-width: 1.5;\" width=\"535\" x=\"7\" y=\"7\"/><rect fill=\"#FFFFFF\" height=\"336.3906\" rx=\"12.5\" ry=\"12.5\" style=\"stroke: #FFFFFF; stroke-width: 1.0;\" width=\"529\" x=\"10\" y=\"37.6094\"/><line style=\"stroke: #000000; stroke-width: 1.5;\" x1=\"7\" x2=\"542\" y1=\"34.6094\" y2=\"34.6094\"/><text fill=\"#000000\" font-family=\"sans-serif\" font-size=\"14\" lengthAdjust=\"spacingAndGlyphs\" textLength=\"88\" x=\"230.5\" y=\"25.5332\">eVehicle: Part</text><!--MD5=[d5e69f78d87373223dbae638b30a9c99]\n",
       "cluster E3--><rect fill=\"#F8F8F8\" height=\"110\" rx=\"12.5\" ry=\"12.5\" style=\"stroke: #000000; stroke-width: 1.5;\" width=\"118\" x=\"400\" y=\"185\"/><rect fill=\"#FFFFFF\" height=\"76.3906\" rx=\"12.5\" ry=\"12.5\" style=\"stroke: #FFFFFF; stroke-width: 1.0;\" width=\"112\" x=\"403\" y=\"215.6094\"/><line style=\"stroke: #000000; stroke-width: 1.5;\" x1=\"400\" x2=\"518\" y1=\"212.6094\" y2=\"212.6094\"/><text fill=\"#000000\" font-family=\"sans-serif\" font-size=\"14\" lengthAdjust=\"spacingAndGlyphs\" textLength=\"78\" x=\"420\" y=\"204.5332\">battery: Part</text><!--MD5=[de5ec2e2e8f62f467e546659f5068c88]\n",
       "cluster E5--><rect fill=\"#F8F8F8\" height=\"93\" rx=\"12.5\" ry=\"12.5\" style=\"stroke: #000000; stroke-width: 1.5;\" width=\"117\" x=\"210\" y=\"126\"/><rect fill=\"#FFFFFF\" height=\"59.3906\" rx=\"12.5\" ry=\"12.5\" style=\"stroke: #FFFFFF; stroke-width: 1.0;\" width=\"111\" x=\"213\" y=\"156.6094\"/><line style=\"stroke: #000000; stroke-width: 1.5;\" x1=\"210\" x2=\"327\" y1=\"153.6094\" y2=\"153.6094\"/><text fill=\"#000000\" font-family=\"sans-serif\" font-size=\"14\" lengthAdjust=\"spacingAndGlyphs\" textLength=\"77\" x=\"230\" y=\"145.5332\">engine: Part</text><g id=\"E1.E2\"><rect fill=\"#FFFFFF\" height=\"50\" rx=\"12.5\" ry=\"12.5\" style=\"stroke: #383838; stroke-width: 1.5;\" width=\"85\" x=\"181.5\" y=\"311\"/><line style=\"stroke: #383838; stroke-width: 1.5;\" x1=\"181.5\" x2=\"266.5\" y1=\"338.6094\" y2=\"338.6094\"/><text fill=\"#000000\" font-family=\"sans-serif\" font-size=\"14\" lengthAdjust=\"spacingAndGlyphs\" textLength=\"65\" x=\"191.5\" y=\"330.5332\">body: Part</text></g><text fill=\"#000000\" font-family=\"sans-serif\" font-size=\"14\" lengthAdjust=\"spacingAndGlyphs\" textLength=\"157\" x=\"339.5\" y=\"163.9238\">powerOut: PowerOutPort</text><rect fill=\"#383838\" height=\"12\" style=\"stroke: #F8F8F8; stroke-width: 1.5;\" width=\"12\" x=\"412\" y=\"179\"/><text fill=\"#000000\" font-family=\"sans-serif\" font-size=\"14\" lengthAdjust=\"spacingAndGlyphs\" textLength=\"153\" x=\"232.5\" y=\"104.9238\">powerIn: ~PowerOutPort</text><rect fill=\"#383838\" height=\"12\" style=\"stroke: #F8F8F8; stroke-width: 1.5;\" width=\"12\" x=\"303\" y=\"120\"/><g id=\"E1.E7\"><rect fill=\"#FFFFFF\" height=\"50\" rx=\"12.5\" ry=\"12.5\" style=\"stroke: #383838; stroke-width: 1.5;\" width=\"108\" x=\"86\" y=\"101\"/><line style=\"stroke: #383838; stroke-width: 1.5;\" x1=\"86\" x2=\"194\" y1=\"128.6094\" y2=\"128.6094\"/><text fill=\"#000000\" font-family=\"sans-serif\" font-size=\"14\" lengthAdjust=\"spacingAndGlyphs\" textLength=\"88\" x=\"96\" y=\"120.5332\">frontAxis: Part</text></g><g id=\"E1.E8\"><rect fill=\"#FFFFFF\" height=\"50\" rx=\"12.5\" ry=\"12.5\" style=\"stroke: #383838; stroke-width: 1.5;\" width=\"105\" x=\"44.5\" y=\"236\"/><line style=\"stroke: #383838; stroke-width: 1.5;\" x1=\"44.5\" x2=\"149.5\" y1=\"263.6094\" y2=\"263.6094\"/><text fill=\"#000000\" font-family=\"sans-serif\" font-size=\"14\" lengthAdjust=\"spacingAndGlyphs\" textLength=\"85\" x=\"54.5\" y=\"255.5332\">rearAxis: Part</text></g><g id=\"E1.E9\"><rect fill=\"#FFFFFF\" height=\"50\" rx=\"12.5\" ry=\"12.5\" style=\"stroke: #383838; stroke-width: 1.5;\" width=\"137\" x=\"71.5\" y=\"43\"/><line style=\"stroke: #383838; stroke-width: 1.5;\" x1=\"71.5\" x2=\"208.5\" y1=\"70.6094\" y2=\"70.6094\"/><text fill=\"#000000\" font-family=\"sans-serif\" font-size=\"14\" lengthAdjust=\"spacingAndGlyphs\" textLength=\"117\" x=\"81.5\" y=\"62.5332\">frontWheel: Wheel</text></g><g id=\"E1.E10\"><rect fill=\"#FFFFFF\" height=\"50\" rx=\"12.5\" ry=\"12.5\" style=\"stroke: #383838; stroke-width: 1.5;\" width=\"134\" x=\"23\" y=\"160\"/><line style=\"stroke: #383838; stroke-width: 1.5;\" x1=\"23\" x2=\"157\" y1=\"187.6094\" y2=\"187.6094\"/><text fill=\"#000000\" font-family=\"sans-serif\" font-size=\"14\" lengthAdjust=\"spacingAndGlyphs\" textLength=\"114\" x=\"33\" y=\"179.5332\">rearWheel: Wheel</text></g><!--MD5=[f667431f98296947986a1a7595a31603]\n",
       "link E6 to E4--><path d=\"M315.173,130.228 C334.358,140.261 392.803,170.823 411.895,180.808 \" fill=\"none\" id=\"E6-E4\" style=\"stroke: #383838; stroke-width: 3.0;\"/><!--MD5=[4d1e63f6c5cc89ece832f1e02a2fb60c]\n",
       "link E7 to E5--><path d=\"M194.334,148.354 C196.918,149.269 199.483,150.155 202,151 C205.0675,152.0295 207.5963,152.754 209.8527,153.3342 C209.8879,153.3433 209.9231,153.3523 209.9582,153.3613 \" fill=\"none\" id=\"E7-E5\" style=\"stroke: #383838; stroke-width: 3.0;\"/><!--MD5=[cf04703ca05eebef50f1cfe8b03e143b]\n",
       "link E9 to E7--><path d=\"M140,93.074 C140,95.683 140,98.338 140,100.946 \" fill=\"none\" id=\"E9-E7\" style=\"stroke: #383838; stroke-width: 3.0;\"/><!--MD5=[211124029f8d90d89da20960a30e5017]\n",
       "link E10 to E8--><path d=\"M92.292,210.23 C93.074,218.492 93.947,227.722 94.727,235.968 \" fill=\"none\" id=\"E10-E8\" style=\"stroke: #383838; stroke-width: 3.0;\"/><!--MD5=[05d275557350bfb9b23a4ef7222b4c39]\n",
       "link E3 to E2--><path d=\"M409.9718,295.077 C409.4709,295.411 408.9676,295.7417 408.462,296.0685 C404.4179,298.6831 400.2328,301.056 396,303 C354.597,322.0149 302.662,329.7331 266.751,332.8646 \" fill=\"none\" id=\"E3-E2\" style=\"stroke: #383838; stroke-width: 3.0;\"/><!--MD5=[15ebcb19ae302d9b601edb458606d402]\n",
       "link E5 to E2--><path d=\"M268.3162,219.1554 C268.2043,219.448 268.0919,219.7418 267.979,220.0368 C267.7533,220.6269 267.5257,221.2218 267.2964,221.8214 C266.8376,223.0205 266.3718,224.2381 265.8997,225.4723 C264.9554,227.9408 263.9856,230.4757 262.9963,233.0618 C261.0176,238.2341 258.9605,243.6115 256.8713,249.0729 C248.5143,270.9183 239.6435,294.1065 233.226,310.882 \" fill=\"none\" id=\"E5-E2\" style=\"stroke: #383838; stroke-width: 3.0;\"/><!--MD5=[583832df87f4419a098336a29a52fa00]\n",
       "link E7 to E2--><path d=\"M168.494,151.368 C170.526,153.812 172.4,156.368 174,159 C203.785,207.992 216.425,275.393 221.29,310.8884 \" fill=\"none\" id=\"E7-E2\" style=\"stroke: #383838; stroke-width: 3.0;\"/><!--MD5=[f1f3f9f2fc535e6147756cb86a7f2e32]\n",
       "link E8 to E2--><path d=\"M138.937,286.105 C152.809,294.079 168.239,302.9482 182.108,310.9201 \" fill=\"none\" id=\"E8-E2\" style=\"stroke: #383838; stroke-width: 3.0;\"/><!--MD5=[06ea76498fc3d30330a0c1e379fef06d]\n",
       "@startuml\r\n",
       "skinparam ranksep 8\r\n",
       "skinparam rectangle {\r\n",
       " backgroundColor<<block>> LightGreen\r\n",
       "}\r\n",
       "skinparam monochrome true\r\n",
       "skinparam classbackgroundcolor white\r\n",
       "skinparam shadowing false\r\n",
       "skinparam wrapWidth 300\r\n",
       "hide circle\r\n",
       "\r\n",
       "rec usage \"eVehicle: Part\" as E1  {\r\n",
       "rec usage \"body: Part\" as E2  {\r\n",
       "}\r\n",
       "rec usage \"battery: Part\" as E3  {\r\n",
       "portin \"powerOut: PowerOutPort\" as E4  <<port>> \r\n",
       "}\r\n",
       "rec usage \"engine: Part\" as E5  {\r\n",
       "portin \"powerIn: ~PowerOutPort\" as E6  <<port>> \r\n",
       "}\r\n",
       "rec usage \"frontAxis: Part\" as E7  {\r\n",
       "}\r\n",
       "rec usage \"rearAxis: Part\" as E8  {\r\n",
       "}\r\n",
       "rec usage \"frontWheel: Wheel\" as E9  {\r\n",
       "}\r\n",
       "rec usage \"rearWheel: Wheel\" as E10  {\r\n",
       "}\r\n",
       "}\r\n",
       "E6 -[thickness=3]- E4\r\n",
       "E7 -[thickness=3]- E5\r\n",
       "E9 -[thickness=3]- E7\r\n",
       "E10 -[thickness=3]- E8\r\n",
       "E3 -[thickness=3]- E2\r\n",
       "E5 -[thickness=3]- E2\r\n",
       "E7 -[thickness=3]- E2\r\n",
       "E8 -[thickness=3]- E2\r\n",
       "@enduml\r\n",
       "\n",
       "PlantUML version 1.2020.13(Sat Jun 13 14:26:38 CEST 2020)\n",
       "(EPL source distribution)\n",
       "Java Runtime: OpenJDK Runtime Environment\n",
       "JVM: OpenJDK 64-Bit Server VM\n",
       "Default Encoding: Cp1252\n",
       "Language: en\n",
       "Country: US\n",
       "--></g></svg>"
      ]
     },
     "execution_count": 28,
     "metadata": {},
     "output_type": "execute_result"
    }
   ],
   "source": [
    "%viz --view=interconnection eVehicle_LogicalArchitecture::eVehicle"
   ]
  },
  {
   "cell_type": "markdown",
   "metadata": {},
   "source": [
    "## Modeling variants"
   ]
  },
  {
   "cell_type": "markdown",
   "metadata": {},
   "source": [
    "## Satisfying requirements"
   ]
  },
  {
   "cell_type": "markdown",
   "metadata": {},
   "source": [
    "# SysML v2 MBSE Methodologies JupyterBook\n",
    "\n",
    "This chapter covers the impact of SysML v2 on MBSE methodologies.\n",
    "\n",
    "Which methods continue to work well and which would need to be adapted? Theoretically, the methodologies have been developed independently of the SysML language, but definitely with a focus on SysML v1.\n",
    "\n",
    "New features of SysML v2 can also lead to new methods in the methodologies.\n"
   ]
  },
  {
   "cell_type": "markdown",
   "metadata": {},
   "source": [
    "## SYSMOD with SysML v2\n",
    "\n",
    "The example is taken from the book [SYSMOD - The Systems Modeling Toolbox](https://leanpub.com/sysmod). It is a Forest Fire Detection System (FFDS)."
   ]
  },
  {
   "cell_type": "markdown",
   "metadata": {},
   "source": [
    "### System Idea and System Objectives\n",
    "\n",
    "The language extension of SysML v2 is still under development. Until it is available, I use a simplified approach to introduce SYSMOD concepts into the language. \n",
    "\n",
    "The following SysML v2 code defines the SYSMOD concepts of a *system* and an *objective*. They are applied to define the forest fire detection system element including the problem statement and the system idea, and the three system objectives.\n"
   ]
  },
  {
   "cell_type": "code",
   "execution_count": 1,
   "metadata": {},
   "outputs": [
    {
     "data": {
      "text/plain": [
       "Package SYSMOD (95e4c6df-a0bf-4b6c-86f7-6231b8db65b0)\n"
      ]
     },
     "execution_count": 1,
     "metadata": {},
     "output_type": "execute_result"
    }
   ],
   "source": [
    "package SYSMOD {\n",
    "\n",
    "    doc /* SYSMOD - The Systems Modeling Toolbox, Version 5.0beta */\n",
    "        \n",
    "    requirement def Objective {\n",
    "        doc /* A objective is an objective of the system. It is a special kind of a requirement that is typically not satisfied but amplified by the system. */\n",
    "    }\n",
    "    \n",
    "    part def System {\n",
    "        doc /* Marks the system under development. Typically there is only one block in the model with that stereotype. However in a System of Systems (SoS) model there could be more. */\n",
    "        import ScalarValues::String;\n",
    "        attribute problemStatement : String;\n",
    "        attribute systemIdea : String;\n",
    "    }\n",
    "}"
   ]
  },
  {
   "cell_type": "code",
   "execution_count": 3,
   "metadata": {},
   "outputs": [
    {
     "data": {
      "image/svg+xml": [
       "<?xml version=\"1.0\" encoding=\"UTF-8\" standalone=\"no\"?><svg xmlns=\"http://www.w3.org/2000/svg\" xmlns:xlink=\"http://www.w3.org/1999/xlink\" contentScriptType=\"application/ecmascript\" contentStyleType=\"text/css\" height=\"276px\" preserveAspectRatio=\"none\" style=\"width:547px;height:276px;\" version=\"1.1\" viewBox=\"0 0 547 276\" width=\"547px\" zoomAndPan=\"magnify\"><defs/><g><!--MD5=[fbc87193dbaf4d95561dea2c320d4a47]\n",
       "cluster E1--><polygon fill=\"#FFFFFF\" points=\"16,6,84,6,91,29.6094,525,29.6094,525,264,16,264,16,6\" style=\"stroke: #000000; stroke-width: 1.5;\"/><line style=\"stroke: #000000; stroke-width: 1.5;\" x1=\"16\" x2=\"91\" y1=\"29.6094\" y2=\"29.6094\"/><text fill=\"#000000\" font-family=\"sans-serif\" font-size=\"14\" font-weight=\"bold\" lengthAdjust=\"spacingAndGlyphs\" textLength=\"62\" x=\"20\" y=\"22.5332\">SYSMOD</text><!--MD5=[b4997ac47864f28c2f74865a473b2911]\n",
       "class E2--><rect fill=\"#FFFFFF\" height=\"97.6953\" id=\"E2\" style=\"stroke: #383838; stroke-width: 1.5;\" width=\"310\" x=\"199\" y=\"42\"/><text fill=\"#000000\" font-family=\"sans-serif\" font-size=\"12\" font-style=\"italic\" lengthAdjust=\"spacingAndGlyphs\" textLength=\"101\" x=\"303.5\" y=\"59.457\">«requirement def»</text><text fill=\"#000000\" font-family=\"sans-serif\" font-size=\"12\" lengthAdjust=\"spacingAndGlyphs\" textLength=\"50\" x=\"329\" y=\"74.5508\">Objective</text><line style=\"stroke: #383838; stroke-width: 1.5;\" x1=\"200\" x2=\"508\" y1=\"82.1875\" y2=\"82.1875\"/><text fill=\"#000000\" font-family=\"sans-serif\" font-size=\"11\" lengthAdjust=\"spacingAndGlyphs\" textLength=\"298\" x=\"205\" y=\"97.6064\">A objective is an objective of the system. It is a special kind of</text><text fill=\"#000000\" font-family=\"sans-serif\" font-size=\"11\" lengthAdjust=\"spacingAndGlyphs\" textLength=\"298\" x=\"205\" y=\"111.4424\">a requirement that is typically not satisfied but amplified by the</text><text fill=\"#000000\" font-family=\"sans-serif\" font-size=\"11\" lengthAdjust=\"spacingAndGlyphs\" textLength=\"38\" x=\"205\" y=\"125.2783\">system.</text><line style=\"stroke: #383838; stroke-width: 1.0;\" x1=\"200\" x2=\"508\" y1=\"131.6953\" y2=\"131.6953\"/><!--MD5=[09b614a08d8cba4a07c9adeb5e0fee81]\n",
       "class E3--><rect fill=\"#FFFFFF\" height=\"75.8594\" id=\"E3\" style=\"stroke: #383838; stroke-width: 1.5;\" width=\"132\" x=\"32\" y=\"53\"/><text fill=\"#000000\" font-family=\"sans-serif\" font-size=\"12\" font-style=\"italic\" lengthAdjust=\"spacingAndGlyphs\" textLength=\"55\" x=\"70.5\" y=\"70.457\">«part def»</text><text fill=\"#000000\" font-family=\"sans-serif\" font-size=\"12\" lengthAdjust=\"spacingAndGlyphs\" textLength=\"41\" x=\"77.5\" y=\"85.5508\">System</text><line style=\"stroke: #383838; stroke-width: 1.5;\" x1=\"33\" x2=\"163\" y1=\"93.1875\" y2=\"93.1875\"/><text fill=\"#000000\" font-family=\"sans-serif\" font-size=\"11\" lengthAdjust=\"spacingAndGlyphs\" textLength=\"120\" x=\"38\" y=\"108.6064\">problemStatement: String</text><text fill=\"#000000\" font-family=\"sans-serif\" font-size=\"11\" lengthAdjust=\"spacingAndGlyphs\" textLength=\"89\" x=\"38\" y=\"122.4424\">systemIdea: String</text><!--MD5=[ebbe1d658d1005bcc118a6aa81145e00]\n",
       "class E4--><rect fill=\"#FFFFFF\" height=\"48.1875\" id=\"E4\" style=\"stroke: #383838; stroke-width: 1.5;\" width=\"67\" x=\"64.5\" y=\"200\"/><text fill=\"#000000\" font-family=\"sans-serif\" font-size=\"12\" font-style=\"italic\" lengthAdjust=\"spacingAndGlyphs\" textLength=\"65\" x=\"65.5\" y=\"217.457\">«dataType»</text><text fill=\"#000000\" font-family=\"sans-serif\" font-size=\"12\" lengthAdjust=\"spacingAndGlyphs\" textLength=\"32\" x=\"82\" y=\"232.5508\">String</text><line style=\"stroke: #383838; stroke-width: 1.5;\" x1=\"65.5\" x2=\"130.5\" y1=\"240.1875\" y2=\"240.1875\"/><!--MD5=[4672eba38e49728da53d11aeb285b987]\n",
       "reverse link E3 to E4--><path d=\"M98,144.45 C98,163.641 98,184.3895 98,199.7402 \" fill=\"none\" id=\"E3&lt;-E4\" style=\"stroke: #383838; stroke-width: 1.0;\"/><ellipse cx=\"98\" cy=\"137.189\" fill=\"#FFFFFF\" rx=\"8\" ry=\"8\" style=\"stroke: #383838; stroke-width: 1.0;\"/><line style=\"stroke: #383838; stroke-width: 1.0;\" x1=\"98\" x2=\"98\" y1=\"145.189\" y2=\"129.189\"/><line style=\"stroke: #383838; stroke-width: 1.0;\" x1=\"90\" x2=\"106\" y1=\"137.189\" y2=\"137.189\"/><!--MD5=[43618b965b422309cada9576099c2efb]\n",
       "@startuml\r\n",
       "skinparam monochrome true\r\n",
       "skinparam classbackgroundcolor white\r\n",
       "skinparam shadowing false\r\n",
       "skinparam wrapWidth 300\r\n",
       "hide circle\r\n",
       "\r\n",
       "package \"SYSMOD\" as E1   {\r\n",
       "comp def \"Objective\" as E2  <<(T,blue)requirement def>> {\r\n",
       "A objective is an objective of the system. It is a special kind of a requirement that is typically not satisfied but amplified by the system.\r\n",
       "- -\r\n",
       "}\r\n",
       "comp def \"System\" as E3  <<(T,blue)part def>> {\r\n",
       "problemStatement: String\r\n",
       "systemIdea: String\r\n",
       "}\r\n",
       "comp def \"String\" as E4  <<(T,blue)dataType>> {\r\n",
       "}\r\n",
       "E3 +- - E4\r\n",
       "}\r\n",
       "@enduml\r\n",
       "\n",
       "PlantUML version 1.2020.13(Sat Jun 13 14:26:38 CEST 2020)\n",
       "(EPL source distribution)\n",
       "Java Runtime: OpenJDK Runtime Environment\n",
       "JVM: OpenJDK 64-Bit Server VM\n",
       "Default Encoding: Cp1252\n",
       "Language: en\n",
       "Country: US\n",
       "--></g></svg>"
      ]
     },
     "execution_count": 3,
     "metadata": {},
     "output_type": "execute_result"
    }
   ],
   "source": [
    "%viz SYSMOD"
   ]
  },
  {
   "cell_type": "code",
   "execution_count": 4,
   "metadata": {},
   "outputs": [
    {
     "data": {
      "text/plain": [
       "Package ForestFireDetectionSystemModel (a5984a82-cf9e-497a-9288-b45ce3513cb8)\n"
      ]
     },
     "execution_count": 4,
     "metadata": {},
     "output_type": "execute_result"
    }
   ],
   "source": [
    "package ForestFireDetectionSystemModel {\n",
    "    \n",
    "    import SYSMOD::*;\n",
    "    \n",
    "    package FFDS_Core {\n",
    "    \n",
    "        part FFDS : System {\n",
    "            \n",
    "            attribute redefines problemStatement = \"How can we provide a forest fire detection system for forest authorities that can be scaled to any forest size, is affordable, highly reliable and accurate in detecting forest fires.\";\n",
    "            attribute redefines systemIdea = \"The FFDS is a satellite-based system to detect forest fires in very large areas. The system is also equipped with stationary sensors and animal sensors. Using different sources for the fire detection increases the reliability of the system and enables different system configurations for different environmental contexts and price segments. Main features of the FFDS are Detecting and reporting forest fires on time Monitoring forest and fires Uses the behavior of forest animals to detect fires\";\n",
    "        }\n",
    "        \n",
    "        package FFDS_Requirements {\n",
    "            package FFDS_Objectives {\n",
    "                requirement id 'OBJ-B1' 'Market Leader' : Objective {\n",
    "                    doc /* The system will make the vendor the market leader for forest fire detection systems. */\n",
    "                }\n",
    "                requirement id 'OBJ-S1' 'Reliable Detection' : Objective {\n",
    "                    doc /* Any forest fire is detected by the system on time to start effective counteractions. */\n",
    "                }\n",
    "                requirement id 'OBJ-S2' 'Affordability' : Objective {\n",
    "                    doc /* The system is affordable for any forest authority. */\n",
    "                }                               \n",
    "            }\n",
    "        }\n",
    "    }\n",
    "}"
   ]
  },
  {
   "cell_type": "code",
   "execution_count": 5,
   "metadata": {},
   "outputs": [
    {
     "data": {
      "image/svg+xml": [
       "<?xml version=\"1.0\" encoding=\"UTF-8\" standalone=\"no\"?><svg xmlns=\"http://www.w3.org/2000/svg\" xmlns:xlink=\"http://www.w3.org/1999/xlink\" contentScriptType=\"application/ecmascript\" contentStyleType=\"text/css\" height=\"396px\" preserveAspectRatio=\"none\" style=\"width:1450px;height:396px;\" version=\"1.1\" viewBox=\"0 0 1450 396\" width=\"1450px\" zoomAndPan=\"magnify\"><defs/><g><!--MD5=[fbc87193dbaf4d95561dea2c320d4a47]\n",
       "cluster E1--><polygon fill=\"#FFFFFF\" points=\"16,6,258,6,265,29.6094,1428,29.6094,1428,384,16,384,16,6\" style=\"stroke: #000000; stroke-width: 1.5;\"/><line style=\"stroke: #000000; stroke-width: 1.5;\" x1=\"16\" x2=\"265\" y1=\"29.6094\" y2=\"29.6094\"/><text fill=\"#000000\" font-family=\"sans-serif\" font-size=\"14\" font-weight=\"bold\" lengthAdjust=\"spacingAndGlyphs\" textLength=\"236\" x=\"20\" y=\"22.5332\">ForestFireDetectionSystemModel</text><!--MD5=[e4f7fae6ed58524ba242bb0b0d3be6b7]\n",
       "cluster E2--><polygon fill=\"#FFFFFF\" points=\"40,50,125,50,132,73.6094,1404,73.6094,1404,360,40,360,40,50\" style=\"stroke: #000000; stroke-width: 1.5;\"/><line style=\"stroke: #000000; stroke-width: 1.5;\" x1=\"40\" x2=\"132\" y1=\"73.6094\" y2=\"73.6094\"/><text fill=\"#000000\" font-family=\"sans-serif\" font-size=\"14\" font-weight=\"bold\" lengthAdjust=\"spacingAndGlyphs\" textLength=\"79\" x=\"44\" y=\"66.5332\">FFDS_Core</text><!--MD5=[f6df4d0ebaf0b5dfb2ced0ae5af7c670]\n",
       "cluster E4--><polygon fill=\"#FFFFFF\" points=\"384,94,534,94,541,117.6094,1380,117.6094,1380,298,384,298,384,94\" style=\"stroke: #000000; stroke-width: 1.5;\"/><line style=\"stroke: #000000; stroke-width: 1.5;\" x1=\"384\" x2=\"541\" y1=\"117.6094\" y2=\"117.6094\"/><text fill=\"#000000\" font-family=\"sans-serif\" font-size=\"14\" font-weight=\"bold\" lengthAdjust=\"spacingAndGlyphs\" textLength=\"144\" x=\"388\" y=\"110.5332\">FFDS_Requirements</text><!--MD5=[de5ec2e2e8f62f467e546659f5068c88]\n",
       "cluster E5--><polygon fill=\"#FFFFFF\" points=\"408,138,535,138,542,161.6094,1356,161.6094,1356,274,408,274,408,138\" style=\"stroke: #000000; stroke-width: 1.5;\"/><line style=\"stroke: #000000; stroke-width: 1.5;\" x1=\"408\" x2=\"542\" y1=\"161.6094\" y2=\"161.6094\"/><text fill=\"#000000\" font-family=\"sans-serif\" font-size=\"14\" font-weight=\"bold\" lengthAdjust=\"spacingAndGlyphs\" textLength=\"121\" x=\"412\" y=\"154.5332\">FFDS_Objectives</text><!--MD5=[09b614a08d8cba4a07c9adeb5e0fee81]\n",
       "class E3--><rect fill=\"#FFFFFF\" height=\"255.7266\" id=\"E3\" rx=\"10\" ry=\"10\" style=\"stroke: #383838; stroke-width: 1.5;\" width=\"312\" x=\"56\" y=\"88\"/><text fill=\"#000000\" font-family=\"sans-serif\" font-size=\"12\" font-style=\"italic\" lengthAdjust=\"spacingAndGlyphs\" textLength=\"35\" x=\"194.5\" y=\"105.457\">«part»</text><text fill=\"#000000\" font-family=\"sans-serif\" font-size=\"12\" lengthAdjust=\"spacingAndGlyphs\" textLength=\"78\" x=\"173\" y=\"120.5508\">FFDS: System</text><line style=\"stroke: #383838; stroke-width: 1.5;\" x1=\"57\" x2=\"367\" y1=\"128.1875\" y2=\"128.1875\"/><text fill=\"#000000\" font-family=\"sans-serif\" font-size=\"11\" lengthAdjust=\"spacingAndGlyphs\" textLength=\"295\" x=\"62\" y=\"143.6064\">problemStatement: String= \"How can we provide a forest fire</text><text fill=\"#000000\" font-family=\"sans-serif\" font-size=\"11\" lengthAdjust=\"spacingAndGlyphs\" textLength=\"288\" x=\"62\" y=\"157.4424\">detection system for forest authorities that can be scaled to</text><text fill=\"#000000\" font-family=\"sans-serif\" font-size=\"11\" lengthAdjust=\"spacingAndGlyphs\" textLength=\"289\" x=\"62\" y=\"171.2783\">any forest size, is affordable, highly reliable and accurate in</text><text fill=\"#000000\" font-family=\"sans-serif\" font-size=\"11\" lengthAdjust=\"spacingAndGlyphs\" textLength=\"111\" x=\"62\" y=\"185.1143\">detecting forest fires.\";</text><text fill=\"#000000\" font-family=\"sans-serif\" font-size=\"11\" font-style=\"italic\" lengthAdjust=\"spacingAndGlyphs\" textLength=\"147\" x=\"62\" y=\"198.9502\">:&gt;&gt;System::problemStatement</text><text fill=\"#000000\" font-family=\"sans-serif\" font-size=\"11\" lengthAdjust=\"spacingAndGlyphs\" textLength=\"292\" x=\"62\" y=\"212.7861\">systemIdea: String= \"The FFDS is a satellite-based system to</text><text fill=\"#000000\" font-family=\"sans-serif\" font-size=\"11\" lengthAdjust=\"spacingAndGlyphs\" textLength=\"277\" x=\"62\" y=\"226.6221\">detect forest fires in very large areas. The system is also</text><text fill=\"#000000\" font-family=\"sans-serif\" font-size=\"11\" lengthAdjust=\"spacingAndGlyphs\" textLength=\"292\" x=\"62\" y=\"240.458\">equipped with stationary sensors and animal sensors. Using</text><text fill=\"#000000\" font-family=\"sans-serif\" font-size=\"11\" lengthAdjust=\"spacingAndGlyphs\" textLength=\"298\" x=\"62\" y=\"254.2939\">different sources for the fire detection increases the reliability</text><text fill=\"#000000\" font-family=\"sans-serif\" font-size=\"11\" lengthAdjust=\"spacingAndGlyphs\" textLength=\"299\" x=\"62\" y=\"268.1299\">of the system and enables different system configurations for</text><text fill=\"#000000\" font-family=\"sans-serif\" font-size=\"11\" lengthAdjust=\"spacingAndGlyphs\" textLength=\"282\" x=\"62\" y=\"281.9658\">different environmental contexts and price segments. Main</text><text fill=\"#000000\" font-family=\"sans-serif\" font-size=\"11\" lengthAdjust=\"spacingAndGlyphs\" textLength=\"292\" x=\"62\" y=\"295.8018\">features of the FFDS are Detecting and reporting forest fires</text><text fill=\"#000000\" font-family=\"sans-serif\" font-size=\"11\" lengthAdjust=\"spacingAndGlyphs\" textLength=\"300\" x=\"62\" y=\"309.6377\">on time Monitoring forest and fires Uses the behavior of forest</text><text fill=\"#000000\" font-family=\"sans-serif\" font-size=\"11\" lengthAdjust=\"spacingAndGlyphs\" textLength=\"113\" x=\"62\" y=\"323.4736\">animals to detect fires\";</text><text fill=\"#000000\" font-family=\"sans-serif\" font-size=\"11\" font-style=\"italic\" lengthAdjust=\"spacingAndGlyphs\" textLength=\"113\" x=\"62\" y=\"337.3096\">:&gt;&gt;System::systemIdea</text><!--MD5=[60a26617385b1d2d0262a64233df1f8d]\n",
       "class E6--><rect fill=\"#FFFFFF\" height=\"83.8594\" id=\"E6\" rx=\"10\" ry=\"10\" style=\"stroke: #383838; stroke-width: 1.5;\" width=\"308\" x=\"1032\" y=\"174\"/><text fill=\"#000000\" font-family=\"sans-serif\" font-size=\"12\" font-style=\"italic\" lengthAdjust=\"spacingAndGlyphs\" textLength=\"81\" x=\"1145.5\" y=\"191.457\">«requirement»</text><text fill=\"#000000\" font-family=\"sans-serif\" font-size=\"12\" lengthAdjust=\"spacingAndGlyphs\" textLength=\"3\" x=\"1094.5\" y=\"206.5508\">[</text><text fill=\"#000000\" font-family=\"sans-serif\" font-size=\"12\" font-weight=\"bold\" lengthAdjust=\"spacingAndGlyphs\" textLength=\"43\" x=\"1097.5\" y=\"206.5508\">OBJ-B1</text><text fill=\"#000000\" font-family=\"sans-serif\" font-size=\"12\" lengthAdjust=\"spacingAndGlyphs\" textLength=\"140\" x=\"1140.5\" y=\"206.5508\">] Market Leader: Objective</text><line style=\"stroke: #383838; stroke-width: 1.5;\" x1=\"1033\" x2=\"1339\" y1=\"214.1875\" y2=\"214.1875\"/><text fill=\"#000000\" font-family=\"sans-serif\" font-size=\"11\" lengthAdjust=\"spacingAndGlyphs\" textLength=\"293\" x=\"1038\" y=\"229.6064\">The system will make the vendor the market leader for forest</text><text fill=\"#000000\" font-family=\"sans-serif\" font-size=\"11\" lengthAdjust=\"spacingAndGlyphs\" textLength=\"110\" x=\"1038\" y=\"243.4424\">fire detection systems.</text><line style=\"stroke: #383838; stroke-width: 1.0;\" x1=\"1033\" x2=\"1339\" y1=\"249.8594\" y2=\"249.8594\"/><!--MD5=[2156ba9850f5573cc1fc38a6a4b2f02b]\n",
       "class E7--><rect fill=\"#FFFFFF\" height=\"83.8594\" id=\"E7\" rx=\"10\" ry=\"10\" style=\"stroke: #383838; stroke-width: 1.5;\" width=\"287\" x=\"709.5\" y=\"174\"/><text fill=\"#000000\" font-family=\"sans-serif\" font-size=\"12\" font-style=\"italic\" lengthAdjust=\"spacingAndGlyphs\" textLength=\"81\" x=\"812.5\" y=\"191.457\">«requirement»</text><text fill=\"#000000\" font-family=\"sans-serif\" font-size=\"12\" lengthAdjust=\"spacingAndGlyphs\" textLength=\"3\" x=\"750\" y=\"206.5508\">[</text><text fill=\"#000000\" font-family=\"sans-serif\" font-size=\"12\" font-weight=\"bold\" lengthAdjust=\"spacingAndGlyphs\" textLength=\"43\" x=\"753\" y=\"206.5508\">OBJ-S1</text><text fill=\"#000000\" font-family=\"sans-serif\" font-size=\"12\" lengthAdjust=\"spacingAndGlyphs\" textLength=\"163\" x=\"796\" y=\"206.5508\">] Reliable Detection: Objective</text><line style=\"stroke: #383838; stroke-width: 1.5;\" x1=\"710.5\" x2=\"995.5\" y1=\"214.1875\" y2=\"214.1875\"/><text fill=\"#000000\" font-family=\"sans-serif\" font-size=\"11\" lengthAdjust=\"spacingAndGlyphs\" textLength=\"272\" x=\"715.5\" y=\"229.6064\">Any forest fire is detected by the system on time to start</text><text fill=\"#000000\" font-family=\"sans-serif\" font-size=\"11\" lengthAdjust=\"spacingAndGlyphs\" textLength=\"121\" x=\"715.5\" y=\"243.4424\">effective counteractions.</text><line style=\"stroke: #383838; stroke-width: 1.0;\" x1=\"710.5\" x2=\"995.5\" y1=\"249.8594\" y2=\"249.8594\"/><!--MD5=[b9389687b975829384b498ac4b7476b2]\n",
       "class E8--><rect fill=\"#FFFFFF\" height=\"70.0234\" id=\"E8\" rx=\"10\" ry=\"10\" style=\"stroke: #383838; stroke-width: 1.5;\" width=\"250\" x=\"424\" y=\"181\"/><text fill=\"#000000\" font-family=\"sans-serif\" font-size=\"12\" font-style=\"italic\" lengthAdjust=\"spacingAndGlyphs\" textLength=\"81\" x=\"508.5\" y=\"198.457\">«requirement»</text><text fill=\"#000000\" font-family=\"sans-serif\" font-size=\"12\" lengthAdjust=\"spacingAndGlyphs\" textLength=\"3\" x=\"465.5\" y=\"213.5508\">[</text><text fill=\"#000000\" font-family=\"sans-serif\" font-size=\"12\" font-weight=\"bold\" lengthAdjust=\"spacingAndGlyphs\" textLength=\"43\" x=\"468.5\" y=\"213.5508\">OBJ-S2</text><text fill=\"#000000\" font-family=\"sans-serif\" font-size=\"12\" lengthAdjust=\"spacingAndGlyphs\" textLength=\"124\" x=\"511.5\" y=\"213.5508\">] Affordability: Objective</text><line style=\"stroke: #383838; stroke-width: 1.5;\" x1=\"425\" x2=\"673\" y1=\"221.1875\" y2=\"221.1875\"/><text fill=\"#000000\" font-family=\"sans-serif\" font-size=\"11\" lengthAdjust=\"spacingAndGlyphs\" textLength=\"238\" x=\"430\" y=\"236.6064\">The system is affordable for any forest authority.</text><line style=\"stroke: #383838; stroke-width: 1.0;\" x1=\"425\" x2=\"673\" y1=\"243.0234\" y2=\"243.0234\"/><!--MD5=[9fbf1e26b2952a1c514d87993406f0a2]\n",
       "@startuml\r\n",
       "skinparam monochrome true\r\n",
       "skinparam classbackgroundcolor white\r\n",
       "skinparam shadowing false\r\n",
       "skinparam wrapWidth 300\r\n",
       "hide circle\r\n",
       "\r\n",
       "package \"ForestFireDetectionSystemModel\" as E1   {\r\n",
       "package \"FFDS_Core\" as E2   {\r\n",
       "comp usage \"FFDS: System\" as E3  <<(T,blue)part>> {\r\n",
       "problemStatement: String= \"How can we provide a forest fire detection system for forest authorities that can be scaled to any forest size, is affordable, highly reliable and accurate in detecting forest fires.\"; \\n//:>>System::problemStatement// \r\n",
       "systemIdea: String= \"The FFDS is a satellite-based system to detect forest fires in very large areas. The system is also equipped with stationary sensors and animal sensors. Using different sources for the fire detection increases the reliability of the system and enables different system configurations for different environmental contexts and price segments. Main features of the FFDS are Detecting and reporting forest fires on time Monitoring forest and fires Uses the behavior of forest animals to detect fires\"; \\n//:>>System::systemIdea// \r\n",
       "}\r\n",
       "package \"FFDS_Requirements\" as E4   {\r\n",
       "package \"FFDS_Objectives\" as E5   {\r\n",
       "comp usage \" [<b>OBJ-B1</b>] Market Leader: Objective\" as E6  <<(T,blue)requirement>> {\r\n",
       "The system will make the vendor the market leader for forest fire detection systems.\r\n",
       "- -\r\n",
       "}\r\n",
       "comp usage \" [<b>OBJ-S1</b>] Reliable Detection: Objective\" as E7  <<(T,blue)requirement>> {\r\n",
       "Any forest fire is detected by the system on time to start effective counteractions.\r\n",
       "- -\r\n",
       "}\r\n",
       "comp usage \" [<b>OBJ-S2</b>] Affordability: Objective\" as E8  <<(T,blue)requirement>> {\r\n",
       "The system is affordable for any forest authority.\r\n",
       "- -\r\n",
       "}\r\n",
       "}\r\n",
       "}\r\n",
       "}\r\n",
       "}\r\n",
       "@enduml\r\n",
       "\n",
       "PlantUML version 1.2020.13(Sat Jun 13 14:26:38 CEST 2020)\n",
       "(EPL source distribution)\n",
       "Java Runtime: OpenJDK Runtime Environment\n",
       "JVM: OpenJDK 64-Bit Server VM\n",
       "Default Encoding: Cp1252\n",
       "Language: en\n",
       "Country: US\n",
       "--></g></svg>"
      ]
     },
     "execution_count": 5,
     "metadata": {},
     "output_type": "execute_result"
    }
   ],
   "source": [
    "%viz ForestFireDetectionSystemModel"
   ]
  },
  {
   "cell_type": "markdown",
   "metadata": {},
   "source": [
    "### System Context"
   ]
  },
  {
   "cell_type": "markdown",
   "metadata": {},
   "source": [
    "The concepts of use cases and actors are not yet defined in SysML v2. Therefore, the external entities of the system are defined as parts of the context."
   ]
  },
  {
   "cell_type": "code",
   "execution_count": 9,
   "metadata": {},
   "outputs": [
    {
     "data": {
      "text/plain": [
       "Package SYSMOD (37e21225-dc2e-46db-ab9f-4efe5b9b410d)\n",
       "Package ForestFireDetectionSystemModel (09b6d3dc-3ce3-4a79-a390-c42fde1b9516)\n"
      ]
     },
     "execution_count": 9,
     "metadata": {},
     "output_type": "execute_result"
    }
   ],
   "source": [
    "package SYSMOD {\n",
    "\n",
    "    doc /* SYSMOD - The Systems Modeling Toolbox, Version 5.0beta */\n",
    "        \n",
    "    requirement def Objective {\n",
    "        doc /* A objective is an objective of the system. It is a special kind of a requirement that is typically not satisfied but amplified by the system. */\n",
    "    }\n",
    "    \n",
    "    part def System {\n",
    "        doc /* Marks the system under development. Typically there is only one block in the model with that stereotype. However in a System of Systems (SoS) model there could be more. */\n",
    "        import ScalarValues::String;\n",
    "        attribute problemStatement : String;\n",
    "        attribute systemIdea : String;\n",
    "    }\n",
    "    \n",
    "    part def SystemContext {\n",
    "        doc /* A system context is a wrapper around the system and it's actors to allow a detailed system context modeling. The system context references the appropriate system. This is important in a SoS model. */\n",
    "            \n",
    "        part systemOfInterest : System;\n",
    "        part actors[0..*];        \n",
    "    }\n",
    "    \n",
    "    part def User;\n",
    "    part def ExternalSystem;\n",
    "    part def EnvironmentalEffect;\n",
    "    part def EnvironmentalImpact;\n",
    "}\n",
    "\n",
    "package ForestFireDetectionSystemModel {\n",
    "    \n",
    "    import SYSMOD::*;\n",
    "    \n",
    "    package FFDS_Core {\n",
    "    \n",
    "       part 'FFDS System Context' : SystemContext {\n",
    "          part FFDS : System :> systemOfInterest {            \n",
    "            attribute redefines problemStatement = \"How can we provide a forest fire detection system for forest authorities that can be scaled to any forest size, is affordable, highly reliable and accurate in detecting forest fires.\";\n",
    "            attribute redefines systemIdea = \"The FFDS is a satellite-based system to detect forest fires in very large areas. The system is also equipped with stationary sensors and animal sensors. Using different sources for the fire detection increases the reliability of the system and enables different system configurations for different environmental contexts and price segments. Main features of the FFDS are Detecting and reporting forest fires on time Monitoring forest and fires Uses the behavior of forest animals to detect fires\";\n",
    "          }\n",
    "          part Operator : User subsets actors;\n",
    "          part Administrator : User subsets actors;\n",
    "          part 'Forest Ranger' : User subsets actors;\n",
    "          part Maintenance : User subsets actors;\n",
    "          part 'Fire Department' : ExternalSystem subsets actors;\n",
    "          part 'Meteorology data system' : ExternalSystem subsets actors;\n",
    "          part 'Research analysis system' : ExternalSystem subsets actors;\n",
    "          part 'Weather' : EnvironmentalEffect subsets actors;\n",
    "          part 'Fire' : EnvironmentalEffect subsets actors;\n",
    "          part 'Planet Environment' : EnvironmentalImpact subsets actors;          \n",
    "       }                \n",
    "    \n",
    "       package FFDS_Requirements {\n",
    "          package FFDS_Objectives {\n",
    "             requirement id 'OBJ-B1' 'Market Leader' : Objective {\n",
    "                  doc /* The system will make the vendor the market leader for forest fire detection systems. */\n",
    "             }\n",
    "             requirement id 'OBJ-S1' 'Reliable Detection' : Objective {\n",
    "                  doc /* Any forest fire is detected by the system on time to start effective counteractions. */\n",
    "             }\n",
    "             requirement id 'OBJ-S2' 'Affordability' : Objective {\n",
    "                  doc /* The system is affordable for any forest authority. */\n",
    "             }                               \n",
    "         }\n",
    "      }\n",
    "   }\n",
    "}"
   ]
  },
  {
   "cell_type": "code",
   "execution_count": 10,
   "metadata": {},
   "outputs": [
    {
     "data": {
      "image/svg+xml": [
       "<?xml version=\"1.0\" encoding=\"UTF-8\" standalone=\"no\"?><svg xmlns=\"http://www.w3.org/2000/svg\" xmlns:xlink=\"http://www.w3.org/1999/xlink\" contentScriptType=\"application/ecmascript\" contentStyleType=\"text/css\" height=\"626px\" preserveAspectRatio=\"none\" style=\"width:2416px;height:626px;\" version=\"1.1\" viewBox=\"0 0 2416 626\" width=\"2416px\" zoomAndPan=\"magnify\"><defs/><g><!--MD5=[fbc87193dbaf4d95561dea2c320d4a47]\n",
       "cluster E1--><polygon fill=\"#FFFFFF\" points=\"16,6,258,6,265,29.6094,2394,29.6094,2394,614,16,614,16,6\" style=\"stroke: #000000; stroke-width: 1.5;\"/><line style=\"stroke: #000000; stroke-width: 1.5;\" x1=\"16\" x2=\"265\" y1=\"29.6094\" y2=\"29.6094\"/><text fill=\"#000000\" font-family=\"sans-serif\" font-size=\"14\" font-weight=\"bold\" lengthAdjust=\"spacingAndGlyphs\" textLength=\"236\" x=\"20\" y=\"22.5332\">ForestFireDetectionSystemModel</text><!--MD5=[e4f7fae6ed58524ba242bb0b0d3be6b7]\n",
       "cluster E2--><polygon fill=\"#FFFFFF\" points=\"40,50,125,50,132,73.6094,2370,73.6094,2370,590,40,590,40,50\" style=\"stroke: #000000; stroke-width: 1.5;\"/><line style=\"stroke: #000000; stroke-width: 1.5;\" x1=\"40\" x2=\"132\" y1=\"73.6094\" y2=\"73.6094\"/><text fill=\"#000000\" font-family=\"sans-serif\" font-size=\"14\" font-weight=\"bold\" lengthAdjust=\"spacingAndGlyphs\" textLength=\"79\" x=\"44\" y=\"66.5332\">FFDS_Core</text><!--MD5=[ab3548ab6224ff035c4047a4d30b7567]\n",
       "cluster E15--><polygon fill=\"#FFFFFF\" points=\"1268,94,1418,94,1425,117.6094,2264,117.6094,2264,298,1268,298,1268,94\" style=\"stroke: #000000; stroke-width: 1.5;\"/><line style=\"stroke: #000000; stroke-width: 1.5;\" x1=\"1268\" x2=\"1425\" y1=\"117.6094\" y2=\"117.6094\"/><text fill=\"#000000\" font-family=\"sans-serif\" font-size=\"14\" font-weight=\"bold\" lengthAdjust=\"spacingAndGlyphs\" textLength=\"144\" x=\"1272\" y=\"110.5332\">FFDS_Requirements</text><!--MD5=[f1a3512f30367dd9875d25a4c3a74750]\n",
       "cluster E16--><polygon fill=\"#FFFFFF\" points=\"1292,138,1419,138,1426,161.6094,2240,161.6094,2240,274,1292,274,1292,138\" style=\"stroke: #000000; stroke-width: 1.5;\"/><line style=\"stroke: #000000; stroke-width: 1.5;\" x1=\"1292\" x2=\"1426\" y1=\"161.6094\" y2=\"161.6094\"/><text fill=\"#000000\" font-family=\"sans-serif\" font-size=\"14\" font-weight=\"bold\" lengthAdjust=\"spacingAndGlyphs\" textLength=\"121\" x=\"1296\" y=\"154.5332\">FFDS_Objectives</text><!--MD5=[09b614a08d8cba4a07c9adeb5e0fee81]\n",
       "class E3--><rect fill=\"#FFFFFF\" height=\"48.1875\" id=\"E3\" rx=\"10\" ry=\"10\" style=\"stroke: #383838; stroke-width: 1.5;\" width=\"213\" x=\"957.5\" y=\"192\"/><text fill=\"#000000\" font-family=\"sans-serif\" font-size=\"12\" font-style=\"italic\" lengthAdjust=\"spacingAndGlyphs\" textLength=\"35\" x=\"1046.5\" y=\"209.457\">«part»</text><text fill=\"#000000\" font-family=\"sans-serif\" font-size=\"12\" lengthAdjust=\"spacingAndGlyphs\" textLength=\"207\" x=\"960.5\" y=\"224.5508\">FFDS System Context: SystemContext</text><line style=\"stroke: #383838; stroke-width: 1.5;\" x1=\"958.5\" x2=\"1169.5\" y1=\"232.1875\" y2=\"232.1875\"/><!--MD5=[ebbe1d658d1005bcc118a6aa81145e00]\n",
       "class E4--><rect fill=\"#FFFFFF\" height=\"255.7266\" id=\"E4\" rx=\"10\" ry=\"10\" style=\"stroke: #383838; stroke-width: 1.5;\" width=\"312\" x=\"56\" y=\"318\"/><text fill=\"#000000\" font-family=\"sans-serif\" font-size=\"12\" font-style=\"italic\" lengthAdjust=\"spacingAndGlyphs\" textLength=\"35\" x=\"194.5\" y=\"335.457\">«part»</text><text fill=\"#000000\" font-family=\"sans-serif\" font-size=\"12\" lengthAdjust=\"spacingAndGlyphs\" textLength=\"78\" x=\"173\" y=\"350.5508\">FFDS: System</text><line style=\"stroke: #383838; stroke-width: 1.5;\" x1=\"57\" x2=\"367\" y1=\"358.1875\" y2=\"358.1875\"/><text fill=\"#000000\" font-family=\"sans-serif\" font-size=\"11\" lengthAdjust=\"spacingAndGlyphs\" textLength=\"295\" x=\"62\" y=\"373.6064\">problemStatement: String= \"How can we provide a forest fire</text><text fill=\"#000000\" font-family=\"sans-serif\" font-size=\"11\" lengthAdjust=\"spacingAndGlyphs\" textLength=\"288\" x=\"62\" y=\"387.4424\">detection system for forest authorities that can be scaled to</text><text fill=\"#000000\" font-family=\"sans-serif\" font-size=\"11\" lengthAdjust=\"spacingAndGlyphs\" textLength=\"289\" x=\"62\" y=\"401.2783\">any forest size, is affordable, highly reliable and accurate in</text><text fill=\"#000000\" font-family=\"sans-serif\" font-size=\"11\" lengthAdjust=\"spacingAndGlyphs\" textLength=\"111\" x=\"62\" y=\"415.1143\">detecting forest fires.\";</text><text fill=\"#000000\" font-family=\"sans-serif\" font-size=\"11\" font-style=\"italic\" lengthAdjust=\"spacingAndGlyphs\" textLength=\"147\" x=\"62\" y=\"428.9502\">:&gt;&gt;System::problemStatement</text><text fill=\"#000000\" font-family=\"sans-serif\" font-size=\"11\" lengthAdjust=\"spacingAndGlyphs\" textLength=\"292\" x=\"62\" y=\"442.7861\">systemIdea: String= \"The FFDS is a satellite-based system to</text><text fill=\"#000000\" font-family=\"sans-serif\" font-size=\"11\" lengthAdjust=\"spacingAndGlyphs\" textLength=\"277\" x=\"62\" y=\"456.6221\">detect forest fires in very large areas. The system is also</text><text fill=\"#000000\" font-family=\"sans-serif\" font-size=\"11\" lengthAdjust=\"spacingAndGlyphs\" textLength=\"292\" x=\"62\" y=\"470.458\">equipped with stationary sensors and animal sensors. Using</text><text fill=\"#000000\" font-family=\"sans-serif\" font-size=\"11\" lengthAdjust=\"spacingAndGlyphs\" textLength=\"298\" x=\"62\" y=\"484.2939\">different sources for the fire detection increases the reliability</text><text fill=\"#000000\" font-family=\"sans-serif\" font-size=\"11\" lengthAdjust=\"spacingAndGlyphs\" textLength=\"299\" x=\"62\" y=\"498.1299\">of the system and enables different system configurations for</text><text fill=\"#000000\" font-family=\"sans-serif\" font-size=\"11\" lengthAdjust=\"spacingAndGlyphs\" textLength=\"282\" x=\"62\" y=\"511.9658\">different environmental contexts and price segments. Main</text><text fill=\"#000000\" font-family=\"sans-serif\" font-size=\"11\" lengthAdjust=\"spacingAndGlyphs\" textLength=\"292\" x=\"62\" y=\"525.8018\">features of the FFDS are Detecting and reporting forest fires</text><text fill=\"#000000\" font-family=\"sans-serif\" font-size=\"11\" lengthAdjust=\"spacingAndGlyphs\" textLength=\"300\" x=\"62\" y=\"539.6377\">on time Monitoring forest and fires Uses the behavior of forest</text><text fill=\"#000000\" font-family=\"sans-serif\" font-size=\"11\" lengthAdjust=\"spacingAndGlyphs\" textLength=\"113\" x=\"62\" y=\"553.4736\">animals to detect fires\";</text><text fill=\"#000000\" font-family=\"sans-serif\" font-size=\"11\" font-style=\"italic\" lengthAdjust=\"spacingAndGlyphs\" textLength=\"113\" x=\"62\" y=\"567.3096\">:&gt;&gt;System::systemIdea</text><!--MD5=[270fce915f116d4de14055a7c1d9a0f3]\n",
       "class E5--><rect fill=\"#FFFFFF\" height=\"48.1875\" id=\"E5\" rx=\"10\" ry=\"10\" style=\"stroke: #383838; stroke-width: 1.5;\" width=\"87\" x=\"403.5\" y=\"422\"/><text fill=\"#000000\" font-family=\"sans-serif\" font-size=\"12\" font-style=\"italic\" lengthAdjust=\"spacingAndGlyphs\" textLength=\"35\" x=\"429.5\" y=\"439.457\">«part»</text><text fill=\"#000000\" font-family=\"sans-serif\" font-size=\"12\" lengthAdjust=\"spacingAndGlyphs\" textLength=\"81\" x=\"406.5\" y=\"454.5508\">Operator: User</text><line style=\"stroke: #383838; stroke-width: 1.5;\" x1=\"404.5\" x2=\"489.5\" y1=\"462.1875\" y2=\"462.1875\"/><!--MD5=[60a26617385b1d2d0262a64233df1f8d]\n",
       "class E6--><rect fill=\"#FFFFFF\" height=\"48.1875\" id=\"E6\" rx=\"10\" ry=\"10\" style=\"stroke: #383838; stroke-width: 1.5;\" width=\"112\" x=\"526\" y=\"422\"/><text fill=\"#000000\" font-family=\"sans-serif\" font-size=\"12\" font-style=\"italic\" lengthAdjust=\"spacingAndGlyphs\" textLength=\"35\" x=\"564.5\" y=\"439.457\">«part»</text><text fill=\"#000000\" font-family=\"sans-serif\" font-size=\"12\" lengthAdjust=\"spacingAndGlyphs\" textLength=\"106\" x=\"529\" y=\"454.5508\">Administrator: User</text><line style=\"stroke: #383838; stroke-width: 1.5;\" x1=\"527\" x2=\"637\" y1=\"462.1875\" y2=\"462.1875\"/><!--MD5=[2156ba9850f5573cc1fc38a6a4b2f02b]\n",
       "class E7--><rect fill=\"#FFFFFF\" height=\"48.1875\" id=\"E7\" rx=\"10\" ry=\"10\" style=\"stroke: #383838; stroke-width: 1.5;\" width=\"118\" x=\"673\" y=\"422\"/><text fill=\"#000000\" font-family=\"sans-serif\" font-size=\"12\" font-style=\"italic\" lengthAdjust=\"spacingAndGlyphs\" textLength=\"35\" x=\"714.5\" y=\"439.457\">«part»</text><text fill=\"#000000\" font-family=\"sans-serif\" font-size=\"12\" lengthAdjust=\"spacingAndGlyphs\" textLength=\"112\" x=\"676\" y=\"454.5508\">Forest Ranger: User</text><line style=\"stroke: #383838; stroke-width: 1.5;\" x1=\"674\" x2=\"790\" y1=\"462.1875\" y2=\"462.1875\"/><!--MD5=[b9389687b975829384b498ac4b7476b2]\n",
       "class E8--><rect fill=\"#FFFFFF\" height=\"48.1875\" id=\"E8\" rx=\"10\" ry=\"10\" style=\"stroke: #383838; stroke-width: 1.5;\" width=\"109\" x=\"826.5\" y=\"422\"/><text fill=\"#000000\" font-family=\"sans-serif\" font-size=\"12\" font-style=\"italic\" lengthAdjust=\"spacingAndGlyphs\" textLength=\"35\" x=\"863.5\" y=\"439.457\">«part»</text><text fill=\"#000000\" font-family=\"sans-serif\" font-size=\"12\" lengthAdjust=\"spacingAndGlyphs\" textLength=\"103\" x=\"829.5\" y=\"454.5508\">Maintenance: User</text><line style=\"stroke: #383838; stroke-width: 1.5;\" x1=\"827.5\" x2=\"934.5\" y1=\"462.1875\" y2=\"462.1875\"/><!--MD5=[fd4143e9d270a159db93a4ea2a975926]\n",
       "class E9--><rect fill=\"#FFFFFF\" height=\"48.1875\" id=\"E9\" rx=\"10\" ry=\"10\" style=\"stroke: #383838; stroke-width: 1.5;\" width=\"186\" x=\"971\" y=\"422\"/><text fill=\"#000000\" font-family=\"sans-serif\" font-size=\"12\" font-style=\"italic\" lengthAdjust=\"spacingAndGlyphs\" textLength=\"35\" x=\"1046.5\" y=\"439.457\">«part»</text><text fill=\"#000000\" font-family=\"sans-serif\" font-size=\"12\" lengthAdjust=\"spacingAndGlyphs\" textLength=\"180\" x=\"974\" y=\"454.5508\">Fire Department: ExternalSystem</text><line style=\"stroke: #383838; stroke-width: 1.5;\" x1=\"972\" x2=\"1156\" y1=\"462.1875\" y2=\"462.1875\"/><!--MD5=[96f4274e9e20536e775497830990834d]\n",
       "class E10--><rect fill=\"#FFFFFF\" height=\"48.1875\" id=\"E10\" rx=\"10\" ry=\"10\" style=\"stroke: #383838; stroke-width: 1.5;\" width=\"233\" x=\"1192.5\" y=\"422\"/><text fill=\"#000000\" font-family=\"sans-serif\" font-size=\"12\" font-style=\"italic\" lengthAdjust=\"spacingAndGlyphs\" textLength=\"35\" x=\"1291.5\" y=\"439.457\">«part»</text><text fill=\"#000000\" font-family=\"sans-serif\" font-size=\"12\" lengthAdjust=\"spacingAndGlyphs\" textLength=\"227\" x=\"1195.5\" y=\"454.5508\">Meteorology data system: ExternalSystem</text><line style=\"stroke: #383838; stroke-width: 1.5;\" x1=\"1193.5\" x2=\"1424.5\" y1=\"462.1875\" y2=\"462.1875\"/><!--MD5=[1dd1bfd58a279cf63c5f349dbc8fc6a1]\n",
       "class E11--><rect fill=\"#FFFFFF\" height=\"48.1875\" id=\"E11\" rx=\"10\" ry=\"10\" style=\"stroke: #383838; stroke-width: 1.5;\" width=\"243\" x=\"1460.5\" y=\"422\"/><text fill=\"#000000\" font-family=\"sans-serif\" font-size=\"12\" font-style=\"italic\" lengthAdjust=\"spacingAndGlyphs\" textLength=\"35\" x=\"1564.5\" y=\"439.457\">«part»</text><text fill=\"#000000\" font-family=\"sans-serif\" font-size=\"12\" lengthAdjust=\"spacingAndGlyphs\" textLength=\"237\" x=\"1463.5\" y=\"454.5508\">Research analysis system: ExternalSystem</text><line style=\"stroke: #383838; stroke-width: 1.5;\" x1=\"1461.5\" x2=\"1702.5\" y1=\"462.1875\" y2=\"462.1875\"/><!--MD5=[49a0ec8f00dab7302a31f22d0f0fe584]\n",
       "class E12--><rect fill=\"#FFFFFF\" height=\"48.1875\" id=\"E12\" rx=\"10\" ry=\"10\" style=\"stroke: #383838; stroke-width: 1.5;\" width=\"167\" x=\"1738.5\" y=\"422\"/><text fill=\"#000000\" font-family=\"sans-serif\" font-size=\"12\" font-style=\"italic\" lengthAdjust=\"spacingAndGlyphs\" textLength=\"35\" x=\"1804.5\" y=\"439.457\">«part»</text><text fill=\"#000000\" font-family=\"sans-serif\" font-size=\"12\" lengthAdjust=\"spacingAndGlyphs\" textLength=\"161\" x=\"1741.5\" y=\"454.5508\">Weather: EnvironmentalEffect</text><line style=\"stroke: #383838; stroke-width: 1.5;\" x1=\"1739.5\" x2=\"1904.5\" y1=\"462.1875\" y2=\"462.1875\"/><!--MD5=[ee3c913d1a06f366521f9ef512b67efe]\n",
       "class E13--><rect fill=\"#FFFFFF\" height=\"48.1875\" id=\"E13\" rx=\"10\" ry=\"10\" style=\"stroke: #383838; stroke-width: 1.5;\" width=\"142\" x=\"1941\" y=\"422\"/><text fill=\"#000000\" font-family=\"sans-serif\" font-size=\"12\" font-style=\"italic\" lengthAdjust=\"spacingAndGlyphs\" textLength=\"35\" x=\"1994.5\" y=\"439.457\">«part»</text><text fill=\"#000000\" font-family=\"sans-serif\" font-size=\"12\" lengthAdjust=\"spacingAndGlyphs\" textLength=\"136\" x=\"1944\" y=\"454.5508\">Fire: EnvironmentalEffect</text><line style=\"stroke: #383838; stroke-width: 1.5;\" x1=\"1942\" x2=\"2082\" y1=\"462.1875\" y2=\"462.1875\"/><!--MD5=[bee11217b2f71d958a27249dc326068c]\n",
       "class E14--><rect fill=\"#FFFFFF\" height=\"48.1875\" id=\"E14\" rx=\"10\" ry=\"10\" style=\"stroke: #383838; stroke-width: 1.5;\" width=\"235\" x=\"2118.5\" y=\"422\"/><text fill=\"#000000\" font-family=\"sans-serif\" font-size=\"12\" font-style=\"italic\" lengthAdjust=\"spacingAndGlyphs\" textLength=\"35\" x=\"2218.5\" y=\"439.457\">«part»</text><text fill=\"#000000\" font-family=\"sans-serif\" font-size=\"12\" lengthAdjust=\"spacingAndGlyphs\" textLength=\"229\" x=\"2121.5\" y=\"454.5508\">Planet Environment: EnvironmentalImpact</text><line style=\"stroke: #383838; stroke-width: 1.5;\" x1=\"2119.5\" x2=\"2352.5\" y1=\"462.1875\" y2=\"462.1875\"/><!--MD5=[60e55a4a9b2f0dc0a36787c5a2095786]\n",
       "class E17--><rect fill=\"#FFFFFF\" height=\"83.8594\" id=\"E17\" rx=\"10\" ry=\"10\" style=\"stroke: #383838; stroke-width: 1.5;\" width=\"308\" x=\"1916\" y=\"174\"/><text fill=\"#000000\" font-family=\"sans-serif\" font-size=\"12\" font-style=\"italic\" lengthAdjust=\"spacingAndGlyphs\" textLength=\"81\" x=\"2029.5\" y=\"191.457\">«requirement»</text><text fill=\"#000000\" font-family=\"sans-serif\" font-size=\"12\" lengthAdjust=\"spacingAndGlyphs\" textLength=\"3\" x=\"1978.5\" y=\"206.5508\">[</text><text fill=\"#000000\" font-family=\"sans-serif\" font-size=\"12\" font-weight=\"bold\" lengthAdjust=\"spacingAndGlyphs\" textLength=\"43\" x=\"1981.5\" y=\"206.5508\">OBJ-B1</text><text fill=\"#000000\" font-family=\"sans-serif\" font-size=\"12\" lengthAdjust=\"spacingAndGlyphs\" textLength=\"140\" x=\"2024.5\" y=\"206.5508\">] Market Leader: Objective</text><line style=\"stroke: #383838; stroke-width: 1.5;\" x1=\"1917\" x2=\"2223\" y1=\"214.1875\" y2=\"214.1875\"/><text fill=\"#000000\" font-family=\"sans-serif\" font-size=\"11\" lengthAdjust=\"spacingAndGlyphs\" textLength=\"293\" x=\"1922\" y=\"229.6064\">The system will make the vendor the market leader for forest</text><text fill=\"#000000\" font-family=\"sans-serif\" font-size=\"11\" lengthAdjust=\"spacingAndGlyphs\" textLength=\"110\" x=\"1922\" y=\"243.4424\">fire detection systems.</text><line style=\"stroke: #383838; stroke-width: 1.0;\" x1=\"1917\" x2=\"2223\" y1=\"249.8594\" y2=\"249.8594\"/><!--MD5=[e3af68e2095dcd46cf4beab32f25c64b]\n",
       "class E18--><rect fill=\"#FFFFFF\" height=\"83.8594\" id=\"E18\" rx=\"10\" ry=\"10\" style=\"stroke: #383838; stroke-width: 1.5;\" width=\"287\" x=\"1593.5\" y=\"174\"/><text fill=\"#000000\" font-family=\"sans-serif\" font-size=\"12\" font-style=\"italic\" lengthAdjust=\"spacingAndGlyphs\" textLength=\"81\" x=\"1696.5\" y=\"191.457\">«requirement»</text><text fill=\"#000000\" font-family=\"sans-serif\" font-size=\"12\" lengthAdjust=\"spacingAndGlyphs\" textLength=\"3\" x=\"1634\" y=\"206.5508\">[</text><text fill=\"#000000\" font-family=\"sans-serif\" font-size=\"12\" font-weight=\"bold\" lengthAdjust=\"spacingAndGlyphs\" textLength=\"43\" x=\"1637\" y=\"206.5508\">OBJ-S1</text><text fill=\"#000000\" font-family=\"sans-serif\" font-size=\"12\" lengthAdjust=\"spacingAndGlyphs\" textLength=\"163\" x=\"1680\" y=\"206.5508\">] Reliable Detection: Objective</text><line style=\"stroke: #383838; stroke-width: 1.5;\" x1=\"1594.5\" x2=\"1879.5\" y1=\"214.1875\" y2=\"214.1875\"/><text fill=\"#000000\" font-family=\"sans-serif\" font-size=\"11\" lengthAdjust=\"spacingAndGlyphs\" textLength=\"272\" x=\"1599.5\" y=\"229.6064\">Any forest fire is detected by the system on time to start</text><text fill=\"#000000\" font-family=\"sans-serif\" font-size=\"11\" lengthAdjust=\"spacingAndGlyphs\" textLength=\"121\" x=\"1599.5\" y=\"243.4424\">effective counteractions.</text><line style=\"stroke: #383838; stroke-width: 1.0;\" x1=\"1594.5\" x2=\"1879.5\" y1=\"249.8594\" y2=\"249.8594\"/><!--MD5=[2afd267d199484aabbd2f23ded056bb0]\n",
       "class E19--><rect fill=\"#FFFFFF\" height=\"70.0234\" id=\"E19\" rx=\"10\" ry=\"10\" style=\"stroke: #383838; stroke-width: 1.5;\" width=\"250\" x=\"1308\" y=\"181\"/><text fill=\"#000000\" font-family=\"sans-serif\" font-size=\"12\" font-style=\"italic\" lengthAdjust=\"spacingAndGlyphs\" textLength=\"81\" x=\"1392.5\" y=\"198.457\">«requirement»</text><text fill=\"#000000\" font-family=\"sans-serif\" font-size=\"12\" lengthAdjust=\"spacingAndGlyphs\" textLength=\"3\" x=\"1349.5\" y=\"213.5508\">[</text><text fill=\"#000000\" font-family=\"sans-serif\" font-size=\"12\" font-weight=\"bold\" lengthAdjust=\"spacingAndGlyphs\" textLength=\"43\" x=\"1352.5\" y=\"213.5508\">OBJ-S2</text><text fill=\"#000000\" font-family=\"sans-serif\" font-size=\"12\" lengthAdjust=\"spacingAndGlyphs\" textLength=\"124\" x=\"1395.5\" y=\"213.5508\">] Affordability: Objective</text><line style=\"stroke: #383838; stroke-width: 1.5;\" x1=\"1309\" x2=\"1557\" y1=\"221.1875\" y2=\"221.1875\"/><text fill=\"#000000\" font-family=\"sans-serif\" font-size=\"11\" lengthAdjust=\"spacingAndGlyphs\" textLength=\"238\" x=\"1314\" y=\"236.6064\">The system is affordable for any forest authority.</text><line style=\"stroke: #383838; stroke-width: 1.0;\" x1=\"1309\" x2=\"1557\" y1=\"243.0234\" y2=\"243.0234\"/><!--MD5=[4672eba38e49728da53d11aeb285b987]\n",
       "reverse link E3 to E4--><path d=\"M944.201,217.71 C805.044,222.358 570.933,242.157 386,318 C380.031,320.448 374.077,323.143 368.162,326.04 \" fill=\"none\" id=\"E3&lt;-E4\" style=\"stroke: #383838; stroke-width: 1.0;\"/><polygon fill=\"#383838\" points=\"957.366,217.306,951.2462,213.4919,945.3716,217.6739,951.4915,221.4881,957.366,217.306\" style=\"stroke: #383838; stroke-width: 1.0;\"/><!--MD5=[191cde3d490a3f6d7bb551fe3ddca469]\n",
       "reverse link E3 to E5--><path d=\"M944.143,226.195 C802.007,239.227 575.901,267.318 509,318 C475.068,343.706 458.652,392.902 451.595,421.941 \" fill=\"none\" id=\"E3&lt;-E5\" style=\"stroke: #383838; stroke-width: 1.0;\"/><polygon fill=\"#383838\" points=\"957.202,225.019,950.8671,221.5739,945.2505,226.0964,951.5854,229.5415,957.202,225.019\" style=\"stroke: #383838; stroke-width: 1.0;\"/><!--MD5=[1026b4b93417a13aa8999a858998add2]\n",
       "reverse link E3 to E6--><path d=\"M944.185,222.129 C856.742,231.314 739.411,255.515 656,318 C620.668,344.468 599.295,393.161 589.15,421.954 \" fill=\"none\" id=\"E3&lt;-E6\" style=\"stroke: #383838; stroke-width: 1.0;\"/><polygon fill=\"#383838\" points=\"957.134,220.855,950.7712,217.4617,945.1917,222.03,951.5545,225.4233,957.134,220.855\" style=\"stroke: #383838; stroke-width: 1.0;\"/><!--MD5=[85760999379eecfd2565a9fecdca67e4]\n",
       "reverse link E3 to E7--><path d=\"M951.966,244.062 C904.076,259.76 849.904,283.446 809,318 C775.318,346.453 752.277,393.56 740.69,421.705 \" fill=\"none\" id=\"E3&lt;-E7\" style=\"stroke: #383838; stroke-width: 1.0;\"/><polygon fill=\"#383838\" points=\"964.641,240.043,957.7127,238.0433,953.2021,243.6696,960.1304,245.6692,964.641,240.043\" style=\"stroke: #383838; stroke-width: 1.0;\"/><!--MD5=[4cb75b73ec3682b8f7f8edc9cc86126a]\n",
       "reverse link E3 to E8--><path d=\"M1023.98,248.551 C1001.76,267.272 974.556,292.311 954,318 C927.465,351.161 904.485,395.102 891.713,421.647 \" fill=\"none\" id=\"E3&lt;-E8\" style=\"stroke: #383838; stroke-width: 1.0;\"/><polygon fill=\"#383838\" points=\"1034.11,240.154,1026.9381,240.9051,1024.873,247.8141,1032.0449,247.0631,1034.11,240.154\" style=\"stroke: #383838; stroke-width: 1.0;\"/><!--MD5=[f7e0269b2e2fed3d07255bf4c5cf9d61]\n",
       "reverse link E3 to E9--><path d=\"M1064,253.351 C1064,300.696 1064,382.091 1064,421.822 \" fill=\"none\" id=\"E3&lt;-E9\" style=\"stroke: #383838; stroke-width: 1.0;\"/><polygon fill=\"#383838\" points=\"1064,240.117,1060,246.117,1064,252.117,1068,246.117,1064,240.117\" style=\"stroke: #383838; stroke-width: 1.0;\"/><!--MD5=[622114938c97d4dd2a5a002a72a9cb82]\n",
       "reverse link E3 to E10--><path d=\"M1099.55,249.014 C1121.41,268.785 1149.95,294.735 1175,318 C1213.75,353.988 1258.22,396.344 1284.93,421.909 \" fill=\"none\" id=\"E3&lt;-E10\" style=\"stroke: #383838; stroke-width: 1.0;\"/><polygon fill=\"#383838\" points=\"1089.71,240.12,1091.4812,247.1102,1098.6149,248.1638,1096.8437,241.1736,1089.71,240.12\" style=\"stroke: #383838; stroke-width: 1.0;\"/><!--MD5=[c952ee3df3c567026821f78b29f51314]\n",
       "reverse link E3 to E11--><path d=\"M1123.1,245.611 C1168.26,266.093 1232.63,292.366 1292,306 C1357.61,321.068 1381.25,291.176 1443,318 C1495.47,340.792 1541.16,391.77 1564.82,421.748 \" fill=\"none\" id=\"E3&lt;-E11\" style=\"stroke: #383838; stroke-width: 1.0;\"/><polygon fill=\"#383838\" points=\"1111.18,240.138,1114.9677,246.2742,1122.0888,245.1379,1118.301,239.0017,1111.18,240.138\" style=\"stroke: #383838; stroke-width: 1.0;\"/><!--MD5=[b6f7b5a187b21c9e6d4d1eb3c7c99cd4]\n",
       "reverse link E3 to E12--><path d=\"M1121.19,245.699 C1166.32,266.759 1231.54,293.74 1292,306 C1338.73,315.477 1678.34,296.683 1721,318 C1765.22,340.102 1796.28,391.587 1811.44,421.78 \" fill=\"none\" id=\"E3&lt;-E12\" style=\"stroke: #383838; stroke-width: 1.0;\"/><polygon fill=\"#383838\" points=\"1109.3,240.071,1113.0077,246.2559,1120.1428,245.2123,1116.4352,239.0274,1109.3,240.071\" style=\"stroke: #383838; stroke-width: 1.0;\"/><!--MD5=[5f79289fc71a65686b815293df984734]\n",
       "reverse link E3 to E13--><path d=\"M1121.16,245.851 C1166.27,266.993 1231.48,294.01 1292,306 C1326.39,312.814 1892.05,301.521 1923,318 C1964.71,340.208 1991.06,391.653 2003.51,421.812 \" fill=\"none\" id=\"E3&lt;-E13\" style=\"stroke: #383838; stroke-width: 1.0;\"/><polygon fill=\"#383838\" points=\"1109.28,240.2,1112.9795,246.3898,1120.116,245.3556,1116.4166,239.1658,1109.28,240.2\" style=\"stroke: #383838; stroke-width: 1.0;\"/><!--MD5=[c7f8b476f4eff356172455d17fe67e32]\n",
       "reverse link E3 to E14--><path d=\"M1120.72,245.722 C1165.84,266.932 1231.27,294.099 1292,306 C1336.11,314.643 2059.34,301.125 2101,318 C2153.49,339.262 2197.62,391.316 2220.07,421.773 \" fill=\"none\" id=\"E3&lt;-E14\" style=\"stroke: #383838; stroke-width: 1.0;\"/><polygon fill=\"#383838\" points=\"1108.84,240.054,1112.5322,246.2482,1119.6699,245.2224,1115.9778,239.0282,1108.84,240.054\" style=\"stroke: #383838; stroke-width: 1.0;\"/><!--MD5=[fe4b967d9d360e300db6eecd679ad024]\n",
       "@startuml\r\n",
       "skinparam monochrome true\r\n",
       "skinparam classbackgroundcolor white\r\n",
       "skinparam shadowing false\r\n",
       "skinparam wrapWidth 300\r\n",
       "hide circle\r\n",
       "\r\n",
       "package \"ForestFireDetectionSystemModel\" as E1   {\r\n",
       "package \"FFDS_Core\" as E2   {\r\n",
       "comp usage \"FFDS System Context: SystemContext\" as E3  <<(T,blue)part>> {\r\n",
       "}\r\n",
       "comp usage \"FFDS: System\" as E4  <<(T,blue)part>> {\r\n",
       "problemStatement: String= \"How can we provide a forest fire detection system for forest authorities that can be scaled to any forest size, is affordable, highly reliable and accurate in detecting forest fires.\"; \\n//:>>System::problemStatement// \r\n",
       "systemIdea: String= \"The FFDS is a satellite-based system to detect forest fires in very large areas. The system is also equipped with stationary sensors and animal sensors. Using different sources for the fire detection increases the reliability of the system and enables different system configurations for different environmental contexts and price segments. Main features of the FFDS are Detecting and reporting forest fires on time Monitoring forest and fires Uses the behavior of forest animals to detect fires\"; \\n//:>>System::systemIdea// \r\n",
       "}\r\n",
       "comp usage \"Operator: User\" as E5  <<(T,blue)part>> {\r\n",
       "}\r\n",
       "comp usage \"Administrator: User\" as E6  <<(T,blue)part>> {\r\n",
       "}\r\n",
       "comp usage \"Forest Ranger: User\" as E7  <<(T,blue)part>> {\r\n",
       "}\r\n",
       "comp usage \"Maintenance: User\" as E8  <<(T,blue)part>> {\r\n",
       "}\r\n",
       "comp usage \"Fire Department: ExternalSystem\" as E9  <<(T,blue)part>> {\r\n",
       "}\r\n",
       "comp usage \"Meteorology data system: ExternalSystem\" as E10  <<(T,blue)part>> {\r\n",
       "}\r\n",
       "comp usage \"Research analysis system: ExternalSystem\" as E11  <<(T,blue)part>> {\r\n",
       "}\r\n",
       "comp usage \"Weather: EnvironmentalEffect\" as E12  <<(T,blue)part>> {\r\n",
       "}\r\n",
       "comp usage \"Fire: EnvironmentalEffect\" as E13  <<(T,blue)part>> {\r\n",
       "}\r\n",
       "comp usage \"Planet Environment: EnvironmentalImpact\" as E14  <<(T,blue)part>> {\r\n",
       "}\r\n",
       "package \"FFDS_Requirements\" as E15   {\r\n",
       "package \"FFDS_Objectives\" as E16   {\r\n",
       "comp usage \" [<b>OBJ-B1</b>] Market Leader: Objective\" as E17  <<(T,blue)requirement>> {\r\n",
       "The system will make the vendor the market leader for forest fire detection systems.\r\n",
       "- -\r\n",
       "}\r\n",
       "comp usage \" [<b>OBJ-S1</b>] Reliable Detection: Objective\" as E18  <<(T,blue)requirement>> {\r\n",
       "Any forest fire is detected by the system on time to start effective counteractions.\r\n",
       "- -\r\n",
       "}\r\n",
       "comp usage \" [<b>OBJ-S2</b>] Affordability: Objective\" as E19  <<(T,blue)requirement>> {\r\n",
       "The system is affordable for any forest authority.\r\n",
       "- -\r\n",
       "}\r\n",
       "E3 *- - E4\r\n",
       "E3 *- - E5\r\n",
       "E3 *- - E6\r\n",
       "E3 *- - E7\r\n",
       "E3 *- - E8\r\n",
       "E3 *- - E9\r\n",
       "E3 *- - E10\r\n",
       "E3 *- - E11\r\n",
       "E3 *- - E12\r\n",
       "E3 *- - E13\r\n",
       "E3 *- - E14\r\n",
       "}\r\n",
       "}\r\n",
       "}\r\n",
       "}\r\n",
       "@enduml\r\n",
       "\n",
       "PlantUML version 1.2020.13(Sat Jun 13 14:26:38 CEST 2020)\n",
       "(EPL source distribution)\n",
       "Java Runtime: OpenJDK Runtime Environment\n",
       "JVM: OpenJDK 64-Bit Server VM\n",
       "Default Encoding: Cp1252\n",
       "Language: en\n",
       "Country: US\n",
       "--></g></svg>"
      ]
     },
     "execution_count": 10,
     "metadata": {},
     "output_type": "execute_result"
    }
   ],
   "source": [
    "%viz ForestFireDetectionSystemModel"
   ]
  },
  {
   "cell_type": "markdown",
   "metadata": {},
   "source": [
    "### System Use Cases"
   ]
  },
  {
   "cell_type": "markdown",
   "metadata": {},
   "source": [
    "### Use Case Activities"
   ]
  },
  {
   "cell_type": "markdown",
   "metadata": {},
   "source": [
    "### Domain Model"
   ]
  },
  {
   "cell_type": "markdown",
   "metadata": {},
   "source": [
    "### Quality Requirements"
   ]
  },
  {
   "cell_type": "markdown",
   "metadata": {},
   "source": [
    "### Logical Architecture "
   ]
  },
  {
   "cell_type": "markdown",
   "metadata": {},
   "source": [
    "### Product Architecture"
   ]
  },
  {
   "cell_type": "markdown",
   "metadata": {},
   "source": [
    "### System States"
   ]
  },
  {
   "cell_type": "markdown",
   "metadata": {},
   "source": [
    "### Verify Architecture with Scenarios"
   ]
  },
  {
   "cell_type": "markdown",
   "metadata": {},
   "source": [
    "### Test Cases"
   ]
  },
  {
   "cell_type": "markdown",
   "metadata": {},
   "source": [
    "### FAS with SysML v2\n",
    "\n",
    "The example is taken from the tutorial of the FAS plugin for MagicDraw: http://sourceforge.net/projects/fas4md/files/FAS_plugin_tutorial.pdf/download."
   ]
  },
  {
   "cell_type": "code",
   "execution_count": 4,
   "metadata": {},
   "outputs": [
    {
     "data": {
      "text/plain": [
       "Package TheFASJukeBox (d0ea7470-a4a2-4519-8d6b-a0ccac890cbe)\n"
      ]
     },
     "execution_count": 4,
     "metadata": {},
     "output_type": "execute_result"
    }
   ],
   "source": [
    "package TheFASJukeBox {\n",
    "    \n",
    "    package UseCases {\n",
    "        activity '(Un)install and Move Jukebox';\n",
    "        activity 'Ask for Track to Play';\n",
    "        activity 'Assemble Music Collection';\n",
    "        activity 'Connect Jukebox with Electrical Supply';\n",
    "        activity 'Disconnect from Electrical Supply';\n",
    "        activity 'Distribute Energy';\n",
    "        activity 'Get Energy';\n",
    "        activity 'Get Mechanical Energy';\n",
    "        activity 'Get Money';\n",
    "        activity 'Insert Cash';\n",
    "        activity 'Install Jukebox';\n",
    "        activity 'Listen to Music';\n",
    "        activity 'Make Music Available';\n",
    "        activity 'Monitor Payment';\n",
    "        activity 'Play Music Track';\n",
    "        activity 'Produce Sound';\n",
    "        activity 'Provide Music Track';\n",
    "        activity 'Retrieve Identification of Music Track';\n",
    "        activity 'Retrieve Money';\n",
    "        activity 'Supply Jukebox with Energy';\n",
    "        activity 'Transform Mechanical Engery into Something Harmless';\n",
    "        activity 'Uninstall Jukebox';\n",
    "        activity 'Use Means of Music Transfer to Retrieve Music';\n",
    "    }\n",
    "    \n",
    "    package FunctionalArchitecture {\n",
    "        \n",
    "        import UseCases::*;\n",
    "        \n",
    "        part TheFASJukeBoxFunctionalContext {\n",
    "            part TheFASJukeBoxFunctionalArchitecture {\n",
    "\n",
    "                dependency from TheFASJukeBoxFunctionalArchitecture to '(Un)install and Move Jukebox';\n",
    "                dependency from TheFASJukeBoxFunctionalArchitecture to 'Assemble Music Collection';\n",
    "                dependency from TheFASJukeBoxFunctionalArchitecture to 'Listen to Music';\n",
    "                dependency from TheFASJukeBoxFunctionalArchitecture to 'Supply Jukebox with Energy';\n",
    "\n",
    "                part 'I/O Customer' {\n",
    "                    dependency from 'I/O Customer' to 'Ask for Track to Play';\n",
    "                    dependency from 'I/O Customer' to 'Get Money';\n",
    "                    dependency from 'I/O Customer' to 'Produce Sound';\n",
    "                }\n",
    "                part 'I/O Electrical Supply' {\n",
    "                    dependency from 'I/O Electrical Supply' to 'Get Energy';\n",
    "                }\n",
    "                part 'I/O Music Supplier' {\n",
    "                    dependency from 'I/O Music Supplier' to 'Use Means of Music Transfer to Retrieve Music';\n",
    "                }\n",
    "                part 'I/O Pub Interior' {\n",
    "                    dependency from 'I/O Pub Interior' to 'Get Mechanical Energy';\n",
    "                }\n",
    "                part 'I/O Pub Manager' {\n",
    "                    dependency from 'I/O Pub Manager' to 'Connect Jukebox with Electrical Supply';\n",
    "                    dependency from 'I/O Pub Manager' to 'Disconnect from Electrical Supply';\n",
    "                    dependency from 'I/O Pub Manager' to 'Insert Cash';\n",
    "                    dependency from 'I/O Pub Manager' to 'Retrieve Identification of Music Track';\n",
    "                }\n",
    "                part Accounting {\n",
    "                    dependency from Accounting to 'Monitor Payment';\n",
    "                }\n",
    "                part 'Energy Distribution' {\n",
    "                    dependency from 'Energy Distribution' to 'Distribute Energy';\n",
    "                }\n",
    "                part 'Music Player' {\n",
    "                    dependency from 'Music Player' to 'Play Music Track';\n",
    "                }\n",
    "                part 'Music Storage' {\n",
    "                    dependency from 'Music Storage' to 'Make Music Available';\n",
    "                    dependency from 'Music Storage' to 'Provide Music Track';\n",
    "                }\n",
    "                part Suspension {\n",
    "                    dependency from Suspension to 'Uninstall Jukebox';\n",
    "                }\n",
    "            }\n",
    "\n",
    "            part Customer;\n",
    "            part 'Pub Manager';\n",
    "            part 'Music Supplier';\n",
    "            part 'Electrical Supply';\n",
    "            part 'Pub Interior';\n",
    "        }\n",
    "    }   \n",
    "}"
   ]
  },
  {
   "cell_type": "code",
   "execution_count": 5,
   "metadata": {},
   "outputs": [
    {
     "data": {
      "image/svg+xml": [
       "<?xml version=\"1.0\" encoding=\"UTF-8\" standalone=\"no\"?><svg xmlns=\"http://www.w3.org/2000/svg\" xmlns:xlink=\"http://www.w3.org/1999/xlink\" contentScriptType=\"application/ecmascript\" contentStyleType=\"text/css\" height=\"554px\" preserveAspectRatio=\"none\" style=\"width:4003px;height:554px;\" version=\"1.1\" viewBox=\"0 0 4003 554\" width=\"4003px\" zoomAndPan=\"magnify\"><defs/><g><!--MD5=[fbc87193dbaf4d95561dea2c320d4a47]\n",
       "cluster E1--><polygon fill=\"#FFFFFF\" points=\"16,6,136,6,143,29.6094,3981,29.6094,3981,542,16,542,16,6\" style=\"stroke: #000000; stroke-width: 1.5;\"/><line style=\"stroke: #000000; stroke-width: 1.5;\" x1=\"16\" x2=\"143\" y1=\"29.6094\" y2=\"29.6094\"/><text fill=\"#000000\" font-family=\"sans-serif\" font-size=\"14\" font-weight=\"bold\" lengthAdjust=\"spacingAndGlyphs\" textLength=\"114\" x=\"20\" y=\"22.5332\">TheFASJukeBox</text><!--MD5=[e4f7fae6ed58524ba242bb0b0d3be6b7]\n",
       "cluster E2--><polygon fill=\"#FFFFFF\" points=\"40,418,116,418,123,441.6094,3957,441.6094,3957,518,40,518,40,418\" style=\"stroke: #000000; stroke-width: 1.5;\"/><line style=\"stroke: #000000; stroke-width: 1.5;\" x1=\"40\" x2=\"123\" y1=\"441.6094\" y2=\"441.6094\"/><text fill=\"#000000\" font-family=\"sans-serif\" font-size=\"14\" font-weight=\"bold\" lengthAdjust=\"spacingAndGlyphs\" textLength=\"70\" x=\"44\" y=\"434.5332\">UseCases</text><!--MD5=[dc75c50e9758de09bc45469de8601ca7]\n",
       "cluster E26--><polygon fill=\"#FFFFFF\" points=\"1506,50,1673,50,1680,73.6094,3027,73.6094,3027,368,1506,368,1506,50\" style=\"stroke: #000000; stroke-width: 1.5;\"/><line style=\"stroke: #000000; stroke-width: 1.5;\" x1=\"1506\" x2=\"1680\" y1=\"73.6094\" y2=\"73.6094\"/><text fill=\"#000000\" font-family=\"sans-serif\" font-size=\"14\" font-weight=\"bold\" lengthAdjust=\"spacingAndGlyphs\" textLength=\"161\" x=\"1510\" y=\"66.5332\">FunctionalArchitecture</text><!--MD5=[09b614a08d8cba4a07c9adeb5e0fee81]\n",
       "class E3--><rect fill=\"#FFFFFF\" height=\"48.1875\" id=\"E3\" style=\"stroke: #383838; stroke-width: 1.5;\" width=\"166\" x=\"3268\" y=\"454\"/><text fill=\"#000000\" font-family=\"sans-serif\" font-size=\"12\" font-style=\"italic\" lengthAdjust=\"spacingAndGlyphs\" textLength=\"67\" x=\"3317.5\" y=\"471.457\">«action def»</text><text fill=\"#000000\" font-family=\"sans-serif\" font-size=\"12\" lengthAdjust=\"spacingAndGlyphs\" textLength=\"160\" x=\"3271\" y=\"486.5508\">(Un)install and Move Jukebox</text><line style=\"stroke: #383838; stroke-width: 1.5;\" x1=\"3269\" x2=\"3433\" y1=\"494.1875\" y2=\"494.1875\"/><!--MD5=[ebbe1d658d1005bcc118a6aa81145e00]\n",
       "class E4--><rect fill=\"#FFFFFF\" height=\"48.1875\" id=\"E4\" style=\"stroke: #383838; stroke-width: 1.5;\" width=\"115\" x=\"56.5\" y=\"454\"/><text fill=\"#000000\" font-family=\"sans-serif\" font-size=\"12\" font-style=\"italic\" lengthAdjust=\"spacingAndGlyphs\" textLength=\"67\" x=\"80.5\" y=\"471.457\">«action def»</text><text fill=\"#000000\" font-family=\"sans-serif\" font-size=\"12\" lengthAdjust=\"spacingAndGlyphs\" textLength=\"109\" x=\"59.5\" y=\"486.5508\">Ask for Track to Play</text><line style=\"stroke: #383838; stroke-width: 1.5;\" x1=\"57.5\" x2=\"170.5\" y1=\"494.1875\" y2=\"494.1875\"/><!--MD5=[270fce915f116d4de14055a7c1d9a0f3]\n",
       "class E5--><rect fill=\"#FFFFFF\" height=\"48.1875\" id=\"E5\" style=\"stroke: #383838; stroke-width: 1.5;\" width=\"155\" x=\"3469.5\" y=\"454\"/><text fill=\"#000000\" font-family=\"sans-serif\" font-size=\"12\" font-style=\"italic\" lengthAdjust=\"spacingAndGlyphs\" textLength=\"67\" x=\"3513.5\" y=\"471.457\">«action def»</text><text fill=\"#000000\" font-family=\"sans-serif\" font-size=\"12\" lengthAdjust=\"spacingAndGlyphs\" textLength=\"149\" x=\"3472.5\" y=\"486.5508\">Assemble Music Collection</text><line style=\"stroke: #383838; stroke-width: 1.5;\" x1=\"3470.5\" x2=\"3623.5\" y1=\"494.1875\" y2=\"494.1875\"/><!--MD5=[60a26617385b1d2d0262a64233df1f8d]\n",
       "class E6--><rect fill=\"#FFFFFF\" height=\"48.1875\" id=\"E6\" style=\"stroke: #383838; stroke-width: 1.5;\" width=\"218\" x=\"1477\" y=\"454\"/><text fill=\"#000000\" font-family=\"sans-serif\" font-size=\"12\" font-style=\"italic\" lengthAdjust=\"spacingAndGlyphs\" textLength=\"67\" x=\"1552.5\" y=\"471.457\">«action def»</text><text fill=\"#000000\" font-family=\"sans-serif\" font-size=\"12\" lengthAdjust=\"spacingAndGlyphs\" textLength=\"212\" x=\"1480\" y=\"486.5508\">Connect Jukebox with Electrical Supply</text><line style=\"stroke: #383838; stroke-width: 1.5;\" x1=\"1478\" x2=\"1694\" y1=\"494.1875\" y2=\"494.1875\"/><!--MD5=[2156ba9850f5573cc1fc38a6a4b2f02b]\n",
       "class E7--><rect fill=\"#FFFFFF\" height=\"48.1875\" id=\"E7\" style=\"stroke: #383838; stroke-width: 1.5;\" width=\"189\" x=\"1730.5\" y=\"454\"/><text fill=\"#000000\" font-family=\"sans-serif\" font-size=\"12\" font-style=\"italic\" lengthAdjust=\"spacingAndGlyphs\" textLength=\"67\" x=\"1791.5\" y=\"471.457\">«action def»</text><text fill=\"#000000\" font-family=\"sans-serif\" font-size=\"12\" lengthAdjust=\"spacingAndGlyphs\" textLength=\"183\" x=\"1733.5\" y=\"486.5508\">Disconnect from Electrical Supply</text><line style=\"stroke: #383838; stroke-width: 1.5;\" x1=\"1731.5\" x2=\"1918.5\" y1=\"494.1875\" y2=\"494.1875\"/><!--MD5=[b9389687b975829384b498ac4b7476b2]\n",
       "class E8--><rect fill=\"#FFFFFF\" height=\"48.1875\" id=\"E8\" style=\"stroke: #383838; stroke-width: 1.5;\" width=\"100\" x=\"2554\" y=\"454\"/><text fill=\"#000000\" font-family=\"sans-serif\" font-size=\"12\" font-style=\"italic\" lengthAdjust=\"spacingAndGlyphs\" textLength=\"67\" x=\"2570.5\" y=\"471.457\">«action def»</text><text fill=\"#000000\" font-family=\"sans-serif\" font-size=\"12\" lengthAdjust=\"spacingAndGlyphs\" textLength=\"94\" x=\"2557\" y=\"486.5508\">Distribute Energy</text><line style=\"stroke: #383838; stroke-width: 1.5;\" x1=\"2555\" x2=\"2653\" y1=\"494.1875\" y2=\"494.1875\"/><!--MD5=[fd4143e9d270a159db93a4ea2a975926]\n",
       "class E9--><rect fill=\"#FFFFFF\" height=\"48.1875\" id=\"E9\" style=\"stroke: #383838; stroke-width: 1.5;\" width=\"69\" x=\"908.5\" y=\"454\"/><text fill=\"#000000\" font-family=\"sans-serif\" font-size=\"12\" font-style=\"italic\" lengthAdjust=\"spacingAndGlyphs\" textLength=\"67\" x=\"909.5\" y=\"471.457\">«action def»</text><text fill=\"#000000\" font-family=\"sans-serif\" font-size=\"12\" lengthAdjust=\"spacingAndGlyphs\" textLength=\"60\" x=\"913\" y=\"486.5508\">Get Energy</text><line style=\"stroke: #383838; stroke-width: 1.5;\" x1=\"909.5\" x2=\"976.5\" y1=\"494.1875\" y2=\"494.1875\"/><!--MD5=[96f4274e9e20536e775497830990834d]\n",
       "class E10--><rect fill=\"#FFFFFF\" height=\"48.1875\" id=\"E10\" style=\"stroke: #383838; stroke-width: 1.5;\" width=\"131\" x=\"1310.5\" y=\"454\"/><text fill=\"#000000\" font-family=\"sans-serif\" font-size=\"12\" font-style=\"italic\" lengthAdjust=\"spacingAndGlyphs\" textLength=\"67\" x=\"1342.5\" y=\"471.457\">«action def»</text><text fill=\"#000000\" font-family=\"sans-serif\" font-size=\"12\" lengthAdjust=\"spacingAndGlyphs\" textLength=\"125\" x=\"1313.5\" y=\"486.5508\">Get Mechanical Energy</text><line style=\"stroke: #383838; stroke-width: 1.5;\" x1=\"1311.5\" x2=\"1440.5\" y1=\"494.1875\" y2=\"494.1875\"/><!--MD5=[1dd1bfd58a279cf63c5f349dbc8fc6a1]\n",
       "class E11--><rect fill=\"#FFFFFF\" height=\"48.1875\" id=\"E11\" style=\"stroke: #383838; stroke-width: 1.5;\" width=\"69\" x=\"206.5\" y=\"454\"/><text fill=\"#000000\" font-family=\"sans-serif\" font-size=\"12\" font-style=\"italic\" lengthAdjust=\"spacingAndGlyphs\" textLength=\"67\" x=\"207.5\" y=\"471.457\">«action def»</text><text fill=\"#000000\" font-family=\"sans-serif\" font-size=\"12\" lengthAdjust=\"spacingAndGlyphs\" textLength=\"57\" x=\"212.5\" y=\"486.5508\">Get Money</text><line style=\"stroke: #383838; stroke-width: 1.5;\" x1=\"207.5\" x2=\"274.5\" y1=\"494.1875\" y2=\"494.1875\"/><!--MD5=[49a0ec8f00dab7302a31f22d0f0fe584]\n",
       "class E12--><rect fill=\"#FFFFFF\" height=\"48.1875\" id=\"E12\" style=\"stroke: #383838; stroke-width: 1.5;\" width=\"70\" x=\"1955\" y=\"454\"/><text fill=\"#000000\" font-family=\"sans-serif\" font-size=\"12\" font-style=\"italic\" lengthAdjust=\"spacingAndGlyphs\" textLength=\"67\" x=\"1956.5\" y=\"471.457\">«action def»</text><text fill=\"#000000\" font-family=\"sans-serif\" font-size=\"12\" lengthAdjust=\"spacingAndGlyphs\" textLength=\"64\" x=\"1958\" y=\"486.5508\">Insert Cash</text><line style=\"stroke: #383838; stroke-width: 1.5;\" x1=\"1956\" x2=\"2024\" y1=\"494.1875\" y2=\"494.1875\"/><!--MD5=[ee3c913d1a06f366521f9ef512b67efe]\n",
       "class E13--><rect fill=\"#FFFFFF\" height=\"48.1875\" id=\"E13\" style=\"stroke: #383838; stroke-width: 1.5;\" width=\"87\" x=\"2299.5\" y=\"454\"/><text fill=\"#000000\" font-family=\"sans-serif\" font-size=\"12\" font-style=\"italic\" lengthAdjust=\"spacingAndGlyphs\" textLength=\"67\" x=\"2309.5\" y=\"471.457\">«action def»</text><text fill=\"#000000\" font-family=\"sans-serif\" font-size=\"12\" lengthAdjust=\"spacingAndGlyphs\" textLength=\"81\" x=\"2302.5\" y=\"486.5508\">Install Jukebox</text><line style=\"stroke: #383838; stroke-width: 1.5;\" x1=\"2300.5\" x2=\"2385.5\" y1=\"494.1875\" y2=\"494.1875\"/><!--MD5=[bee11217b2f71d958a27249dc326068c]\n",
       "class E14--><rect fill=\"#FFFFFF\" height=\"48.1875\" id=\"E14\" style=\"stroke: #383838; stroke-width: 1.5;\" width=\"88\" x=\"3660\" y=\"454\"/><text fill=\"#000000\" font-family=\"sans-serif\" font-size=\"12\" font-style=\"italic\" lengthAdjust=\"spacingAndGlyphs\" textLength=\"67\" x=\"3670.5\" y=\"471.457\">«action def»</text><text fill=\"#000000\" font-family=\"sans-serif\" font-size=\"12\" lengthAdjust=\"spacingAndGlyphs\" textLength=\"82\" x=\"3663\" y=\"486.5508\">Listen to Music</text><line style=\"stroke: #383838; stroke-width: 1.5;\" x1=\"3661\" x2=\"3747\" y1=\"494.1875\" y2=\"494.1875\"/><!--MD5=[0c48fb7552dae8cbbef69381101a84c8]\n",
       "class E15--><rect fill=\"#FFFFFF\" height=\"48.1875\" id=\"E15\" style=\"stroke: #383838; stroke-width: 1.5;\" width=\"122\" x=\"2822\" y=\"454\"/><text fill=\"#000000\" font-family=\"sans-serif\" font-size=\"12\" font-style=\"italic\" lengthAdjust=\"spacingAndGlyphs\" textLength=\"67\" x=\"2849.5\" y=\"471.457\">«action def»</text><text fill=\"#000000\" font-family=\"sans-serif\" font-size=\"12\" lengthAdjust=\"spacingAndGlyphs\" textLength=\"116\" x=\"2825\" y=\"486.5508\">Make Music Available</text><line style=\"stroke: #383838; stroke-width: 1.5;\" x1=\"2823\" x2=\"2943\" y1=\"494.1875\" y2=\"494.1875\"/><!--MD5=[35f0587eaee8d5bb9a02e25b63afc23b]\n",
       "class E16--><rect fill=\"#FFFFFF\" height=\"48.1875\" id=\"E16\" style=\"stroke: #383838; stroke-width: 1.5;\" width=\"97\" x=\"2421.5\" y=\"454\"/><text fill=\"#000000\" font-family=\"sans-serif\" font-size=\"12\" font-style=\"italic\" lengthAdjust=\"spacingAndGlyphs\" textLength=\"67\" x=\"2436.5\" y=\"471.457\">«action def»</text><text fill=\"#000000\" font-family=\"sans-serif\" font-size=\"12\" lengthAdjust=\"spacingAndGlyphs\" textLength=\"91\" x=\"2424.5\" y=\"486.5508\">Monitor Payment</text><line style=\"stroke: #383838; stroke-width: 1.5;\" x1=\"2422.5\" x2=\"2517.5\" y1=\"494.1875\" y2=\"494.1875\"/><!--MD5=[60e55a4a9b2f0dc0a36787c5a2095786]\n",
       "class E17--><rect fill=\"#FFFFFF\" height=\"48.1875\" id=\"E17\" style=\"stroke: #383838; stroke-width: 1.5;\" width=\"97\" x=\"2689.5\" y=\"454\"/><text fill=\"#000000\" font-family=\"sans-serif\" font-size=\"12\" font-style=\"italic\" lengthAdjust=\"spacingAndGlyphs\" textLength=\"67\" x=\"2704.5\" y=\"471.457\">«action def»</text><text fill=\"#000000\" font-family=\"sans-serif\" font-size=\"12\" lengthAdjust=\"spacingAndGlyphs\" textLength=\"91\" x=\"2692.5\" y=\"486.5508\">Play Music Track</text><line style=\"stroke: #383838; stroke-width: 1.5;\" x1=\"2690.5\" x2=\"2785.5\" y1=\"494.1875\" y2=\"494.1875\"/><!--MD5=[e3af68e2095dcd46cf4beab32f25c64b]\n",
       "class E18--><rect fill=\"#FFFFFF\" height=\"48.1875\" id=\"E18\" style=\"stroke: #383838; stroke-width: 1.5;\" width=\"91\" x=\"658.5\" y=\"454\"/><text fill=\"#000000\" font-family=\"sans-serif\" font-size=\"12\" font-style=\"italic\" lengthAdjust=\"spacingAndGlyphs\" textLength=\"67\" x=\"670.5\" y=\"471.457\">«action def»</text><text fill=\"#000000\" font-family=\"sans-serif\" font-size=\"12\" lengthAdjust=\"spacingAndGlyphs\" textLength=\"85\" x=\"661.5\" y=\"486.5508\">Produce Sound</text><line style=\"stroke: #383838; stroke-width: 1.5;\" x1=\"659.5\" x2=\"748.5\" y1=\"494.1875\" y2=\"494.1875\"/><!--MD5=[2afd267d199484aabbd2f23ded056bb0]\n",
       "class E19--><rect fill=\"#FFFFFF\" height=\"48.1875\" id=\"E19\" style=\"stroke: #383838; stroke-width: 1.5;\" width=\"115\" x=\"2979.5\" y=\"454\"/><text fill=\"#000000\" font-family=\"sans-serif\" font-size=\"12\" font-style=\"italic\" lengthAdjust=\"spacingAndGlyphs\" textLength=\"67\" x=\"3003.5\" y=\"471.457\">«action def»</text><text fill=\"#000000\" font-family=\"sans-serif\" font-size=\"12\" lengthAdjust=\"spacingAndGlyphs\" textLength=\"109\" x=\"2982.5\" y=\"486.5508\">Provide Music Track</text><line style=\"stroke: #383838; stroke-width: 1.5;\" x1=\"2980.5\" x2=\"3093.5\" y1=\"494.1875\" y2=\"494.1875\"/><!--MD5=[98c62f1084e4f84a692d89b659ad1ae4]\n",
       "class E20--><rect fill=\"#FFFFFF\" height=\"48.1875\" id=\"E20\" style=\"stroke: #383838; stroke-width: 1.5;\" width=\"204\" x=\"2060\" y=\"454\"/><text fill=\"#000000\" font-family=\"sans-serif\" font-size=\"12\" font-style=\"italic\" lengthAdjust=\"spacingAndGlyphs\" textLength=\"67\" x=\"2128.5\" y=\"471.457\">«action def»</text><text fill=\"#000000\" font-family=\"sans-serif\" font-size=\"12\" lengthAdjust=\"spacingAndGlyphs\" textLength=\"198\" x=\"2063\" y=\"486.5508\">Retrieve Identification of Music Track</text><line style=\"stroke: #383838; stroke-width: 1.5;\" x1=\"2061\" x2=\"2263\" y1=\"494.1875\" y2=\"494.1875\"/><!--MD5=[0a5eafc7463fe4c3b6356fe5913c4902]\n",
       "class E21--><rect fill=\"#FFFFFF\" height=\"48.1875\" id=\"E21\" style=\"stroke: #383838; stroke-width: 1.5;\" width=\"89\" x=\"784.5\" y=\"454\"/><text fill=\"#000000\" font-family=\"sans-serif\" font-size=\"12\" font-style=\"italic\" lengthAdjust=\"spacingAndGlyphs\" textLength=\"67\" x=\"795.5\" y=\"471.457\">«action def»</text><text fill=\"#000000\" font-family=\"sans-serif\" font-size=\"12\" lengthAdjust=\"spacingAndGlyphs\" textLength=\"83\" x=\"787.5\" y=\"486.5508\">Retrieve Money</text><line style=\"stroke: #383838; stroke-width: 1.5;\" x1=\"785.5\" x2=\"872.5\" y1=\"494.1875\" y2=\"494.1875\"/><!--MD5=[6284cf9f06086a212f4fa89d0d29ec03]\n",
       "class E22--><rect fill=\"#FFFFFF\" height=\"48.1875\" id=\"E22\" style=\"stroke: #383838; stroke-width: 1.5;\" width=\"157\" x=\"3783.5\" y=\"454\"/><text fill=\"#000000\" font-family=\"sans-serif\" font-size=\"12\" font-style=\"italic\" lengthAdjust=\"spacingAndGlyphs\" textLength=\"67\" x=\"3828.5\" y=\"471.457\">«action def»</text><text fill=\"#000000\" font-family=\"sans-serif\" font-size=\"12\" lengthAdjust=\"spacingAndGlyphs\" textLength=\"151\" x=\"3786.5\" y=\"486.5508\">Supply Jukebox with Energy</text><line style=\"stroke: #383838; stroke-width: 1.5;\" x1=\"3784.5\" x2=\"3939.5\" y1=\"494.1875\" y2=\"494.1875\"/><!--MD5=[a4184b15efaeca9fb90158e34dfc9305]\n",
       "class E23--><rect fill=\"#FFFFFF\" height=\"48.1875\" id=\"E23\" style=\"stroke: #383838; stroke-width: 1.5;\" width=\"313\" x=\"310.5\" y=\"454\"/><text fill=\"#000000\" font-family=\"sans-serif\" font-size=\"12\" font-style=\"italic\" lengthAdjust=\"spacingAndGlyphs\" textLength=\"67\" x=\"433.5\" y=\"471.457\">«action def»</text><text fill=\"#000000\" font-family=\"sans-serif\" font-size=\"12\" lengthAdjust=\"spacingAndGlyphs\" textLength=\"307\" x=\"313.5\" y=\"486.5508\">Transform Mechanical Engery into Something Harmless</text><line style=\"stroke: #383838; stroke-width: 1.5;\" x1=\"311.5\" x2=\"622.5\" y1=\"494.1875\" y2=\"494.1875\"/><!--MD5=[d961d9d5dcc77964a221abceaadb3cc6]\n",
       "class E24--><rect fill=\"#FFFFFF\" height=\"48.1875\" id=\"E24\" style=\"stroke: #383838; stroke-width: 1.5;\" width=\"103\" x=\"3129.5\" y=\"454\"/><text fill=\"#000000\" font-family=\"sans-serif\" font-size=\"12\" font-style=\"italic\" lengthAdjust=\"spacingAndGlyphs\" textLength=\"67\" x=\"3147.5\" y=\"471.457\">«action def»</text><text fill=\"#000000\" font-family=\"sans-serif\" font-size=\"12\" lengthAdjust=\"spacingAndGlyphs\" textLength=\"97\" x=\"3132.5\" y=\"486.5508\">Uninstall Jukebox</text><line style=\"stroke: #383838; stroke-width: 1.5;\" x1=\"3130.5\" x2=\"3231.5\" y1=\"494.1875\" y2=\"494.1875\"/><!--MD5=[27602d2299176a43176dae1470eb318a]\n",
       "class E25--><rect fill=\"#FFFFFF\" height=\"48.1875\" id=\"E25\" style=\"stroke: #383838; stroke-width: 1.5;\" width=\"262\" x=\"1013\" y=\"454\"/><text fill=\"#000000\" font-family=\"sans-serif\" font-size=\"12\" font-style=\"italic\" lengthAdjust=\"spacingAndGlyphs\" textLength=\"67\" x=\"1110.5\" y=\"471.457\">«action def»</text><text fill=\"#000000\" font-family=\"sans-serif\" font-size=\"12\" lengthAdjust=\"spacingAndGlyphs\" textLength=\"256\" x=\"1016\" y=\"486.5508\">Use Means of Music Transfer to Retrieve Music</text><line style=\"stroke: #383838; stroke-width: 1.5;\" x1=\"1014\" x2=\"1274\" y1=\"494.1875\" y2=\"494.1875\"/><!--MD5=[066bc520e5788adc19ecb36845367d7b]\n",
       "class E27--><rect fill=\"#FFFFFF\" height=\"48.1875\" id=\"E27\" rx=\"10\" ry=\"10\" style=\"stroke: #383838; stroke-width: 1.5;\" width=\"221\" x=\"2477.5\" y=\"86\"/><text fill=\"#000000\" font-family=\"sans-serif\" font-size=\"12\" font-style=\"italic\" lengthAdjust=\"spacingAndGlyphs\" textLength=\"35\" x=\"2570.5\" y=\"103.457\">«part»</text><text fill=\"#000000\" font-family=\"sans-serif\" font-size=\"12\" lengthAdjust=\"spacingAndGlyphs\" textLength=\"215\" x=\"2480.5\" y=\"118.5508\">TheFASJukeBoxFunctionalContext: Part</text><line style=\"stroke: #383838; stroke-width: 1.5;\" x1=\"2478.5\" x2=\"2697.5\" y1=\"126.1875\" y2=\"126.1875\"/><!--MD5=[8db47f9d4d7fc0d396d3178361557c44]\n",
       "class E28--><rect fill=\"#FFFFFF\" height=\"48.1875\" id=\"E28\" rx=\"10\" ry=\"10\" style=\"stroke: #383838; stroke-width: 1.5;\" width=\"244\" x=\"2058\" y=\"195\"/><text fill=\"#000000\" font-family=\"sans-serif\" font-size=\"12\" font-style=\"italic\" lengthAdjust=\"spacingAndGlyphs\" textLength=\"35\" x=\"2162.5\" y=\"212.457\">«part»</text><text fill=\"#000000\" font-family=\"sans-serif\" font-size=\"12\" lengthAdjust=\"spacingAndGlyphs\" textLength=\"238\" x=\"2061\" y=\"227.5508\">TheFASJukeBoxFunctionalArchitecture: Part</text><line style=\"stroke: #383838; stroke-width: 1.5;\" x1=\"2059\" x2=\"2301\" y1=\"235.1875\" y2=\"235.1875\"/><!--MD5=[25464c42cc0d14ebb0038e04d39d9569]\n",
       "class E29--><rect fill=\"#FFFFFF\" height=\"48.1875\" id=\"E29\" rx=\"10\" ry=\"10\" style=\"stroke: #383838; stroke-width: 1.5;\" width=\"107\" x=\"1522.5\" y=\"304\"/><text fill=\"#000000\" font-family=\"sans-serif\" font-size=\"12\" font-style=\"italic\" lengthAdjust=\"spacingAndGlyphs\" textLength=\"35\" x=\"1558.5\" y=\"321.457\">«part»</text><text fill=\"#000000\" font-family=\"sans-serif\" font-size=\"12\" lengthAdjust=\"spacingAndGlyphs\" textLength=\"101\" x=\"1525.5\" y=\"336.5508\">I/O Customer: Part</text><line style=\"stroke: #383838; stroke-width: 1.5;\" x1=\"1523.5\" x2=\"1628.5\" y1=\"344.1875\" y2=\"344.1875\"/><!--MD5=[6366ee80e77914263c86fca8571e11f5]\n",
       "class E30--><rect fill=\"#FFFFFF\" height=\"48.1875\" id=\"E30\" rx=\"10\" ry=\"10\" style=\"stroke: #383838; stroke-width: 1.5;\" width=\"142\" x=\"1665\" y=\"304\"/><text fill=\"#000000\" font-family=\"sans-serif\" font-size=\"12\" font-style=\"italic\" lengthAdjust=\"spacingAndGlyphs\" textLength=\"35\" x=\"1718.5\" y=\"321.457\">«part»</text><text fill=\"#000000\" font-family=\"sans-serif\" font-size=\"12\" lengthAdjust=\"spacingAndGlyphs\" textLength=\"136\" x=\"1668\" y=\"336.5508\">I/O Electrical Supply: Part</text><line style=\"stroke: #383838; stroke-width: 1.5;\" x1=\"1666\" x2=\"1806\" y1=\"344.1875\" y2=\"344.1875\"/><!--MD5=[25feff12fec73981df06979b9bb6cf9e]\n",
       "class E31--><rect fill=\"#FFFFFF\" height=\"48.1875\" id=\"E31\" rx=\"10\" ry=\"10\" style=\"stroke: #383838; stroke-width: 1.5;\" width=\"133\" x=\"1842.5\" y=\"304\"/><text fill=\"#000000\" font-family=\"sans-serif\" font-size=\"12\" font-style=\"italic\" lengthAdjust=\"spacingAndGlyphs\" textLength=\"35\" x=\"1891.5\" y=\"321.457\">«part»</text><text fill=\"#000000\" font-family=\"sans-serif\" font-size=\"12\" lengthAdjust=\"spacingAndGlyphs\" textLength=\"127\" x=\"1845.5\" y=\"336.5508\">I/O Music Supplier: Part</text><line style=\"stroke: #383838; stroke-width: 1.5;\" x1=\"1843.5\" x2=\"1974.5\" y1=\"344.1875\" y2=\"344.1875\"/><!--MD5=[541982d0c4e6f81f5d688cdf05a252dd]\n",
       "class E32--><rect fill=\"#FFFFFF\" height=\"48.1875\" id=\"E32\" rx=\"10\" ry=\"10\" style=\"stroke: #383838; stroke-width: 1.5;\" width=\"115\" x=\"2010.5\" y=\"304\"/><text fill=\"#000000\" font-family=\"sans-serif\" font-size=\"12\" font-style=\"italic\" lengthAdjust=\"spacingAndGlyphs\" textLength=\"35\" x=\"2050.5\" y=\"321.457\">«part»</text><text fill=\"#000000\" font-family=\"sans-serif\" font-size=\"12\" lengthAdjust=\"spacingAndGlyphs\" textLength=\"109\" x=\"2013.5\" y=\"336.5508\">I/O Pub Interior: Part</text><line style=\"stroke: #383838; stroke-width: 1.5;\" x1=\"2011.5\" x2=\"2124.5\" y1=\"344.1875\" y2=\"344.1875\"/><!--MD5=[c001dd83e7e635e78b1155d783a31b32]\n",
       "class E33--><rect fill=\"#FFFFFF\" height=\"48.1875\" id=\"E33\" rx=\"10\" ry=\"10\" style=\"stroke: #383838; stroke-width: 1.5;\" width=\"125\" x=\"2160.5\" y=\"304\"/><text fill=\"#000000\" font-family=\"sans-serif\" font-size=\"12\" font-style=\"italic\" lengthAdjust=\"spacingAndGlyphs\" textLength=\"35\" x=\"2205.5\" y=\"321.457\">«part»</text><text fill=\"#000000\" font-family=\"sans-serif\" font-size=\"12\" lengthAdjust=\"spacingAndGlyphs\" textLength=\"119\" x=\"2163.5\" y=\"336.5508\">I/O Pub Manager: Part</text><line style=\"stroke: #383838; stroke-width: 1.5;\" x1=\"2161.5\" x2=\"2284.5\" y1=\"344.1875\" y2=\"344.1875\"/><!--MD5=[2d9fbeae1c55644634d3f76b2d39f306]\n",
       "class E34--><rect fill=\"#FFFFFF\" height=\"48.1875\" id=\"E34\" rx=\"10\" ry=\"10\" style=\"stroke: #383838; stroke-width: 1.5;\" width=\"94\" x=\"2321\" y=\"304\"/><text fill=\"#000000\" font-family=\"sans-serif\" font-size=\"12\" font-style=\"italic\" lengthAdjust=\"spacingAndGlyphs\" textLength=\"35\" x=\"2350.5\" y=\"321.457\">«part»</text><text fill=\"#000000\" font-family=\"sans-serif\" font-size=\"12\" lengthAdjust=\"spacingAndGlyphs\" textLength=\"88\" x=\"2324\" y=\"336.5508\">Accounting: Part</text><line style=\"stroke: #383838; stroke-width: 1.5;\" x1=\"2322\" x2=\"2414\" y1=\"344.1875\" y2=\"344.1875\"/><!--MD5=[4bed7091ef0f4510d2ba4e40068699fa]\n",
       "class E35--><rect fill=\"#FFFFFF\" height=\"48.1875\" id=\"E35\" rx=\"10\" ry=\"10\" style=\"stroke: #383838; stroke-width: 1.5;\" width=\"138\" x=\"2450\" y=\"304\"/><text fill=\"#000000\" font-family=\"sans-serif\" font-size=\"12\" font-style=\"italic\" lengthAdjust=\"spacingAndGlyphs\" textLength=\"35\" x=\"2501.5\" y=\"321.457\">«part»</text><text fill=\"#000000\" font-family=\"sans-serif\" font-size=\"12\" lengthAdjust=\"spacingAndGlyphs\" textLength=\"132\" x=\"2453\" y=\"336.5508\">Energy Distribution: Part</text><line style=\"stroke: #383838; stroke-width: 1.5;\" x1=\"2451\" x2=\"2587\" y1=\"344.1875\" y2=\"344.1875\"/><!--MD5=[7be659cef5162c7d853b0dde240a9720]\n",
       "class E36--><rect fill=\"#FFFFFF\" height=\"48.1875\" id=\"E36\" rx=\"10\" ry=\"10\" style=\"stroke: #383838; stroke-width: 1.5;\" width=\"103\" x=\"2623.5\" y=\"304\"/><text fill=\"#000000\" font-family=\"sans-serif\" font-size=\"12\" font-style=\"italic\" lengthAdjust=\"spacingAndGlyphs\" textLength=\"35\" x=\"2657.5\" y=\"321.457\">«part»</text><text fill=\"#000000\" font-family=\"sans-serif\" font-size=\"12\" lengthAdjust=\"spacingAndGlyphs\" textLength=\"97\" x=\"2626.5\" y=\"336.5508\">Music Player: Part</text><line style=\"stroke: #383838; stroke-width: 1.5;\" x1=\"2624.5\" x2=\"2725.5\" y1=\"344.1875\" y2=\"344.1875\"/><!--MD5=[a781242d722d2906e89ab946582d86c1]\n",
       "class E37--><rect fill=\"#FFFFFF\" height=\"48.1875\" id=\"E37\" rx=\"10\" ry=\"10\" style=\"stroke: #383838; stroke-width: 1.5;\" width=\"112\" x=\"2762\" y=\"304\"/><text fill=\"#000000\" font-family=\"sans-serif\" font-size=\"12\" font-style=\"italic\" lengthAdjust=\"spacingAndGlyphs\" textLength=\"35\" x=\"2800.5\" y=\"321.457\">«part»</text><text fill=\"#000000\" font-family=\"sans-serif\" font-size=\"12\" lengthAdjust=\"spacingAndGlyphs\" textLength=\"106\" x=\"2765\" y=\"336.5508\">Music Storage: Part</text><line style=\"stroke: #383838; stroke-width: 1.5;\" x1=\"2763\" x2=\"2873\" y1=\"344.1875\" y2=\"344.1875\"/><!--MD5=[083bb9bd746f04a0a4515a3d1bab9f78]\n",
       "class E38--><rect fill=\"#FFFFFF\" height=\"48.1875\" id=\"E38\" rx=\"10\" ry=\"10\" style=\"stroke: #383838; stroke-width: 1.5;\" width=\"101\" x=\"2909.5\" y=\"304\"/><text fill=\"#000000\" font-family=\"sans-serif\" font-size=\"12\" font-style=\"italic\" lengthAdjust=\"spacingAndGlyphs\" textLength=\"35\" x=\"2942.5\" y=\"321.457\">«part»</text><text fill=\"#000000\" font-family=\"sans-serif\" font-size=\"12\" lengthAdjust=\"spacingAndGlyphs\" textLength=\"95\" x=\"2912.5\" y=\"336.5508\">Suspension: Part</text><line style=\"stroke: #383838; stroke-width: 1.5;\" x1=\"2910.5\" x2=\"3009.5\" y1=\"344.1875\" y2=\"344.1875\"/><!--MD5=[3d983df75f8fc9b521e408b5694718f5]\n",
       "class E39--><rect fill=\"#FFFFFF\" height=\"48.1875\" id=\"E39\" rx=\"10\" ry=\"10\" style=\"stroke: #383838; stroke-width: 1.5;\" width=\"89\" x=\"2337.5\" y=\"195\"/><text fill=\"#000000\" font-family=\"sans-serif\" font-size=\"12\" font-style=\"italic\" lengthAdjust=\"spacingAndGlyphs\" textLength=\"35\" x=\"2364.5\" y=\"212.457\">«part»</text><text fill=\"#000000\" font-family=\"sans-serif\" font-size=\"12\" lengthAdjust=\"spacingAndGlyphs\" textLength=\"83\" x=\"2340.5\" y=\"227.5508\">Customer: Part</text><line style=\"stroke: #383838; stroke-width: 1.5;\" x1=\"2338.5\" x2=\"2425.5\" y1=\"235.1875\" y2=\"235.1875\"/><!--MD5=[de9ab62424c84275f0e8550964ee4428]\n",
       "class E40--><rect fill=\"#FFFFFF\" height=\"48.1875\" id=\"E40\" rx=\"10\" ry=\"10\" style=\"stroke: #383838; stroke-width: 1.5;\" width=\"107\" x=\"2461.5\" y=\"195\"/><text fill=\"#000000\" font-family=\"sans-serif\" font-size=\"12\" font-style=\"italic\" lengthAdjust=\"spacingAndGlyphs\" textLength=\"35\" x=\"2497.5\" y=\"212.457\">«part»</text><text fill=\"#000000\" font-family=\"sans-serif\" font-size=\"12\" lengthAdjust=\"spacingAndGlyphs\" textLength=\"101\" x=\"2464.5\" y=\"227.5508\">Pub Manager: Part</text><line style=\"stroke: #383838; stroke-width: 1.5;\" x1=\"2462.5\" x2=\"2567.5\" y1=\"235.1875\" y2=\"235.1875\"/><!--MD5=[5c2e9b1b08b9f12cf2a9458160283f96]\n",
       "class E41--><rect fill=\"#FFFFFF\" height=\"48.1875\" id=\"E41\" rx=\"10\" ry=\"10\" style=\"stroke: #383838; stroke-width: 1.5;\" width=\"115\" x=\"2603.5\" y=\"195\"/><text fill=\"#000000\" font-family=\"sans-serif\" font-size=\"12\" font-style=\"italic\" lengthAdjust=\"spacingAndGlyphs\" textLength=\"35\" x=\"2643.5\" y=\"212.457\">«part»</text><text fill=\"#000000\" font-family=\"sans-serif\" font-size=\"12\" lengthAdjust=\"spacingAndGlyphs\" textLength=\"109\" x=\"2606.5\" y=\"227.5508\">Music Supplier: Part</text><line style=\"stroke: #383838; stroke-width: 1.5;\" x1=\"2604.5\" x2=\"2717.5\" y1=\"235.1875\" y2=\"235.1875\"/><!--MD5=[c31ca20d5303d26323f505ce5af8a2cb]\n",
       "class E42--><rect fill=\"#FFFFFF\" height=\"48.1875\" id=\"E42\" rx=\"10\" ry=\"10\" style=\"stroke: #383838; stroke-width: 1.5;\" width=\"124\" x=\"2754\" y=\"195\"/><text fill=\"#000000\" font-family=\"sans-serif\" font-size=\"12\" font-style=\"italic\" lengthAdjust=\"spacingAndGlyphs\" textLength=\"35\" x=\"2798.5\" y=\"212.457\">«part»</text><text fill=\"#000000\" font-family=\"sans-serif\" font-size=\"12\" lengthAdjust=\"spacingAndGlyphs\" textLength=\"118\" x=\"2757\" y=\"227.5508\">Electrical Supply: Part</text><line style=\"stroke: #383838; stroke-width: 1.5;\" x1=\"2755\" x2=\"2877\" y1=\"235.1875\" y2=\"235.1875\"/><!--MD5=[393a362bd2fbab638c0c05efa610da4c]\n",
       "class E43--><rect fill=\"#FFFFFF\" height=\"48.1875\" id=\"E43\" rx=\"10\" ry=\"10\" style=\"stroke: #383838; stroke-width: 1.5;\" width=\"97\" x=\"2913.5\" y=\"195\"/><text fill=\"#000000\" font-family=\"sans-serif\" font-size=\"12\" font-style=\"italic\" lengthAdjust=\"spacingAndGlyphs\" textLength=\"35\" x=\"2944.5\" y=\"212.457\">«part»</text><text fill=\"#000000\" font-family=\"sans-serif\" font-size=\"12\" lengthAdjust=\"spacingAndGlyphs\" textLength=\"91\" x=\"2916.5\" y=\"227.5508\">Pub Interior: Part</text><line style=\"stroke: #383838; stroke-width: 1.5;\" x1=\"2914.5\" x2=\"3009.5\" y1=\"235.1875\" y2=\"235.1875\"/><!--MD5=[5ee84548b570286b113fff34d543c550]\n",
       "reverse link E27 to E28--><path d=\"M2487.48,137.362 C2420.2,155.006 2332.49,178.008 2267.98,194.928 \" fill=\"none\" id=\"E27&lt;-E28\" style=\"stroke: #383838; stroke-width: 1.0;\"/><polygon fill=\"#383838\" points=\"2500.22,134.02,2493.4012,131.6741,2488.6131,137.0661,2495.4319,139.412,2500.22,134.02\" style=\"stroke: #383838; stroke-width: 1.0;\"/><!--MD5=[d45ec72dca9d5efa90b0bab6ba2c1973]\n",
       "link E28 to E3--><path d=\"M2302.08,240.698 C2308.13,241.522 2314.13,242.296 2320,243 C2633.59,280.595 2723.79,219.12 3028,304 C3138.99,334.967 3254.62,408.724 3312.76,449.214 \" fill=\"none\" id=\"E28-&gt;E3\" style=\"stroke: #383838; stroke-width: 1.0; stroke-dasharray: 7.0,7.0;\"/><polygon fill=\"#383838\" points=\"3319.56,453.982,3314.727,446.9363,3311.2859,451.8514,3319.56,453.982\" style=\"stroke: #383838; stroke-width: 1.0;\"/><text fill=\"#000000\" font-family=\"sans-serif\" font-size=\"13\" lengthAdjust=\"spacingAndGlyphs\" textLength=\"56\" x=\"3194\" y=\"333.4951\">«depend»</text><!--MD5=[3563bb4493fc232c04f81cda5d18e552]\n",
       "link E28 to E5--><path d=\"M2302.06,240.875 C2308.12,241.653 2314.12,242.368 2320,243 C2527.91,265.348 3058.91,243.27 3259,304 C3359.89,334.622 3461.9,408.258 3513.14,448.893 \" fill=\"none\" id=\"E28-&gt;E5\" style=\"stroke: #383838; stroke-width: 1.0; stroke-dasharray: 7.0,7.0;\"/><polygon fill=\"#383838\" points=\"3519.43,453.92,3515.0469,446.5859,3511.3053,451.2764,3519.43,453.92\" style=\"stroke: #383838; stroke-width: 1.0;\"/><text fill=\"#000000\" font-family=\"sans-serif\" font-size=\"13\" lengthAdjust=\"spacingAndGlyphs\" textLength=\"56\" x=\"3410\" y=\"333.4951\">«depend»</text><!--MD5=[93abfea61736af5ddc1ba0cf650d47e6]\n",
       "link E28 to E14--><path d=\"M2302.05,240.962 C2308.11,241.717 2314.12,242.403 2320,243 C2575.71,268.938 3231.2,222.626 3475,304 C3558.39,331.833 3574.47,353.713 3642,410 C3655.48,421.233 3668.89,435.28 3679.78,447.607 \" fill=\"none\" id=\"E28-&gt;E14\" style=\"stroke: #383838; stroke-width: 1.0; stroke-dasharray: 7.0,7.0;\"/><polygon fill=\"#383838\" points=\"3685.23,453.872,3682.2479,445.8653,3677.7185,449.8004,3685.23,453.872\" style=\"stroke: #383838; stroke-width: 1.0;\"/><text fill=\"#000000\" font-family=\"sans-serif\" font-size=\"13\" lengthAdjust=\"spacingAndGlyphs\" textLength=\"56\" x=\"3602\" y=\"333.4951\">«depend»</text><!--MD5=[be5f17ce0aa7c64125db36c6cea7e908]\n",
       "link E28 to E22--><path d=\"M2302.04,241.032 C2308.1,241.768 2314.12,242.432 2320,243 C2469.13,257.398 3529.53,244.439 3667,304 C3740.6,335.89 3805.76,406.552 3838.89,447.01 \" fill=\"none\" id=\"E28-&gt;E22\" style=\"stroke: #383838; stroke-width: 1.0; stroke-dasharray: 7.0,7.0;\"/><polygon fill=\"#383838\" points=\"3844.31,453.715,3841.6166,445.6066,3836.9492,449.377,3844.31,453.715\" style=\"stroke: #383838; stroke-width: 1.0;\"/><text fill=\"#000000\" font-family=\"sans-serif\" font-size=\"13\" lengthAdjust=\"spacingAndGlyphs\" textLength=\"56\" x=\"3771\" y=\"333.4951\">«depend»</text><!--MD5=[8777650e7ecff88f079acf4ee31d1d5a]\n",
       "reverse link E28 to E29--><path d=\"M2044.78,235.559 C1936.59,249.393 1781.44,272.349 1648,304 C1642,305.423 1635.77,307.099 1629.61,308.887 \" fill=\"none\" id=\"E28&lt;-E29\" style=\"stroke: #383838; stroke-width: 1.0;\"/><polygon fill=\"#383838\" points=\"2057.74,233.917,2051.2827,230.7072,2045.8362,235.4333,2052.2935,238.6431,2057.74,233.917\" style=\"stroke: #383838; stroke-width: 1.0;\"/><!--MD5=[281b3deebedc384715d9e40724cc242d]\n",
       "link E29 to E4--><path d=\"M1522.14,329.073 C1306.94,329.702 508.466,335.337 261,384 C227.617,390.565 218.219,392.571 189,410 C171.706,420.316 154.771,434.936 141.383,447.888 \" fill=\"none\" id=\"E29-&gt;E4\" style=\"stroke: #383838; stroke-width: 1.0; stroke-dasharray: 7.0,7.0;\"/><polygon fill=\"#383838\" points=\"135.492,453.7,143.2941,450.2176,139.0805,445.9461,135.492,453.7\" style=\"stroke: #383838; stroke-width: 1.0;\"/><text fill=\"#000000\" font-family=\"sans-serif\" font-size=\"13\" lengthAdjust=\"spacingAndGlyphs\" textLength=\"56\" x=\"262\" y=\"398.4951\">«depend»</text><!--MD5=[a85cd8a24722720003dbd6e0a440dfbd]\n",
       "link E29 to E11--><path d=\"M1522.25,329.801 C1292.9,333.568 402.842,351.846 293,410 C277.597,418.155 265.321,433.092 256.573,446.797 \" fill=\"none\" id=\"E29-&gt;E11\" style=\"stroke: #383838; stroke-width: 1.0; stroke-dasharray: 7.0,7.0;\"/><polygon fill=\"#383838\" points=\"252.322,453.809,259.0345,448.5229,253.9036,445.4127,252.322,453.809\" style=\"stroke: #383838; stroke-width: 1.0;\"/><text fill=\"#000000\" font-family=\"sans-serif\" font-size=\"13\" lengthAdjust=\"spacingAndGlyphs\" textLength=\"56\" x=\"402\" y=\"398.4951\">«depend»</text><!--MD5=[acb3dc005b9bbc2306be23b47e947223]\n",
       "link E29 to E18--><path d=\"M1522.47,332.661 C1413.8,340.316 1159.61,359.37 947,384 C866.707,393.302 838.703,372.688 767,410 C750.203,418.741 735.448,433.762 724.448,447.368 \" fill=\"none\" id=\"E29-&gt;E18\" style=\"stroke: #383838; stroke-width: 1.0; stroke-dasharray: 7.0,7.0;\"/><polygon fill=\"#383838\" points=\"719.358,453.901,726.6423,449.4358,721.9102,445.7471,719.358,453.901\" style=\"stroke: #383838; stroke-width: 1.0;\"/><text fill=\"#000000\" font-family=\"sans-serif\" font-size=\"13\" lengthAdjust=\"spacingAndGlyphs\" textLength=\"56\" x=\"948\" y=\"398.4951\">«depend»</text><!--MD5=[23d783edf15064da109fb532037c2265]\n",
       "reverse link E28 to E30--><path d=\"M2067.24,246.058 C1997.39,262.354 1905.88,283.982 1825,304 C1819.27,305.419 1813.33,306.908 1807.38,308.417 \" fill=\"none\" id=\"E28&lt;-E30\" style=\"stroke: #383838; stroke-width: 1.0;\"/><polygon fill=\"#383838\" points=\"2080.02,243.079,2073.2702,240.5412,2068.3316,245.7957,2075.0814,248.3335,2080.02,243.079\" style=\"stroke: #383838; stroke-width: 1.0;\"/><!--MD5=[2f406f050d23b4ae746570365cebdee8]\n",
       "link E30 to E9--><path d=\"M1701.18,352.231 C1685.35,361.491 1665.95,371.099 1647,376 C1604.72,386.937 1297.6,381.372 1254,384 C1138.52,390.961 1096.23,353.986 995,410 C979.86,418.378 967.662,433.182 958.896,446.748 \" fill=\"none\" id=\"E30-&gt;E9\" style=\"stroke: #383838; stroke-width: 1.0; stroke-dasharray: 7.0,7.0;\"/><polygon fill=\"#383838\" points=\"954.627,453.689,961.3741,448.4472,956.2638,445.3032,954.627,453.689\" style=\"stroke: #383838; stroke-width: 1.0;\"/><text fill=\"#000000\" font-family=\"sans-serif\" font-size=\"13\" lengthAdjust=\"spacingAndGlyphs\" textLength=\"56\" x=\"1255\" y=\"398.4951\">«depend»</text><!--MD5=[d94bfa018cdc824efc2e53d152dfda77]\n",
       "reverse link E28 to E31--><path d=\"M2109.41,247.87 C2065.24,265.312 2009.01,287.512 1967.36,303.956 \" fill=\"none\" id=\"E28&lt;-E31\" style=\"stroke: #383838; stroke-width: 1.0;\"/><polygon fill=\"#383838\" points=\"2121.53,243.086,2114.4806,241.5676,2110.3677,247.4908,2117.4171,249.0092,2121.53,243.086\" style=\"stroke: #383838; stroke-width: 1.0;\"/><!--MD5=[8daa2cc2afafdfaea3354c894634456e]\n",
       "link E31 to E25--><path d=\"M1876.31,352.232 C1861.4,361.491 1843.06,371.1 1825,376 C1781.45,387.814 1463.84,378.975 1419,384 C1362.18,390.368 1347.4,392.392 1293,410 C1259.68,420.784 1223.84,436.75 1195.67,450.392 \" fill=\"none\" id=\"E31-&gt;E25\" style=\"stroke: #383838; stroke-width: 1.0; stroke-dasharray: 7.0,7.0;\"/><polygon fill=\"#383838\" points=\"1188.3,453.988,1196.8047,453.1696,1194.1695,447.7792,1188.3,453.988\" style=\"stroke: #383838; stroke-width: 1.0;\"/><text fill=\"#000000\" font-family=\"sans-serif\" font-size=\"13\" lengthAdjust=\"spacingAndGlyphs\" textLength=\"56\" x=\"1420\" y=\"398.4951\">«depend»</text><!--MD5=[826a4a8e3eca507cfba85add62e7f450]\n",
       "reverse link E28 to E32--><path d=\"M2145.94,252.538 C2128.61,269.096 2107.95,288.834 2092.25,303.828 \" fill=\"none\" id=\"E28&lt;-E32\" style=\"stroke: #383838; stroke-width: 1.0;\"/><polygon fill=\"#383838\" points=\"2155.7,243.217,2148.5989,244.4716,2147.0257,251.509,2154.1269,250.2544,2155.7,243.217\" style=\"stroke: #383838; stroke-width: 1.0;\"/><!--MD5=[6158b0b168ace1bcba7696a7fec83e4f]\n",
       "link E32 to E10--><path d=\"M2039.15,352.173 C2025.89,361.422 2009.48,371.038 1993,376 C1959.16,386.191 1710.25,381.441 1675,384 C1578.56,391.001 1548.08,372.394 1459,410 C1438.4,418.697 1418.77,434.096 1403.77,447.939 \" fill=\"none\" id=\"E32-&gt;E10\" style=\"stroke: #383838; stroke-width: 1.0; stroke-dasharray: 7.0,7.0;\"/><polygon fill=\"#383838\" points=\"1397.64,453.753,1405.5109,450.429,1401.3845,446.0732,1397.64,453.753\" style=\"stroke: #383838; stroke-width: 1.0;\"/><text fill=\"#000000\" font-family=\"sans-serif\" font-size=\"13\" lengthAdjust=\"spacingAndGlyphs\" textLength=\"56\" x=\"1676\" y=\"398.4951\">«depend»</text><!--MD5=[248106301b849abb0438609f041a7eba]\n",
       "reverse link E28 to E33--><path d=\"M2194.21,255.352 C2200.61,271.294 2208,289.675 2213.69,303.828 \" fill=\"none\" id=\"E28&lt;-E33\" style=\"stroke: #383838; stroke-width: 1.0;\"/><polygon fill=\"#383838\" points=\"2189.33,243.217,2187.8567,250.276,2193.806,254.351,2195.2793,247.292,2189.33,243.217\" style=\"stroke: #383838; stroke-width: 1.0;\"/><!--MD5=[fe343b46a9c33a8ae9f15fa2a482aab1]\n",
       "link E33 to E6--><path d=\"M2191.99,352.133 C2177.81,361.374 2160.33,370.995 2143,376 C2115.45,383.956 1913.56,381.408 1885,384 C1808,390.988 1786.44,385.846 1713,410 C1683.6,419.67 1652.84,435.719 1628.96,449.686 \" fill=\"none\" id=\"E33-&gt;E6\" style=\"stroke: #383838; stroke-width: 1.0; stroke-dasharray: 7.0,7.0;\"/><polygon fill=\"#383838\" points=\"1621.78,453.944,1630.1928,452.4523,1627.1375,447.2884,1621.78,453.944\" style=\"stroke: #383838; stroke-width: 1.0;\"/><text fill=\"#000000\" font-family=\"sans-serif\" font-size=\"13\" lengthAdjust=\"spacingAndGlyphs\" textLength=\"56\" x=\"1886\" y=\"398.4951\">«depend»</text><!--MD5=[35ee4fe3c7aa9427db10788f5b983831]\n",
       "link E33 to E7--><path d=\"M2191.56,352.205 C2177.44,361.339 2160.13,370.858 2143,376 C2077.78,395.583 2055.84,366.63 1990,384 C1965.02,390.591 1960.68,397.625 1938,410 C1915.08,422.507 1890.05,437.229 1869.39,449.683 \" fill=\"none\" id=\"E33-&gt;E7\" style=\"stroke: #383838; stroke-width: 1.0; stroke-dasharray: 7.0,7.0;\"/><polygon fill=\"#383838\" points=\"1862.28,453.986,1870.6798,452.4227,1867.5807,447.285,1862.28,453.986\" style=\"stroke: #383838; stroke-width: 1.0;\"/><text fill=\"#000000\" font-family=\"sans-serif\" font-size=\"13\" lengthAdjust=\"spacingAndGlyphs\" textLength=\"56\" x=\"1991\" y=\"398.4951\">«depend»</text><!--MD5=[1cf39c564a742688ce0b961958d76a35]\n",
       "link E33 to E12--><path d=\"M2187.2,352.134 C2173.67,360.308 2157.94,369.159 2143,376 C2100.32,395.546 2081.35,382.93 2043,410 C2029.07,419.832 2016.96,434.345 2007.85,447.352 \" fill=\"none\" id=\"E33-&gt;E12\" style=\"stroke: #383838; stroke-width: 1.0; stroke-dasharray: 7.0,7.0;\"/><polygon fill=\"#383838\" points=\"2003.37,453.984,2010.3367,449.0378,2005.3666,445.6766,2003.37,453.984\" style=\"stroke: #383838; stroke-width: 1.0;\"/><text fill=\"#000000\" font-family=\"sans-serif\" font-size=\"13\" lengthAdjust=\"spacingAndGlyphs\" textLength=\"56\" x=\"2120\" y=\"398.4951\">«depend»</text><!--MD5=[84587dc09ddd0317c8b25ff43adfb6a5]\n",
       "link E33 to E20--><path d=\"M2213.47,352.125 C2203.05,377.391 2186.32,417.994 2174.77,446.005 \" fill=\"none\" id=\"E33-&gt;E20\" style=\"stroke: #383838; stroke-width: 1.0; stroke-dasharray: 7.0,7.0;\"/><polygon fill=\"#383838\" points=\"2171.67,453.549,2177.4954,447.2988,2171.9493,445.0096,2171.67,453.549\" style=\"stroke: #383838; stroke-width: 1.0;\"/><text fill=\"#000000\" font-family=\"sans-serif\" font-size=\"13\" lengthAdjust=\"spacingAndGlyphs\" textLength=\"56\" x=\"2200\" y=\"398.4951\">«depend»</text><!--MD5=[4b08a366bcfecad8ca3ec74487e876f6]\n",
       "reverse link E28 to E34--><path d=\"M2232.33,249.785 C2262.35,266.867 2299.47,287.994 2327.29,303.828 \" fill=\"none\" id=\"E28&lt;-E34\" style=\"stroke: #383838; stroke-width: 1.0;\"/><polygon fill=\"#383838\" points=\"2220.79,243.217,2224.0269,249.6608,2231.2199,249.1513,2227.9831,242.7075,2220.79,243.217\" style=\"stroke: #383838; stroke-width: 1.0;\"/><!--MD5=[9ce283bfeb81a8bbfcf679734da297ca]\n",
       "link E34 to E16--><path d=\"M2383.94,352.125 C2401.5,377.607 2429.81,418.689 2449.13,446.721 \" fill=\"none\" id=\"E34-&gt;E16\" style=\"stroke: #383838; stroke-width: 1.0; stroke-dasharray: 7.0,7.0;\"/><polygon fill=\"#383838\" points=\"2453.84,453.549,2451.7694,445.2597,2446.8294,448.6651,2453.84,453.549\" style=\"stroke: #383838; stroke-width: 1.0;\"/><text fill=\"#000000\" font-family=\"sans-serif\" font-size=\"13\" lengthAdjust=\"spacingAndGlyphs\" textLength=\"56\" x=\"2416\" y=\"398.4951\">«depend»</text><!--MD5=[277166a4e23543ecf768125c7513b054]\n",
       "reverse link E28 to E35--><path d=\"M2265.76,247.068 C2322.72,265.047 2396.53,288.343 2449.75,305.143 \" fill=\"none\" id=\"E28&lt;-E35\" style=\"stroke: #383838; stroke-width: 1.0;\"/><polygon fill=\"#383838\" points=\"2253.14,243.086,2257.6572,248.7069,2264.5832,246.6991,2260.0659,241.0782,2253.14,243.086\" style=\"stroke: #383838; stroke-width: 1.0;\"/><!--MD5=[493904ac2d4c34e62947a562a358d27c]\n",
       "link E35 to E8--><path d=\"M2532.28,352.125 C2546.85,377.499 2570.31,418.341 2586.4,446.364 \" fill=\"none\" id=\"E35-&gt;E8\" style=\"stroke: #383838; stroke-width: 1.0; stroke-dasharray: 7.0,7.0;\"/><polygon fill=\"#383838\" points=\"2590.53,453.549,2589.1501,445.1172,2583.9461,448.1036,2590.53,453.549\" style=\"stroke: #383838; stroke-width: 1.0;\"/><text fill=\"#000000\" font-family=\"sans-serif\" font-size=\"13\" lengthAdjust=\"spacingAndGlyphs\" textLength=\"56\" x=\"2559\" y=\"398.4951\">«depend»</text><!--MD5=[4380a612a360670e75f616a18342ef5b]\n",
       "reverse link E28 to E36--><path d=\"M2315.1,244.707 C2418.47,263.975 2552.14,289.774 2606,304 C2611.62,305.483 2617.44,307.176 2623.22,308.955 \" fill=\"none\" id=\"E28&lt;-E36\" style=\"stroke: #383838; stroke-width: 1.0;\"/><polygon fill=\"#383838\" points=\"2302.01,242.273,2307.1796,247.3004,2313.8086,244.4621,2308.639,239.4347,2302.01,242.273\" style=\"stroke: #383838; stroke-width: 1.0;\"/><!--MD5=[22315584938c290792d9975d6f613952]\n",
       "link E36 to E17--><path d=\"M2684.84,352.125 C2695.6,377.391 2712.88,417.994 2724.81,446.005 \" fill=\"none\" id=\"E36-&gt;E17\" style=\"stroke: #383838; stroke-width: 1.0; stroke-dasharray: 7.0,7.0;\"/><polygon fill=\"#383838\" points=\"2728.02,453.549,2727.6445,445.0133,2722.1245,447.3649,2728.02,453.549\" style=\"stroke: #383838; stroke-width: 1.0;\"/><text fill=\"#000000\" font-family=\"sans-serif\" font-size=\"13\" lengthAdjust=\"spacingAndGlyphs\" textLength=\"56\" x=\"2705\" y=\"398.4951\">«depend»</text><!--MD5=[1a4a93cef5ba74a1a9a57d0b5152d5cb]\n",
       "reverse link E28 to E37--><path d=\"M2315.04,242.233 C2316.7,242.491 2318.36,242.747 2320,243 C2508.16,271.989 2558.29,262.059 2744,304 C2749.77,305.304 2755.75,306.839 2761.69,308.488 \" fill=\"none\" id=\"E28&lt;-E37\" style=\"stroke: #383838; stroke-width: 1.0;\"/><polygon fill=\"#383838\" points=\"2302.14,240.214,2307.4477,245.0954,2313.9951,242.0734,2308.6873,237.192,2302.14,240.214\" style=\"stroke: #383838; stroke-width: 1.0;\"/><!--MD5=[b97cbc67384464b36267118f94077b69]\n",
       "link E37 to E15--><path d=\"M2823.97,352.127 C2828.06,366.707 2833.99,385.777 2841,402 C2847.59,417.258 2856.4,433.435 2864.24,446.844 \" fill=\"none\" id=\"E37-&gt;E15\" style=\"stroke: #383838; stroke-width: 1.0; stroke-dasharray: 7.0,7.0;\"/><polygon fill=\"#383838\" points=\"2868.48,453.985,2866.979,445.5739,2861.8185,448.6348,2868.48,453.985\" style=\"stroke: #383838; stroke-width: 1.0;\"/><text fill=\"#000000\" font-family=\"sans-serif\" font-size=\"13\" lengthAdjust=\"spacingAndGlyphs\" textLength=\"56\" x=\"2842\" y=\"398.4951\">«depend»</text><!--MD5=[db8401a2d150a498592fdae4adbf16c4]\n",
       "link E37 to E19--><path d=\"M2853.45,352.217 C2865.56,359.964 2879.27,368.522 2892,376 C2912.92,388.289 2917.87,392.049 2940,402 C2949.49,406.267 2953.07,404.66 2962,410 C2979.28,420.335 2996.22,434.957 3009.61,447.906 \" fill=\"none\" id=\"E37-&gt;E19\" style=\"stroke: #383838; stroke-width: 1.0; stroke-dasharray: 7.0,7.0;\"/><polygon fill=\"#383838\" points=\"3015.5,453.716,3011.9086,445.9635,3007.6966,450.2366,3015.5,453.716\" style=\"stroke: #383838; stroke-width: 1.0;\"/><text fill=\"#000000\" font-family=\"sans-serif\" font-size=\"13\" lengthAdjust=\"spacingAndGlyphs\" textLength=\"56\" x=\"2941\" y=\"398.4951\">«depend»</text><!--MD5=[8753d57a5dade0230c8540263332e8c6]\n",
       "reverse link E28 to E38--><path d=\"M2315.03,242.319 C2316.69,242.55 2318.35,242.777 2320,243 C2573.35,277.292 2642.29,249.155 2892,304 C2897.72,305.257 2903.63,306.827 2909.47,308.554 \" fill=\"none\" id=\"E28&lt;-E38\" style=\"stroke: #383838; stroke-width: 1.0;\"/><polygon fill=\"#383838\" points=\"2302.11,240.478,2307.4824,245.2881,2313.9888,242.1789,2308.6164,237.3689,2302.11,240.478\" style=\"stroke: #383838; stroke-width: 1.0;\"/><!--MD5=[b27f0e06e4a3baf3d6ef394d85de0a91]\n",
       "link E38 to E24--><path d=\"M2977.79,352.299 C2992.08,369.16 3013.72,390.866 3038,402 C3068.07,415.79 3082.06,395.934 3112,410 C3130.22,418.558 3146.58,433.911 3158.79,447.763 \" fill=\"none\" id=\"E38-&gt;E24\" style=\"stroke: #383838; stroke-width: 1.0; stroke-dasharray: 7.0,7.0;\"/><polygon fill=\"#383838\" points=\"3164.1,453.992,3161.1915,445.9583,3156.6262,449.8516,3164.1,453.992\" style=\"stroke: #383838; stroke-width: 1.0;\"/><text fill=\"#000000\" font-family=\"sans-serif\" font-size=\"13\" lengthAdjust=\"spacingAndGlyphs\" textLength=\"56\" x=\"3039\" y=\"398.4951\">«depend»</text><!--MD5=[7db704da562a244f09d2ce72361395fb]\n",
       "reverse link E27 to E39--><path d=\"M2531.74,140.221 C2498.58,157.446 2457.21,178.933 2426.37,194.956 \" fill=\"none\" id=\"E27&lt;-E39\" style=\"stroke: #383838; stroke-width: 1.0;\"/><polygon fill=\"#383838\" points=\"2543.55,134.086,2536.3813,133.3056,2532.9037,139.6227,2540.0724,140.4031,2543.55,134.086\" style=\"stroke: #383838; stroke-width: 1.0;\"/><!--MD5=[aff87d55341d64e7b3781edf818fcd1a]\n",
       "reverse link E27 to E40--><path d=\"M2564.53,145.408 C2553.5,161.565 2540.66,180.395 2530.81,194.828 \" fill=\"none\" id=\"E27&lt;-E40\" style=\"stroke: #383838; stroke-width: 1.0;\"/><polygon fill=\"#383838\" points=\"2572.16,134.217,2565.4746,136.92,2565.3984,144.1307,2572.0838,141.4277,2572.16,134.217\" style=\"stroke: #383838; stroke-width: 1.0;\"/><!--MD5=[ed1beb1c3ca78f85acc32132d26f9449]\n",
       "reverse link E27 to E41--><path d=\"M2611.47,145.408 C2622.5,161.565 2635.34,180.395 2645.19,194.828 \" fill=\"none\" id=\"E27&lt;-E41\" style=\"stroke: #383838; stroke-width: 1.0;\"/><polygon fill=\"#383838\" points=\"2603.84,134.217,2603.9162,141.4277,2610.6016,144.1307,2610.5254,136.92,2603.84,134.217\" style=\"stroke: #383838; stroke-width: 1.0;\"/><!--MD5=[c7c3b7fc5e7f5422158619bb5637661b]\n",
       "reverse link E27 to E42--><path d=\"M2649.3,139.769 C2686.17,157.069 2732.46,178.793 2766.9,194.956 \" fill=\"none\" id=\"E27&lt;-E42\" style=\"stroke: #383838; stroke-width: 1.0;\"/><polygon fill=\"#383838\" points=\"2637.19,134.086,2640.926,140.2539,2648.0563,139.1775,2644.3203,133.0097,2637.19,134.086\" style=\"stroke: #383838; stroke-width: 1.0;\"/><!--MD5=[4c469bf55b684cb4a89c4a5d8d76f42c]\n",
       "reverse link E27 to E43--><path d=\"M2692.02,137.457 C2751.96,153.177 2828.56,174.079 2896,195 C2901.68,196.762 2907.6,198.691 2913.47,200.661 \" fill=\"none\" id=\"E27&lt;-E43\" style=\"stroke: #383838; stroke-width: 1.0;\"/><polygon fill=\"#383838\" points=\"2679.11,134.082,2683.9041,139.4687,2690.7203,137.1151,2685.9262,131.7285,2679.11,134.082\" style=\"stroke: #383838; stroke-width: 1.0;\"/><!--MD5=[fa40255669d39bf07cf79a5688d0688d]\n",
       "@startuml\r\n",
       "skinparam monochrome true\r\n",
       "skinparam classbackgroundcolor white\r\n",
       "skinparam shadowing false\r\n",
       "skinparam wrapWidth 300\r\n",
       "hide circle\r\n",
       "\r\n",
       "package \"TheFASJukeBox\" as E1   {\r\n",
       "package \"UseCases\" as E2   {\r\n",
       "comp def \"(Un)install and Move Jukebox\" as E3  <<(T,blue)action def>> {\r\n",
       "}\r\n",
       "comp def \"Ask for Track to Play\" as E4  <<(T,blue)action def>> {\r\n",
       "}\r\n",
       "comp def \"Assemble Music Collection\" as E5  <<(T,blue)action def>> {\r\n",
       "}\r\n",
       "comp def \"Connect Jukebox with Electrical Supply\" as E6  <<(T,blue)action def>> {\r\n",
       "}\r\n",
       "comp def \"Disconnect from Electrical Supply\" as E7  <<(T,blue)action def>> {\r\n",
       "}\r\n",
       "comp def \"Distribute Energy\" as E8  <<(T,blue)action def>> {\r\n",
       "}\r\n",
       "comp def \"Get Energy\" as E9  <<(T,blue)action def>> {\r\n",
       "}\r\n",
       "comp def \"Get Mechanical Energy\" as E10  <<(T,blue)action def>> {\r\n",
       "}\r\n",
       "comp def \"Get Money\" as E11  <<(T,blue)action def>> {\r\n",
       "}\r\n",
       "comp def \"Insert Cash\" as E12  <<(T,blue)action def>> {\r\n",
       "}\r\n",
       "comp def \"Install Jukebox\" as E13  <<(T,blue)action def>> {\r\n",
       "}\r\n",
       "comp def \"Listen to Music\" as E14  <<(T,blue)action def>> {\r\n",
       "}\r\n",
       "comp def \"Make Music Available\" as E15  <<(T,blue)action def>> {\r\n",
       "}\r\n",
       "comp def \"Monitor Payment\" as E16  <<(T,blue)action def>> {\r\n",
       "}\r\n",
       "comp def \"Play Music Track\" as E17  <<(T,blue)action def>> {\r\n",
       "}\r\n",
       "comp def \"Produce Sound\" as E18  <<(T,blue)action def>> {\r\n",
       "}\r\n",
       "comp def \"Provide Music Track\" as E19  <<(T,blue)action def>> {\r\n",
       "}\r\n",
       "comp def \"Retrieve Identification of Music Track\" as E20  <<(T,blue)action def>> {\r\n",
       "}\r\n",
       "comp def \"Retrieve Money\" as E21  <<(T,blue)action def>> {\r\n",
       "}\r\n",
       "comp def \"Supply Jukebox with Energy\" as E22  <<(T,blue)action def>> {\r\n",
       "}\r\n",
       "comp def \"Transform Mechanical Engery into Something Harmless\" as E23  <<(T,blue)action def>> {\r\n",
       "}\r\n",
       "comp def \"Uninstall Jukebox\" as E24  <<(T,blue)action def>> {\r\n",
       "}\r\n",
       "comp def \"Use Means of Music Transfer to Retrieve Music\" as E25  <<(T,blue)action def>> {\r\n",
       "}\r\n",
       "}\r\n",
       "package \"FunctionalArchitecture\" as E26   {\r\n",
       "comp usage \"TheFASJukeBoxFunctionalContext: Part\" as E27  <<(T,blue)part>> {\r\n",
       "}\r\n",
       "comp usage \"TheFASJukeBoxFunctionalArchitecture: Part\" as E28  <<(T,blue)part>> {\r\n",
       "}\r\n",
       "comp usage \"I/O Customer: Part\" as E29  <<(T,blue)part>> {\r\n",
       "}\r\n",
       "comp usage \"I/O Electrical Supply: Part\" as E30  <<(T,blue)part>> {\r\n",
       "}\r\n",
       "comp usage \"I/O Music Supplier: Part\" as E31  <<(T,blue)part>> {\r\n",
       "}\r\n",
       "comp usage \"I/O Pub Interior: Part\" as E32  <<(T,blue)part>> {\r\n",
       "}\r\n",
       "comp usage \"I/O Pub Manager: Part\" as E33  <<(T,blue)part>> {\r\n",
       "}\r\n",
       "comp usage \"Accounting: Part\" as E34  <<(T,blue)part>> {\r\n",
       "}\r\n",
       "comp usage \"Energy Distribution: Part\" as E35  <<(T,blue)part>> {\r\n",
       "}\r\n",
       "comp usage \"Music Player: Part\" as E36  <<(T,blue)part>> {\r\n",
       "}\r\n",
       "comp usage \"Music Storage: Part\" as E37  <<(T,blue)part>> {\r\n",
       "}\r\n",
       "comp usage \"Suspension: Part\" as E38  <<(T,blue)part>> {\r\n",
       "}\r\n",
       "comp usage \"Customer: Part\" as E39  <<(T,blue)part>> {\r\n",
       "}\r\n",
       "comp usage \"Pub Manager: Part\" as E40  <<(T,blue)part>> {\r\n",
       "}\r\n",
       "comp usage \"Music Supplier: Part\" as E41  <<(T,blue)part>> {\r\n",
       "}\r\n",
       "comp usage \"Electrical Supply: Part\" as E42  <<(T,blue)part>> {\r\n",
       "}\r\n",
       "comp usage \"Pub Interior: Part\" as E43  <<(T,blue)part>> {\r\n",
       "}\r\n",
       "E27 *- - E28\r\n",
       "E28 ..>> E3 : <<depend>>\r\n",
       "E28 ..>> E5 : <<depend>>\r\n",
       "E28 ..>> E14 : <<depend>>\r\n",
       "E28 ..>> E22 : <<depend>>\r\n",
       "E28 *- - E29\r\n",
       "E29 ..>> E4 : <<depend>>\r\n",
       "E29 ..>> E11 : <<depend>>\r\n",
       "E29 ..>> E18 : <<depend>>\r\n",
       "E28 *- - E30\r\n",
       "E30 ..>> E9 : <<depend>>\r\n",
       "E28 *- - E31\r\n",
       "E31 ..>> E25 : <<depend>>\r\n",
       "E28 *- - E32\r\n",
       "E32 ..>> E10 : <<depend>>\r\n",
       "E28 *- - E33\r\n",
       "E33 ..>> E6 : <<depend>>\r\n",
       "E33 ..>> E7 : <<depend>>\r\n",
       "E33 ..>> E12 : <<depend>>\r\n",
       "E33 ..>> E20 : <<depend>>\r\n",
       "E28 *- - E34\r\n",
       "E34 ..>> E16 : <<depend>>\r\n",
       "E28 *- - E35\r\n",
       "E35 ..>> E8 : <<depend>>\r\n",
       "E28 *- - E36\r\n",
       "E36 ..>> E17 : <<depend>>\r\n",
       "E28 *- - E37\r\n",
       "E37 ..>> E15 : <<depend>>\r\n",
       "E37 ..>> E19 : <<depend>>\r\n",
       "E28 *- - E38\r\n",
       "E38 ..>> E24 : <<depend>>\r\n",
       "E27 *- - E39\r\n",
       "E27 *- - E40\r\n",
       "E27 *- - E41\r\n",
       "E27 *- - E42\r\n",
       "E27 *- - E43\r\n",
       "}\r\n",
       "}\r\n",
       "@enduml\r\n",
       "\n",
       "PlantUML version 1.2020.13(Sat Jun 13 14:26:38 CEST 2020)\n",
       "(EPL source distribution)\n",
       "Java Runtime: OpenJDK Runtime Environment\n",
       "JVM: OpenJDK 64-Bit Server VM\n",
       "Default Encoding: Cp1252\n",
       "Language: en\n",
       "Country: US\n",
       "--></g></svg>"
      ]
     },
     "execution_count": 5,
     "metadata": {},
     "output_type": "execute_result"
    }
   ],
   "source": [
    "%viz --view=tree TheFASJukeBox"
   ]
  }
 ],
 "metadata": {
  "kernelspec": {
   "display_name": "SysML",
   "language": "sysml",
   "name": "sysml"
  },
  "language_info": {
   "codemirror_mode": "sysml",
   "file_extension": ".sysml",
   "mimetype": "text/x-sysml",
   "name": "SysML",
   "pygments_lexer": "java",
   "version": "1.0.0"
  }
 },
 "nbformat": 4,
 "nbformat_minor": 4
}
