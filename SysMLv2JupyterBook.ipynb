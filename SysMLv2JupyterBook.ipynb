{
 "cells": [
  {
   "cell_type": "markdown",
   "metadata": {},
   "source": [
    "# SysML v2 JupyterBook\n",
    "\n",
    "This Jupyter Notebook is an exploration of SysML v2 from the user perspective. It shows some SysML v2 basics, but mainly focuses on the special features compared to SysML v1 and how they can be used. For a detailed introduction to the textual syntax of SysML v2, I recommend the following PDF: [Introduction to the SysML v2 Language Textual Notation](https://github.com/Systems-Modeling/SysML-v2-Release/blob/master/doc/Intro%20to%20the%20SysML%20v2%20Language.pdf).\n",
    "\n",
    "**Please note: This is work in progress. You will see sketchy stuff. If you have any comments, contact me: [tim@mbse4u.com](mailto:tim@mbse4u.com).**\n",
    "\n",
    "## Modeling with SysML v2\n",
    "\n",
    "### Introduction\n",
    "\n",
    "This section provides \n",
    "\n",
    "* a brief introduction of the structural modeling with SysML v2,\n",
    "* with a special focus on what is different compared to SysML v1.\n",
    "\n",
    "It is not (yet) a complete SysML v2 tutorial. It uses the SysML v2 pilot implementation which is not intended as full modeling tool for industrail application. The SysML v2 pilot implementation is developed and used \n",
    "\n",
    "### Example and first steps\n",
    "\n",
    "The simple example system is the following electrical vehicle:\n",
    "\n",
    "![Electrical HSUV](lego-evehicle.jpg)\n",
    "\n",
    "Let's start with a logical architecture of the vehicle. A first major difference compared to SysML is that there is a textual syntax for SysML v2.\n",
    "The following cell shows the textual SysML v2 syntax of the logical architecture. The package statement defines the namespace of our architecture. The architecture itself is a simple hierarchical set of parts."
   ]
  },
  {
   "cell_type": "code",
   "execution_count": 10,
   "metadata": {},
   "outputs": [
    {
     "data": {
      "text/plain": [
       "Package eVehicle_LogicalArchitecture (591b961a-c162-4be9-99df-f8c82451be6a)\n"
      ]
     },
     "execution_count": 10,
     "metadata": {},
     "output_type": "execute_result"
    }
   ],
   "source": [
    "package eVehicle_LogicalArchitecture {\n",
    "    part eVehicle {    \n",
    "        part body;\n",
    "        part battery;\n",
    "        part engine;\n",
    "        part frontAxis;\n",
    "        part rearAxis;\n",
    "        part frontWheel[2];\n",
    "        part rearWheel[2];\n",
    "    }\n",
    "}"
   ]
  },
  {
   "cell_type": "markdown",
   "metadata": {},
   "source": [
    "Run the cell above to create the real model (it is only a textual visualization). Then you can see the model by running the following code. It provides a deep insight into the model structures:"
   ]
  },
  {
   "cell_type": "code",
   "execution_count": 11,
   "metadata": {},
   "outputs": [
    {
     "data": {
      "text/plain": [
       "Package eVehicle_LogicalArchitecture (591b961a-c162-4be9-99df-f8c82451be6a)\n",
       "  [Membership] PartUsage eVehicle (a3fd1d82-407a-4542-8ab2-8a1be2ef9019)\n",
       "    [Subsetting] PartUsage parts (5e706ee2-d20c-4e77-90f3-fda3ba1c3172)\n",
       "    [FeatureMembership] PartUsage body (4094b2ed-860b-4bcc-a719-e52cc75abc5b)\n",
       "      [Subsetting] PartUsage parts (5e706ee2-d20c-4e77-90f3-fda3ba1c3172)\n",
       "    [FeatureMembership] PartUsage battery (d242560f-e9bb-4c8b-8dec-1f986aaac8e8)\n",
       "      [Subsetting] PartUsage parts (5e706ee2-d20c-4e77-90f3-fda3ba1c3172)\n",
       "    [FeatureMembership] PartUsage engine (2854968d-ba43-43a6-a084-5eec69b4cf7a)\n",
       "      [Subsetting] PartUsage parts (5e706ee2-d20c-4e77-90f3-fda3ba1c3172)\n",
       "    [FeatureMembership] PartUsage frontAxis (f43fe7ae-45cd-48e9-9865-48b3122161f5)\n",
       "      [Subsetting] PartUsage parts (5e706ee2-d20c-4e77-90f3-fda3ba1c3172)\n",
       "    [FeatureMembership] PartUsage rearAxis (6879ef31-fe69-43fa-b5ca-aced7a62bc14)\n",
       "      [Subsetting] PartUsage parts (5e706ee2-d20c-4e77-90f3-fda3ba1c3172)\n",
       "    [FeatureMembership] PartUsage frontWheel (5bcf168a-71ad-4e4a-acb2-52114c8cafae)\n",
       "      [Subsetting] PartUsage parts (5e706ee2-d20c-4e77-90f3-fda3ba1c3172)\n",
       "      [FeatureMembership] MultiplicityRange (3d9a5668-9492-46ad-a4ad-87e8b9125101)\n",
       "        [Redefinition] MultiplicityRange (6eb9a10a-860b-476f-bcf9-9c6d84179c59)\n",
       "        [FeatureMembership] LiteralInteger (2f669fe0-8d95-42af-b13e-a1644952d250)\n",
       "          [ReturnParameterMembership] Feature $result (285f4272-7b33-4266-8b83-c99fb56debe3)\n",
       "    [FeatureMembership] PartUsage rearWheel (182abdd2-1311-4de0-87fc-d39a741bcd9b)\n",
       "      [Subsetting] PartUsage parts (5e706ee2-d20c-4e77-90f3-fda3ba1c3172)\n",
       "      [FeatureMembership] MultiplicityRange (1968daf5-16b0-49e1-bfb2-9a6c1d8639d5)\n",
       "        [Redefinition] MultiplicityRange (6eb9a10a-860b-476f-bcf9-9c6d84179c59)\n",
       "        [FeatureMembership] LiteralInteger (fe54bf3b-6669-46be-916c-9dbbe518c76d)\n",
       "          [ReturnParameterMembership] Feature $result (1968801a-cd07-4682-a9d4-d888f1090b27)\n"
      ]
     },
     "execution_count": 11,
     "metadata": {},
     "output_type": "execute_result"
    }
   ],
   "source": [
    "%show eVehicle_LogicalArchitecture"
   ]
  },
  {
   "cell_type": "markdown",
   "metadata": {},
   "source": [
    "More convenient for the common model user, of course, is the graphical notation presented after the execution of the following cell:"
   ]
  },
  {
   "cell_type": "code",
   "execution_count": 12,
   "metadata": {},
   "outputs": [
    {
     "data": {
      "image/svg+xml": [
       "<?xml version=\"1.0\" encoding=\"UTF-8\" standalone=\"no\"?><svg xmlns=\"http://www.w3.org/2000/svg\" xmlns:xlink=\"http://www.w3.org/1999/xlink\" contentScriptType=\"application/ecmascript\" contentStyleType=\"text/css\" height=\"226px\" preserveAspectRatio=\"none\" style=\"width:825px;height:226px;\" version=\"1.1\" viewBox=\"0 0 825 226\" width=\"825px\" zoomAndPan=\"magnify\"><defs/><g><!--MD5=[fbc87193dbaf4d95561dea2c320d4a47]\n",
       "cluster E1--><polygon fill=\"#FFFFFF\" points=\"16,6,228,6,235,29.6094,803,29.6094,803,214,16,214,16,6\" style=\"stroke: #000000; stroke-width: 1.5;\"/><line style=\"stroke: #000000; stroke-width: 1.5;\" x1=\"16\" x2=\"235\" y1=\"29.6094\" y2=\"29.6094\"/><text fill=\"#000000\" font-family=\"sans-serif\" font-size=\"14\" font-weight=\"bold\" lengthAdjust=\"spacingAndGlyphs\" textLength=\"206\" x=\"20\" y=\"22.5332\">eVehicle_LogicalArchitecture</text><!--MD5=[b4997ac47864f28c2f74865a473b2911]\n",
       "class E2--><rect fill=\"#FFFFFF\" height=\"48.1875\" id=\"E2\" rx=\"10\" ry=\"10\" style=\"stroke: #383838; stroke-width: 1.5;\" width=\"81\" x=\"338.5\" y=\"42\"/><text fill=\"#000000\" font-family=\"sans-serif\" font-size=\"12\" font-style=\"italic\" lengthAdjust=\"spacingAndGlyphs\" textLength=\"35\" x=\"361.5\" y=\"59.457\">«part»</text><text fill=\"#000000\" font-family=\"sans-serif\" font-size=\"12\" lengthAdjust=\"spacingAndGlyphs\" textLength=\"75\" x=\"341.5\" y=\"74.5508\">eVehicle: Part</text><line style=\"stroke: #383838; stroke-width: 1.5;\" x1=\"339.5\" x2=\"418.5\" y1=\"82.1875\" y2=\"82.1875\"/><!--MD5=[09b614a08d8cba4a07c9adeb5e0fee81]\n",
       "class E3--><rect fill=\"#FFFFFF\" height=\"48.1875\" id=\"E3\" rx=\"10\" ry=\"10\" style=\"stroke: #383838; stroke-width: 1.5;\" width=\"60\" x=\"32\" y=\"150\"/><text fill=\"#000000\" font-family=\"sans-serif\" font-size=\"12\" font-style=\"italic\" lengthAdjust=\"spacingAndGlyphs\" textLength=\"35\" x=\"44.5\" y=\"167.457\">«part»</text><text fill=\"#000000\" font-family=\"sans-serif\" font-size=\"12\" lengthAdjust=\"spacingAndGlyphs\" textLength=\"54\" x=\"35\" y=\"182.5508\">body: Part</text><line style=\"stroke: #383838; stroke-width: 1.5;\" x1=\"33\" x2=\"91\" y1=\"190.1875\" y2=\"190.1875\"/><!--MD5=[ebbe1d658d1005bcc118a6aa81145e00]\n",
       "class E4--><rect fill=\"#FFFFFF\" height=\"48.1875\" id=\"E4\" rx=\"10\" ry=\"10\" style=\"stroke: #383838; stroke-width: 1.5;\" width=\"70\" x=\"127\" y=\"150\"/><text fill=\"#000000\" font-family=\"sans-serif\" font-size=\"12\" font-style=\"italic\" lengthAdjust=\"spacingAndGlyphs\" textLength=\"35\" x=\"144.5\" y=\"167.457\">«part»</text><text fill=\"#000000\" font-family=\"sans-serif\" font-size=\"12\" lengthAdjust=\"spacingAndGlyphs\" textLength=\"64\" x=\"130\" y=\"182.5508\">battery: Part</text><line style=\"stroke: #383838; stroke-width: 1.5;\" x1=\"128\" x2=\"196\" y1=\"190.1875\" y2=\"190.1875\"/><!--MD5=[270fce915f116d4de14055a7c1d9a0f3]\n",
       "class E5--><rect fill=\"#FFFFFF\" height=\"48.1875\" id=\"E5\" rx=\"10\" ry=\"10\" style=\"stroke: #383838; stroke-width: 1.5;\" width=\"72\" x=\"232\" y=\"150\"/><text fill=\"#000000\" font-family=\"sans-serif\" font-size=\"12\" font-style=\"italic\" lengthAdjust=\"spacingAndGlyphs\" textLength=\"35\" x=\"250.5\" y=\"167.457\">«part»</text><text fill=\"#000000\" font-family=\"sans-serif\" font-size=\"12\" lengthAdjust=\"spacingAndGlyphs\" textLength=\"66\" x=\"235\" y=\"182.5508\">engine: Part</text><line style=\"stroke: #383838; stroke-width: 1.5;\" x1=\"233\" x2=\"303\" y1=\"190.1875\" y2=\"190.1875\"/><!--MD5=[60a26617385b1d2d0262a64233df1f8d]\n",
       "class E6--><rect fill=\"#FFFFFF\" height=\"48.1875\" id=\"E6\" rx=\"10\" ry=\"10\" style=\"stroke: #383838; stroke-width: 1.5;\" width=\"80\" x=\"339\" y=\"150\"/><text fill=\"#000000\" font-family=\"sans-serif\" font-size=\"12\" font-style=\"italic\" lengthAdjust=\"spacingAndGlyphs\" textLength=\"35\" x=\"361.5\" y=\"167.457\">«part»</text><text fill=\"#000000\" font-family=\"sans-serif\" font-size=\"12\" lengthAdjust=\"spacingAndGlyphs\" textLength=\"74\" x=\"342\" y=\"182.5508\">frontAxis: Part</text><line style=\"stroke: #383838; stroke-width: 1.5;\" x1=\"340\" x2=\"418\" y1=\"190.1875\" y2=\"190.1875\"/><!--MD5=[2156ba9850f5573cc1fc38a6a4b2f02b]\n",
       "class E7--><rect fill=\"#FFFFFF\" height=\"48.1875\" id=\"E7\" rx=\"10\" ry=\"10\" style=\"stroke: #383838; stroke-width: 1.5;\" width=\"78\" x=\"454\" y=\"150\"/><text fill=\"#000000\" font-family=\"sans-serif\" font-size=\"12\" font-style=\"italic\" lengthAdjust=\"spacingAndGlyphs\" textLength=\"35\" x=\"475.5\" y=\"167.457\">«part»</text><text fill=\"#000000\" font-family=\"sans-serif\" font-size=\"12\" lengthAdjust=\"spacingAndGlyphs\" textLength=\"72\" x=\"457\" y=\"182.5508\">rearAxis: Part</text><line style=\"stroke: #383838; stroke-width: 1.5;\" x1=\"455\" x2=\"531\" y1=\"190.1875\" y2=\"190.1875\"/><!--MD5=[b9389687b975829384b498ac4b7476b2]\n",
       "class E8--><rect fill=\"#FFFFFF\" height=\"48.1875\" id=\"E8\" rx=\"10\" ry=\"10\" style=\"stroke: #383838; stroke-width: 1.5;\" width=\"93\" x=\"567.5\" y=\"150\"/><text fill=\"#000000\" font-family=\"sans-serif\" font-size=\"12\" font-style=\"italic\" lengthAdjust=\"spacingAndGlyphs\" textLength=\"35\" x=\"596.5\" y=\"167.457\">«part»</text><text fill=\"#000000\" font-family=\"sans-serif\" font-size=\"12\" lengthAdjust=\"spacingAndGlyphs\" textLength=\"87\" x=\"570.5\" y=\"182.5508\">frontWheel: Part</text><line style=\"stroke: #383838; stroke-width: 1.5;\" x1=\"568.5\" x2=\"659.5\" y1=\"190.1875\" y2=\"190.1875\"/><!--MD5=[fd4143e9d270a159db93a4ea2a975926]\n",
       "class E9--><rect fill=\"#FFFFFF\" height=\"48.1875\" id=\"E9\" rx=\"10\" ry=\"10\" style=\"stroke: #383838; stroke-width: 1.5;\" width=\"91\" x=\"695.5\" y=\"150\"/><text fill=\"#000000\" font-family=\"sans-serif\" font-size=\"12\" font-style=\"italic\" lengthAdjust=\"spacingAndGlyphs\" textLength=\"35\" x=\"723.5\" y=\"167.457\">«part»</text><text fill=\"#000000\" font-family=\"sans-serif\" font-size=\"12\" lengthAdjust=\"spacingAndGlyphs\" textLength=\"85\" x=\"698.5\" y=\"182.5508\">rearWheel: Part</text><line style=\"stroke: #383838; stroke-width: 1.5;\" x1=\"696.5\" x2=\"785.5\" y1=\"190.1875\" y2=\"190.1875\"/><!--MD5=[209b3feb70ccb6233bfe1053d122c12c]\n",
       "reverse link E2 to E3--><path d=\"M325.374,81.029 C270.503,95.967 183.159,121.366 110,150 C104.149,152.2902 98.019,154.9865 92.1719,157.7116 \" fill=\"none\" id=\"E2&lt;-E3\" style=\"stroke: #383838; stroke-width: 1.0;\"/><polygon fill=\"#383838\" points=\"338.258,77.552,331.423,75.2536,326.6725,80.6788,333.5075,82.9772,338.258,77.552\" style=\"stroke: #383838; stroke-width: 1.0;\"/><!--MD5=[9618e71518536f8baf3342ff6fdab317]\n",
       "reverse link E2 to E4--><path d=\"M326.754,92.521 C286.675,112.099 232.441,138.5911 197.337,155.7387 \" fill=\"none\" id=\"E2&lt;-E4\" style=\"stroke: #383838; stroke-width: 1.0;\"/><polygon fill=\"#383838\" points=\"338.439,86.813,331.2922,85.8522,327.6565,92.0796,334.8033,93.0405,338.439,86.813\" style=\"stroke: #383838; stroke-width: 1.0;\"/><!--MD5=[4e1a83fab71cdb913c109063314ae896]\n",
       "reverse link E2 to E5--><path d=\"M345.314,99.168 C328.265,115.45 307.949,134.8509 292.422,149.6784 \" fill=\"none\" id=\"E2&lt;-E5\" style=\"stroke: #383838; stroke-width: 1.0;\"/><polygon fill=\"#383838\" points=\"354.915,90,347.8132,91.2506,346.2361,98.2872,353.338,97.0365,354.915,90\" style=\"stroke: #383838; stroke-width: 1.0;\"/><!--MD5=[ce036f65110ae2351ccce5a81dc2e928]\n",
       "reverse link E2 to E6--><path d=\"M379,103.338 C379,118.681 379,136.098 379,149.6784 \" fill=\"none\" id=\"E2&lt;-E6\" style=\"stroke: #383838; stroke-width: 1.0;\"/><polygon fill=\"#383838\" points=\"379,90,375,96,379,102,383,96,379,90\" style=\"stroke: #383838; stroke-width: 1.0;\"/><!--MD5=[1c72b32696d764168c30777981ec3f66]\n",
       "reverse link E2 to E7--><path d=\"M413.596,99.168 C431.106,115.45 451.972,134.8509 467.918,149.6784 \" fill=\"none\" id=\"E2&lt;-E7\" style=\"stroke: #383838; stroke-width: 1.0;\"/><polygon fill=\"#383838\" points=\"403.736,90,405.4059,97.0151,412.5236,98.1718,410.8537,91.1567,403.736,90\" style=\"stroke: #383838; stroke-width: 1.0;\"/><!--MD5=[65f962d72b3a6bed1ede4f3c867e43a4]\n",
       "reverse link E2 to E8--><path d=\"M431.521,90.69 C472.265,109.069 528.214,134.3052 567.383,151.9729 \" fill=\"none\" id=\"E2&lt;-E8\" style=\"stroke: #383838; stroke-width: 1.0;\"/><polygon fill=\"#383838\" points=\"419.666,85.343,423.4907,91.4562,430.6047,90.277,426.78,84.1638,419.666,85.343\" style=\"stroke: #383838; stroke-width: 1.0;\"/><text fill=\"#000000\" font-family=\"sans-serif\" font-size=\"13\" lengthAdjust=\"spacingAndGlyphs\" textLength=\"7\" x=\"552.3956\" y=\"144.6955\">2</text><!--MD5=[4a91eb351f2fb42055d99b719d3dd418]\n",
       "reverse link E2 to E9--><path d=\"M432.868,80.578 C493.029,96.061 593.11,122.769 678,150 C683.654,151.8138 689.556,153.8178 695.383,155.8641 \" fill=\"none\" id=\"E2&lt;-E9\" style=\"stroke: #383838; stroke-width: 1.0;\"/><polygon fill=\"#383838\" points=\"419.928,77.263,424.7472,82.6273,431.5524,80.2419,426.7332,74.8777,419.928,77.263\" style=\"stroke: #383838; stroke-width: 1.0;\"/><text fill=\"#000000\" font-family=\"sans-serif\" font-size=\"13\" lengthAdjust=\"spacingAndGlyphs\" textLength=\"7\" x=\"680.555\" y=\"149.2069\">2</text><!--MD5=[b4d2cbc63e6fe8a97201b609dfee7ddf]\n",
       "@startuml\r\n",
       "skinparam monochrome true\r\n",
       "skinparam classbackgroundcolor white\r\n",
       "skinparam shadowing false\r\n",
       "skinparam wrapWidth 300\r\n",
       "hide circle\r\n",
       "\r\n",
       "package \"eVehicle_LogicalArchitecture\" as E1   {\r\n",
       "comp usage \"eVehicle: Part\" as E2  <<(T,blue)part>> {\r\n",
       "}\r\n",
       "comp usage \"body: Part\" as E3  <<(T,blue)part>> {\r\n",
       "}\r\n",
       "comp usage \"battery: Part\" as E4  <<(T,blue)part>> {\r\n",
       "}\r\n",
       "comp usage \"engine: Part\" as E5  <<(T,blue)part>> {\r\n",
       "}\r\n",
       "comp usage \"frontAxis: Part\" as E6  <<(T,blue)part>> {\r\n",
       "}\r\n",
       "comp usage \"rearAxis: Part\" as E7  <<(T,blue)part>> {\r\n",
       "}\r\n",
       "comp usage \"frontWheel: Part\" as E8  <<(T,blue)part>> {\r\n",
       "}\r\n",
       "comp usage \"rearWheel: Part\" as E9  <<(T,blue)part>> {\r\n",
       "}\r\n",
       "E2 *- - E3\r\n",
       "E2 *- - E4\r\n",
       "E2 *- - E5\r\n",
       "E2 *- - E6\r\n",
       "E2 *- - E7\r\n",
       "E2 *- - \"2\"E8\r\n",
       "E2 *- - \"2\"E9\r\n",
       "}\r\n",
       "@enduml\r\n",
       "\n",
       "PlantUML version 1.2020.13(Sat Jun 13 14:26:38 CEST 2020)\n",
       "(EPL source distribution)\n",
       "Java Runtime: OpenJDK Runtime Environment\n",
       "JVM: OpenJDK 64-Bit Server VM\n",
       "Default Encoding: Cp1252\n",
       "Language: en\n",
       "Country: US\n",
       "--></g></svg>"
      ]
     },
     "execution_count": 12,
     "metadata": {},
     "output_type": "execute_result"
    }
   ],
   "source": [
    "%viz --view=tree eVehicle_LogicalArchitecture"
   ]
  },
  {
   "cell_type": "markdown",
   "metadata": {},
   "source": [
    "The diagram is only a view, and not an editor. A graphical editor is not provided in the pilot implementation. Future SysML v2 modeling tools will certainly offer graphical editors."
   ]
  },
  {
   "cell_type": "markdown",
   "metadata": {},
   "source": [
    "### Changes to SysML v1\n",
    "\n",
    "SysML v2 is a complete new language with a different foundation than SysML v1. Therefore, there are plenty of differences. Here, we highlight only the changes that are most relevant to the modeler.\n",
    "\n",
    "If I had modeled the eHSUV in SysML v1, I would have had to first define blocks and then part properties whose types are the blocks.\n",
    "\n",
    "![eVehicle in SysML v1](evehicle-logical-architecture-sysmlv1.jpg)\n"
   ]
  },
  {
   "cell_type": "markdown",
   "metadata": {},
   "source": [
    "### Parts and PartDefinitions\n",
    "\n",
    "In SysML v2, you can define parts without types. However, you could define types if you like. A type can be used to reuse definitions. I extend our example and add a property to the wheel to specify the size. The type of the attribute is Integer. I skip units for now."
   ]
  },
  {
   "cell_type": "code",
   "execution_count": 13,
   "metadata": {},
   "outputs": [
    {
     "data": {
      "text/plain": [
       "Package eVehicle_LogicalArchitecture (8749589e-603e-4b3d-bdff-2219f9f4f758)\n"
      ]
     },
     "execution_count": 13,
     "metadata": {},
     "output_type": "execute_result"
    }
   ],
   "source": [
    "package eVehicle_LogicalArchitecture {\n",
    "    \n",
    "    import ScalarValues::Integer;\n",
    "    \n",
    "    part eVehicle {    \n",
    "        part body;\n",
    "        part battery;\n",
    "        part engine;\n",
    "        part frontAxis;\n",
    "        part rearAxis;\n",
    "        part frontWheel[2] {\n",
    "            attribute size : Integer;\n",
    "        }\n",
    "        part rearWheel[2] {\n",
    "            attribute size : Integer;\n",
    "        }\n",
    "    }\n",
    "}"
   ]
  },
  {
   "cell_type": "markdown",
   "metadata": {},
   "source": [
    "Run the cell with the SysML v2 model, and visualize the model. If you also would like to see the model structure, execute the %show command."
   ]
  },
  {
   "cell_type": "code",
   "execution_count": 14,
   "metadata": {},
   "outputs": [
    {
     "data": {
      "image/svg+xml": [
       "<?xml version=\"1.0\" encoding=\"UTF-8\" standalone=\"no\"?><svg xmlns=\"http://www.w3.org/2000/svg\" xmlns:xlink=\"http://www.w3.org/1999/xlink\" contentScriptType=\"application/ecmascript\" contentStyleType=\"text/css\" height=\"240px\" preserveAspectRatio=\"none\" style=\"width:825px;height:240px;\" version=\"1.1\" viewBox=\"0 0 825 240\" width=\"825px\" zoomAndPan=\"magnify\"><defs/><g><!--MD5=[fbc87193dbaf4d95561dea2c320d4a47]\n",
       "cluster E1--><polygon fill=\"#FFFFFF\" points=\"16,6,228,6,235,29.6094,803,29.6094,803,228,16,228,16,6\" style=\"stroke: #000000; stroke-width: 1.5;\"/><line style=\"stroke: #000000; stroke-width: 1.5;\" x1=\"16\" x2=\"235\" y1=\"29.6094\" y2=\"29.6094\"/><text fill=\"#000000\" font-family=\"sans-serif\" font-size=\"14\" font-weight=\"bold\" lengthAdjust=\"spacingAndGlyphs\" textLength=\"206\" x=\"20\" y=\"22.5332\">eVehicle_LogicalArchitecture</text><!--MD5=[b4997ac47864f28c2f74865a473b2911]\n",
       "class E2--><rect fill=\"#FFFFFF\" height=\"48.1875\" id=\"E2\" style=\"stroke: #383838; stroke-width: 1.5;\" width=\"67\" x=\"586.5\" y=\"42\"/><text fill=\"#000000\" font-family=\"sans-serif\" font-size=\"12\" font-style=\"italic\" lengthAdjust=\"spacingAndGlyphs\" textLength=\"65\" x=\"587.5\" y=\"59.457\">«dataType»</text><text fill=\"#000000\" font-family=\"sans-serif\" font-size=\"12\" lengthAdjust=\"spacingAndGlyphs\" textLength=\"38\" x=\"601\" y=\"74.5508\">Integer</text><line style=\"stroke: #383838; stroke-width: 1.5;\" x1=\"587.5\" x2=\"652.5\" y1=\"82.1875\" y2=\"82.1875\"/><!--MD5=[09b614a08d8cba4a07c9adeb5e0fee81]\n",
       "class E3--><rect fill=\"#FFFFFF\" height=\"48.1875\" id=\"E3\" rx=\"10\" ry=\"10\" style=\"stroke: #383838; stroke-width: 1.5;\" width=\"81\" x=\"338.5\" y=\"42\"/><text fill=\"#000000\" font-family=\"sans-serif\" font-size=\"12\" font-style=\"italic\" lengthAdjust=\"spacingAndGlyphs\" textLength=\"35\" x=\"361.5\" y=\"59.457\">«part»</text><text fill=\"#000000\" font-family=\"sans-serif\" font-size=\"12\" lengthAdjust=\"spacingAndGlyphs\" textLength=\"75\" x=\"341.5\" y=\"74.5508\">eVehicle: Part</text><line style=\"stroke: #383838; stroke-width: 1.5;\" x1=\"339.5\" x2=\"418.5\" y1=\"82.1875\" y2=\"82.1875\"/><!--MD5=[ebbe1d658d1005bcc118a6aa81145e00]\n",
       "class E4--><rect fill=\"#FFFFFF\" height=\"48.1875\" id=\"E4\" rx=\"10\" ry=\"10\" style=\"stroke: #383838; stroke-width: 1.5;\" width=\"60\" x=\"32\" y=\"157\"/><text fill=\"#000000\" font-family=\"sans-serif\" font-size=\"12\" font-style=\"italic\" lengthAdjust=\"spacingAndGlyphs\" textLength=\"35\" x=\"44.5\" y=\"174.457\">«part»</text><text fill=\"#000000\" font-family=\"sans-serif\" font-size=\"12\" lengthAdjust=\"spacingAndGlyphs\" textLength=\"54\" x=\"35\" y=\"189.5508\">body: Part</text><line style=\"stroke: #383838; stroke-width: 1.5;\" x1=\"33\" x2=\"91\" y1=\"197.1875\" y2=\"197.1875\"/><!--MD5=[270fce915f116d4de14055a7c1d9a0f3]\n",
       "class E5--><rect fill=\"#FFFFFF\" height=\"48.1875\" id=\"E5\" rx=\"10\" ry=\"10\" style=\"stroke: #383838; stroke-width: 1.5;\" width=\"70\" x=\"127\" y=\"157\"/><text fill=\"#000000\" font-family=\"sans-serif\" font-size=\"12\" font-style=\"italic\" lengthAdjust=\"spacingAndGlyphs\" textLength=\"35\" x=\"144.5\" y=\"174.457\">«part»</text><text fill=\"#000000\" font-family=\"sans-serif\" font-size=\"12\" lengthAdjust=\"spacingAndGlyphs\" textLength=\"64\" x=\"130\" y=\"189.5508\">battery: Part</text><line style=\"stroke: #383838; stroke-width: 1.5;\" x1=\"128\" x2=\"196\" y1=\"197.1875\" y2=\"197.1875\"/><!--MD5=[60a26617385b1d2d0262a64233df1f8d]\n",
       "class E6--><rect fill=\"#FFFFFF\" height=\"48.1875\" id=\"E6\" rx=\"10\" ry=\"10\" style=\"stroke: #383838; stroke-width: 1.5;\" width=\"72\" x=\"232\" y=\"157\"/><text fill=\"#000000\" font-family=\"sans-serif\" font-size=\"12\" font-style=\"italic\" lengthAdjust=\"spacingAndGlyphs\" textLength=\"35\" x=\"250.5\" y=\"174.457\">«part»</text><text fill=\"#000000\" font-family=\"sans-serif\" font-size=\"12\" lengthAdjust=\"spacingAndGlyphs\" textLength=\"66\" x=\"235\" y=\"189.5508\">engine: Part</text><line style=\"stroke: #383838; stroke-width: 1.5;\" x1=\"233\" x2=\"303\" y1=\"197.1875\" y2=\"197.1875\"/><!--MD5=[2156ba9850f5573cc1fc38a6a4b2f02b]\n",
       "class E7--><rect fill=\"#FFFFFF\" height=\"48.1875\" id=\"E7\" rx=\"10\" ry=\"10\" style=\"stroke: #383838; stroke-width: 1.5;\" width=\"80\" x=\"339\" y=\"157\"/><text fill=\"#000000\" font-family=\"sans-serif\" font-size=\"12\" font-style=\"italic\" lengthAdjust=\"spacingAndGlyphs\" textLength=\"35\" x=\"361.5\" y=\"174.457\">«part»</text><text fill=\"#000000\" font-family=\"sans-serif\" font-size=\"12\" lengthAdjust=\"spacingAndGlyphs\" textLength=\"74\" x=\"342\" y=\"189.5508\">frontAxis: Part</text><line style=\"stroke: #383838; stroke-width: 1.5;\" x1=\"340\" x2=\"418\" y1=\"197.1875\" y2=\"197.1875\"/><!--MD5=[b9389687b975829384b498ac4b7476b2]\n",
       "class E8--><rect fill=\"#FFFFFF\" height=\"48.1875\" id=\"E8\" rx=\"10\" ry=\"10\" style=\"stroke: #383838; stroke-width: 1.5;\" width=\"78\" x=\"454\" y=\"157\"/><text fill=\"#000000\" font-family=\"sans-serif\" font-size=\"12\" font-style=\"italic\" lengthAdjust=\"spacingAndGlyphs\" textLength=\"35\" x=\"475.5\" y=\"174.457\">«part»</text><text fill=\"#000000\" font-family=\"sans-serif\" font-size=\"12\" lengthAdjust=\"spacingAndGlyphs\" textLength=\"72\" x=\"457\" y=\"189.5508\">rearAxis: Part</text><line style=\"stroke: #383838; stroke-width: 1.5;\" x1=\"455\" x2=\"531\" y1=\"197.1875\" y2=\"197.1875\"/><!--MD5=[fd4143e9d270a159db93a4ea2a975926]\n",
       "class E9--><rect fill=\"#FFFFFF\" height=\"62.0234\" id=\"E9\" rx=\"10\" ry=\"10\" style=\"stroke: #383838; stroke-width: 1.5;\" width=\"93\" x=\"567.5\" y=\"150\"/><text fill=\"#000000\" font-family=\"sans-serif\" font-size=\"12\" font-style=\"italic\" lengthAdjust=\"spacingAndGlyphs\" textLength=\"35\" x=\"596.5\" y=\"167.457\">«part»</text><text fill=\"#000000\" font-family=\"sans-serif\" font-size=\"12\" lengthAdjust=\"spacingAndGlyphs\" textLength=\"87\" x=\"570.5\" y=\"182.5508\">frontWheel: Part</text><line style=\"stroke: #383838; stroke-width: 1.5;\" x1=\"568.5\" x2=\"659.5\" y1=\"190.1875\" y2=\"190.1875\"/><text fill=\"#000000\" font-family=\"sans-serif\" font-size=\"11\" lengthAdjust=\"spacingAndGlyphs\" textLength=\"59\" x=\"573.5\" y=\"205.6064\">size: Integer</text><!--MD5=[96f4274e9e20536e775497830990834d]\n",
       "class E10--><rect fill=\"#FFFFFF\" height=\"62.0234\" id=\"E10\" rx=\"10\" ry=\"10\" style=\"stroke: #383838; stroke-width: 1.5;\" width=\"91\" x=\"695.5\" y=\"150\"/><text fill=\"#000000\" font-family=\"sans-serif\" font-size=\"12\" font-style=\"italic\" lengthAdjust=\"spacingAndGlyphs\" textLength=\"35\" x=\"723.5\" y=\"167.457\">«part»</text><text fill=\"#000000\" font-family=\"sans-serif\" font-size=\"12\" lengthAdjust=\"spacingAndGlyphs\" textLength=\"85\" x=\"698.5\" y=\"182.5508\">rearWheel: Part</text><line style=\"stroke: #383838; stroke-width: 1.5;\" x1=\"696.5\" x2=\"785.5\" y1=\"190.1875\" y2=\"190.1875\"/><text fill=\"#000000\" font-family=\"sans-serif\" font-size=\"11\" lengthAdjust=\"spacingAndGlyphs\" textLength=\"59\" x=\"701.5\" y=\"205.6064\">size: Integer</text><!--MD5=[4672eba38e49728da53d11aeb285b987]\n",
       "reverse link E3 to E4--><path d=\"M325.49,79.148 C270.105,92.716 181.802,117.162 110,150 C104.012,152.7384 97.871,156.0983 92.0666,159.5668 \" fill=\"none\" id=\"E3&lt;-E4\" style=\"stroke: #383838; stroke-width: 1.0;\"/><polygon fill=\"#383838\" points=\"338.15,76.095,331.3796,73.6127,326.4843,78.9076,333.2547,81.3899,338.15,76.095\" style=\"stroke: #383838; stroke-width: 1.0;\"/><!--MD5=[191cde3d490a3f6d7bb551fe3ddca469]\n",
       "reverse link E3 to E5--><path d=\"M326.412,92.836 C294.08,108.913 251.915,130.225 215,150 C209.222,153.0955 203.133,156.4513 197.224,159.7596 \" fill=\"none\" id=\"E3&lt;-E5\" style=\"stroke: #383838; stroke-width: 1.0;\"/><polygon fill=\"#383838\" points=\"338.291,86.945,331.1385,86.0274,327.5405,92.2767,334.693,93.1944,338.291,86.945\" style=\"stroke: #383838; stroke-width: 1.0;\"/><!--MD5=[1026b4b93417a13aa8999a858998add2]\n",
       "reverse link E3 to E6--><path d=\"M347.008,99.569 C328.995,117.906 306.929,140.369 290.7,156.891 \" fill=\"none\" id=\"E3&lt;-E6\" style=\"stroke: #383838; stroke-width: 1.0;\"/><polygon fill=\"#383838\" points=\"356.27,90.14,349.2119,91.6173,347.8609,98.7008,354.919,97.2234,356.27,90.14\" style=\"stroke: #383838; stroke-width: 1.0;\"/><!--MD5=[85760999379eecfd2565a9fecdca67e4]\n",
       "reverse link E3 to E7--><path d=\"M379,103.167 C379,120.78 379,141.435 379,156.891 \" fill=\"none\" id=\"E3&lt;-E7\" style=\"stroke: #383838; stroke-width: 1.0;\"/><polygon fill=\"#383838\" points=\"379,90.14,375,96.14,379,102.14,383,96.14,379,90.14\" style=\"stroke: #383838; stroke-width: 1.0;\"/><!--MD5=[4cb75b73ec3682b8f7f8edc9cc86126a]\n",
       "reverse link E3 to E8--><path d=\"M411.601,99.315 C430.148,117.699 452.942,140.293 469.687,156.891 \" fill=\"none\" id=\"E3&lt;-E8\" style=\"stroke: #383838; stroke-width: 1.0;\"/><polygon fill=\"#383838\" points=\"402.345,90.14,403.79,97.2048,410.8671,98.5883,409.4222,91.5234,402.345,90.14\" style=\"stroke: #383838; stroke-width: 1.0;\"/><!--MD5=[f7e0269b2e2fed3d07255bf4c5cf9d61]\n",
       "reverse link E3 to E9--><path d=\"M431.521,92.255 C472.265,111.847 528.214,138.75 567.383,157.5844 \" fill=\"none\" id=\"E3&lt;-E9\" style=\"stroke: #383838; stroke-width: 1.0;\"/><polygon fill=\"#383838\" points=\"419.666,86.554,423.3402,92.7589,430.4809,91.7538,426.8067,85.5489,419.666,86.554\" style=\"stroke: #383838; stroke-width: 1.0;\"/><text fill=\"#000000\" font-family=\"sans-serif\" font-size=\"13\" lengthAdjust=\"spacingAndGlyphs\" textLength=\"7\" x=\"552.3956\" y=\"150.0983\">2</text><!--MD5=[622114938c97d4dd2a5a002a72a9cb82]\n",
       "reverse link E3 to E10--><path d=\"M432.876,78.969 C493.439,93.107 594.254,118.707 678,150 C683.674,152.1201 689.535,154.5565 695.293,157.1047 \" fill=\"none\" id=\"E3&lt;-E10\" style=\"stroke: #383838; stroke-width: 1.0;\"/><polygon fill=\"#383838\" points=\"419.85,75.96,424.7952,81.2083,431.5418,78.6621,426.5966,73.4138,419.85,75.96\" style=\"stroke: #383838; stroke-width: 1.0;\"/><text fill=\"#000000\" font-family=\"sans-serif\" font-size=\"13\" lengthAdjust=\"spacingAndGlyphs\" textLength=\"7\" x=\"680.4506\" y=\"149.543\">2</text><!--MD5=[e98863524cf6f7525097ff8eeedf8307]\n",
       "@startuml\r\n",
       "skinparam monochrome true\r\n",
       "skinparam classbackgroundcolor white\r\n",
       "skinparam shadowing false\r\n",
       "skinparam wrapWidth 300\r\n",
       "hide circle\r\n",
       "\r\n",
       "package \"eVehicle_LogicalArchitecture\" as E1   {\r\n",
       "comp def \"Integer\" as E2  <<(T,blue)dataType>> {\r\n",
       "}\r\n",
       "comp usage \"eVehicle: Part\" as E3  <<(T,blue)part>> {\r\n",
       "}\r\n",
       "comp usage \"body: Part\" as E4  <<(T,blue)part>> {\r\n",
       "}\r\n",
       "comp usage \"battery: Part\" as E5  <<(T,blue)part>> {\r\n",
       "}\r\n",
       "comp usage \"engine: Part\" as E6  <<(T,blue)part>> {\r\n",
       "}\r\n",
       "comp usage \"frontAxis: Part\" as E7  <<(T,blue)part>> {\r\n",
       "}\r\n",
       "comp usage \"rearAxis: Part\" as E8  <<(T,blue)part>> {\r\n",
       "}\r\n",
       "comp usage \"frontWheel: Part\" as E9  <<(T,blue)part>> {\r\n",
       "size: Integer\r\n",
       "}\r\n",
       "comp usage \"rearWheel: Part\" as E10  <<(T,blue)part>> {\r\n",
       "size: Integer\r\n",
       "}\r\n",
       "E3 *- - E4\r\n",
       "E3 *- - E5\r\n",
       "E3 *- - E6\r\n",
       "E3 *- - E7\r\n",
       "E3 *- - E8\r\n",
       "E3 *- - \"2\"E9\r\n",
       "E3 *- - \"2\"E10\r\n",
       "}\r\n",
       "@enduml\r\n",
       "\n",
       "PlantUML version 1.2020.13(Sat Jun 13 14:26:38 CEST 2020)\n",
       "(EPL source distribution)\n",
       "Java Runtime: OpenJDK Runtime Environment\n",
       "JVM: OpenJDK 64-Bit Server VM\n",
       "Default Encoding: Cp1252\n",
       "Language: en\n",
       "Country: US\n",
       "--></g></svg>"
      ]
     },
     "execution_count": 14,
     "metadata": {},
     "output_type": "execute_result"
    }
   ],
   "source": [
    "%viz --view=tree eVehicle_LogicalArchitecture"
   ]
  },
  {
   "cell_type": "markdown",
   "metadata": {},
   "source": [
    "Although it is still very simple, the model already smells of reuse. The size attribute is currently defined twice. Now we define a type repsectively PartDefinition Wheels and specify that as the type of Parts."
   ]
  },
  {
   "cell_type": "code",
   "execution_count": 15,
   "metadata": {},
   "outputs": [
    {
     "data": {
      "text/plain": [
       "Package eVehicle_Definitions (fb0059e2-6f8f-4072-80f6-cd9fea70d935)\n",
       "Package eVehicle_LogicalArchitecture (35d47a1a-c6d6-41e5-8d7d-af0e3166e933)\n"
      ]
     },
     "execution_count": 15,
     "metadata": {},
     "output_type": "execute_result"
    }
   ],
   "source": [
    "package eVehicle_Definitions {\n",
    "\n",
    "    import ScalarValues::Integer;   \n",
    "    \n",
    "    part def Wheel {\n",
    "        attribute size : Integer;\n",
    "    }\n",
    "}\n",
    "\n",
    "package eVehicle_LogicalArchitecture {\n",
    "\n",
    "    import eVehicle_Definitions::*;\n",
    "    \n",
    "    part eVehicle {    \n",
    "        part body;\n",
    "        part battery;\n",
    "        part engine;\n",
    "        part frontAxis;\n",
    "        part rearAxis;\n",
    "        part frontWheel : Wheel[2];\n",
    "        part rearWheel : Wheel[2];\n",
    "    }\n",
    "}"
   ]
  },
  {
   "cell_type": "code",
   "execution_count": 7,
   "metadata": {},
   "outputs": [
    {
     "data": {
      "image/svg+xml": [
       "<?xml version=\"1.0\" encoding=\"UTF-8\" standalone=\"no\"?><svg xmlns=\"http://www.w3.org/2000/svg\" xmlns:xlink=\"http://www.w3.org/1999/xlink\" contentScriptType=\"application/ecmascript\" contentStyleType=\"text/css\" height=\"132px\" preserveAspectRatio=\"none\" style=\"width:244px;height:132px;\" version=\"1.1\" viewBox=\"0 0 244 132\" width=\"244px\" zoomAndPan=\"magnify\"><defs/><g><!--MD5=[fbc87193dbaf4d95561dea2c320d4a47]\n",
       "cluster E1--><polygon fill=\"#FFFFFF\" points=\"16,6,167,6,174,29.6094,222,29.6094,222,120,16,120,16,6\" style=\"stroke: #000000; stroke-width: 1.5;\"/><line style=\"stroke: #000000; stroke-width: 1.5;\" x1=\"16\" x2=\"174\" y1=\"29.6094\" y2=\"29.6094\"/><text fill=\"#000000\" font-family=\"sans-serif\" font-size=\"14\" font-weight=\"bold\" lengthAdjust=\"spacingAndGlyphs\" textLength=\"145\" x=\"20\" y=\"22.5332\">eVehicle_Definitions</text><!--MD5=[b4997ac47864f28c2f74865a473b2911]\n",
       "class E2--><rect fill=\"#FFFFFF\" height=\"48.1875\" id=\"E2\" style=\"stroke: #383838; stroke-width: 1.5;\" width=\"67\" x=\"138.5\" y=\"49\"/><text fill=\"#000000\" font-family=\"sans-serif\" font-size=\"12\" font-style=\"italic\" lengthAdjust=\"spacingAndGlyphs\" textLength=\"65\" x=\"139.5\" y=\"66.457\">«dataType»</text><text fill=\"#000000\" font-family=\"sans-serif\" font-size=\"12\" lengthAdjust=\"spacingAndGlyphs\" textLength=\"38\" x=\"153\" y=\"81.5508\">Integer</text><line style=\"stroke: #383838; stroke-width: 1.5;\" x1=\"139.5\" x2=\"204.5\" y1=\"89.1875\" y2=\"89.1875\"/><!--MD5=[09b614a08d8cba4a07c9adeb5e0fee81]\n",
       "class E3--><rect fill=\"#FFFFFF\" height=\"62.0234\" id=\"E3\" style=\"stroke: #383838; stroke-width: 1.5;\" width=\"71\" x=\"32.5\" y=\"42\"/><text fill=\"#000000\" font-family=\"sans-serif\" font-size=\"12\" font-style=\"italic\" lengthAdjust=\"spacingAndGlyphs\" textLength=\"55\" x=\"40.5\" y=\"59.457\">«part def»</text><text fill=\"#000000\" font-family=\"sans-serif\" font-size=\"12\" lengthAdjust=\"spacingAndGlyphs\" textLength=\"35\" x=\"50.5\" y=\"74.5508\">Wheel</text><line style=\"stroke: #383838; stroke-width: 1.5;\" x1=\"33.5\" x2=\"102.5\" y1=\"82.1875\" y2=\"82.1875\"/><text fill=\"#000000\" font-family=\"sans-serif\" font-size=\"11\" lengthAdjust=\"spacingAndGlyphs\" textLength=\"59\" x=\"38.5\" y=\"97.6064\">size: Integer</text><!--MD5=[371b71c21fa9e3a2ef3b90ac3732c26e]\n",
       "@startuml\r\n",
       "skinparam monochrome true\r\n",
       "skinparam classbackgroundcolor white\r\n",
       "skinparam shadowing false\r\n",
       "skinparam wrapWidth 300\r\n",
       "hide circle\r\n",
       "\r\n",
       "package \"eVehicle_Definitions\" as E1   {\r\n",
       "comp def \"Integer\" as E2  <<(T,blue)dataType>> {\r\n",
       "}\r\n",
       "comp def \"Wheel\" as E3  <<(T,blue)part def>> {\r\n",
       "size: Integer\r\n",
       "}\r\n",
       "}\r\n",
       "@enduml\r\n",
       "\n",
       "PlantUML version 1.2020.13(Sat Jun 13 14:26:38 CEST 2020)\n",
       "(EPL source distribution)\n",
       "Java Runtime: OpenJDK Runtime Environment\n",
       "JVM: OpenJDK 64-Bit Server VM\n",
       "Default Encoding: Cp1252\n",
       "Language: en\n",
       "Country: US\n",
       "--></g></svg>"
      ]
     },
     "execution_count": 7,
     "metadata": {},
     "output_type": "execute_result"
    }
   ],
   "source": [
    "%viz --view=tree eVehicle_Definitions"
   ]
  },
  {
   "cell_type": "code",
   "execution_count": 16,
   "metadata": {},
   "outputs": [
    {
     "data": {
      "image/svg+xml": [
       "<?xml version=\"1.0\" encoding=\"UTF-8\" standalone=\"no\"?><svg xmlns=\"http://www.w3.org/2000/svg\" xmlns:xlink=\"http://www.w3.org/1999/xlink\" contentScriptType=\"application/ecmascript\" contentStyleType=\"text/css\" height=\"226px\" preserveAspectRatio=\"none\" style=\"width:850px;height:226px;\" version=\"1.1\" viewBox=\"0 0 850 226\" width=\"850px\" zoomAndPan=\"magnify\"><defs/><g><!--MD5=[fbc87193dbaf4d95561dea2c320d4a47]\n",
       "cluster E1--><polygon fill=\"#FFFFFF\" points=\"16,6,228,6,235,29.6094,828,29.6094,828,214,16,214,16,6\" style=\"stroke: #000000; stroke-width: 1.5;\"/><line style=\"stroke: #000000; stroke-width: 1.5;\" x1=\"16\" x2=\"235\" y1=\"29.6094\" y2=\"29.6094\"/><text fill=\"#000000\" font-family=\"sans-serif\" font-size=\"14\" font-weight=\"bold\" lengthAdjust=\"spacingAndGlyphs\" textLength=\"206\" x=\"20\" y=\"22.5332\">eVehicle_LogicalArchitecture</text><!--MD5=[b4997ac47864f28c2f74865a473b2911]\n",
       "class E2--><rect fill=\"#FFFFFF\" height=\"48.1875\" id=\"E2\" rx=\"10\" ry=\"10\" style=\"stroke: #383838; stroke-width: 1.5;\" width=\"81\" x=\"338.5\" y=\"42\"/><text fill=\"#000000\" font-family=\"sans-serif\" font-size=\"12\" font-style=\"italic\" lengthAdjust=\"spacingAndGlyphs\" textLength=\"35\" x=\"361.5\" y=\"59.457\">«part»</text><text fill=\"#000000\" font-family=\"sans-serif\" font-size=\"12\" lengthAdjust=\"spacingAndGlyphs\" textLength=\"75\" x=\"341.5\" y=\"74.5508\">eVehicle: Part</text><line style=\"stroke: #383838; stroke-width: 1.5;\" x1=\"339.5\" x2=\"418.5\" y1=\"82.1875\" y2=\"82.1875\"/><!--MD5=[09b614a08d8cba4a07c9adeb5e0fee81]\n",
       "class E3--><rect fill=\"#FFFFFF\" height=\"48.1875\" id=\"E3\" rx=\"10\" ry=\"10\" style=\"stroke: #383838; stroke-width: 1.5;\" width=\"60\" x=\"32\" y=\"150\"/><text fill=\"#000000\" font-family=\"sans-serif\" font-size=\"12\" font-style=\"italic\" lengthAdjust=\"spacingAndGlyphs\" textLength=\"35\" x=\"44.5\" y=\"167.457\">«part»</text><text fill=\"#000000\" font-family=\"sans-serif\" font-size=\"12\" lengthAdjust=\"spacingAndGlyphs\" textLength=\"54\" x=\"35\" y=\"182.5508\">body: Part</text><line style=\"stroke: #383838; stroke-width: 1.5;\" x1=\"33\" x2=\"91\" y1=\"190.1875\" y2=\"190.1875\"/><!--MD5=[ebbe1d658d1005bcc118a6aa81145e00]\n",
       "class E4--><rect fill=\"#FFFFFF\" height=\"48.1875\" id=\"E4\" rx=\"10\" ry=\"10\" style=\"stroke: #383838; stroke-width: 1.5;\" width=\"70\" x=\"127\" y=\"150\"/><text fill=\"#000000\" font-family=\"sans-serif\" font-size=\"12\" font-style=\"italic\" lengthAdjust=\"spacingAndGlyphs\" textLength=\"35\" x=\"144.5\" y=\"167.457\">«part»</text><text fill=\"#000000\" font-family=\"sans-serif\" font-size=\"12\" lengthAdjust=\"spacingAndGlyphs\" textLength=\"64\" x=\"130\" y=\"182.5508\">battery: Part</text><line style=\"stroke: #383838; stroke-width: 1.5;\" x1=\"128\" x2=\"196\" y1=\"190.1875\" y2=\"190.1875\"/><!--MD5=[270fce915f116d4de14055a7c1d9a0f3]\n",
       "class E5--><rect fill=\"#FFFFFF\" height=\"48.1875\" id=\"E5\" rx=\"10\" ry=\"10\" style=\"stroke: #383838; stroke-width: 1.5;\" width=\"72\" x=\"232\" y=\"150\"/><text fill=\"#000000\" font-family=\"sans-serif\" font-size=\"12\" font-style=\"italic\" lengthAdjust=\"spacingAndGlyphs\" textLength=\"35\" x=\"250.5\" y=\"167.457\">«part»</text><text fill=\"#000000\" font-family=\"sans-serif\" font-size=\"12\" lengthAdjust=\"spacingAndGlyphs\" textLength=\"66\" x=\"235\" y=\"182.5508\">engine: Part</text><line style=\"stroke: #383838; stroke-width: 1.5;\" x1=\"233\" x2=\"303\" y1=\"190.1875\" y2=\"190.1875\"/><!--MD5=[60a26617385b1d2d0262a64233df1f8d]\n",
       "class E6--><rect fill=\"#FFFFFF\" height=\"48.1875\" id=\"E6\" rx=\"10\" ry=\"10\" style=\"stroke: #383838; stroke-width: 1.5;\" width=\"80\" x=\"339\" y=\"150\"/><text fill=\"#000000\" font-family=\"sans-serif\" font-size=\"12\" font-style=\"italic\" lengthAdjust=\"spacingAndGlyphs\" textLength=\"35\" x=\"361.5\" y=\"167.457\">«part»</text><text fill=\"#000000\" font-family=\"sans-serif\" font-size=\"12\" lengthAdjust=\"spacingAndGlyphs\" textLength=\"74\" x=\"342\" y=\"182.5508\">frontAxis: Part</text><line style=\"stroke: #383838; stroke-width: 1.5;\" x1=\"340\" x2=\"418\" y1=\"190.1875\" y2=\"190.1875\"/><!--MD5=[2156ba9850f5573cc1fc38a6a4b2f02b]\n",
       "class E7--><rect fill=\"#FFFFFF\" height=\"48.1875\" id=\"E7\" rx=\"10\" ry=\"10\" style=\"stroke: #383838; stroke-width: 1.5;\" width=\"78\" x=\"454\" y=\"150\"/><text fill=\"#000000\" font-family=\"sans-serif\" font-size=\"12\" font-style=\"italic\" lengthAdjust=\"spacingAndGlyphs\" textLength=\"35\" x=\"475.5\" y=\"167.457\">«part»</text><text fill=\"#000000\" font-family=\"sans-serif\" font-size=\"12\" lengthAdjust=\"spacingAndGlyphs\" textLength=\"72\" x=\"457\" y=\"182.5508\">rearAxis: Part</text><line style=\"stroke: #383838; stroke-width: 1.5;\" x1=\"455\" x2=\"531\" y1=\"190.1875\" y2=\"190.1875\"/><!--MD5=[b9389687b975829384b498ac4b7476b2]\n",
       "class E8--><rect fill=\"#FFFFFF\" height=\"48.1875\" id=\"E8\" rx=\"10\" ry=\"10\" style=\"stroke: #383838; stroke-width: 1.5;\" width=\"106\" x=\"567\" y=\"150\"/><text fill=\"#000000\" font-family=\"sans-serif\" font-size=\"12\" font-style=\"italic\" lengthAdjust=\"spacingAndGlyphs\" textLength=\"35\" x=\"602.5\" y=\"167.457\">«part»</text><text fill=\"#000000\" font-family=\"sans-serif\" font-size=\"12\" lengthAdjust=\"spacingAndGlyphs\" textLength=\"100\" x=\"570\" y=\"182.5508\">frontWheel: Wheel</text><line style=\"stroke: #383838; stroke-width: 1.5;\" x1=\"568\" x2=\"672\" y1=\"190.1875\" y2=\"190.1875\"/><!--MD5=[fd4143e9d270a159db93a4ea2a975926]\n",
       "class E9--><rect fill=\"#FFFFFF\" height=\"48.1875\" id=\"E9\" rx=\"10\" ry=\"10\" style=\"stroke: #383838; stroke-width: 1.5;\" width=\"104\" x=\"708\" y=\"150\"/><text fill=\"#000000\" font-family=\"sans-serif\" font-size=\"12\" font-style=\"italic\" lengthAdjust=\"spacingAndGlyphs\" textLength=\"35\" x=\"742.5\" y=\"167.457\">«part»</text><text fill=\"#000000\" font-family=\"sans-serif\" font-size=\"12\" lengthAdjust=\"spacingAndGlyphs\" textLength=\"98\" x=\"711\" y=\"182.5508\">rearWheel: Wheel</text><line style=\"stroke: #383838; stroke-width: 1.5;\" x1=\"709\" x2=\"811\" y1=\"190.1875\" y2=\"190.1875\"/><!--MD5=[209b3feb70ccb6233bfe1053d122c12c]\n",
       "reverse link E2 to E3--><path d=\"M325.374,81.029 C270.503,95.967 183.159,121.366 110,150 C104.149,152.2902 98.019,154.9865 92.1719,157.7116 \" fill=\"none\" id=\"E2&lt;-E3\" style=\"stroke: #383838; stroke-width: 1.0;\"/><polygon fill=\"#383838\" points=\"338.258,77.552,331.423,75.2536,326.6725,80.6788,333.5075,82.9772,338.258,77.552\" style=\"stroke: #383838; stroke-width: 1.0;\"/><!--MD5=[9618e71518536f8baf3342ff6fdab317]\n",
       "reverse link E2 to E4--><path d=\"M326.754,92.521 C286.675,112.099 232.441,138.5911 197.337,155.7387 \" fill=\"none\" id=\"E2&lt;-E4\" style=\"stroke: #383838; stroke-width: 1.0;\"/><polygon fill=\"#383838\" points=\"338.439,86.813,331.2922,85.8522,327.6565,92.0796,334.8033,93.0405,338.439,86.813\" style=\"stroke: #383838; stroke-width: 1.0;\"/><!--MD5=[4e1a83fab71cdb913c109063314ae896]\n",
       "reverse link E2 to E5--><path d=\"M345.314,99.168 C328.265,115.45 307.949,134.8509 292.422,149.6784 \" fill=\"none\" id=\"E2&lt;-E5\" style=\"stroke: #383838; stroke-width: 1.0;\"/><polygon fill=\"#383838\" points=\"354.915,90,347.8132,91.2506,346.2361,98.2872,353.338,97.0365,354.915,90\" style=\"stroke: #383838; stroke-width: 1.0;\"/><!--MD5=[ce036f65110ae2351ccce5a81dc2e928]\n",
       "reverse link E2 to E6--><path d=\"M379,103.338 C379,118.681 379,136.098 379,149.6784 \" fill=\"none\" id=\"E2&lt;-E6\" style=\"stroke: #383838; stroke-width: 1.0;\"/><polygon fill=\"#383838\" points=\"379,90,375,96,379,102,383,96,379,90\" style=\"stroke: #383838; stroke-width: 1.0;\"/><!--MD5=[1c72b32696d764168c30777981ec3f66]\n",
       "reverse link E2 to E7--><path d=\"M413.596,99.168 C431.106,115.45 451.972,134.8509 467.918,149.6784 \" fill=\"none\" id=\"E2&lt;-E7\" style=\"stroke: #383838; stroke-width: 1.0;\"/><polygon fill=\"#383838\" points=\"403.736,90,405.4059,97.0151,412.5236,98.1718,410.8537,91.1567,403.736,90\" style=\"stroke: #383838; stroke-width: 1.0;\"/><!--MD5=[65f962d72b3a6bed1ede4f3c867e43a4]\n",
       "reverse link E2 to E8--><path d=\"M431.59,90.131 C471.855,107.841 527.141,132.1573 567.406,149.8676 \" fill=\"none\" id=\"E2&lt;-E8\" style=\"stroke: #383838; stroke-width: 1.0;\"/><polygon fill=\"#383838\" points=\"419.61,84.862,423.4917,90.9392,430.5944,89.6935,426.7127,83.6163,419.61,84.862\" style=\"stroke: #383838; stroke-width: 1.0;\"/><text fill=\"#000000\" font-family=\"sans-serif\" font-size=\"13\" lengthAdjust=\"spacingAndGlyphs\" textLength=\"7\" x=\"552.1672\" y=\"142.6553\">2</text><!--MD5=[4a91eb351f2fb42055d99b719d3dd418]\n",
       "reverse link E2 to E9--><path d=\"M432.616,80.192 C494.999,95.787 600.954,123.043 691,150 C696.444,151.6296 702.105,153.397 707.741,155.2034 \" fill=\"none\" id=\"E2&lt;-E9\" style=\"stroke: #383838; stroke-width: 1.0;\"/><polygon fill=\"#383838\" points=\"419.612,76.952,424.4671,82.2838,431.2561,79.8528,426.401,74.521,419.612,76.952\" style=\"stroke: #383838; stroke-width: 1.0;\"/><text fill=\"#000000\" font-family=\"sans-serif\" font-size=\"13\" lengthAdjust=\"spacingAndGlyphs\" textLength=\"7\" x=\"692.8999\" y=\"148.9418\">2</text><!--MD5=[557b53f8916cd2c926c742bd9cf3d957]\n",
       "@startuml\r\n",
       "skinparam monochrome true\r\n",
       "skinparam classbackgroundcolor white\r\n",
       "skinparam shadowing false\r\n",
       "skinparam wrapWidth 300\r\n",
       "hide circle\r\n",
       "\r\n",
       "package \"eVehicle_LogicalArchitecture\" as E1   {\r\n",
       "comp usage \"eVehicle: Part\" as E2  <<(T,blue)part>> {\r\n",
       "}\r\n",
       "comp usage \"body: Part\" as E3  <<(T,blue)part>> {\r\n",
       "}\r\n",
       "comp usage \"battery: Part\" as E4  <<(T,blue)part>> {\r\n",
       "}\r\n",
       "comp usage \"engine: Part\" as E5  <<(T,blue)part>> {\r\n",
       "}\r\n",
       "comp usage \"frontAxis: Part\" as E6  <<(T,blue)part>> {\r\n",
       "}\r\n",
       "comp usage \"rearAxis: Part\" as E7  <<(T,blue)part>> {\r\n",
       "}\r\n",
       "comp usage \"frontWheel: Wheel\" as E8  <<(T,blue)part>> {\r\n",
       "}\r\n",
       "comp usage \"rearWheel: Wheel\" as E9  <<(T,blue)part>> {\r\n",
       "}\r\n",
       "E2 *- - E3\r\n",
       "E2 *- - E4\r\n",
       "E2 *- - E5\r\n",
       "E2 *- - E6\r\n",
       "E2 *- - E7\r\n",
       "E2 *- - \"2\"E8\r\n",
       "E2 *- - \"2\"E9\r\n",
       "}\r\n",
       "@enduml\r\n",
       "\n",
       "PlantUML version 1.2020.13(Sat Jun 13 14:26:38 CEST 2020)\n",
       "(EPL source distribution)\n",
       "Java Runtime: OpenJDK Runtime Environment\n",
       "JVM: OpenJDK 64-Bit Server VM\n",
       "Default Encoding: Cp1252\n",
       "Language: en\n",
       "Country: US\n",
       "--></g></svg>"
      ]
     },
     "execution_count": 16,
     "metadata": {},
     "output_type": "execute_result"
    }
   ],
   "source": [
    "%viz --view=tree eVehicle_LogicalArchitecture"
   ]
  },
  {
   "cell_type": "markdown",
   "metadata": {},
   "source": [
    "The attribute size itself can also be defined and reused for several attribute usages. It is a common concept in SysML v2 to separate  definition of elements and usage of elements. SysML v1 also follows this concept, but not as consequent as SysML v2. For example, SysML v1 does not provide a separate attribute definition.\n",
    "\n",
    "The attribute definition is not mandatory and only partly useful in this example, because the size is only used at one place. But I added it anyhow as an example for attribute definitions."
   ]
  },
  {
   "cell_type": "code",
   "execution_count": 17,
   "metadata": {},
   "outputs": [
    {
     "data": {
      "text/plain": [
       "Package eVehicle_Definitions (5d53396e-ee88-4b9d-9e19-73f30556bcad)\n",
       "Package eVehicle_LogicalArchitecture (d292fc1f-ee2c-476a-ace1-e3c1c3f05134)\n"
      ]
     },
     "execution_count": 17,
     "metadata": {},
     "output_type": "execute_result"
    }
   ],
   "source": [
    "package eVehicle_Definitions {\n",
    "   \n",
    "    attribute def WheelSize {\n",
    "        import ScalarValues::Integer;\n",
    "        size : Integer;\n",
    "    }\n",
    "    \n",
    "    part def Wheel {\n",
    "        attribute size : WheelSize;\n",
    "    }\n",
    "}\n",
    "\n",
    "package eVehicle_LogicalArchitecture {   \n",
    "    \n",
    "    import eVehicle_Definitions::*;\n",
    "    \n",
    "    part eVehicle {    \n",
    "        part body;\n",
    "        part battery;\n",
    "        part engine;\n",
    "        part frontAxis;\n",
    "        part rearAxis;\n",
    "        part frontWheel : Wheel[2];\n",
    "        part rearWheel : Wheel[2];\n",
    "    }\n",
    "}"
   ]
  },
  {
   "cell_type": "code",
   "execution_count": 19,
   "metadata": {},
   "outputs": [
    {
     "data": {
      "image/svg+xml": [
       "<?xml version=\"1.0\" encoding=\"UTF-8\" standalone=\"no\"?><svg xmlns=\"http://www.w3.org/2000/svg\" xmlns:xlink=\"http://www.w3.org/1999/xlink\" contentScriptType=\"application/ecmascript\" contentStyleType=\"text/css\" height=\"240px\" preserveAspectRatio=\"none\" style=\"width:276px;height:240px;\" version=\"1.1\" viewBox=\"0 0 276 240\" width=\"276px\" zoomAndPan=\"magnify\"><defs/><g><!--MD5=[fbc87193dbaf4d95561dea2c320d4a47]\n",
       "cluster E1--><polygon fill=\"#FFFFFF\" points=\"16,6,167,6,174,29.6094,254,29.6094,254,228,16,228,16,6\" style=\"stroke: #000000; stroke-width: 1.5;\"/><line style=\"stroke: #000000; stroke-width: 1.5;\" x1=\"16\" x2=\"174\" y1=\"29.6094\" y2=\"29.6094\"/><text fill=\"#000000\" font-family=\"sans-serif\" font-size=\"14\" font-weight=\"bold\" lengthAdjust=\"spacingAndGlyphs\" textLength=\"145\" x=\"20\" y=\"22.5332\">eVehicle_Definitions</text><!--MD5=[b4997ac47864f28c2f74865a473b2911]\n",
       "class E2--><rect fill=\"#FFFFFF\" height=\"62.0234\" id=\"E2\" style=\"stroke: #383838; stroke-width: 1.5;\" width=\"81\" x=\"156.5\" y=\"42\"/><text fill=\"#000000\" font-family=\"sans-serif\" font-size=\"12\" font-style=\"italic\" lengthAdjust=\"spacingAndGlyphs\" textLength=\"79\" x=\"157.5\" y=\"59.457\">«attribute def»</text><text fill=\"#000000\" font-family=\"sans-serif\" font-size=\"12\" lengthAdjust=\"spacingAndGlyphs\" textLength=\"58\" x=\"168\" y=\"74.5508\">WheelSize</text><line style=\"stroke: #383838; stroke-width: 1.5;\" x1=\"157.5\" x2=\"236.5\" y1=\"82.1875\" y2=\"82.1875\"/><text fill=\"#000000\" font-family=\"sans-serif\" font-size=\"11\" lengthAdjust=\"spacingAndGlyphs\" textLength=\"59\" x=\"162.5\" y=\"97.6064\">size: Integer</text><!--MD5=[09b614a08d8cba4a07c9adeb5e0fee81]\n",
       "class E3--><rect fill=\"#FFFFFF\" height=\"48.1875\" id=\"E3\" style=\"stroke: #383838; stroke-width: 1.5;\" width=\"67\" x=\"163.5\" y=\"164\"/><text fill=\"#000000\" font-family=\"sans-serif\" font-size=\"12\" font-style=\"italic\" lengthAdjust=\"spacingAndGlyphs\" textLength=\"65\" x=\"164.5\" y=\"181.457\">«dataType»</text><text fill=\"#000000\" font-family=\"sans-serif\" font-size=\"12\" lengthAdjust=\"spacingAndGlyphs\" textLength=\"38\" x=\"178\" y=\"196.5508\">Integer</text><line style=\"stroke: #383838; stroke-width: 1.5;\" x1=\"164.5\" x2=\"229.5\" y1=\"204.1875\" y2=\"204.1875\"/><!--MD5=[ebbe1d658d1005bcc118a6aa81145e00]\n",
       "class E4--><rect fill=\"#FFFFFF\" height=\"62.0234\" id=\"E4\" style=\"stroke: #383838; stroke-width: 1.5;\" width=\"89\" x=\"32.5\" y=\"42\"/><text fill=\"#000000\" font-family=\"sans-serif\" font-size=\"12\" font-style=\"italic\" lengthAdjust=\"spacingAndGlyphs\" textLength=\"55\" x=\"49.5\" y=\"59.457\">«part def»</text><text fill=\"#000000\" font-family=\"sans-serif\" font-size=\"12\" lengthAdjust=\"spacingAndGlyphs\" textLength=\"35\" x=\"59.5\" y=\"74.5508\">Wheel</text><line style=\"stroke: #383838; stroke-width: 1.5;\" x1=\"33.5\" x2=\"120.5\" y1=\"82.1875\" y2=\"82.1875\"/><text fill=\"#000000\" font-family=\"sans-serif\" font-size=\"11\" lengthAdjust=\"spacingAndGlyphs\" textLength=\"77\" x=\"38.5\" y=\"97.6064\">size: WheelSize</text><!--MD5=[209b3feb70ccb6233bfe1053d122c12c]\n",
       "reverse link E2 to E3--><path d=\"M197,119.53 C197,134.732 197,151.0349 197,163.8067 \" fill=\"none\" id=\"E2&lt;-E3\" style=\"stroke: #383838; stroke-width: 1.0;\"/><ellipse cx=\"197\" cy=\"112.282\" fill=\"#FFFFFF\" rx=\"8\" ry=\"8\" style=\"stroke: #383838; stroke-width: 1.0;\"/><line style=\"stroke: #383838; stroke-width: 1.0;\" x1=\"197\" x2=\"197\" y1=\"120.282\" y2=\"104.282\"/><line style=\"stroke: #383838; stroke-width: 1.0;\" x1=\"189\" x2=\"205\" y1=\"112.282\" y2=\"112.282\"/><!--MD5=[6c4c2c4f81c09816d5de7c9e310ac6e5]\n",
       "@startuml\r\n",
       "skinparam monochrome true\r\n",
       "skinparam classbackgroundcolor white\r\n",
       "skinparam shadowing false\r\n",
       "skinparam wrapWidth 300\r\n",
       "hide circle\r\n",
       "\r\n",
       "package \"eVehicle_Definitions\" as E1   {\r\n",
       "comp def \"WheelSize\" as E2  <<(T,blue)attribute def>> {\r\n",
       "size: Integer\r\n",
       "}\r\n",
       "comp def \"Integer\" as E3  <<(T,blue)dataType>> {\r\n",
       "}\r\n",
       "comp def \"Wheel\" as E4  <<(T,blue)part def>> {\r\n",
       "size: WheelSize\r\n",
       "}\r\n",
       "E2 +- - E3\r\n",
       "}\r\n",
       "@enduml\r\n",
       "\n",
       "PlantUML version 1.2020.13(Sat Jun 13 14:26:38 CEST 2020)\n",
       "(EPL source distribution)\n",
       "Java Runtime: OpenJDK Runtime Environment\n",
       "JVM: OpenJDK 64-Bit Server VM\n",
       "Default Encoding: Cp1252\n",
       "Language: en\n",
       "Country: US\n",
       "--></g></svg>"
      ]
     },
     "execution_count": 19,
     "metadata": {},
     "output_type": "execute_result"
    }
   ],
   "source": [
    "%viz --view=tree eVehicle_Definitions"
   ]
  },
  {
   "cell_type": "code",
   "execution_count": 18,
   "metadata": {},
   "outputs": [
    {
     "data": {
      "image/svg+xml": [
       "<?xml version=\"1.0\" encoding=\"UTF-8\" standalone=\"no\"?><svg xmlns=\"http://www.w3.org/2000/svg\" xmlns:xlink=\"http://www.w3.org/1999/xlink\" contentScriptType=\"application/ecmascript\" contentStyleType=\"text/css\" height=\"226px\" preserveAspectRatio=\"none\" style=\"width:850px;height:226px;\" version=\"1.1\" viewBox=\"0 0 850 226\" width=\"850px\" zoomAndPan=\"magnify\"><defs/><g><!--MD5=[fbc87193dbaf4d95561dea2c320d4a47]\n",
       "cluster E1--><polygon fill=\"#FFFFFF\" points=\"16,6,228,6,235,29.6094,828,29.6094,828,214,16,214,16,6\" style=\"stroke: #000000; stroke-width: 1.5;\"/><line style=\"stroke: #000000; stroke-width: 1.5;\" x1=\"16\" x2=\"235\" y1=\"29.6094\" y2=\"29.6094\"/><text fill=\"#000000\" font-family=\"sans-serif\" font-size=\"14\" font-weight=\"bold\" lengthAdjust=\"spacingAndGlyphs\" textLength=\"206\" x=\"20\" y=\"22.5332\">eVehicle_LogicalArchitecture</text><!--MD5=[b4997ac47864f28c2f74865a473b2911]\n",
       "class E2--><rect fill=\"#FFFFFF\" height=\"48.1875\" id=\"E2\" rx=\"10\" ry=\"10\" style=\"stroke: #383838; stroke-width: 1.5;\" width=\"81\" x=\"338.5\" y=\"42\"/><text fill=\"#000000\" font-family=\"sans-serif\" font-size=\"12\" font-style=\"italic\" lengthAdjust=\"spacingAndGlyphs\" textLength=\"35\" x=\"361.5\" y=\"59.457\">«part»</text><text fill=\"#000000\" font-family=\"sans-serif\" font-size=\"12\" lengthAdjust=\"spacingAndGlyphs\" textLength=\"75\" x=\"341.5\" y=\"74.5508\">eVehicle: Part</text><line style=\"stroke: #383838; stroke-width: 1.5;\" x1=\"339.5\" x2=\"418.5\" y1=\"82.1875\" y2=\"82.1875\"/><!--MD5=[09b614a08d8cba4a07c9adeb5e0fee81]\n",
       "class E3--><rect fill=\"#FFFFFF\" height=\"48.1875\" id=\"E3\" rx=\"10\" ry=\"10\" style=\"stroke: #383838; stroke-width: 1.5;\" width=\"60\" x=\"32\" y=\"150\"/><text fill=\"#000000\" font-family=\"sans-serif\" font-size=\"12\" font-style=\"italic\" lengthAdjust=\"spacingAndGlyphs\" textLength=\"35\" x=\"44.5\" y=\"167.457\">«part»</text><text fill=\"#000000\" font-family=\"sans-serif\" font-size=\"12\" lengthAdjust=\"spacingAndGlyphs\" textLength=\"54\" x=\"35\" y=\"182.5508\">body: Part</text><line style=\"stroke: #383838; stroke-width: 1.5;\" x1=\"33\" x2=\"91\" y1=\"190.1875\" y2=\"190.1875\"/><!--MD5=[ebbe1d658d1005bcc118a6aa81145e00]\n",
       "class E4--><rect fill=\"#FFFFFF\" height=\"48.1875\" id=\"E4\" rx=\"10\" ry=\"10\" style=\"stroke: #383838; stroke-width: 1.5;\" width=\"70\" x=\"127\" y=\"150\"/><text fill=\"#000000\" font-family=\"sans-serif\" font-size=\"12\" font-style=\"italic\" lengthAdjust=\"spacingAndGlyphs\" textLength=\"35\" x=\"144.5\" y=\"167.457\">«part»</text><text fill=\"#000000\" font-family=\"sans-serif\" font-size=\"12\" lengthAdjust=\"spacingAndGlyphs\" textLength=\"64\" x=\"130\" y=\"182.5508\">battery: Part</text><line style=\"stroke: #383838; stroke-width: 1.5;\" x1=\"128\" x2=\"196\" y1=\"190.1875\" y2=\"190.1875\"/><!--MD5=[270fce915f116d4de14055a7c1d9a0f3]\n",
       "class E5--><rect fill=\"#FFFFFF\" height=\"48.1875\" id=\"E5\" rx=\"10\" ry=\"10\" style=\"stroke: #383838; stroke-width: 1.5;\" width=\"72\" x=\"232\" y=\"150\"/><text fill=\"#000000\" font-family=\"sans-serif\" font-size=\"12\" font-style=\"italic\" lengthAdjust=\"spacingAndGlyphs\" textLength=\"35\" x=\"250.5\" y=\"167.457\">«part»</text><text fill=\"#000000\" font-family=\"sans-serif\" font-size=\"12\" lengthAdjust=\"spacingAndGlyphs\" textLength=\"66\" x=\"235\" y=\"182.5508\">engine: Part</text><line style=\"stroke: #383838; stroke-width: 1.5;\" x1=\"233\" x2=\"303\" y1=\"190.1875\" y2=\"190.1875\"/><!--MD5=[60a26617385b1d2d0262a64233df1f8d]\n",
       "class E6--><rect fill=\"#FFFFFF\" height=\"48.1875\" id=\"E6\" rx=\"10\" ry=\"10\" style=\"stroke: #383838; stroke-width: 1.5;\" width=\"80\" x=\"339\" y=\"150\"/><text fill=\"#000000\" font-family=\"sans-serif\" font-size=\"12\" font-style=\"italic\" lengthAdjust=\"spacingAndGlyphs\" textLength=\"35\" x=\"361.5\" y=\"167.457\">«part»</text><text fill=\"#000000\" font-family=\"sans-serif\" font-size=\"12\" lengthAdjust=\"spacingAndGlyphs\" textLength=\"74\" x=\"342\" y=\"182.5508\">frontAxis: Part</text><line style=\"stroke: #383838; stroke-width: 1.5;\" x1=\"340\" x2=\"418\" y1=\"190.1875\" y2=\"190.1875\"/><!--MD5=[2156ba9850f5573cc1fc38a6a4b2f02b]\n",
       "class E7--><rect fill=\"#FFFFFF\" height=\"48.1875\" id=\"E7\" rx=\"10\" ry=\"10\" style=\"stroke: #383838; stroke-width: 1.5;\" width=\"78\" x=\"454\" y=\"150\"/><text fill=\"#000000\" font-family=\"sans-serif\" font-size=\"12\" font-style=\"italic\" lengthAdjust=\"spacingAndGlyphs\" textLength=\"35\" x=\"475.5\" y=\"167.457\">«part»</text><text fill=\"#000000\" font-family=\"sans-serif\" font-size=\"12\" lengthAdjust=\"spacingAndGlyphs\" textLength=\"72\" x=\"457\" y=\"182.5508\">rearAxis: Part</text><line style=\"stroke: #383838; stroke-width: 1.5;\" x1=\"455\" x2=\"531\" y1=\"190.1875\" y2=\"190.1875\"/><!--MD5=[b9389687b975829384b498ac4b7476b2]\n",
       "class E8--><rect fill=\"#FFFFFF\" height=\"48.1875\" id=\"E8\" rx=\"10\" ry=\"10\" style=\"stroke: #383838; stroke-width: 1.5;\" width=\"106\" x=\"567\" y=\"150\"/><text fill=\"#000000\" font-family=\"sans-serif\" font-size=\"12\" font-style=\"italic\" lengthAdjust=\"spacingAndGlyphs\" textLength=\"35\" x=\"602.5\" y=\"167.457\">«part»</text><text fill=\"#000000\" font-family=\"sans-serif\" font-size=\"12\" lengthAdjust=\"spacingAndGlyphs\" textLength=\"100\" x=\"570\" y=\"182.5508\">frontWheel: Wheel</text><line style=\"stroke: #383838; stroke-width: 1.5;\" x1=\"568\" x2=\"672\" y1=\"190.1875\" y2=\"190.1875\"/><!--MD5=[fd4143e9d270a159db93a4ea2a975926]\n",
       "class E9--><rect fill=\"#FFFFFF\" height=\"48.1875\" id=\"E9\" rx=\"10\" ry=\"10\" style=\"stroke: #383838; stroke-width: 1.5;\" width=\"104\" x=\"708\" y=\"150\"/><text fill=\"#000000\" font-family=\"sans-serif\" font-size=\"12\" font-style=\"italic\" lengthAdjust=\"spacingAndGlyphs\" textLength=\"35\" x=\"742.5\" y=\"167.457\">«part»</text><text fill=\"#000000\" font-family=\"sans-serif\" font-size=\"12\" lengthAdjust=\"spacingAndGlyphs\" textLength=\"98\" x=\"711\" y=\"182.5508\">rearWheel: Wheel</text><line style=\"stroke: #383838; stroke-width: 1.5;\" x1=\"709\" x2=\"811\" y1=\"190.1875\" y2=\"190.1875\"/><!--MD5=[209b3feb70ccb6233bfe1053d122c12c]\n",
       "reverse link E2 to E3--><path d=\"M325.374,81.029 C270.503,95.967 183.159,121.366 110,150 C104.149,152.2902 98.019,154.9865 92.1719,157.7116 \" fill=\"none\" id=\"E2&lt;-E3\" style=\"stroke: #383838; stroke-width: 1.0;\"/><polygon fill=\"#383838\" points=\"338.258,77.552,331.423,75.2536,326.6725,80.6788,333.5075,82.9772,338.258,77.552\" style=\"stroke: #383838; stroke-width: 1.0;\"/><!--MD5=[9618e71518536f8baf3342ff6fdab317]\n",
       "reverse link E2 to E4--><path d=\"M326.754,92.521 C286.675,112.099 232.441,138.5911 197.337,155.7387 \" fill=\"none\" id=\"E2&lt;-E4\" style=\"stroke: #383838; stroke-width: 1.0;\"/><polygon fill=\"#383838\" points=\"338.439,86.813,331.2922,85.8522,327.6565,92.0796,334.8033,93.0405,338.439,86.813\" style=\"stroke: #383838; stroke-width: 1.0;\"/><!--MD5=[4e1a83fab71cdb913c109063314ae896]\n",
       "reverse link E2 to E5--><path d=\"M345.314,99.168 C328.265,115.45 307.949,134.8509 292.422,149.6784 \" fill=\"none\" id=\"E2&lt;-E5\" style=\"stroke: #383838; stroke-width: 1.0;\"/><polygon fill=\"#383838\" points=\"354.915,90,347.8132,91.2506,346.2361,98.2872,353.338,97.0365,354.915,90\" style=\"stroke: #383838; stroke-width: 1.0;\"/><!--MD5=[ce036f65110ae2351ccce5a81dc2e928]\n",
       "reverse link E2 to E6--><path d=\"M379,103.338 C379,118.681 379,136.098 379,149.6784 \" fill=\"none\" id=\"E2&lt;-E6\" style=\"stroke: #383838; stroke-width: 1.0;\"/><polygon fill=\"#383838\" points=\"379,90,375,96,379,102,383,96,379,90\" style=\"stroke: #383838; stroke-width: 1.0;\"/><!--MD5=[1c72b32696d764168c30777981ec3f66]\n",
       "reverse link E2 to E7--><path d=\"M413.596,99.168 C431.106,115.45 451.972,134.8509 467.918,149.6784 \" fill=\"none\" id=\"E2&lt;-E7\" style=\"stroke: #383838; stroke-width: 1.0;\"/><polygon fill=\"#383838\" points=\"403.736,90,405.4059,97.0151,412.5236,98.1718,410.8537,91.1567,403.736,90\" style=\"stroke: #383838; stroke-width: 1.0;\"/><!--MD5=[65f962d72b3a6bed1ede4f3c867e43a4]\n",
       "reverse link E2 to E8--><path d=\"M431.59,90.131 C471.855,107.841 527.141,132.1573 567.406,149.8676 \" fill=\"none\" id=\"E2&lt;-E8\" style=\"stroke: #383838; stroke-width: 1.0;\"/><polygon fill=\"#383838\" points=\"419.61,84.862,423.4917,90.9392,430.5944,89.6935,426.7127,83.6163,419.61,84.862\" style=\"stroke: #383838; stroke-width: 1.0;\"/><text fill=\"#000000\" font-family=\"sans-serif\" font-size=\"13\" lengthAdjust=\"spacingAndGlyphs\" textLength=\"7\" x=\"552.1672\" y=\"142.6553\">2</text><!--MD5=[4a91eb351f2fb42055d99b719d3dd418]\n",
       "reverse link E2 to E9--><path d=\"M432.616,80.192 C494.999,95.787 600.954,123.043 691,150 C696.444,151.6296 702.105,153.397 707.741,155.2034 \" fill=\"none\" id=\"E2&lt;-E9\" style=\"stroke: #383838; stroke-width: 1.0;\"/><polygon fill=\"#383838\" points=\"419.612,76.952,424.4671,82.2838,431.2561,79.8528,426.401,74.521,419.612,76.952\" style=\"stroke: #383838; stroke-width: 1.0;\"/><text fill=\"#000000\" font-family=\"sans-serif\" font-size=\"13\" lengthAdjust=\"spacingAndGlyphs\" textLength=\"7\" x=\"692.8999\" y=\"148.9418\">2</text><!--MD5=[557b53f8916cd2c926c742bd9cf3d957]\n",
       "@startuml\r\n",
       "skinparam monochrome true\r\n",
       "skinparam classbackgroundcolor white\r\n",
       "skinparam shadowing false\r\n",
       "skinparam wrapWidth 300\r\n",
       "hide circle\r\n",
       "\r\n",
       "package \"eVehicle_LogicalArchitecture\" as E1   {\r\n",
       "comp usage \"eVehicle: Part\" as E2  <<(T,blue)part>> {\r\n",
       "}\r\n",
       "comp usage \"body: Part\" as E3  <<(T,blue)part>> {\r\n",
       "}\r\n",
       "comp usage \"battery: Part\" as E4  <<(T,blue)part>> {\r\n",
       "}\r\n",
       "comp usage \"engine: Part\" as E5  <<(T,blue)part>> {\r\n",
       "}\r\n",
       "comp usage \"frontAxis: Part\" as E6  <<(T,blue)part>> {\r\n",
       "}\r\n",
       "comp usage \"rearAxis: Part\" as E7  <<(T,blue)part>> {\r\n",
       "}\r\n",
       "comp usage \"frontWheel: Wheel\" as E8  <<(T,blue)part>> {\r\n",
       "}\r\n",
       "comp usage \"rearWheel: Wheel\" as E9  <<(T,blue)part>> {\r\n",
       "}\r\n",
       "E2 *- - E3\r\n",
       "E2 *- - E4\r\n",
       "E2 *- - E5\r\n",
       "E2 *- - E6\r\n",
       "E2 *- - E7\r\n",
       "E2 *- - \"2\"E8\r\n",
       "E2 *- - \"2\"E9\r\n",
       "}\r\n",
       "@enduml\r\n",
       "\n",
       "PlantUML version 1.2020.13(Sat Jun 13 14:26:38 CEST 2020)\n",
       "(EPL source distribution)\n",
       "Java Runtime: OpenJDK Runtime Environment\n",
       "JVM: OpenJDK 64-Bit Server VM\n",
       "Default Encoding: Cp1252\n",
       "Language: en\n",
       "Country: US\n",
       "--></g></svg>"
      ]
     },
     "execution_count": 18,
     "metadata": {},
     "output_type": "execute_result"
    }
   ],
   "source": [
    "%viz --view=tree eVehicle_LogicalArchitecture"
   ]
  },
  {
   "cell_type": "markdown",
   "metadata": {},
   "source": [
    "## Putting the parts together\n",
    "\n",
    "By now the model only defines the breakdown structure of the vehicle. There is no definition yet of how the parts are connected. The next example model *eVehicle_LogicalArchitecture_v5* connects the parts in a meaningful way.\n"
   ]
  },
  {
   "cell_type": "code",
   "execution_count": 22,
   "metadata": {},
   "outputs": [
    {
     "data": {
      "text/plain": [
       "Package eVehicle_Definitions (35aab867-aa0e-4f40-8d85-cca404061091)\n",
       "Package eVehicle_LogicalArchitecture (9e468307-bfa1-4260-901a-15d42ece70a4)\n"
      ]
     },
     "execution_count": 22,
     "metadata": {},
     "output_type": "execute_result"
    }
   ],
   "source": [
    "package eVehicle_Definitions {\n",
    "   \n",
    "    attribute def WheelSize {\n",
    "        import ScalarValues::Integer;\n",
    "        size : Integer;\n",
    "    }\n",
    "    \n",
    "    part def Wheel {\n",
    "        attribute size : WheelSize;\n",
    "    }\n",
    "}\n",
    "\n",
    "package eVehicle_LogicalArchitecture {\n",
    "       \n",
    "    import eVehicle_Definitions::*;\n",
    "    \n",
    "    part eVehicle {    \n",
    "        part body;\n",
    "        part battery;\n",
    "        part engine;\n",
    "        part frontAxis;\n",
    "        part rearAxis;\n",
    "        part frontWheel : Wheel[2];\n",
    "        part rearWheel : Wheel[2];\n",
    "        \n",
    "        connect battery to engine;\n",
    "        connect engine to frontAxis;\n",
    "        connect frontAxis to frontWheel;\n",
    "        connect rearAxis to rearWheel;\n",
    "        connect body to battery;\n",
    "        connect body to engine;\n",
    "        connect body to frontAxis;\n",
    "        connect body to rearAxis;\n",
    "    }\n",
    "}"
   ]
  },
  {
   "cell_type": "code",
   "execution_count": 23,
   "metadata": {},
   "outputs": [
    {
     "data": {
      "image/svg+xml": [
       "<?xml version=\"1.0\" encoding=\"UTF-8\" standalone=\"no\"?><svg xmlns=\"http://www.w3.org/2000/svg\" xmlns:xlink=\"http://www.w3.org/1999/xlink\" contentScriptType=\"application/ecmascript\" contentStyleType=\"text/css\" height=\"352px\" preserveAspectRatio=\"none\" style=\"width:364px;height:352px;\" version=\"1.1\" viewBox=\"0 0 364 352\" width=\"364px\" zoomAndPan=\"magnify\"><defs/><g><!--MD5=[fbc87193dbaf4d95561dea2c320d4a47]\n",
       "cluster E1--><rect fill=\"#F8F8F8\" height=\"334\" rx=\"12.5\" ry=\"12.5\" style=\"stroke: #000000; stroke-width: 1.5;\" width=\"345\" x=\"7\" y=\"7\"/><rect fill=\"#FFFFFF\" height=\"300.3906\" rx=\"12.5\" ry=\"12.5\" style=\"stroke: #FFFFFF; stroke-width: 1.0;\" width=\"339\" x=\"10\" y=\"37.6094\"/><line style=\"stroke: #000000; stroke-width: 1.5;\" x1=\"7\" x2=\"352\" y1=\"34.6094\" y2=\"34.6094\"/><text fill=\"#000000\" font-family=\"sans-serif\" font-size=\"14\" lengthAdjust=\"spacingAndGlyphs\" textLength=\"88\" x=\"135.5\" y=\"25.5332\">eVehicle: Part</text><g id=\"E1.E2\"><rect fill=\"#FFFFFF\" height=\"50\" rx=\"12.5\" ry=\"12.5\" style=\"stroke: #383838; stroke-width: 1.5;\" width=\"85\" x=\"140.5\" y=\"275\"/><line style=\"stroke: #383838; stroke-width: 1.5;\" x1=\"140.5\" x2=\"225.5\" y1=\"302.6094\" y2=\"302.6094\"/><text fill=\"#000000\" font-family=\"sans-serif\" font-size=\"14\" lengthAdjust=\"spacingAndGlyphs\" textLength=\"65\" x=\"150.5\" y=\"294.5332\">body: Part</text></g><g id=\"E1.E3\"><rect fill=\"#FFFFFF\" height=\"50\" rx=\"12.5\" ry=\"12.5\" style=\"stroke: #383838; stroke-width: 1.5;\" width=\"98\" x=\"238\" y=\"217\"/><line style=\"stroke: #383838; stroke-width: 1.5;\" x1=\"238\" x2=\"336\" y1=\"244.6094\" y2=\"244.6094\"/><text fill=\"#000000\" font-family=\"sans-serif\" font-size=\"14\" lengthAdjust=\"spacingAndGlyphs\" textLength=\"78\" x=\"248\" y=\"236.5332\">battery: Part</text></g><g id=\"E1.E4\"><rect fill=\"#FFFFFF\" height=\"50\" rx=\"12.5\" ry=\"12.5\" style=\"stroke: #383838; stroke-width: 1.5;\" width=\"97\" x=\"229.5\" y=\"159\"/><line style=\"stroke: #383838; stroke-width: 1.5;\" x1=\"229.5\" x2=\"326.5\" y1=\"186.6094\" y2=\"186.6094\"/><text fill=\"#000000\" font-family=\"sans-serif\" font-size=\"14\" lengthAdjust=\"spacingAndGlyphs\" textLength=\"77\" x=\"239.5\" y=\"178.5332\">engine: Part</text></g><g id=\"E1.E5\"><rect fill=\"#FFFFFF\" height=\"50\" rx=\"12.5\" ry=\"12.5\" style=\"stroke: #383838; stroke-width: 1.5;\" width=\"108\" x=\"176\" y=\"101\"/><line style=\"stroke: #383838; stroke-width: 1.5;\" x1=\"176\" x2=\"284\" y1=\"128.6094\" y2=\"128.6094\"/><text fill=\"#000000\" font-family=\"sans-serif\" font-size=\"14\" lengthAdjust=\"spacingAndGlyphs\" textLength=\"88\" x=\"186\" y=\"120.5332\">frontAxis: Part</text></g><g id=\"E1.E6\"><rect fill=\"#FFFFFF\" height=\"50\" rx=\"12.5\" ry=\"12.5\" style=\"stroke: #383838; stroke-width: 1.5;\" width=\"105\" x=\"23.5\" y=\"217\"/><line style=\"stroke: #383838; stroke-width: 1.5;\" x1=\"23.5\" x2=\"128.5\" y1=\"244.6094\" y2=\"244.6094\"/><text fill=\"#000000\" font-family=\"sans-serif\" font-size=\"14\" lengthAdjust=\"spacingAndGlyphs\" textLength=\"85\" x=\"33.5\" y=\"236.5332\">rearAxis: Part</text></g><g id=\"E1.E7\"><rect fill=\"#FFFFFF\" height=\"50\" rx=\"12.5\" ry=\"12.5\" style=\"stroke: #383838; stroke-width: 1.5;\" width=\"137\" x=\"161.5\" y=\"43\"/><line style=\"stroke: #383838; stroke-width: 1.5;\" x1=\"161.5\" x2=\"298.5\" y1=\"70.6094\" y2=\"70.6094\"/><text fill=\"#000000\" font-family=\"sans-serif\" font-size=\"14\" lengthAdjust=\"spacingAndGlyphs\" textLength=\"117\" x=\"171.5\" y=\"62.5332\">frontWheel: Wheel</text></g><g id=\"E1.E8\"><rect fill=\"#FFFFFF\" height=\"50\" rx=\"12.5\" ry=\"12.5\" style=\"stroke: #383838; stroke-width: 1.5;\" width=\"134\" x=\"23\" y=\"159\"/><line style=\"stroke: #383838; stroke-width: 1.5;\" x1=\"23\" x2=\"157\" y1=\"186.6094\" y2=\"186.6094\"/><text fill=\"#000000\" font-family=\"sans-serif\" font-size=\"14\" lengthAdjust=\"spacingAndGlyphs\" textLength=\"114\" x=\"33\" y=\"178.5332\">rearWheel: Wheel</text></g><!--MD5=[f0cdf4548168e5211fb3a02bf679d63a]\n",
       "link E4 to E3--><path d=\"M281.869,209.074 C282.288,211.683 282.715,214.338 283.134,216.946 \" fill=\"none\" id=\"E4-E3\" style=\"stroke: #383838; stroke-width: 3.0;\"/><!--MD5=[1c62de2aa5b76f0fb657ff8443a1a700]\n",
       "link E5 to E4--><path d=\"M250.635,151.074 C252.871,153.683 255.147,156.338 257.383,158.946 \" fill=\"none\" id=\"E5-E4\" style=\"stroke: #383838; stroke-width: 3.0;\"/><!--MD5=[4d1e63f6c5cc89ece832f1e02a2fb60c]\n",
       "link E7 to E5--><path d=\"M230,93.074 C230,95.683 230,98.338 230,100.946 \" fill=\"none\" id=\"E7-E5\" style=\"stroke: #383838; stroke-width: 3.0;\"/><!--MD5=[c5e8897d989ce984f93528998a7150fe]\n",
       "link E8 to E6--><path d=\"M83.9815,209.074 C83.3293,211.683 82.6655,214.338 82.0134,216.946 \" fill=\"none\" id=\"E8-E6\" style=\"stroke: #383838; stroke-width: 3.0;\"/><!--MD5=[05d275557350bfb9b23a4ef7222b4c39]\n",
       "link E3 to E2--><path d=\"M242.291,267.074 C236.786,270.0385 231.169,273.0628 225.695,276.0106 \" fill=\"none\" id=\"E3-E2\" style=\"stroke: #383838; stroke-width: 3.0;\"/><!--MD5=[185131fc0dcab0a4505a2ebe144e961b]\n",
       "link E4 to E2--><path d=\"M229.339,208.538 C225.973,211.138 222.808,213.957 220,217 C204.854,233.414 195.084,257.0765 189.41,274.7682 \" fill=\"none\" id=\"E4-E2\" style=\"stroke: #383838; stroke-width: 3.0;\"/><!--MD5=[15ebcb19ae302d9b601edb458606d402]\n",
       "link E5 to E2--><path d=\"M214.09,151.023 C203.512,168.503 190.576,193.187 185,217 C180.519,236.134 180.288,258.4674 181.027,274.9908 \" fill=\"none\" id=\"E5-E2\" style=\"stroke: #383838; stroke-width: 3.0;\"/><!--MD5=[2351f337d6de0f557b50152ba70847b5]\n",
       "link E6 to E2--><path d=\"M121.999,267.074 C128.116,270.2756 134.367,273.5471 140.423,276.7165 \" fill=\"none\" id=\"E6-E2\" style=\"stroke: #383838; stroke-width: 3.0;\"/><!--MD5=[df1f860b4f243f3ef5c23c4b4db4dcd8]\n",
       "@startuml\r\n",
       "skinparam ranksep 8\r\n",
       "skinparam rectangle {\r\n",
       " backgroundColor<<block>> LightGreen\r\n",
       "}\r\n",
       "skinparam monochrome true\r\n",
       "skinparam classbackgroundcolor white\r\n",
       "skinparam shadowing false\r\n",
       "skinparam wrapWidth 300\r\n",
       "hide circle\r\n",
       "\r\n",
       "rec usage \"eVehicle: Part\" as E1  {\r\n",
       "rec usage \"body: Part\" as E2  {\r\n",
       "}\r\n",
       "rec usage \"battery: Part\" as E3  {\r\n",
       "}\r\n",
       "rec usage \"engine: Part\" as E4  {\r\n",
       "}\r\n",
       "rec usage \"frontAxis: Part\" as E5  {\r\n",
       "}\r\n",
       "rec usage \"rearAxis: Part\" as E6  {\r\n",
       "}\r\n",
       "rec usage \"frontWheel: Wheel\" as E7  {\r\n",
       "}\r\n",
       "rec usage \"rearWheel: Wheel\" as E8  {\r\n",
       "}\r\n",
       "}\r\n",
       "E4 -[thickness=3]- E3\r\n",
       "E5 -[thickness=3]- E4\r\n",
       "E7 -[thickness=3]- E5\r\n",
       "E8 -[thickness=3]- E6\r\n",
       "E3 -[thickness=3]- E2\r\n",
       "E4 -[thickness=3]- E2\r\n",
       "E5 -[thickness=3]- E2\r\n",
       "E6 -[thickness=3]- E2\r\n",
       "@enduml\r\n",
       "\n",
       "PlantUML version 1.2020.13(Sat Jun 13 14:26:38 CEST 2020)\n",
       "(EPL source distribution)\n",
       "Java Runtime: OpenJDK Runtime Environment\n",
       "JVM: OpenJDK 64-Bit Server VM\n",
       "Default Encoding: Cp1252\n",
       "Language: en\n",
       "Country: US\n",
       "--></g></svg>"
      ]
     },
     "execution_count": 23,
     "metadata": {},
     "output_type": "execute_result"
    }
   ],
   "source": [
    "%viz --view=interconnection eVehicle_LogicalArchitecture::eVehicle"
   ]
  },
  {
   "cell_type": "markdown",
   "metadata": {},
   "source": [
    "## Modeling interfaces"
   ]
  },
  {
   "cell_type": "markdown",
   "metadata": {},
   "source": [
    "## Modeling variants"
   ]
  },
  {
   "cell_type": "markdown",
   "metadata": {},
   "source": [
    "## Satisfying requirements"
   ]
  },
  {
   "cell_type": "markdown",
   "metadata": {},
   "source": [
    "# SysML v2 MBSE Methodologies JupyterBook\n",
    "\n",
    "This chapter covers the impact of SysML v2 on MBSE methodologies.\n",
    "\n",
    "Which methods continue to work well and which would need to be adapted? Theoretically, the methodologies have been developed independently of the SysML language, but definitely with a focus on SysML v1.\n",
    "\n",
    "New features of SysML v2 can also lead to new methods in the methodologies.\n"
   ]
  },
  {
   "cell_type": "markdown",
   "metadata": {},
   "source": [
    "## SYSMOD with SysML v2\n",
    "\n",
    "The example is taken from the book [SYSMOD - The Systems Modeling Toolbox](https://leanpub.com/sysmod)."
   ]
  },
  {
   "cell_type": "markdown",
   "metadata": {},
   "source": [
    "### System Idea and System Objectives"
   ]
  },
  {
   "cell_type": "markdown",
   "metadata": {},
   "source": [
    "### System Context"
   ]
  },
  {
   "cell_type": "markdown",
   "metadata": {},
   "source": [
    "### System Use Cases"
   ]
  },
  {
   "cell_type": "markdown",
   "metadata": {},
   "source": [
    "### Use Case Activities"
   ]
  },
  {
   "cell_type": "markdown",
   "metadata": {},
   "source": [
    "### Domain Model"
   ]
  },
  {
   "cell_type": "markdown",
   "metadata": {},
   "source": [
    "### Quality Requirements"
   ]
  },
  {
   "cell_type": "markdown",
   "metadata": {},
   "source": [
    "### Logical Architecture "
   ]
  },
  {
   "cell_type": "markdown",
   "metadata": {},
   "source": [
    "### Product Architecture"
   ]
  },
  {
   "cell_type": "markdown",
   "metadata": {},
   "source": [
    "### System States"
   ]
  },
  {
   "cell_type": "markdown",
   "metadata": {},
   "source": [
    "### Verify Architecture with Scenarios"
   ]
  },
  {
   "cell_type": "markdown",
   "metadata": {},
   "source": [
    "### Test Cases"
   ]
  },
  {
   "cell_type": "markdown",
   "metadata": {},
   "source": [
    "### FAS with SysML v2\n",
    "\n",
    "The example is taken from the tutorial of the FAS plugin for MagicDraw: http://sourceforge.net/projects/fas4md/files/FAS_plugin_tutorial.pdf/download."
   ]
  },
  {
   "cell_type": "code",
   "execution_count": 5,
   "metadata": {},
   "outputs": [
    {
     "data": {
      "text/plain": [
       "Package TheFASJukeBox (7b5c7211-47e3-4007-b34c-e176981952a3)\n"
      ]
     },
     "execution_count": 5,
     "metadata": {},
     "output_type": "execute_result"
    }
   ],
   "source": [
    "package TheFASJukeBox {\n",
    "    \n",
    "    package UseCases {\n",
    "        activity 'Listen to Music';\n",
    "        activity 'Assemble Music Collection';\n",
    "        activity 'Retrieve Money';\n",
    "        activity '(Un)install and Move Jukebox';\n",
    "        activity 'Uninstall Jukebox';\n",
    "        activity 'Install Jukebox';\n",
    "        activity 'Supply Jukebox with Energy';\n",
    "    }\n",
    "    \n",
    "    package FunctionalArchitecture {\n",
    "        package FunctionalGroups {\n",
    "            \n",
    "        }\n",
    "        \n",
    "        part TheFASJukeBoxFunctionalContext {\n",
    "            part TheFASJukeBoxFunctionalArchitecture {\n",
    "                \n",
    "            }\n",
    "        }\n",
    "        \n",
    "    }\n",
    "    \n",
    "}"
   ]
  },
  {
   "cell_type": "code",
   "execution_count": 6,
   "metadata": {},
   "outputs": [
    {
     "data": {
      "image/svg+xml": [
       "<?xml version=\"1.0\" encoding=\"UTF-8\" standalone=\"no\"?><svg xmlns=\"http://www.w3.org/2000/svg\" xmlns:xlink=\"http://www.w3.org/1999/xlink\" contentScriptType=\"application/ecmascript\" contentStyleType=\"text/css\" height=\"301px\" preserveAspectRatio=\"none\" style=\"width:1634px;height:301px;\" version=\"1.1\" viewBox=\"0 0 1634 301\" width=\"1634px\" zoomAndPan=\"magnify\"><defs/><g><!--MD5=[fbc87193dbaf4d95561dea2c320d4a47]\n",
       "cluster E1--><polygon fill=\"#FFFFFF\" points=\"16,6,136,6,143,29.6094,1612,29.6094,1612,289,16,289,16,6\" style=\"stroke: #000000; stroke-width: 1.5;\"/><line style=\"stroke: #000000; stroke-width: 1.5;\" x1=\"16\" x2=\"143\" y1=\"29.6094\" y2=\"29.6094\"/><text fill=\"#000000\" font-family=\"sans-serif\" font-size=\"14\" font-weight=\"bold\" lengthAdjust=\"spacingAndGlyphs\" textLength=\"114\" x=\"20\" y=\"22.5332\">TheFASJukeBox</text><!--MD5=[e4f7fae6ed58524ba242bb0b0d3be6b7]\n",
       "cluster E2--><polygon fill=\"#FFFFFF\" points=\"499,53.5,575,53.5,582,77.1094,1588,77.1094,1588,153.5,499,153.5,499,53.5\" style=\"stroke: #000000; stroke-width: 1.5;\"/><line style=\"stroke: #000000; stroke-width: 1.5;\" x1=\"499\" x2=\"582\" y1=\"77.1094\" y2=\"77.1094\"/><text fill=\"#000000\" font-family=\"sans-serif\" font-size=\"14\" font-weight=\"bold\" lengthAdjust=\"spacingAndGlyphs\" textLength=\"70\" x=\"503\" y=\"70.0332\">UseCases</text><!--MD5=[a84b4591f868c1fa4a211716a82f2f0d]\n",
       "cluster E10--><polygon fill=\"#FFFFFF\" points=\"40,50,207,50,214,73.6094,475,73.6094,475,265,40,265,40,50\" style=\"stroke: #000000; stroke-width: 1.5;\"/><line style=\"stroke: #000000; stroke-width: 1.5;\" x1=\"40\" x2=\"214\" y1=\"73.6094\" y2=\"73.6094\"/><text fill=\"#000000\" font-family=\"sans-serif\" font-size=\"14\" font-weight=\"bold\" lengthAdjust=\"spacingAndGlyphs\" textLength=\"161\" x=\"44\" y=\"66.5332\">FunctionalArchitecture</text><!--MD5=[09b614a08d8cba4a07c9adeb5e0fee81]\n",
       "class E3--><rect fill=\"#FFFFFF\" height=\"48.1875\" id=\"E3\" style=\"stroke: #383838; stroke-width: 1.5;\" width=\"88\" x=\"1484\" y=\"89.5\"/><text fill=\"#000000\" font-family=\"sans-serif\" font-size=\"12\" font-style=\"italic\" lengthAdjust=\"spacingAndGlyphs\" textLength=\"67\" x=\"1494.5\" y=\"106.957\">«action def»</text><text fill=\"#000000\" font-family=\"sans-serif\" font-size=\"12\" lengthAdjust=\"spacingAndGlyphs\" textLength=\"82\" x=\"1487\" y=\"122.0508\">Listen to Music</text><line style=\"stroke: #383838; stroke-width: 1.5;\" x1=\"1485\" x2=\"1571\" y1=\"129.6875\" y2=\"129.6875\"/><!--MD5=[ebbe1d658d1005bcc118a6aa81145e00]\n",
       "class E4--><rect fill=\"#FFFFFF\" height=\"48.1875\" id=\"E4\" style=\"stroke: #383838; stroke-width: 1.5;\" width=\"155\" x=\"1293.5\" y=\"89.5\"/><text fill=\"#000000\" font-family=\"sans-serif\" font-size=\"12\" font-style=\"italic\" lengthAdjust=\"spacingAndGlyphs\" textLength=\"67\" x=\"1337.5\" y=\"106.957\">«action def»</text><text fill=\"#000000\" font-family=\"sans-serif\" font-size=\"12\" lengthAdjust=\"spacingAndGlyphs\" textLength=\"149\" x=\"1296.5\" y=\"122.0508\">Assemble Music Collection</text><line style=\"stroke: #383838; stroke-width: 1.5;\" x1=\"1294.5\" x2=\"1447.5\" y1=\"129.6875\" y2=\"129.6875\"/><!--MD5=[270fce915f116d4de14055a7c1d9a0f3]\n",
       "class E5--><rect fill=\"#FFFFFF\" height=\"48.1875\" id=\"E5\" style=\"stroke: #383838; stroke-width: 1.5;\" width=\"89\" x=\"1169.5\" y=\"89.5\"/><text fill=\"#000000\" font-family=\"sans-serif\" font-size=\"12\" font-style=\"italic\" lengthAdjust=\"spacingAndGlyphs\" textLength=\"67\" x=\"1180.5\" y=\"106.957\">«action def»</text><text fill=\"#000000\" font-family=\"sans-serif\" font-size=\"12\" lengthAdjust=\"spacingAndGlyphs\" textLength=\"83\" x=\"1172.5\" y=\"122.0508\">Retrieve Money</text><line style=\"stroke: #383838; stroke-width: 1.5;\" x1=\"1170.5\" x2=\"1257.5\" y1=\"129.6875\" y2=\"129.6875\"/><!--MD5=[60a26617385b1d2d0262a64233df1f8d]\n",
       "class E6--><rect fill=\"#FFFFFF\" height=\"48.1875\" id=\"E6\" style=\"stroke: #383838; stroke-width: 1.5;\" width=\"166\" x=\"968\" y=\"89.5\"/><text fill=\"#000000\" font-family=\"sans-serif\" font-size=\"12\" font-style=\"italic\" lengthAdjust=\"spacingAndGlyphs\" textLength=\"67\" x=\"1017.5\" y=\"106.957\">«action def»</text><text fill=\"#000000\" font-family=\"sans-serif\" font-size=\"12\" lengthAdjust=\"spacingAndGlyphs\" textLength=\"160\" x=\"971\" y=\"122.0508\">(Un)install and Move Jukebox</text><line style=\"stroke: #383838; stroke-width: 1.5;\" x1=\"969\" x2=\"1133\" y1=\"129.6875\" y2=\"129.6875\"/><!--MD5=[2156ba9850f5573cc1fc38a6a4b2f02b]\n",
       "class E7--><rect fill=\"#FFFFFF\" height=\"48.1875\" id=\"E7\" style=\"stroke: #383838; stroke-width: 1.5;\" width=\"103\" x=\"829.5\" y=\"89.5\"/><text fill=\"#000000\" font-family=\"sans-serif\" font-size=\"12\" font-style=\"italic\" lengthAdjust=\"spacingAndGlyphs\" textLength=\"67\" x=\"847.5\" y=\"106.957\">«action def»</text><text fill=\"#000000\" font-family=\"sans-serif\" font-size=\"12\" lengthAdjust=\"spacingAndGlyphs\" textLength=\"97\" x=\"832.5\" y=\"122.0508\">Uninstall Jukebox</text><line style=\"stroke: #383838; stroke-width: 1.5;\" x1=\"830.5\" x2=\"931.5\" y1=\"129.6875\" y2=\"129.6875\"/><!--MD5=[b9389687b975829384b498ac4b7476b2]\n",
       "class E8--><rect fill=\"#FFFFFF\" height=\"48.1875\" id=\"E8\" style=\"stroke: #383838; stroke-width: 1.5;\" width=\"87\" x=\"707.5\" y=\"89.5\"/><text fill=\"#000000\" font-family=\"sans-serif\" font-size=\"12\" font-style=\"italic\" lengthAdjust=\"spacingAndGlyphs\" textLength=\"67\" x=\"717.5\" y=\"106.957\">«action def»</text><text fill=\"#000000\" font-family=\"sans-serif\" font-size=\"12\" lengthAdjust=\"spacingAndGlyphs\" textLength=\"81\" x=\"710.5\" y=\"122.0508\">Install Jukebox</text><line style=\"stroke: #383838; stroke-width: 1.5;\" x1=\"708.5\" x2=\"793.5\" y1=\"129.6875\" y2=\"129.6875\"/><!--MD5=[fd4143e9d270a159db93a4ea2a975926]\n",
       "class E9--><rect fill=\"#FFFFFF\" height=\"48.1875\" id=\"E9\" style=\"stroke: #383838; stroke-width: 1.5;\" width=\"157\" x=\"515.5\" y=\"89.5\"/><text fill=\"#000000\" font-family=\"sans-serif\" font-size=\"12\" font-style=\"italic\" lengthAdjust=\"spacingAndGlyphs\" textLength=\"67\" x=\"560.5\" y=\"106.957\">«action def»</text><text fill=\"#000000\" font-family=\"sans-serif\" font-size=\"12\" lengthAdjust=\"spacingAndGlyphs\" textLength=\"151\" x=\"518.5\" y=\"122.0508\">Supply Jukebox with Energy</text><line style=\"stroke: #383838; stroke-width: 1.5;\" x1=\"516.5\" x2=\"671.5\" y1=\"129.6875\" y2=\"129.6875\"/><!--MD5=[49a0ec8f00dab7302a31f22d0f0fe584]\n",
       "class E12--><rect fill=\"#FFFFFF\" height=\"48.1875\" id=\"E12\" rx=\"10\" ry=\"10\" style=\"stroke: #383838; stroke-width: 1.5;\" width=\"221\" x=\"237.5\" y=\"89.5\"/><text fill=\"#000000\" font-family=\"sans-serif\" font-size=\"12\" font-style=\"italic\" lengthAdjust=\"spacingAndGlyphs\" textLength=\"35\" x=\"330.5\" y=\"106.957\">«part»</text><text fill=\"#000000\" font-family=\"sans-serif\" font-size=\"12\" lengthAdjust=\"spacingAndGlyphs\" textLength=\"215\" x=\"240.5\" y=\"122.0508\">TheFASJukeBoxFunctionalContext: Part</text><line style=\"stroke: #383838; stroke-width: 1.5;\" x1=\"238.5\" x2=\"457.5\" y1=\"129.6875\" y2=\"129.6875\"/><!--MD5=[ee3c913d1a06f366521f9ef512b67efe]\n",
       "class E13--><rect fill=\"#FFFFFF\" height=\"48.1875\" id=\"E13\" rx=\"10\" ry=\"10\" style=\"stroke: #383838; stroke-width: 1.5;\" width=\"244\" x=\"215\" y=\"201\"/><text fill=\"#000000\" font-family=\"sans-serif\" font-size=\"12\" font-style=\"italic\" lengthAdjust=\"spacingAndGlyphs\" textLength=\"35\" x=\"319.5\" y=\"218.457\">«part»</text><text fill=\"#000000\" font-family=\"sans-serif\" font-size=\"12\" lengthAdjust=\"spacingAndGlyphs\" textLength=\"238\" x=\"218\" y=\"233.5508\">TheFASJukeBoxFunctionalArchitecture: Part</text><line style=\"stroke: #383838; stroke-width: 1.5;\" x1=\"216\" x2=\"458\" y1=\"241.1875\" y2=\"241.1875\"/><polygon fill=\"#FFFFFF\" points=\"56,86,188,86,195,109.6094,202,109.6094,202,141.2188,56,141.2188,56,86\" style=\"stroke: #000000; stroke-width: 1.5;\"/><line style=\"stroke: #000000; stroke-width: 1.5;\" x1=\"56\" x2=\"195\" y1=\"109.6094\" y2=\"109.6094\"/><text fill=\"#000000\" font-family=\"sans-serif\" font-size=\"14\" font-weight=\"bold\" lengthAdjust=\"spacingAndGlyphs\" textLength=\"126\" x=\"60\" y=\"102.5332\">FunctionalGroups</text><!--MD5=[062ed86c389d1a88f61c6380d0491e17]\n",
       "reverse link E12 to E13--><path d=\"M344.352,150.818 C342.696,167.298 340.787,186.301 339.329,200.811 \" fill=\"none\" id=\"E12&lt;-E13\" style=\"stroke: #383838; stroke-width: 1.0;\"/><polygon fill=\"#383838\" points=\"345.667,137.722,341.0871,143.292,344.4671,149.6619,349.047,144.0919,345.667,137.722\" style=\"stroke: #383838; stroke-width: 1.0;\"/><!--MD5=[265fac25fef14b91f276be560c282563]\n",
       "@startuml\r\n",
       "skinparam monochrome true\r\n",
       "skinparam classbackgroundcolor white\r\n",
       "skinparam shadowing false\r\n",
       "skinparam wrapWidth 300\r\n",
       "hide circle\r\n",
       "\r\n",
       "package \"TheFASJukeBox\" as E1   {\r\n",
       "package \"UseCases\" as E2   {\r\n",
       "comp def \"Listen to Music\" as E3  <<(T,blue)action def>> {\r\n",
       "}\r\n",
       "comp def \"Assemble Music Collection\" as E4  <<(T,blue)action def>> {\r\n",
       "}\r\n",
       "comp def \"Retrieve Money\" as E5  <<(T,blue)action def>> {\r\n",
       "}\r\n",
       "comp def \"(Un)install and Move Jukebox\" as E6  <<(T,blue)action def>> {\r\n",
       "}\r\n",
       "comp def \"Uninstall Jukebox\" as E7  <<(T,blue)action def>> {\r\n",
       "}\r\n",
       "comp def \"Install Jukebox\" as E8  <<(T,blue)action def>> {\r\n",
       "}\r\n",
       "comp def \"Supply Jukebox with Energy\" as E9  <<(T,blue)action def>> {\r\n",
       "}\r\n",
       "}\r\n",
       "package \"FunctionalArchitecture\" as E10   {\r\n",
       "package \"FunctionalGroups\" as E11   {\r\n",
       "}\r\n",
       "comp usage \"TheFASJukeBoxFunctionalContext: Part\" as E12  <<(T,blue)part>> {\r\n",
       "}\r\n",
       "comp usage \"TheFASJukeBoxFunctionalArchitecture: Part\" as E13  <<(T,blue)part>> {\r\n",
       "}\r\n",
       "E12 *- - E13\r\n",
       "}\r\n",
       "}\r\n",
       "@enduml\r\n",
       "\n",
       "PlantUML version 1.2020.13(Sat Jun 13 14:26:38 CEST 2020)\n",
       "(EPL source distribution)\n",
       "Java Runtime: OpenJDK Runtime Environment\n",
       "JVM: OpenJDK 64-Bit Server VM\n",
       "Default Encoding: Cp1252\n",
       "Language: en\n",
       "Country: US\n",
       "--></g></svg>"
      ]
     },
     "execution_count": 6,
     "metadata": {},
     "output_type": "execute_result"
    }
   ],
   "source": [
    "%viz --view=tree TheFASJukeBox"
   ]
  }
 ],
 "metadata": {
  "kernelspec": {
   "display_name": "SysML",
   "language": "sysml",
   "name": "sysml"
  },
  "language_info": {
   "codemirror_mode": "sysml",
   "file_extension": ".sysml",
   "mimetype": "text/x-sysml",
   "name": "SysML",
   "pygments_lexer": "java",
   "version": "1.0.0"
  }
 },
 "nbformat": 4,
 "nbformat_minor": 4
}
