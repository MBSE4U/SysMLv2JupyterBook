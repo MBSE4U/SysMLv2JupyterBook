{
 "cells": [
  {
   "cell_type": "markdown",
   "metadata": {},
   "source": [
    "# SysML v2 JupyterBook\n",
    "\n",
    "*Last update: January 23rd, 2022*\n",
    "\n",
    "This Jupyter Notebook is an exploration of SysML v2 from the user perspective. It shows some SysML v2 basics, but mainly focuses on the special features compared to SysML v1 and how they can be used. For a detailed introduction to the textual syntax of SysML v2, I recommend the following PDF: [Introduction to the SysML v2 Language Textual Notation](https://github.com/Systems-Modeling/SysML-v2-Release/blob/master/doc/Intro%20to%20the%20SysML%20v2%20Language.pdf).\n",
    "\n",
    "**Please note: This is work in progress. You will see sketchy stuff. If you have any comments, contact me: [tim@mbse4u.com](mailto:tim@mbse4u.com).**\n",
    "\n",
    "## Table of Contents\n",
    "\n",
    "* [Introduction](#sysmlv2modintroduction)\n",
    "* [Graphical and Textual Notation of SysML v2](#sysmlv2modnotation)\n",
    "* [Example and first steps](#sysmlv2modexample)\n",
    "* [Parts and PartDefinitions](#sysmlv2modparts)\n",
    "* [Specialization and Subsetting](#sysmlv2modspecialization)\n",
    "* [Putting the parts together](#sysmlv2modconnect)\n",
    "* [Modeling Interfaces](#sysmlv2modinterfaces)\n",
    "* [Modeling variants](#sysmlv2modvariants)\n",
    "* [Modeling requirements](#sysmlv2modrequirements)\n"
   ]
  },
  {
   "cell_type": "markdown",
   "metadata": {},
   "source": [
    "## Introduction<a name=\"sysmlv2modintroduction\"></a>\n",
    "\n",
    "This section provides \n",
    "\n",
    "* a brief introduction of the modeling with SysML v2,\n",
    "* with a special focus on what is different compared to SysML v1.\n",
    "\n",
    "The target audience for this Jupyter notebook is SysML v1 modelers. The basic concepts like \"What is a Use Case?\" or \"What is a Part Decomposition?\" are not explained.\n",
    "\n",
    "It is not (yet) a complete SysML v2 tutorial. It uses the SysML v2 pilot implementation which is not intended as full modeling tool for industrial application. "
   ]
  },
  {
   "cell_type": "markdown",
   "metadata": {},
   "source": [
    "## Graphical and Textual Notation of SysML v2<a name=\"sysmlv2modnotation\"></a>\n",
    "\n",
    "SysML v1 is primarily known for its diagrams. Although they are only the visualization of the model information and the real treasure of a real SysML model is the model data behind the diagrams.\n",
    "\n",
    "SysML v2 also provides graphical visualizations and additionally a textual notation. Both are equivalent notations and tools can provide editors for both.\n",
    "\n",
    "The SysML v2 pilot implementation has so far only a textual editor and generates the graphical notation. Therefore, some have been under the impression that SysML v2 is primarily textual. This is not the case. Those who wish can use SysML v2 as they would SysML v1 and edit the model using graphical editors only."
   ]
  },
  {
   "cell_type": "markdown",
   "metadata": {},
   "source": [
    "## Example and first steps<a name=\"sysmlv2modexample\"></a>\n",
    "\n",
    "The simple example system is the following electrical vehicle:\n",
    "\n",
    "![Electrical HSUV](lego-evehicle.jpg)\n",
    "\n",
    "Let's start with a logical architecture of the vehicle. A first major difference compared to SysML is that there is a textual syntax for SysML v2.\n",
    "The following cell shows the textual SysML v2 syntax of the logical architecture. The package statement defines the namespace of the architecture. The eVehicle architecture itself is a simple set of parts."
   ]
  },
  {
   "cell_type": "code",
   "execution_count": 1,
   "metadata": {},
   "outputs": [
    {
     "data": {
      "text/plain": [
       "Package eVehicle_LogicalArchitecture (38762aac-3544-4e04-bad2-e327772177c6)\n"
      ]
     },
     "execution_count": 1,
     "metadata": {},
     "output_type": "execute_result"
    }
   ],
   "source": [
    "package eVehicle_LogicalArchitecture {\n",
    "    part eVehicle {    \n",
    "        part body;\n",
    "        part battery;\n",
    "        part engine;\n",
    "        part frontAxis;\n",
    "        part rearAxis;\n",
    "        part frontWheel[2];\n",
    "        part rearWheel[2];\n",
    "    }\n",
    "}"
   ]
  },
  {
   "cell_type": "markdown",
   "metadata": {},
   "source": [
    "Run the cell above to create the real model. The text above is only the textual syntax of SysML v2. The show command provides a deep insight into the model structure:"
   ]
  },
  {
   "cell_type": "code",
   "execution_count": 2,
   "metadata": {},
   "outputs": [
    {
     "data": {
      "text/plain": [
       "Package eVehicle_LogicalArchitecture (38762aac-3544-4e04-bad2-e327772177c6)\n",
       "  [Membership] PartUsage eVehicle (4d31dd07-81a0-4fd5-85ab-55bff9dc1cd5)\n",
       "    [Subsetting (implicit)] PartUsage parts (a94fa591-5608-4e25-a690-494e9889965e)\n",
       "    [FeatureMembership] PartUsage body (e8cae817-f7cc-435d-a3bd-61891324bafb)\n",
       "      [Subsetting (implicit)] PartUsage parts (a94fa591-5608-4e25-a690-494e9889965e)\n",
       "    [FeatureMembership] PartUsage battery (efae3f3b-f0ae-47ec-b6cb-8ce7ad9b3a65)\n",
       "      [Subsetting (implicit)] PartUsage parts (a94fa591-5608-4e25-a690-494e9889965e)\n",
       "    [FeatureMembership] PartUsage engine (8d6ed75f-1a73-47f2-ae91-f8fb8e73bd0c)\n",
       "      [Subsetting (implicit)] PartUsage parts (a94fa591-5608-4e25-a690-494e9889965e)\n",
       "    [FeatureMembership] PartUsage frontAxis (c59799d3-b2f1-4387-ba91-00943df2e8ab)\n",
       "      [Subsetting (implicit)] PartUsage parts (a94fa591-5608-4e25-a690-494e9889965e)\n",
       "    [FeatureMembership] PartUsage rearAxis (bb1cc7af-62a3-49cf-9823-cfb3f7b72534)\n",
       "      [Subsetting (implicit)] PartUsage parts (a94fa591-5608-4e25-a690-494e9889965e)\n",
       "    [FeatureMembership] PartUsage frontWheel (600ccbd8-6ce9-442d-acc6-7e8fc58109e5)\n",
       "      [Subsetting (implicit)] PartUsage parts (a94fa591-5608-4e25-a690-494e9889965e)\n",
       "      [Membership] MultiplicityRange (85de026d-a033-42ac-ac8e-8b845468cc39)\n",
       "        [Subsetting (implicit)] Feature naturals (7daa3ba8-1580-4c74-a6ec-ea8c515c3b12)\n",
       "        [Membership] LiteralInteger (9d431957-e866-4789-964f-a2d4013c6d86)\n",
       "          [ReturnParameterMembership] Feature $result (42b82f0e-609c-48f6-b1a2-7fa70b354eed)\n",
       "    [FeatureMembership] PartUsage rearWheel (4df07ddc-739f-474e-9e7e-25b86094e6d6)\n",
       "      [Subsetting (implicit)] PartUsage parts (a94fa591-5608-4e25-a690-494e9889965e)\n",
       "      [Membership] MultiplicityRange (9680394f-b6a6-4793-80f1-1beebd969911)\n",
       "        [Subsetting (implicit)] Feature naturals (7daa3ba8-1580-4c74-a6ec-ea8c515c3b12)\n",
       "        [Membership] LiteralInteger (35f47da3-e928-41c8-888f-6416bfada141)\n",
       "          [ReturnParameterMembership] Feature $result (0157aea6-72dd-43e4-a05f-fa1a6f2e8a8e)\n"
      ]
     },
     "execution_count": 2,
     "metadata": {},
     "output_type": "execute_result"
    }
   ],
   "source": [
    "%show eVehicle_LogicalArchitecture"
   ]
  },
  {
   "cell_type": "markdown",
   "metadata": {},
   "source": [
    "More convenient for the common model user, of course, is the graphical notation presented after the execution of the following cell:"
   ]
  },
  {
   "cell_type": "code",
   "execution_count": 3,
   "metadata": {},
   "outputs": [
    {
     "data": {
      "image/svg+xml": [
       "<?xml version=\"1.0\" encoding=\"UTF-8\" standalone=\"no\"?><svg xmlns=\"http://www.w3.org/2000/svg\" xmlns:xlink=\"http://www.w3.org/1999/xlink\" contentScriptType=\"application/ecmascript\" contentStyleType=\"text/css\" height=\"226px\" preserveAspectRatio=\"none\" style=\"width:635px;height:226px;\" version=\"1.1\" viewBox=\"0 0 635 226\" width=\"635px\" zoomAndPan=\"magnify\"><defs/><g><!--MD5=[fbc87193dbaf4d95561dea2c320d4a47]\n",
       "cluster E1--><a href=\"psysml:e4fe39fc-58f5-4460-b6b0-7f97e9dfc836\" target=\"_top\" title=\"psysml:e4fe39fc-58f5-4460-b6b0-7f97e9dfc836\" xlink:actuate=\"onRequest\" xlink:href=\"psysml:e4fe39fc-58f5-4460-b6b0-7f97e9dfc836\" xlink:show=\"new\" xlink:title=\"psysml:e4fe39fc-58f5-4460-b6b0-7f97e9dfc836\" xlink:type=\"simple\"><polygon fill=\"#FFFFFF\" points=\"16,6,228,6,235,29.6094,613,29.6094,613,214,16,214,16,6\" style=\"stroke: #000000; stroke-width: 1.5;\"/><line style=\"stroke: #000000; stroke-width: 1.5;\" x1=\"16\" x2=\"235\" y1=\"29.6094\" y2=\"29.6094\"/><text fill=\"#000000\" font-family=\"sans-serif\" font-size=\"14\" font-weight=\"bold\" lengthAdjust=\"spacingAndGlyphs\" textLength=\"206\" x=\"20\" y=\"22.5332\">eVehicle_LogicalArchitecture</text></a><!--MD5=[b4997ac47864f28c2f74865a473b2911]\n",
       "class E2--><a href=\"psysml:0e94dd4f-1398-4675-936c-e69d1bbe1808\" target=\"_top\" title=\"psysml:0e94dd4f-1398-4675-936c-e69d1bbe1808\" xlink:actuate=\"onRequest\" xlink:href=\"psysml:0e94dd4f-1398-4675-936c-e69d1bbe1808\" xlink:show=\"new\" xlink:title=\"psysml:0e94dd4f-1398-4675-936c-e69d1bbe1808\" xlink:type=\"simple\"><rect fill=\"#FFFFFF\" height=\"48.1875\" id=\"E2\" rx=\"10\" ry=\"10\" style=\"stroke: #383838; stroke-width: 1.5;\" width=\"53\" x=\"260.5\" y=\"42\"/><text fill=\"#000000\" font-family=\"sans-serif\" font-size=\"12\" font-style=\"italic\" lengthAdjust=\"spacingAndGlyphs\" textLength=\"35\" x=\"269.5\" y=\"59.457\">«part»</text><text fill=\"#000000\" font-family=\"sans-serif\" font-size=\"12\" lengthAdjust=\"spacingAndGlyphs\" textLength=\"47\" x=\"263.5\" y=\"74.5508\">eVehicle</text><line style=\"stroke: #383838; stroke-width: 1.5;\" x1=\"261.5\" x2=\"312.5\" y1=\"82.1875\" y2=\"82.1875\"/></a><!--MD5=[09b614a08d8cba4a07c9adeb5e0fee81]\n",
       "class E3--><a href=\"psysml:9bff4ede-5569-4e95-870f-8db0d0263e47\" target=\"_top\" title=\"psysml:9bff4ede-5569-4e95-870f-8db0d0263e47\" xlink:actuate=\"onRequest\" xlink:href=\"psysml:9bff4ede-5569-4e95-870f-8db0d0263e47\" xlink:show=\"new\" xlink:title=\"psysml:9bff4ede-5569-4e95-870f-8db0d0263e47\" xlink:type=\"simple\"><rect fill=\"#FFFFFF\" height=\"48.1875\" id=\"E3\" rx=\"10\" ry=\"10\" style=\"stroke: #383838; stroke-width: 1.5;\" width=\"37\" x=\"32.5\" y=\"150\"/><text fill=\"#000000\" font-family=\"sans-serif\" font-size=\"12\" font-style=\"italic\" lengthAdjust=\"spacingAndGlyphs\" textLength=\"35\" x=\"33.5\" y=\"167.457\">«part»</text><text fill=\"#000000\" font-family=\"sans-serif\" font-size=\"12\" lengthAdjust=\"spacingAndGlyphs\" textLength=\"26\" x=\"38\" y=\"182.5508\">body</text><line style=\"stroke: #383838; stroke-width: 1.5;\" x1=\"33.5\" x2=\"68.5\" y1=\"190.1875\" y2=\"190.1875\"/></a><!--MD5=[ebbe1d658d1005bcc118a6aa81145e00]\n",
       "class E4--><a href=\"psysml:be66ea45-004d-4673-90cf-b9b0258f59cb\" target=\"_top\" title=\"psysml:be66ea45-004d-4673-90cf-b9b0258f59cb\" xlink:actuate=\"onRequest\" xlink:href=\"psysml:be66ea45-004d-4673-90cf-b9b0258f59cb\" xlink:show=\"new\" xlink:title=\"psysml:be66ea45-004d-4673-90cf-b9b0258f59cb\" xlink:type=\"simple\"><rect fill=\"#FFFFFF\" height=\"48.1875\" id=\"E4\" rx=\"10\" ry=\"10\" style=\"stroke: #383838; stroke-width: 1.5;\" width=\"42\" x=\"105\" y=\"150\"/><text fill=\"#000000\" font-family=\"sans-serif\" font-size=\"12\" font-style=\"italic\" lengthAdjust=\"spacingAndGlyphs\" textLength=\"35\" x=\"108.5\" y=\"167.457\">«part»</text><text fill=\"#000000\" font-family=\"sans-serif\" font-size=\"12\" lengthAdjust=\"spacingAndGlyphs\" textLength=\"36\" x=\"108\" y=\"182.5508\">battery</text><line style=\"stroke: #383838; stroke-width: 1.5;\" x1=\"106\" x2=\"146\" y1=\"190.1875\" y2=\"190.1875\"/></a><!--MD5=[270fce915f116d4de14055a7c1d9a0f3]\n",
       "class E5--><a href=\"psysml:5ea7a3c1-be92-47c7-9c88-38aab820bbbb\" target=\"_top\" title=\"psysml:5ea7a3c1-be92-47c7-9c88-38aab820bbbb\" xlink:actuate=\"onRequest\" xlink:href=\"psysml:5ea7a3c1-be92-47c7-9c88-38aab820bbbb\" xlink:show=\"new\" xlink:title=\"psysml:5ea7a3c1-be92-47c7-9c88-38aab820bbbb\" xlink:type=\"simple\"><rect fill=\"#FFFFFF\" height=\"48.1875\" id=\"E5\" rx=\"10\" ry=\"10\" style=\"stroke: #383838; stroke-width: 1.5;\" width=\"44\" x=\"182\" y=\"150\"/><text fill=\"#000000\" font-family=\"sans-serif\" font-size=\"12\" font-style=\"italic\" lengthAdjust=\"spacingAndGlyphs\" textLength=\"35\" x=\"186.5\" y=\"167.457\">«part»</text><text fill=\"#000000\" font-family=\"sans-serif\" font-size=\"12\" lengthAdjust=\"spacingAndGlyphs\" textLength=\"38\" x=\"185\" y=\"182.5508\">engine</text><line style=\"stroke: #383838; stroke-width: 1.5;\" x1=\"183\" x2=\"225\" y1=\"190.1875\" y2=\"190.1875\"/></a><!--MD5=[60a26617385b1d2d0262a64233df1f8d]\n",
       "class E6--><a href=\"psysml:9c9857a1-800b-46db-af41-80d83b7a96fa\" target=\"_top\" title=\"psysml:9c9857a1-800b-46db-af41-80d83b7a96fa\" xlink:actuate=\"onRequest\" xlink:href=\"psysml:9c9857a1-800b-46db-af41-80d83b7a96fa\" xlink:show=\"new\" xlink:title=\"psysml:9c9857a1-800b-46db-af41-80d83b7a96fa\" xlink:type=\"simple\"><rect fill=\"#FFFFFF\" height=\"48.1875\" id=\"E6\" rx=\"10\" ry=\"10\" style=\"stroke: #383838; stroke-width: 1.5;\" width=\"52\" x=\"261\" y=\"150\"/><text fill=\"#000000\" font-family=\"sans-serif\" font-size=\"12\" font-style=\"italic\" lengthAdjust=\"spacingAndGlyphs\" textLength=\"35\" x=\"269.5\" y=\"167.457\">«part»</text><text fill=\"#000000\" font-family=\"sans-serif\" font-size=\"12\" lengthAdjust=\"spacingAndGlyphs\" textLength=\"46\" x=\"264\" y=\"182.5508\">frontAxis</text><line style=\"stroke: #383838; stroke-width: 1.5;\" x1=\"262\" x2=\"312\" y1=\"190.1875\" y2=\"190.1875\"/></a><!--MD5=[2156ba9850f5573cc1fc38a6a4b2f02b]\n",
       "class E7--><a href=\"psysml:f09a2d77-44c0-4f20-bd99-16e26652c7bb\" target=\"_top\" title=\"psysml:f09a2d77-44c0-4f20-bd99-16e26652c7bb\" xlink:actuate=\"onRequest\" xlink:href=\"psysml:f09a2d77-44c0-4f20-bd99-16e26652c7bb\" xlink:show=\"new\" xlink:title=\"psysml:f09a2d77-44c0-4f20-bd99-16e26652c7bb\" xlink:type=\"simple\"><rect fill=\"#FFFFFF\" height=\"48.1875\" id=\"E7\" rx=\"10\" ry=\"10\" style=\"stroke: #383838; stroke-width: 1.5;\" width=\"50\" x=\"348\" y=\"150\"/><text fill=\"#000000\" font-family=\"sans-serif\" font-size=\"12\" font-style=\"italic\" lengthAdjust=\"spacingAndGlyphs\" textLength=\"35\" x=\"355.5\" y=\"167.457\">«part»</text><text fill=\"#000000\" font-family=\"sans-serif\" font-size=\"12\" lengthAdjust=\"spacingAndGlyphs\" textLength=\"44\" x=\"351\" y=\"182.5508\">rearAxis</text><line style=\"stroke: #383838; stroke-width: 1.5;\" x1=\"349\" x2=\"397\" y1=\"190.1875\" y2=\"190.1875\"/></a><!--MD5=[b9389687b975829384b498ac4b7476b2]\n",
       "class E8--><a href=\"psysml:a67dc1b3-76ae-4d67-a8a4-20e3767e6d8d\" target=\"_top\" title=\"psysml:a67dc1b3-76ae-4d67-a8a4-20e3767e6d8d\" xlink:actuate=\"onRequest\" xlink:href=\"psysml:a67dc1b3-76ae-4d67-a8a4-20e3767e6d8d\" xlink:show=\"new\" xlink:title=\"psysml:a67dc1b3-76ae-4d67-a8a4-20e3767e6d8d\" xlink:type=\"simple\"><rect fill=\"#FFFFFF\" height=\"48.1875\" id=\"E8\" rx=\"10\" ry=\"10\" style=\"stroke: #383838; stroke-width: 1.5;\" width=\"65\" x=\"433.5\" y=\"150\"/><text fill=\"#000000\" font-family=\"sans-serif\" font-size=\"12\" font-style=\"italic\" lengthAdjust=\"spacingAndGlyphs\" textLength=\"35\" x=\"448.5\" y=\"167.457\">«part»</text><text fill=\"#000000\" font-family=\"sans-serif\" font-size=\"12\" lengthAdjust=\"spacingAndGlyphs\" textLength=\"59\" x=\"436.5\" y=\"182.5508\">frontWheel</text><line style=\"stroke: #383838; stroke-width: 1.5;\" x1=\"434.5\" x2=\"497.5\" y1=\"190.1875\" y2=\"190.1875\"/></a><!--MD5=[fd4143e9d270a159db93a4ea2a975926]\n",
       "class E9--><a href=\"psysml:82db217f-d060-4430-9ecf-377454046b17\" target=\"_top\" title=\"psysml:82db217f-d060-4430-9ecf-377454046b17\" xlink:actuate=\"onRequest\" xlink:href=\"psysml:82db217f-d060-4430-9ecf-377454046b17\" xlink:show=\"new\" xlink:title=\"psysml:82db217f-d060-4430-9ecf-377454046b17\" xlink:type=\"simple\"><rect fill=\"#FFFFFF\" height=\"48.1875\" id=\"E9\" rx=\"10\" ry=\"10\" style=\"stroke: #383838; stroke-width: 1.5;\" width=\"63\" x=\"533.5\" y=\"150\"/><text fill=\"#000000\" font-family=\"sans-serif\" font-size=\"12\" font-style=\"italic\" lengthAdjust=\"spacingAndGlyphs\" textLength=\"35\" x=\"547.5\" y=\"167.457\">«part»</text><text fill=\"#000000\" font-family=\"sans-serif\" font-size=\"12\" lengthAdjust=\"spacingAndGlyphs\" textLength=\"57\" x=\"536.5\" y=\"182.5508\">rearWheel</text><line style=\"stroke: #383838; stroke-width: 1.5;\" x1=\"534.5\" x2=\"595.5\" y1=\"190.1875\" y2=\"190.1875\"/></a><!--MD5=[209b3feb70ccb6233bfe1053d122c12c]\n",
       "reverse link E2 to E3--><a href=\"psysml:9bff4ede-5569-4e95-870f-8db0d0263e47\" target=\"_top\" title=\"psysml:9bff4ede-5569-4e95-870f-8db0d0263e47\" xlink:actuate=\"onRequest\" xlink:href=\"psysml:9bff4ede-5569-4e95-870f-8db0d0263e47\" xlink:show=\"new\" xlink:title=\"psysml:9bff4ede-5569-4e95-870f-8db0d0263e47\" xlink:type=\"simple\"><path d=\"M247.996,81.13 C207.256,96.379 141.9,122.236 88,150 C81.9485,153.1172 75.5788,156.8853 69.8628,160.4614 \" fill=\"none\" id=\"E2&lt;-E3\" style=\"stroke: #383838; stroke-width: 1.0;\"/><polygon fill=\"#383838\" points=\"260.312,76.563,253.2956,74.8988,249.0607,80.7354,256.0772,82.3996,260.312,76.563\" style=\"stroke: #383838; stroke-width: 1.0;\"/></a><!--MD5=[9618e71518536f8baf3342ff6fdab317]\n",
       "reverse link E2 to E4--><a href=\"psysml:be66ea45-004d-4673-90cf-b9b0258f59cb\" target=\"_top\" title=\"psysml:be66ea45-004d-4673-90cf-b9b0258f59cb\" xlink:actuate=\"onRequest\" xlink:href=\"psysml:be66ea45-004d-4673-90cf-b9b0258f59cb\" xlink:show=\"new\" xlink:title=\"psysml:be66ea45-004d-4673-90cf-b9b0258f59cb\" xlink:type=\"simple\"><path d=\"M249.36,91.782 C217.664,112.65 173.454,141.7572 147.468,158.8658 \" fill=\"none\" id=\"E2&lt;-E4\" style=\"stroke: #383838; stroke-width: 1.0;\"/><polygon fill=\"#383838\" points=\"260.414,84.504,253.203,84.4622,250.391,91.1025,257.602,91.1442,260.414,84.504\" style=\"stroke: #383838; stroke-width: 1.0;\"/></a><!--MD5=[4e1a83fab71cdb913c109063314ae896]\n",
       "reverse link E2 to E5--><a href=\"psysml:5ea7a3c1-be92-47c7-9c88-38aab820bbbb\" target=\"_top\" title=\"psysml:5ea7a3c1-be92-47c7-9c88-38aab820bbbb\" xlink:actuate=\"onRequest\" xlink:href=\"psysml:5ea7a3c1-be92-47c7-9c88-38aab820bbbb\" xlink:show=\"new\" xlink:title=\"psysml:5ea7a3c1-be92-47c7-9c88-38aab820bbbb\" xlink:type=\"simple\"><path d=\"M260.734,100.545 C248.214,116.534 233.546,135.2666 222.261,149.6784 \" fill=\"none\" id=\"E2&lt;-E5\" style=\"stroke: #383838; stroke-width: 1.0;\"/><polygon fill=\"#383838\" points=\"268.99,90,262.1416,92.2583,261.5922,99.4484,268.4405,97.1901,268.99,90\" style=\"stroke: #383838; stroke-width: 1.0;\"/></a><!--MD5=[ce036f65110ae2351ccce5a81dc2e928]\n",
       "reverse link E2 to E6--><a href=\"psysml:9c9857a1-800b-46db-af41-80d83b7a96fa\" target=\"_top\" title=\"psysml:9c9857a1-800b-46db-af41-80d83b7a96fa\" xlink:actuate=\"onRequest\" xlink:href=\"psysml:9c9857a1-800b-46db-af41-80d83b7a96fa\" xlink:show=\"new\" xlink:title=\"psysml:9c9857a1-800b-46db-af41-80d83b7a96fa\" xlink:type=\"simple\"><path d=\"M287,103.338 C287,118.681 287,136.098 287,149.6784 \" fill=\"none\" id=\"E2&lt;-E6\" style=\"stroke: #383838; stroke-width: 1.0;\"/><polygon fill=\"#383838\" points=\"287,90,283,96,287,102,291,96,287,90\" style=\"stroke: #383838; stroke-width: 1.0;\"/></a><!--MD5=[1c72b32696d764168c30777981ec3f66]\n",
       "reverse link E2 to E7--><a href=\"psysml:f09a2d77-44c0-4f20-bd99-16e26652c7bb\" target=\"_top\" title=\"psysml:f09a2d77-44c0-4f20-bd99-16e26652c7bb\" xlink:actuate=\"onRequest\" xlink:href=\"psysml:f09a2d77-44c0-4f20-bd99-16e26652c7bb\" xlink:show=\"new\" xlink:title=\"psysml:f09a2d77-44c0-4f20-bd99-16e26652c7bb\" xlink:type=\"simple\"><path d=\"M314.216,100.545 C327.188,116.534 342.386,135.2666 354.079,149.6784 \" fill=\"none\" id=\"E2&lt;-E7\" style=\"stroke: #383838; stroke-width: 1.0;\"/><polygon fill=\"#383838\" points=\"305.661,90,306.3346,97.1796,313.221,99.3191,312.5474,92.1396,305.661,90\" style=\"stroke: #383838; stroke-width: 1.0;\"/></a><!--MD5=[65f962d72b3a6bed1ede4f3c867e43a4]\n",
       "reverse link E2 to E8--><a href=\"psysml:a67dc1b3-76ae-4d67-a8a4-20e3767e6d8d\" target=\"_top\" title=\"psysml:a67dc1b3-76ae-4d67-a8a4-20e3767e6d8d\" xlink:actuate=\"onRequest\" xlink:href=\"psysml:a67dc1b3-76ae-4d67-a8a4-20e3767e6d8d\" xlink:show=\"new\" xlink:title=\"psysml:a67dc1b3-76ae-4d67-a8a4-20e3767e6d8d\" xlink:type=\"simple\"><path d=\"M325.4,89.739 C357.509,108.754 402.815,135.5833 433.238,153.5989 \" fill=\"none\" id=\"E2&lt;-E8\" style=\"stroke: #383838; stroke-width: 1.0;\"/><polygon fill=\"#383838\" points=\"313.798,82.869,316.923,89.3678,324.1238,88.9827,320.9988,82.4839,313.798,82.869\" style=\"stroke: #383838; stroke-width: 1.0;\"/><text fill=\"#000000\" font-family=\"sans-serif\" font-size=\"13\" lengthAdjust=\"spacingAndGlyphs\" textLength=\"7\" x=\"418.3057\" y=\"144.8992\">2</text></a><!--MD5=[4a91eb351f2fb42055d99b719d3dd418]\n",
       "reverse link E2 to E9--><a href=\"psysml:82db217f-d060-4430-9ecf-377454046b17\" target=\"_top\" title=\"psysml:82db217f-d060-4430-9ecf-377454046b17\" xlink:actuate=\"onRequest\" xlink:href=\"psysml:82db217f-d060-4430-9ecf-377454046b17\" xlink:show=\"new\" xlink:title=\"psysml:82db217f-d060-4430-9ecf-377454046b17\" xlink:type=\"simple\"><path d=\"M326.081,79.95 C372,95.445 450.269,122.728 516,150 C521.642,152.3409 527.578,154.9758 533.295,157.6046 \" fill=\"none\" id=\"E2&lt;-E9\" style=\"stroke: #383838; stroke-width: 1.0;\"/><polygon fill=\"#383838\" points=\"313.748,75.81,318.1631,81.5115,325.1241,79.6289,320.709,73.9274,313.748,75.81\" style=\"stroke: #383838; stroke-width: 1.0;\"/><text fill=\"#000000\" font-family=\"sans-serif\" font-size=\"13\" lengthAdjust=\"spacingAndGlyphs\" textLength=\"7\" x=\"518.5939\" y=\"149.7812\">2</text></a><!--MD5=[7726550144215f7eda2da6ad4a02ece2]\n",
       "@startuml\r\n",
       "skinparam monochrome true\r\n",
       "skinparam classbackgroundcolor white\r\n",
       "skinparam shadowing false\r\n",
       "skinparam wrapWidth 300\r\n",
       "hide circle\r\n",
       "\r\n",
       "package \"eVehicle_LogicalArchitecture\" as E1  [[psysml:e4fe39fc-58f5-4460-b6b0-7f97e9dfc836 ]]  {\r\n",
       "comp usage \"eVehicle\" as E2  <<(T,blue)part>> [[psysml:0e94dd4f-1398-4675-936c-e69d1bbe1808 ]] {\r\n",
       "}\r\n",
       "comp usage \"body\" as E3  <<(T,blue)part>> [[psysml:9bff4ede-5569-4e95-870f-8db0d0263e47 ]] {\r\n",
       "}\r\n",
       "comp usage \"battery\" as E4  <<(T,blue)part>> [[psysml:be66ea45-004d-4673-90cf-b9b0258f59cb ]] {\r\n",
       "}\r\n",
       "comp usage \"engine\" as E5  <<(T,blue)part>> [[psysml:5ea7a3c1-be92-47c7-9c88-38aab820bbbb ]] {\r\n",
       "}\r\n",
       "comp usage \"frontAxis\" as E6  <<(T,blue)part>> [[psysml:9c9857a1-800b-46db-af41-80d83b7a96fa ]] {\r\n",
       "}\r\n",
       "comp usage \"rearAxis\" as E7  <<(T,blue)part>> [[psysml:f09a2d77-44c0-4f20-bd99-16e26652c7bb ]] {\r\n",
       "}\r\n",
       "comp usage \"frontWheel\" as E8  <<(T,blue)part>> [[psysml:a67dc1b3-76ae-4d67-a8a4-20e3767e6d8d ]] {\r\n",
       "}\r\n",
       "comp usage \"rearWheel\" as E9  <<(T,blue)part>> [[psysml:82db217f-d060-4430-9ecf-377454046b17 ]] {\r\n",
       "}\r\n",
       "E2 *- - E3 [[psysml:9bff4ede-5569-4e95-870f-8db0d0263e47 ]] \r\n",
       "E2 *- - E4 [[psysml:be66ea45-004d-4673-90cf-b9b0258f59cb ]] \r\n",
       "E2 *- - E5 [[psysml:5ea7a3c1-be92-47c7-9c88-38aab820bbbb ]] \r\n",
       "E2 *- - E6 [[psysml:9c9857a1-800b-46db-af41-80d83b7a96fa ]] \r\n",
       "E2 *- - E7 [[psysml:f09a2d77-44c0-4f20-bd99-16e26652c7bb ]] \r\n",
       "E2 *- - \"2\"E8 [[psysml:a67dc1b3-76ae-4d67-a8a4-20e3767e6d8d ]] \r\n",
       "E2 *- - \"2\"E9 [[psysml:82db217f-d060-4430-9ecf-377454046b17 ]] \r\n",
       "}\r\n",
       "@enduml\r\n",
       "\n",
       "PlantUML version 1.2020.13(Sat Jun 13 14:26:38 CEST 2020)\n",
       "(EPL source distribution)\n",
       "Java Runtime: OpenJDK Runtime Environment\n",
       "JVM: OpenJDK 64-Bit Server VM\n",
       "Default Encoding: Cp1252\n",
       "Language: en\n",
       "Country: US\n",
       "--></g></svg>"
      ]
     },
     "execution_count": 3,
     "metadata": {},
     "output_type": "execute_result"
    }
   ],
   "source": [
    "%viz --view=tree eVehicle_LogicalArchitecture"
   ]
  },
  {
   "cell_type": "markdown",
   "metadata": {},
   "source": [
    "The diagram is only a view, and not an editor. A graphical editor is not provided in the pilot implementation. Future SysML v2 modeling tools will certainly offer graphical editors."
   ]
  },
  {
   "cell_type": "markdown",
   "metadata": {},
   "source": [
    "### Changes to SysML v1\n",
    "\n",
    "SysML v2 is a complete new language with a different foundation than SysML v1. Therefore, there are plenty of differences. Here, I highlight only the changes that are most relevant to the modeler.\n",
    "\n",
    "If I had modeled the eVehicle in SysML v1, I would have had to first define blocks and then part properties whose types are the blocks.\n",
    "\n",
    "![eVehicle in SysML v1](evehicle-logical-architecture-sysmlv1.jpg)\n",
    "\n",
    "Did you notice it in my simple SysML v2 example above? There are no blocks there, only parts. To put it simply, this would be like modeling part properties in SysML v1 without blocks. Basically, it works that in SysML v1 you define a part without a block. But what is not possible in SysML v1 is that the parts themselves define substructures."
   ]
  },
  {
   "cell_type": "markdown",
   "metadata": {},
   "source": [
    "## Parts and PartDefinitions<a name=\"sysmlv2modparts\"></a>\n",
    "\n",
    "Modeling a decomposition is a typical capability that an MBSE modeling language must have. We used partial decomposition in our small eVehicle example. For example, there is also the decomposition of functions.\n",
    "\n",
    "In SysML v2, you can define parts without types, but with substructures. I extend our example and add a property to the wheel to specify the size. The type of the attribute is Integer. I skip units for now. "
   ]
  },
  {
   "cell_type": "code",
   "execution_count": 4,
   "metadata": {},
   "outputs": [
    {
     "data": {
      "text/plain": [
       "Package eVehicle_LogicalArchitecture (dc09b226-b5d4-4a45-a233-9c74335789e8)\n"
      ]
     },
     "execution_count": 4,
     "metadata": {},
     "output_type": "execute_result"
    }
   ],
   "source": [
    "package eVehicle_LogicalArchitecture {\n",
    "    \n",
    "    import ScalarValues::Integer;\n",
    "    \n",
    "    part eVehicle {    \n",
    "        part body;\n",
    "        part battery;\n",
    "        part engine;\n",
    "        part frontAxis;\n",
    "        part rearAxis;\n",
    "        part frontWheel[2] {\n",
    "            attribute size : Integer;\n",
    "        }\n",
    "        part rearWheel[2] {\n",
    "            attribute size : Integer;\n",
    "        }\n",
    "    }\n",
    "}"
   ]
  },
  {
   "cell_type": "markdown",
   "metadata": {},
   "source": [
    "Run the cell with the SysML v2 model, and visualize the model. If you also would like to see the model structure, execute the %show command as described above."
   ]
  },
  {
   "cell_type": "code",
   "execution_count": 5,
   "metadata": {},
   "outputs": [
    {
     "data": {
      "image/svg+xml": [
       "<?xml version=\"1.0\" encoding=\"UTF-8\" standalone=\"no\"?><svg xmlns=\"http://www.w3.org/2000/svg\" xmlns:xlink=\"http://www.w3.org/1999/xlink\" contentScriptType=\"application/ecmascript\" contentStyleType=\"text/css\" height=\"258px\" preserveAspectRatio=\"none\" style=\"width:649px;height:258px;\" version=\"1.1\" viewBox=\"0 0 649 258\" width=\"649px\" zoomAndPan=\"magnify\"><defs/><g><!--MD5=[fbc87193dbaf4d95561dea2c320d4a47]\n",
       "cluster E1--><a href=\"psysml:70336afc-78c9-45b9-a88a-80b86f002aae\" target=\"_top\" title=\"psysml:70336afc-78c9-45b9-a88a-80b86f002aae\" xlink:actuate=\"onRequest\" xlink:href=\"psysml:70336afc-78c9-45b9-a88a-80b86f002aae\" xlink:show=\"new\" xlink:title=\"psysml:70336afc-78c9-45b9-a88a-80b86f002aae\" xlink:type=\"simple\"><polygon fill=\"#FFFFFF\" points=\"16,6,228,6,235,29.6094,627,29.6094,627,246,16,246,16,6\" style=\"stroke: #000000; stroke-width: 1.5;\"/><line style=\"stroke: #000000; stroke-width: 1.5;\" x1=\"16\" x2=\"235\" y1=\"29.6094\" y2=\"29.6094\"/><text fill=\"#000000\" font-family=\"sans-serif\" font-size=\"14\" font-weight=\"bold\" lengthAdjust=\"spacingAndGlyphs\" textLength=\"206\" x=\"20\" y=\"22.5332\">eVehicle_LogicalArchitecture</text></a><!--MD5=[b4997ac47864f28c2f74865a473b2911]\n",
       "class E2--><a href=\"psysml:b9e24e95-eb73-4c32-8ae2-4d6297abfadc\" target=\"_top\" title=\"psysml:b9e24e95-eb73-4c32-8ae2-4d6297abfadc\" xlink:actuate=\"onRequest\" xlink:href=\"psysml:b9e24e95-eb73-4c32-8ae2-4d6297abfadc\" xlink:show=\"new\" xlink:title=\"psysml:b9e24e95-eb73-4c32-8ae2-4d6297abfadc\" xlink:type=\"simple\"><rect fill=\"#FFFFFF\" height=\"48.1875\" id=\"E2\" style=\"stroke: #383838; stroke-width: 1.5;\" width=\"67\" x=\"445.5\" y=\"42\"/><text fill=\"#000000\" font-family=\"sans-serif\" font-size=\"12\" font-style=\"italic\" lengthAdjust=\"spacingAndGlyphs\" textLength=\"65\" x=\"446.5\" y=\"59.457\">«dataType»</text><text fill=\"#000000\" font-family=\"sans-serif\" font-size=\"12\" lengthAdjust=\"spacingAndGlyphs\" textLength=\"38\" x=\"460\" y=\"74.5508\">Integer</text><line style=\"stroke: #383838; stroke-width: 1.5;\" x1=\"446.5\" x2=\"511.5\" y1=\"82.1875\" y2=\"82.1875\"/></a><!--MD5=[09b614a08d8cba4a07c9adeb5e0fee81]\n",
       "class E3--><a href=\"psysml:ae00392f-3f91-4c68-a033-d4d36cded4ec\" target=\"_top\" title=\"psysml:ae00392f-3f91-4c68-a033-d4d36cded4ec\" xlink:actuate=\"onRequest\" xlink:href=\"psysml:ae00392f-3f91-4c68-a033-d4d36cded4ec\" xlink:show=\"new\" xlink:title=\"psysml:ae00392f-3f91-4c68-a033-d4d36cded4ec\" xlink:type=\"simple\"><rect fill=\"#FFFFFF\" height=\"48.1875\" id=\"E3\" rx=\"10\" ry=\"10\" style=\"stroke: #383838; stroke-width: 1.5;\" width=\"53\" x=\"260.5\" y=\"42\"/><text fill=\"#000000\" font-family=\"sans-serif\" font-size=\"12\" font-style=\"italic\" lengthAdjust=\"spacingAndGlyphs\" textLength=\"35\" x=\"269.5\" y=\"59.457\">«part»</text><text fill=\"#000000\" font-family=\"sans-serif\" font-size=\"12\" lengthAdjust=\"spacingAndGlyphs\" textLength=\"47\" x=\"263.5\" y=\"74.5508\">eVehicle</text><line style=\"stroke: #383838; stroke-width: 1.5;\" x1=\"261.5\" x2=\"312.5\" y1=\"82.1875\" y2=\"82.1875\"/></a><!--MD5=[ebbe1d658d1005bcc118a6aa81145e00]\n",
       "class E4--><a href=\"psysml:fc079aa5-fc77-4bba-8211-d16ab2a85a3c\" target=\"_top\" title=\"psysml:fc079aa5-fc77-4bba-8211-d16ab2a85a3c\" xlink:actuate=\"onRequest\" xlink:href=\"psysml:fc079aa5-fc77-4bba-8211-d16ab2a85a3c\" xlink:show=\"new\" xlink:title=\"psysml:fc079aa5-fc77-4bba-8211-d16ab2a85a3c\" xlink:type=\"simple\"><rect fill=\"#FFFFFF\" height=\"48.1875\" id=\"E4\" rx=\"10\" ry=\"10\" style=\"stroke: #383838; stroke-width: 1.5;\" width=\"37\" x=\"32.5\" y=\"166\"/><text fill=\"#000000\" font-family=\"sans-serif\" font-size=\"12\" font-style=\"italic\" lengthAdjust=\"spacingAndGlyphs\" textLength=\"35\" x=\"33.5\" y=\"183.457\">«part»</text><text fill=\"#000000\" font-family=\"sans-serif\" font-size=\"12\" lengthAdjust=\"spacingAndGlyphs\" textLength=\"26\" x=\"38\" y=\"198.5508\">body</text><line style=\"stroke: #383838; stroke-width: 1.5;\" x1=\"33.5\" x2=\"68.5\" y1=\"206.1875\" y2=\"206.1875\"/></a><!--MD5=[270fce915f116d4de14055a7c1d9a0f3]\n",
       "class E5--><a href=\"psysml:e0332da5-7433-4a50-8bd2-3705a2342767\" target=\"_top\" title=\"psysml:e0332da5-7433-4a50-8bd2-3705a2342767\" xlink:actuate=\"onRequest\" xlink:href=\"psysml:e0332da5-7433-4a50-8bd2-3705a2342767\" xlink:show=\"new\" xlink:title=\"psysml:e0332da5-7433-4a50-8bd2-3705a2342767\" xlink:type=\"simple\"><rect fill=\"#FFFFFF\" height=\"48.1875\" id=\"E5\" rx=\"10\" ry=\"10\" style=\"stroke: #383838; stroke-width: 1.5;\" width=\"42\" x=\"105\" y=\"166\"/><text fill=\"#000000\" font-family=\"sans-serif\" font-size=\"12\" font-style=\"italic\" lengthAdjust=\"spacingAndGlyphs\" textLength=\"35\" x=\"108.5\" y=\"183.457\">«part»</text><text fill=\"#000000\" font-family=\"sans-serif\" font-size=\"12\" lengthAdjust=\"spacingAndGlyphs\" textLength=\"36\" x=\"108\" y=\"198.5508\">battery</text><line style=\"stroke: #383838; stroke-width: 1.5;\" x1=\"106\" x2=\"146\" y1=\"206.1875\" y2=\"206.1875\"/></a><!--MD5=[60a26617385b1d2d0262a64233df1f8d]\n",
       "class E6--><a href=\"psysml:3e949bd2-d9e5-4cff-9288-ddb1ed205627\" target=\"_top\" title=\"psysml:3e949bd2-d9e5-4cff-9288-ddb1ed205627\" xlink:actuate=\"onRequest\" xlink:href=\"psysml:3e949bd2-d9e5-4cff-9288-ddb1ed205627\" xlink:show=\"new\" xlink:title=\"psysml:3e949bd2-d9e5-4cff-9288-ddb1ed205627\" xlink:type=\"simple\"><rect fill=\"#FFFFFF\" height=\"48.1875\" id=\"E6\" rx=\"10\" ry=\"10\" style=\"stroke: #383838; stroke-width: 1.5;\" width=\"44\" x=\"182\" y=\"166\"/><text fill=\"#000000\" font-family=\"sans-serif\" font-size=\"12\" font-style=\"italic\" lengthAdjust=\"spacingAndGlyphs\" textLength=\"35\" x=\"186.5\" y=\"183.457\">«part»</text><text fill=\"#000000\" font-family=\"sans-serif\" font-size=\"12\" lengthAdjust=\"spacingAndGlyphs\" textLength=\"38\" x=\"185\" y=\"198.5508\">engine</text><line style=\"stroke: #383838; stroke-width: 1.5;\" x1=\"183\" x2=\"225\" y1=\"206.1875\" y2=\"206.1875\"/></a><!--MD5=[2156ba9850f5573cc1fc38a6a4b2f02b]\n",
       "class E7--><a href=\"psysml:6cd6b740-3d25-4744-abff-f0ab8e77083c\" target=\"_top\" title=\"psysml:6cd6b740-3d25-4744-abff-f0ab8e77083c\" xlink:actuate=\"onRequest\" xlink:href=\"psysml:6cd6b740-3d25-4744-abff-f0ab8e77083c\" xlink:show=\"new\" xlink:title=\"psysml:6cd6b740-3d25-4744-abff-f0ab8e77083c\" xlink:type=\"simple\"><rect fill=\"#FFFFFF\" height=\"48.1875\" id=\"E7\" rx=\"10\" ry=\"10\" style=\"stroke: #383838; stroke-width: 1.5;\" width=\"52\" x=\"261\" y=\"166\"/><text fill=\"#000000\" font-family=\"sans-serif\" font-size=\"12\" font-style=\"italic\" lengthAdjust=\"spacingAndGlyphs\" textLength=\"35\" x=\"269.5\" y=\"183.457\">«part»</text><text fill=\"#000000\" font-family=\"sans-serif\" font-size=\"12\" lengthAdjust=\"spacingAndGlyphs\" textLength=\"46\" x=\"264\" y=\"198.5508\">frontAxis</text><line style=\"stroke: #383838; stroke-width: 1.5;\" x1=\"262\" x2=\"312\" y1=\"206.1875\" y2=\"206.1875\"/></a><!--MD5=[b9389687b975829384b498ac4b7476b2]\n",
       "class E8--><a href=\"psysml:45573fbe-6cb9-4e98-b058-5631baa04f04\" target=\"_top\" title=\"psysml:45573fbe-6cb9-4e98-b058-5631baa04f04\" xlink:actuate=\"onRequest\" xlink:href=\"psysml:45573fbe-6cb9-4e98-b058-5631baa04f04\" xlink:show=\"new\" xlink:title=\"psysml:45573fbe-6cb9-4e98-b058-5631baa04f04\" xlink:type=\"simple\"><rect fill=\"#FFFFFF\" height=\"48.1875\" id=\"E8\" rx=\"10\" ry=\"10\" style=\"stroke: #383838; stroke-width: 1.5;\" width=\"50\" x=\"348\" y=\"166\"/><text fill=\"#000000\" font-family=\"sans-serif\" font-size=\"12\" font-style=\"italic\" lengthAdjust=\"spacingAndGlyphs\" textLength=\"35\" x=\"355.5\" y=\"183.457\">«part»</text><text fill=\"#000000\" font-family=\"sans-serif\" font-size=\"12\" lengthAdjust=\"spacingAndGlyphs\" textLength=\"44\" x=\"351\" y=\"198.5508\">rearAxis</text><line style=\"stroke: #383838; stroke-width: 1.5;\" x1=\"349\" x2=\"397\" y1=\"206.1875\" y2=\"206.1875\"/></a><!--MD5=[fd4143e9d270a159db93a4ea2a975926]\n",
       "class E9--><a href=\"psysml:80135921-0845-49d6-a3fe-410a14d1c4f9\" target=\"_top\" title=\"psysml:80135921-0845-49d6-a3fe-410a14d1c4f9\" xlink:actuate=\"onRequest\" xlink:href=\"psysml:80135921-0845-49d6-a3fe-410a14d1c4f9\" xlink:show=\"new\" xlink:title=\"psysml:80135921-0845-49d6-a3fe-410a14d1c4f9\" xlink:type=\"simple\"><rect fill=\"#FFFFFF\" height=\"79.8594\" id=\"E9\" rx=\"10\" ry=\"10\" style=\"stroke: #383838; stroke-width: 1.5;\" width=\"71\" x=\"433.5\" y=\"150\"/><text fill=\"#000000\" font-family=\"sans-serif\" font-size=\"12\" font-style=\"italic\" lengthAdjust=\"spacingAndGlyphs\" textLength=\"35\" x=\"451.5\" y=\"167.457\">«part»</text><text fill=\"#000000\" font-family=\"sans-serif\" font-size=\"12\" lengthAdjust=\"spacingAndGlyphs\" textLength=\"59\" x=\"439.5\" y=\"182.5508\">frontWheel</text><line style=\"stroke: #383838; stroke-width: 1.5;\" x1=\"434.5\" x2=\"503.5\" y1=\"190.1875\" y2=\"190.1875\"/><text fill=\"#000000\" font-family=\"sans-serif\" font-size=\"11\" lengthAdjust=\"spacingAndGlyphs\" textLength=\"59\" x=\"439.5\" y=\"223.4424\">size: Integer</text><line style=\"stroke: #383838; stroke-width: 1.0;\" x1=\"434.5\" x2=\"446.5\" y1=\"205.1055\" y2=\"205.1055\"/><text fill=\"#000000\" font-family=\"sans-serif\" font-size=\"11\" lengthAdjust=\"spacingAndGlyphs\" textLength=\"45\" x=\"446.5\" y=\"209.1064\">attributes</text><line style=\"stroke: #383838; stroke-width: 1.0;\" x1=\"491.5\" x2=\"503.5\" y1=\"205.1055\" y2=\"205.1055\"/></a><!--MD5=[96f4274e9e20536e775497830990834d]\n",
       "class E10--><a href=\"psysml:6d8fe986-83d6-4b6f-ac90-1f4561507624\" target=\"_top\" title=\"psysml:6d8fe986-83d6-4b6f-ac90-1f4561507624\" xlink:actuate=\"onRequest\" xlink:href=\"psysml:6d8fe986-83d6-4b6f-ac90-1f4561507624\" xlink:show=\"new\" xlink:title=\"psysml:6d8fe986-83d6-4b6f-ac90-1f4561507624\" xlink:type=\"simple\"><rect fill=\"#FFFFFF\" height=\"79.8594\" id=\"E10\" rx=\"10\" ry=\"10\" style=\"stroke: #383838; stroke-width: 1.5;\" width=\"71\" x=\"539.5\" y=\"150\"/><text fill=\"#000000\" font-family=\"sans-serif\" font-size=\"12\" font-style=\"italic\" lengthAdjust=\"spacingAndGlyphs\" textLength=\"35\" x=\"557.5\" y=\"167.457\">«part»</text><text fill=\"#000000\" font-family=\"sans-serif\" font-size=\"12\" lengthAdjust=\"spacingAndGlyphs\" textLength=\"57\" x=\"546.5\" y=\"182.5508\">rearWheel</text><line style=\"stroke: #383838; stroke-width: 1.5;\" x1=\"540.5\" x2=\"609.5\" y1=\"190.1875\" y2=\"190.1875\"/><text fill=\"#000000\" font-family=\"sans-serif\" font-size=\"11\" lengthAdjust=\"spacingAndGlyphs\" textLength=\"59\" x=\"545.5\" y=\"223.4424\">size: Integer</text><line style=\"stroke: #383838; stroke-width: 1.0;\" x1=\"540.5\" x2=\"552.5\" y1=\"205.1055\" y2=\"205.1055\"/><text fill=\"#000000\" font-family=\"sans-serif\" font-size=\"11\" lengthAdjust=\"spacingAndGlyphs\" textLength=\"45\" x=\"552.5\" y=\"209.1064\">attributes</text><line style=\"stroke: #383838; stroke-width: 1.0;\" x1=\"597.5\" x2=\"609.5\" y1=\"205.1055\" y2=\"205.1055\"/></a><!--MD5=[4672eba38e49728da53d11aeb285b987]\n",
       "reverse link E3 to E4--><a href=\"psysml:fc079aa5-fc77-4bba-8211-d16ab2a85a3c\" target=\"_top\" title=\"psysml:fc079aa5-fc77-4bba-8211-d16ab2a85a3c\" xlink:actuate=\"onRequest\" xlink:href=\"psysml:fc079aa5-fc77-4bba-8211-d16ab2a85a3c\" xlink:show=\"new\" xlink:title=\"psysml:fc079aa5-fc77-4bba-8211-d16ab2a85a3c\" xlink:type=\"simple\"><path d=\"M247.782,78.009 C205.817,90.964 138.479,115.211 88,150 C81.391,154.555 75.0469,160.451 69.5354,166.2725 \" fill=\"none\" id=\"E3&lt;-E4\" style=\"stroke: #383838; stroke-width: 1.0;\"/><polygon fill=\"#383838\" points=\"260.463,74.201,253.5659,72.0963,248.9704,77.6534,255.8675,79.7581,260.463,74.201\" style=\"stroke: #383838; stroke-width: 1.0;\"/></a><!--MD5=[191cde3d490a3f6d7bb551fe3ddca469]\n",
       "reverse link E3 to E5--><a href=\"psysml:e0332da5-7433-4a50-8bd2-3705a2342767\" target=\"_top\" title=\"psysml:e0332da5-7433-4a50-8bd2-3705a2342767\" xlink:actuate=\"onRequest\" xlink:href=\"psysml:e0332da5-7433-4a50-8bd2-3705a2342767\" xlink:show=\"new\" xlink:title=\"psysml:e0332da5-7433-4a50-8bd2-3705a2342767\" xlink:type=\"simple\"><path d=\"M249.148,90.133 C224.369,105.9 191.747,127.862 165,150 C158.951,155.006 152.776,160.807 147.176,166.3794 \" fill=\"none\" id=\"E3&lt;-E5\" style=\"stroke: #383838; stroke-width: 1.0;\"/><polygon fill=\"#383838\" points=\"260.277,83.132,253.0684,82.9417,250.1202,89.5225,257.3288,89.7129,260.277,83.132\" style=\"stroke: #383838; stroke-width: 1.0;\"/></a><!--MD5=[1026b4b93417a13aa8999a858998add2]\n",
       "reverse link E3 to E6--><a href=\"psysml:3e949bd2-d9e5-4cff-9288-ddb1ed205627\" target=\"_top\" title=\"psysml:3e949bd2-d9e5-4cff-9288-ddb1ed205627\" xlink:actuate=\"onRequest\" xlink:href=\"psysml:3e949bd2-d9e5-4cff-9288-ddb1ed205627\" xlink:show=\"new\" xlink:title=\"psysml:3e949bd2-d9e5-4cff-9288-ddb1ed205627\" xlink:type=\"simple\"><path d=\"M263.801,101.1 C249.747,121.757 232.193,147.559 219.748,165.8521 \" fill=\"none\" id=\"E3&lt;-E6\" style=\"stroke: #383838; stroke-width: 1.0;\"/><polygon fill=\"#383838\" points=\"271.193,90.234,264.5106,92.9443,264.4423,100.1551,271.1246,97.4448,271.193,90.234\" style=\"stroke: #383838; stroke-width: 1.0;\"/></a><!--MD5=[85760999379eecfd2565a9fecdca67e4]\n",
       "reverse link E3 to E7--><a href=\"psysml:6cd6b740-3d25-4744-abff-f0ab8e77083c\" target=\"_top\" title=\"psysml:6cd6b740-3d25-4744-abff-f0ab8e77083c\" xlink:actuate=\"onRequest\" xlink:href=\"psysml:6cd6b740-3d25-4744-abff-f0ab8e77083c\" xlink:show=\"new\" xlink:title=\"psysml:6cd6b740-3d25-4744-abff-f0ab8e77083c\" xlink:type=\"simple\"><path d=\"M287,103.416 C287,123.658 287,148.237 287,165.8521 \" fill=\"none\" id=\"E3&lt;-E7\" style=\"stroke: #383838; stroke-width: 1.0;\"/><polygon fill=\"#383838\" points=\"287,90.234,283,96.234,287,102.234,291,96.234,287,90.234\" style=\"stroke: #383838; stroke-width: 1.0;\"/></a><!--MD5=[4cb75b73ec3682b8f7f8edc9cc86126a]\n",
       "reverse link E3 to E8--><a href=\"psysml:45573fbe-6cb9-4e98-b058-5631baa04f04\" target=\"_top\" title=\"psysml:45573fbe-6cb9-4e98-b058-5631baa04f04\" xlink:actuate=\"onRequest\" xlink:href=\"psysml:45573fbe-6cb9-4e98-b058-5631baa04f04\" xlink:show=\"new\" xlink:title=\"psysml:45573fbe-6cb9-4e98-b058-5631baa04f04\" xlink:type=\"simple\"><path d=\"M311.038,101.1 C325.599,121.757 343.788,147.559 356.683,165.8521 \" fill=\"none\" id=\"E3&lt;-E8\" style=\"stroke: #383838; stroke-width: 1.0;\"/><polygon fill=\"#383838\" points=\"303.378,90.234,303.5659,97.4427,310.2923,100.0417,310.1044,92.8331,303.378,90.234\" style=\"stroke: #383838; stroke-width: 1.0;\"/></a><!--MD5=[f7e0269b2e2fed3d07255bf4c5cf9d61]\n",
       "reverse link E3 to E9--><a href=\"psysml:80135921-0845-49d6-a3fe-410a14d1c4f9\" target=\"_top\" title=\"psysml:80135921-0845-49d6-a3fe-410a14d1c4f9\" xlink:actuate=\"onRequest\" xlink:href=\"psysml:80135921-0845-49d6-a3fe-410a14d1c4f9\" xlink:show=\"new\" xlink:title=\"psysml:80135921-0845-49d6-a3fe-410a14d1c4f9\" xlink:type=\"simple\"><path d=\"M324.73,90.403 C350.67,106.704 385.757,129.174 416,150 C421.645,153.888 427.556,158.095 433.297,162.2593 \" fill=\"none\" id=\"E3&lt;-E9\" style=\"stroke: #383838; stroke-width: 1.0;\"/><polygon fill=\"#383838\" points=\"313.506,83.375,316.4689,89.9493,323.677,89.7429,320.7141,83.1686,313.506,83.375\" style=\"stroke: #383838; stroke-width: 1.0;\"/><text fill=\"#000000\" font-family=\"sans-serif\" font-size=\"13\" lengthAdjust=\"spacingAndGlyphs\" textLength=\"7\" x=\"418.5789\" y=\"152.7661\">2</text></a><!--MD5=[622114938c97d4dd2a5a002a72a9cb82]\n",
       "reverse link E3 to E10--><a href=\"psysml:6d8fe986-83d6-4b6f-ac90-1f4561507624\" target=\"_top\" title=\"psysml:6d8fe986-83d6-4b6f-ac90-1f4561507624\" xlink:actuate=\"onRequest\" xlink:href=\"psysml:6d8fe986-83d6-4b6f-ac90-1f4561507624\" xlink:show=\"new\" xlink:title=\"psysml:6d8fe986-83d6-4b6f-ac90-1f4561507624\" xlink:type=\"simple\"><path d=\"M326.643,77.129 C374.589,90.241 456.952,115.559 522,150 C527.856,153.101 533.779,156.798 539.438,160.663 \" fill=\"none\" id=\"E3&lt;-E10\" style=\"stroke: #383838; stroke-width: 1.0;\"/><polygon fill=\"#383838\" points=\"313.788,73.681,318.5473,79.0985,325.3785,76.789,320.6193,71.3715,313.788,73.681\" style=\"stroke: #383838; stroke-width: 1.0;\"/><text fill=\"#000000\" font-family=\"sans-serif\" font-size=\"13\" lengthAdjust=\"spacingAndGlyphs\" textLength=\"7\" x=\"524.3815\" y=\"150.5081\">2</text></a><!--MD5=[cd829f5324fd0b0e989cce5b9892dde1]\n",
       "@startuml\r\n",
       "skinparam monochrome true\r\n",
       "skinparam classbackgroundcolor white\r\n",
       "skinparam shadowing false\r\n",
       "skinparam wrapWidth 300\r\n",
       "hide circle\r\n",
       "\r\n",
       "package \"eVehicle_LogicalArchitecture\" as E1  [[psysml:70336afc-78c9-45b9-a88a-80b86f002aae ]]  {\r\n",
       "comp def \"Integer\" as E2  <<(T,blue)dataType>> [[psysml:b9e24e95-eb73-4c32-8ae2-4d6297abfadc ]] {\r\n",
       "}\r\n",
       "comp usage \"eVehicle\" as E3  <<(T,blue)part>> [[psysml:ae00392f-3f91-4c68-a033-d4d36cded4ec ]] {\r\n",
       "}\r\n",
       "comp usage \"body\" as E4  <<(T,blue)part>> [[psysml:fc079aa5-fc77-4bba-8211-d16ab2a85a3c ]] {\r\n",
       "}\r\n",
       "comp usage \"battery\" as E5  <<(T,blue)part>> [[psysml:e0332da5-7433-4a50-8bd2-3705a2342767 ]] {\r\n",
       "}\r\n",
       "comp usage \"engine\" as E6  <<(T,blue)part>> [[psysml:3e949bd2-d9e5-4cff-9288-ddb1ed205627 ]] {\r\n",
       "}\r\n",
       "comp usage \"frontAxis\" as E7  <<(T,blue)part>> [[psysml:6cd6b740-3d25-4744-abff-f0ab8e77083c ]] {\r\n",
       "}\r\n",
       "comp usage \"rearAxis\" as E8  <<(T,blue)part>> [[psysml:45573fbe-6cb9-4e98-b058-5631baa04f04 ]] {\r\n",
       "}\r\n",
       "comp usage \"frontWheel\" as E9  <<(T,blue)part>> [[psysml:80135921-0845-49d6-a3fe-410a14d1c4f9 ]] {\r\n",
       "- - attributes - -\r\n",
       "size: Integer\r\n",
       "}\r\n",
       "comp usage \"rearWheel\" as E10  <<(T,blue)part>> [[psysml:6d8fe986-83d6-4b6f-ac90-1f4561507624 ]] {\r\n",
       "- - attributes - -\r\n",
       "size: Integer\r\n",
       "}\r\n",
       "E3 *- - E4 [[psysml:fc079aa5-fc77-4bba-8211-d16ab2a85a3c ]] \r\n",
       "E3 *- - E5 [[psysml:e0332da5-7433-4a50-8bd2-3705a2342767 ]] \r\n",
       "E3 *- - E6 [[psysml:3e949bd2-d9e5-4cff-9288-ddb1ed205627 ]] \r\n",
       "E3 *- - E7 [[psysml:6cd6b740-3d25-4744-abff-f0ab8e77083c ]] \r\n",
       "E3 *- - E8 [[psysml:45573fbe-6cb9-4e98-b058-5631baa04f04 ]] \r\n",
       "E3 *- - \"2\"E9 [[psysml:80135921-0845-49d6-a3fe-410a14d1c4f9 ]] \r\n",
       "E3 *- - \"2\"E10 [[psysml:6d8fe986-83d6-4b6f-ac90-1f4561507624 ]] \r\n",
       "}\r\n",
       "@enduml\r\n",
       "\n",
       "PlantUML version 1.2020.13(Sat Jun 13 14:26:38 CEST 2020)\n",
       "(EPL source distribution)\n",
       "Java Runtime: OpenJDK Runtime Environment\n",
       "JVM: OpenJDK 64-Bit Server VM\n",
       "Default Encoding: Cp1252\n",
       "Language: en\n",
       "Country: US\n",
       "--></g></svg>"
      ]
     },
     "execution_count": 5,
     "metadata": {},
     "output_type": "execute_result"
    }
   ],
   "source": [
    "%viz --view=tree eVehicle_LogicalArchitecture"
   ]
  },
  {
   "cell_type": "markdown",
   "metadata": {},
   "source": [
    "As in SysML v1, a part always needs a context in SysML v2. In our example, the part *eVehicle* is the context of the parts *body*, *battery*, and so forth. No context is explicitly defined for the part *eVehicle*. Then the context is implicitly the most general part definition named *Part* from the SysML v2 model library.\n",
    "\n",
    "Although it is still very simple, the model already smells of reuse. The size attribute is currently defined twice. Now, we define a type respectively PartDefinition *Wheel* and specify that as the type of the parts. The PartDefinition can be compared to the SysML v1 Block."
   ]
  },
  {
   "cell_type": "code",
   "execution_count": 5,
   "metadata": {},
   "outputs": [
    {
     "data": {
      "text/plain": [
       "Package eVehicle_LogicalArchitecture (3495ed67-72f7-47c2-b551-1f487c9e841c)\n"
      ]
     },
     "execution_count": 5,
     "metadata": {},
     "output_type": "execute_result"
    }
   ],
   "source": [
    "package eVehicle_LogicalArchitecture {\n",
    "\n",
    "    import ScalarValues::Integer;   \n",
    "    \n",
    "    part def Wheel {\n",
    "        attribute size : Integer;\n",
    "    }\n",
    "   \n",
    "    part eVehicle {    \n",
    "        part body;\n",
    "        part battery;\n",
    "        part engine;\n",
    "        part frontAxis;\n",
    "        part rearAxis;\n",
    "        part frontWheel : Wheel[2];\n",
    "        part rearWheel : Wheel[2];\n",
    "    }\n",
    "}"
   ]
  },
  {
   "cell_type": "code",
   "execution_count": 3,
   "metadata": {},
   "outputs": [
    {
     "data": {
      "image/svg+xml": [
       "<?xml version=\"1.0\" encoding=\"UTF-8\" standalone=\"no\"?><svg xmlns=\"http://www.w3.org/2000/svg\" xmlns:xlink=\"http://www.w3.org/1999/xlink\" contentScriptType=\"application/ecmascript\" contentStyleType=\"text/css\" height=\"366px\" preserveAspectRatio=\"none\" style=\"width:734px;height:366px;\" version=\"1.1\" viewBox=\"0 0 734 366\" width=\"734px\" zoomAndPan=\"magnify\"><defs/><g><!--MD5=[fbc87193dbaf4d95561dea2c320d4a47]\n",
       "cluster E1--><a href=\"psysml:5b145573-3864-4cb6-9215-84fb2a37eb26\" target=\"_top\" title=\"psysml:5b145573-3864-4cb6-9215-84fb2a37eb26\" xlink:actuate=\"onRequest\" xlink:href=\"psysml:5b145573-3864-4cb6-9215-84fb2a37eb26\" xlink:show=\"new\" xlink:title=\"psysml:5b145573-3864-4cb6-9215-84fb2a37eb26\" xlink:type=\"simple\"><polygon fill=\"#FFFFFF\" points=\"16,6,228,6,235,29.6094,712,29.6094,712,354,16,354,16,6\" style=\"stroke: #000000; stroke-width: 1.5;\"/><line style=\"stroke: #000000; stroke-width: 1.5;\" x1=\"16\" x2=\"235\" y1=\"29.6094\" y2=\"29.6094\"/><text fill=\"#000000\" font-family=\"sans-serif\" font-size=\"14\" font-weight=\"bold\" lengthAdjust=\"spacingAndGlyphs\" textLength=\"206\" x=\"20\" y=\"22.5332\">eVehicle_LogicalArchitecture</text></a><!--MD5=[b4997ac47864f28c2f74865a473b2911]\n",
       "class E2--><a href=\"psysml:dc14ae4f-26cd-42eb-b55e-6d62ad05821d\" target=\"_top\" title=\"psysml:dc14ae4f-26cd-42eb-b55e-6d62ad05821d\" xlink:actuate=\"onRequest\" xlink:href=\"psysml:dc14ae4f-26cd-42eb-b55e-6d62ad05821d\" xlink:show=\"new\" xlink:title=\"psysml:dc14ae4f-26cd-42eb-b55e-6d62ad05821d\" xlink:type=\"simple\"><rect fill=\"#FFFFFF\" height=\"79.8594\" id=\"E2\" style=\"stroke: #383838; stroke-width: 1.5;\" width=\"71\" x=\"534.5\" y=\"258\"/><text fill=\"#000000\" font-family=\"sans-serif\" font-size=\"12\" font-style=\"italic\" lengthAdjust=\"spacingAndGlyphs\" textLength=\"58\" x=\"541\" y=\"275.457\">«part  def»</text><text fill=\"#000000\" font-family=\"sans-serif\" font-size=\"12\" lengthAdjust=\"spacingAndGlyphs\" textLength=\"35\" x=\"552.5\" y=\"290.5508\">Wheel</text><line style=\"stroke: #383838; stroke-width: 1.5;\" x1=\"535.5\" x2=\"604.5\" y1=\"298.1875\" y2=\"298.1875\"/><text fill=\"#000000\" font-family=\"sans-serif\" font-size=\"11\" lengthAdjust=\"spacingAndGlyphs\" textLength=\"59\" x=\"540.5\" y=\"331.4424\">size: Integer</text><line style=\"stroke: #383838; stroke-width: 1.0;\" x1=\"535.5\" x2=\"547.5\" y1=\"313.1055\" y2=\"313.1055\"/><text fill=\"#000000\" font-family=\"sans-serif\" font-size=\"11\" lengthAdjust=\"spacingAndGlyphs\" textLength=\"45\" x=\"547.5\" y=\"317.1064\">attributes</text><line style=\"stroke: #383838; stroke-width: 1.0;\" x1=\"592.5\" x2=\"604.5\" y1=\"313.1055\" y2=\"313.1055\"/></a><!--MD5=[09b614a08d8cba4a07c9adeb5e0fee81]\n",
       "class E3--><a href=\"psysml:6d0d52f6-9e8d-474b-a25f-a67fc016690c\" target=\"_top\" title=\"psysml:6d0d52f6-9e8d-474b-a25f-a67fc016690c\" xlink:actuate=\"onRequest\" xlink:href=\"psysml:6d0d52f6-9e8d-474b-a25f-a67fc016690c\" xlink:show=\"new\" xlink:title=\"psysml:6d0d52f6-9e8d-474b-a25f-a67fc016690c\" xlink:type=\"simple\"><rect fill=\"#FFFFFF\" height=\"48.1875\" id=\"E3\" rx=\"10\" ry=\"10\" style=\"stroke: #383838; stroke-width: 1.5;\" width=\"56\" x=\"266\" y=\"42\"/><text fill=\"#000000\" font-family=\"sans-serif\" font-size=\"12\" font-style=\"italic\" lengthAdjust=\"spacingAndGlyphs\" textLength=\"35\" x=\"276.5\" y=\"59.457\">«part»</text><text fill=\"#000000\" font-family=\"sans-serif\" font-size=\"12\" lengthAdjust=\"spacingAndGlyphs\" textLength=\"47\" x=\"269\" y=\"74.5508\">eVehicle</text><line style=\"stroke: #383838; stroke-width: 1.5;\" x1=\"267\" x2=\"321\" y1=\"82.1875\" y2=\"82.1875\"/></a><!--MD5=[ebbe1d658d1005bcc118a6aa81145e00]\n",
       "class E4--><a href=\"psysml:abbeac60-6ec6-451c-aed3-14ad951dc707\" target=\"_top\" title=\"psysml:abbeac60-6ec6-451c-aed3-14ad951dc707\" xlink:actuate=\"onRequest\" xlink:href=\"psysml:abbeac60-6ec6-451c-aed3-14ad951dc707\" xlink:show=\"new\" xlink:title=\"psysml:abbeac60-6ec6-451c-aed3-14ad951dc707\" xlink:type=\"simple\"><rect fill=\"#FFFFFF\" height=\"48.1875\" id=\"E4\" rx=\"10\" ry=\"10\" style=\"stroke: #383838; stroke-width: 1.5;\" width=\"37\" x=\"32.5\" y=\"150\"/><text fill=\"#000000\" font-family=\"sans-serif\" font-size=\"12\" font-style=\"italic\" lengthAdjust=\"spacingAndGlyphs\" textLength=\"35\" x=\"33.5\" y=\"167.457\">«part»</text><text fill=\"#000000\" font-family=\"sans-serif\" font-size=\"12\" lengthAdjust=\"spacingAndGlyphs\" textLength=\"26\" x=\"36.5\" y=\"182.5508\">body</text><line style=\"stroke: #383838; stroke-width: 1.5;\" x1=\"33.5\" x2=\"68.5\" y1=\"190.1875\" y2=\"190.1875\"/></a><!--MD5=[270fce915f116d4de14055a7c1d9a0f3]\n",
       "class E5--><a href=\"psysml:13a0498b-927d-4d5a-8803-5b9fe4765bca\" target=\"_top\" title=\"psysml:13a0498b-927d-4d5a-8803-5b9fe4765bca\" xlink:actuate=\"onRequest\" xlink:href=\"psysml:13a0498b-927d-4d5a-8803-5b9fe4765bca\" xlink:show=\"new\" xlink:title=\"psysml:13a0498b-927d-4d5a-8803-5b9fe4765bca\" xlink:type=\"simple\"><rect fill=\"#FFFFFF\" height=\"48.1875\" id=\"E5\" rx=\"10\" ry=\"10\" style=\"stroke: #383838; stroke-width: 1.5;\" width=\"45\" x=\"104.5\" y=\"150\"/><text fill=\"#000000\" font-family=\"sans-serif\" font-size=\"12\" font-style=\"italic\" lengthAdjust=\"spacingAndGlyphs\" textLength=\"35\" x=\"109.5\" y=\"167.457\">«part»</text><text fill=\"#000000\" font-family=\"sans-serif\" font-size=\"12\" lengthAdjust=\"spacingAndGlyphs\" textLength=\"36\" x=\"107.5\" y=\"182.5508\">battery</text><line style=\"stroke: #383838; stroke-width: 1.5;\" x1=\"105.5\" x2=\"148.5\" y1=\"190.1875\" y2=\"190.1875\"/></a><!--MD5=[60a26617385b1d2d0262a64233df1f8d]\n",
       "class E6--><a href=\"psysml:568eabe7-9e53-4b95-9c80-f74a1e45890e\" target=\"_top\" title=\"psysml:568eabe7-9e53-4b95-9c80-f74a1e45890e\" xlink:actuate=\"onRequest\" xlink:href=\"psysml:568eabe7-9e53-4b95-9c80-f74a1e45890e\" xlink:show=\"new\" xlink:title=\"psysml:568eabe7-9e53-4b95-9c80-f74a1e45890e\" xlink:type=\"simple\"><rect fill=\"#FFFFFF\" height=\"48.1875\" id=\"E6\" rx=\"10\" ry=\"10\" style=\"stroke: #383838; stroke-width: 1.5;\" width=\"47\" x=\"184.5\" y=\"150\"/><text fill=\"#000000\" font-family=\"sans-serif\" font-size=\"12\" font-style=\"italic\" lengthAdjust=\"spacingAndGlyphs\" textLength=\"35\" x=\"190.5\" y=\"167.457\">«part»</text><text fill=\"#000000\" font-family=\"sans-serif\" font-size=\"12\" lengthAdjust=\"spacingAndGlyphs\" textLength=\"38\" x=\"187.5\" y=\"182.5508\">engine</text><line style=\"stroke: #383838; stroke-width: 1.5;\" x1=\"185.5\" x2=\"230.5\" y1=\"190.1875\" y2=\"190.1875\"/></a><!--MD5=[2156ba9850f5573cc1fc38a6a4b2f02b]\n",
       "class E7--><a href=\"psysml:2d43a91f-80e7-4c84-919a-d9796e37f475\" target=\"_top\" title=\"psysml:2d43a91f-80e7-4c84-919a-d9796e37f475\" xlink:actuate=\"onRequest\" xlink:href=\"psysml:2d43a91f-80e7-4c84-919a-d9796e37f475\" xlink:show=\"new\" xlink:title=\"psysml:2d43a91f-80e7-4c84-919a-d9796e37f475\" xlink:type=\"simple\"><rect fill=\"#FFFFFF\" height=\"48.1875\" id=\"E7\" rx=\"10\" ry=\"10\" style=\"stroke: #383838; stroke-width: 1.5;\" width=\"55\" x=\"266.5\" y=\"150\"/><text fill=\"#000000\" font-family=\"sans-serif\" font-size=\"12\" font-style=\"italic\" lengthAdjust=\"spacingAndGlyphs\" textLength=\"35\" x=\"276.5\" y=\"167.457\">«part»</text><text fill=\"#000000\" font-family=\"sans-serif\" font-size=\"12\" lengthAdjust=\"spacingAndGlyphs\" textLength=\"46\" x=\"269.5\" y=\"182.5508\">frontAxis</text><line style=\"stroke: #383838; stroke-width: 1.5;\" x1=\"267.5\" x2=\"320.5\" y1=\"190.1875\" y2=\"190.1875\"/></a><!--MD5=[b9389687b975829384b498ac4b7476b2]\n",
       "class E8--><a href=\"psysml:6af76b5a-8ce4-4237-973b-358bbb9d5c22\" target=\"_top\" title=\"psysml:6af76b5a-8ce4-4237-973b-358bbb9d5c22\" xlink:actuate=\"onRequest\" xlink:href=\"psysml:6af76b5a-8ce4-4237-973b-358bbb9d5c22\" xlink:show=\"new\" xlink:title=\"psysml:6af76b5a-8ce4-4237-973b-358bbb9d5c22\" xlink:type=\"simple\"><rect fill=\"#FFFFFF\" height=\"48.1875\" id=\"E8\" rx=\"10\" ry=\"10\" style=\"stroke: #383838; stroke-width: 1.5;\" width=\"53\" x=\"356.5\" y=\"150\"/><text fill=\"#000000\" font-family=\"sans-serif\" font-size=\"12\" font-style=\"italic\" lengthAdjust=\"spacingAndGlyphs\" textLength=\"35\" x=\"365.5\" y=\"167.457\">«part»</text><text fill=\"#000000\" font-family=\"sans-serif\" font-size=\"12\" lengthAdjust=\"spacingAndGlyphs\" textLength=\"44\" x=\"359.5\" y=\"182.5508\">rearAxis</text><line style=\"stroke: #383838; stroke-width: 1.5;\" x1=\"357.5\" x2=\"408.5\" y1=\"190.1875\" y2=\"190.1875\"/></a><!--MD5=[fd4143e9d270a159db93a4ea2a975926]\n",
       "class E9--><a href=\"psysml:4dc4f49a-811e-4791-9bba-dc856d327a94\" target=\"_top\" title=\"psysml:4dc4f49a-811e-4791-9bba-dc856d327a94\" xlink:actuate=\"onRequest\" xlink:href=\"psysml:4dc4f49a-811e-4791-9bba-dc856d327a94\" xlink:show=\"new\" xlink:title=\"psysml:4dc4f49a-811e-4791-9bba-dc856d327a94\" xlink:type=\"simple\"><rect fill=\"#FFFFFF\" height=\"48.1875\" id=\"E9\" rx=\"10\" ry=\"10\" style=\"stroke: #383838; stroke-width: 1.5;\" width=\"109\" x=\"444.5\" y=\"150\"/><text fill=\"#000000\" font-family=\"sans-serif\" font-size=\"12\" font-style=\"italic\" lengthAdjust=\"spacingAndGlyphs\" textLength=\"35\" x=\"481.5\" y=\"167.457\">«part»</text><text fill=\"#000000\" font-family=\"sans-serif\" font-size=\"12\" lengthAdjust=\"spacingAndGlyphs\" textLength=\"100\" x=\"447.5\" y=\"182.5508\">frontWheel: Wheel</text><line style=\"stroke: #383838; stroke-width: 1.5;\" x1=\"445.5\" x2=\"552.5\" y1=\"190.1875\" y2=\"190.1875\"/></a><!--MD5=[96f4274e9e20536e775497830990834d]\n",
       "class E10--><a href=\"psysml:2913500d-5758-4f05-8176-dc7850dc90c6\" target=\"_top\" title=\"psysml:2913500d-5758-4f05-8176-dc7850dc90c6\" xlink:actuate=\"onRequest\" xlink:href=\"psysml:2913500d-5758-4f05-8176-dc7850dc90c6\" xlink:show=\"new\" xlink:title=\"psysml:2913500d-5758-4f05-8176-dc7850dc90c6\" xlink:type=\"simple\"><rect fill=\"#FFFFFF\" height=\"48.1875\" id=\"E10\" rx=\"10\" ry=\"10\" style=\"stroke: #383838; stroke-width: 1.5;\" width=\"107\" x=\"588.5\" y=\"150\"/><text fill=\"#000000\" font-family=\"sans-serif\" font-size=\"12\" font-style=\"italic\" lengthAdjust=\"spacingAndGlyphs\" textLength=\"35\" x=\"624.5\" y=\"167.457\">«part»</text><text fill=\"#000000\" font-family=\"sans-serif\" font-size=\"12\" lengthAdjust=\"spacingAndGlyphs\" textLength=\"98\" x=\"591.5\" y=\"182.5508\">rearWheel: Wheel</text><line style=\"stroke: #383838; stroke-width: 1.5;\" x1=\"589.5\" x2=\"694.5\" y1=\"190.1875\" y2=\"190.1875\"/></a><!--MD5=[4672eba38e49728da53d11aeb285b987]\n",
       "reverse link E3 to E4--><a href=\"psysml:1d0acc3f-606f-4082-a7ea-0ed55094f670\" target=\"_top\" title=\"psysml:1d0acc3f-606f-4082-a7ea-0ed55094f670\" xlink:actuate=\"onRequest\" xlink:href=\"psysml:1d0acc3f-606f-4082-a7ea-0ed55094f670\" xlink:show=\"new\" xlink:title=\"psysml:1d0acc3f-606f-4082-a7ea-0ed55094f670\" xlink:type=\"simple\"><path d=\"M253.5,80.69 C211.04,95.63 142.86,121.28 87,150 C81.2,152.98 75.13,156.63 69.66,160.14 \" fill=\"none\" id=\"E3&lt;-E4\" style=\"stroke: #383838; stroke-width: 1.0;\"/><polygon fill=\"#383838\" points=\"265.81,76.41,258.8292,74.6022,254.4755,80.3507,261.4563,82.1585,265.81,76.41\" style=\"stroke: #383838; stroke-width: 1.0;\"/><text fill=\"#000000\" font-family=\"sans-serif\" font-size=\"13\" lengthAdjust=\"spacingAndGlyphs\" textLength=\"7\" x=\"77.5545\" y=\"149.8767\">1</text></a><!--MD5=[191cde3d490a3f6d7bb551fe3ddca469]\n",
       "reverse link E3 to E5--><a href=\"psysml:6d834829-931a-4731-ba44-de484ecd0c58\" target=\"_top\" title=\"psysml:6d834829-931a-4731-ba44-de484ecd0c58\" xlink:actuate=\"onRequest\" xlink:href=\"psysml:6d834829-931a-4731-ba44-de484ecd0c58\" xlink:show=\"new\" xlink:title=\"psysml:6d834829-931a-4731-ba44-de484ecd0c58\" xlink:type=\"simple\"><path d=\"M254.67,91.96 C221.94,112.74 176.48,141.59 149.57,158.68 \" fill=\"none\" id=\"E3&lt;-E5\" style=\"stroke: #383838; stroke-width: 1.0;\"/><polygon fill=\"#383838\" points=\"265.67,84.98,258.4608,84.8151,255.5358,91.4063,262.745,91.5712,265.67,84.98\" style=\"stroke: #383838; stroke-width: 1.0;\"/><text fill=\"#000000\" font-family=\"sans-serif\" font-size=\"13\" lengthAdjust=\"spacingAndGlyphs\" textLength=\"7\" x=\"157.5539\" y=\"149.0585\">1</text></a><!--MD5=[1026b4b93417a13aa8999a858998add2]\n",
       "reverse link E3 to E6--><a href=\"psysml:00598141-bbc0-4f17-8d4b-235f2e7ed76a\" target=\"_top\" title=\"psysml:00598141-bbc0-4f17-8d4b-235f2e7ed76a\" xlink:actuate=\"onRequest\" xlink:href=\"psysml:00598141-bbc0-4f17-8d4b-235f2e7ed76a\" xlink:show=\"new\" xlink:title=\"psysml:00598141-bbc0-4f17-8d4b-235f2e7ed76a\" xlink:type=\"simple\"><path d=\"M266.78,100.54 C253.81,116.53 238.61,135.27 226.92,149.68 \" fill=\"none\" id=\"E3&lt;-E6\" style=\"stroke: #383838; stroke-width: 1.0;\"/><polygon fill=\"#383838\" points=\"275.34,90,268.4531,92.138,267.7779,99.3174,274.6647,97.1794,275.34,90\" style=\"stroke: #383838; stroke-width: 1.0;\"/><text fill=\"#000000\" font-family=\"sans-serif\" font-size=\"13\" lengthAdjust=\"spacingAndGlyphs\" textLength=\"7\" x=\"223.6786\" y=\"139.3171\">1</text></a><!--MD5=[85760999379eecfd2565a9fecdca67e4]\n",
       "reverse link E3 to E7--><a href=\"psysml:808db771-c1e1-4472-ac63-8495d3dbc6ca\" target=\"_top\" title=\"psysml:808db771-c1e1-4472-ac63-8495d3dbc6ca\" xlink:actuate=\"onRequest\" xlink:href=\"psysml:808db771-c1e1-4472-ac63-8495d3dbc6ca\" xlink:show=\"new\" xlink:title=\"psysml:808db771-c1e1-4472-ac63-8495d3dbc6ca\" xlink:type=\"simple\"><path d=\"M294,103.34 C294,118.68 294,136.1 294,149.68 \" fill=\"none\" id=\"E3&lt;-E7\" style=\"stroke: #383838; stroke-width: 1.0;\"/><polygon fill=\"#383838\" points=\"294,90,290,96,294,102,298,96,294,90\" style=\"stroke: #383838; stroke-width: 1.0;\"/><text fill=\"#000000\" font-family=\"sans-serif\" font-size=\"13\" lengthAdjust=\"spacingAndGlyphs\" textLength=\"7\" x=\"286.1469\" y=\"139.3171\">1</text></a><!--MD5=[4cb75b73ec3682b8f7f8edc9cc86126a]\n",
       "reverse link E3 to E8--><a href=\"psysml:83da0a03-5848-40dd-af51-2074e628d320\" target=\"_top\" title=\"psysml:83da0a03-5848-40dd-af51-2074e628d320\" xlink:actuate=\"onRequest\" xlink:href=\"psysml:83da0a03-5848-40dd-af51-2074e628d320\" xlink:show=\"new\" xlink:title=\"psysml:83da0a03-5848-40dd-af51-2074e628d320\" xlink:type=\"simple\"><path d=\"M321.78,100.08 C335.29,116.17 351.2,135.13 363.42,149.68 \" fill=\"none\" id=\"E3&lt;-E8\" style=\"stroke: #383838; stroke-width: 1.0;\"/><polygon fill=\"#383838\" points=\"313.31,90,314.1034,97.1673,321.0246,99.1916,320.2312,92.0243,313.31,90\" style=\"stroke: #383838; stroke-width: 1.0;\"/><text fill=\"#000000\" font-family=\"sans-serif\" font-size=\"13\" lengthAdjust=\"spacingAndGlyphs\" textLength=\"7\" x=\"350.7943\" y=\"139.3171\">1</text></a><!--MD5=[f7e0269b2e2fed3d07255bf4c5cf9d61]\n",
       "reverse link E3 to E9--><a href=\"psysml:f0f8b364-eb7f-472f-b5dd-9408f5c9fb08\" target=\"_top\" title=\"psysml:f0f8b364-eb7f-472f-b5dd-9408f5c9fb08\" xlink:actuate=\"onRequest\" xlink:href=\"psysml:f0f8b364-eb7f-472f-b5dd-9408f5c9fb08\" xlink:show=\"new\" xlink:title=\"psysml:f0f8b364-eb7f-472f-b5dd-9408f5c9fb08\" xlink:type=\"simple\"><path d=\"M334.07,87.72 C368.64,105.6 418.53,131.39 454.37,149.93 \" fill=\"none\" id=\"E3&lt;-E9\" style=\"stroke: #383838; stroke-width: 1.0;\"/><polygon fill=\"#383838\" points=\"322.07,81.52,325.5612,87.8296,332.7282,87.0338,329.2371,80.7241,322.07,81.52\" style=\"stroke: #383838; stroke-width: 1.0;\"/><text fill=\"#000000\" font-family=\"sans-serif\" font-size=\"13\" lengthAdjust=\"spacingAndGlyphs\" textLength=\"7\" x=\"435.0367\" y=\"139.2282\">2</text></a><!--MD5=[5c3bb36fe832a92c7f0e1807dd65209d]\n",
       "link E9 to E2--><a href=\"psysml:4d599597-fa56-41eb-9355-738e667596b0\" target=\"_top\" title=\"psysml:4d599597-fa56-41eb-9355-738e667596b0\" xlink:actuate=\"onRequest\" xlink:href=\"psysml:4d599597-fa56-41eb-9355-738e667596b0\" xlink:show=\"new\" xlink:title=\"psysml:4d599597-fa56-41eb-9355-738e667596b0\" xlink:type=\"simple\"><path d=\"M512.52,198.23 C519.44,210.13 528.2,225.18 536.79,239.93 \" fill=\"none\" id=\"E9-&gt;E2\" style=\"stroke: #383838; stroke-width: 1.0;\"/><polygon fill=\"#FFFFFF\" points=\"547.03,257.53,531.4246,244.6276,543.5255,237.5871,547.03,257.53\" style=\"stroke: #383838; stroke-width: 1.0;\"/><ellipse cx=\"530.2868\" cy=\"238.6951\" fill=\"#383838\" rx=\"2\" ry=\"2\" style=\"stroke: #383838; stroke-width: 1.0;\"/><ellipse cx=\"538.9303\" cy=\"233.6661\" fill=\"#383838\" rx=\"2\" ry=\"2\" style=\"stroke: #383838; stroke-width: 1.0;\"/></a><!--MD5=[622114938c97d4dd2a5a002a72a9cb82]\n",
       "reverse link E3 to E10--><a href=\"psysml:dc9fb8a5-a51d-44ed-b653-5b8d5ea9a1e7\" target=\"_top\" title=\"psysml:dc9fb8a5-a51d-44ed-b653-5b8d5ea9a1e7\" xlink:actuate=\"onRequest\" xlink:href=\"psysml:dc9fb8a5-a51d-44ed-b653-5b8d5ea9a1e7\" xlink:show=\"new\" xlink:title=\"psysml:dc9fb8a5-a51d-44ed-b653-5b8d5ea9a1e7\" xlink:type=\"simple\"><path d=\"M335.17,79.03 C389.34,94.92 487.49,123.97 571,150 C576.57,151.74 582.37,153.57 588.15,155.42 \" fill=\"none\" id=\"E3&lt;-E10\" style=\"stroke: #383838; stroke-width: 1.0;\"/><polygon fill=\"#383838\" points=\"322.38,75.28,327.012,80.8067,333.8951,78.6567,329.2631,73.13,322.38,75.28\" style=\"stroke: #383838; stroke-width: 1.0;\"/><text fill=\"#000000\" font-family=\"sans-serif\" font-size=\"13\" lengthAdjust=\"spacingAndGlyphs\" textLength=\"7\" x=\"573.4436\" y=\"149.3545\">2</text></a><!--MD5=[0f36bececdf0dff6e600d6f64214b0f1]\n",
       "link E10 to E2--><a href=\"psysml:a5ffdc36-5234-42ae-9980-64490aeb0822\" target=\"_top\" title=\"psysml:a5ffdc36-5234-42ae-9980-64490aeb0822\" xlink:actuate=\"onRequest\" xlink:href=\"psysml:a5ffdc36-5234-42ae-9980-64490aeb0822\" xlink:show=\"new\" xlink:title=\"psysml:a5ffdc36-5234-42ae-9980-64490aeb0822\" xlink:type=\"simple\"><path d=\"M628.29,198.23 C621.27,210.13 612.38,225.18 603.68,239.93 \" fill=\"none\" id=\"E10-&gt;E2\" style=\"stroke: #383838; stroke-width: 1.0;\"/><polygon fill=\"#FFFFFF\" points=\"593.29,257.53,596.9093,237.6076,608.9695,244.7177,593.29,257.53\" style=\"stroke: #383838; stroke-width: 1.0;\"/><ellipse cx=\"601.527\" cy=\"233.7132\" fill=\"#383838\" rx=\"2\" ry=\"2\" style=\"stroke: #383838; stroke-width: 1.0;\"/><ellipse cx=\"610.1414\" cy=\"238.7918\" fill=\"#383838\" rx=\"2\" ry=\"2\" style=\"stroke: #383838; stroke-width: 1.0;\"/></a><!--MD5=[c8512a76ac1373f83d76e3dfab7d2ad9]\n",
       "@startuml\r\n",
       "skinparam monochrome true\r\n",
       "skinparam classbackgroundcolor white\r\n",
       "skinparam shadowing false\r\n",
       "skinparam wrapWidth 300\r\n",
       "hide circle\r\n",
       "\r\n",
       "package \"eVehicle_LogicalArchitecture\" as E1  [[psysml:5b145573-3864-4cb6-9215-84fb2a37eb26 ]]  {\r\n",
       "comp def \"Wheel\" as E2  <<(T,blue) part  def>> [[psysml:dc14ae4f-26cd-42eb-b55e-6d62ad05821d ]] {\r\n",
       "- - attributes - -\r\n",
       "size: Integer\r\n",
       "}\r\n",
       "comp usage \"eVehicle \" as E3  <<(T,blue) part>> [[psysml:6d0d52f6-9e8d-474b-a25f-a67fc016690c ]] {\r\n",
       "}\r\n",
       "comp usage \"body \" as E4  <<(T,blue) part>> [[psysml:abbeac60-6ec6-451c-aed3-14ad951dc707 ]] {\r\n",
       "}\r\n",
       "comp usage \"battery \" as E5  <<(T,blue) part>> [[psysml:13a0498b-927d-4d5a-8803-5b9fe4765bca ]] {\r\n",
       "}\r\n",
       "comp usage \"engine \" as E6  <<(T,blue) part>> [[psysml:568eabe7-9e53-4b95-9c80-f74a1e45890e ]] {\r\n",
       "}\r\n",
       "comp usage \"frontAxis \" as E7  <<(T,blue) part>> [[psysml:2d43a91f-80e7-4c84-919a-d9796e37f475 ]] {\r\n",
       "}\r\n",
       "comp usage \"rearAxis \" as E8  <<(T,blue) part>> [[psysml:6af76b5a-8ce4-4237-973b-358bbb9d5c22 ]] {\r\n",
       "}\r\n",
       "comp usage \"frontWheel: Wheel \" as E9  <<(T,blue) part>> [[psysml:4dc4f49a-811e-4791-9bba-dc856d327a94 ]] {\r\n",
       "}\r\n",
       "comp usage \"rearWheel: Wheel \" as E10  <<(T,blue) part>> [[psysml:2913500d-5758-4f05-8176-dc7850dc90c6 ]] {\r\n",
       "}\r\n",
       "}\r\n",
       "E3 *- - \"1\"E4 [[psysml:1d0acc3f-606f-4082-a7ea-0ed55094f670 ]] \r\n",
       "E3 *- - \"1\"E5 [[psysml:6d834829-931a-4731-ba44-de484ecd0c58 ]] \r\n",
       "E3 *- - \"1\"E6 [[psysml:00598141-bbc0-4f17-8d4b-235f2e7ed76a ]] \r\n",
       "E3 *- - \"1\"E7 [[psysml:808db771-c1e1-4472-ac63-8495d3dbc6ca ]] \r\n",
       "E3 *- - \"1\"E8 [[psysml:83da0a03-5848-40dd-af51-2074e628d320 ]] \r\n",
       "E3 *- - \"2\"E9 [[psysml:f0f8b364-eb7f-472f-b5dd-9408f5c9fb08 ]] \r\n",
       "E9 - -:|> E2 [[psysml:4d599597-fa56-41eb-9355-738e667596b0 ]] \r\n",
       "E3 *- - \"2\"E10 [[psysml:dc9fb8a5-a51d-44ed-b653-5b8d5ea9a1e7 ]] \r\n",
       "E10 - -:|> E2 [[psysml:a5ffdc36-5234-42ae-9980-64490aeb0822 ]] \r\n",
       "@enduml\r\n",
       "\n",
       "PlantUML version 1.2020.13(Sat Jun 13 14:26:38 CEST 2020)\n",
       "(EPL source distribution)\n",
       "Java Runtime: OpenJDK Runtime Environment\n",
       "JVM: OpenJDK 64-Bit Server VM\n",
       "Default Encoding: Cp1252\n",
       "Language: en\n",
       "Country: US\n",
       "--></g></svg>"
      ]
     },
     "execution_count": 3,
     "metadata": {},
     "output_type": "execute_result"
    }
   ],
   "source": [
    "%viz --view=tree eVehicle_LogicalArchitecture"
   ]
  },
  {
   "cell_type": "markdown",
   "metadata": {},
   "source": [
    "The attribute *size* itself can also be defined and reused for several attribute usages. It is a common concept in SysML v2 to separate the definition of elements and the usage of elements. SysML v1 also follows this concept, but not as consequent as SysML v2. \n",
    "\n",
    "The attribute definition is not mandatory and only partly useful in this example, because the size is only used at one place. But I added it anyhow as an example for attribute definitions. The keyword *attribute* can be omitted as, for example, in the definition of the *size* value. The AttributeDefinition can be compared to the SysML v1 ValueType."
   ]
  },
  {
   "cell_type": "code",
   "execution_count": 7,
   "metadata": {},
   "outputs": [
    {
     "data": {
      "text/plain": [
       "Package eVehicle_LogicalArchitecture (9a622556-834c-47cd-a19c-856d8246560a)\n"
      ]
     },
     "execution_count": 7,
     "metadata": {},
     "output_type": "execute_result"
    }
   ],
   "source": [
    "package eVehicle_LogicalArchitecture {   \n",
    "    \n",
    "    attribute def WheelSize {\n",
    "        import ScalarValues::Integer;\n",
    "        size : Integer;\n",
    "    }\n",
    "    \n",
    "    part def Wheel {\n",
    "        attribute sizeOfWheel : WheelSize;\n",
    "    }\n",
    "    \n",
    "    part eVehicle {    \n",
    "        part body;\n",
    "        part battery;\n",
    "        part engine;\n",
    "        part frontAxis;\n",
    "        part rearAxis;\n",
    "        part frontWheel : Wheel[2];\n",
    "        part rearWheel : Wheel[2];\n",
    "    }\n",
    "}"
   ]
  },
  {
   "cell_type": "code",
   "execution_count": 8,
   "metadata": {},
   "outputs": [
    {
     "data": {
      "image/svg+xml": [
       "<?xml version=\"1.0\" encoding=\"UTF-8\" standalone=\"no\"?><svg xmlns=\"http://www.w3.org/2000/svg\" xmlns:xlink=\"http://www.w3.org/1999/xlink\" contentScriptType=\"application/ecmascript\" contentStyleType=\"text/css\" height=\"366px\" preserveAspectRatio=\"none\" style=\"width:734px;height:366px;\" version=\"1.1\" viewBox=\"0 0 734 366\" width=\"734px\" zoomAndPan=\"magnify\"><defs/><g><!--MD5=[fbc87193dbaf4d95561dea2c320d4a47]\n",
       "cluster E1--><a href=\"psysml:4db8c6b9-14b6-4ed2-bc34-dc11367ae040\" target=\"_top\" title=\"psysml:4db8c6b9-14b6-4ed2-bc34-dc11367ae040\" xlink:actuate=\"onRequest\" xlink:href=\"psysml:4db8c6b9-14b6-4ed2-bc34-dc11367ae040\" xlink:show=\"new\" xlink:title=\"psysml:4db8c6b9-14b6-4ed2-bc34-dc11367ae040\" xlink:type=\"simple\"><polygon fill=\"#FFFFFF\" points=\"16,6,228,6,235,29.6094,712,29.6094,712,354,16,354,16,6\" style=\"stroke: #000000; stroke-width: 1.5;\"/><line style=\"stroke: #000000; stroke-width: 1.5;\" x1=\"16\" x2=\"235\" y1=\"29.6094\" y2=\"29.6094\"/><text fill=\"#000000\" font-family=\"sans-serif\" font-size=\"14\" font-weight=\"bold\" lengthAdjust=\"spacingAndGlyphs\" textLength=\"206\" x=\"20\" y=\"22.5332\">eVehicle_LogicalArchitecture</text></a><!--MD5=[b4997ac47864f28c2f74865a473b2911]\n",
       "class E2--><a href=\"psysml:7f4f7911-920e-42b8-9004-d3df1eff6cc4\" target=\"_top\" title=\"psysml:7f4f7911-920e-42b8-9004-d3df1eff6cc4\" xlink:actuate=\"onRequest\" xlink:href=\"psysml:7f4f7911-920e-42b8-9004-d3df1eff6cc4\" xlink:show=\"new\" xlink:title=\"psysml:7f4f7911-920e-42b8-9004-d3df1eff6cc4\" xlink:type=\"simple\"><rect fill=\"#FFFFFF\" height=\"48.1875\" id=\"E2\" style=\"stroke: #383838; stroke-width: 1.5;\" width=\"84\" x=\"484\" y=\"42\"/><text fill=\"#000000\" font-family=\"sans-serif\" font-size=\"12\" font-style=\"italic\" lengthAdjust=\"spacingAndGlyphs\" textLength=\"82\" x=\"485\" y=\"59.457\">«attribute  def»</text><text fill=\"#000000\" font-family=\"sans-serif\" font-size=\"12\" lengthAdjust=\"spacingAndGlyphs\" textLength=\"58\" x=\"497\" y=\"74.5508\">WheelSize</text><line style=\"stroke: #383838; stroke-width: 1.5;\" x1=\"485\" x2=\"567\" y1=\"82.1875\" y2=\"82.1875\"/></a><!--MD5=[09b614a08d8cba4a07c9adeb5e0fee81]\n",
       "class E3--><a href=\"psysml:e6089023-e650-4b70-ad1c-af00dd9dc504\" target=\"_top\" title=\"psysml:e6089023-e650-4b70-ad1c-af00dd9dc504\" xlink:actuate=\"onRequest\" xlink:href=\"psysml:e6089023-e650-4b70-ad1c-af00dd9dc504\" xlink:show=\"new\" xlink:title=\"psysml:e6089023-e650-4b70-ad1c-af00dd9dc504\" xlink:type=\"simple\"><rect fill=\"#FFFFFF\" height=\"79.8594\" id=\"E3\" style=\"stroke: #383838; stroke-width: 1.5;\" width=\"131\" x=\"498.5\" y=\"258\"/><text fill=\"#000000\" font-family=\"sans-serif\" font-size=\"12\" font-style=\"italic\" lengthAdjust=\"spacingAndGlyphs\" textLength=\"58\" x=\"535\" y=\"275.457\">«part  def»</text><text fill=\"#000000\" font-family=\"sans-serif\" font-size=\"12\" lengthAdjust=\"spacingAndGlyphs\" textLength=\"35\" x=\"546.5\" y=\"290.5508\">Wheel</text><line style=\"stroke: #383838; stroke-width: 1.5;\" x1=\"499.5\" x2=\"628.5\" y1=\"298.1875\" y2=\"298.1875\"/><text fill=\"#000000\" font-family=\"sans-serif\" font-size=\"11\" lengthAdjust=\"spacingAndGlyphs\" textLength=\"119\" x=\"504.5\" y=\"331.4424\">sizeOfWheel: WheelSize</text><line style=\"stroke: #383838; stroke-width: 1.0;\" x1=\"499.5\" x2=\"541.5\" y1=\"313.1055\" y2=\"313.1055\"/><text fill=\"#000000\" font-family=\"sans-serif\" font-size=\"11\" lengthAdjust=\"spacingAndGlyphs\" textLength=\"45\" x=\"541.5\" y=\"317.1064\">attributes</text><line style=\"stroke: #383838; stroke-width: 1.0;\" x1=\"586.5\" x2=\"628.5\" y1=\"313.1055\" y2=\"313.1055\"/></a><!--MD5=[ebbe1d658d1005bcc118a6aa81145e00]\n",
       "class E4--><a href=\"psysml:436d9e47-b9ea-4431-b6f6-42f00859f29e\" target=\"_top\" title=\"psysml:436d9e47-b9ea-4431-b6f6-42f00859f29e\" xlink:actuate=\"onRequest\" xlink:href=\"psysml:436d9e47-b9ea-4431-b6f6-42f00859f29e\" xlink:show=\"new\" xlink:title=\"psysml:436d9e47-b9ea-4431-b6f6-42f00859f29e\" xlink:type=\"simple\"><rect fill=\"#FFFFFF\" height=\"48.1875\" id=\"E4\" rx=\"10\" ry=\"10\" style=\"stroke: #383838; stroke-width: 1.5;\" width=\"56\" x=\"266\" y=\"42\"/><text fill=\"#000000\" font-family=\"sans-serif\" font-size=\"12\" font-style=\"italic\" lengthAdjust=\"spacingAndGlyphs\" textLength=\"35\" x=\"276.5\" y=\"59.457\">«part»</text><text fill=\"#000000\" font-family=\"sans-serif\" font-size=\"12\" lengthAdjust=\"spacingAndGlyphs\" textLength=\"47\" x=\"269\" y=\"74.5508\">eVehicle</text><line style=\"stroke: #383838; stroke-width: 1.5;\" x1=\"267\" x2=\"321\" y1=\"82.1875\" y2=\"82.1875\"/></a><!--MD5=[270fce915f116d4de14055a7c1d9a0f3]\n",
       "class E5--><a href=\"psysml:cb1f5cdb-4bef-46d8-8253-1ba9a2755837\" target=\"_top\" title=\"psysml:cb1f5cdb-4bef-46d8-8253-1ba9a2755837\" xlink:actuate=\"onRequest\" xlink:href=\"psysml:cb1f5cdb-4bef-46d8-8253-1ba9a2755837\" xlink:show=\"new\" xlink:title=\"psysml:cb1f5cdb-4bef-46d8-8253-1ba9a2755837\" xlink:type=\"simple\"><rect fill=\"#FFFFFF\" height=\"48.1875\" id=\"E5\" rx=\"10\" ry=\"10\" style=\"stroke: #383838; stroke-width: 1.5;\" width=\"37\" x=\"32.5\" y=\"150\"/><text fill=\"#000000\" font-family=\"sans-serif\" font-size=\"12\" font-style=\"italic\" lengthAdjust=\"spacingAndGlyphs\" textLength=\"35\" x=\"33.5\" y=\"167.457\">«part»</text><text fill=\"#000000\" font-family=\"sans-serif\" font-size=\"12\" lengthAdjust=\"spacingAndGlyphs\" textLength=\"26\" x=\"36.5\" y=\"182.5508\">body</text><line style=\"stroke: #383838; stroke-width: 1.5;\" x1=\"33.5\" x2=\"68.5\" y1=\"190.1875\" y2=\"190.1875\"/></a><!--MD5=[60a26617385b1d2d0262a64233df1f8d]\n",
       "class E6--><a href=\"psysml:e8f1bc86-e3fa-4577-b35d-4d9e888dbd8c\" target=\"_top\" title=\"psysml:e8f1bc86-e3fa-4577-b35d-4d9e888dbd8c\" xlink:actuate=\"onRequest\" xlink:href=\"psysml:e8f1bc86-e3fa-4577-b35d-4d9e888dbd8c\" xlink:show=\"new\" xlink:title=\"psysml:e8f1bc86-e3fa-4577-b35d-4d9e888dbd8c\" xlink:type=\"simple\"><rect fill=\"#FFFFFF\" height=\"48.1875\" id=\"E6\" rx=\"10\" ry=\"10\" style=\"stroke: #383838; stroke-width: 1.5;\" width=\"45\" x=\"104.5\" y=\"150\"/><text fill=\"#000000\" font-family=\"sans-serif\" font-size=\"12\" font-style=\"italic\" lengthAdjust=\"spacingAndGlyphs\" textLength=\"35\" x=\"109.5\" y=\"167.457\">«part»</text><text fill=\"#000000\" font-family=\"sans-serif\" font-size=\"12\" lengthAdjust=\"spacingAndGlyphs\" textLength=\"36\" x=\"107.5\" y=\"182.5508\">battery</text><line style=\"stroke: #383838; stroke-width: 1.5;\" x1=\"105.5\" x2=\"148.5\" y1=\"190.1875\" y2=\"190.1875\"/></a><!--MD5=[2156ba9850f5573cc1fc38a6a4b2f02b]\n",
       "class E7--><a href=\"psysml:ff209cb5-c36d-4fdf-a93c-276167be557f\" target=\"_top\" title=\"psysml:ff209cb5-c36d-4fdf-a93c-276167be557f\" xlink:actuate=\"onRequest\" xlink:href=\"psysml:ff209cb5-c36d-4fdf-a93c-276167be557f\" xlink:show=\"new\" xlink:title=\"psysml:ff209cb5-c36d-4fdf-a93c-276167be557f\" xlink:type=\"simple\"><rect fill=\"#FFFFFF\" height=\"48.1875\" id=\"E7\" rx=\"10\" ry=\"10\" style=\"stroke: #383838; stroke-width: 1.5;\" width=\"47\" x=\"184.5\" y=\"150\"/><text fill=\"#000000\" font-family=\"sans-serif\" font-size=\"12\" font-style=\"italic\" lengthAdjust=\"spacingAndGlyphs\" textLength=\"35\" x=\"190.5\" y=\"167.457\">«part»</text><text fill=\"#000000\" font-family=\"sans-serif\" font-size=\"12\" lengthAdjust=\"spacingAndGlyphs\" textLength=\"38\" x=\"187.5\" y=\"182.5508\">engine</text><line style=\"stroke: #383838; stroke-width: 1.5;\" x1=\"185.5\" x2=\"230.5\" y1=\"190.1875\" y2=\"190.1875\"/></a><!--MD5=[b9389687b975829384b498ac4b7476b2]\n",
       "class E8--><a href=\"psysml:fde3535b-d407-469b-97c4-813fc49a88c9\" target=\"_top\" title=\"psysml:fde3535b-d407-469b-97c4-813fc49a88c9\" xlink:actuate=\"onRequest\" xlink:href=\"psysml:fde3535b-d407-469b-97c4-813fc49a88c9\" xlink:show=\"new\" xlink:title=\"psysml:fde3535b-d407-469b-97c4-813fc49a88c9\" xlink:type=\"simple\"><rect fill=\"#FFFFFF\" height=\"48.1875\" id=\"E8\" rx=\"10\" ry=\"10\" style=\"stroke: #383838; stroke-width: 1.5;\" width=\"55\" x=\"266.5\" y=\"150\"/><text fill=\"#000000\" font-family=\"sans-serif\" font-size=\"12\" font-style=\"italic\" lengthAdjust=\"spacingAndGlyphs\" textLength=\"35\" x=\"276.5\" y=\"167.457\">«part»</text><text fill=\"#000000\" font-family=\"sans-serif\" font-size=\"12\" lengthAdjust=\"spacingAndGlyphs\" textLength=\"46\" x=\"269.5\" y=\"182.5508\">frontAxis</text><line style=\"stroke: #383838; stroke-width: 1.5;\" x1=\"267.5\" x2=\"320.5\" y1=\"190.1875\" y2=\"190.1875\"/></a><!--MD5=[fd4143e9d270a159db93a4ea2a975926]\n",
       "class E9--><a href=\"psysml:549239e0-bbd3-46ae-bac9-9496b59cd619\" target=\"_top\" title=\"psysml:549239e0-bbd3-46ae-bac9-9496b59cd619\" xlink:actuate=\"onRequest\" xlink:href=\"psysml:549239e0-bbd3-46ae-bac9-9496b59cd619\" xlink:show=\"new\" xlink:title=\"psysml:549239e0-bbd3-46ae-bac9-9496b59cd619\" xlink:type=\"simple\"><rect fill=\"#FFFFFF\" height=\"48.1875\" id=\"E9\" rx=\"10\" ry=\"10\" style=\"stroke: #383838; stroke-width: 1.5;\" width=\"53\" x=\"356.5\" y=\"150\"/><text fill=\"#000000\" font-family=\"sans-serif\" font-size=\"12\" font-style=\"italic\" lengthAdjust=\"spacingAndGlyphs\" textLength=\"35\" x=\"365.5\" y=\"167.457\">«part»</text><text fill=\"#000000\" font-family=\"sans-serif\" font-size=\"12\" lengthAdjust=\"spacingAndGlyphs\" textLength=\"44\" x=\"359.5\" y=\"182.5508\">rearAxis</text><line style=\"stroke: #383838; stroke-width: 1.5;\" x1=\"357.5\" x2=\"408.5\" y1=\"190.1875\" y2=\"190.1875\"/></a><!--MD5=[96f4274e9e20536e775497830990834d]\n",
       "class E10--><a href=\"psysml:f8ba51fd-afeb-4f7a-986c-126116f62fe3\" target=\"_top\" title=\"psysml:f8ba51fd-afeb-4f7a-986c-126116f62fe3\" xlink:actuate=\"onRequest\" xlink:href=\"psysml:f8ba51fd-afeb-4f7a-986c-126116f62fe3\" xlink:show=\"new\" xlink:title=\"psysml:f8ba51fd-afeb-4f7a-986c-126116f62fe3\" xlink:type=\"simple\"><rect fill=\"#FFFFFF\" height=\"48.1875\" id=\"E10\" rx=\"10\" ry=\"10\" style=\"stroke: #383838; stroke-width: 1.5;\" width=\"109\" x=\"444.5\" y=\"150\"/><text fill=\"#000000\" font-family=\"sans-serif\" font-size=\"12\" font-style=\"italic\" lengthAdjust=\"spacingAndGlyphs\" textLength=\"35\" x=\"481.5\" y=\"167.457\">«part»</text><text fill=\"#000000\" font-family=\"sans-serif\" font-size=\"12\" lengthAdjust=\"spacingAndGlyphs\" textLength=\"100\" x=\"447.5\" y=\"182.5508\">frontWheel: Wheel</text><line style=\"stroke: #383838; stroke-width: 1.5;\" x1=\"445.5\" x2=\"552.5\" y1=\"190.1875\" y2=\"190.1875\"/></a><!--MD5=[1dd1bfd58a279cf63c5f349dbc8fc6a1]\n",
       "class E11--><a href=\"psysml:46ef1f55-14f9-439a-b7e1-9623547ea22b\" target=\"_top\" title=\"psysml:46ef1f55-14f9-439a-b7e1-9623547ea22b\" xlink:actuate=\"onRequest\" xlink:href=\"psysml:46ef1f55-14f9-439a-b7e1-9623547ea22b\" xlink:show=\"new\" xlink:title=\"psysml:46ef1f55-14f9-439a-b7e1-9623547ea22b\" xlink:type=\"simple\"><rect fill=\"#FFFFFF\" height=\"48.1875\" id=\"E11\" rx=\"10\" ry=\"10\" style=\"stroke: #383838; stroke-width: 1.5;\" width=\"107\" x=\"588.5\" y=\"150\"/><text fill=\"#000000\" font-family=\"sans-serif\" font-size=\"12\" font-style=\"italic\" lengthAdjust=\"spacingAndGlyphs\" textLength=\"35\" x=\"624.5\" y=\"167.457\">«part»</text><text fill=\"#000000\" font-family=\"sans-serif\" font-size=\"12\" lengthAdjust=\"spacingAndGlyphs\" textLength=\"98\" x=\"591.5\" y=\"182.5508\">rearWheel: Wheel</text><line style=\"stroke: #383838; stroke-width: 1.5;\" x1=\"589.5\" x2=\"694.5\" y1=\"190.1875\" y2=\"190.1875\"/></a><!--MD5=[62aa6af11e70f752912c1cb0466f24f7]\n",
       "reverse link E4 to E5--><a href=\"psysml:322a146a-241a-4fb6-9be6-aeb08b3c99b9\" target=\"_top\" title=\"psysml:322a146a-241a-4fb6-9be6-aeb08b3c99b9\" xlink:actuate=\"onRequest\" xlink:href=\"psysml:322a146a-241a-4fb6-9be6-aeb08b3c99b9\" xlink:show=\"new\" xlink:title=\"psysml:322a146a-241a-4fb6-9be6-aeb08b3c99b9\" xlink:type=\"simple\"><path d=\"M253.5,80.69 C211.04,95.63 142.86,121.28 87,150 C81.2,152.98 75.13,156.63 69.66,160.14 \" fill=\"none\" id=\"E4&lt;-E5\" style=\"stroke: #383838; stroke-width: 1.0;\"/><polygon fill=\"#383838\" points=\"265.81,76.41,258.8292,74.6022,254.4755,80.3507,261.4563,82.1585,265.81,76.41\" style=\"stroke: #383838; stroke-width: 1.0;\"/><text fill=\"#000000\" font-family=\"sans-serif\" font-size=\"13\" lengthAdjust=\"spacingAndGlyphs\" textLength=\"7\" x=\"77.5545\" y=\"149.8767\">1</text></a><!--MD5=[6db378b65e1aef66a01cb3103812b399]\n",
       "reverse link E4 to E6--><a href=\"psysml:cae1dc51-4a0e-492b-a40b-9c11c7cf7092\" target=\"_top\" title=\"psysml:cae1dc51-4a0e-492b-a40b-9c11c7cf7092\" xlink:actuate=\"onRequest\" xlink:href=\"psysml:cae1dc51-4a0e-492b-a40b-9c11c7cf7092\" xlink:show=\"new\" xlink:title=\"psysml:cae1dc51-4a0e-492b-a40b-9c11c7cf7092\" xlink:type=\"simple\"><path d=\"M254.67,91.96 C221.94,112.74 176.48,141.59 149.57,158.68 \" fill=\"none\" id=\"E4&lt;-E6\" style=\"stroke: #383838; stroke-width: 1.0;\"/><polygon fill=\"#383838\" points=\"265.67,84.98,258.4608,84.8151,255.5358,91.4063,262.745,91.5712,265.67,84.98\" style=\"stroke: #383838; stroke-width: 1.0;\"/><text fill=\"#000000\" font-family=\"sans-serif\" font-size=\"13\" lengthAdjust=\"spacingAndGlyphs\" textLength=\"7\" x=\"157.5539\" y=\"149.0585\">1</text></a><!--MD5=[722ff4eef345aa10242dad44df0e98c7]\n",
       "reverse link E4 to E7--><a href=\"psysml:f91c13a8-72c9-43c3-8c86-988d8038f828\" target=\"_top\" title=\"psysml:f91c13a8-72c9-43c3-8c86-988d8038f828\" xlink:actuate=\"onRequest\" xlink:href=\"psysml:f91c13a8-72c9-43c3-8c86-988d8038f828\" xlink:show=\"new\" xlink:title=\"psysml:f91c13a8-72c9-43c3-8c86-988d8038f828\" xlink:type=\"simple\"><path d=\"M266.78,100.54 C253.81,116.53 238.61,135.27 226.92,149.68 \" fill=\"none\" id=\"E4&lt;-E7\" style=\"stroke: #383838; stroke-width: 1.0;\"/><polygon fill=\"#383838\" points=\"275.34,90,268.4531,92.138,267.7779,99.3174,274.6647,97.1794,275.34,90\" style=\"stroke: #383838; stroke-width: 1.0;\"/><text fill=\"#000000\" font-family=\"sans-serif\" font-size=\"13\" lengthAdjust=\"spacingAndGlyphs\" textLength=\"7\" x=\"223.6786\" y=\"139.3171\">1</text></a><!--MD5=[c6fc7cdb0cabde04948078cf183fa696]\n",
       "reverse link E4 to E8--><a href=\"psysml:71780020-fbe2-4b4b-a7d9-5068794f5ef5\" target=\"_top\" title=\"psysml:71780020-fbe2-4b4b-a7d9-5068794f5ef5\" xlink:actuate=\"onRequest\" xlink:href=\"psysml:71780020-fbe2-4b4b-a7d9-5068794f5ef5\" xlink:show=\"new\" xlink:title=\"psysml:71780020-fbe2-4b4b-a7d9-5068794f5ef5\" xlink:type=\"simple\"><path d=\"M294,103.34 C294,118.68 294,136.1 294,149.68 \" fill=\"none\" id=\"E4&lt;-E8\" style=\"stroke: #383838; stroke-width: 1.0;\"/><polygon fill=\"#383838\" points=\"294,90,290,96,294,102,298,96,294,90\" style=\"stroke: #383838; stroke-width: 1.0;\"/><text fill=\"#000000\" font-family=\"sans-serif\" font-size=\"13\" lengthAdjust=\"spacingAndGlyphs\" textLength=\"7\" x=\"286.1469\" y=\"139.3171\">1</text></a><!--MD5=[e7ea4bd30698dc91ca0c06b9d8e4f891]\n",
       "reverse link E4 to E9--><a href=\"psysml:a930b9a4-704a-4ae8-883b-569ff3a72cd4\" target=\"_top\" title=\"psysml:a930b9a4-704a-4ae8-883b-569ff3a72cd4\" xlink:actuate=\"onRequest\" xlink:href=\"psysml:a930b9a4-704a-4ae8-883b-569ff3a72cd4\" xlink:show=\"new\" xlink:title=\"psysml:a930b9a4-704a-4ae8-883b-569ff3a72cd4\" xlink:type=\"simple\"><path d=\"M321.78,100.08 C335.29,116.17 351.2,135.13 363.42,149.68 \" fill=\"none\" id=\"E4&lt;-E9\" style=\"stroke: #383838; stroke-width: 1.0;\"/><polygon fill=\"#383838\" points=\"313.31,90,314.1034,97.1673,321.0246,99.1916,320.2312,92.0243,313.31,90\" style=\"stroke: #383838; stroke-width: 1.0;\"/><text fill=\"#000000\" font-family=\"sans-serif\" font-size=\"13\" lengthAdjust=\"spacingAndGlyphs\" textLength=\"7\" x=\"350.7943\" y=\"139.3171\">1</text></a><!--MD5=[f119e7f268ff8fee167b0c2c9936af30]\n",
       "reverse link E4 to E10--><a href=\"psysml:dd88b488-7fde-40a5-a646-f44c46b7b815\" target=\"_top\" title=\"psysml:dd88b488-7fde-40a5-a646-f44c46b7b815\" xlink:actuate=\"onRequest\" xlink:href=\"psysml:dd88b488-7fde-40a5-a646-f44c46b7b815\" xlink:show=\"new\" xlink:title=\"psysml:dd88b488-7fde-40a5-a646-f44c46b7b815\" xlink:type=\"simple\"><path d=\"M334.07,87.72 C368.64,105.6 418.53,131.39 454.37,149.93 \" fill=\"none\" id=\"E4&lt;-E10\" style=\"stroke: #383838; stroke-width: 1.0;\"/><polygon fill=\"#383838\" points=\"322.07,81.52,325.5612,87.8296,332.7282,87.0338,329.2371,80.7241,322.07,81.52\" style=\"stroke: #383838; stroke-width: 1.0;\"/><text fill=\"#000000\" font-family=\"sans-serif\" font-size=\"13\" lengthAdjust=\"spacingAndGlyphs\" textLength=\"7\" x=\"435.0367\" y=\"139.2282\">2</text></a><!--MD5=[feeac5eb423634930294aa81f2d25a4c]\n",
       "link E10 to E3--><a href=\"psysml:7964200d-62ae-4677-8e27-96e55a0d4e5b\" target=\"_top\" title=\"psysml:7964200d-62ae-4677-8e27-96e55a0d4e5b\" xlink:actuate=\"onRequest\" xlink:href=\"psysml:7964200d-62ae-4677-8e27-96e55a0d4e5b\" xlink:show=\"new\" xlink:title=\"psysml:7964200d-62ae-4677-8e27-96e55a0d4e5b\" xlink:type=\"simple\"><path d=\"M511.38,198.23 C517.65,210 525.56,224.85 533.33,239.44 \" fill=\"none\" id=\"E10-&gt;E3\" style=\"stroke: #383838; stroke-width: 1.0;\"/><polygon fill=\"#FFFFFF\" points=\"542.97,257.53,527.858,244.0531,540.2137,237.47,542.97,257.53\" style=\"stroke: #383838; stroke-width: 1.0;\"/><ellipse cx=\"526.9429\" cy=\"238.0821\" fill=\"#383838\" rx=\"2\" ry=\"2\" style=\"stroke: #383838; stroke-width: 1.0;\"/><ellipse cx=\"535.7684\" cy=\"233.3799\" fill=\"#383838\" rx=\"2\" ry=\"2\" style=\"stroke: #383838; stroke-width: 1.0;\"/></a><!--MD5=[593b807a8aafaab39af1c25ada4edf41]\n",
       "reverse link E4 to E11--><a href=\"psysml:23efece7-cdfa-437c-83fa-100fadabdff3\" target=\"_top\" title=\"psysml:23efece7-cdfa-437c-83fa-100fadabdff3\" xlink:actuate=\"onRequest\" xlink:href=\"psysml:23efece7-cdfa-437c-83fa-100fadabdff3\" xlink:show=\"new\" xlink:title=\"psysml:23efece7-cdfa-437c-83fa-100fadabdff3\" xlink:type=\"simple\"><path d=\"M335.17,79.03 C389.34,94.92 487.49,123.97 571,150 C576.57,151.74 582.37,153.57 588.15,155.42 \" fill=\"none\" id=\"E4&lt;-E11\" style=\"stroke: #383838; stroke-width: 1.0;\"/><polygon fill=\"#383838\" points=\"322.38,75.28,327.012,80.8067,333.8951,78.6567,329.2631,73.13,322.38,75.28\" style=\"stroke: #383838; stroke-width: 1.0;\"/><text fill=\"#000000\" font-family=\"sans-serif\" font-size=\"13\" lengthAdjust=\"spacingAndGlyphs\" textLength=\"7\" x=\"573.4436\" y=\"149.3545\">2</text></a><!--MD5=[0517f1ce58c4d5483948f93845c45e26]\n",
       "link E11 to E3--><a href=\"psysml:37dc377e-2eca-41de-92fd-bafc6aeb1de2\" target=\"_top\" title=\"psysml:37dc377e-2eca-41de-92fd-bafc6aeb1de2\" xlink:actuate=\"onRequest\" xlink:href=\"psysml:37dc377e-2eca-41de-92fd-bafc6aeb1de2\" xlink:show=\"new\" xlink:title=\"psysml:37dc377e-2eca-41de-92fd-bafc6aeb1de2\" xlink:type=\"simple\"><path d=\"M627.15,198.23 C619.46,210.26 609.7,225.51 600.18,240.41 \" fill=\"none\" id=\"E11-&gt;E3\" style=\"stroke: #383838; stroke-width: 1.0;\"/><polygon fill=\"#FFFFFF\" points=\"589.24,257.53,593.5718,237.7503,605.3691,245.2886,589.24,257.53\" style=\"stroke: #383838; stroke-width: 1.0;\"/><ellipse cx=\"598.3263\" cy=\"234.0241\" fill=\"#383838\" rx=\"2\" ry=\"2\" style=\"stroke: #383838; stroke-width: 1.0;\"/><ellipse cx=\"606.7529\" cy=\"239.4085\" fill=\"#383838\" rx=\"2\" ry=\"2\" style=\"stroke: #383838; stroke-width: 1.0;\"/></a><!--MD5=[a87e8b7cfc1501616a63cf4bb138c8e0]\n",
       "@startuml\r\n",
       "skinparam monochrome true\r\n",
       "skinparam classbackgroundcolor white\r\n",
       "skinparam shadowing false\r\n",
       "skinparam wrapWidth 300\r\n",
       "hide circle\r\n",
       "\r\n",
       "package \"eVehicle_LogicalArchitecture\" as E1  [[psysml:4db8c6b9-14b6-4ed2-bc34-dc11367ae040 ]]  {\r\n",
       "comp def \"WheelSize\" as E2  <<(T,blue) attribute  def>> [[psysml:7f4f7911-920e-42b8-9004-d3df1eff6cc4 ]] {\r\n",
       "}\r\n",
       "comp def \"Wheel\" as E3  <<(T,blue) part  def>> [[psysml:e6089023-e650-4b70-ad1c-af00dd9dc504 ]] {\r\n",
       "- - attributes - -\r\n",
       "sizeOfWheel: WheelSize\r\n",
       "}\r\n",
       "comp usage \"eVehicle \" as E4  <<(T,blue) part>> [[psysml:436d9e47-b9ea-4431-b6f6-42f00859f29e ]] {\r\n",
       "}\r\n",
       "comp usage \"body \" as E5  <<(T,blue) part>> [[psysml:cb1f5cdb-4bef-46d8-8253-1ba9a2755837 ]] {\r\n",
       "}\r\n",
       "comp usage \"battery \" as E6  <<(T,blue) part>> [[psysml:e8f1bc86-e3fa-4577-b35d-4d9e888dbd8c ]] {\r\n",
       "}\r\n",
       "comp usage \"engine \" as E7  <<(T,blue) part>> [[psysml:ff209cb5-c36d-4fdf-a93c-276167be557f ]] {\r\n",
       "}\r\n",
       "comp usage \"frontAxis \" as E8  <<(T,blue) part>> [[psysml:fde3535b-d407-469b-97c4-813fc49a88c9 ]] {\r\n",
       "}\r\n",
       "comp usage \"rearAxis \" as E9  <<(T,blue) part>> [[psysml:549239e0-bbd3-46ae-bac9-9496b59cd619 ]] {\r\n",
       "}\r\n",
       "comp usage \"frontWheel: Wheel \" as E10  <<(T,blue) part>> [[psysml:f8ba51fd-afeb-4f7a-986c-126116f62fe3 ]] {\r\n",
       "}\r\n",
       "comp usage \"rearWheel: Wheel \" as E11  <<(T,blue) part>> [[psysml:46ef1f55-14f9-439a-b7e1-9623547ea22b ]] {\r\n",
       "}\r\n",
       "}\r\n",
       "E4 *- - \"1\"E5 [[psysml:322a146a-241a-4fb6-9be6-aeb08b3c99b9 ]] \r\n",
       "E4 *- - \"1\"E6 [[psysml:cae1dc51-4a0e-492b-a40b-9c11c7cf7092 ]] \r\n",
       "E4 *- - \"1\"E7 [[psysml:f91c13a8-72c9-43c3-8c86-988d8038f828 ]] \r\n",
       "E4 *- - \"1\"E8 [[psysml:71780020-fbe2-4b4b-a7d9-5068794f5ef5 ]] \r\n",
       "E4 *- - \"1\"E9 [[psysml:a930b9a4-704a-4ae8-883b-569ff3a72cd4 ]] \r\n",
       "E4 *- - \"2\"E10 [[psysml:dd88b488-7fde-40a5-a646-f44c46b7b815 ]] \r\n",
       "E10 - -:|> E3 [[psysml:7964200d-62ae-4677-8e27-96e55a0d4e5b ]] \r\n",
       "E4 *- - \"2\"E11 [[psysml:23efece7-cdfa-437c-83fa-100fadabdff3 ]] \r\n",
       "E11 - -:|> E3 [[psysml:37dc377e-2eca-41de-92fd-bafc6aeb1de2 ]] \r\n",
       "@enduml\r\n",
       "\n",
       "PlantUML version 1.2020.13(Sat Jun 13 14:26:38 CEST 2020)\n",
       "(EPL source distribution)\n",
       "Java Runtime: OpenJDK Runtime Environment\n",
       "JVM: OpenJDK 64-Bit Server VM\n",
       "Default Encoding: Cp1252\n",
       "Language: en\n",
       "Country: US\n",
       "--></g></svg>"
      ]
     },
     "execution_count": 8,
     "metadata": {},
     "output_type": "execute_result"
    }
   ],
   "source": [
    "%viz --view=tree eVehicle_LogicalArchitecture"
   ]
  },
  {
   "cell_type": "markdown",
   "metadata": {},
   "source": [
    "### When to use Parts and when to use PartDefinitions\n",
    "\n",
    "A simple rule of thumb is: if you use a thing only once, model it as a part. If it is used multiple times or specializations of it, then model it as a part definition.\n",
    "\n",
    "Part definition is a classification of things, and parts are usages of part definitions. If you have only one engine in the model, then you can model it directly as a part. As described above, the part still has a part definition, which in this case is implicitly the general part definition *Part* from the system library."
   ]
  },
  {
   "cell_type": "markdown",
   "metadata": {},
   "source": [
    "## Specialization and Subsetting<a name=\"sysmlv2modspecialization\"></a>"
   ]
  },
  {
   "cell_type": "code",
   "execution_count": 9,
   "metadata": {},
   "outputs": [
    {
     "data": {
      "text/plain": [
       "Package eVehicle_LogicalArchitecture (43977942-c128-4d51-97e0-8a294ed2d2ff)\n"
      ]
     },
     "execution_count": 9,
     "metadata": {},
     "output_type": "execute_result"
    }
   ],
   "source": [
    "package eVehicle_LogicalArchitecture {   \n",
    "    \n",
    "    attribute def WheelSize {\n",
    "        import ScalarValues::Integer;\n",
    "        size : Integer;\n",
    "    }\n",
    "    \n",
    "    part def Wheel {\n",
    "        constraint pressureConstraint : WheelPressureConstraint (\n",
    "            currentPressure = currentPressure,\n",
    "            limitPressure = maxPressure);\n",
    "        attribute sizeOfWheel : WheelSize;\n",
    "        attribute currentPressure : ScalarValues::Real;\n",
    "        attribute maxPressure : ScalarValues::Real;\n",
    "    }\n",
    "    \n",
    "    part def FrontWheel :> Wheel {\n",
    "        attribute redefines maxPressure = 2.0;\n",
    "    }\n",
    "    part def RearWheel :> Wheel {\n",
    "        attribute redefines maxPressure = 2.5;\n",
    "    }\n",
    "    \n",
    "    constraint def WheelPressureConstraint (\n",
    "        currentPressure : ScalarValues::Real,\n",
    "        limitPressure : ScalarValues::Real) {\n",
    "            currentPressure <= limitPressure\n",
    "    }\n",
    "    \n",
    "    part eVehicle {\n",
    "        part body;\n",
    "        part battery;\n",
    "        part engine;\n",
    "        part frontAxis;\n",
    "        part rearAxis;\n",
    "        part frontWheel : FrontWheel[2];\n",
    "        part frontLeftWheel :> frontWheel {\n",
    "            redefines currentPressure = 1.6;\n",
    "        }\n",
    "        part frontRightWheel :> frontWheel {\n",
    "            redefines currentPressure = 1.8;\n",
    "        }\n",
    "\n",
    "        part rearWheel : RearWheel[2];\n",
    "        part rearLeftWheel :> rearWheel {\n",
    "            redefines currentPressure = 2.4;\n",
    "        }\n",
    "        part rearRightWheel :> rearWheel {\n",
    "            redefines currentPressure = 2.5;\n",
    "        }\n",
    "        \n",
    "    }\n",
    "}"
   ]
  },
  {
   "cell_type": "code",
   "execution_count": 10,
   "metadata": {},
   "outputs": [
    {
     "data": {
      "image/svg+xml": [
       "<?xml version=\"1.0\" encoding=\"UTF-8\" standalone=\"no\"?><svg xmlns=\"http://www.w3.org/2000/svg\" xmlns:xlink=\"http://www.w3.org/1999/xlink\" contentScriptType=\"application/ecmascript\" contentStyleType=\"text/css\" height=\"996px\" preserveAspectRatio=\"none\" style=\"width:1526px;height:996px;\" version=\"1.1\" viewBox=\"0 0 1526 996\" width=\"1526px\" zoomAndPan=\"magnify\"><defs/><g><!--MD5=[fbc87193dbaf4d95561dea2c320d4a47]\n",
       "cluster E1--><a href=\"psysml:1a2864bc-f099-42b6-b7a1-9c8d0b019169\" target=\"_top\" title=\"psysml:1a2864bc-f099-42b6-b7a1-9c8d0b019169\" xlink:actuate=\"onRequest\" xlink:href=\"psysml:1a2864bc-f099-42b6-b7a1-9c8d0b019169\" xlink:show=\"new\" xlink:title=\"psysml:1a2864bc-f099-42b6-b7a1-9c8d0b019169\" xlink:type=\"simple\"><polygon fill=\"#FFFFFF\" points=\"16,6,228,6,235,29.6094,1504,29.6094,1504,984,16,984,16,6\" style=\"stroke: #000000; stroke-width: 1.5;\"/><line style=\"stroke: #000000; stroke-width: 1.5;\" x1=\"16\" x2=\"235\" y1=\"29.6094\" y2=\"29.6094\"/><text fill=\"#000000\" font-family=\"sans-serif\" font-size=\"14\" font-weight=\"bold\" lengthAdjust=\"spacingAndGlyphs\" textLength=\"206\" x=\"20\" y=\"22.5332\">eVehicle_LogicalArchitecture</text></a><!--MD5=[b4997ac47864f28c2f74865a473b2911]\n",
       "class E2--><a href=\"psysml:b2f34a56-3e59-4286-9e1b-1c8bfd599499\" target=\"_top\" title=\"psysml:b2f34a56-3e59-4286-9e1b-1c8bfd599499\" xlink:actuate=\"onRequest\" xlink:href=\"psysml:b2f34a56-3e59-4286-9e1b-1c8bfd599499\" xlink:show=\"new\" xlink:title=\"psysml:b2f34a56-3e59-4286-9e1b-1c8bfd599499\" xlink:type=\"simple\"><rect fill=\"#FFFFFF\" height=\"48.1875\" id=\"E2\" style=\"stroke: #383838; stroke-width: 1.5;\" width=\"84\" x=\"956\" y=\"42\"/><text fill=\"#000000\" font-family=\"sans-serif\" font-size=\"12\" font-style=\"italic\" lengthAdjust=\"spacingAndGlyphs\" textLength=\"82\" x=\"957\" y=\"59.457\">«attribute  def»</text><text fill=\"#000000\" font-family=\"sans-serif\" font-size=\"12\" lengthAdjust=\"spacingAndGlyphs\" textLength=\"58\" x=\"969\" y=\"74.5508\">WheelSize</text><line style=\"stroke: #383838; stroke-width: 1.5;\" x1=\"957\" x2=\"1039\" y1=\"82.1875\" y2=\"82.1875\"/></a><!--MD5=[09b614a08d8cba4a07c9adeb5e0fee81]\n",
       "class E3--><a href=\"psysml:f5c3b7ae-55f6-44d0-b3be-66a34f78ad97\" target=\"_top\" title=\"psysml:f5c3b7ae-55f6-44d0-b3be-66a34f78ad97\" xlink:actuate=\"onRequest\" xlink:href=\"psysml:f5c3b7ae-55f6-44d0-b3be-66a34f78ad97\" xlink:show=\"new\" xlink:title=\"psysml:f5c3b7ae-55f6-44d0-b3be-66a34f78ad97\" xlink:type=\"simple\"><rect fill=\"#FFFFFF\" height=\"107.5313\" id=\"E3\" style=\"stroke: #383838; stroke-width: 1.5;\" width=\"131\" x=\"728.5\" y=\"566\"/><text fill=\"#000000\" font-family=\"sans-serif\" font-size=\"12\" font-style=\"italic\" lengthAdjust=\"spacingAndGlyphs\" textLength=\"58\" x=\"765\" y=\"583.457\">«part  def»</text><text fill=\"#000000\" font-family=\"sans-serif\" font-size=\"12\" lengthAdjust=\"spacingAndGlyphs\" textLength=\"35\" x=\"776.5\" y=\"598.5508\">Wheel</text><line style=\"stroke: #383838; stroke-width: 1.5;\" x1=\"729.5\" x2=\"858.5\" y1=\"606.1875\" y2=\"606.1875\"/><text fill=\"#000000\" font-family=\"sans-serif\" font-size=\"11\" lengthAdjust=\"spacingAndGlyphs\" textLength=\"106\" x=\"734.5\" y=\"639.4424\">currentPressure: Real</text><text fill=\"#000000\" font-family=\"sans-serif\" font-size=\"11\" lengthAdjust=\"spacingAndGlyphs\" textLength=\"91\" x=\"734.5\" y=\"653.2783\">maxPressure: Real</text><text fill=\"#000000\" font-family=\"sans-serif\" font-size=\"11\" lengthAdjust=\"spacingAndGlyphs\" textLength=\"119\" x=\"734.5\" y=\"667.1143\">sizeOfWheel: WheelSize</text><line style=\"stroke: #383838; stroke-width: 1.0;\" x1=\"729.5\" x2=\"771.5\" y1=\"621.1055\" y2=\"621.1055\"/><text fill=\"#000000\" font-family=\"sans-serif\" font-size=\"11\" lengthAdjust=\"spacingAndGlyphs\" textLength=\"45\" x=\"771.5\" y=\"625.1064\">attributes</text><line style=\"stroke: #383838; stroke-width: 1.0;\" x1=\"816.5\" x2=\"858.5\" y1=\"621.1055\" y2=\"621.1055\"/></a><!--MD5=[ebbe1d658d1005bcc118a6aa81145e00]\n",
       "class E4--><a href=\"psysml:9548787e-1455-43e7-a2b3-d54a8e199d16\" target=\"_top\" title=\"psysml:9548787e-1455-43e7-a2b3-d54a8e199d16\" xlink:actuate=\"onRequest\" xlink:href=\"psysml:9548787e-1455-43e7-a2b3-d54a8e199d16\" xlink:show=\"new\" xlink:title=\"psysml:9548787e-1455-43e7-a2b3-d54a8e199d16\" xlink:type=\"simple\"><rect fill=\"#FFFFFF\" height=\"93.6953\" id=\"E4\" rx=\"10\" ry=\"10\" style=\"stroke: #383838; stroke-width: 1.5;\" width=\"265\" x=\"661.5\" y=\"734\"/><text fill=\"#000000\" font-family=\"sans-serif\" font-size=\"12\" font-style=\"italic\" lengthAdjust=\"spacingAndGlyphs\" textLength=\"67\" x=\"760.5\" y=\"751.457\">«constraint»</text><text fill=\"#000000\" font-family=\"sans-serif\" font-size=\"12\" lengthAdjust=\"spacingAndGlyphs\" textLength=\"256\" x=\"664.5\" y=\"766.5508\">pressureConstraint: WheelPressureConstraint</text><line style=\"stroke: #383838; stroke-width: 1.5;\" x1=\"662.5\" x2=\"925.5\" y1=\"774.1875\" y2=\"774.1875\"/><text fill=\"#000000\" font-family=\"sans-serif\" font-size=\"11\" font-weight=\"bold\" lengthAdjust=\"spacingAndGlyphs\" textLength=\"10\" x=\"667.5\" y=\"807.4424\">in</text><text fill=\"#000000\" font-family=\"sans-serif\" font-size=\"11\" lengthAdjust=\"spacingAndGlyphs\" textLength=\"170\" x=\"680.5\" y=\"807.4424\">currentPressure= currentPressure;</text><text fill=\"#000000\" font-family=\"sans-serif\" font-size=\"11\" font-weight=\"bold\" lengthAdjust=\"spacingAndGlyphs\" textLength=\"10\" x=\"667.5\" y=\"821.2783\">in</text><text fill=\"#000000\" font-family=\"sans-serif\" font-size=\"11\" lengthAdjust=\"spacingAndGlyphs\" textLength=\"137\" x=\"680.5\" y=\"821.2783\">limitPressure= maxPressure;</text><line style=\"stroke: #383838; stroke-width: 1.0;\" x1=\"662.5\" x2=\"766.5\" y1=\"789.1055\" y2=\"789.1055\"/><text fill=\"#000000\" font-family=\"sans-serif\" font-size=\"11\" lengthAdjust=\"spacingAndGlyphs\" textLength=\"55\" x=\"766.5\" y=\"793.1064\">parameters</text><line style=\"stroke: #383838; stroke-width: 1.0;\" x1=\"821.5\" x2=\"925.5\" y1=\"789.1055\" y2=\"789.1055\"/></a><!--MD5=[270fce915f116d4de14055a7c1d9a0f3]\n",
       "class E5--><a href=\"psysml:b78b62d5-bc84-4775-9069-8f9e5980c9f1\" target=\"_top\" title=\"psysml:b78b62d5-bc84-4775-9069-8f9e5980c9f1\" xlink:actuate=\"onRequest\" xlink:href=\"psysml:b78b62d5-bc84-4775-9069-8f9e5980c9f1\" xlink:show=\"new\" xlink:title=\"psysml:b78b62d5-bc84-4775-9069-8f9e5980c9f1\" xlink:type=\"simple\"><rect fill=\"#FFFFFF\" height=\"93.6953\" id=\"E5\" style=\"stroke: #383838; stroke-width: 1.5;\" width=\"131\" x=\"645.5\" y=\"412\"/><text fill=\"#000000\" font-family=\"sans-serif\" font-size=\"12\" font-style=\"italic\" lengthAdjust=\"spacingAndGlyphs\" textLength=\"58\" x=\"682\" y=\"429.457\">«part  def»</text><text fill=\"#000000\" font-family=\"sans-serif\" font-size=\"12\" lengthAdjust=\"spacingAndGlyphs\" textLength=\"63\" x=\"679.5\" y=\"444.5508\">FrontWheel</text><line style=\"stroke: #383838; stroke-width: 1.5;\" x1=\"646.5\" x2=\"775.5\" y1=\"452.1875\" y2=\"452.1875\"/><text fill=\"#000000\" font-family=\"sans-serif\" font-size=\"11\" lengthAdjust=\"spacingAndGlyphs\" textLength=\"91\" x=\"651.5\" y=\"485.4424\">maxPressure= 2.0;</text><text fill=\"#000000\" font-family=\"sans-serif\" font-size=\"11\" font-style=\"italic\" lengthAdjust=\"spacingAndGlyphs\" textLength=\"119\" x=\"651.5\" y=\"499.2783\">:&gt;&gt;Wheel::maxPressure</text><line style=\"stroke: #383838; stroke-width: 1.0;\" x1=\"646.5\" x2=\"688.5\" y1=\"467.1055\" y2=\"467.1055\"/><text fill=\"#000000\" font-family=\"sans-serif\" font-size=\"11\" lengthAdjust=\"spacingAndGlyphs\" textLength=\"45\" x=\"688.5\" y=\"471.1064\">attributes</text><line style=\"stroke: #383838; stroke-width: 1.0;\" x1=\"733.5\" x2=\"775.5\" y1=\"467.1055\" y2=\"467.1055\"/></a><!--MD5=[60a26617385b1d2d0262a64233df1f8d]\n",
       "class E6--><a href=\"psysml:e2d8b1e7-1367-45a4-8774-6e16b72b414e\" target=\"_top\" title=\"psysml:e2d8b1e7-1367-45a4-8774-6e16b72b414e\" xlink:actuate=\"onRequest\" xlink:href=\"psysml:e2d8b1e7-1367-45a4-8774-6e16b72b414e\" xlink:show=\"new\" xlink:title=\"psysml:e2d8b1e7-1367-45a4-8774-6e16b72b414e\" xlink:type=\"simple\"><rect fill=\"#FFFFFF\" height=\"93.6953\" id=\"E6\" style=\"stroke: #383838; stroke-width: 1.5;\" width=\"131\" x=\"928.5\" y=\"412\"/><text fill=\"#000000\" font-family=\"sans-serif\" font-size=\"12\" font-style=\"italic\" lengthAdjust=\"spacingAndGlyphs\" textLength=\"58\" x=\"965\" y=\"429.457\">«part  def»</text><text fill=\"#000000\" font-family=\"sans-serif\" font-size=\"12\" lengthAdjust=\"spacingAndGlyphs\" textLength=\"62\" x=\"963\" y=\"444.5508\">RearWheel</text><line style=\"stroke: #383838; stroke-width: 1.5;\" x1=\"929.5\" x2=\"1058.5\" y1=\"452.1875\" y2=\"452.1875\"/><text fill=\"#000000\" font-family=\"sans-serif\" font-size=\"11\" lengthAdjust=\"spacingAndGlyphs\" textLength=\"91\" x=\"934.5\" y=\"485.4424\">maxPressure= 2.5;</text><text fill=\"#000000\" font-family=\"sans-serif\" font-size=\"11\" font-style=\"italic\" lengthAdjust=\"spacingAndGlyphs\" textLength=\"119\" x=\"934.5\" y=\"499.2783\">:&gt;&gt;Wheel::maxPressure</text><line style=\"stroke: #383838; stroke-width: 1.0;\" x1=\"929.5\" x2=\"971.5\" y1=\"467.1055\" y2=\"467.1055\"/><text fill=\"#000000\" font-family=\"sans-serif\" font-size=\"11\" lengthAdjust=\"spacingAndGlyphs\" textLength=\"45\" x=\"971.5\" y=\"471.1064\">attributes</text><line style=\"stroke: #383838; stroke-width: 1.0;\" x1=\"1016.5\" x2=\"1058.5\" y1=\"467.1055\" y2=\"467.1055\"/></a><!--MD5=[2156ba9850f5573cc1fc38a6a4b2f02b]\n",
       "class E7--><a href=\"psysml:1745e077-37a1-4640-bc98-34dcd2b80497\" target=\"_top\" title=\"psysml:1745e077-37a1-4640-bc98-34dcd2b80497\" xlink:actuate=\"onRequest\" xlink:href=\"psysml:1745e077-37a1-4640-bc98-34dcd2b80497\" xlink:show=\"new\" xlink:title=\"psysml:1745e077-37a1-4640-bc98-34dcd2b80497\" xlink:type=\"simple\"><rect fill=\"#FFFFFF\" height=\"79.8594\" id=\"E7\" style=\"stroke: #383838; stroke-width: 1.5;\" width=\"184\" x=\"702\" y=\"888\"/><text fill=\"#000000\" font-family=\"sans-serif\" font-size=\"12\" font-style=\"italic\" lengthAdjust=\"spacingAndGlyphs\" textLength=\"90\" x=\"749\" y=\"905.457\">«constraint  def»</text><text fill=\"#000000\" font-family=\"sans-serif\" font-size=\"12\" lengthAdjust=\"spacingAndGlyphs\" textLength=\"143\" x=\"722.5\" y=\"920.5508\">WheelPressureConstraint</text><line style=\"stroke: #383838; stroke-width: 1.5;\" x1=\"703\" x2=\"885\" y1=\"928.1875\" y2=\"928.1875\"/><text fill=\"#000000\" font-family=\"sans-serif\" font-size=\"11\" lengthAdjust=\"spacingAndGlyphs\" textLength=\"172\" x=\"708\" y=\"961.4424\">{ currentPressure &lt;= limitPressure }</text><line style=\"stroke: #383838; stroke-width: 1.0;\" x1=\"703\" x2=\"742\" y1=\"943.1055\" y2=\"943.1055\"/><text fill=\"#000000\" font-family=\"sans-serif\" font-size=\"11\" lengthAdjust=\"spacingAndGlyphs\" textLength=\"104\" x=\"742\" y=\"947.1064\">operator expressions</text><line style=\"stroke: #383838; stroke-width: 1.0;\" x1=\"846\" x2=\"885\" y1=\"943.1055\" y2=\"943.1055\"/></a><!--MD5=[b9389687b975829384b498ac4b7476b2]\n",
       "class E8--><a href=\"psysml:a0dfb8d7-55e1-45f8-8c41-253b06e4efe3\" target=\"_top\" title=\"psysml:a0dfb8d7-55e1-45f8-8c41-253b06e4efe3\" xlink:actuate=\"onRequest\" xlink:href=\"psysml:a0dfb8d7-55e1-45f8-8c41-253b06e4efe3\" xlink:show=\"new\" xlink:title=\"psysml:a0dfb8d7-55e1-45f8-8c41-253b06e4efe3\" xlink:type=\"simple\"><rect fill=\"#FFFFFF\" height=\"48.1875\" id=\"E8\" rx=\"10\" ry=\"10\" style=\"stroke: #383838; stroke-width: 1.5;\" width=\"56\" x=\"418\" y=\"42\"/><text fill=\"#000000\" font-family=\"sans-serif\" font-size=\"12\" font-style=\"italic\" lengthAdjust=\"spacingAndGlyphs\" textLength=\"35\" x=\"428.5\" y=\"59.457\">«part»</text><text fill=\"#000000\" font-family=\"sans-serif\" font-size=\"12\" lengthAdjust=\"spacingAndGlyphs\" textLength=\"47\" x=\"421\" y=\"74.5508\">eVehicle</text><line style=\"stroke: #383838; stroke-width: 1.5;\" x1=\"419\" x2=\"473\" y1=\"82.1875\" y2=\"82.1875\"/></a><!--MD5=[fd4143e9d270a159db93a4ea2a975926]\n",
       "class E9--><a href=\"psysml:5810369c-4677-4e2b-a18b-a1391d5a6e0d\" target=\"_top\" title=\"psysml:5810369c-4677-4e2b-a18b-a1391d5a6e0d\" xlink:actuate=\"onRequest\" xlink:href=\"psysml:5810369c-4677-4e2b-a18b-a1391d5a6e0d\" xlink:show=\"new\" xlink:title=\"psysml:5810369c-4677-4e2b-a18b-a1391d5a6e0d\" xlink:type=\"simple\"><rect fill=\"#FFFFFF\" height=\"48.1875\" id=\"E9\" rx=\"10\" ry=\"10\" style=\"stroke: #383838; stroke-width: 1.5;\" width=\"37\" x=\"32.5\" y=\"173\"/><text fill=\"#000000\" font-family=\"sans-serif\" font-size=\"12\" font-style=\"italic\" lengthAdjust=\"spacingAndGlyphs\" textLength=\"35\" x=\"33.5\" y=\"190.457\">«part»</text><text fill=\"#000000\" font-family=\"sans-serif\" font-size=\"12\" lengthAdjust=\"spacingAndGlyphs\" textLength=\"26\" x=\"36.5\" y=\"205.5508\">body</text><line style=\"stroke: #383838; stroke-width: 1.5;\" x1=\"33.5\" x2=\"68.5\" y1=\"213.1875\" y2=\"213.1875\"/></a><!--MD5=[96f4274e9e20536e775497830990834d]\n",
       "class E10--><a href=\"psysml:de46c7c1-fa88-4844-bb8f-86533e107dda\" target=\"_top\" title=\"psysml:de46c7c1-fa88-4844-bb8f-86533e107dda\" xlink:actuate=\"onRequest\" xlink:href=\"psysml:de46c7c1-fa88-4844-bb8f-86533e107dda\" xlink:show=\"new\" xlink:title=\"psysml:de46c7c1-fa88-4844-bb8f-86533e107dda\" xlink:type=\"simple\"><rect fill=\"#FFFFFF\" height=\"48.1875\" id=\"E10\" rx=\"10\" ry=\"10\" style=\"stroke: #383838; stroke-width: 1.5;\" width=\"45\" x=\"104.5\" y=\"173\"/><text fill=\"#000000\" font-family=\"sans-serif\" font-size=\"12\" font-style=\"italic\" lengthAdjust=\"spacingAndGlyphs\" textLength=\"35\" x=\"109.5\" y=\"190.457\">«part»</text><text fill=\"#000000\" font-family=\"sans-serif\" font-size=\"12\" lengthAdjust=\"spacingAndGlyphs\" textLength=\"36\" x=\"107.5\" y=\"205.5508\">battery</text><line style=\"stroke: #383838; stroke-width: 1.5;\" x1=\"105.5\" x2=\"148.5\" y1=\"213.1875\" y2=\"213.1875\"/></a><!--MD5=[1dd1bfd58a279cf63c5f349dbc8fc6a1]\n",
       "class E11--><a href=\"psysml:ac7a9d45-5ef9-4b2d-a176-e828c1ac4887\" target=\"_top\" title=\"psysml:ac7a9d45-5ef9-4b2d-a176-e828c1ac4887\" xlink:actuate=\"onRequest\" xlink:href=\"psysml:ac7a9d45-5ef9-4b2d-a176-e828c1ac4887\" xlink:show=\"new\" xlink:title=\"psysml:ac7a9d45-5ef9-4b2d-a176-e828c1ac4887\" xlink:type=\"simple\"><rect fill=\"#FFFFFF\" height=\"48.1875\" id=\"E11\" rx=\"10\" ry=\"10\" style=\"stroke: #383838; stroke-width: 1.5;\" width=\"47\" x=\"184.5\" y=\"173\"/><text fill=\"#000000\" font-family=\"sans-serif\" font-size=\"12\" font-style=\"italic\" lengthAdjust=\"spacingAndGlyphs\" textLength=\"35\" x=\"190.5\" y=\"190.457\">«part»</text><text fill=\"#000000\" font-family=\"sans-serif\" font-size=\"12\" lengthAdjust=\"spacingAndGlyphs\" textLength=\"38\" x=\"187.5\" y=\"205.5508\">engine</text><line style=\"stroke: #383838; stroke-width: 1.5;\" x1=\"185.5\" x2=\"230.5\" y1=\"213.1875\" y2=\"213.1875\"/></a><!--MD5=[49a0ec8f00dab7302a31f22d0f0fe584]\n",
       "class E12--><a href=\"psysml:89f6974c-800d-47c0-9a83-4adb54e8a907\" target=\"_top\" title=\"psysml:89f6974c-800d-47c0-9a83-4adb54e8a907\" xlink:actuate=\"onRequest\" xlink:href=\"psysml:89f6974c-800d-47c0-9a83-4adb54e8a907\" xlink:show=\"new\" xlink:title=\"psysml:89f6974c-800d-47c0-9a83-4adb54e8a907\" xlink:type=\"simple\"><rect fill=\"#FFFFFF\" height=\"48.1875\" id=\"E12\" rx=\"10\" ry=\"10\" style=\"stroke: #383838; stroke-width: 1.5;\" width=\"55\" x=\"266.5\" y=\"173\"/><text fill=\"#000000\" font-family=\"sans-serif\" font-size=\"12\" font-style=\"italic\" lengthAdjust=\"spacingAndGlyphs\" textLength=\"35\" x=\"276.5\" y=\"190.457\">«part»</text><text fill=\"#000000\" font-family=\"sans-serif\" font-size=\"12\" lengthAdjust=\"spacingAndGlyphs\" textLength=\"46\" x=\"269.5\" y=\"205.5508\">frontAxis</text><line style=\"stroke: #383838; stroke-width: 1.5;\" x1=\"267.5\" x2=\"320.5\" y1=\"213.1875\" y2=\"213.1875\"/></a><!--MD5=[ee3c913d1a06f366521f9ef512b67efe]\n",
       "class E13--><a href=\"psysml:b659622f-f32d-48fe-8767-bf01da0280bb\" target=\"_top\" title=\"psysml:b659622f-f32d-48fe-8767-bf01da0280bb\" xlink:actuate=\"onRequest\" xlink:href=\"psysml:b659622f-f32d-48fe-8767-bf01da0280bb\" xlink:show=\"new\" xlink:title=\"psysml:b659622f-f32d-48fe-8767-bf01da0280bb\" xlink:type=\"simple\"><rect fill=\"#FFFFFF\" height=\"48.1875\" id=\"E13\" rx=\"10\" ry=\"10\" style=\"stroke: #383838; stroke-width: 1.5;\" width=\"53\" x=\"356.5\" y=\"173\"/><text fill=\"#000000\" font-family=\"sans-serif\" font-size=\"12\" font-style=\"italic\" lengthAdjust=\"spacingAndGlyphs\" textLength=\"35\" x=\"365.5\" y=\"190.457\">«part»</text><text fill=\"#000000\" font-family=\"sans-serif\" font-size=\"12\" lengthAdjust=\"spacingAndGlyphs\" textLength=\"44\" x=\"359.5\" y=\"205.5508\">rearAxis</text><line style=\"stroke: #383838; stroke-width: 1.5;\" x1=\"357.5\" x2=\"408.5\" y1=\"213.1875\" y2=\"213.1875\"/></a><!--MD5=[bee11217b2f71d958a27249dc326068c]\n",
       "class E14--><a href=\"psysml:2849e0e2-ceba-4899-a426-94b40e5d0100\" target=\"_top\" title=\"psysml:2849e0e2-ceba-4899-a426-94b40e5d0100\" xlink:actuate=\"onRequest\" xlink:href=\"psysml:2849e0e2-ceba-4899-a426-94b40e5d0100\" xlink:show=\"new\" xlink:title=\"psysml:2849e0e2-ceba-4899-a426-94b40e5d0100\" xlink:type=\"simple\"><rect fill=\"#FFFFFF\" height=\"48.1875\" id=\"E14\" rx=\"10\" ry=\"10\" style=\"stroke: #383838; stroke-width: 1.5;\" width=\"137\" x=\"584.5\" y=\"304\"/><text fill=\"#000000\" font-family=\"sans-serif\" font-size=\"12\" font-style=\"italic\" lengthAdjust=\"spacingAndGlyphs\" textLength=\"35\" x=\"635.5\" y=\"321.457\">«part»</text><text fill=\"#000000\" font-family=\"sans-serif\" font-size=\"12\" lengthAdjust=\"spacingAndGlyphs\" textLength=\"128\" x=\"587.5\" y=\"336.5508\">frontWheel: FrontWheel</text><line style=\"stroke: #383838; stroke-width: 1.5;\" x1=\"585.5\" x2=\"720.5\" y1=\"344.1875\" y2=\"344.1875\"/></a><!--MD5=[0c48fb7552dae8cbbef69381101a84c8]\n",
       "class E15--><a href=\"psysml:073ee1e2-d9ac-483d-b0a4-97d7d3e606eb\" target=\"_top\" title=\"psysml:073ee1e2-d9ac-483d-b0a4-97d7d3e606eb\" xlink:actuate=\"onRequest\" xlink:href=\"psysml:073ee1e2-d9ac-483d-b0a4-97d7d3e606eb\" xlink:show=\"new\" xlink:title=\"psysml:073ee1e2-d9ac-483d-b0a4-97d7d3e606eb\" xlink:type=\"simple\"><rect fill=\"#FFFFFF\" height=\"93.6953\" id=\"E15\" rx=\"10\" ry=\"10\" style=\"stroke: #383838; stroke-width: 1.5;\" width=\"213\" x=\"482.5\" y=\"150\"/><text fill=\"#000000\" font-family=\"sans-serif\" font-size=\"12\" font-style=\"italic\" lengthAdjust=\"spacingAndGlyphs\" textLength=\"35\" x=\"571.5\" y=\"167.457\">«part»</text><text fill=\"#000000\" font-family=\"sans-serif\" font-size=\"12\" lengthAdjust=\"spacingAndGlyphs\" textLength=\"207\" x=\"485.5\" y=\"182.5508\">frontLeftWheel :&gt; eVehicle::frontWheel</text><line style=\"stroke: #383838; stroke-width: 1.5;\" x1=\"483.5\" x2=\"694.5\" y1=\"190.1875\" y2=\"190.1875\"/><text fill=\"#000000\" font-family=\"sans-serif\" font-size=\"11\" lengthAdjust=\"spacingAndGlyphs\" textLength=\"106\" x=\"488.5\" y=\"223.4424\">currentPressure= 1.6;</text><text fill=\"#000000\" font-family=\"sans-serif\" font-size=\"11\" font-style=\"italic\" lengthAdjust=\"spacingAndGlyphs\" textLength=\"133\" x=\"488.5\" y=\"237.2783\">:&gt;&gt;Wheel::currentPressure</text><line style=\"stroke: #383838; stroke-width: 1.0;\" x1=\"483.5\" x2=\"562\" y1=\"205.1055\" y2=\"205.1055\"/><text fill=\"#000000\" font-family=\"sans-serif\" font-size=\"11\" lengthAdjust=\"spacingAndGlyphs\" textLength=\"54\" x=\"562\" y=\"209.1064\">references</text><line style=\"stroke: #383838; stroke-width: 1.0;\" x1=\"616\" x2=\"694.5\" y1=\"205.1055\" y2=\"205.1055\"/></a><!--MD5=[35f0587eaee8d5bb9a02e25b63afc23b]\n",
       "class E16--><a href=\"psysml:c7bd54a8-6908-402a-82c4-7e5755640abf\" target=\"_top\" title=\"psysml:c7bd54a8-6908-402a-82c4-7e5755640abf\" xlink:actuate=\"onRequest\" xlink:href=\"psysml:c7bd54a8-6908-402a-82c4-7e5755640abf\" xlink:show=\"new\" xlink:title=\"psysml:c7bd54a8-6908-402a-82c4-7e5755640abf\" xlink:type=\"simple\"><rect fill=\"#FFFFFF\" height=\"93.6953\" id=\"E16\" rx=\"10\" ry=\"10\" style=\"stroke: #383838; stroke-width: 1.5;\" width=\"222\" x=\"731\" y=\"150\"/><text fill=\"#000000\" font-family=\"sans-serif\" font-size=\"12\" font-style=\"italic\" lengthAdjust=\"spacingAndGlyphs\" textLength=\"35\" x=\"824.5\" y=\"167.457\">«part»</text><text fill=\"#000000\" font-family=\"sans-serif\" font-size=\"12\" lengthAdjust=\"spacingAndGlyphs\" textLength=\"216\" x=\"734\" y=\"182.5508\">frontRightWheel :&gt; eVehicle::frontWheel</text><line style=\"stroke: #383838; stroke-width: 1.5;\" x1=\"732\" x2=\"952\" y1=\"190.1875\" y2=\"190.1875\"/><text fill=\"#000000\" font-family=\"sans-serif\" font-size=\"11\" lengthAdjust=\"spacingAndGlyphs\" textLength=\"106\" x=\"737\" y=\"223.4424\">currentPressure= 1.8;</text><text fill=\"#000000\" font-family=\"sans-serif\" font-size=\"11\" font-style=\"italic\" lengthAdjust=\"spacingAndGlyphs\" textLength=\"133\" x=\"737\" y=\"237.2783\">:&gt;&gt;Wheel::currentPressure</text><line style=\"stroke: #383838; stroke-width: 1.0;\" x1=\"732\" x2=\"815\" y1=\"205.1055\" y2=\"205.1055\"/><text fill=\"#000000\" font-family=\"sans-serif\" font-size=\"11\" lengthAdjust=\"spacingAndGlyphs\" textLength=\"54\" x=\"815\" y=\"209.1064\">references</text><line style=\"stroke: #383838; stroke-width: 1.0;\" x1=\"869\" x2=\"952\" y1=\"205.1055\" y2=\"205.1055\"/></a><!--MD5=[60e55a4a9b2f0dc0a36787c5a2095786]\n",
       "class E17--><a href=\"psysml:796e965c-a48e-4033-915f-3bb4ac7dd494\" target=\"_top\" title=\"psysml:796e965c-a48e-4033-915f-3bb4ac7dd494\" xlink:actuate=\"onRequest\" xlink:href=\"psysml:796e965c-a48e-4033-915f-3bb4ac7dd494\" xlink:show=\"new\" xlink:title=\"psysml:796e965c-a48e-4033-915f-3bb4ac7dd494\" xlink:type=\"simple\"><rect fill=\"#FFFFFF\" height=\"48.1875\" id=\"E17\" rx=\"10\" ry=\"10\" style=\"stroke: #383838; stroke-width: 1.5;\" width=\"134\" x=\"992\" y=\"304\"/><text fill=\"#000000\" font-family=\"sans-serif\" font-size=\"12\" font-style=\"italic\" lengthAdjust=\"spacingAndGlyphs\" textLength=\"35\" x=\"1041.5\" y=\"321.457\">«part»</text><text fill=\"#000000\" font-family=\"sans-serif\" font-size=\"12\" lengthAdjust=\"spacingAndGlyphs\" textLength=\"125\" x=\"995\" y=\"336.5508\">rearWheel: RearWheel</text><line style=\"stroke: #383838; stroke-width: 1.5;\" x1=\"993\" x2=\"1125\" y1=\"344.1875\" y2=\"344.1875\"/></a><!--MD5=[e3af68e2095dcd46cf4beab32f25c64b]\n",
       "class E18--><a href=\"psysml:77ac1a7b-5511-42d3-9ec9-84500d595667\" target=\"_top\" title=\"psysml:77ac1a7b-5511-42d3-9ec9-84500d595667\" xlink:actuate=\"onRequest\" xlink:href=\"psysml:77ac1a7b-5511-42d3-9ec9-84500d595667\" xlink:show=\"new\" xlink:title=\"psysml:77ac1a7b-5511-42d3-9ec9-84500d595667\" xlink:type=\"simple\"><rect fill=\"#FFFFFF\" height=\"93.6953\" id=\"E18\" rx=\"10\" ry=\"10\" style=\"stroke: #383838; stroke-width: 1.5;\" width=\"209\" x=\"1025.5\" y=\"150\"/><text fill=\"#000000\" font-family=\"sans-serif\" font-size=\"12\" font-style=\"italic\" lengthAdjust=\"spacingAndGlyphs\" textLength=\"35\" x=\"1112.5\" y=\"167.457\">«part»</text><text fill=\"#000000\" font-family=\"sans-serif\" font-size=\"12\" lengthAdjust=\"spacingAndGlyphs\" textLength=\"203\" x=\"1028.5\" y=\"182.5508\">rearLeftWheel :&gt; eVehicle::rearWheel</text><line style=\"stroke: #383838; stroke-width: 1.5;\" x1=\"1026.5\" x2=\"1233.5\" y1=\"190.1875\" y2=\"190.1875\"/><text fill=\"#000000\" font-family=\"sans-serif\" font-size=\"11\" lengthAdjust=\"spacingAndGlyphs\" textLength=\"106\" x=\"1031.5\" y=\"223.4424\">currentPressure= 2.4;</text><text fill=\"#000000\" font-family=\"sans-serif\" font-size=\"11\" font-style=\"italic\" lengthAdjust=\"spacingAndGlyphs\" textLength=\"133\" x=\"1031.5\" y=\"237.2783\">:&gt;&gt;Wheel::currentPressure</text><line style=\"stroke: #383838; stroke-width: 1.0;\" x1=\"1026.5\" x2=\"1103\" y1=\"205.1055\" y2=\"205.1055\"/><text fill=\"#000000\" font-family=\"sans-serif\" font-size=\"11\" lengthAdjust=\"spacingAndGlyphs\" textLength=\"54\" x=\"1103\" y=\"209.1064\">references</text><line style=\"stroke: #383838; stroke-width: 1.0;\" x1=\"1157\" x2=\"1233.5\" y1=\"205.1055\" y2=\"205.1055\"/></a><!--MD5=[2afd267d199484aabbd2f23ded056bb0]\n",
       "class E19--><a href=\"psysml:70114f71-7675-4876-98b5-561334093438\" target=\"_top\" title=\"psysml:70114f71-7675-4876-98b5-561334093438\" xlink:actuate=\"onRequest\" xlink:href=\"psysml:70114f71-7675-4876-98b5-561334093438\" xlink:show=\"new\" xlink:title=\"psysml:70114f71-7675-4876-98b5-561334093438\" xlink:type=\"simple\"><rect fill=\"#FFFFFF\" height=\"93.6953\" id=\"E19\" rx=\"10\" ry=\"10\" style=\"stroke: #383838; stroke-width: 1.5;\" width=\"218\" x=\"1270\" y=\"150\"/><text fill=\"#000000\" font-family=\"sans-serif\" font-size=\"12\" font-style=\"italic\" lengthAdjust=\"spacingAndGlyphs\" textLength=\"35\" x=\"1361.5\" y=\"167.457\">«part»</text><text fill=\"#000000\" font-family=\"sans-serif\" font-size=\"12\" lengthAdjust=\"spacingAndGlyphs\" textLength=\"212\" x=\"1273\" y=\"182.5508\">rearRightWheel :&gt; eVehicle::rearWheel</text><line style=\"stroke: #383838; stroke-width: 1.5;\" x1=\"1271\" x2=\"1487\" y1=\"190.1875\" y2=\"190.1875\"/><text fill=\"#000000\" font-family=\"sans-serif\" font-size=\"11\" lengthAdjust=\"spacingAndGlyphs\" textLength=\"106\" x=\"1276\" y=\"223.4424\">currentPressure= 2.5;</text><text fill=\"#000000\" font-family=\"sans-serif\" font-size=\"11\" font-style=\"italic\" lengthAdjust=\"spacingAndGlyphs\" textLength=\"133\" x=\"1276\" y=\"237.2783\">:&gt;&gt;Wheel::currentPressure</text><line style=\"stroke: #383838; stroke-width: 1.0;\" x1=\"1271\" x2=\"1352\" y1=\"205.1055\" y2=\"205.1055\"/><text fill=\"#000000\" font-family=\"sans-serif\" font-size=\"11\" lengthAdjust=\"spacingAndGlyphs\" textLength=\"54\" x=\"1352\" y=\"209.1064\">references</text><line style=\"stroke: #383838; stroke-width: 1.0;\" x1=\"1406\" x2=\"1487\" y1=\"205.1055\" y2=\"205.1055\"/></a><!--MD5=[4672eba38e49728da53d11aeb285b987]\n",
       "reverse link E3 to E4--><a href=\"psysml:bae138c0-e0a8-41a9-bff7-dfff748cd317\" target=\"_top\" title=\"psysml:bae138c0-e0a8-41a9-bff7-dfff748cd317\" xlink:actuate=\"onRequest\" xlink:href=\"psysml:bae138c0-e0a8-41a9-bff7-dfff748cd317\" xlink:show=\"new\" xlink:title=\"psysml:bae138c0-e0a8-41a9-bff7-dfff748cd317\" xlink:type=\"simple\"><path d=\"M794,687.8 C794,703.34 794,719.53 794,733.94 \" fill=\"none\" id=\"E3&lt;-E4\" style=\"stroke: #383838; stroke-width: 1.0;\"/><polygon fill=\"#383838\" points=\"794,674.39,790,680.39,794,686.39,798,680.39,794,674.39\" style=\"stroke: #383838; stroke-width: 1.0;\"/></a><!--MD5=[1215d52114495cf35c63de9a53fffc82]\n",
       "link E4 to E7--><a href=\"psysml:1f256db9-cbb7-411f-ab31-d3ea34fbd216\" target=\"_top\" title=\"psysml:1f256db9-cbb7-411f-ab31-d3ea34fbd216\" xlink:actuate=\"onRequest\" xlink:href=\"psysml:1f256db9-cbb7-411f-ab31-d3ea34fbd216\" xlink:show=\"new\" xlink:title=\"psysml:1f256db9-cbb7-411f-ab31-d3ea34fbd216\" xlink:type=\"simple\"><path d=\"M794,828.28 C794,840.9 794,854.74 794,867.96 \" fill=\"none\" id=\"E4-&gt;E7\" style=\"stroke: #383838; stroke-width: 1.0;\"/><polygon fill=\"#FFFFFF\" points=\"794,887.97,787,868.97,801,868.97,794,887.97\" style=\"stroke: #383838; stroke-width: 1.0;\"/><ellipse cx=\"789\" cy=\"863.27\" fill=\"#383838\" rx=\"2\" ry=\"2\" style=\"stroke: #383838; stroke-width: 1.0;\"/><ellipse cx=\"799\" cy=\"863.27\" fill=\"#383838\" rx=\"2\" ry=\"2\" style=\"stroke: #383838; stroke-width: 1.0;\"/></a><!--MD5=[e9be52314489bd878ff4c7144b63c9e1]\n",
       "link E5 to E3--><a href=\"psysml:044abe3e-9ab9-485b-aa20-d2d0579cfeaa\" target=\"_top\" title=\"psysml:044abe3e-9ab9-485b-aa20-d2d0579cfeaa\" xlink:actuate=\"onRequest\" xlink:href=\"psysml:044abe3e-9ab9-485b-aa20-d2d0579cfeaa\" xlink:show=\"new\" xlink:title=\"psysml:044abe3e-9ab9-485b-aa20-d2d0579cfeaa\" xlink:type=\"simple\"><path d=\"M735.23,506.42 C741.98,519.35 749.48,533.72 756.8,547.73 \" fill=\"none\" id=\"E5-&gt;E3\" style=\"stroke: #383838; stroke-width: 1.0;\"/><polygon fill=\"none\" points=\"763.18,544.84,766.23,565.81,750.77,551.32,763.18,544.84\" style=\"stroke: #383838; stroke-width: 1.0;\"/></a><!--MD5=[a717450b82c80b9240a525fa862496af]\n",
       "link E6 to E3--><a href=\"psysml:baf66939-edca-46c6-b221-0478ad7a519e\" target=\"_top\" title=\"psysml:baf66939-edca-46c6-b221-0478ad7a519e\" xlink:actuate=\"onRequest\" xlink:href=\"psysml:baf66939-edca-46c6-b221-0478ad7a519e\" xlink:show=\"new\" xlink:title=\"psysml:baf66939-edca-46c6-b221-0478ad7a519e\" xlink:type=\"simple\"><path d=\"M935.88,506.2 C917.05,521.18 895.79,538.08 875.57,554.15 \" fill=\"none\" id=\"E6-&gt;E3\" style=\"stroke: #383838; stroke-width: 1.0;\"/><polygon fill=\"none\" points=\"879.66,559.85,859.64,566.81,870.94,548.89,879.66,559.85\" style=\"stroke: #383838; stroke-width: 1.0;\"/></a><!--MD5=[22f5b4bae7e060dce8a1c8021efdb95b]\n",
       "reverse link E8 to E9--><a href=\"psysml:34fc0b77-87d0-4845-b4ea-104a5ae55299\" target=\"_top\" title=\"psysml:34fc0b77-87d0-4845-b4ea-104a5ae55299\" xlink:actuate=\"onRequest\" xlink:href=\"psysml:34fc0b77-87d0-4845-b4ea-104a5ae55299\" xlink:show=\"new\" xlink:title=\"psysml:34fc0b77-87d0-4845-b4ea-104a5ae55299\" xlink:type=\"simple\"><path d=\"M404.9,67.79 C334.46,70.93 188.43,85.42 87,150 C78.1,155.66 70.49,164.32 64.59,172.6 \" fill=\"none\" id=\"E8&lt;-E9\" style=\"stroke: #383838; stroke-width: 1.0;\"/><polygon fill=\"#383838\" points=\"417.95,67.3,411.8047,63.5271,405.9584,67.7485,412.1037,71.5215,417.95,67.3\" style=\"stroke: #383838; stroke-width: 1.0;\"/><text fill=\"#000000\" font-family=\"sans-serif\" font-size=\"13\" lengthAdjust=\"spacingAndGlyphs\" textLength=\"7\" x=\"60.0494\" y=\"162.2176\">1</text></a><!--MD5=[82b7655495be5c02ec58611e6ac45fcc]\n",
       "reverse link E8 to E10--><a href=\"psysml:3e16d615-7823-4850-b344-bfa851389dc8\" target=\"_top\" title=\"psysml:3e16d615-7823-4850-b344-bfa851389dc8\" xlink:actuate=\"onRequest\" xlink:href=\"psysml:3e16d615-7823-4850-b344-bfa851389dc8\" xlink:show=\"new\" xlink:title=\"psysml:3e16d615-7823-4850-b344-bfa851389dc8\" xlink:type=\"simple\"><path d=\"M404.54,71.95 C347.23,80.34 242.36,101.47 167,150 C157.75,155.96 149.41,164.67 142.77,172.91 \" fill=\"none\" id=\"E8&lt;-E10\" style=\"stroke: #383838; stroke-width: 1.0;\"/><polygon fill=\"#383838\" points=\"417.7,70.12,411.2072,66.9825,405.8138,71.769,412.3066,74.9066,417.7,70.12\" style=\"stroke: #383838; stroke-width: 1.0;\"/><text fill=\"#000000\" font-family=\"sans-serif\" font-size=\"13\" lengthAdjust=\"spacingAndGlyphs\" textLength=\"7\" x=\"138.9142\" y=\"162.2031\">1</text></a><!--MD5=[b208543202a0cdca1f032c532d95d528]\n",
       "reverse link E8 to E11--><a href=\"psysml:a34f49d4-3892-4d84-ae88-ce302420d534\" target=\"_top\" title=\"psysml:a34f49d4-3892-4d84-ae88-ce302420d534\" xlink:actuate=\"onRequest\" xlink:href=\"psysml:a34f49d4-3892-4d84-ae88-ce302420d534\" xlink:show=\"new\" xlink:title=\"psysml:a34f49d4-3892-4d84-ae88-ce302420d534\" xlink:type=\"simple\"><path d=\"M405.23,78.32 C363.41,91.22 297.76,115.13 249,150 C240.12,156.35 231.81,164.94 225.02,172.98 \" fill=\"none\" id=\"E8&lt;-E11\" style=\"stroke: #383838; stroke-width: 1.0;\"/><polygon fill=\"#383838\" points=\"417.92,74.52,411.025,72.4084,406.4239,77.9609,413.3189,80.0725,417.92,74.52\" style=\"stroke: #383838; stroke-width: 1.0;\"/><text fill=\"#000000\" font-family=\"sans-serif\" font-size=\"13\" lengthAdjust=\"spacingAndGlyphs\" textLength=\"7\" x=\"221.4845\" y=\"162.291\">1</text></a><!--MD5=[76d3a6349496c49c7c88a3fcc65b111c]\n",
       "reverse link E8 to E12--><a href=\"psysml:b3f37df1-fdbc-4304-be6d-0e3a898916c1\" target=\"_top\" title=\"psysml:b3f37df1-fdbc-4304-be6d-0e3a898916c1\" xlink:actuate=\"onRequest\" xlink:href=\"psysml:b3f37df1-fdbc-4304-be6d-0e3a898916c1\" xlink:show=\"new\" xlink:title=\"psysml:b3f37df1-fdbc-4304-be6d-0e3a898916c1\" xlink:type=\"simple\"><path d=\"M407.23,95.06 C386.44,110.6 360.72,130.64 339,150 C330.99,157.14 322.66,165.39 315.38,172.92 \" fill=\"none\" id=\"E8&lt;-E12\" style=\"stroke: #383838; stroke-width: 1.0;\"/><polygon fill=\"#383838\" points=\"417.9,87.15,410.6979,87.5104,408.2606,94.2971,415.4627,93.9367,417.9,87.15\" style=\"stroke: #383838; stroke-width: 1.0;\"/><text fill=\"#000000\" font-family=\"sans-serif\" font-size=\"13\" lengthAdjust=\"spacingAndGlyphs\" textLength=\"7\" x=\"312.9618\" y=\"162.2156\">1</text></a><!--MD5=[8bc2033689eb83f716558f54ce0ff2b5]\n",
       "reverse link E8 to E13--><a href=\"psysml:eaac571c-ebb0-463c-a6ba-4fb5ee7ec70b\" target=\"_top\" title=\"psysml:eaac571c-ebb0-463c-a6ba-4fb5ee7ec70b\" xlink:actuate=\"onRequest\" xlink:href=\"psysml:eaac571c-ebb0-463c-a6ba-4fb5ee7ec70b\" xlink:show=\"new\" xlink:title=\"psysml:eaac571c-ebb0-463c-a6ba-4fb5ee7ec70b\" xlink:type=\"simple\"><path d=\"M428.99,101.82 C418.01,124.31 404.03,152.94 394.38,172.7 \" fill=\"none\" id=\"E8&lt;-E13\" style=\"stroke: #383838; stroke-width: 1.0;\"/><polygon fill=\"#383838\" points=\"434.74,90.06,428.5145,93.6991,429.4792,100.8453,435.7047,97.2063,434.74,90.06\" style=\"stroke: #383838; stroke-width: 1.0;\"/><text fill=\"#000000\" font-family=\"sans-serif\" font-size=\"13\" lengthAdjust=\"spacingAndGlyphs\" textLength=\"7\" x=\"389.3008\" y=\"162.342\">1</text></a><!--MD5=[64b2ac371c086bb7fc0d5f80626f4057]\n",
       "reverse link E8 to E14--><a href=\"psysml:b1c42dbd-42a2-4242-a70c-992ac82f1908\" target=\"_top\" title=\"psysml:b1c42dbd-42a2-4242-a70c-992ac82f1908\" xlink:actuate=\"onRequest\" xlink:href=\"psysml:b1c42dbd-42a2-4242-a70c-992ac82f1908\" xlink:show=\"new\" xlink:title=\"psysml:b1c42dbd-42a2-4242-a70c-992ac82f1908\" xlink:type=\"simple\"><path d=\"M440.03,103.13 C435.71,141.77 435.06,203.02 465,244 C493.1,282.46 543.02,303.38 584.36,314.59 \" fill=\"none\" id=\"E8&lt;-E14\" style=\"stroke: #383838; stroke-width: 1.0;\"/><polygon fill=\"#383838\" points=\"441.7,90.23,436.9614,95.6656,440.1564,102.1303,444.895,96.6947,441.7,90.23\" style=\"stroke: #383838; stroke-width: 1.0;\"/><text fill=\"#000000\" font-family=\"sans-serif\" font-size=\"13\" lengthAdjust=\"spacingAndGlyphs\" textLength=\"7\" x=\"569.4697\" y=\"309.7524\">2</text></a><!--MD5=[111e5536516ee1ad7d4266f589654f03]\n",
       "link E14 to E5--><a href=\"psysml:703a1293-b7d6-4131-afad-a930a116c08f\" target=\"_top\" title=\"psysml:703a1293-b7d6-4131-afad-a930a116c08f\" xlink:actuate=\"onRequest\" xlink:href=\"psysml:703a1293-b7d6-4131-afad-a930a116c08f\" xlink:show=\"new\" xlink:title=\"psysml:703a1293-b7d6-4131-afad-a930a116c08f\" xlink:type=\"simple\"><path d=\"M663.37,352.06 C668.62,363.73 675.27,378.54 681.93,393.36 \" fill=\"none\" id=\"E14-&gt;E5\" style=\"stroke: #383838; stroke-width: 1.0;\"/><polygon fill=\"#FFFFFF\" points=\"690.27,411.89,676.0957,397.43,688.8651,391.6903,690.27,411.89\" style=\"stroke: #383838; stroke-width: 1.0;\"/><ellipse cx=\"675.5831\" cy=\"391.4111\" fill=\"#383838\" rx=\"2\" ry=\"2\" style=\"stroke: #383838; stroke-width: 1.0;\"/><ellipse cx=\"684.704\" cy=\"387.3114\" fill=\"#383838\" rx=\"2\" ry=\"2\" style=\"stroke: #383838; stroke-width: 1.0;\"/></a><!--MD5=[c6b8a1d9e4d4036a8391585c1674f037]\n",
       "reverse link E8 to E15--><a href=\"psysml:8d446292-cb58-4dd6-8943-4a21bc1fd76f\" target=\"_top\" title=\"psysml:8d446292-cb58-4dd6-8943-4a21bc1fd76f\" xlink:actuate=\"onRequest\" xlink:href=\"psysml:8d446292-cb58-4dd6-8943-4a21bc1fd76f\" xlink:show=\"new\" xlink:title=\"psysml:8d446292-cb58-4dd6-8943-4a21bc1fd76f\" xlink:type=\"simple\"><path d=\"M481.62,99.14 C498.62,114.47 519.26,133.09 537.89,149.89 \" fill=\"none\" id=\"E8&lt;-E15\" style=\"stroke: #383838; stroke-width: 1.0;\"/><polygon fill=\"#383838\" points=\"471.57,90.06,473.3448,97.0493,480.479,98.0992,478.7043,91.1099,471.57,90.06\" style=\"stroke: #383838; stroke-width: 1.0;\"/><text fill=\"#000000\" font-family=\"sans-serif\" font-size=\"13\" lengthAdjust=\"spacingAndGlyphs\" textLength=\"7\" x=\"522.5278\" y=\"138.9966\">2</text></a><!--MD5=[4ce51ac6fa4cf5202df3859e2718f033]\n",
       "link E15 to E14--><a href=\"psysml:eb284223-685c-46f1-bd14-ebbb72a0e6f9\" target=\"_top\" title=\"psysml:eb284223-685c-46f1-bd14-ebbb72a0e6f9\" xlink:actuate=\"onRequest\" xlink:href=\"psysml:eb284223-685c-46f1-bd14-ebbb72a0e6f9\" xlink:show=\"new\" xlink:title=\"psysml:eb284223-685c-46f1-bd14-ebbb72a0e6f9\" xlink:type=\"simple\"><path d=\"M611.92,244.21 C618.67,257.81 626.01,272.59 632.59,285.85 \" fill=\"none\" id=\"E15-&gt;E14\" style=\"stroke: #383838; stroke-width: 1.0;\"/><polygon fill=\"none\" points=\"638.91,282.85,641.53,303.88,626.37,289.07,638.91,282.85\" style=\"stroke: #383838; stroke-width: 1.0;\"/></a><!--MD5=[49aeb5ff68e8777812f3da6de68c0f71]\n",
       "reverse link E8 to E16--><a href=\"psysml:99de1d14-a6b8-4fd9-b90b-8ea006d8c2b2\" target=\"_top\" title=\"psysml:99de1d14-a6b8-4fd9-b90b-8ea006d8c2b2\" xlink:actuate=\"onRequest\" xlink:href=\"psysml:99de1d14-a6b8-4fd9-b90b-8ea006d8c2b2\" xlink:show=\"new\" xlink:title=\"psysml:99de1d14-a6b8-4fd9-b90b-8ea006d8c2b2\" xlink:type=\"simple\"><path d=\"M486.93,79.15 C539.47,94.88 633.36,123.44 713,150 C718.86,151.96 724.87,153.99 730.92,156.06 \" fill=\"none\" id=\"E8&lt;-E16\" style=\"stroke: #383838; stroke-width: 1.0;\"/><polygon fill=\"#383838\" points=\"474.18,75.35,478.7869,80.8976,485.6797,78.7788,481.0728,73.2312,474.18,75.35\" style=\"stroke: #383838; stroke-width: 1.0;\"/><text fill=\"#000000\" font-family=\"sans-serif\" font-size=\"13\" lengthAdjust=\"spacingAndGlyphs\" textLength=\"7\" x=\"715.8636\" y=\"150.1371\">2</text></a><!--MD5=[1e2fab08dad458ff1af78ebebd2e1e68]\n",
       "link E16 to E14--><a href=\"psysml:1a17281b-eed3-4b18-9ac3-0a4ed274ff2c\" target=\"_top\" title=\"psysml:1a17281b-eed3-4b18-9ac3-0a4ed274ff2c\" xlink:actuate=\"onRequest\" xlink:href=\"psysml:1a17281b-eed3-4b18-9ac3-0a4ed274ff2c\" xlink:show=\"new\" xlink:title=\"psysml:1a17281b-eed3-4b18-9ac3-0a4ed274ff2c\" xlink:type=\"simple\"><path d=\"M774.57,244.03 C751.06,260.07 725.12,277.78 703.25,292.7 \" fill=\"none\" id=\"E16-&gt;E14\" style=\"stroke: #383838; stroke-width: 1.0;\"/><polygon fill=\"none\" points=\"707.18,298.49,686.72,303.99,699.29,286.93,707.18,298.49\" style=\"stroke: #383838; stroke-width: 1.0;\"/></a><!--MD5=[857b21cd08e2f008079286b00896dd15]\n",
       "reverse link E8 to E17--><a href=\"psysml:ff96114f-b83f-4247-8352-d8317e121649\" target=\"_top\" title=\"psysml:ff96114f-b83f-4247-8352-d8317e121649\" xlink:actuate=\"onRequest\" xlink:href=\"psysml:ff96114f-b83f-4247-8352-d8317e121649\" xlink:show=\"new\" xlink:title=\"psysml:ff96114f-b83f-4247-8352-d8317e121649\" xlink:type=\"simple\"><path d=\"M487.16,68.35 C597.45,72.74 896.29,90.04 971,150 C1006.02,178.1 987.95,203.83 1008,244 C1018.42,264.88 1032.43,287.37 1043.13,303.66 \" fill=\"none\" id=\"E8&lt;-E17\" style=\"stroke: #383838; stroke-width: 1.0;\"/><polygon fill=\"#383838\" points=\"474.08,67.85,479.9217,72.0779,486.0711,68.3117,480.2295,64.0838,474.08,67.85\" style=\"stroke: #383838; stroke-width: 1.0;\"/><text fill=\"#000000\" font-family=\"sans-serif\" font-size=\"13\" lengthAdjust=\"spacingAndGlyphs\" textLength=\"7\" x=\"1031.4086\" y=\"293.2922\">2</text></a><!--MD5=[64bce21803b9e011c394f64f65e43f95]\n",
       "link E17 to E6--><a href=\"psysml:0d3387f4-b115-41aa-bca4-5f846fe0f8a2\" target=\"_top\" title=\"psysml:0d3387f4-b115-41aa-bca4-5f846fe0f8a2\" xlink:actuate=\"onRequest\" xlink:href=\"psysml:0d3387f4-b115-41aa-bca4-5f846fe0f8a2\" xlink:show=\"new\" xlink:title=\"psysml:0d3387f4-b115-41aa-bca4-5f846fe0f8a2\" xlink:type=\"simple\"><path d=\"M1047.38,352.06 C1041.43,363.86 1033.87,378.87 1026.32,393.85 \" fill=\"none\" id=\"E17-&gt;E6\" style=\"stroke: #383838; stroke-width: 1.0;\"/><polygon fill=\"#FFFFFF\" points=\"1017.23,411.89,1019.5304,391.7726,1032.0323,398.0736,1017.23,411.89\" style=\"stroke: #383838; stroke-width: 1.0;\"/><ellipse cx=\"1023.8817\" cy=\"387.5827\" fill=\"#383838\" rx=\"2\" ry=\"2\" style=\"stroke: #383838; stroke-width: 1.0;\"/><ellipse cx=\"1032.8117\" cy=\"392.0834\" fill=\"#383838\" rx=\"2\" ry=\"2\" style=\"stroke: #383838; stroke-width: 1.0;\"/></a><!--MD5=[f3b456120c0bad199cae8bae9906680b]\n",
       "reverse link E8 to E18--><a href=\"psysml:e2ea2818-9713-48cb-b275-3dd4174eacfe\" target=\"_top\" title=\"psysml:e2ea2818-9713-48cb-b275-3dd4174eacfe\" xlink:actuate=\"onRequest\" xlink:href=\"psysml:e2ea2818-9713-48cb-b275-3dd4174eacfe\" xlink:show=\"new\" xlink:title=\"psysml:e2ea2818-9713-48cb-b275-3dd4174eacfe\" xlink:type=\"simple\"><path d=\"M487.36,70.56 C579.9,79.12 810.3,103.61 998,150 C1006.95,152.21 1016.16,154.78 1025.34,157.55 \" fill=\"none\" id=\"E8&lt;-E18\" style=\"stroke: #383838; stroke-width: 1.0;\"/><polygon fill=\"#383838\" points=\"474.22,69.37,479.8301,73.9007,486.17,70.4648,480.5599,65.9341,474.22,69.37\" style=\"stroke: #383838; stroke-width: 1.0;\"/><text fill=\"#000000\" font-family=\"sans-serif\" font-size=\"13\" lengthAdjust=\"spacingAndGlyphs\" textLength=\"7\" x=\"1010.397\" y=\"151.5846\">2</text></a><!--MD5=[e7b2aee0a4902a5fa33e95dd9bbaa8ae]\n",
       "link E18 to E17--><a href=\"psysml:f5f70315-99f9-4435-adec-148d85842ae6\" target=\"_top\" title=\"psysml:f5f70315-99f9-4435-adec-148d85842ae6\" xlink:actuate=\"onRequest\" xlink:href=\"psysml:f5f70315-99f9-4435-adec-148d85842ae6\" xlink:show=\"new\" xlink:title=\"psysml:f5f70315-99f9-4435-adec-148d85842ae6\" xlink:type=\"simple\"><path d=\"M1104.57,244.21 C1097,257.97 1088.76,272.94 1081.39,286.31 \" fill=\"none\" id=\"E18-&gt;E17\" style=\"stroke: #383838; stroke-width: 1.0;\"/><polygon fill=\"none\" points=\"1087.5,289.73,1071.73,303.88,1075.24,282.98,1087.5,289.73\" style=\"stroke: #383838; stroke-width: 1.0;\"/></a><!--MD5=[c3dbf7a39b87474106eadec697c82412]\n",
       "reverse link E8 to E19--><a href=\"psysml:74071c80-b16e-49c7-bb46-c4404878858f\" target=\"_top\" title=\"psysml:74071c80-b16e-49c7-bb46-c4404878858f\" xlink:actuate=\"onRequest\" xlink:href=\"psysml:74071c80-b16e-49c7-bb46-c4404878858f\" xlink:show=\"new\" xlink:title=\"psysml:74071c80-b16e-49c7-bb46-c4404878858f\" xlink:type=\"simple\"><path d=\"M487.34,67.7 C607.18,70.5 964.46,84.17 1252,150 C1257.83,151.33 1263.76,152.86 1269.71,154.52 \" fill=\"none\" id=\"E8&lt;-E19\" style=\"stroke: #383838; stroke-width: 1.0;\"/><polygon fill=\"#383838\" points=\"474.25,67.42,480.1607,71.5509,486.2471,67.6837,480.3364,63.5528,474.25,67.42\" style=\"stroke: #383838; stroke-width: 1.0;\"/><text fill=\"#000000\" font-family=\"sans-serif\" font-size=\"13\" lengthAdjust=\"spacingAndGlyphs\" textLength=\"7\" x=\"1255.1319\" y=\"148.6455\">2</text></a><!--MD5=[bd08c5ff61c11b2e77e1b18b119cfb0c]\n",
       "link E19 to E17--><a href=\"psysml:266ccdd4-0e56-4135-a717-f3c4ee54ca5b\" target=\"_top\" title=\"psysml:266ccdd4-0e56-4135-a717-f3c4ee54ca5b\" xlink:actuate=\"onRequest\" xlink:href=\"psysml:266ccdd4-0e56-4135-a717-f3c4ee54ca5b\" xlink:show=\"new\" xlink:title=\"psysml:266ccdd4-0e56-4135-a717-f3c4ee54ca5b\" xlink:type=\"simple\"><path d=\"M1269.77,242.03 C1225.32,259.95 1175.05,280.22 1134.75,296.46 \" fill=\"none\" id=\"E19-&gt;E17\" style=\"stroke: #383838; stroke-width: 1.0;\"/><polygon fill=\"none\" points=\"1137.29,302.99,1116.12,303.97,1132.06,290,1137.29,302.99\" style=\"stroke: #383838; stroke-width: 1.0;\"/></a><!--MD5=[6f60ccaa3c4815777fd2f50eab0785fe]\n",
       "@startuml\r\n",
       "skinparam monochrome true\r\n",
       "skinparam classbackgroundcolor white\r\n",
       "skinparam shadowing false\r\n",
       "skinparam wrapWidth 300\r\n",
       "hide circle\r\n",
       "\r\n",
       "package \"eVehicle_LogicalArchitecture\" as E1  [[psysml:1a2864bc-f099-42b6-b7a1-9c8d0b019169 ]]  {\r\n",
       "comp def \"WheelSize\" as E2  <<(T,blue) attribute  def>> [[psysml:b2f34a56-3e59-4286-9e1b-1c8bfd599499 ]] {\r\n",
       "}\r\n",
       "comp def \"Wheel\" as E3  <<(T,blue) part  def>> [[psysml:f5c3b7ae-55f6-44d0-b3be-66a34f78ad97 ]] {\r\n",
       "- - attributes - -\r\n",
       "currentPressure: Real\r\n",
       "maxPressure: Real\r\n",
       "sizeOfWheel: WheelSize\r\n",
       "}\r\n",
       "comp usage \"pressureConstraint: WheelPressureConstraint \" as E4  <<(T,blue) constraint>> [[psysml:9548787e-1455-43e7-a2b3-d54a8e199d16 ]] {\r\n",
       "- - parameters - -\r\n",
       "<b>in</b> currentPressure= currentPressure; \r\n",
       "<b>in</b> limitPressure= maxPressure; \r\n",
       "}\r\n",
       "comp def \"FrontWheel\" as E5  <<(T,blue) part  def>> [[psysml:b78b62d5-bc84-4775-9069-8f9e5980c9f1 ]] {\r\n",
       "- - attributes - -\r\n",
       "maxPressure= 2.0; \\n//:>>Wheel::maxPressure// \r\n",
       "}\r\n",
       "comp def \"RearWheel\" as E6  <<(T,blue) part  def>> [[psysml:e2d8b1e7-1367-45a4-8774-6e16b72b414e ]] {\r\n",
       "- - attributes - -\r\n",
       "maxPressure= 2.5; \\n//:>>Wheel::maxPressure// \r\n",
       "}\r\n",
       "comp def \"WheelPressureConstraint\" as E7  <<(T,blue) constraint  def>> [[psysml:1745e077-37a1-4640-bc98-34dcd2b80497 ]] {\r\n",
       "- - operator expressions - -\r\n",
       " { currentPressure <= limitPressure }\r\n",
       "}\r\n",
       "comp usage \"eVehicle \" as E8  <<(T,blue) part>> [[psysml:a0dfb8d7-55e1-45f8-8c41-253b06e4efe3 ]] {\r\n",
       "}\r\n",
       "comp usage \"body \" as E9  <<(T,blue) part>> [[psysml:5810369c-4677-4e2b-a18b-a1391d5a6e0d ]] {\r\n",
       "}\r\n",
       "comp usage \"battery \" as E10  <<(T,blue) part>> [[psysml:de46c7c1-fa88-4844-bb8f-86533e107dda ]] {\r\n",
       "}\r\n",
       "comp usage \"engine \" as E11  <<(T,blue) part>> [[psysml:ac7a9d45-5ef9-4b2d-a176-e828c1ac4887 ]] {\r\n",
       "}\r\n",
       "comp usage \"frontAxis \" as E12  <<(T,blue) part>> [[psysml:89f6974c-800d-47c0-9a83-4adb54e8a907 ]] {\r\n",
       "}\r\n",
       "comp usage \"rearAxis \" as E13  <<(T,blue) part>> [[psysml:b659622f-f32d-48fe-8767-bf01da0280bb ]] {\r\n",
       "}\r\n",
       "comp usage \"frontWheel: FrontWheel \" as E14  <<(T,blue) part>> [[psysml:2849e0e2-ceba-4899-a426-94b40e5d0100 ]] {\r\n",
       "}\r\n",
       "comp usage \"frontLeftWheel :> eVehicle::frontWheel\" as E15  <<(T,blue) part>> [[psysml:073ee1e2-d9ac-483d-b0a4-97d7d3e606eb ]] {\r\n",
       "- - references - -\r\n",
       "currentPressure= 1.6; \\n//:>>Wheel::currentPressure// \r\n",
       "}\r\n",
       "comp usage \"frontRightWheel :> eVehicle::frontWheel\" as E16  <<(T,blue) part>> [[psysml:c7bd54a8-6908-402a-82c4-7e5755640abf ]] {\r\n",
       "- - references - -\r\n",
       "currentPressure= 1.8; \\n//:>>Wheel::currentPressure// \r\n",
       "}\r\n",
       "comp usage \"rearWheel: RearWheel \" as E17  <<(T,blue) part>> [[psysml:796e965c-a48e-4033-915f-3bb4ac7dd494 ]] {\r\n",
       "}\r\n",
       "comp usage \"rearLeftWheel :> eVehicle::rearWheel\" as E18  <<(T,blue) part>> [[psysml:77ac1a7b-5511-42d3-9ec9-84500d595667 ]] {\r\n",
       "- - references - -\r\n",
       "currentPressure= 2.4; \\n//:>>Wheel::currentPressure// \r\n",
       "}\r\n",
       "comp usage \"rearRightWheel :> eVehicle::rearWheel\" as E19  <<(T,blue) part>> [[psysml:70114f71-7675-4876-98b5-561334093438 ]] {\r\n",
       "- - references - -\r\n",
       "currentPressure= 2.5; \\n//:>>Wheel::currentPressure// \r\n",
       "}\r\n",
       "}\r\n",
       "E3 *- - E4 [[psysml:bae138c0-e0a8-41a9-bff7-dfff748cd317 ]] \r\n",
       "E4 - -:|> E7 [[psysml:1f256db9-cbb7-411f-ab31-d3ea34fbd216 ]] \r\n",
       "E5 - -|> E3 [[psysml:044abe3e-9ab9-485b-aa20-d2d0579cfeaa ]] \r\n",
       "E6 - -|> E3 [[psysml:baf66939-edca-46c6-b221-0478ad7a519e ]] \r\n",
       "E8 *- - \"1\"E9 [[psysml:34fc0b77-87d0-4845-b4ea-104a5ae55299 ]] \r\n",
       "E8 *- - \"1\"E10 [[psysml:3e16d615-7823-4850-b344-bfa851389dc8 ]] \r\n",
       "E8 *- - \"1\"E11 [[psysml:a34f49d4-3892-4d84-ae88-ce302420d534 ]] \r\n",
       "E8 *- - \"1\"E12 [[psysml:b3f37df1-fdbc-4304-be6d-0e3a898916c1 ]] \r\n",
       "E8 *- - \"1\"E13 [[psysml:eaac571c-ebb0-463c-a6ba-4fb5ee7ec70b ]] \r\n",
       "E8 *- - \"2\"E14 [[psysml:b1c42dbd-42a2-4242-a70c-992ac82f1908 ]] \r\n",
       "E14 - -:|> E5 [[psysml:703a1293-b7d6-4131-afad-a930a116c08f ]] \r\n",
       "E8 *- - \"2\"E15 [[psysml:8d446292-cb58-4dd6-8943-4a21bc1fd76f ]] \r\n",
       "E15 - -|> E14 [[psysml:eb284223-685c-46f1-bd14-ebbb72a0e6f9 ]] \r\n",
       "E8 *- - \"2\"E16 [[psysml:99de1d14-a6b8-4fd9-b90b-8ea006d8c2b2 ]] \r\n",
       "E16 - -|> E14 [[psysml:1a17281b-eed3-4b18-9ac3-0a4ed274ff2c ]] \r\n",
       "E8 *- - \"2\"E17 [[psysml:ff96114f-b83f-4247-8352-d8317e121649 ]] \r\n",
       "E17 - -:|> E6 [[psysml:0d3387f4-b115-41aa-bca4-5f846fe0f8a2 ]] \r\n",
       "E8 *- - \"2\"E18 [[psysml:e2ea2818-9713-48cb-b275-3dd4174eacfe ]] \r\n",
       "E18 - -|> E17 [[psysml:f5f70315-99f9-4435-adec-148d85842ae6 ]] \r\n",
       "E8 *- - \"2\"E19 [[psysml:74071c80-b16e-49c7-bb46-c4404878858f ]] \r\n",
       "E19 - -|> E17 [[psysml:266ccdd4-0e56-4135-a717-f3c4ee54ca5b ]] \r\n",
       "@enduml\r\n",
       "\n",
       "PlantUML version 1.2020.13(Sat Jun 13 14:26:38 CEST 2020)\n",
       "(EPL source distribution)\n",
       "Java Runtime: OpenJDK Runtime Environment\n",
       "JVM: OpenJDK 64-Bit Server VM\n",
       "Default Encoding: Cp1252\n",
       "Language: en\n",
       "Country: US\n",
       "--></g></svg>"
      ]
     },
     "execution_count": 10,
     "metadata": {},
     "output_type": "execute_result"
    }
   ],
   "source": [
    "%viz --view=tree eVehicle_LogicalArchitecture"
   ]
  },
  {
   "cell_type": "markdown",
   "metadata": {},
   "source": [
    "## Putting the parts together<a name=\"sysmlv2modconnect\"></a>\n",
    "\n",
    "By now the model only defines the breakdown structure of the vehicle. There is no definition yet of how the parts are connected. The next example model *eVehicle_LogicalArchitecture* connects the parts in a meaningful way.\n"
   ]
  },
  {
   "cell_type": "code",
   "execution_count": 11,
   "metadata": {},
   "outputs": [
    {
     "data": {
      "text/plain": [
       "Package eVehicle_LogicalArchitecture (162415b3-09e3-46d3-b303-e4dbe1d39c49)\n"
      ]
     },
     "execution_count": 11,
     "metadata": {},
     "output_type": "execute_result"
    }
   ],
   "source": [
    "package eVehicle_LogicalArchitecture {\n",
    "       \n",
    "    attribute def WheelSize {\n",
    "        import ScalarValues::Integer;\n",
    "        size : Integer;\n",
    "    }\n",
    "    \n",
    "    part def Wheel {\n",
    "        constraint pressureConstraint : WheelPressureConstraint (\n",
    "            currentPressure = currentPressure,\n",
    "            limitPressure = maxPressure);\n",
    "        attribute sizeOfWheel : WheelSize;\n",
    "        attribute currentPressure : ScalarValues::Real;\n",
    "        attribute maxPressure : ScalarValues::Real;\n",
    "    }\n",
    "    \n",
    "    part def FrontWheel :> Wheel {\n",
    "        attribute redefines maxPressure = 2.0;\n",
    "    }\n",
    "    part def RearWheel :> Wheel {\n",
    "        attribute redefines maxPressure = 2.5;\n",
    "    }\n",
    "    \n",
    "    constraint def WheelPressureConstraint (\n",
    "        currentPressure : ScalarValues::Real,\n",
    "        limitPressure : ScalarValues::Real) {\n",
    "            currentPressure <= limitPressure\n",
    "    }\n",
    "\n",
    "    \n",
    "    part eVehicle {    \n",
    "        part body;\n",
    "        part battery;\n",
    "        part engine;\n",
    "        part frontAxis;\n",
    "        part rearAxis;\n",
    "        part frontWheel : Wheel[2];\n",
    "        part rearWheel : Wheel[2];\n",
    "        \n",
    "        connect battery to engine;\n",
    "        connect engine to frontAxis;\n",
    "        connect frontAxis to frontWheel;\n",
    "        connect rearAxis to rearWheel;\n",
    "        connect body to battery;\n",
    "        connect body to engine;\n",
    "        connect body to frontAxis;\n",
    "        connect body to rearAxis;\n",
    "    }\n",
    "}"
   ]
  },
  {
   "cell_type": "code",
   "execution_count": 12,
   "metadata": {},
   "outputs": [
    {
     "data": {
      "image/svg+xml": [
       "<?xml version=\"1.0\" encoding=\"UTF-8\" standalone=\"no\"?><svg xmlns=\"http://www.w3.org/2000/svg\" xmlns:xlink=\"http://www.w3.org/1999/xlink\" contentScriptType=\"application/ecmascript\" contentStyleType=\"text/css\" height=\"310px\" preserveAspectRatio=\"none\" style=\"width:283px;height:310px;\" version=\"1.1\" viewBox=\"0 0 283 310\" width=\"283px\" zoomAndPan=\"magnify\"><defs/><g><!--MD5=[fbc87193dbaf4d95561dea2c320d4a47]\n",
       "cluster E1--><a href=\"psysml:487ff6c4-5dd2-45ad-b343-5ec1d2634664\" target=\"_top\" title=\"psysml:487ff6c4-5dd2-45ad-b343-5ec1d2634664\" xlink:actuate=\"onRequest\" xlink:href=\"psysml:487ff6c4-5dd2-45ad-b343-5ec1d2634664\" xlink:show=\"new\" xlink:title=\"psysml:487ff6c4-5dd2-45ad-b343-5ec1d2634664\" xlink:type=\"simple\"><rect fill=\"#FFFFFF\" height=\"292\" id=\"E1\" rx=\"10\" ry=\"10\" style=\"stroke: #383838; stroke-width: 1.5;\" width=\"264\" x=\"7\" y=\"7\"/><rect fill=\"#F8F8F8\" height=\"25.0938\" rx=\"10\" ry=\"10\" style=\"stroke: #F8F8F8; stroke-width: 1.5;\" width=\"264\" x=\"7\" y=\"7\"/><rect fill=\"#F8F8F8\" height=\"10\" style=\"stroke: #F8F8F8; stroke-width: 1.5;\" width=\"264\" x=\"7\" y=\"22.0938\"/><rect fill=\"none\" height=\"292\" id=\"E1\" rx=\"10\" ry=\"10\" style=\"stroke: #383838; stroke-width: 1.5;\" width=\"264\" x=\"7\" y=\"7\"/><text fill=\"#000000\" font-family=\"sans-serif\" font-size=\"12\" lengthAdjust=\"spacingAndGlyphs\" textLength=\"47\" x=\"115.5\" y=\"24.457\">eVehicle</text><line style=\"stroke: #383838; stroke-width: 1.0;\" x1=\"7\" x2=\"271\" y1=\"32.0938\" y2=\"32.0938\"/></a><g id=\"E1.E2\"><a href=\"psysml:f391215d-1914-49d3-9068-c7373a29ed3d\" target=\"_top\" title=\"psysml:f391215d-1914-49d3-9068-c7373a29ed3d\" xlink:actuate=\"onRequest\" xlink:href=\"psysml:f391215d-1914-49d3-9068-c7373a29ed3d\" xlink:show=\"new\" xlink:title=\"psysml:f391215d-1914-49d3-9068-c7373a29ed3d\" xlink:type=\"simple\"><rect fill=\"#FFFFFF\" height=\"40\" id=\"E2\" rx=\"10\" ry=\"10\" style=\"stroke: #383838; stroke-width: 1.5;\" width=\"50\" x=\"102\" y=\"43\"/><rect fill=\"#F8F8F8\" height=\"25.0938\" rx=\"10\" ry=\"10\" style=\"stroke: #F8F8F8; stroke-width: 1.5;\" width=\"50\" x=\"102\" y=\"43\"/><rect fill=\"#F8F8F8\" height=\"10\" style=\"stroke: #F8F8F8; stroke-width: 1.5;\" width=\"50\" x=\"102\" y=\"58.0938\"/><rect fill=\"none\" height=\"40\" id=\"E2\" rx=\"10\" ry=\"10\" style=\"stroke: #383838; stroke-width: 1.5;\" width=\"50\" x=\"102\" y=\"43\"/><text fill=\"#000000\" font-family=\"sans-serif\" font-size=\"12\" lengthAdjust=\"spacingAndGlyphs\" textLength=\"26\" x=\"114\" y=\"60.457\">body</text></a></g><g id=\"E1.E3\"><a href=\"psysml:2e49dca9-bef3-4a2d-8e23-758af324d800\" target=\"_top\" title=\"psysml:2e49dca9-bef3-4a2d-8e23-758af324d800\" xlink:actuate=\"onRequest\" xlink:href=\"psysml:2e49dca9-bef3-4a2d-8e23-758af324d800\" xlink:show=\"new\" xlink:title=\"psysml:2e49dca9-bef3-4a2d-8e23-758af324d800\" xlink:type=\"simple\"><rect fill=\"#FFFFFF\" height=\"40\" id=\"E3\" rx=\"10\" ry=\"10\" style=\"stroke: #383838; stroke-width: 1.5;\" width=\"50\" x=\"23\" y=\"93\"/><rect fill=\"#F8F8F8\" height=\"25.0938\" rx=\"10\" ry=\"10\" style=\"stroke: #F8F8F8; stroke-width: 1.5;\" width=\"50\" x=\"23\" y=\"93\"/><rect fill=\"#F8F8F8\" height=\"10\" style=\"stroke: #F8F8F8; stroke-width: 1.5;\" width=\"50\" x=\"23\" y=\"108.0938\"/><rect fill=\"none\" height=\"40\" id=\"E3\" rx=\"10\" ry=\"10\" style=\"stroke: #383838; stroke-width: 1.5;\" width=\"50\" x=\"23\" y=\"93\"/><text fill=\"#000000\" font-family=\"sans-serif\" font-size=\"12\" lengthAdjust=\"spacingAndGlyphs\" textLength=\"36\" x=\"30\" y=\"110.457\">battery</text></a></g><g id=\"E1.E4\"><a href=\"psysml:207e587e-9ad5-4a21-87d1-13f410c2213c\" target=\"_top\" title=\"psysml:207e587e-9ad5-4a21-87d1-13f410c2213c\" xlink:actuate=\"onRequest\" xlink:href=\"psysml:207e587e-9ad5-4a21-87d1-13f410c2213c\" xlink:show=\"new\" xlink:title=\"psysml:207e587e-9ad5-4a21-87d1-13f410c2213c\" xlink:type=\"simple\"><rect fill=\"#FFFFFF\" height=\"40\" id=\"E4\" rx=\"10\" ry=\"10\" style=\"stroke: #383838; stroke-width: 1.5;\" width=\"50\" x=\"23\" y=\"143\"/><rect fill=\"#F8F8F8\" height=\"25.0938\" rx=\"10\" ry=\"10\" style=\"stroke: #F8F8F8; stroke-width: 1.5;\" width=\"50\" x=\"23\" y=\"143\"/><rect fill=\"#F8F8F8\" height=\"10\" style=\"stroke: #F8F8F8; stroke-width: 1.5;\" width=\"50\" x=\"23\" y=\"158.0938\"/><rect fill=\"none\" height=\"40\" id=\"E4\" rx=\"10\" ry=\"10\" style=\"stroke: #383838; stroke-width: 1.5;\" width=\"50\" x=\"23\" y=\"143\"/><text fill=\"#000000\" font-family=\"sans-serif\" font-size=\"12\" lengthAdjust=\"spacingAndGlyphs\" textLength=\"38\" x=\"29\" y=\"160.457\">engine</text></a></g><g id=\"E1.E5\"><a href=\"psysml:74b7f414-801d-4ff9-805b-cbdb9d3d6d99\" target=\"_top\" title=\"psysml:74b7f414-801d-4ff9-805b-cbdb9d3d6d99\" xlink:actuate=\"onRequest\" xlink:href=\"psysml:74b7f414-801d-4ff9-805b-cbdb9d3d6d99\" xlink:show=\"new\" xlink:title=\"psysml:74b7f414-801d-4ff9-805b-cbdb9d3d6d99\" xlink:type=\"simple\"><rect fill=\"#FFFFFF\" height=\"40\" id=\"E5\" rx=\"10\" ry=\"10\" style=\"stroke: #383838; stroke-width: 1.5;\" width=\"57\" x=\"65.5\" y=\"193\"/><rect fill=\"#F8F8F8\" height=\"25.0938\" rx=\"10\" ry=\"10\" style=\"stroke: #F8F8F8; stroke-width: 1.5;\" width=\"57\" x=\"65.5\" y=\"193\"/><rect fill=\"#F8F8F8\" height=\"10\" style=\"stroke: #F8F8F8; stroke-width: 1.5;\" width=\"57\" x=\"65.5\" y=\"208.0938\"/><rect fill=\"none\" height=\"40\" id=\"E5\" rx=\"10\" ry=\"10\" style=\"stroke: #383838; stroke-width: 1.5;\" width=\"57\" x=\"65.5\" y=\"193\"/><text fill=\"#000000\" font-family=\"sans-serif\" font-size=\"12\" lengthAdjust=\"spacingAndGlyphs\" textLength=\"46\" x=\"71\" y=\"210.457\">frontAxis</text></a></g><g id=\"E1.E6\"><a href=\"psysml:6c4f037f-463b-440c-910c-45eeb6317b14\" target=\"_top\" title=\"psysml:6c4f037f-463b-440c-910c-45eeb6317b14\" xlink:actuate=\"onRequest\" xlink:href=\"psysml:6c4f037f-463b-440c-910c-45eeb6317b14\" xlink:show=\"new\" xlink:title=\"psysml:6c4f037f-463b-440c-910c-45eeb6317b14\" xlink:type=\"simple\"><rect fill=\"#FFFFFF\" height=\"40\" id=\"E6\" rx=\"10\" ry=\"10\" style=\"stroke: #383838; stroke-width: 1.5;\" width=\"55\" x=\"182.5\" y=\"93\"/><rect fill=\"#F8F8F8\" height=\"25.0938\" rx=\"10\" ry=\"10\" style=\"stroke: #F8F8F8; stroke-width: 1.5;\" width=\"55\" x=\"182.5\" y=\"93\"/><rect fill=\"#F8F8F8\" height=\"10\" style=\"stroke: #F8F8F8; stroke-width: 1.5;\" width=\"55\" x=\"182.5\" y=\"108.0938\"/><rect fill=\"none\" height=\"40\" id=\"E6\" rx=\"10\" ry=\"10\" style=\"stroke: #383838; stroke-width: 1.5;\" width=\"55\" x=\"182.5\" y=\"93\"/><text fill=\"#000000\" font-family=\"sans-serif\" font-size=\"12\" lengthAdjust=\"spacingAndGlyphs\" textLength=\"44\" x=\"188\" y=\"110.457\">rearAxis</text></a></g><g id=\"E1.E7\"><a href=\"psysml:440db89c-a839-468f-96c7-769890212238\" target=\"_top\" title=\"psysml:440db89c-a839-468f-96c7-769890212238\" xlink:actuate=\"onRequest\" xlink:href=\"psysml:440db89c-a839-468f-96c7-769890212238\" xlink:show=\"new\" xlink:title=\"psysml:440db89c-a839-468f-96c7-769890212238\" xlink:type=\"simple\"><rect fill=\"#FFFFFF\" height=\"40\" id=\"E7\" rx=\"10\" ry=\"10\" style=\"stroke: #383838; stroke-width: 1.5;\" width=\"111\" x=\"38.5\" y=\"243\"/><rect fill=\"#F8F8F8\" height=\"25.0938\" rx=\"10\" ry=\"10\" style=\"stroke: #F8F8F8; stroke-width: 1.5;\" width=\"111\" x=\"38.5\" y=\"243\"/><rect fill=\"#F8F8F8\" height=\"10\" style=\"stroke: #F8F8F8; stroke-width: 1.5;\" width=\"111\" x=\"38.5\" y=\"258.0938\"/><rect fill=\"none\" height=\"40\" id=\"E7\" rx=\"10\" ry=\"10\" style=\"stroke: #383838; stroke-width: 1.5;\" width=\"111\" x=\"38.5\" y=\"243\"/><text fill=\"#000000\" font-family=\"sans-serif\" font-size=\"12\" lengthAdjust=\"spacingAndGlyphs\" textLength=\"100\" x=\"44\" y=\"260.457\">frontWheel: Wheel</text></a></g><g id=\"E1.E8\"><a href=\"psysml:e6a1458e-6ec1-4b06-aa84-2ac0e440e530\" target=\"_top\" title=\"psysml:e6a1458e-6ec1-4b06-aa84-2ac0e440e530\" xlink:actuate=\"onRequest\" xlink:href=\"psysml:e6a1458e-6ec1-4b06-aa84-2ac0e440e530\" xlink:show=\"new\" xlink:title=\"psysml:e6a1458e-6ec1-4b06-aa84-2ac0e440e530\" xlink:type=\"simple\"><rect fill=\"#FFFFFF\" height=\"40\" id=\"E8\" rx=\"10\" ry=\"10\" style=\"stroke: #383838; stroke-width: 1.5;\" width=\"109\" x=\"145.5\" y=\"143\"/><rect fill=\"#F8F8F8\" height=\"25.0938\" rx=\"10\" ry=\"10\" style=\"stroke: #F8F8F8; stroke-width: 1.5;\" width=\"109\" x=\"145.5\" y=\"143\"/><rect fill=\"#F8F8F8\" height=\"10\" style=\"stroke: #F8F8F8; stroke-width: 1.5;\" width=\"109\" x=\"145.5\" y=\"158.0938\"/><rect fill=\"none\" height=\"40\" id=\"E8\" rx=\"10\" ry=\"10\" style=\"stroke: #383838; stroke-width: 1.5;\" width=\"109\" x=\"145.5\" y=\"143\"/><text fill=\"#000000\" font-family=\"sans-serif\" font-size=\"12\" lengthAdjust=\"spacingAndGlyphs\" textLength=\"98\" x=\"151\" y=\"160.457\">rearWheel: Wheel</text></a></g><!--MD5=[af87c684e3b0d8be13c1a698a818ef1e]\n",
       "link E3 to E4--><a href=\"psysml:2c2ade3a-69a5-4511-a9b5-a1eef0230411\" target=\"_top\" title=\"psysml:2c2ade3a-69a5-4511-a9b5-a1eef0230411\" xlink:actuate=\"onRequest\" xlink:href=\"psysml:2c2ade3a-69a5-4511-a9b5-a1eef0230411\" xlink:show=\"new\" xlink:title=\"psysml:2c2ade3a-69a5-4511-a9b5-a1eef0230411\" xlink:type=\"simple\"><path d=\"M48,133.25 C48,136.38 48,139.62 48,142.75 \" fill=\"none\" id=\"E3-E4\" style=\"stroke: #383838; stroke-width: 3.0;\"/><text fill=\"#000000\" font-family=\"sans-serif\" font-size=\"13\" lengthAdjust=\"spacingAndGlyphs\" textLength=\"5\" x=\"34.9586\" y=\"132.0208\">*</text></a><!--MD5=[1b7591eae5389033d8d09a9d6721a717]\n",
       "link E4 to E5--><a href=\"psysml:d2faf6b4-e582-4d26-8b05-39451cc55570\" target=\"_top\" title=\"psysml:d2faf6b4-e582-4d26-8b05-39451cc55570\" xlink:actuate=\"onRequest\" xlink:href=\"psysml:d2faf6b4-e582-4d26-8b05-39451cc55570\" xlink:show=\"new\" xlink:title=\"psysml:d2faf6b4-e582-4d26-8b05-39451cc55570\" xlink:type=\"simple\"><path d=\"M66.44,183.25 C69.44,186.38 72.55,189.62 75.55,192.75 \" fill=\"none\" id=\"E4-E5\" style=\"stroke: #383838; stroke-width: 3.0;\"/><text fill=\"#000000\" font-family=\"sans-serif\" font-size=\"13\" lengthAdjust=\"spacingAndGlyphs\" textLength=\"5\" x=\"75.7556\" y=\"181.9715\">*</text></a><!--MD5=[3a9b96bfbf6b6ad89c494e81751bda47]\n",
       "link E5 to E7--><a href=\"psysml:2af35b75-31f4-47db-9264-53e495bc148a\" target=\"_top\" title=\"psysml:2af35b75-31f4-47db-9264-53e495bc148a\" xlink:actuate=\"onRequest\" xlink:href=\"psysml:2af35b75-31f4-47db-9264-53e495bc148a\" xlink:show=\"new\" xlink:title=\"psysml:2af35b75-31f4-47db-9264-53e495bc148a\" xlink:type=\"simple\"><path d=\"M94,233.25 C94,236.38 94,239.62 94,242.75 \" fill=\"none\" id=\"E5-E7\" style=\"stroke: #383838; stroke-width: 3.0;\"/><text fill=\"#000000\" font-family=\"sans-serif\" font-size=\"13\" lengthAdjust=\"spacingAndGlyphs\" textLength=\"5\" x=\"80.9586\" y=\"232.0208\">*</text></a><!--MD5=[0a839d0f80c2d72d4b9b307f046d0de8]\n",
       "link E6 to E8--><a href=\"psysml:479cec4d-6113-452d-a2dd-87389b7e5c9e\" target=\"_top\" title=\"psysml:479cec4d-6113-452d-a2dd-87389b7e5c9e\" xlink:actuate=\"onRequest\" xlink:href=\"psysml:479cec4d-6113-452d-a2dd-87389b7e5c9e\" xlink:show=\"new\" xlink:title=\"psysml:479cec4d-6113-452d-a2dd-87389b7e5c9e\" xlink:type=\"simple\"><path d=\"M205.99,133.25 C205.34,136.38 204.66,139.62 204.01,142.75 \" fill=\"none\" id=\"E6-E8\" style=\"stroke: #383838; stroke-width: 3.0;\"/><text fill=\"#000000\" font-family=\"sans-serif\" font-size=\"13\" lengthAdjust=\"spacingAndGlyphs\" textLength=\"5\" x=\"187.4514\" y=\"132.0208\">*</text></a><!--MD5=[2720a5a1f2c3fca2055b230370638851]\n",
       "link E2 to E3--><a href=\"psysml:d7122248-4eda-4fb8-898d-b53e7145f1bc\" target=\"_top\" title=\"psysml:d7122248-4eda-4fb8-898d-b53e7145f1bc\" xlink:actuate=\"onRequest\" xlink:href=\"psysml:d7122248-4eda-4fb8-898d-b53e7145f1bc\" xlink:show=\"new\" xlink:title=\"psysml:d7122248-4eda-4fb8-898d-b53e7145f1bc\" xlink:type=\"simple\"><path d=\"M101.57,79.45 C92.46,84.99 82.2,91.22 73.11,96.74 \" fill=\"none\" id=\"E2-E3\" style=\"stroke: #383838; stroke-width: 3.0;\"/><text fill=\"#000000\" font-family=\"sans-serif\" font-size=\"13\" lengthAdjust=\"spacingAndGlyphs\" textLength=\"5\" x=\"80.8753\" y=\"87.4614\">*</text></a><!--MD5=[4d03bb2d0377dc85ccfab60ff574652b]\n",
       "link E2 to E4--><a href=\"psysml:3517156f-6179-4b27-bd84-9e8ad0a9ca6c\" target=\"_top\" title=\"psysml:3517156f-6179-4b27-bd84-9e8ad0a9ca6c\" xlink:actuate=\"onRequest\" xlink:href=\"psysml:3517156f-6179-4b27-bd84-9e8ad0a9ca6c\" xlink:show=\"new\" xlink:title=\"psysml:3517156f-6179-4b27-bd84-9e8ad0a9ca6c\" xlink:type=\"simple\"><path d=\"M120.05,83.12 C114,97.92 104.14,118.29 91,133 C85.96,138.64 79.6,143.7 73.32,147.96 \" fill=\"none\" id=\"E2-E4\" style=\"stroke: #383838; stroke-width: 3.0;\"/><text fill=\"#000000\" font-family=\"sans-serif\" font-size=\"13\" lengthAdjust=\"spacingAndGlyphs\" textLength=\"5\" x=\"81.1444\" y=\"153.0871\">*</text></a><!--MD5=[dcad52bbbca2fe8adc741ce38b45dc12]\n",
       "link E2 to E5--><a href=\"psysml:b99506a0-f9da-4428-9cb9-c6e4c8186302\" target=\"_top\" title=\"psysml:b99506a0-f9da-4428-9cb9-c6e4c8186302\" xlink:actuate=\"onRequest\" xlink:href=\"psysml:b99506a0-f9da-4428-9cb9-c6e4c8186302\" xlink:show=\"new\" xlink:title=\"psysml:b99506a0-f9da-4428-9cb9-c6e4c8186302\" xlink:type=\"simple\"><path d=\"M122.91,83.05 C119.92,96.91 115.76,116.13 112,133 C107.45,153.46 102.1,176.86 98.42,192.86 \" fill=\"none\" id=\"E2-E5\" style=\"stroke: #383838; stroke-width: 3.0;\"/><text fill=\"#000000\" font-family=\"sans-serif\" font-size=\"13\" lengthAdjust=\"spacingAndGlyphs\" textLength=\"5\" x=\"93.984\" y=\"182.1406\">*</text></a><!--MD5=[e3e28c1befcf002155aa15e1416b4315]\n",
       "link E2 to E6--><a href=\"psysml:9c4f696a-bfcd-4407-908c-f37197d88453\" target=\"_top\" title=\"psysml:9c4f696a-bfcd-4407-908c-f37197d88453\" xlink:actuate=\"onRequest\" xlink:href=\"psysml:9c4f696a-bfcd-4407-908c-f37197d88453\" xlink:show=\"new\" xlink:title=\"psysml:9c4f696a-bfcd-4407-908c-f37197d88453\" xlink:type=\"simple\"><path d=\"M152.35,78.66 C161.89,84.18 172.77,90.47 182.49,96.09 \" fill=\"none\" id=\"E2-E6\" style=\"stroke: #383838; stroke-width: 3.0;\"/><text fill=\"#000000\" font-family=\"sans-serif\" font-size=\"13\" lengthAdjust=\"spacingAndGlyphs\" textLength=\"5\" x=\"169.4248\" y=\"86.9378\">*</text></a><!--MD5=[6a2ece56248b7d5dd96f361642d2d1bd]\n",
       "@startuml\r\n",
       "skinparam ranksep 10\r\n",
       "skinparam rectangle {\r\n",
       " backgroundColor<<block>> LightGreen\r\n",
       "}\r\n",
       "skinparam monochrome true\r\n",
       "skinparam classbackgroundcolor white\r\n",
       "skinparam shadowing false\r\n",
       "skinparam wrapWidth 300\r\n",
       "hide circle\r\n",
       "\r\n",
       "rec usage \"eVehicle\" as E1  [[psysml:487ff6c4-5dd2-45ad-b343-5ec1d2634664 ]] {\r\n",
       "rec usage \"body\" as E2  [[psysml:f391215d-1914-49d3-9068-c7373a29ed3d ]] {\r\n",
       "}\r\n",
       "rec usage \"battery\" as E3  [[psysml:2e49dca9-bef3-4a2d-8e23-758af324d800 ]] {\r\n",
       "}\r\n",
       "rec usage \"engine\" as E4  [[psysml:207e587e-9ad5-4a21-87d1-13f410c2213c ]] {\r\n",
       "}\r\n",
       "rec usage \"frontAxis\" as E5  [[psysml:74b7f414-801d-4ff9-805b-cbdb9d3d6d99 ]] {\r\n",
       "}\r\n",
       "rec usage \"rearAxis\" as E6  [[psysml:6c4f037f-463b-440c-910c-45eeb6317b14 ]] {\r\n",
       "}\r\n",
       "rec usage \"frontWheel: Wheel\" as E7  [[psysml:440db89c-a839-468f-96c7-769890212238 ]] {\r\n",
       "}\r\n",
       "rec usage \"rearWheel: Wheel\" as E8  [[psysml:e6a1458e-6ec1-4b06-aa84-2ac0e440e530 ]] {\r\n",
       "}\r\n",
       "}\r\n",
       "E3 -[thickness=3]- \"*\"E4 [[psysml:2c2ade3a-69a5-4511-a9b5-a1eef0230411 ]] \r\n",
       "E4 -[thickness=3]- \"*\"E5 [[psysml:d2faf6b4-e582-4d26-8b05-39451cc55570 ]] \r\n",
       "E5 -[thickness=3]- \"*\"E7 [[psysml:2af35b75-31f4-47db-9264-53e495bc148a ]] \r\n",
       "E6 -[thickness=3]- \"*\"E8 [[psysml:479cec4d-6113-452d-a2dd-87389b7e5c9e ]] \r\n",
       "E2 -[thickness=3]- \"*\"E3 [[psysml:d7122248-4eda-4fb8-898d-b53e7145f1bc ]] \r\n",
       "E2 -[thickness=3]- \"*\"E4 [[psysml:3517156f-6179-4b27-bd84-9e8ad0a9ca6c ]] \r\n",
       "E2 -[thickness=3]- \"*\"E5 [[psysml:b99506a0-f9da-4428-9cb9-c6e4c8186302 ]] \r\n",
       "E2 -[thickness=3]- \"*\"E6 [[psysml:9c4f696a-bfcd-4407-908c-f37197d88453 ]] \r\n",
       "@enduml\r\n",
       "\n",
       "PlantUML version 1.2020.13(Sat Jun 13 14:26:38 CEST 2020)\n",
       "(EPL source distribution)\n",
       "Java Runtime: OpenJDK Runtime Environment\n",
       "JVM: OpenJDK 64-Bit Server VM\n",
       "Default Encoding: Cp1252\n",
       "Language: en\n",
       "Country: US\n",
       "--></g></svg>"
      ]
     },
     "execution_count": 12,
     "metadata": {},
     "output_type": "execute_result"
    }
   ],
   "source": [
    "%viz --view=interconnection eVehicle_LogicalArchitecture::eVehicle"
   ]
  },
  {
   "cell_type": "markdown",
   "metadata": {},
   "source": [
    "## Modeling interfaces<a name=\"sysmlv2modinterfaces\"></a>\n",
    "\n",
    "The interaction points are defined by ports in SysML v2, similar to SysML v1. The following extended example defines the interaction points between the engine and the battery. The connection is changed to connect the ports instead of the parts."
   ]
  },
  {
   "cell_type": "code",
   "execution_count": 14,
   "metadata": {},
   "outputs": [
    {
     "data": {
      "text/plain": [
       "Package eVehicle_LogicalArchitecture (14fe61a0-e30f-4660-a8da-3e071e0f5a30)\n"
      ]
     },
     "execution_count": 14,
     "metadata": {},
     "output_type": "execute_result"
    }
   ],
   "source": [
    "package eVehicle_LogicalArchitecture {\n",
    "       \n",
    "    attribute def WheelSize {\n",
    "        import ScalarValues::Integer;\n",
    "        size : Integer;\n",
    "    }\n",
    "    \n",
    "    part def Wheel {\n",
    "        constraint pressureConstraint : WheelPressureConstraint (\n",
    "            currentPressure = currentPressure,\n",
    "            limitPressure = maxPressure);\n",
    "        attribute sizeOfWheel : WheelSize;\n",
    "        attribute currentPressure : ScalarValues::Real;\n",
    "        attribute maxPressure : ScalarValues::Real;\n",
    "    }\n",
    "    \n",
    "    part def FrontWheel :> Wheel {\n",
    "        attribute redefines maxPressure = 2.0;\n",
    "    }\n",
    "    part def RearWheel :> Wheel {\n",
    "        attribute redefines maxPressure = 2.5;\n",
    "    }\n",
    "    \n",
    "    constraint def WheelPressureConstraint (\n",
    "        currentPressure : ScalarValues::Real,\n",
    "        limitPressure : ScalarValues::Real) {\n",
    "            currentPressure <= limitPressure\n",
    "    }\n",
    "\n",
    "    \n",
    "    part eVehicle {    \n",
    "        part body;\n",
    "        part battery {\n",
    "            port powerOut;\n",
    "        }\n",
    "        part engine {\n",
    "            port powerIn;\n",
    "        }\n",
    "        part frontAxis;\n",
    "        part rearAxis;\n",
    "        part frontWheel : Wheel[2];\n",
    "        part rearWheel : Wheel[2];\n",
    "        \n",
    "        connect battery.powerOut to engine.powerIn;\n",
    "        connect engine to frontAxis;\n",
    "        connect frontAxis to frontWheel;\n",
    "        connect rearAxis to rearWheel;\n",
    "        connect body to battery;\n",
    "        connect body to engine;\n",
    "        connect body to frontAxis;\n",
    "        connect body to rearAxis;\n",
    "    }\n",
    "}"
   ]
  },
  {
   "cell_type": "code",
   "execution_count": 15,
   "metadata": {},
   "outputs": [
    {
     "data": {
      "image/svg+xml": [
       "<?xml version=\"1.0\" encoding=\"UTF-8\" standalone=\"no\"?><svg xmlns=\"http://www.w3.org/2000/svg\" xmlns:xlink=\"http://www.w3.org/1999/xlink\" contentScriptType=\"application/ecmascript\" contentStyleType=\"text/css\" height=\"362px\" preserveAspectRatio=\"none\" style=\"width:461px;height:362px;\" version=\"1.1\" viewBox=\"0 0 461 362\" width=\"461px\" zoomAndPan=\"magnify\"><defs/><g><!--MD5=[fbc87193dbaf4d95561dea2c320d4a47]\n",
       "cluster E1--><a href=\"psysml:40b586a2-1140-4770-a24d-b195df6df9c8\" target=\"_top\" title=\"psysml:40b586a2-1140-4770-a24d-b195df6df9c8\" xlink:actuate=\"onRequest\" xlink:href=\"psysml:40b586a2-1140-4770-a24d-b195df6df9c8\" xlink:show=\"new\" xlink:title=\"psysml:40b586a2-1140-4770-a24d-b195df6df9c8\" xlink:type=\"simple\"><rect fill=\"#FFFFFF\" height=\"344\" id=\"E1\" rx=\"10\" ry=\"10\" style=\"stroke: #383838; stroke-width: 1.5;\" width=\"438\" x=\"11.72\" y=\"7\"/><rect fill=\"#F8F8F8\" height=\"25.0938\" rx=\"10\" ry=\"10\" style=\"stroke: #F8F8F8; stroke-width: 1.5;\" width=\"438\" x=\"11.72\" y=\"7\"/><rect fill=\"#F8F8F8\" height=\"10\" style=\"stroke: #F8F8F8; stroke-width: 1.5;\" width=\"438\" x=\"11.72\" y=\"22.0938\"/><rect fill=\"none\" height=\"344\" id=\"E1\" rx=\"10\" ry=\"10\" style=\"stroke: #383838; stroke-width: 1.5;\" width=\"438\" x=\"11.72\" y=\"7\"/><text fill=\"#000000\" font-family=\"sans-serif\" font-size=\"12\" lengthAdjust=\"spacingAndGlyphs\" textLength=\"47\" x=\"207.22\" y=\"24.457\">eVehicle</text><line style=\"stroke: #383838; stroke-width: 1.0;\" x1=\"11.72\" x2=\"449.72\" y1=\"32.0938\" y2=\"32.0938\"/></a><!--MD5=[d5e69f78d87373223dbae638b30a9c99]\n",
       "cluster E3--><a href=\"psysml:24085547-81c6-4268-bd82-a47363f9b7f2\" target=\"_top\" title=\"psysml:24085547-81c6-4268-bd82-a47363f9b7f2\" xlink:actuate=\"onRequest\" xlink:href=\"psysml:24085547-81c6-4268-bd82-a47363f9b7f2\" xlink:show=\"new\" xlink:title=\"psysml:24085547-81c6-4268-bd82-a47363f9b7f2\" xlink:type=\"simple\"><rect fill=\"#FFFFFF\" height=\"88\" id=\"E3\" rx=\"10\" ry=\"10\" style=\"stroke: #383838; stroke-width: 1.5;\" width=\"96\" x=\"173.72\" y=\"65\"/><rect fill=\"#F8F8F8\" height=\"25.0938\" rx=\"10\" ry=\"10\" style=\"stroke: #F8F8F8; stroke-width: 1.5;\" width=\"96\" x=\"173.72\" y=\"65\"/><rect fill=\"#F8F8F8\" height=\"10\" style=\"stroke: #F8F8F8; stroke-width: 1.5;\" width=\"96\" x=\"173.72\" y=\"80.0938\"/><rect fill=\"none\" height=\"88\" id=\"E3\" rx=\"10\" ry=\"10\" style=\"stroke: #383838; stroke-width: 1.5;\" width=\"96\" x=\"173.72\" y=\"65\"/><text fill=\"#000000\" font-family=\"sans-serif\" font-size=\"12\" lengthAdjust=\"spacingAndGlyphs\" textLength=\"36\" x=\"203.72\" y=\"82.457\">battery</text><line style=\"stroke: #383838; stroke-width: 1.0;\" x1=\"173.72\" x2=\"269.72\" y1=\"90.0938\" y2=\"90.0938\"/></a><!--MD5=[de5ec2e2e8f62f467e546659f5068c88]\n",
       "cluster E5--><a href=\"psysml:6f7a44dd-50dd-47cd-95fd-e6e0887ff5b6\" target=\"_top\" title=\"psysml:6f7a44dd-50dd-47cd-95fd-e6e0887ff5b6\" xlink:actuate=\"onRequest\" xlink:href=\"psysml:6f7a44dd-50dd-47cd-95fd-e6e0887ff5b6\" xlink:show=\"new\" xlink:title=\"psysml:6f7a44dd-50dd-47cd-95fd-e6e0887ff5b6\" xlink:type=\"simple\"><rect fill=\"#FFFFFF\" height=\"110\" id=\"E5\" rx=\"10\" ry=\"10\" style=\"stroke: #383838; stroke-width: 1.5;\" width=\"97\" x=\"328.72\" y=\"119\"/><rect fill=\"#F8F8F8\" height=\"25.0938\" rx=\"10\" ry=\"10\" style=\"stroke: #F8F8F8; stroke-width: 1.5;\" width=\"97\" x=\"328.72\" y=\"119\"/><rect fill=\"#F8F8F8\" height=\"10\" style=\"stroke: #F8F8F8; stroke-width: 1.5;\" width=\"97\" x=\"328.72\" y=\"134.0938\"/><rect fill=\"none\" height=\"110\" id=\"E5\" rx=\"10\" ry=\"10\" style=\"stroke: #383838; stroke-width: 1.5;\" width=\"97\" x=\"328.72\" y=\"119\"/><text fill=\"#000000\" font-family=\"sans-serif\" font-size=\"12\" lengthAdjust=\"spacingAndGlyphs\" textLength=\"38\" x=\"358.22\" y=\"136.457\">engine</text><line style=\"stroke: #383838; stroke-width: 1.0;\" x1=\"328.72\" x2=\"425.72\" y1=\"144.0938\" y2=\"144.0938\"/></a><g id=\"E1.E2\"><a href=\"psysml:cc17ea28-5121-4534-a41b-4d15050926b7\" target=\"_top\" title=\"psysml:cc17ea28-5121-4534-a41b-4d15050926b7\" xlink:actuate=\"onRequest\" xlink:href=\"psysml:cc17ea28-5121-4534-a41b-4d15050926b7\" xlink:show=\"new\" xlink:title=\"psysml:cc17ea28-5121-4534-a41b-4d15050926b7\" xlink:type=\"simple\"><rect fill=\"#FFFFFF\" height=\"40\" id=\"E2\" rx=\"10\" ry=\"10\" style=\"stroke: #383838; stroke-width: 1.5;\" width=\"50\" x=\"87.72\" y=\"45\"/><rect fill=\"#F8F8F8\" height=\"25.0938\" rx=\"10\" ry=\"10\" style=\"stroke: #F8F8F8; stroke-width: 1.5;\" width=\"50\" x=\"87.72\" y=\"45\"/><rect fill=\"#F8F8F8\" height=\"10\" style=\"stroke: #F8F8F8; stroke-width: 1.5;\" width=\"50\" x=\"87.72\" y=\"60.0938\"/><rect fill=\"none\" height=\"40\" id=\"E2\" rx=\"10\" ry=\"10\" style=\"stroke: #383838; stroke-width: 1.5;\" width=\"50\" x=\"87.72\" y=\"45\"/><text fill=\"#000000\" font-family=\"sans-serif\" font-size=\"12\" lengthAdjust=\"spacingAndGlyphs\" textLength=\"26\" x=\"99.72\" y=\"62.457\">body</text></a></g><text fill=\"#000000\" font-family=\"sans-serif\" font-size=\"14\" lengthAdjust=\"spacingAndGlyphs\" textLength=\"61\" x=\"219.22\" y=\"43.9238\">powerOut</text><rect fill=\"#383838\" height=\"12\" style=\"stroke: #F8F8F8; stroke-width: 1.5;\" width=\"12\" x=\"245.72\" y=\"59\"/><text fill=\"#000000\" font-family=\"sans-serif\" font-size=\"14\" lengthAdjust=\"spacingAndGlyphs\" textLength=\"49\" x=\"320.22\" y=\"97.9238\">powerIn</text><rect fill=\"#383838\" height=\"12\" style=\"stroke: #F8F8F8; stroke-width: 1.5;\" width=\"12\" x=\"340.72\" y=\"113\"/><g id=\"E1.E7\"><a href=\"psysml:39ba1543-a2a0-4551-9e01-2fe5fdfeb807\" target=\"_top\" title=\"psysml:39ba1543-a2a0-4551-9e01-2fe5fdfeb807\" xlink:actuate=\"onRequest\" xlink:href=\"psysml:39ba1543-a2a0-4551-9e01-2fe5fdfeb807\" xlink:show=\"new\" xlink:title=\"psysml:39ba1543-a2a0-4551-9e01-2fe5fdfeb807\" xlink:type=\"simple\"><rect fill=\"#FFFFFF\" height=\"40\" id=\"E7\" rx=\"10\" ry=\"10\" style=\"stroke: #383838; stroke-width: 1.5;\" width=\"57\" x=\"197.22\" y=\"245\"/><rect fill=\"#F8F8F8\" height=\"25.0938\" rx=\"10\" ry=\"10\" style=\"stroke: #F8F8F8; stroke-width: 1.5;\" width=\"57\" x=\"197.22\" y=\"245\"/><rect fill=\"#F8F8F8\" height=\"10\" style=\"stroke: #F8F8F8; stroke-width: 1.5;\" width=\"57\" x=\"197.22\" y=\"260.0938\"/><rect fill=\"none\" height=\"40\" id=\"E7\" rx=\"10\" ry=\"10\" style=\"stroke: #383838; stroke-width: 1.5;\" width=\"57\" x=\"197.22\" y=\"245\"/><text fill=\"#000000\" font-family=\"sans-serif\" font-size=\"12\" lengthAdjust=\"spacingAndGlyphs\" textLength=\"46\" x=\"202.72\" y=\"262.457\">frontAxis</text></a></g><g id=\"E1.E8\"><a href=\"psysml:12b90cb7-02e3-4b78-ad14-739a1fb09cc2\" target=\"_top\" title=\"psysml:12b90cb7-02e3-4b78-ad14-739a1fb09cc2\" xlink:actuate=\"onRequest\" xlink:href=\"psysml:12b90cb7-02e3-4b78-ad14-739a1fb09cc2\" xlink:show=\"new\" xlink:title=\"psysml:12b90cb7-02e3-4b78-ad14-739a1fb09cc2\" xlink:type=\"simple\"><rect fill=\"#FFFFFF\" height=\"40\" id=\"E8\" rx=\"10\" ry=\"10\" style=\"stroke: #383838; stroke-width: 1.5;\" width=\"55\" x=\"65.22\" y=\"99\"/><rect fill=\"#F8F8F8\" height=\"25.0938\" rx=\"10\" ry=\"10\" style=\"stroke: #F8F8F8; stroke-width: 1.5;\" width=\"55\" x=\"65.22\" y=\"99\"/><rect fill=\"#F8F8F8\" height=\"10\" style=\"stroke: #F8F8F8; stroke-width: 1.5;\" width=\"55\" x=\"65.22\" y=\"114.0938\"/><rect fill=\"none\" height=\"40\" id=\"E8\" rx=\"10\" ry=\"10\" style=\"stroke: #383838; stroke-width: 1.5;\" width=\"55\" x=\"65.22\" y=\"99\"/><text fill=\"#000000\" font-family=\"sans-serif\" font-size=\"12\" lengthAdjust=\"spacingAndGlyphs\" textLength=\"44\" x=\"70.72\" y=\"116.457\">rearAxis</text></a></g><g id=\"E1.E9\"><a href=\"psysml:811736fe-debb-4c0c-9c39-232827b1d6c0\" target=\"_top\" title=\"psysml:811736fe-debb-4c0c-9c39-232827b1d6c0\" xlink:actuate=\"onRequest\" xlink:href=\"psysml:811736fe-debb-4c0c-9c39-232827b1d6c0\" xlink:show=\"new\" xlink:title=\"psysml:811736fe-debb-4c0c-9c39-232827b1d6c0\" xlink:type=\"simple\"><rect fill=\"#FFFFFF\" height=\"40\" id=\"E9\" rx=\"10\" ry=\"10\" style=\"stroke: #383838; stroke-width: 1.5;\" width=\"111\" x=\"170.22\" y=\"295\"/><rect fill=\"#F8F8F8\" height=\"25.0938\" rx=\"10\" ry=\"10\" style=\"stroke: #F8F8F8; stroke-width: 1.5;\" width=\"111\" x=\"170.22\" y=\"295\"/><rect fill=\"#F8F8F8\" height=\"10\" style=\"stroke: #F8F8F8; stroke-width: 1.5;\" width=\"111\" x=\"170.22\" y=\"310.0938\"/><rect fill=\"none\" height=\"40\" id=\"E9\" rx=\"10\" ry=\"10\" style=\"stroke: #383838; stroke-width: 1.5;\" width=\"111\" x=\"170.22\" y=\"295\"/><text fill=\"#000000\" font-family=\"sans-serif\" font-size=\"12\" lengthAdjust=\"spacingAndGlyphs\" textLength=\"100\" x=\"175.72\" y=\"312.457\">frontWheel: Wheel</text></a></g><g id=\"E1.E10\"><a href=\"psysml:4c313ac9-b833-4bfd-a944-dabbf6b5705c\" target=\"_top\" title=\"psysml:4c313ac9-b833-4bfd-a944-dabbf6b5705c\" xlink:actuate=\"onRequest\" xlink:href=\"psysml:4c313ac9-b833-4bfd-a944-dabbf6b5705c\" xlink:show=\"new\" xlink:title=\"psysml:4c313ac9-b833-4bfd-a944-dabbf6b5705c\" xlink:type=\"simple\"><rect fill=\"#FFFFFF\" height=\"40\" id=\"E10\" rx=\"10\" ry=\"10\" style=\"stroke: #383838; stroke-width: 1.5;\" width=\"109\" x=\"65.22\" y=\"175\"/><rect fill=\"#F8F8F8\" height=\"25.0938\" rx=\"10\" ry=\"10\" style=\"stroke: #F8F8F8; stroke-width: 1.5;\" width=\"109\" x=\"65.22\" y=\"175\"/><rect fill=\"#F8F8F8\" height=\"10\" style=\"stroke: #F8F8F8; stroke-width: 1.5;\" width=\"109\" x=\"65.22\" y=\"190.0938\"/><rect fill=\"none\" height=\"40\" id=\"E10\" rx=\"10\" ry=\"10\" style=\"stroke: #383838; stroke-width: 1.5;\" width=\"109\" x=\"65.22\" y=\"175\"/><text fill=\"#000000\" font-family=\"sans-serif\" font-size=\"12\" lengthAdjust=\"spacingAndGlyphs\" textLength=\"98\" x=\"70.72\" y=\"192.457\">rearWheel: Wheel</text></a></g><!--MD5=[79568f1e445c3877b6a54524624ccc7d]\n",
       "link E4 to E6--><a href=\"psysml:fd2c0d8c-7658-4ce5-aa53-b4550e0f0d3f\" target=\"_top\" title=\"psysml:fd2c0d8c-7658-4ce5-aa53-b4550e0f0d3f\" xlink:actuate=\"onRequest\" xlink:href=\"psysml:fd2c0d8c-7658-4ce5-aa53-b4550e0f0d3f\" xlink:show=\"new\" xlink:title=\"psysml:fd2c0d8c-7658-4ce5-aa53-b4550e0f0d3f\" xlink:type=\"simple\"><path d=\"M257.95,69.41 C275.13,78.81 322.99,105.01 340.34,114.51 \" fill=\"none\" id=\"E4-E6\" style=\"stroke: #383838; stroke-width: 3.0;\"/><text fill=\"#000000\" font-family=\"sans-serif\" font-size=\"13\" lengthAdjust=\"spacingAndGlyphs\" textLength=\"5\" x=\"328.014\" y=\"101.8459\">*</text></a><!--MD5=[3a9b96bfbf6b6ad89c494e81751bda47]\n",
       "link E5 to E7--><a href=\"psysml:7d351d2a-fdff-4f69-9ed6-08ded7b0f851\" target=\"_top\" title=\"psysml:7d351d2a-fdff-4f69-9ed6-08ded7b0f851\" xlink:actuate=\"onRequest\" xlink:href=\"psysml:7d351d2a-fdff-4f69-9ed6-08ded7b0f851\" xlink:show=\"new\" xlink:title=\"psysml:7d351d2a-fdff-4f69-9ed6-08ded7b0f851\" xlink:type=\"simple\"><path d=\"M343.1984,229.0039 C342.8334,229.337 342.4655,229.667 342.095,229.9936 C339.1306,232.6063 335.9925,235 332.72,237 C308.69,251.69 276.98,258.41 254.33,261.47 \" fill=\"none\" id=\"E5-E7\" style=\"stroke: #383838; stroke-width: 3.0;\"/><text fill=\"#000000\" font-family=\"sans-serif\" font-size=\"13\" lengthAdjust=\"spacingAndGlyphs\" textLength=\"5\" x=\"262.3019\" y=\"256.0556\">*</text></a><!--MD5=[1c0b9414cc86e0744215edee6abd8926]\n",
       "link E7 to E9--><a href=\"psysml:a8a24f74-f01c-4a6f-9507-a96441c01ccf\" target=\"_top\" title=\"psysml:a8a24f74-f01c-4a6f-9507-a96441c01ccf\" xlink:actuate=\"onRequest\" xlink:href=\"psysml:a8a24f74-f01c-4a6f-9507-a96441c01ccf\" xlink:show=\"new\" xlink:title=\"psysml:a8a24f74-f01c-4a6f-9507-a96441c01ccf\" xlink:type=\"simple\"><path d=\"M225.72,285.25 C225.72,288.38 225.72,291.62 225.72,294.75 \" fill=\"none\" id=\"E7-E9\" style=\"stroke: #383838; stroke-width: 3.0;\"/><text fill=\"#000000\" font-family=\"sans-serif\" font-size=\"13\" lengthAdjust=\"spacingAndGlyphs\" textLength=\"5\" x=\"212.6786\" y=\"284.0208\">*</text></a><!--MD5=[de116e21047ded6283635ff91c92fb70]\n",
       "link E8 to E10--><a href=\"psysml:64be3c9a-53a1-4318-bcaf-ac3a31712210\" target=\"_top\" title=\"psysml:64be3c9a-53a1-4318-bcaf-ac3a31712210\" xlink:actuate=\"onRequest\" xlink:href=\"psysml:64be3c9a-53a1-4318-bcaf-ac3a31712210\" xlink:show=\"new\" xlink:title=\"psysml:64be3c9a-53a1-4318-bcaf-ac3a31712210\" xlink:type=\"simple\"><path d=\"M99.67,139.06 C103.67,150.02 108.68,163.76 112.7,174.75 \" fill=\"none\" id=\"E8-E10\" style=\"stroke: #383838; stroke-width: 3.0;\"/><text fill=\"#000000\" font-family=\"sans-serif\" font-size=\"13\" lengthAdjust=\"spacingAndGlyphs\" textLength=\"5\" x=\"104.9035\" y=\"163.9983\">*</text></a><!--MD5=[2720a5a1f2c3fca2055b230370638851]\n",
       "link E2 to E3--><a href=\"psysml:eb62777c-b9f2-413f-85da-d8f4160633e5\" target=\"_top\" title=\"psysml:eb62777c-b9f2-413f-85da-d8f4160633e5\" xlink:actuate=\"onRequest\" xlink:href=\"psysml:eb62777c-b9f2-413f-85da-d8f4160633e5\" xlink:show=\"new\" xlink:title=\"psysml:eb62777c-b9f2-413f-85da-d8f4160633e5\" xlink:type=\"simple\"><path d=\"M137.93,75.47 C146.68,78.65 156.59,82.11 165.72,85 C167.3138,85.505 168.773,85.9202 170.13,86.2711 C170.8086,86.4466 171.4616,86.606 172.0931,86.7526 C172.4088,86.8259 172.7192,86.896 173.0247,86.9632 C173.1775,86.9969 173.329,87.0298 173.4794,87.0621 C173.5546,87.0782 173.6295,87.0942 173.7041,87.11 \" fill=\"none\" id=\"E2-E3\" style=\"stroke: #383838; stroke-width: 3.0;\"/><text fill=\"#000000\" font-family=\"sans-serif\" font-size=\"13\" lengthAdjust=\"spacingAndGlyphs\" textLength=\"5\" x=\"214.65\" y=\"106.3351\">*</text></a><!--MD5=[dcad52bbbca2fe8adc741ce38b45dc12]\n",
       "link E2 to E5--><a href=\"psysml:8794f345-fa00-4a73-bad7-939d01e3c34e\" target=\"_top\" title=\"psysml:8794f345-fa00-4a73-bad7-939d01e3c34e\" xlink:actuate=\"onRequest\" xlink:href=\"psysml:8794f345-fa00-4a73-bad7-939d01e3c34e\" xlink:show=\"new\" xlink:title=\"psysml:8794f345-fa00-4a73-bad7-939d01e3c34e\" xlink:type=\"simple\"><path d=\"M131.16,85.11 C133.44,87.71 135.68,90.38 137.72,93 C159.81,121.42 150.57,142.97 181.72,161 C196.26,169.415 226.0625,168.6925 256.2038,167.2275 C271.2744,166.495 286.4297,165.5769 299.8042,165.5225 C306.4915,165.4953 312.7336,165.6841 318.2972,166.2199 C321.0791,166.4879 323.6913,166.8426 326.1049,167.3004 C326.7082,167.4149 327.2992,167.5358 327.8773,167.6635 C328.0218,167.6954 328.1655,167.7277 328.3084,167.7604 \" fill=\"none\" id=\"E2-E5\" style=\"stroke: #383838; stroke-width: 3.0;\"/><text fill=\"#000000\" font-family=\"sans-serif\" font-size=\"13\" lengthAdjust=\"spacingAndGlyphs\" textLength=\"5\" x=\"353.86\" y=\"182.3751\">*</text></a><!--MD5=[e3d2a08a9c9236652057e8ed0cbc9b62]\n",
       "link E2 to E7--><a href=\"psysml:d9ad9138-7a4e-4d59-b15d-ab84cfab10e9\" target=\"_top\" title=\"psysml:d9ad9138-7a4e-4d59-b15d-ab84cfab10e9\" xlink:actuate=\"onRequest\" xlink:href=\"psysml:d9ad9138-7a4e-4d59-b15d-ab84cfab10e9\" xlink:show=\"new\" xlink:title=\"psysml:d9ad9138-7a4e-4d59-b15d-ab84cfab10e9\" xlink:type=\"simple\"><path d=\"M87.72,69.5 C73.42,72.93 56.61,79.69 47.72,93 C12.19,146.23 6,188.47 47.72,237 C66.62,258.98 151.59,263.28 196.96,263.99 \" fill=\"none\" id=\"E2-E7\" style=\"stroke: #383838; stroke-width: 3.0;\"/><text fill=\"#000000\" font-family=\"sans-serif\" font-size=\"13\" lengthAdjust=\"spacingAndGlyphs\" textLength=\"5\" x=\"184.3404\" y=\"259.3318\">*</text></a><!--MD5=[b0060bfdb0500b904584095522b4da3c]\n",
       "link E2 to E8--><a href=\"psysml:41053cbd-bd5f-45a3-bae2-212c3eee1b07\" target=\"_top\" title=\"psysml:41053cbd-bd5f-45a3-bae2-212c3eee1b07\" xlink:actuate=\"onRequest\" xlink:href=\"psysml:41053cbd-bd5f-45a3-bae2-212c3eee1b07\" xlink:show=\"new\" xlink:title=\"psysml:41053cbd-bd5f-45a3-bae2-212c3eee1b07\" xlink:type=\"simple\"><path d=\"M105.39,85.07 C103.65,89.59 101.79,94.41 100.05,98.93 \" fill=\"none\" id=\"E2-E8\" style=\"stroke: #383838; stroke-width: 3.0;\"/><text fill=\"#000000\" font-family=\"sans-serif\" font-size=\"13\" lengthAdjust=\"spacingAndGlyphs\" textLength=\"5\" x=\"88.289\" y=\"87.988\">*</text></a><!--MD5=[ede85014bb42e3ae8bb8dc42e38ba617]\n",
       "@startuml\r\n",
       "skinparam ranksep 10\r\n",
       "skinparam rectangle {\r\n",
       " backgroundColor<<block>> LightGreen\r\n",
       "}\r\n",
       "skinparam monochrome true\r\n",
       "skinparam classbackgroundcolor white\r\n",
       "skinparam shadowing false\r\n",
       "skinparam wrapWidth 300\r\n",
       "hide circle\r\n",
       "\r\n",
       "rec usage \"eVehicle\" as E1  [[psysml:40b586a2-1140-4770-a24d-b195df6df9c8 ]] {\r\n",
       "rec usage \"body\" as E2  [[psysml:cc17ea28-5121-4534-a41b-4d15050926b7 ]] {\r\n",
       "}\r\n",
       "rec usage \"battery\" as E3  [[psysml:24085547-81c6-4268-bd82-a47363f9b7f2 ]] {\r\n",
       "portin \"powerOut \" as E4  <<(T,blue) port>> [[psysml:40b8871c-b517-4d94-a589-815615308ed4 ]] \r\n",
       "}\r\n",
       "rec usage \"engine\" as E5  [[psysml:6f7a44dd-50dd-47cd-95fd-e6e0887ff5b6 ]] {\r\n",
       "portin \"powerIn \" as E6  <<(T,blue) port>> [[psysml:d210c545-74f2-4c56-8dd9-4599afa2cbca ]] \r\n",
       "}\r\n",
       "rec usage \"frontAxis\" as E7  [[psysml:39ba1543-a2a0-4551-9e01-2fe5fdfeb807 ]] {\r\n",
       "}\r\n",
       "rec usage \"rearAxis\" as E8  [[psysml:12b90cb7-02e3-4b78-ad14-739a1fb09cc2 ]] {\r\n",
       "}\r\n",
       "rec usage \"frontWheel: Wheel\" as E9  [[psysml:811736fe-debb-4c0c-9c39-232827b1d6c0 ]] {\r\n",
       "}\r\n",
       "rec usage \"rearWheel: Wheel\" as E10  [[psysml:4c313ac9-b833-4bfd-a944-dabbf6b5705c ]] {\r\n",
       "}\r\n",
       "}\r\n",
       "E4 -[thickness=3]- \"*\"E6 [[psysml:fd2c0d8c-7658-4ce5-aa53-b4550e0f0d3f ]] \r\n",
       "E5 -[thickness=3]- \"*\"E7 [[psysml:7d351d2a-fdff-4f69-9ed6-08ded7b0f851 ]] \r\n",
       "E7 -[thickness=3]- \"*\"E9 [[psysml:a8a24f74-f01c-4a6f-9507-a96441c01ccf ]] \r\n",
       "E8 -[thickness=3]- \"*\"E10 [[psysml:64be3c9a-53a1-4318-bcaf-ac3a31712210 ]] \r\n",
       "E2 -[thickness=3]- \"*\"E3 [[psysml:eb62777c-b9f2-413f-85da-d8f4160633e5 ]] \r\n",
       "E2 -[thickness=3]- \"*\"E5 [[psysml:8794f345-fa00-4a73-bad7-939d01e3c34e ]] \r\n",
       "E2 -[thickness=3]- \"*\"E7 [[psysml:d9ad9138-7a4e-4d59-b15d-ab84cfab10e9 ]] \r\n",
       "E2 -[thickness=3]- \"*\"E8 [[psysml:41053cbd-bd5f-45a3-bae2-212c3eee1b07 ]] \r\n",
       "@enduml\r\n",
       "\n",
       "PlantUML version 1.2020.13(Sat Jun 13 14:26:38 CEST 2020)\n",
       "(EPL source distribution)\n",
       "Java Runtime: OpenJDK Runtime Environment\n",
       "JVM: OpenJDK 64-Bit Server VM\n",
       "Default Encoding: Cp1252\n",
       "Language: en\n",
       "Country: US\n",
       "--></g></svg>"
      ]
     },
     "execution_count": 15,
     "metadata": {},
     "output_type": "execute_result"
    }
   ],
   "source": [
    "%viz --view=interconnection eVehicle_LogicalArchitecture::eVehicle"
   ]
  },
  {
   "cell_type": "markdown",
   "metadata": {},
   "source": [
    "The ports *powerIn* and *powerOut* have no types respectively the SysML v2 library element *Port* as default type. The consistent usage/definition pattern applies here as well. The port is a usage. With a PortDef the interaction point can be defined. In this example it is a good candidate for a model library.\n",
    "\n",
    "The port only specifies the interaction point. The interface defines the connection between interaction points. The *PowerOutPort* is conjugated for the *consumerPort* port."
   ]
  },
  {
   "cell_type": "code",
   "execution_count": 21,
   "metadata": {},
   "outputs": [
    {
     "data": {
      "text/plain": [
       "Package eVehicleLibrary (910b300c-a3f3-4321-aba8-95ff3d2409b6)\n"
      ]
     },
     "execution_count": 21,
     "metadata": {},
     "output_type": "execute_result"
    }
   ],
   "source": [
    "package eVehicleLibrary {\n",
    "    \n",
    "    import ScalarValues::Integer;\n",
    "    \n",
    "    attribute def ElectricEnergy;\n",
    "    attribute def BatteryCapacity;\n",
    "    \n",
    "    port def PowerOutPort {\n",
    "        out energy : ElectricEnergy;\n",
    "    }\n",
    "    \n",
    "    interface def PowerInterface {\n",
    "        end supplierPort : PowerOutPort;\n",
    "        end consumerPort : ~PowerOutPort;\n",
    "    }\n",
    "}"
   ]
  },
  {
   "cell_type": "code",
   "execution_count": 22,
   "metadata": {},
   "outputs": [
    {
     "data": {
      "image/svg+xml": [
       "<?xml version=\"1.0\" encoding=\"UTF-8\" standalone=\"no\"?><svg xmlns=\"http://www.w3.org/2000/svg\" xmlns:xlink=\"http://www.w3.org/1999/xlink\" contentScriptType=\"application/ecmascript\" contentStyleType=\"text/css\" height=\"462px\" preserveAspectRatio=\"none\" style=\"width:439px;height:462px;\" version=\"1.1\" viewBox=\"0 0 439 462\" width=\"439px\" zoomAndPan=\"magnify\"><defs/><g><!--MD5=[fbc87193dbaf4d95561dea2c320d4a47]\n",
       "cluster E1--><a href=\"psysml:289d7cbc-c52e-4d0e-869c-357e602cd917\" target=\"_top\" title=\"psysml:289d7cbc-c52e-4d0e-869c-357e602cd917\" xlink:actuate=\"onRequest\" xlink:href=\"psysml:289d7cbc-c52e-4d0e-869c-357e602cd917\" xlink:show=\"new\" xlink:title=\"psysml:289d7cbc-c52e-4d0e-869c-357e602cd917\" xlink:type=\"simple\"><polygon fill=\"#FFFFFF\" points=\"16,6,131,6,138,29.6094,417,29.6094,417,450,16,450,16,6\" style=\"stroke: #000000; stroke-width: 1.5;\"/><line style=\"stroke: #000000; stroke-width: 1.5;\" x1=\"16\" x2=\"138\" y1=\"29.6094\" y2=\"29.6094\"/><text fill=\"#000000\" font-family=\"sans-serif\" font-size=\"14\" font-weight=\"bold\" lengthAdjust=\"spacingAndGlyphs\" textLength=\"109\" x=\"20\" y=\"22.5332\">eVehicleLibrary</text></a><!--MD5=[b4997ac47864f28c2f74865a473b2911]\n",
       "class E2--><a href=\"psysml:59f71507-1752-46f5-af05-828ffaa6715a\" target=\"_top\" title=\"psysml:59f71507-1752-46f5-af05-828ffaa6715a\" xlink:actuate=\"onRequest\" xlink:href=\"psysml:59f71507-1752-46f5-af05-828ffaa6715a\" xlink:show=\"new\" xlink:title=\"psysml:59f71507-1752-46f5-af05-828ffaa6715a\" xlink:type=\"simple\"><rect fill=\"#FFFFFF\" height=\"48.1875\" id=\"E2\" style=\"stroke: #383838; stroke-width: 1.5;\" width=\"84\" x=\"69\" y=\"386\"/><text fill=\"#000000\" font-family=\"sans-serif\" font-size=\"12\" font-style=\"italic\" lengthAdjust=\"spacingAndGlyphs\" textLength=\"82\" x=\"70\" y=\"403.457\">«attribute  def»</text><text fill=\"#000000\" font-family=\"sans-serif\" font-size=\"12\" lengthAdjust=\"spacingAndGlyphs\" textLength=\"78\" x=\"72\" y=\"418.5508\">ElectricEnergy</text><line style=\"stroke: #383838; stroke-width: 1.5;\" x1=\"70\" x2=\"152\" y1=\"426.1875\" y2=\"426.1875\"/></a><!--MD5=[09b614a08d8cba4a07c9adeb5e0fee81]\n",
       "class E3--><a href=\"psysml:8868d521-5bad-4f40-91ed-493e326f8844\" target=\"_top\" title=\"psysml:8868d521-5bad-4f40-91ed-493e326f8844\" xlink:actuate=\"onRequest\" xlink:href=\"psysml:8868d521-5bad-4f40-91ed-493e326f8844\" xlink:show=\"new\" xlink:title=\"psysml:8868d521-5bad-4f40-91ed-493e326f8844\" xlink:type=\"simple\"><rect fill=\"#FFFFFF\" height=\"48.1875\" id=\"E3\" style=\"stroke: #383838; stroke-width: 1.5;\" width=\"90\" x=\"279\" y=\"42\"/><text fill=\"#000000\" font-family=\"sans-serif\" font-size=\"12\" font-style=\"italic\" lengthAdjust=\"spacingAndGlyphs\" textLength=\"82\" x=\"283\" y=\"59.457\">«attribute  def»</text><text fill=\"#000000\" font-family=\"sans-serif\" font-size=\"12\" lengthAdjust=\"spacingAndGlyphs\" textLength=\"84\" x=\"282\" y=\"74.5508\">BatteryCapacity</text><line style=\"stroke: #383838; stroke-width: 1.5;\" x1=\"280\" x2=\"368\" y1=\"82.1875\" y2=\"82.1875\"/></a><!--MD5=[ebbe1d658d1005bcc118a6aa81145e00]\n",
       "class E4--><a href=\"psysml:4ca41b26-6fc1-47e4-8168-02ab753ba459\" target=\"_top\" title=\"psysml:4ca41b26-6fc1-47e4-8168-02ab753ba459\" xlink:actuate=\"onRequest\" xlink:href=\"psysml:4ca41b26-6fc1-47e4-8168-02ab753ba459\" xlink:show=\"new\" xlink:title=\"psysml:4ca41b26-6fc1-47e4-8168-02ab753ba459\" xlink:type=\"simple\"><rect fill=\"#FFFFFF\" height=\"48.1875\" id=\"E4\" style=\"stroke: #383838; stroke-width: 1.5;\" width=\"82\" x=\"70\" y=\"260\"/><text fill=\"#000000\" font-family=\"sans-serif\" font-size=\"12\" font-style=\"italic\" lengthAdjust=\"spacingAndGlyphs\" textLength=\"58\" x=\"82\" y=\"277.457\">«port  def»</text><text fill=\"#000000\" font-family=\"sans-serif\" font-size=\"12\" lengthAdjust=\"spacingAndGlyphs\" textLength=\"76\" x=\"73\" y=\"292.5508\">PowerOutPort</text><line style=\"stroke: #383838; stroke-width: 1.5;\" x1=\"71\" x2=\"151\" y1=\"300.1875\" y2=\"300.1875\"/></a><!--MD5=[270fce915f116d4de14055a7c1d9a0f3]\n",
       "class E5--><a href=\"psysml:fa71ac1d-27a1-4578-9b8c-9ce376ae7952\" target=\"_top\" title=\"psysml:fa71ac1d-27a1-4578-9b8c-9ce376ae7952\" xlink:actuate=\"onRequest\" xlink:href=\"psysml:fa71ac1d-27a1-4578-9b8c-9ce376ae7952\" xlink:show=\"new\" xlink:title=\"psysml:fa71ac1d-27a1-4578-9b8c-9ce376ae7952\" xlink:type=\"simple\"><rect fill=\"#FFFFFF\" height=\"48.1875\" id=\"E5\" style=\"stroke: #383838; stroke-width: 1.5;\" width=\"88\" x=\"99\" y=\"42\"/><text fill=\"#000000\" font-family=\"sans-serif\" font-size=\"12\" font-style=\"italic\" lengthAdjust=\"spacingAndGlyphs\" textLength=\"84\" x=\"101\" y=\"59.457\">«interface  def»</text><text fill=\"#000000\" font-family=\"sans-serif\" font-size=\"12\" lengthAdjust=\"spacingAndGlyphs\" textLength=\"82\" x=\"102\" y=\"74.5508\">PowerInterface</text><line style=\"stroke: #383838; stroke-width: 1.5;\" x1=\"100\" x2=\"186\" y1=\"82.1875\" y2=\"82.1875\"/></a><!--MD5=[60a26617385b1d2d0262a64233df1f8d]\n",
       "class E6--><a href=\"psysml:2cbdccc4-c0b6-4e81-b50a-84fad233fb0f\" target=\"_top\" title=\"psysml:2cbdccc4-c0b6-4e81-b50a-84fad233fb0f\" xlink:actuate=\"onRequest\" xlink:href=\"psysml:2cbdccc4-c0b6-4e81-b50a-84fad233fb0f\" xlink:show=\"new\" xlink:title=\"psysml:2cbdccc4-c0b6-4e81-b50a-84fad233fb0f\" xlink:type=\"simple\"><rect fill=\"#FFFFFF\" height=\"48.1875\" id=\"E6\" rx=\"10\" ry=\"10\" style=\"stroke: #383838; stroke-width: 1.5;\" width=\"158\" x=\"32\" y=\"151\"/><text fill=\"#000000\" font-family=\"sans-serif\" font-size=\"12\" font-style=\"italic\" lengthAdjust=\"spacingAndGlyphs\" textLength=\"35\" x=\"93.5\" y=\"168.457\">«port»</text><text fill=\"#000000\" font-family=\"sans-serif\" font-size=\"12\" lengthAdjust=\"spacingAndGlyphs\" textLength=\"149\" x=\"35\" y=\"183.5508\">supplierPort: PowerOutPort</text><line style=\"stroke: #383838; stroke-width: 1.5;\" x1=\"33\" x2=\"189\" y1=\"191.1875\" y2=\"191.1875\"/></a><!--MD5=[2156ba9850f5573cc1fc38a6a4b2f02b]\n",
       "class E7--><a href=\"psysml:867e93b7-35ee-483a-b95e-145a2c881820\" target=\"_top\" title=\"psysml:867e93b7-35ee-483a-b95e-145a2c881820\" xlink:actuate=\"onRequest\" xlink:href=\"psysml:867e93b7-35ee-483a-b95e-145a2c881820\" xlink:show=\"new\" xlink:title=\"psysml:867e93b7-35ee-483a-b95e-145a2c881820\" xlink:type=\"simple\"><rect fill=\"#FFFFFF\" height=\"48.1875\" id=\"E7\" rx=\"10\" ry=\"10\" style=\"stroke: #383838; stroke-width: 1.5;\" width=\"176\" x=\"225\" y=\"151\"/><text fill=\"#000000\" font-family=\"sans-serif\" font-size=\"12\" font-style=\"italic\" lengthAdjust=\"spacingAndGlyphs\" textLength=\"35\" x=\"295.5\" y=\"168.457\">«port»</text><text fill=\"#000000\" font-family=\"sans-serif\" font-size=\"12\" lengthAdjust=\"spacingAndGlyphs\" textLength=\"167\" x=\"228\" y=\"183.5508\">consumerPort: ~PowerOutPort</text><line style=\"stroke: #383838; stroke-width: 1.5;\" x1=\"226\" x2=\"400\" y1=\"191.1875\" y2=\"191.1875\"/></a><!--MD5=[ddeed8deb2209213b62e6cfabaa108b2]\n",
       "reverse link E4 to E2--><a href=\"psysml:7c3528e4-b92e-4d40-aa35-5b3e07378dbd\" target=\"_top\" title=\"psysml:7c3528e4-b92e-4d40-aa35-5b3e07378dbd\" xlink:actuate=\"onRequest\" xlink:href=\"psysml:7c3528e4-b92e-4d40-aa35-5b3e07378dbd\" xlink:show=\"new\" xlink:title=\"psysml:7c3528e4-b92e-4d40-aa35-5b3e07378dbd\" xlink:type=\"simple\"><path d=\"M111,321.21 C111,342.01 111,367.52 111,385.67 \" fill=\"none\" id=\"E4&lt;-E2\" style=\"stroke: #383838; stroke-width: 1.0;\"/><polygon fill=\"#FFFFFF\" points=\"111,308.03,107,314.03,111,320.03,115,314.03,111,308.03\" style=\"stroke: #383838; stroke-width: 1.0;\"/><text fill=\"#000000\" font-family=\"sans-serif\" font-size=\"13\" lengthAdjust=\"spacingAndGlyphs\" textLength=\"39\" x=\"112\" y=\"352.4951\">energy</text></a><!--MD5=[85d356282659285ab4b2cfe2f634dd2b]\n",
       "reverse link E5 to E6--><a href=\"psysml:c027cb3d-12f0-444b-ae75-af3706390639\" target=\"_top\" title=\"psysml:c027cb3d-12f0-444b-ae75-af3706390639\" xlink:actuate=\"onRequest\" xlink:href=\"psysml:c027cb3d-12f0-444b-ae75-af3706390639\" xlink:show=\"new\" xlink:title=\"psysml:c027cb3d-12f0-444b-ae75-af3706390639\" xlink:type=\"simple\"><path d=\"M132.29,102.83 C127.55,118.66 122.12,136.82 117.93,150.83 \" fill=\"none\" id=\"E5&lt;-E6\" style=\"stroke: #383838; stroke-width: 1.0;\"/><polygon fill=\"#FFFFFF\" points=\"136.06,90.22,130.5075,94.8211,132.6191,101.7161,138.1716,97.115,136.06,90.22\" style=\"stroke: #383838; stroke-width: 1.0;\"/><text fill=\"#000000\" font-family=\"sans-serif\" font-size=\"13\" lengthAdjust=\"spacingAndGlyphs\" textLength=\"7\" x=\"111.8089\" y=\"140.1026\">1</text></a><!--MD5=[f667431f98296947986a1a7595a31603]\n",
       "link E6 to E4--><a href=\"psysml:4812f377-6750-418d-8d67-594583c2160f\" target=\"_top\" title=\"psysml:4812f377-6750-418d-8d67-594583c2160f\" xlink:actuate=\"onRequest\" xlink:href=\"psysml:4812f377-6750-418d-8d67-594583c2160f\" xlink:show=\"new\" xlink:title=\"psysml:4812f377-6750-418d-8d67-594583c2160f\" xlink:type=\"simple\"><path d=\"M111,199.22 C111,211 111,225.69 111,239.48 \" fill=\"none\" id=\"E6-&gt;E4\" style=\"stroke: #383838; stroke-width: 1.0;\"/><polygon fill=\"#FFFFFF\" points=\"111,259.83,104,240.83,118,240.83,111,259.83\" style=\"stroke: #383838; stroke-width: 1.0;\"/><ellipse cx=\"106\" cy=\"235.13\" fill=\"#383838\" rx=\"2\" ry=\"2\" style=\"stroke: #383838; stroke-width: 1.0;\"/><ellipse cx=\"116\" cy=\"235.13\" fill=\"#383838\" rx=\"2\" ry=\"2\" style=\"stroke: #383838; stroke-width: 1.0;\"/></a><!--MD5=[452b418e7f8a40397a49b8c0a78acc5b]\n",
       "reverse link E5 to E7--><a href=\"psysml:fc3edb7f-dbd9-48be-a4ad-3e394a4f106e\" target=\"_top\" title=\"psysml:fc3edb7f-dbd9-48be-a4ad-3e394a4f106e\" xlink:actuate=\"onRequest\" xlink:href=\"psysml:fc3edb7f-dbd9-48be-a4ad-3e394a4f106e\" xlink:show=\"new\" xlink:title=\"psysml:fc3edb7f-dbd9-48be-a4ad-3e394a4f106e\" xlink:type=\"simple\"><path d=\"M191.04,97.24 C218.06,114.24 251.25,135.13 276.18,150.83 \" fill=\"none\" id=\"E5&lt;-E7\" style=\"stroke: #383838; stroke-width: 1.0;\"/><polygon fill=\"#FFFFFF\" points=\"179.89,90.22,182.8411,96.7996,190.0496,96.6061,187.0985,90.0265,179.89,90.22\" style=\"stroke: #383838; stroke-width: 1.0;\"/><text fill=\"#000000\" font-family=\"sans-serif\" font-size=\"13\" lengthAdjust=\"spacingAndGlyphs\" textLength=\"7\" x=\"258.848\" y=\"140.1026\">1</text></a><!--MD5=[9cda0dacc338515628663ffe0f54d2ad]\n",
       "@startuml\r\n",
       "skinparam monochrome true\r\n",
       "skinparam classbackgroundcolor white\r\n",
       "skinparam shadowing false\r\n",
       "skinparam wrapWidth 300\r\n",
       "hide circle\r\n",
       "\r\n",
       "package \"eVehicleLibrary\" as E1  [[psysml:289d7cbc-c52e-4d0e-869c-357e602cd917 ]]  {\r\n",
       "comp def \"ElectricEnergy\" as E2  <<(T,blue) attribute  def>> [[psysml:59f71507-1752-46f5-af05-828ffaa6715a ]] {\r\n",
       "}\r\n",
       "comp def \"BatteryCapacity\" as E3  <<(T,blue) attribute  def>> [[psysml:8868d521-5bad-4f40-91ed-493e326f8844 ]] {\r\n",
       "}\r\n",
       "comp def \"PowerOutPort\" as E4  <<(T,blue) port  def>> [[psysml:4ca41b26-6fc1-47e4-8168-02ab753ba459 ]] {\r\n",
       "}\r\n",
       "comp def \"PowerInterface\" as E5  <<(T,blue) interface  def>> [[psysml:fa71ac1d-27a1-4578-9b8c-9ce376ae7952 ]] {\r\n",
       "}\r\n",
       "comp usage \"supplierPort: PowerOutPort \" as E6  <<(T,blue) port>> [[psysml:2cbdccc4-c0b6-4e81-b50a-84fad233fb0f ]] {\r\n",
       "}\r\n",
       "comp usage \"consumerPort: ~PowerOutPort \" as E7  <<(T,blue) port>> [[psysml:867e93b7-35ee-483a-b95e-145a2c881820 ]] {\r\n",
       "}\r\n",
       "}\r\n",
       "E4 o- - E2 [[psysml:7c3528e4-b92e-4d40-aa35-5b3e07378dbd ]] : energy\r\n",
       "E5 o- - \"1\"E6 [[psysml:c027cb3d-12f0-444b-ae75-af3706390639 ]] \r\n",
       "E6 - -:|> E4 [[psysml:4812f377-6750-418d-8d67-594583c2160f ]] \r\n",
       "E5 o- - \"1\"E7 [[psysml:fc3edb7f-dbd9-48be-a4ad-3e394a4f106e ]] \r\n",
       "@enduml\r\n",
       "\n",
       "PlantUML version 1.2020.13(Sat Jun 13 14:26:38 CEST 2020)\n",
       "(EPL source distribution)\n",
       "Java Runtime: OpenJDK Runtime Environment\n",
       "JVM: OpenJDK 64-Bit Server VM\n",
       "Default Encoding: Cp1252\n",
       "Language: en\n",
       "Country: US\n",
       "--></g></svg>"
      ]
     },
     "execution_count": 22,
     "metadata": {},
     "output_type": "execute_result"
    }
   ],
   "source": [
    "%viz --view=tree eVehicleLibrary"
   ]
  },
  {
   "cell_type": "markdown",
   "metadata": {},
   "source": [
    "Next, the definitions of the port and the interface are applied to the model. **Do not forget to run the eVehicle_Definitions and eVehicleLibrary in section [Libraries for the eVehicle example](#sysmlv2modlibrary).**"
   ]
  },
  {
   "cell_type": "code",
   "execution_count": 23,
   "metadata": {},
   "outputs": [
    {
     "data": {
      "text/plain": [
       "Package eVehicle_LogicalArchitecture (547562f8-edce-450d-939e-3d49c8d2c305)\n"
      ]
     },
     "execution_count": 23,
     "metadata": {},
     "output_type": "execute_result"
    }
   ],
   "source": [
    "package eVehicle_LogicalArchitecture {\n",
    "       \n",
    "    import eVehicleLibrary::*;\n",
    "\n",
    "    attribute def WheelSize {\n",
    "        import ScalarValues::Integer;\n",
    "        size : Integer;\n",
    "    }\n",
    "    \n",
    "    part def Wheel {\n",
    "        constraint pressureConstraint : WheelPressureConstraint (\n",
    "            currentPressure = currentPressure,\n",
    "            limitPressure = maxPressure);\n",
    "        attribute sizeOfWheel : WheelSize;\n",
    "        attribute currentPressure : ScalarValues::Real;\n",
    "        attribute maxPressure : ScalarValues::Real;\n",
    "    }\n",
    "    \n",
    "    part def FrontWheel :> Wheel {\n",
    "        attribute redefines maxPressure = 2.0;\n",
    "    }\n",
    "    part def RearWheel :> Wheel {\n",
    "        attribute redefines maxPressure = 2.5;\n",
    "    }\n",
    "    \n",
    "    constraint def WheelPressureConstraint (\n",
    "        currentPressure : ScalarValues::Real,\n",
    "        limitPressure : ScalarValues::Real) {\n",
    "            currentPressure <= limitPressure\n",
    "    }\n",
    "    \n",
    "    part eVehicle {    \n",
    "        part body;\n",
    "        part battery {\n",
    "            attribute capacity : BatteryCapacity;\n",
    "            port powerOut : PowerOutPort;\n",
    "        }\n",
    "        part engine {\n",
    "            port powerIn : ~PowerOutPort;\n",
    "        }\n",
    "        part frontAxis;\n",
    "        part rearAxis;\n",
    "        part frontWheel : Wheel[2];\n",
    "        part rearWheel : Wheel[2];\n",
    "        \n",
    "        interface : PowerInterface connect \n",
    "            supplierPort :> battery.powerOut to \n",
    "            consumerPort :> engine.powerIn;\n",
    "        connect engine to frontAxis;\n",
    "        connect frontAxis to frontWheel;\n",
    "        connect rearAxis to rearWheel;\n",
    "        connect body to battery;\n",
    "        connect body to engine;\n",
    "        connect body to frontAxis;\n",
    "        connect body to rearAxis;\n",
    "    }\n",
    "}"
   ]
  },
  {
   "cell_type": "code",
   "execution_count": 24,
   "metadata": {},
   "outputs": [
    {
     "data": {
      "image/svg+xml": [
       "<?xml version=\"1.0\" encoding=\"UTF-8\" standalone=\"no\"?><svg xmlns=\"http://www.w3.org/2000/svg\" xmlns:xlink=\"http://www.w3.org/1999/xlink\" contentScriptType=\"application/ecmascript\" contentStyleType=\"text/css\" height=\"354px\" preserveAspectRatio=\"none\" style=\"width:554px;height:354px;\" version=\"1.1\" viewBox=\"0 0 554 354\" width=\"554px\" zoomAndPan=\"magnify\"><defs/><g><!--MD5=[fbc87193dbaf4d95561dea2c320d4a47]\n",
       "cluster E1--><a href=\"psysml:5e4d256d-73fa-46bd-854f-dc13dfcf8b5b\" target=\"_top\" title=\"psysml:5e4d256d-73fa-46bd-854f-dc13dfcf8b5b\" xlink:actuate=\"onRequest\" xlink:href=\"psysml:5e4d256d-73fa-46bd-854f-dc13dfcf8b5b\" xlink:show=\"new\" xlink:title=\"psysml:5e4d256d-73fa-46bd-854f-dc13dfcf8b5b\" xlink:type=\"simple\"><rect fill=\"#FFFFFF\" height=\"336\" id=\"E1\" rx=\"10\" ry=\"10\" style=\"stroke: #383838; stroke-width: 1.5;\" width=\"533\" x=\"9.27\" y=\"7\"/><rect fill=\"#F8F8F8\" height=\"25.0938\" rx=\"10\" ry=\"10\" style=\"stroke: #F8F8F8; stroke-width: 1.5;\" width=\"533\" x=\"9.27\" y=\"7\"/><rect fill=\"#F8F8F8\" height=\"10\" style=\"stroke: #F8F8F8; stroke-width: 1.5;\" width=\"533\" x=\"9.27\" y=\"22.0938\"/><rect fill=\"none\" height=\"336\" id=\"E1\" rx=\"10\" ry=\"10\" style=\"stroke: #383838; stroke-width: 1.5;\" width=\"533\" x=\"9.27\" y=\"7\"/><text fill=\"#000000\" font-family=\"sans-serif\" font-size=\"12\" lengthAdjust=\"spacingAndGlyphs\" textLength=\"47\" x=\"252.27\" y=\"24.457\">eVehicle</text><line style=\"stroke: #383838; stroke-width: 1.0;\" x1=\"9.27\" x2=\"542.27\" y1=\"32.0938\" y2=\"32.0938\"/></a><!--MD5=[d5e69f78d87373223dbae638b30a9c99]\n",
       "cluster E3--><a href=\"psysml:d47923ca-b360-4a19-a1b6-fc6422ec8b66\" target=\"_top\" title=\"psysml:d47923ca-b360-4a19-a1b6-fc6422ec8b66\" xlink:actuate=\"onRequest\" xlink:href=\"psysml:d47923ca-b360-4a19-a1b6-fc6422ec8b66\" xlink:show=\"new\" xlink:title=\"psysml:d47923ca-b360-4a19-a1b6-fc6422ec8b66\" xlink:type=\"simple\"><rect fill=\"#FFFFFF\" height=\"156\" id=\"E3\" rx=\"10\" ry=\"10\" style=\"stroke: #383838; stroke-width: 1.5;\" width=\"192\" x=\"326.27\" y=\"65\"/><rect fill=\"#F8F8F8\" height=\"25.0938\" rx=\"10\" ry=\"10\" style=\"stroke: #F8F8F8; stroke-width: 1.5;\" width=\"192\" x=\"326.27\" y=\"65\"/><rect fill=\"#F8F8F8\" height=\"10\" style=\"stroke: #F8F8F8; stroke-width: 1.5;\" width=\"192\" x=\"326.27\" y=\"80.0938\"/><rect fill=\"none\" height=\"156\" id=\"E3\" rx=\"10\" ry=\"10\" style=\"stroke: #383838; stroke-width: 1.5;\" width=\"192\" x=\"326.27\" y=\"65\"/><text fill=\"#000000\" font-family=\"sans-serif\" font-size=\"12\" lengthAdjust=\"spacingAndGlyphs\" textLength=\"36\" x=\"404.27\" y=\"82.457\">battery</text><line style=\"stroke: #383838; stroke-width: 1.0;\" x1=\"326.27\" x2=\"518.27\" y1=\"90.0938\" y2=\"90.0938\"/></a><!--MD5=[14e3b0961a2654348d326746436168a1]\n",
       "cluster E6--><a href=\"psysml:ff7dd61c-dc32-4dd5-b56f-1eccd1b812d6\" target=\"_top\" title=\"psysml:ff7dd61c-dc32-4dd5-b56f-1eccd1b812d6\" xlink:actuate=\"onRequest\" xlink:href=\"psysml:ff7dd61c-dc32-4dd5-b56f-1eccd1b812d6\" xlink:show=\"new\" xlink:title=\"psysml:ff7dd61c-dc32-4dd5-b56f-1eccd1b812d6\" xlink:type=\"simple\"><rect fill=\"#FFFFFF\" height=\"88\" id=\"E6\" rx=\"10\" ry=\"10\" style=\"stroke: #383838; stroke-width: 1.5;\" width=\"96\" x=\"188.27\" y=\"119\"/><rect fill=\"#F8F8F8\" height=\"25.0938\" rx=\"10\" ry=\"10\" style=\"stroke: #F8F8F8; stroke-width: 1.5;\" width=\"96\" x=\"188.27\" y=\"119\"/><rect fill=\"#F8F8F8\" height=\"10\" style=\"stroke: #F8F8F8; stroke-width: 1.5;\" width=\"96\" x=\"188.27\" y=\"134.0938\"/><rect fill=\"none\" height=\"88\" id=\"E6\" rx=\"10\" ry=\"10\" style=\"stroke: #383838; stroke-width: 1.5;\" width=\"96\" x=\"188.27\" y=\"119\"/><text fill=\"#000000\" font-family=\"sans-serif\" font-size=\"12\" lengthAdjust=\"spacingAndGlyphs\" textLength=\"38\" x=\"217.27\" y=\"136.457\">engine</text><line style=\"stroke: #383838; stroke-width: 1.0;\" x1=\"188.27\" x2=\"284.27\" y1=\"144.0938\" y2=\"144.0938\"/></a><g id=\"E1.E2\"><a href=\"psysml:e9174f33-f364-4dcb-aef2-54d7734060d1\" target=\"_top\" title=\"psysml:e9174f33-f364-4dcb-aef2-54d7734060d1\" xlink:actuate=\"onRequest\" xlink:href=\"psysml:e9174f33-f364-4dcb-aef2-54d7734060d1\" xlink:show=\"new\" xlink:title=\"psysml:e9174f33-f364-4dcb-aef2-54d7734060d1\" xlink:type=\"simple\"><rect fill=\"#FFFFFF\" height=\"40\" id=\"E2\" rx=\"10\" ry=\"10\" style=\"stroke: #383838; stroke-width: 1.5;\" width=\"50\" x=\"142.27\" y=\"45\"/><rect fill=\"#F8F8F8\" height=\"25.0938\" rx=\"10\" ry=\"10\" style=\"stroke: #F8F8F8; stroke-width: 1.5;\" width=\"50\" x=\"142.27\" y=\"45\"/><rect fill=\"#F8F8F8\" height=\"10\" style=\"stroke: #F8F8F8; stroke-width: 1.5;\" width=\"50\" x=\"142.27\" y=\"60.0938\"/><rect fill=\"none\" height=\"40\" id=\"E2\" rx=\"10\" ry=\"10\" style=\"stroke: #383838; stroke-width: 1.5;\" width=\"50\" x=\"142.27\" y=\"45\"/><text fill=\"#000000\" font-family=\"sans-serif\" font-size=\"12\" lengthAdjust=\"spacingAndGlyphs\" textLength=\"26\" x=\"154.27\" y=\"62.457\">body</text></a></g><!--MD5=[ebbe1d658d1005bcc118a6aa81145e00]\n",
       "class E4--><a href=\"psysml:2ec97a85-7d75-4a4d-96b1-6b95904c7376\" target=\"_top\" title=\"psysml:2ec97a85-7d75-4a4d-96b1-6b95904c7376\" xlink:actuate=\"onRequest\" xlink:href=\"psysml:2ec97a85-7d75-4a4d-96b1-6b95904c7376\" xlink:show=\"new\" xlink:title=\"psysml:2ec97a85-7d75-4a4d-96b1-6b95904c7376\" xlink:type=\"simple\"><rect fill=\"#FFFFFF\" height=\"48.1875\" id=\"E4\" rx=\"10\" ry=\"10\" style=\"stroke: #383838; stroke-width: 1.5;\" width=\"143\" x=\"350.77\" y=\"149\"/><text fill=\"#000000\" font-family=\"sans-serif\" font-size=\"12\" font-style=\"italic\" lengthAdjust=\"spacingAndGlyphs\" textLength=\"59\" x=\"392.77\" y=\"166.457\">«attribute»</text><text fill=\"#000000\" font-family=\"sans-serif\" font-size=\"12\" lengthAdjust=\"spacingAndGlyphs\" textLength=\"134\" x=\"353.77\" y=\"181.5508\">capacity: BatteryCapacity</text><line style=\"stroke: #383838; stroke-width: 1.5;\" x1=\"351.77\" x2=\"492.77\" y1=\"189.1875\" y2=\"189.1875\"/></a><text fill=\"#000000\" font-family=\"sans-serif\" font-size=\"14\" lengthAdjust=\"spacingAndGlyphs\" textLength=\"157\" x=\"280.77\" y=\"43.9238\">powerOut: PowerOutPort</text><rect fill=\"#383838\" height=\"12\" style=\"stroke: #F8F8F8; stroke-width: 1.5;\" width=\"12\" x=\"355.27\" y=\"59\"/><text fill=\"#000000\" font-family=\"sans-serif\" font-size=\"14\" lengthAdjust=\"spacingAndGlyphs\" textLength=\"153\" x=\"187.77\" y=\"97.9238\">powerIn: ~PowerOutPort</text><rect fill=\"#383838\" height=\"12\" style=\"stroke: #F8F8F8; stroke-width: 1.5;\" width=\"12\" x=\"260.27\" y=\"113\"/><g id=\"E1.E8\"><a href=\"psysml:1799cc2c-f0ce-47a6-8a21-0d0f4c45ea53\" target=\"_top\" title=\"psysml:1799cc2c-f0ce-47a6-8a21-0d0f4c45ea53\" xlink:actuate=\"onRequest\" xlink:href=\"psysml:1799cc2c-f0ce-47a6-8a21-0d0f4c45ea53\" xlink:show=\"new\" xlink:title=\"psysml:1799cc2c-f0ce-47a6-8a21-0d0f4c45ea53\" xlink:type=\"simple\"><rect fill=\"#FFFFFF\" height=\"40\" id=\"E8\" rx=\"10\" ry=\"10\" style=\"stroke: #383838; stroke-width: 1.5;\" width=\"57\" x=\"134.77\" y=\"237\"/><rect fill=\"#F8F8F8\" height=\"25.0938\" rx=\"10\" ry=\"10\" style=\"stroke: #F8F8F8; stroke-width: 1.5;\" width=\"57\" x=\"134.77\" y=\"237\"/><rect fill=\"#F8F8F8\" height=\"10\" style=\"stroke: #F8F8F8; stroke-width: 1.5;\" width=\"57\" x=\"134.77\" y=\"252.0938\"/><rect fill=\"none\" height=\"40\" id=\"E8\" rx=\"10\" ry=\"10\" style=\"stroke: #383838; stroke-width: 1.5;\" width=\"57\" x=\"134.77\" y=\"237\"/><text fill=\"#000000\" font-family=\"sans-serif\" font-size=\"12\" lengthAdjust=\"spacingAndGlyphs\" textLength=\"46\" x=\"140.27\" y=\"254.457\">frontAxis</text></a></g><g id=\"E1.E9\"><a href=\"psysml:1541e700-89e1-4edf-a485-a4f3e0f7f959\" target=\"_top\" title=\"psysml:1541e700-89e1-4edf-a485-a4f3e0f7f959\" xlink:actuate=\"onRequest\" xlink:href=\"psysml:1541e700-89e1-4edf-a485-a4f3e0f7f959\" xlink:show=\"new\" xlink:title=\"psysml:1541e700-89e1-4edf-a485-a4f3e0f7f959\" xlink:type=\"simple\"><rect fill=\"#FFFFFF\" height=\"40\" id=\"E9\" rx=\"10\" ry=\"10\" style=\"stroke: #383838; stroke-width: 1.5;\" width=\"55\" x=\"102.77\" y=\"99\"/><rect fill=\"#F8F8F8\" height=\"25.0938\" rx=\"10\" ry=\"10\" style=\"stroke: #F8F8F8; stroke-width: 1.5;\" width=\"55\" x=\"102.77\" y=\"99\"/><rect fill=\"#F8F8F8\" height=\"10\" style=\"stroke: #F8F8F8; stroke-width: 1.5;\" width=\"55\" x=\"102.77\" y=\"114.0938\"/><rect fill=\"none\" height=\"40\" id=\"E9\" rx=\"10\" ry=\"10\" style=\"stroke: #383838; stroke-width: 1.5;\" width=\"55\" x=\"102.77\" y=\"99\"/><text fill=\"#000000\" font-family=\"sans-serif\" font-size=\"12\" lengthAdjust=\"spacingAndGlyphs\" textLength=\"44\" x=\"108.27\" y=\"116.457\">rearAxis</text></a></g><g id=\"E1.E10\"><a href=\"psysml:ade12ac7-142e-4855-8972-3c2c6ec1a04a\" target=\"_top\" title=\"psysml:ade12ac7-142e-4855-8972-3c2c6ec1a04a\" xlink:actuate=\"onRequest\" xlink:href=\"psysml:ade12ac7-142e-4855-8972-3c2c6ec1a04a\" xlink:show=\"new\" xlink:title=\"psysml:ade12ac7-142e-4855-8972-3c2c6ec1a04a\" xlink:type=\"simple\"><rect fill=\"#FFFFFF\" height=\"40\" id=\"E10\" rx=\"10\" ry=\"10\" style=\"stroke: #383838; stroke-width: 1.5;\" width=\"111\" x=\"107.77\" y=\"287\"/><rect fill=\"#F8F8F8\" height=\"25.0938\" rx=\"10\" ry=\"10\" style=\"stroke: #F8F8F8; stroke-width: 1.5;\" width=\"111\" x=\"107.77\" y=\"287\"/><rect fill=\"#F8F8F8\" height=\"10\" style=\"stroke: #F8F8F8; stroke-width: 1.5;\" width=\"111\" x=\"107.77\" y=\"302.0938\"/><rect fill=\"none\" height=\"40\" id=\"E10\" rx=\"10\" ry=\"10\" style=\"stroke: #383838; stroke-width: 1.5;\" width=\"111\" x=\"107.77\" y=\"287\"/><text fill=\"#000000\" font-family=\"sans-serif\" font-size=\"12\" lengthAdjust=\"spacingAndGlyphs\" textLength=\"100\" x=\"113.27\" y=\"304.457\">frontWheel: Wheel</text></a></g><g id=\"E1.E11\"><a href=\"psysml:70ceb470-63b2-4009-929a-9929d29b2fa3\" target=\"_top\" title=\"psysml:70ceb470-63b2-4009-929a-9929d29b2fa3\" xlink:actuate=\"onRequest\" xlink:href=\"psysml:70ceb470-63b2-4009-929a-9929d29b2fa3\" xlink:show=\"new\" xlink:title=\"psysml:70ceb470-63b2-4009-929a-9929d29b2fa3\" xlink:type=\"simple\"><rect fill=\"#FFFFFF\" height=\"40\" id=\"E11\" rx=\"10\" ry=\"10\" style=\"stroke: #383838; stroke-width: 1.5;\" width=\"109\" x=\"62.77\" y=\"153\"/><rect fill=\"#F8F8F8\" height=\"25.0938\" rx=\"10\" ry=\"10\" style=\"stroke: #F8F8F8; stroke-width: 1.5;\" width=\"109\" x=\"62.77\" y=\"153\"/><rect fill=\"#F8F8F8\" height=\"10\" style=\"stroke: #F8F8F8; stroke-width: 1.5;\" width=\"109\" x=\"62.77\" y=\"168.0938\"/><rect fill=\"none\" height=\"40\" id=\"E11\" rx=\"10\" ry=\"10\" style=\"stroke: #383838; stroke-width: 1.5;\" width=\"109\" x=\"62.77\" y=\"153\"/><text fill=\"#000000\" font-family=\"sans-serif\" font-size=\"12\" lengthAdjust=\"spacingAndGlyphs\" textLength=\"98\" x=\"68.27\" y=\"170.457\">rearWheel: Wheel</text></a></g><!--MD5=[3a9b96bfbf6b6ad89c494e81751bda47]\n",
       "link E5 to E7--><a href=\"psysml:4f6263a1-b807-45e3-928d-7d348ede5cbd\" target=\"_top\" title=\"psysml:4f6263a1-b807-45e3-928d-7d348ede5cbd\" xlink:actuate=\"onRequest\" xlink:href=\"psysml:4f6263a1-b807-45e3-928d-7d348ede5cbd\" xlink:show=\"new\" xlink:title=\"psysml:4f6263a1-b807-45e3-928d-7d348ede5cbd\" xlink:type=\"simple\"><path d=\"M359.63,71.33 C358.09,75.55 355.39,81.33 351.27,85 C348.12,87.81 291.37,108.79 272.39,115.76 \" fill=\"none\" id=\"E5-E7\" style=\"stroke: #383838; stroke-width: 3.0;\"/></a><!--MD5=[0a839d0f80c2d72d4b9b307f046d0de8]\n",
       "link E6 to E8--><a href=\"psysml:5ba5fee0-f0eb-4cab-8ff6-f88f53053445\" target=\"_top\" title=\"psysml:5ba5fee0-f0eb-4cab-8ff6-f88f53053445\" xlink:actuate=\"onRequest\" xlink:href=\"psysml:5ba5fee0-f0eb-4cab-8ff6-f88f53053445\" xlink:show=\"new\" xlink:title=\"psysml:5ba5fee0-f0eb-4cab-8ff6-f88f53053445\" xlink:type=\"simple\"><path d=\"M227.1623,207.0647 C227.119,207.1298 227.0756,207.1948 227.0322,207.2599 C226.9453,207.3899 226.8582,207.52 226.7708,207.6502 C226.596,207.9104 226.4202,208.1707 226.2434,208.431 C225.5363,209.4723 224.8132,210.5135 224.0748,211.5511 C222.598,213.6261 221.0599,215.6862 219.4658,217.7008 C216.2775,221.73 212.865,225.5775 209.27,229 C204.17,233.85 198.05,238.2 191.96,241.92 \" fill=\"none\" id=\"E6-E8\" style=\"stroke: #383838; stroke-width: 3.0;\"/><text fill=\"#000000\" font-family=\"sans-serif\" font-size=\"13\" lengthAdjust=\"spacingAndGlyphs\" textLength=\"5\" x=\"199.9524\" y=\"233.5459\">*</text></a><!--MD5=[de116e21047ded6283635ff91c92fb70]\n",
       "link E8 to E10--><a href=\"psysml:9bd86768-bcd0-429b-b4a4-499b4056bbc0\" target=\"_top\" title=\"psysml:9bd86768-bcd0-429b-b4a4-499b4056bbc0\" xlink:actuate=\"onRequest\" xlink:href=\"psysml:9bd86768-bcd0-429b-b4a4-499b4056bbc0\" xlink:show=\"new\" xlink:title=\"psysml:9bd86768-bcd0-429b-b4a4-499b4056bbc0\" xlink:type=\"simple\"><path d=\"M163.27,277.25 C163.27,280.38 163.27,283.62 163.27,286.75 \" fill=\"none\" id=\"E8-E10\" style=\"stroke: #383838; stroke-width: 3.0;\"/><text fill=\"#000000\" font-family=\"sans-serif\" font-size=\"13\" lengthAdjust=\"spacingAndGlyphs\" textLength=\"5\" x=\"150.2286\" y=\"276.0208\">*</text></a><!--MD5=[526783dfcde15884571727dc3bbf2987]\n",
       "link E9 to E11--><a href=\"psysml:8395e25c-ee53-4828-983b-321459a91a3c\" target=\"_top\" title=\"psysml:8395e25c-ee53-4828-983b-321459a91a3c\" xlink:actuate=\"onRequest\" xlink:href=\"psysml:8395e25c-ee53-4828-983b-321459a91a3c\" xlink:show=\"new\" xlink:title=\"psysml:8395e25c-ee53-4828-983b-321459a91a3c\" xlink:type=\"simple\"><path d=\"M125.5,139.07 C124.37,143.59 123.17,148.41 122.04,152.93 \" fill=\"none\" id=\"E9-E11\" style=\"stroke: #383838; stroke-width: 3.0;\"/><text fill=\"#000000\" font-family=\"sans-serif\" font-size=\"13\" lengthAdjust=\"spacingAndGlyphs\" textLength=\"5\" x=\"111.0829\" y=\"141.988\">*</text></a><!--MD5=[2720a5a1f2c3fca2055b230370638851]\n",
       "link E2 to E3--><a href=\"psysml:a0fc8e0a-9adc-4410-9308-0e2caac8c22b\" target=\"_top\" title=\"psysml:a0fc8e0a-9adc-4410-9308-0e2caac8c22b\" xlink:actuate=\"onRequest\" xlink:href=\"psysml:a0fc8e0a-9adc-4410-9308-0e2caac8c22b\" xlink:show=\"new\" xlink:title=\"psysml:a0fc8e0a-9adc-4410-9308-0e2caac8c22b\" xlink:type=\"simple\"><path d=\"M192.31,69.61 C221.05,74.02 269.48,82.22 310.27,93 C314.4475,94.1025 318.7306,95.3244 323.0266,96.618 C324.1005,96.9414 325.1753,97.2692 326.2495,97.6009 \" fill=\"none\" id=\"E2-E3\" style=\"stroke: #383838; stroke-width: 3.0;\"/><text fill=\"#000000\" font-family=\"sans-serif\" font-size=\"13\" lengthAdjust=\"spacingAndGlyphs\" textLength=\"5\" x=\"354.53\" y=\"106.4051\">*</text></a><!--MD5=[e3e28c1befcf002155aa15e1416b4315]\n",
       "link E2 to E6--><a href=\"psysml:31226f0a-5fef-4c73-b9d8-07c689d9248c\" target=\"_top\" title=\"psysml:31226f0a-5fef-4c73-b9d8-07c689d9248c\" xlink:actuate=\"onRequest\" xlink:href=\"psysml:31226f0a-5fef-4c73-b9d8-07c689d9248c\" xlink:show=\"new\" xlink:title=\"psysml:31226f0a-5fef-4c73-b9d8-07c689d9248c\" xlink:type=\"simple\"><path d=\"M176.68,85.24 C180.645,92.89 185.67,102.105 191.39,111.52 C192.82,113.8738 194.2934,116.24 195.8046,118.5974 C195.8518,118.6711 195.8991,118.7448 195.9464,118.8184 \" fill=\"none\" id=\"E2-E6\" style=\"stroke: #383838; stroke-width: 3.0;\"/><text fill=\"#000000\" font-family=\"sans-serif\" font-size=\"13\" lengthAdjust=\"spacingAndGlyphs\" textLength=\"5\" x=\"229.08\" y=\"160.3951\">*</text></a><!--MD5=[b0060bfdb0500b904584095522b4da3c]\n",
       "link E2 to E8--><a href=\"psysml:fd2b56c2-224c-4cdf-b687-926df53807b2\" target=\"_top\" title=\"psysml:fd2b56c2-224c-4cdf-b687-926df53807b2\" xlink:actuate=\"onRequest\" xlink:href=\"psysml:fd2b56c2-224c-4cdf-b687-926df53807b2\" xlink:show=\"new\" xlink:title=\"psysml:fd2b56c2-224c-4cdf-b687-926df53807b2\" xlink:type=\"simple\"><path d=\"M142.12,70.12 C124.88,73.89 102.16,80.8 85.27,93 C34.2,129.9 6,179.73 45.27,229 C56.24,242.76 103.37,250.08 134.65,253.49 \" fill=\"none\" id=\"E2-E8\" style=\"stroke: #383838; stroke-width: 3.0;\"/><text fill=\"#000000\" font-family=\"sans-serif\" font-size=\"13\" lengthAdjust=\"spacingAndGlyphs\" textLength=\"5\" x=\"121.6755\" y=\"248.0807\">*</text></a><!--MD5=[420f7d69500b4b122c1ca6b248b0b1e2]\n",
       "link E2 to E9--><a href=\"psysml:b8f81ba7-9f5d-4142-873e-8d6b4ec60f79\" target=\"_top\" title=\"psysml:b8f81ba7-9f5d-4142-873e-8d6b4ec60f79\" xlink:actuate=\"onRequest\" xlink:href=\"psysml:b8f81ba7-9f5d-4142-873e-8d6b4ec60f79\" xlink:show=\"new\" xlink:title=\"psysml:b8f81ba7-9f5d-4142-873e-8d6b4ec60f79\" xlink:type=\"simple\"><path d=\"M153.7,85.07 C150.49,89.59 147.05,94.41 143.84,98.93 \" fill=\"none\" id=\"E2-E9\" style=\"stroke: #383838; stroke-width: 3.0;\"/><text fill=\"#000000\" font-family=\"sans-serif\" font-size=\"13\" lengthAdjust=\"spacingAndGlyphs\" textLength=\"5\" x=\"130.7489\" y=\"88.2406\">*</text></a><!--MD5=[0686fc9fbadd20671ba3da7a50d82fc5]\n",
       "@startuml\r\n",
       "skinparam ranksep 10\r\n",
       "skinparam rectangle {\r\n",
       " backgroundColor<<block>> LightGreen\r\n",
       "}\r\n",
       "skinparam monochrome true\r\n",
       "skinparam classbackgroundcolor white\r\n",
       "skinparam shadowing false\r\n",
       "skinparam wrapWidth 300\r\n",
       "hide circle\r\n",
       "\r\n",
       "rec usage \"eVehicle\" as E1  [[psysml:5e4d256d-73fa-46bd-854f-dc13dfcf8b5b ]] {\r\n",
       "rec usage \"body\" as E2  [[psysml:e9174f33-f364-4dcb-aef2-54d7734060d1 ]] {\r\n",
       "}\r\n",
       "rec usage \"battery\" as E3  [[psysml:d47923ca-b360-4a19-a1b6-fc6422ec8b66 ]] {\r\n",
       "comp usage \"capacity: BatteryCapacity \" as E4  <<(T,blue) attribute>> [[psysml:2ec97a85-7d75-4a4d-96b1-6b95904c7376 ]] {\r\n",
       "}\r\n",
       "portin \"powerOut: PowerOutPort \" as E5  <<(T,blue) port>> [[psysml:0fbbf647-3c6f-48c3-aeb3-8293d4529cdf ]] \r\n",
       "}\r\n",
       "rec usage \"engine\" as E6  [[psysml:ff7dd61c-dc32-4dd5-b56f-1eccd1b812d6 ]] {\r\n",
       "portin \"powerIn: ~PowerOutPort \" as E7  <<(T,blue) port>> [[psysml:28aed8ac-bbbb-44be-a105-745914808402 ]] \r\n",
       "}\r\n",
       "rec usage \"frontAxis\" as E8  [[psysml:1799cc2c-f0ce-47a6-8a21-0d0f4c45ea53 ]] {\r\n",
       "}\r\n",
       "rec usage \"rearAxis\" as E9  [[psysml:1541e700-89e1-4edf-a485-a4f3e0f7f959 ]] {\r\n",
       "}\r\n",
       "rec usage \"frontWheel: Wheel\" as E10  [[psysml:ade12ac7-142e-4855-8972-3c2c6ec1a04a ]] {\r\n",
       "}\r\n",
       "rec usage \"rearWheel: Wheel\" as E11  [[psysml:70ceb470-63b2-4009-929a-9929d29b2fa3 ]] {\r\n",
       "}\r\n",
       "}\r\n",
       "E5 -[thickness=3]- E7 [[psysml:4f6263a1-b807-45e3-928d-7d348ede5cbd ]] \r\n",
       "E6 -[thickness=3]- \"*\"E8 [[psysml:5ba5fee0-f0eb-4cab-8ff6-f88f53053445 ]] \r\n",
       "E8 -[thickness=3]- \"*\"E10 [[psysml:9bd86768-bcd0-429b-b4a4-499b4056bbc0 ]] \r\n",
       "E9 -[thickness=3]- \"*\"E11 [[psysml:8395e25c-ee53-4828-983b-321459a91a3c ]] \r\n",
       "E2 -[thickness=3]- \"*\"E3 [[psysml:a0fc8e0a-9adc-4410-9308-0e2caac8c22b ]] \r\n",
       "E2 -[thickness=3]- \"*\"E6 [[psysml:31226f0a-5fef-4c73-b9d8-07c689d9248c ]] \r\n",
       "E2 -[thickness=3]- \"*\"E8 [[psysml:fd2b56c2-224c-4cdf-b687-926df53807b2 ]] \r\n",
       "E2 -[thickness=3]- \"*\"E9 [[psysml:b8f81ba7-9f5d-4142-873e-8d6b4ec60f79 ]] \r\n",
       "@enduml\r\n",
       "\n",
       "PlantUML version 1.2020.13(Sat Jun 13 14:26:38 CEST 2020)\n",
       "(EPL source distribution)\n",
       "Java Runtime: OpenJDK Runtime Environment\n",
       "JVM: OpenJDK 64-Bit Server VM\n",
       "Default Encoding: Cp1252\n",
       "Language: en\n",
       "Country: US\n",
       "--></g></svg>"
      ]
     },
     "execution_count": 24,
     "metadata": {},
     "output_type": "execute_result"
    }
   ],
   "source": [
    "%viz --view=interconnection eVehicle_LogicalArchitecture::eVehicle"
   ]
  },
  {
   "cell_type": "markdown",
   "metadata": {},
   "source": [
    "## Modeling variants<a name=\"sysmlv2modvariants\"></a>\n",
    "\n",
    "SysML v2 provides model elements for variants. This is a new feature compared to SysML v2. Following the typical approach of SysML, these are only generic concepts, but they form the foundation for tools to provide functions for them and for language extensions to be defined.\n",
    "\n",
    "The electrical vehicle model is extended with different types of batteries and engines. First, we extend the *eVehicleDefinitions* and *eVehicleLibrary*, and define a part definition for the battery. The complete library can be found in section [Libraries for the eVehicle example](#sysmlv2modlibrary)."
   ]
  },
  {
   "cell_type": "code",
   "execution_count": 26,
   "metadata": {},
   "outputs": [
    {
     "data": {
      "text/plain": [
       "Package eVehicleLibrary (1be0cd26-0da3-4c9b-b195-bb92089a3e5f)\n",
       "Package eVehicleDefinitions (78c97ebb-b73f-4fcb-9058-8cc8b08be9e3)\n"
      ]
     },
     "execution_count": 26,
     "metadata": {},
     "output_type": "execute_result"
    }
   ],
   "source": [
    "package eVehicleLibrary {\n",
    "    \n",
    "    import ScalarValues::Integer;\n",
    "    \n",
    "    attribute def ElectricEnergy;\n",
    "    attribute def BatteryCapacity :> ScalarValues::Integer;\n",
    "    attribute def Speed :> ScalarValues::Integer;\n",
    "    \n",
    "    port def PowerOutPort {\n",
    "        out energy : ElectricEnergy;\n",
    "    }\n",
    "    \n",
    "    interface def PowerInterface {\n",
    "        end supplierPort : PowerOutPort;\n",
    "        end consumerPort : ~PowerOutPort;\n",
    "    }\n",
    "}\n",
    "\n",
    "package eVehicleDefinitions {\n",
    "\n",
    "    import eVehicleLibrary::*;   \n",
    "    \n",
    "    part def Wheel {\n",
    "        attribute size : Integer;\n",
    "    }\n",
    "    \n",
    "    part def Battery {\n",
    "        attribute capacity : BatteryCapacity;\n",
    "    }\n",
    "    \n",
    "    part def Engine;\n",
    "}"
   ]
  },
  {
   "cell_type": "markdown",
   "metadata": {},
   "source": [
    "The new part definition of the *Battery* is now used in the eVehicle architecture."
   ]
  },
  {
   "cell_type": "code",
   "execution_count": 29,
   "metadata": {},
   "outputs": [
    {
     "data": {
      "text/plain": [
       "Package eVehicle_LogicalArchitecture (591229ba-dd7d-40df-a3f6-9dd404c8b299)\n"
      ]
     },
     "execution_count": 29,
     "metadata": {},
     "output_type": "execute_result"
    }
   ],
   "source": [
    "package eVehicle_LogicalArchitecture {\n",
    "    \n",
    "    import eVehicleDefinitions::*;\n",
    "    import eVehicleLibrary::*;\n",
    "    \n",
    "    part eVehicle {    \n",
    "        attribute maxSpeed : Speed = 142;\n",
    "        part body;\n",
    "        part battery : Battery {\n",
    "            attribute redefines capacity = 42;\n",
    "            port powerOut : PowerOutPort;\n",
    "        }\n",
    "        part engine : Engine {\n",
    "            port powerIn : ~PowerOutPort;\n",
    "        }\n",
    "        part frontAxis;\n",
    "        part rearAxis;\n",
    "        part frontWheel : Wheel[2];\n",
    "        part rearWheel : Wheel[2];\n",
    "        \n",
    "        interface : PowerInterface connect \n",
    "            supplierPort :> battery.powerOut to \n",
    "            consumerPort :> engine.powerIn;\n",
    "        connect engine to frontAxis;\n",
    "        connect frontAxis to frontWheel;\n",
    "        connect rearAxis to rearWheel;\n",
    "        connect body to battery;\n",
    "        connect body to engine;\n",
    "        connect body to frontAxis;\n",
    "        connect body to rearAxis;\n",
    "    }\n",
    "}"
   ]
  },
  {
   "cell_type": "code",
   "execution_count": 30,
   "metadata": {},
   "outputs": [
    {
     "data": {
      "image/svg+xml": [
       "<?xml version=\"1.0\" encoding=\"UTF-8\" standalone=\"no\"?><svg xmlns=\"http://www.w3.org/2000/svg\" xmlns:xlink=\"http://www.w3.org/1999/xlink\" contentScriptType=\"application/ecmascript\" contentStyleType=\"text/css\" height=\"428px\" preserveAspectRatio=\"none\" style=\"width:773px;height:428px;\" version=\"1.1\" viewBox=\"0 0 773 428\" width=\"773px\" zoomAndPan=\"magnify\"><defs/><g><!--MD5=[fbc87193dbaf4d95561dea2c320d4a47]\n",
       "cluster E1--><a href=\"psysml:6b854df4-7fae-4125-aaf8-e720095da11c\" target=\"_top\" title=\"psysml:6b854df4-7fae-4125-aaf8-e720095da11c\" xlink:actuate=\"onRequest\" xlink:href=\"psysml:6b854df4-7fae-4125-aaf8-e720095da11c\" xlink:show=\"new\" xlink:title=\"psysml:6b854df4-7fae-4125-aaf8-e720095da11c\" xlink:type=\"simple\"><polygon fill=\"#FFFFFF\" points=\"16,6,228,6,235,29.6094,751,29.6094,751,416,16,416,16,6\" style=\"stroke: #000000; stroke-width: 1.5;\"/><line style=\"stroke: #000000; stroke-width: 1.5;\" x1=\"16\" x2=\"235\" y1=\"29.6094\" y2=\"29.6094\"/><text fill=\"#000000\" font-family=\"sans-serif\" font-size=\"14\" font-weight=\"bold\" lengthAdjust=\"spacingAndGlyphs\" textLength=\"206\" x=\"20\" y=\"22.5332\">eVehicle_LogicalArchitecture</text></a><!--MD5=[e4f7fae6ed58524ba242bb0b0d3be6b7]\n",
       "cluster E2--><a href=\"psysml:c65f054d-c1ee-4c72-b0aa-4862fc2ae26d\" target=\"_top\" title=\"psysml:c65f054d-c1ee-4c72-b0aa-4862fc2ae26d\" xlink:actuate=\"onRequest\" xlink:href=\"psysml:c65f054d-c1ee-4c72-b0aa-4862fc2ae26d\" xlink:show=\"new\" xlink:title=\"psysml:c65f054d-c1ee-4c72-b0aa-4862fc2ae26d\" xlink:type=\"simple\"><rect fill=\"#FFFFFF\" height=\"342\" id=\"E2\" rx=\"10\" ry=\"10\" style=\"stroke: #383838; stroke-width: 1.5;\" width=\"687\" x=\"40\" y=\"50\"/><rect fill=\"#F8F8F8\" height=\"25.0938\" rx=\"10\" ry=\"10\" style=\"stroke: #F8F8F8; stroke-width: 1.5;\" width=\"687\" x=\"40\" y=\"50\"/><rect fill=\"#F8F8F8\" height=\"10\" style=\"stroke: #F8F8F8; stroke-width: 1.5;\" width=\"687\" x=\"40\" y=\"65.0938\"/><rect fill=\"none\" height=\"342\" id=\"E2\" rx=\"10\" ry=\"10\" style=\"stroke: #383838; stroke-width: 1.5;\" width=\"687\" x=\"40\" y=\"50\"/><text fill=\"#000000\" font-family=\"sans-serif\" font-size=\"12\" lengthAdjust=\"spacingAndGlyphs\" textLength=\"47\" x=\"360\" y=\"67.457\">eVehicle</text><line style=\"stroke: #383838; stroke-width: 1.0;\" x1=\"40\" x2=\"727\" y1=\"75.0938\" y2=\"75.0938\"/></a><!--MD5=[de5ec2e2e8f62f467e546659f5068c88]\n",
       "cluster E5--><a href=\"psysml:af270b78-9313-4997-909b-3990191fab75\" target=\"_top\" title=\"psysml:af270b78-9313-4997-909b-3990191fab75\" xlink:actuate=\"onRequest\" xlink:href=\"psysml:af270b78-9313-4997-909b-3990191fab75\" xlink:show=\"new\" xlink:title=\"psysml:af270b78-9313-4997-909b-3990191fab75\" xlink:type=\"simple\"><rect fill=\"#FFFFFF\" height=\"160\" id=\"E5\" rx=\"10\" ry=\"10\" style=\"stroke: #383838; stroke-width: 1.5;\" width=\"140\" x=\"445\" y=\"110\"/><rect fill=\"#F8F8F8\" height=\"25.0938\" rx=\"10\" ry=\"10\" style=\"stroke: #F8F8F8; stroke-width: 1.5;\" width=\"140\" x=\"445\" y=\"110\"/><rect fill=\"#F8F8F8\" height=\"10\" style=\"stroke: #F8F8F8; stroke-width: 1.5;\" width=\"140\" x=\"445\" y=\"125.0938\"/><rect fill=\"none\" height=\"160\" id=\"E5\" rx=\"10\" ry=\"10\" style=\"stroke: #383838; stroke-width: 1.5;\" width=\"140\" x=\"445\" y=\"110\"/><text fill=\"#000000\" font-family=\"sans-serif\" font-size=\"12\" lengthAdjust=\"spacingAndGlyphs\" textLength=\"79\" x=\"475.5\" y=\"127.457\">battery: Battery</text><line style=\"stroke: #383838; stroke-width: 1.0;\" x1=\"445\" x2=\"585\" y1=\"135.0938\" y2=\"135.0938\"/></a><!--MD5=[55dfccfc6c49c2d10cd1bd2211a6c90c]\n",
       "cluster E8--><a href=\"psysml:07466362-8e93-446e-9ebb-c2a8da72b87b\" target=\"_top\" title=\"psysml:07466362-8e93-446e-9ebb-c2a8da72b87b\" xlink:actuate=\"onRequest\" xlink:href=\"psysml:07466362-8e93-446e-9ebb-c2a8da72b87b\" xlink:show=\"new\" xlink:title=\"psysml:07466362-8e93-446e-9ebb-c2a8da72b87b\" xlink:type=\"simple\"><rect fill=\"#FFFFFF\" height=\"88\" id=\"E8\" rx=\"10\" ry=\"10\" style=\"stroke: #383838; stroke-width: 1.5;\" width=\"138\" x=\"219\" y=\"168\"/><rect fill=\"#F8F8F8\" height=\"25.0938\" rx=\"10\" ry=\"10\" style=\"stroke: #F8F8F8; stroke-width: 1.5;\" width=\"138\" x=\"219\" y=\"168\"/><rect fill=\"#F8F8F8\" height=\"10\" style=\"stroke: #F8F8F8; stroke-width: 1.5;\" width=\"138\" x=\"219\" y=\"183.0938\"/><rect fill=\"none\" height=\"88\" id=\"E8\" rx=\"10\" ry=\"10\" style=\"stroke: #383838; stroke-width: 1.5;\" width=\"138\" x=\"219\" y=\"168\"/><text fill=\"#000000\" font-family=\"sans-serif\" font-size=\"12\" lengthAdjust=\"spacingAndGlyphs\" textLength=\"83\" x=\"246.5\" y=\"185.457\">engine: Engine</text><line style=\"stroke: #383838; stroke-width: 1.0;\" x1=\"219\" x2=\"357\" y1=\"193.0938\" y2=\"193.0938\"/></a><!--MD5=[09b614a08d8cba4a07c9adeb5e0fee81]\n",
       "class E3--><a href=\"psysml:bf81df72-ef4d-4fe7-a77f-52df9dfb44bb\" target=\"_top\" title=\"psysml:bf81df72-ef4d-4fe7-a77f-52df9dfb44bb\" xlink:actuate=\"onRequest\" xlink:href=\"psysml:bf81df72-ef4d-4fe7-a77f-52df9dfb44bb\" xlink:show=\"new\" xlink:title=\"psysml:bf81df72-ef4d-4fe7-a77f-52df9dfb44bb\" xlink:type=\"simple\"><rect fill=\"#FFFFFF\" height=\"48.1875\" id=\"E3\" rx=\"10\" ry=\"10\" style=\"stroke: #383838; stroke-width: 1.5;\" width=\"110\" x=\"601\" y=\"86\"/><text fill=\"#000000\" font-family=\"sans-serif\" font-size=\"12\" font-style=\"italic\" lengthAdjust=\"spacingAndGlyphs\" textLength=\"59\" x=\"626.5\" y=\"103.457\">«attribute»</text><text fill=\"#000000\" font-family=\"sans-serif\" font-size=\"12\" lengthAdjust=\"spacingAndGlyphs\" textLength=\"101\" x=\"604\" y=\"118.5508\">maxSpeed: Speed</text><line style=\"stroke: #383838; stroke-width: 1.5;\" x1=\"602\" x2=\"710\" y1=\"126.1875\" y2=\"126.1875\"/></a><g id=\"E1.E2.E4\"><a href=\"psysml:d7400e60-ae2a-4bf4-8b3a-10e2dca8a6f1\" target=\"_top\" title=\"psysml:d7400e60-ae2a-4bf4-8b3a-10e2dca8a6f1\" xlink:actuate=\"onRequest\" xlink:href=\"psysml:d7400e60-ae2a-4bf4-8b3a-10e2dca8a6f1\" xlink:show=\"new\" xlink:title=\"psysml:d7400e60-ae2a-4bf4-8b3a-10e2dca8a6f1\" xlink:type=\"simple\"><rect fill=\"#FFFFFF\" height=\"40\" id=\"E4\" rx=\"10\" ry=\"10\" style=\"stroke: #383838; stroke-width: 1.5;\" width=\"50\" x=\"180\" y=\"90\"/><rect fill=\"#F8F8F8\" height=\"25.0938\" rx=\"10\" ry=\"10\" style=\"stroke: #F8F8F8; stroke-width: 1.5;\" width=\"50\" x=\"180\" y=\"90\"/><rect fill=\"#F8F8F8\" height=\"10\" style=\"stroke: #F8F8F8; stroke-width: 1.5;\" width=\"50\" x=\"180\" y=\"105.0938\"/><rect fill=\"none\" height=\"40\" id=\"E4\" rx=\"10\" ry=\"10\" style=\"stroke: #383838; stroke-width: 1.5;\" width=\"50\" x=\"180\" y=\"90\"/><text fill=\"#000000\" font-family=\"sans-serif\" font-size=\"12\" lengthAdjust=\"spacingAndGlyphs\" textLength=\"26\" x=\"192\" y=\"107.457\">body</text></a></g><!--MD5=[60a26617385b1d2d0262a64233df1f8d]\n",
       "class E6--><a href=\"psysml:68aa2b74-8c61-41dc-ac28-09a76475a9ee\" target=\"_top\" title=\"psysml:68aa2b74-8c61-41dc-ac28-09a76475a9ee\" xlink:actuate=\"onRequest\" xlink:href=\"psysml:68aa2b74-8c61-41dc-ac28-09a76475a9ee\" xlink:show=\"new\" xlink:title=\"psysml:68aa2b74-8c61-41dc-ac28-09a76475a9ee\" xlink:type=\"simple\"><rect fill=\"#FFFFFF\" height=\"48.1875\" id=\"E6\" rx=\"10\" ry=\"10\" style=\"stroke: #383838; stroke-width: 1.5;\" width=\"61\" x=\"468.5\" y=\"198\"/><text fill=\"#000000\" font-family=\"sans-serif\" font-size=\"12\" font-style=\"italic\" lengthAdjust=\"spacingAndGlyphs\" textLength=\"59\" x=\"469.5\" y=\"215.457\">«attribute»</text><text fill=\"#000000\" font-family=\"sans-serif\" font-size=\"12\" lengthAdjust=\"spacingAndGlyphs\" textLength=\"44\" x=\"475.5\" y=\"230.5508\">capacity</text><line style=\"stroke: #383838; stroke-width: 1.5;\" x1=\"469.5\" x2=\"528.5\" y1=\"238.1875\" y2=\"238.1875\"/></a><text fill=\"#000000\" font-family=\"sans-serif\" font-size=\"14\" lengthAdjust=\"spacingAndGlyphs\" textLength=\"157\" x=\"382.5\" y=\"88.9238\">powerOut: PowerOutPort</text><rect fill=\"#383838\" height=\"12\" style=\"stroke: #F8F8F8; stroke-width: 1.5;\" width=\"12\" x=\"457\" y=\"104\"/><text fill=\"#000000\" font-family=\"sans-serif\" font-size=\"14\" lengthAdjust=\"spacingAndGlyphs\" textLength=\"153\" x=\"260.5\" y=\"146.9238\">powerIn: ~PowerOutPort</text><rect fill=\"#383838\" height=\"12\" style=\"stroke: #F8F8F8; stroke-width: 1.5;\" width=\"12\" x=\"333\" y=\"162\"/><g id=\"E1.E2.E10\"><a href=\"psysml:5706dbad-2460-4d51-97d9-1be1f57e8ce2\" target=\"_top\" title=\"psysml:5706dbad-2460-4d51-97d9-1be1f57e8ce2\" xlink:actuate=\"onRequest\" xlink:href=\"psysml:5706dbad-2460-4d51-97d9-1be1f57e8ce2\" xlink:show=\"new\" xlink:title=\"psysml:5706dbad-2460-4d51-97d9-1be1f57e8ce2\" xlink:type=\"simple\"><rect fill=\"#FFFFFF\" height=\"40\" id=\"E10\" rx=\"10\" ry=\"10\" style=\"stroke: #383838; stroke-width: 1.5;\" width=\"57\" x=\"179.5\" y=\"286\"/><rect fill=\"#F8F8F8\" height=\"25.0938\" rx=\"10\" ry=\"10\" style=\"stroke: #F8F8F8; stroke-width: 1.5;\" width=\"57\" x=\"179.5\" y=\"286\"/><rect fill=\"#F8F8F8\" height=\"10\" style=\"stroke: #F8F8F8; stroke-width: 1.5;\" width=\"57\" x=\"179.5\" y=\"301.0938\"/><rect fill=\"none\" height=\"40\" id=\"E10\" rx=\"10\" ry=\"10\" style=\"stroke: #383838; stroke-width: 1.5;\" width=\"57\" x=\"179.5\" y=\"286\"/><text fill=\"#000000\" font-family=\"sans-serif\" font-size=\"12\" lengthAdjust=\"spacingAndGlyphs\" textLength=\"46\" x=\"185\" y=\"303.457\">frontAxis</text></a></g><g id=\"E1.E2.E11\"><a href=\"psysml:77786d96-afee-47c7-bd26-241774f63994\" target=\"_top\" title=\"psysml:77786d96-afee-47c7-bd26-241774f63994\" xlink:actuate=\"onRequest\" xlink:href=\"psysml:77786d96-afee-47c7-bd26-241774f63994\" xlink:show=\"new\" xlink:title=\"psysml:77786d96-afee-47c7-bd26-241774f63994\" xlink:type=\"simple\"><rect fill=\"#FFFFFF\" height=\"40\" id=\"E11\" rx=\"10\" ry=\"10\" style=\"stroke: #383838; stroke-width: 1.5;\" width=\"55\" x=\"133.5\" y=\"148\"/><rect fill=\"#F8F8F8\" height=\"25.0938\" rx=\"10\" ry=\"10\" style=\"stroke: #F8F8F8; stroke-width: 1.5;\" width=\"55\" x=\"133.5\" y=\"148\"/><rect fill=\"#F8F8F8\" height=\"10\" style=\"stroke: #F8F8F8; stroke-width: 1.5;\" width=\"55\" x=\"133.5\" y=\"163.0938\"/><rect fill=\"none\" height=\"40\" id=\"E11\" rx=\"10\" ry=\"10\" style=\"stroke: #383838; stroke-width: 1.5;\" width=\"55\" x=\"133.5\" y=\"148\"/><text fill=\"#000000\" font-family=\"sans-serif\" font-size=\"12\" lengthAdjust=\"spacingAndGlyphs\" textLength=\"44\" x=\"139\" y=\"165.457\">rearAxis</text></a></g><g id=\"E1.E2.E12\"><a href=\"psysml:7b65aeae-edc9-4334-a872-cff06953e24b\" target=\"_top\" title=\"psysml:7b65aeae-edc9-4334-a872-cff06953e24b\" xlink:actuate=\"onRequest\" xlink:href=\"psysml:7b65aeae-edc9-4334-a872-cff06953e24b\" xlink:show=\"new\" xlink:title=\"psysml:7b65aeae-edc9-4334-a872-cff06953e24b\" xlink:type=\"simple\"><rect fill=\"#FFFFFF\" height=\"40\" id=\"E12\" rx=\"10\" ry=\"10\" style=\"stroke: #383838; stroke-width: 1.5;\" width=\"111\" x=\"152.5\" y=\"336\"/><rect fill=\"#F8F8F8\" height=\"25.0938\" rx=\"10\" ry=\"10\" style=\"stroke: #F8F8F8; stroke-width: 1.5;\" width=\"111\" x=\"152.5\" y=\"336\"/><rect fill=\"#F8F8F8\" height=\"10\" style=\"stroke: #F8F8F8; stroke-width: 1.5;\" width=\"111\" x=\"152.5\" y=\"351.0938\"/><rect fill=\"none\" height=\"40\" id=\"E12\" rx=\"10\" ry=\"10\" style=\"stroke: #383838; stroke-width: 1.5;\" width=\"111\" x=\"152.5\" y=\"336\"/><text fill=\"#000000\" font-family=\"sans-serif\" font-size=\"12\" lengthAdjust=\"spacingAndGlyphs\" textLength=\"100\" x=\"158\" y=\"353.457\">frontWheel: Wheel</text></a></g><g id=\"E1.E2.E13\"><a href=\"psysml:4236d54b-e3b9-48b1-bbb9-063618102b2e\" target=\"_top\" title=\"psysml:4236d54b-e3b9-48b1-bbb9-063618102b2e\" xlink:actuate=\"onRequest\" xlink:href=\"psysml:4236d54b-e3b9-48b1-bbb9-063618102b2e\" xlink:show=\"new\" xlink:title=\"psysml:4236d54b-e3b9-48b1-bbb9-063618102b2e\" xlink:type=\"simple\"><rect fill=\"#FFFFFF\" height=\"40\" id=\"E13\" rx=\"10\" ry=\"10\" style=\"stroke: #383838; stroke-width: 1.5;\" width=\"109\" x=\"93.5\" y=\"202\"/><rect fill=\"#F8F8F8\" height=\"25.0938\" rx=\"10\" ry=\"10\" style=\"stroke: #F8F8F8; stroke-width: 1.5;\" width=\"109\" x=\"93.5\" y=\"202\"/><rect fill=\"#F8F8F8\" height=\"10\" style=\"stroke: #F8F8F8; stroke-width: 1.5;\" width=\"109\" x=\"93.5\" y=\"217.0938\"/><rect fill=\"none\" height=\"40\" id=\"E13\" rx=\"10\" ry=\"10\" style=\"stroke: #383838; stroke-width: 1.5;\" width=\"109\" x=\"93.5\" y=\"202\"/><text fill=\"#000000\" font-family=\"sans-serif\" font-size=\"12\" lengthAdjust=\"spacingAndGlyphs\" textLength=\"98\" x=\"99\" y=\"219.457\">rearWheel: Wheel</text></a></g><!--MD5=[1c0b9414cc86e0744215edee6abd8926]\n",
       "link E7 to E9--><a href=\"psysml:8a7f6b47-983c-4775-91d2-c1b4ac11812a\" target=\"_top\" title=\"psysml:8a7f6b47-983c-4775-91d2-c1b4ac11812a\" xlink:actuate=\"onRequest\" xlink:href=\"psysml:8a7f6b47-983c-4775-91d2-c1b4ac11812a\" xlink:show=\"new\" xlink:title=\"psysml:8a7f6b47-983c-4775-91d2-c1b4ac11812a\" xlink:type=\"simple\"><path d=\"M462.08,116.38 C460.89,121.64 458.32,129.5 453,134 C441.81,143.48 435.13,138.08 421,142 C392.6,149.87 359.08,160.52 345.35,164.94 \" fill=\"none\" id=\"E7-E9\" style=\"stroke: #383838; stroke-width: 3.0;\"/></a><!--MD5=[de116e21047ded6283635ff91c92fb70]\n",
       "link E8 to E10--><a href=\"psysml:72b8c7a2-396a-4775-b5db-e634869c724c\" target=\"_top\" title=\"psysml:72b8c7a2-396a-4775-b5db-e634869c724c\" xlink:actuate=\"onRequest\" xlink:href=\"psysml:72b8c7a2-396a-4775-b5db-e634869c724c\" xlink:show=\"new\" xlink:title=\"psysml:72b8c7a2-396a-4775-b5db-e634869c724c\" xlink:type=\"simple\"><path d=\"M265.1919,256.1538 C265.0148,256.3051 264.8375,256.4564 264.6601,256.608 C264.3053,256.911 263.9498,257.2146 263.5938,257.5188 C252.2,267.25 240.22,277.48 230.31,285.94 \" fill=\"none\" id=\"E8-E10\" style=\"stroke: #383838; stroke-width: 3.0;\"/><text fill=\"#000000\" font-family=\"sans-serif\" font-size=\"13\" lengthAdjust=\"spacingAndGlyphs\" textLength=\"5\" x=\"231.1292\" y=\"275.2441\">*</text></a><!--MD5=[85af87334fb406f01a086f77fc918faa]\n",
       "link E10 to E12--><a href=\"psysml:cde3ab1a-0927-42f3-b48b-665076ee1552\" target=\"_top\" title=\"psysml:cde3ab1a-0927-42f3-b48b-665076ee1552\" xlink:actuate=\"onRequest\" xlink:href=\"psysml:cde3ab1a-0927-42f3-b48b-665076ee1552\" xlink:show=\"new\" xlink:title=\"psysml:cde3ab1a-0927-42f3-b48b-665076ee1552\" xlink:type=\"simple\"><path d=\"M208,326.25 C208,329.38 208,332.62 208,335.75 \" fill=\"none\" id=\"E10-E12\" style=\"stroke: #383838; stroke-width: 3.0;\"/><text fill=\"#000000\" font-family=\"sans-serif\" font-size=\"13\" lengthAdjust=\"spacingAndGlyphs\" textLength=\"5\" x=\"194.9586\" y=\"325.0208\">*</text></a><!--MD5=[60f911bb19596b289db4a22769f8105a]\n",
       "link E11 to E13--><a href=\"psysml:bce1e2a3-ee60-48a6-81b2-c8bde84bf37e\" target=\"_top\" title=\"psysml:bce1e2a3-ee60-48a6-81b2-c8bde84bf37e\" xlink:actuate=\"onRequest\" xlink:href=\"psysml:bce1e2a3-ee60-48a6-81b2-c8bde84bf37e\" xlink:show=\"new\" xlink:title=\"psysml:bce1e2a3-ee60-48a6-81b2-c8bde84bf37e\" xlink:type=\"simple\"><path d=\"M156.23,188.07 C155.1,192.59 153.9,197.41 152.77,201.93 \" fill=\"none\" id=\"E11-E13\" style=\"stroke: #383838; stroke-width: 3.0;\"/><text fill=\"#000000\" font-family=\"sans-serif\" font-size=\"13\" lengthAdjust=\"spacingAndGlyphs\" textLength=\"5\" x=\"141.8129\" y=\"190.988\">*</text></a><!--MD5=[1b7591eae5389033d8d09a9d6721a717]\n",
       "link E4 to E5--><a href=\"psysml:b928bca4-6f44-455f-99ac-a479fe0f273e\" target=\"_top\" title=\"psysml:b928bca4-6f44-455f-99ac-a479fe0f273e\" xlink:actuate=\"onRequest\" xlink:href=\"psysml:b928bca4-6f44-455f-99ac-a479fe0f273e\" xlink:show=\"new\" xlink:title=\"psysml:b928bca4-6f44-455f-99ac-a479fe0f273e\" xlink:type=\"simple\"><path d=\"M230.28,114.42 C267.11,119.55 337.6,129.95 397,142 C408.435,144.32 420.5275,147.0425 432.2338,149.8213 C435.1603,150.5159 438.0627,151.2141 440.9247,151.9104 C441.6402,152.0845 442.3532,152.2585 443.0633,152.4322 C443.4184,152.5191 443.7728,152.6059 444.1265,152.6927 C444.3033,152.7361 444.48,152.7795 444.6565,152.8228 C444.7447,152.8445 444.8329,152.8662 444.921,152.8878 \" fill=\"none\" id=\"E4-E5\" style=\"stroke: #383838; stroke-width: 3.0;\"/><text fill=\"#000000\" font-family=\"sans-serif\" font-size=\"13\" lengthAdjust=\"spacingAndGlyphs\" textLength=\"5\" x=\"460.15\" y=\"155.4751\">*</text></a><!--MD5=[353cdda3e1e05fc02373f055b6f604ae]\n",
       "link E4 to E8--><a href=\"psysml:b227c9c2-f08f-4fbe-aae7-1c5ebca3496e\" target=\"_top\" title=\"psysml:b227c9c2-f08f-4fbe-aae7-1c5ebca3496e\" xlink:actuate=\"onRequest\" xlink:href=\"psysml:b227c9c2-f08f-4fbe-aae7-1c5ebca3496e\" xlink:show=\"new\" xlink:title=\"psysml:b227c9c2-f08f-4fbe-aae7-1c5ebca3496e\" xlink:type=\"simple\"><path d=\"M214.64,130.25 C219.105,138.535 224.9475,148.655 231.7975,158.8625 C233.51,161.4144 235.2855,163.9717 237.1181,166.5072 C237.3472,166.8242 237.5772,167.1408 237.808,167.457 C237.9235,167.6151 238.0391,167.7731 238.155,167.931 \" fill=\"none\" id=\"E4-E8\" style=\"stroke: #383838; stroke-width: 3.0;\"/><text fill=\"#000000\" font-family=\"sans-serif\" font-size=\"13\" lengthAdjust=\"spacingAndGlyphs\" textLength=\"5\" x=\"281.87\" y=\"209.2951\">*</text></a><!--MD5=[8937a7e686f4c0ed3d97df1c0560e6d1]\n",
       "link E4 to E10--><a href=\"psysml:1b365ded-ac40-4e02-857c-a2c78de4b4af\" target=\"_top\" title=\"psysml:1b365ded-ac40-4e02-857c-a2c78de4b4af\" xlink:actuate=\"onRequest\" xlink:href=\"psysml:1b365ded-ac40-4e02-857c-a2c78de4b4af\" xlink:show=\"new\" xlink:title=\"psysml:1b365ded-ac40-4e02-857c-a2c78de4b4af\" xlink:type=\"simple\"><path d=\"M179.7,115.59 C160.77,119.98 134.98,128.04 116,142 C65.25,179.33 36.16,229.19 76,278 C88.79,293.68 144.58,300.49 179.41,303.27 \" fill=\"none\" id=\"E4-E10\" style=\"stroke: #383838; stroke-width: 3.0;\"/><text fill=\"#000000\" font-family=\"sans-serif\" font-size=\"13\" lengthAdjust=\"spacingAndGlyphs\" textLength=\"5\" x=\"166.4432\" y=\"298.0606\">*</text></a><!--MD5=[798a9a606aea02eb479f69458bcab9ef]\n",
       "link E4 to E11--><a href=\"psysml:c4a4e3ec-07db-4225-b06e-73a386572b49\" target=\"_top\" title=\"psysml:c4a4e3ec-07db-4225-b06e-73a386572b49\" xlink:actuate=\"onRequest\" xlink:href=\"psysml:c4a4e3ec-07db-4225-b06e-73a386572b49\" xlink:show=\"new\" xlink:title=\"psysml:c4a4e3ec-07db-4225-b06e-73a386572b49\" xlink:type=\"simple\"><path d=\"M189.86,130.27 C185.38,135.97 180.49,142.2 176.02,147.88 \" fill=\"none\" id=\"E4-E11\" style=\"stroke: #383838; stroke-width: 3.0;\"/><text fill=\"#000000\" font-family=\"sans-serif\" font-size=\"13\" lengthAdjust=\"spacingAndGlyphs\" textLength=\"5\" x=\"171.336\" y=\"136.8782\">*</text></a><!--MD5=[4de1e1987ffdef56067f3aa99332bcea]\n",
       "@startuml\r\n",
       "skinparam ranksep 10\r\n",
       "skinparam rectangle {\r\n",
       " backgroundColor<<block>> LightGreen\r\n",
       "}\r\n",
       "skinparam monochrome true\r\n",
       "skinparam classbackgroundcolor white\r\n",
       "skinparam shadowing false\r\n",
       "skinparam wrapWidth 300\r\n",
       "hide circle\r\n",
       "\r\n",
       "package \"eVehicle_LogicalArchitecture\" as E1  [[psysml:6b854df4-7fae-4125-aaf8-e720095da11c ]]  {\r\n",
       "rec usage \"eVehicle\" as E2  [[psysml:c65f054d-c1ee-4c72-b0aa-4862fc2ae26d ]] {\r\n",
       "comp usage \"maxSpeed: Speed \" as E3  <<(T,blue) attribute>> [[psysml:bf81df72-ef4d-4fe7-a77f-52df9dfb44bb ]] {\r\n",
       "}\r\n",
       "rec usage \"body\" as E4  [[psysml:d7400e60-ae2a-4bf4-8b3a-10e2dca8a6f1 ]] {\r\n",
       "}\r\n",
       "rec usage \"battery: Battery\" as E5  [[psysml:af270b78-9313-4997-909b-3990191fab75 ]] {\r\n",
       "comp usage \"capacity \" as E6  <<(T,blue) attribute>> [[psysml:68aa2b74-8c61-41dc-ac28-09a76475a9ee ]] {\r\n",
       "}\r\n",
       "portin \"powerOut: PowerOutPort \" as E7  <<(T,blue) port>> [[psysml:b1796a24-5e72-4c7f-96f4-21dd9210d4fe ]] \r\n",
       "}\r\n",
       "rec usage \"engine: Engine\" as E8  [[psysml:07466362-8e93-446e-9ebb-c2a8da72b87b ]] {\r\n",
       "portin \"powerIn: ~PowerOutPort \" as E9  <<(T,blue) port>> [[psysml:5b151441-8005-4ec0-b727-abb0640ceb08 ]] \r\n",
       "}\r\n",
       "rec usage \"frontAxis\" as E10  [[psysml:5706dbad-2460-4d51-97d9-1be1f57e8ce2 ]] {\r\n",
       "}\r\n",
       "rec usage \"rearAxis\" as E11  [[psysml:77786d96-afee-47c7-bd26-241774f63994 ]] {\r\n",
       "}\r\n",
       "rec usage \"frontWheel: Wheel\" as E12  [[psysml:7b65aeae-edc9-4334-a872-cff06953e24b ]] {\r\n",
       "}\r\n",
       "rec usage \"rearWheel: Wheel\" as E13  [[psysml:4236d54b-e3b9-48b1-bbb9-063618102b2e ]] {\r\n",
       "}\r\n",
       "}\r\n",
       "}\r\n",
       "E7 -[thickness=3]- E9 [[psysml:8a7f6b47-983c-4775-91d2-c1b4ac11812a ]] \r\n",
       "E8 -[thickness=3]- \"*\"E10 [[psysml:72b8c7a2-396a-4775-b5db-e634869c724c ]] \r\n",
       "E10 -[thickness=3]- \"*\"E12 [[psysml:cde3ab1a-0927-42f3-b48b-665076ee1552 ]] \r\n",
       "E11 -[thickness=3]- \"*\"E13 [[psysml:bce1e2a3-ee60-48a6-81b2-c8bde84bf37e ]] \r\n",
       "E4 -[thickness=3]- \"*\"E5 [[psysml:b928bca4-6f44-455f-99ac-a479fe0f273e ]] \r\n",
       "E4 -[thickness=3]- \"*\"E8 [[psysml:b227c9c2-f08f-4fbe-aae7-1c5ebca3496e ]] \r\n",
       "E4 -[thickness=3]- \"*\"E10 [[psysml:1b365ded-ac40-4e02-857c-a2c78de4b4af ]] \r\n",
       "E4 -[thickness=3]- \"*\"E11 [[psysml:c4a4e3ec-07db-4225-b06e-73a386572b49 ]] \r\n",
       "@enduml\r\n",
       "\n",
       "PlantUML version 1.2020.13(Sat Jun 13 14:26:38 CEST 2020)\n",
       "(EPL source distribution)\n",
       "Java Runtime: OpenJDK Runtime Environment\n",
       "JVM: OpenJDK 64-Bit Server VM\n",
       "Default Encoding: Cp1252\n",
       "Language: en\n",
       "Country: US\n",
       "--></g></svg>"
      ]
     },
     "execution_count": 30,
     "metadata": {},
     "output_type": "execute_result"
    }
   ],
   "source": [
    "%viz eVehicle_LogicalArchitecture"
   ]
  },
  {
   "cell_type": "markdown",
   "metadata": {},
   "source": [
    "Now, the model is prepared to add variability. We define two battery kinds with different capacities, and two engine kinds."
   ]
  },
  {
   "cell_type": "code",
   "execution_count": 31,
   "metadata": {},
   "outputs": [
    {
     "data": {
      "text/plain": [
       "Package eVehicle_VariantModel (cd002469-2f0d-4cc2-adbc-0bbd1777b74c)\n"
      ]
     },
     "execution_count": 31,
     "metadata": {},
     "output_type": "execute_result"
    }
   ],
   "source": [
    "package eVehicle_VariantModel {\n",
    "    \n",
    "    import eVehicle_LogicalArchitecture::*;\n",
    "    \n",
    "    \n",
    "    package eVehicle_Configurations {\n",
    "\n",
    "        import eVehicle_Variations::*;\n",
    "        \n",
    "        part eVehicleStandard :> eVehicleVariations {\n",
    "            part redefines engine = standardEngine;\n",
    "            part redefines battery = batteryLow;\n",
    "        }\n",
    "        part eVehiclePremium :> eVehicleVariations {\n",
    "            part redefines engine = powerEngine;\n",
    "            part redefines battery = batteryHigh;\n",
    "        }\n",
    "        part INVALIDeVehicle :> eVehicleVariations {\n",
    "            part redefines engine = powerEngine;\n",
    "            part redefines battery = batteryLow;\n",
    "        }\n",
    "    }\n",
    "    \n",
    "    package eVehicle_Variations {\n",
    "        \n",
    "        import eVehicle_Variants::*;\n",
    "        \n",
    "        abstract part eVehicleVariations :> eVehicle {\n",
    "        \n",
    "            variation part redefines battery : Battery {\n",
    "                variant part batterLow;\n",
    "                variant part batteryHigh;  \n",
    "            }\n",
    "            variation part redefines engine : Engine {\n",
    "                variant part standardEngine;\n",
    "                variant part powerEngine;\n",
    "            }\n",
    "        \n",
    "            abstract constraint { (battery == batteryLow & engine == standardEngine) ^ (battery == batteryHigh) }\n",
    "        }\n",
    "    }   \n",
    "    \n",
    "    package eVehicle_Variants {\n",
    "        \n",
    "        part batteryLow : Battery {\n",
    "            attribute redefines capacity = 40;\n",
    "        }\n",
    "        part batteryHigh : Battery {\n",
    "            attribute redefines capacity = 40;\n",
    "        }\n",
    "    \n",
    "        part powerEngine : Engine;\n",
    "        part standardEngine : Engine;\n",
    "    }\n",
    "}"
   ]
  },
  {
   "cell_type": "code",
   "execution_count": 32,
   "metadata": {},
   "outputs": [
    {
     "data": {
      "image/svg+xml": [
       "<?xml version=\"1.0\" encoding=\"UTF-8\" standalone=\"no\"?><svg xmlns=\"http://www.w3.org/2000/svg\" xmlns:xlink=\"http://www.w3.org/1999/xlink\" contentScriptType=\"application/ecmascript\" contentStyleType=\"text/css\" height=\"347px\" preserveAspectRatio=\"none\" style=\"width:644px;height:347px;\" version=\"1.1\" viewBox=\"0 0 644 347\" width=\"644px\" zoomAndPan=\"magnify\"><defs/><g><!--MD5=[43c9051892ef23e1a46a86907403d788]\n",
       "class E1--><a href=\"psysml:0ae1a482-8b98-49c5-84ef-28c58f2fe3ff\" target=\"_top\" title=\"psysml:0ae1a482-8b98-49c5-84ef-28c58f2fe3ff\" xlink:actuate=\"onRequest\" xlink:href=\"psysml:0ae1a482-8b98-49c5-84ef-28c58f2fe3ff\" xlink:show=\"new\" xlink:title=\"psysml:0ae1a482-8b98-49c5-84ef-28c58f2fe3ff\" xlink:type=\"simple\"><rect fill=\"#FFFFFF\" height=\"48.1875\" id=\"E1\" rx=\"10\" ry=\"10\" style=\"stroke: #383838; stroke-width: 1.5;\" width=\"336\" x=\"96.5\" y=\"7\"/><text fill=\"#000000\" font-family=\"sans-serif\" font-size=\"12\" font-style=\"italic\" lengthAdjust=\"spacingAndGlyphs\" textLength=\"35\" x=\"247\" y=\"24.457\">«part»</text><text fill=\"#000000\" font-family=\"sans-serif\" font-size=\"12\" font-style=\"italic\" lengthAdjust=\"spacingAndGlyphs\" textLength=\"103\" x=\"99.5\" y=\"39.5508\">eVehicleVariations</text><text fill=\"#000000\" font-family=\"sans-serif\" font-size=\"12\" lengthAdjust=\"spacingAndGlyphs\" textLength=\"224\" x=\"205.5\" y=\"39.5508\">:&gt; eVehicle_LogicalArchitecture::eVehicle</text><line style=\"stroke: #383838; stroke-width: 1.5;\" x1=\"97.5\" x2=\"431.5\" y1=\"47.1875\" y2=\"47.1875\"/></a><!--MD5=[b4997ac47864f28c2f74865a473b2911]\n",
       "class E2--><a href=\"psysml:3f3ce8b2-15a9-4729-b407-9794fd50c09e\" target=\"_top\" title=\"psysml:3f3ce8b2-15a9-4729-b407-9794fd50c09e\" xlink:actuate=\"onRequest\" xlink:href=\"psysml:3f3ce8b2-15a9-4729-b407-9794fd50c09e\" xlink:show=\"new\" xlink:title=\"psysml:3f3ce8b2-15a9-4729-b407-9794fd50c09e\" xlink:type=\"simple\"><rect fill=\"#FFFFFF\" height=\"63.2813\" id=\"E2\" rx=\"10\" ry=\"10\" style=\"stroke: #383838; stroke-width: 1.5;\" width=\"90\" x=\"93.5\" y=\"131.5\"/><text fill=\"#000000\" font-family=\"sans-serif\" font-size=\"12\" font-style=\"italic\" lengthAdjust=\"spacingAndGlyphs\" textLength=\"61\" x=\"108\" y=\"148.957\">«variation»</text><text fill=\"#000000\" font-family=\"sans-serif\" font-size=\"12\" font-style=\"italic\" lengthAdjust=\"spacingAndGlyphs\" textLength=\"35\" x=\"121\" y=\"164.0508\">«part»</text><text fill=\"#000000\" font-family=\"sans-serif\" font-size=\"12\" font-style=\"italic\" lengthAdjust=\"spacingAndGlyphs\" textLength=\"38\" x=\"96.5\" y=\"179.1445\">battery</text><text fill=\"#000000\" font-family=\"sans-serif\" font-size=\"12\" lengthAdjust=\"spacingAndGlyphs\" textLength=\"43\" x=\"134.5\" y=\"179.1445\">: Battery</text><line style=\"stroke: #383838; stroke-width: 1.5;\" x1=\"94.5\" x2=\"182.5\" y1=\"186.7813\" y2=\"186.7813\"/></a><!--MD5=[09b614a08d8cba4a07c9adeb5e0fee81]\n",
       "class E3--><a href=\"psysml:14d3fbac-2712-4447-8f00-0d82037ae8b1\" target=\"_top\" title=\"psysml:14d3fbac-2712-4447-8f00-0d82037ae8b1\" xlink:actuate=\"onRequest\" xlink:href=\"psysml:14d3fbac-2712-4447-8f00-0d82037ae8b1\" xlink:show=\"new\" xlink:title=\"psysml:14d3fbac-2712-4447-8f00-0d82037ae8b1\" xlink:type=\"simple\"><rect fill=\"#FFFFFF\" height=\"48.1875\" id=\"E3\" rx=\"10\" ry=\"10\" style=\"stroke: #383838; stroke-width: 1.5;\" width=\"63\" x=\"7\" y=\"288\"/><text fill=\"#000000\" font-family=\"sans-serif\" font-size=\"12\" font-style=\"italic\" lengthAdjust=\"spacingAndGlyphs\" textLength=\"35\" x=\"21\" y=\"305.457\">«part»</text><text fill=\"#000000\" font-family=\"sans-serif\" font-size=\"12\" lengthAdjust=\"spacingAndGlyphs\" textLength=\"54\" x=\"10\" y=\"320.5508\">batterLow</text><line style=\"stroke: #383838; stroke-width: 1.5;\" x1=\"8\" x2=\"69\" y1=\"328.1875\" y2=\"328.1875\"/></a><!--MD5=[ebbe1d658d1005bcc118a6aa81145e00]\n",
       "class E4--><a href=\"psysml:576c558f-ed7c-42e2-ab4d-8e181aef0c88\" target=\"_top\" title=\"psysml:576c558f-ed7c-42e2-ab4d-8e181aef0c88\" xlink:actuate=\"onRequest\" xlink:href=\"psysml:576c558f-ed7c-42e2-ab4d-8e181aef0c88\" xlink:show=\"new\" xlink:title=\"psysml:576c558f-ed7c-42e2-ab4d-8e181aef0c88\" xlink:type=\"simple\"><rect fill=\"#FFFFFF\" height=\"48.1875\" id=\"E4\" rx=\"10\" ry=\"10\" style=\"stroke: #383838; stroke-width: 1.5;\" width=\"71\" x=\"105\" y=\"288\"/><text fill=\"#000000\" font-family=\"sans-serif\" font-size=\"12\" font-style=\"italic\" lengthAdjust=\"spacingAndGlyphs\" textLength=\"35\" x=\"123\" y=\"305.457\">«part»</text><text fill=\"#000000\" font-family=\"sans-serif\" font-size=\"12\" lengthAdjust=\"spacingAndGlyphs\" textLength=\"62\" x=\"108\" y=\"320.5508\">batteryHigh</text><line style=\"stroke: #383838; stroke-width: 1.5;\" x1=\"106\" x2=\"175\" y1=\"328.1875\" y2=\"328.1875\"/></a><!--MD5=[270fce915f116d4de14055a7c1d9a0f3]\n",
       "class E5--><a href=\"psysml:45d574ac-c1b5-4e4c-adec-1a69df4fc80c\" target=\"_top\" title=\"psysml:45d574ac-c1b5-4e4c-adec-1a69df4fc80c\" xlink:actuate=\"onRequest\" xlink:href=\"psysml:45d574ac-c1b5-4e4c-adec-1a69df4fc80c\" xlink:show=\"new\" xlink:title=\"psysml:45d574ac-c1b5-4e4c-adec-1a69df4fc80c\" xlink:type=\"simple\"><rect fill=\"#FFFFFF\" height=\"63.2813\" id=\"E5\" rx=\"10\" ry=\"10\" style=\"stroke: #383838; stroke-width: 1.5;\" width=\"92\" x=\"218.5\" y=\"131.5\"/><text fill=\"#000000\" font-family=\"sans-serif\" font-size=\"12\" font-style=\"italic\" lengthAdjust=\"spacingAndGlyphs\" textLength=\"61\" x=\"234\" y=\"148.957\">«variation»</text><text fill=\"#000000\" font-family=\"sans-serif\" font-size=\"12\" font-style=\"italic\" lengthAdjust=\"spacingAndGlyphs\" textLength=\"35\" x=\"247\" y=\"164.0508\">«part»</text><text fill=\"#000000\" font-family=\"sans-serif\" font-size=\"12\" font-style=\"italic\" lengthAdjust=\"spacingAndGlyphs\" textLength=\"38\" x=\"221.5\" y=\"179.1445\">engine</text><text fill=\"#000000\" font-family=\"sans-serif\" font-size=\"12\" lengthAdjust=\"spacingAndGlyphs\" textLength=\"45\" x=\"259.5\" y=\"179.1445\">: Engine</text><line style=\"stroke: #383838; stroke-width: 1.5;\" x1=\"219.5\" x2=\"309.5\" y1=\"186.7813\" y2=\"186.7813\"/></a><!--MD5=[60a26617385b1d2d0262a64233df1f8d]\n",
       "class E6--><a href=\"psysml:5aa5faff-7af2-4b80-a244-80e5d005d6bd\" target=\"_top\" title=\"psysml:5aa5faff-7af2-4b80-a244-80e5d005d6bd\" xlink:actuate=\"onRequest\" xlink:href=\"psysml:5aa5faff-7af2-4b80-a244-80e5d005d6bd\" xlink:show=\"new\" xlink:title=\"psysml:5aa5faff-7af2-4b80-a244-80e5d005d6bd\" xlink:type=\"simple\"><rect fill=\"#FFFFFF\" height=\"48.1875\" id=\"E6\" rx=\"10\" ry=\"10\" style=\"stroke: #383838; stroke-width: 1.5;\" width=\"97\" x=\"214\" y=\"288\"/><text fill=\"#000000\" font-family=\"sans-serif\" font-size=\"12\" font-style=\"italic\" lengthAdjust=\"spacingAndGlyphs\" textLength=\"35\" x=\"245\" y=\"305.457\">«part»</text><text fill=\"#000000\" font-family=\"sans-serif\" font-size=\"12\" lengthAdjust=\"spacingAndGlyphs\" textLength=\"88\" x=\"217\" y=\"320.5508\">standardEngine</text><line style=\"stroke: #383838; stroke-width: 1.5;\" x1=\"215\" x2=\"310\" y1=\"328.1875\" y2=\"328.1875\"/></a><!--MD5=[2156ba9850f5573cc1fc38a6a4b2f02b]\n",
       "class E7--><a href=\"psysml:65de0be3-d09a-40fe-9637-4fbd012a5e9f\" target=\"_top\" title=\"psysml:65de0be3-d09a-40fe-9637-4fbd012a5e9f\" xlink:actuate=\"onRequest\" xlink:href=\"psysml:65de0be3-d09a-40fe-9637-4fbd012a5e9f\" xlink:show=\"new\" xlink:title=\"psysml:65de0be3-d09a-40fe-9637-4fbd012a5e9f\" xlink:type=\"simple\"><rect fill=\"#FFFFFF\" height=\"48.1875\" id=\"E7\" rx=\"10\" ry=\"10\" style=\"stroke: #383838; stroke-width: 1.5;\" width=\"82\" x=\"346.5\" y=\"288\"/><text fill=\"#000000\" font-family=\"sans-serif\" font-size=\"12\" font-style=\"italic\" lengthAdjust=\"spacingAndGlyphs\" textLength=\"35\" x=\"370\" y=\"305.457\">«part»</text><text fill=\"#000000\" font-family=\"sans-serif\" font-size=\"12\" lengthAdjust=\"spacingAndGlyphs\" textLength=\"73\" x=\"349.5\" y=\"320.5508\">powerEngine</text><line style=\"stroke: #383838; stroke-width: 1.5;\" x1=\"347.5\" x2=\"427.5\" y1=\"328.1875\" y2=\"328.1875\"/></a><!--MD5=[b9389687b975829384b498ac4b7476b2]\n",
       "class E8--><a href=\"psysml:e296c556-d749-4c20-80d2-1e1254bdcdd7\" target=\"_top\" title=\"psysml:e296c556-d749-4c20-80d2-1e1254bdcdd7\" xlink:actuate=\"onRequest\" xlink:href=\"psysml:e296c556-d749-4c20-80d2-1e1254bdcdd7\" xlink:show=\"new\" xlink:title=\"psysml:e296c556-d749-4c20-80d2-1e1254bdcdd7\" xlink:type=\"simple\"><rect fill=\"#FFFFFF\" height=\"93.6953\" id=\"E8\" rx=\"10\" ry=\"10\" style=\"stroke: #383838; stroke-width: 1.5;\" width=\"288\" x=\"345.5\" y=\"116\"/><text fill=\"#000000\" font-family=\"sans-serif\" font-size=\"12\" font-style=\"italic\" lengthAdjust=\"spacingAndGlyphs\" textLength=\"67\" x=\"456\" y=\"133.457\">«constraint»</text><text fill=\"#000000\" font-family=\"sans-serif\" font-size=\"12\" font-style=\"italic\" lengthAdjust=\"spacingAndGlyphs\" text-decoration=\"line-through\" textLength=\"46\" x=\"465\" y=\"148.5508\">noname</text><text fill=\"#000000\" font-family=\"sans-serif\" font-size=\"12\" lengthAdjust=\"spacingAndGlyphs\" textLength=\"0\" x=\"514\" y=\"148.5508\"/><line style=\"stroke: #383838; stroke-width: 1.5;\" x1=\"346.5\" x2=\"632.5\" y1=\"156.1875\" y2=\"156.1875\"/><text fill=\"#000000\" font-family=\"sans-serif\" font-size=\"11\" lengthAdjust=\"spacingAndGlyphs\" textLength=\"276\" x=\"351.5\" y=\"189.4424\">{ (battery == batteryLow &amp; engine == standardEngine) ^ (</text><text fill=\"#000000\" font-family=\"sans-serif\" font-size=\"11\" lengthAdjust=\"spacingAndGlyphs\" textLength=\"118\" x=\"351.5\" y=\"203.2783\">battery == batteryHigh) }</text><line style=\"stroke: #383838; stroke-width: 1.0;\" x1=\"346.5\" x2=\"437.5\" y1=\"171.1055\" y2=\"171.1055\"/><text fill=\"#000000\" font-family=\"sans-serif\" font-size=\"11\" lengthAdjust=\"spacingAndGlyphs\" textLength=\"104\" x=\"437.5\" y=\"175.1064\">operator expressions</text><line style=\"stroke: #383838; stroke-width: 1.0;\" x1=\"541.5\" x2=\"632.5\" y1=\"171.1055\" y2=\"171.1055\"/></a><!--MD5=[a523cb2a0b79ecf9065ad8783f96c320]\n",
       "reverse link E1 to E2--><a href=\"psysml:9ca0ce21-a14f-4e3f-8a6f-1140d4031b13\" target=\"_top\" title=\"psysml:9ca0ce21-a14f-4e3f-8a6f-1140d4031b13\" xlink:actuate=\"onRequest\" xlink:href=\"psysml:9ca0ce21-a14f-4e3f-8a6f-1140d4031b13\" xlink:show=\"new\" xlink:title=\"psysml:9ca0ce21-a14f-4e3f-8a6f-1140d4031b13\" xlink:type=\"simple\"><path d=\"M232.77,64.73 C213.03,85.1 187.8,111.13 168.41,131.14 \" fill=\"none\" id=\"E1&lt;-E2\" style=\"stroke: #383838; stroke-width: 1.0;\"/><polygon fill=\"#383838\" points=\"241.97,55.24,234.9218,56.764,233.6177,63.8562,240.6659,62.3322,241.97,55.24\" style=\"stroke: #383838; stroke-width: 1.0;\"/><text fill=\"#000000\" font-family=\"sans-serif\" font-size=\"13\" lengthAdjust=\"spacingAndGlyphs\" textLength=\"7\" x=\"166.8571\" y=\"120.4212\">1</text></a><!--MD5=[2720a5a1f2c3fca2055b230370638851]\n",
       "link E2 to E3--><a href=\"psysml:0584d947-0441-4299-a271-06c565425095\" target=\"_top\" title=\"psysml:0584d947-0441-4299-a271-06c565425095\" xlink:actuate=\"onRequest\" xlink:href=\"psysml:0584d947-0441-4299-a271-06c565425095\" xlink:show=\"new\" xlink:title=\"psysml:0584d947-0441-4299-a271-06c565425095\" xlink:type=\"simple\"><path d=\"M106.89,202.61 C97.71,214.37 87.91,227.5 79.5,240 C71.21,252.33 62.86,266.41 55.88,278.76 \" fill=\"none\" id=\"E2-E3\" style=\"stroke: #383838; stroke-width: 1.0;\"/><polygon fill=\"#383838\" points=\"50.84,287.82,57.3584,282.2963,52.1191,279.3723,50.84,287.82\" style=\"stroke: #383838; stroke-width: 1.0;\"/><path d=\"M104.564,191.8976 A9,9 0 0 0 117.8424 202.3754\" fill=\"none\" style=\"stroke: #383838; stroke-width: 1.5;\"/><text fill=\"#000000\" font-family=\"sans-serif\" font-size=\"13\" lengthAdjust=\"spacingAndGlyphs\" textLength=\"51\" x=\"80.5\" y=\"254.4951\">«variant»</text><text fill=\"#000000\" font-family=\"sans-serif\" font-size=\"13\" lengthAdjust=\"spacingAndGlyphs\" textLength=\"5\" x=\"48.3615\" y=\"277.09\">*</text></a><!--MD5=[4d03bb2d0377dc85ccfab60ff574652b]\n",
       "link E2 to E4--><a href=\"psysml:c208c5e3-2d53-4604-b4fa-d4f678ca5490\" target=\"_top\" title=\"psysml:c208c5e3-2d53-4604-b4fa-d4f678ca5490\" xlink:actuate=\"onRequest\" xlink:href=\"psysml:c208c5e3-2d53-4604-b4fa-d4f678ca5490\" xlink:show=\"new\" xlink:title=\"psysml:c208c5e3-2d53-4604-b4fa-d4f678ca5490\" xlink:type=\"simple\"><path d=\"M139.06,205.05 C139.37,227.95 139.75,256.11 140.05,277.64 \" fill=\"none\" id=\"E2-E4\" style=\"stroke: #383838; stroke-width: 1.0;\"/><polygon fill=\"#383838\" points=\"140.19,287.93,143.0754,279.888,137.076,279.9737,140.19,287.93\" style=\"stroke: #383838; stroke-width: 1.0;\"/><path d=\"M130.503,198.0067 A9,9 0 0 0 147.4161 197.7892\" fill=\"none\" style=\"stroke: #383838; stroke-width: 1.5;\"/><text fill=\"#000000\" font-family=\"sans-serif\" font-size=\"13\" lengthAdjust=\"spacingAndGlyphs\" textLength=\"51\" x=\"141.5\" y=\"254.4951\">«variant»</text><text fill=\"#000000\" font-family=\"sans-serif\" font-size=\"13\" lengthAdjust=\"spacingAndGlyphs\" textLength=\"5\" x=\"134.4699\" y=\"277.2282\">*</text></a><!--MD5=[33238bef88d6431a141d8bc8fb12bca0]\n",
       "reverse link E1 to E5--><a href=\"psysml:756a672f-6f78-49aa-930f-668515df7b87\" target=\"_top\" title=\"psysml:756a672f-6f78-49aa-930f-668515df7b87\" xlink:actuate=\"onRequest\" xlink:href=\"psysml:756a672f-6f78-49aa-930f-668515df7b87\" xlink:show=\"new\" xlink:title=\"psysml:756a672f-6f78-49aa-930f-668515df7b87\" xlink:type=\"simple\"><path d=\"M264.5,68.4 C264.5,88.16 264.5,112.31 264.5,131.14 \" fill=\"none\" id=\"E1&lt;-E5\" style=\"stroke: #383838; stroke-width: 1.0;\"/><polygon fill=\"#383838\" points=\"264.5,55.24,260.5,61.24,264.5,67.24,268.5,61.24,264.5,55.24\" style=\"stroke: #383838; stroke-width: 1.0;\"/><text fill=\"#000000\" font-family=\"sans-serif\" font-size=\"13\" lengthAdjust=\"spacingAndGlyphs\" textLength=\"7\" x=\"256.7781\" y=\"120.4212\">1</text></a><!--MD5=[9120cf2e5df3bff93db8f754bbbc09b4]\n",
       "link E5 to E6--><a href=\"psysml:ee252fd7-f604-4225-8604-ead194233ec1\" target=\"_top\" title=\"psysml:ee252fd7-f604-4225-8604-ead194233ec1\" xlink:actuate=\"onRequest\" xlink:href=\"psysml:ee252fd7-f604-4225-8604-ead194233ec1\" xlink:show=\"new\" xlink:title=\"psysml:ee252fd7-f604-4225-8604-ead194233ec1\" xlink:type=\"simple\"><path d=\"M263.94,205.05 C263.63,227.95 263.25,256.11 262.95,277.64 \" fill=\"none\" id=\"E5-E6\" style=\"stroke: #383838; stroke-width: 1.0;\"/><polygon fill=\"#383838\" points=\"262.81,287.93,265.924,279.9737,259.9246,279.888,262.81,287.93\" style=\"stroke: #383838; stroke-width: 1.0;\"/><path d=\"M255.5839,197.7892 A9,9 0 0 0 272.497 198.0067\" fill=\"none\" style=\"stroke: #383838; stroke-width: 1.5;\"/><text fill=\"#000000\" font-family=\"sans-serif\" font-size=\"13\" lengthAdjust=\"spacingAndGlyphs\" textLength=\"51\" x=\"264.5\" y=\"254.4951\">«variant»</text><text fill=\"#000000\" font-family=\"sans-serif\" font-size=\"13\" lengthAdjust=\"spacingAndGlyphs\" textLength=\"5\" x=\"257.2488\" y=\"277.2282\">*</text></a><!--MD5=[3a9b96bfbf6b6ad89c494e81751bda47]\n",
       "link E5 to E7--><a href=\"psysml:04fcb0c0-1a79-4fc7-bbc9-9c8dd2689086\" target=\"_top\" title=\"psysml:04fcb0c0-1a79-4fc7-bbc9-9c8dd2689086\" xlink:actuate=\"onRequest\" xlink:href=\"psysml:04fcb0c0-1a79-4fc7-bbc9-9c8dd2689086\" xlink:show=\"new\" xlink:title=\"psysml:04fcb0c0-1a79-4fc7-bbc9-9c8dd2689086\" xlink:type=\"simple\"><path d=\"M296.79,202.59 C317,226.74 342.69,257.45 361.57,280.01 \" fill=\"none\" id=\"E5-E7\" style=\"stroke: #383838; stroke-width: 1.0;\"/><polygon fill=\"#383838\" points=\"368.19,287.93,365.3599,279.8683,360.7569,283.717,368.19,287.93\" style=\"stroke: #383838; stroke-width: 1.0;\"/><path d=\"M285.7664,202.6064 A9,9 0 0 0 298.7426 191.7566\" fill=\"none\" style=\"stroke: #383838; stroke-width: 1.5;\"/><text fill=\"#000000\" font-family=\"sans-serif\" font-size=\"13\" lengthAdjust=\"spacingAndGlyphs\" textLength=\"51\" x=\"342.5\" y=\"254.4951\">«variant»</text><text fill=\"#000000\" font-family=\"sans-serif\" font-size=\"13\" lengthAdjust=\"spacingAndGlyphs\" textLength=\"5\" x=\"357.6012\" y=\"277.2282\">*</text></a><!--MD5=[661cb7e25c535686a73d30316f0ecb18]\n",
       "reverse link E1 to E8--><a href=\"psysml:d9d631f1-73d1-43c7-8bdf-44580f945e03\" target=\"_top\" title=\"psysml:d9d631f1-73d1-43c7-8bdf-44580f945e03\" xlink:actuate=\"onRequest\" xlink:href=\"psysml:d9d631f1-73d1-43c7-8bdf-44580f945e03\" xlink:show=\"new\" xlink:title=\"psysml:d9d631f1-73d1-43c7-8bdf-44580f945e03\" xlink:type=\"simple\"><path d=\"M315.91,61.7 C343.69,77.75 378.61,97.93 409.83,115.97 \" fill=\"none\" id=\"E1&lt;-E8\" style=\"stroke: #383838; stroke-width: 1.0;\"/><polygon fill=\"#383838\" points=\"304.47,55.09,307.6623,61.556,314.8587,61.0962,311.6664,54.6302,304.47,55.09\" style=\"stroke: #383838; stroke-width: 1.0;\"/><text fill=\"#000000\" font-family=\"sans-serif\" font-size=\"13\" lengthAdjust=\"spacingAndGlyphs\" textLength=\"5\" x=\"392.2477\" y=\"105.0889\">*</text></a><!--MD5=[449b2eaf00cbf1477c2b9b83e7ae5a91]\n",
       "@startuml\r\n",
       "skinparam monochrome true\r\n",
       "skinparam classbackgroundcolor white\r\n",
       "skinparam shadowing false\r\n",
       "skinparam wrapWidth 300\r\n",
       "hide circle\r\n",
       "\r\n",
       "comp usage \"<i>eVehicleVariations</i> :> eVehicle_LogicalArchitecture::eVehicle\" as E1  <<(T,blue) part>> [[psysml:0ae1a482-8b98-49c5-84ef-28c58f2fe3ff ]] {\r\n",
       "}\r\n",
       "comp usage \"<i>battery</i>: Battery \" as E2  <<variation>>\\n <<(T,blue) part>> [[psysml:3f3ce8b2-15a9-4729-b407-9794fd50c09e ]] {\r\n",
       "}\r\n",
       "comp usage \"batterLow \" as E3  <<(T,blue) part>> [[psysml:14d3fbac-2712-4447-8f00-0d82037ae8b1 ]] {\r\n",
       "}\r\n",
       "comp usage \"batteryHigh \" as E4  <<(T,blue) part>> [[psysml:576c558f-ed7c-42e2-ab4d-8e181aef0c88 ]] {\r\n",
       "}\r\n",
       "comp usage \"<i>engine</i>: Engine \" as E5  <<variation>>\\n <<(T,blue) part>> [[psysml:45d574ac-c1b5-4e4c-adec-1a69df4fc80c ]] {\r\n",
       "}\r\n",
       "comp usage \"standardEngine \" as E6  <<(T,blue) part>> [[psysml:5aa5faff-7af2-4b80-a244-80e5d005d6bd ]] {\r\n",
       "}\r\n",
       "comp usage \"powerEngine \" as E7  <<(T,blue) part>> [[psysml:65de0be3-d09a-40fe-9637-4fbd012a5e9f ]] {\r\n",
       "}\r\n",
       "comp usage \"<i><s>noname</s></i> \" as E8  <<(T,blue) constraint>> [[psysml:e296c556-d749-4c20-80d2-1e1254bdcdd7 ]] {\r\n",
       "- - operator expressions - -\r\n",
       " { (battery == batteryLow & engine == standardEngine) ^ (battery == batteryHigh) }\r\n",
       "}\r\n",
       "E1 *- - \"1\"E2 [[psysml:9ca0ce21-a14f-4e3f-8a6f-1140d4031b13 ]] \r\n",
       "E2 )- ->> \"*\"E3 [[psysml:0584d947-0441-4299-a271-06c565425095 ]] : <<variant>>\r\n",
       "E2 )- ->> \"*\"E4 [[psysml:c208c5e3-2d53-4604-b4fa-d4f678ca5490 ]] : <<variant>>\r\n",
       "E1 *- - \"1\"E5 [[psysml:756a672f-6f78-49aa-930f-668515df7b87 ]] \r\n",
       "E5 )- ->> \"*\"E6 [[psysml:ee252fd7-f604-4225-8604-ead194233ec1 ]] : <<variant>>\r\n",
       "E5 )- ->> \"*\"E7 [[psysml:04fcb0c0-1a79-4fc7-bbc9-9c8dd2689086 ]] : <<variant>>\r\n",
       "E1 *- - \"*\"E8 [[psysml:d9d631f1-73d1-43c7-8bdf-44580f945e03 ]] \r\n",
       "@enduml\r\n",
       "\n",
       "PlantUML version 1.2020.13(Sat Jun 13 14:26:38 CEST 2020)\n",
       "(EPL source distribution)\n",
       "Java Runtime: OpenJDK Runtime Environment\n",
       "JVM: OpenJDK 64-Bit Server VM\n",
       "Default Encoding: Cp1252\n",
       "Language: en\n",
       "Country: US\n",
       "--></g></svg>"
      ]
     },
     "execution_count": 32,
     "metadata": {},
     "output_type": "execute_result"
    }
   ],
   "source": [
    "%viz --view=tree eVehicle_VariantModel::eVehicle_Variations::eVehicleVariations"
   ]
  },
  {
   "cell_type": "code",
   "execution_count": 33,
   "metadata": {},
   "outputs": [
    {
     "data": {
      "image/svg+xml": [
       "<?xml version=\"1.0\" encoding=\"UTF-8\" standalone=\"no\"?><svg xmlns=\"http://www.w3.org/2000/svg\" xmlns:xlink=\"http://www.w3.org/1999/xlink\" contentScriptType=\"application/ecmascript\" contentStyleType=\"text/css\" height=\"226px\" preserveAspectRatio=\"none\" style=\"width:1145px;height:226px;\" version=\"1.1\" viewBox=\"0 0 1145 226\" width=\"1145px\" zoomAndPan=\"magnify\"><defs/><g><!--MD5=[fbc87193dbaf4d95561dea2c320d4a47]\n",
       "cluster E1--><a href=\"psysml:037bde2c-65bc-4a18-9ef4-a42f71b29dd0\" target=\"_top\" title=\"psysml:037bde2c-65bc-4a18-9ef4-a42f71b29dd0\" xlink:actuate=\"onRequest\" xlink:href=\"psysml:037bde2c-65bc-4a18-9ef4-a42f71b29dd0\" xlink:show=\"new\" xlink:title=\"psysml:037bde2c-65bc-4a18-9ef4-a42f71b29dd0\" xlink:type=\"simple\"><polygon fill=\"#FFFFFF\" points=\"16,6,195,6,202,29.6094,1123,29.6094,1123,214,16,214,16,6\" style=\"stroke: #000000; stroke-width: 1.5;\"/><line style=\"stroke: #000000; stroke-width: 1.5;\" x1=\"16\" x2=\"202\" y1=\"29.6094\" y2=\"29.6094\"/><text fill=\"#000000\" font-family=\"sans-serif\" font-size=\"14\" font-weight=\"bold\" lengthAdjust=\"spacingAndGlyphs\" textLength=\"173\" x=\"20\" y=\"22.5332\">eVehicle_Configurations</text></a><!--MD5=[b4997ac47864f28c2f74865a473b2911]\n",
       "class E2--><a href=\"psysml:5b00ddbc-7ffb-46e4-87cb-23bb0d2f20a1\" target=\"_top\" title=\"psysml:5b00ddbc-7ffb-46e4-87cb-23bb0d2f20a1\" xlink:actuate=\"onRequest\" xlink:href=\"psysml:5b00ddbc-7ffb-46e4-87cb-23bb0d2f20a1\" xlink:show=\"new\" xlink:title=\"psysml:5b00ddbc-7ffb-46e4-87cb-23bb0d2f20a1\" xlink:type=\"simple\"><rect fill=\"#FFFFFF\" height=\"48.1875\" id=\"E2\" rx=\"10\" ry=\"10\" style=\"stroke: #383838; stroke-width: 1.5;\" width=\"336\" x=\"771\" y=\"42\"/><text fill=\"#000000\" font-family=\"sans-serif\" font-size=\"12\" font-style=\"italic\" lengthAdjust=\"spacingAndGlyphs\" textLength=\"35\" x=\"921.5\" y=\"59.457\">«part»</text><text fill=\"#000000\" font-family=\"sans-serif\" font-size=\"12\" lengthAdjust=\"spacingAndGlyphs\" textLength=\"330\" x=\"774\" y=\"74.5508\">eVehicleStandard :&gt; eVehicle_Variations::eVehicleVariations</text><line style=\"stroke: #383838; stroke-width: 1.5;\" x1=\"772\" x2=\"1106\" y1=\"82.1875\" y2=\"82.1875\"/></a><!--MD5=[09b614a08d8cba4a07c9adeb5e0fee81]\n",
       "class E3--><a href=\"psysml:0adb86e5-b337-4a1d-ba0e-a743343fd5c1\" target=\"_top\" title=\"psysml:0adb86e5-b337-4a1d-ba0e-a743343fd5c1\" xlink:actuate=\"onRequest\" xlink:href=\"psysml:0adb86e5-b337-4a1d-ba0e-a743343fd5c1\" xlink:show=\"new\" xlink:title=\"psysml:0adb86e5-b337-4a1d-ba0e-a743343fd5c1\" xlink:type=\"simple\"><rect fill=\"#FFFFFF\" height=\"48.1875\" id=\"E3\" rx=\"10\" ry=\"10\" style=\"stroke: #383838; stroke-width: 1.5;\" width=\"47\" x=\"874.5\" y=\"150\"/><text fill=\"#000000\" font-family=\"sans-serif\" font-size=\"12\" font-style=\"italic\" lengthAdjust=\"spacingAndGlyphs\" textLength=\"35\" x=\"880.5\" y=\"167.457\">«part»</text><text fill=\"#000000\" font-family=\"sans-serif\" font-size=\"12\" lengthAdjust=\"spacingAndGlyphs\" textLength=\"38\" x=\"877.5\" y=\"182.5508\">engine</text><line style=\"stroke: #383838; stroke-width: 1.5;\" x1=\"875.5\" x2=\"920.5\" y1=\"190.1875\" y2=\"190.1875\"/></a><!--MD5=[ebbe1d658d1005bcc118a6aa81145e00]\n",
       "class E4--><a href=\"psysml:df58a78d-b331-4bd3-9f9e-449d49930fb0\" target=\"_top\" title=\"psysml:df58a78d-b331-4bd3-9f9e-449d49930fb0\" xlink:actuate=\"onRequest\" xlink:href=\"psysml:df58a78d-b331-4bd3-9f9e-449d49930fb0\" xlink:show=\"new\" xlink:title=\"psysml:df58a78d-b331-4bd3-9f9e-449d49930fb0\" xlink:type=\"simple\"><rect fill=\"#FFFFFF\" height=\"48.1875\" id=\"E4\" rx=\"10\" ry=\"10\" style=\"stroke: #383838; stroke-width: 1.5;\" width=\"45\" x=\"956.5\" y=\"150\"/><text fill=\"#000000\" font-family=\"sans-serif\" font-size=\"12\" font-style=\"italic\" lengthAdjust=\"spacingAndGlyphs\" textLength=\"35\" x=\"961.5\" y=\"167.457\">«part»</text><text fill=\"#000000\" font-family=\"sans-serif\" font-size=\"12\" lengthAdjust=\"spacingAndGlyphs\" textLength=\"36\" x=\"959.5\" y=\"182.5508\">battery</text><line style=\"stroke: #383838; stroke-width: 1.5;\" x1=\"957.5\" x2=\"1000.5\" y1=\"190.1875\" y2=\"190.1875\"/></a><!--MD5=[270fce915f116d4de14055a7c1d9a0f3]\n",
       "class E5--><a href=\"psysml:8b6b16bf-6116-458c-a46b-ad29b52bd2c7\" target=\"_top\" title=\"psysml:8b6b16bf-6116-458c-a46b-ad29b52bd2c7\" xlink:actuate=\"onRequest\" xlink:href=\"psysml:8b6b16bf-6116-458c-a46b-ad29b52bd2c7\" xlink:show=\"new\" xlink:title=\"psysml:8b6b16bf-6116-458c-a46b-ad29b52bd2c7\" xlink:type=\"simple\"><rect fill=\"#FFFFFF\" height=\"48.1875\" id=\"E5\" rx=\"10\" ry=\"10\" style=\"stroke: #383838; stroke-width: 1.5;\" width=\"337\" x=\"398.5\" y=\"42\"/><text fill=\"#000000\" font-family=\"sans-serif\" font-size=\"12\" font-style=\"italic\" lengthAdjust=\"spacingAndGlyphs\" textLength=\"35\" x=\"549.5\" y=\"59.457\">«part»</text><text fill=\"#000000\" font-family=\"sans-serif\" font-size=\"12\" lengthAdjust=\"spacingAndGlyphs\" textLength=\"331\" x=\"401.5\" y=\"74.5508\">eVehiclePremium :&gt; eVehicle_Variations::eVehicleVariations</text><line style=\"stroke: #383838; stroke-width: 1.5;\" x1=\"399.5\" x2=\"734.5\" y1=\"82.1875\" y2=\"82.1875\"/></a><!--MD5=[60a26617385b1d2d0262a64233df1f8d]\n",
       "class E6--><a href=\"psysml:19b82a19-43af-470c-9159-5e439f0eb84c\" target=\"_top\" title=\"psysml:19b82a19-43af-470c-9159-5e439f0eb84c\" xlink:actuate=\"onRequest\" xlink:href=\"psysml:19b82a19-43af-470c-9159-5e439f0eb84c\" xlink:show=\"new\" xlink:title=\"psysml:19b82a19-43af-470c-9159-5e439f0eb84c\" xlink:type=\"simple\"><rect fill=\"#FFFFFF\" height=\"48.1875\" id=\"E6\" rx=\"10\" ry=\"10\" style=\"stroke: #383838; stroke-width: 1.5;\" width=\"47\" x=\"502.5\" y=\"150\"/><text fill=\"#000000\" font-family=\"sans-serif\" font-size=\"12\" font-style=\"italic\" lengthAdjust=\"spacingAndGlyphs\" textLength=\"35\" x=\"508.5\" y=\"167.457\">«part»</text><text fill=\"#000000\" font-family=\"sans-serif\" font-size=\"12\" lengthAdjust=\"spacingAndGlyphs\" textLength=\"38\" x=\"505.5\" y=\"182.5508\">engine</text><line style=\"stroke: #383838; stroke-width: 1.5;\" x1=\"503.5\" x2=\"548.5\" y1=\"190.1875\" y2=\"190.1875\"/></a><!--MD5=[2156ba9850f5573cc1fc38a6a4b2f02b]\n",
       "class E7--><a href=\"psysml:e38d7503-3f6f-48ed-891d-526089765c68\" target=\"_top\" title=\"psysml:e38d7503-3f6f-48ed-891d-526089765c68\" xlink:actuate=\"onRequest\" xlink:href=\"psysml:e38d7503-3f6f-48ed-891d-526089765c68\" xlink:show=\"new\" xlink:title=\"psysml:e38d7503-3f6f-48ed-891d-526089765c68\" xlink:type=\"simple\"><rect fill=\"#FFFFFF\" height=\"48.1875\" id=\"E7\" rx=\"10\" ry=\"10\" style=\"stroke: #383838; stroke-width: 1.5;\" width=\"45\" x=\"584.5\" y=\"150\"/><text fill=\"#000000\" font-family=\"sans-serif\" font-size=\"12\" font-style=\"italic\" lengthAdjust=\"spacingAndGlyphs\" textLength=\"35\" x=\"589.5\" y=\"167.457\">«part»</text><text fill=\"#000000\" font-family=\"sans-serif\" font-size=\"12\" lengthAdjust=\"spacingAndGlyphs\" textLength=\"36\" x=\"587.5\" y=\"182.5508\">battery</text><line style=\"stroke: #383838; stroke-width: 1.5;\" x1=\"585.5\" x2=\"628.5\" y1=\"190.1875\" y2=\"190.1875\"/></a><!--MD5=[b9389687b975829384b498ac4b7476b2]\n",
       "class E8--><a href=\"psysml:ccfc7fcd-c3a7-4a17-8097-1f971833197d\" target=\"_top\" title=\"psysml:ccfc7fcd-c3a7-4a17-8097-1f971833197d\" xlink:actuate=\"onRequest\" xlink:href=\"psysml:ccfc7fcd-c3a7-4a17-8097-1f971833197d\" xlink:show=\"new\" xlink:title=\"psysml:ccfc7fcd-c3a7-4a17-8097-1f971833197d\" xlink:type=\"simple\"><rect fill=\"#FFFFFF\" height=\"48.1875\" id=\"E8\" rx=\"10\" ry=\"10\" style=\"stroke: #383838; stroke-width: 1.5;\" width=\"331\" x=\"32.5\" y=\"42\"/><text fill=\"#000000\" font-family=\"sans-serif\" font-size=\"12\" font-style=\"italic\" lengthAdjust=\"spacingAndGlyphs\" textLength=\"35\" x=\"180.5\" y=\"59.457\">«part»</text><text fill=\"#000000\" font-family=\"sans-serif\" font-size=\"12\" lengthAdjust=\"spacingAndGlyphs\" textLength=\"325\" x=\"35.5\" y=\"74.5508\">INVALIDeVehicle :&gt; eVehicle_Variations::eVehicleVariations</text><line style=\"stroke: #383838; stroke-width: 1.5;\" x1=\"33.5\" x2=\"362.5\" y1=\"82.1875\" y2=\"82.1875\"/></a><!--MD5=[fd4143e9d270a159db93a4ea2a975926]\n",
       "class E9--><a href=\"psysml:273c3f82-ec9b-4ebc-a7c5-5b39de08a46c\" target=\"_top\" title=\"psysml:273c3f82-ec9b-4ebc-a7c5-5b39de08a46c\" xlink:actuate=\"onRequest\" xlink:href=\"psysml:273c3f82-ec9b-4ebc-a7c5-5b39de08a46c\" xlink:show=\"new\" xlink:title=\"psysml:273c3f82-ec9b-4ebc-a7c5-5b39de08a46c\" xlink:type=\"simple\"><rect fill=\"#FFFFFF\" height=\"48.1875\" id=\"E9\" rx=\"10\" ry=\"10\" style=\"stroke: #383838; stroke-width: 1.5;\" width=\"47\" x=\"133.5\" y=\"150\"/><text fill=\"#000000\" font-family=\"sans-serif\" font-size=\"12\" font-style=\"italic\" lengthAdjust=\"spacingAndGlyphs\" textLength=\"35\" x=\"139.5\" y=\"167.457\">«part»</text><text fill=\"#000000\" font-family=\"sans-serif\" font-size=\"12\" lengthAdjust=\"spacingAndGlyphs\" textLength=\"38\" x=\"136.5\" y=\"182.5508\">engine</text><line style=\"stroke: #383838; stroke-width: 1.5;\" x1=\"134.5\" x2=\"179.5\" y1=\"190.1875\" y2=\"190.1875\"/></a><!--MD5=[96f4274e9e20536e775497830990834d]\n",
       "class E10--><a href=\"psysml:96bb5ff5-bfb4-4a5a-aaac-134664f0bd5e\" target=\"_top\" title=\"psysml:96bb5ff5-bfb4-4a5a-aaac-134664f0bd5e\" xlink:actuate=\"onRequest\" xlink:href=\"psysml:96bb5ff5-bfb4-4a5a-aaac-134664f0bd5e\" xlink:show=\"new\" xlink:title=\"psysml:96bb5ff5-bfb4-4a5a-aaac-134664f0bd5e\" xlink:type=\"simple\"><rect fill=\"#FFFFFF\" height=\"48.1875\" id=\"E10\" rx=\"10\" ry=\"10\" style=\"stroke: #383838; stroke-width: 1.5;\" width=\"45\" x=\"215.5\" y=\"150\"/><text fill=\"#000000\" font-family=\"sans-serif\" font-size=\"12\" font-style=\"italic\" lengthAdjust=\"spacingAndGlyphs\" textLength=\"35\" x=\"220.5\" y=\"167.457\">«part»</text><text fill=\"#000000\" font-family=\"sans-serif\" font-size=\"12\" lengthAdjust=\"spacingAndGlyphs\" textLength=\"36\" x=\"218.5\" y=\"182.5508\">battery</text><line style=\"stroke: #383838; stroke-width: 1.5;\" x1=\"216.5\" x2=\"259.5\" y1=\"190.1875\" y2=\"190.1875\"/></a><!--MD5=[209b3feb70ccb6233bfe1053d122c12c]\n",
       "reverse link E2 to E3--><a href=\"psysml:ed694bfa-bbcb-4ed9-9701-8ab6f6b709e1\" target=\"_top\" title=\"psysml:ed694bfa-bbcb-4ed9-9701-8ab6f6b709e1\" xlink:actuate=\"onRequest\" xlink:href=\"psysml:ed694bfa-bbcb-4ed9-9701-8ab6f6b709e1\" xlink:show=\"new\" xlink:title=\"psysml:ed694bfa-bbcb-4ed9-9701-8ab6f6b709e1\" xlink:type=\"simple\"><path d=\"M925.31,102.4 C919.29,117.97 912.38,135.82 907.02,149.68 \" fill=\"none\" id=\"E2&lt;-E3\" style=\"stroke: #383838; stroke-width: 1.0;\"/><polygon fill=\"#383838\" points=\"930.1,90,924.2023,94.1493,925.764,101.1892,931.6617,97.04,930.1,90\" style=\"stroke: #383838; stroke-width: 1.0;\"/><text fill=\"#000000\" font-family=\"sans-serif\" font-size=\"13\" lengthAdjust=\"spacingAndGlyphs\" textLength=\"7\" x=\"901.3655\" y=\"139.3171\">1</text></a><!--MD5=[9618e71518536f8baf3342ff6fdab317]\n",
       "reverse link E2 to E4--><a href=\"psysml:357c769d-6b50-4781-964a-1c561d69a28d\" target=\"_top\" title=\"psysml:357c769d-6b50-4781-964a-1c561d69a28d\" xlink:actuate=\"onRequest\" xlink:href=\"psysml:357c769d-6b50-4781-964a-1c561d69a28d\" xlink:show=\"new\" xlink:title=\"psysml:357c769d-6b50-4781-964a-1c561d69a28d\" xlink:type=\"simple\"><path d=\"M952.36,102.4 C958.23,117.97 964.97,135.82 970.2,149.68 \" fill=\"none\" id=\"E2&lt;-E4\" style=\"stroke: #383838; stroke-width: 1.0;\"/><polygon fill=\"#383838\" points=\"947.68,90,946.0523,97.025,951.9108,101.2294,953.5386,94.2044,947.68,90\" style=\"stroke: #383838; stroke-width: 1.0;\"/><text fill=\"#000000\" font-family=\"sans-serif\" font-size=\"13\" lengthAdjust=\"spacingAndGlyphs\" textLength=\"7\" x=\"960.2019\" y=\"139.3171\">1</text></a><!--MD5=[85d356282659285ab4b2cfe2f634dd2b]\n",
       "reverse link E5 to E6--><a href=\"psysml:149cd2ca-d025-41f0-895c-3c185b6cf5aa\" target=\"_top\" title=\"psysml:149cd2ca-d025-41f0-895c-3c185b6cf5aa\" xlink:actuate=\"onRequest\" xlink:href=\"psysml:149cd2ca-d025-41f0-895c-3c185b6cf5aa\" xlink:show=\"new\" xlink:title=\"psysml:149cd2ca-d025-41f0-895c-3c185b6cf5aa\" xlink:type=\"simple\"><path d=\"M553.31,102.4 C547.29,117.97 540.38,135.82 535.02,149.68 \" fill=\"none\" id=\"E5&lt;-E6\" style=\"stroke: #383838; stroke-width: 1.0;\"/><polygon fill=\"#383838\" points=\"558.1,90,552.2023,94.1493,553.764,101.1892,559.6617,97.04,558.1,90\" style=\"stroke: #383838; stroke-width: 1.0;\"/><text fill=\"#000000\" font-family=\"sans-serif\" font-size=\"13\" lengthAdjust=\"spacingAndGlyphs\" textLength=\"7\" x=\"529.3655\" y=\"139.3171\">1</text></a><!--MD5=[452b418e7f8a40397a49b8c0a78acc5b]\n",
       "reverse link E5 to E7--><a href=\"psysml:6422f7ac-3f64-4d9c-bb9a-ea718f6d8c02\" target=\"_top\" title=\"psysml:6422f7ac-3f64-4d9c-bb9a-ea718f6d8c02\" xlink:actuate=\"onRequest\" xlink:href=\"psysml:6422f7ac-3f64-4d9c-bb9a-ea718f6d8c02\" xlink:show=\"new\" xlink:title=\"psysml:6422f7ac-3f64-4d9c-bb9a-ea718f6d8c02\" xlink:type=\"simple\"><path d=\"M580.36,102.4 C586.23,117.97 592.97,135.82 598.2,149.68 \" fill=\"none\" id=\"E5&lt;-E7\" style=\"stroke: #383838; stroke-width: 1.0;\"/><polygon fill=\"#383838\" points=\"575.68,90,574.0523,97.025,579.9108,101.2294,581.5386,94.2044,575.68,90\" style=\"stroke: #383838; stroke-width: 1.0;\"/><text fill=\"#000000\" font-family=\"sans-serif\" font-size=\"13\" lengthAdjust=\"spacingAndGlyphs\" textLength=\"7\" x=\"588.2019\" y=\"139.3171\">1</text></a><!--MD5=[22f5b4bae7e060dce8a1c8021efdb95b]\n",
       "reverse link E8 to E9--><a href=\"psysml:3abbb93a-923f-4eee-a329-2bd1503fa7c7\" target=\"_top\" title=\"psysml:3abbb93a-923f-4eee-a329-2bd1503fa7c7\" xlink:actuate=\"onRequest\" xlink:href=\"psysml:3abbb93a-923f-4eee-a329-2bd1503fa7c7\" xlink:show=\"new\" xlink:title=\"psysml:3abbb93a-923f-4eee-a329-2bd1503fa7c7\" xlink:type=\"simple\"><path d=\"M184.31,102.4 C178.29,117.97 171.38,135.82 166.02,149.68 \" fill=\"none\" id=\"E8&lt;-E9\" style=\"stroke: #383838; stroke-width: 1.0;\"/><polygon fill=\"#383838\" points=\"189.1,90,183.2023,94.1493,184.764,101.1892,190.6617,97.04,189.1,90\" style=\"stroke: #383838; stroke-width: 1.0;\"/><text fill=\"#000000\" font-family=\"sans-serif\" font-size=\"13\" lengthAdjust=\"spacingAndGlyphs\" textLength=\"7\" x=\"160.3655\" y=\"139.3171\">1</text></a><!--MD5=[82b7655495be5c02ec58611e6ac45fcc]\n",
       "reverse link E8 to E10--><a href=\"psysml:bd119003-b181-400c-9daa-2c5866b9fd3e\" target=\"_top\" title=\"psysml:bd119003-b181-400c-9daa-2c5866b9fd3e\" xlink:actuate=\"onRequest\" xlink:href=\"psysml:bd119003-b181-400c-9daa-2c5866b9fd3e\" xlink:show=\"new\" xlink:title=\"psysml:bd119003-b181-400c-9daa-2c5866b9fd3e\" xlink:type=\"simple\"><path d=\"M211.36,102.4 C217.23,117.97 223.97,135.82 229.2,149.68 \" fill=\"none\" id=\"E8&lt;-E10\" style=\"stroke: #383838; stroke-width: 1.0;\"/><polygon fill=\"#383838\" points=\"206.68,90,205.0523,97.025,210.9108,101.2294,212.5386,94.2044,206.68,90\" style=\"stroke: #383838; stroke-width: 1.0;\"/><text fill=\"#000000\" font-family=\"sans-serif\" font-size=\"13\" lengthAdjust=\"spacingAndGlyphs\" textLength=\"7\" x=\"219.2019\" y=\"139.3171\">1</text></a><!--MD5=[4b88dbac7428b9eb92652b293ce99bf2]\n",
       "@startuml\r\n",
       "skinparam monochrome true\r\n",
       "skinparam classbackgroundcolor white\r\n",
       "skinparam shadowing false\r\n",
       "skinparam wrapWidth 300\r\n",
       "hide circle\r\n",
       "\r\n",
       "package \"eVehicle_Configurations\" as E1  [[psysml:037bde2c-65bc-4a18-9ef4-a42f71b29dd0 ]]  {\r\n",
       "comp usage \"eVehicleStandard :> eVehicle_Variations::eVehicleVariations\" as E2  <<(T,blue) part>> [[psysml:5b00ddbc-7ffb-46e4-87cb-23bb0d2f20a1 ]] {\r\n",
       "}\r\n",
       "comp usage \"engine \" as E3  <<(T,blue) part>> [[psysml:0adb86e5-b337-4a1d-ba0e-a743343fd5c1 ]] {\r\n",
       "}\r\n",
       "comp usage \"battery \" as E4  <<(T,blue) part>> [[psysml:df58a78d-b331-4bd3-9f9e-449d49930fb0 ]] {\r\n",
       "}\r\n",
       "comp usage \"eVehiclePremium :> eVehicle_Variations::eVehicleVariations\" as E5  <<(T,blue) part>> [[psysml:8b6b16bf-6116-458c-a46b-ad29b52bd2c7 ]] {\r\n",
       "}\r\n",
       "comp usage \"engine \" as E6  <<(T,blue) part>> [[psysml:19b82a19-43af-470c-9159-5e439f0eb84c ]] {\r\n",
       "}\r\n",
       "comp usage \"battery \" as E7  <<(T,blue) part>> [[psysml:e38d7503-3f6f-48ed-891d-526089765c68 ]] {\r\n",
       "}\r\n",
       "comp usage \"INVALIDeVehicle :> eVehicle_Variations::eVehicleVariations\" as E8  <<(T,blue) part>> [[psysml:ccfc7fcd-c3a7-4a17-8097-1f971833197d ]] {\r\n",
       "}\r\n",
       "comp usage \"engine \" as E9  <<(T,blue) part>> [[psysml:273c3f82-ec9b-4ebc-a7c5-5b39de08a46c ]] {\r\n",
       "}\r\n",
       "comp usage \"battery \" as E10  <<(T,blue) part>> [[psysml:96bb5ff5-bfb4-4a5a-aaac-134664f0bd5e ]] {\r\n",
       "}\r\n",
       "}\r\n",
       "E2 *- - \"1\"E3 [[psysml:ed694bfa-bbcb-4ed9-9701-8ab6f6b709e1 ]] \r\n",
       "E2 *- - \"1\"E4 [[psysml:357c769d-6b50-4781-964a-1c561d69a28d ]] \r\n",
       "E5 *- - \"1\"E6 [[psysml:149cd2ca-d025-41f0-895c-3c185b6cf5aa ]] \r\n",
       "E5 *- - \"1\"E7 [[psysml:6422f7ac-3f64-4d9c-bb9a-ea718f6d8c02 ]] \r\n",
       "E8 *- - \"1\"E9 [[psysml:3abbb93a-923f-4eee-a329-2bd1503fa7c7 ]] \r\n",
       "E8 *- - \"1\"E10 [[psysml:bd119003-b181-400c-9daa-2c5866b9fd3e ]] \r\n",
       "@enduml\r\n",
       "\n",
       "PlantUML version 1.2020.13(Sat Jun 13 14:26:38 CEST 2020)\n",
       "(EPL source distribution)\n",
       "Java Runtime: OpenJDK Runtime Environment\n",
       "JVM: OpenJDK 64-Bit Server VM\n",
       "Default Encoding: Cp1252\n",
       "Language: en\n",
       "Country: US\n",
       "--></g></svg>"
      ]
     },
     "execution_count": 33,
     "metadata": {},
     "output_type": "execute_result"
    }
   ],
   "source": [
    "%viz --view=tree eVehicle_VariantModel::eVehicle_Configurations"
   ]
  },
  {
   "cell_type": "markdown",
   "metadata": {},
   "source": [
    "### Avoiding the \"variability model explosion\"\n",
    "\n",
    "When modeling variability with SysML v1, the model can easily explode, i.e., a small variability can lead to the need to model many model elements. I change a bit the structure of the vehicle, for example, I define the wheels as parts of the axis. I also remove the part definition Wheel and define a some lug bolts of the wheels. Finally, we have a deep nested structure: eVehicle owns axis owns wheel owns lug bolt."
   ]
  },
  {
   "cell_type": "code",
   "execution_count": 34,
   "metadata": {},
   "outputs": [
    {
     "data": {
      "text/plain": [
       "Package eVehicle_LogicalArchitecture_ExplosionExample (d59f792c-15fb-4c0b-9f30-adf481130530)\n"
      ]
     },
     "execution_count": 34,
     "metadata": {},
     "output_type": "execute_result"
    }
   ],
   "source": [
    " package eVehicle_LogicalArchitecture_ExplosionExample {\n",
    "    \n",
    "    import eVehicleDefinitions::*;\n",
    "    import eVehicleLibrary::*;\n",
    "    \n",
    "    part eVehicle {    \n",
    "        part engine : Engine;\n",
    "\n",
    "        part frontAxis {\n",
    "            part frontWheel[2] {\n",
    "                part lugBolt[6];\n",
    "                part boltCircle;\n",
    "                connect boltCircle to lugBolt;\n",
    "            }\n",
    "            part housing;            \n",
    "            connect housing to frontWheel;\n",
    "        }\n",
    "        \n",
    "        part rearAxis {\n",
    "            part rearWheel[2] {\n",
    "                part lugBolt[6];\n",
    "                part boltCircle;\n",
    "                connect boltCircle to lugBolt;\n",
    "            }\n",
    "            part housing;            \n",
    "            connect housing to rearWheel;\n",
    "        }       \n",
    "        connect engine to frontAxis;\n",
    "    }\n",
    "}"
   ]
  },
  {
   "cell_type": "code",
   "execution_count": 35,
   "metadata": {},
   "outputs": [
    {
     "data": {
      "image/svg+xml": [
       "<?xml version=\"1.0\" encoding=\"UTF-8\" standalone=\"no\"?><svg xmlns=\"http://www.w3.org/2000/svg\" xmlns:xlink=\"http://www.w3.org/1999/xlink\" contentScriptType=\"application/ecmascript\" contentStyleType=\"text/css\" height=\"428px\" preserveAspectRatio=\"none\" style=\"width:773px;height:428px;\" version=\"1.1\" viewBox=\"0 0 773 428\" width=\"773px\" zoomAndPan=\"magnify\"><defs/><g><!--MD5=[fbc87193dbaf4d95561dea2c320d4a47]\n",
       "cluster E1--><a href=\"psysml:6b854df4-7fae-4125-aaf8-e720095da11c\" target=\"_top\" title=\"psysml:6b854df4-7fae-4125-aaf8-e720095da11c\" xlink:actuate=\"onRequest\" xlink:href=\"psysml:6b854df4-7fae-4125-aaf8-e720095da11c\" xlink:show=\"new\" xlink:title=\"psysml:6b854df4-7fae-4125-aaf8-e720095da11c\" xlink:type=\"simple\"><polygon fill=\"#FFFFFF\" points=\"16,6,228,6,235,29.6094,751,29.6094,751,416,16,416,16,6\" style=\"stroke: #000000; stroke-width: 1.5;\"/><line style=\"stroke: #000000; stroke-width: 1.5;\" x1=\"16\" x2=\"235\" y1=\"29.6094\" y2=\"29.6094\"/><text fill=\"#000000\" font-family=\"sans-serif\" font-size=\"14\" font-weight=\"bold\" lengthAdjust=\"spacingAndGlyphs\" textLength=\"206\" x=\"20\" y=\"22.5332\">eVehicle_LogicalArchitecture</text></a><!--MD5=[e4f7fae6ed58524ba242bb0b0d3be6b7]\n",
       "cluster E2--><a href=\"psysml:c65f054d-c1ee-4c72-b0aa-4862fc2ae26d\" target=\"_top\" title=\"psysml:c65f054d-c1ee-4c72-b0aa-4862fc2ae26d\" xlink:actuate=\"onRequest\" xlink:href=\"psysml:c65f054d-c1ee-4c72-b0aa-4862fc2ae26d\" xlink:show=\"new\" xlink:title=\"psysml:c65f054d-c1ee-4c72-b0aa-4862fc2ae26d\" xlink:type=\"simple\"><rect fill=\"#FFFFFF\" height=\"342\" id=\"E2\" rx=\"10\" ry=\"10\" style=\"stroke: #383838; stroke-width: 1.5;\" width=\"687\" x=\"40\" y=\"50\"/><rect fill=\"#F8F8F8\" height=\"25.0938\" rx=\"10\" ry=\"10\" style=\"stroke: #F8F8F8; stroke-width: 1.5;\" width=\"687\" x=\"40\" y=\"50\"/><rect fill=\"#F8F8F8\" height=\"10\" style=\"stroke: #F8F8F8; stroke-width: 1.5;\" width=\"687\" x=\"40\" y=\"65.0938\"/><rect fill=\"none\" height=\"342\" id=\"E2\" rx=\"10\" ry=\"10\" style=\"stroke: #383838; stroke-width: 1.5;\" width=\"687\" x=\"40\" y=\"50\"/><text fill=\"#000000\" font-family=\"sans-serif\" font-size=\"12\" lengthAdjust=\"spacingAndGlyphs\" textLength=\"47\" x=\"360\" y=\"67.457\">eVehicle</text><line style=\"stroke: #383838; stroke-width: 1.0;\" x1=\"40\" x2=\"727\" y1=\"75.0938\" y2=\"75.0938\"/></a><!--MD5=[de5ec2e2e8f62f467e546659f5068c88]\n",
       "cluster E5--><a href=\"psysml:af270b78-9313-4997-909b-3990191fab75\" target=\"_top\" title=\"psysml:af270b78-9313-4997-909b-3990191fab75\" xlink:actuate=\"onRequest\" xlink:href=\"psysml:af270b78-9313-4997-909b-3990191fab75\" xlink:show=\"new\" xlink:title=\"psysml:af270b78-9313-4997-909b-3990191fab75\" xlink:type=\"simple\"><rect fill=\"#FFFFFF\" height=\"160\" id=\"E5\" rx=\"10\" ry=\"10\" style=\"stroke: #383838; stroke-width: 1.5;\" width=\"140\" x=\"445\" y=\"110\"/><rect fill=\"#F8F8F8\" height=\"25.0938\" rx=\"10\" ry=\"10\" style=\"stroke: #F8F8F8; stroke-width: 1.5;\" width=\"140\" x=\"445\" y=\"110\"/><rect fill=\"#F8F8F8\" height=\"10\" style=\"stroke: #F8F8F8; stroke-width: 1.5;\" width=\"140\" x=\"445\" y=\"125.0938\"/><rect fill=\"none\" height=\"160\" id=\"E5\" rx=\"10\" ry=\"10\" style=\"stroke: #383838; stroke-width: 1.5;\" width=\"140\" x=\"445\" y=\"110\"/><text fill=\"#000000\" font-family=\"sans-serif\" font-size=\"12\" lengthAdjust=\"spacingAndGlyphs\" textLength=\"79\" x=\"475.5\" y=\"127.457\">battery: Battery</text><line style=\"stroke: #383838; stroke-width: 1.0;\" x1=\"445\" x2=\"585\" y1=\"135.0938\" y2=\"135.0938\"/></a><!--MD5=[55dfccfc6c49c2d10cd1bd2211a6c90c]\n",
       "cluster E8--><a href=\"psysml:07466362-8e93-446e-9ebb-c2a8da72b87b\" target=\"_top\" title=\"psysml:07466362-8e93-446e-9ebb-c2a8da72b87b\" xlink:actuate=\"onRequest\" xlink:href=\"psysml:07466362-8e93-446e-9ebb-c2a8da72b87b\" xlink:show=\"new\" xlink:title=\"psysml:07466362-8e93-446e-9ebb-c2a8da72b87b\" xlink:type=\"simple\"><rect fill=\"#FFFFFF\" height=\"88\" id=\"E8\" rx=\"10\" ry=\"10\" style=\"stroke: #383838; stroke-width: 1.5;\" width=\"138\" x=\"219\" y=\"168\"/><rect fill=\"#F8F8F8\" height=\"25.0938\" rx=\"10\" ry=\"10\" style=\"stroke: #F8F8F8; stroke-width: 1.5;\" width=\"138\" x=\"219\" y=\"168\"/><rect fill=\"#F8F8F8\" height=\"10\" style=\"stroke: #F8F8F8; stroke-width: 1.5;\" width=\"138\" x=\"219\" y=\"183.0938\"/><rect fill=\"none\" height=\"88\" id=\"E8\" rx=\"10\" ry=\"10\" style=\"stroke: #383838; stroke-width: 1.5;\" width=\"138\" x=\"219\" y=\"168\"/><text fill=\"#000000\" font-family=\"sans-serif\" font-size=\"12\" lengthAdjust=\"spacingAndGlyphs\" textLength=\"83\" x=\"246.5\" y=\"185.457\">engine: Engine</text><line style=\"stroke: #383838; stroke-width: 1.0;\" x1=\"219\" x2=\"357\" y1=\"193.0938\" y2=\"193.0938\"/></a><!--MD5=[09b614a08d8cba4a07c9adeb5e0fee81]\n",
       "class E3--><a href=\"psysml:bf81df72-ef4d-4fe7-a77f-52df9dfb44bb\" target=\"_top\" title=\"psysml:bf81df72-ef4d-4fe7-a77f-52df9dfb44bb\" xlink:actuate=\"onRequest\" xlink:href=\"psysml:bf81df72-ef4d-4fe7-a77f-52df9dfb44bb\" xlink:show=\"new\" xlink:title=\"psysml:bf81df72-ef4d-4fe7-a77f-52df9dfb44bb\" xlink:type=\"simple\"><rect fill=\"#FFFFFF\" height=\"48.1875\" id=\"E3\" rx=\"10\" ry=\"10\" style=\"stroke: #383838; stroke-width: 1.5;\" width=\"110\" x=\"601\" y=\"86\"/><text fill=\"#000000\" font-family=\"sans-serif\" font-size=\"12\" font-style=\"italic\" lengthAdjust=\"spacingAndGlyphs\" textLength=\"59\" x=\"626.5\" y=\"103.457\">«attribute»</text><text fill=\"#000000\" font-family=\"sans-serif\" font-size=\"12\" lengthAdjust=\"spacingAndGlyphs\" textLength=\"101\" x=\"604\" y=\"118.5508\">maxSpeed: Speed</text><line style=\"stroke: #383838; stroke-width: 1.5;\" x1=\"602\" x2=\"710\" y1=\"126.1875\" y2=\"126.1875\"/></a><g id=\"E1.E2.E4\"><a href=\"psysml:d7400e60-ae2a-4bf4-8b3a-10e2dca8a6f1\" target=\"_top\" title=\"psysml:d7400e60-ae2a-4bf4-8b3a-10e2dca8a6f1\" xlink:actuate=\"onRequest\" xlink:href=\"psysml:d7400e60-ae2a-4bf4-8b3a-10e2dca8a6f1\" xlink:show=\"new\" xlink:title=\"psysml:d7400e60-ae2a-4bf4-8b3a-10e2dca8a6f1\" xlink:type=\"simple\"><rect fill=\"#FFFFFF\" height=\"40\" id=\"E4\" rx=\"10\" ry=\"10\" style=\"stroke: #383838; stroke-width: 1.5;\" width=\"50\" x=\"180\" y=\"90\"/><rect fill=\"#F8F8F8\" height=\"25.0938\" rx=\"10\" ry=\"10\" style=\"stroke: #F8F8F8; stroke-width: 1.5;\" width=\"50\" x=\"180\" y=\"90\"/><rect fill=\"#F8F8F8\" height=\"10\" style=\"stroke: #F8F8F8; stroke-width: 1.5;\" width=\"50\" x=\"180\" y=\"105.0938\"/><rect fill=\"none\" height=\"40\" id=\"E4\" rx=\"10\" ry=\"10\" style=\"stroke: #383838; stroke-width: 1.5;\" width=\"50\" x=\"180\" y=\"90\"/><text fill=\"#000000\" font-family=\"sans-serif\" font-size=\"12\" lengthAdjust=\"spacingAndGlyphs\" textLength=\"26\" x=\"192\" y=\"107.457\">body</text></a></g><!--MD5=[60a26617385b1d2d0262a64233df1f8d]\n",
       "class E6--><a href=\"psysml:68aa2b74-8c61-41dc-ac28-09a76475a9ee\" target=\"_top\" title=\"psysml:68aa2b74-8c61-41dc-ac28-09a76475a9ee\" xlink:actuate=\"onRequest\" xlink:href=\"psysml:68aa2b74-8c61-41dc-ac28-09a76475a9ee\" xlink:show=\"new\" xlink:title=\"psysml:68aa2b74-8c61-41dc-ac28-09a76475a9ee\" xlink:type=\"simple\"><rect fill=\"#FFFFFF\" height=\"48.1875\" id=\"E6\" rx=\"10\" ry=\"10\" style=\"stroke: #383838; stroke-width: 1.5;\" width=\"61\" x=\"468.5\" y=\"198\"/><text fill=\"#000000\" font-family=\"sans-serif\" font-size=\"12\" font-style=\"italic\" lengthAdjust=\"spacingAndGlyphs\" textLength=\"59\" x=\"469.5\" y=\"215.457\">«attribute»</text><text fill=\"#000000\" font-family=\"sans-serif\" font-size=\"12\" lengthAdjust=\"spacingAndGlyphs\" textLength=\"44\" x=\"475.5\" y=\"230.5508\">capacity</text><line style=\"stroke: #383838; stroke-width: 1.5;\" x1=\"469.5\" x2=\"528.5\" y1=\"238.1875\" y2=\"238.1875\"/></a><text fill=\"#000000\" font-family=\"sans-serif\" font-size=\"14\" lengthAdjust=\"spacingAndGlyphs\" textLength=\"157\" x=\"382.5\" y=\"88.9238\">powerOut: PowerOutPort</text><rect fill=\"#383838\" height=\"12\" style=\"stroke: #F8F8F8; stroke-width: 1.5;\" width=\"12\" x=\"457\" y=\"104\"/><text fill=\"#000000\" font-family=\"sans-serif\" font-size=\"14\" lengthAdjust=\"spacingAndGlyphs\" textLength=\"153\" x=\"260.5\" y=\"146.9238\">powerIn: ~PowerOutPort</text><rect fill=\"#383838\" height=\"12\" style=\"stroke: #F8F8F8; stroke-width: 1.5;\" width=\"12\" x=\"333\" y=\"162\"/><g id=\"E1.E2.E10\"><a href=\"psysml:5706dbad-2460-4d51-97d9-1be1f57e8ce2\" target=\"_top\" title=\"psysml:5706dbad-2460-4d51-97d9-1be1f57e8ce2\" xlink:actuate=\"onRequest\" xlink:href=\"psysml:5706dbad-2460-4d51-97d9-1be1f57e8ce2\" xlink:show=\"new\" xlink:title=\"psysml:5706dbad-2460-4d51-97d9-1be1f57e8ce2\" xlink:type=\"simple\"><rect fill=\"#FFFFFF\" height=\"40\" id=\"E10\" rx=\"10\" ry=\"10\" style=\"stroke: #383838; stroke-width: 1.5;\" width=\"57\" x=\"179.5\" y=\"286\"/><rect fill=\"#F8F8F8\" height=\"25.0938\" rx=\"10\" ry=\"10\" style=\"stroke: #F8F8F8; stroke-width: 1.5;\" width=\"57\" x=\"179.5\" y=\"286\"/><rect fill=\"#F8F8F8\" height=\"10\" style=\"stroke: #F8F8F8; stroke-width: 1.5;\" width=\"57\" x=\"179.5\" y=\"301.0938\"/><rect fill=\"none\" height=\"40\" id=\"E10\" rx=\"10\" ry=\"10\" style=\"stroke: #383838; stroke-width: 1.5;\" width=\"57\" x=\"179.5\" y=\"286\"/><text fill=\"#000000\" font-family=\"sans-serif\" font-size=\"12\" lengthAdjust=\"spacingAndGlyphs\" textLength=\"46\" x=\"185\" y=\"303.457\">frontAxis</text></a></g><g id=\"E1.E2.E11\"><a href=\"psysml:77786d96-afee-47c7-bd26-241774f63994\" target=\"_top\" title=\"psysml:77786d96-afee-47c7-bd26-241774f63994\" xlink:actuate=\"onRequest\" xlink:href=\"psysml:77786d96-afee-47c7-bd26-241774f63994\" xlink:show=\"new\" xlink:title=\"psysml:77786d96-afee-47c7-bd26-241774f63994\" xlink:type=\"simple\"><rect fill=\"#FFFFFF\" height=\"40\" id=\"E11\" rx=\"10\" ry=\"10\" style=\"stroke: #383838; stroke-width: 1.5;\" width=\"55\" x=\"133.5\" y=\"148\"/><rect fill=\"#F8F8F8\" height=\"25.0938\" rx=\"10\" ry=\"10\" style=\"stroke: #F8F8F8; stroke-width: 1.5;\" width=\"55\" x=\"133.5\" y=\"148\"/><rect fill=\"#F8F8F8\" height=\"10\" style=\"stroke: #F8F8F8; stroke-width: 1.5;\" width=\"55\" x=\"133.5\" y=\"163.0938\"/><rect fill=\"none\" height=\"40\" id=\"E11\" rx=\"10\" ry=\"10\" style=\"stroke: #383838; stroke-width: 1.5;\" width=\"55\" x=\"133.5\" y=\"148\"/><text fill=\"#000000\" font-family=\"sans-serif\" font-size=\"12\" lengthAdjust=\"spacingAndGlyphs\" textLength=\"44\" x=\"139\" y=\"165.457\">rearAxis</text></a></g><g id=\"E1.E2.E12\"><a href=\"psysml:7b65aeae-edc9-4334-a872-cff06953e24b\" target=\"_top\" title=\"psysml:7b65aeae-edc9-4334-a872-cff06953e24b\" xlink:actuate=\"onRequest\" xlink:href=\"psysml:7b65aeae-edc9-4334-a872-cff06953e24b\" xlink:show=\"new\" xlink:title=\"psysml:7b65aeae-edc9-4334-a872-cff06953e24b\" xlink:type=\"simple\"><rect fill=\"#FFFFFF\" height=\"40\" id=\"E12\" rx=\"10\" ry=\"10\" style=\"stroke: #383838; stroke-width: 1.5;\" width=\"111\" x=\"152.5\" y=\"336\"/><rect fill=\"#F8F8F8\" height=\"25.0938\" rx=\"10\" ry=\"10\" style=\"stroke: #F8F8F8; stroke-width: 1.5;\" width=\"111\" x=\"152.5\" y=\"336\"/><rect fill=\"#F8F8F8\" height=\"10\" style=\"stroke: #F8F8F8; stroke-width: 1.5;\" width=\"111\" x=\"152.5\" y=\"351.0938\"/><rect fill=\"none\" height=\"40\" id=\"E12\" rx=\"10\" ry=\"10\" style=\"stroke: #383838; stroke-width: 1.5;\" width=\"111\" x=\"152.5\" y=\"336\"/><text fill=\"#000000\" font-family=\"sans-serif\" font-size=\"12\" lengthAdjust=\"spacingAndGlyphs\" textLength=\"100\" x=\"158\" y=\"353.457\">frontWheel: Wheel</text></a></g><g id=\"E1.E2.E13\"><a href=\"psysml:4236d54b-e3b9-48b1-bbb9-063618102b2e\" target=\"_top\" title=\"psysml:4236d54b-e3b9-48b1-bbb9-063618102b2e\" xlink:actuate=\"onRequest\" xlink:href=\"psysml:4236d54b-e3b9-48b1-bbb9-063618102b2e\" xlink:show=\"new\" xlink:title=\"psysml:4236d54b-e3b9-48b1-bbb9-063618102b2e\" xlink:type=\"simple\"><rect fill=\"#FFFFFF\" height=\"40\" id=\"E13\" rx=\"10\" ry=\"10\" style=\"stroke: #383838; stroke-width: 1.5;\" width=\"109\" x=\"93.5\" y=\"202\"/><rect fill=\"#F8F8F8\" height=\"25.0938\" rx=\"10\" ry=\"10\" style=\"stroke: #F8F8F8; stroke-width: 1.5;\" width=\"109\" x=\"93.5\" y=\"202\"/><rect fill=\"#F8F8F8\" height=\"10\" style=\"stroke: #F8F8F8; stroke-width: 1.5;\" width=\"109\" x=\"93.5\" y=\"217.0938\"/><rect fill=\"none\" height=\"40\" id=\"E13\" rx=\"10\" ry=\"10\" style=\"stroke: #383838; stroke-width: 1.5;\" width=\"109\" x=\"93.5\" y=\"202\"/><text fill=\"#000000\" font-family=\"sans-serif\" font-size=\"12\" lengthAdjust=\"spacingAndGlyphs\" textLength=\"98\" x=\"99\" y=\"219.457\">rearWheel: Wheel</text></a></g><!--MD5=[1c0b9414cc86e0744215edee6abd8926]\n",
       "link E7 to E9--><a href=\"psysml:8a7f6b47-983c-4775-91d2-c1b4ac11812a\" target=\"_top\" title=\"psysml:8a7f6b47-983c-4775-91d2-c1b4ac11812a\" xlink:actuate=\"onRequest\" xlink:href=\"psysml:8a7f6b47-983c-4775-91d2-c1b4ac11812a\" xlink:show=\"new\" xlink:title=\"psysml:8a7f6b47-983c-4775-91d2-c1b4ac11812a\" xlink:type=\"simple\"><path d=\"M462.08,116.38 C460.89,121.64 458.32,129.5 453,134 C441.81,143.48 435.13,138.08 421,142 C392.6,149.87 359.08,160.52 345.35,164.94 \" fill=\"none\" id=\"E7-E9\" style=\"stroke: #383838; stroke-width: 3.0;\"/></a><!--MD5=[de116e21047ded6283635ff91c92fb70]\n",
       "link E8 to E10--><a href=\"psysml:72b8c7a2-396a-4775-b5db-e634869c724c\" target=\"_top\" title=\"psysml:72b8c7a2-396a-4775-b5db-e634869c724c\" xlink:actuate=\"onRequest\" xlink:href=\"psysml:72b8c7a2-396a-4775-b5db-e634869c724c\" xlink:show=\"new\" xlink:title=\"psysml:72b8c7a2-396a-4775-b5db-e634869c724c\" xlink:type=\"simple\"><path d=\"M265.1919,256.1538 C265.0148,256.3051 264.8375,256.4564 264.6601,256.608 C264.3053,256.911 263.9498,257.2146 263.5938,257.5188 C252.2,267.25 240.22,277.48 230.31,285.94 \" fill=\"none\" id=\"E8-E10\" style=\"stroke: #383838; stroke-width: 3.0;\"/><text fill=\"#000000\" font-family=\"sans-serif\" font-size=\"13\" lengthAdjust=\"spacingAndGlyphs\" textLength=\"5\" x=\"231.1292\" y=\"275.2441\">*</text></a><!--MD5=[85af87334fb406f01a086f77fc918faa]\n",
       "link E10 to E12--><a href=\"psysml:cde3ab1a-0927-42f3-b48b-665076ee1552\" target=\"_top\" title=\"psysml:cde3ab1a-0927-42f3-b48b-665076ee1552\" xlink:actuate=\"onRequest\" xlink:href=\"psysml:cde3ab1a-0927-42f3-b48b-665076ee1552\" xlink:show=\"new\" xlink:title=\"psysml:cde3ab1a-0927-42f3-b48b-665076ee1552\" xlink:type=\"simple\"><path d=\"M208,326.25 C208,329.38 208,332.62 208,335.75 \" fill=\"none\" id=\"E10-E12\" style=\"stroke: #383838; stroke-width: 3.0;\"/><text fill=\"#000000\" font-family=\"sans-serif\" font-size=\"13\" lengthAdjust=\"spacingAndGlyphs\" textLength=\"5\" x=\"194.9586\" y=\"325.0208\">*</text></a><!--MD5=[60f911bb19596b289db4a22769f8105a]\n",
       "link E11 to E13--><a href=\"psysml:bce1e2a3-ee60-48a6-81b2-c8bde84bf37e\" target=\"_top\" title=\"psysml:bce1e2a3-ee60-48a6-81b2-c8bde84bf37e\" xlink:actuate=\"onRequest\" xlink:href=\"psysml:bce1e2a3-ee60-48a6-81b2-c8bde84bf37e\" xlink:show=\"new\" xlink:title=\"psysml:bce1e2a3-ee60-48a6-81b2-c8bde84bf37e\" xlink:type=\"simple\"><path d=\"M156.23,188.07 C155.1,192.59 153.9,197.41 152.77,201.93 \" fill=\"none\" id=\"E11-E13\" style=\"stroke: #383838; stroke-width: 3.0;\"/><text fill=\"#000000\" font-family=\"sans-serif\" font-size=\"13\" lengthAdjust=\"spacingAndGlyphs\" textLength=\"5\" x=\"141.8129\" y=\"190.988\">*</text></a><!--MD5=[1b7591eae5389033d8d09a9d6721a717]\n",
       "link E4 to E5--><a href=\"psysml:b928bca4-6f44-455f-99ac-a479fe0f273e\" target=\"_top\" title=\"psysml:b928bca4-6f44-455f-99ac-a479fe0f273e\" xlink:actuate=\"onRequest\" xlink:href=\"psysml:b928bca4-6f44-455f-99ac-a479fe0f273e\" xlink:show=\"new\" xlink:title=\"psysml:b928bca4-6f44-455f-99ac-a479fe0f273e\" xlink:type=\"simple\"><path d=\"M230.28,114.42 C267.11,119.55 337.6,129.95 397,142 C408.435,144.32 420.5275,147.0425 432.2338,149.8213 C435.1603,150.5159 438.0627,151.2141 440.9247,151.9104 C441.6402,152.0845 442.3532,152.2585 443.0633,152.4322 C443.4184,152.5191 443.7728,152.6059 444.1265,152.6927 C444.3033,152.7361 444.48,152.7795 444.6565,152.8228 C444.7447,152.8445 444.8329,152.8662 444.921,152.8878 \" fill=\"none\" id=\"E4-E5\" style=\"stroke: #383838; stroke-width: 3.0;\"/><text fill=\"#000000\" font-family=\"sans-serif\" font-size=\"13\" lengthAdjust=\"spacingAndGlyphs\" textLength=\"5\" x=\"460.15\" y=\"155.4751\">*</text></a><!--MD5=[353cdda3e1e05fc02373f055b6f604ae]\n",
       "link E4 to E8--><a href=\"psysml:b227c9c2-f08f-4fbe-aae7-1c5ebca3496e\" target=\"_top\" title=\"psysml:b227c9c2-f08f-4fbe-aae7-1c5ebca3496e\" xlink:actuate=\"onRequest\" xlink:href=\"psysml:b227c9c2-f08f-4fbe-aae7-1c5ebca3496e\" xlink:show=\"new\" xlink:title=\"psysml:b227c9c2-f08f-4fbe-aae7-1c5ebca3496e\" xlink:type=\"simple\"><path d=\"M214.64,130.25 C219.105,138.535 224.9475,148.655 231.7975,158.8625 C233.51,161.4144 235.2855,163.9717 237.1181,166.5072 C237.3472,166.8242 237.5772,167.1408 237.808,167.457 C237.9235,167.6151 238.0391,167.7731 238.155,167.931 \" fill=\"none\" id=\"E4-E8\" style=\"stroke: #383838; stroke-width: 3.0;\"/><text fill=\"#000000\" font-family=\"sans-serif\" font-size=\"13\" lengthAdjust=\"spacingAndGlyphs\" textLength=\"5\" x=\"281.87\" y=\"209.2951\">*</text></a><!--MD5=[8937a7e686f4c0ed3d97df1c0560e6d1]\n",
       "link E4 to E10--><a href=\"psysml:1b365ded-ac40-4e02-857c-a2c78de4b4af\" target=\"_top\" title=\"psysml:1b365ded-ac40-4e02-857c-a2c78de4b4af\" xlink:actuate=\"onRequest\" xlink:href=\"psysml:1b365ded-ac40-4e02-857c-a2c78de4b4af\" xlink:show=\"new\" xlink:title=\"psysml:1b365ded-ac40-4e02-857c-a2c78de4b4af\" xlink:type=\"simple\"><path d=\"M179.7,115.59 C160.77,119.98 134.98,128.04 116,142 C65.25,179.33 36.16,229.19 76,278 C88.79,293.68 144.58,300.49 179.41,303.27 \" fill=\"none\" id=\"E4-E10\" style=\"stroke: #383838; stroke-width: 3.0;\"/><text fill=\"#000000\" font-family=\"sans-serif\" font-size=\"13\" lengthAdjust=\"spacingAndGlyphs\" textLength=\"5\" x=\"166.4432\" y=\"298.0606\">*</text></a><!--MD5=[798a9a606aea02eb479f69458bcab9ef]\n",
       "link E4 to E11--><a href=\"psysml:c4a4e3ec-07db-4225-b06e-73a386572b49\" target=\"_top\" title=\"psysml:c4a4e3ec-07db-4225-b06e-73a386572b49\" xlink:actuate=\"onRequest\" xlink:href=\"psysml:c4a4e3ec-07db-4225-b06e-73a386572b49\" xlink:show=\"new\" xlink:title=\"psysml:c4a4e3ec-07db-4225-b06e-73a386572b49\" xlink:type=\"simple\"><path d=\"M189.86,130.27 C185.38,135.97 180.49,142.2 176.02,147.88 \" fill=\"none\" id=\"E4-E11\" style=\"stroke: #383838; stroke-width: 3.0;\"/><text fill=\"#000000\" font-family=\"sans-serif\" font-size=\"13\" lengthAdjust=\"spacingAndGlyphs\" textLength=\"5\" x=\"171.336\" y=\"136.8782\">*</text></a><!--MD5=[4de1e1987ffdef56067f3aa99332bcea]\n",
       "@startuml\r\n",
       "skinparam ranksep 10\r\n",
       "skinparam rectangle {\r\n",
       " backgroundColor<<block>> LightGreen\r\n",
       "}\r\n",
       "skinparam monochrome true\r\n",
       "skinparam classbackgroundcolor white\r\n",
       "skinparam shadowing false\r\n",
       "skinparam wrapWidth 300\r\n",
       "hide circle\r\n",
       "\r\n",
       "package \"eVehicle_LogicalArchitecture\" as E1  [[psysml:6b854df4-7fae-4125-aaf8-e720095da11c ]]  {\r\n",
       "rec usage \"eVehicle\" as E2  [[psysml:c65f054d-c1ee-4c72-b0aa-4862fc2ae26d ]] {\r\n",
       "comp usage \"maxSpeed: Speed \" as E3  <<(T,blue) attribute>> [[psysml:bf81df72-ef4d-4fe7-a77f-52df9dfb44bb ]] {\r\n",
       "}\r\n",
       "rec usage \"body\" as E4  [[psysml:d7400e60-ae2a-4bf4-8b3a-10e2dca8a6f1 ]] {\r\n",
       "}\r\n",
       "rec usage \"battery: Battery\" as E5  [[psysml:af270b78-9313-4997-909b-3990191fab75 ]] {\r\n",
       "comp usage \"capacity \" as E6  <<(T,blue) attribute>> [[psysml:68aa2b74-8c61-41dc-ac28-09a76475a9ee ]] {\r\n",
       "}\r\n",
       "portin \"powerOut: PowerOutPort \" as E7  <<(T,blue) port>> [[psysml:b1796a24-5e72-4c7f-96f4-21dd9210d4fe ]] \r\n",
       "}\r\n",
       "rec usage \"engine: Engine\" as E8  [[psysml:07466362-8e93-446e-9ebb-c2a8da72b87b ]] {\r\n",
       "portin \"powerIn: ~PowerOutPort \" as E9  <<(T,blue) port>> [[psysml:5b151441-8005-4ec0-b727-abb0640ceb08 ]] \r\n",
       "}\r\n",
       "rec usage \"frontAxis\" as E10  [[psysml:5706dbad-2460-4d51-97d9-1be1f57e8ce2 ]] {\r\n",
       "}\r\n",
       "rec usage \"rearAxis\" as E11  [[psysml:77786d96-afee-47c7-bd26-241774f63994 ]] {\r\n",
       "}\r\n",
       "rec usage \"frontWheel: Wheel\" as E12  [[psysml:7b65aeae-edc9-4334-a872-cff06953e24b ]] {\r\n",
       "}\r\n",
       "rec usage \"rearWheel: Wheel\" as E13  [[psysml:4236d54b-e3b9-48b1-bbb9-063618102b2e ]] {\r\n",
       "}\r\n",
       "}\r\n",
       "}\r\n",
       "E7 -[thickness=3]- E9 [[psysml:8a7f6b47-983c-4775-91d2-c1b4ac11812a ]] \r\n",
       "E8 -[thickness=3]- \"*\"E10 [[psysml:72b8c7a2-396a-4775-b5db-e634869c724c ]] \r\n",
       "E10 -[thickness=3]- \"*\"E12 [[psysml:cde3ab1a-0927-42f3-b48b-665076ee1552 ]] \r\n",
       "E11 -[thickness=3]- \"*\"E13 [[psysml:bce1e2a3-ee60-48a6-81b2-c8bde84bf37e ]] \r\n",
       "E4 -[thickness=3]- \"*\"E5 [[psysml:b928bca4-6f44-455f-99ac-a479fe0f273e ]] \r\n",
       "E4 -[thickness=3]- \"*\"E8 [[psysml:b227c9c2-f08f-4fbe-aae7-1c5ebca3496e ]] \r\n",
       "E4 -[thickness=3]- \"*\"E10 [[psysml:1b365ded-ac40-4e02-857c-a2c78de4b4af ]] \r\n",
       "E4 -[thickness=3]- \"*\"E11 [[psysml:c4a4e3ec-07db-4225-b06e-73a386572b49 ]] \r\n",
       "@enduml\r\n",
       "\n",
       "PlantUML version 1.2020.13(Sat Jun 13 14:26:38 CEST 2020)\n",
       "(EPL source distribution)\n",
       "Java Runtime: OpenJDK Runtime Environment\n",
       "JVM: OpenJDK 64-Bit Server VM\n",
       "Default Encoding: Cp1252\n",
       "Language: en\n",
       "Country: US\n",
       "--></g></svg>"
      ]
     },
     "execution_count": 35,
     "metadata": {},
     "output_type": "execute_result"
    }
   ],
   "source": [
    "%viz --view=interconnection eVehicle_LogicalArchitecture"
   ]
  },
  {
   "cell_type": "markdown",
   "metadata": {},
   "source": [
    "The structure *eVehicle/axis/wheel/lugBolt* can easily be modeled with SysML v1. It is slightly different in that in SysML v1 we have to use types, i.e. blocks, and cannot model parts directly.\n",
    "\n",
    "![SysML v1 eVehicle Model](sysmlv1-variability-example-core.jpg)\n",
    "\n",
    "Now, if we introduce variants of lug bolts, this variance ripples up through the entire structure:\n",
    "\n",
    "![SysML v1 eVehicle Model - Variability explosion](sysmlv1-variability-example-explosion.jpg)\n",
    "\n",
    "In SysML v2 it looks like this:"
   ]
  },
  {
   "cell_type": "code",
   "execution_count": 36,
   "metadata": {},
   "outputs": [
    {
     "data": {
      "text/plain": [
       "Package eVehicleVariants_ExplosionExample (398e4b3e-766d-4327-85fe-c768be4ae916)\n",
       "Package eVehicle_LogicalArchitecture_ExplosionExample (1c170a2f-78bb-4d6a-837e-4022a5a3ac88)\n"
      ]
     },
     "execution_count": 36,
     "metadata": {},
     "output_type": "execute_result"
    }
   ],
   "source": [
    "package eVehicleVariants_ExplosionExample {\n",
    "    part lugBolt42;\n",
    "    part lugBolt23;\n",
    "}\n",
    "\n",
    "package eVehicle_LogicalArchitecture_ExplosionExample {\n",
    "    \n",
    "    import eVehicleDefinitions::*;\n",
    "    import eVehicleLibrary::*;\n",
    "    import eVehicleVariants_ExplosionExample::*;\n",
    "        \n",
    "    part eVehicle {    \n",
    "        part engine : Engine;\n",
    "\n",
    "        part frontAxis {\n",
    "            part frontWheel[2] {\n",
    "                /*-----------------------------\n",
    "                 * Definition of the variation\n",
    "                 * ----------------------------*/\n",
    "                variation part lugBolt[6] {\n",
    "                    variant part lugBolt23;\n",
    "                    variant part lugBolt42;  \n",
    "                }\n",
    "                part boltCircle;\n",
    "                connect boltCircle to lugBolt;\n",
    "            }\n",
    "            part housing;            \n",
    "            connect housing to frontWheel;\n",
    "        }\n",
    "        \n",
    "        part rearAxis {\n",
    "            part rearWheel[2] {\n",
    "                part lugBolt[6];\n",
    "                part boltCircle;\n",
    "                connect boltCircle to lugBolt;\n",
    "            }\n",
    "            part housing;    \n",
    "            connect housing to rearWheel;\n",
    "        }        \n",
    "        connect engine to frontAxis;\n",
    "    }\n",
    "}"
   ]
  },
  {
   "cell_type": "code",
   "execution_count": 37,
   "metadata": {},
   "outputs": [
    {
     "data": {
      "image/svg+xml": [
       "<?xml version=\"1.0\" encoding=\"UTF-8\" standalone=\"no\"?><svg xmlns=\"http://www.w3.org/2000/svg\" xmlns:xlink=\"http://www.w3.org/1999/xlink\" contentScriptType=\"application/ecmascript\" contentStyleType=\"text/css\" height=\"628px\" preserveAspectRatio=\"none\" style=\"width:542px;height:628px;\" version=\"1.1\" viewBox=\"0 0 542 628\" width=\"542px\" zoomAndPan=\"magnify\"><defs/><g><!--MD5=[fbc87193dbaf4d95561dea2c320d4a47]\n",
       "cluster E1--><a href=\"psysml:6b854df4-7fae-4125-aaf8-e720095da11c\" target=\"_top\" title=\"psysml:6b854df4-7fae-4125-aaf8-e720095da11c\" xlink:actuate=\"onRequest\" xlink:href=\"psysml:6b854df4-7fae-4125-aaf8-e720095da11c\" xlink:show=\"new\" xlink:title=\"psysml:6b854df4-7fae-4125-aaf8-e720095da11c\" xlink:type=\"simple\"><polygon fill=\"#FFFFFF\" points=\"16,6,228,6,235,29.6094,520,29.6094,520,616,16,616,16,6\" style=\"stroke: #000000; stroke-width: 1.5;\"/><line style=\"stroke: #000000; stroke-width: 1.5;\" x1=\"16\" x2=\"235\" y1=\"29.6094\" y2=\"29.6094\"/><text fill=\"#000000\" font-family=\"sans-serif\" font-size=\"14\" font-weight=\"bold\" lengthAdjust=\"spacingAndGlyphs\" textLength=\"206\" x=\"20\" y=\"22.5332\">eVehicle_LogicalArchitecture</text></a><!--MD5=[b4997ac47864f28c2f74865a473b2911]\n",
       "class E2--><a href=\"psysml:c65f054d-c1ee-4c72-b0aa-4862fc2ae26d\" target=\"_top\" title=\"psysml:c65f054d-c1ee-4c72-b0aa-4862fc2ae26d\" xlink:actuate=\"onRequest\" xlink:href=\"psysml:c65f054d-c1ee-4c72-b0aa-4862fc2ae26d\" xlink:show=\"new\" xlink:title=\"psysml:c65f054d-c1ee-4c72-b0aa-4862fc2ae26d\" xlink:type=\"simple\"><rect fill=\"#FFFFFF\" height=\"79.8594\" id=\"E2\" rx=\"10\" ry=\"10\" style=\"stroke: #383838; stroke-width: 1.5;\" width=\"130\" x=\"275\" y=\"42\"/><text fill=\"#000000\" font-family=\"sans-serif\" font-size=\"12\" font-style=\"italic\" lengthAdjust=\"spacingAndGlyphs\" textLength=\"35\" x=\"322.5\" y=\"59.457\">«part»</text><text fill=\"#000000\" font-family=\"sans-serif\" font-size=\"12\" lengthAdjust=\"spacingAndGlyphs\" textLength=\"47\" x=\"315\" y=\"74.5508\">eVehicle</text><line style=\"stroke: #383838; stroke-width: 1.5;\" x1=\"276\" x2=\"404\" y1=\"82.1875\" y2=\"82.1875\"/><text fill=\"#000000\" font-family=\"sans-serif\" font-size=\"11\" lengthAdjust=\"spacingAndGlyphs\" textLength=\"118\" x=\"281\" y=\"115.4424\">maxSpeed: Speed= 142;</text><line style=\"stroke: #383838; stroke-width: 1.0;\" x1=\"276\" x2=\"317.5\" y1=\"97.1055\" y2=\"97.1055\"/><text fill=\"#000000\" font-family=\"sans-serif\" font-size=\"11\" lengthAdjust=\"spacingAndGlyphs\" textLength=\"45\" x=\"317.5\" y=\"101.1064\">attributes</text><line style=\"stroke: #383838; stroke-width: 1.0;\" x1=\"362.5\" x2=\"404\" y1=\"97.1055\" y2=\"97.1055\"/></a><!--MD5=[09b614a08d8cba4a07c9adeb5e0fee81]\n",
       "class E3--><a href=\"psysml:d7400e60-ae2a-4bf4-8b3a-10e2dca8a6f1\" target=\"_top\" title=\"psysml:d7400e60-ae2a-4bf4-8b3a-10e2dca8a6f1\" xlink:actuate=\"onRequest\" xlink:href=\"psysml:d7400e60-ae2a-4bf4-8b3a-10e2dca8a6f1\" xlink:show=\"new\" xlink:title=\"psysml:d7400e60-ae2a-4bf4-8b3a-10e2dca8a6f1\" xlink:type=\"simple\"><rect fill=\"#FFFFFF\" height=\"48.1875\" id=\"E3\" rx=\"10\" ry=\"10\" style=\"stroke: #383838; stroke-width: 1.5;\" width=\"37\" x=\"266.5\" y=\"182\"/><text fill=\"#000000\" font-family=\"sans-serif\" font-size=\"12\" font-style=\"italic\" lengthAdjust=\"spacingAndGlyphs\" textLength=\"35\" x=\"267.5\" y=\"199.457\">«part»</text><text fill=\"#000000\" font-family=\"sans-serif\" font-size=\"12\" lengthAdjust=\"spacingAndGlyphs\" textLength=\"26\" x=\"270.5\" y=\"214.5508\">body</text><line style=\"stroke: #383838; stroke-width: 1.5;\" x1=\"267.5\" x2=\"302.5\" y1=\"222.1875\" y2=\"222.1875\"/></a><!--MD5=[ebbe1d658d1005bcc118a6aa81145e00]\n",
       "class E4--><a href=\"psysml:af270b78-9313-4997-909b-3990191fab75\" target=\"_top\" title=\"psysml:af270b78-9313-4997-909b-3990191fab75\" xlink:actuate=\"onRequest\" xlink:href=\"psysml:af270b78-9313-4997-909b-3990191fab75\" xlink:show=\"new\" xlink:title=\"psysml:af270b78-9313-4997-909b-3990191fab75\" xlink:type=\"simple\"><rect fill=\"#FFFFFF\" height=\"93.6953\" id=\"E4\" rx=\"10\" ry=\"10\" style=\"stroke: #383838; stroke-width: 1.5;\" width=\"108\" x=\"32\" y=\"290\"/><text fill=\"#000000\" font-family=\"sans-serif\" font-size=\"12\" font-style=\"italic\" lengthAdjust=\"spacingAndGlyphs\" textLength=\"35\" x=\"68.5\" y=\"307.457\">«part»</text><text fill=\"#000000\" font-family=\"sans-serif\" font-size=\"12\" lengthAdjust=\"spacingAndGlyphs\" textLength=\"79\" x=\"45\" y=\"322.5508\">battery: Battery</text><line style=\"stroke: #383838; stroke-width: 1.5;\" x1=\"33\" x2=\"139\" y1=\"330.1875\" y2=\"330.1875\"/><text fill=\"#000000\" font-family=\"sans-serif\" font-size=\"11\" lengthAdjust=\"spacingAndGlyphs\" textLength=\"65\" x=\"38\" y=\"363.4424\">capacity= 42;</text><text fill=\"#000000\" font-family=\"sans-serif\" font-size=\"11\" font-style=\"italic\" lengthAdjust=\"spacingAndGlyphs\" textLength=\"96\" x=\"38\" y=\"377.2783\">:&gt;&gt;Battery::capacity</text><line style=\"stroke: #383838; stroke-width: 1.0;\" x1=\"33\" x2=\"63.5\" y1=\"345.1055\" y2=\"345.1055\"/><text fill=\"#000000\" font-family=\"sans-serif\" font-size=\"11\" lengthAdjust=\"spacingAndGlyphs\" textLength=\"45\" x=\"63.5\" y=\"349.1064\">attributes</text><line style=\"stroke: #383838; stroke-width: 1.0;\" x1=\"108.5\" x2=\"139\" y1=\"345.1055\" y2=\"345.1055\"/></a><!--MD5=[270fce915f116d4de14055a7c1d9a0f3]\n",
       "class E5--><a href=\"psysml:b1796a24-5e72-4c7f-96f4-21dd9210d4fe\" target=\"_top\" title=\"psysml:b1796a24-5e72-4c7f-96f4-21dd9210d4fe\" xlink:actuate=\"onRequest\" xlink:href=\"psysml:b1796a24-5e72-4c7f-96f4-21dd9210d4fe\" xlink:show=\"new\" xlink:title=\"psysml:b1796a24-5e72-4c7f-96f4-21dd9210d4fe\" xlink:type=\"simple\"><rect fill=\"#FFFFFF\" height=\"48.1875\" id=\"E5\" rx=\"10\" ry=\"10\" style=\"stroke: #383838; stroke-width: 1.5;\" width=\"144\" x=\"35\" y=\"444\"/><text fill=\"#000000\" font-family=\"sans-serif\" font-size=\"12\" font-style=\"italic\" lengthAdjust=\"spacingAndGlyphs\" textLength=\"35\" x=\"89.5\" y=\"461.457\">«port»</text><text fill=\"#000000\" font-family=\"sans-serif\" font-size=\"12\" lengthAdjust=\"spacingAndGlyphs\" textLength=\"135\" x=\"38\" y=\"476.5508\">powerOut: PowerOutPort</text><line style=\"stroke: #383838; stroke-width: 1.5;\" x1=\"36\" x2=\"178\" y1=\"484.1875\" y2=\"484.1875\"/></a><!--MD5=[60a26617385b1d2d0262a64233df1f8d]\n",
       "class E6--><a href=\"psysml:07466362-8e93-446e-9ebb-c2a8da72b87b\" target=\"_top\" title=\"psysml:07466362-8e93-446e-9ebb-c2a8da72b87b\" xlink:actuate=\"onRequest\" xlink:href=\"psysml:07466362-8e93-446e-9ebb-c2a8da72b87b\" xlink:show=\"new\" xlink:title=\"psysml:07466362-8e93-446e-9ebb-c2a8da72b87b\" xlink:type=\"simple\"><rect fill=\"#FFFFFF\" height=\"48.1875\" id=\"E6\" rx=\"10\" ry=\"10\" style=\"stroke: #383838; stroke-width: 1.5;\" width=\"92\" x=\"175\" y=\"313\"/><text fill=\"#000000\" font-family=\"sans-serif\" font-size=\"12\" font-style=\"italic\" lengthAdjust=\"spacingAndGlyphs\" textLength=\"35\" x=\"203.5\" y=\"330.457\">«part»</text><text fill=\"#000000\" font-family=\"sans-serif\" font-size=\"12\" lengthAdjust=\"spacingAndGlyphs\" textLength=\"83\" x=\"178\" y=\"345.5508\">engine: Engine</text><line style=\"stroke: #383838; stroke-width: 1.5;\" x1=\"176\" x2=\"266\" y1=\"353.1875\" y2=\"353.1875\"/></a><!--MD5=[2156ba9850f5573cc1fc38a6a4b2f02b]\n",
       "class E7--><a href=\"psysml:5b151441-8005-4ec0-b727-abb0640ceb08\" target=\"_top\" title=\"psysml:5b151441-8005-4ec0-b727-abb0640ceb08\" xlink:actuate=\"onRequest\" xlink:href=\"psysml:5b151441-8005-4ec0-b727-abb0640ceb08\" xlink:show=\"new\" xlink:title=\"psysml:5b151441-8005-4ec0-b727-abb0640ceb08\" xlink:type=\"simple\"><rect fill=\"#FFFFFF\" height=\"48.1875\" id=\"E7\" rx=\"10\" ry=\"10\" style=\"stroke: #383838; stroke-width: 1.5;\" width=\"142\" x=\"88\" y=\"552\"/><text fill=\"#000000\" font-family=\"sans-serif\" font-size=\"12\" font-style=\"italic\" lengthAdjust=\"spacingAndGlyphs\" textLength=\"35\" x=\"141.5\" y=\"569.457\">«port»</text><text fill=\"#000000\" font-family=\"sans-serif\" font-size=\"12\" lengthAdjust=\"spacingAndGlyphs\" textLength=\"133\" x=\"91\" y=\"584.5508\">powerIn: ~PowerOutPort</text><line style=\"stroke: #383838; stroke-width: 1.5;\" x1=\"89\" x2=\"229\" y1=\"592.1875\" y2=\"592.1875\"/></a><!--MD5=[b9389687b975829384b498ac4b7476b2]\n",
       "class E8--><a href=\"psysml:5706dbad-2460-4d51-97d9-1be1f57e8ce2\" target=\"_top\" title=\"psysml:5706dbad-2460-4d51-97d9-1be1f57e8ce2\" xlink:actuate=\"onRequest\" xlink:href=\"psysml:5706dbad-2460-4d51-97d9-1be1f57e8ce2\" xlink:show=\"new\" xlink:title=\"psysml:5706dbad-2460-4d51-97d9-1be1f57e8ce2\" xlink:type=\"simple\"><rect fill=\"#FFFFFF\" height=\"48.1875\" id=\"E8\" rx=\"10\" ry=\"10\" style=\"stroke: #383838; stroke-width: 1.5;\" width=\"55\" x=\"269.5\" y=\"444\"/><text fill=\"#000000\" font-family=\"sans-serif\" font-size=\"12\" font-style=\"italic\" lengthAdjust=\"spacingAndGlyphs\" textLength=\"35\" x=\"279.5\" y=\"461.457\">«part»</text><text fill=\"#000000\" font-family=\"sans-serif\" font-size=\"12\" lengthAdjust=\"spacingAndGlyphs\" textLength=\"46\" x=\"272.5\" y=\"476.5508\">frontAxis</text><line style=\"stroke: #383838; stroke-width: 1.5;\" x1=\"270.5\" x2=\"323.5\" y1=\"484.1875\" y2=\"484.1875\"/></a><!--MD5=[fd4143e9d270a159db93a4ea2a975926]\n",
       "class E9--><a href=\"psysml:77786d96-afee-47c7-bd26-241774f63994\" target=\"_top\" title=\"psysml:77786d96-afee-47c7-bd26-241774f63994\" xlink:actuate=\"onRequest\" xlink:href=\"psysml:77786d96-afee-47c7-bd26-241774f63994\" xlink:show=\"new\" xlink:title=\"psysml:77786d96-afee-47c7-bd26-241774f63994\" xlink:type=\"simple\"><rect fill=\"#FFFFFF\" height=\"48.1875\" id=\"E9\" rx=\"10\" ry=\"10\" style=\"stroke: #383838; stroke-width: 1.5;\" width=\"53\" x=\"376.5\" y=\"313\"/><text fill=\"#000000\" font-family=\"sans-serif\" font-size=\"12\" font-style=\"italic\" lengthAdjust=\"spacingAndGlyphs\" textLength=\"35\" x=\"385.5\" y=\"330.457\">«part»</text><text fill=\"#000000\" font-family=\"sans-serif\" font-size=\"12\" lengthAdjust=\"spacingAndGlyphs\" textLength=\"44\" x=\"379.5\" y=\"345.5508\">rearAxis</text><line style=\"stroke: #383838; stroke-width: 1.5;\" x1=\"377.5\" x2=\"428.5\" y1=\"353.1875\" y2=\"353.1875\"/></a><!--MD5=[96f4274e9e20536e775497830990834d]\n",
       "class E10--><a href=\"psysml:7b65aeae-edc9-4334-a872-cff06953e24b\" target=\"_top\" title=\"psysml:7b65aeae-edc9-4334-a872-cff06953e24b\" xlink:actuate=\"onRequest\" xlink:href=\"psysml:7b65aeae-edc9-4334-a872-cff06953e24b\" xlink:show=\"new\" xlink:title=\"psysml:7b65aeae-edc9-4334-a872-cff06953e24b\" xlink:type=\"simple\"><rect fill=\"#FFFFFF\" height=\"48.1875\" id=\"E10\" rx=\"10\" ry=\"10\" style=\"stroke: #383838; stroke-width: 1.5;\" width=\"109\" x=\"318.5\" y=\"552\"/><text fill=\"#000000\" font-family=\"sans-serif\" font-size=\"12\" font-style=\"italic\" lengthAdjust=\"spacingAndGlyphs\" textLength=\"35\" x=\"355.5\" y=\"569.457\">«part»</text><text fill=\"#000000\" font-family=\"sans-serif\" font-size=\"12\" lengthAdjust=\"spacingAndGlyphs\" textLength=\"100\" x=\"321.5\" y=\"584.5508\">frontWheel: Wheel</text><line style=\"stroke: #383838; stroke-width: 1.5;\" x1=\"319.5\" x2=\"426.5\" y1=\"592.1875\" y2=\"592.1875\"/></a><!--MD5=[1dd1bfd58a279cf63c5f349dbc8fc6a1]\n",
       "class E11--><a href=\"psysml:4236d54b-e3b9-48b1-bbb9-063618102b2e\" target=\"_top\" title=\"psysml:4236d54b-e3b9-48b1-bbb9-063618102b2e\" xlink:actuate=\"onRequest\" xlink:href=\"psysml:4236d54b-e3b9-48b1-bbb9-063618102b2e\" xlink:show=\"new\" xlink:title=\"psysml:4236d54b-e3b9-48b1-bbb9-063618102b2e\" xlink:type=\"simple\"><rect fill=\"#FFFFFF\" height=\"48.1875\" id=\"E11\" rx=\"10\" ry=\"10\" style=\"stroke: #383838; stroke-width: 1.5;\" width=\"107\" x=\"359.5\" y=\"444\"/><text fill=\"#000000\" font-family=\"sans-serif\" font-size=\"12\" font-style=\"italic\" lengthAdjust=\"spacingAndGlyphs\" textLength=\"35\" x=\"395.5\" y=\"461.457\">«part»</text><text fill=\"#000000\" font-family=\"sans-serif\" font-size=\"12\" lengthAdjust=\"spacingAndGlyphs\" textLength=\"98\" x=\"362.5\" y=\"476.5508\">rearWheel: Wheel</text><line style=\"stroke: #383838; stroke-width: 1.5;\" x1=\"360.5\" x2=\"465.5\" y1=\"484.1875\" y2=\"484.1875\"/></a><!--MD5=[209b3feb70ccb6233bfe1053d122c12c]\n",
       "reverse link E2 to E3--><a href=\"psysml:b85c683c-bd6d-4c86-b149-c3f301da6b3e\" target=\"_top\" title=\"psysml:b85c683c-bd6d-4c86-b149-c3f301da6b3e\" xlink:actuate=\"onRequest\" xlink:href=\"psysml:b85c683c-bd6d-4c86-b149-c3f301da6b3e\" xlink:show=\"new\" xlink:title=\"psysml:b85c683c-bd6d-4c86-b149-c3f301da6b3e\" xlink:type=\"simple\"><path d=\"M316.74,134.59 C309.33,151.04 301.49,168.43 295.46,181.81 \" fill=\"none\" id=\"E2&lt;-E3\" style=\"stroke: #383838; stroke-width: 1.0;\"/><polygon fill=\"#383838\" points=\"322.29,122.27,316.1782,126.097,317.3601,133.2106,323.4719,129.3836,322.29,122.27\" style=\"stroke: #383838; stroke-width: 1.0;\"/><text fill=\"#000000\" font-family=\"sans-serif\" font-size=\"13\" lengthAdjust=\"spacingAndGlyphs\" textLength=\"7\" x=\"290.2435\" y=\"171.0775\">1</text></a><!--MD5=[9618e71518536f8baf3342ff6fdab317]\n",
       "reverse link E2 to E4--><a href=\"psysml:a7e2bdda-dbc4-44c0-9291-025b464b4d69\" target=\"_top\" title=\"psysml:a7e2bdda-dbc4-44c0-9291-025b464b4d69\" xlink:actuate=\"onRequest\" xlink:href=\"psysml:a7e2bdda-dbc4-44c0-9291-025b464b4d69\" xlink:show=\"new\" xlink:title=\"psysml:a7e2bdda-dbc4-44c0-9291-025b464b4d69\" xlink:type=\"simple\"><path d=\"M281.71,130.72 C263.14,146.56 242.81,164.6 225,182 C189.57,216.6 152.1,258.46 125,289.8 \" fill=\"none\" id=\"E2&lt;-E4\" style=\"stroke: #383838; stroke-width: 1.0;\"/><polygon fill=\"#383838\" points=\"291.81,122.16,284.6459,122.9816,282.6489,129.9107,289.813,129.0891,291.81,122.16\" style=\"stroke: #383838; stroke-width: 1.0;\"/><text fill=\"#000000\" font-family=\"sans-serif\" font-size=\"13\" lengthAdjust=\"spacingAndGlyphs\" textLength=\"7\" x=\"123.2141\" y=\"279.2358\">1</text></a><!--MD5=[62aa6af11e70f752912c1cb0466f24f7]\n",
       "reverse link E4 to E5--><a href=\"psysml:37570bab-df71-42da-b8d0-273a2bfc14a9\" target=\"_top\" title=\"psysml:37570bab-df71-42da-b8d0-273a2bfc14a9\" xlink:actuate=\"onRequest\" xlink:href=\"psysml:37570bab-df71-42da-b8d0-273a2bfc14a9\" xlink:show=\"new\" xlink:title=\"psysml:37570bab-df71-42da-b8d0-273a2bfc14a9\" xlink:type=\"simple\"><path d=\"M95.65,397.28 C98.34,413.82 101.11,430.81 103.24,443.88 \" fill=\"none\" id=\"E4&lt;-E5\" style=\"stroke: #383838; stroke-width: 1.0;\"/><polygon fill=\"#FFFFFF\" points=\"93.52,384.21,90.5347,390.7741,95.4457,396.0545,98.431,389.4903,93.52,384.21\" style=\"stroke: #383838; stroke-width: 1.0;\"/><text fill=\"#000000\" font-family=\"sans-serif\" font-size=\"13\" lengthAdjust=\"spacingAndGlyphs\" textLength=\"7\" x=\"94.3796\" y=\"433.1654\">1</text></a><!--MD5=[ce036f65110ae2351ccce5a81dc2e928]\n",
       "reverse link E2 to E6--><a href=\"psysml:c510813d-db28-4d2a-b297-0c21cffd0680\" target=\"_top\" title=\"psysml:c510813d-db28-4d2a-b297-0c21cffd0680\" xlink:actuate=\"onRequest\" xlink:href=\"psysml:c510813d-db28-4d2a-b297-0c21cffd0680\" xlink:show=\"new\" xlink:title=\"psysml:c510813d-db28-4d2a-b297-0c21cffd0680\" xlink:type=\"simple\"><path d=\"M285.19,131.72 C271.44,146.57 258.04,163.82 249,182 C227.7,224.82 222.45,281.55 221.25,312.83 \" fill=\"none\" id=\"E2&lt;-E6\" style=\"stroke: #383838; stroke-width: 1.0;\"/><polygon fill=\"#383838\" points=\"294.24,122.32,287.1977,123.8713,285.9211,130.9685,292.9634,129.4172,294.24,122.32\" style=\"stroke: #383838; stroke-width: 1.0;\"/><text fill=\"#000000\" font-family=\"sans-serif\" font-size=\"13\" lengthAdjust=\"spacingAndGlyphs\" textLength=\"7\" x=\"213.4172\" y=\"302.1026\">1</text></a><!--MD5=[3f50a3473f1dfb74d3f76443e03635af]\n",
       "reverse link E6 to E7--><a href=\"psysml:5576d316-fddd-45b7-8c85-5caebe269cb0\" target=\"_top\" title=\"psysml:5576d316-fddd-45b7-8c85-5caebe269cb0\" xlink:actuate=\"onRequest\" xlink:href=\"psysml:5576d316-fddd-45b7-8c85-5caebe269cb0\" xlink:show=\"new\" xlink:title=\"psysml:5576d316-fddd-45b7-8c85-5caebe269cb0\" xlink:type=\"simple\"><path d=\"M218.2,374.09 C215.08,405.7 208.84,452.61 197,492 C190.7,512.94 180.15,535.43 171.77,551.7 \" fill=\"none\" id=\"E6&lt;-E7\" style=\"stroke: #383838; stroke-width: 1.0;\"/><polygon fill=\"#FFFFFF\" points=\"219.38,361.14,214.8493,366.7501,218.2852,373.09,222.8159,367.4799,219.38,361.14\" style=\"stroke: #383838; stroke-width: 1.0;\"/><text fill=\"#000000\" font-family=\"sans-serif\" font-size=\"13\" lengthAdjust=\"spacingAndGlyphs\" textLength=\"7\" x=\"167.0296\" y=\"541.342\">1</text></a><!--MD5=[65f962d72b3a6bed1ede4f3c867e43a4]\n",
       "reverse link E2 to E8--><a href=\"psysml:0011902a-f115-4225-a172-61934bd78627\" target=\"_top\" title=\"psysml:0011902a-f115-4225-a172-61934bd78627\" xlink:actuate=\"onRequest\" xlink:href=\"psysml:0011902a-f115-4225-a172-61934bd78627\" xlink:show=\"new\" xlink:title=\"psysml:0011902a-f115-4225-a172-61934bd78627\" xlink:type=\"simple\"><path d=\"M334.13,135.4 C324.67,219.91 306.41,382.98 299.62,443.58 \" fill=\"none\" id=\"E2&lt;-E8\" style=\"stroke: #383838; stroke-width: 1.0;\"/><polygon fill=\"#383838\" points=\"335.6,122.29,330.9532,127.8043,334.256,134.2145,338.9028,128.7002,335.6,122.29\" style=\"stroke: #383838; stroke-width: 1.0;\"/><text fill=\"#000000\" font-family=\"sans-serif\" font-size=\"13\" lengthAdjust=\"spacingAndGlyphs\" textLength=\"7\" x=\"292.4055\" y=\"433.1927\">1</text></a><!--MD5=[4a91eb351f2fb42055d99b719d3dd418]\n",
       "reverse link E2 to E9--><a href=\"psysml:000fb5ac-5b29-4267-bf88-a33f1317a3e7\" target=\"_top\" title=\"psysml:000fb5ac-5b29-4267-bf88-a33f1317a3e7\" xlink:actuate=\"onRequest\" xlink:href=\"psysml:000fb5ac-5b29-4267-bf88-a33f1317a3e7\" xlink:show=\"new\" xlink:title=\"psysml:000fb5ac-5b29-4267-bf88-a33f1317a3e7\" xlink:type=\"simple\"><path d=\"M352.98,135.13 C366.57,189.71 387.29,272.92 397.26,312.93 \" fill=\"none\" id=\"E2&lt;-E9\" style=\"stroke: #383838; stroke-width: 1.0;\"/><polygon fill=\"#383838\" points=\"349.77,122.25,347.3392,129.0391,352.6711,133.894,355.1019,127.105,349.77,122.25\" style=\"stroke: #383838; stroke-width: 1.0;\"/><text fill=\"#000000\" font-family=\"sans-serif\" font-size=\"13\" lengthAdjust=\"spacingAndGlyphs\" textLength=\"7\" x=\"387.8923\" y=\"302.2282\">1</text></a><!--MD5=[711ca45a9d2d52e8f9099142e409bd9b]\n",
       "reverse link E2 to E10--><a href=\"psysml:31a4509a-5ccc-4391-8c5e-d9679390ebba\" target=\"_top\" title=\"psysml:31a4509a-5ccc-4391-8c5e-d9679390ebba\" xlink:actuate=\"onRequest\" xlink:href=\"psysml:31a4509a-5ccc-4391-8c5e-d9679390ebba\" xlink:show=\"new\" xlink:title=\"psysml:31a4509a-5ccc-4391-8c5e-d9679390ebba\" xlink:type=\"simple\"><path d=\"M388.32,132.28 C401.23,147.34 414.28,164.56 424,182 C482.16,286.34 474.4,324.93 484,444 C485.71,465.26 493.55,472.93 484,492 C470.91,518.14 445.24,538.16 421.88,551.99 \" fill=\"none\" id=\"E2&lt;-E10\" style=\"stroke: #383838; stroke-width: 1.0;\"/><polygon fill=\"#383838\" points=\"379.45,122.21,380.4166,129.356,387.3847,131.2123,386.4181,124.0663,379.45,122.21\" style=\"stroke: #383838; stroke-width: 1.0;\"/><text fill=\"#000000\" font-family=\"sans-serif\" font-size=\"13\" lengthAdjust=\"spacingAndGlyphs\" textLength=\"7\" x=\"426.5086\" y=\"541.3036\">2</text></a><!--MD5=[4707ab6d7598e99e3d49e48452b527e3]\n",
       "reverse link E2 to E11--><a href=\"psysml:1b32281a-0443-4dbb-a740-624249a0be68\" target=\"_top\" title=\"psysml:1b32281a-0443-4dbb-a740-624249a0be68\" xlink:actuate=\"onRequest\" xlink:href=\"psysml:1b32281a-0443-4dbb-a740-624249a0be68\" xlink:show=\"new\" xlink:title=\"psysml:1b32281a-0443-4dbb-a740-624249a0be68\" xlink:type=\"simple\"><path d=\"M374.83,133.45 C400.44,173.77 433.09,232.81 447,290 C456.87,330.59 455.07,343.01 447,384 C442.85,405.08 433.29,427.56 425.37,443.79 \" fill=\"none\" id=\"E2&lt;-E11\" style=\"stroke: #383838; stroke-width: 1.0;\"/><polygon fill=\"#383838\" points=\"367.65,122.34,367.5446,129.5503,374.1597,132.4208,374.2651,125.2105,367.65,122.34\" style=\"stroke: #383838; stroke-width: 1.0;\"/><text fill=\"#000000\" font-family=\"sans-serif\" font-size=\"13\" lengthAdjust=\"spacingAndGlyphs\" textLength=\"7\" x=\"420.6429\" y=\"433.0523\">2</text></a><!--MD5=[3a9b96bfbf6b6ad89c494e81751bda47]\n",
       "link E5 to E7--><a href=\"psysml:8a7f6b47-983c-4775-91d2-c1b4ac11812a\" target=\"_top\" title=\"psysml:8a7f6b47-983c-4775-91d2-c1b4ac11812a\" xlink:actuate=\"onRequest\" xlink:href=\"psysml:8a7f6b47-983c-4775-91d2-c1b4ac11812a\" xlink:show=\"new\" xlink:title=\"psysml:8a7f6b47-983c-4775-91d2-c1b4ac11812a\" xlink:type=\"simple\"><path d=\"M118.28,492 C126.95,509.66 138.86,533.94 147.56,551.68 \" fill=\"none\" id=\"E5-E7\" style=\"stroke: #383838; stroke-width: 3.0;\"/></a><!--MD5=[0a839d0f80c2d72d4b9b307f046d0de8]\n",
       "link E6 to E8--><a href=\"psysml:72b8c7a2-396a-4775-b5db-e634869c724c\" target=\"_top\" title=\"psysml:72b8c7a2-396a-4775-b5db-e634869c724c\" xlink:actuate=\"onRequest\" xlink:href=\"psysml:72b8c7a2-396a-4775-b5db-e634869c724c\" xlink:show=\"new\" xlink:title=\"psysml:72b8c7a2-396a-4775-b5db-e634869c724c\" xlink:type=\"simple\"><path d=\"M234.59,361.06 C248.34,384.4 269.48,420.28 283.27,443.7 \" fill=\"none\" id=\"E6-E8\" style=\"stroke: #383838; stroke-width: 3.0;\"/><text fill=\"#000000\" font-family=\"sans-serif\" font-size=\"13\" lengthAdjust=\"spacingAndGlyphs\" textLength=\"5\" x=\"274.3139\" y=\"433.342\">*</text></a><!--MD5=[de116e21047ded6283635ff91c92fb70]\n",
       "link E8 to E10--><a href=\"psysml:cde3ab1a-0927-42f3-b48b-665076ee1552\" target=\"_top\" title=\"psysml:cde3ab1a-0927-42f3-b48b-665076ee1552\" xlink:actuate=\"onRequest\" xlink:href=\"psysml:cde3ab1a-0927-42f3-b48b-665076ee1552\" xlink:show=\"new\" xlink:title=\"psysml:cde3ab1a-0927-42f3-b48b-665076ee1552\" xlink:type=\"simple\"><path d=\"M313.49,492 C326.15,509.66 343.56,533.94 356.28,551.68 \" fill=\"none\" id=\"E8-E10\" style=\"stroke: #383838; stroke-width: 3.0;\"/><text fill=\"#000000\" font-family=\"sans-serif\" font-size=\"13\" lengthAdjust=\"spacingAndGlyphs\" textLength=\"5\" x=\"346.5951\" y=\"541.3171\">*</text></a><!--MD5=[526783dfcde15884571727dc3bbf2987]\n",
       "link E9 to E11--><a href=\"psysml:bce1e2a3-ee60-48a6-81b2-c8bde84bf37e\" target=\"_top\" title=\"psysml:bce1e2a3-ee60-48a6-81b2-c8bde84bf37e\" xlink:actuate=\"onRequest\" xlink:href=\"psysml:bce1e2a3-ee60-48a6-81b2-c8bde84bf37e\" xlink:show=\"new\" xlink:title=\"psysml:bce1e2a3-ee60-48a6-81b2-c8bde84bf37e\" xlink:type=\"simple\"><path d=\"M404.79,361.06 C406.6,384.4 409.38,420.28 411.19,443.7 \" fill=\"none\" id=\"E9-E11\" style=\"stroke: #383838; stroke-width: 3.0;\"/><text fill=\"#000000\" font-family=\"sans-serif\" font-size=\"13\" lengthAdjust=\"spacingAndGlyphs\" textLength=\"5\" x=\"405.1394\" y=\"433.342\">*</text></a><!--MD5=[af87c684e3b0d8be13c1a698a818ef1e]\n",
       "link E3 to E4--><a href=\"psysml:b928bca4-6f44-455f-99ac-a479fe0f273e\" target=\"_top\" title=\"psysml:b928bca4-6f44-455f-99ac-a479fe0f273e\" xlink:actuate=\"onRequest\" xlink:href=\"psysml:b928bca4-6f44-455f-99ac-a479fe0f273e\" xlink:show=\"new\" xlink:title=\"psysml:b928bca4-6f44-455f-99ac-a479fe0f273e\" xlink:type=\"simple\"><path d=\"M266.28,219.14 C237.74,237.64 182.24,273.62 140.32,300.79 \" fill=\"none\" id=\"E3-E4\" style=\"stroke: #383838; stroke-width: 3.0;\"/><text fill=\"#000000\" font-family=\"sans-serif\" font-size=\"13\" lengthAdjust=\"spacingAndGlyphs\" textLength=\"5\" x=\"147.9552\" y=\"292.3885\">*</text></a><!--MD5=[ec9844e0c75763426927cad3229d1081]\n",
       "link E3 to E6--><a href=\"psysml:b227c9c2-f08f-4fbe-aae7-1c5ebca3496e\" target=\"_top\" title=\"psysml:b227c9c2-f08f-4fbe-aae7-1c5ebca3496e\" xlink:actuate=\"onRequest\" xlink:href=\"psysml:b227c9c2-f08f-4fbe-aae7-1c5ebca3496e\" xlink:show=\"new\" xlink:title=\"psysml:b227c9c2-f08f-4fbe-aae7-1c5ebca3496e\" xlink:type=\"simple\"><path d=\"M273.56,230.06 C261.98,253.4 244.18,289.28 232.56,312.7 \" fill=\"none\" id=\"E3-E6\" style=\"stroke: #383838; stroke-width: 3.0;\"/><text fill=\"#000000\" font-family=\"sans-serif\" font-size=\"13\" lengthAdjust=\"spacingAndGlyphs\" textLength=\"5\" x=\"229.7684\" y=\"302.342\">*</text></a><!--MD5=[ca5a752d6098d8a44b3f88316e7452d1]\n",
       "link E3 to E8--><a href=\"psysml:1b365ded-ac40-4e02-857c-a2c78de4b4af\" target=\"_top\" title=\"psysml:1b365ded-ac40-4e02-857c-a2c78de4b4af\" xlink:actuate=\"onRequest\" xlink:href=\"psysml:1b365ded-ac40-4e02-857c-a2c78de4b4af\" xlink:show=\"new\" xlink:title=\"psysml:1b365ded-ac40-4e02-857c-a2c78de4b4af\" xlink:type=\"simple\"><path d=\"M286.06,230.07 C288.34,279.41 293.66,394.69 295.94,443.98 \" fill=\"none\" id=\"E3-E8\" style=\"stroke: #383838; stroke-width: 3.0;\"/><text fill=\"#000000\" font-family=\"sans-serif\" font-size=\"13\" lengthAdjust=\"spacingAndGlyphs\" textLength=\"5\" x=\"290.0277\" y=\"433.291\">*</text></a><!--MD5=[4d85781121edfdebc5d1f98e72c75362]\n",
       "link E3 to E9--><a href=\"psysml:c4a4e3ec-07db-4225-b06e-73a386572b49\" target=\"_top\" title=\"psysml:c4a4e3ec-07db-4225-b06e-73a386572b49\" xlink:actuate=\"onRequest\" xlink:href=\"psysml:c4a4e3ec-07db-4225-b06e-73a386572b49\" xlink:show=\"new\" xlink:title=\"psysml:c4a4e3ec-07db-4225-b06e-73a386572b49\" xlink:type=\"simple\"><path d=\"M303.7,227.44 C324.88,250.6 359.35,288.28 381.59,312.6 \" fill=\"none\" id=\"E3-E9\" style=\"stroke: #383838; stroke-width: 3.0;\"/><text fill=\"#000000\" font-family=\"sans-serif\" font-size=\"13\" lengthAdjust=\"spacingAndGlyphs\" textLength=\"5\" x=\"370.7619\" y=\"302.2176\">*</text></a><!--MD5=[82427646a458d0739e8e8012d7b1b37d]\n",
       "@startuml\r\n",
       "skinparam monochrome true\r\n",
       "skinparam classbackgroundcolor white\r\n",
       "skinparam shadowing false\r\n",
       "skinparam wrapWidth 300\r\n",
       "hide circle\r\n",
       "\r\n",
       "package \"eVehicle_LogicalArchitecture\" as E1  [[psysml:6b854df4-7fae-4125-aaf8-e720095da11c ]]  {\r\n",
       "comp usage \"eVehicle \" as E2  <<(T,blue) part>> [[psysml:c65f054d-c1ee-4c72-b0aa-4862fc2ae26d ]] {\r\n",
       "- - attributes - -\r\n",
       "maxSpeed: Speed= 142; \r\n",
       "}\r\n",
       "comp usage \"body \" as E3  <<(T,blue) part>> [[psysml:d7400e60-ae2a-4bf4-8b3a-10e2dca8a6f1 ]] {\r\n",
       "}\r\n",
       "comp usage \"battery: Battery \" as E4  <<(T,blue) part>> [[psysml:af270b78-9313-4997-909b-3990191fab75 ]] {\r\n",
       "- - attributes - -\r\n",
       "capacity= 42; \\n//:>>Battery::capacity// \r\n",
       "}\r\n",
       "comp usage \"powerOut: PowerOutPort \" as E5  <<(T,blue) port>> [[psysml:b1796a24-5e72-4c7f-96f4-21dd9210d4fe ]] {\r\n",
       "}\r\n",
       "comp usage \"engine: Engine \" as E6  <<(T,blue) part>> [[psysml:07466362-8e93-446e-9ebb-c2a8da72b87b ]] {\r\n",
       "}\r\n",
       "comp usage \"powerIn: ~PowerOutPort \" as E7  <<(T,blue) port>> [[psysml:5b151441-8005-4ec0-b727-abb0640ceb08 ]] {\r\n",
       "}\r\n",
       "comp usage \"frontAxis \" as E8  <<(T,blue) part>> [[psysml:5706dbad-2460-4d51-97d9-1be1f57e8ce2 ]] {\r\n",
       "}\r\n",
       "comp usage \"rearAxis \" as E9  <<(T,blue) part>> [[psysml:77786d96-afee-47c7-bd26-241774f63994 ]] {\r\n",
       "}\r\n",
       "comp usage \"frontWheel: Wheel \" as E10  <<(T,blue) part>> [[psysml:7b65aeae-edc9-4334-a872-cff06953e24b ]] {\r\n",
       "}\r\n",
       "comp usage \"rearWheel: Wheel \" as E11  <<(T,blue) part>> [[psysml:4236d54b-e3b9-48b1-bbb9-063618102b2e ]] {\r\n",
       "}\r\n",
       "}\r\n",
       "E2 *- - \"1\"E3 [[psysml:b85c683c-bd6d-4c86-b149-c3f301da6b3e ]] \r\n",
       "E2 *- - \"1\"E4 [[psysml:a7e2bdda-dbc4-44c0-9291-025b464b4d69 ]] \r\n",
       "E4 o- - \"1\"E5 [[psysml:37570bab-df71-42da-b8d0-273a2bfc14a9 ]] \r\n",
       "E2 *- - \"1\"E6 [[psysml:c510813d-db28-4d2a-b297-0c21cffd0680 ]] \r\n",
       "E6 o- - \"1\"E7 [[psysml:5576d316-fddd-45b7-8c85-5caebe269cb0 ]] \r\n",
       "E2 *- - \"1\"E8 [[psysml:0011902a-f115-4225-a172-61934bd78627 ]] \r\n",
       "E2 *- - \"1\"E9 [[psysml:000fb5ac-5b29-4267-bf88-a33f1317a3e7 ]] \r\n",
       "E2 *- - \"2\"E10 [[psysml:31a4509a-5ccc-4391-8c5e-d9679390ebba ]] \r\n",
       "E2 *- - \"2\"E11 [[psysml:1b32281a-0443-4dbb-a740-624249a0be68 ]] \r\n",
       "E5 -[thickness=3]- E7 [[psysml:8a7f6b47-983c-4775-91d2-c1b4ac11812a ]] \r\n",
       "E6 -[thickness=3]- \"*\"E8 [[psysml:72b8c7a2-396a-4775-b5db-e634869c724c ]] \r\n",
       "E8 -[thickness=3]- \"*\"E10 [[psysml:cde3ab1a-0927-42f3-b48b-665076ee1552 ]] \r\n",
       "E9 -[thickness=3]- \"*\"E11 [[psysml:bce1e2a3-ee60-48a6-81b2-c8bde84bf37e ]] \r\n",
       "E3 -[thickness=3]- \"*\"E4 [[psysml:b928bca4-6f44-455f-99ac-a479fe0f273e ]] \r\n",
       "E3 -[thickness=3]- \"*\"E6 [[psysml:b227c9c2-f08f-4fbe-aae7-1c5ebca3496e ]] \r\n",
       "E3 -[thickness=3]- \"*\"E8 [[psysml:1b365ded-ac40-4e02-857c-a2c78de4b4af ]] \r\n",
       "E3 -[thickness=3]- \"*\"E9 [[psysml:c4a4e3ec-07db-4225-b06e-73a386572b49 ]] \r\n",
       "@enduml\r\n",
       "\n",
       "PlantUML version 1.2020.13(Sat Jun 13 14:26:38 CEST 2020)\n",
       "(EPL source distribution)\n",
       "Java Runtime: OpenJDK Runtime Environment\n",
       "JVM: OpenJDK 64-Bit Server VM\n",
       "Default Encoding: Cp1252\n",
       "Language: en\n",
       "Country: US\n",
       "--></g></svg>"
      ]
     },
     "execution_count": 37,
     "metadata": {},
     "output_type": "execute_result"
    }
   ],
   "source": [
    "%viz --view=tree eVehicle_LogicalArchitecture"
   ]
  },
  {
   "cell_type": "markdown",
   "metadata": {},
   "source": [
    "A concrete variant configuration of the eVehicle with lug bolts *42* can be simply created by specialization:"
   ]
  },
  {
   "cell_type": "code",
   "execution_count": 39,
   "metadata": {},
   "outputs": [
    {
     "data": {
      "text/plain": [
       "Package eVehicle_Edition42 (6de46b63-3790-49ee-9f58-5373dfcb207f)\n"
      ]
     },
     "execution_count": 39,
     "metadata": {},
     "output_type": "execute_result"
    }
   ],
   "source": [
    "package eVehicle_Edition42 {\n",
    "    \n",
    "    import eVehicle_LogicalArchitecture_ExplosionExample::*;\n",
    "           \n",
    "    part eVehicle42 :> eVehicle {\n",
    "       part redefines lugBolt42 = frontAxis.frontWheel.lugBolt;\n",
    "    }\n",
    "}\n",
    "    "
   ]
  },
  {
   "cell_type": "markdown",
   "metadata": {},
   "source": [
    "## Modeling requirements<a name=\"sysmlv2modrequirements\"></a>\n",
    "\n",
    "A requirement definition is a special kind of a constraint definition including parameters and required constraints. \n",
    "\n",
    "**Do not forget to run the eVehicle_Definitions and eVehicleLibrary in section [Libraries for the eVehicle example](#sysmlv2modlibrary).**"
   ]
  },
  {
   "cell_type": "code",
   "execution_count": 46,
   "metadata": {},
   "outputs": [
    {
     "data": {
      "text/plain": [
       "Package eVehicleRequirementDefinitions (378bf51a-1f8a-4d86-aade-9a08dae0bd8c)\n"
      ]
     },
     "execution_count": 46,
     "metadata": {},
     "output_type": "execute_result"
    }
   ],
   "source": [
    "package eVehicleRequirementDefinitions {\n",
    "    \n",
    "    import eVehicleDefinitions::*;\n",
    "    \n",
    "    requirement def BatteryCapacityReqDef {\n",
    "        doc /* The actual battery capacity shall be greater than or equal\n",
    "             * to the required capacity. */\n",
    "\n",
    "            attribute capacityActual : BatteryCapacity;\n",
    "            attribute capacityRequired : BatteryCapacity;\n",
    "        \n",
    "            require constraint{ capacityActual <= capacityRequired }\n",
    "    }\n",
    "    \n",
    "    requirement def MaxSpeedReqDef {\n",
    "        doc /* The maximum speed of the vehicle shall be \n",
    "             * not greater than the required maximum speed. */\n",
    "            \n",
    "            attribute maxSpeedVehicle : Speed;\n",
    "            attribute maxSpeedRequired : Speed;\n",
    "        \n",
    "            require constraint{ maxSpeedVehicle <= maxSpeedRequired }\n",
    "    }\n",
    "    \n",
    "}"
   ]
  },
  {
   "cell_type": "code",
   "execution_count": 70,
   "metadata": {},
   "outputs": [
    {
     "data": {
      "image/svg+xml": [
       "<?xml version=\"1.0\" encoding=\"UTF-8\" standalone=\"no\"?><svg xmlns=\"http://www.w3.org/2000/svg\" xmlns:xlink=\"http://www.w3.org/1999/xlink\" contentScriptType=\"application/ecmascript\" contentStyleType=\"text/css\" height=\"231px\" preserveAspectRatio=\"none\" style=\"width:706px;height:231px;\" version=\"1.1\" viewBox=\"0 0 706 231\" width=\"706px\" zoomAndPan=\"magnify\"><defs/><g><!--MD5=[fbc87193dbaf4d95561dea2c320d4a47]\n",
       "cluster E1--><a href=\"psysml:ebaeaa03-8dea-4494-b761-1175efc51256\" target=\"_top\" title=\"psysml:ebaeaa03-8dea-4494-b761-1175efc51256\" xlink:actuate=\"onRequest\" xlink:href=\"psysml:ebaeaa03-8dea-4494-b761-1175efc51256\" xlink:show=\"new\" xlink:title=\"psysml:ebaeaa03-8dea-4494-b761-1175efc51256\" xlink:type=\"simple\"><polygon fill=\"#FFFFFF\" points=\"16,6,250,6,257,29.6094,684,29.6094,684,219,16,219,16,6\" style=\"stroke: #000000; stroke-width: 1.5;\"/><line style=\"stroke: #000000; stroke-width: 1.5;\" x1=\"16\" x2=\"257\" y1=\"29.6094\" y2=\"29.6094\"/><text fill=\"#000000\" font-family=\"sans-serif\" font-size=\"14\" font-weight=\"bold\" lengthAdjust=\"spacingAndGlyphs\" textLength=\"228\" x=\"20\" y=\"22.5332\">eVehicleRequirementDefinitions</text></a><!--MD5=[b4997ac47864f28c2f74865a473b2911]\n",
       "class E2--><a href=\"psysml:773c59af-e94a-4c7d-9130-910bd9a165ed\" target=\"_top\" title=\"psysml:773c59af-e94a-4c7d-9130-910bd9a165ed\" xlink:actuate=\"onRequest\" xlink:href=\"psysml:773c59af-e94a-4c7d-9130-910bd9a165ed\" xlink:show=\"new\" xlink:title=\"psysml:773c59af-e94a-4c7d-9130-910bd9a165ed\" xlink:type=\"simple\"><rect fill=\"#FFFFFF\" height=\"161.0391\" id=\"E2\" style=\"stroke: #383838; stroke-width: 1.5;\" width=\"299\" x=\"368.5\" y=\"42\"/><text fill=\"#000000\" font-family=\"sans-serif\" font-size=\"12\" font-style=\"italic\" lengthAdjust=\"spacingAndGlyphs\" textLength=\"101\" x=\"467.5\" y=\"59.457\">«requirement def»</text><text fill=\"#000000\" font-family=\"sans-serif\" font-size=\"12\" lengthAdjust=\"spacingAndGlyphs\" textLength=\"126\" x=\"455\" y=\"74.5508\">BatteryCapacityReqDef</text><line style=\"stroke: #383838; stroke-width: 1.5;\" x1=\"369.5\" x2=\"666.5\" y1=\"82.1875\" y2=\"82.1875\"/><text fill=\"#000000\" font-family=\"sans-serif\" font-size=\"11\" lengthAdjust=\"spacingAndGlyphs\" textLength=\"284\" x=\"374.5\" y=\"97.6064\">The actual battery capacity shall be greater than or equalto</text><text fill=\"#000000\" font-family=\"sans-serif\" font-size=\"11\" lengthAdjust=\"spacingAndGlyphs\" textLength=\"105\" x=\"374.5\" y=\"111.4424\">the required capacity.</text><line style=\"stroke: #383838; stroke-width: 1.0;\" x1=\"369.5\" x2=\"666.5\" y1=\"117.8594\" y2=\"117.8594\"/><text fill=\"#000000\" font-family=\"sans-serif\" font-size=\"11\" lengthAdjust=\"spacingAndGlyphs\" textLength=\"155\" x=\"374.5\" y=\"151.1143\">capacityActual: BatteryCapacity</text><text fill=\"#000000\" font-family=\"sans-serif\" font-size=\"11\" lengthAdjust=\"spacingAndGlyphs\" textLength=\"167\" x=\"374.5\" y=\"164.9502\">capacityRequired: BatteryCapacity</text><line style=\"stroke: #383838; stroke-width: 1.0;\" x1=\"369.5\" x2=\"495.5\" y1=\"132.7773\" y2=\"132.7773\"/><text fill=\"#000000\" font-family=\"sans-serif\" font-size=\"11\" lengthAdjust=\"spacingAndGlyphs\" textLength=\"45\" x=\"495.5\" y=\"136.7783\">attributes</text><line style=\"stroke: #383838; stroke-width: 1.0;\" x1=\"540.5\" x2=\"666.5\" y1=\"132.7773\" y2=\"132.7773\"/><text fill=\"#000000\" font-family=\"sans-serif\" font-size=\"11\" font-weight=\"bold\" lengthAdjust=\"spacingAndGlyphs\" textLength=\"41\" x=\"374.5\" y=\"196.6221\">require</text><text fill=\"#000000\" font-family=\"sans-serif\" font-size=\"11\" lengthAdjust=\"spacingAndGlyphs\" textLength=\"188\" x=\"421.5\" y=\"196.6221\">{ capacityActual &lt;= capacityRequired }</text><line style=\"stroke: #383838; stroke-width: 1.0;\" x1=\"369.5\" x2=\"491\" y1=\"178.2852\" y2=\"178.2852\"/><text fill=\"#000000\" font-family=\"sans-serif\" font-size=\"11\" lengthAdjust=\"spacingAndGlyphs\" textLength=\"54\" x=\"491\" y=\"182.2861\">constraints</text><line style=\"stroke: #383838; stroke-width: 1.0;\" x1=\"545\" x2=\"666.5\" y1=\"178.2852\" y2=\"178.2852\"/></a><!--MD5=[ebbe1d658d1005bcc118a6aa81145e00]\n",
       "class E4--><a href=\"psysml:18a80db7-58c3-465f-9967-d0c38dd1da06\" target=\"_top\" title=\"psysml:18a80db7-58c3-465f-9967-d0c38dd1da06\" xlink:actuate=\"onRequest\" xlink:href=\"psysml:18a80db7-58c3-465f-9967-d0c38dd1da06\" xlink:show=\"new\" xlink:title=\"psysml:18a80db7-58c3-465f-9967-d0c38dd1da06\" xlink:type=\"simple\"><rect fill=\"#FFFFFF\" height=\"161.0391\" id=\"E4\" style=\"stroke: #383838; stroke-width: 1.5;\" width=\"301\" x=\"32.5\" y=\"42\"/><text fill=\"#000000\" font-family=\"sans-serif\" font-size=\"12\" font-style=\"italic\" lengthAdjust=\"spacingAndGlyphs\" textLength=\"101\" x=\"132.5\" y=\"59.457\">«requirement def»</text><text fill=\"#000000\" font-family=\"sans-serif\" font-size=\"12\" lengthAdjust=\"spacingAndGlyphs\" textLength=\"99\" x=\"133.5\" y=\"74.5508\">MaxSpeedReqDef</text><line style=\"stroke: #383838; stroke-width: 1.5;\" x1=\"33.5\" x2=\"332.5\" y1=\"82.1875\" y2=\"82.1875\"/><text fill=\"#000000\" font-family=\"sans-serif\" font-size=\"11\" lengthAdjust=\"spacingAndGlyphs\" textLength=\"286\" x=\"38.5\" y=\"97.6064\">The maximum speed of the vehicle shall be not greater than</text><text fill=\"#000000\" font-family=\"sans-serif\" font-size=\"11\" lengthAdjust=\"spacingAndGlyphs\" textLength=\"141\" x=\"38.5\" y=\"111.4424\">the required maximum speed.</text><line style=\"stroke: #383838; stroke-width: 1.0;\" x1=\"33.5\" x2=\"332.5\" y1=\"117.8594\" y2=\"117.8594\"/><text fill=\"#000000\" font-family=\"sans-serif\" font-size=\"11\" lengthAdjust=\"spacingAndGlyphs\" textLength=\"131\" x=\"38.5\" y=\"151.1143\">maxSpeedRequired: Speed</text><text fill=\"#000000\" font-family=\"sans-serif\" font-size=\"11\" lengthAdjust=\"spacingAndGlyphs\" textLength=\"124\" x=\"38.5\" y=\"164.9502\">maxSpeedVehicle: Speed</text><line style=\"stroke: #383838; stroke-width: 1.0;\" x1=\"33.5\" x2=\"160.5\" y1=\"132.7773\" y2=\"132.7773\"/><text fill=\"#000000\" font-family=\"sans-serif\" font-size=\"11\" lengthAdjust=\"spacingAndGlyphs\" textLength=\"45\" x=\"160.5\" y=\"136.7783\">attributes</text><line style=\"stroke: #383838; stroke-width: 1.0;\" x1=\"205.5\" x2=\"332.5\" y1=\"132.7773\" y2=\"132.7773\"/><text fill=\"#000000\" font-family=\"sans-serif\" font-size=\"11\" font-weight=\"bold\" lengthAdjust=\"spacingAndGlyphs\" textLength=\"41\" x=\"38.5\" y=\"196.6221\">require</text><text fill=\"#000000\" font-family=\"sans-serif\" font-size=\"11\" lengthAdjust=\"spacingAndGlyphs\" textLength=\"213\" x=\"85.5\" y=\"196.6221\">{ maxSpeedVehicle &lt;= maxSpeedRequired }</text><line style=\"stroke: #383838; stroke-width: 1.0;\" x1=\"33.5\" x2=\"156\" y1=\"178.2852\" y2=\"178.2852\"/><text fill=\"#000000\" font-family=\"sans-serif\" font-size=\"11\" lengthAdjust=\"spacingAndGlyphs\" textLength=\"54\" x=\"156\" y=\"182.2861\">constraints</text><line style=\"stroke: #383838; stroke-width: 1.0;\" x1=\"210\" x2=\"332.5\" y1=\"178.2852\" y2=\"178.2852\"/></a><!--MD5=[c421fd18cc384adb172066436147dbd6]\n",
       "@startuml\r\n",
       "skinparam monochrome true\r\n",
       "skinparam classbackgroundcolor white\r\n",
       "skinparam shadowing false\r\n",
       "skinparam wrapWidth 300\r\n",
       "hide circle\r\n",
       "\r\n",
       "package \"eVehicleRequirementDefinitions\" as E1  [[psysml:ebaeaa03-8dea-4494-b761-1175efc51256 ]]  {\r\n",
       "comp def \"BatteryCapacityReqDef\" as E2  <<(T,blue)requirement def>> [[psysml:773c59af-e94a-4c7d-9130-910bd9a165ed ]] {\r\n",
       "The actual battery capacity shall be greater than or equalto the required capacity.\r\n",
       "- -\r\n",
       "- - attributes - -\r\n",
       "capacityActual: BatteryCapacity\r\n",
       "capacityRequired: BatteryCapacity\r\n",
       "- - constraints - -\r\n",
       "<b>require</b>  { capacityActual <= capacityRequired }\r\n",
       "}\r\n",
       "comp def \"MaxSpeedReqDef\" as E4  <<(T,blue)requirement def>> [[psysml:18a80db7-58c3-465f-9967-d0c38dd1da06 ]] {\r\n",
       "The maximum speed of the vehicle shall be not greater than the required maximum speed.\r\n",
       "- -\r\n",
       "- - attributes - -\r\n",
       "maxSpeedRequired: Speed\r\n",
       "maxSpeedVehicle: Speed\r\n",
       "- - constraints - -\r\n",
       "<b>require</b>  { maxSpeedVehicle <= maxSpeedRequired }\r\n",
       "}\r\n",
       "}\r\n",
       "@enduml\r\n",
       "\n",
       "PlantUML version 1.2020.13(Sat Jun 13 14:26:38 CEST 2020)\n",
       "(EPL source distribution)\n",
       "Java Runtime: OpenJDK Runtime Environment\n",
       "JVM: OpenJDK 64-Bit Server VM\n",
       "Default Encoding: Cp1252\n",
       "Language: en\n",
       "Country: US\n",
       "--></g></svg>"
      ]
     },
     "execution_count": 70,
     "metadata": {},
     "output_type": "execute_result"
    }
   ],
   "source": [
    "%viz eVehicleRequirementDefinitions"
   ]
  },
  {
   "cell_type": "markdown",
   "metadata": {},
   "source": [
    "The definition of a requirement provides a reusable structure. Next, the requirement definition *BatteryCapacityRequirementDef* is used to specify a concrete requirement for the *eVehicle*. The requirement *REQ.B.1* redefines the requirement attribute *capacityRequired* with a concrete value.\n",
    "\n",
    "It is possible to define requirement groups to manage a large set of requirements by defining that a requirement requires other requirements.\n",
    "\n",
    "**Do not forget to run the eVehicle_VariantModel above before you run this model.**"
   ]
  },
  {
   "cell_type": "code",
   "execution_count": 71,
   "metadata": {},
   "outputs": [
    {
     "data": {
      "image/svg+xml": [
       "<?xml version=\"1.0\" encoding=\"UTF-8\" standalone=\"no\"?><svg xmlns=\"http://www.w3.org/2000/svg\" xmlns:xlink=\"http://www.w3.org/1999/xlink\" contentScriptType=\"application/ecmascript\" contentStyleType=\"text/css\" height=\"283px\" preserveAspectRatio=\"none\" style=\"width:844px;height:283px;\" version=\"1.1\" viewBox=\"0 0 844 283\" width=\"844px\" zoomAndPan=\"magnify\"><defs/><g><!--MD5=[43c9051892ef23e1a46a86907403d788]\n",
       "class E1--><a href=\"psysml:08b83bf2-4a0f-4ad5-adfa-40462f4f94aa\" target=\"_top\" title=\"psysml:08b83bf2-4a0f-4ad5-adfa-40462f4f94aa\" xlink:actuate=\"onRequest\" xlink:href=\"psysml:08b83bf2-4a0f-4ad5-adfa-40462f4f94aa\" xlink:show=\"new\" xlink:title=\"psysml:08b83bf2-4a0f-4ad5-adfa-40462f4f94aa\" xlink:type=\"simple\"><rect fill=\"#FFFFFF\" height=\"79.8594\" id=\"E1\" rx=\"10\" ry=\"10\" style=\"stroke: #383838; stroke-width: 1.5;\" width=\"127\" x=\"379\" y=\"7\"/><text fill=\"#000000\" font-family=\"sans-serif\" font-size=\"12\" font-style=\"italic\" lengthAdjust=\"spacingAndGlyphs\" textLength=\"35\" x=\"425\" y=\"24.457\">«part»</text><text fill=\"#000000\" font-family=\"sans-serif\" font-size=\"12\" lengthAdjust=\"spacingAndGlyphs\" textLength=\"47\" x=\"419\" y=\"39.5508\">eVehicle</text><line style=\"stroke: #383838; stroke-width: 1.5;\" x1=\"380\" x2=\"505\" y1=\"47.1875\" y2=\"47.1875\"/><text fill=\"#000000\" font-family=\"sans-serif\" font-size=\"11\" lengthAdjust=\"spacingAndGlyphs\" textLength=\"115\" x=\"385\" y=\"80.4424\">maxSpeed: Speed=142;</text><line style=\"stroke: #383838; stroke-width: 1.0;\" x1=\"380\" x2=\"420\" y1=\"62.1055\" y2=\"62.1055\"/><text fill=\"#000000\" font-family=\"sans-serif\" font-size=\"11\" lengthAdjust=\"spacingAndGlyphs\" textLength=\"45\" x=\"420\" y=\"66.1064\">attributes</text><line style=\"stroke: #383838; stroke-width: 1.0;\" x1=\"465\" x2=\"505\" y1=\"62.1055\" y2=\"62.1055\"/></a><!--MD5=[b4997ac47864f28c2f74865a473b2911]\n",
       "class E2--><a href=\"psysml:acab99ae-07e6-424a-abec-6e3c73a21f8e\" target=\"_top\" title=\"psysml:acab99ae-07e6-424a-abec-6e3c73a21f8e\" xlink:actuate=\"onRequest\" xlink:href=\"psysml:acab99ae-07e6-424a-abec-6e3c73a21f8e\" xlink:show=\"new\" xlink:title=\"psysml:acab99ae-07e6-424a-abec-6e3c73a21f8e\" xlink:type=\"simple\"><rect fill=\"#FFFFFF\" height=\"48.1875\" id=\"E2\" rx=\"10\" ry=\"10\" style=\"stroke: #383838; stroke-width: 1.5;\" width=\"37\" x=\"7\" y=\"185.5\"/><text fill=\"#000000\" font-family=\"sans-serif\" font-size=\"12\" font-style=\"italic\" lengthAdjust=\"spacingAndGlyphs\" textLength=\"35\" x=\"8\" y=\"202.957\">«part»</text><text fill=\"#000000\" font-family=\"sans-serif\" font-size=\"12\" lengthAdjust=\"spacingAndGlyphs\" textLength=\"26\" x=\"12.5\" y=\"218.0508\">body</text><line style=\"stroke: #383838; stroke-width: 1.5;\" x1=\"8\" x2=\"43\" y1=\"225.6875\" y2=\"225.6875\"/></a><!--MD5=[09b614a08d8cba4a07c9adeb5e0fee81]\n",
       "class E3--><a href=\"psysml:8cbeadd8-fec1-4653-a829-6739a378a8c9\" target=\"_top\" title=\"psysml:8cbeadd8-fec1-4653-a829-6739a378a8c9\" xlink:actuate=\"onRequest\" xlink:href=\"psysml:8cbeadd8-fec1-4653-a829-6739a378a8c9\" xlink:show=\"new\" xlink:title=\"psysml:8cbeadd8-fec1-4653-a829-6739a378a8c9\" xlink:type=\"simple\"><rect fill=\"#FFFFFF\" height=\"125.3672\" id=\"E3\" rx=\"10\" ry=\"10\" style=\"stroke: #383838; stroke-width: 1.5;\" width=\"135\" x=\"79\" y=\"147\"/><text fill=\"#000000\" font-family=\"sans-serif\" font-size=\"12\" font-style=\"italic\" lengthAdjust=\"spacingAndGlyphs\" textLength=\"35\" x=\"129\" y=\"164.457\">«part»</text><text fill=\"#000000\" font-family=\"sans-serif\" font-size=\"12\" lengthAdjust=\"spacingAndGlyphs\" textLength=\"79\" x=\"107\" y=\"179.5508\">battery: Battery</text><line style=\"stroke: #383838; stroke-width: 1.5;\" x1=\"80\" x2=\"213\" y1=\"187.1875\" y2=\"187.1875\"/><text fill=\"#000000\" font-family=\"sans-serif\" font-size=\"11\" lengthAdjust=\"spacingAndGlyphs\" textLength=\"62\" x=\"85\" y=\"220.4424\">capacity=42;</text><text fill=\"#000000\" font-family=\"sans-serif\" font-size=\"11\" font-style=\"italic\" lengthAdjust=\"spacingAndGlyphs\" textLength=\"96\" x=\"85\" y=\"234.2783\">:&gt;&gt;Battery::capacity</text><line style=\"stroke: #383838; stroke-width: 1.0;\" x1=\"80\" x2=\"124\" y1=\"202.1055\" y2=\"202.1055\"/><text fill=\"#000000\" font-family=\"sans-serif\" font-size=\"11\" lengthAdjust=\"spacingAndGlyphs\" textLength=\"45\" x=\"124\" y=\"206.1064\">attributes</text><line style=\"stroke: #383838; stroke-width: 1.0;\" x1=\"169\" x2=\"213\" y1=\"202.1055\" y2=\"202.1055\"/><text fill=\"#000000\" font-family=\"sans-serif\" font-size=\"11\" lengthAdjust=\"spacingAndGlyphs\" textLength=\"123\" x=\"85\" y=\"265.9502\">powerOut: PowerOutPort</text><line style=\"stroke: #383838; stroke-width: 1.0;\" x1=\"80\" x2=\"134\" y1=\"247.6133\" y2=\"247.6133\"/><text fill=\"#000000\" font-family=\"sans-serif\" font-size=\"11\" lengthAdjust=\"spacingAndGlyphs\" textLength=\"25\" x=\"134\" y=\"251.6143\">ports</text><line style=\"stroke: #383838; stroke-width: 1.0;\" x1=\"159\" x2=\"213\" y1=\"247.6133\" y2=\"247.6133\"/></a><!--MD5=[270fce915f116d4de14055a7c1d9a0f3]\n",
       "class E5--><a href=\"psysml:9937dcd0-d3d9-4533-b385-b17933ed340e\" target=\"_top\" title=\"psysml:9937dcd0-d3d9-4533-b385-b17933ed340e\" xlink:actuate=\"onRequest\" xlink:href=\"psysml:9937dcd0-d3d9-4533-b385-b17933ed340e\" xlink:show=\"new\" xlink:title=\"psysml:9937dcd0-d3d9-4533-b385-b17933ed340e\" xlink:type=\"simple\"><rect fill=\"#FFFFFF\" height=\"79.8594\" id=\"E5\" rx=\"10\" ry=\"10\" style=\"stroke: #383838; stroke-width: 1.5;\" width=\"132\" x=\"249.5\" y=\"169.5\"/><text fill=\"#000000\" font-family=\"sans-serif\" font-size=\"12\" font-style=\"italic\" lengthAdjust=\"spacingAndGlyphs\" textLength=\"35\" x=\"298\" y=\"186.957\">«part»</text><text fill=\"#000000\" font-family=\"sans-serif\" font-size=\"12\" lengthAdjust=\"spacingAndGlyphs\" textLength=\"83\" x=\"274\" y=\"202.0508\">engine: Engine</text><line style=\"stroke: #383838; stroke-width: 1.5;\" x1=\"250.5\" x2=\"380.5\" y1=\"209.6875\" y2=\"209.6875\"/><text fill=\"#000000\" font-family=\"sans-serif\" font-size=\"11\" lengthAdjust=\"spacingAndGlyphs\" textLength=\"120\" x=\"255.5\" y=\"242.9424\">powerIn: ~PowerOutPort</text><line style=\"stroke: #383838; stroke-width: 1.0;\" x1=\"250.5\" x2=\"303\" y1=\"224.6055\" y2=\"224.6055\"/><text fill=\"#000000\" font-family=\"sans-serif\" font-size=\"11\" lengthAdjust=\"spacingAndGlyphs\" textLength=\"25\" x=\"303\" y=\"228.6064\">ports</text><line style=\"stroke: #383838; stroke-width: 1.0;\" x1=\"328\" x2=\"380.5\" y1=\"224.6055\" y2=\"224.6055\"/></a><!--MD5=[2156ba9850f5573cc1fc38a6a4b2f02b]\n",
       "class E7--><a href=\"psysml:683e5489-8afa-43b4-9a46-0a95570d227c\" target=\"_top\" title=\"psysml:683e5489-8afa-43b4-9a46-0a95570d227c\" xlink:actuate=\"onRequest\" xlink:href=\"psysml:683e5489-8afa-43b4-9a46-0a95570d227c\" xlink:show=\"new\" xlink:title=\"psysml:683e5489-8afa-43b4-9a46-0a95570d227c\" xlink:type=\"simple\"><rect fill=\"#FFFFFF\" height=\"48.1875\" id=\"E7\" rx=\"10\" ry=\"10\" style=\"stroke: #383838; stroke-width: 1.5;\" width=\"52\" x=\"416.5\" y=\"185.5\"/><text fill=\"#000000\" font-family=\"sans-serif\" font-size=\"12\" font-style=\"italic\" lengthAdjust=\"spacingAndGlyphs\" textLength=\"35\" x=\"425\" y=\"202.957\">«part»</text><text fill=\"#000000\" font-family=\"sans-serif\" font-size=\"12\" lengthAdjust=\"spacingAndGlyphs\" textLength=\"46\" x=\"419.5\" y=\"218.0508\">frontAxis</text><line style=\"stroke: #383838; stroke-width: 1.5;\" x1=\"417.5\" x2=\"467.5\" y1=\"225.6875\" y2=\"225.6875\"/></a><!--MD5=[b9389687b975829384b498ac4b7476b2]\n",
       "class E8--><a href=\"psysml:61afc09c-c87e-47d4-b1af-a0fe2769d087\" target=\"_top\" title=\"psysml:61afc09c-c87e-47d4-b1af-a0fe2769d087\" xlink:actuate=\"onRequest\" xlink:href=\"psysml:61afc09c-c87e-47d4-b1af-a0fe2769d087\" xlink:show=\"new\" xlink:title=\"psysml:61afc09c-c87e-47d4-b1af-a0fe2769d087\" xlink:type=\"simple\"><rect fill=\"#FFFFFF\" height=\"48.1875\" id=\"E8\" rx=\"10\" ry=\"10\" style=\"stroke: #383838; stroke-width: 1.5;\" width=\"50\" x=\"503.5\" y=\"185.5\"/><text fill=\"#000000\" font-family=\"sans-serif\" font-size=\"12\" font-style=\"italic\" lengthAdjust=\"spacingAndGlyphs\" textLength=\"35\" x=\"511\" y=\"202.957\">«part»</text><text fill=\"#000000\" font-family=\"sans-serif\" font-size=\"12\" lengthAdjust=\"spacingAndGlyphs\" textLength=\"44\" x=\"506.5\" y=\"218.0508\">rearAxis</text><line style=\"stroke: #383838; stroke-width: 1.5;\" x1=\"504.5\" x2=\"552.5\" y1=\"225.6875\" y2=\"225.6875\"/></a><!--MD5=[fd4143e9d270a159db93a4ea2a975926]\n",
       "class E9--><a href=\"psysml:8d23be7e-1dcf-4d2f-baf3-4d1520ffdfd2\" target=\"_top\" title=\"psysml:8d23be7e-1dcf-4d2f-baf3-4d1520ffdfd2\" xlink:actuate=\"onRequest\" xlink:href=\"psysml:8d23be7e-1dcf-4d2f-baf3-4d1520ffdfd2\" xlink:show=\"new\" xlink:title=\"psysml:8d23be7e-1dcf-4d2f-baf3-4d1520ffdfd2\" xlink:type=\"simple\"><rect fill=\"#FFFFFF\" height=\"48.1875\" id=\"E9\" rx=\"10\" ry=\"10\" style=\"stroke: #383838; stroke-width: 1.5;\" width=\"106\" x=\"588.5\" y=\"185.5\"/><text fill=\"#000000\" font-family=\"sans-serif\" font-size=\"12\" font-style=\"italic\" lengthAdjust=\"spacingAndGlyphs\" textLength=\"35\" x=\"624\" y=\"202.957\">«part»</text><text fill=\"#000000\" font-family=\"sans-serif\" font-size=\"12\" lengthAdjust=\"spacingAndGlyphs\" textLength=\"100\" x=\"591.5\" y=\"218.0508\">frontWheel: Wheel</text><line style=\"stroke: #383838; stroke-width: 1.5;\" x1=\"589.5\" x2=\"693.5\" y1=\"225.6875\" y2=\"225.6875\"/></a><!--MD5=[96f4274e9e20536e775497830990834d]\n",
       "class E10--><a href=\"psysml:c77b17b1-a64a-4cf0-a98e-cc1df8dc39e6\" target=\"_top\" title=\"psysml:c77b17b1-a64a-4cf0-a98e-cc1df8dc39e6\" xlink:actuate=\"onRequest\" xlink:href=\"psysml:c77b17b1-a64a-4cf0-a98e-cc1df8dc39e6\" xlink:show=\"new\" xlink:title=\"psysml:c77b17b1-a64a-4cf0-a98e-cc1df8dc39e6\" xlink:type=\"simple\"><rect fill=\"#FFFFFF\" height=\"48.1875\" id=\"E10\" rx=\"10\" ry=\"10\" style=\"stroke: #383838; stroke-width: 1.5;\" width=\"104\" x=\"729.5\" y=\"185.5\"/><text fill=\"#000000\" font-family=\"sans-serif\" font-size=\"12\" font-style=\"italic\" lengthAdjust=\"spacingAndGlyphs\" textLength=\"35\" x=\"764\" y=\"202.957\">«part»</text><text fill=\"#000000\" font-family=\"sans-serif\" font-size=\"12\" lengthAdjust=\"spacingAndGlyphs\" textLength=\"98\" x=\"732.5\" y=\"218.0508\">rearWheel: Wheel</text><line style=\"stroke: #383838; stroke-width: 1.5;\" x1=\"730.5\" x2=\"832.5\" y1=\"225.6875\" y2=\"225.6875\"/></a><!--MD5=[a523cb2a0b79ecf9065ad8783f96c320]\n",
       "reverse link E1 to E2--><a href=\"psysml:acab99ae-07e6-424a-abec-6e3c73a21f8e\" target=\"_top\" title=\"psysml:acab99ae-07e6-424a-abec-6e3c73a21f8e\" xlink:actuate=\"onRequest\" xlink:href=\"psysml:acab99ae-07e6-424a-abec-6e3c73a21f8e\" xlink:show=\"new\" xlink:title=\"psysml:acab99ae-07e6-424a-abec-6e3c73a21f8e\" xlink:type=\"simple\"><path d=\"M365.665,50.902 C282.938,57.628 151.165,79.16 61.5,147 C48.7727,156.63 39.731,172.1705 33.8922,185.2201 \" fill=\"none\" id=\"E1&lt;-E2\" style=\"stroke: #383838; stroke-width: 1.0;\"/><polygon fill=\"#383838\" points=\"378.758,49.928,372.4774,46.3848,366.7912,50.8194,373.0717,54.3627,378.758,49.928\" style=\"stroke: #383838; stroke-width: 1.0;\"/></a><!--MD5=[5d7b3810b1dd9b5164bea1151b29b665]\n",
       "reverse link E1 to E3--><a href=\"psysml:8cbeadd8-fec1-4653-a829-6739a378a8c9\" target=\"_top\" title=\"psysml:8cbeadd8-fec1-4653-a829-6739a378a8c9\" xlink:actuate=\"onRequest\" xlink:href=\"psysml:8cbeadd8-fec1-4653-a829-6739a378a8c9\" xlink:show=\"new\" xlink:title=\"psysml:8cbeadd8-fec1-4653-a829-6739a378a8c9\" xlink:type=\"simple\"><path d=\"M366.505,79.514 C325.558,97.514 274.717,121.532 231.5,147 C225.851,150.329 220.109,153.938 214.414,157.682 \" fill=\"none\" id=\"E1&lt;-E3\" style=\"stroke: #383838; stroke-width: 1.0;\"/><polygon fill=\"#383838\" points=\"378.599,74.245,371.5008,72.9738,367.5973,79.037,374.6955,80.3082,378.599,74.245\" style=\"stroke: #383838; stroke-width: 1.0;\"/></a><!--MD5=[33238bef88d6431a141d8bc8fb12bca0]\n",
       "reverse link E1 to E5--><a href=\"psysml:9937dcd0-d3d9-4533-b385-b17933ed340e\" target=\"_top\" title=\"psysml:9937dcd0-d3d9-4533-b385-b17933ed340e\" xlink:actuate=\"onRequest\" xlink:href=\"psysml:9937dcd0-d3d9-4533-b385-b17933ed340e\" xlink:show=\"new\" xlink:title=\"psysml:9937dcd0-d3d9-4533-b385-b17933ed340e\" xlink:type=\"simple\"><path d=\"M403.286,97.558 C385.012,120.652 363.58,147.737 346.467,169.365 \" fill=\"none\" id=\"E1&lt;-E5\" style=\"stroke: #383838; stroke-width: 1.0;\"/><polygon fill=\"#383838\" points=\"411.432,87.263,404.5722,89.4863,403.9861,96.6736,410.8459,94.4502,411.432,87.263\" style=\"stroke: #383838; stroke-width: 1.0;\"/></a><!--MD5=[fc9706a6b2cf8c0e423679d303750d3f]\n",
       "reverse link E1 to E7--><a href=\"psysml:683e5489-8afa-43b4-9a46-0a95570d227c\" target=\"_top\" title=\"psysml:683e5489-8afa-43b4-9a46-0a95570d227c\" xlink:actuate=\"onRequest\" xlink:href=\"psysml:683e5489-8afa-43b4-9a46-0a95570d227c\" xlink:show=\"new\" xlink:title=\"psysml:683e5489-8afa-43b4-9a46-0a95570d227c\" xlink:type=\"simple\"><path d=\"M442.5,100.366 C442.5,128.942 442.5,162.906 442.5,185.0425 \" fill=\"none\" id=\"E1&lt;-E7\" style=\"stroke: #383838; stroke-width: 1.0;\"/><polygon fill=\"#383838\" points=\"442.5,87.263,438.5,93.263,442.5,99.263,446.5,93.263,442.5,87.263\" style=\"stroke: #383838; stroke-width: 1.0;\"/></a><!--MD5=[661cb7e25c535686a73d30316f0ecb18]\n",
       "reverse link E1 to E8--><a href=\"psysml:61afc09c-c87e-47d4-b1af-a0fe2769d087\" target=\"_top\" title=\"psysml:61afc09c-c87e-47d4-b1af-a0fe2769d087\" xlink:actuate=\"onRequest\" xlink:href=\"psysml:61afc09c-c87e-47d4-b1af-a0fe2769d087\" xlink:show=\"new\" xlink:title=\"psysml:61afc09c-c87e-47d4-b1af-a0fe2769d087\" xlink:type=\"simple\"><path d=\"M469.731,98.82 C485.21,127.709 503.855,162.505 515.931,185.0425 \" fill=\"none\" id=\"E1&lt;-E8\" style=\"stroke: #383838; stroke-width: 1.0;\"/><polygon fill=\"#383838\" points=\"463.538,87.263,462.8461,94.4408,469.2057,97.8402,469.8976,90.6624,463.538,87.263\" style=\"stroke: #383838; stroke-width: 1.0;\"/></a><!--MD5=[12b85c4d420790db1e7d6becd0483003]\n",
       "reverse link E1 to E9--><a href=\"psysml:8d23be7e-1dcf-4d2f-baf3-4d1520ffdfd2\" target=\"_top\" title=\"psysml:8d23be7e-1dcf-4d2f-baf3-4d1520ffdfd2\" xlink:actuate=\"onRequest\" xlink:href=\"psysml:8d23be7e-1dcf-4d2f-baf3-4d1520ffdfd2\" xlink:show=\"new\" xlink:title=\"psysml:8d23be7e-1dcf-4d2f-baf3-4d1520ffdfd2\" xlink:type=\"simple\"><path d=\"M505.704,95.181 C526.857,111.32 550.413,129.677 571.5,147 C586.5,159.322 602.818,173.6056 615.923,185.304 \" fill=\"none\" id=\"E1&lt;-E9\" style=\"stroke: #383838; stroke-width: 1.0;\"/><polygon fill=\"#383838\" points=\"495.212,87.206,497.5682,94.0213,504.7654,94.4677,502.4093,87.6524,495.212,87.206\" style=\"stroke: #383838; stroke-width: 1.0;\"/><text fill=\"#000000\" font-family=\"sans-serif\" font-size=\"13\" lengthAdjust=\"spacingAndGlyphs\" textLength=\"7\" x=\"601.472\" y=\"174.5699\">2</text></a><!--MD5=[ea7c523cf29368ef1946af14beed0adc]\n",
       "reverse link E1 to E10--><a href=\"psysml:c77b17b1-a64a-4cf0-a98e-cc1df8dc39e6\" target=\"_top\" title=\"psysml:c77b17b1-a64a-4cf0-a98e-cc1df8dc39e6\" xlink:actuate=\"onRequest\" xlink:href=\"psysml:c77b17b1-a64a-4cf0-a98e-cc1df8dc39e6\" xlink:show=\"new\" xlink:title=\"psysml:c77b17b1-a64a-4cf0-a98e-cc1df8dc39e6\" xlink:type=\"simple\"><path d=\"M518.777,67.597 C574.822,83.94 651.507,110.463 712.5,147 C729.983,157.473 747.101,172.6904 759.913,185.3675 \" fill=\"none\" id=\"E1&lt;-E10\" style=\"stroke: #383838; stroke-width: 1.0;\"/><polygon fill=\"#383838\" points=\"506.073,63.963,510.7419,69.4586,517.6105,67.2624,512.9416,61.7669,506.073,63.963\" style=\"stroke: #383838; stroke-width: 1.0;\"/><text fill=\"#000000\" font-family=\"sans-serif\" font-size=\"13\" lengthAdjust=\"spacingAndGlyphs\" textLength=\"7\" x=\"746.4845\" y=\"174.6503\">2</text></a><!--MD5=[a3e936e599047831c3342c72a7396df2]\n",
       "@startuml\r\n",
       "skinparam monochrome true\r\n",
       "skinparam classbackgroundcolor white\r\n",
       "skinparam shadowing false\r\n",
       "skinparam wrapWidth 300\r\n",
       "hide circle\r\n",
       "\r\n",
       "comp usage \"eVehicle\" as E1  <<(T,blue)part>> [[psysml:08b83bf2-4a0f-4ad5-adfa-40462f4f94aa ]] {\r\n",
       "- - attributes - -\r\n",
       "maxSpeed: Speed=142; \r\n",
       "}\r\n",
       "comp usage \"body\" as E2  <<(T,blue)part>> [[psysml:acab99ae-07e6-424a-abec-6e3c73a21f8e ]] {\r\n",
       "}\r\n",
       "comp usage \"battery: Battery\" as E3  <<(T,blue)part>> [[psysml:8cbeadd8-fec1-4653-a829-6739a378a8c9 ]] {\r\n",
       "- - attributes - -\r\n",
       "capacity=42; \\n//:>>Battery::capacity// \r\n",
       "- - ports - -\r\n",
       "powerOut: PowerOutPort\r\n",
       "}\r\n",
       "comp usage \"engine: Engine\" as E5  <<(T,blue)part>> [[psysml:9937dcd0-d3d9-4533-b385-b17933ed340e ]] {\r\n",
       "- - ports - -\r\n",
       "powerIn: ~PowerOutPort\r\n",
       "}\r\n",
       "comp usage \"frontAxis\" as E7  <<(T,blue)part>> [[psysml:683e5489-8afa-43b4-9a46-0a95570d227c ]] {\r\n",
       "}\r\n",
       "comp usage \"rearAxis\" as E8  <<(T,blue)part>> [[psysml:61afc09c-c87e-47d4-b1af-a0fe2769d087 ]] {\r\n",
       "}\r\n",
       "comp usage \"frontWheel: Wheel\" as E9  <<(T,blue)part>> [[psysml:8d23be7e-1dcf-4d2f-baf3-4d1520ffdfd2 ]] {\r\n",
       "}\r\n",
       "comp usage \"rearWheel: Wheel\" as E10  <<(T,blue)part>> [[psysml:c77b17b1-a64a-4cf0-a98e-cc1df8dc39e6 ]] {\r\n",
       "}\r\n",
       "E1 *- - E2 [[psysml:acab99ae-07e6-424a-abec-6e3c73a21f8e ]] \r\n",
       "E1 *- - E3 [[psysml:8cbeadd8-fec1-4653-a829-6739a378a8c9 ]] \r\n",
       "E1 *- - E5 [[psysml:9937dcd0-d3d9-4533-b385-b17933ed340e ]] \r\n",
       "E1 *- - E7 [[psysml:683e5489-8afa-43b4-9a46-0a95570d227c ]] \r\n",
       "E1 *- - E8 [[psysml:61afc09c-c87e-47d4-b1af-a0fe2769d087 ]] \r\n",
       "E1 *- - \"2\"E9 [[psysml:8d23be7e-1dcf-4d2f-baf3-4d1520ffdfd2 ]] \r\n",
       "E1 *- - \"2\"E10 [[psysml:c77b17b1-a64a-4cf0-a98e-cc1df8dc39e6 ]] \r\n",
       "@enduml\r\n",
       "\n",
       "PlantUML version 1.2020.13(Sat Jun 13 14:26:38 CEST 2020)\n",
       "(EPL source distribution)\n",
       "Java Runtime: OpenJDK Runtime Environment\n",
       "JVM: OpenJDK 64-Bit Server VM\n",
       "Default Encoding: Cp1252\n",
       "Language: en\n",
       "Country: US\n",
       "--></g></svg>"
      ]
     },
     "execution_count": 71,
     "metadata": {},
     "output_type": "execute_result"
    }
   ],
   "source": [
    "%viz eVehicle_LogicalArchitecture::eVehicle"
   ]
  },
  {
   "cell_type": "code",
   "execution_count": 51,
   "metadata": {},
   "outputs": [
    {
     "data": {
      "text/plain": [
       "Package eVehicleRequirements (1e03b0c3-fcc0-4231-9f8a-56277566d7b8)\n"
      ]
     },
     "execution_count": 51,
     "metadata": {},
     "output_type": "execute_result"
    }
   ],
   "source": [
    "package eVehicleRequirements {\n",
    "    \n",
    "    import eVehicleRequirementDefinitions::*;\n",
    "    import eVehicle_LogicalArchitecture::*;\n",
    "    \n",
    "    requirement eVehicleSpecification {\n",
    "        doc /* Requirement Specification of the eVehicle  */\n",
    "        subject eVehicle :>> eVehicle;\n",
    "        require eVehicleBatteryCapacity;\n",
    "        require eVehicleMaxSpeed;\n",
    "    }\n",
    "    \n",
    "    requirement <'REQ.B.1'> eVehicleBatteryCapacity : BatteryCapacityReqDef {\n",
    "        subject eVehicle :>> eVehicle;\n",
    "        attribute :>> capacityRequired = 50;\n",
    "        attribute :>> capacityActual = eVehicle.battery.capacity;\n",
    "    }\n",
    "    \n",
    "    requirement <'REQ.V.1'> eVehicleMaxSpeed : MaxSpeedReqDef {\n",
    "        subject eVehicle :>> eVehicle;\n",
    "        attribute :>> maxSpeedRequired = 140;\n",
    "        attribute :>> maxSpeedVehicle = eVehicle.maxSpeed;\n",
    "    }\n",
    "}"
   ]
  },
  {
   "cell_type": "code",
   "execution_count": 73,
   "metadata": {},
   "outputs": [
    {
     "data": {
      "image/svg+xml": [
       "<?xml version=\"1.0\" encoding=\"UTF-8\" standalone=\"no\"?><svg xmlns=\"http://www.w3.org/2000/svg\" xmlns:xlink=\"http://www.w3.org/1999/xlink\" contentScriptType=\"application/ecmascript\" contentStyleType=\"text/css\" height=\"191px\" preserveAspectRatio=\"none\" style=\"width:952px;height:191px;\" version=\"1.1\" viewBox=\"0 0 952 191\" width=\"952px\" zoomAndPan=\"magnify\"><defs/><g><!--MD5=[fbc87193dbaf4d95561dea2c320d4a47]\n",
       "cluster E1--><a href=\"psysml:301c4999-55fc-4a17-9a03-8cd305636b09\" target=\"_top\" title=\"psysml:301c4999-55fc-4a17-9a03-8cd305636b09\" xlink:actuate=\"onRequest\" xlink:href=\"psysml:301c4999-55fc-4a17-9a03-8cd305636b09\" xlink:show=\"new\" xlink:title=\"psysml:301c4999-55fc-4a17-9a03-8cd305636b09\" xlink:type=\"simple\"><polygon fill=\"#FFFFFF\" points=\"16,6,182,6,189,29.6094,930,29.6094,930,179,16,179,16,6\" style=\"stroke: #000000; stroke-width: 1.5;\"/><line style=\"stroke: #000000; stroke-width: 1.5;\" x1=\"16\" x2=\"189\" y1=\"29.6094\" y2=\"29.6094\"/><text fill=\"#000000\" font-family=\"sans-serif\" font-size=\"14\" font-weight=\"bold\" lengthAdjust=\"spacingAndGlyphs\" textLength=\"160\" x=\"20\" y=\"22.5332\">eVehicleRequirements</text></a><!--MD5=[b4997ac47864f28c2f74865a473b2911]\n",
       "class E2--><a href=\"psysml:512eefe0-9062-476c-a972-f47b64bb7394\" target=\"_top\" title=\"psysml:512eefe0-9062-476c-a972-f47b64bb7394\" xlink:actuate=\"onRequest\" xlink:href=\"psysml:512eefe0-9062-476c-a972-f47b64bb7394\" xlink:show=\"new\" xlink:title=\"psysml:512eefe0-9062-476c-a972-f47b64bb7394\" xlink:type=\"simple\"><rect fill=\"#FFFFFF\" height=\"115.5313\" id=\"E2\" rx=\"10\" ry=\"10\" style=\"stroke: #383838; stroke-width: 1.5;\" width=\"213\" x=\"700.5\" y=\"44.5\"/><text fill=\"#000000\" font-family=\"sans-serif\" font-size=\"12\" font-style=\"italic\" lengthAdjust=\"spacingAndGlyphs\" textLength=\"81\" x=\"766.5\" y=\"61.957\">«requirement»</text><text fill=\"#000000\" font-family=\"sans-serif\" font-size=\"12\" lengthAdjust=\"spacingAndGlyphs\" textLength=\"117\" x=\"748.5\" y=\"77.0508\">eVehicleSpecification</text><line style=\"stroke: #383838; stroke-width: 1.5;\" x1=\"701.5\" x2=\"912.5\" y1=\"84.6875\" y2=\"84.6875\"/><text fill=\"#000000\" font-family=\"sans-serif\" font-size=\"11\" lengthAdjust=\"spacingAndGlyphs\" textLength=\"201\" x=\"706.5\" y=\"100.1064\">Requirement Specification of the eVehicle</text><line style=\"stroke: #383838; stroke-width: 1.0;\" x1=\"701.5\" x2=\"912.5\" y1=\"106.5234\" y2=\"106.5234\"/><text fill=\"#000000\" font-family=\"sans-serif\" font-size=\"11\" font-weight=\"bold\" lengthAdjust=\"spacingAndGlyphs\" textLength=\"41\" x=\"706.5\" y=\"139.7783\">require</text><text fill=\"#000000\" font-family=\"sans-serif\" font-size=\"11\" lengthAdjust=\"spacingAndGlyphs\" textLength=\"119\" x=\"750.5\" y=\"139.7783\">eVehicleBatteryCapacity</text><text fill=\"#000000\" font-family=\"sans-serif\" font-size=\"11\" font-weight=\"bold\" lengthAdjust=\"spacingAndGlyphs\" textLength=\"41\" x=\"706.5\" y=\"153.6143\">require</text><text fill=\"#000000\" font-family=\"sans-serif\" font-size=\"11\" lengthAdjust=\"spacingAndGlyphs\" textLength=\"93\" x=\"750.5\" y=\"153.6143\">eVehicleMaxSpeed</text><line style=\"stroke: #383838; stroke-width: 1.0;\" x1=\"701.5\" x2=\"780\" y1=\"121.4414\" y2=\"121.4414\"/><text fill=\"#000000\" font-family=\"sans-serif\" font-size=\"11\" lengthAdjust=\"spacingAndGlyphs\" textLength=\"54\" x=\"780\" y=\"125.4424\">constraints</text><line style=\"stroke: #383838; stroke-width: 1.0;\" x1=\"834\" x2=\"912.5\" y1=\"121.4414\" y2=\"121.4414\"/></a><!--MD5=[270fce915f116d4de14055a7c1d9a0f3]\n",
       "class E5--><a href=\"psysml:3bbd64c3-c85e-44bd-ac58-62b74f443d55\" target=\"_top\" title=\"psysml:3bbd64c3-c85e-44bd-ac58-62b74f443d55\" xlink:actuate=\"onRequest\" xlink:href=\"psysml:3bbd64c3-c85e-44bd-ac58-62b74f443d55\" xlink:show=\"new\" xlink:title=\"psysml:3bbd64c3-c85e-44bd-ac58-62b74f443d55\" xlink:type=\"simple\"><rect fill=\"#FFFFFF\" height=\"121.3672\" id=\"E5\" rx=\"10\" ry=\"10\" style=\"stroke: #383838; stroke-width: 1.5;\" width=\"326\" x=\"339\" y=\"42\"/><text fill=\"#000000\" font-family=\"sans-serif\" font-size=\"12\" font-style=\"italic\" lengthAdjust=\"spacingAndGlyphs\" textLength=\"81\" x=\"461.5\" y=\"59.457\">«requirement»</text><text fill=\"#000000\" font-family=\"sans-serif\" font-size=\"12\" lengthAdjust=\"spacingAndGlyphs\" textLength=\"3\" x=\"345\" y=\"74.5508\">[</text><text fill=\"#000000\" font-family=\"sans-serif\" font-size=\"12\" font-weight=\"bold\" lengthAdjust=\"spacingAndGlyphs\" textLength=\"45\" x=\"348\" y=\"74.5508\">REQ.B.1</text><text fill=\"#000000\" font-family=\"sans-serif\" font-size=\"12\" lengthAdjust=\"spacingAndGlyphs\" textLength=\"269\" x=\"393\" y=\"74.5508\">] eVehicleBatteryCapacity: BatteryCapacityReqDef</text><line style=\"stroke: #383838; stroke-width: 1.5;\" x1=\"340\" x2=\"664\" y1=\"82.1875\" y2=\"82.1875\"/><text fill=\"#000000\" font-family=\"sans-serif\" font-size=\"11\" lengthAdjust=\"spacingAndGlyphs\" textLength=\"105\" x=\"345\" y=\"115.4424\">capacityRequired=50;</text><text fill=\"#000000\" font-family=\"sans-serif\" font-size=\"11\" font-style=\"italic\" lengthAdjust=\"spacingAndGlyphs\" textLength=\"221\" x=\"345\" y=\"129.2783\">:&gt;&gt;BatteryCapacityReqDef::capacityRequired</text><text fill=\"#000000\" font-family=\"sans-serif\" font-size=\"11\" lengthAdjust=\"spacingAndGlyphs\" textLength=\"210\" x=\"345\" y=\"143.1143\">capacityActual=eVehicle::battery::capacity;</text><text fill=\"#000000\" font-family=\"sans-serif\" font-size=\"11\" font-style=\"italic\" lengthAdjust=\"spacingAndGlyphs\" textLength=\"207\" x=\"345\" y=\"156.9502\">:&gt;&gt;BatteryCapacityReqDef::capacityActual</text><line style=\"stroke: #383838; stroke-width: 1.0;\" x1=\"340\" x2=\"479.5\" y1=\"97.1055\" y2=\"97.1055\"/><text fill=\"#000000\" font-family=\"sans-serif\" font-size=\"11\" lengthAdjust=\"spacingAndGlyphs\" textLength=\"45\" x=\"479.5\" y=\"101.1064\">attributes</text><line style=\"stroke: #383838; stroke-width: 1.0;\" x1=\"524.5\" x2=\"664\" y1=\"97.1055\" y2=\"97.1055\"/></a><!--MD5=[60a26617385b1d2d0262a64233df1f8d]\n",
       "class E6--><a href=\"psysml:dfdeb5fb-9c6b-4d89-9faf-b355d2dd415f\" target=\"_top\" title=\"psysml:dfdeb5fb-9c6b-4d89-9faf-b355d2dd415f\" xlink:actuate=\"onRequest\" xlink:href=\"psysml:dfdeb5fb-9c6b-4d89-9faf-b355d2dd415f\" xlink:show=\"new\" xlink:title=\"psysml:dfdeb5fb-9c6b-4d89-9faf-b355d2dd415f\" xlink:type=\"simple\"><rect fill=\"#FFFFFF\" height=\"121.3672\" id=\"E6\" rx=\"10\" ry=\"10\" style=\"stroke: #383838; stroke-width: 1.5;\" width=\"272\" x=\"32\" y=\"42\"/><text fill=\"#000000\" font-family=\"sans-serif\" font-size=\"12\" font-style=\"italic\" lengthAdjust=\"spacingAndGlyphs\" textLength=\"81\" x=\"127.5\" y=\"59.457\">«requirement»</text><text fill=\"#000000\" font-family=\"sans-serif\" font-size=\"12\" lengthAdjust=\"spacingAndGlyphs\" textLength=\"3\" x=\"38\" y=\"74.5508\">[</text><text fill=\"#000000\" font-family=\"sans-serif\" font-size=\"12\" font-weight=\"bold\" lengthAdjust=\"spacingAndGlyphs\" textLength=\"45\" x=\"41\" y=\"74.5508\">REQ.V.1</text><text fill=\"#000000\" font-family=\"sans-serif\" font-size=\"12\" lengthAdjust=\"spacingAndGlyphs\" textLength=\"215\" x=\"86\" y=\"74.5508\">] eVehicleMaxSpeed: MaxSpeedReqDef</text><line style=\"stroke: #383838; stroke-width: 1.5;\" x1=\"33\" x2=\"303\" y1=\"82.1875\" y2=\"82.1875\"/><text fill=\"#000000\" font-family=\"sans-serif\" font-size=\"11\" lengthAdjust=\"spacingAndGlyphs\" textLength=\"121\" x=\"38\" y=\"115.4424\">maxSpeedRequired=140;</text><text fill=\"#000000\" font-family=\"sans-serif\" font-size=\"11\" font-style=\"italic\" lengthAdjust=\"spacingAndGlyphs\" textLength=\"207\" x=\"38\" y=\"129.2783\">:&gt;&gt;MaxSpeedReqDef::maxSpeedRequired</text><text fill=\"#000000\" font-family=\"sans-serif\" font-size=\"11\" lengthAdjust=\"spacingAndGlyphs\" textLength=\"195\" x=\"38\" y=\"143.1143\">maxSpeedVehicle=eVehicle::maxSpeed;</text><text fill=\"#000000\" font-family=\"sans-serif\" font-size=\"11\" font-style=\"italic\" lengthAdjust=\"spacingAndGlyphs\" textLength=\"199\" x=\"38\" y=\"156.9502\">:&gt;&gt;MaxSpeedReqDef::maxSpeedVehicle</text><line style=\"stroke: #383838; stroke-width: 1.0;\" x1=\"33\" x2=\"145.5\" y1=\"97.1055\" y2=\"97.1055\"/><text fill=\"#000000\" font-family=\"sans-serif\" font-size=\"11\" lengthAdjust=\"spacingAndGlyphs\" textLength=\"45\" x=\"145.5\" y=\"101.1064\">attributes</text><line style=\"stroke: #383838; stroke-width: 1.0;\" x1=\"190.5\" x2=\"303\" y1=\"97.1055\" y2=\"97.1055\"/></a><!--MD5=[ebb525f9710d09cceb9cf5d8b13d4c0e]\n",
       "@startuml\r\n",
       "skinparam monochrome true\r\n",
       "skinparam classbackgroundcolor white\r\n",
       "skinparam shadowing false\r\n",
       "skinparam wrapWidth 300\r\n",
       "hide circle\r\n",
       "\r\n",
       "package \"eVehicleRequirements\" as E1  [[psysml:301c4999-55fc-4a17-9a03-8cd305636b09 ]]  {\r\n",
       "comp usage \"eVehicleSpecification\" as E2  <<(T,blue)requirement>> [[psysml:512eefe0-9062-476c-a972-f47b64bb7394 ]] {\r\n",
       "Requirement Specification of the eVehicle\r\n",
       "- -\r\n",
       "- - constraints - -\r\n",
       "<b>require</b> eVehicleBatteryCapacity\r\n",
       "<b>require</b> eVehicleMaxSpeed\r\n",
       "}\r\n",
       "comp usage \" [<b>REQ.B.1</b>] eVehicleBatteryCapacity: BatteryCapacityReqDef\" as E5  <<(T,blue)requirement>> [[psysml:3bbd64c3-c85e-44bd-ac58-62b74f443d55 ]] {\r\n",
       "- - attributes - -\r\n",
       "capacityRequired=50; \\n//:>>BatteryCapacityReqDef::capacityRequired// \r\n",
       "capacityActual=eVehicle::battery::capacity; \\n//:>>BatteryCapacityReqDef::capacityActual// \r\n",
       "}\r\n",
       "comp usage \" [<b>REQ.V.1</b>] eVehicleMaxSpeed: MaxSpeedReqDef\" as E6  <<(T,blue)requirement>> [[psysml:dfdeb5fb-9c6b-4d89-9faf-b355d2dd415f ]] {\r\n",
       "- - attributes - -\r\n",
       "maxSpeedRequired=140; \\n//:>>MaxSpeedReqDef::maxSpeedRequired// \r\n",
       "maxSpeedVehicle=eVehicle::maxSpeed; \\n//:>>MaxSpeedReqDef::maxSpeedVehicle// \r\n",
       "}\r\n",
       "}\r\n",
       "@enduml\r\n",
       "\n",
       "PlantUML version 1.2020.13(Sat Jun 13 14:26:38 CEST 2020)\n",
       "(EPL source distribution)\n",
       "Java Runtime: OpenJDK Runtime Environment\n",
       "JVM: OpenJDK 64-Bit Server VM\n",
       "Default Encoding: Cp1252\n",
       "Language: en\n",
       "Country: US\n",
       "--></g></svg>"
      ]
     },
     "execution_count": 73,
     "metadata": {},
     "output_type": "execute_result"
    }
   ],
   "source": [
    "%viz eVehicleRequirements"
   ]
  },
  {
   "cell_type": "markdown",
   "metadata": {},
   "source": [
    "Finally, we model that the eVehicle satisfies the requirement."
   ]
  },
  {
   "cell_type": "code",
   "execution_count": 52,
   "metadata": {},
   "outputs": [
    {
     "data": {
      "text/plain": [
       "Package eVehicle_LogicalArchitecture (7b175f1c-f510-45ca-a44d-c7dba8a5ed02)\n"
      ]
     },
     "execution_count": 52,
     "metadata": {},
     "output_type": "execute_result"
    }
   ],
   "source": [
    "package eVehicle_LogicalArchitecture {\n",
    "    \n",
    "    import eVehicleLibrary::*;\n",
    "    import eVehicleRequirements::*;\n",
    "\n",
    "    \n",
    "    \n",
    "    attribute def WheelSize {\n",
    "        import ScalarValues::Integer;\n",
    "        size : Integer;\n",
    "    }\n",
    "    \n",
    "    part def Wheel {\n",
    "        constraint pressureConstraint : WheelPressureConstraint (\n",
    "            currentPressure = currentPressure,\n",
    "            limitPressure = maxPressure);\n",
    "        attribute sizeOfWheel : WheelSize;\n",
    "        attribute currentPressure : ScalarValues::Real;\n",
    "        attribute maxPressure : ScalarValues::Real;\n",
    "    }\n",
    "    \n",
    "    part def FrontWheel :> Wheel {\n",
    "        attribute redefines maxPressure = 2.0;\n",
    "    }\n",
    "    part def RearWheel :> Wheel {\n",
    "        attribute redefines maxPressure = 2.5;\n",
    "    }\n",
    "    \n",
    "    constraint def WheelPressureConstraint (\n",
    "        currentPressure : ScalarValues::Real,\n",
    "        limitPressure : ScalarValues::Real) {\n",
    "            currentPressure <= limitPressure\n",
    "    }\n",
    "    \n",
    "    part eVehicleContext {\n",
    "    \n",
    "       part eVehicle {    \n",
    "          attribute maxSpeed :Speed = 142;\n",
    "          part body;\n",
    "          part battery : Battery {\n",
    "              attribute redefines capacity = 42;\n",
    "              port powerOut : PowerOutPort;\n",
    "          }\n",
    "          part engine : Engine {\n",
    "              port powerIn : ~PowerOutPort;\n",
    "          }\n",
    "          part frontAxis;\n",
    "          part rearAxis;\n",
    "          part frontWheel : Wheel[2];\n",
    "          part rearWheel : Wheel[2];\n",
    "        \n",
    "          interface : PowerInterface connect \n",
    "            supplierPort :> battery.powerOut to \n",
    "            consumerPort :> engine.powerIn;\n",
    "          connect engine to frontAxis;\n",
    "          connect frontAxis to frontWheel;\n",
    "          connect rearAxis to rearWheel;\n",
    "          connect body to battery;\n",
    "          connect body to engine;\n",
    "          connect body to frontAxis;\n",
    "          connect body to rearAxis;\n",
    "      }\n",
    "      satisfy eVehicleSpecification by eVehicle;\n",
    "    }\n",
    "}"
   ]
  }
 ],
 "metadata": {
  "kernelspec": {
   "display_name": "SysML",
   "language": "sysml",
   "name": "sysml"
  },
  "language_info": {
   "codemirror_mode": "sysml",
   "file_extension": ".sysml",
   "mimetype": "text/x-sysml",
   "name": "SysML",
   "pygments_lexer": "java",
   "version": "1.0.0"
  }
 },
 "nbformat": 4,
 "nbformat_minor": 4
}
