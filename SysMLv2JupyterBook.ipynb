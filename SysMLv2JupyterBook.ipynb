{
 "cells": [
  {
   "cell_type": "markdown",
   "metadata": {},
   "source": [
    "# SysML v2 JupyterBook\n",
    "\n",
    "*Last update: January 16th, 2023*\n",
    "\n",
    "This Jupyter Notebook is an exploration of SysML v2 from the user perspective. It shows some SysML v2 basics, but mainly focuses on the special features compared to SysML v1 and how they can be used. For a detailed introduction to the textual syntax of SysML v2, I recommend the following PDF: [Introduction to the SysML v2 Language Textual Notation](https://github.com/Systems-Modeling/SysML-v2-Release/blob/master/doc/Intro%20to%20the%20SysML%20v2%20Language.pdf).\n",
    "\n",
    "**Please note: This is work in progress. You will see sketchy stuff. If you have any comments, contact me: [tim@mbse4u.com](mailto:tim@mbse4u.com).**\n",
    "\n",
    "## Table of Contents\n",
    "\n",
    "* [Introduction](#sysmlv2modintroduction)\n",
    "* [Graphical and Textual Notation of SysML v2](#sysmlv2modnotation)\n",
    "* [Example and first steps](#sysmlv2modexample)\n",
    "* [Parts and PartDefinitions](#sysmlv2modparts)\n",
    "* [Specialization and Subsetting](#sysmlv2modspecialization)\n",
    "* [Putting the parts together](#sysmlv2modconnect)\n",
    "* [Modeling Interfaces](#sysmlv2modinterfaces)\n",
    "* [Modeling Activities](#sysmlv2usecasesactivities)\n",
    "* [Connection item flows with parameters](#sysmlv2itempara)\n",
    "* [Modeling variants](#sysmlv2modvariants)\n",
    "* [Modeling requirements](#sysmlv2modrequirements)\n"
   ]
  },
  {
   "cell_type": "markdown",
   "metadata": {},
   "source": [
    "## Introduction<a name=\"sysmlv2modintroduction\"></a>\n",
    "\n",
    "This section provides \n",
    "\n",
    "* a brief introduction of the modeling with SysML v2,\n",
    "* with a special focus on what is different compared to SysML v1.\n",
    "\n",
    "The target audience for this Jupyter notebook is SysML v1 modelers. The basic concepts like \"What is a Use Case?\" or \"What is a Part Decomposition?\" are not explained.\n",
    "\n",
    "It is not (yet) a complete SysML v2 tutorial. It uses the SysML v2 pilot implementation which is not intended as full modeling tool for industrial application. "
   ]
  },
  {
   "cell_type": "markdown",
   "metadata": {},
   "source": [
    "## Graphical and Textual Notation of SysML v2<a name=\"sysmlv2modnotation\"></a>\n",
    "\n",
    "SysML v1 is primarily known for its diagrams. Although they are only the visualization of the model information and the real treasure of a real SysML model is the model data behind the diagrams.\n",
    "\n",
    "SysML v2 also provides graphical visualizations and additionally a textual notation. Both are equivalent notations and tools can provide editors for both.\n",
    "\n",
    "The SysML v2 pilot implementation has so far only a textual editor and generates the graphical notation. Therefore, some have been under the impression that SysML v2 is primarily textual. This is not the case. Those who wish can use SysML v2 as they would SysML v1 and edit the model using graphical editors only."
   ]
  },
  {
   "cell_type": "markdown",
   "metadata": {},
   "source": [
    "## Example and first steps<a name=\"sysmlv2modexample\"></a>\n",
    "\n",
    "The simple example system is the following electrical vehicle:\n",
    "\n",
    "![Electrical HSUV](lego-evehicle.jpg)\n",
    "\n",
    "Let's start with a logical architecture of the vehicle. A first major difference compared to SysML is that there is a textual syntax for SysML v2.\n",
    "The following cell shows the textual SysML v2 syntax of the logical architecture. The package statement defines the namespace of the architecture. The eVehicle architecture itself is a simple set of parts."
   ]
  },
  {
   "cell_type": "code",
   "execution_count": 1,
   "metadata": {},
   "outputs": [
    {
     "data": {
      "text/plain": [
       "Package eVehicle_LogicalArchitecture (f9808614-4ed8-43aa-ba5f-d0c1e29f889a)\n"
      ]
     },
     "execution_count": 1,
     "metadata": {},
     "output_type": "execute_result"
    }
   ],
   "source": [
    "package eVehicle_LogicalArchitecture {\n",
    "    part eVehicle {    \n",
    "        part body;\n",
    "        part battery;\n",
    "        part engine;\n",
    "        part frontAxis;\n",
    "        part rearAxis;\n",
    "        part frontWheel[2];\n",
    "        part rearWheel[2];\n",
    "    }\n",
    "}"
   ]
  },
  {
   "cell_type": "markdown",
   "metadata": {},
   "source": [
    "Run the cell above to create the real model. The text above is only the textual syntax of SysML v2. The show command provides a deep insight into the model structure:"
   ]
  },
  {
   "cell_type": "code",
   "execution_count": 2,
   "metadata": {},
   "outputs": [
    {
     "data": {
      "text/plain": [
       "Package eVehicle_LogicalArchitecture (f9808614-4ed8-43aa-ba5f-d0c1e29f889a)\n",
       "  [OwningMembership] PartUsage eVehicle (e1670723-e47d-435b-a7b8-9b38de0dc0ff)\n",
       "    [Subsetting (implicit)] PartUsage parts (0c6a9942-4bb9-58da-8344-57ecd220d4de)\n",
       "    [FeatureMembership] PartUsage body (099c437f-924f-49a8-a79d-e89ac6637b60)\n",
       "      [Subsetting (implicit)] PartUsage subparts (a44baa93-a4d0-535d-b879-44a30575f348)\n",
       "      [OwningMembership] Multiplicity (ce1651ce-02d4-46a1-be4c-592f1f34eb62)\n",
       "        [Subsetting (implicit)] MultiplicityRange exactlyOne (64e18b84-0e05-5c95-a003-c0f60a269893)\n",
       "    [FeatureMembership] PartUsage battery (085c0bbd-1f51-4587-8b4c-d0cb93048df5)\n",
       "      [Subsetting (implicit)] PartUsage subparts (a44baa93-a4d0-535d-b879-44a30575f348)\n",
       "      [OwningMembership] Multiplicity (e1e0505f-fc91-427a-b705-d8295913050a)\n",
       "        [Subsetting (implicit)] MultiplicityRange exactlyOne (64e18b84-0e05-5c95-a003-c0f60a269893)\n",
       "    [FeatureMembership] PartUsage engine (91d3fbe6-d847-4301-8aa1-6d54c288f8b7)\n",
       "      [Subsetting (implicit)] PartUsage subparts (a44baa93-a4d0-535d-b879-44a30575f348)\n",
       "      [OwningMembership] Multiplicity (4318cbd9-d38c-4e5e-bfa9-86db1337c660)\n",
       "        [Subsetting (implicit)] MultiplicityRange exactlyOne (64e18b84-0e05-5c95-a003-c0f60a269893)\n",
       "    [FeatureMembership] PartUsage frontAxis (eeaa79bb-5fc5-499b-bc4e-754ef4bd727e)\n",
       "      [Subsetting (implicit)] PartUsage subparts (a44baa93-a4d0-535d-b879-44a30575f348)\n",
       "      [OwningMembership] Multiplicity (3f142f8a-7869-4380-8d1f-83258bcf4351)\n",
       "        [Subsetting (implicit)] MultiplicityRange exactlyOne (64e18b84-0e05-5c95-a003-c0f60a269893)\n",
       "    [FeatureMembership] PartUsage rearAxis (8194112b-1f25-443e-bd85-38904b3ffd21)\n",
       "      [Subsetting (implicit)] PartUsage subparts (a44baa93-a4d0-535d-b879-44a30575f348)\n",
       "      [OwningMembership] Multiplicity (51e49aeb-9f30-4915-b1fb-522b49ca16c1)\n",
       "        [Subsetting (implicit)] MultiplicityRange exactlyOne (64e18b84-0e05-5c95-a003-c0f60a269893)\n",
       "    [FeatureMembership] PartUsage frontWheel (dce6c013-8190-4569-ba93-e5de14c78c01)\n",
       "      [Subsetting (implicit)] PartUsage subparts (a44baa93-a4d0-535d-b879-44a30575f348)\n",
       "      [OwningMembership] MultiplicityRange (9fd1df37-fd9d-4a04-a364-9e37a615f743)\n",
       "        [Subsetting (implicit)] Feature naturals (7f46a88a-4eb2-501d-ad8b-9eefbb9b38e9)\n",
       "        [OwningMembership] LiteralInteger 2 (5dd76d5f-41d4-4ff7-a530-c5ec655034cd)\n",
       "          [ReturnParameterMembership] Feature result (ba79bbef-04b8-43c8-8d6b-d537eb3241d0)\n",
       "    [FeatureMembership] PartUsage rearWheel (91a120f9-cd3f-451a-9566-afb410b9b657)\n",
       "      [Subsetting (implicit)] PartUsage subparts (a44baa93-a4d0-535d-b879-44a30575f348)\n",
       "      [OwningMembership] MultiplicityRange (25e02a22-67c6-4ad8-bb71-2915f6bae20e)\n",
       "        [Subsetting (implicit)] Feature naturals (7f46a88a-4eb2-501d-ad8b-9eefbb9b38e9)\n",
       "        [OwningMembership] LiteralInteger 2 (502b3edf-803d-4bde-8c03-fc3afdd69eee)\n",
       "          [ReturnParameterMembership] Feature result (cc9ce0c0-2e3d-4eae-8f76-1e898b69203f)\n"
      ]
     },
     "execution_count": 2,
     "metadata": {},
     "output_type": "execute_result"
    }
   ],
   "source": [
    "%show eVehicle_LogicalArchitecture"
   ]
  },
  {
   "cell_type": "markdown",
   "metadata": {},
   "source": [
    "More convenient for the common model user, of course, is the graphical notation presented after the execution of the following cell:"
   ]
  },
  {
   "cell_type": "code",
   "execution_count": 3,
   "metadata": {},
   "outputs": [
    {
     "data": {
      "image/svg+xml": [
       "<?xml version=\"1.0\" encoding=\"UTF-8\" standalone=\"no\"?><svg xmlns=\"http://www.w3.org/2000/svg\" xmlns:xlink=\"http://www.w3.org/1999/xlink\" contentStyleType=\"text/css\" height=\"220px\" preserveAspectRatio=\"none\" style=\"width:801px;height:220px;background:#FFFFFF;\" version=\"1.1\" viewBox=\"0 0 801 220\" width=\"801px\" zoomAndPan=\"magnify\"><defs/><g><!--MD5=[fbc87193dbaf4d95561dea2c320d4a47]\n",
       "cluster E1--><g id=\"cluster_E1\"><a href=\"psysml:f9808614-4ed8-43aa-ba5f-d0c1e29f889a\" target=\"_top\" title=\"psysml:f9808614-4ed8-43aa-ba5f-d0c1e29f889a\" xlink:actuate=\"onRequest\" xlink:href=\"psysml:f9808614-4ed8-43aa-ba5f-d0c1e29f889a\" xlink:show=\"new\" xlink:title=\"psysml:f9808614-4ed8-43aa-ba5f-d0c1e29f889a\" xlink:type=\"simple\"><polygon fill=\"none\" points=\"16,6,231.25,6,238.25,28.2969,784,28.2969,784,213,16,213,16,6\" style=\"stroke:#000000;stroke-width:1.5;\"/><line style=\"stroke:#000000;stroke-width:1.5;\" x1=\"16\" x2=\"238.25\" y1=\"28.2969\" y2=\"28.2969\"/><text fill=\"#000000\" font-family=\"sans-serif\" font-size=\"14\" font-weight=\"bold\" lengthAdjust=\"spacing\" textLength=\"209.25\" x=\"20\" y=\"20.9951\">eVehicle_LogicalArchitecture</text></a></g><!--MD5=[b4997ac47864f28c2f74865a473b2911]\n",
       "class E2--><a href=\"psysml:e1670723-e47d-435b-a7b8-9b38de0dc0ff\" target=\"_top\" title=\"psysml:e1670723-e47d-435b-a7b8-9b38de0dc0ff\" xlink:actuate=\"onRequest\" xlink:href=\"psysml:e1670723-e47d-435b-a7b8-9b38de0dc0ff\" xlink:show=\"new\" xlink:title=\"psysml:e1670723-e47d-435b-a7b8-9b38de0dc0ff\" xlink:type=\"simple\"><g id=\"elem_E2\"><rect fill=\"#FFFFFF\" height=\"48.2656\" id=\"E2\" rx=\"10\" ry=\"10\" style=\"stroke:#181818;stroke-width:0.5;\" width=\"73\" x=\"309.5\" y=\"41\"/><text fill=\"#000000\" font-family=\"sans-serif\" font-size=\"12\" font-style=\"italic\" lengthAdjust=\"spacing\" textLength=\"40\" x=\"326\" y=\"57.1387\">«part»</text><text fill=\"#000000\" font-family=\"sans-serif\" font-size=\"14\" lengthAdjust=\"spacing\" textLength=\"59\" x=\"312.5\" y=\"72.9639\">eVehicle</text><line style=\"stroke:#181818;stroke-width:0.5;\" x1=\"310.5\" x2=\"381.5\" y1=\"81.2656\" y2=\"81.2656\"/></g></a><!--MD5=[09b614a08d8cba4a07c9adeb5e0fee81]\n",
       "class E3--><a href=\"psysml:099c437f-924f-49a8-a79d-e89ac6637b60\" target=\"_top\" title=\"psysml:099c437f-924f-49a8-a79d-e89ac6637b60\" xlink:actuate=\"onRequest\" xlink:href=\"psysml:099c437f-924f-49a8-a79d-e89ac6637b60\" xlink:show=\"new\" xlink:title=\"psysml:099c437f-924f-49a8-a79d-e89ac6637b60\" xlink:type=\"simple\"><g id=\"elem_E3\"><rect fill=\"#FFFFFF\" height=\"48.2656\" id=\"E3\" rx=\"10\" ry=\"10\" style=\"stroke:#181818;stroke-width:0.5;\" width=\"48\" x=\"32\" y=\"149\"/><text fill=\"#000000\" font-family=\"sans-serif\" font-size=\"12\" font-style=\"italic\" lengthAdjust=\"spacing\" textLength=\"40\" x=\"36\" y=\"165.1387\">«part»</text><text fill=\"#000000\" font-family=\"sans-serif\" font-size=\"14\" lengthAdjust=\"spacing\" textLength=\"34\" x=\"35\" y=\"180.9639\">body</text><line style=\"stroke:#181818;stroke-width:0.5;\" x1=\"33\" x2=\"79\" y1=\"189.2656\" y2=\"189.2656\"/></g></a><!--MD5=[ebbe1d658d1005bcc118a6aa81145e00]\n",
       "class E4--><a href=\"psysml:085c0bbd-1f51-4587-8b4c-d0cb93048df5\" target=\"_top\" title=\"psysml:085c0bbd-1f51-4587-8b4c-d0cb93048df5\" xlink:actuate=\"onRequest\" xlink:href=\"psysml:085c0bbd-1f51-4587-8b4c-d0cb93048df5\" xlink:show=\"new\" xlink:title=\"psysml:085c0bbd-1f51-4587-8b4c-d0cb93048df5\" xlink:type=\"simple\"><g id=\"elem_E4\"><rect fill=\"#FFFFFF\" height=\"48.2656\" id=\"E4\" rx=\"10\" ry=\"10\" style=\"stroke:#181818;stroke-width:0.5;\" width=\"62\" x=\"115\" y=\"149\"/><text fill=\"#000000\" font-family=\"sans-serif\" font-size=\"12\" font-style=\"italic\" lengthAdjust=\"spacing\" textLength=\"40\" x=\"126\" y=\"165.1387\">«part»</text><text fill=\"#000000\" font-family=\"sans-serif\" font-size=\"14\" lengthAdjust=\"spacing\" textLength=\"48\" x=\"118\" y=\"180.9639\">battery</text><line style=\"stroke:#181818;stroke-width:0.5;\" x1=\"116\" x2=\"176\" y1=\"189.2656\" y2=\"189.2656\"/></g></a><!--MD5=[270fce915f116d4de14055a7c1d9a0f3]\n",
       "class E5--><a href=\"psysml:91d3fbe6-d847-4301-8aa1-6d54c288f8b7\" target=\"_top\" title=\"psysml:91d3fbe6-d847-4301-8aa1-6d54c288f8b7\" xlink:actuate=\"onRequest\" xlink:href=\"psysml:91d3fbe6-d847-4301-8aa1-6d54c288f8b7\" xlink:show=\"new\" xlink:title=\"psysml:91d3fbe6-d847-4301-8aa1-6d54c288f8b7\" xlink:type=\"simple\"><g id=\"elem_E5\"><rect fill=\"#FFFFFF\" height=\"48.2656\" id=\"E5\" rx=\"10\" ry=\"10\" style=\"stroke:#181818;stroke-width:0.5;\" width=\"62\" x=\"212\" y=\"149\"/><text fill=\"#000000\" font-family=\"sans-serif\" font-size=\"12\" font-style=\"italic\" lengthAdjust=\"spacing\" textLength=\"40\" x=\"223\" y=\"165.1387\">«part»</text><text fill=\"#000000\" font-family=\"sans-serif\" font-size=\"14\" lengthAdjust=\"spacing\" textLength=\"48\" x=\"215\" y=\"180.9639\">engine</text><line style=\"stroke:#181818;stroke-width:0.5;\" x1=\"213\" x2=\"273\" y1=\"189.2656\" y2=\"189.2656\"/></g></a><!--MD5=[60a26617385b1d2d0262a64233df1f8d]\n",
       "class E6--><a href=\"psysml:eeaa79bb-5fc5-499b-bc4e-754ef4bd727e\" target=\"_top\" title=\"psysml:eeaa79bb-5fc5-499b-bc4e-754ef4bd727e\" xlink:actuate=\"onRequest\" xlink:href=\"psysml:eeaa79bb-5fc5-499b-bc4e-754ef4bd727e\" xlink:show=\"new\" xlink:title=\"psysml:eeaa79bb-5fc5-499b-bc4e-754ef4bd727e\" xlink:type=\"simple\"><g id=\"elem_E6\"><rect fill=\"#FFFFFF\" height=\"48.2656\" id=\"E6\" rx=\"10\" ry=\"10\" style=\"stroke:#181818;stroke-width:0.5;\" width=\"73\" x=\"309.5\" y=\"149\"/><text fill=\"#000000\" font-family=\"sans-serif\" font-size=\"12\" font-style=\"italic\" lengthAdjust=\"spacing\" textLength=\"40\" x=\"326\" y=\"165.1387\">«part»</text><text fill=\"#000000\" font-family=\"sans-serif\" font-size=\"14\" lengthAdjust=\"spacing\" textLength=\"59\" x=\"312.5\" y=\"180.9639\">frontAxis</text><line style=\"stroke:#181818;stroke-width:0.5;\" x1=\"310.5\" x2=\"381.5\" y1=\"189.2656\" y2=\"189.2656\"/></g></a><!--MD5=[2156ba9850f5573cc1fc38a6a4b2f02b]\n",
       "class E7--><a href=\"psysml:8194112b-1f25-443e-bd85-38904b3ffd21\" target=\"_top\" title=\"psysml:8194112b-1f25-443e-bd85-38904b3ffd21\" xlink:actuate=\"onRequest\" xlink:href=\"psysml:8194112b-1f25-443e-bd85-38904b3ffd21\" xlink:show=\"new\" xlink:title=\"psysml:8194112b-1f25-443e-bd85-38904b3ffd21\" xlink:type=\"simple\"><g id=\"elem_E7\"><rect fill=\"#FFFFFF\" height=\"48.2656\" id=\"E7\" rx=\"10\" ry=\"10\" style=\"stroke:#181818;stroke-width:0.5;\" width=\"68\" x=\"418\" y=\"149\"/><text fill=\"#000000\" font-family=\"sans-serif\" font-size=\"12\" font-style=\"italic\" lengthAdjust=\"spacing\" textLength=\"40\" x=\"432\" y=\"165.1387\">«part»</text><text fill=\"#000000\" font-family=\"sans-serif\" font-size=\"14\" lengthAdjust=\"spacing\" textLength=\"54\" x=\"421\" y=\"180.9639\">rearAxis</text><line style=\"stroke:#181818;stroke-width:0.5;\" x1=\"419\" x2=\"485\" y1=\"189.2656\" y2=\"189.2656\"/></g></a><!--MD5=[b9389687b975829384b498ac4b7476b2]\n",
       "class E8--><a href=\"psysml:dce6c013-8190-4569-ba93-e5de14c78c01\" target=\"_top\" title=\"psysml:dce6c013-8190-4569-ba93-e5de14c78c01\" xlink:actuate=\"onRequest\" xlink:href=\"psysml:dce6c013-8190-4569-ba93-e5de14c78c01\" xlink:show=\"new\" xlink:title=\"psysml:dce6c013-8190-4569-ba93-e5de14c78c01\" xlink:type=\"simple\"><g id=\"elem_E8\"><rect fill=\"#FFFFFF\" height=\"48.2656\" id=\"E8\" rx=\"10\" ry=\"10\" style=\"stroke:#181818;stroke-width:0.5;\" width=\"108\" x=\"521\" y=\"149\"/><text fill=\"#000000\" font-family=\"sans-serif\" font-size=\"12\" font-style=\"italic\" lengthAdjust=\"spacing\" textLength=\"40\" x=\"555\" y=\"165.1387\">«part»</text><text fill=\"#000000\" font-family=\"sans-serif\" font-size=\"14\" lengthAdjust=\"spacing\" textLength=\"94\" x=\"524\" y=\"180.9639\">frontWheel[2]</text><line style=\"stroke:#181818;stroke-width:0.5;\" x1=\"522\" x2=\"628\" y1=\"189.2656\" y2=\"189.2656\"/></g></a><!--MD5=[fd4143e9d270a159db93a4ea2a975926]\n",
       "class E9--><a href=\"psysml:91a120f9-cd3f-451a-9566-afb410b9b657\" target=\"_top\" title=\"psysml:91a120f9-cd3f-451a-9566-afb410b9b657\" xlink:actuate=\"onRequest\" xlink:href=\"psysml:91a120f9-cd3f-451a-9566-afb410b9b657\" xlink:show=\"new\" xlink:title=\"psysml:91a120f9-cd3f-451a-9566-afb410b9b657\" xlink:type=\"simple\"><g id=\"elem_E9\"><rect fill=\"#FFFFFF\" height=\"48.2656\" id=\"E9\" rx=\"10\" ry=\"10\" style=\"stroke:#181818;stroke-width:0.5;\" width=\"103\" x=\"664.5\" y=\"149\"/><text fill=\"#000000\" font-family=\"sans-serif\" font-size=\"12\" font-style=\"italic\" lengthAdjust=\"spacing\" textLength=\"40\" x=\"696\" y=\"165.1387\">«part»</text><text fill=\"#000000\" font-family=\"sans-serif\" font-size=\"14\" lengthAdjust=\"spacing\" textLength=\"89\" x=\"667.5\" y=\"180.9639\">rearWheel[2]</text><line style=\"stroke:#181818;stroke-width:0.5;\" x1=\"665.5\" x2=\"766.5\" y1=\"189.2656\" y2=\"189.2656\"/></g></a><!--MD5=[209b3feb70ccb6233bfe1053d122c12c]\n",
       "reverse link E2 to E3--><g id=\"link_E2_E3\"><a href=\"psysml:39a96cc7-9634-4601-a7e9-9784d0f6eef9\" target=\"_top\" title=\"psysml:39a96cc7-9634-4601-a7e9-9784d0f6eef9\" xlink:actuate=\"onRequest\" xlink:href=\"psysml:39a96cc7-9634-4601-a7e9-9784d0f6eef9\" xlink:show=\"new\" xlink:title=\"psysml:39a96cc7-9634-4601-a7e9-9784d0f6eef9\" xlink:type=\"simple\"><path d=\"M296.55,79.72 C245.79,94.45 164.98,119.73 98,149 C92.06,151.6 85.84,154.75 80.06,157.87 \" fill=\"none\" id=\"E2-backto-E3\" style=\"stroke:#181818;stroke-width:1.0;\"/><polygon fill=\"#181818\" points=\"309.09,76.11,302.2173,73.9267,297.5587,79.431,304.4314,81.6143,309.09,76.11\" style=\"stroke:#181818;stroke-width:1.0;\"/></a></g><!--MD5=[9618e71518536f8baf3342ff6fdab317]\n",
       "reverse link E2 to E4--><g id=\"link_E2_E4\"><a href=\"psysml:6235ad06-381a-4515-9f21-b33508c005a7\" target=\"_top\" title=\"psysml:6235ad06-381a-4515-9f21-b33508c005a7\" xlink:actuate=\"onRequest\" xlink:href=\"psysml:6235ad06-381a-4515-9f21-b33508c005a7\" xlink:show=\"new\" xlink:title=\"psysml:6235ad06-381a-4515-9f21-b33508c005a7\" xlink:type=\"simple\"><path d=\"M297.67,91.62 C260.22,111.46 209.44,138.38 177.2,155.47 \" fill=\"none\" id=\"E2-backto-E4\" style=\"stroke:#181818;stroke-width:1.0;\"/><polygon fill=\"#181818\" points=\"309.32,85.44,302.1455,84.7146,298.7165,91.0583,305.891,91.7837,309.32,85.44\" style=\"stroke:#181818;stroke-width:1.0;\"/></a></g><!--MD5=[4e1a83fab71cdb913c109063314ae896]\n",
       "reverse link E2 to E5--><g id=\"link_E2_E5\"><a href=\"psysml:24699984-0429-4a96-9c8e-390dd2cea592\" target=\"_top\" title=\"psysml:24699984-0429-4a96-9c8e-390dd2cea592\" xlink:actuate=\"onRequest\" xlink:href=\"psysml:24699984-0429-4a96-9c8e-390dd2cea592\" xlink:show=\"new\" xlink:title=\"psysml:24699984-0429-4a96-9c8e-390dd2cea592\" xlink:type=\"simple\"><path d=\"M314.3,98.63 C298.57,114.81 279.93,133.99 265.66,148.68 \" fill=\"none\" id=\"E2-backto-E5\" style=\"stroke:#181818;stroke-width:1.0;\"/><polygon fill=\"#181818\" points=\"323.65,89,316.5994,90.513,315.2843,97.6032,322.3349,96.0902,323.65,89\" style=\"stroke:#181818;stroke-width:1.0;\"/></a></g><!--MD5=[ce036f65110ae2351ccce5a81dc2e928]\n",
       "reverse link E2 to E6--><g id=\"link_E2_E6\"><a href=\"psysml:73fac0bd-0df6-4aa3-946d-685dd7accacf\" target=\"_top\" title=\"psysml:73fac0bd-0df6-4aa3-946d-685dd7accacf\" xlink:actuate=\"onRequest\" xlink:href=\"psysml:73fac0bd-0df6-4aa3-946d-685dd7accacf\" xlink:show=\"new\" xlink:title=\"psysml:73fac0bd-0df6-4aa3-946d-685dd7accacf\" xlink:type=\"simple\"><path d=\"M346,102.34 C346,117.68 346,135.1 346,148.68 \" fill=\"none\" id=\"E2-backto-E6\" style=\"stroke:#181818;stroke-width:1.0;\"/><polygon fill=\"#181818\" points=\"346,89,342,95,346,101,350,95,346,89\" style=\"stroke:#181818;stroke-width:1.0;\"/></a></g><!--MD5=[1c72b32696d764168c30777981ec3f66]\n",
       "reverse link E2 to E7--><g id=\"link_E2_E7\"><a href=\"psysml:d311af44-6970-44ae-b139-49155dc7b3bb\" target=\"_top\" title=\"psysml:d311af44-6970-44ae-b139-49155dc7b3bb\" xlink:actuate=\"onRequest\" xlink:href=\"psysml:d311af44-6970-44ae-b139-49155dc7b3bb\" xlink:show=\"new\" xlink:title=\"psysml:d311af44-6970-44ae-b139-49155dc7b3bb\" xlink:type=\"simple\"><path d=\"M378.63,98.63 C394.81,114.81 413.99,133.99 428.68,148.68 \" fill=\"none\" id=\"E2-backto-E7\" style=\"stroke:#181818;stroke-width:1.0;\"/><polygon fill=\"#181818\" points=\"369,89,370.4142,96.0711,377.4853,97.4853,376.0711,90.4142,369,89\" style=\"stroke:#181818;stroke-width:1.0;\"/></a></g><!--MD5=[65f962d72b3a6bed1ede4f3c867e43a4]\n",
       "reverse link E2 to E8--><g id=\"link_E2_E8\"><a href=\"psysml:2c7c7ef3-2cc1-49f3-8235-bedd85575fc2\" target=\"_top\" title=\"psysml:2c7c7ef3-2cc1-49f3-8235-bedd85575fc2\" xlink:actuate=\"onRequest\" xlink:href=\"psysml:2c7c7ef3-2cc1-49f3-8235-bedd85575fc2\" xlink:show=\"new\" xlink:title=\"psysml:2c7c7ef3-2cc1-49f3-8235-bedd85575fc2\" xlink:type=\"simple\"><path d=\"M394.43,88.42 C432.78,106.17 486.17,130.88 524.95,148.83 \" fill=\"none\" id=\"E2-backto-E8\" style=\"stroke:#181818;stroke-width:1.0;\"/><polygon fill=\"#181818\" points=\"382.54,82.91,386.3068,89.0591,393.4317,87.9471,389.6648,81.798,382.54,82.91\" style=\"stroke:#181818;stroke-width:1.0;\"/></a></g><!--MD5=[4a91eb351f2fb42055d99b719d3dd418]\n",
       "reverse link E2 to E9--><g id=\"link_E2_E9\"><a href=\"psysml:e89561ba-5d32-433d-bd6b-53213a55a30b\" target=\"_top\" title=\"psysml:e89561ba-5d32-433d-bd6b-53213a55a30b\" xlink:actuate=\"onRequest\" xlink:href=\"psysml:e89561ba-5d32-433d-bd6b-53213a55a30b\" xlink:show=\"new\" xlink:title=\"psysml:e89561ba-5d32-433d-bd6b-53213a55a30b\" xlink:type=\"simple\"><path d=\"M395.59,78.82 C455.44,94.48 559.01,122.22 647,149 C652.68,150.73 658.6,152.6 664.48,154.5 \" fill=\"none\" id=\"E2-backto-E9\" style=\"stroke:#181818;stroke-width:1.0;\"/><polygon fill=\"#181818\" points=\"382.78,75.47,387.575,80.8559,394.3908,78.5012,389.5958,73.1153,382.78,75.47\" style=\"stroke:#181818;stroke-width:1.0;\"/></a></g><!--MD5=[687e30520c1b5ca162cd31521640f4c2]\n",
       "@startuml\r\n",
       "skin sysmlbw\r\n",
       "skinparam monochrome true\r\n",
       "skinparam wrapWidth 300\r\n",
       "hide circle\r\n",
       "\r\n",
       "package \"eVehicle_LogicalArchitecture\" as E1  [[psysml:f9808614-4ed8-43aa-ba5f-d0c1e29f889a ]]  {\r\n",
       "comp usage \"eVehicle  \" as E2  <<(T,blue) part>> [[psysml:e1670723-e47d-435b-a7b8-9b38de0dc0ff ]] {\r\n",
       "}\r\n",
       "comp usage \"body  \" as E3  <<(T,blue) part>> [[psysml:099c437f-924f-49a8-a79d-e89ac6637b60 ]] {\r\n",
       "}\r\n",
       "comp usage \"battery  \" as E4  <<(T,blue) part>> [[psysml:085c0bbd-1f51-4587-8b4c-d0cb93048df5 ]] {\r\n",
       "}\r\n",
       "comp usage \"engine  \" as E5  <<(T,blue) part>> [[psysml:91d3fbe6-d847-4301-8aa1-6d54c288f8b7 ]] {\r\n",
       "}\r\n",
       "comp usage \"frontAxis  \" as E6  <<(T,blue) part>> [[psysml:eeaa79bb-5fc5-499b-bc4e-754ef4bd727e ]] {\r\n",
       "}\r\n",
       "comp usage \"rearAxis  \" as E7  <<(T,blue) part>> [[psysml:8194112b-1f25-443e-bd85-38904b3ffd21 ]] {\r\n",
       "}\r\n",
       "comp usage \"frontWheel[2]  \" as E8  <<(T,blue) part>> [[psysml:dce6c013-8190-4569-ba93-e5de14c78c01 ]] {\r\n",
       "}\r\n",
       "comp usage \"rearWheel[2]  \" as E9  <<(T,blue) part>> [[psysml:91a120f9-cd3f-451a-9566-afb410b9b657 ]] {\r\n",
       "}\r\n",
       "}\r\n",
       "E2 *- - E3 [[psysml:39a96cc7-9634-4601-a7e9-9784d0f6eef9 ]] \r\n",
       "E2 *- - E4 [[psysml:6235ad06-381a-4515-9f21-b33508c005a7 ]] \r\n",
       "E2 *- - E5 [[psysml:24699984-0429-4a96-9c8e-390dd2cea592 ]] \r\n",
       "E2 *- - E6 [[psysml:73fac0bd-0df6-4aa3-946d-685dd7accacf ]] \r\n",
       "E2 *- - E7 [[psysml:d311af44-6970-44ae-b139-49155dc7b3bb ]] \r\n",
       "E2 *- - E8 [[psysml:2c7c7ef3-2cc1-49f3-8235-bedd85575fc2 ]] \r\n",
       "E2 *- - E9 [[psysml:e89561ba-5d32-433d-bd6b-53213a55a30b ]] \r\n",
       "@enduml\r\n",
       "\n",
       "PlantUML version 1.2022.7(Mon Aug 22 17:01:30 UTC 2022)\n",
       "(EPL source distribution)\n",
       "Java Runtime: OpenJDK Runtime Environment\n",
       "JVM: OpenJDK 64-Bit Server VM\n",
       "Default Encoding: UTF-8\n",
       "Language: en\n",
       "Country: null\n",
       "--></g></svg>"
      ]
     },
     "execution_count": 3,
     "metadata": {},
     "output_type": "execute_result"
    }
   ],
   "source": [
    "%viz --view=tree eVehicle_LogicalArchitecture"
   ]
  },
  {
   "cell_type": "markdown",
   "metadata": {},
   "source": [
    "The diagram is only a view, and not an editor. A graphical editor is not provided in the pilot implementation. Future SysML v2 modeling tools will certainly offer graphical editors."
   ]
  },
  {
   "cell_type": "markdown",
   "metadata": {},
   "source": [
    "### Changes to SysML v1\n",
    "\n",
    "SysML v2 is a complete new language with a different foundation than SysML v1. Therefore, there are plenty of differences. Here, I highlight only the changes that are most relevant to the modeler.\n",
    "\n",
    "If I had modeled the eVehicle in SysML v1, I would have had to first define blocks and then part properties whose types are the blocks.\n",
    "\n",
    "![eVehicle in SysML v1](evehicle-logical-architecture-sysmlv1.jpg)\n",
    "\n",
    "Did you notice it in my simple SysML v2 example above? There are no blocks there, only parts. To put it simply, this would be like modeling part properties in SysML v1 without blocks. Basically, it works that in SysML v1 you define a part without a block. But what is not possible in SysML v1 is that the parts themselves define substructures.\n",
    "\n",
    "However, the parts of the eVehicle also have a type. Above in the output of the %show command you can see \"[Subsetting (implicit)] PartUsage subparts\". \"subparts\" is a special part from the SysML v2 library. This implicit connection is set in the background. By subsetting \"subparts\", the parts of the eVehicle get a generic type \"Part\" from the SysML v2 library."
   ]
  },
  {
   "cell_type": "markdown",
   "metadata": {},
   "source": [
    "## Parts and PartDefinitions<a name=\"sysmlv2modparts\"></a>\n",
    "\n",
    "Modeling a decomposition is a typical capability that an MBSE modeling language must have. The simple example of the eVehicle uses the part decomposition.. For example, there is also the decomposition of functions.\n",
    "\n",
    "In SysML v2, you can define parts without types, but with substructures, for example, attributes. The following model extends the example and adds a property to the wheel to specify the size. The type of the attribute is Integer. Units are skipped for now. "
   ]
  },
  {
   "cell_type": "code",
   "execution_count": 4,
   "metadata": {},
   "outputs": [
    {
     "name": "stdout",
     "output_type": "stream",
     "text": [
      "WARNING:Default public import is deprecated; make private if possible (4.sysml line : 3 column : 5)\n"
     ]
    },
    {
     "data": {
      "text/plain": [
       "Package eVehicle_LogicalArchitecture (582d548b-d396-4ae2-9f90-2bbb1c9c13e7)\n"
      ]
     },
     "execution_count": 4,
     "metadata": {},
     "output_type": "execute_result"
    }
   ],
   "source": [
    "package eVehicle_LogicalArchitecture {\n",
    "    \n",
    "    import ScalarValues::*;\n",
    "    \n",
    "    part eVehicle {    \n",
    "        part body;\n",
    "        part battery;\n",
    "        part engine;\n",
    "        part frontAxis;\n",
    "        part rearAxis;\n",
    "        part frontWheel[2] {\n",
    "            attribute size : Integer;\n",
    "        }\n",
    "        part rearWheel[2] {\n",
    "            attribute size : Integer;\n",
    "        }\n",
    "    }\n",
    "}"
   ]
  },
  {
   "cell_type": "markdown",
   "metadata": {},
   "source": [
    "Run the cell with the SysML v2 model, and visualize the model. If you also would like to see the model structure, execute the %show command as described above."
   ]
  },
  {
   "cell_type": "code",
   "execution_count": 5,
   "metadata": {},
   "outputs": [
    {
     "data": {
      "image/svg+xml": [
       "<?xml version=\"1.0\" encoding=\"UTF-8\" standalone=\"no\"?><svg xmlns=\"http://www.w3.org/2000/svg\" xmlns:xlink=\"http://www.w3.org/1999/xlink\" contentStyleType=\"text/css\" height=\"247px\" preserveAspectRatio=\"none\" style=\"width:801px;height:247px;background:#FFFFFF;\" version=\"1.1\" viewBox=\"0 0 801 247\" width=\"801px\" zoomAndPan=\"magnify\"><defs/><g><!--MD5=[fbc87193dbaf4d95561dea2c320d4a47]\n",
       "cluster E1--><g id=\"cluster_E1\"><a href=\"psysml:582d548b-d396-4ae2-9f90-2bbb1c9c13e7\" target=\"_top\" title=\"psysml:582d548b-d396-4ae2-9f90-2bbb1c9c13e7\" xlink:actuate=\"onRequest\" xlink:href=\"psysml:582d548b-d396-4ae2-9f90-2bbb1c9c13e7\" xlink:show=\"new\" xlink:title=\"psysml:582d548b-d396-4ae2-9f90-2bbb1c9c13e7\" xlink:type=\"simple\"><polygon fill=\"none\" points=\"16,6,231.25,6,238.25,28.2969,784,28.2969,784,240,16,240,16,6\" style=\"stroke:#000000;stroke-width:1.5;\"/><line style=\"stroke:#000000;stroke-width:1.5;\" x1=\"16\" x2=\"238.25\" y1=\"28.2969\" y2=\"28.2969\"/><text fill=\"#000000\" font-family=\"sans-serif\" font-size=\"14\" font-weight=\"bold\" lengthAdjust=\"spacing\" textLength=\"209.25\" x=\"20\" y=\"20.9951\">eVehicle_LogicalArchitecture</text></a></g><!--MD5=[b4997ac47864f28c2f74865a473b2911]\n",
       "class E2--><a href=\"psysml:34dfe2aa-87db-48d1-9dac-72901f37fb0e\" target=\"_top\" title=\"psysml:34dfe2aa-87db-48d1-9dac-72901f37fb0e\" xlink:actuate=\"onRequest\" xlink:href=\"psysml:34dfe2aa-87db-48d1-9dac-72901f37fb0e\" xlink:show=\"new\" xlink:title=\"psysml:34dfe2aa-87db-48d1-9dac-72901f37fb0e\" xlink:type=\"simple\"><g id=\"elem_E2\"><rect fill=\"#FFFFFF\" height=\"48.2656\" id=\"E2\" rx=\"10\" ry=\"10\" style=\"stroke:#181818;stroke-width:0.5;\" width=\"73\" x=\"309.5\" y=\"41\"/><text fill=\"#000000\" font-family=\"sans-serif\" font-size=\"12\" font-style=\"italic\" lengthAdjust=\"spacing\" textLength=\"40\" x=\"326\" y=\"57.1387\">«part»</text><text fill=\"#000000\" font-family=\"sans-serif\" font-size=\"14\" lengthAdjust=\"spacing\" textLength=\"59\" x=\"312.5\" y=\"72.9639\">eVehicle</text><line style=\"stroke:#181818;stroke-width:0.5;\" x1=\"310.5\" x2=\"381.5\" y1=\"81.2656\" y2=\"81.2656\"/></g></a><!--MD5=[09b614a08d8cba4a07c9adeb5e0fee81]\n",
       "class E3--><a href=\"psysml:d959ff2a-6ebd-42c8-919f-dc057a8ce4e2\" target=\"_top\" title=\"psysml:d959ff2a-6ebd-42c8-919f-dc057a8ce4e2\" xlink:actuate=\"onRequest\" xlink:href=\"psysml:d959ff2a-6ebd-42c8-919f-dc057a8ce4e2\" xlink:show=\"new\" xlink:title=\"psysml:d959ff2a-6ebd-42c8-919f-dc057a8ce4e2\" xlink:type=\"simple\"><g id=\"elem_E3\"><rect fill=\"#FFFFFF\" height=\"48.2656\" id=\"E3\" rx=\"10\" ry=\"10\" style=\"stroke:#181818;stroke-width:0.5;\" width=\"48\" x=\"32\" y=\"162.5\"/><text fill=\"#000000\" font-family=\"sans-serif\" font-size=\"12\" font-style=\"italic\" lengthAdjust=\"spacing\" textLength=\"40\" x=\"36\" y=\"178.6387\">«part»</text><text fill=\"#000000\" font-family=\"sans-serif\" font-size=\"14\" lengthAdjust=\"spacing\" textLength=\"34\" x=\"35\" y=\"194.4639\">body</text><line style=\"stroke:#181818;stroke-width:0.5;\" x1=\"33\" x2=\"79\" y1=\"202.7656\" y2=\"202.7656\"/></g></a><!--MD5=[ebbe1d658d1005bcc118a6aa81145e00]\n",
       "class E4--><a href=\"psysml:198d311c-18c6-4ae5-8a87-0e9ff0899d8f\" target=\"_top\" title=\"psysml:198d311c-18c6-4ae5-8a87-0e9ff0899d8f\" xlink:actuate=\"onRequest\" xlink:href=\"psysml:198d311c-18c6-4ae5-8a87-0e9ff0899d8f\" xlink:show=\"new\" xlink:title=\"psysml:198d311c-18c6-4ae5-8a87-0e9ff0899d8f\" xlink:type=\"simple\"><g id=\"elem_E4\"><rect fill=\"#FFFFFF\" height=\"48.2656\" id=\"E4\" rx=\"10\" ry=\"10\" style=\"stroke:#181818;stroke-width:0.5;\" width=\"62\" x=\"115\" y=\"162.5\"/><text fill=\"#000000\" font-family=\"sans-serif\" font-size=\"12\" font-style=\"italic\" lengthAdjust=\"spacing\" textLength=\"40\" x=\"126\" y=\"178.6387\">«part»</text><text fill=\"#000000\" font-family=\"sans-serif\" font-size=\"14\" lengthAdjust=\"spacing\" textLength=\"48\" x=\"118\" y=\"194.4639\">battery</text><line style=\"stroke:#181818;stroke-width:0.5;\" x1=\"116\" x2=\"176\" y1=\"202.7656\" y2=\"202.7656\"/></g></a><!--MD5=[270fce915f116d4de14055a7c1d9a0f3]\n",
       "class E5--><a href=\"psysml:858cf715-da20-40c2-8909-1468d87a7e58\" target=\"_top\" title=\"psysml:858cf715-da20-40c2-8909-1468d87a7e58\" xlink:actuate=\"onRequest\" xlink:href=\"psysml:858cf715-da20-40c2-8909-1468d87a7e58\" xlink:show=\"new\" xlink:title=\"psysml:858cf715-da20-40c2-8909-1468d87a7e58\" xlink:type=\"simple\"><g id=\"elem_E5\"><rect fill=\"#FFFFFF\" height=\"48.2656\" id=\"E5\" rx=\"10\" ry=\"10\" style=\"stroke:#181818;stroke-width:0.5;\" width=\"62\" x=\"212\" y=\"162.5\"/><text fill=\"#000000\" font-family=\"sans-serif\" font-size=\"12\" font-style=\"italic\" lengthAdjust=\"spacing\" textLength=\"40\" x=\"223\" y=\"178.6387\">«part»</text><text fill=\"#000000\" font-family=\"sans-serif\" font-size=\"14\" lengthAdjust=\"spacing\" textLength=\"48\" x=\"215\" y=\"194.4639\">engine</text><line style=\"stroke:#181818;stroke-width:0.5;\" x1=\"213\" x2=\"273\" y1=\"202.7656\" y2=\"202.7656\"/></g></a><!--MD5=[60a26617385b1d2d0262a64233df1f8d]\n",
       "class E6--><a href=\"psysml:52183ee8-e6f1-4e6e-b65c-eb2fcccfc5eb\" target=\"_top\" title=\"psysml:52183ee8-e6f1-4e6e-b65c-eb2fcccfc5eb\" xlink:actuate=\"onRequest\" xlink:href=\"psysml:52183ee8-e6f1-4e6e-b65c-eb2fcccfc5eb\" xlink:show=\"new\" xlink:title=\"psysml:52183ee8-e6f1-4e6e-b65c-eb2fcccfc5eb\" xlink:type=\"simple\"><g id=\"elem_E6\"><rect fill=\"#FFFFFF\" height=\"48.2656\" id=\"E6\" rx=\"10\" ry=\"10\" style=\"stroke:#181818;stroke-width:0.5;\" width=\"73\" x=\"309.5\" y=\"162.5\"/><text fill=\"#000000\" font-family=\"sans-serif\" font-size=\"12\" font-style=\"italic\" lengthAdjust=\"spacing\" textLength=\"40\" x=\"326\" y=\"178.6387\">«part»</text><text fill=\"#000000\" font-family=\"sans-serif\" font-size=\"14\" lengthAdjust=\"spacing\" textLength=\"59\" x=\"312.5\" y=\"194.4639\">frontAxis</text><line style=\"stroke:#181818;stroke-width:0.5;\" x1=\"310.5\" x2=\"381.5\" y1=\"202.7656\" y2=\"202.7656\"/></g></a><!--MD5=[2156ba9850f5573cc1fc38a6a4b2f02b]\n",
       "class E7--><a href=\"psysml:5e801ef8-63cd-486b-8fa9-f85c18f84536\" target=\"_top\" title=\"psysml:5e801ef8-63cd-486b-8fa9-f85c18f84536\" xlink:actuate=\"onRequest\" xlink:href=\"psysml:5e801ef8-63cd-486b-8fa9-f85c18f84536\" xlink:show=\"new\" xlink:title=\"psysml:5e801ef8-63cd-486b-8fa9-f85c18f84536\" xlink:type=\"simple\"><g id=\"elem_E7\"><rect fill=\"#FFFFFF\" height=\"48.2656\" id=\"E7\" rx=\"10\" ry=\"10\" style=\"stroke:#181818;stroke-width:0.5;\" width=\"68\" x=\"418\" y=\"162.5\"/><text fill=\"#000000\" font-family=\"sans-serif\" font-size=\"12\" font-style=\"italic\" lengthAdjust=\"spacing\" textLength=\"40\" x=\"432\" y=\"178.6387\">«part»</text><text fill=\"#000000\" font-family=\"sans-serif\" font-size=\"14\" lengthAdjust=\"spacing\" textLength=\"54\" x=\"421\" y=\"194.4639\">rearAxis</text><line style=\"stroke:#181818;stroke-width:0.5;\" x1=\"419\" x2=\"485\" y1=\"202.7656\" y2=\"202.7656\"/></g></a><!--MD5=[b9389687b975829384b498ac4b7476b2]\n",
       "class E8--><a href=\"psysml:f09dc484-c3c6-451e-bfa1-0dd7b35c1817\" target=\"_top\" title=\"psysml:f09dc484-c3c6-451e-bfa1-0dd7b35c1817\" xlink:actuate=\"onRequest\" xlink:href=\"psysml:f09dc484-c3c6-451e-bfa1-0dd7b35c1817\" xlink:show=\"new\" xlink:title=\"psysml:f09dc484-c3c6-451e-bfa1-0dd7b35c1817\" xlink:type=\"simple\"><g id=\"elem_E8\"><rect fill=\"#FFFFFF\" height=\"75.0813\" id=\"E8\" rx=\"10\" ry=\"10\" style=\"stroke:#181818;stroke-width:0.5;\" width=\"108\" x=\"521\" y=\"149\"/><text fill=\"#000000\" font-family=\"sans-serif\" font-size=\"12\" font-style=\"italic\" lengthAdjust=\"spacing\" textLength=\"40\" x=\"555\" y=\"165.1387\">«part»</text><text fill=\"#000000\" font-family=\"sans-serif\" font-size=\"14\" lengthAdjust=\"spacing\" textLength=\"94\" x=\"524\" y=\"180.9639\">frontWheel[2]</text><line style=\"stroke:#181818;stroke-width:0.5;\" x1=\"522\" x2=\"628\" y1=\"189.2656\" y2=\"189.2656\"/><text fill=\"#000000\" font-family=\"sans-serif\" font-size=\"14\" lengthAdjust=\"spacing\" textLength=\"86\" x=\"527\" y=\"216.7795\">size: Integer</text><text fill=\"#000000\" font-family=\"sans-serif\" font-size=\"14\" font-style=\"italic\" lengthAdjust=\"spacing\" textLength=\"66\" x=\"542\" y=\"201.6123\">attributes</text></g></a><!--MD5=[fd4143e9d270a159db93a4ea2a975926]\n",
       "class E9--><a href=\"psysml:e060217d-9a86-4c22-bdc6-17aaeb379554\" target=\"_top\" title=\"psysml:e060217d-9a86-4c22-bdc6-17aaeb379554\" xlink:actuate=\"onRequest\" xlink:href=\"psysml:e060217d-9a86-4c22-bdc6-17aaeb379554\" xlink:show=\"new\" xlink:title=\"psysml:e060217d-9a86-4c22-bdc6-17aaeb379554\" xlink:type=\"simple\"><g id=\"elem_E9\"><rect fill=\"#FFFFFF\" height=\"75.0813\" id=\"E9\" rx=\"10\" ry=\"10\" style=\"stroke:#181818;stroke-width:0.5;\" width=\"103\" x=\"664.5\" y=\"149\"/><text fill=\"#000000\" font-family=\"sans-serif\" font-size=\"12\" font-style=\"italic\" lengthAdjust=\"spacing\" textLength=\"40\" x=\"696\" y=\"165.1387\">«part»</text><text fill=\"#000000\" font-family=\"sans-serif\" font-size=\"14\" lengthAdjust=\"spacing\" textLength=\"89\" x=\"667.5\" y=\"180.9639\">rearWheel[2]</text><line style=\"stroke:#181818;stroke-width:0.5;\" x1=\"665.5\" x2=\"766.5\" y1=\"189.2656\" y2=\"189.2656\"/><text fill=\"#000000\" font-family=\"sans-serif\" font-size=\"14\" lengthAdjust=\"spacing\" textLength=\"86\" x=\"670.5\" y=\"216.7795\">size: Integer</text><text fill=\"#000000\" font-family=\"sans-serif\" font-size=\"14\" font-style=\"italic\" lengthAdjust=\"spacing\" textLength=\"66\" x=\"683\" y=\"201.6123\">attributes</text></g></a><!--MD5=[209b3feb70ccb6233bfe1053d122c12c]\n",
       "reverse link E2 to E3--><g id=\"link_E2_E3\"><a href=\"psysml:2a37e5bb-6cdc-435d-ac7e-dd2462e119c6\" target=\"_top\" title=\"psysml:2a37e5bb-6cdc-435d-ac7e-dd2462e119c6\" xlink:actuate=\"onRequest\" xlink:href=\"psysml:2a37e5bb-6cdc-435d-ac7e-dd2462e119c6\" xlink:show=\"new\" xlink:title=\"psysml:2a37e5bb-6cdc-435d-ac7e-dd2462e119c6\" xlink:type=\"simple\"><path d=\"M296.43,76.51 C244.58,88.85 162,112.42 98,149 C91.63,152.64 85.33,157.34 79.64,162.14 \" fill=\"none\" id=\"E2-backto-E3\" style=\"stroke:#181818;stroke-width:1.0;\"/><polygon fill=\"#181818\" points=\"309.23,73.54,302.4807,71.001,297.5411,76.2547,304.2904,78.7936,309.23,73.54\" style=\"stroke:#181818;stroke-width:1.0;\"/></a></g><!--MD5=[9618e71518536f8baf3342ff6fdab317]\n",
       "reverse link E2 to E4--><g id=\"link_E2_E4\"><a href=\"psysml:1440ec79-5c4f-429f-82f4-a8b0a3a41e01\" target=\"_top\" title=\"psysml:1440ec79-5c4f-429f-82f4-a8b0a3a41e01\" xlink:actuate=\"onRequest\" xlink:href=\"psysml:1440ec79-5c4f-429f-82f4-a8b0a3a41e01\" xlink:show=\"new\" xlink:title=\"psysml:1440ec79-5c4f-429f-82f4-a8b0a3a41e01\" xlink:type=\"simple\"><path d=\"M297.6,90.43 C267.49,106.16 228.28,127.6 195,149 C188.58,153.13 181.89,157.82 175.6,162.44 \" fill=\"none\" id=\"E2-backto-E4\" style=\"stroke:#181818;stroke-width:1.0;\"/><polygon fill=\"#181818\" points=\"309.5,84.26,302.3322,83.4711,298.8471,89.7842,306.015,90.573,309.5,84.26\" style=\"stroke:#181818;stroke-width:1.0;\"/></a></g><!--MD5=[4e1a83fab71cdb913c109063314ae896]\n",
       "reverse link E2 to E5--><g id=\"link_E2_E5\"><a href=\"psysml:4261bd53-6918-4ef6-969d-c2119b2481b8\" target=\"_top\" title=\"psysml:4261bd53-6918-4ef6-969d-c2119b2481b8\" xlink:actuate=\"onRequest\" xlink:href=\"psysml:4261bd53-6918-4ef6-969d-c2119b2481b8\" xlink:show=\"new\" xlink:title=\"psysml:4261bd53-6918-4ef6-969d-c2119b2481b8\" xlink:type=\"simple\"><path d=\"M317.56,98.99 C300.29,119.03 278.66,144.13 263.15,162.12 \" fill=\"none\" id=\"E2-backto-E5\" style=\"stroke:#181818;stroke-width:1.0;\"/><polygon fill=\"#181818\" points=\"326.14,89.04,319.1927,90.9725,318.3045,98.1287,325.2518,96.1962,326.14,89.04\" style=\"stroke:#181818;stroke-width:1.0;\"/></a></g><!--MD5=[ce036f65110ae2351ccce5a81dc2e928]\n",
       "reverse link E2 to E6--><g id=\"link_E2_E6\"><a href=\"psysml:782989b5-24a4-4bb3-93ee-ac362214b596\" target=\"_top\" title=\"psysml:782989b5-24a4-4bb3-93ee-ac362214b596\" xlink:actuate=\"onRequest\" xlink:href=\"psysml:782989b5-24a4-4bb3-93ee-ac362214b596\" xlink:show=\"new\" xlink:title=\"psysml:782989b5-24a4-4bb3-93ee-ac362214b596\" xlink:type=\"simple\"><path d=\"M346,102.06 C346,121.55 346,145.04 346,162.12 \" fill=\"none\" id=\"E2-backto-E6\" style=\"stroke:#181818;stroke-width:1.0;\"/><polygon fill=\"#181818\" points=\"346,89.04,342,95.04,346,101.04,350,95.04,346,89.04\" style=\"stroke:#181818;stroke-width:1.0;\"/></a></g><!--MD5=[1c72b32696d764168c30777981ec3f66]\n",
       "reverse link E2 to E7--><g id=\"link_E2_E7\"><a href=\"psysml:8c186d9e-370e-4f28-8021-668d4b8dc7d5\" target=\"_top\" title=\"psysml:8c186d9e-370e-4f28-8021-668d4b8dc7d5\" xlink:actuate=\"onRequest\" xlink:href=\"psysml:8c186d9e-370e-4f28-8021-668d4b8dc7d5\" xlink:show=\"new\" xlink:title=\"psysml:8c186d9e-370e-4f28-8021-668d4b8dc7d5\" xlink:type=\"simple\"><path d=\"M375.27,98.99 C393.04,119.03 415.3,144.13 431.26,162.12 \" fill=\"none\" id=\"E2-backto-E7\" style=\"stroke:#181818;stroke-width:1.0;\"/><polygon fill=\"#181818\" points=\"366.44,89.04,367.4287,96.183,374.4025,98.0176,373.4138,90.8746,366.44,89.04\" style=\"stroke:#181818;stroke-width:1.0;\"/></a></g><!--MD5=[65f962d72b3a6bed1ede4f3c867e43a4]\n",
       "reverse link E2 to E8--><g id=\"link_E2_E8\"><a href=\"psysml:3a3cf1fa-705f-4b45-a432-1053d8eacc07\" target=\"_top\" title=\"psysml:3a3cf1fa-705f-4b45-a432-1053d8eacc07\" xlink:actuate=\"onRequest\" xlink:href=\"psysml:3a3cf1fa-705f-4b45-a432-1053d8eacc07\" xlink:show=\"new\" xlink:title=\"psysml:3a3cf1fa-705f-4b45-a432-1053d8eacc07\" xlink:type=\"simple\"><path d=\"M394.5,91.31 C431.45,110.59 482.34,137.15 520.66,157.15 \" fill=\"none\" id=\"E2-backto-E8\" style=\"stroke:#181818;stroke-width:1.0;\"/><polygon fill=\"#181818\" points=\"382.54,85.07,386.0095,91.3916,393.1793,90.6203,389.7097,84.2988,382.54,85.07\" style=\"stroke:#181818;stroke-width:1.0;\"/></a></g><!--MD5=[4a91eb351f2fb42055d99b719d3dd418]\n",
       "reverse link E2 to E9--><g id=\"link_E2_E9\"><a href=\"psysml:a0c8df15-18f8-47e0-af1f-47f93d2f8b04\" target=\"_top\" title=\"psysml:a0c8df15-18f8-47e0-af1f-47f93d2f8b04\" xlink:actuate=\"onRequest\" xlink:href=\"psysml:a0c8df15-18f8-47e0-af1f-47f93d2f8b04\" xlink:show=\"new\" xlink:title=\"psysml:a0c8df15-18f8-47e0-af1f-47f93d2f8b04\" xlink:type=\"simple\"><path d=\"M395.45,76.16 C455.98,89.38 561.05,114.89 647,149 C652.67,151.25 658.48,153.84 664.2,156.57 \" fill=\"none\" id=\"E2-backto-E9\" style=\"stroke:#181818;stroke-width:1.0;\"/><polygon fill=\"#181818\" points=\"382.5,73.37,387.5271,78.5399,394.2329,75.888,389.2057,70.718,382.5,73.37\" style=\"stroke:#181818;stroke-width:1.0;\"/></a></g><!--MD5=[8f18116ac69d2f74c3c3e0e34aed01ef]\n",
       "@startuml\r\n",
       "skin sysmlbw\r\n",
       "skinparam monochrome true\r\n",
       "skinparam wrapWidth 300\r\n",
       "hide circle\r\n",
       "\r\n",
       "package \"eVehicle_LogicalArchitecture\" as E1  [[psysml:582d548b-d396-4ae2-9f90-2bbb1c9c13e7 ]]  {\r\n",
       "comp usage \"eVehicle  \" as E2  <<(T,blue) part>> [[psysml:34dfe2aa-87db-48d1-9dac-72901f37fb0e ]] {\r\n",
       "}\r\n",
       "comp usage \"body  \" as E3  <<(T,blue) part>> [[psysml:d959ff2a-6ebd-42c8-919f-dc057a8ce4e2 ]] {\r\n",
       "}\r\n",
       "comp usage \"battery  \" as E4  <<(T,blue) part>> [[psysml:198d311c-18c6-4ae5-8a87-0e9ff0899d8f ]] {\r\n",
       "}\r\n",
       "comp usage \"engine  \" as E5  <<(T,blue) part>> [[psysml:858cf715-da20-40c2-8909-1468d87a7e58 ]] {\r\n",
       "}\r\n",
       "comp usage \"frontAxis  \" as E6  <<(T,blue) part>> [[psysml:52183ee8-e6f1-4e6e-b65c-eb2fcccfc5eb ]] {\r\n",
       "}\r\n",
       "comp usage \"rearAxis  \" as E7  <<(T,blue) part>> [[psysml:5e801ef8-63cd-486b-8fa9-f85c18f84536 ]] {\r\n",
       "}\r\n",
       "comp usage \"frontWheel[2]  \" as E8  <<(T,blue) part>> [[psysml:f09dc484-c3c6-451e-bfa1-0dd7b35c1817 ]] {\r\n",
       "##//attributes//##\r\n",
       "size: Integer\r\n",
       "}\r\n",
       "comp usage \"rearWheel[2]  \" as E9  <<(T,blue) part>> [[psysml:e060217d-9a86-4c22-bdc6-17aaeb379554 ]] {\r\n",
       "##//attributes//##\r\n",
       "size: Integer\r\n",
       "}\r\n",
       "}\r\n",
       "E2 *- - E3 [[psysml:2a37e5bb-6cdc-435d-ac7e-dd2462e119c6 ]] \r\n",
       "E2 *- - E4 [[psysml:1440ec79-5c4f-429f-82f4-a8b0a3a41e01 ]] \r\n",
       "E2 *- - E5 [[psysml:4261bd53-6918-4ef6-969d-c2119b2481b8 ]] \r\n",
       "E2 *- - E6 [[psysml:782989b5-24a4-4bb3-93ee-ac362214b596 ]] \r\n",
       "E2 *- - E7 [[psysml:8c186d9e-370e-4f28-8021-668d4b8dc7d5 ]] \r\n",
       "E2 *- - E8 [[psysml:3a3cf1fa-705f-4b45-a432-1053d8eacc07 ]] \r\n",
       "E2 *- - E9 [[psysml:a0c8df15-18f8-47e0-af1f-47f93d2f8b04 ]] \r\n",
       "@enduml\r\n",
       "\n",
       "PlantUML version 1.2022.7(Mon Aug 22 17:01:30 UTC 2022)\n",
       "(EPL source distribution)\n",
       "Java Runtime: OpenJDK Runtime Environment\n",
       "JVM: OpenJDK 64-Bit Server VM\n",
       "Default Encoding: UTF-8\n",
       "Language: en\n",
       "Country: null\n",
       "--></g></svg>"
      ]
     },
     "execution_count": 5,
     "metadata": {},
     "output_type": "execute_result"
    }
   ],
   "source": [
    "%viz --view=tree eVehicle_LogicalArchitecture"
   ]
  },
  {
   "cell_type": "markdown",
   "metadata": {},
   "source": [
    "As in SysML v1, a part always needs a context in SysML v2. In our example, the part *eVehicle* is the context of the parts *body*, *battery*, and so forth. No context is explicitly defined for the part *eVehicle*. Then the context is implicitly the most general part definition named *Part* from the SysML v2 model library.\n",
    "\n",
    "Although it is still very simple, the model already smells of reuse. The size attribute is currently defined twice. Now, we define a type respectively PartDefinition *Wheel* and specify that as the type of the parts. The PartDefinition can be compared to the SysML v1 Block."
   ]
  },
  {
   "cell_type": "code",
   "execution_count": 6,
   "metadata": {},
   "outputs": [
    {
     "name": "stdout",
     "output_type": "stream",
     "text": [
      "WARNING:Default public import is deprecated; make private if possible (6.sysml line : 3 column : 5)\n"
     ]
    },
    {
     "data": {
      "text/plain": [
       "Package eVehicle_LogicalArchitecture (48a0fd8e-e908-477a-951f-e80849137b53)\n"
      ]
     },
     "execution_count": 6,
     "metadata": {},
     "output_type": "execute_result"
    }
   ],
   "source": [
    "package eVehicle_LogicalArchitecture {\n",
    "\n",
    "    import ScalarValues::*;   \n",
    "    \n",
    "    part def Wheel {\n",
    "        attribute size : Integer;\n",
    "    }\n",
    "   \n",
    "    part eVehicle {    \n",
    "        part body;\n",
    "        part battery;\n",
    "        part engine;\n",
    "        part frontAxis;\n",
    "        part rearAxis;\n",
    "        part frontWheel : Wheel[2];\n",
    "        part rearWheel : Wheel[2];\n",
    "    }\n",
    "}"
   ]
  },
  {
   "cell_type": "code",
   "execution_count": 7,
   "metadata": {},
   "outputs": [
    {
     "data": {
      "image/svg+xml": [
       "<?xml version=\"1.0\" encoding=\"UTF-8\" standalone=\"no\"?><svg xmlns=\"http://www.w3.org/2000/svg\" xmlns:xlink=\"http://www.w3.org/1999/xlink\" contentStyleType=\"text/css\" height=\"355px\" preserveAspectRatio=\"none\" style=\"width:905px;height:355px;background:#FFFFFF;\" version=\"1.1\" viewBox=\"0 0 905 355\" width=\"905px\" zoomAndPan=\"magnify\"><defs/><g><!--MD5=[fbc87193dbaf4d95561dea2c320d4a47]\n",
       "cluster E1--><g id=\"cluster_E1\"><a href=\"psysml:48a0fd8e-e908-477a-951f-e80849137b53\" target=\"_top\" title=\"psysml:48a0fd8e-e908-477a-951f-e80849137b53\" xlink:actuate=\"onRequest\" xlink:href=\"psysml:48a0fd8e-e908-477a-951f-e80849137b53\" xlink:show=\"new\" xlink:title=\"psysml:48a0fd8e-e908-477a-951f-e80849137b53\" xlink:type=\"simple\"><polygon fill=\"none\" points=\"16,6,231.25,6,238.25,28.2969,888,28.2969,888,348,16,348,16,6\" style=\"stroke:#000000;stroke-width:1.5;\"/><line style=\"stroke:#000000;stroke-width:1.5;\" x1=\"16\" x2=\"238.25\" y1=\"28.2969\" y2=\"28.2969\"/><text fill=\"#000000\" font-family=\"sans-serif\" font-size=\"14\" font-weight=\"bold\" lengthAdjust=\"spacing\" textLength=\"209.25\" x=\"20\" y=\"20.9951\">eVehicle_LogicalArchitecture</text></a></g><!--MD5=[b4997ac47864f28c2f74865a473b2911]\n",
       "class E2--><a href=\"psysml:c71bfb51-0c1a-43c7-b001-545217b9ef75\" target=\"_top\" title=\"psysml:c71bfb51-0c1a-43c7-b001-545217b9ef75\" xlink:actuate=\"onRequest\" xlink:href=\"psysml:c71bfb51-0c1a-43c7-b001-545217b9ef75\" xlink:show=\"new\" xlink:title=\"psysml:c71bfb51-0c1a-43c7-b001-545217b9ef75\" xlink:type=\"simple\"><g id=\"elem_E2\"><rect fill=\"#FFFFFF\" height=\"75.0813\" id=\"E2\" style=\"stroke:#181818;stroke-width:0.5;\" width=\"98\" x=\"648\" y=\"257\"/><text fill=\"#000000\" font-family=\"sans-serif\" font-size=\"12\" font-style=\"italic\" lengthAdjust=\"spacing\" textLength=\"68\" x=\"663\" y=\"273.1387\">«part  def»</text><text fill=\"#000000\" font-family=\"sans-serif\" font-size=\"14\" lengthAdjust=\"spacing\" textLength=\"43\" x=\"675.5\" y=\"288.9639\">Wheel</text><line style=\"stroke:#181818;stroke-width:0.5;\" x1=\"649\" x2=\"745\" y1=\"297.2656\" y2=\"297.2656\"/><text fill=\"#000000\" font-family=\"sans-serif\" font-size=\"14\" lengthAdjust=\"spacing\" textLength=\"86\" x=\"654\" y=\"324.7795\">size: Integer</text><text fill=\"#000000\" font-family=\"sans-serif\" font-size=\"14\" font-style=\"italic\" lengthAdjust=\"spacing\" textLength=\"66\" x=\"664\" y=\"309.6123\">attributes</text></g></a><!--MD5=[09b614a08d8cba4a07c9adeb5e0fee81]\n",
       "class E3--><a href=\"psysml:7a290cd4-7274-47e0-b705-d5f81bd9a805\" target=\"_top\" title=\"psysml:7a290cd4-7274-47e0-b705-d5f81bd9a805\" xlink:actuate=\"onRequest\" xlink:href=\"psysml:7a290cd4-7274-47e0-b705-d5f81bd9a805\" xlink:show=\"new\" xlink:title=\"psysml:7a290cd4-7274-47e0-b705-d5f81bd9a805\" xlink:type=\"simple\"><g id=\"elem_E3\"><rect fill=\"#FFFFFF\" height=\"48.2656\" id=\"E3\" rx=\"10\" ry=\"10\" style=\"stroke:#181818;stroke-width:0.5;\" width=\"73\" x=\"309.5\" y=\"41\"/><text fill=\"#000000\" font-family=\"sans-serif\" font-size=\"12\" font-style=\"italic\" lengthAdjust=\"spacing\" textLength=\"40\" x=\"326\" y=\"57.1387\">«part»</text><text fill=\"#000000\" font-family=\"sans-serif\" font-size=\"14\" lengthAdjust=\"spacing\" textLength=\"59\" x=\"312.5\" y=\"72.9639\">eVehicle</text><line style=\"stroke:#181818;stroke-width:0.5;\" x1=\"310.5\" x2=\"381.5\" y1=\"81.2656\" y2=\"81.2656\"/></g></a><!--MD5=[ebbe1d658d1005bcc118a6aa81145e00]\n",
       "class E4--><a href=\"psysml:cf547f0f-6a3c-4400-8087-58e02942027d\" target=\"_top\" title=\"psysml:cf547f0f-6a3c-4400-8087-58e02942027d\" xlink:actuate=\"onRequest\" xlink:href=\"psysml:cf547f0f-6a3c-4400-8087-58e02942027d\" xlink:show=\"new\" xlink:title=\"psysml:cf547f0f-6a3c-4400-8087-58e02942027d\" xlink:type=\"simple\"><g id=\"elem_E4\"><rect fill=\"#FFFFFF\" height=\"48.2656\" id=\"E4\" rx=\"10\" ry=\"10\" style=\"stroke:#181818;stroke-width:0.5;\" width=\"48\" x=\"32\" y=\"149\"/><text fill=\"#000000\" font-family=\"sans-serif\" font-size=\"12\" font-style=\"italic\" lengthAdjust=\"spacing\" textLength=\"40\" x=\"36\" y=\"165.1387\">«part»</text><text fill=\"#000000\" font-family=\"sans-serif\" font-size=\"14\" lengthAdjust=\"spacing\" textLength=\"34\" x=\"35\" y=\"180.9639\">body</text><line style=\"stroke:#181818;stroke-width:0.5;\" x1=\"33\" x2=\"79\" y1=\"189.2656\" y2=\"189.2656\"/></g></a><!--MD5=[270fce915f116d4de14055a7c1d9a0f3]\n",
       "class E5--><a href=\"psysml:9bc71746-c348-4f35-aa9d-f5c926d9f486\" target=\"_top\" title=\"psysml:9bc71746-c348-4f35-aa9d-f5c926d9f486\" xlink:actuate=\"onRequest\" xlink:href=\"psysml:9bc71746-c348-4f35-aa9d-f5c926d9f486\" xlink:show=\"new\" xlink:title=\"psysml:9bc71746-c348-4f35-aa9d-f5c926d9f486\" xlink:type=\"simple\"><g id=\"elem_E5\"><rect fill=\"#FFFFFF\" height=\"48.2656\" id=\"E5\" rx=\"10\" ry=\"10\" style=\"stroke:#181818;stroke-width:0.5;\" width=\"62\" x=\"115\" y=\"149\"/><text fill=\"#000000\" font-family=\"sans-serif\" font-size=\"12\" font-style=\"italic\" lengthAdjust=\"spacing\" textLength=\"40\" x=\"126\" y=\"165.1387\">«part»</text><text fill=\"#000000\" font-family=\"sans-serif\" font-size=\"14\" lengthAdjust=\"spacing\" textLength=\"48\" x=\"118\" y=\"180.9639\">battery</text><line style=\"stroke:#181818;stroke-width:0.5;\" x1=\"116\" x2=\"176\" y1=\"189.2656\" y2=\"189.2656\"/></g></a><!--MD5=[60a26617385b1d2d0262a64233df1f8d]\n",
       "class E6--><a href=\"psysml:ed7f1726-a58a-4c13-a8e2-93421d9dd421\" target=\"_top\" title=\"psysml:ed7f1726-a58a-4c13-a8e2-93421d9dd421\" xlink:actuate=\"onRequest\" xlink:href=\"psysml:ed7f1726-a58a-4c13-a8e2-93421d9dd421\" xlink:show=\"new\" xlink:title=\"psysml:ed7f1726-a58a-4c13-a8e2-93421d9dd421\" xlink:type=\"simple\"><g id=\"elem_E6\"><rect fill=\"#FFFFFF\" height=\"48.2656\" id=\"E6\" rx=\"10\" ry=\"10\" style=\"stroke:#181818;stroke-width:0.5;\" width=\"62\" x=\"212\" y=\"149\"/><text fill=\"#000000\" font-family=\"sans-serif\" font-size=\"12\" font-style=\"italic\" lengthAdjust=\"spacing\" textLength=\"40\" x=\"223\" y=\"165.1387\">«part»</text><text fill=\"#000000\" font-family=\"sans-serif\" font-size=\"14\" lengthAdjust=\"spacing\" textLength=\"48\" x=\"215\" y=\"180.9639\">engine</text><line style=\"stroke:#181818;stroke-width:0.5;\" x1=\"213\" x2=\"273\" y1=\"189.2656\" y2=\"189.2656\"/></g></a><!--MD5=[2156ba9850f5573cc1fc38a6a4b2f02b]\n",
       "class E7--><a href=\"psysml:fa02171e-e8e9-4c32-9d78-3890e3f551f4\" target=\"_top\" title=\"psysml:fa02171e-e8e9-4c32-9d78-3890e3f551f4\" xlink:actuate=\"onRequest\" xlink:href=\"psysml:fa02171e-e8e9-4c32-9d78-3890e3f551f4\" xlink:show=\"new\" xlink:title=\"psysml:fa02171e-e8e9-4c32-9d78-3890e3f551f4\" xlink:type=\"simple\"><g id=\"elem_E7\"><rect fill=\"#FFFFFF\" height=\"48.2656\" id=\"E7\" rx=\"10\" ry=\"10\" style=\"stroke:#181818;stroke-width:0.5;\" width=\"73\" x=\"309.5\" y=\"149\"/><text fill=\"#000000\" font-family=\"sans-serif\" font-size=\"12\" font-style=\"italic\" lengthAdjust=\"spacing\" textLength=\"40\" x=\"326\" y=\"165.1387\">«part»</text><text fill=\"#000000\" font-family=\"sans-serif\" font-size=\"14\" lengthAdjust=\"spacing\" textLength=\"59\" x=\"312.5\" y=\"180.9639\">frontAxis</text><line style=\"stroke:#181818;stroke-width:0.5;\" x1=\"310.5\" x2=\"381.5\" y1=\"189.2656\" y2=\"189.2656\"/></g></a><!--MD5=[b9389687b975829384b498ac4b7476b2]\n",
       "class E8--><a href=\"psysml:4ffc1767-9985-45dd-8a6f-de48a3d2d289\" target=\"_top\" title=\"psysml:4ffc1767-9985-45dd-8a6f-de48a3d2d289\" xlink:actuate=\"onRequest\" xlink:href=\"psysml:4ffc1767-9985-45dd-8a6f-de48a3d2d289\" xlink:show=\"new\" xlink:title=\"psysml:4ffc1767-9985-45dd-8a6f-de48a3d2d289\" xlink:type=\"simple\"><g id=\"elem_E8\"><rect fill=\"#FFFFFF\" height=\"48.2656\" id=\"E8\" rx=\"10\" ry=\"10\" style=\"stroke:#181818;stroke-width:0.5;\" width=\"68\" x=\"418\" y=\"149\"/><text fill=\"#000000\" font-family=\"sans-serif\" font-size=\"12\" font-style=\"italic\" lengthAdjust=\"spacing\" textLength=\"40\" x=\"432\" y=\"165.1387\">«part»</text><text fill=\"#000000\" font-family=\"sans-serif\" font-size=\"14\" lengthAdjust=\"spacing\" textLength=\"54\" x=\"421\" y=\"180.9639\">rearAxis</text><line style=\"stroke:#181818;stroke-width:0.5;\" x1=\"419\" x2=\"485\" y1=\"189.2656\" y2=\"189.2656\"/></g></a><!--MD5=[fd4143e9d270a159db93a4ea2a975926]\n",
       "class E9--><a href=\"psysml:d720e279-f056-42e6-a5e5-86e4375afd17\" target=\"_top\" title=\"psysml:d720e279-f056-42e6-a5e5-86e4375afd17\" xlink:actuate=\"onRequest\" xlink:href=\"psysml:d720e279-f056-42e6-a5e5-86e4375afd17\" xlink:show=\"new\" xlink:title=\"psysml:d720e279-f056-42e6-a5e5-86e4375afd17\" xlink:type=\"simple\"><g id=\"elem_E9\"><rect fill=\"#FFFFFF\" height=\"48.2656\" id=\"E9\" rx=\"10\" ry=\"10\" style=\"stroke:#181818;stroke-width:0.5;\" width=\"160\" x=\"521\" y=\"149\"/><text fill=\"#000000\" font-family=\"sans-serif\" font-size=\"12\" font-style=\"italic\" lengthAdjust=\"spacing\" textLength=\"40\" x=\"581\" y=\"165.1387\">«part»</text><text fill=\"#000000\" font-family=\"sans-serif\" font-size=\"14\" lengthAdjust=\"spacing\" textLength=\"146\" x=\"524\" y=\"180.9639\">frontWheel: Wheel[2]</text><line style=\"stroke:#181818;stroke-width:0.5;\" x1=\"522\" x2=\"680\" y1=\"189.2656\" y2=\"189.2656\"/></g></a><!--MD5=[96f4274e9e20536e775497830990834d]\n",
       "class E10--><a href=\"psysml:07408776-d224-43fd-87dd-6a1de6494397\" target=\"_top\" title=\"psysml:07408776-d224-43fd-87dd-6a1de6494397\" xlink:actuate=\"onRequest\" xlink:href=\"psysml:07408776-d224-43fd-87dd-6a1de6494397\" xlink:show=\"new\" xlink:title=\"psysml:07408776-d224-43fd-87dd-6a1de6494397\" xlink:type=\"simple\"><g id=\"elem_E10\"><rect fill=\"#FFFFFF\" height=\"48.2656\" id=\"E10\" rx=\"10\" ry=\"10\" style=\"stroke:#181818;stroke-width:0.5;\" width=\"155\" x=\"716.5\" y=\"149\"/><text fill=\"#000000\" font-family=\"sans-serif\" font-size=\"12\" font-style=\"italic\" lengthAdjust=\"spacing\" textLength=\"40\" x=\"774\" y=\"165.1387\">«part»</text><text fill=\"#000000\" font-family=\"sans-serif\" font-size=\"14\" lengthAdjust=\"spacing\" textLength=\"141\" x=\"719.5\" y=\"180.9639\">rearWheel: Wheel[2]</text><line style=\"stroke:#181818;stroke-width:0.5;\" x1=\"717.5\" x2=\"870.5\" y1=\"189.2656\" y2=\"189.2656\"/></g></a><!--MD5=[4672eba38e49728da53d11aeb285b987]\n",
       "reverse link E3 to E4--><g id=\"link_E3_E4\"><a href=\"psysml:22d18235-fa90-49ec-8672-6e8bc9522e8b\" target=\"_top\" title=\"psysml:22d18235-fa90-49ec-8672-6e8bc9522e8b\" xlink:actuate=\"onRequest\" xlink:href=\"psysml:22d18235-fa90-49ec-8672-6e8bc9522e8b\" xlink:show=\"new\" xlink:title=\"psysml:22d18235-fa90-49ec-8672-6e8bc9522e8b\" xlink:type=\"simple\"><path d=\"M296.55,79.72 C245.79,94.45 164.98,119.73 98,149 C92.06,151.6 85.84,154.75 80.06,157.87 \" fill=\"none\" id=\"E3-backto-E4\" style=\"stroke:#181818;stroke-width:1.0;\"/><polygon fill=\"#181818\" points=\"309.09,76.11,302.2173,73.9267,297.5587,79.431,304.4314,81.6143,309.09,76.11\" style=\"stroke:#181818;stroke-width:1.0;\"/></a></g><!--MD5=[191cde3d490a3f6d7bb551fe3ddca469]\n",
       "reverse link E3 to E5--><g id=\"link_E3_E5\"><a href=\"psysml:cb4852ee-7304-4fdc-87e6-0fb2f5324988\" target=\"_top\" title=\"psysml:cb4852ee-7304-4fdc-87e6-0fb2f5324988\" xlink:actuate=\"onRequest\" xlink:href=\"psysml:cb4852ee-7304-4fdc-87e6-0fb2f5324988\" xlink:show=\"new\" xlink:title=\"psysml:cb4852ee-7304-4fdc-87e6-0fb2f5324988\" xlink:type=\"simple\"><path d=\"M297.67,91.62 C260.22,111.46 209.44,138.38 177.2,155.47 \" fill=\"none\" id=\"E3-backto-E5\" style=\"stroke:#181818;stroke-width:1.0;\"/><polygon fill=\"#181818\" points=\"309.32,85.44,302.1455,84.7146,298.7165,91.0583,305.891,91.7837,309.32,85.44\" style=\"stroke:#181818;stroke-width:1.0;\"/></a></g><!--MD5=[1026b4b93417a13aa8999a858998add2]\n",
       "reverse link E3 to E6--><g id=\"link_E3_E6\"><a href=\"psysml:e511614f-07e1-46be-ba94-928efbed60c6\" target=\"_top\" title=\"psysml:e511614f-07e1-46be-ba94-928efbed60c6\" xlink:actuate=\"onRequest\" xlink:href=\"psysml:e511614f-07e1-46be-ba94-928efbed60c6\" xlink:show=\"new\" xlink:title=\"psysml:e511614f-07e1-46be-ba94-928efbed60c6\" xlink:type=\"simple\"><path d=\"M314.3,98.63 C298.57,114.81 279.93,133.99 265.66,148.68 \" fill=\"none\" id=\"E3-backto-E6\" style=\"stroke:#181818;stroke-width:1.0;\"/><polygon fill=\"#181818\" points=\"323.65,89,316.5994,90.513,315.2843,97.6032,322.3349,96.0902,323.65,89\" style=\"stroke:#181818;stroke-width:1.0;\"/></a></g><!--MD5=[85760999379eecfd2565a9fecdca67e4]\n",
       "reverse link E3 to E7--><g id=\"link_E3_E7\"><a href=\"psysml:e497f314-4caf-4a33-a351-7905bc34e242\" target=\"_top\" title=\"psysml:e497f314-4caf-4a33-a351-7905bc34e242\" xlink:actuate=\"onRequest\" xlink:href=\"psysml:e497f314-4caf-4a33-a351-7905bc34e242\" xlink:show=\"new\" xlink:title=\"psysml:e497f314-4caf-4a33-a351-7905bc34e242\" xlink:type=\"simple\"><path d=\"M346,102.34 C346,117.68 346,135.1 346,148.68 \" fill=\"none\" id=\"E3-backto-E7\" style=\"stroke:#181818;stroke-width:1.0;\"/><polygon fill=\"#181818\" points=\"346,89,342,95,346,101,350,95,346,89\" style=\"stroke:#181818;stroke-width:1.0;\"/></a></g><!--MD5=[4cb75b73ec3682b8f7f8edc9cc86126a]\n",
       "reverse link E3 to E8--><g id=\"link_E3_E8\"><a href=\"psysml:4dee80e3-b22f-453a-a22d-01febf7f1461\" target=\"_top\" title=\"psysml:4dee80e3-b22f-453a-a22d-01febf7f1461\" xlink:actuate=\"onRequest\" xlink:href=\"psysml:4dee80e3-b22f-453a-a22d-01febf7f1461\" xlink:show=\"new\" xlink:title=\"psysml:4dee80e3-b22f-453a-a22d-01febf7f1461\" xlink:type=\"simple\"><path d=\"M378.63,98.63 C394.81,114.81 413.99,133.99 428.68,148.68 \" fill=\"none\" id=\"E3-backto-E8\" style=\"stroke:#181818;stroke-width:1.0;\"/><polygon fill=\"#181818\" points=\"369,89,370.4142,96.0711,377.4853,97.4853,376.0711,90.4142,369,89\" style=\"stroke:#181818;stroke-width:1.0;\"/></a></g><!--MD5=[f7e0269b2e2fed3d07255bf4c5cf9d61]\n",
       "reverse link E3 to E9--><g id=\"link_E3_E9\"><a href=\"psysml:1a99464e-62d0-4ed0-8fcf-6a5f70020e5a\" target=\"_top\" title=\"psysml:1a99464e-62d0-4ed0-8fcf-6a5f70020e5a\" xlink:actuate=\"onRequest\" xlink:href=\"psysml:1a99464e-62d0-4ed0-8fcf-6a5f70020e5a\" xlink:show=\"new\" xlink:title=\"psysml:1a99464e-62d0-4ed0-8fcf-6a5f70020e5a\" xlink:type=\"simple\"><path d=\"M394.65,86.22 C437.63,104.09 500.29,130.14 545.27,148.84 \" fill=\"none\" id=\"E3-backto-E9\" style=\"stroke:#181818;stroke-width:1.0;\"/><polygon fill=\"#181818\" points=\"382.54,81.19,386.54,87.19,393.6169,85.8054,389.6169,79.8054,382.54,81.19\" style=\"stroke:#181818;stroke-width:1.0;\"/></a></g><!--MD5=[5c3bb36fe832a92c7f0e1807dd65209d]\n",
       "link E9 to E2--><g id=\"link_E9_E2\"><a href=\"psysml:0df9e7d8-15b3-4a0c-9e4a-dbcf521e999c\" target=\"_top\" title=\"psysml:0df9e7d8-15b3-4a0c-9e4a-dbcf521e999c\" xlink:actuate=\"onRequest\" xlink:href=\"psysml:0df9e7d8-15b3-4a0c-9e4a-dbcf521e999c\" xlink:show=\"new\" xlink:title=\"psysml:0df9e7d8-15b3-4a0c-9e4a-dbcf521e999c\" xlink:type=\"simple\"><path d=\"M619.51,197.04 C629.62,209.63 642.58,225.76 654.99,241.21 \" fill=\"none\" id=\"E9-to-E2\" style=\"stroke:#181818;stroke-width:1.0;\"/><polygon fill=\"#FFFFFF\" points=\"667.59,256.9,650.2302,246.477,661.1419,237.7057,667.59,256.9\" style=\"stroke:#181818;stroke-width:1.0;\"/><ellipse cx=\"648.2179\" cy=\"240.7814\" fill=\"#181818\" rx=\"2\" ry=\"2\" style=\"stroke:#181818;stroke-width:1.0;\"/><ellipse cx=\"656.0119\" cy=\"234.5161\" fill=\"#181818\" rx=\"2\" ry=\"2\" style=\"stroke:#181818;stroke-width:1.0;\"/></a></g><!--MD5=[622114938c97d4dd2a5a002a72a9cb82]\n",
       "reverse link E3 to E10--><g id=\"link_E3_E10\"><a href=\"psysml:dd753c8d-4492-435a-9f7b-2e2aa3e2c99f\" target=\"_top\" title=\"psysml:dd753c8d-4492-435a-9f7b-2e2aa3e2c99f\" xlink:actuate=\"onRequest\" xlink:href=\"psysml:dd753c8d-4492-435a-9f7b-2e2aa3e2c99f\" xlink:show=\"new\" xlink:title=\"psysml:dd753c8d-4492-435a-9f7b-2e2aa3e2c99f\" xlink:type=\"simple\"><path d=\"M395.46,77.52 C463.76,93.45 590.78,123.18 699,149 C704.61,150.34 710.41,151.73 716.24,153.13 \" fill=\"none\" id=\"E3-backto-E10\" style=\"stroke:#181818;stroke-width:1.0;\"/><polygon fill=\"#181818\" points=\"382.61,74.52,387.5426,79.7802,394.2953,77.2501,389.3627,71.9899,382.61,74.52\" style=\"stroke:#181818;stroke-width:1.0;\"/></a></g><!--MD5=[0f36bececdf0dff6e600d6f64214b0f1]\n",
       "link E10 to E2--><g id=\"link_E10_E2\"><a href=\"psysml:f14069e8-729c-4612-9a1d-3161a49dbb01\" target=\"_top\" title=\"psysml:f14069e8-729c-4612-9a1d-3161a49dbb01\" xlink:actuate=\"onRequest\" xlink:href=\"psysml:f14069e8-729c-4612-9a1d-3161a49dbb01\" xlink:show=\"new\" xlink:title=\"psysml:f14069e8-729c-4612-9a1d-3161a49dbb01\" xlink:type=\"simple\"><path d=\"M775.3,197.04 C765.08,209.63 751.99,225.76 739.44,241.21 \" fill=\"none\" id=\"E10-to-E2\" style=\"stroke:#181818;stroke-width:1.0;\"/><polygon fill=\"#FFFFFF\" points=\"726.71,256.9,733.2458,237.7354,744.1173,246.5565,726.71,256.9\" style=\"stroke:#181818;stroke-width:1.0;\"/><ellipse cx=\"738.3904\" cy=\"234.5693\" fill=\"#181818\" rx=\"2\" ry=\"2\" style=\"stroke:#181818;stroke-width:1.0;\"/><ellipse cx=\"746.1557\" cy=\"240.8701\" fill=\"#181818\" rx=\"2\" ry=\"2\" style=\"stroke:#181818;stroke-width:1.0;\"/></a></g><!--MD5=[14dbdb1090107828dd7d9216c02199c9]\n",
       "@startuml\r\n",
       "skin sysmlbw\r\n",
       "skinparam monochrome true\r\n",
       "skinparam wrapWidth 300\r\n",
       "hide circle\r\n",
       "\r\n",
       "package \"eVehicle_LogicalArchitecture\" as E1  [[psysml:48a0fd8e-e908-477a-951f-e80849137b53 ]]  {\r\n",
       "comp def \"Wheel\" as E2  <<(T,blue) part  def>> [[psysml:c71bfb51-0c1a-43c7-b001-545217b9ef75 ]] {\r\n",
       "##//attributes//##\r\n",
       "size: Integer\r\n",
       "}\r\n",
       "comp usage \"eVehicle  \" as E3  <<(T,blue) part>> [[psysml:7a290cd4-7274-47e0-b705-d5f81bd9a805 ]] {\r\n",
       "}\r\n",
       "comp usage \"body  \" as E4  <<(T,blue) part>> [[psysml:cf547f0f-6a3c-4400-8087-58e02942027d ]] {\r\n",
       "}\r\n",
       "comp usage \"battery  \" as E5  <<(T,blue) part>> [[psysml:9bc71746-c348-4f35-aa9d-f5c926d9f486 ]] {\r\n",
       "}\r\n",
       "comp usage \"engine  \" as E6  <<(T,blue) part>> [[psysml:ed7f1726-a58a-4c13-a8e2-93421d9dd421 ]] {\r\n",
       "}\r\n",
       "comp usage \"frontAxis  \" as E7  <<(T,blue) part>> [[psysml:fa02171e-e8e9-4c32-9d78-3890e3f551f4 ]] {\r\n",
       "}\r\n",
       "comp usage \"rearAxis  \" as E8  <<(T,blue) part>> [[psysml:4ffc1767-9985-45dd-8a6f-de48a3d2d289 ]] {\r\n",
       "}\r\n",
       "comp usage \"frontWheel: Wheel[2]  \" as E9  <<(T,blue) part>> [[psysml:d720e279-f056-42e6-a5e5-86e4375afd17 ]] {\r\n",
       "}\r\n",
       "comp usage \"rearWheel: Wheel[2]  \" as E10  <<(T,blue) part>> [[psysml:07408776-d224-43fd-87dd-6a1de6494397 ]] {\r\n",
       "}\r\n",
       "}\r\n",
       "E3 *- - E4 [[psysml:22d18235-fa90-49ec-8672-6e8bc9522e8b ]] \r\n",
       "E3 *- - E5 [[psysml:cb4852ee-7304-4fdc-87e6-0fb2f5324988 ]] \r\n",
       "E3 *- - E6 [[psysml:e511614f-07e1-46be-ba94-928efbed60c6 ]] \r\n",
       "E3 *- - E7 [[psysml:e497f314-4caf-4a33-a351-7905bc34e242 ]] \r\n",
       "E3 *- - E8 [[psysml:4dee80e3-b22f-453a-a22d-01febf7f1461 ]] \r\n",
       "E3 *- - E9 [[psysml:1a99464e-62d0-4ed0-8fcf-6a5f70020e5a ]] \r\n",
       "E9 - -:|> E2 [[psysml:0df9e7d8-15b3-4a0c-9e4a-dbcf521e999c ]] \r\n",
       "E3 *- - E10 [[psysml:dd753c8d-4492-435a-9f7b-2e2aa3e2c99f ]] \r\n",
       "E10 - -:|> E2 [[psysml:f14069e8-729c-4612-9a1d-3161a49dbb01 ]] \r\n",
       "@enduml\r\n",
       "\n",
       "PlantUML version 1.2022.7(Mon Aug 22 17:01:30 UTC 2022)\n",
       "(EPL source distribution)\n",
       "Java Runtime: OpenJDK Runtime Environment\n",
       "JVM: OpenJDK 64-Bit Server VM\n",
       "Default Encoding: UTF-8\n",
       "Language: en\n",
       "Country: null\n",
       "--></g></svg>"
      ]
     },
     "execution_count": 7,
     "metadata": {},
     "output_type": "execute_result"
    }
   ],
   "source": [
    "%viz --view=tree eVehicle_LogicalArchitecture"
   ]
  },
  {
   "cell_type": "markdown",
   "metadata": {},
   "source": [
    "The attribute *size* itself can also be defined and reused for several attribute usages. It is a common concept in SysML v2 to separate the definition of elements and the usage of elements. SysML v1 also follows this concept, but not as consequent as SysML v2. \n",
    "\n",
    "The attribute definition is not mandatory and only partly useful in this example, because the size is only used at one place. But I added it anyhow as an example for attribute definitions. The keyword *attribute* can be omitted as, for example, in the definition of the *size* value. The AttributeDefinition can be compared to the SysML v1 ValueType."
   ]
  },
  {
   "cell_type": "code",
   "execution_count": 8,
   "metadata": {},
   "outputs": [
    {
     "name": "stdout",
     "output_type": "stream",
     "text": [
      "WARNING:Default public import is deprecated; make private if possible (8.sysml line : 4 column : 9)\n"
     ]
    },
    {
     "data": {
      "text/plain": [
       "Package eVehicle_LogicalArchitecture (9a744ccf-91b6-43ac-980e-2414e1cba81d)\n"
      ]
     },
     "execution_count": 8,
     "metadata": {},
     "output_type": "execute_result"
    }
   ],
   "source": [
    "package eVehicle_LogicalArchitecture {   \n",
    "    \n",
    "    attribute def WheelSize {\n",
    "        import ScalarValues::*;\n",
    "        size : Integer;\n",
    "        deviation : Integer;        \n",
    "    }\n",
    "    \n",
    "    part def Wheel {\n",
    "        attribute sizeOfWheel : WheelSize;\n",
    "    }\n",
    "    \n",
    "    part eVehicle {    \n",
    "        part body;\n",
    "        part battery;\n",
    "        part engine;\n",
    "        part frontAxis;\n",
    "        part rearAxis;\n",
    "        part frontWheel : Wheel[2];\n",
    "        part rearWheel : Wheel[2];\n",
    "    }\n",
    "}"
   ]
  },
  {
   "cell_type": "code",
   "execution_count": 9,
   "metadata": {},
   "outputs": [
    {
     "data": {
      "image/svg+xml": [
       "<?xml version=\"1.0\" encoding=\"UTF-8\" standalone=\"no\"?><svg xmlns=\"http://www.w3.org/2000/svg\" xmlns:xlink=\"http://www.w3.org/1999/xlink\" contentStyleType=\"text/css\" height=\"355px\" preserveAspectRatio=\"none\" style=\"width:905px;height:355px;background:#FFFFFF;\" version=\"1.1\" viewBox=\"0 0 905 355\" width=\"905px\" zoomAndPan=\"magnify\"><defs/><g><!--MD5=[fbc87193dbaf4d95561dea2c320d4a47]\n",
       "cluster E1--><g id=\"cluster_E1\"><a href=\"psysml:9a744ccf-91b6-43ac-980e-2414e1cba81d\" target=\"_top\" title=\"psysml:9a744ccf-91b6-43ac-980e-2414e1cba81d\" xlink:actuate=\"onRequest\" xlink:href=\"psysml:9a744ccf-91b6-43ac-980e-2414e1cba81d\" xlink:show=\"new\" xlink:title=\"psysml:9a744ccf-91b6-43ac-980e-2414e1cba81d\" xlink:type=\"simple\"><polygon fill=\"none\" points=\"16,6,231.25,6,238.25,28.2969,888,28.2969,888,348,16,348,16,6\" style=\"stroke:#000000;stroke-width:1.5;\"/><line style=\"stroke:#000000;stroke-width:1.5;\" x1=\"16\" x2=\"238.25\" y1=\"28.2969\" y2=\"28.2969\"/><text fill=\"#000000\" font-family=\"sans-serif\" font-size=\"14\" font-weight=\"bold\" lengthAdjust=\"spacing\" textLength=\"209.25\" x=\"20\" y=\"20.9951\">eVehicle_LogicalArchitecture</text></a></g><!--MD5=[b4997ac47864f28c2f74865a473b2911]\n",
       "class E2--><a href=\"psysml:ebc36a25-070a-4e96-8347-b33d428901eb\" target=\"_top\" title=\"psysml:ebc36a25-070a-4e96-8347-b33d428901eb\" xlink:actuate=\"onRequest\" xlink:href=\"psysml:ebc36a25-070a-4e96-8347-b33d428901eb\" xlink:show=\"new\" xlink:title=\"psysml:ebc36a25-070a-4e96-8347-b33d428901eb\" xlink:type=\"simple\"><g id=\"elem_E2\"><rect fill=\"#FFFFFF\" height=\"48.2656\" id=\"E2\" style=\"stroke:#181818;stroke-width:0.5;\" width=\"99\" x=\"594.5\" y=\"41\"/><text fill=\"#000000\" font-family=\"sans-serif\" font-size=\"12\" font-style=\"italic\" lengthAdjust=\"spacing\" textLength=\"97\" x=\"595.5\" y=\"57.1387\">«attribute  def»</text><text fill=\"#000000\" font-family=\"sans-serif\" font-size=\"14\" lengthAdjust=\"spacing\" textLength=\"72\" x=\"608\" y=\"72.9639\">WheelSize</text><line style=\"stroke:#181818;stroke-width:0.5;\" x1=\"595.5\" x2=\"692.5\" y1=\"81.2656\" y2=\"81.2656\"/></g></a><!--MD5=[09b614a08d8cba4a07c9adeb5e0fee81]\n",
       "class E3--><a href=\"psysml:6ff0b444-2624-4fd5-9c5f-d492f5e36d73\" target=\"_top\" title=\"psysml:6ff0b444-2624-4fd5-9c5f-d492f5e36d73\" xlink:actuate=\"onRequest\" xlink:href=\"psysml:6ff0b444-2624-4fd5-9c5f-d492f5e36d73\" xlink:show=\"new\" xlink:title=\"psysml:6ff0b444-2624-4fd5-9c5f-d492f5e36d73\" xlink:type=\"simple\"><g id=\"elem_E3\"><rect fill=\"#FFFFFF\" height=\"75.0813\" id=\"E3\" style=\"stroke:#181818;stroke-width:0.5;\" width=\"179\" x=\"601.5\" y=\"257\"/><text fill=\"#000000\" font-family=\"sans-serif\" font-size=\"12\" font-style=\"italic\" lengthAdjust=\"spacing\" textLength=\"68\" x=\"657\" y=\"273.1387\">«part  def»</text><text fill=\"#000000\" font-family=\"sans-serif\" font-size=\"14\" lengthAdjust=\"spacing\" textLength=\"43\" x=\"669.5\" y=\"288.9639\">Wheel</text><line style=\"stroke:#181818;stroke-width:0.5;\" x1=\"602.5\" x2=\"779.5\" y1=\"297.2656\" y2=\"297.2656\"/><text fill=\"#000000\" font-family=\"sans-serif\" font-size=\"14\" lengthAdjust=\"spacing\" textLength=\"167\" x=\"607.5\" y=\"324.7795\">sizeOfWheel: WheelSize</text><text fill=\"#000000\" font-family=\"sans-serif\" font-size=\"14\" font-style=\"italic\" lengthAdjust=\"spacing\" textLength=\"66\" x=\"658\" y=\"309.6123\">attributes</text></g></a><!--MD5=[ebbe1d658d1005bcc118a6aa81145e00]\n",
       "class E4--><a href=\"psysml:9f940944-cc13-42af-ac96-3efd6db9a9b8\" target=\"_top\" title=\"psysml:9f940944-cc13-42af-ac96-3efd6db9a9b8\" xlink:actuate=\"onRequest\" xlink:href=\"psysml:9f940944-cc13-42af-ac96-3efd6db9a9b8\" xlink:show=\"new\" xlink:title=\"psysml:9f940944-cc13-42af-ac96-3efd6db9a9b8\" xlink:type=\"simple\"><g id=\"elem_E4\"><rect fill=\"#FFFFFF\" height=\"48.2656\" id=\"E4\" rx=\"10\" ry=\"10\" style=\"stroke:#181818;stroke-width:0.5;\" width=\"73\" x=\"309.5\" y=\"41\"/><text fill=\"#000000\" font-family=\"sans-serif\" font-size=\"12\" font-style=\"italic\" lengthAdjust=\"spacing\" textLength=\"40\" x=\"326\" y=\"57.1387\">«part»</text><text fill=\"#000000\" font-family=\"sans-serif\" font-size=\"14\" lengthAdjust=\"spacing\" textLength=\"59\" x=\"312.5\" y=\"72.9639\">eVehicle</text><line style=\"stroke:#181818;stroke-width:0.5;\" x1=\"310.5\" x2=\"381.5\" y1=\"81.2656\" y2=\"81.2656\"/></g></a><!--MD5=[270fce915f116d4de14055a7c1d9a0f3]\n",
       "class E5--><a href=\"psysml:d7669fe8-d57a-425f-a659-917e19581919\" target=\"_top\" title=\"psysml:d7669fe8-d57a-425f-a659-917e19581919\" xlink:actuate=\"onRequest\" xlink:href=\"psysml:d7669fe8-d57a-425f-a659-917e19581919\" xlink:show=\"new\" xlink:title=\"psysml:d7669fe8-d57a-425f-a659-917e19581919\" xlink:type=\"simple\"><g id=\"elem_E5\"><rect fill=\"#FFFFFF\" height=\"48.2656\" id=\"E5\" rx=\"10\" ry=\"10\" style=\"stroke:#181818;stroke-width:0.5;\" width=\"48\" x=\"32\" y=\"149\"/><text fill=\"#000000\" font-family=\"sans-serif\" font-size=\"12\" font-style=\"italic\" lengthAdjust=\"spacing\" textLength=\"40\" x=\"36\" y=\"165.1387\">«part»</text><text fill=\"#000000\" font-family=\"sans-serif\" font-size=\"14\" lengthAdjust=\"spacing\" textLength=\"34\" x=\"35\" y=\"180.9639\">body</text><line style=\"stroke:#181818;stroke-width:0.5;\" x1=\"33\" x2=\"79\" y1=\"189.2656\" y2=\"189.2656\"/></g></a><!--MD5=[60a26617385b1d2d0262a64233df1f8d]\n",
       "class E6--><a href=\"psysml:cabd4bb1-5690-4402-9677-509d95d89da7\" target=\"_top\" title=\"psysml:cabd4bb1-5690-4402-9677-509d95d89da7\" xlink:actuate=\"onRequest\" xlink:href=\"psysml:cabd4bb1-5690-4402-9677-509d95d89da7\" xlink:show=\"new\" xlink:title=\"psysml:cabd4bb1-5690-4402-9677-509d95d89da7\" xlink:type=\"simple\"><g id=\"elem_E6\"><rect fill=\"#FFFFFF\" height=\"48.2656\" id=\"E6\" rx=\"10\" ry=\"10\" style=\"stroke:#181818;stroke-width:0.5;\" width=\"62\" x=\"115\" y=\"149\"/><text fill=\"#000000\" font-family=\"sans-serif\" font-size=\"12\" font-style=\"italic\" lengthAdjust=\"spacing\" textLength=\"40\" x=\"126\" y=\"165.1387\">«part»</text><text fill=\"#000000\" font-family=\"sans-serif\" font-size=\"14\" lengthAdjust=\"spacing\" textLength=\"48\" x=\"118\" y=\"180.9639\">battery</text><line style=\"stroke:#181818;stroke-width:0.5;\" x1=\"116\" x2=\"176\" y1=\"189.2656\" y2=\"189.2656\"/></g></a><!--MD5=[2156ba9850f5573cc1fc38a6a4b2f02b]\n",
       "class E7--><a href=\"psysml:7d34b3e6-4c95-4fad-8c22-46b6064c58d8\" target=\"_top\" title=\"psysml:7d34b3e6-4c95-4fad-8c22-46b6064c58d8\" xlink:actuate=\"onRequest\" xlink:href=\"psysml:7d34b3e6-4c95-4fad-8c22-46b6064c58d8\" xlink:show=\"new\" xlink:title=\"psysml:7d34b3e6-4c95-4fad-8c22-46b6064c58d8\" xlink:type=\"simple\"><g id=\"elem_E7\"><rect fill=\"#FFFFFF\" height=\"48.2656\" id=\"E7\" rx=\"10\" ry=\"10\" style=\"stroke:#181818;stroke-width:0.5;\" width=\"62\" x=\"212\" y=\"149\"/><text fill=\"#000000\" font-family=\"sans-serif\" font-size=\"12\" font-style=\"italic\" lengthAdjust=\"spacing\" textLength=\"40\" x=\"223\" y=\"165.1387\">«part»</text><text fill=\"#000000\" font-family=\"sans-serif\" font-size=\"14\" lengthAdjust=\"spacing\" textLength=\"48\" x=\"215\" y=\"180.9639\">engine</text><line style=\"stroke:#181818;stroke-width:0.5;\" x1=\"213\" x2=\"273\" y1=\"189.2656\" y2=\"189.2656\"/></g></a><!--MD5=[b9389687b975829384b498ac4b7476b2]\n",
       "class E8--><a href=\"psysml:72f44295-5ca6-4b84-8710-138d144eb598\" target=\"_top\" title=\"psysml:72f44295-5ca6-4b84-8710-138d144eb598\" xlink:actuate=\"onRequest\" xlink:href=\"psysml:72f44295-5ca6-4b84-8710-138d144eb598\" xlink:show=\"new\" xlink:title=\"psysml:72f44295-5ca6-4b84-8710-138d144eb598\" xlink:type=\"simple\"><g id=\"elem_E8\"><rect fill=\"#FFFFFF\" height=\"48.2656\" id=\"E8\" rx=\"10\" ry=\"10\" style=\"stroke:#181818;stroke-width:0.5;\" width=\"73\" x=\"309.5\" y=\"149\"/><text fill=\"#000000\" font-family=\"sans-serif\" font-size=\"12\" font-style=\"italic\" lengthAdjust=\"spacing\" textLength=\"40\" x=\"326\" y=\"165.1387\">«part»</text><text fill=\"#000000\" font-family=\"sans-serif\" font-size=\"14\" lengthAdjust=\"spacing\" textLength=\"59\" x=\"312.5\" y=\"180.9639\">frontAxis</text><line style=\"stroke:#181818;stroke-width:0.5;\" x1=\"310.5\" x2=\"381.5\" y1=\"189.2656\" y2=\"189.2656\"/></g></a><!--MD5=[fd4143e9d270a159db93a4ea2a975926]\n",
       "class E9--><a href=\"psysml:b7d4908e-2525-4a17-819e-52100e286c1c\" target=\"_top\" title=\"psysml:b7d4908e-2525-4a17-819e-52100e286c1c\" xlink:actuate=\"onRequest\" xlink:href=\"psysml:b7d4908e-2525-4a17-819e-52100e286c1c\" xlink:show=\"new\" xlink:title=\"psysml:b7d4908e-2525-4a17-819e-52100e286c1c\" xlink:type=\"simple\"><g id=\"elem_E9\"><rect fill=\"#FFFFFF\" height=\"48.2656\" id=\"E9\" rx=\"10\" ry=\"10\" style=\"stroke:#181818;stroke-width:0.5;\" width=\"68\" x=\"418\" y=\"149\"/><text fill=\"#000000\" font-family=\"sans-serif\" font-size=\"12\" font-style=\"italic\" lengthAdjust=\"spacing\" textLength=\"40\" x=\"432\" y=\"165.1387\">«part»</text><text fill=\"#000000\" font-family=\"sans-serif\" font-size=\"14\" lengthAdjust=\"spacing\" textLength=\"54\" x=\"421\" y=\"180.9639\">rearAxis</text><line style=\"stroke:#181818;stroke-width:0.5;\" x1=\"419\" x2=\"485\" y1=\"189.2656\" y2=\"189.2656\"/></g></a><!--MD5=[96f4274e9e20536e775497830990834d]\n",
       "class E10--><a href=\"psysml:6dedac84-adfd-43ba-bde5-d11782aafda1\" target=\"_top\" title=\"psysml:6dedac84-adfd-43ba-bde5-d11782aafda1\" xlink:actuate=\"onRequest\" xlink:href=\"psysml:6dedac84-adfd-43ba-bde5-d11782aafda1\" xlink:show=\"new\" xlink:title=\"psysml:6dedac84-adfd-43ba-bde5-d11782aafda1\" xlink:type=\"simple\"><g id=\"elem_E10\"><rect fill=\"#FFFFFF\" height=\"48.2656\" id=\"E10\" rx=\"10\" ry=\"10\" style=\"stroke:#181818;stroke-width:0.5;\" width=\"160\" x=\"521\" y=\"149\"/><text fill=\"#000000\" font-family=\"sans-serif\" font-size=\"12\" font-style=\"italic\" lengthAdjust=\"spacing\" textLength=\"40\" x=\"581\" y=\"165.1387\">«part»</text><text fill=\"#000000\" font-family=\"sans-serif\" font-size=\"14\" lengthAdjust=\"spacing\" textLength=\"146\" x=\"524\" y=\"180.9639\">frontWheel: Wheel[2]</text><line style=\"stroke:#181818;stroke-width:0.5;\" x1=\"522\" x2=\"680\" y1=\"189.2656\" y2=\"189.2656\"/></g></a><!--MD5=[1dd1bfd58a279cf63c5f349dbc8fc6a1]\n",
       "class E11--><a href=\"psysml:ae86b246-d624-47f3-845a-d38fed9eaff8\" target=\"_top\" title=\"psysml:ae86b246-d624-47f3-845a-d38fed9eaff8\" xlink:actuate=\"onRequest\" xlink:href=\"psysml:ae86b246-d624-47f3-845a-d38fed9eaff8\" xlink:show=\"new\" xlink:title=\"psysml:ae86b246-d624-47f3-845a-d38fed9eaff8\" xlink:type=\"simple\"><g id=\"elem_E11\"><rect fill=\"#FFFFFF\" height=\"48.2656\" id=\"E11\" rx=\"10\" ry=\"10\" style=\"stroke:#181818;stroke-width:0.5;\" width=\"155\" x=\"716.5\" y=\"149\"/><text fill=\"#000000\" font-family=\"sans-serif\" font-size=\"12\" font-style=\"italic\" lengthAdjust=\"spacing\" textLength=\"40\" x=\"774\" y=\"165.1387\">«part»</text><text fill=\"#000000\" font-family=\"sans-serif\" font-size=\"14\" lengthAdjust=\"spacing\" textLength=\"141\" x=\"719.5\" y=\"180.9639\">rearWheel: Wheel[2]</text><line style=\"stroke:#181818;stroke-width:0.5;\" x1=\"717.5\" x2=\"870.5\" y1=\"189.2656\" y2=\"189.2656\"/></g></a><!--MD5=[62aa6af11e70f752912c1cb0466f24f7]\n",
       "reverse link E4 to E5--><g id=\"link_E4_E5\"><a href=\"psysml:f761ee39-d3ba-42ac-b0d6-caeefd7465c4\" target=\"_top\" title=\"psysml:f761ee39-d3ba-42ac-b0d6-caeefd7465c4\" xlink:actuate=\"onRequest\" xlink:href=\"psysml:f761ee39-d3ba-42ac-b0d6-caeefd7465c4\" xlink:show=\"new\" xlink:title=\"psysml:f761ee39-d3ba-42ac-b0d6-caeefd7465c4\" xlink:type=\"simple\"><path d=\"M296.55,79.72 C245.79,94.45 164.98,119.73 98,149 C92.06,151.6 85.84,154.75 80.06,157.87 \" fill=\"none\" id=\"E4-backto-E5\" style=\"stroke:#181818;stroke-width:1.0;\"/><polygon fill=\"#181818\" points=\"309.09,76.11,302.2173,73.9267,297.5587,79.431,304.4314,81.6143,309.09,76.11\" style=\"stroke:#181818;stroke-width:1.0;\"/></a></g><!--MD5=[6db378b65e1aef66a01cb3103812b399]\n",
       "reverse link E4 to E6--><g id=\"link_E4_E6\"><a href=\"psysml:ff3dc97a-220f-498b-a5e9-e175673a33a8\" target=\"_top\" title=\"psysml:ff3dc97a-220f-498b-a5e9-e175673a33a8\" xlink:actuate=\"onRequest\" xlink:href=\"psysml:ff3dc97a-220f-498b-a5e9-e175673a33a8\" xlink:show=\"new\" xlink:title=\"psysml:ff3dc97a-220f-498b-a5e9-e175673a33a8\" xlink:type=\"simple\"><path d=\"M297.67,91.62 C260.22,111.46 209.44,138.38 177.2,155.47 \" fill=\"none\" id=\"E4-backto-E6\" style=\"stroke:#181818;stroke-width:1.0;\"/><polygon fill=\"#181818\" points=\"309.32,85.44,302.1455,84.7146,298.7165,91.0583,305.891,91.7837,309.32,85.44\" style=\"stroke:#181818;stroke-width:1.0;\"/></a></g><!--MD5=[722ff4eef345aa10242dad44df0e98c7]\n",
       "reverse link E4 to E7--><g id=\"link_E4_E7\"><a href=\"psysml:ada67abb-4a16-4b2b-8fcb-4d9b5001e8b2\" target=\"_top\" title=\"psysml:ada67abb-4a16-4b2b-8fcb-4d9b5001e8b2\" xlink:actuate=\"onRequest\" xlink:href=\"psysml:ada67abb-4a16-4b2b-8fcb-4d9b5001e8b2\" xlink:show=\"new\" xlink:title=\"psysml:ada67abb-4a16-4b2b-8fcb-4d9b5001e8b2\" xlink:type=\"simple\"><path d=\"M314.3,98.63 C298.57,114.81 279.93,133.99 265.66,148.68 \" fill=\"none\" id=\"E4-backto-E7\" style=\"stroke:#181818;stroke-width:1.0;\"/><polygon fill=\"#181818\" points=\"323.65,89,316.5994,90.513,315.2843,97.6032,322.3349,96.0902,323.65,89\" style=\"stroke:#181818;stroke-width:1.0;\"/></a></g><!--MD5=[c6fc7cdb0cabde04948078cf183fa696]\n",
       "reverse link E4 to E8--><g id=\"link_E4_E8\"><a href=\"psysml:6cb6a933-c7b0-43f9-a724-c3279f647b17\" target=\"_top\" title=\"psysml:6cb6a933-c7b0-43f9-a724-c3279f647b17\" xlink:actuate=\"onRequest\" xlink:href=\"psysml:6cb6a933-c7b0-43f9-a724-c3279f647b17\" xlink:show=\"new\" xlink:title=\"psysml:6cb6a933-c7b0-43f9-a724-c3279f647b17\" xlink:type=\"simple\"><path d=\"M346,102.34 C346,117.68 346,135.1 346,148.68 \" fill=\"none\" id=\"E4-backto-E8\" style=\"stroke:#181818;stroke-width:1.0;\"/><polygon fill=\"#181818\" points=\"346,89,342,95,346,101,350,95,346,89\" style=\"stroke:#181818;stroke-width:1.0;\"/></a></g><!--MD5=[e7ea4bd30698dc91ca0c06b9d8e4f891]\n",
       "reverse link E4 to E9--><g id=\"link_E4_E9\"><a href=\"psysml:159da90f-9d92-46e0-ac61-3292910841d6\" target=\"_top\" title=\"psysml:159da90f-9d92-46e0-ac61-3292910841d6\" xlink:actuate=\"onRequest\" xlink:href=\"psysml:159da90f-9d92-46e0-ac61-3292910841d6\" xlink:show=\"new\" xlink:title=\"psysml:159da90f-9d92-46e0-ac61-3292910841d6\" xlink:type=\"simple\"><path d=\"M378.63,98.63 C394.81,114.81 413.99,133.99 428.68,148.68 \" fill=\"none\" id=\"E4-backto-E9\" style=\"stroke:#181818;stroke-width:1.0;\"/><polygon fill=\"#181818\" points=\"369,89,370.4142,96.0711,377.4853,97.4853,376.0711,90.4142,369,89\" style=\"stroke:#181818;stroke-width:1.0;\"/></a></g><!--MD5=[f119e7f268ff8fee167b0c2c9936af30]\n",
       "reverse link E4 to E10--><g id=\"link_E4_E10\"><a href=\"psysml:e4bff5aa-e52b-423b-a584-5cf02615526d\" target=\"_top\" title=\"psysml:e4bff5aa-e52b-423b-a584-5cf02615526d\" xlink:actuate=\"onRequest\" xlink:href=\"psysml:e4bff5aa-e52b-423b-a584-5cf02615526d\" xlink:show=\"new\" xlink:title=\"psysml:e4bff5aa-e52b-423b-a584-5cf02615526d\" xlink:type=\"simple\"><path d=\"M394.65,86.22 C437.63,104.09 500.29,130.14 545.27,148.84 \" fill=\"none\" id=\"E4-backto-E10\" style=\"stroke:#181818;stroke-width:1.0;\"/><polygon fill=\"#181818\" points=\"382.54,81.19,386.54,87.19,393.6169,85.8054,389.6169,79.8054,382.54,81.19\" style=\"stroke:#181818;stroke-width:1.0;\"/></a></g><!--MD5=[feeac5eb423634930294aa81f2d25a4c]\n",
       "link E10 to E3--><g id=\"link_E10_E3\"><a href=\"psysml:18da4070-ae18-4032-ac17-68ceb2c0514b\" target=\"_top\" title=\"psysml:18da4070-ae18-4032-ac17-68ceb2c0514b\" xlink:actuate=\"onRequest\" xlink:href=\"psysml:18da4070-ae18-4032-ac17-68ceb2c0514b\" xlink:show=\"new\" xlink:title=\"psysml:18da4070-ae18-4032-ac17-68ceb2c0514b\" xlink:type=\"simple\"><path d=\"M618.35,197.04 C627.73,209.49 639.72,225.42 651.25,240.72 \" fill=\"none\" id=\"E10-to-E3\" style=\"stroke:#181818;stroke-width:1.0;\"/><polygon fill=\"#FFFFFF\" points=\"663.43,256.9,646.408,245.934,657.5912,237.5116,663.43,256.9\" style=\"stroke:#181818;stroke-width:1.0;\"/><ellipse cx=\"644.5765\" cy=\"240.1777\" fill=\"#181818\" rx=\"2\" ry=\"2\" style=\"stroke:#181818;stroke-width:1.0;\"/><ellipse cx=\"652.5645\" cy=\"234.1617\" fill=\"#181818\" rx=\"2\" ry=\"2\" style=\"stroke:#181818;stroke-width:1.0;\"/></a></g><!--MD5=[593b807a8aafaab39af1c25ada4edf41]\n",
       "reverse link E4 to E11--><g id=\"link_E4_E11\"><a href=\"psysml:15c43032-012d-486c-ade5-d3a8c2a4238d\" target=\"_top\" title=\"psysml:15c43032-012d-486c-ade5-d3a8c2a4238d\" xlink:actuate=\"onRequest\" xlink:href=\"psysml:15c43032-012d-486c-ade5-d3a8c2a4238d\" xlink:show=\"new\" xlink:title=\"psysml:15c43032-012d-486c-ade5-d3a8c2a4238d\" xlink:type=\"simple\"><path d=\"M395.46,77.52 C463.76,93.45 590.78,123.18 699,149 C704.61,150.34 710.41,151.73 716.24,153.13 \" fill=\"none\" id=\"E4-backto-E11\" style=\"stroke:#181818;stroke-width:1.0;\"/><polygon fill=\"#181818\" points=\"382.61,74.52,387.5426,79.7802,394.2953,77.2501,389.3627,71.9899,382.61,74.52\" style=\"stroke:#181818;stroke-width:1.0;\"/></a></g><!--MD5=[0517f1ce58c4d5483948f93845c45e26]\n",
       "link E11 to E3--><g id=\"link_E11_E3\"><a href=\"psysml:85a08495-1f32-45d3-9e47-fb9c01482f17\" target=\"_top\" title=\"psysml:85a08495-1f32-45d3-9e47-fb9c01482f17\" xlink:actuate=\"onRequest\" xlink:href=\"psysml:85a08495-1f32-45d3-9e47-fb9c01482f17\" xlink:show=\"new\" xlink:title=\"psysml:85a08495-1f32-45d3-9e47-fb9c01482f17\" xlink:type=\"simple\"><path d=\"M774.14,197.04 C763.18,209.76 749.1,226.1 735.65,241.7 \" fill=\"none\" id=\"E11-to-E3\" style=\"stroke:#181818;stroke-width:1.0;\"/><polygon fill=\"#FFFFFF\" points=\"722.55,256.9,729.6561,237.9394,740.2588,247.0818,722.55,256.9\" style=\"stroke:#181818;stroke-width:1.0;\"/><ellipse cx=\"734.893\" cy=\"234.9287\" fill=\"#181818\" rx=\"2\" ry=\"2\" style=\"stroke:#181818;stroke-width:1.0;\"/><ellipse cx=\"742.4664\" cy=\"241.4589\" fill=\"#181818\" rx=\"2\" ry=\"2\" style=\"stroke:#181818;stroke-width:1.0;\"/></a></g><!--MD5=[6cce48d4fb8196f2c44b5625b8c98bde]\n",
       "@startuml\r\n",
       "skin sysmlbw\r\n",
       "skinparam monochrome true\r\n",
       "skinparam wrapWidth 300\r\n",
       "hide circle\r\n",
       "\r\n",
       "package \"eVehicle_LogicalArchitecture\" as E1  [[psysml:9a744ccf-91b6-43ac-980e-2414e1cba81d ]]  {\r\n",
       "comp def \"WheelSize\" as E2  <<(T,blue) attribute  def>> [[psysml:ebc36a25-070a-4e96-8347-b33d428901eb ]] {\r\n",
       "}\r\n",
       "comp def \"Wheel\" as E3  <<(T,blue) part  def>> [[psysml:6ff0b444-2624-4fd5-9c5f-d492f5e36d73 ]] {\r\n",
       "##//attributes//##\r\n",
       "sizeOfWheel: WheelSize\r\n",
       "}\r\n",
       "comp usage \"eVehicle  \" as E4  <<(T,blue) part>> [[psysml:9f940944-cc13-42af-ac96-3efd6db9a9b8 ]] {\r\n",
       "}\r\n",
       "comp usage \"body  \" as E5  <<(T,blue) part>> [[psysml:d7669fe8-d57a-425f-a659-917e19581919 ]] {\r\n",
       "}\r\n",
       "comp usage \"battery  \" as E6  <<(T,blue) part>> [[psysml:cabd4bb1-5690-4402-9677-509d95d89da7 ]] {\r\n",
       "}\r\n",
       "comp usage \"engine  \" as E7  <<(T,blue) part>> [[psysml:7d34b3e6-4c95-4fad-8c22-46b6064c58d8 ]] {\r\n",
       "}\r\n",
       "comp usage \"frontAxis  \" as E8  <<(T,blue) part>> [[psysml:72f44295-5ca6-4b84-8710-138d144eb598 ]] {\r\n",
       "}\r\n",
       "comp usage \"rearAxis  \" as E9  <<(T,blue) part>> [[psysml:b7d4908e-2525-4a17-819e-52100e286c1c ]] {\r\n",
       "}\r\n",
       "comp usage \"frontWheel: Wheel[2]  \" as E10  <<(T,blue) part>> [[psysml:6dedac84-adfd-43ba-bde5-d11782aafda1 ]] {\r\n",
       "}\r\n",
       "comp usage \"rearWheel: Wheel[2]  \" as E11  <<(T,blue) part>> [[psysml:ae86b246-d624-47f3-845a-d38fed9eaff8 ]] {\r\n",
       "}\r\n",
       "}\r\n",
       "E4 *- - E5 [[psysml:f761ee39-d3ba-42ac-b0d6-caeefd7465c4 ]] \r\n",
       "E4 *- - E6 [[psysml:ff3dc97a-220f-498b-a5e9-e175673a33a8 ]] \r\n",
       "E4 *- - E7 [[psysml:ada67abb-4a16-4b2b-8fcb-4d9b5001e8b2 ]] \r\n",
       "E4 *- - E8 [[psysml:6cb6a933-c7b0-43f9-a724-c3279f647b17 ]] \r\n",
       "E4 *- - E9 [[psysml:159da90f-9d92-46e0-ac61-3292910841d6 ]] \r\n",
       "E4 *- - E10 [[psysml:e4bff5aa-e52b-423b-a584-5cf02615526d ]] \r\n",
       "E10 - -:|> E3 [[psysml:18da4070-ae18-4032-ac17-68ceb2c0514b ]] \r\n",
       "E4 *- - E11 [[psysml:15c43032-012d-486c-ade5-d3a8c2a4238d ]] \r\n",
       "E11 - -:|> E3 [[psysml:85a08495-1f32-45d3-9e47-fb9c01482f17 ]] \r\n",
       "@enduml\r\n",
       "\n",
       "PlantUML version 1.2022.7(Mon Aug 22 17:01:30 UTC 2022)\n",
       "(EPL source distribution)\n",
       "Java Runtime: OpenJDK Runtime Environment\n",
       "JVM: OpenJDK 64-Bit Server VM\n",
       "Default Encoding: UTF-8\n",
       "Language: en\n",
       "Country: null\n",
       "--></g></svg>"
      ]
     },
     "execution_count": 9,
     "metadata": {},
     "output_type": "execute_result"
    }
   ],
   "source": [
    "%viz --view=tree eVehicle_LogicalArchitecture"
   ]
  },
  {
   "cell_type": "markdown",
   "metadata": {},
   "source": [
    "SysML v2 provides an extensive model library that also includes geometric figures. We can specialize the PartDefinition \"Wheel\" from a cylinder. As an example, in the following model, a radius is set. The imported SI library contains the unit \"mm\". The \":=\" symbol is an assignment for the initial value of the attribute."
   ]
  },
  {
   "cell_type": "code",
   "execution_count": 54,
   "metadata": {},
   "outputs": [
    {
     "data": {
      "text/plain": [
       "Package eVehicle_LogicalArchitecture (e83fccd3-89c8-4e24-9021-fe07f59c0258)\n"
      ]
     },
     "execution_count": 54,
     "metadata": {},
     "output_type": "execute_result"
    }
   ],
   "source": [
    "package eVehicle_LogicalArchitecture {   \n",
    "\n",
    "    private import SI::*;    \n",
    "    \n",
    "    attribute def WheelSize {\n",
    "        size : LengthValue;\n",
    "        deviation : LengthValue;        \n",
    "    }\n",
    "\n",
    "    part def Wheel {\n",
    "        item :>> shape : ShapeItems::Cylinder [1] {\n",
    "            :>> radius = sizeOfWheel.size;\n",
    "        }\n",
    "        attribute sizeOfWheel : WheelSize {\n",
    "            :>> size := 325 [mm];\n",
    "            :>> deviation := 1 [mm];\n",
    "        }\n",
    "    }\n",
    "    \n",
    "    part eVehicle {    \n",
    "        part body;\n",
    "        part battery;\n",
    "        part engine;\n",
    "        part frontAxis;\n",
    "        part rearAxis;\n",
    "        part frontWheel : Wheel[2];\n",
    "        part rearWheel : Wheel[2];\n",
    "    }\n",
    "}"
   ]
  },
  {
   "cell_type": "code",
   "execution_count": 11,
   "metadata": {},
   "outputs": [
    {
     "data": {
      "image/svg+xml": [
       "<?xml version=\"1.0\" encoding=\"UTF-8\" standalone=\"no\"?><svg xmlns=\"http://www.w3.org/2000/svg\" xmlns:xlink=\"http://www.w3.org/1999/xlink\" contentStyleType=\"text/css\" height=\"355px\" preserveAspectRatio=\"none\" style=\"width:905px;height:355px;background:#FFFFFF;\" version=\"1.1\" viewBox=\"0 0 905 355\" width=\"905px\" zoomAndPan=\"magnify\"><defs/><g><!--MD5=[fbc87193dbaf4d95561dea2c320d4a47]\n",
       "cluster E1--><g id=\"cluster_E1\"><a href=\"psysml:9a744ccf-91b6-43ac-980e-2414e1cba81d\" target=\"_top\" title=\"psysml:9a744ccf-91b6-43ac-980e-2414e1cba81d\" xlink:actuate=\"onRequest\" xlink:href=\"psysml:9a744ccf-91b6-43ac-980e-2414e1cba81d\" xlink:show=\"new\" xlink:title=\"psysml:9a744ccf-91b6-43ac-980e-2414e1cba81d\" xlink:type=\"simple\"><polygon fill=\"none\" points=\"16,6,231.25,6,238.25,28.2969,888,28.2969,888,348,16,348,16,6\" style=\"stroke:#000000;stroke-width:1.5;\"/><line style=\"stroke:#000000;stroke-width:1.5;\" x1=\"16\" x2=\"238.25\" y1=\"28.2969\" y2=\"28.2969\"/><text fill=\"#000000\" font-family=\"sans-serif\" font-size=\"14\" font-weight=\"bold\" lengthAdjust=\"spacing\" textLength=\"209.25\" x=\"20\" y=\"20.9951\">eVehicle_LogicalArchitecture</text></a></g><!--MD5=[b4997ac47864f28c2f74865a473b2911]\n",
       "class E2--><a href=\"psysml:ebc36a25-070a-4e96-8347-b33d428901eb\" target=\"_top\" title=\"psysml:ebc36a25-070a-4e96-8347-b33d428901eb\" xlink:actuate=\"onRequest\" xlink:href=\"psysml:ebc36a25-070a-4e96-8347-b33d428901eb\" xlink:show=\"new\" xlink:title=\"psysml:ebc36a25-070a-4e96-8347-b33d428901eb\" xlink:type=\"simple\"><g id=\"elem_E2\"><rect fill=\"#FFFFFF\" height=\"48.2656\" id=\"E2\" style=\"stroke:#181818;stroke-width:0.5;\" width=\"99\" x=\"594.5\" y=\"41\"/><text fill=\"#000000\" font-family=\"sans-serif\" font-size=\"12\" font-style=\"italic\" lengthAdjust=\"spacing\" textLength=\"97\" x=\"595.5\" y=\"57.1387\">«attribute  def»</text><text fill=\"#000000\" font-family=\"sans-serif\" font-size=\"14\" lengthAdjust=\"spacing\" textLength=\"72\" x=\"608\" y=\"72.9639\">WheelSize</text><line style=\"stroke:#181818;stroke-width:0.5;\" x1=\"595.5\" x2=\"692.5\" y1=\"81.2656\" y2=\"81.2656\"/></g></a><!--MD5=[09b614a08d8cba4a07c9adeb5e0fee81]\n",
       "class E3--><a href=\"psysml:6ff0b444-2624-4fd5-9c5f-d492f5e36d73\" target=\"_top\" title=\"psysml:6ff0b444-2624-4fd5-9c5f-d492f5e36d73\" xlink:actuate=\"onRequest\" xlink:href=\"psysml:6ff0b444-2624-4fd5-9c5f-d492f5e36d73\" xlink:show=\"new\" xlink:title=\"psysml:6ff0b444-2624-4fd5-9c5f-d492f5e36d73\" xlink:type=\"simple\"><g id=\"elem_E3\"><rect fill=\"#FFFFFF\" height=\"75.0813\" id=\"E3\" style=\"stroke:#181818;stroke-width:0.5;\" width=\"179\" x=\"601.5\" y=\"257\"/><text fill=\"#000000\" font-family=\"sans-serif\" font-size=\"12\" font-style=\"italic\" lengthAdjust=\"spacing\" textLength=\"68\" x=\"657\" y=\"273.1387\">«part  def»</text><text fill=\"#000000\" font-family=\"sans-serif\" font-size=\"14\" lengthAdjust=\"spacing\" textLength=\"43\" x=\"669.5\" y=\"288.9639\">Wheel</text><line style=\"stroke:#181818;stroke-width:0.5;\" x1=\"602.5\" x2=\"779.5\" y1=\"297.2656\" y2=\"297.2656\"/><text fill=\"#000000\" font-family=\"sans-serif\" font-size=\"14\" lengthAdjust=\"spacing\" textLength=\"167\" x=\"607.5\" y=\"324.7795\">sizeOfWheel: WheelSize</text><text fill=\"#000000\" font-family=\"sans-serif\" font-size=\"14\" font-style=\"italic\" lengthAdjust=\"spacing\" textLength=\"66\" x=\"658\" y=\"309.6123\">attributes</text></g></a><!--MD5=[ebbe1d658d1005bcc118a6aa81145e00]\n",
       "class E4--><a href=\"psysml:9f940944-cc13-42af-ac96-3efd6db9a9b8\" target=\"_top\" title=\"psysml:9f940944-cc13-42af-ac96-3efd6db9a9b8\" xlink:actuate=\"onRequest\" xlink:href=\"psysml:9f940944-cc13-42af-ac96-3efd6db9a9b8\" xlink:show=\"new\" xlink:title=\"psysml:9f940944-cc13-42af-ac96-3efd6db9a9b8\" xlink:type=\"simple\"><g id=\"elem_E4\"><rect fill=\"#FFFFFF\" height=\"48.2656\" id=\"E4\" rx=\"10\" ry=\"10\" style=\"stroke:#181818;stroke-width:0.5;\" width=\"73\" x=\"309.5\" y=\"41\"/><text fill=\"#000000\" font-family=\"sans-serif\" font-size=\"12\" font-style=\"italic\" lengthAdjust=\"spacing\" textLength=\"40\" x=\"326\" y=\"57.1387\">«part»</text><text fill=\"#000000\" font-family=\"sans-serif\" font-size=\"14\" lengthAdjust=\"spacing\" textLength=\"59\" x=\"312.5\" y=\"72.9639\">eVehicle</text><line style=\"stroke:#181818;stroke-width:0.5;\" x1=\"310.5\" x2=\"381.5\" y1=\"81.2656\" y2=\"81.2656\"/></g></a><!--MD5=[270fce915f116d4de14055a7c1d9a0f3]\n",
       "class E5--><a href=\"psysml:d7669fe8-d57a-425f-a659-917e19581919\" target=\"_top\" title=\"psysml:d7669fe8-d57a-425f-a659-917e19581919\" xlink:actuate=\"onRequest\" xlink:href=\"psysml:d7669fe8-d57a-425f-a659-917e19581919\" xlink:show=\"new\" xlink:title=\"psysml:d7669fe8-d57a-425f-a659-917e19581919\" xlink:type=\"simple\"><g id=\"elem_E5\"><rect fill=\"#FFFFFF\" height=\"48.2656\" id=\"E5\" rx=\"10\" ry=\"10\" style=\"stroke:#181818;stroke-width:0.5;\" width=\"48\" x=\"32\" y=\"149\"/><text fill=\"#000000\" font-family=\"sans-serif\" font-size=\"12\" font-style=\"italic\" lengthAdjust=\"spacing\" textLength=\"40\" x=\"36\" y=\"165.1387\">«part»</text><text fill=\"#000000\" font-family=\"sans-serif\" font-size=\"14\" lengthAdjust=\"spacing\" textLength=\"34\" x=\"35\" y=\"180.9639\">body</text><line style=\"stroke:#181818;stroke-width:0.5;\" x1=\"33\" x2=\"79\" y1=\"189.2656\" y2=\"189.2656\"/></g></a><!--MD5=[60a26617385b1d2d0262a64233df1f8d]\n",
       "class E6--><a href=\"psysml:cabd4bb1-5690-4402-9677-509d95d89da7\" target=\"_top\" title=\"psysml:cabd4bb1-5690-4402-9677-509d95d89da7\" xlink:actuate=\"onRequest\" xlink:href=\"psysml:cabd4bb1-5690-4402-9677-509d95d89da7\" xlink:show=\"new\" xlink:title=\"psysml:cabd4bb1-5690-4402-9677-509d95d89da7\" xlink:type=\"simple\"><g id=\"elem_E6\"><rect fill=\"#FFFFFF\" height=\"48.2656\" id=\"E6\" rx=\"10\" ry=\"10\" style=\"stroke:#181818;stroke-width:0.5;\" width=\"62\" x=\"115\" y=\"149\"/><text fill=\"#000000\" font-family=\"sans-serif\" font-size=\"12\" font-style=\"italic\" lengthAdjust=\"spacing\" textLength=\"40\" x=\"126\" y=\"165.1387\">«part»</text><text fill=\"#000000\" font-family=\"sans-serif\" font-size=\"14\" lengthAdjust=\"spacing\" textLength=\"48\" x=\"118\" y=\"180.9639\">battery</text><line style=\"stroke:#181818;stroke-width:0.5;\" x1=\"116\" x2=\"176\" y1=\"189.2656\" y2=\"189.2656\"/></g></a><!--MD5=[2156ba9850f5573cc1fc38a6a4b2f02b]\n",
       "class E7--><a href=\"psysml:7d34b3e6-4c95-4fad-8c22-46b6064c58d8\" target=\"_top\" title=\"psysml:7d34b3e6-4c95-4fad-8c22-46b6064c58d8\" xlink:actuate=\"onRequest\" xlink:href=\"psysml:7d34b3e6-4c95-4fad-8c22-46b6064c58d8\" xlink:show=\"new\" xlink:title=\"psysml:7d34b3e6-4c95-4fad-8c22-46b6064c58d8\" xlink:type=\"simple\"><g id=\"elem_E7\"><rect fill=\"#FFFFFF\" height=\"48.2656\" id=\"E7\" rx=\"10\" ry=\"10\" style=\"stroke:#181818;stroke-width:0.5;\" width=\"62\" x=\"212\" y=\"149\"/><text fill=\"#000000\" font-family=\"sans-serif\" font-size=\"12\" font-style=\"italic\" lengthAdjust=\"spacing\" textLength=\"40\" x=\"223\" y=\"165.1387\">«part»</text><text fill=\"#000000\" font-family=\"sans-serif\" font-size=\"14\" lengthAdjust=\"spacing\" textLength=\"48\" x=\"215\" y=\"180.9639\">engine</text><line style=\"stroke:#181818;stroke-width:0.5;\" x1=\"213\" x2=\"273\" y1=\"189.2656\" y2=\"189.2656\"/></g></a><!--MD5=[b9389687b975829384b498ac4b7476b2]\n",
       "class E8--><a href=\"psysml:72f44295-5ca6-4b84-8710-138d144eb598\" target=\"_top\" title=\"psysml:72f44295-5ca6-4b84-8710-138d144eb598\" xlink:actuate=\"onRequest\" xlink:href=\"psysml:72f44295-5ca6-4b84-8710-138d144eb598\" xlink:show=\"new\" xlink:title=\"psysml:72f44295-5ca6-4b84-8710-138d144eb598\" xlink:type=\"simple\"><g id=\"elem_E8\"><rect fill=\"#FFFFFF\" height=\"48.2656\" id=\"E8\" rx=\"10\" ry=\"10\" style=\"stroke:#181818;stroke-width:0.5;\" width=\"73\" x=\"309.5\" y=\"149\"/><text fill=\"#000000\" font-family=\"sans-serif\" font-size=\"12\" font-style=\"italic\" lengthAdjust=\"spacing\" textLength=\"40\" x=\"326\" y=\"165.1387\">«part»</text><text fill=\"#000000\" font-family=\"sans-serif\" font-size=\"14\" lengthAdjust=\"spacing\" textLength=\"59\" x=\"312.5\" y=\"180.9639\">frontAxis</text><line style=\"stroke:#181818;stroke-width:0.5;\" x1=\"310.5\" x2=\"381.5\" y1=\"189.2656\" y2=\"189.2656\"/></g></a><!--MD5=[fd4143e9d270a159db93a4ea2a975926]\n",
       "class E9--><a href=\"psysml:b7d4908e-2525-4a17-819e-52100e286c1c\" target=\"_top\" title=\"psysml:b7d4908e-2525-4a17-819e-52100e286c1c\" xlink:actuate=\"onRequest\" xlink:href=\"psysml:b7d4908e-2525-4a17-819e-52100e286c1c\" xlink:show=\"new\" xlink:title=\"psysml:b7d4908e-2525-4a17-819e-52100e286c1c\" xlink:type=\"simple\"><g id=\"elem_E9\"><rect fill=\"#FFFFFF\" height=\"48.2656\" id=\"E9\" rx=\"10\" ry=\"10\" style=\"stroke:#181818;stroke-width:0.5;\" width=\"68\" x=\"418\" y=\"149\"/><text fill=\"#000000\" font-family=\"sans-serif\" font-size=\"12\" font-style=\"italic\" lengthAdjust=\"spacing\" textLength=\"40\" x=\"432\" y=\"165.1387\">«part»</text><text fill=\"#000000\" font-family=\"sans-serif\" font-size=\"14\" lengthAdjust=\"spacing\" textLength=\"54\" x=\"421\" y=\"180.9639\">rearAxis</text><line style=\"stroke:#181818;stroke-width:0.5;\" x1=\"419\" x2=\"485\" y1=\"189.2656\" y2=\"189.2656\"/></g></a><!--MD5=[96f4274e9e20536e775497830990834d]\n",
       "class E10--><a href=\"psysml:6dedac84-adfd-43ba-bde5-d11782aafda1\" target=\"_top\" title=\"psysml:6dedac84-adfd-43ba-bde5-d11782aafda1\" xlink:actuate=\"onRequest\" xlink:href=\"psysml:6dedac84-adfd-43ba-bde5-d11782aafda1\" xlink:show=\"new\" xlink:title=\"psysml:6dedac84-adfd-43ba-bde5-d11782aafda1\" xlink:type=\"simple\"><g id=\"elem_E10\"><rect fill=\"#FFFFFF\" height=\"48.2656\" id=\"E10\" rx=\"10\" ry=\"10\" style=\"stroke:#181818;stroke-width:0.5;\" width=\"160\" x=\"521\" y=\"149\"/><text fill=\"#000000\" font-family=\"sans-serif\" font-size=\"12\" font-style=\"italic\" lengthAdjust=\"spacing\" textLength=\"40\" x=\"581\" y=\"165.1387\">«part»</text><text fill=\"#000000\" font-family=\"sans-serif\" font-size=\"14\" lengthAdjust=\"spacing\" textLength=\"146\" x=\"524\" y=\"180.9639\">frontWheel: Wheel[2]</text><line style=\"stroke:#181818;stroke-width:0.5;\" x1=\"522\" x2=\"680\" y1=\"189.2656\" y2=\"189.2656\"/></g></a><!--MD5=[1dd1bfd58a279cf63c5f349dbc8fc6a1]\n",
       "class E11--><a href=\"psysml:ae86b246-d624-47f3-845a-d38fed9eaff8\" target=\"_top\" title=\"psysml:ae86b246-d624-47f3-845a-d38fed9eaff8\" xlink:actuate=\"onRequest\" xlink:href=\"psysml:ae86b246-d624-47f3-845a-d38fed9eaff8\" xlink:show=\"new\" xlink:title=\"psysml:ae86b246-d624-47f3-845a-d38fed9eaff8\" xlink:type=\"simple\"><g id=\"elem_E11\"><rect fill=\"#FFFFFF\" height=\"48.2656\" id=\"E11\" rx=\"10\" ry=\"10\" style=\"stroke:#181818;stroke-width:0.5;\" width=\"155\" x=\"716.5\" y=\"149\"/><text fill=\"#000000\" font-family=\"sans-serif\" font-size=\"12\" font-style=\"italic\" lengthAdjust=\"spacing\" textLength=\"40\" x=\"774\" y=\"165.1387\">«part»</text><text fill=\"#000000\" font-family=\"sans-serif\" font-size=\"14\" lengthAdjust=\"spacing\" textLength=\"141\" x=\"719.5\" y=\"180.9639\">rearWheel: Wheel[2]</text><line style=\"stroke:#181818;stroke-width:0.5;\" x1=\"717.5\" x2=\"870.5\" y1=\"189.2656\" y2=\"189.2656\"/></g></a><!--MD5=[62aa6af11e70f752912c1cb0466f24f7]\n",
       "reverse link E4 to E5--><g id=\"link_E4_E5\"><a href=\"psysml:f761ee39-d3ba-42ac-b0d6-caeefd7465c4\" target=\"_top\" title=\"psysml:f761ee39-d3ba-42ac-b0d6-caeefd7465c4\" xlink:actuate=\"onRequest\" xlink:href=\"psysml:f761ee39-d3ba-42ac-b0d6-caeefd7465c4\" xlink:show=\"new\" xlink:title=\"psysml:f761ee39-d3ba-42ac-b0d6-caeefd7465c4\" xlink:type=\"simple\"><path d=\"M296.55,79.72 C245.79,94.45 164.98,119.73 98,149 C92.06,151.6 85.84,154.75 80.06,157.87 \" fill=\"none\" id=\"E4-backto-E5\" style=\"stroke:#181818;stroke-width:1.0;\"/><polygon fill=\"#181818\" points=\"309.09,76.11,302.2173,73.9267,297.5587,79.431,304.4314,81.6143,309.09,76.11\" style=\"stroke:#181818;stroke-width:1.0;\"/></a></g><!--MD5=[6db378b65e1aef66a01cb3103812b399]\n",
       "reverse link E4 to E6--><g id=\"link_E4_E6\"><a href=\"psysml:ff3dc97a-220f-498b-a5e9-e175673a33a8\" target=\"_top\" title=\"psysml:ff3dc97a-220f-498b-a5e9-e175673a33a8\" xlink:actuate=\"onRequest\" xlink:href=\"psysml:ff3dc97a-220f-498b-a5e9-e175673a33a8\" xlink:show=\"new\" xlink:title=\"psysml:ff3dc97a-220f-498b-a5e9-e175673a33a8\" xlink:type=\"simple\"><path d=\"M297.67,91.62 C260.22,111.46 209.44,138.38 177.2,155.47 \" fill=\"none\" id=\"E4-backto-E6\" style=\"stroke:#181818;stroke-width:1.0;\"/><polygon fill=\"#181818\" points=\"309.32,85.44,302.1455,84.7146,298.7165,91.0583,305.891,91.7837,309.32,85.44\" style=\"stroke:#181818;stroke-width:1.0;\"/></a></g><!--MD5=[722ff4eef345aa10242dad44df0e98c7]\n",
       "reverse link E4 to E7--><g id=\"link_E4_E7\"><a href=\"psysml:ada67abb-4a16-4b2b-8fcb-4d9b5001e8b2\" target=\"_top\" title=\"psysml:ada67abb-4a16-4b2b-8fcb-4d9b5001e8b2\" xlink:actuate=\"onRequest\" xlink:href=\"psysml:ada67abb-4a16-4b2b-8fcb-4d9b5001e8b2\" xlink:show=\"new\" xlink:title=\"psysml:ada67abb-4a16-4b2b-8fcb-4d9b5001e8b2\" xlink:type=\"simple\"><path d=\"M314.3,98.63 C298.57,114.81 279.93,133.99 265.66,148.68 \" fill=\"none\" id=\"E4-backto-E7\" style=\"stroke:#181818;stroke-width:1.0;\"/><polygon fill=\"#181818\" points=\"323.65,89,316.5994,90.513,315.2843,97.6032,322.3349,96.0902,323.65,89\" style=\"stroke:#181818;stroke-width:1.0;\"/></a></g><!--MD5=[c6fc7cdb0cabde04948078cf183fa696]\n",
       "reverse link E4 to E8--><g id=\"link_E4_E8\"><a href=\"psysml:6cb6a933-c7b0-43f9-a724-c3279f647b17\" target=\"_top\" title=\"psysml:6cb6a933-c7b0-43f9-a724-c3279f647b17\" xlink:actuate=\"onRequest\" xlink:href=\"psysml:6cb6a933-c7b0-43f9-a724-c3279f647b17\" xlink:show=\"new\" xlink:title=\"psysml:6cb6a933-c7b0-43f9-a724-c3279f647b17\" xlink:type=\"simple\"><path d=\"M346,102.34 C346,117.68 346,135.1 346,148.68 \" fill=\"none\" id=\"E4-backto-E8\" style=\"stroke:#181818;stroke-width:1.0;\"/><polygon fill=\"#181818\" points=\"346,89,342,95,346,101,350,95,346,89\" style=\"stroke:#181818;stroke-width:1.0;\"/></a></g><!--MD5=[e7ea4bd30698dc91ca0c06b9d8e4f891]\n",
       "reverse link E4 to E9--><g id=\"link_E4_E9\"><a href=\"psysml:159da90f-9d92-46e0-ac61-3292910841d6\" target=\"_top\" title=\"psysml:159da90f-9d92-46e0-ac61-3292910841d6\" xlink:actuate=\"onRequest\" xlink:href=\"psysml:159da90f-9d92-46e0-ac61-3292910841d6\" xlink:show=\"new\" xlink:title=\"psysml:159da90f-9d92-46e0-ac61-3292910841d6\" xlink:type=\"simple\"><path d=\"M378.63,98.63 C394.81,114.81 413.99,133.99 428.68,148.68 \" fill=\"none\" id=\"E4-backto-E9\" style=\"stroke:#181818;stroke-width:1.0;\"/><polygon fill=\"#181818\" points=\"369,89,370.4142,96.0711,377.4853,97.4853,376.0711,90.4142,369,89\" style=\"stroke:#181818;stroke-width:1.0;\"/></a></g><!--MD5=[f119e7f268ff8fee167b0c2c9936af30]\n",
       "reverse link E4 to E10--><g id=\"link_E4_E10\"><a href=\"psysml:e4bff5aa-e52b-423b-a584-5cf02615526d\" target=\"_top\" title=\"psysml:e4bff5aa-e52b-423b-a584-5cf02615526d\" xlink:actuate=\"onRequest\" xlink:href=\"psysml:e4bff5aa-e52b-423b-a584-5cf02615526d\" xlink:show=\"new\" xlink:title=\"psysml:e4bff5aa-e52b-423b-a584-5cf02615526d\" xlink:type=\"simple\"><path d=\"M394.65,86.22 C437.63,104.09 500.29,130.14 545.27,148.84 \" fill=\"none\" id=\"E4-backto-E10\" style=\"stroke:#181818;stroke-width:1.0;\"/><polygon fill=\"#181818\" points=\"382.54,81.19,386.54,87.19,393.6169,85.8054,389.6169,79.8054,382.54,81.19\" style=\"stroke:#181818;stroke-width:1.0;\"/></a></g><!--MD5=[feeac5eb423634930294aa81f2d25a4c]\n",
       "link E10 to E3--><g id=\"link_E10_E3\"><a href=\"psysml:18da4070-ae18-4032-ac17-68ceb2c0514b\" target=\"_top\" title=\"psysml:18da4070-ae18-4032-ac17-68ceb2c0514b\" xlink:actuate=\"onRequest\" xlink:href=\"psysml:18da4070-ae18-4032-ac17-68ceb2c0514b\" xlink:show=\"new\" xlink:title=\"psysml:18da4070-ae18-4032-ac17-68ceb2c0514b\" xlink:type=\"simple\"><path d=\"M618.35,197.04 C627.73,209.49 639.72,225.42 651.25,240.72 \" fill=\"none\" id=\"E10-to-E3\" style=\"stroke:#181818;stroke-width:1.0;\"/><polygon fill=\"#FFFFFF\" points=\"663.43,256.9,646.408,245.934,657.5912,237.5116,663.43,256.9\" style=\"stroke:#181818;stroke-width:1.0;\"/><ellipse cx=\"644.5765\" cy=\"240.1777\" fill=\"#181818\" rx=\"2\" ry=\"2\" style=\"stroke:#181818;stroke-width:1.0;\"/><ellipse cx=\"652.5645\" cy=\"234.1617\" fill=\"#181818\" rx=\"2\" ry=\"2\" style=\"stroke:#181818;stroke-width:1.0;\"/></a></g><!--MD5=[593b807a8aafaab39af1c25ada4edf41]\n",
       "reverse link E4 to E11--><g id=\"link_E4_E11\"><a href=\"psysml:15c43032-012d-486c-ade5-d3a8c2a4238d\" target=\"_top\" title=\"psysml:15c43032-012d-486c-ade5-d3a8c2a4238d\" xlink:actuate=\"onRequest\" xlink:href=\"psysml:15c43032-012d-486c-ade5-d3a8c2a4238d\" xlink:show=\"new\" xlink:title=\"psysml:15c43032-012d-486c-ade5-d3a8c2a4238d\" xlink:type=\"simple\"><path d=\"M395.46,77.52 C463.76,93.45 590.78,123.18 699,149 C704.61,150.34 710.41,151.73 716.24,153.13 \" fill=\"none\" id=\"E4-backto-E11\" style=\"stroke:#181818;stroke-width:1.0;\"/><polygon fill=\"#181818\" points=\"382.61,74.52,387.5426,79.7802,394.2953,77.2501,389.3627,71.9899,382.61,74.52\" style=\"stroke:#181818;stroke-width:1.0;\"/></a></g><!--MD5=[0517f1ce58c4d5483948f93845c45e26]\n",
       "link E11 to E3--><g id=\"link_E11_E3\"><a href=\"psysml:85a08495-1f32-45d3-9e47-fb9c01482f17\" target=\"_top\" title=\"psysml:85a08495-1f32-45d3-9e47-fb9c01482f17\" xlink:actuate=\"onRequest\" xlink:href=\"psysml:85a08495-1f32-45d3-9e47-fb9c01482f17\" xlink:show=\"new\" xlink:title=\"psysml:85a08495-1f32-45d3-9e47-fb9c01482f17\" xlink:type=\"simple\"><path d=\"M774.14,197.04 C763.18,209.76 749.1,226.1 735.65,241.7 \" fill=\"none\" id=\"E11-to-E3\" style=\"stroke:#181818;stroke-width:1.0;\"/><polygon fill=\"#FFFFFF\" points=\"722.55,256.9,729.6561,237.9394,740.2588,247.0818,722.55,256.9\" style=\"stroke:#181818;stroke-width:1.0;\"/><ellipse cx=\"734.893\" cy=\"234.9287\" fill=\"#181818\" rx=\"2\" ry=\"2\" style=\"stroke:#181818;stroke-width:1.0;\"/><ellipse cx=\"742.4664\" cy=\"241.4589\" fill=\"#181818\" rx=\"2\" ry=\"2\" style=\"stroke:#181818;stroke-width:1.0;\"/></a></g><!--MD5=[6cce48d4fb8196f2c44b5625b8c98bde]\n",
       "@startuml\r\n",
       "skin sysmlbw\r\n",
       "skinparam monochrome true\r\n",
       "skinparam wrapWidth 300\r\n",
       "hide circle\r\n",
       "\r\n",
       "package \"eVehicle_LogicalArchitecture\" as E1  [[psysml:9a744ccf-91b6-43ac-980e-2414e1cba81d ]]  {\r\n",
       "comp def \"WheelSize\" as E2  <<(T,blue) attribute  def>> [[psysml:ebc36a25-070a-4e96-8347-b33d428901eb ]] {\r\n",
       "}\r\n",
       "comp def \"Wheel\" as E3  <<(T,blue) part  def>> [[psysml:6ff0b444-2624-4fd5-9c5f-d492f5e36d73 ]] {\r\n",
       "##//attributes//##\r\n",
       "sizeOfWheel: WheelSize\r\n",
       "}\r\n",
       "comp usage \"eVehicle  \" as E4  <<(T,blue) part>> [[psysml:9f940944-cc13-42af-ac96-3efd6db9a9b8 ]] {\r\n",
       "}\r\n",
       "comp usage \"body  \" as E5  <<(T,blue) part>> [[psysml:d7669fe8-d57a-425f-a659-917e19581919 ]] {\r\n",
       "}\r\n",
       "comp usage \"battery  \" as E6  <<(T,blue) part>> [[psysml:cabd4bb1-5690-4402-9677-509d95d89da7 ]] {\r\n",
       "}\r\n",
       "comp usage \"engine  \" as E7  <<(T,blue) part>> [[psysml:7d34b3e6-4c95-4fad-8c22-46b6064c58d8 ]] {\r\n",
       "}\r\n",
       "comp usage \"frontAxis  \" as E8  <<(T,blue) part>> [[psysml:72f44295-5ca6-4b84-8710-138d144eb598 ]] {\r\n",
       "}\r\n",
       "comp usage \"rearAxis  \" as E9  <<(T,blue) part>> [[psysml:b7d4908e-2525-4a17-819e-52100e286c1c ]] {\r\n",
       "}\r\n",
       "comp usage \"frontWheel: Wheel[2]  \" as E10  <<(T,blue) part>> [[psysml:6dedac84-adfd-43ba-bde5-d11782aafda1 ]] {\r\n",
       "}\r\n",
       "comp usage \"rearWheel: Wheel[2]  \" as E11  <<(T,blue) part>> [[psysml:ae86b246-d624-47f3-845a-d38fed9eaff8 ]] {\r\n",
       "}\r\n",
       "}\r\n",
       "E4 *- - E5 [[psysml:f761ee39-d3ba-42ac-b0d6-caeefd7465c4 ]] \r\n",
       "E4 *- - E6 [[psysml:ff3dc97a-220f-498b-a5e9-e175673a33a8 ]] \r\n",
       "E4 *- - E7 [[psysml:ada67abb-4a16-4b2b-8fcb-4d9b5001e8b2 ]] \r\n",
       "E4 *- - E8 [[psysml:6cb6a933-c7b0-43f9-a724-c3279f647b17 ]] \r\n",
       "E4 *- - E9 [[psysml:159da90f-9d92-46e0-ac61-3292910841d6 ]] \r\n",
       "E4 *- - E10 [[psysml:e4bff5aa-e52b-423b-a584-5cf02615526d ]] \r\n",
       "E10 - -:|> E3 [[psysml:18da4070-ae18-4032-ac17-68ceb2c0514b ]] \r\n",
       "E4 *- - E11 [[psysml:15c43032-012d-486c-ade5-d3a8c2a4238d ]] \r\n",
       "E11 - -:|> E3 [[psysml:85a08495-1f32-45d3-9e47-fb9c01482f17 ]] \r\n",
       "@enduml\r\n",
       "\n",
       "PlantUML version 1.2022.7(Mon Aug 22 17:01:30 UTC 2022)\n",
       "(EPL source distribution)\n",
       "Java Runtime: OpenJDK Runtime Environment\n",
       "JVM: OpenJDK 64-Bit Server VM\n",
       "Default Encoding: UTF-8\n",
       "Language: en\n",
       "Country: null\n",
       "--></g></svg>"
      ]
     },
     "execution_count": 11,
     "metadata": {},
     "output_type": "execute_result"
    }
   ],
   "source": [
    "%viz eVehicle_LogicalArchitecture"
   ]
  },
  {
   "cell_type": "markdown",
   "metadata": {},
   "source": [
    "### When to use Parts and when to use PartDefinitions\n",
    "\n",
    "A simple rule of thumb could be: if you use a thing only once, model it as a part. If it is used multiple times or specializations of it, then model it as a part definition.\n",
    "\n",
    "Part definition is a classification of things, and parts are usages of part definitions. If you have only one engine in the model, then you can model it directly as a part. As described above, the part still has a part definition, which in this case is implicitly the general part definition *Part* from the system library."
   ]
  },
  {
   "cell_type": "markdown",
   "metadata": {},
   "source": [
    "## Specialization and Subsetting<a name=\"sysmlv2modspecialization\"></a>\n",
    "\n",
    "Specialization between definition elements is a subclassification relationship. For example, the FrontWheel part definition is a special kind of a Wheel part definition. Specialization between usage elements is a subsetting relationship. For example, the part frontLeftWheel is a subset of the part frontWheel.\n",
    "\n"
   ]
  },
  {
   "cell_type": "code",
   "execution_count": 55,
   "metadata": {},
   "outputs": [
    {
     "data": {
      "text/plain": [
       "Package eVehicle_LogicalArchitecture (ca424b03-941a-4d9a-9b18-75c3cfa6b8e0)\n"
      ]
     },
     "execution_count": 55,
     "metadata": {},
     "output_type": "execute_result"
    }
   ],
   "source": [
    "package eVehicle_LogicalArchitecture {   \n",
    "\n",
    "    private import SI::*;        \n",
    "    \n",
    "    attribute def WheelSize {\n",
    "        size : LengthValue;\n",
    "        deviation : LengthValue;        \n",
    "    }\n",
    "        \n",
    "    part def Wheel {\n",
    "        item :>> shape : ShapeItems::Cylinder [1] {\n",
    "            :>> radius = sizeOfWheel.size;\n",
    "        }\n",
    "        attribute sizeOfWheel : WheelSize {\n",
    "            :>> size := 325 [mm];\n",
    "            :>> deviation := 1 [mm];\n",
    "        }\n",
    "        \n",
    "        constraint pressureConstraint : WheelPressureConstraint {\n",
    "            in currentPressure = pressure;\n",
    "            in limitPressure = maxPressure;\n",
    "        }\n",
    "\n",
    "        attribute pressure : PressureValue;\n",
    "        attribute maxPressure : PressureValue;\n",
    "    }\n",
    "    \n",
    "    part def FrontWheel :> Wheel {\n",
    "        attribute redefines maxPressure = 200000 [Pa];\n",
    "    }\n",
    "    part def RearWheel :> Wheel {\n",
    "        attribute redefines maxPressure = 200000 [Pa];\n",
    "    }\n",
    "    \n",
    "    constraint def WheelPressureConstraint {\n",
    "        in currentPressure : PressureValue;\n",
    "        in limitPressure : PressureValue;\n",
    "        currentPressure <= limitPressure\n",
    "    }\n",
    "    \n",
    "    part eVehicle {\n",
    "        part body;\n",
    "        part battery;\n",
    "        part engine;\n",
    "        part frontAxis;\n",
    "        part rearAxis;\n",
    "        part frontWheel : FrontWheel[2];\n",
    "        part frontLeftWheel :> frontWheel {\n",
    "            redefines pressure = 100000 [Pa];\n",
    "        }\n",
    "        part frontRightWheel :> frontWheel {\n",
    "            redefines pressure = 100000 [Pa];\n",
    "        }\n",
    "\n",
    "        part rearWheel : RearWheel[2];\n",
    "        part rearLeftWheel :> rearWheel {\n",
    "            redefines pressure = 200000 [Pa];\n",
    "        }\n",
    "        part rearRightWheel :> rearWheel {\n",
    "            redefines pressure = 200000 [Pa];\n",
    "        }\n",
    "        \n",
    "    }\n",
    "}"
   ]
  },
  {
   "cell_type": "code",
   "execution_count": 13,
   "metadata": {},
   "outputs": [
    {
     "data": {
      "image/svg+xml": [
       "<?xml version=\"1.0\" encoding=\"UTF-8\" standalone=\"no\"?><svg xmlns=\"http://www.w3.org/2000/svg\" xmlns:xlink=\"http://www.w3.org/1999/xlink\" contentStyleType=\"text/css\" height=\"355px\" preserveAspectRatio=\"none\" style=\"width:905px;height:355px;background:#FFFFFF;\" version=\"1.1\" viewBox=\"0 0 905 355\" width=\"905px\" zoomAndPan=\"magnify\"><defs/><g><!--MD5=[fbc87193dbaf4d95561dea2c320d4a47]\n",
       "cluster E1--><g id=\"cluster_E1\"><a href=\"psysml:9a744ccf-91b6-43ac-980e-2414e1cba81d\" target=\"_top\" title=\"psysml:9a744ccf-91b6-43ac-980e-2414e1cba81d\" xlink:actuate=\"onRequest\" xlink:href=\"psysml:9a744ccf-91b6-43ac-980e-2414e1cba81d\" xlink:show=\"new\" xlink:title=\"psysml:9a744ccf-91b6-43ac-980e-2414e1cba81d\" xlink:type=\"simple\"><polygon fill=\"none\" points=\"16,6,231.25,6,238.25,28.2969,888,28.2969,888,348,16,348,16,6\" style=\"stroke:#000000;stroke-width:1.5;\"/><line style=\"stroke:#000000;stroke-width:1.5;\" x1=\"16\" x2=\"238.25\" y1=\"28.2969\" y2=\"28.2969\"/><text fill=\"#000000\" font-family=\"sans-serif\" font-size=\"14\" font-weight=\"bold\" lengthAdjust=\"spacing\" textLength=\"209.25\" x=\"20\" y=\"20.9951\">eVehicle_LogicalArchitecture</text></a></g><!--MD5=[b4997ac47864f28c2f74865a473b2911]\n",
       "class E2--><a href=\"psysml:ebc36a25-070a-4e96-8347-b33d428901eb\" target=\"_top\" title=\"psysml:ebc36a25-070a-4e96-8347-b33d428901eb\" xlink:actuate=\"onRequest\" xlink:href=\"psysml:ebc36a25-070a-4e96-8347-b33d428901eb\" xlink:show=\"new\" xlink:title=\"psysml:ebc36a25-070a-4e96-8347-b33d428901eb\" xlink:type=\"simple\"><g id=\"elem_E2\"><rect fill=\"#FFFFFF\" height=\"48.2656\" id=\"E2\" style=\"stroke:#181818;stroke-width:0.5;\" width=\"99\" x=\"594.5\" y=\"41\"/><text fill=\"#000000\" font-family=\"sans-serif\" font-size=\"12\" font-style=\"italic\" lengthAdjust=\"spacing\" textLength=\"97\" x=\"595.5\" y=\"57.1387\">«attribute  def»</text><text fill=\"#000000\" font-family=\"sans-serif\" font-size=\"14\" lengthAdjust=\"spacing\" textLength=\"72\" x=\"608\" y=\"72.9639\">WheelSize</text><line style=\"stroke:#181818;stroke-width:0.5;\" x1=\"595.5\" x2=\"692.5\" y1=\"81.2656\" y2=\"81.2656\"/></g></a><!--MD5=[09b614a08d8cba4a07c9adeb5e0fee81]\n",
       "class E3--><a href=\"psysml:6ff0b444-2624-4fd5-9c5f-d492f5e36d73\" target=\"_top\" title=\"psysml:6ff0b444-2624-4fd5-9c5f-d492f5e36d73\" xlink:actuate=\"onRequest\" xlink:href=\"psysml:6ff0b444-2624-4fd5-9c5f-d492f5e36d73\" xlink:show=\"new\" xlink:title=\"psysml:6ff0b444-2624-4fd5-9c5f-d492f5e36d73\" xlink:type=\"simple\"><g id=\"elem_E3\"><rect fill=\"#FFFFFF\" height=\"75.0813\" id=\"E3\" style=\"stroke:#181818;stroke-width:0.5;\" width=\"179\" x=\"601.5\" y=\"257\"/><text fill=\"#000000\" font-family=\"sans-serif\" font-size=\"12\" font-style=\"italic\" lengthAdjust=\"spacing\" textLength=\"68\" x=\"657\" y=\"273.1387\">«part  def»</text><text fill=\"#000000\" font-family=\"sans-serif\" font-size=\"14\" lengthAdjust=\"spacing\" textLength=\"43\" x=\"669.5\" y=\"288.9639\">Wheel</text><line style=\"stroke:#181818;stroke-width:0.5;\" x1=\"602.5\" x2=\"779.5\" y1=\"297.2656\" y2=\"297.2656\"/><text fill=\"#000000\" font-family=\"sans-serif\" font-size=\"14\" lengthAdjust=\"spacing\" textLength=\"167\" x=\"607.5\" y=\"324.7795\">sizeOfWheel: WheelSize</text><text fill=\"#000000\" font-family=\"sans-serif\" font-size=\"14\" font-style=\"italic\" lengthAdjust=\"spacing\" textLength=\"66\" x=\"658\" y=\"309.6123\">attributes</text></g></a><!--MD5=[ebbe1d658d1005bcc118a6aa81145e00]\n",
       "class E4--><a href=\"psysml:9f940944-cc13-42af-ac96-3efd6db9a9b8\" target=\"_top\" title=\"psysml:9f940944-cc13-42af-ac96-3efd6db9a9b8\" xlink:actuate=\"onRequest\" xlink:href=\"psysml:9f940944-cc13-42af-ac96-3efd6db9a9b8\" xlink:show=\"new\" xlink:title=\"psysml:9f940944-cc13-42af-ac96-3efd6db9a9b8\" xlink:type=\"simple\"><g id=\"elem_E4\"><rect fill=\"#FFFFFF\" height=\"48.2656\" id=\"E4\" rx=\"10\" ry=\"10\" style=\"stroke:#181818;stroke-width:0.5;\" width=\"73\" x=\"309.5\" y=\"41\"/><text fill=\"#000000\" font-family=\"sans-serif\" font-size=\"12\" font-style=\"italic\" lengthAdjust=\"spacing\" textLength=\"40\" x=\"326\" y=\"57.1387\">«part»</text><text fill=\"#000000\" font-family=\"sans-serif\" font-size=\"14\" lengthAdjust=\"spacing\" textLength=\"59\" x=\"312.5\" y=\"72.9639\">eVehicle</text><line style=\"stroke:#181818;stroke-width:0.5;\" x1=\"310.5\" x2=\"381.5\" y1=\"81.2656\" y2=\"81.2656\"/></g></a><!--MD5=[270fce915f116d4de14055a7c1d9a0f3]\n",
       "class E5--><a href=\"psysml:d7669fe8-d57a-425f-a659-917e19581919\" target=\"_top\" title=\"psysml:d7669fe8-d57a-425f-a659-917e19581919\" xlink:actuate=\"onRequest\" xlink:href=\"psysml:d7669fe8-d57a-425f-a659-917e19581919\" xlink:show=\"new\" xlink:title=\"psysml:d7669fe8-d57a-425f-a659-917e19581919\" xlink:type=\"simple\"><g id=\"elem_E5\"><rect fill=\"#FFFFFF\" height=\"48.2656\" id=\"E5\" rx=\"10\" ry=\"10\" style=\"stroke:#181818;stroke-width:0.5;\" width=\"48\" x=\"32\" y=\"149\"/><text fill=\"#000000\" font-family=\"sans-serif\" font-size=\"12\" font-style=\"italic\" lengthAdjust=\"spacing\" textLength=\"40\" x=\"36\" y=\"165.1387\">«part»</text><text fill=\"#000000\" font-family=\"sans-serif\" font-size=\"14\" lengthAdjust=\"spacing\" textLength=\"34\" x=\"35\" y=\"180.9639\">body</text><line style=\"stroke:#181818;stroke-width:0.5;\" x1=\"33\" x2=\"79\" y1=\"189.2656\" y2=\"189.2656\"/></g></a><!--MD5=[60a26617385b1d2d0262a64233df1f8d]\n",
       "class E6--><a href=\"psysml:cabd4bb1-5690-4402-9677-509d95d89da7\" target=\"_top\" title=\"psysml:cabd4bb1-5690-4402-9677-509d95d89da7\" xlink:actuate=\"onRequest\" xlink:href=\"psysml:cabd4bb1-5690-4402-9677-509d95d89da7\" xlink:show=\"new\" xlink:title=\"psysml:cabd4bb1-5690-4402-9677-509d95d89da7\" xlink:type=\"simple\"><g id=\"elem_E6\"><rect fill=\"#FFFFFF\" height=\"48.2656\" id=\"E6\" rx=\"10\" ry=\"10\" style=\"stroke:#181818;stroke-width:0.5;\" width=\"62\" x=\"115\" y=\"149\"/><text fill=\"#000000\" font-family=\"sans-serif\" font-size=\"12\" font-style=\"italic\" lengthAdjust=\"spacing\" textLength=\"40\" x=\"126\" y=\"165.1387\">«part»</text><text fill=\"#000000\" font-family=\"sans-serif\" font-size=\"14\" lengthAdjust=\"spacing\" textLength=\"48\" x=\"118\" y=\"180.9639\">battery</text><line style=\"stroke:#181818;stroke-width:0.5;\" x1=\"116\" x2=\"176\" y1=\"189.2656\" y2=\"189.2656\"/></g></a><!--MD5=[2156ba9850f5573cc1fc38a6a4b2f02b]\n",
       "class E7--><a href=\"psysml:7d34b3e6-4c95-4fad-8c22-46b6064c58d8\" target=\"_top\" title=\"psysml:7d34b3e6-4c95-4fad-8c22-46b6064c58d8\" xlink:actuate=\"onRequest\" xlink:href=\"psysml:7d34b3e6-4c95-4fad-8c22-46b6064c58d8\" xlink:show=\"new\" xlink:title=\"psysml:7d34b3e6-4c95-4fad-8c22-46b6064c58d8\" xlink:type=\"simple\"><g id=\"elem_E7\"><rect fill=\"#FFFFFF\" height=\"48.2656\" id=\"E7\" rx=\"10\" ry=\"10\" style=\"stroke:#181818;stroke-width:0.5;\" width=\"62\" x=\"212\" y=\"149\"/><text fill=\"#000000\" font-family=\"sans-serif\" font-size=\"12\" font-style=\"italic\" lengthAdjust=\"spacing\" textLength=\"40\" x=\"223\" y=\"165.1387\">«part»</text><text fill=\"#000000\" font-family=\"sans-serif\" font-size=\"14\" lengthAdjust=\"spacing\" textLength=\"48\" x=\"215\" y=\"180.9639\">engine</text><line style=\"stroke:#181818;stroke-width:0.5;\" x1=\"213\" x2=\"273\" y1=\"189.2656\" y2=\"189.2656\"/></g></a><!--MD5=[b9389687b975829384b498ac4b7476b2]\n",
       "class E8--><a href=\"psysml:72f44295-5ca6-4b84-8710-138d144eb598\" target=\"_top\" title=\"psysml:72f44295-5ca6-4b84-8710-138d144eb598\" xlink:actuate=\"onRequest\" xlink:href=\"psysml:72f44295-5ca6-4b84-8710-138d144eb598\" xlink:show=\"new\" xlink:title=\"psysml:72f44295-5ca6-4b84-8710-138d144eb598\" xlink:type=\"simple\"><g id=\"elem_E8\"><rect fill=\"#FFFFFF\" height=\"48.2656\" id=\"E8\" rx=\"10\" ry=\"10\" style=\"stroke:#181818;stroke-width:0.5;\" width=\"73\" x=\"309.5\" y=\"149\"/><text fill=\"#000000\" font-family=\"sans-serif\" font-size=\"12\" font-style=\"italic\" lengthAdjust=\"spacing\" textLength=\"40\" x=\"326\" y=\"165.1387\">«part»</text><text fill=\"#000000\" font-family=\"sans-serif\" font-size=\"14\" lengthAdjust=\"spacing\" textLength=\"59\" x=\"312.5\" y=\"180.9639\">frontAxis</text><line style=\"stroke:#181818;stroke-width:0.5;\" x1=\"310.5\" x2=\"381.5\" y1=\"189.2656\" y2=\"189.2656\"/></g></a><!--MD5=[fd4143e9d270a159db93a4ea2a975926]\n",
       "class E9--><a href=\"psysml:b7d4908e-2525-4a17-819e-52100e286c1c\" target=\"_top\" title=\"psysml:b7d4908e-2525-4a17-819e-52100e286c1c\" xlink:actuate=\"onRequest\" xlink:href=\"psysml:b7d4908e-2525-4a17-819e-52100e286c1c\" xlink:show=\"new\" xlink:title=\"psysml:b7d4908e-2525-4a17-819e-52100e286c1c\" xlink:type=\"simple\"><g id=\"elem_E9\"><rect fill=\"#FFFFFF\" height=\"48.2656\" id=\"E9\" rx=\"10\" ry=\"10\" style=\"stroke:#181818;stroke-width:0.5;\" width=\"68\" x=\"418\" y=\"149\"/><text fill=\"#000000\" font-family=\"sans-serif\" font-size=\"12\" font-style=\"italic\" lengthAdjust=\"spacing\" textLength=\"40\" x=\"432\" y=\"165.1387\">«part»</text><text fill=\"#000000\" font-family=\"sans-serif\" font-size=\"14\" lengthAdjust=\"spacing\" textLength=\"54\" x=\"421\" y=\"180.9639\">rearAxis</text><line style=\"stroke:#181818;stroke-width:0.5;\" x1=\"419\" x2=\"485\" y1=\"189.2656\" y2=\"189.2656\"/></g></a><!--MD5=[96f4274e9e20536e775497830990834d]\n",
       "class E10--><a href=\"psysml:6dedac84-adfd-43ba-bde5-d11782aafda1\" target=\"_top\" title=\"psysml:6dedac84-adfd-43ba-bde5-d11782aafda1\" xlink:actuate=\"onRequest\" xlink:href=\"psysml:6dedac84-adfd-43ba-bde5-d11782aafda1\" xlink:show=\"new\" xlink:title=\"psysml:6dedac84-adfd-43ba-bde5-d11782aafda1\" xlink:type=\"simple\"><g id=\"elem_E10\"><rect fill=\"#FFFFFF\" height=\"48.2656\" id=\"E10\" rx=\"10\" ry=\"10\" style=\"stroke:#181818;stroke-width:0.5;\" width=\"160\" x=\"521\" y=\"149\"/><text fill=\"#000000\" font-family=\"sans-serif\" font-size=\"12\" font-style=\"italic\" lengthAdjust=\"spacing\" textLength=\"40\" x=\"581\" y=\"165.1387\">«part»</text><text fill=\"#000000\" font-family=\"sans-serif\" font-size=\"14\" lengthAdjust=\"spacing\" textLength=\"146\" x=\"524\" y=\"180.9639\">frontWheel: Wheel[2]</text><line style=\"stroke:#181818;stroke-width:0.5;\" x1=\"522\" x2=\"680\" y1=\"189.2656\" y2=\"189.2656\"/></g></a><!--MD5=[1dd1bfd58a279cf63c5f349dbc8fc6a1]\n",
       "class E11--><a href=\"psysml:ae86b246-d624-47f3-845a-d38fed9eaff8\" target=\"_top\" title=\"psysml:ae86b246-d624-47f3-845a-d38fed9eaff8\" xlink:actuate=\"onRequest\" xlink:href=\"psysml:ae86b246-d624-47f3-845a-d38fed9eaff8\" xlink:show=\"new\" xlink:title=\"psysml:ae86b246-d624-47f3-845a-d38fed9eaff8\" xlink:type=\"simple\"><g id=\"elem_E11\"><rect fill=\"#FFFFFF\" height=\"48.2656\" id=\"E11\" rx=\"10\" ry=\"10\" style=\"stroke:#181818;stroke-width:0.5;\" width=\"155\" x=\"716.5\" y=\"149\"/><text fill=\"#000000\" font-family=\"sans-serif\" font-size=\"12\" font-style=\"italic\" lengthAdjust=\"spacing\" textLength=\"40\" x=\"774\" y=\"165.1387\">«part»</text><text fill=\"#000000\" font-family=\"sans-serif\" font-size=\"14\" lengthAdjust=\"spacing\" textLength=\"141\" x=\"719.5\" y=\"180.9639\">rearWheel: Wheel[2]</text><line style=\"stroke:#181818;stroke-width:0.5;\" x1=\"717.5\" x2=\"870.5\" y1=\"189.2656\" y2=\"189.2656\"/></g></a><!--MD5=[62aa6af11e70f752912c1cb0466f24f7]\n",
       "reverse link E4 to E5--><g id=\"link_E4_E5\"><a href=\"psysml:f761ee39-d3ba-42ac-b0d6-caeefd7465c4\" target=\"_top\" title=\"psysml:f761ee39-d3ba-42ac-b0d6-caeefd7465c4\" xlink:actuate=\"onRequest\" xlink:href=\"psysml:f761ee39-d3ba-42ac-b0d6-caeefd7465c4\" xlink:show=\"new\" xlink:title=\"psysml:f761ee39-d3ba-42ac-b0d6-caeefd7465c4\" xlink:type=\"simple\"><path d=\"M296.55,79.72 C245.79,94.45 164.98,119.73 98,149 C92.06,151.6 85.84,154.75 80.06,157.87 \" fill=\"none\" id=\"E4-backto-E5\" style=\"stroke:#181818;stroke-width:1.0;\"/><polygon fill=\"#181818\" points=\"309.09,76.11,302.2173,73.9267,297.5587,79.431,304.4314,81.6143,309.09,76.11\" style=\"stroke:#181818;stroke-width:1.0;\"/></a></g><!--MD5=[6db378b65e1aef66a01cb3103812b399]\n",
       "reverse link E4 to E6--><g id=\"link_E4_E6\"><a href=\"psysml:ff3dc97a-220f-498b-a5e9-e175673a33a8\" target=\"_top\" title=\"psysml:ff3dc97a-220f-498b-a5e9-e175673a33a8\" xlink:actuate=\"onRequest\" xlink:href=\"psysml:ff3dc97a-220f-498b-a5e9-e175673a33a8\" xlink:show=\"new\" xlink:title=\"psysml:ff3dc97a-220f-498b-a5e9-e175673a33a8\" xlink:type=\"simple\"><path d=\"M297.67,91.62 C260.22,111.46 209.44,138.38 177.2,155.47 \" fill=\"none\" id=\"E4-backto-E6\" style=\"stroke:#181818;stroke-width:1.0;\"/><polygon fill=\"#181818\" points=\"309.32,85.44,302.1455,84.7146,298.7165,91.0583,305.891,91.7837,309.32,85.44\" style=\"stroke:#181818;stroke-width:1.0;\"/></a></g><!--MD5=[722ff4eef345aa10242dad44df0e98c7]\n",
       "reverse link E4 to E7--><g id=\"link_E4_E7\"><a href=\"psysml:ada67abb-4a16-4b2b-8fcb-4d9b5001e8b2\" target=\"_top\" title=\"psysml:ada67abb-4a16-4b2b-8fcb-4d9b5001e8b2\" xlink:actuate=\"onRequest\" xlink:href=\"psysml:ada67abb-4a16-4b2b-8fcb-4d9b5001e8b2\" xlink:show=\"new\" xlink:title=\"psysml:ada67abb-4a16-4b2b-8fcb-4d9b5001e8b2\" xlink:type=\"simple\"><path d=\"M314.3,98.63 C298.57,114.81 279.93,133.99 265.66,148.68 \" fill=\"none\" id=\"E4-backto-E7\" style=\"stroke:#181818;stroke-width:1.0;\"/><polygon fill=\"#181818\" points=\"323.65,89,316.5994,90.513,315.2843,97.6032,322.3349,96.0902,323.65,89\" style=\"stroke:#181818;stroke-width:1.0;\"/></a></g><!--MD5=[c6fc7cdb0cabde04948078cf183fa696]\n",
       "reverse link E4 to E8--><g id=\"link_E4_E8\"><a href=\"psysml:6cb6a933-c7b0-43f9-a724-c3279f647b17\" target=\"_top\" title=\"psysml:6cb6a933-c7b0-43f9-a724-c3279f647b17\" xlink:actuate=\"onRequest\" xlink:href=\"psysml:6cb6a933-c7b0-43f9-a724-c3279f647b17\" xlink:show=\"new\" xlink:title=\"psysml:6cb6a933-c7b0-43f9-a724-c3279f647b17\" xlink:type=\"simple\"><path d=\"M346,102.34 C346,117.68 346,135.1 346,148.68 \" fill=\"none\" id=\"E4-backto-E8\" style=\"stroke:#181818;stroke-width:1.0;\"/><polygon fill=\"#181818\" points=\"346,89,342,95,346,101,350,95,346,89\" style=\"stroke:#181818;stroke-width:1.0;\"/></a></g><!--MD5=[e7ea4bd30698dc91ca0c06b9d8e4f891]\n",
       "reverse link E4 to E9--><g id=\"link_E4_E9\"><a href=\"psysml:159da90f-9d92-46e0-ac61-3292910841d6\" target=\"_top\" title=\"psysml:159da90f-9d92-46e0-ac61-3292910841d6\" xlink:actuate=\"onRequest\" xlink:href=\"psysml:159da90f-9d92-46e0-ac61-3292910841d6\" xlink:show=\"new\" xlink:title=\"psysml:159da90f-9d92-46e0-ac61-3292910841d6\" xlink:type=\"simple\"><path d=\"M378.63,98.63 C394.81,114.81 413.99,133.99 428.68,148.68 \" fill=\"none\" id=\"E4-backto-E9\" style=\"stroke:#181818;stroke-width:1.0;\"/><polygon fill=\"#181818\" points=\"369,89,370.4142,96.0711,377.4853,97.4853,376.0711,90.4142,369,89\" style=\"stroke:#181818;stroke-width:1.0;\"/></a></g><!--MD5=[f119e7f268ff8fee167b0c2c9936af30]\n",
       "reverse link E4 to E10--><g id=\"link_E4_E10\"><a href=\"psysml:e4bff5aa-e52b-423b-a584-5cf02615526d\" target=\"_top\" title=\"psysml:e4bff5aa-e52b-423b-a584-5cf02615526d\" xlink:actuate=\"onRequest\" xlink:href=\"psysml:e4bff5aa-e52b-423b-a584-5cf02615526d\" xlink:show=\"new\" xlink:title=\"psysml:e4bff5aa-e52b-423b-a584-5cf02615526d\" xlink:type=\"simple\"><path d=\"M394.65,86.22 C437.63,104.09 500.29,130.14 545.27,148.84 \" fill=\"none\" id=\"E4-backto-E10\" style=\"stroke:#181818;stroke-width:1.0;\"/><polygon fill=\"#181818\" points=\"382.54,81.19,386.54,87.19,393.6169,85.8054,389.6169,79.8054,382.54,81.19\" style=\"stroke:#181818;stroke-width:1.0;\"/></a></g><!--MD5=[feeac5eb423634930294aa81f2d25a4c]\n",
       "link E10 to E3--><g id=\"link_E10_E3\"><a href=\"psysml:18da4070-ae18-4032-ac17-68ceb2c0514b\" target=\"_top\" title=\"psysml:18da4070-ae18-4032-ac17-68ceb2c0514b\" xlink:actuate=\"onRequest\" xlink:href=\"psysml:18da4070-ae18-4032-ac17-68ceb2c0514b\" xlink:show=\"new\" xlink:title=\"psysml:18da4070-ae18-4032-ac17-68ceb2c0514b\" xlink:type=\"simple\"><path d=\"M618.35,197.04 C627.73,209.49 639.72,225.42 651.25,240.72 \" fill=\"none\" id=\"E10-to-E3\" style=\"stroke:#181818;stroke-width:1.0;\"/><polygon fill=\"#FFFFFF\" points=\"663.43,256.9,646.408,245.934,657.5912,237.5116,663.43,256.9\" style=\"stroke:#181818;stroke-width:1.0;\"/><ellipse cx=\"644.5765\" cy=\"240.1777\" fill=\"#181818\" rx=\"2\" ry=\"2\" style=\"stroke:#181818;stroke-width:1.0;\"/><ellipse cx=\"652.5645\" cy=\"234.1617\" fill=\"#181818\" rx=\"2\" ry=\"2\" style=\"stroke:#181818;stroke-width:1.0;\"/></a></g><!--MD5=[593b807a8aafaab39af1c25ada4edf41]\n",
       "reverse link E4 to E11--><g id=\"link_E4_E11\"><a href=\"psysml:15c43032-012d-486c-ade5-d3a8c2a4238d\" target=\"_top\" title=\"psysml:15c43032-012d-486c-ade5-d3a8c2a4238d\" xlink:actuate=\"onRequest\" xlink:href=\"psysml:15c43032-012d-486c-ade5-d3a8c2a4238d\" xlink:show=\"new\" xlink:title=\"psysml:15c43032-012d-486c-ade5-d3a8c2a4238d\" xlink:type=\"simple\"><path d=\"M395.46,77.52 C463.76,93.45 590.78,123.18 699,149 C704.61,150.34 710.41,151.73 716.24,153.13 \" fill=\"none\" id=\"E4-backto-E11\" style=\"stroke:#181818;stroke-width:1.0;\"/><polygon fill=\"#181818\" points=\"382.61,74.52,387.5426,79.7802,394.2953,77.2501,389.3627,71.9899,382.61,74.52\" style=\"stroke:#181818;stroke-width:1.0;\"/></a></g><!--MD5=[0517f1ce58c4d5483948f93845c45e26]\n",
       "link E11 to E3--><g id=\"link_E11_E3\"><a href=\"psysml:85a08495-1f32-45d3-9e47-fb9c01482f17\" target=\"_top\" title=\"psysml:85a08495-1f32-45d3-9e47-fb9c01482f17\" xlink:actuate=\"onRequest\" xlink:href=\"psysml:85a08495-1f32-45d3-9e47-fb9c01482f17\" xlink:show=\"new\" xlink:title=\"psysml:85a08495-1f32-45d3-9e47-fb9c01482f17\" xlink:type=\"simple\"><path d=\"M774.14,197.04 C763.18,209.76 749.1,226.1 735.65,241.7 \" fill=\"none\" id=\"E11-to-E3\" style=\"stroke:#181818;stroke-width:1.0;\"/><polygon fill=\"#FFFFFF\" points=\"722.55,256.9,729.6561,237.9394,740.2588,247.0818,722.55,256.9\" style=\"stroke:#181818;stroke-width:1.0;\"/><ellipse cx=\"734.893\" cy=\"234.9287\" fill=\"#181818\" rx=\"2\" ry=\"2\" style=\"stroke:#181818;stroke-width:1.0;\"/><ellipse cx=\"742.4664\" cy=\"241.4589\" fill=\"#181818\" rx=\"2\" ry=\"2\" style=\"stroke:#181818;stroke-width:1.0;\"/></a></g><!--MD5=[6cce48d4fb8196f2c44b5625b8c98bde]\n",
       "@startuml\r\n",
       "skin sysmlbw\r\n",
       "skinparam monochrome true\r\n",
       "skinparam wrapWidth 300\r\n",
       "hide circle\r\n",
       "\r\n",
       "package \"eVehicle_LogicalArchitecture\" as E1  [[psysml:9a744ccf-91b6-43ac-980e-2414e1cba81d ]]  {\r\n",
       "comp def \"WheelSize\" as E2  <<(T,blue) attribute  def>> [[psysml:ebc36a25-070a-4e96-8347-b33d428901eb ]] {\r\n",
       "}\r\n",
       "comp def \"Wheel\" as E3  <<(T,blue) part  def>> [[psysml:6ff0b444-2624-4fd5-9c5f-d492f5e36d73 ]] {\r\n",
       "##//attributes//##\r\n",
       "sizeOfWheel: WheelSize\r\n",
       "}\r\n",
       "comp usage \"eVehicle  \" as E4  <<(T,blue) part>> [[psysml:9f940944-cc13-42af-ac96-3efd6db9a9b8 ]] {\r\n",
       "}\r\n",
       "comp usage \"body  \" as E5  <<(T,blue) part>> [[psysml:d7669fe8-d57a-425f-a659-917e19581919 ]] {\r\n",
       "}\r\n",
       "comp usage \"battery  \" as E6  <<(T,blue) part>> [[psysml:cabd4bb1-5690-4402-9677-509d95d89da7 ]] {\r\n",
       "}\r\n",
       "comp usage \"engine  \" as E7  <<(T,blue) part>> [[psysml:7d34b3e6-4c95-4fad-8c22-46b6064c58d8 ]] {\r\n",
       "}\r\n",
       "comp usage \"frontAxis  \" as E8  <<(T,blue) part>> [[psysml:72f44295-5ca6-4b84-8710-138d144eb598 ]] {\r\n",
       "}\r\n",
       "comp usage \"rearAxis  \" as E9  <<(T,blue) part>> [[psysml:b7d4908e-2525-4a17-819e-52100e286c1c ]] {\r\n",
       "}\r\n",
       "comp usage \"frontWheel: Wheel[2]  \" as E10  <<(T,blue) part>> [[psysml:6dedac84-adfd-43ba-bde5-d11782aafda1 ]] {\r\n",
       "}\r\n",
       "comp usage \"rearWheel: Wheel[2]  \" as E11  <<(T,blue) part>> [[psysml:ae86b246-d624-47f3-845a-d38fed9eaff8 ]] {\r\n",
       "}\r\n",
       "}\r\n",
       "E4 *- - E5 [[psysml:f761ee39-d3ba-42ac-b0d6-caeefd7465c4 ]] \r\n",
       "E4 *- - E6 [[psysml:ff3dc97a-220f-498b-a5e9-e175673a33a8 ]] \r\n",
       "E4 *- - E7 [[psysml:ada67abb-4a16-4b2b-8fcb-4d9b5001e8b2 ]] \r\n",
       "E4 *- - E8 [[psysml:6cb6a933-c7b0-43f9-a724-c3279f647b17 ]] \r\n",
       "E4 *- - E9 [[psysml:159da90f-9d92-46e0-ac61-3292910841d6 ]] \r\n",
       "E4 *- - E10 [[psysml:e4bff5aa-e52b-423b-a584-5cf02615526d ]] \r\n",
       "E10 - -:|> E3 [[psysml:18da4070-ae18-4032-ac17-68ceb2c0514b ]] \r\n",
       "E4 *- - E11 [[psysml:15c43032-012d-486c-ade5-d3a8c2a4238d ]] \r\n",
       "E11 - -:|> E3 [[psysml:85a08495-1f32-45d3-9e47-fb9c01482f17 ]] \r\n",
       "@enduml\r\n",
       "\n",
       "PlantUML version 1.2022.7(Mon Aug 22 17:01:30 UTC 2022)\n",
       "(EPL source distribution)\n",
       "Java Runtime: OpenJDK Runtime Environment\n",
       "JVM: OpenJDK 64-Bit Server VM\n",
       "Default Encoding: UTF-8\n",
       "Language: en\n",
       "Country: null\n",
       "--></g></svg>"
      ]
     },
     "execution_count": 13,
     "metadata": {},
     "output_type": "execute_result"
    }
   ],
   "source": [
    "%viz --view=tree eVehicle_LogicalArchitecture"
   ]
  },
  {
   "cell_type": "markdown",
   "metadata": {},
   "source": [
    "## Putting the parts together<a name=\"sysmlv2modconnect\"></a>\n",
    "\n",
    "By now the model only defines the breakdown structure of the vehicle. There is no definition yet of how the parts are connected. The next example model *eVehicle_LogicalArchitecture* connects the parts in a meaningful way.\n"
   ]
  },
  {
   "cell_type": "code",
   "execution_count": 56,
   "metadata": {},
   "outputs": [
    {
     "data": {
      "text/plain": [
       "Package eVehicle_LogicalArchitecture (f0385673-71fd-4b90-b852-1b5d39e63885)\n"
      ]
     },
     "execution_count": 56,
     "metadata": {},
     "output_type": "execute_result"
    }
   ],
   "source": [
    "package eVehicle_LogicalArchitecture {   \n",
    "\n",
    "    private import SI::*;        \n",
    "    \n",
    "    attribute def WheelSize {\n",
    "        size : LengthValue;\n",
    "        deviation : LengthValue;        \n",
    "    }\n",
    "        \n",
    "    part def Wheel {\n",
    "        item :>> shape : ShapeItems::Cylinder [1] {\n",
    "            :>> radius = sizeOfWheel.size;\n",
    "        }\n",
    "        attribute sizeOfWheel : WheelSize {\n",
    "            :>> size := 325 [mm];\n",
    "            :>> deviation := 1 [mm];\n",
    "        }\n",
    "        \n",
    "        constraint pressureConstraint : WheelPressureConstraint {\n",
    "            in currentPressure = pressure;\n",
    "            in limitPressure = maxPressure;\n",
    "        }\n",
    "\n",
    "        attribute pressure : PressureValue;\n",
    "        attribute maxPressure : PressureValue;\n",
    "    }\n",
    "    \n",
    "    part def FrontWheel :> Wheel {\n",
    "        attribute redefines maxPressure = 200000 [Pa];\n",
    "    }\n",
    "    part def RearWheel :> Wheel {\n",
    "        attribute redefines maxPressure = 200000 [Pa];\n",
    "    }\n",
    "    \n",
    "    constraint def WheelPressureConstraint {\n",
    "        in currentPressure : PressureValue;\n",
    "        in limitPressure : PressureValue;\n",
    "        currentPressure <= limitPressure\n",
    "    }\n",
    "    \n",
    "    part eVehicle {\n",
    "        part body;\n",
    "        part battery;\n",
    "        part engine;\n",
    "        part frontAxis;\n",
    "        part rearAxis;\n",
    "        part frontWheel : FrontWheel[2];\n",
    "        part frontLeftWheel :> frontWheel {\n",
    "            redefines pressure = 100000 [Pa];\n",
    "        }\n",
    "        part frontRightWheel :> frontWheel {\n",
    "            redefines pressure = 100000 [Pa];\n",
    "        }\n",
    "\n",
    "        part rearWheel : RearWheel[2];\n",
    "        part rearLeftWheel :> rearWheel {\n",
    "            redefines pressure = 200000 [Pa];\n",
    "        }\n",
    "        part rearRightWheel :> rearWheel {\n",
    "            redefines pressure = 200000 [Pa];\n",
    "        }\n",
    "              \n",
    "        connect battery to engine;\n",
    "        connect engine to frontAxis;\n",
    "        connect frontAxis to frontWheel;\n",
    "        connect rearAxis to rearWheel;\n",
    "        connect body to battery;\n",
    "        connect body to engine;\n",
    "        connect body to frontAxis;\n",
    "        connect body to rearAxis;\n",
    "    }\n",
    "}"
   ]
  },
  {
   "cell_type": "code",
   "execution_count": 15,
   "metadata": {},
   "outputs": [
    {
     "data": {
      "image/svg+xml": [
       "<?xml version=\"1.0\" encoding=\"UTF-8\" standalone=\"no\"?><svg xmlns=\"http://www.w3.org/2000/svg\" xmlns:xlink=\"http://www.w3.org/1999/xlink\" contentStyleType=\"text/css\" height=\"104px\" preserveAspectRatio=\"none\" style=\"width:833px;height:104px;background:#FFFFFF;\" version=\"1.1\" viewBox=\"0 0 833 104\" width=\"833px\" zoomAndPan=\"magnify\"><defs/><g><!--MD5=[fbc87193dbaf4d95561dea2c320d4a47]\n",
       "cluster E1--><g id=\"cluster_E1\"><a href=\"psysml:9f940944-cc13-42af-ac96-3efd6db9a9b8\" target=\"_top\" title=\"psysml:9f940944-cc13-42af-ac96-3efd6db9a9b8\" xlink:actuate=\"onRequest\" xlink:href=\"psysml:9f940944-cc13-42af-ac96-3efd6db9a9b8\" xlink:show=\"new\" xlink:title=\"psysml:9f940944-cc13-42af-ac96-3efd6db9a9b8\" xlink:type=\"simple\"><rect fill=\"#FFFFFF\" height=\"91\" id=\"E1\" rx=\"10\" ry=\"10\" style=\"stroke:#383838;stroke-width:1.5;\" width=\"819\" x=\"7\" y=\"7\"/><text fill=\"#000000\" font-family=\"sans-serif\" font-size=\"14\" lengthAdjust=\"spacing\" textLength=\"59\" x=\"387\" y=\"24.9951\">eVehicle</text><line style=\"stroke:#383838;stroke-width:1.0;\" x1=\"7\" x2=\"826\" y1=\"33.2969\" y2=\"33.2969\"/></a></g><g><a href=\"psysml:d7669fe8-d57a-425f-a659-917e19581919\" target=\"_top\" title=\"psysml:d7669fe8-d57a-425f-a659-917e19581919\" xlink:actuate=\"onRequest\" xlink:href=\"psysml:d7669fe8-d57a-425f-a659-917e19581919\" xlink:show=\"new\" xlink:title=\"psysml:d7669fe8-d57a-425f-a659-917e19581919\" xlink:type=\"simple\"><rect fill=\"#FFFFFF\" height=\"40\" id=\"E2\" rx=\"10\" ry=\"10\" style=\"stroke:#383838;stroke-width:1.5;\" width=\"50\" x=\"760\" y=\"42\"/><text fill=\"#000000\" font-family=\"sans-serif\" font-size=\"14\" lengthAdjust=\"spacing\" textLength=\"34\" x=\"768\" y=\"59.9951\">body</text></a></g><g><a href=\"psysml:cabd4bb1-5690-4402-9677-509d95d89da7\" target=\"_top\" title=\"psysml:cabd4bb1-5690-4402-9677-509d95d89da7\" xlink:actuate=\"onRequest\" xlink:href=\"psysml:cabd4bb1-5690-4402-9677-509d95d89da7\" xlink:show=\"new\" xlink:title=\"psysml:cabd4bb1-5690-4402-9677-509d95d89da7\" xlink:type=\"simple\"><rect fill=\"#FFFFFF\" height=\"40\" id=\"E3\" rx=\"10\" ry=\"10\" style=\"stroke:#383838;stroke-width:1.5;\" width=\"59\" x=\"665.5\" y=\"42\"/><text fill=\"#000000\" font-family=\"sans-serif\" font-size=\"14\" lengthAdjust=\"spacing\" textLength=\"48\" x=\"671\" y=\"59.9951\">battery</text></a></g><g><a href=\"psysml:7d34b3e6-4c95-4fad-8c22-46b6064c58d8\" target=\"_top\" title=\"psysml:7d34b3e6-4c95-4fad-8c22-46b6064c58d8\" xlink:actuate=\"onRequest\" xlink:href=\"psysml:7d34b3e6-4c95-4fad-8c22-46b6064c58d8\" xlink:show=\"new\" xlink:title=\"psysml:7d34b3e6-4c95-4fad-8c22-46b6064c58d8\" xlink:type=\"simple\"><rect fill=\"#FFFFFF\" height=\"40\" id=\"E4\" rx=\"10\" ry=\"10\" style=\"stroke:#383838;stroke-width:1.5;\" width=\"59\" x=\"571.5\" y=\"42\"/><text fill=\"#000000\" font-family=\"sans-serif\" font-size=\"14\" lengthAdjust=\"spacing\" textLength=\"48\" x=\"577\" y=\"59.9951\">engine</text></a></g><g><a href=\"psysml:72f44295-5ca6-4b84-8710-138d144eb598\" target=\"_top\" title=\"psysml:72f44295-5ca6-4b84-8710-138d144eb598\" xlink:actuate=\"onRequest\" xlink:href=\"psysml:72f44295-5ca6-4b84-8710-138d144eb598\" xlink:show=\"new\" xlink:title=\"psysml:72f44295-5ca6-4b84-8710-138d144eb598\" xlink:type=\"simple\"><rect fill=\"#FFFFFF\" height=\"40\" id=\"E5\" rx=\"10\" ry=\"10\" style=\"stroke:#383838;stroke-width:1.5;\" width=\"70\" x=\"466\" y=\"42\"/><text fill=\"#000000\" font-family=\"sans-serif\" font-size=\"14\" lengthAdjust=\"spacing\" textLength=\"59\" x=\"471.5\" y=\"59.9951\">frontAxis</text></a></g><g><a href=\"psysml:b7d4908e-2525-4a17-819e-52100e286c1c\" target=\"_top\" title=\"psysml:b7d4908e-2525-4a17-819e-52100e286c1c\" xlink:actuate=\"onRequest\" xlink:href=\"psysml:b7d4908e-2525-4a17-819e-52100e286c1c\" xlink:show=\"new\" xlink:title=\"psysml:b7d4908e-2525-4a17-819e-52100e286c1c\" xlink:type=\"simple\"><rect fill=\"#FFFFFF\" height=\"40\" id=\"E6\" rx=\"10\" ry=\"10\" style=\"stroke:#383838;stroke-width:1.5;\" width=\"65\" x=\"365.5\" y=\"42\"/><text fill=\"#000000\" font-family=\"sans-serif\" font-size=\"14\" lengthAdjust=\"spacing\" textLength=\"54\" x=\"371\" y=\"59.9951\">rearAxis</text></a></g><g><a href=\"psysml:6dedac84-adfd-43ba-bde5-d11782aafda1\" target=\"_top\" title=\"psysml:6dedac84-adfd-43ba-bde5-d11782aafda1\" xlink:actuate=\"onRequest\" xlink:href=\"psysml:6dedac84-adfd-43ba-bde5-d11782aafda1\" xlink:show=\"new\" xlink:title=\"psysml:6dedac84-adfd-43ba-bde5-d11782aafda1\" xlink:type=\"simple\"><rect fill=\"#FFFFFF\" height=\"40\" id=\"E7\" rx=\"10\" ry=\"10\" style=\"stroke:#383838;stroke-width:1.5;\" width=\"138\" x=\"192\" y=\"42\"/><text fill=\"#000000\" font-family=\"sans-serif\" font-size=\"14\" lengthAdjust=\"spacing\" textLength=\"127\" x=\"197.5\" y=\"59.9951\">frontWheel: Wheel</text></a></g><g><a href=\"psysml:ae86b246-d624-47f3-845a-d38fed9eaff8\" target=\"_top\" title=\"psysml:ae86b246-d624-47f3-845a-d38fed9eaff8\" xlink:actuate=\"onRequest\" xlink:href=\"psysml:ae86b246-d624-47f3-845a-d38fed9eaff8\" xlink:show=\"new\" xlink:title=\"psysml:ae86b246-d624-47f3-845a-d38fed9eaff8\" xlink:type=\"simple\"><rect fill=\"#FFFFFF\" height=\"40\" id=\"E8\" rx=\"10\" ry=\"10\" style=\"stroke:#383838;stroke-width:1.5;\" width=\"133\" x=\"23.5\" y=\"42\"/><text fill=\"#000000\" font-family=\"sans-serif\" font-size=\"14\" lengthAdjust=\"spacing\" textLength=\"122\" x=\"29\" y=\"59.9951\">rearWheel: Wheel</text></a></g><!--MD5=[ad6bcbfc40722d64a93505e7eb0c37ef]\n",
       "@startuml\r\n",
       "skin sysmlbw\r\n",
       "skinparam monochrome true\r\n",
       "skinparam wrapWidth 300\r\n",
       "hide circle\r\n",
       "skinparam ranksep 10\r\n",
       "skinparam rectangle {\r\n",
       " backgroundColor<<block>> LightGreen\r\n",
       "}\r\n",
       "\r\n",
       "rec usage \"eVehicle\" as E1 [[psysml:9f940944-cc13-42af-ac96-3efd6db9a9b8 ]] {\r\n",
       "rec usage \"body\" as E2 [[psysml:d7669fe8-d57a-425f-a659-917e19581919 ]] {\r\n",
       "}\r\n",
       "rec usage \"battery\" as E3 [[psysml:cabd4bb1-5690-4402-9677-509d95d89da7 ]] {\r\n",
       "}\r\n",
       "rec usage \"engine\" as E4 [[psysml:7d34b3e6-4c95-4fad-8c22-46b6064c58d8 ]] {\r\n",
       "}\r\n",
       "rec usage \"frontAxis\" as E5 [[psysml:72f44295-5ca6-4b84-8710-138d144eb598 ]] {\r\n",
       "}\r\n",
       "rec usage \"rearAxis\" as E6 [[psysml:b7d4908e-2525-4a17-819e-52100e286c1c ]] {\r\n",
       "}\r\n",
       "rec usage \"frontWheel: Wheel\" as E7 [[psysml:6dedac84-adfd-43ba-bde5-d11782aafda1 ]] {\r\n",
       "}\r\n",
       "rec usage \"rearWheel: Wheel\" as E8 [[psysml:ae86b246-d624-47f3-845a-d38fed9eaff8 ]] {\r\n",
       "}\r\n",
       "}\r\n",
       "@enduml\r\n",
       "\n",
       "PlantUML version 1.2022.7(Mon Aug 22 17:01:30 UTC 2022)\n",
       "(EPL source distribution)\n",
       "Java Runtime: OpenJDK Runtime Environment\n",
       "JVM: OpenJDK 64-Bit Server VM\n",
       "Default Encoding: UTF-8\n",
       "Language: en\n",
       "Country: null\n",
       "--></g></svg>"
      ]
     },
     "execution_count": 15,
     "metadata": {},
     "output_type": "execute_result"
    }
   ],
   "source": [
    "%viz --view=interconnection eVehicle_LogicalArchitecture::eVehicle"
   ]
  },
  {
   "cell_type": "markdown",
   "metadata": {},
   "source": [
    "## Modeling interfaces<a name=\"sysmlv2modinterfaces\"></a>\n",
    "\n",
    "The interaction points are defined by ports in SysML v2, similar to SysML v1. The following extended example defines the interaction points between the engine and the battery. The connection is changed to connect the ports instead of the parts."
   ]
  },
  {
   "cell_type": "code",
   "execution_count": 57,
   "metadata": {},
   "outputs": [
    {
     "data": {
      "text/plain": [
       "Package eVehicle_LogicalArchitecture (a66ade94-4e3d-486c-85de-7ae1f5af4841)\n"
      ]
     },
     "execution_count": 57,
     "metadata": {},
     "output_type": "execute_result"
    }
   ],
   "source": [
    "package eVehicle_LogicalArchitecture {   \n",
    "\n",
    "    private import SI::*;        \n",
    "    \n",
    "    attribute def WheelSize {\n",
    "        size : LengthValue;\n",
    "        deviation : LengthValue;        \n",
    "    }\n",
    "        \n",
    "    part def Wheel {\n",
    "        item :>> shape : ShapeItems::Cylinder [1] {\n",
    "            :>> radius = sizeOfWheel.size;\n",
    "        }\n",
    "        attribute sizeOfWheel : WheelSize {\n",
    "            :>> size := 325 [mm];\n",
    "            :>> deviation := 1 [mm];\n",
    "        }\n",
    "        \n",
    "        constraint pressureConstraint : WheelPressureConstraint {\n",
    "            in currentPressure = pressure;\n",
    "            in limitPressure = maxPressure;\n",
    "        }\n",
    "\n",
    "        attribute pressure : PressureValue;\n",
    "        attribute maxPressure : PressureValue;\n",
    "    }\n",
    "    \n",
    "    part def FrontWheel :> Wheel {\n",
    "        attribute redefines maxPressure = 200000 [Pa];\n",
    "    }\n",
    "    part def RearWheel :> Wheel {\n",
    "        attribute redefines maxPressure = 200000 [Pa];\n",
    "    }\n",
    "    \n",
    "    constraint def WheelPressureConstraint {\n",
    "        in currentPressure : PressureValue;\n",
    "        in limitPressure : PressureValue;\n",
    "        currentPressure <= limitPressure\n",
    "    }\n",
    "    \n",
    "    part eVehicle {\n",
    "        part body;\n",
    "        part battery {\n",
    "            port powerOut;\n",
    "        }\n",
    "        part engine {\n",
    "            port powerIn;\n",
    "        }\n",
    "        part frontAxis;\n",
    "        part rearAxis;\n",
    "        part frontWheel : FrontWheel[2];\n",
    "        part frontLeftWheel :> frontWheel {\n",
    "            redefines pressure = 100000 [Pa];\n",
    "        }\n",
    "        part frontRightWheel :> frontWheel {\n",
    "            redefines pressure = 100000 [Pa];\n",
    "        }\n",
    "\n",
    "        part rearWheel : RearWheel[2];\n",
    "        part rearLeftWheel :> rearWheel {\n",
    "            redefines pressure = 200000 [Pa];\n",
    "        }\n",
    "        part rearRightWheel :> rearWheel {\n",
    "            redefines pressure = 200000 [Pa];\n",
    "        }\n",
    "              \n",
    "        connect battery.powerOut to engine.powerIn;\n",
    "        connect engine to frontAxis;\n",
    "        connect frontAxis to frontWheel;\n",
    "        connect rearAxis to rearWheel;\n",
    "        connect body to battery;\n",
    "        connect body to engine;\n",
    "        connect body to frontAxis;\n",
    "        connect body to rearAxis;\n",
    "    }\n",
    "}"
   ]
  },
  {
   "cell_type": "code",
   "execution_count": 17,
   "metadata": {},
   "outputs": [
    {
     "data": {
      "image/svg+xml": [
       "<?xml version=\"1.0\" encoding=\"UTF-8\" standalone=\"no\"?><svg xmlns=\"http://www.w3.org/2000/svg\" xmlns:xlink=\"http://www.w3.org/1999/xlink\" contentStyleType=\"text/css\" height=\"104px\" preserveAspectRatio=\"none\" style=\"width:833px;height:104px;background:#FFFFFF;\" version=\"1.1\" viewBox=\"0 0 833 104\" width=\"833px\" zoomAndPan=\"magnify\"><defs/><g><!--MD5=[fbc87193dbaf4d95561dea2c320d4a47]\n",
       "cluster E1--><g id=\"cluster_E1\"><a href=\"psysml:9f940944-cc13-42af-ac96-3efd6db9a9b8\" target=\"_top\" title=\"psysml:9f940944-cc13-42af-ac96-3efd6db9a9b8\" xlink:actuate=\"onRequest\" xlink:href=\"psysml:9f940944-cc13-42af-ac96-3efd6db9a9b8\" xlink:show=\"new\" xlink:title=\"psysml:9f940944-cc13-42af-ac96-3efd6db9a9b8\" xlink:type=\"simple\"><rect fill=\"#FFFFFF\" height=\"91\" id=\"E1\" rx=\"10\" ry=\"10\" style=\"stroke:#383838;stroke-width:1.5;\" width=\"819\" x=\"7\" y=\"7\"/><text fill=\"#000000\" font-family=\"sans-serif\" font-size=\"14\" lengthAdjust=\"spacing\" textLength=\"59\" x=\"387\" y=\"24.9951\">eVehicle</text><line style=\"stroke:#383838;stroke-width:1.0;\" x1=\"7\" x2=\"826\" y1=\"33.2969\" y2=\"33.2969\"/></a></g><g><a href=\"psysml:d7669fe8-d57a-425f-a659-917e19581919\" target=\"_top\" title=\"psysml:d7669fe8-d57a-425f-a659-917e19581919\" xlink:actuate=\"onRequest\" xlink:href=\"psysml:d7669fe8-d57a-425f-a659-917e19581919\" xlink:show=\"new\" xlink:title=\"psysml:d7669fe8-d57a-425f-a659-917e19581919\" xlink:type=\"simple\"><rect fill=\"#FFFFFF\" height=\"40\" id=\"E2\" rx=\"10\" ry=\"10\" style=\"stroke:#383838;stroke-width:1.5;\" width=\"50\" x=\"760\" y=\"42\"/><text fill=\"#000000\" font-family=\"sans-serif\" font-size=\"14\" lengthAdjust=\"spacing\" textLength=\"34\" x=\"768\" y=\"59.9951\">body</text></a></g><g><a href=\"psysml:cabd4bb1-5690-4402-9677-509d95d89da7\" target=\"_top\" title=\"psysml:cabd4bb1-5690-4402-9677-509d95d89da7\" xlink:actuate=\"onRequest\" xlink:href=\"psysml:cabd4bb1-5690-4402-9677-509d95d89da7\" xlink:show=\"new\" xlink:title=\"psysml:cabd4bb1-5690-4402-9677-509d95d89da7\" xlink:type=\"simple\"><rect fill=\"#FFFFFF\" height=\"40\" id=\"E3\" rx=\"10\" ry=\"10\" style=\"stroke:#383838;stroke-width:1.5;\" width=\"59\" x=\"665.5\" y=\"42\"/><text fill=\"#000000\" font-family=\"sans-serif\" font-size=\"14\" lengthAdjust=\"spacing\" textLength=\"48\" x=\"671\" y=\"59.9951\">battery</text></a></g><g><a href=\"psysml:7d34b3e6-4c95-4fad-8c22-46b6064c58d8\" target=\"_top\" title=\"psysml:7d34b3e6-4c95-4fad-8c22-46b6064c58d8\" xlink:actuate=\"onRequest\" xlink:href=\"psysml:7d34b3e6-4c95-4fad-8c22-46b6064c58d8\" xlink:show=\"new\" xlink:title=\"psysml:7d34b3e6-4c95-4fad-8c22-46b6064c58d8\" xlink:type=\"simple\"><rect fill=\"#FFFFFF\" height=\"40\" id=\"E4\" rx=\"10\" ry=\"10\" style=\"stroke:#383838;stroke-width:1.5;\" width=\"59\" x=\"571.5\" y=\"42\"/><text fill=\"#000000\" font-family=\"sans-serif\" font-size=\"14\" lengthAdjust=\"spacing\" textLength=\"48\" x=\"577\" y=\"59.9951\">engine</text></a></g><g><a href=\"psysml:72f44295-5ca6-4b84-8710-138d144eb598\" target=\"_top\" title=\"psysml:72f44295-5ca6-4b84-8710-138d144eb598\" xlink:actuate=\"onRequest\" xlink:href=\"psysml:72f44295-5ca6-4b84-8710-138d144eb598\" xlink:show=\"new\" xlink:title=\"psysml:72f44295-5ca6-4b84-8710-138d144eb598\" xlink:type=\"simple\"><rect fill=\"#FFFFFF\" height=\"40\" id=\"E5\" rx=\"10\" ry=\"10\" style=\"stroke:#383838;stroke-width:1.5;\" width=\"70\" x=\"466\" y=\"42\"/><text fill=\"#000000\" font-family=\"sans-serif\" font-size=\"14\" lengthAdjust=\"spacing\" textLength=\"59\" x=\"471.5\" y=\"59.9951\">frontAxis</text></a></g><g><a href=\"psysml:b7d4908e-2525-4a17-819e-52100e286c1c\" target=\"_top\" title=\"psysml:b7d4908e-2525-4a17-819e-52100e286c1c\" xlink:actuate=\"onRequest\" xlink:href=\"psysml:b7d4908e-2525-4a17-819e-52100e286c1c\" xlink:show=\"new\" xlink:title=\"psysml:b7d4908e-2525-4a17-819e-52100e286c1c\" xlink:type=\"simple\"><rect fill=\"#FFFFFF\" height=\"40\" id=\"E6\" rx=\"10\" ry=\"10\" style=\"stroke:#383838;stroke-width:1.5;\" width=\"65\" x=\"365.5\" y=\"42\"/><text fill=\"#000000\" font-family=\"sans-serif\" font-size=\"14\" lengthAdjust=\"spacing\" textLength=\"54\" x=\"371\" y=\"59.9951\">rearAxis</text></a></g><g><a href=\"psysml:6dedac84-adfd-43ba-bde5-d11782aafda1\" target=\"_top\" title=\"psysml:6dedac84-adfd-43ba-bde5-d11782aafda1\" xlink:actuate=\"onRequest\" xlink:href=\"psysml:6dedac84-adfd-43ba-bde5-d11782aafda1\" xlink:show=\"new\" xlink:title=\"psysml:6dedac84-adfd-43ba-bde5-d11782aafda1\" xlink:type=\"simple\"><rect fill=\"#FFFFFF\" height=\"40\" id=\"E7\" rx=\"10\" ry=\"10\" style=\"stroke:#383838;stroke-width:1.5;\" width=\"138\" x=\"192\" y=\"42\"/><text fill=\"#000000\" font-family=\"sans-serif\" font-size=\"14\" lengthAdjust=\"spacing\" textLength=\"127\" x=\"197.5\" y=\"59.9951\">frontWheel: Wheel</text></a></g><g><a href=\"psysml:ae86b246-d624-47f3-845a-d38fed9eaff8\" target=\"_top\" title=\"psysml:ae86b246-d624-47f3-845a-d38fed9eaff8\" xlink:actuate=\"onRequest\" xlink:href=\"psysml:ae86b246-d624-47f3-845a-d38fed9eaff8\" xlink:show=\"new\" xlink:title=\"psysml:ae86b246-d624-47f3-845a-d38fed9eaff8\" xlink:type=\"simple\"><rect fill=\"#FFFFFF\" height=\"40\" id=\"E8\" rx=\"10\" ry=\"10\" style=\"stroke:#383838;stroke-width:1.5;\" width=\"133\" x=\"23.5\" y=\"42\"/><text fill=\"#000000\" font-family=\"sans-serif\" font-size=\"14\" lengthAdjust=\"spacing\" textLength=\"122\" x=\"29\" y=\"59.9951\">rearWheel: Wheel</text></a></g><!--MD5=[ad6bcbfc40722d64a93505e7eb0c37ef]\n",
       "@startuml\r\n",
       "skin sysmlbw\r\n",
       "skinparam monochrome true\r\n",
       "skinparam wrapWidth 300\r\n",
       "hide circle\r\n",
       "skinparam ranksep 10\r\n",
       "skinparam rectangle {\r\n",
       " backgroundColor<<block>> LightGreen\r\n",
       "}\r\n",
       "\r\n",
       "rec usage \"eVehicle\" as E1 [[psysml:9f940944-cc13-42af-ac96-3efd6db9a9b8 ]] {\r\n",
       "rec usage \"body\" as E2 [[psysml:d7669fe8-d57a-425f-a659-917e19581919 ]] {\r\n",
       "}\r\n",
       "rec usage \"battery\" as E3 [[psysml:cabd4bb1-5690-4402-9677-509d95d89da7 ]] {\r\n",
       "}\r\n",
       "rec usage \"engine\" as E4 [[psysml:7d34b3e6-4c95-4fad-8c22-46b6064c58d8 ]] {\r\n",
       "}\r\n",
       "rec usage \"frontAxis\" as E5 [[psysml:72f44295-5ca6-4b84-8710-138d144eb598 ]] {\r\n",
       "}\r\n",
       "rec usage \"rearAxis\" as E6 [[psysml:b7d4908e-2525-4a17-819e-52100e286c1c ]] {\r\n",
       "}\r\n",
       "rec usage \"frontWheel: Wheel\" as E7 [[psysml:6dedac84-adfd-43ba-bde5-d11782aafda1 ]] {\r\n",
       "}\r\n",
       "rec usage \"rearWheel: Wheel\" as E8 [[psysml:ae86b246-d624-47f3-845a-d38fed9eaff8 ]] {\r\n",
       "}\r\n",
       "}\r\n",
       "@enduml\r\n",
       "\n",
       "PlantUML version 1.2022.7(Mon Aug 22 17:01:30 UTC 2022)\n",
       "(EPL source distribution)\n",
       "Java Runtime: OpenJDK Runtime Environment\n",
       "JVM: OpenJDK 64-Bit Server VM\n",
       "Default Encoding: UTF-8\n",
       "Language: en\n",
       "Country: null\n",
       "--></g></svg>"
      ]
     },
     "execution_count": 17,
     "metadata": {},
     "output_type": "execute_result"
    }
   ],
   "source": [
    "%viz --view=interconnection eVehicle_LogicalArchitecture::eVehicle"
   ]
  },
  {
   "cell_type": "markdown",
   "metadata": {},
   "source": [
    "The ports *powerIn* and *powerOut* have no types respectively the SysML v2 library element *Port* as default type. The consistent usage/definition pattern applies here as well. The port is a usage. With a PortDef the interaction point can be defined. In this example it is a good candidate for a model library.\n",
    "\n",
    "The port only specifies the interaction point. The interface defines the connection between interaction points. The *PowerOutPort* is conjugated for the *consumerPort* port."
   ]
  },
  {
   "cell_type": "code",
   "execution_count": 58,
   "metadata": {},
   "outputs": [
    {
     "data": {
      "text/plain": [
       "Package eVehicleLibrary (9f5c0d52-12be-44d0-95e0-6bb64a445fcd)\n"
      ]
     },
     "execution_count": 58,
     "metadata": {},
     "output_type": "execute_result"
    }
   ],
   "source": [
    "package eVehicleLibrary {\n",
    "    \n",
    "    private import ScalarValues::Integer;\n",
    "    \n",
    "    item def ElectricEnergy;\n",
    "    attribute def BatteryCapacity :> ScalarValues::Integer;\n",
    "    attribute def Speed :> ScalarValues::Integer;\n",
    "    \n",
    "    port def PowerOutPort {\n",
    "        out energy : ElectricEnergy;\n",
    "    }\n",
    "    \n",
    "    interface def PowerInterface {\n",
    "        end supplierPort : PowerOutPort;\n",
    "        end consumerPort : ~PowerOutPort;\n",
    "    }\n",
    "}"
   ]
  },
  {
   "cell_type": "code",
   "execution_count": 19,
   "metadata": {},
   "outputs": [
    {
     "data": {
      "image/svg+xml": [
       "<?xml version=\"1.0\" encoding=\"UTF-8\" standalone=\"no\"?><svg xmlns=\"http://www.w3.org/2000/svg\" xmlns:xlink=\"http://www.w3.org/1999/xlink\" contentStyleType=\"text/css\" height=\"455px\" preserveAspectRatio=\"none\" style=\"width:532px;height:455px;background:#FFFFFF;\" version=\"1.1\" viewBox=\"0 0 532 455\" width=\"532px\" zoomAndPan=\"magnify\"><defs/><g><!--MD5=[fbc87193dbaf4d95561dea2c320d4a47]\n",
       "cluster E1--><g id=\"cluster_E1\"><a href=\"psysml:c3a66ad1-3c06-4462-9f63-7c24b96bf7ad\" target=\"_top\" title=\"psysml:c3a66ad1-3c06-4462-9f63-7c24b96bf7ad\" xlink:actuate=\"onRequest\" xlink:href=\"psysml:c3a66ad1-3c06-4462-9f63-7c24b96bf7ad\" xlink:show=\"new\" xlink:title=\"psysml:c3a66ad1-3c06-4462-9f63-7c24b96bf7ad\" xlink:type=\"simple\"><polygon fill=\"none\" points=\"16,6,131.5625,6,138.5625,28.2969,515,28.2969,515,448,16,448,16,6\" style=\"stroke:#000000;stroke-width:1.5;\"/><line style=\"stroke:#000000;stroke-width:1.5;\" x1=\"16\" x2=\"138.5625\" y1=\"28.2969\" y2=\"28.2969\"/><text fill=\"#000000\" font-family=\"sans-serif\" font-size=\"14\" font-weight=\"bold\" lengthAdjust=\"spacing\" textLength=\"109.5625\" x=\"20\" y=\"20.9951\">eVehicleLibrary</text></a></g><!--MD5=[b4997ac47864f28c2f74865a473b2911]\n",
       "class E2--><a href=\"psysml:13673987-9f51-47a6-ac3c-56374fe75dc9\" target=\"_top\" title=\"psysml:13673987-9f51-47a6-ac3c-56374fe75dc9\" xlink:actuate=\"onRequest\" xlink:href=\"psysml:13673987-9f51-47a6-ac3c-56374fe75dc9\" xlink:show=\"new\" xlink:title=\"psysml:13673987-9f51-47a6-ac3c-56374fe75dc9\" xlink:type=\"simple\"><g id=\"elem_E2\"><rect fill=\"#FFFFFF\" height=\"48.2656\" id=\"E2\" style=\"stroke:#181818;stroke-width:0.5;\" width=\"104\" x=\"81\" y=\"384\"/><text fill=\"#000000\" font-family=\"sans-serif\" font-size=\"12\" font-style=\"italic\" lengthAdjust=\"spacing\" textLength=\"69\" x=\"98.5\" y=\"400.1387\">«item  def»</text><text fill=\"#000000\" font-family=\"sans-serif\" font-size=\"14\" lengthAdjust=\"spacing\" textLength=\"98\" x=\"84\" y=\"415.9639\">ElectricEnergy</text><line style=\"stroke:#181818;stroke-width:0.5;\" x1=\"82\" x2=\"184\" y1=\"424.2656\" y2=\"424.2656\"/></g></a><!--MD5=[09b614a08d8cba4a07c9adeb5e0fee81]\n",
       "class E3--><a href=\"psysml:2fbc7213-073f-4163-afea-f4379b99c2a7\" target=\"_top\" title=\"psysml:2fbc7213-073f-4163-afea-f4379b99c2a7\" xlink:actuate=\"onRequest\" xlink:href=\"psysml:2fbc7213-073f-4163-afea-f4379b99c2a7\" xlink:show=\"new\" xlink:title=\"psysml:2fbc7213-073f-4163-afea-f4379b99c2a7\" xlink:type=\"simple\"><g id=\"elem_E3\"><rect fill=\"#FFFFFF\" height=\"48.2656\" id=\"E3\" style=\"stroke:#181818;stroke-width:0.5;\" width=\"113\" x=\"378.5\" y=\"41\"/><text fill=\"#000000\" font-family=\"sans-serif\" font-size=\"12\" font-style=\"italic\" lengthAdjust=\"spacing\" textLength=\"97\" x=\"386.5\" y=\"57.1387\">«attribute  def»</text><text fill=\"#000000\" font-family=\"sans-serif\" font-size=\"14\" lengthAdjust=\"spacing\" textLength=\"107\" x=\"381.5\" y=\"72.9639\">BatteryCapacity</text><line style=\"stroke:#181818;stroke-width:0.5;\" x1=\"379.5\" x2=\"490.5\" y1=\"81.2656\" y2=\"81.2656\"/></g></a><!--MD5=[ebbe1d658d1005bcc118a6aa81145e00]\n",
       "class E4--><a href=\"psysml:187dcdea-e2e9-4de3-9ff9-bdb65d35e0f2\" target=\"_top\" title=\"psysml:187dcdea-e2e9-4de3-9ff9-bdb65d35e0f2\" xlink:actuate=\"onRequest\" xlink:href=\"psysml:187dcdea-e2e9-4de3-9ff9-bdb65d35e0f2\" xlink:show=\"new\" xlink:title=\"psysml:187dcdea-e2e9-4de3-9ff9-bdb65d35e0f2\" xlink:type=\"simple\"><g id=\"elem_E4\"><rect fill=\"#FFFFFF\" height=\"48.2656\" id=\"E4\" style=\"stroke:#181818;stroke-width:0.5;\" width=\"99\" x=\"239.5\" y=\"41\"/><text fill=\"#000000\" font-family=\"sans-serif\" font-size=\"12\" font-style=\"italic\" lengthAdjust=\"spacing\" textLength=\"97\" x=\"240.5\" y=\"57.1387\">«attribute  def»</text><text fill=\"#000000\" font-family=\"sans-serif\" font-size=\"14\" lengthAdjust=\"spacing\" textLength=\"45\" x=\"266.5\" y=\"72.9639\">Speed</text><line style=\"stroke:#181818;stroke-width:0.5;\" x1=\"240.5\" x2=\"337.5\" y1=\"81.2656\" y2=\"81.2656\"/></g></a><!--MD5=[270fce915f116d4de14055a7c1d9a0f3]\n",
       "class E5--><a href=\"psysml:c2b2f1b5-0cde-48c5-a56f-66e94531b3a9\" target=\"_top\" title=\"psysml:c2b2f1b5-0cde-48c5-a56f-66e94531b3a9\" xlink:actuate=\"onRequest\" xlink:href=\"psysml:c2b2f1b5-0cde-48c5-a56f-66e94531b3a9\" xlink:show=\"new\" xlink:title=\"psysml:c2b2f1b5-0cde-48c5-a56f-66e94531b3a9\" xlink:type=\"simple\"><g id=\"elem_E5\"><rect fill=\"#FFFFFF\" height=\"48.2656\" id=\"E5\" style=\"stroke:#181818;stroke-width:0.5;\" width=\"102\" x=\"82\" y=\"259\"/><text fill=\"#000000\" font-family=\"sans-serif\" font-size=\"12\" font-style=\"italic\" lengthAdjust=\"spacing\" textLength=\"68\" x=\"99\" y=\"275.1387\">«port  def»</text><text fill=\"#000000\" font-family=\"sans-serif\" font-size=\"14\" lengthAdjust=\"spacing\" textLength=\"96\" x=\"85\" y=\"290.9639\">PowerOutPort</text><line style=\"stroke:#181818;stroke-width:0.5;\" x1=\"83\" x2=\"183\" y1=\"299.2656\" y2=\"299.2656\"/></g></a><!--MD5=[60a26617385b1d2d0262a64233df1f8d]\n",
       "class E6--><a href=\"psysml:aa29fbf7-730f-4a01-ab71-9ee6cb8c22da\" target=\"_top\" title=\"psysml:aa29fbf7-730f-4a01-ab71-9ee6cb8c22da\" xlink:actuate=\"onRequest\" xlink:href=\"psysml:aa29fbf7-730f-4a01-ab71-9ee6cb8c22da\" xlink:show=\"new\" xlink:title=\"psysml:aa29fbf7-730f-4a01-ab71-9ee6cb8c22da\" xlink:type=\"simple\"><g id=\"elem_E6\"><rect fill=\"#FFFFFF\" height=\"48.2656\" id=\"E6\" style=\"stroke:#181818;stroke-width:0.5;\" width=\"109\" x=\"84.5\" y=\"41\"/><text fill=\"#000000\" font-family=\"sans-serif\" font-size=\"12\" font-style=\"italic\" lengthAdjust=\"spacing\" textLength=\"98\" x=\"90\" y=\"57.1387\">«interface  def»</text><text fill=\"#000000\" font-family=\"sans-serif\" font-size=\"14\" lengthAdjust=\"spacing\" textLength=\"103\" x=\"87.5\" y=\"72.9639\">PowerInterface</text><line style=\"stroke:#181818;stroke-width:0.5;\" x1=\"85.5\" x2=\"192.5\" y1=\"81.2656\" y2=\"81.2656\"/></g></a><!--MD5=[2156ba9850f5573cc1fc38a6a4b2f02b]\n",
       "class E7--><a href=\"psysml:78455a3e-656f-4378-9ba5-4a968b72371e\" target=\"_top\" title=\"psysml:78455a3e-656f-4378-9ba5-4a968b72371e\" xlink:actuate=\"onRequest\" xlink:href=\"psysml:78455a3e-656f-4378-9ba5-4a968b72371e\" xlink:show=\"new\" xlink:title=\"psysml:78455a3e-656f-4378-9ba5-4a968b72371e\" xlink:type=\"simple\"><g id=\"elem_E7\"><rect fill=\"#FFFFFF\" height=\"48.2656\" id=\"E7\" rx=\"10\" ry=\"10\" style=\"stroke:#181818;stroke-width:0.5;\" width=\"202\" x=\"32\" y=\"150\"/><text fill=\"#000000\" font-family=\"sans-serif\" font-size=\"12\" font-style=\"italic\" lengthAdjust=\"spacing\" textLength=\"40\" x=\"113\" y=\"166.1387\">«port»</text><text fill=\"#000000\" font-family=\"sans-serif\" font-size=\"14\" lengthAdjust=\"spacing\" textLength=\"188\" x=\"35\" y=\"181.9639\">supplierPort: PowerOutPort</text><line style=\"stroke:#181818;stroke-width:0.5;\" x1=\"33\" x2=\"233\" y1=\"190.2656\" y2=\"190.2656\"/></g></a><!--MD5=[b9389687b975829384b498ac4b7476b2]\n",
       "class E8--><a href=\"psysml:b78b8ecf-c113-4855-8185-7041e418b176\" target=\"_top\" title=\"psysml:b78b8ecf-c113-4855-8185-7041e418b176\" xlink:actuate=\"onRequest\" xlink:href=\"psysml:b78b8ecf-c113-4855-8185-7041e418b176\" xlink:show=\"new\" xlink:title=\"psysml:b78b8ecf-c113-4855-8185-7041e418b176\" xlink:type=\"simple\"><g id=\"elem_E8\"><rect fill=\"#FFFFFF\" height=\"48.2656\" id=\"E8\" rx=\"10\" ry=\"10\" style=\"stroke:#181818;stroke-width:0.5;\" width=\"229\" x=\"269.5\" y=\"150\"/><text fill=\"#000000\" font-family=\"sans-serif\" font-size=\"12\" font-style=\"italic\" lengthAdjust=\"spacing\" textLength=\"40\" x=\"364\" y=\"166.1387\">«port»</text><text fill=\"#000000\" font-family=\"sans-serif\" font-size=\"14\" lengthAdjust=\"spacing\" textLength=\"215\" x=\"272.5\" y=\"181.9639\">consumerPort: ~PowerOutPort</text><line style=\"stroke:#181818;stroke-width:0.5;\" x1=\"270.5\" x2=\"497.5\" y1=\"190.2656\" y2=\"190.2656\"/></g></a><!--MD5=[f51c6d1f1856fe338ac0413483fb1ccf]\n",
       "reverse link E5 to E2--><g id=\"link_E5_E2\"><a href=\"psysml:0d27a8ae-2649-48bf-89bd-bda4eee69279\" target=\"_top\" title=\"psysml:0d27a8ae-2649-48bf-89bd-bda4eee69279\" xlink:actuate=\"onRequest\" xlink:href=\"psysml:0d27a8ae-2649-48bf-89bd-bda4eee69279\" xlink:show=\"new\" xlink:title=\"psysml:0d27a8ae-2649-48bf-89bd-bda4eee69279\" xlink:type=\"simple\"><path d=\"M133,320.21 C133,340.83 133,366.04 133,383.97 \" fill=\"none\" id=\"E5-backto-E2\" style=\"stroke:#181818;stroke-width:1.0;\"/><polygon fill=\"none\" points=\"133,307.14,129,313.14,133,319.14,137,313.14,133,307.14\" style=\"stroke:#181818;stroke-width:1.0;\"/><text fill=\"#000000\" font-family=\"sans-serif\" font-size=\"13\" lengthAdjust=\"spacing\" textLength=\"44\" x=\"134\" y=\"350.0669\">energy</text></a></g><!--MD5=[3f50a3473f1dfb74d3f76443e03635af]\n",
       "reverse link E6 to E7--><g id=\"link_E6_E7\"><a href=\"psysml:6bc21123-5d81-4140-9493-a25d3649562e\" target=\"_top\" title=\"psysml:6bc21123-5d81-4140-9493-a25d3649562e\" xlink:actuate=\"onRequest\" xlink:href=\"psysml:6bc21123-5d81-4140-9493-a25d3649562e\" xlink:show=\"new\" xlink:title=\"psysml:6bc21123-5d81-4140-9493-a25d3649562e\" xlink:type=\"simple\"><path d=\"M136.96,102.3 C136.08,118.02 135.08,135.96 134.3,149.83 \" fill=\"none\" id=\"E6-backto-E7\" style=\"stroke:#181818;stroke-width:1.0;\"/><polygon fill=\"none\" points=\"137.7,89.22,133.3698,94.9862,137.0271,101.2011,141.3572,95.4349,137.7,89.22\" style=\"stroke:#181818;stroke-width:1.0;\"/></a></g><!--MD5=[4d1e63f6c5cc89ece832f1e02a2fb60c]\n",
       "link E7 to E5--><g id=\"link_E7_E5\"><a href=\"psysml:bb867034-d07b-451f-ac40-ea8f0493fe45\" target=\"_top\" title=\"psysml:bb867034-d07b-451f-ac40-ea8f0493fe45\" xlink:actuate=\"onRequest\" xlink:href=\"psysml:bb867034-d07b-451f-ac40-ea8f0493fe45\" xlink:show=\"new\" xlink:title=\"psysml:bb867034-d07b-451f-ac40-ea8f0493fe45\" xlink:type=\"simple\"><path d=\"M133,198.22 C133,210 133,224.69 133,238.48 \" fill=\"none\" id=\"E7-to-E5\" style=\"stroke:#181818;stroke-width:1.0;\"/><polygon fill=\"#FFFFFF\" points=\"133,258.83,126,239.83,140,239.83,133,258.83\" style=\"stroke:#181818;stroke-width:1.0;\"/><ellipse cx=\"128\" cy=\"234.13\" fill=\"#181818\" rx=\"2\" ry=\"2\" style=\"stroke:#181818;stroke-width:1.0;\"/><ellipse cx=\"138\" cy=\"234.13\" fill=\"#181818\" rx=\"2\" ry=\"2\" style=\"stroke:#181818;stroke-width:1.0;\"/></a></g><!--MD5=[f4cf0736d43fd73c4ef68817c49d37d5]\n",
       "reverse link E6 to E8--><g id=\"link_E6_E8\"><a href=\"psysml:113227f5-0c59-45c9-a4fc-d01412f11f6a\" target=\"_top\" title=\"psysml:113227f5-0c59-45c9-a4fc-d01412f11f6a\" xlink:actuate=\"onRequest\" xlink:href=\"psysml:113227f5-0c59-45c9-a4fc-d01412f11f6a\" xlink:show=\"new\" xlink:title=\"psysml:113227f5-0c59-45c9-a4fc-d01412f11f6a\" xlink:type=\"simple\"><path d=\"M203.84,94.32 C243.62,111.69 293.9,133.65 331.24,149.96 \" fill=\"none\" id=\"E6-backto-E8\" style=\"stroke:#181818;stroke-width:1.0;\"/><polygon fill=\"none\" points=\"191.86,89.09,195.759,95.1561,202.8581,93.8901,198.9591,87.824,191.86,89.09\" style=\"stroke:#181818;stroke-width:1.0;\"/></a></g><!--MD5=[75b20564df80f3866aa28b2c8aa8add6]\n",
       "@startuml\r\n",
       "skin sysmlbw\r\n",
       "skinparam monochrome true\r\n",
       "skinparam wrapWidth 300\r\n",
       "hide circle\r\n",
       "\r\n",
       "package \"eVehicleLibrary\" as E1  [[psysml:c3a66ad1-3c06-4462-9f63-7c24b96bf7ad ]]  {\r\n",
       "comp def \"ElectricEnergy\" as E2  <<(T,blue) item  def>> [[psysml:13673987-9f51-47a6-ac3c-56374fe75dc9 ]] {\r\n",
       "}\r\n",
       "comp def \"BatteryCapacity\" as E3  <<(T,blue) attribute  def>> [[psysml:2fbc7213-073f-4163-afea-f4379b99c2a7 ]] {\r\n",
       "}\r\n",
       "comp def \"Speed\" as E4  <<(T,blue) attribute  def>> [[psysml:187dcdea-e2e9-4de3-9ff9-bdb65d35e0f2 ]] {\r\n",
       "}\r\n",
       "comp def \"PowerOutPort\" as E5  <<(T,blue) port  def>> [[psysml:c2b2f1b5-0cde-48c5-a56f-66e94531b3a9 ]] {\r\n",
       "}\r\n",
       "comp def \"PowerInterface\" as E6  <<(T,blue) interface  def>> [[psysml:aa29fbf7-730f-4a01-ab71-9ee6cb8c22da ]] {\r\n",
       "}\r\n",
       "comp usage \"supplierPort: PowerOutPort  \" as E7  <<(T,blue) port>> [[psysml:78455a3e-656f-4378-9ba5-4a968b72371e ]] {\r\n",
       "}\r\n",
       "comp usage \"consumerPort: ~PowerOutPort  \" as E8  <<(T,blue) port>> [[psysml:b78b8ecf-c113-4855-8185-7041e418b176 ]] {\r\n",
       "}\r\n",
       "}\r\n",
       "E5 o- - E2 [[psysml:0d27a8ae-2649-48bf-89bd-bda4eee69279 ]] : energy\r\n",
       "E6 o- - E7 [[psysml:6bc21123-5d81-4140-9493-a25d3649562e ]] \r\n",
       "E7 - -:|> E5 [[psysml:bb867034-d07b-451f-ac40-ea8f0493fe45 ]] \r\n",
       "E6 o- - E8 [[psysml:113227f5-0c59-45c9-a4fc-d01412f11f6a ]] \r\n",
       "@enduml\r\n",
       "\n",
       "PlantUML version 1.2022.7(Mon Aug 22 17:01:30 UTC 2022)\n",
       "(EPL source distribution)\n",
       "Java Runtime: OpenJDK Runtime Environment\n",
       "JVM: OpenJDK 64-Bit Server VM\n",
       "Default Encoding: UTF-8\n",
       "Language: en\n",
       "Country: null\n",
       "--></g></svg>"
      ]
     },
     "execution_count": 19,
     "metadata": {},
     "output_type": "execute_result"
    }
   ],
   "source": [
    "%viz --view=tree eVehicleLibrary"
   ]
  },
  {
   "cell_type": "markdown",
   "metadata": {},
   "source": [
    "Next, the definitions of the port and the interface are applied to the model. **Do not forget to run the eVehicleLibrary cell above.**"
   ]
  },
  {
   "cell_type": "code",
   "execution_count": 59,
   "metadata": {},
   "outputs": [
    {
     "data": {
      "text/plain": [
       "Package eVehicle_LogicalArchitecture (ed473297-31d3-4892-a7d5-da1e0457fd34)\n"
      ]
     },
     "execution_count": 59,
     "metadata": {},
     "output_type": "execute_result"
    }
   ],
   "source": [
    "package eVehicle_LogicalArchitecture {   \n",
    "\n",
    "    private import SI::*;        \n",
    "    private import eVehicleLibrary::*;\n",
    "    \n",
    "    attribute def WheelSize {\n",
    "        size : LengthValue;\n",
    "        deviation : LengthValue;        \n",
    "    }\n",
    "        \n",
    "    part def Wheel {\n",
    "        item :>> shape : ShapeItems::Cylinder [1] {\n",
    "            :>> radius = sizeOfWheel.size;\n",
    "        }\n",
    "        attribute sizeOfWheel : WheelSize {\n",
    "            :>> size := 325 [mm];\n",
    "            :>> deviation := 1 [mm];\n",
    "        }\n",
    "        \n",
    "        constraint pressureConstraint : WheelPressureConstraint {\n",
    "            in currentPressure = pressure;\n",
    "            in limitPressure = maxPressure;\n",
    "        }\n",
    "\n",
    "        attribute pressure : PressureValue;\n",
    "        attribute maxPressure : PressureValue;\n",
    "    }\n",
    "    \n",
    "    part def FrontWheel :> Wheel {\n",
    "        attribute redefines maxPressure = 200000 [Pa];\n",
    "    }\n",
    "    part def RearWheel :> Wheel {\n",
    "        attribute redefines maxPressure = 200000 [Pa];\n",
    "    }\n",
    "\n",
    "    constraint def WheelPressureConstraint {\n",
    "        in currentPressure : PressureValue;\n",
    "        in limitPressure : PressureValue;\n",
    "        currentPressure <= limitPressure\n",
    "    }\n",
    "\n",
    "    part def Battery {\n",
    "        attribute capacity : BatteryCapacity;\n",
    "        port powerOut : PowerOutPort;\n",
    "    }\n",
    "\n",
    "    part def Engine {\n",
    "        port powerIn : ~PowerOutPort;\n",
    "    }\n",
    "    \n",
    "    part eVehicle {\n",
    "        part body;\n",
    "        part battery : Battery;\n",
    "        part engine : Engine;\n",
    "        part frontAxis;\n",
    "        part rearAxis;\n",
    "        part frontWheel : FrontWheel[2];\n",
    "        part frontLeftWheel :> frontWheel {\n",
    "            redefines pressure = 100000 [Pa];\n",
    "        }\n",
    "        part frontRightWheel :> frontWheel {\n",
    "            redefines pressure = 100000 [Pa];\n",
    "        }\n",
    "\n",
    "        part rearWheel : RearWheel[2];\n",
    "        part rearLeftWheel :> rearWheel {\n",
    "            redefines pressure = 200000 [Pa];\n",
    "        }\n",
    "        part rearRightWheel :> rearWheel {\n",
    "            redefines pressure = 200000 [Pa];\n",
    "        }\n",
    "              \n",
    "        interface : PowerInterface connect \n",
    "            supplierPort ::> battery.powerOut to \n",
    "            consumerPort ::> engine.powerIn;\n",
    "\n",
    "        connect engine to frontAxis;\n",
    "        connect frontAxis to frontWheel;\n",
    "        connect rearAxis to rearWheel;\n",
    "        connect body to battery;\n",
    "        connect body to engine;\n",
    "        connect body to frontAxis;\n",
    "        connect body to rearAxis;\n",
    "    }\n",
    "}"
   ]
  },
  {
   "cell_type": "code",
   "execution_count": 21,
   "metadata": {},
   "outputs": [
    {
     "data": {
      "image/svg+xml": [
       "<?xml version=\"1.0\" encoding=\"UTF-8\" standalone=\"no\"?><svg xmlns=\"http://www.w3.org/2000/svg\" xmlns:xlink=\"http://www.w3.org/1999/xlink\" contentStyleType=\"text/css\" height=\"104px\" preserveAspectRatio=\"none\" style=\"width:833px;height:104px;background:#FFFFFF;\" version=\"1.1\" viewBox=\"0 0 833 104\" width=\"833px\" zoomAndPan=\"magnify\"><defs/><g><!--MD5=[fbc87193dbaf4d95561dea2c320d4a47]\n",
       "cluster E1--><g id=\"cluster_E1\"><a href=\"psysml:9f940944-cc13-42af-ac96-3efd6db9a9b8\" target=\"_top\" title=\"psysml:9f940944-cc13-42af-ac96-3efd6db9a9b8\" xlink:actuate=\"onRequest\" xlink:href=\"psysml:9f940944-cc13-42af-ac96-3efd6db9a9b8\" xlink:show=\"new\" xlink:title=\"psysml:9f940944-cc13-42af-ac96-3efd6db9a9b8\" xlink:type=\"simple\"><rect fill=\"#FFFFFF\" height=\"91\" id=\"E1\" rx=\"10\" ry=\"10\" style=\"stroke:#383838;stroke-width:1.5;\" width=\"819\" x=\"7\" y=\"7\"/><text fill=\"#000000\" font-family=\"sans-serif\" font-size=\"14\" lengthAdjust=\"spacing\" textLength=\"59\" x=\"387\" y=\"24.9951\">eVehicle</text><line style=\"stroke:#383838;stroke-width:1.0;\" x1=\"7\" x2=\"826\" y1=\"33.2969\" y2=\"33.2969\"/></a></g><g><a href=\"psysml:d7669fe8-d57a-425f-a659-917e19581919\" target=\"_top\" title=\"psysml:d7669fe8-d57a-425f-a659-917e19581919\" xlink:actuate=\"onRequest\" xlink:href=\"psysml:d7669fe8-d57a-425f-a659-917e19581919\" xlink:show=\"new\" xlink:title=\"psysml:d7669fe8-d57a-425f-a659-917e19581919\" xlink:type=\"simple\"><rect fill=\"#FFFFFF\" height=\"40\" id=\"E2\" rx=\"10\" ry=\"10\" style=\"stroke:#383838;stroke-width:1.5;\" width=\"50\" x=\"760\" y=\"42\"/><text fill=\"#000000\" font-family=\"sans-serif\" font-size=\"14\" lengthAdjust=\"spacing\" textLength=\"34\" x=\"768\" y=\"59.9951\">body</text></a></g><g><a href=\"psysml:cabd4bb1-5690-4402-9677-509d95d89da7\" target=\"_top\" title=\"psysml:cabd4bb1-5690-4402-9677-509d95d89da7\" xlink:actuate=\"onRequest\" xlink:href=\"psysml:cabd4bb1-5690-4402-9677-509d95d89da7\" xlink:show=\"new\" xlink:title=\"psysml:cabd4bb1-5690-4402-9677-509d95d89da7\" xlink:type=\"simple\"><rect fill=\"#FFFFFF\" height=\"40\" id=\"E3\" rx=\"10\" ry=\"10\" style=\"stroke:#383838;stroke-width:1.5;\" width=\"59\" x=\"665.5\" y=\"42\"/><text fill=\"#000000\" font-family=\"sans-serif\" font-size=\"14\" lengthAdjust=\"spacing\" textLength=\"48\" x=\"671\" y=\"59.9951\">battery</text></a></g><g><a href=\"psysml:7d34b3e6-4c95-4fad-8c22-46b6064c58d8\" target=\"_top\" title=\"psysml:7d34b3e6-4c95-4fad-8c22-46b6064c58d8\" xlink:actuate=\"onRequest\" xlink:href=\"psysml:7d34b3e6-4c95-4fad-8c22-46b6064c58d8\" xlink:show=\"new\" xlink:title=\"psysml:7d34b3e6-4c95-4fad-8c22-46b6064c58d8\" xlink:type=\"simple\"><rect fill=\"#FFFFFF\" height=\"40\" id=\"E4\" rx=\"10\" ry=\"10\" style=\"stroke:#383838;stroke-width:1.5;\" width=\"59\" x=\"571.5\" y=\"42\"/><text fill=\"#000000\" font-family=\"sans-serif\" font-size=\"14\" lengthAdjust=\"spacing\" textLength=\"48\" x=\"577\" y=\"59.9951\">engine</text></a></g><g><a href=\"psysml:72f44295-5ca6-4b84-8710-138d144eb598\" target=\"_top\" title=\"psysml:72f44295-5ca6-4b84-8710-138d144eb598\" xlink:actuate=\"onRequest\" xlink:href=\"psysml:72f44295-5ca6-4b84-8710-138d144eb598\" xlink:show=\"new\" xlink:title=\"psysml:72f44295-5ca6-4b84-8710-138d144eb598\" xlink:type=\"simple\"><rect fill=\"#FFFFFF\" height=\"40\" id=\"E5\" rx=\"10\" ry=\"10\" style=\"stroke:#383838;stroke-width:1.5;\" width=\"70\" x=\"466\" y=\"42\"/><text fill=\"#000000\" font-family=\"sans-serif\" font-size=\"14\" lengthAdjust=\"spacing\" textLength=\"59\" x=\"471.5\" y=\"59.9951\">frontAxis</text></a></g><g><a href=\"psysml:b7d4908e-2525-4a17-819e-52100e286c1c\" target=\"_top\" title=\"psysml:b7d4908e-2525-4a17-819e-52100e286c1c\" xlink:actuate=\"onRequest\" xlink:href=\"psysml:b7d4908e-2525-4a17-819e-52100e286c1c\" xlink:show=\"new\" xlink:title=\"psysml:b7d4908e-2525-4a17-819e-52100e286c1c\" xlink:type=\"simple\"><rect fill=\"#FFFFFF\" height=\"40\" id=\"E6\" rx=\"10\" ry=\"10\" style=\"stroke:#383838;stroke-width:1.5;\" width=\"65\" x=\"365.5\" y=\"42\"/><text fill=\"#000000\" font-family=\"sans-serif\" font-size=\"14\" lengthAdjust=\"spacing\" textLength=\"54\" x=\"371\" y=\"59.9951\">rearAxis</text></a></g><g><a href=\"psysml:6dedac84-adfd-43ba-bde5-d11782aafda1\" target=\"_top\" title=\"psysml:6dedac84-adfd-43ba-bde5-d11782aafda1\" xlink:actuate=\"onRequest\" xlink:href=\"psysml:6dedac84-adfd-43ba-bde5-d11782aafda1\" xlink:show=\"new\" xlink:title=\"psysml:6dedac84-adfd-43ba-bde5-d11782aafda1\" xlink:type=\"simple\"><rect fill=\"#FFFFFF\" height=\"40\" id=\"E7\" rx=\"10\" ry=\"10\" style=\"stroke:#383838;stroke-width:1.5;\" width=\"138\" x=\"192\" y=\"42\"/><text fill=\"#000000\" font-family=\"sans-serif\" font-size=\"14\" lengthAdjust=\"spacing\" textLength=\"127\" x=\"197.5\" y=\"59.9951\">frontWheel: Wheel</text></a></g><g><a href=\"psysml:ae86b246-d624-47f3-845a-d38fed9eaff8\" target=\"_top\" title=\"psysml:ae86b246-d624-47f3-845a-d38fed9eaff8\" xlink:actuate=\"onRequest\" xlink:href=\"psysml:ae86b246-d624-47f3-845a-d38fed9eaff8\" xlink:show=\"new\" xlink:title=\"psysml:ae86b246-d624-47f3-845a-d38fed9eaff8\" xlink:type=\"simple\"><rect fill=\"#FFFFFF\" height=\"40\" id=\"E8\" rx=\"10\" ry=\"10\" style=\"stroke:#383838;stroke-width:1.5;\" width=\"133\" x=\"23.5\" y=\"42\"/><text fill=\"#000000\" font-family=\"sans-serif\" font-size=\"14\" lengthAdjust=\"spacing\" textLength=\"122\" x=\"29\" y=\"59.9951\">rearWheel: Wheel</text></a></g><!--MD5=[ad6bcbfc40722d64a93505e7eb0c37ef]\n",
       "@startuml\r\n",
       "skin sysmlbw\r\n",
       "skinparam monochrome true\r\n",
       "skinparam wrapWidth 300\r\n",
       "hide circle\r\n",
       "skinparam ranksep 10\r\n",
       "skinparam rectangle {\r\n",
       " backgroundColor<<block>> LightGreen\r\n",
       "}\r\n",
       "\r\n",
       "rec usage \"eVehicle\" as E1 [[psysml:9f940944-cc13-42af-ac96-3efd6db9a9b8 ]] {\r\n",
       "rec usage \"body\" as E2 [[psysml:d7669fe8-d57a-425f-a659-917e19581919 ]] {\r\n",
       "}\r\n",
       "rec usage \"battery\" as E3 [[psysml:cabd4bb1-5690-4402-9677-509d95d89da7 ]] {\r\n",
       "}\r\n",
       "rec usage \"engine\" as E4 [[psysml:7d34b3e6-4c95-4fad-8c22-46b6064c58d8 ]] {\r\n",
       "}\r\n",
       "rec usage \"frontAxis\" as E5 [[psysml:72f44295-5ca6-4b84-8710-138d144eb598 ]] {\r\n",
       "}\r\n",
       "rec usage \"rearAxis\" as E6 [[psysml:b7d4908e-2525-4a17-819e-52100e286c1c ]] {\r\n",
       "}\r\n",
       "rec usage \"frontWheel: Wheel\" as E7 [[psysml:6dedac84-adfd-43ba-bde5-d11782aafda1 ]] {\r\n",
       "}\r\n",
       "rec usage \"rearWheel: Wheel\" as E8 [[psysml:ae86b246-d624-47f3-845a-d38fed9eaff8 ]] {\r\n",
       "}\r\n",
       "}\r\n",
       "@enduml\r\n",
       "\n",
       "PlantUML version 1.2022.7(Mon Aug 22 17:01:30 UTC 2022)\n",
       "(EPL source distribution)\n",
       "Java Runtime: OpenJDK Runtime Environment\n",
       "JVM: OpenJDK 64-Bit Server VM\n",
       "Default Encoding: UTF-8\n",
       "Language: en\n",
       "Country: null\n",
       "--></g></svg>"
      ]
     },
     "execution_count": 21,
     "metadata": {},
     "output_type": "execute_result"
    }
   ],
   "source": [
    "%viz --view=interconnection eVehicle_LogicalArchitecture::eVehicle"
   ]
  },
  {
   "cell_type": "markdown",
   "metadata": {},
   "source": [
    "## Modeling Activities<a name=\"sysmlv2usecasesactivities\"></a>"
   ]
  },
  {
   "cell_type": "code",
   "execution_count": 22,
   "metadata": {},
   "outputs": [
    {
     "data": {
      "text/plain": [
       "Package eVehicle_Behavior (8379df11-0c31-4c8d-b128-7b7ef8479c76)\n"
      ]
     },
     "execution_count": 22,
     "metadata": {},
     "output_type": "execute_result"
    }
   ],
   "source": [
    "package eVehicle_Behavior {\n",
    "      \n",
    "    action chargeBattery {\n",
    "        in item power : ElectricalEnergy;\n",
    "        \n",
    "        succession flow chargeBattery.power to charge.power;\n",
    "        \n",
    "        first start;\n",
    "        then action 'insert charging plug';\n",
    "        then action 'secure charging plug';\n",
    "        then action charge {\n",
    "            in item power : ElectricalEnergy;\n",
    "        }\n",
    "        then action 'unsecure charging plug';\n",
    "        then action removePlug : 'Remove charging plug';\n",
    "        then done;\n",
    "    }\n",
    "    action def 'Remove charging plug';\n",
    "    item def ElectricalEnergy;\n",
    "}"
   ]
  },
  {
   "cell_type": "code",
   "execution_count": 23,
   "metadata": {},
   "outputs": [
    {
     "data": {
      "image/svg+xml": [
       "<?xml version=\"1.0\" encoding=\"UTF-8\" standalone=\"no\"?><svg xmlns=\"http://www.w3.org/2000/svg\" xmlns:xlink=\"http://www.w3.org/1999/xlink\" contentStyleType=\"text/css\" height=\"534px\" preserveAspectRatio=\"none\" style=\"width:728px;height:534px;background:#FFFFFF;\" version=\"1.1\" viewBox=\"0 0 728 534\" width=\"728px\" zoomAndPan=\"magnify\"><defs/><g><!--MD5=[fbc87193dbaf4d95561dea2c320d4a47]\n",
       "cluster E1--><g id=\"cluster_E1\"><a href=\"psysml:8379df11-0c31-4c8d-b128-7b7ef8479c76\" target=\"_top\" title=\"psysml:8379df11-0c31-4c8d-b128-7b7ef8479c76\" xlink:actuate=\"onRequest\" xlink:href=\"psysml:8379df11-0c31-4c8d-b128-7b7ef8479c76\" xlink:show=\"new\" xlink:title=\"psysml:8379df11-0c31-4c8d-b128-7b7ef8479c76\" xlink:type=\"simple\"><polygon fill=\"none\" points=\"16,6,155.4375,6,162.4375,28.2969,711,28.2969,711,527.5,16,527.5,16,6\" style=\"stroke:#000000;stroke-width:1.5;\"/><line style=\"stroke:#000000;stroke-width:1.5;\" x1=\"16\" x2=\"162.4375\" y1=\"28.2969\" y2=\"28.2969\"/><text fill=\"#000000\" font-family=\"sans-serif\" font-size=\"14\" font-weight=\"bold\" lengthAdjust=\"spacing\" textLength=\"133.4375\" x=\"20\" y=\"20.9951\">eVehicle_Behavior</text></a></g><!--MD5=[e4f7fae6ed58524ba242bb0b0d3be6b7]\n",
       "cluster E2--><g id=\"cluster_E2\"><a href=\"psysml:efe3e3f4-6bb5-4c2b-9f2d-77bf67d0a45f\" target=\"_top\" title=\"psysml:efe3e3f4-6bb5-4c2b-9f2d-77bf67d0a45f\" xlink:actuate=\"onRequest\" xlink:href=\"psysml:efe3e3f4-6bb5-4c2b-9f2d-77bf67d0a45f\" xlink:show=\"new\" xlink:title=\"psysml:efe3e3f4-6bb5-4c2b-9f2d-77bf67d0a45f\" xlink:type=\"simple\"><rect fill=\"#FFFFFF\" height=\"448\" id=\"E2\" rx=\"10\" ry=\"10\" style=\"stroke:#383838;stroke-width:1.5;\" width=\"327\" x=\"194\" y=\"63.5\"/><text fill=\"#000000\" font-family=\"sans-serif\" font-size=\"12\" font-style=\"italic\" lengthAdjust=\"spacing\" textLength=\"53\" x=\"331\" y=\"79.6387\">«action»</text><text fill=\"#000000\" font-family=\"sans-serif\" font-size=\"14\" lengthAdjust=\"spacing\" textLength=\"97\" x=\"309\" y=\"95.4639\">chargeBattery</text><line style=\"stroke:#383838;stroke-width:1.0;\" x1=\"194\" x2=\"521\" y1=\"103.7656\" y2=\"103.7656\"/></a></g><!--MD5=[14e3b0961a2654348d326746436168a1]\n",
       "cluster E6--><g id=\"cluster_E6\"><a href=\"psysml:159f81c9-7238-4a15-a113-6aa8271ef473\" target=\"_top\" title=\"psysml:159f81c9-7238-4a15-a113-6aa8271ef473\" xlink:actuate=\"onRequest\" xlink:href=\"psysml:159f81c9-7238-4a15-a113-6aa8271ef473\" xlink:show=\"new\" xlink:title=\"psysml:159f81c9-7238-4a15-a113-6aa8271ef473\" xlink:type=\"simple\"><rect fill=\"#FFFFFF\" height=\"105.5\" id=\"E6\" rx=\"10\" ry=\"10\" style=\"stroke:#383838;stroke-width:1.5;\" width=\"99\" x=\"232\" y=\"231.5\"/><text fill=\"#000000\" font-family=\"sans-serif\" font-size=\"12\" font-style=\"italic\" lengthAdjust=\"spacing\" textLength=\"53\" x=\"255\" y=\"247.6387\">«action»</text><text fill=\"#000000\" font-family=\"sans-serif\" font-size=\"14\" lengthAdjust=\"spacing\" textLength=\"48\" x=\"257.5\" y=\"263.4639\">charge</text><line style=\"stroke:#383838;stroke-width:1.0;\" x1=\"232\" x2=\"331\" y1=\"271.7656\" y2=\"271.7656\"/></a></g><g><a href=\"psysml:8cff6bcc-8557-4dfa-a063-9eaed50f121e\" target=\"_top\" title=\"psysml:8cff6bcc-8557-4dfa-a063-9eaed50f121e\" xlink:actuate=\"onRequest\" xlink:href=\"psysml:8cff6bcc-8557-4dfa-a063-9eaed50f121e\" xlink:show=\"new\" xlink:title=\"psysml:8cff6bcc-8557-4dfa-a063-9eaed50f121e\" xlink:type=\"simple\"><rect fill=\"#FFFFFF\" height=\"45.2656\" id=\"E11\" style=\"stroke:#383838;stroke-width:1.5;\" width=\"120\" x=\"32\" y=\"41\"/><text fill=\"#000000\" font-family=\"sans-serif\" font-size=\"12\" font-style=\"italic\" lengthAdjust=\"spacing\" textLength=\"69\" x=\"57.5\" y=\"57.1387\">«item  def»</text><text fill=\"#000000\" font-family=\"sans-serif\" font-size=\"14\" lengthAdjust=\"spacing\" textLength=\"109\" x=\"37.5\" y=\"72.9639\">ElectricalEnergy</text></a></g><text fill=\"#000000\" font-family=\"sans-serif\" font-size=\"14\" lengthAdjust=\"spacing\" textLength=\"43\" x=\"190.5\" y=\"42.1982\">power</text><rect fill=\"#FFFFFF\" height=\"12\" style=\"stroke:#181818;stroke-width:1.5;\" width=\"12\" x=\"206\" y=\"57.5\"/><ellipse cx=\"426\" cy=\"134\" fill=\"#222222\" rx=\"10\" ry=\"10\" style=\"stroke:none;stroke-width:1.0;\"/><ellipse cx=\"417\" cy=\"485.5\" fill=\"none\" rx=\"10\" ry=\"10\" style=\"stroke:#222222;stroke-width:1.0;\"/><ellipse cx=\"417.5\" cy=\"486\" fill=\"#222222\" rx=\"6\" ry=\"6\" style=\"stroke:none;stroke-width:1.0;\"/><g><a href=\"psysml:7ab20303-ed9e-4840-b25f-4d75984c3ea3\" target=\"_top\" title=\"psysml:7ab20303-ed9e-4840-b25f-4d75984c3ea3\" xlink:actuate=\"onRequest\" xlink:href=\"psysml:7ab20303-ed9e-4840-b25f-4d75984c3ea3\" xlink:show=\"new\" xlink:title=\"psysml:7ab20303-ed9e-4840-b25f-4d75984c3ea3\" xlink:type=\"simple\"><rect fill=\"#FFFFFF\" height=\"45.2656\" id=\"E4\" rx=\"10\" ry=\"10\" style=\"stroke:#383838;stroke-width:1.5;\" width=\"148\" x=\"352\" y=\"154\"/><text fill=\"#000000\" font-family=\"sans-serif\" font-size=\"12\" font-style=\"italic\" lengthAdjust=\"spacing\" textLength=\"53\" x=\"399.5\" y=\"170.1387\">«action»</text><text fill=\"#000000\" font-family=\"sans-serif\" font-size=\"14\" lengthAdjust=\"spacing\" textLength=\"137\" x=\"357.5\" y=\"185.9639\">insert charging plug</text></a></g><g><a href=\"psysml:ae49ac5f-6c1c-486d-a8f9-17fe33b8523c\" target=\"_top\" title=\"psysml:ae49ac5f-6c1c-486d-a8f9-17fe33b8523c\" xlink:actuate=\"onRequest\" xlink:href=\"psysml:ae49ac5f-6c1c-486d-a8f9-17fe33b8523c\" xlink:show=\"new\" xlink:title=\"psysml:ae49ac5f-6c1c-486d-a8f9-17fe33b8523c\" xlink:type=\"simple\"><rect fill=\"#FFFFFF\" height=\"45.2656\" id=\"E5\" rx=\"10\" ry=\"10\" style=\"stroke:#383838;stroke-width:1.5;\" width=\"157\" x=\"347.5\" y=\"209\"/><text fill=\"#000000\" font-family=\"sans-serif\" font-size=\"12\" font-style=\"italic\" lengthAdjust=\"spacing\" textLength=\"53\" x=\"399.5\" y=\"225.1387\">«action»</text><text fill=\"#000000\" font-family=\"sans-serif\" font-size=\"14\" lengthAdjust=\"spacing\" textLength=\"146\" x=\"353\" y=\"240.9639\">secure charging plug</text></a></g><text fill=\"#000000\" font-family=\"sans-serif\" font-size=\"14\" lengthAdjust=\"spacing\" textLength=\"43\" x=\"228.5\" y=\"210.1982\">power</text><rect fill=\"#FFFFFF\" height=\"12\" style=\"stroke:#181818;stroke-width:1.5;\" width=\"12\" x=\"244\" y=\"225.5\"/><g><a href=\"psysml:6b16bbf0-e86e-4239-93ab-8feaa7460a4d\" target=\"_top\" title=\"psysml:6b16bbf0-e86e-4239-93ab-8feaa7460a4d\" xlink:actuate=\"onRequest\" xlink:href=\"psysml:6b16bbf0-e86e-4239-93ab-8feaa7460a4d\" xlink:show=\"new\" xlink:title=\"psysml:6b16bbf0-e86e-4239-93ab-8feaa7460a4d\" xlink:type=\"simple\"><rect fill=\"#FFFFFF\" height=\"45.2656\" id=\"E8\" rx=\"10\" ry=\"10\" style=\"stroke:#383838;stroke-width:1.5;\" width=\"175\" x=\"329.5\" y=\"353\"/><text fill=\"#000000\" font-family=\"sans-serif\" font-size=\"12\" font-style=\"italic\" lengthAdjust=\"spacing\" textLength=\"53\" x=\"390.5\" y=\"369.1387\">«action»</text><text fill=\"#000000\" font-family=\"sans-serif\" font-size=\"14\" lengthAdjust=\"spacing\" textLength=\"164\" x=\"335\" y=\"384.9639\">unsecure charging plug</text></a></g><g><a href=\"psysml:ce9eb31b-78ea-4100-bee2-07942adef2a8\" target=\"_top\" title=\"psysml:ce9eb31b-78ea-4100-bee2-07942adef2a8\" xlink:actuate=\"onRequest\" xlink:href=\"psysml:ce9eb31b-78ea-4100-bee2-07942adef2a8\" xlink:show=\"new\" xlink:title=\"psysml:ce9eb31b-78ea-4100-bee2-07942adef2a8\" xlink:type=\"simple\"><rect fill=\"#FFFFFF\" height=\"45.2656\" id=\"E9\" rx=\"10\" ry=\"10\" style=\"stroke:#383838;stroke-width:1.5;\" width=\"93\" x=\"370.5\" y=\"408\"/><text fill=\"#000000\" font-family=\"sans-serif\" font-size=\"12\" font-style=\"italic\" lengthAdjust=\"spacing\" textLength=\"53\" x=\"390.5\" y=\"424.1387\">«action»</text><text fill=\"#000000\" font-family=\"sans-serif\" font-size=\"14\" lengthAdjust=\"spacing\" textLength=\"82\" x=\"376\" y=\"439.9639\">removePlug</text></a></g><g><a href=\"psysml:65f98dcd-1a4b-4d02-83a0-5946e6438886\" target=\"_top\" title=\"psysml:65f98dcd-1a4b-4d02-83a0-5946e6438886\" xlink:actuate=\"onRequest\" xlink:href=\"psysml:65f98dcd-1a4b-4d02-83a0-5946e6438886\" xlink:show=\"new\" xlink:title=\"psysml:65f98dcd-1a4b-4d02-83a0-5946e6438886\" xlink:type=\"simple\"><rect fill=\"#FFFFFF\" height=\"45.2656\" id=\"E10\" style=\"stroke:#383838;stroke-width:1.5;\" width=\"166\" x=\"529\" y=\"463\"/><text fill=\"#000000\" font-family=\"sans-serif\" font-size=\"12\" font-style=\"italic\" lengthAdjust=\"spacing\" textLength=\"81\" x=\"571.5\" y=\"479.1387\">«action  def»</text><text fill=\"#000000\" font-family=\"sans-serif\" font-size=\"14\" lengthAdjust=\"spacing\" textLength=\"155\" x=\"534.5\" y=\"494.9639\">Remove charging plug</text></a></g><!--MD5=[13c02371686d0d9a3e24c456767252e0]\n",
       "link *start*E2 to E4--><g id=\"link_*start*E2_E4\"><a href=\"psysml:0ce87494-1d4b-4838-9564-be27bb991590\" target=\"_top\" title=\"psysml:0ce87494-1d4b-4838-9564-be27bb991590\" xlink:actuate=\"onRequest\" xlink:href=\"psysml:0ce87494-1d4b-4838-9564-be27bb991590\" xlink:show=\"new\" xlink:title=\"psysml:0ce87494-1d4b-4838-9564-be27bb991590\" xlink:type=\"simple\"><path d=\"M426,144.39 C426,145.75 426,147.2 426,148.71 \" fill=\"none\" id=\"*start*E2-to-E4\" style=\"stroke:#181818;stroke-width:1.0;\"/><polygon fill=\"#181818\" points=\"426,153.98,430,144.98,426,148.98,422,144.98,426,153.98\" style=\"stroke:#181818;stroke-width:1.0;\"/></a></g><!--MD5=[ff7fc44c14c9f6914217e7c1ee93fe2d]\n",
       "link E9 to *end*E2--><g id=\"link_E9_*end*E2\"><a href=\"psysml:7e976b16-979f-44f6-bfeb-799543ec8baa\" target=\"_top\" title=\"psysml:7e976b16-979f-44f6-bfeb-799543ec8baa\" xlink:actuate=\"onRequest\" xlink:href=\"psysml:7e976b16-979f-44f6-bfeb-799543ec8baa\" xlink:show=\"new\" xlink:title=\"psysml:7e976b16-979f-44f6-bfeb-799543ec8baa\" xlink:type=\"simple\"><path d=\"M417,453.06 C417,458.78 417,464.83 417,470.07 \" fill=\"none\" id=\"E9-to-*end*E2\" style=\"stroke:#181818;stroke-width:1.0;\"/><polygon fill=\"#181818\" points=\"417,475.39,421,466.39,417,470.39,413,466.39,417,475.39\" style=\"stroke:#181818;stroke-width:1.0;\"/></a></g><!--MD5=[4931de25dcb70cd4585e7722db9b3a49]\n",
       "link E3 to E7--><g id=\"link_E3_E7\"><a href=\"psysml:281e960a-0ff1-4344-8e35-74394de2d7d0\" target=\"_top\" title=\"psysml:281e960a-0ff1-4344-8e35-74394de2d7d0\" xlink:actuate=\"onRequest\" xlink:href=\"psysml:281e960a-0ff1-4344-8e35-74394de2d7d0\" xlink:show=\"new\" xlink:title=\"psysml:281e960a-0ff1-4344-8e35-74394de2d7d0\" xlink:type=\"simple\"><path d=\"M218.27,68.05 C228.58,74.42 248,88.82 248,107 C248,107 248,107 248,135 C248,165.99 249.07,202.63 249.64,220.15 \" fill=\"none\" id=\"E3-to-E7\" style=\"stroke:#181818;stroke-width:1.0;stroke-dasharray:7.0,7.0;\"/><polygon fill=\"#181818\" points=\"249.82,225.32,253.5093,216.1882,249.6487,220.3229,245.514,216.4623,249.82,225.32\" style=\"stroke:#181818;stroke-width:1.0;\"/></a></g><!--MD5=[1b7591eae5389033d8d09a9d6721a717]\n",
       "link E4 to E5--><g id=\"link_E4_E5\"><a href=\"psysml:64ea2b0b-5a3b-4ffd-a244-660545a66d9d\" target=\"_top\" title=\"psysml:64ea2b0b-5a3b-4ffd-a244-660545a66d9d\" xlink:actuate=\"onRequest\" xlink:href=\"psysml:64ea2b0b-5a3b-4ffd-a244-660545a66d9d\" xlink:show=\"new\" xlink:title=\"psysml:64ea2b0b-5a3b-4ffd-a244-660545a66d9d\" xlink:type=\"simple\"><path d=\"M426,199.06 C426,200.56 426,202.09 426,203.62 \" fill=\"none\" id=\"E4-to-E5\" style=\"stroke:#181818;stroke-width:1.0;\"/><polygon fill=\"#181818\" points=\"426,208.79,430,199.79,426,203.79,422,199.79,426,208.79\" style=\"stroke:#181818;stroke-width:1.0;\"/></a></g><!--MD5=[9120cf2e5df3bff93db8f754bbbc09b4]\n",
       "link E5 to E6--><g id=\"link_E5_E6\"><a href=\"psysml:38a74f82-e380-4484-ba6e-9679031d22b8\" target=\"_top\" title=\"psysml:38a74f82-e380-4484-ba6e-9679031d22b8\" xlink:actuate=\"onRequest\" xlink:href=\"psysml:38a74f82-e380-4484-ba6e-9679031d22b8\" xlink:show=\"new\" xlink:title=\"psysml:38a74f82-e380-4484-ba6e-9679031d22b8\" xlink:type=\"simple\"><path d=\"M371.53,254.01 C360.9,258.205 349.6225,262.66 338.5838,267.0213 C337.2039,267.5664 335.8278,268.1101 334.4571,268.6516 C333.7718,268.9224 333.0879,269.1926 332.4055,269.4622 C332.0643,269.597 331.7235,269.7317 331.3831,269.8662 C331.298,269.8998 331.213,269.9334 331.1279,269.967 \" fill=\"none\" id=\"E5-to-E6\" style=\"stroke:#181818;stroke-width:1.0;\"/><polygon fill=\"#181818\" points=\"331.1279,269.967,340.9681,270.3801,335.7781,268.1297,338.0285,262.9397,331.1279,269.967\" style=\"stroke:#181818;stroke-width:1.0;\"/></a></g><!--MD5=[0a839d0f80c2d72d4b9b307f046d0de8]\n",
       "link E6 to E8--><g id=\"link_E6_E8\"><a href=\"psysml:4e9cc43d-82bc-4c78-9492-524b6162b1a1\" target=\"_top\" title=\"psysml:4e9cc43d-82bc-4c78-9492-524b6162b1a1\" xlink:actuate=\"onRequest\" xlink:href=\"psysml:4e9cc43d-82bc-4c78-9492-524b6162b1a1\" xlink:show=\"new\" xlink:title=\"psysml:4e9cc43d-82bc-4c78-9492-524b6162b1a1\" xlink:type=\"simple\"><path d=\"M331.0458,329.1971 C331.237,329.2978 331.4284,329.3987 331.6199,329.4996 C332.0028,329.7014 332.3861,329.9035 332.7698,330.1057 C333.5373,330.5101 334.3062,330.9154 335.0762,331.3212 C347.3975,337.815 360.015,344.465 371.54,350.54 \" fill=\"none\" id=\"E6-to-E8\" style=\"stroke:#181818;stroke-width:1.0;\"/><polygon fill=\"#181818\" points=\"376.09,352.94,370.0052,345.1957,371.6704,350.6019,366.2642,352.2671,376.09,352.94\" style=\"stroke:#181818;stroke-width:1.0;\"/></a></g><!--MD5=[ed10624c06dd9a4fa49ccf290e8b16a8]\n",
       "link E8 to E9--><g id=\"link_E8_E9\"><a href=\"psysml:f2657a18-234d-4f71-aa53-1bf8cf3e5a2f\" target=\"_top\" title=\"psysml:f2657a18-234d-4f71-aa53-1bf8cf3e5a2f\" xlink:actuate=\"onRequest\" xlink:href=\"psysml:f2657a18-234d-4f71-aa53-1bf8cf3e5a2f\" xlink:show=\"new\" xlink:title=\"psysml:f2657a18-234d-4f71-aa53-1bf8cf3e5a2f\" xlink:type=\"simple\"><path d=\"M417,398.06 C417,399.56 417,401.09 417,402.62 \" fill=\"none\" id=\"E8-to-E9\" style=\"stroke:#181818;stroke-width:1.0;\"/><polygon fill=\"#181818\" points=\"417,407.79,421,398.79,417,402.79,413,398.79,417,407.79\" style=\"stroke:#181818;stroke-width:1.0;\"/></a></g><!--MD5=[35e5f1cbde42fa304a029880aa2bc7f2]\n",
       "link E9 to E10--><g id=\"link_E9_E10\"><a href=\"psysml:1237ff3a-af3c-4e45-8795-014656d246d0\" target=\"_top\" title=\"psysml:1237ff3a-af3c-4e45-8795-014656d246d0\" xlink:actuate=\"onRequest\" xlink:href=\"psysml:1237ff3a-af3c-4e45-8795-014656d246d0\" xlink:show=\"new\" xlink:title=\"psysml:1237ff3a-af3c-4e45-8795-014656d246d0\" xlink:type=\"simple\"><path d=\"M463.71,444.19 C478.69,448.27 495.89,452.94 513.15,457.63 \" fill=\"none\" id=\"E9-to-E10\" style=\"stroke:#181818;stroke-width:1.0;\"/><polygon fill=\"#FFFFFF\" points=\"532.54,462.9,512.3682,464.6604,516.0476,451.1526,532.54,462.9\" style=\"stroke:#181818;stroke-width:1.0;\"/><ellipse cx=\"507.3942\" cy=\"461.2327\" fill=\"#181818\" rx=\"2\" ry=\"2\" style=\"stroke:#181818;stroke-width:1.0;\"/><ellipse cx=\"510.0224\" cy=\"451.5842\" fill=\"#181818\" rx=\"2\" ry=\"2\" style=\"stroke:#181818;stroke-width:1.0;\"/></a></g><!--MD5=[e1b608175f924c9c9967dd1a7deb3f27]\n",
       "@startuml\r\n",
       "skin sysmlbw\r\n",
       "skinparam monochrome true\r\n",
       "skinparam wrapWidth 300\r\n",
       "hide circle\r\n",
       "skinparam ranksep 10\r\n",
       "skinparam rectangle {\r\n",
       " backgroundColor<<block>> LightGreen\r\n",
       "}\r\n",
       "\r\n",
       "package \"eVehicle_Behavior\" as E1  [[psysml:8379df11-0c31-4c8d-b128-7b7ef8479c76 ]]  {\r\n",
       "rec usage \"chargeBattery\" as E2  <<(T,blue) action>> [[psysml:efe3e3f4-6bb5-4c2b-9f2d-77bf67d0a45f ]] {\r\n",
       "portin \"power\" as E3  [[psysml:4f5a1afe-2e3f-4f29-9b72-63a9aabe8e10 ]] \r\n",
       "rec usage \"insert charging plug\" as E4  <<(T,blue) action>> [[psysml:7ab20303-ed9e-4840-b25f-4d75984c3ea3 ]] {\r\n",
       "}\r\n",
       "\r\n",
       "rec usage \"secure charging plug\" as E5  <<(T,blue) action>> [[psysml:ae49ac5f-6c1c-486d-a8f9-17fe33b8523c ]] {\r\n",
       "}\r\n",
       "\r\n",
       "rec usage \"charge\" as E6  <<(T,blue) action>> [[psysml:159f81c9-7238-4a15-a113-6aa8271ef473 ]] {\r\n",
       "portin \"power\" as E7  [[psysml:3546f457-ec24-465b-b35c-309225febbfb ]] \r\n",
       "}\r\n",
       "\r\n",
       "rec usage \"unsecure charging plug\" as E8  <<(T,blue) action>> [[psysml:6b16bbf0-e86e-4239-93ab-8feaa7460a4d ]] {\r\n",
       "}\r\n",
       "\r\n",
       "rec usage \"removePlug\" as E9  <<(T,blue) action>> [[psysml:ce9eb31b-78ea-4100-bee2-07942adef2a8 ]] {\r\n",
       "}\r\n",
       "\r\n",
       "[*] - -> E4 [[psysml:0ce87494-1d4b-4838-9564-be27bb991590 ]] \r\n",
       "E9 - -> [*] [[psysml:7e976b16-979f-44f6-bfeb-799543ec8baa ]] \r\n",
       "}\r\n",
       "\r\n",
       "rec def \"Remove charging plug\" as E10  <<(T,blue) action  def>> [[psysml:65f98dcd-1a4b-4d02-83a0-5946e6438886 ]] {\r\n",
       "}\r\n",
       "\r\n",
       "def \"ElectricalEnergy\" as E11  <<(T,blue) item  def>> [[psysml:8cff6bcc-8557-4dfa-a063-9eaed50f121e ]] \r\n",
       "}\r\n",
       "E3 ..> E7 [[psysml:281e960a-0ff1-4344-8e35-74394de2d7d0 ]] \r\n",
       "E4 - -> E5 [[psysml:64ea2b0b-5a3b-4ffd-a244-660545a66d9d ]] \r\n",
       "E5 - -> E6 [[psysml:38a74f82-e380-4484-ba6e-9679031d22b8 ]] \r\n",
       "E6 - -> E8 [[psysml:4e9cc43d-82bc-4c78-9492-524b6162b1a1 ]] \r\n",
       "E8 - -> E9 [[psysml:f2657a18-234d-4f71-aa53-1bf8cf3e5a2f ]] \r\n",
       "E9 - -:|> E10 [[psysml:1237ff3a-af3c-4e45-8795-014656d246d0 ]] \r\n",
       "@enduml\r\n",
       "\n",
       "PlantUML version 1.2022.7(Mon Aug 22 17:01:30 UTC 2022)\n",
       "(EPL source distribution)\n",
       "Java Runtime: OpenJDK Runtime Environment\n",
       "JVM: OpenJDK 64-Bit Server VM\n",
       "Default Encoding: UTF-8\n",
       "Language: en\n",
       "Country: null\n",
       "--></g></svg>"
      ]
     },
     "execution_count": 23,
     "metadata": {},
     "output_type": "execute_result"
    }
   ],
   "source": [
    "%viz eVehicle_Behavior"
   ]
  },
  {
   "cell_type": "markdown",
   "metadata": {},
   "source": [
    "## Connection item flows with parameters<a name=\"sysmlv2itempara\"></a>\n",
    "\n",
    "Connecting an structural item flow to an input parameter of an action. For simplicity, only the relevant elements are modeled below:"
   ]
  },
  {
   "cell_type": "code",
   "execution_count": 60,
   "metadata": {},
   "outputs": [
    {
     "data": {
      "text/plain": [
       "Package eVehicleSystem (0984c8bc-ef7b-44c5-8f67-d7d5f65399aa)\n"
      ]
     },
     "execution_count": 60,
     "metadata": {},
     "output_type": "execute_result"
    }
   ],
   "source": [
    "package eVehicleSystem {\n",
    "    \n",
    "    part eVehicle {\n",
    "        port powerPort : PowerInPort;\n",
    "        \n",
    "        flow of ElectricalEnergy from eVehicle.powerPort to chargeBattery.power;\n",
    "    \n",
    "        action chargeBattery {\n",
    "            in item power : ElectricalEnergy;\n",
    "        }\n",
    "    }\n",
    "    \n",
    "    port def PowerInPort {\n",
    "        in energy : ElectricalEnergy;\n",
    "    }\n",
    "    item def ElectricalEnergy;\n",
    "}"
   ]
  },
  {
   "cell_type": "code",
   "execution_count": 62,
   "metadata": {},
   "outputs": [
    {
     "data": {
      "image/svg+xml": [
       "<?xml version=\"1.0\" encoding=\"UTF-8\" standalone=\"no\"?><svg xmlns=\"http://www.w3.org/2000/svg\" xmlns:xlink=\"http://www.w3.org/1999/xlink\" contentStyleType=\"text/css\" height=\"219px\" preserveAspectRatio=\"none\" style=\"width:666px;height:219px;background:#FFFFFF;\" version=\"1.1\" viewBox=\"0 0 666 219\" width=\"666px\" zoomAndPan=\"magnify\"><defs/><g><!--MD5=[fbc87193dbaf4d95561dea2c320d4a47]\n",
       "cluster E1--><g id=\"cluster_E1\"><a href=\"psysml:0984c8bc-ef7b-44c5-8f67-d7d5f65399aa\" target=\"_top\" title=\"psysml:0984c8bc-ef7b-44c5-8f67-d7d5f65399aa\" xlink:actuate=\"onRequest\" xlink:href=\"psysml:0984c8bc-ef7b-44c5-8f67-d7d5f65399aa\" xlink:show=\"new\" xlink:title=\"psysml:0984c8bc-ef7b-44c5-8f67-d7d5f65399aa\" xlink:type=\"simple\"><polygon fill=\"none\" points=\"16,6,138.125,6,145.125,28.2969,604,28.2969,604,212.5,16,212.5,16,6\" style=\"stroke:#000000;stroke-width:1.5;\"/><line style=\"stroke:#000000;stroke-width:1.5;\" x1=\"16\" x2=\"145.125\" y1=\"28.2969\" y2=\"28.2969\"/><text fill=\"#000000\" font-family=\"sans-serif\" font-size=\"14\" font-weight=\"bold\" lengthAdjust=\"spacing\" textLength=\"116.125\" x=\"20\" y=\"20.9951\">eVehicleSystem</text></a></g><!--MD5=[e4f7fae6ed58524ba242bb0b0d3be6b7]\n",
       "cluster E2--><g id=\"cluster_E2\"><a href=\"psysml:48c33520-3564-48d3-9902-c155648c36ae\" target=\"_top\" title=\"psysml:48c33520-3564-48d3-9902-c155648c36ae\" xlink:actuate=\"onRequest\" xlink:href=\"psysml:48c33520-3564-48d3-9902-c155648c36ae\" xlink:show=\"new\" xlink:title=\"psysml:48c33520-3564-48d3-9902-c155648c36ae\" xlink:type=\"simple\"><rect fill=\"#FFFFFF\" height=\"155.5\" id=\"E2\" rx=\"10\" ry=\"10\" style=\"stroke:#383838;stroke-width:1.5;\" width=\"274\" x=\"300\" y=\"41\"/><text fill=\"#000000\" font-family=\"sans-serif\" font-size=\"14\" lengthAdjust=\"spacing\" textLength=\"59\" x=\"407.5\" y=\"58.9951\">eVehicle</text><line style=\"stroke:#383838;stroke-width:1.0;\" x1=\"300\" x2=\"574\" y1=\"67.2969\" y2=\"67.2969\"/></a></g><!--MD5=[f6df4d0ebaf0b5dfb2ced0ae5af7c670]\n",
       "cluster E4--><g id=\"cluster_E4\"><a href=\"psysml:b279b742-d40b-4eb2-8185-8ef815fdd078\" target=\"_top\" title=\"psysml:b279b742-d40b-4eb2-8185-8ef815fdd078\" xlink:actuate=\"onRequest\" xlink:href=\"psysml:b279b742-d40b-4eb2-8185-8ef815fdd078\" xlink:show=\"new\" xlink:title=\"psysml:b279b742-d40b-4eb2-8185-8ef815fdd078\" xlink:type=\"simple\"><rect fill=\"#FFFFFF\" height=\"109.5\" id=\"E4\" rx=\"10\" ry=\"10\" style=\"stroke:#383838;stroke-width:1.5;\" width=\"138\" x=\"402\" y=\"71\"/><text fill=\"#000000\" font-family=\"sans-serif\" font-size=\"12\" font-style=\"italic\" lengthAdjust=\"spacing\" textLength=\"53\" x=\"444.5\" y=\"87.1387\">«action»</text><text fill=\"#000000\" font-family=\"sans-serif\" font-size=\"14\" lengthAdjust=\"spacing\" textLength=\"97\" x=\"422.5\" y=\"102.9639\">chargeBattery</text><line style=\"stroke:#383838;stroke-width:1.0;\" x1=\"402\" x2=\"540\" y1=\"111.2656\" y2=\"111.2656\"/></a></g><g><a href=\"psysml:cd4808fe-c9c4-430e-b7ef-b6120abb125d\" target=\"_top\" title=\"psysml:cd4808fe-c9c4-430e-b7ef-b6120abb125d\" xlink:actuate=\"onRequest\" xlink:href=\"psysml:cd4808fe-c9c4-430e-b7ef-b6120abb125d\" xlink:show=\"new\" xlink:title=\"psysml:cd4808fe-c9c4-430e-b7ef-b6120abb125d\" xlink:type=\"simple\"><rect fill=\"#FFFFFF\" height=\"45.2656\" id=\"E6\" style=\"stroke:#383838;stroke-width:1.5;\" width=\"94\" x=\"187\" y=\"48.5\"/><text fill=\"#000000\" font-family=\"sans-serif\" font-size=\"12\" font-style=\"italic\" lengthAdjust=\"spacing\" textLength=\"68\" x=\"200\" y=\"64.6387\">«port  def»</text><text fill=\"#000000\" font-family=\"sans-serif\" font-size=\"14\" lengthAdjust=\"spacing\" textLength=\"83\" x=\"192.5\" y=\"80.4639\">PowerInPort</text></a></g><g><a href=\"psysml:e6855c09-26d0-4c8e-932f-73121b85d8f1\" target=\"_top\" title=\"psysml:e6855c09-26d0-4c8e-932f-73121b85d8f1\" xlink:actuate=\"onRequest\" xlink:href=\"psysml:e6855c09-26d0-4c8e-932f-73121b85d8f1\" xlink:show=\"new\" xlink:title=\"psysml:e6855c09-26d0-4c8e-932f-73121b85d8f1\" xlink:type=\"simple\"><rect fill=\"#FFFFFF\" height=\"45.2656\" id=\"E7\" style=\"stroke:#383838;stroke-width:1.5;\" width=\"120\" x=\"32\" y=\"48.5\"/><text fill=\"#000000\" font-family=\"sans-serif\" font-size=\"12\" font-style=\"italic\" lengthAdjust=\"spacing\" textLength=\"69\" x=\"57.5\" y=\"64.6387\">«item  def»</text><text fill=\"#000000\" font-family=\"sans-serif\" font-size=\"14\" lengthAdjust=\"spacing\" textLength=\"109\" x=\"37.5\" y=\"80.4639\">ElectricalEnergy</text></a></g><text fill=\"#000000\" font-family=\"sans-serif\" font-size=\"14\" lengthAdjust=\"spacing\" textLength=\"163\" x=\"488.5\" y=\"86.1982\">powerPort: PowerInPort</text><rect fill=\"#FFFFFF\" height=\"12\" style=\"stroke:#181818;stroke-width:1.5;\" width=\"12\" x=\"568\" y=\"101.5\"/><text fill=\"#000000\" font-family=\"sans-serif\" font-size=\"14\" lengthAdjust=\"spacing\" textLength=\"43\" x=\"500.5\" y=\"49.6982\">power</text><rect fill=\"#FFFFFF\" height=\"12\" style=\"stroke:#181818;stroke-width:1.5;\" width=\"12\" x=\"516\" y=\"65\"/><!--MD5=[0188b64bb0ae78505a997a81836e11e9]\n",
       "link E3 to E5--><g id=\"link_E3_E5\"><a href=\"psysml:54de2c6e-34c9-4e28-8155-b9fe1e19fa6d\" target=\"_top\" title=\"psysml:54de2c6e-34c9-4e28-8155-b9fe1e19fa6d\" xlink:actuate=\"onRequest\" xlink:href=\"psysml:54de2c6e-34c9-4e28-8155-b9fe1e19fa6d\" xlink:show=\"new\" xlink:title=\"psysml:54de2c6e-34c9-4e28-8155-b9fe1e19fa6d\" xlink:type=\"simple\"><path d=\"M567.89,102.45 C559.22,96.69 543.19,86.06 532.56,79.01 \" fill=\"none\" id=\"E3-to-E5\" style=\"stroke:#181818;stroke-width:1.0;\"/><polygon fill=\"#181818\" points=\"528.38,76.23,533.6695,84.5379,532.5468,78.9936,538.0912,77.871,528.38,76.23\" style=\"stroke:#181818;stroke-width:1.0;\"/></a></g><!--MD5=[597b357526541a1f97c710f9adc9d082]\n",
       "@startuml\r\n",
       "skin sysmlbw\r\n",
       "skinparam monochrome true\r\n",
       "skinparam wrapWidth 300\r\n",
       "hide circle\r\n",
       "skinparam ranksep 10\r\n",
       "skinparam rectangle {\r\n",
       " backgroundColor<<block>> LightGreen\r\n",
       "}\r\n",
       "\r\n",
       "package \"eVehicleSystem\" as E1  [[psysml:0984c8bc-ef7b-44c5-8f67-d7d5f65399aa ]]  {\r\n",
       "rec usage \"eVehicle\" as E2 [[psysml:48c33520-3564-48d3-9902-c155648c36ae ]] {\r\n",
       "portout \"powerPort: PowerInPort  \" as E3  <<(T,blue) port>> [[psysml:038e1705-855d-4509-a911-59a68a068b38 ]] \r\n",
       "rec usage \"chargeBattery\" as E4  <<(T,blue) action>> [[psysml:b279b742-d40b-4eb2-8185-8ef815fdd078 ]] {\r\n",
       "portin \"power\" as E5  [[psysml:8fcc1632-5be7-40ba-abc4-b6314235f615 ]] \r\n",
       "}\r\n",
       "\r\n",
       "}\r\n",
       "def \"PowerInPort\" as E6  <<(T,blue) port  def>> [[psysml:cd4808fe-c9c4-430e-b7ef-b6120abb125d ]] \r\n",
       "def \"ElectricalEnergy\" as E7  <<(T,blue) item  def>> [[psysml:e6855c09-26d0-4c8e-932f-73121b85d8f1 ]] \r\n",
       "}\r\n",
       "E3 - -> E5 [[psysml:54de2c6e-34c9-4e28-8155-b9fe1e19fa6d ]] : : ElectricalEnergy\r\n",
       "@enduml\r\n",
       "\n",
       "PlantUML version 1.2022.7(Mon Aug 22 17:01:30 UTC 2022)\n",
       "(EPL source distribution)\n",
       "Java Runtime: OpenJDK Runtime Environment\n",
       "JVM: OpenJDK 64-Bit Server VM\n",
       "Default Encoding: UTF-8\n",
       "Language: en\n",
       "Country: null\n",
       "--></g></svg>"
      ]
     },
     "execution_count": 62,
     "metadata": {},
     "output_type": "execute_result"
    }
   ],
   "source": [
    "%viz --view=interconnection eVehicleSystem"
   ]
  },
  {
   "cell_type": "markdown",
   "metadata": {},
   "source": [
    "## Modeling variants<a name=\"sysmlv2modvariants\"></a>\n",
    "\n",
    "SysML v2 provides model elements for variants. This is a new feature compared to SysML v2. Following the typical approach of SysML, these are only generic concepts, but they form the foundation for tools to provide functions for them and for language extensions to be defined.\n",
    "\n",
    "Run the cells eVehicleLibrary and eVehicle_LogicalArchitecture above before continuing with the variability model."
   ]
  },
  {
   "cell_type": "code",
   "execution_count": 26,
   "metadata": {},
   "outputs": [
    {
     "data": {
      "image/svg+xml": [
       "<?xml version=\"1.0\" encoding=\"UTF-8\" standalone=\"no\"?><svg xmlns=\"http://www.w3.org/2000/svg\" xmlns:xlink=\"http://www.w3.org/1999/xlink\" contentStyleType=\"text/css\" height=\"395px\" preserveAspectRatio=\"none\" style=\"width:900px;height:395px;background:#FFFFFF;\" version=\"1.1\" viewBox=\"0 0 900 395\" width=\"900px\" zoomAndPan=\"magnify\"><defs/><g><!--MD5=[fbc87193dbaf4d95561dea2c320d4a47]\n",
       "cluster E1--><g id=\"cluster_E1\"><a href=\"psysml:9a744ccf-91b6-43ac-980e-2414e1cba81d\" target=\"_top\" title=\"psysml:9a744ccf-91b6-43ac-980e-2414e1cba81d\" xlink:actuate=\"onRequest\" xlink:href=\"psysml:9a744ccf-91b6-43ac-980e-2414e1cba81d\" xlink:show=\"new\" xlink:title=\"psysml:9a744ccf-91b6-43ac-980e-2414e1cba81d\" xlink:type=\"simple\"><polygon fill=\"none\" points=\"16,6,231.25,6,238.25,28.2969,883,28.2969,883,388,16,388,16,6\" style=\"stroke:#000000;stroke-width:1.5;\"/><line style=\"stroke:#000000;stroke-width:1.5;\" x1=\"16\" x2=\"238.25\" y1=\"28.2969\" y2=\"28.2969\"/><text fill=\"#000000\" font-family=\"sans-serif\" font-size=\"14\" font-weight=\"bold\" lengthAdjust=\"spacing\" textLength=\"209.25\" x=\"20\" y=\"20.9951\">eVehicle_LogicalArchitecture</text></a></g><!--MD5=[d5e69f78d87373223dbae638b30a9c99]\n",
       "cluster E3--><g id=\"cluster_E3\"><a href=\"psysml:6ff0b444-2624-4fd5-9c5f-d492f5e36d73\" target=\"_top\" title=\"psysml:6ff0b444-2624-4fd5-9c5f-d492f5e36d73\" xlink:actuate=\"onRequest\" xlink:href=\"psysml:6ff0b444-2624-4fd5-9c5f-d492f5e36d73\" xlink:show=\"new\" xlink:title=\"psysml:6ff0b444-2624-4fd5-9c5f-d492f5e36d73\" xlink:type=\"simple\"><rect fill=\"#FFFFFF\" height=\"131\" id=\"E3\" style=\"stroke:#383838;stroke-width:1.5;\" width=\"249\" x=\"200\" y=\"172\"/><text fill=\"#000000\" font-family=\"sans-serif\" font-size=\"12\" font-style=\"italic\" lengthAdjust=\"spacing\" textLength=\"68\" x=\"290.5\" y=\"188.1387\">«part  def»</text><text fill=\"#000000\" font-family=\"sans-serif\" font-size=\"14\" lengthAdjust=\"spacing\" textLength=\"43\" x=\"303\" y=\"203.9639\">Wheel</text><line style=\"stroke:#383838;stroke-width:1.0;\" x1=\"200\" x2=\"449\" y1=\"212.2656\" y2=\"212.2656\"/></a></g><!--MD5=[de5ec2e2e8f62f467e546659f5068c88]\n",
       "cluster E5--><g id=\"cluster_E5\"><a href=\"psysml:9f940944-cc13-42af-ac96-3efd6db9a9b8\" target=\"_top\" title=\"psysml:9f940944-cc13-42af-ac96-3efd6db9a9b8\" xlink:actuate=\"onRequest\" xlink:href=\"psysml:9f940944-cc13-42af-ac96-3efd6db9a9b8\" xlink:show=\"new\" xlink:title=\"psysml:9f940944-cc13-42af-ac96-3efd6db9a9b8\" xlink:type=\"simple\"><rect fill=\"#FFFFFF\" height=\"91\" id=\"E5\" rx=\"10\" ry=\"10\" style=\"stroke:#383838;stroke-width:1.5;\" width=\"819\" x=\"40\" y=\"49\"/><text fill=\"#000000\" font-family=\"sans-serif\" font-size=\"14\" lengthAdjust=\"spacing\" textLength=\"59\" x=\"420\" y=\"66.9951\">eVehicle</text><line style=\"stroke:#383838;stroke-width:1.0;\" x1=\"40\" x2=\"859\" y1=\"75.2969\" y2=\"75.2969\"/></a></g><g><a href=\"psysml:ebc36a25-070a-4e96-8347-b33d428901eb\" target=\"_top\" title=\"psysml:ebc36a25-070a-4e96-8347-b33d428901eb\" xlink:actuate=\"onRequest\" xlink:href=\"psysml:ebc36a25-070a-4e96-8347-b33d428901eb\" xlink:show=\"new\" xlink:title=\"psysml:ebc36a25-070a-4e96-8347-b33d428901eb\" xlink:type=\"simple\"><rect fill=\"#FFFFFF\" height=\"45.2656\" id=\"E2\" style=\"stroke:#383838;stroke-width:1.5;\" width=\"104\" x=\"282\" y=\"327\"/><text fill=\"#000000\" font-family=\"sans-serif\" font-size=\"12\" font-style=\"italic\" lengthAdjust=\"spacing\" textLength=\"97\" x=\"285.5\" y=\"343.1387\">«attribute  def»</text><text fill=\"#000000\" font-family=\"sans-serif\" font-size=\"14\" lengthAdjust=\"spacing\" textLength=\"72\" x=\"298\" y=\"358.9639\">WheelSize</text></a></g><!--MD5=[ebbe1d658d1005bcc118a6aa81145e00]\n",
       "class E4--><a href=\"psysml:d142c833-343c-43f5-922d-9e0dbb56fa28\" target=\"_top\" title=\"psysml:d142c833-343c-43f5-922d-9e0dbb56fa28\" xlink:actuate=\"onRequest\" xlink:href=\"psysml:d142c833-343c-43f5-922d-9e0dbb56fa28\" xlink:show=\"new\" xlink:title=\"psysml:d142c833-343c-43f5-922d-9e0dbb56fa28\" xlink:type=\"simple\"><g id=\"elem_E4\"><rect fill=\"#FFFFFF\" height=\"48.2656\" id=\"E4\" rx=\"10\" ry=\"10\" style=\"stroke:#181818;stroke-width:0.5;\" width=\"181\" x=\"243.5\" y=\"231\"/><text fill=\"#000000\" font-family=\"sans-serif\" font-size=\"12\" font-style=\"italic\" lengthAdjust=\"spacing\" textLength=\"69\" x=\"299.5\" y=\"247.1387\">«attribute»</text><text fill=\"#000000\" font-family=\"sans-serif\" font-size=\"14\" lengthAdjust=\"spacing\" textLength=\"167\" x=\"246.5\" y=\"262.9639\">sizeOfWheel: WheelSize</text><line style=\"stroke:#181818;stroke-width:0.5;\" x1=\"244.5\" x2=\"423.5\" y1=\"271.2656\" y2=\"271.2656\"/></g></a><g><a href=\"psysml:d7669fe8-d57a-425f-a659-917e19581919\" target=\"_top\" title=\"psysml:d7669fe8-d57a-425f-a659-917e19581919\" xlink:actuate=\"onRequest\" xlink:href=\"psysml:d7669fe8-d57a-425f-a659-917e19581919\" xlink:show=\"new\" xlink:title=\"psysml:d7669fe8-d57a-425f-a659-917e19581919\" xlink:type=\"simple\"><rect fill=\"#FFFFFF\" height=\"40\" id=\"E6\" rx=\"10\" ry=\"10\" style=\"stroke:#383838;stroke-width:1.5;\" width=\"50\" x=\"793\" y=\"84\"/><text fill=\"#000000\" font-family=\"sans-serif\" font-size=\"14\" lengthAdjust=\"spacing\" textLength=\"34\" x=\"801\" y=\"101.9951\">body</text></a></g><g><a href=\"psysml:cabd4bb1-5690-4402-9677-509d95d89da7\" target=\"_top\" title=\"psysml:cabd4bb1-5690-4402-9677-509d95d89da7\" xlink:actuate=\"onRequest\" xlink:href=\"psysml:cabd4bb1-5690-4402-9677-509d95d89da7\" xlink:show=\"new\" xlink:title=\"psysml:cabd4bb1-5690-4402-9677-509d95d89da7\" xlink:type=\"simple\"><rect fill=\"#FFFFFF\" height=\"40\" id=\"E7\" rx=\"10\" ry=\"10\" style=\"stroke:#383838;stroke-width:1.5;\" width=\"59\" x=\"698.5\" y=\"84\"/><text fill=\"#000000\" font-family=\"sans-serif\" font-size=\"14\" lengthAdjust=\"spacing\" textLength=\"48\" x=\"704\" y=\"101.9951\">battery</text></a></g><g><a href=\"psysml:7d34b3e6-4c95-4fad-8c22-46b6064c58d8\" target=\"_top\" title=\"psysml:7d34b3e6-4c95-4fad-8c22-46b6064c58d8\" xlink:actuate=\"onRequest\" xlink:href=\"psysml:7d34b3e6-4c95-4fad-8c22-46b6064c58d8\" xlink:show=\"new\" xlink:title=\"psysml:7d34b3e6-4c95-4fad-8c22-46b6064c58d8\" xlink:type=\"simple\"><rect fill=\"#FFFFFF\" height=\"40\" id=\"E8\" rx=\"10\" ry=\"10\" style=\"stroke:#383838;stroke-width:1.5;\" width=\"59\" x=\"604.5\" y=\"84\"/><text fill=\"#000000\" font-family=\"sans-serif\" font-size=\"14\" lengthAdjust=\"spacing\" textLength=\"48\" x=\"610\" y=\"101.9951\">engine</text></a></g><g><a href=\"psysml:72f44295-5ca6-4b84-8710-138d144eb598\" target=\"_top\" title=\"psysml:72f44295-5ca6-4b84-8710-138d144eb598\" xlink:actuate=\"onRequest\" xlink:href=\"psysml:72f44295-5ca6-4b84-8710-138d144eb598\" xlink:show=\"new\" xlink:title=\"psysml:72f44295-5ca6-4b84-8710-138d144eb598\" xlink:type=\"simple\"><rect fill=\"#FFFFFF\" height=\"40\" id=\"E9\" rx=\"10\" ry=\"10\" style=\"stroke:#383838;stroke-width:1.5;\" width=\"70\" x=\"499\" y=\"84\"/><text fill=\"#000000\" font-family=\"sans-serif\" font-size=\"14\" lengthAdjust=\"spacing\" textLength=\"59\" x=\"504.5\" y=\"101.9951\">frontAxis</text></a></g><g><a href=\"psysml:b7d4908e-2525-4a17-819e-52100e286c1c\" target=\"_top\" title=\"psysml:b7d4908e-2525-4a17-819e-52100e286c1c\" xlink:actuate=\"onRequest\" xlink:href=\"psysml:b7d4908e-2525-4a17-819e-52100e286c1c\" xlink:show=\"new\" xlink:title=\"psysml:b7d4908e-2525-4a17-819e-52100e286c1c\" xlink:type=\"simple\"><rect fill=\"#FFFFFF\" height=\"40\" id=\"E10\" rx=\"10\" ry=\"10\" style=\"stroke:#383838;stroke-width:1.5;\" width=\"65\" x=\"398.5\" y=\"84\"/><text fill=\"#000000\" font-family=\"sans-serif\" font-size=\"14\" lengthAdjust=\"spacing\" textLength=\"54\" x=\"404\" y=\"101.9951\">rearAxis</text></a></g><g><a href=\"psysml:6dedac84-adfd-43ba-bde5-d11782aafda1\" target=\"_top\" title=\"psysml:6dedac84-adfd-43ba-bde5-d11782aafda1\" xlink:actuate=\"onRequest\" xlink:href=\"psysml:6dedac84-adfd-43ba-bde5-d11782aafda1\" xlink:show=\"new\" xlink:title=\"psysml:6dedac84-adfd-43ba-bde5-d11782aafda1\" xlink:type=\"simple\"><rect fill=\"#FFFFFF\" height=\"40\" id=\"E11\" rx=\"10\" ry=\"10\" style=\"stroke:#383838;stroke-width:1.5;\" width=\"138\" x=\"225\" y=\"84\"/><text fill=\"#000000\" font-family=\"sans-serif\" font-size=\"14\" lengthAdjust=\"spacing\" textLength=\"127\" x=\"230.5\" y=\"101.9951\">frontWheel: Wheel</text></a></g><g><a href=\"psysml:ae86b246-d624-47f3-845a-d38fed9eaff8\" target=\"_top\" title=\"psysml:ae86b246-d624-47f3-845a-d38fed9eaff8\" xlink:actuate=\"onRequest\" xlink:href=\"psysml:ae86b246-d624-47f3-845a-d38fed9eaff8\" xlink:show=\"new\" xlink:title=\"psysml:ae86b246-d624-47f3-845a-d38fed9eaff8\" xlink:type=\"simple\"><rect fill=\"#FFFFFF\" height=\"40\" id=\"E12\" rx=\"10\" ry=\"10\" style=\"stroke:#383838;stroke-width:1.5;\" width=\"133\" x=\"56.5\" y=\"84\"/><text fill=\"#000000\" font-family=\"sans-serif\" font-size=\"14\" lengthAdjust=\"spacing\" textLength=\"122\" x=\"62\" y=\"101.9951\">rearWheel: Wheel</text></a></g><!--MD5=[185131fc0dcab0a4505a2ebe144e961b]\n",
       "link E4 to E2--><g id=\"link_E4_E2\"><a href=\"psysml:9b50dd29-6b2b-4cb7-9b6a-d2a4cf96dc32\" target=\"_top\" title=\"psysml:9b50dd29-6b2b-4cb7-9b6a-d2a4cf96dc32\" xlink:actuate=\"onRequest\" xlink:href=\"psysml:9b50dd29-6b2b-4cb7-9b6a-d2a4cf96dc32\" xlink:show=\"new\" xlink:title=\"psysml:9b50dd29-6b2b-4cb7-9b6a-d2a4cf96dc32\" xlink:type=\"simple\"><path d=\"M334,279.34 C334,287.64 334,297.26 334,306.64 \" fill=\"none\" id=\"E4-to-E2\" style=\"stroke:#181818;stroke-width:1.0;\"/><polygon fill=\"#FFFFFF\" points=\"334,326.75,327,307.75,341,307.75,334,326.75\" style=\"stroke:#181818;stroke-width:1.0;\"/><ellipse cx=\"329\" cy=\"302.05\" fill=\"#181818\" rx=\"2\" ry=\"2\" style=\"stroke:#181818;stroke-width:1.0;\"/><ellipse cx=\"339\" cy=\"302.05\" fill=\"#181818\" rx=\"2\" ry=\"2\" style=\"stroke:#181818;stroke-width:1.0;\"/></a></g><!--MD5=[0517f1ce58c4d5483948f93845c45e26]\n",
       "link E11 to E3--><g id=\"link_E11_E3\"><a href=\"psysml:18da4070-ae18-4032-ac17-68ceb2c0514b\" target=\"_top\" title=\"psysml:18da4070-ae18-4032-ac17-68ceb2c0514b\" xlink:actuate=\"onRequest\" xlink:href=\"psysml:18da4070-ae18-4032-ac17-68ceb2c0514b\" xlink:show=\"new\" xlink:title=\"psysml:18da4070-ae18-4032-ac17-68ceb2c0514b\" xlink:type=\"simple\"><path d=\"M259.32,124.17 C247.34,132.46 234.94,143.21 227,156 C224.12,160.6375 221.6611,165.6175 219.5633,170.7855 C219.4321,171.1085 219.3024,171.4322 219.1741,171.7567 \" fill=\"none\" id=\"E11-to-E3\" style=\"stroke:#181818;stroke-width:1.0;\"/><polygon fill=\"#FFFFFF\" points=\"219.1741,171.7567,219.6523,151.5139,232.6712,156.6626,219.1741,171.7567\" style=\"stroke:#181818;stroke-width:1.0;\"/><ellipse cx=\"223.6085\" cy=\"146.9489\" fill=\"#181818\" rx=\"2\" ry=\"2\" style=\"stroke:#181818;stroke-width:1.0;\"/><ellipse cx=\"232.9076\" cy=\"150.6266\" fill=\"#181818\" rx=\"2\" ry=\"2\" style=\"stroke:#181818;stroke-width:1.0;\"/></a></g><!--MD5=[39f41a0e550fb3d73b4d8135617e30a2]\n",
       "link E12 to E3--><g id=\"link_E12_E3\"><a href=\"psysml:85a08495-1f32-45d3-9e47-fb9c01482f17\" target=\"_top\" title=\"psysml:85a08495-1f32-45d3-9e47-fb9c01482f17\" xlink:actuate=\"onRequest\" xlink:href=\"psysml:85a08495-1f32-45d3-9e47-fb9c01482f17\" xlink:show=\"new\" xlink:title=\"psysml:85a08495-1f32-45d3-9e47-fb9c01482f17\" xlink:type=\"simple\"><path d=\"M133.94,124.17 C145.24,143.98 163.3575,175.74 178.8438,202.8875 C186.5869,216.4613 193.6722,228.8819 198.9186,238.0791 C199.2465,238.6539 199.5672,239.2161 199.8805,239.7653 \" fill=\"none\" id=\"E12-to-E3\" style=\"stroke:#181818;stroke-width:1.0;\"/><polygon fill=\"#FFFFFF\" points=\"199.8805,239.7653,184.3859,226.73,196.5465,219.7932,199.8805,239.7653\" style=\"stroke:#181818;stroke-width:1.0;\"/><ellipse cx=\"183.2988\" cy=\"220.7879\" fill=\"#181818\" rx=\"2\" ry=\"2\" style=\"stroke:#181818;stroke-width:1.0;\"/><ellipse cx=\"191.985\" cy=\"215.833\" fill=\"#181818\" rx=\"2\" ry=\"2\" style=\"stroke:#181818;stroke-width:1.0;\"/></a></g><!--MD5=[47e06a39e890223045c3046a98adc84c]\n",
       "@startuml\r\n",
       "skin sysmlbw\r\n",
       "skinparam monochrome true\r\n",
       "skinparam wrapWidth 300\r\n",
       "hide circle\r\n",
       "skinparam ranksep 10\r\n",
       "skinparam rectangle {\r\n",
       " backgroundColor<<block>> LightGreen\r\n",
       "}\r\n",
       "\r\n",
       "package \"eVehicle_LogicalArchitecture\" as E1  [[psysml:9a744ccf-91b6-43ac-980e-2414e1cba81d ]]  {\r\n",
       "def \"WheelSize\" as E2  <<(T,blue) attribute  def>> [[psysml:ebc36a25-070a-4e96-8347-b33d428901eb ]] \r\n",
       "rec def \"Wheel\" as E3  <<(T,blue) part  def>> [[psysml:6ff0b444-2624-4fd5-9c5f-d492f5e36d73 ]] {\r\n",
       "comp usage \"sizeOfWheel: WheelSize  \" as E4  <<(T,blue) attribute>> [[psysml:d142c833-343c-43f5-922d-9e0dbb56fa28 ]] {\r\n",
       "}\r\n",
       "}\r\n",
       "rec usage \"eVehicle\" as E5 [[psysml:9f940944-cc13-42af-ac96-3efd6db9a9b8 ]] {\r\n",
       "rec usage \"body\" as E6 [[psysml:d7669fe8-d57a-425f-a659-917e19581919 ]] {\r\n",
       "}\r\n",
       "rec usage \"battery\" as E7 [[psysml:cabd4bb1-5690-4402-9677-509d95d89da7 ]] {\r\n",
       "}\r\n",
       "rec usage \"engine\" as E8 [[psysml:7d34b3e6-4c95-4fad-8c22-46b6064c58d8 ]] {\r\n",
       "}\r\n",
       "rec usage \"frontAxis\" as E9 [[psysml:72f44295-5ca6-4b84-8710-138d144eb598 ]] {\r\n",
       "}\r\n",
       "rec usage \"rearAxis\" as E10 [[psysml:b7d4908e-2525-4a17-819e-52100e286c1c ]] {\r\n",
       "}\r\n",
       "rec usage \"frontWheel: Wheel\" as E11 [[psysml:6dedac84-adfd-43ba-bde5-d11782aafda1 ]] {\r\n",
       "}\r\n",
       "rec usage \"rearWheel: Wheel\" as E12 [[psysml:ae86b246-d624-47f3-845a-d38fed9eaff8 ]] {\r\n",
       "}\r\n",
       "}\r\n",
       "}\r\n",
       "E4 - -:|> E2 [[psysml:9b50dd29-6b2b-4cb7-9b6a-d2a4cf96dc32 ]] \r\n",
       "E11 - -:|> E3 [[psysml:18da4070-ae18-4032-ac17-68ceb2c0514b ]] \r\n",
       "E12 - -:|> E3 [[psysml:85a08495-1f32-45d3-9e47-fb9c01482f17 ]] \r\n",
       "@enduml\r\n",
       "\n",
       "PlantUML version 1.2022.7(Mon Aug 22 17:01:30 UTC 2022)\n",
       "(EPL source distribution)\n",
       "Java Runtime: OpenJDK Runtime Environment\n",
       "JVM: OpenJDK 64-Bit Server VM\n",
       "Default Encoding: UTF-8\n",
       "Language: en\n",
       "Country: null\n",
       "--></g></svg>"
      ]
     },
     "execution_count": 26,
     "metadata": {},
     "output_type": "execute_result"
    }
   ],
   "source": [
    "%viz eVehicle_LogicalArchitecture"
   ]
  },
  {
   "cell_type": "markdown",
   "metadata": {},
   "source": [
    "Now, the model is prepared to add variability. We define two battery kinds with different capacities, and two engine kinds."
   ]
  },
  {
   "cell_type": "code",
   "execution_count": 63,
   "metadata": {},
   "outputs": [
    {
     "name": "stderr",
     "output_type": "stream",
     "text": [
      "ERROR:Couldn't resolve reference to Element 'standardEngine'. (63.sysml line : 10 column : 37)\n",
      "ERROR:Couldn't resolve reference to Element 'batteryLow'. (63.sysml line : 11 column : 38)\n",
      "ERROR:Couldn't resolve reference to Element 'powerEngine'. (63.sysml line : 14 column : 37)\n",
      "ERROR:Couldn't resolve reference to Element 'batteryHigh'. (63.sysml line : 15 column : 38)\n",
      "ERROR:Couldn't resolve reference to Element 'powerEngine'. (63.sysml line : 18 column : 37)\n",
      "ERROR:Couldn't resolve reference to Element 'batteryLow'. (63.sysml line : 19 column : 38)\n",
      "ERROR:Must be a valid feature (63.sysml line : 10 column : 37)\n",
      "ERROR:Must be a valid feature (63.sysml line : 11 column : 38)\n",
      "ERROR:Must be a valid feature (63.sysml line : 14 column : 37)\n",
      "ERROR:Must be a valid feature (63.sysml line : 15 column : 38)\n",
      "ERROR:Must be a valid feature (63.sysml line : 18 column : 37)\n",
      "ERROR:Must be a valid feature (63.sysml line : 19 column : 38)\n"
     ]
    },
    {
     "data": {
      "text/plain": []
     },
     "execution_count": 63,
     "metadata": {},
     "output_type": "execute_result"
    }
   ],
   "source": [
    "package eVehicle_VariantModel {\n",
    "    \n",
    "    private import eVehicle_LogicalArchitecture::*;\n",
    "    \n",
    "    package eVehicle_Configurations {\n",
    "\n",
    "        private import eVehicle_Variations::*;\n",
    "        \n",
    "        part eVehicleStandard :> eVehicleVariations {\n",
    "            part redefines engine = standardEngine;\n",
    "            part redefines battery = batteryLow;\n",
    "        }\n",
    "        part eVehiclePremium :> eVehicleVariations {\n",
    "            part redefines engine = powerEngine;\n",
    "            part redefines battery = batteryHigh;\n",
    "        }\n",
    "        part INVALIDeVehicle :> eVehicleVariations {\n",
    "            part redefines engine = powerEngine;\n",
    "            part redefines battery = batteryLow;\n",
    "        }\n",
    "    }\n",
    "    \n",
    "    package eVehicle_Variations {\n",
    "        \n",
    "        private import eVehicle_Variants::*;\n",
    "        \n",
    "        abstract part eVehicleVariations :> eVehicle {\n",
    "        \n",
    "            variation part redefines battery : Battery {\n",
    "                variant part batterLow;\n",
    "                variant part batteryHigh;  \n",
    "            }\n",
    "            variation part redefines engine : Engine {\n",
    "                variant part standardEngine;\n",
    "                variant part powerEngine;\n",
    "            }\n",
    "        \n",
    "            abstract constraint { (battery == batteryLow & engine == standardEngine) ^ (battery == batteryHigh) }\n",
    "        }\n",
    "    }   \n",
    "    \n",
    "    package eVehicle_Variants {\n",
    "        \n",
    "        part batteryLow : Battery {\n",
    "            attribute redefines capacity = 40;\n",
    "        }\n",
    "        part batteryHigh : Battery {\n",
    "            attribute redefines capacity = 40;\n",
    "        }\n",
    "    \n",
    "        part powerEngine : Engine;\n",
    "        part standardEngine : Engine;\n",
    "    }\n",
    "}"
   ]
  },
  {
   "cell_type": "code",
   "execution_count": 28,
   "metadata": {},
   "outputs": [
    {
     "data": {
      "text/plain": [
       "ERROR:Couldn't resolve reference to Element 'eVehicle_VariantModel::eVehicle_Variations::eVehicleVariations'\n"
      ]
     },
     "execution_count": 28,
     "metadata": {},
     "output_type": "execute_result"
    }
   ],
   "source": [
    "%viz --view=tree eVehicle_VariantModel::eVehicle_Variations::eVehicleVariations"
   ]
  },
  {
   "cell_type": "code",
   "execution_count": 29,
   "metadata": {},
   "outputs": [
    {
     "data": {
      "text/plain": [
       "ERROR:Couldn't resolve reference to Element 'eVehicle_VariantModel::eVehicle_Configurations'\n"
      ]
     },
     "execution_count": 29,
     "metadata": {},
     "output_type": "execute_result"
    }
   ],
   "source": [
    "%viz --view=tree eVehicle_VariantModel::eVehicle_Configurations"
   ]
  },
  {
   "cell_type": "markdown",
   "metadata": {},
   "source": [
    "### Avoiding the \"variability model explosion\"\n",
    "\n",
    "When modeling variability with SysML v1, the model can easily explode, i.e., a small variability can lead to the need to model many model elements. I change a bit the structure of the vehicle, for example, I define the wheels as parts of the axis. I also remove the part definition Wheel and define a some lug bolts of the wheels. Finally, we have a deep nested structure: eVehicle owns axis owns wheel owns lug bolt."
   ]
  },
  {
   "cell_type": "code",
   "execution_count": 30,
   "metadata": {},
   "outputs": [
    {
     "data": {
      "text/plain": [
       "Package eVehicle_LogicalArchitecture_ExplosionExample (aa658923-6bb5-40e9-b071-eeac80eef33f)\n"
      ]
     },
     "execution_count": 30,
     "metadata": {},
     "output_type": "execute_result"
    }
   ],
   "source": [
    " package eVehicle_LogicalArchitecture_ExplosionExample {\n",
    "     \n",
    "    part eVehicle {    \n",
    "        part engine;\n",
    "\n",
    "        part frontAxis {\n",
    "            part frontWheel[2] {\n",
    "                part lugBolt[6];\n",
    "                part boltCircle;\n",
    "                connect boltCircle to lugBolt;\n",
    "            }\n",
    "            part housing;            \n",
    "            connect housing to frontWheel;\n",
    "        }\n",
    "        \n",
    "        part rearAxis {\n",
    "            part rearWheel[2] {\n",
    "                part lugBolt[6];\n",
    "                part boltCircle;\n",
    "                connect boltCircle to lugBolt;\n",
    "            }\n",
    "            part housing;            \n",
    "            connect housing to rearWheel;\n",
    "        }       \n",
    "        connect engine to frontAxis;\n",
    "    }\n",
    "}"
   ]
  },
  {
   "cell_type": "code",
   "execution_count": 31,
   "metadata": {},
   "outputs": [
    {
     "data": {
      "image/svg+xml": [
       "<?xml version=\"1.0\" encoding=\"UTF-8\" standalone=\"no\"?><svg xmlns=\"http://www.w3.org/2000/svg\" xmlns:xlink=\"http://www.w3.org/1999/xlink\" contentStyleType=\"text/css\" height=\"620px\" preserveAspectRatio=\"none\" style=\"width:605px;height:620px;background:#FFFFFF;\" version=\"1.1\" viewBox=\"0 0 605 620\" width=\"605px\" zoomAndPan=\"magnify\"><defs/><g><!--MD5=[fbc87193dbaf4d95561dea2c320d4a47]\n",
       "cluster E1--><g id=\"cluster_E1\"><a href=\"psysml:aa658923-6bb5-40e9-b071-eeac80eef33f\" target=\"_top\" title=\"psysml:aa658923-6bb5-40e9-b071-eeac80eef33f\" xlink:actuate=\"onRequest\" xlink:href=\"psysml:aa658923-6bb5-40e9-b071-eeac80eef33f\" xlink:show=\"new\" xlink:title=\"psysml:aa658923-6bb5-40e9-b071-eeac80eef33f\" xlink:type=\"simple\"><polygon fill=\"none\" points=\"16,6,369.6875,6,376.6875,28.2969,588,28.2969,588,613,16,613,16,6\" style=\"stroke:#000000;stroke-width:1.5;\"/><line style=\"stroke:#000000;stroke-width:1.5;\" x1=\"16\" x2=\"376.6875\" y1=\"28.2969\" y2=\"28.2969\"/><text fill=\"#000000\" font-family=\"sans-serif\" font-size=\"14\" font-weight=\"bold\" lengthAdjust=\"spacing\" textLength=\"347.6875\" x=\"20\" y=\"20.9951\">eVehicle_LogicalArchitecture_ExplosionExample</text></a></g><!--MD5=[e4f7fae6ed58524ba242bb0b0d3be6b7]\n",
       "cluster E2--><g id=\"cluster_E2\"><a href=\"psysml:3941fbb6-c9e9-4dd2-8591-e035d09da7d5\" target=\"_top\" title=\"psysml:3941fbb6-c9e9-4dd2-8591-e035d09da7d5\" xlink:actuate=\"onRequest\" xlink:href=\"psysml:3941fbb6-c9e9-4dd2-8591-e035d09da7d5\" xlink:show=\"new\" xlink:title=\"psysml:3941fbb6-c9e9-4dd2-8591-e035d09da7d5\" xlink:type=\"simple\"><rect fill=\"#FFFFFF\" height=\"540\" id=\"E2\" rx=\"10\" ry=\"10\" style=\"stroke:#383838;stroke-width:1.5;\" width=\"524\" x=\"40\" y=\"49\"/><text fill=\"#000000\" font-family=\"sans-serif\" font-size=\"14\" lengthAdjust=\"spacing\" textLength=\"59\" x=\"272.5\" y=\"66.9951\">eVehicle</text><line style=\"stroke:#383838;stroke-width:1.0;\" x1=\"40\" x2=\"564\" y1=\"75.2969\" y2=\"75.2969\"/></a></g><!--MD5=[f6df4d0ebaf0b5dfb2ced0ae5af7c670]\n",
       "cluster E4--><g id=\"cluster_E4\"><a href=\"psysml:e5a8ba15-b7cd-49e6-8fee-c18aed91535e\" target=\"_top\" title=\"psysml:e5a8ba15-b7cd-49e6-8fee-c18aed91535e\" xlink:actuate=\"onRequest\" xlink:href=\"psysml:e5a8ba15-b7cd-49e6-8fee-c18aed91535e\" xlink:show=\"new\" xlink:title=\"psysml:e5a8ba15-b7cd-49e6-8fee-c18aed91535e\" xlink:type=\"simple\"><rect fill=\"#FFFFFF\" height=\"366\" id=\"E4\" rx=\"10\" ry=\"10\" style=\"stroke:#383838;stroke-width:1.5;\" width=\"230\" x=\"72\" y=\"191\"/><text fill=\"#000000\" font-family=\"sans-serif\" font-size=\"14\" lengthAdjust=\"spacing\" textLength=\"59\" x=\"157.5\" y=\"208.9951\">frontAxis</text><line style=\"stroke:#383838;stroke-width:1.0;\" x1=\"72\" x2=\"302\" y1=\"217.2969\" y2=\"217.2969\"/></a></g><!--MD5=[de5ec2e2e8f62f467e546659f5068c88]\n",
       "cluster E5--><g id=\"cluster_E5\"><a href=\"psysml:f43807fb-67c7-45a0-a342-8519be5e6078\" target=\"_top\" title=\"psysml:f43807fb-67c7-45a0-a342-8519be5e6078\" xlink:actuate=\"onRequest\" xlink:href=\"psysml:f43807fb-67c7-45a0-a342-8519be5e6078\" xlink:show=\"new\" xlink:title=\"psysml:f43807fb-67c7-45a0-a342-8519be5e6078\" xlink:type=\"simple\"><rect fill=\"#FFFFFF\" height=\"219\" id=\"E5\" rx=\"10\" ry=\"10\" style=\"stroke:#383838;stroke-width:1.5;\" width=\"142\" x=\"120\" y=\"298\"/><text fill=\"#000000\" font-family=\"sans-serif\" font-size=\"14\" lengthAdjust=\"spacing\" textLength=\"75\" x=\"153.5\" y=\"315.9951\">frontWheel</text><line style=\"stroke:#383838;stroke-width:1.0;\" x1=\"120\" x2=\"262\" y1=\"324.2969\" y2=\"324.2969\"/></a></g><!--MD5=[7f149f147074ac12df2cb0a7728a5fb0]\n",
       "cluster E9--><g id=\"cluster_E9\"><a href=\"psysml:e1f69b8b-90cc-4b9d-9736-d192cc42241b\" target=\"_top\" title=\"psysml:e1f69b8b-90cc-4b9d-9736-d192cc42241b\" xlink:actuate=\"onRequest\" xlink:href=\"psysml:e1f69b8b-90cc-4b9d-9736-d192cc42241b\" xlink:show=\"new\" xlink:title=\"psysml:e1f69b8b-90cc-4b9d-9736-d192cc42241b\" xlink:type=\"simple\"><rect fill=\"#FFFFFF\" height=\"345\" id=\"E9\" rx=\"10\" ry=\"10\" style=\"stroke:#383838;stroke-width:1.5;\" width=\"206\" x=\"334\" y=\"92\"/><text fill=\"#000000\" font-family=\"sans-serif\" font-size=\"14\" lengthAdjust=\"spacing\" textLength=\"54\" x=\"410\" y=\"109.9951\">rearAxis</text><line style=\"stroke:#383838;stroke-width:1.0;\" x1=\"334\" x2=\"540\" y1=\"118.2969\" y2=\"118.2969\"/></a></g><!--MD5=[a84b4591f868c1fa4a211716a82f2f0d]\n",
       "cluster E10--><g id=\"cluster_E10\"><a href=\"psysml:9cbd12ec-6bfa-41be-9b40-a44727c3a1fa\" target=\"_top\" title=\"psysml:9cbd12ec-6bfa-41be-9b40-a44727c3a1fa\" xlink:actuate=\"onRequest\" xlink:href=\"psysml:9cbd12ec-6bfa-41be-9b40-a44727c3a1fa\" xlink:show=\"new\" xlink:title=\"psysml:9cbd12ec-6bfa-41be-9b40-a44727c3a1fa\" xlink:type=\"simple\"><rect fill=\"#FFFFFF\" height=\"214\" id=\"E10\" rx=\"10\" ry=\"10\" style=\"stroke:#383838;stroke-width:1.5;\" width=\"142\" x=\"366\" y=\"191\"/><text fill=\"#000000\" font-family=\"sans-serif\" font-size=\"14\" lengthAdjust=\"spacing\" textLength=\"70\" x=\"402\" y=\"208.9951\">rearWheel</text><line style=\"stroke:#383838;stroke-width:1.0;\" x1=\"366\" x2=\"508\" y1=\"217.2969\" y2=\"217.2969\"/></a></g><g><a href=\"psysml:7e8bf93a-32b8-4ef1-bd9b-fbc7f79c37ed\" target=\"_top\" title=\"psysml:7e8bf93a-32b8-4ef1-bd9b-fbc7f79c37ed\" xlink:actuate=\"onRequest\" xlink:href=\"psysml:7e8bf93a-32b8-4ef1-bd9b-fbc7f79c37ed\" xlink:show=\"new\" xlink:title=\"psysml:7e8bf93a-32b8-4ef1-bd9b-fbc7f79c37ed\" xlink:type=\"simple\"><rect fill=\"#FFFFFF\" height=\"40\" id=\"E3\" rx=\"10\" ry=\"10\" style=\"stroke:#383838;stroke-width:1.5;\" width=\"59\" x=\"56.5\" y=\"127\"/><text fill=\"#000000\" font-family=\"sans-serif\" font-size=\"14\" lengthAdjust=\"spacing\" textLength=\"48\" x=\"62\" y=\"144.9951\">engine</text></a></g><g><a href=\"psysml:e3b83e72-11a1-4775-a14c-811f8fd76fd1\" target=\"_top\" title=\"psysml:e3b83e72-11a1-4775-a14c-811f8fd76fd1\" xlink:actuate=\"onRequest\" xlink:href=\"psysml:e3b83e72-11a1-4775-a14c-811f8fd76fd1\" xlink:show=\"new\" xlink:title=\"psysml:e3b83e72-11a1-4775-a14c-811f8fd76fd1\" xlink:type=\"simple\"><rect fill=\"#FFFFFF\" height=\"40\" id=\"E6\" rx=\"10\" ry=\"10\" style=\"stroke:#383838;stroke-width:1.5;\" width=\"59\" x=\"171.5\" y=\"453\"/><text fill=\"#000000\" font-family=\"sans-serif\" font-size=\"14\" lengthAdjust=\"spacing\" textLength=\"48\" x=\"177\" y=\"470.9951\">lugBolt</text></a></g><g><a href=\"psysml:c3f80f7e-8b7e-4b60-aace-c60f9ebf1986\" target=\"_top\" title=\"psysml:c3f80f7e-8b7e-4b60-aace-c60f9ebf1986\" xlink:actuate=\"onRequest\" xlink:href=\"psysml:c3f80f7e-8b7e-4b60-aace-c60f9ebf1986\" xlink:show=\"new\" xlink:title=\"psysml:c3f80f7e-8b7e-4b60-aace-c60f9ebf1986\" xlink:type=\"simple\"><rect fill=\"#FFFFFF\" height=\"40\" id=\"E7\" rx=\"10\" ry=\"10\" style=\"stroke:#383838;stroke-width:1.5;\" width=\"75\" x=\"163.5\" y=\"341\"/><text fill=\"#000000\" font-family=\"sans-serif\" font-size=\"14\" lengthAdjust=\"spacing\" textLength=\"64\" x=\"169\" y=\"358.9951\">boltCircle</text></a></g><g><a href=\"psysml:92001ad3-7b31-484e-99c3-27f2a2d68882\" target=\"_top\" title=\"psysml:92001ad3-7b31-484e-99c3-27f2a2d68882\" xlink:actuate=\"onRequest\" xlink:href=\"psysml:92001ad3-7b31-484e-99c3-27f2a2d68882\" xlink:show=\"new\" xlink:title=\"psysml:92001ad3-7b31-484e-99c3-27f2a2d68882\" xlink:type=\"simple\"><rect fill=\"#FFFFFF\" height=\"40\" id=\"E8\" rx=\"10\" ry=\"10\" style=\"stroke:#383838;stroke-width:1.5;\" width=\"67\" x=\"115.5\" y=\"234\"/><text fill=\"#000000\" font-family=\"sans-serif\" font-size=\"14\" lengthAdjust=\"spacing\" textLength=\"56\" x=\"121\" y=\"251.9951\">housing</text></a></g><g><a href=\"psysml:4326f684-1699-45b9-ac2a-8a78392a0224\" target=\"_top\" title=\"psysml:4326f684-1699-45b9-ac2a-8a78392a0224\" xlink:actuate=\"onRequest\" xlink:href=\"psysml:4326f684-1699-45b9-ac2a-8a78392a0224\" xlink:show=\"new\" xlink:title=\"psysml:4326f684-1699-45b9-ac2a-8a78392a0224\" xlink:type=\"simple\"><rect fill=\"#FFFFFF\" height=\"40\" id=\"E11\" rx=\"10\" ry=\"10\" style=\"stroke:#383838;stroke-width:1.5;\" width=\"59\" x=\"417.5\" y=\"341\"/><text fill=\"#000000\" font-family=\"sans-serif\" font-size=\"14\" lengthAdjust=\"spacing\" textLength=\"48\" x=\"423\" y=\"358.9951\">lugBolt</text></a></g><g><a href=\"psysml:aaf4bb13-5595-47e2-ae74-7c1860f4646a\" target=\"_top\" title=\"psysml:aaf4bb13-5595-47e2-ae74-7c1860f4646a\" xlink:actuate=\"onRequest\" xlink:href=\"psysml:aaf4bb13-5595-47e2-ae74-7c1860f4646a\" xlink:show=\"new\" xlink:title=\"psysml:aaf4bb13-5595-47e2-ae74-7c1860f4646a\" xlink:type=\"simple\"><rect fill=\"#FFFFFF\" height=\"40\" id=\"E12\" rx=\"10\" ry=\"10\" style=\"stroke:#383838;stroke-width:1.5;\" width=\"75\" x=\"409.5\" y=\"234\"/><text fill=\"#000000\" font-family=\"sans-serif\" font-size=\"14\" lengthAdjust=\"spacing\" textLength=\"64\" x=\"415\" y=\"251.9951\">boltCircle</text></a></g><g><a href=\"psysml:01ebb666-5434-4e23-98a2-614d0a0467dc\" target=\"_top\" title=\"psysml:01ebb666-5434-4e23-98a2-614d0a0467dc\" xlink:actuate=\"onRequest\" xlink:href=\"psysml:01ebb666-5434-4e23-98a2-614d0a0467dc\" xlink:show=\"new\" xlink:title=\"psysml:01ebb666-5434-4e23-98a2-614d0a0467dc\" xlink:type=\"simple\"><rect fill=\"#FFFFFF\" height=\"40\" id=\"E13\" rx=\"10\" ry=\"10\" style=\"stroke:#383838;stroke-width:1.5;\" width=\"67\" x=\"350.5\" y=\"127\"/><text fill=\"#000000\" font-family=\"sans-serif\" font-size=\"14\" lengthAdjust=\"spacing\" textLength=\"56\" x=\"356\" y=\"144.9951\">housing</text></a></g><!--MD5=[fbb449814971db3a0b8220cf225b9e01]\n",
       "link E7 to E6--><g id=\"link_E7_E6\"><a href=\"psysml:efbdabd7-1dea-4f51-8a5c-b76c746834ad\" target=\"_top\" title=\"psysml:efbdabd7-1dea-4f51-8a5c-b76c746834ad\" xlink:actuate=\"onRequest\" xlink:href=\"psysml:efbdabd7-1dea-4f51-8a5c-b76c746834ad\" xlink:show=\"new\" xlink:title=\"psysml:efbdabd7-1dea-4f51-8a5c-b76c746834ad\" xlink:type=\"simple\"><path d=\"M201,381.16 C201,401.23 201,432.57 201,452.69 \" fill=\"none\" id=\"E7-E6\" style=\"stroke:#181818;stroke-width:3.0;\"/></a></g><!--MD5=[1ccb2481ffa92f8d51a74ee30c51832a]\n",
       "link E8 to E5--><g id=\"link_E8_E5\"><a href=\"psysml:787ea183-b2a3-49b3-b0eb-3cb623de88f2\" target=\"_top\" title=\"psysml:787ea183-b2a3-49b3-b0eb-3cb623de88f2\" xlink:actuate=\"onRequest\" xlink:href=\"psysml:787ea183-b2a3-49b3-b0eb-3cb623de88f2\" xlink:show=\"new\" xlink:title=\"psysml:787ea183-b2a3-49b3-b0eb-3cb623de88f2\" xlink:type=\"simple\"><path d=\"M145.15,274.26 C144.4163,277.93 143.6088,281.9684 142.7561,286.2323 C142.3298,288.3642 141.8922,290.5524 141.4469,292.7792 C141.2242,293.8925 140.9996,295.0155 140.7736,296.1459 C140.6606,296.7111 140.5472,297.2781 140.4334,297.8467 \" fill=\"none\" id=\"E8-E5\" style=\"stroke:#181818;stroke-width:3.0;\"/></a></g><!--MD5=[dc3070f36b7e37334e331d97c845f2c3]\n",
       "link E12 to E11--><g id=\"link_E12_E11\"><a href=\"psysml:0288407c-e307-4062-a5b2-09e51739dc47\" target=\"_top\" title=\"psysml:0288407c-e307-4062-a5b2-09e51739dc47\" xlink:actuate=\"onRequest\" xlink:href=\"psysml:0288407c-e307-4062-a5b2-09e51739dc47\" xlink:show=\"new\" xlink:title=\"psysml:0288407c-e307-4062-a5b2-09e51739dc47\" xlink:type=\"simple\"><path d=\"M447,274.26 C447,293.2 447,321.96 447,340.86 \" fill=\"none\" id=\"E12-E11\" style=\"stroke:#181818;stroke-width:3.0;\"/></a></g><!--MD5=[84eedc19e96af1f56c62df6f989b8477]\n",
       "link E13 to E10--><g id=\"link_E13_E10\"><a href=\"psysml:da81f0f9-ef7b-48d8-b4c4-fd9a7fe8b0dc\" target=\"_top\" title=\"psysml:da81f0f9-ef7b-48d8-b4c4-fd9a7fe8b0dc\" xlink:actuate=\"onRequest\" xlink:href=\"psysml:da81f0f9-ef7b-48d8-b4c4-fd9a7fe8b0dc\" xlink:show=\"new\" xlink:title=\"psysml:da81f0f9-ef7b-48d8-b4c4-fd9a7fe8b0dc\" xlink:type=\"simple\"><path d=\"M382.17,167.26 C381.82,170.93 381.435,174.9684 381.0286,179.2323 C380.8254,181.3642 380.6169,183.5524 380.4047,185.7792 C380.2986,186.8925 380.1916,188.0155 380.0839,189.1459 C380.03,189.7111 379.976,190.2781 379.9218,190.8467 \" fill=\"none\" id=\"E13-E10\" style=\"stroke:#181818;stroke-width:3.0;\"/></a></g><!--MD5=[af87c684e3b0d8be13c1a698a818ef1e]\n",
       "link E3 to E4--><g id=\"link_E3_E4\"><a href=\"psysml:0293dc29-8ae6-412e-abf6-bac4a9183d39\" target=\"_top\" title=\"psysml:0293dc29-8ae6-412e-abf6-bac4a9183d39\" xlink:actuate=\"onRequest\" xlink:href=\"psysml:0293dc29-8ae6-412e-abf6-bac4a9183d39\" xlink:show=\"new\" xlink:title=\"psysml:0293dc29-8ae6-412e-abf6-bac4a9183d39\" xlink:type=\"simple\"><path d=\"M84.9,167.26 C84.69,170.93 84.4591,174.9684 84.2153,179.2323 C84.0935,181.3642 83.9684,183.5524 83.8412,185.7792 C83.7775,186.8925 83.7134,188.0155 83.6488,189.1459 C83.6165,189.7111 83.5841,190.2781 83.5516,190.8467 \" fill=\"none\" id=\"E3-E4\" style=\"stroke:#181818;stroke-width:3.0;\"/></a></g><!--MD5=[ec1206429a5b6dfbfaa0b83cd5d92e66]\n",
       "@startuml\r\n",
       "skin sysmlbw\r\n",
       "skinparam monochrome true\r\n",
       "skinparam wrapWidth 300\r\n",
       "hide circle\r\n",
       "skinparam ranksep 10\r\n",
       "skinparam rectangle {\r\n",
       " backgroundColor<<block>> LightGreen\r\n",
       "}\r\n",
       "\r\n",
       "package \"eVehicle_LogicalArchitecture_ExplosionExample\" as E1  [[psysml:aa658923-6bb5-40e9-b071-eeac80eef33f ]]  {\r\n",
       "rec usage \"eVehicle\" as E2 [[psysml:3941fbb6-c9e9-4dd2-8591-e035d09da7d5 ]] {\r\n",
       "rec usage \"engine\" as E3 [[psysml:7e8bf93a-32b8-4ef1-bd9b-fbc7f79c37ed ]] {\r\n",
       "}\r\n",
       "rec usage \"frontAxis\" as E4 [[psysml:e5a8ba15-b7cd-49e6-8fee-c18aed91535e ]] {\r\n",
       "rec usage \"frontWheel\" as E5 [[psysml:f43807fb-67c7-45a0-a342-8519be5e6078 ]] {\r\n",
       "rec usage \"lugBolt\" as E6 [[psysml:e3b83e72-11a1-4775-a14c-811f8fd76fd1 ]] {\r\n",
       "}\r\n",
       "rec usage \"boltCircle\" as E7 [[psysml:c3f80f7e-8b7e-4b60-aace-c60f9ebf1986 ]] {\r\n",
       "}\r\n",
       "}\r\n",
       "rec usage \"housing\" as E8 [[psysml:92001ad3-7b31-484e-99c3-27f2a2d68882 ]] {\r\n",
       "}\r\n",
       "}\r\n",
       "rec usage \"rearAxis\" as E9 [[psysml:e1f69b8b-90cc-4b9d-9736-d192cc42241b ]] {\r\n",
       "rec usage \"rearWheel\" as E10 [[psysml:9cbd12ec-6bfa-41be-9b40-a44727c3a1fa ]] {\r\n",
       "rec usage \"lugBolt\" as E11 [[psysml:4326f684-1699-45b9-ac2a-8a78392a0224 ]] {\r\n",
       "}\r\n",
       "rec usage \"boltCircle\" as E12 [[psysml:aaf4bb13-5595-47e2-ae74-7c1860f4646a ]] {\r\n",
       "}\r\n",
       "}\r\n",
       "rec usage \"housing\" as E13 [[psysml:01ebb666-5434-4e23-98a2-614d0a0467dc ]] {\r\n",
       "}\r\n",
       "}\r\n",
       "}\r\n",
       "}\r\n",
       "E7 -[thickness=3]- E6 [[psysml:efbdabd7-1dea-4f51-8a5c-b76c746834ad ]] \r\n",
       "E8 -[thickness=3]- E5 [[psysml:787ea183-b2a3-49b3-b0eb-3cb623de88f2 ]] \r\n",
       "E12 -[thickness=3]- E11 [[psysml:0288407c-e307-4062-a5b2-09e51739dc47 ]] \r\n",
       "E13 -[thickness=3]- E10 [[psysml:da81f0f9-ef7b-48d8-b4c4-fd9a7fe8b0dc ]] \r\n",
       "E3 -[thickness=3]- E4 [[psysml:0293dc29-8ae6-412e-abf6-bac4a9183d39 ]] \r\n",
       "@enduml\r\n",
       "\n",
       "PlantUML version 1.2022.7(Mon Aug 22 17:01:30 UTC 2022)\n",
       "(EPL source distribution)\n",
       "Java Runtime: OpenJDK Runtime Environment\n",
       "JVM: OpenJDK 64-Bit Server VM\n",
       "Default Encoding: UTF-8\n",
       "Language: en\n",
       "Country: null\n",
       "--></g></svg>"
      ]
     },
     "execution_count": 31,
     "metadata": {},
     "output_type": "execute_result"
    }
   ],
   "source": [
    "%viz --view=interconnection eVehicle_LogicalArchitecture_ExplosionExample"
   ]
  },
  {
   "cell_type": "markdown",
   "metadata": {},
   "source": [
    "The structure *eVehicle/axis/wheel/lugBolt* can easily be modeled with SysML v1. It is slightly different in that in SysML v1 we have to use types, i.e. blocks, and cannot model parts directly.\n",
    "\n",
    "![SysML v1 eVehicle Model](sysmlv1-variability-example-core.jpg)\n",
    "\n",
    "Now, if we introduce variants of lug bolts, this variance ripples up through the entire structure:\n",
    "\n",
    "![SysML v1 eVehicle Model - Variability explosion](sysmlv1-variability-example-explosion.jpg)\n",
    "\n",
    "In SysML v2 it looks like this:"
   ]
  },
  {
   "cell_type": "code",
   "execution_count": 32,
   "metadata": {},
   "outputs": [
    {
     "name": "stdout",
     "output_type": "stream",
     "text": [
      "WARNING:Default public import is deprecated; make private if possible (32.sysml line : 8 column : 5)\n"
     ]
    },
    {
     "data": {
      "text/plain": [
       "Package eVehicleVariants_ExplosionExample (de741dd5-2850-4e66-b7b8-418cb682716f)\n",
       "Package eVehicle_LogicalArchitecture_ExplosionExample (f61f00c0-5fa8-432b-9f79-ca07022b0e7a)\n"
      ]
     },
     "execution_count": 32,
     "metadata": {},
     "output_type": "execute_result"
    }
   ],
   "source": [
    "package eVehicleVariants_ExplosionExample {\n",
    "    part lugBolt42;\n",
    "    part lugBolt23;\n",
    "}\n",
    "\n",
    "package eVehicle_LogicalArchitecture_ExplosionExample {\n",
    "    \n",
    "    private import eVehicleVariants_ExplosionExample::*;\n",
    "        \n",
    "    part eVehicle {    \n",
    "        part engine;\n",
    "\n",
    "        part frontAxis {\n",
    "            part frontWheel[2] {\n",
    "                /*-----------------------------\n",
    "                 * Definition of the variation\n",
    "                 * ----------------------------*/\n",
    "                variation part lugBolt[6] {\n",
    "                    variant part lugBolt23;\n",
    "                    variant part lugBolt42;  \n",
    "                }\n",
    "                part boltCircle;\n",
    "                connect boltCircle to lugBolt;\n",
    "            }\n",
    "            part housing;            \n",
    "            connect housing to frontWheel;\n",
    "        }\n",
    "        \n",
    "        part rearAxis {\n",
    "            part rearWheel[2] {\n",
    "                part lugBolt[6];\n",
    "                part boltCircle;\n",
    "                connect boltCircle to lugBolt;\n",
    "            }\n",
    "            part housing;    \n",
    "            connect housing to rearWheel;\n",
    "        }        \n",
    "        connect engine to frontAxis;\n",
    "    }\n",
    "}"
   ]
  },
  {
   "cell_type": "code",
   "execution_count": 33,
   "metadata": {},
   "outputs": [
    {
     "data": {
      "image/svg+xml": [
       "<?xml version=\"1.0\" encoding=\"UTF-8\" standalone=\"no\"?><svg xmlns=\"http://www.w3.org/2000/svg\" xmlns:xlink=\"http://www.w3.org/1999/xlink\" contentStyleType=\"text/css\" height=\"1092px\" preserveAspectRatio=\"none\" style=\"width:545px;height:1092px;background:#FFFFFF;\" version=\"1.1\" viewBox=\"0 0 545 1092\" width=\"545px\" zoomAndPan=\"magnify\"><defs/><g><!--MD5=[fbc87193dbaf4d95561dea2c320d4a47]\n",
       "cluster E1--><g id=\"cluster_E1\"><a href=\"psysml:f61f00c0-5fa8-432b-9f79-ca07022b0e7a\" target=\"_top\" title=\"psysml:f61f00c0-5fa8-432b-9f79-ca07022b0e7a\" xlink:actuate=\"onRequest\" xlink:href=\"psysml:f61f00c0-5fa8-432b-9f79-ca07022b0e7a\" xlink:show=\"new\" xlink:title=\"psysml:f61f00c0-5fa8-432b-9f79-ca07022b0e7a\" xlink:type=\"simple\"><polygon fill=\"none\" points=\"16,6,369.6875,6,376.6875,28.2969,528,28.2969,528,1085,16,1085,16,6\" style=\"stroke:#000000;stroke-width:1.5;\"/><line style=\"stroke:#000000;stroke-width:1.5;\" x1=\"16\" x2=\"376.6875\" y1=\"28.2969\" y2=\"28.2969\"/><text fill=\"#000000\" font-family=\"sans-serif\" font-size=\"14\" font-weight=\"bold\" lengthAdjust=\"spacing\" textLength=\"347.6875\" x=\"20\" y=\"20.9951\">eVehicle_LogicalArchitecture_ExplosionExample</text></a></g><!--MD5=[b4997ac47864f28c2f74865a473b2911]\n",
       "class E2--><a href=\"psysml:9adf20c0-5b39-4c42-b08f-640d792d87e7\" target=\"_top\" title=\"psysml:9adf20c0-5b39-4c42-b08f-640d792d87e7\" xlink:actuate=\"onRequest\" xlink:href=\"psysml:9adf20c0-5b39-4c42-b08f-640d792d87e7\" xlink:show=\"new\" xlink:title=\"psysml:9adf20c0-5b39-4c42-b08f-640d792d87e7\" xlink:type=\"simple\"><g id=\"elem_E2\"><rect fill=\"#FFFFFF\" height=\"75.0813\" id=\"E2\" rx=\"10\" ry=\"10\" style=\"stroke:#181818;stroke-width:0.5;\" width=\"263\" x=\"248.5\" y=\"41\"/><text fill=\"#000000\" font-family=\"sans-serif\" font-size=\"12\" font-style=\"italic\" lengthAdjust=\"spacing\" textLength=\"40\" x=\"360\" y=\"57.1387\">«part»</text><text fill=\"#000000\" font-family=\"sans-serif\" font-size=\"14\" lengthAdjust=\"spacing\" textLength=\"59\" x=\"346.5\" y=\"72.9639\">eVehicle</text><line style=\"stroke:#181818;stroke-width:0.5;\" x1=\"249.5\" x2=\"510.5\" y1=\"81.2656\" y2=\"81.2656\"/><text fill=\"#000000\" font-family=\"sans-serif\" font-size=\"14\" lengthAdjust=\"spacing\" textLength=\"251\" x=\"254.5\" y=\"108.7795\">noname connect engine to frontAxis</text><text fill=\"#000000\" font-family=\"sans-serif\" font-size=\"14\" font-style=\"italic\" lengthAdjust=\"spacing\" textLength=\"86\" x=\"337\" y=\"93.6123\">connections</text></g></a><!--MD5=[09b614a08d8cba4a07c9adeb5e0fee81]\n",
       "class E3--><a href=\"psysml:f2e708a5-510c-4441-b150-027f47018e69\" target=\"_top\" title=\"psysml:f2e708a5-510c-4441-b150-027f47018e69\" xlink:actuate=\"onRequest\" xlink:href=\"psysml:f2e708a5-510c-4441-b150-027f47018e69\" xlink:show=\"new\" xlink:title=\"psysml:f2e708a5-510c-4441-b150-027f47018e69\" xlink:type=\"simple\"><g id=\"elem_E3\"><rect fill=\"#FFFFFF\" height=\"48.2656\" id=\"E3\" rx=\"10\" ry=\"10\" style=\"stroke:#181818;stroke-width:0.5;\" width=\"62\" x=\"96\" y=\"189.5\"/><text fill=\"#000000\" font-family=\"sans-serif\" font-size=\"12\" font-style=\"italic\" lengthAdjust=\"spacing\" textLength=\"40\" x=\"107\" y=\"205.6387\">«part»</text><text fill=\"#000000\" font-family=\"sans-serif\" font-size=\"14\" lengthAdjust=\"spacing\" textLength=\"48\" x=\"99\" y=\"221.4639\">engine</text><line style=\"stroke:#181818;stroke-width:0.5;\" x1=\"97\" x2=\"157\" y1=\"229.7656\" y2=\"229.7656\"/></g></a><!--MD5=[ebbe1d658d1005bcc118a6aa81145e00]\n",
       "class E4--><a href=\"psysml:bbd56123-6a30-4357-9da9-b9ce3a64246a\" target=\"_top\" title=\"psysml:bbd56123-6a30-4357-9da9-b9ce3a64246a\" xlink:actuate=\"onRequest\" xlink:href=\"psysml:bbd56123-6a30-4357-9da9-b9ce3a64246a\" xlink:show=\"new\" xlink:title=\"psysml:bbd56123-6a30-4357-9da9-b9ce3a64246a\" xlink:type=\"simple\"><g id=\"elem_E4\"><rect fill=\"#FFFFFF\" height=\"75.0813\" id=\"E4\" rx=\"10\" ry=\"10\" style=\"stroke:#181818;stroke-width:0.5;\" width=\"287\" x=\"32.5\" y=\"311\"/><text fill=\"#000000\" font-family=\"sans-serif\" font-size=\"12\" font-style=\"italic\" lengthAdjust=\"spacing\" textLength=\"40\" x=\"156\" y=\"327.1387\">«part»</text><text fill=\"#000000\" font-family=\"sans-serif\" font-size=\"14\" lengthAdjust=\"spacing\" textLength=\"59\" x=\"142.5\" y=\"342.9639\">frontAxis</text><line style=\"stroke:#181818;stroke-width:0.5;\" x1=\"33.5\" x2=\"318.5\" y1=\"351.2656\" y2=\"351.2656\"/><text fill=\"#000000\" font-family=\"sans-serif\" font-size=\"14\" lengthAdjust=\"spacing\" textLength=\"275\" x=\"38.5\" y=\"378.7795\">noname connect housing to frontWheel</text><text fill=\"#000000\" font-family=\"sans-serif\" font-size=\"14\" font-style=\"italic\" lengthAdjust=\"spacing\" textLength=\"86\" x=\"133\" y=\"363.6123\">connections</text></g></a><!--MD5=[270fce915f116d4de14055a7c1d9a0f3]\n",
       "class E5--><a href=\"psysml:48b17f4f-4428-4395-9ee1-eb1e6c90aec6\" target=\"_top\" title=\"psysml:48b17f4f-4428-4395-9ee1-eb1e6c90aec6\" xlink:actuate=\"onRequest\" xlink:href=\"psysml:48b17f4f-4428-4395-9ee1-eb1e6c90aec6\" xlink:show=\"new\" xlink:title=\"psysml:48b17f4f-4428-4395-9ee1-eb1e6c90aec6\" xlink:type=\"simple\"><g id=\"elem_E5\"><rect fill=\"#FFFFFF\" height=\"75.0813\" id=\"E5\" rx=\"10\" ry=\"10\" style=\"stroke:#181818;stroke-width:0.5;\" width=\"268\" x=\"36\" y=\"581\"/><text fill=\"#000000\" font-family=\"sans-serif\" font-size=\"12\" font-style=\"italic\" lengthAdjust=\"spacing\" textLength=\"40\" x=\"150\" y=\"597.1387\">«part»</text><text fill=\"#000000\" font-family=\"sans-serif\" font-size=\"14\" lengthAdjust=\"spacing\" textLength=\"94\" x=\"119\" y=\"612.9639\">frontWheel[2]</text><line style=\"stroke:#181818;stroke-width:0.5;\" x1=\"37\" x2=\"303\" y1=\"621.2656\" y2=\"621.2656\"/><text fill=\"#000000\" font-family=\"sans-serif\" font-size=\"14\" lengthAdjust=\"spacing\" textLength=\"256\" x=\"42\" y=\"648.7795\">noname connect boltCircle to lugBolt</text><text fill=\"#000000\" font-family=\"sans-serif\" font-size=\"14\" font-style=\"italic\" lengthAdjust=\"spacing\" textLength=\"86\" x=\"127\" y=\"633.6123\">connections</text></g></a><!--MD5=[2156ba9850f5573cc1fc38a6a4b2f02b]\n",
       "class E7--><a href=\"psysml:a4d07c98-1308-466b-8dd5-c02437bfeae0\" target=\"_top\" title=\"psysml:a4d07c98-1308-466b-8dd5-c02437bfeae0\" xlink:actuate=\"onRequest\" xlink:href=\"psysml:a4d07c98-1308-466b-8dd5-c02437bfeae0\" xlink:show=\"new\" xlink:title=\"psysml:a4d07c98-1308-466b-8dd5-c02437bfeae0\" xlink:type=\"simple\"><g id=\"elem_E7\"><rect fill=\"#FFFFFF\" height=\"62.2344\" id=\"E7\" rx=\"10\" ry=\"10\" style=\"stroke:#181818;stroke-width:0.5;\" width=\"81\" x=\"95.5\" y=\"824\"/><text fill=\"#000000\" font-family=\"sans-serif\" font-size=\"12\" font-style=\"italic\" lengthAdjust=\"spacing\" textLength=\"68\" x=\"102\" y=\"840.1387\">«variation»</text><text fill=\"#000000\" font-family=\"sans-serif\" font-size=\"12\" font-style=\"italic\" lengthAdjust=\"spacing\" textLength=\"40\" x=\"116\" y=\"854.1074\">«part»</text><text fill=\"#000000\" font-family=\"sans-serif\" font-size=\"14\" font-style=\"italic\" lengthAdjust=\"spacing\" textLength=\"48\" x=\"98.5\" y=\"869.9326\">lugBolt</text><text fill=\"#000000\" font-family=\"sans-serif\" font-size=\"14\" lengthAdjust=\"spacing\" textLength=\"19\" x=\"146.5\" y=\"869.9326\">[6]</text><line style=\"stroke:#181818;stroke-width:0.5;\" x1=\"96.5\" x2=\"175.5\" y1=\"878.2344\" y2=\"878.2344\"/></g></a><!--MD5=[b9389687b975829384b498ac4b7476b2]\n",
       "class E8--><a href=\"psysml:fac35bb4-73c1-4507-99cd-b959d6ac7296\" target=\"_top\" title=\"psysml:fac35bb4-73c1-4507-99cd-b959d6ac7296\" xlink:actuate=\"onRequest\" xlink:href=\"psysml:fac35bb4-73c1-4507-99cd-b959d6ac7296\" xlink:show=\"new\" xlink:title=\"psysml:fac35bb4-73c1-4507-99cd-b959d6ac7296\" xlink:type=\"simple\"><g id=\"elem_E8\"><rect fill=\"#FFFFFF\" height=\"62.2344\" id=\"E8\" rx=\"10\" ry=\"10\" style=\"stroke:#181818;stroke-width:0.5;\" width=\"80\" x=\"49\" y=\"1007\"/><text fill=\"#000000\" font-family=\"sans-serif\" font-size=\"12\" font-style=\"italic\" lengthAdjust=\"spacing\" textLength=\"57\" x=\"60.5\" y=\"1023.1387\">«variant»</text><text fill=\"#000000\" font-family=\"sans-serif\" font-size=\"12\" font-style=\"italic\" lengthAdjust=\"spacing\" textLength=\"40\" x=\"69\" y=\"1037.1074\">«part»</text><text fill=\"#000000\" font-family=\"sans-serif\" font-size=\"14\" lengthAdjust=\"spacing\" textLength=\"66\" x=\"52\" y=\"1052.9326\">lugBolt23</text><line style=\"stroke:#181818;stroke-width:0.5;\" x1=\"50\" x2=\"128\" y1=\"1061.2344\" y2=\"1061.2344\"/></g></a><!--MD5=[fd4143e9d270a159db93a4ea2a975926]\n",
       "class E9--><a href=\"psysml:55211144-65d7-4dda-9975-a36257c4ded8\" target=\"_top\" title=\"psysml:55211144-65d7-4dda-9975-a36257c4ded8\" xlink:actuate=\"onRequest\" xlink:href=\"psysml:55211144-65d7-4dda-9975-a36257c4ded8\" xlink:show=\"new\" xlink:title=\"psysml:55211144-65d7-4dda-9975-a36257c4ded8\" xlink:type=\"simple\"><g id=\"elem_E9\"><rect fill=\"#FFFFFF\" height=\"62.2344\" id=\"E9\" rx=\"10\" ry=\"10\" style=\"stroke:#181818;stroke-width:0.5;\" width=\"80\" x=\"164\" y=\"1007\"/><text fill=\"#000000\" font-family=\"sans-serif\" font-size=\"12\" font-style=\"italic\" lengthAdjust=\"spacing\" textLength=\"57\" x=\"175.5\" y=\"1023.1387\">«variant»</text><text fill=\"#000000\" font-family=\"sans-serif\" font-size=\"12\" font-style=\"italic\" lengthAdjust=\"spacing\" textLength=\"40\" x=\"184\" y=\"1037.1074\">«part»</text><text fill=\"#000000\" font-family=\"sans-serif\" font-size=\"14\" lengthAdjust=\"spacing\" textLength=\"66\" x=\"167\" y=\"1052.9326\">lugBolt42</text><line style=\"stroke:#181818;stroke-width:0.5;\" x1=\"165\" x2=\"243\" y1=\"1061.2344\" y2=\"1061.2344\"/></g></a><!--MD5=[96f4274e9e20536e775497830990834d]\n",
       "class E10--><a href=\"psysml:18181183-0c04-48b5-876c-c1aa23d9c3ee\" target=\"_top\" title=\"psysml:18181183-0c04-48b5-876c-c1aa23d9c3ee\" xlink:actuate=\"onRequest\" xlink:href=\"psysml:18181183-0c04-48b5-876c-c1aa23d9c3ee\" xlink:show=\"new\" xlink:title=\"psysml:18181183-0c04-48b5-876c-c1aa23d9c3ee\" xlink:type=\"simple\"><g id=\"elem_E10\"><rect fill=\"#FFFFFF\" height=\"48.2656\" id=\"E10\" rx=\"10\" ry=\"10\" style=\"stroke:#181818;stroke-width:0.5;\" width=\"78\" x=\"167\" y=\"716\"/><text fill=\"#000000\" font-family=\"sans-serif\" font-size=\"12\" font-style=\"italic\" lengthAdjust=\"spacing\" textLength=\"40\" x=\"186\" y=\"732.1387\">«part»</text><text fill=\"#000000\" font-family=\"sans-serif\" font-size=\"14\" lengthAdjust=\"spacing\" textLength=\"64\" x=\"170\" y=\"747.9639\">boltCircle</text><line style=\"stroke:#181818;stroke-width:0.5;\" x1=\"168\" x2=\"244\" y1=\"756.2656\" y2=\"756.2656\"/></g></a><!--MD5=[1dd1bfd58a279cf63c5f349dbc8fc6a1]\n",
       "class E11--><a href=\"psysml:628355bc-c66c-4c34-ae51-e54f77924dec\" target=\"_top\" title=\"psysml:628355bc-c66c-4c34-ae51-e54f77924dec\" xlink:actuate=\"onRequest\" xlink:href=\"psysml:628355bc-c66c-4c34-ae51-e54f77924dec\" xlink:show=\"new\" xlink:title=\"psysml:628355bc-c66c-4c34-ae51-e54f77924dec\" xlink:type=\"simple\"><g id=\"elem_E11\"><rect fill=\"#FFFFFF\" height=\"48.2656\" id=\"E11\" rx=\"10\" ry=\"10\" style=\"stroke:#181818;stroke-width:0.5;\" width=\"70\" x=\"139\" y=\"459.5\"/><text fill=\"#000000\" font-family=\"sans-serif\" font-size=\"12\" font-style=\"italic\" lengthAdjust=\"spacing\" textLength=\"40\" x=\"154\" y=\"475.6387\">«part»</text><text fill=\"#000000\" font-family=\"sans-serif\" font-size=\"14\" lengthAdjust=\"spacing\" textLength=\"56\" x=\"142\" y=\"491.4639\">housing</text><line style=\"stroke:#181818;stroke-width:0.5;\" x1=\"140\" x2=\"208\" y1=\"499.7656\" y2=\"499.7656\"/></g></a><!--MD5=[49a0ec8f00dab7302a31f22d0f0fe584]\n",
       "class E12--><a href=\"psysml:b9600bc7-8230-4d67-bf9e-c97690077338\" target=\"_top\" title=\"psysml:b9600bc7-8230-4d67-bf9e-c97690077338\" xlink:actuate=\"onRequest\" xlink:href=\"psysml:b9600bc7-8230-4d67-bf9e-c97690077338\" xlink:show=\"new\" xlink:title=\"psysml:b9600bc7-8230-4d67-bf9e-c97690077338\" xlink:type=\"simple\"><g id=\"elem_E12\"><rect fill=\"#FFFFFF\" height=\"75.0813\" id=\"E12\" rx=\"10\" ry=\"10\" style=\"stroke:#181818;stroke-width:0.5;\" width=\"282\" x=\"230\" y=\"176\"/><text fill=\"#000000\" font-family=\"sans-serif\" font-size=\"12\" font-style=\"italic\" lengthAdjust=\"spacing\" textLength=\"40\" x=\"351\" y=\"192.1387\">«part»</text><text fill=\"#000000\" font-family=\"sans-serif\" font-size=\"14\" lengthAdjust=\"spacing\" textLength=\"54\" x=\"340\" y=\"207.9639\">rearAxis</text><line style=\"stroke:#181818;stroke-width:0.5;\" x1=\"231\" x2=\"511\" y1=\"216.2656\" y2=\"216.2656\"/><text fill=\"#000000\" font-family=\"sans-serif\" font-size=\"14\" lengthAdjust=\"spacing\" textLength=\"270\" x=\"236\" y=\"243.7795\">noname connect housing to rearWheel</text><text fill=\"#000000\" font-family=\"sans-serif\" font-size=\"14\" font-style=\"italic\" lengthAdjust=\"spacing\" textLength=\"86\" x=\"328\" y=\"228.6123\">connections</text></g></a><!--MD5=[ee3c913d1a06f366521f9ef512b67efe]\n",
       "class E13--><a href=\"psysml:8eb8f65d-063b-4be6-a1ff-08fd32adac0a\" target=\"_top\" title=\"psysml:8eb8f65d-063b-4be6-a1ff-08fd32adac0a\" xlink:actuate=\"onRequest\" xlink:href=\"psysml:8eb8f65d-063b-4be6-a1ff-08fd32adac0a\" xlink:show=\"new\" xlink:title=\"psysml:8eb8f65d-063b-4be6-a1ff-08fd32adac0a\" xlink:type=\"simple\"><g id=\"elem_E13\"><rect fill=\"#FFFFFF\" height=\"75.0813\" id=\"E13\" rx=\"10\" ry=\"10\" style=\"stroke:#181818;stroke-width:0.5;\" width=\"268\" x=\"244\" y=\"446\"/><text fill=\"#000000\" font-family=\"sans-serif\" font-size=\"12\" font-style=\"italic\" lengthAdjust=\"spacing\" textLength=\"40\" x=\"358\" y=\"462.1387\">«part»</text><text fill=\"#000000\" font-family=\"sans-serif\" font-size=\"14\" lengthAdjust=\"spacing\" textLength=\"89\" x=\"329.5\" y=\"477.9639\">rearWheel[2]</text><line style=\"stroke:#181818;stroke-width:0.5;\" x1=\"245\" x2=\"511\" y1=\"486.2656\" y2=\"486.2656\"/><text fill=\"#000000\" font-family=\"sans-serif\" font-size=\"14\" lengthAdjust=\"spacing\" textLength=\"256\" x=\"250\" y=\"513.7795\">noname connect boltCircle to lugBolt</text><text fill=\"#000000\" font-family=\"sans-serif\" font-size=\"14\" font-style=\"italic\" lengthAdjust=\"spacing\" textLength=\"86\" x=\"335\" y=\"498.6123\">connections</text></g></a><!--MD5=[bee11217b2f71d958a27249dc326068c]\n",
       "class E14--><a href=\"psysml:58028130-8403-4f96-b867-41322e80b9ab\" target=\"_top\" title=\"psysml:58028130-8403-4f96-b867-41322e80b9ab\" xlink:actuate=\"onRequest\" xlink:href=\"psysml:58028130-8403-4f96-b867-41322e80b9ab\" xlink:show=\"new\" xlink:title=\"psysml:58028130-8403-4f96-b867-41322e80b9ab\" xlink:type=\"simple\"><g id=\"elem_E14\"><rect fill=\"#FFFFFF\" height=\"48.2656\" id=\"E14\" rx=\"10\" ry=\"10\" style=\"stroke:#181818;stroke-width:0.5;\" width=\"81\" x=\"353.5\" y=\"716\"/><text fill=\"#000000\" font-family=\"sans-serif\" font-size=\"12\" font-style=\"italic\" lengthAdjust=\"spacing\" textLength=\"40\" x=\"374\" y=\"732.1387\">«part»</text><text fill=\"#000000\" font-family=\"sans-serif\" font-size=\"14\" lengthAdjust=\"spacing\" textLength=\"67\" x=\"356.5\" y=\"747.9639\">lugBolt[6]</text><line style=\"stroke:#181818;stroke-width:0.5;\" x1=\"354.5\" x2=\"433.5\" y1=\"756.2656\" y2=\"756.2656\"/></g></a><!--MD5=[0c48fb7552dae8cbbef69381101a84c8]\n",
       "class E15--><a href=\"psysml:ce7457c1-76cd-4587-84f8-d39f92c23b42\" target=\"_top\" title=\"psysml:ce7457c1-76cd-4587-84f8-d39f92c23b42\" xlink:actuate=\"onRequest\" xlink:href=\"psysml:ce7457c1-76cd-4587-84f8-d39f92c23b42\" xlink:show=\"new\" xlink:title=\"psysml:ce7457c1-76cd-4587-84f8-d39f92c23b42\" xlink:type=\"simple\"><g id=\"elem_E15\"><rect fill=\"#FFFFFF\" height=\"48.2656\" id=\"E15\" rx=\"10\" ry=\"10\" style=\"stroke:#181818;stroke-width:0.5;\" width=\"78\" x=\"393\" y=\"594.5\"/><text fill=\"#000000\" font-family=\"sans-serif\" font-size=\"12\" font-style=\"italic\" lengthAdjust=\"spacing\" textLength=\"40\" x=\"412\" y=\"610.6387\">«part»</text><text fill=\"#000000\" font-family=\"sans-serif\" font-size=\"14\" lengthAdjust=\"spacing\" textLength=\"64\" x=\"396\" y=\"626.4639\">boltCircle</text><line style=\"stroke:#181818;stroke-width:0.5;\" x1=\"394\" x2=\"470\" y1=\"634.7656\" y2=\"634.7656\"/></g></a><!--MD5=[35f0587eaee8d5bb9a02e25b63afc23b]\n",
       "class E16--><a href=\"psysml:b47f538a-c67c-4592-835c-bb21cfdaf9cc\" target=\"_top\" title=\"psysml:b47f538a-c67c-4592-835c-bb21cfdaf9cc\" xlink:actuate=\"onRequest\" xlink:href=\"psysml:b47f538a-c67c-4592-835c-bb21cfdaf9cc\" xlink:show=\"new\" xlink:title=\"psysml:b47f538a-c67c-4592-835c-bb21cfdaf9cc\" xlink:type=\"simple\"><g id=\"elem_E16\"><rect fill=\"#FFFFFF\" height=\"48.2656\" id=\"E16\" rx=\"10\" ry=\"10\" style=\"stroke:#181818;stroke-width:0.5;\" width=\"70\" x=\"400\" y=\"324.5\"/><text fill=\"#000000\" font-family=\"sans-serif\" font-size=\"12\" font-style=\"italic\" lengthAdjust=\"spacing\" textLength=\"40\" x=\"415\" y=\"340.6387\">«part»</text><text fill=\"#000000\" font-family=\"sans-serif\" font-size=\"14\" lengthAdjust=\"spacing\" textLength=\"56\" x=\"403\" y=\"356.4639\">housing</text><line style=\"stroke:#181818;stroke-width:0.5;\" x1=\"401\" x2=\"469\" y1=\"364.7656\" y2=\"364.7656\"/></g></a><g id=\"elem_E6\"><path d=\"M32.5,47 L32.5,109.9648 L213.5,109.9648 L213.5,57 L203.5,47 L32.5,47 \" fill=\"#FAFAFA\" style=\"stroke:#181818;stroke-width:0.5;\"/><path d=\"M203.5,47 L203.5,57 L213.5,57 L203.5,47 \" fill=\"#FAFAFA\" style=\"stroke:#181818;stroke-width:1.0;\"/><a href=\"psysml:c02dcd01-139c-4e1e-b743-b039b8081715\" target=\"_top\" title=\"psysml:c02dcd01-139c-4e1e-b743-b039b8081715\" xlink:actuate=\"onRequest\" xlink:href=\"psysml:c02dcd01-139c-4e1e-b743-b039b8081715\" xlink:show=\"new\" xlink:title=\"psysml:c02dcd01-139c-4e1e-b743-b039b8081715\" xlink:type=\"simple\"><text fill=\"#000000\" font-family=\"sans-serif\" font-size=\"13\" lengthAdjust=\"spacing\" text-decoration=\"underline\" textLength=\"13\" x=\"38.5\" y=\"64.0669\">@</text></a><text fill=\"#000000\" font-family=\"sans-serif\" font-size=\"13\" lengthAdjust=\"spacing\" text-decoration=\"line-through\" textLength=\"5\" x=\"51.5\" y=\"64.0669\">-</text><text fill=\"#000000\" font-family=\"sans-serif\" font-size=\"13\" lengthAdjust=\"spacing\" text-decoration=\"line-through\" textLength=\"5\" x=\"56.5\" y=\"64.0669\">-</text><text fill=\"#000000\" font-family=\"sans-serif\" font-size=\"13\" lengthAdjust=\"spacing\" text-decoration=\"line-through\" textLength=\"5\" x=\"61.5\" y=\"64.0669\">-</text><text fill=\"#000000\" font-family=\"sans-serif\" font-size=\"13\" lengthAdjust=\"spacing\" text-decoration=\"line-through\" textLength=\"5\" x=\"66.5\" y=\"64.0669\">-</text><text fill=\"#000000\" font-family=\"sans-serif\" font-size=\"13\" lengthAdjust=\"spacing\" text-decoration=\"line-through\" textLength=\"5\" x=\"71.5\" y=\"64.0669\">-</text><text fill=\"#000000\" font-family=\"sans-serif\" font-size=\"13\" lengthAdjust=\"spacing\" textLength=\"20\" x=\"76.5\" y=\"64.0669\">----</text><text fill=\"#000000\" font-family=\"sans-serif\" font-size=\"13\" lengthAdjust=\"spacing\" textLength=\"160\" x=\"38.5\" y=\"79.1997\">Definition of the variation</text><line style=\"stroke:#181818;stroke-width:1.0;\" x1=\"33.5\" x2=\"103\" y1=\"89.832\" y2=\"89.832\"/><text fill=\"#000000\" font-family=\"sans-serif\" font-size=\"13\" lengthAdjust=\"spacing\" text-decoration=\"line-through\" textLength=\"5\" x=\"103\" y=\"93.8325\">-</text><text fill=\"#000000\" font-family=\"sans-serif\" font-size=\"13\" lengthAdjust=\"spacing\" text-decoration=\"line-through\" textLength=\"5\" x=\"108\" y=\"93.8325\">-</text><text fill=\"#000000\" font-family=\"sans-serif\" font-size=\"13\" lengthAdjust=\"spacing\" text-decoration=\"line-through\" textLength=\"5\" x=\"113\" y=\"93.8325\">-</text><text fill=\"#000000\" font-family=\"sans-serif\" font-size=\"13\" lengthAdjust=\"spacing\" text-decoration=\"line-through\" textLength=\"5\" x=\"118\" y=\"93.8325\">-</text><text fill=\"#000000\" font-family=\"sans-serif\" font-size=\"13\" lengthAdjust=\"spacing\" textLength=\"20\" x=\"123\" y=\"93.8325\">----</text><line style=\"stroke:#181818;stroke-width:1.0;\" x1=\"143\" x2=\"212.5\" y1=\"89.832\" y2=\"89.832\"/></g><!--MD5=[209b3feb70ccb6233bfe1053d122c12c]\n",
       "reverse link E2 to E3--><g id=\"link_E2_E3\"><a href=\"psysml:47ff3034-76d3-4506-8d37-7a9f4f1ffce6\" target=\"_top\" title=\"psysml:47ff3034-76d3-4506-8d37-7a9f4f1ffce6\" xlink:actuate=\"onRequest\" xlink:href=\"psysml:47ff3034-76d3-4506-8d37-7a9f4f1ffce6\" xlink:show=\"new\" xlink:title=\"psysml:47ff3034-76d3-4506-8d37-7a9f4f1ffce6\" xlink:type=\"simple\"><path d=\"M289.23,122.03 C256.05,138.2 218.46,157.26 185,176 C176.18,180.94 166.82,186.63 158.25,192.02 \" fill=\"none\" id=\"E2-backto-E3\" style=\"stroke:#181818;stroke-width:1.0;\"/><polygon fill=\"#181818\" points=\"301.24,116.21,294.0956,115.2312,290.4443,121.4495,297.5886,122.4283,301.24,116.21\" style=\"stroke:#181818;stroke-width:1.0;\"/></a></g><!--MD5=[9618e71518536f8baf3342ff6fdab317]\n",
       "reverse link E2 to E4--><g id=\"link_E2_E4\"><a href=\"psysml:63a7d326-cb7c-4ac2-a2e7-554e4131fc5b\" target=\"_top\" title=\"psysml:63a7d326-cb7c-4ac2-a2e7-554e4131fc5b\" xlink:actuate=\"onRequest\" xlink:href=\"psysml:63a7d326-cb7c-4ac2-a2e7-554e4131fc5b\" xlink:show=\"new\" xlink:title=\"psysml:63a7d326-cb7c-4ac2-a2e7-554e4131fc5b\" xlink:type=\"simple\"><path d=\"M273.69,122.56 C250.35,136.48 227.88,154.13 212,176 C183.13,215.75 176.36,273.6 175.29,310.9 \" fill=\"none\" id=\"E2-backto-E4\" style=\"stroke:#181818;stroke-width:1.0;\"/><polygon fill=\"#181818\" points=\"285.2,116.03,278.0069,115.5201,274.7697,121.9638,281.9628,122.4736,285.2,116.03\" style=\"stroke:#181818;stroke-width:1.0;\"/></a></g><!--MD5=[62aa6af11e70f752912c1cb0466f24f7]\n",
       "reverse link E4 to E5--><g id=\"link_E4_E5\"><a href=\"psysml:213d22f7-585a-4768-b04e-f2515a9d9a62\" target=\"_top\" title=\"psysml:213d22f7-585a-4768-b04e-f2515a9d9a62\" xlink:actuate=\"onRequest\" xlink:href=\"psysml:213d22f7-585a-4768-b04e-f2515a9d9a62\" xlink:show=\"new\" xlink:title=\"psysml:213d22f7-585a-4768-b04e-f2515a9d9a62\" xlink:type=\"simple\"><path d=\"M142.21,397.47 C133.55,412.33 125.44,429.23 121,446 C112.46,478.22 113.24,488.58 121,521 C125.99,541.83 136.25,563.25 146.1,580.59 \" fill=\"none\" id=\"E4-backto-E5\" style=\"stroke:#181818;stroke-width:1.0;\"/><polygon fill=\"#181818\" points=\"149.2,386.02,142.6577,389.0529,142.941,396.2584,149.4833,393.2255,149.2,386.02\" style=\"stroke:#181818;stroke-width:1.0;\"/></a></g><!--MD5=[452b418e7f8a40397a49b8c0a78acc5b]\n",
       "reverse link E5 to E7--><g id=\"link_E5_E7\"><a href=\"psysml:89d1078c-250a-4fa1-af30-6ee7eccb6e03\" target=\"_top\" title=\"psysml:89d1078c-250a-4fa1-af30-6ee7eccb6e03\" xlink:actuate=\"onRequest\" xlink:href=\"psysml:89d1078c-250a-4fa1-af30-6ee7eccb6e03\" xlink:show=\"new\" xlink:title=\"psysml:89d1078c-250a-4fa1-af30-6ee7eccb6e03\" xlink:type=\"simple\"><path d=\"M158,669.13 C154.7,684.12 151.38,700.67 149,716 C143.26,752.98 139.69,795.95 137.78,823.99 \" fill=\"none\" id=\"E5-backto-E7\" style=\"stroke:#181818;stroke-width:1.0;\"/><polygon fill=\"#181818\" points=\"160.87,656.42,155.6441,661.3889,158.2208,668.1239,163.4467,663.155,160.87,656.42\" style=\"stroke:#181818;stroke-width:1.0;\"/></a></g><!--MD5=[dc164f5e8a733ab456ef1add180e9e34]\n",
       "reverse link E7 to E8--><g id=\"link_E7_E8\"><a href=\"psysml:931718d4-d810-49f8-ad49-504fadbc2e71\" target=\"_top\" title=\"psysml:931718d4-d810-49f8-ad49-504fadbc2e71\" xlink:actuate=\"onRequest\" xlink:href=\"psysml:931718d4-d810-49f8-ad49-504fadbc2e71\" xlink:show=\"new\" xlink:title=\"psysml:931718d4-d810-49f8-ad49-504fadbc2e71\" xlink:type=\"simple\"><path d=\"M124.3,901.07 C115.72,934.1 104.31,978.05 96.81,1006.91 \" fill=\"none\" id=\"E7-backto-E8\" style=\"stroke:#181818;stroke-width:1.0;\"/><ellipse cx=\"126.1181\" cy=\"894.0429\" fill=\"#FFFFFF\" rx=\"8\" ry=\"8\" style=\"stroke:#181818;stroke-width:1.0;\"/><line style=\"stroke:#181818;stroke-width:1.0;\" x1=\"124.1061\" x2=\"128.13\" y1=\"901.7858\" y2=\"886.3\"/><line style=\"stroke:#181818;stroke-width:1.0;\" x1=\"118.3752\" x2=\"133.8609\" y1=\"892.0309\" y2=\"896.0548\"/></a></g><!--MD5=[e4a10ef82d0e328e31cac39a31e58dda]\n",
       "reverse link E7 to E9--><g id=\"link_E7_E9\"><a href=\"psysml:ef414fec-6c31-41a2-8211-e07293fe4eae\" target=\"_top\" title=\"psysml:ef414fec-6c31-41a2-8211-e07293fe4eae\" xlink:actuate=\"onRequest\" xlink:href=\"psysml:ef414fec-6c31-41a2-8211-e07293fe4eae\" xlink:show=\"new\" xlink:title=\"psysml:ef414fec-6c31-41a2-8211-e07293fe4eae\" xlink:type=\"simple\"><path d=\"M152.76,900.62 C165.19,933.71 181.8,977.92 192.69,1006.91 \" fill=\"none\" id=\"E7-backto-E9\" style=\"stroke:#181818;stroke-width:1.0;\"/><ellipse cx=\"150.1915\" cy=\"893.7897\" fill=\"#FFFFFF\" rx=\"8\" ry=\"8\" style=\"stroke:#181818;stroke-width:1.0;\"/><line style=\"stroke:#181818;stroke-width:1.0;\" x1=\"153.003\" x2=\"147.38\" y1=\"901.2794\" y2=\"886.3\"/><line style=\"stroke:#181818;stroke-width:1.0;\" x1=\"142.7018\" x2=\"157.6812\" y1=\"896.6012\" y2=\"890.9782\"/></a></g><!--MD5=[567a9522dca498f6b73d7bae1a0f7884]\n",
       "reverse link E5 to E10--><g id=\"link_E5_E10\"><a href=\"psysml:fb2e082e-eac1-4b73-ae81-b0d32c0a6bd7\" target=\"_top\" title=\"psysml:fb2e082e-eac1-4b73-ae81-b0d32c0a6bd7\" xlink:actuate=\"onRequest\" xlink:href=\"psysml:fb2e082e-eac1-4b73-ae81-b0d32c0a6bd7\" xlink:show=\"new\" xlink:title=\"psysml:fb2e082e-eac1-4b73-ae81-b0d32c0a6bd7\" xlink:type=\"simple\"><path d=\"M184.84,668.76 C189.76,685.08 195,702.48 199.03,715.88 \" fill=\"none\" id=\"E5-backto-E10\" style=\"stroke:#181818;stroke-width:1.0;\"/><polygon fill=\"#181818\" points=\"181,656,178.8979,662.8979,184.4566,667.4914,186.5588,660.5935,181,656\" style=\"stroke:#181818;stroke-width:1.0;\"/></a></g><!--MD5=[a919e0967d6f3de553dc51b9865a1d6d]\n",
       "link E10 to E7--><g id=\"link_E10_E7\"><a href=\"psysml:a1516818-1d81-4896-97e3-e4024531a940\" target=\"_top\" title=\"psysml:a1516818-1d81-4896-97e3-e4024531a940\" xlink:actuate=\"onRequest\" xlink:href=\"psysml:a1516818-1d81-4896-97e3-e4024531a940\" xlink:show=\"new\" xlink:title=\"psysml:a1516818-1d81-4896-97e3-e4024531a940\" xlink:type=\"simple\"><path d=\"M191.67,764.14 C181.03,781.32 166.42,804.9 154.83,823.6 \" fill=\"none\" id=\"E10-E7\" style=\"stroke:#181818;stroke-width:3.0;\"/></a></g><!--MD5=[593b807a8aafaab39af1c25ada4edf41]\n",
       "reverse link E4 to E11--><g id=\"link_E4_E11\"><a href=\"psysml:144e8064-2aa0-424d-b348-8cec505eeaac\" target=\"_top\" title=\"psysml:144e8064-2aa0-424d-b348-8cec505eeaac\" xlink:actuate=\"onRequest\" xlink:href=\"psysml:144e8064-2aa0-424d-b348-8cec505eeaac\" xlink:show=\"new\" xlink:title=\"psysml:144e8064-2aa0-424d-b348-8cec505eeaac\" xlink:type=\"simple\"><path d=\"M175.25,399.3 C174.94,419.89 174.6,442.76 174.35,459.3 \" fill=\"none\" id=\"E4-backto-E11\" style=\"stroke:#181818;stroke-width:1.0;\"/><polygon fill=\"#181818\" points=\"175.45,386.19,171.3582,392.1278,175.2654,398.1886,179.3572,392.2508,175.45,386.19\" style=\"stroke:#181818;stroke-width:1.0;\"/></a></g><!--MD5=[07b77f6f309248d16187045709d1c26e]\n",
       "link E11 to E5--><g id=\"link_E11_E5\"><a href=\"psysml:5b4d8d80-89d4-4541-a7b7-dd9a089ae7e8\" target=\"_top\" title=\"psysml:5b4d8d80-89d4-4541-a7b7-dd9a089ae7e8\" xlink:actuate=\"onRequest\" xlink:href=\"psysml:5b4d8d80-89d4-4541-a7b7-dd9a089ae7e8\" xlink:show=\"new\" xlink:title=\"psysml:5b4d8d80-89d4-4541-a7b7-dd9a089ae7e8\" xlink:type=\"simple\"><path d=\"M173.3,507.67 C172.7,527.84 171.81,557.42 171.1,580.81 \" fill=\"none\" id=\"E11-E5\" style=\"stroke:#181818;stroke-width:3.0;\"/></a></g><!--MD5=[dafcd127694730d9a25b1f8a88fad525]\n",
       "reverse link E2 to E12--><g id=\"link_E2_E12\"><a href=\"psysml:4f168a79-3c2b-407f-aee2-b921aeded0d7\" target=\"_top\" title=\"psysml:4f168a79-3c2b-407f-aee2-b921aeded0d7\" xlink:actuate=\"onRequest\" xlink:href=\"psysml:4f168a79-3c2b-407f-aee2-b921aeded0d7\" xlink:show=\"new\" xlink:title=\"psysml:4f168a79-3c2b-407f-aee2-b921aeded0d7\" xlink:type=\"simple\"><path d=\"M376.63,129.35 C375.58,144.81 374.45,161.55 373.48,175.92 \" fill=\"none\" id=\"E2-backto-E12\" style=\"stroke:#181818;stroke-width:1.0;\"/><polygon fill=\"#181818\" points=\"377.52,116.19,373.1268,121.9084,376.7156,128.163,381.1088,122.4446,377.52,116.19\" style=\"stroke:#181818;stroke-width:1.0;\"/></a></g><!--MD5=[062ed86c389d1a88f61c6380d0491e17]\n",
       "reverse link E12 to E13--><g id=\"link_E12_E13\"><a href=\"psysml:77b04efb-3f21-49c6-ba4e-2385f7bf4a3f\" target=\"_top\" title=\"psysml:77b04efb-3f21-49c6-ba4e-2385f7bf4a3f\" xlink:actuate=\"onRequest\" xlink:href=\"psysml:77b04efb-3f21-49c6-ba4e-2385f7bf4a3f\" xlink:show=\"new\" xlink:title=\"psysml:77b04efb-3f21-49c6-ba4e-2385f7bf4a3f\" xlink:type=\"simple\"><path d=\"M372.3,264.25 C373.67,316.89 375.81,398.74 377.04,445.81 \" fill=\"none\" id=\"E12-backto-E13\" style=\"stroke:#181818;stroke-width:1.0;\"/><polygon fill=\"#181818\" points=\"371.96,251.2,368.1196,257.3034,372.2764,263.1958,376.1168,257.0925,371.96,251.2\" style=\"stroke:#181818;stroke-width:1.0;\"/></a></g><!--MD5=[01db00f33b28669d6d9febea71002831]\n",
       "reverse link E13 to E14--><g id=\"link_E13_E14\"><a href=\"psysml:5f81cfa9-cbd6-4d24-87c6-8c4e996dff79\" target=\"_top\" title=\"psysml:5f81cfa9-cbd6-4d24-87c6-8c4e996dff79\" xlink:actuate=\"onRequest\" xlink:href=\"psysml:5f81cfa9-cbd6-4d24-87c6-8c4e996dff79\" xlink:show=\"new\" xlink:title=\"psysml:5f81cfa9-cbd6-4d24-87c6-8c4e996dff79\" xlink:type=\"simple\"><path d=\"M374.31,534.52 C372.54,568.8 371.63,615.28 376,656 C378.2,676.52 383.38,699.42 387.62,715.96 \" fill=\"none\" id=\"E13-backto-E14\" style=\"stroke:#181818;stroke-width:1.0;\"/><polygon fill=\"#181818\" points=\"375.08,521.09,370.7439,526.8518,374.3947,533.0704,378.7308,527.3087,375.08,521.09\" style=\"stroke:#181818;stroke-width:1.0;\"/></a></g><!--MD5=[e9a5e828c71fd2209a11a152f562d491]\n",
       "reverse link E13 to E15--><g id=\"link_E13_E15\"><a href=\"psysml:8152d32b-4b93-45b0-a3be-14a9cb22b6e6\" target=\"_top\" title=\"psysml:8152d32b-4b93-45b0-a3be-14a9cb22b6e6\" xlink:actuate=\"onRequest\" xlink:href=\"psysml:8152d32b-4b93-45b0-a3be-14a9cb22b6e6\" xlink:show=\"new\" xlink:title=\"psysml:8152d32b-4b93-45b0-a3be-14a9cb22b6e6\" xlink:type=\"simple\"><path d=\"M397.86,533.42 C406.31,554.24 415.77,577.53 422.58,594.3 \" fill=\"none\" id=\"E13-backto-E15\" style=\"stroke:#181818;stroke-width:1.0;\"/><polygon fill=\"#181818\" points=\"392.9,521.19,391.449,528.2536,397.4112,532.3098,398.8622,525.2461,392.9,521.19\" style=\"stroke:#181818;stroke-width:1.0;\"/></a></g><!--MD5=[4ce51ac6fa4cf5202df3859e2718f033]\n",
       "link E15 to E14--><g id=\"link_E15_E14\"><a href=\"psysml:c900d676-3727-4bb5-bb15-8916c7e1c84d\" target=\"_top\" title=\"psysml:c900d676-3727-4bb5-bb15-8916c7e1c84d\" xlink:actuate=\"onRequest\" xlink:href=\"psysml:c900d676-3727-4bb5-bb15-8916c7e1c84d\" xlink:show=\"new\" xlink:title=\"psysml:c900d676-3727-4bb5-bb15-8916c7e1c84d\" xlink:type=\"simple\"><path d=\"M424.67,642.54 C417.99,663.57 408.15,694.49 401.43,715.62 \" fill=\"none\" id=\"E15-E14\" style=\"stroke:#181818;stroke-width:3.0;\"/></a></g><!--MD5=[ea0a17f77a0d9feb217b2accde2f1dbb]\n",
       "reverse link E12 to E16--><g id=\"link_E12_E16\"><a href=\"psysml:0f529c15-599e-4ff3-9d6f-97bbda272b24\" target=\"_top\" title=\"psysml:0f529c15-599e-4ff3-9d6f-97bbda272b24\" xlink:actuate=\"onRequest\" xlink:href=\"psysml:0f529c15-599e-4ff3-9d6f-97bbda272b24\" xlink:show=\"new\" xlink:title=\"psysml:0f529c15-599e-4ff3-9d6f-97bbda272b24\" xlink:type=\"simple\"><path d=\"M394.4,263.13 C404.45,284.02 415.73,307.45 423.84,324.3 \" fill=\"none\" id=\"E12-backto-E16\" style=\"stroke:#181818;stroke-width:1.0;\"/><polygon fill=\"#181818\" points=\"388.66,251.19,387.6531,258.3305,393.8571,262.0062,394.8639,254.8658,388.66,251.19\" style=\"stroke:#181818;stroke-width:1.0;\"/></a></g><!--MD5=[c175550ace7c98fdd656248429b37efa]\n",
       "link E16 to E13--><g id=\"link_E16_E13\"><a href=\"psysml:46469a34-1ee8-4ae4-8696-8aeed40a91b1\" target=\"_top\" title=\"psysml:46469a34-1ee8-4ae4-8696-8aeed40a91b1\" xlink:actuate=\"onRequest\" xlink:href=\"psysml:46469a34-1ee8-4ae4-8696-8aeed40a91b1\" xlink:show=\"new\" xlink:title=\"psysml:46469a34-1ee8-4ae4-8696-8aeed40a91b1\" xlink:type=\"simple\"><path d=\"M425.07,372.67 C416.43,392.84 403.75,422.42 393.72,445.81 \" fill=\"none\" id=\"E16-E13\" style=\"stroke:#181818;stroke-width:3.0;\"/></a></g><!--MD5=[af87c684e3b0d8be13c1a698a818ef1e]\n",
       "link E3 to E4--><g id=\"link_E3_E4\"><a href=\"psysml:174b8ec6-1217-451a-8485-544b38413412\" target=\"_top\" title=\"psysml:174b8ec6-1217-451a-8485-544b38413412\" xlink:actuate=\"onRequest\" xlink:href=\"psysml:174b8ec6-1217-451a-8485-544b38413412\" xlink:show=\"new\" xlink:title=\"psysml:174b8ec6-1217-451a-8485-544b38413412\" xlink:type=\"simple\"><path d=\"M135.54,237.67 C142.97,257.84 153.87,287.42 162.48,310.81 \" fill=\"none\" id=\"E3-E4\" style=\"stroke:#181818;stroke-width:3.0;\"/></a></g><!--MD5=[4b0373c133860709ff893bb8d2624f7d]\n",
       "@startuml\r\n",
       "skin sysmlbw\r\n",
       "skinparam monochrome true\r\n",
       "skinparam wrapWidth 300\r\n",
       "hide circle\r\n",
       "\r\n",
       "package \"eVehicle_LogicalArchitecture_ExplosionExample\" as E1  [[psysml:f61f00c0-5fa8-432b-9f79-ca07022b0e7a ]]  {\r\n",
       "comp usage \"eVehicle  \" as E2  <<(T,blue) part>> [[psysml:9adf20c0-5b39-4c42-b08f-640d792d87e7 ]] {\r\n",
       "##//connections//##\r\n",
       "noname connect engine to frontAxis\r\n",
       "}\r\n",
       "comp usage \"engine  \" as E3  <<(T,blue) part>> [[psysml:f2e708a5-510c-4441-b150-027f47018e69 ]] {\r\n",
       "}\r\n",
       "comp usage \"frontAxis  \" as E4  <<(T,blue) part>> [[psysml:bbd56123-6a30-4357-9da9-b9ce3a64246a ]] {\r\n",
       "##//connections//##\r\n",
       "noname connect housing to frontWheel\r\n",
       "}\r\n",
       "comp usage \"frontWheel[2]  \" as E5  <<(T,blue) part>> [[psysml:48b17f4f-4428-4395-9ee1-eb1e6c90aec6 ]] {\r\n",
       "##//connections//##\r\n",
       "noname connect boltCircle to lugBolt\r\n",
       "}\r\n",
       "comp usage \"<i>lugBolt</i>[6]  \" as E7  <<variation>>\\n <<(T,blue) part>> [[psysml:a4d07c98-1308-466b-8dd5-c02437bfeae0 ]] {\r\n",
       "}\r\n",
       "comp usage \"lugBolt23  \" as E8 <<variant>>\\n <<(T,blue) part>> [[psysml:fac35bb4-73c1-4507-99cd-b959d6ac7296 ]] {\r\n",
       "}\r\n",
       "comp usage \"lugBolt42  \" as E9 <<variant>>\\n <<(T,blue) part>> [[psysml:55211144-65d7-4dda-9975-a36257c4ded8 ]] {\r\n",
       "}\r\n",
       "comp usage \"boltCircle  \" as E10  <<(T,blue) part>> [[psysml:18181183-0c04-48b5-876c-c1aa23d9c3ee ]] {\r\n",
       "}\r\n",
       "comp usage \"housing  \" as E11  <<(T,blue) part>> [[psysml:628355bc-c66c-4c34-ae51-e54f77924dec ]] {\r\n",
       "}\r\n",
       "comp usage \"rearAxis  \" as E12  <<(T,blue) part>> [[psysml:b9600bc7-8230-4d67-bf9e-c97690077338 ]] {\r\n",
       "##//connections//##\r\n",
       "noname connect housing to rearWheel\r\n",
       "}\r\n",
       "comp usage \"rearWheel[2]  \" as E13  <<(T,blue) part>> [[psysml:8eb8f65d-063b-4be6-a1ff-08fd32adac0a ]] {\r\n",
       "##//connections//##\r\n",
       "noname connect boltCircle to lugBolt\r\n",
       "}\r\n",
       "comp usage \"lugBolt[6]  \" as E14  <<(T,blue) part>> [[psysml:58028130-8403-4f96-b867-41322e80b9ab ]] {\r\n",
       "}\r\n",
       "comp usage \"boltCircle  \" as E15  <<(T,blue) part>> [[psysml:ce7457c1-76cd-4587-84f8-d39f92c23b42 ]] {\r\n",
       "}\r\n",
       "comp usage \"housing  \" as E16  <<(T,blue) part>> [[psysml:b47f538a-c67c-4592-835c-bb21cfdaf9cc ]] {\r\n",
       "}\r\n",
       "note as E6\r\n",
       "[[psysml:c02dcd01-139c-4e1e-b743-b039b8081715 @]]- - - - - - - - - - - - - - - - - - - - - - - - - - - - -\r\n",
       "Definition of the variation\r\n",
       "- - - - - - - - - - - - - - - - - - - - - - - - - - - -\r\n",
       "end note \r\n",
       "}\r\n",
       "E2 *- - E3 [[psysml:47ff3034-76d3-4506-8d37-7a9f4f1ffce6 ]] \r\n",
       "E2 *- - E4 [[psysml:63a7d326-cb7c-4ac2-a2e7-554e4131fc5b ]] \r\n",
       "E4 *- - E5 [[psysml:213d22f7-585a-4768-b04e-f2515a9d9a62 ]] \r\n",
       "E5 *- - E7 [[psysml:89d1078c-250a-4fa1-af30-6ee7eccb6e03 ]] \r\n",
       "E7 +- - - E8 [[psysml:931718d4-d810-49f8-ad49-504fadbc2e71 ]] \r\n",
       "E7 +- - - E9 [[psysml:ef414fec-6c31-41a2-8211-e07293fe4eae ]] \r\n",
       "E5 *- - E10 [[psysml:fb2e082e-eac1-4b73-ae81-b0d32c0a6bd7 ]] \r\n",
       "E10 -[thickness=3]- E7 [[psysml:a1516818-1d81-4896-97e3-e4024531a940 ]] \r\n",
       "E4 *- - E11 [[psysml:144e8064-2aa0-424d-b348-8cec505eeaac ]] \r\n",
       "E11 -[thickness=3]- E5 [[psysml:5b4d8d80-89d4-4541-a7b7-dd9a089ae7e8 ]] \r\n",
       "E2 *- - E12 [[psysml:4f168a79-3c2b-407f-aee2-b921aeded0d7 ]] \r\n",
       "E12 *- - E13 [[psysml:77b04efb-3f21-49c6-ba4e-2385f7bf4a3f ]] \r\n",
       "E13 *- - E14 [[psysml:5f81cfa9-cbd6-4d24-87c6-8c4e996dff79 ]] \r\n",
       "E13 *- - E15 [[psysml:8152d32b-4b93-45b0-a3be-14a9cb22b6e6 ]] \r\n",
       "E15 -[thickness=3]- E14 [[psysml:c900d676-3727-4bb5-bb15-8916c7e1c84d ]] \r\n",
       "E12 *- - E16 [[psysml:0f529c15-599e-4ff3-9d6f-97bbda272b24 ]] \r\n",
       "E16 -[thickness=3]- E13 [[psysml:46469a34-1ee8-4ae4-8696-8aeed40a91b1 ]] \r\n",
       "E3 -[thickness=3]- E4 [[psysml:174b8ec6-1217-451a-8485-544b38413412 ]] \r\n",
       "@enduml\r\n",
       "\n",
       "PlantUML version 1.2022.7(Mon Aug 22 17:01:30 UTC 2022)\n",
       "(EPL source distribution)\n",
       "Java Runtime: OpenJDK Runtime Environment\n",
       "JVM: OpenJDK 64-Bit Server VM\n",
       "Default Encoding: UTF-8\n",
       "Language: en\n",
       "Country: null\n",
       "--></g></svg>"
      ]
     },
     "execution_count": 33,
     "metadata": {},
     "output_type": "execute_result"
    }
   ],
   "source": [
    "%viz --view=tree eVehicle_LogicalArchitecture_ExplosionExample"
   ]
  },
  {
   "cell_type": "markdown",
   "metadata": {},
   "source": [
    "A concrete variant configuration of the eVehicle with lug bolts *42* can be simply created by specialization:"
   ]
  },
  {
   "cell_type": "code",
   "execution_count": 34,
   "metadata": {},
   "outputs": [
    {
     "name": "stdout",
     "output_type": "stream",
     "text": [
      "WARNING:Default public import is deprecated; make private if possible (34.sysml line : 3 column : 5)\n"
     ]
    },
    {
     "data": {
      "text/plain": [
       "Package eVehicle_Edition42 (b00475c7-3f11-4842-8d41-558333f4dc84)\n"
      ]
     },
     "execution_count": 34,
     "metadata": {},
     "output_type": "execute_result"
    }
   ],
   "source": [
    "package eVehicle_Edition42 {\n",
    "    \n",
    "    private import eVehicle_LogicalArchitecture_ExplosionExample::*;\n",
    "           \n",
    "    part eVehicle42 :> eVehicle {\n",
    "       part redefines lugBolt42 = frontAxis.frontWheel.lugBolt;\n",
    "    }\n",
    "}\n",
    "    "
   ]
  },
  {
   "cell_type": "markdown",
   "metadata": {},
   "source": [
    "## Modeling requirements<a name=\"sysmlv2modrequirements\"></a>\n",
    "\n",
    "A requirement definition is a special kind of a constraint definition including parameters and required constraints. **Do not forget to run the eVehicleLibrary cell above.**"
   ]
  },
  {
   "cell_type": "code",
   "execution_count": 35,
   "metadata": {},
   "outputs": [
    {
     "name": "stdout",
     "output_type": "stream",
     "text": [
      "WARNING:Default public import is deprecated; make private if possible (35.sysml line : 3 column : 5)\n"
     ]
    },
    {
     "data": {
      "text/plain": [
       "Package eVehicleRequirementDefinitions (dcae0267-892e-4abc-aef4-42ee49484407)\n"
      ]
     },
     "execution_count": 35,
     "metadata": {},
     "output_type": "execute_result"
    }
   ],
   "source": [
    "package eVehicleRequirementDefinitions {\n",
    "    \n",
    "    private import eVehicleLibrary::*;\n",
    "    \n",
    "    requirement def BatteryCapacityReqDef {\n",
    "        doc /* The actual battery capacity shall be greater than or equal\n",
    "             * to the required capacity. */\n",
    "            \n",
    "            attribute capacityActual : BatteryCapacity;\n",
    "            attribute capacityRequired : BatteryCapacity;\n",
    "        \n",
    "            require constraint{ capacityActual <= capacityRequired }\n",
    "    }\n",
    "    \n",
    "    requirement def MaxSpeedReqDef {\n",
    "        doc /* The maximum speed of the vehicle shall be \n",
    "             * not greater than the required maximum speed. */\n",
    "            \n",
    "            attribute maxSpeedVehicle : Speed;\n",
    "            attribute maxSpeedRequired : Speed;\n",
    "        \n",
    "            require constraint{ maxSpeedVehicle <= maxSpeedRequired }\n",
    "    }\n",
    "    \n",
    "}"
   ]
  },
  {
   "cell_type": "code",
   "execution_count": 36,
   "metadata": {},
   "outputs": [
    {
     "data": {
      "image/svg+xml": [
       "<?xml version=\"1.0\" encoding=\"UTF-8\" standalone=\"no\"?><svg xmlns=\"http://www.w3.org/2000/svg\" xmlns:xlink=\"http://www.w3.org/1999/xlink\" contentStyleType=\"text/css\" height=\"274px\" preserveAspectRatio=\"none\" style=\"width:722px;height:274px;background:#FFFFFF;\" version=\"1.1\" viewBox=\"0 0 722 274\" width=\"722px\" zoomAndPan=\"magnify\"><defs/><g><!--MD5=[fbc87193dbaf4d95561dea2c320d4a47]\n",
       "cluster E1--><g id=\"cluster_E1\"><a href=\"psysml:dcae0267-892e-4abc-aef4-42ee49484407\" target=\"_top\" title=\"psysml:dcae0267-892e-4abc-aef4-42ee49484407\" xlink:actuate=\"onRequest\" xlink:href=\"psysml:dcae0267-892e-4abc-aef4-42ee49484407\" xlink:show=\"new\" xlink:title=\"psysml:dcae0267-892e-4abc-aef4-42ee49484407\" xlink:type=\"simple\"><polygon fill=\"none\" points=\"16,6,257.125,6,264.125,28.2969,705,28.2969,705,267,16,267,16,6\" style=\"stroke:#000000;stroke-width:1.5;\"/><line style=\"stroke:#000000;stroke-width:1.5;\" x1=\"16\" x2=\"264.125\" y1=\"28.2969\" y2=\"28.2969\"/><text fill=\"#000000\" font-family=\"sans-serif\" font-size=\"14\" font-weight=\"bold\" lengthAdjust=\"spacing\" textLength=\"235.125\" x=\"20\" y=\"20.9951\">eVehicleRequirementDefinitions</text></a></g><!--MD5=[b4997ac47864f28c2f74865a473b2911]\n",
       "class E2--><a href=\"psysml:41b54f46-cb01-4e72-8aae-8caa3ead198d\" target=\"_top\" title=\"psysml:41b54f46-cb01-4e72-8aae-8caa3ead198d\" xlink:actuate=\"onRequest\" xlink:href=\"psysml:41b54f46-cb01-4e72-8aae-8caa3ead198d\" xlink:show=\"new\" xlink:title=\"psysml:41b54f46-cb01-4e72-8aae-8caa3ead198d\" xlink:type=\"simple\"><g id=\"elem_E2\"><rect fill=\"#FFFFFF\" height=\"209.9\" id=\"E2\" style=\"stroke:#181818;stroke-width:0.5;\" width=\"311\" x=\"377.5\" y=\"41\"/><text fill=\"#000000\" font-family=\"sans-serif\" font-size=\"12\" font-style=\"italic\" lengthAdjust=\"spacing\" textLength=\"119\" x=\"473.5\" y=\"57.1387\">«requirement  def»</text><text fill=\"#000000\" font-family=\"sans-serif\" font-size=\"14\" lengthAdjust=\"spacing\" textLength=\"159\" x=\"453.5\" y=\"72.9639\">BatteryCapacityReqDef</text><line style=\"stroke:#181818;stroke-width:0.5;\" x1=\"378.5\" x2=\"687.5\" y1=\"81.2656\" y2=\"81.2656\"/><text fill=\"#000000\" font-family=\"sans-serif\" font-size=\"14\" lengthAdjust=\"spacing\" textLength=\"295\" x=\"383.5\" y=\"108.7795\">The actual battery capacity shall be greater</text><text fill=\"#000000\" font-family=\"sans-serif\" font-size=\"14\" lengthAdjust=\"spacing\" textLength=\"91\" x=\"383.5\" y=\"125.0764\">than or equal</text><text fill=\"#000000\" font-family=\"sans-serif\" font-size=\"14\" lengthAdjust=\"spacing\" textLength=\"167\" x=\"383.5\" y=\"141.3732\">to the required capacity.</text><text fill=\"#000000\" font-family=\"sans-serif\" font-size=\"14\" font-style=\"italic\" lengthAdjust=\"spacing\" textLength=\"26\" x=\"520\" y=\"93.6123\">doc</text><line style=\"stroke:#181818;stroke-width:1.0;\" x1=\"378.5\" x2=\"687.5\" y1=\"148.675\" y2=\"148.675\"/><text fill=\"#000000\" font-family=\"sans-serif\" font-size=\"14\" lengthAdjust=\"spacing\" textLength=\"214\" x=\"383.5\" y=\"176.1889\">capacityActual: BatteryCapacity</text><text fill=\"#000000\" font-family=\"sans-serif\" font-size=\"14\" lengthAdjust=\"spacing\" textLength=\"235\" x=\"383.5\" y=\"192.4857\">capacityRequired: BatteryCapacity</text><text fill=\"#000000\" font-family=\"sans-serif\" font-size=\"14\" font-style=\"italic\" lengthAdjust=\"spacing\" textLength=\"66\" x=\"500\" y=\"161.0217\">attributes</text><line style=\"stroke:#181818;stroke-width:1.0;\" x1=\"378.5\" x2=\"687.5\" y1=\"199.7875\" y2=\"199.7875\"/><text fill=\"#000000\" font-family=\"sans-serif\" font-size=\"14\" font-weight=\"bold\" lengthAdjust=\"spacing\" textLength=\"52.0625\" x=\"383.5\" y=\"227.3014\">require</text><text fill=\"#000000\" font-family=\"sans-serif\" font-size=\"14\" lengthAdjust=\"spacing\" textLength=\"139\" x=\"439.5625\" y=\"227.3014\">{ capacityActual &lt;=</text><text fill=\"#000000\" font-family=\"sans-serif\" font-size=\"14\" lengthAdjust=\"spacing\" textLength=\"132\" x=\"383.5\" y=\"243.5982\">capacityRequired }</text><text fill=\"#000000\" font-family=\"sans-serif\" font-size=\"14\" font-style=\"italic\" lengthAdjust=\"spacing\" textLength=\"77\" x=\"494.5\" y=\"212.1342\">constraints</text></g></a><!--MD5=[09b614a08d8cba4a07c9adeb5e0fee81]\n",
       "class E3--><a href=\"psysml:14c3ae34-440c-4385-8c2f-32d8b56defd3\" target=\"_top\" title=\"psysml:14c3ae34-440c-4385-8c2f-32d8b56defd3\" xlink:actuate=\"onRequest\" xlink:href=\"psysml:14c3ae34-440c-4385-8c2f-32d8b56defd3\" xlink:show=\"new\" xlink:title=\"psysml:14c3ae34-440c-4385-8c2f-32d8b56defd3\" xlink:type=\"simple\"><g id=\"elem_E3\"><rect fill=\"#FFFFFF\" height=\"209.9\" id=\"E3\" style=\"stroke:#181818;stroke-width:0.5;\" width=\"310\" x=\"32\" y=\"41\"/><text fill=\"#000000\" font-family=\"sans-serif\" font-size=\"12\" font-style=\"italic\" lengthAdjust=\"spacing\" textLength=\"119\" x=\"127.5\" y=\"57.1387\">«requirement  def»</text><text fill=\"#000000\" font-family=\"sans-serif\" font-size=\"14\" lengthAdjust=\"spacing\" textLength=\"124\" x=\"125\" y=\"72.9639\">MaxSpeedReqDef</text><line style=\"stroke:#181818;stroke-width:0.5;\" x1=\"33\" x2=\"341\" y1=\"81.2656\" y2=\"81.2656\"/><text fill=\"#000000\" font-family=\"sans-serif\" font-size=\"14\" lengthAdjust=\"spacing\" textLength=\"298\" x=\"38\" y=\"108.7795\">The maximum speed of the vehicle shall be</text><text fill=\"#000000\" font-family=\"sans-serif\" font-size=\"14\" lengthAdjust=\"spacing\" textLength=\"271\" x=\"38\" y=\"125.0764\">not greater than the required maximum</text><text fill=\"#000000\" font-family=\"sans-serif\" font-size=\"14\" lengthAdjust=\"spacing\" textLength=\"48\" x=\"38\" y=\"141.3732\">speed.</text><text fill=\"#000000\" font-family=\"sans-serif\" font-size=\"14\" font-style=\"italic\" lengthAdjust=\"spacing\" textLength=\"26\" x=\"174\" y=\"93.6123\">doc</text><line style=\"stroke:#181818;stroke-width:1.0;\" x1=\"33\" x2=\"341\" y1=\"148.675\" y2=\"148.675\"/><text fill=\"#000000\" font-family=\"sans-serif\" font-size=\"14\" lengthAdjust=\"spacing\" textLength=\"190\" x=\"38\" y=\"176.1889\">maxSpeedRequired: Speed</text><text fill=\"#000000\" font-family=\"sans-serif\" font-size=\"14\" lengthAdjust=\"spacing\" textLength=\"177\" x=\"38\" y=\"192.4857\">maxSpeedVehicle: Speed</text><text fill=\"#000000\" font-family=\"sans-serif\" font-size=\"14\" font-style=\"italic\" lengthAdjust=\"spacing\" textLength=\"66\" x=\"154\" y=\"161.0217\">attributes</text><line style=\"stroke:#181818;stroke-width:1.0;\" x1=\"33\" x2=\"341\" y1=\"199.7875\" y2=\"199.7875\"/><text fill=\"#000000\" font-family=\"sans-serif\" font-size=\"14\" font-weight=\"bold\" lengthAdjust=\"spacing\" textLength=\"52.0625\" x=\"38\" y=\"227.3014\">require</text><text fill=\"#000000\" font-family=\"sans-serif\" font-size=\"14\" lengthAdjust=\"spacing\" textLength=\"164\" x=\"94.0625\" y=\"227.3014\">{ maxSpeedVehicle &lt;=</text><text fill=\"#000000\" font-family=\"sans-serif\" font-size=\"14\" lengthAdjust=\"spacing\" textLength=\"149\" x=\"38\" y=\"243.5982\">maxSpeedRequired }</text><text fill=\"#000000\" font-family=\"sans-serif\" font-size=\"14\" font-style=\"italic\" lengthAdjust=\"spacing\" textLength=\"77\" x=\"148.5\" y=\"212.1342\">constraints</text></g></a><!--MD5=[47a1eacb1123853c74f8ee6b447bd3cf]\n",
       "@startuml\r\n",
       "skin sysmlbw\r\n",
       "skinparam monochrome true\r\n",
       "skinparam wrapWidth 300\r\n",
       "hide circle\r\n",
       "\r\n",
       "package \"eVehicleRequirementDefinitions\" as E1  [[psysml:dcae0267-892e-4abc-aef4-42ee49484407 ]]  {\r\n",
       "comp def \"BatteryCapacityReqDef\" as E2  <<(T,blue) requirement  def>> [[psysml:41b54f46-cb01-4e72-8aae-8caa3ead198d ]] {\r\n",
       "##//doc//##\r\n",
       "The actual battery capacity shall be greater than or equal\\nto the required capacity.\r\n",
       "- -\r\n",
       "##//attributes//##\r\n",
       "capacityActual: BatteryCapacity\r\n",
       "capacityRequired: BatteryCapacity\r\n",
       "- -\r\n",
       "##//constraints//##\r\n",
       "<b>require</b> { capacityActual <U+003C><U+003D> capacityRequired }\r\n",
       "}\r\n",
       "comp def \"MaxSpeedReqDef\" as E3  <<(T,blue) requirement  def>> [[psysml:14c3ae34-440c-4385-8c2f-32d8b56defd3 ]] {\r\n",
       "##//doc//##\r\n",
       "The maximum speed of the vehicle shall be \\nnot greater than the required maximum speed.\r\n",
       "- -\r\n",
       "##//attributes//##\r\n",
       "maxSpeedRequired: Speed\r\n",
       "maxSpeedVehicle: Speed\r\n",
       "- -\r\n",
       "##//constraints//##\r\n",
       "<b>require</b> { maxSpeedVehicle <U+003C><U+003D> maxSpeedRequired }\r\n",
       "}\r\n",
       "}\r\n",
       "@enduml\r\n",
       "\n",
       "PlantUML version 1.2022.7(Mon Aug 22 17:01:30 UTC 2022)\n",
       "(EPL source distribution)\n",
       "Java Runtime: OpenJDK Runtime Environment\n",
       "JVM: OpenJDK 64-Bit Server VM\n",
       "Default Encoding: UTF-8\n",
       "Language: en\n",
       "Country: null\n",
       "--></g></svg>"
      ]
     },
     "execution_count": 36,
     "metadata": {},
     "output_type": "execute_result"
    }
   ],
   "source": [
    "%viz eVehicleRequirementDefinitions"
   ]
  },
  {
   "cell_type": "markdown",
   "metadata": {},
   "source": [
    "The definition of a requirement provides a reusable structure. Next, the requirement definition *BatteryCapacityRequirementDef* is used to specify a concrete requirement for the *eVehicle*. The requirement *REQ.B.1* redefines the requirement attribute *capacityRequired* with a concrete value.\n",
    "\n",
    "It is possible to define requirement groups to manage a large set of requirements by defining that a requirement requires other requirements. **Do not forget to run the eVehicleRequirementDefinitions and eVehicle_LogicalArchitecture cells above.**"
   ]
  },
  {
   "cell_type": "code",
   "execution_count": 37,
   "metadata": {},
   "outputs": [
    {
     "name": "stderr",
     "output_type": "stream",
     "text": [
      "ERROR:Couldn't resolve reference to Feature 'capacity'. (37.sysml line : 15 column : 57)\n",
      "ERROR:Couldn't resolve reference to Element 'maxSpeed'. (37.sysml line : 20 column : 50)\n",
      "ERROR:Must be a valid feature (37.sysml line : 20 column : 50)\n"
     ]
    },
    {
     "name": "stdout",
     "output_type": "stream",
     "text": [
      "WARNING:Default public import is deprecated; make private if possible (37.sysml line : 3 column : 5)\n",
      "WARNING:Default public import is deprecated; make private if possible (37.sysml line : 4 column : 5)\n"
     ]
    },
    {
     "data": {
      "text/plain": []
     },
     "execution_count": 37,
     "metadata": {},
     "output_type": "execute_result"
    }
   ],
   "source": [
    "package eVehicleRequirements {\n",
    "    \n",
    "    import eVehicleRequirementDefinitions::*;\n",
    "    import eVehicle_LogicalArchitecture::*;\n",
    "    \n",
    "    requirement eVehicleSpecification {\n",
    "        doc /* Requirement Specification of the eVehicle  */\n",
    "\n",
    "        require eVehicleBatteryCapacity;\n",
    "        require eVehicleMaxSpeed;\n",
    "    }\n",
    "    \n",
    "    requirement <'REQ.B.1'> eVehicleBatteryCapacity : BatteryCapacityReqDef {\n",
    "        attribute :>> capacityRequired = 50;\n",
    "        attribute :>> capacityActual = eVehicle.battery.capacity;\n",
    "    }\n",
    "    \n",
    "    requirement <'REQ.V.1'> eVehicleMaxSpeed : MaxSpeedReqDef {\n",
    "        attribute :>> maxSpeedRequired = 140;\n",
    "        attribute :>> maxSpeedVehicle = eVehicle.maxSpeed;\n",
    "    }\n",
    "}"
   ]
  },
  {
   "cell_type": "code",
   "execution_count": 38,
   "metadata": {},
   "outputs": [
    {
     "data": {
      "text/plain": [
       "ERROR:Couldn't resolve reference to Element 'eVehicleRequirements'\n"
      ]
     },
     "execution_count": 38,
     "metadata": {},
     "output_type": "execute_result"
    }
   ],
   "source": [
    "%viz eVehicleRequirements"
   ]
  },
  {
   "cell_type": "markdown",
   "metadata": {},
   "source": [
    "Finally, we model that the eVehicle satisfies the requirement."
   ]
  },
  {
   "cell_type": "code",
   "execution_count": 39,
   "metadata": {},
   "outputs": [
    {
     "name": "stderr",
     "output_type": "stream",
     "text": [
      "ERROR:Couldn't resolve reference to Namespace 'eVehicleRequirements'. (39.sysml line : 4 column : 12)\n",
      "ERROR:Couldn't resolve reference to Feature 'eVehicleSpecification'. (39.sysml line : 7 column : 13)\n",
      "ERROR:Couldn't resolve reference to Element 'eVehicle'. (39.sysml line : 7 column : 38)\n",
      "ERROR:Must reference a constraint. (39.sysml line : 7 column : 13)\n",
      "ERROR:Must reference a requirement. (39.sysml line : 7 column : 13)\n",
      "ERROR:Must be a valid feature (39.sysml line : 7 column : 38)\n"
     ]
    },
    {
     "name": "stdout",
     "output_type": "stream",
     "text": [
      "WARNING:Default public import is deprecated; make private if possible (39.sysml line : 3 column : 5)\n",
      "WARNING:Default public import is deprecated; make private if possible (39.sysml line : 4 column : 5)\n",
      "WARNING:Default public import is deprecated; make private if possible (39.sysml line : 5 column : 5)\n"
     ]
    },
    {
     "data": {
      "text/plain": []
     },
     "execution_count": 39,
     "metadata": {},
     "output_type": "execute_result"
    }
   ],
   "source": [
    "package eVehicle_LogicalArchitecture {\n",
    "    \n",
    "    private import eVehicleLibrary::*;\n",
    "    private import eVehicleRequirements::*;\n",
    "    private import eVehicle_LogicalArchitecture::*;\n",
    "    \n",
    "    satisfy eVehicleSpecification by eVehicle;\n",
    "}"
   ]
  }
 ],
 "metadata": {
  "kernelspec": {
   "display_name": "SysML",
   "language": "sysml",
   "name": "sysml"
  },
  "language_info": {
   "codemirror_mode": "sysml",
   "file_extension": ".sysml",
   "mimetype": "text/x-sysml",
   "name": "SysML",
   "pygments_lexer": "java",
   "version": "1.0.0"
  }
 },
 "nbformat": 4,
 "nbformat_minor": 4
}
