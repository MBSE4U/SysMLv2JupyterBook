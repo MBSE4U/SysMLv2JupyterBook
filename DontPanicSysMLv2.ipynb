{
 "cells": [
  {
   "cell_type": "code",
   "execution_count": 11,
   "id": "ac42b55c",
   "metadata": {},
   "outputs": [
    {
     "data": {
      "text/plain": [
       "PartDefinition BatMobile (2443fc75-8fa7-402e-b671-2994b1240080)\n",
       "InterfaceDefinition PowerInterface (b3cf9585-82bd-497e-b12a-4745eeaf0520)\n",
       "PortDefinition PowerIP (c8202e7d-56fb-4240-84f6-e89b234b2e0d)\n",
       "PartDefinition Wheel (5a9b382d-faab-42ff-b013-3cd01bfaab45)\n",
       "PartDefinition Vehicle (a24b0990-0c51-461e-8a8b-5d0acca8f11f)\n"
      ]
     },
     "execution_count": 11,
     "metadata": {},
     "output_type": "execute_result"
    }
   ],
   "source": [
    "part def BatMobile :> Vehicle {\n",
    "    part wheels[4] : Wheel;\n",
    "    part battery {\n",
    "        port powerPort : PowerIP;\n",
    "    }\n",
    "    part batEngine :>> engine {\n",
    "        port enginePort : ~PowerIP;\n",
    "    }\n",
    "    interface : PowerInterface connect\n",
    "        supplierPort :> battery.powerPort to\n",
    "        consumerPort :> batEngine.enginePort;\n",
    "}\n",
    "interface def PowerInterface {\n",
    "    end supplierPort : PowerIP;\n",
    "    end consumerPort : ~PowerIP;\n",
    "    flow supplierPort.power to consumerPort.power;\n",
    "}\n",
    "port def PowerIP {\n",
    "    out item power;\n",
    "}\n",
    "\n",
    "part def Wheel;\n",
    "part def Vehicle {\n",
    "    part engine;\n",
    "}\n",
    "\n"
   ]
  }
 ],
 "metadata": {
  "kernelspec": {
   "display_name": "SysML",
   "language": "sysml",
   "name": "sysml"
  },
  "language_info": {
   "codemirror_mode": "sysml",
   "file_extension": ".sysml",
   "mimetype": "text/x-sysml",
   "name": "SysML",
   "pygments_lexer": "java",
   "version": "1.0.0"
  }
 },
 "nbformat": 4,
 "nbformat_minor": 5
}
