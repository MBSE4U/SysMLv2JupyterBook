{
 "cells": [
  {
   "cell_type": "markdown",
   "metadata": {},
   "source": [
    "# Structural Modeling with SysML v2\n",
    "\n",
    "## Introduction\n",
    "\n",
    "This notebook provides \n",
    "\n",
    "* a brief introduction of the structural modeling with SysML v2,\n",
    "* with a special focus on what is different compared to SysML v1.\n",
    "\n",
    "It is not (yet) a complete SysML v2 tutorial. It uses the SysML v2 pilot implementation which is not intended as full modeling tool for industrail application. The SysML v2 pilot implementation is developed and used \n",
    "\n",
    "## Example and first steps\n",
    "\n",
    "The simple example system is the following electrical vehicle:\n",
    "\n",
    "![Electrical HSUV](lego-evehicle.jpg)\n",
    "\n",
    "Let's start with a logical architecture of the vehicle. A first major difference compared to SysML is that there is a textual syntax for SysML v2.\n",
    "The following cell shows the textual SysML v2 syntax of the logical architecture. The package statement defines the namespace of our architecture. The architecture itself is a simple hierarchical set of parts."
   ]
  },
  {
   "cell_type": "code",
   "execution_count": 1,
   "metadata": {},
   "outputs": [
    {
     "data": {
      "text/plain": [
       "Package eVehicle_LogicalArchitecture (d091b4ee-bc50-47de-9808-f00e4da7a3df)\n"
      ]
     },
     "execution_count": 1,
     "metadata": {},
     "output_type": "execute_result"
    }
   ],
   "source": [
    "package eVehicle_LogicalArchitecture_v1 {\n",
    "    part eHSUV {    \n",
    "        part body;\n",
    "        part battery;\n",
    "        part engine;\n",
    "        part frontAxis;\n",
    "        part rearAxis;\n",
    "        part frontWheel[2];\n",
    "        part rearWheel[2];\n",
    "    }\n",
    "}"
   ]
  },
  {
   "cell_type": "markdown",
   "metadata": {},
   "source": [
    "Run the cell above to create the real model (it is only a textual visualization). Then you can see the model by running the following code. It provides a deep insight into the model structures:"
   ]
  },
  {
   "cell_type": "code",
   "execution_count": 2,
   "metadata": {},
   "outputs": [
    {
     "data": {
      "text/plain": [
       "Package eVehicle_LogicalArchitecture (d091b4ee-bc50-47de-9808-f00e4da7a3df)\n",
       "  [Membership] PartUsage eHSUV (168b0c81-a21d-420e-a673-361a1003cbb4)\n",
       "    [Subsetting] PartUsage parts (0a76b9f8-236e-4824-a0fa-151cb4b1c00e)\n",
       "    [FeatureMembership] PartUsage body (d638b3bf-b302-44f5-acf3-3eec16f9d973)\n",
       "      [Subsetting] PartUsage parts (0a76b9f8-236e-4824-a0fa-151cb4b1c00e)\n",
       "    [FeatureMembership] PartUsage battery (9dd941de-fcdc-4bdf-9dbb-3a4d6e95f2bb)\n",
       "      [Subsetting] PartUsage parts (0a76b9f8-236e-4824-a0fa-151cb4b1c00e)\n",
       "    [FeatureMembership] PartUsage engine (dbda8302-57e7-4cf2-bcfb-a15d459e6f86)\n",
       "      [Subsetting] PartUsage parts (0a76b9f8-236e-4824-a0fa-151cb4b1c00e)\n",
       "    [FeatureMembership] PartUsage frontAxis (93dc1515-f4f3-4360-94a9-ab61b9826e61)\n",
       "      [Subsetting] PartUsage parts (0a76b9f8-236e-4824-a0fa-151cb4b1c00e)\n",
       "    [FeatureMembership] PartUsage rearAxis (9dbe27b1-1597-46b4-9c3c-3c5bfaa0adf6)\n",
       "      [Subsetting] PartUsage parts (0a76b9f8-236e-4824-a0fa-151cb4b1c00e)\n",
       "    [FeatureMembership] PartUsage frontWheel (9aa0d56e-b22d-4f22-9672-5cded885dc02)\n",
       "      [Subsetting] PartUsage parts (0a76b9f8-236e-4824-a0fa-151cb4b1c00e)\n",
       "      [FeatureMembership] MultiplicityRange (8e92d8d2-439f-4bfc-b674-75cd8f1a1954)\n",
       "        [Redefinition] MultiplicityRange (eb9d8589-1972-42ef-a6a6-f57d8f7611ab)\n",
       "        [FeatureMembership] LiteralInteger (d40d2e83-0484-429d-b02c-5724203ec3dd)\n",
       "          [ReturnParameterMembership] Feature $result (f5cf6699-531b-4130-926f-3d39288d6ded)\n",
       "    [FeatureMembership] PartUsage rearWheel (151b6214-367a-4b98-9742-be49245bfe82)\n",
       "      [Subsetting] PartUsage parts (0a76b9f8-236e-4824-a0fa-151cb4b1c00e)\n",
       "      [FeatureMembership] MultiplicityRange (6b9d20ee-3423-487e-acbe-2e72bd8e03c7)\n",
       "        [Redefinition] MultiplicityRange (eb9d8589-1972-42ef-a6a6-f57d8f7611ab)\n",
       "        [FeatureMembership] LiteralInteger (70257cae-2ead-4fca-bef3-06e37dd8eed6)\n",
       "          [ReturnParameterMembership] Feature $result (f5f9ff18-caf2-4dba-9a28-db89d6ed0bca)\n"
      ]
     },
     "execution_count": 2,
     "metadata": {},
     "output_type": "execute_result"
    }
   ],
   "source": [
    "%show eVehicle_LogicalArchitecture_v1"
   ]
  },
  {
   "cell_type": "markdown",
   "metadata": {},
   "source": [
    "Of course, more convenient for the common model user is the graphical notation which is depicted when you executed the following cell."
   ]
  },
  {
   "cell_type": "code",
   "execution_count": 3,
   "metadata": {},
   "outputs": [
    {
     "data": {
      "image/svg+xml": [
       "<?xml version=\"1.0\" encoding=\"UTF-8\" standalone=\"no\"?><svg xmlns=\"http://www.w3.org/2000/svg\" xmlns:xlink=\"http://www.w3.org/1999/xlink\" contentScriptType=\"application/ecmascript\" contentStyleType=\"text/css\" height=\"226px\" preserveAspectRatio=\"none\" style=\"width:825px;height:226px;\" version=\"1.1\" viewBox=\"0 0 825 226\" width=\"825px\" zoomAndPan=\"magnify\"><defs/><g><!--MD5=[fbc87193dbaf4d95561dea2c320d4a47]\n",
       "cluster E1--><polygon fill=\"#FFFFFF\" points=\"16,6,228,6,235,29.6094,803,29.6094,803,214,16,214,16,6\" style=\"stroke: #000000; stroke-width: 1.5;\"/><line style=\"stroke: #000000; stroke-width: 1.5;\" x1=\"16\" x2=\"235\" y1=\"29.6094\" y2=\"29.6094\"/><text fill=\"#000000\" font-family=\"sans-serif\" font-size=\"14\" font-weight=\"bold\" lengthAdjust=\"spacingAndGlyphs\" textLength=\"206\" x=\"20\" y=\"22.5332\">eVehicle_LogicalArchitecture</text><!--MD5=[b4997ac47864f28c2f74865a473b2911]\n",
       "class E2--><rect fill=\"#FFFFFF\" height=\"48.1875\" id=\"E2\" rx=\"10\" ry=\"10\" style=\"stroke: #383838; stroke-width: 1.5;\" width=\"74\" x=\"342\" y=\"42\"/><text fill=\"#000000\" font-family=\"sans-serif\" font-size=\"12\" font-style=\"italic\" lengthAdjust=\"spacingAndGlyphs\" textLength=\"35\" x=\"361.5\" y=\"59.457\">«part»</text><text fill=\"#000000\" font-family=\"sans-serif\" font-size=\"12\" lengthAdjust=\"spacingAndGlyphs\" textLength=\"68\" x=\"345\" y=\"74.5508\">eHSUV: Part</text><line style=\"stroke: #383838; stroke-width: 1.5;\" x1=\"343\" x2=\"415\" y1=\"82.1875\" y2=\"82.1875\"/><!--MD5=[09b614a08d8cba4a07c9adeb5e0fee81]\n",
       "class E3--><rect fill=\"#FFFFFF\" height=\"48.1875\" id=\"E3\" rx=\"10\" ry=\"10\" style=\"stroke: #383838; stroke-width: 1.5;\" width=\"60\" x=\"32\" y=\"150\"/><text fill=\"#000000\" font-family=\"sans-serif\" font-size=\"12\" font-style=\"italic\" lengthAdjust=\"spacingAndGlyphs\" textLength=\"35\" x=\"44.5\" y=\"167.457\">«part»</text><text fill=\"#000000\" font-family=\"sans-serif\" font-size=\"12\" lengthAdjust=\"spacingAndGlyphs\" textLength=\"54\" x=\"35\" y=\"182.5508\">body: Part</text><line style=\"stroke: #383838; stroke-width: 1.5;\" x1=\"33\" x2=\"91\" y1=\"190.1875\" y2=\"190.1875\"/><!--MD5=[ebbe1d658d1005bcc118a6aa81145e00]\n",
       "class E4--><rect fill=\"#FFFFFF\" height=\"48.1875\" id=\"E4\" rx=\"10\" ry=\"10\" style=\"stroke: #383838; stroke-width: 1.5;\" width=\"70\" x=\"127\" y=\"150\"/><text fill=\"#000000\" font-family=\"sans-serif\" font-size=\"12\" font-style=\"italic\" lengthAdjust=\"spacingAndGlyphs\" textLength=\"35\" x=\"144.5\" y=\"167.457\">«part»</text><text fill=\"#000000\" font-family=\"sans-serif\" font-size=\"12\" lengthAdjust=\"spacingAndGlyphs\" textLength=\"64\" x=\"130\" y=\"182.5508\">battery: Part</text><line style=\"stroke: #383838; stroke-width: 1.5;\" x1=\"128\" x2=\"196\" y1=\"190.1875\" y2=\"190.1875\"/><!--MD5=[270fce915f116d4de14055a7c1d9a0f3]\n",
       "class E5--><rect fill=\"#FFFFFF\" height=\"48.1875\" id=\"E5\" rx=\"10\" ry=\"10\" style=\"stroke: #383838; stroke-width: 1.5;\" width=\"72\" x=\"232\" y=\"150\"/><text fill=\"#000000\" font-family=\"sans-serif\" font-size=\"12\" font-style=\"italic\" lengthAdjust=\"spacingAndGlyphs\" textLength=\"35\" x=\"250.5\" y=\"167.457\">«part»</text><text fill=\"#000000\" font-family=\"sans-serif\" font-size=\"12\" lengthAdjust=\"spacingAndGlyphs\" textLength=\"66\" x=\"235\" y=\"182.5508\">engine: Part</text><line style=\"stroke: #383838; stroke-width: 1.5;\" x1=\"233\" x2=\"303\" y1=\"190.1875\" y2=\"190.1875\"/><!--MD5=[60a26617385b1d2d0262a64233df1f8d]\n",
       "class E6--><rect fill=\"#FFFFFF\" height=\"48.1875\" id=\"E6\" rx=\"10\" ry=\"10\" style=\"stroke: #383838; stroke-width: 1.5;\" width=\"80\" x=\"339\" y=\"150\"/><text fill=\"#000000\" font-family=\"sans-serif\" font-size=\"12\" font-style=\"italic\" lengthAdjust=\"spacingAndGlyphs\" textLength=\"35\" x=\"361.5\" y=\"167.457\">«part»</text><text fill=\"#000000\" font-family=\"sans-serif\" font-size=\"12\" lengthAdjust=\"spacingAndGlyphs\" textLength=\"74\" x=\"342\" y=\"182.5508\">frontAxis: Part</text><line style=\"stroke: #383838; stroke-width: 1.5;\" x1=\"340\" x2=\"418\" y1=\"190.1875\" y2=\"190.1875\"/><!--MD5=[2156ba9850f5573cc1fc38a6a4b2f02b]\n",
       "class E7--><rect fill=\"#FFFFFF\" height=\"48.1875\" id=\"E7\" rx=\"10\" ry=\"10\" style=\"stroke: #383838; stroke-width: 1.5;\" width=\"78\" x=\"454\" y=\"150\"/><text fill=\"#000000\" font-family=\"sans-serif\" font-size=\"12\" font-style=\"italic\" lengthAdjust=\"spacingAndGlyphs\" textLength=\"35\" x=\"475.5\" y=\"167.457\">«part»</text><text fill=\"#000000\" font-family=\"sans-serif\" font-size=\"12\" lengthAdjust=\"spacingAndGlyphs\" textLength=\"72\" x=\"457\" y=\"182.5508\">rearAxis: Part</text><line style=\"stroke: #383838; stroke-width: 1.5;\" x1=\"455\" x2=\"531\" y1=\"190.1875\" y2=\"190.1875\"/><!--MD5=[b9389687b975829384b498ac4b7476b2]\n",
       "class E8--><rect fill=\"#FFFFFF\" height=\"48.1875\" id=\"E8\" rx=\"10\" ry=\"10\" style=\"stroke: #383838; stroke-width: 1.5;\" width=\"93\" x=\"567.5\" y=\"150\"/><text fill=\"#000000\" font-family=\"sans-serif\" font-size=\"12\" font-style=\"italic\" lengthAdjust=\"spacingAndGlyphs\" textLength=\"35\" x=\"596.5\" y=\"167.457\">«part»</text><text fill=\"#000000\" font-family=\"sans-serif\" font-size=\"12\" lengthAdjust=\"spacingAndGlyphs\" textLength=\"87\" x=\"570.5\" y=\"182.5508\">frontWheel: Part</text><line style=\"stroke: #383838; stroke-width: 1.5;\" x1=\"568.5\" x2=\"659.5\" y1=\"190.1875\" y2=\"190.1875\"/><!--MD5=[fd4143e9d270a159db93a4ea2a975926]\n",
       "class E9--><rect fill=\"#FFFFFF\" height=\"48.1875\" id=\"E9\" rx=\"10\" ry=\"10\" style=\"stroke: #383838; stroke-width: 1.5;\" width=\"91\" x=\"695.5\" y=\"150\"/><text fill=\"#000000\" font-family=\"sans-serif\" font-size=\"12\" font-style=\"italic\" lengthAdjust=\"spacingAndGlyphs\" textLength=\"35\" x=\"723.5\" y=\"167.457\">«part»</text><text fill=\"#000000\" font-family=\"sans-serif\" font-size=\"12\" lengthAdjust=\"spacingAndGlyphs\" textLength=\"85\" x=\"698.5\" y=\"182.5508\">rearWheel: Part</text><line style=\"stroke: #383838; stroke-width: 1.5;\" x1=\"696.5\" x2=\"785.5\" y1=\"190.1875\" y2=\"190.1875\"/><!--MD5=[209b3feb70ccb6233bfe1053d122c12c]\n",
       "reverse link E2 to E3--><path d=\"M329.106,80.016 C274.527,94.801 184.841,120.708 110,150 C104.149,152.2902 98.019,154.9865 92.1719,157.7116 \" fill=\"none\" id=\"E2&lt;-E3\" style=\"stroke: #383838; stroke-width: 1.0;\"/><polygon fill=\"#383838\" points=\"341.862,76.59,335.0299,74.2828,330.2725,79.702,337.1046,82.0091,341.862,76.59\" style=\"stroke: #383838; stroke-width: 1.0;\"/><!--MD5=[9618e71518536f8baf3342ff6fdab317]\n",
       "reverse link E2 to E4--><path d=\"M329.953,90.959 C289.486,110.726 233.058,138.2897 197.024,155.8915 \" fill=\"none\" id=\"E2&lt;-E4\" style=\"stroke: #383838; stroke-width: 1.0;\"/><polygon fill=\"#383838\" points=\"341.696,85.222,334.5491,84.2622,330.9143,90.4902,338.0612,91.45,341.696,85.222\" style=\"stroke: #383838; stroke-width: 1.0;\"/><!--MD5=[4e1a83fab71cdb913c109063314ae896]\n",
       "reverse link E2 to E5--><path d=\"M345.314,99.168 C328.265,115.45 307.949,134.8509 292.422,149.6784 \" fill=\"none\" id=\"E2&lt;-E5\" style=\"stroke: #383838; stroke-width: 1.0;\"/><polygon fill=\"#383838\" points=\"354.915,90,347.8132,91.2506,346.2361,98.2872,353.338,97.0365,354.915,90\" style=\"stroke: #383838; stroke-width: 1.0;\"/><!--MD5=[ce036f65110ae2351ccce5a81dc2e928]\n",
       "reverse link E2 to E6--><path d=\"M379,103.338 C379,118.681 379,136.098 379,149.6784 \" fill=\"none\" id=\"E2&lt;-E6\" style=\"stroke: #383838; stroke-width: 1.0;\"/><polygon fill=\"#383838\" points=\"379,90,375,96,379,102,383,96,379,90\" style=\"stroke: #383838; stroke-width: 1.0;\"/><!--MD5=[1c72b32696d764168c30777981ec3f66]\n",
       "reverse link E2 to E7--><path d=\"M413.596,99.168 C431.106,115.45 451.972,134.8509 467.918,149.6784 \" fill=\"none\" id=\"E2&lt;-E7\" style=\"stroke: #383838; stroke-width: 1.0;\"/><polygon fill=\"#383838\" points=\"403.736,90,405.4059,97.0151,412.5236,98.1718,410.8537,91.1567,403.736,90\" style=\"stroke: #383838; stroke-width: 1.0;\"/><!--MD5=[65f962d72b3a6bed1ede4f3c867e43a4]\n",
       "reverse link E2 to E8--><path d=\"M428.092,89.143 C469.024,107.607 526.951,133.7354 567.225,151.9013 \" fill=\"none\" id=\"E2&lt;-E8\" style=\"stroke: #383838; stroke-width: 1.0;\"/><polygon fill=\"#383838\" points=\"416.236,83.796,420.0604,89.9094,427.1745,88.7305,423.3501,82.6171,416.236,83.796\" style=\"stroke: #383838; stroke-width: 1.0;\"/><text fill=\"#000000\" font-family=\"sans-serif\" font-size=\"13\" lengthAdjust=\"spacingAndGlyphs\" textLength=\"7\" x=\"552.5266\" y=\"144.8001\">2</text><!--MD5=[4a91eb351f2fb42055d99b719d3dd418]\n",
       "reverse link E2 to E9--><path d=\"M428.874,79.552 C488.523,94.861 591.202,122.157 678,150 C683.654,151.8138 689.556,153.8178 695.383,155.8641 \" fill=\"none\" id=\"E2&lt;-E9\" style=\"stroke: #383838; stroke-width: 1.0;\"/><polygon fill=\"#383838\" points=\"416.104,76.289,420.9269,81.6499,427.7304,79.2599,422.9075,73.899,416.104,76.289\" style=\"stroke: #383838; stroke-width: 1.0;\"/><text fill=\"#000000\" font-family=\"sans-serif\" font-size=\"13\" lengthAdjust=\"spacingAndGlyphs\" textLength=\"7\" x=\"680.555\" y=\"149.2069\">2</text><!--MD5=[55a242de3e02fd63bc101ca3301fd10e]\n",
       "@startuml\r\n",
       "skinparam monochrome true\r\n",
       "skinparam classbackgroundcolor white\r\n",
       "skinparam shadowing false\r\n",
       "skinparam wrapWidth 300\r\n",
       "hide circle\r\n",
       "\r\n",
       "package \"eVehicle_LogicalArchitecture\" as E1   {\r\n",
       "comp usage \"eHSUV: Part\" as E2  <<(T,blue)part>> {\r\n",
       "}\r\n",
       "comp usage \"body: Part\" as E3  <<(T,blue)part>> {\r\n",
       "}\r\n",
       "comp usage \"battery: Part\" as E4  <<(T,blue)part>> {\r\n",
       "}\r\n",
       "comp usage \"engine: Part\" as E5  <<(T,blue)part>> {\r\n",
       "}\r\n",
       "comp usage \"frontAxis: Part\" as E6  <<(T,blue)part>> {\r\n",
       "}\r\n",
       "comp usage \"rearAxis: Part\" as E7  <<(T,blue)part>> {\r\n",
       "}\r\n",
       "comp usage \"frontWheel: Part\" as E8  <<(T,blue)part>> {\r\n",
       "}\r\n",
       "comp usage \"rearWheel: Part\" as E9  <<(T,blue)part>> {\r\n",
       "}\r\n",
       "E2 *- - E3\r\n",
       "E2 *- - E4\r\n",
       "E2 *- - E5\r\n",
       "E2 *- - E6\r\n",
       "E2 *- - E7\r\n",
       "E2 *- - \"2\"E8\r\n",
       "E2 *- - \"2\"E9\r\n",
       "}\r\n",
       "@enduml\r\n",
       "\n",
       "PlantUML version 1.2020.13(Sat Jun 13 14:26:38 CEST 2020)\n",
       "(EPL source distribution)\n",
       "Java Runtime: OpenJDK Runtime Environment\n",
       "JVM: OpenJDK 64-Bit Server VM\n",
       "Default Encoding: Cp1252\n",
       "Language: en\n",
       "Country: US\n",
       "--></g></svg>"
      ]
     },
     "execution_count": 3,
     "metadata": {},
     "output_type": "execute_result"
    }
   ],
   "source": [
    "%viz eVehicle_LogicalArchitecture_v1"
   ]
  },
  {
   "cell_type": "markdown",
   "metadata": {},
   "source": [
    "The diagram is only a view, and not an editor. A graphical editor is not provided in the pilot implementation. Future SysML v2 modeling tools will certainly offer graphical editors."
   ]
  },
  {
   "cell_type": "markdown",
   "metadata": {},
   "source": [
    "### Changes to SysML v1\n",
    "\n",
    "SysML v2 is a complete new language with a different foundation than SysML v1. Therefore, there are plenty of differences. Here, we highlight only the changes that are most relevant to the modeler.\n",
    "\n",
    "If I had modeled the eHSUV in SysML v1, I would have had to first define blocks and then part properties whose types are the blocks.\n",
    "\n",
    "![eVehicle in SysML v1](evehicle-logical-architecture-sysmlv1.jpg)\n"
   ]
  },
  {
   "cell_type": "markdown",
   "metadata": {},
   "source": [
    "In SysML v2, you can define parts without types. However, you could define types if you like. A type can be used to reuse definitions. I extend our example and add a property to the wheel to specify the size. The type of the attribute is Integer. I skip units for now."
   ]
  },
  {
   "cell_type": "code",
   "execution_count": 5,
   "metadata": {},
   "outputs": [
    {
     "data": {
      "text/plain": [
       "Package eVehicle_LogicalArchitecture_v2 (23aa141d-0426-4e99-8f5f-c49c7e70f898)\n"
      ]
     },
     "execution_count": 5,
     "metadata": {},
     "output_type": "execute_result"
    }
   ],
   "source": [
    "package eVehicle_LogicalArchitecture_v2 {\n",
    "    \n",
    "    import ScalarValues::Integer;\n",
    "    \n",
    "    part eHSUV {    \n",
    "        part body;\n",
    "        part battery;\n",
    "        part engine;\n",
    "        part frontAxis;\n",
    "        part rearAxis;\n",
    "        part frontWheel[2] {\n",
    "            attribute size : Integer;\n",
    "        }\n",
    "        part rearWheel[2] {\n",
    "            attribute size : Integer;\n",
    "        }\n",
    "    }\n",
    "}"
   ]
  },
  {
   "cell_type": "markdown",
   "metadata": {},
   "source": [
    "Same procedure as above: run the cell, and show and visualize the model:"
   ]
  },
  {
   "cell_type": "code",
   "execution_count": 6,
   "metadata": {},
   "outputs": [
    {
     "data": {
      "text/plain": [
       "Package eVehicle_LogicalArchitecture_v2 (23aa141d-0426-4e99-8f5f-c49c7e70f898)\n",
       "  [Membership Integer] DataType Integer (399bfb58-0ee2-4bd9-91d7-08dfbf12ed3e)\n",
       "  [Membership] PartUsage eHSUV (3d274410-202e-460f-923c-fbe9cde9ff5f)\n",
       "    [Subsetting] PartUsage parts (0a76b9f8-236e-4824-a0fa-151cb4b1c00e)\n",
       "    [FeatureMembership] PartUsage body (35a37a67-2764-4b83-be71-f2e4ce72c3af)\n",
       "      [Subsetting] PartUsage parts (0a76b9f8-236e-4824-a0fa-151cb4b1c00e)\n",
       "    [FeatureMembership] PartUsage battery (ff08b67b-940c-4a1b-a898-e11ed4daca10)\n",
       "      [Subsetting] PartUsage parts (0a76b9f8-236e-4824-a0fa-151cb4b1c00e)\n",
       "    [FeatureMembership] PartUsage engine (763ec61e-215f-4970-9df3-817d0caee914)\n",
       "      [Subsetting] PartUsage parts (0a76b9f8-236e-4824-a0fa-151cb4b1c00e)\n",
       "    [FeatureMembership] PartUsage frontAxis (c40e9283-b182-4523-b301-8d4d36476a88)\n",
       "      [Subsetting] PartUsage parts (0a76b9f8-236e-4824-a0fa-151cb4b1c00e)\n",
       "    [FeatureMembership] PartUsage rearAxis (84bbe077-727a-4972-9fdd-6efe066ca7d6)\n",
       "      [Subsetting] PartUsage parts (0a76b9f8-236e-4824-a0fa-151cb4b1c00e)\n",
       "    [FeatureMembership] PartUsage frontWheel (5e007756-5621-4b7b-8d62-c590e9e39da4)\n",
       "      [Subsetting] PartUsage parts (0a76b9f8-236e-4824-a0fa-151cb4b1c00e)\n",
       "      [FeatureMembership] MultiplicityRange (34b3d742-e45b-44a7-967c-7bcc34e8ebfc)\n",
       "        [Redefinition] MultiplicityRange (eb9d8589-1972-42ef-a6a6-f57d8f7611ab)\n",
       "        [FeatureMembership] LiteralInteger (c9a29931-80be-406a-ae4c-b50f90bdefe8)\n",
       "          [ReturnParameterMembership] Feature $result (36323656-8318-4e14-ac87-25d85bc9e70e)\n",
       "      [FeatureMembership] AttributeUsage size (cc1c1513-832e-46d1-92ec-04c0b4fe1e05)\n",
       "        [FeatureTyping] DataType Integer (399bfb58-0ee2-4bd9-91d7-08dfbf12ed3e)\n",
       "        [Subsetting] Feature dataValues (f3a38334-e242-43df-9e14-4ff29c657bae)\n",
       "    [FeatureMembership] PartUsage rearWheel (8fccbb97-8afe-41a3-be34-368f305ce268)\n",
       "      [Subsetting] PartUsage parts (0a76b9f8-236e-4824-a0fa-151cb4b1c00e)\n",
       "      [FeatureMembership] MultiplicityRange (11851774-e2c6-4713-a4cd-6db6251a7648)\n",
       "        [Redefinition] MultiplicityRange (eb9d8589-1972-42ef-a6a6-f57d8f7611ab)\n",
       "        [FeatureMembership] LiteralInteger (276fb9e3-a5a7-4e09-84cb-788cb1d59dbd)\n",
       "          [ReturnParameterMembership] Feature $result (858a6e35-d51e-4b4b-904a-252e1414164b)\n",
       "      [FeatureMembership] AttributeUsage size (d9ec7ffa-f90f-4c84-9f43-dd15a0e0515a)\n",
       "        [FeatureTyping] DataType Integer (399bfb58-0ee2-4bd9-91d7-08dfbf12ed3e)\n",
       "        [Subsetting] Feature dataValues (f3a38334-e242-43df-9e14-4ff29c657bae)\n"
      ]
     },
     "execution_count": 6,
     "metadata": {},
     "output_type": "execute_result"
    }
   ],
   "source": [
    "%show eVehicle_LogicalArchitecture_v2"
   ]
  },
  {
   "cell_type": "code",
   "execution_count": 7,
   "metadata": {},
   "outputs": [
    {
     "data": {
      "image/svg+xml": [
       "<?xml version=\"1.0\" encoding=\"UTF-8\" standalone=\"no\"?><svg xmlns=\"http://www.w3.org/2000/svg\" xmlns:xlink=\"http://www.w3.org/1999/xlink\" contentScriptType=\"application/ecmascript\" contentStyleType=\"text/css\" height=\"240px\" preserveAspectRatio=\"none\" style=\"width:825px;height:240px;\" version=\"1.1\" viewBox=\"0 0 825 240\" width=\"825px\" zoomAndPan=\"magnify\"><defs/><g><!--MD5=[fbc87193dbaf4d95561dea2c320d4a47]\n",
       "cluster E1--><polygon fill=\"#FFFFFF\" points=\"16,6,253,6,260,29.6094,803,29.6094,803,228,16,228,16,6\" style=\"stroke: #000000; stroke-width: 1.5;\"/><line style=\"stroke: #000000; stroke-width: 1.5;\" x1=\"16\" x2=\"260\" y1=\"29.6094\" y2=\"29.6094\"/><text fill=\"#000000\" font-family=\"sans-serif\" font-size=\"14\" font-weight=\"bold\" lengthAdjust=\"spacingAndGlyphs\" textLength=\"231\" x=\"20\" y=\"22.5332\">eVehicle_LogicalArchitecture_v2</text><!--MD5=[b4997ac47864f28c2f74865a473b2911]\n",
       "class E2--><rect fill=\"#FFFFFF\" height=\"48.1875\" id=\"E2\" style=\"stroke: #383838; stroke-width: 1.5;\" width=\"67\" x=\"585.5\" y=\"42\"/><text fill=\"#000000\" font-family=\"sans-serif\" font-size=\"12\" font-style=\"italic\" lengthAdjust=\"spacingAndGlyphs\" textLength=\"65\" x=\"586.5\" y=\"59.457\">«dataType»</text><text fill=\"#000000\" font-family=\"sans-serif\" font-size=\"12\" lengthAdjust=\"spacingAndGlyphs\" textLength=\"38\" x=\"600\" y=\"74.5508\">Integer</text><line style=\"stroke: #383838; stroke-width: 1.5;\" x1=\"586.5\" x2=\"651.5\" y1=\"82.1875\" y2=\"82.1875\"/><!--MD5=[09b614a08d8cba4a07c9adeb5e0fee81]\n",
       "class E3--><rect fill=\"#FFFFFF\" height=\"48.1875\" id=\"E3\" rx=\"10\" ry=\"10\" style=\"stroke: #383838; stroke-width: 1.5;\" width=\"74\" x=\"342\" y=\"42\"/><text fill=\"#000000\" font-family=\"sans-serif\" font-size=\"12\" font-style=\"italic\" lengthAdjust=\"spacingAndGlyphs\" textLength=\"35\" x=\"361.5\" y=\"59.457\">«part»</text><text fill=\"#000000\" font-family=\"sans-serif\" font-size=\"12\" lengthAdjust=\"spacingAndGlyphs\" textLength=\"68\" x=\"345\" y=\"74.5508\">eHSUV: Part</text><line style=\"stroke: #383838; stroke-width: 1.5;\" x1=\"343\" x2=\"415\" y1=\"82.1875\" y2=\"82.1875\"/><!--MD5=[ebbe1d658d1005bcc118a6aa81145e00]\n",
       "class E4--><rect fill=\"#FFFFFF\" height=\"48.1875\" id=\"E4\" rx=\"10\" ry=\"10\" style=\"stroke: #383838; stroke-width: 1.5;\" width=\"60\" x=\"32\" y=\"157\"/><text fill=\"#000000\" font-family=\"sans-serif\" font-size=\"12\" font-style=\"italic\" lengthAdjust=\"spacingAndGlyphs\" textLength=\"35\" x=\"44.5\" y=\"174.457\">«part»</text><text fill=\"#000000\" font-family=\"sans-serif\" font-size=\"12\" lengthAdjust=\"spacingAndGlyphs\" textLength=\"54\" x=\"35\" y=\"189.5508\">body: Part</text><line style=\"stroke: #383838; stroke-width: 1.5;\" x1=\"33\" x2=\"91\" y1=\"197.1875\" y2=\"197.1875\"/><!--MD5=[270fce915f116d4de14055a7c1d9a0f3]\n",
       "class E5--><rect fill=\"#FFFFFF\" height=\"48.1875\" id=\"E5\" rx=\"10\" ry=\"10\" style=\"stroke: #383838; stroke-width: 1.5;\" width=\"70\" x=\"127\" y=\"157\"/><text fill=\"#000000\" font-family=\"sans-serif\" font-size=\"12\" font-style=\"italic\" lengthAdjust=\"spacingAndGlyphs\" textLength=\"35\" x=\"144.5\" y=\"174.457\">«part»</text><text fill=\"#000000\" font-family=\"sans-serif\" font-size=\"12\" lengthAdjust=\"spacingAndGlyphs\" textLength=\"64\" x=\"130\" y=\"189.5508\">battery: Part</text><line style=\"stroke: #383838; stroke-width: 1.5;\" x1=\"128\" x2=\"196\" y1=\"197.1875\" y2=\"197.1875\"/><!--MD5=[60a26617385b1d2d0262a64233df1f8d]\n",
       "class E6--><rect fill=\"#FFFFFF\" height=\"48.1875\" id=\"E6\" rx=\"10\" ry=\"10\" style=\"stroke: #383838; stroke-width: 1.5;\" width=\"72\" x=\"232\" y=\"157\"/><text fill=\"#000000\" font-family=\"sans-serif\" font-size=\"12\" font-style=\"italic\" lengthAdjust=\"spacingAndGlyphs\" textLength=\"35\" x=\"250.5\" y=\"174.457\">«part»</text><text fill=\"#000000\" font-family=\"sans-serif\" font-size=\"12\" lengthAdjust=\"spacingAndGlyphs\" textLength=\"66\" x=\"235\" y=\"189.5508\">engine: Part</text><line style=\"stroke: #383838; stroke-width: 1.5;\" x1=\"233\" x2=\"303\" y1=\"197.1875\" y2=\"197.1875\"/><!--MD5=[2156ba9850f5573cc1fc38a6a4b2f02b]\n",
       "class E7--><rect fill=\"#FFFFFF\" height=\"48.1875\" id=\"E7\" rx=\"10\" ry=\"10\" style=\"stroke: #383838; stroke-width: 1.5;\" width=\"80\" x=\"339\" y=\"157\"/><text fill=\"#000000\" font-family=\"sans-serif\" font-size=\"12\" font-style=\"italic\" lengthAdjust=\"spacingAndGlyphs\" textLength=\"35\" x=\"361.5\" y=\"174.457\">«part»</text><text fill=\"#000000\" font-family=\"sans-serif\" font-size=\"12\" lengthAdjust=\"spacingAndGlyphs\" textLength=\"74\" x=\"342\" y=\"189.5508\">frontAxis: Part</text><line style=\"stroke: #383838; stroke-width: 1.5;\" x1=\"340\" x2=\"418\" y1=\"197.1875\" y2=\"197.1875\"/><!--MD5=[b9389687b975829384b498ac4b7476b2]\n",
       "class E8--><rect fill=\"#FFFFFF\" height=\"48.1875\" id=\"E8\" rx=\"10\" ry=\"10\" style=\"stroke: #383838; stroke-width: 1.5;\" width=\"78\" x=\"454\" y=\"157\"/><text fill=\"#000000\" font-family=\"sans-serif\" font-size=\"12\" font-style=\"italic\" lengthAdjust=\"spacingAndGlyphs\" textLength=\"35\" x=\"475.5\" y=\"174.457\">«part»</text><text fill=\"#000000\" font-family=\"sans-serif\" font-size=\"12\" lengthAdjust=\"spacingAndGlyphs\" textLength=\"72\" x=\"457\" y=\"189.5508\">rearAxis: Part</text><line style=\"stroke: #383838; stroke-width: 1.5;\" x1=\"455\" x2=\"531\" y1=\"197.1875\" y2=\"197.1875\"/><!--MD5=[fd4143e9d270a159db93a4ea2a975926]\n",
       "class E9--><rect fill=\"#FFFFFF\" height=\"62.0234\" id=\"E9\" rx=\"10\" ry=\"10\" style=\"stroke: #383838; stroke-width: 1.5;\" width=\"93\" x=\"567.5\" y=\"150\"/><text fill=\"#000000\" font-family=\"sans-serif\" font-size=\"12\" font-style=\"italic\" lengthAdjust=\"spacingAndGlyphs\" textLength=\"35\" x=\"596.5\" y=\"167.457\">«part»</text><text fill=\"#000000\" font-family=\"sans-serif\" font-size=\"12\" lengthAdjust=\"spacingAndGlyphs\" textLength=\"87\" x=\"570.5\" y=\"182.5508\">frontWheel: Part</text><line style=\"stroke: #383838; stroke-width: 1.5;\" x1=\"568.5\" x2=\"659.5\" y1=\"190.1875\" y2=\"190.1875\"/><text fill=\"#000000\" font-family=\"sans-serif\" font-size=\"11\" lengthAdjust=\"spacingAndGlyphs\" textLength=\"59\" x=\"573.5\" y=\"205.6064\">size: Integer</text><!--MD5=[96f4274e9e20536e775497830990834d]\n",
       "class E10--><rect fill=\"#FFFFFF\" height=\"62.0234\" id=\"E10\" rx=\"10\" ry=\"10\" style=\"stroke: #383838; stroke-width: 1.5;\" width=\"91\" x=\"695.5\" y=\"150\"/><text fill=\"#000000\" font-family=\"sans-serif\" font-size=\"12\" font-style=\"italic\" lengthAdjust=\"spacingAndGlyphs\" textLength=\"35\" x=\"723.5\" y=\"167.457\">«part»</text><text fill=\"#000000\" font-family=\"sans-serif\" font-size=\"12\" lengthAdjust=\"spacingAndGlyphs\" textLength=\"85\" x=\"698.5\" y=\"182.5508\">rearWheel: Part</text><line style=\"stroke: #383838; stroke-width: 1.5;\" x1=\"696.5\" x2=\"785.5\" y1=\"190.1875\" y2=\"190.1875\"/><text fill=\"#000000\" font-family=\"sans-serif\" font-size=\"11\" lengthAdjust=\"spacingAndGlyphs\" textLength=\"59\" x=\"701.5\" y=\"205.6064\">size: Integer</text><!--MD5=[4672eba38e49728da53d11aeb285b987]\n",
       "reverse link E3 to E4--><path d=\"M328.897,78.317 C273.78,91.705 183.293,116.48 110,150 C104.012,152.7384 97.871,156.0983 92.0666,159.5668 \" fill=\"none\" id=\"E3&lt;-E4\" style=\"stroke: #383838; stroke-width: 1.0;\"/><polygon fill=\"#383838\" points=\"341.78,75.239,335.0146,72.743,330.1086,78.028,336.8739,80.5239,341.78,75.239\" style=\"stroke: #383838; stroke-width: 1.0;\"/><!--MD5=[191cde3d490a3f6d7bb551fe3ddca469]\n",
       "reverse link E3 to E5--><path d=\"M329.975,91.066 C297.222,107.327 253.287,129.49 215,150 C209.222,153.0955 203.133,156.4513 197.224,159.7596 \" fill=\"none\" id=\"E3&lt;-E5\" style=\"stroke: #383838; stroke-width: 1.0;\"/><polygon fill=\"#383838\" points=\"341.946,85.138,334.7941,84.2158,331.1921,90.4629,338.344,91.3851,341.946,85.138\" style=\"stroke: #383838; stroke-width: 1.0;\"/><!--MD5=[1026b4b93417a13aa8999a858998add2]\n",
       "reverse link E3 to E6--><path d=\"M347.008,99.569 C328.995,117.906 306.929,140.369 290.7,156.891 \" fill=\"none\" id=\"E3&lt;-E6\" style=\"stroke: #383838; stroke-width: 1.0;\"/><polygon fill=\"#383838\" points=\"356.27,90.14,349.2119,91.6173,347.8609,98.7008,354.919,97.2234,356.27,90.14\" style=\"stroke: #383838; stroke-width: 1.0;\"/><!--MD5=[85760999379eecfd2565a9fecdca67e4]\n",
       "reverse link E3 to E7--><path d=\"M379,103.167 C379,120.78 379,141.435 379,156.891 \" fill=\"none\" id=\"E3&lt;-E7\" style=\"stroke: #383838; stroke-width: 1.0;\"/><polygon fill=\"#383838\" points=\"379,90.14,375,96.14,379,102.14,383,96.14,379,90.14\" style=\"stroke: #383838; stroke-width: 1.0;\"/><!--MD5=[4cb75b73ec3682b8f7f8edc9cc86126a]\n",
       "reverse link E3 to E8--><path d=\"M411.601,99.315 C430.148,117.699 452.942,140.293 469.687,156.891 \" fill=\"none\" id=\"E3&lt;-E8\" style=\"stroke: #383838; stroke-width: 1.0;\"/><polygon fill=\"#383838\" points=\"402.345,90.14,403.79,97.2048,410.8671,98.5883,409.4222,91.5234,402.345,90.14\" style=\"stroke: #383838; stroke-width: 1.0;\"/><!--MD5=[f7e0269b2e2fed3d07255bf4c5cf9d61]\n",
       "reverse link E3 to E9--><path d=\"M428.092,90.606 C469.024,110.288 526.951,138.142 567.225,157.508 \" fill=\"none\" id=\"E3&lt;-E9\" style=\"stroke: #383838; stroke-width: 1.0;\"/><polygon fill=\"#383838\" points=\"416.236,84.905,419.9102,91.1099,427.0509,90.1048,423.3767,83.8999,416.236,84.905\" style=\"stroke: #383838; stroke-width: 1.0;\"/><text fill=\"#000000\" font-family=\"sans-serif\" font-size=\"13\" lengthAdjust=\"spacingAndGlyphs\" textLength=\"7\" x=\"552.5266\" y=\"150.206\">2</text><!--MD5=[622114938c97d4dd2a5a002a72a9cb82]\n",
       "reverse link E3 to E10--><path d=\"M428.866,78.036 C488.912,91.963 592.378,118.006 678,150 C683.674,152.1201 689.535,154.5565 695.293,157.1047 \" fill=\"none\" id=\"E3&lt;-E10\" style=\"stroke: #383838; stroke-width: 1.0;\"/><polygon fill=\"#383838\" points=\"416.013,75.087,420.9666,80.3274,427.7091,77.7704,422.7555,72.53,416.013,75.087\" style=\"stroke: #383838; stroke-width: 1.0;\"/><text fill=\"#000000\" font-family=\"sans-serif\" font-size=\"13\" lengthAdjust=\"spacingAndGlyphs\" textLength=\"7\" x=\"680.4506\" y=\"149.543\">2</text><!--MD5=[d8ff50e9933fcfeed6f2192edfad41c6]\n",
       "@startuml\r\n",
       "skinparam monochrome true\r\n",
       "skinparam classbackgroundcolor white\r\n",
       "skinparam shadowing false\r\n",
       "skinparam wrapWidth 300\r\n",
       "hide circle\r\n",
       "\r\n",
       "package \"eVehicle_LogicalArchitecture_v2\" as E1   {\r\n",
       "comp def \"Integer\" as E2  <<(T,blue)dataType>> {\r\n",
       "}\r\n",
       "comp usage \"eHSUV: Part\" as E3  <<(T,blue)part>> {\r\n",
       "}\r\n",
       "comp usage \"body: Part\" as E4  <<(T,blue)part>> {\r\n",
       "}\r\n",
       "comp usage \"battery: Part\" as E5  <<(T,blue)part>> {\r\n",
       "}\r\n",
       "comp usage \"engine: Part\" as E6  <<(T,blue)part>> {\r\n",
       "}\r\n",
       "comp usage \"frontAxis: Part\" as E7  <<(T,blue)part>> {\r\n",
       "}\r\n",
       "comp usage \"rearAxis: Part\" as E8  <<(T,blue)part>> {\r\n",
       "}\r\n",
       "comp usage \"frontWheel: Part\" as E9  <<(T,blue)part>> {\r\n",
       "size: Integer\r\n",
       "}\r\n",
       "comp usage \"rearWheel: Part\" as E10  <<(T,blue)part>> {\r\n",
       "size: Integer\r\n",
       "}\r\n",
       "E3 *- - E4\r\n",
       "E3 *- - E5\r\n",
       "E3 *- - E6\r\n",
       "E3 *- - E7\r\n",
       "E3 *- - E8\r\n",
       "E3 *- - \"2\"E9\r\n",
       "E3 *- - \"2\"E10\r\n",
       "}\r\n",
       "@enduml\r\n",
       "\n",
       "PlantUML version 1.2020.13(Sat Jun 13 14:26:38 CEST 2020)\n",
       "(EPL source distribution)\n",
       "Java Runtime: OpenJDK Runtime Environment\n",
       "JVM: OpenJDK 64-Bit Server VM\n",
       "Default Encoding: Cp1252\n",
       "Language: en\n",
       "Country: US\n",
       "--></g></svg>"
      ]
     },
     "execution_count": 7,
     "metadata": {},
     "output_type": "execute_result"
    }
   ],
   "source": [
    "%viz eVehicle_LogicalArchitecture_v2"
   ]
  },
  {
   "cell_type": "markdown",
   "metadata": {},
   "source": [
    "Although it is still very simple, the model already smells of reuse. The size attribute is currently defined twice. Now we define a type repsectively PartDefinition Wheels and specify that as the type of Parts."
   ]
  },
  {
   "cell_type": "code",
   "execution_count": 9,
   "metadata": {},
   "outputs": [
    {
     "data": {
      "text/plain": [
       "Package eVehicle_LogicalArchitecture_v3 (3b0e1d24-6b73-42f0-8e54-9d482c8a2b1c)\n"
      ]
     },
     "execution_count": 9,
     "metadata": {},
     "output_type": "execute_result"
    }
   ],
   "source": [
    "package eVehicle_LogicalArchitecture_v3 {\n",
    "    \n",
    "    import ScalarValues::Integer;\n",
    "    \n",
    "    part def Wheel {\n",
    "        attribute size : Integer;\n",
    "    }\n",
    "    \n",
    "    part eHSUV {    \n",
    "        part body;\n",
    "        part battery;\n",
    "        part engine;\n",
    "        part frontAxis;\n",
    "        part rearAxis;\n",
    "        part frontWheel : Wheel[2];\n",
    "        part rearWheel : Wheel[2];\n",
    "    }\n",
    "}"
   ]
  },
  {
   "cell_type": "code",
   "execution_count": 10,
   "metadata": {},
   "outputs": [
    {
     "data": {
      "text/plain": [
       "Package eVehicle_LogicalArchitecture_v3 (3b0e1d24-6b73-42f0-8e54-9d482c8a2b1c)\n",
       "  [Membership Integer] DataType Integer (399bfb58-0ee2-4bd9-91d7-08dfbf12ed3e)\n",
       "  [Membership] PartDefinition Wheel (d4efe48a-4318-4662-a1c2-c59f43229dfe)\n",
       "    [Superclassing] PartDefinition Part (4a2857f4-09da-4fdd-8476-5b165a232bcf)\n",
       "    [FeatureMembership] AttributeUsage size (570cd814-0b23-4eca-b390-f32869332db6)\n",
       "      [FeatureTyping] DataType Integer (399bfb58-0ee2-4bd9-91d7-08dfbf12ed3e)\n",
       "      [Subsetting] Feature dataValues (f3a38334-e242-43df-9e14-4ff29c657bae)\n",
       "  [Membership] PartUsage eHSUV (fdfda78a-fb91-40bf-8005-96ccf656b8af)\n",
       "    [Subsetting] PartUsage parts (0a76b9f8-236e-4824-a0fa-151cb4b1c00e)\n",
       "    [FeatureMembership] PartUsage body (fd441948-e54d-4523-9435-507590b7af24)\n",
       "      [Subsetting] PartUsage parts (0a76b9f8-236e-4824-a0fa-151cb4b1c00e)\n",
       "    [FeatureMembership] PartUsage battery (d49162f8-7fa7-4a32-ab3a-1dd3a9ef5d0e)\n",
       "      [Subsetting] PartUsage parts (0a76b9f8-236e-4824-a0fa-151cb4b1c00e)\n",
       "    [FeatureMembership] PartUsage engine (6bc8b695-d4a7-42df-9862-4b54d35eb872)\n",
       "      [Subsetting] PartUsage parts (0a76b9f8-236e-4824-a0fa-151cb4b1c00e)\n",
       "    [FeatureMembership] PartUsage frontAxis (7aefd3b6-6054-4ed8-993f-03ccc0b78268)\n",
       "      [Subsetting] PartUsage parts (0a76b9f8-236e-4824-a0fa-151cb4b1c00e)\n",
       "    [FeatureMembership] PartUsage rearAxis (2e17a840-fe54-4515-970f-941396677e5a)\n",
       "      [Subsetting] PartUsage parts (0a76b9f8-236e-4824-a0fa-151cb4b1c00e)\n",
       "    [FeatureMembership] PartUsage frontWheel (9fdb7205-8d0a-4a0d-ac53-45617383f787)\n",
       "      [FeatureTyping] PartDefinition Wheel (d4efe48a-4318-4662-a1c2-c59f43229dfe)\n",
       "      [Subsetting] PartUsage parts (0a76b9f8-236e-4824-a0fa-151cb4b1c00e)\n",
       "      [FeatureMembership] MultiplicityRange (235a86fa-249b-412c-9dea-163db7b0849a)\n",
       "        [Redefinition] MultiplicityRange (eb9d8589-1972-42ef-a6a6-f57d8f7611ab)\n",
       "        [FeatureMembership] LiteralInteger (66734a56-4394-4bb6-b458-35d952f27dab)\n",
       "          [ReturnParameterMembership] Feature $result (267a0bf3-08ba-4b51-94a4-81f450ac9fd4)\n",
       "    [FeatureMembership] PartUsage rearWheel (afd2efc3-de25-43ce-bc06-cbe0d50d58f1)\n",
       "      [FeatureTyping] PartDefinition Wheel (d4efe48a-4318-4662-a1c2-c59f43229dfe)\n",
       "      [Subsetting] PartUsage parts (0a76b9f8-236e-4824-a0fa-151cb4b1c00e)\n",
       "      [FeatureMembership] MultiplicityRange (e3df6f88-21c3-4ec6-ad68-b16cf7b14ec0)\n",
       "        [Redefinition] MultiplicityRange (eb9d8589-1972-42ef-a6a6-f57d8f7611ab)\n",
       "        [FeatureMembership] LiteralInteger (d761efa1-207d-4cb6-b2e8-192fcbe46d91)\n",
       "          [ReturnParameterMembership] Feature $result (cfcb4a9d-1452-4bc1-8737-05a98441013e)\n"
      ]
     },
     "execution_count": 10,
     "metadata": {},
     "output_type": "execute_result"
    }
   ],
   "source": [
    "%show eVehicle_LogicalArchitecture_v3"
   ]
  },
  {
   "cell_type": "code",
   "execution_count": 11,
   "metadata": {},
   "outputs": [
    {
     "data": {
      "image/svg+xml": [
       "<?xml version=\"1.0\" encoding=\"UTF-8\" standalone=\"no\"?><svg xmlns=\"http://www.w3.org/2000/svg\" xmlns:xlink=\"http://www.w3.org/1999/xlink\" contentScriptType=\"application/ecmascript\" contentStyleType=\"text/css\" height=\"348px\" preserveAspectRatio=\"none\" style=\"width:850px;height:348px;\" version=\"1.1\" viewBox=\"0 0 850 348\" width=\"850px\" zoomAndPan=\"magnify\"><defs/><g><!--MD5=[fbc87193dbaf4d95561dea2c320d4a47]\n",
       "cluster E1--><polygon fill=\"#FFFFFF\" points=\"16,6,253,6,260,29.6094,828,29.6094,828,336,16,336,16,6\" style=\"stroke: #000000; stroke-width: 1.5;\"/><line style=\"stroke: #000000; stroke-width: 1.5;\" x1=\"16\" x2=\"260\" y1=\"29.6094\" y2=\"29.6094\"/><text fill=\"#000000\" font-family=\"sans-serif\" font-size=\"14\" font-weight=\"bold\" lengthAdjust=\"spacingAndGlyphs\" textLength=\"231\" x=\"20\" y=\"22.5332\">eVehicle_LogicalArchitecture_v3</text><!--MD5=[b4997ac47864f28c2f74865a473b2911]\n",
       "class E2--><rect fill=\"#FFFFFF\" height=\"48.1875\" id=\"E2\" style=\"stroke: #383838; stroke-width: 1.5;\" width=\"67\" x=\"597.5\" y=\"42\"/><text fill=\"#000000\" font-family=\"sans-serif\" font-size=\"12\" font-style=\"italic\" lengthAdjust=\"spacingAndGlyphs\" textLength=\"65\" x=\"598.5\" y=\"59.457\">«dataType»</text><text fill=\"#000000\" font-family=\"sans-serif\" font-size=\"12\" lengthAdjust=\"spacingAndGlyphs\" textLength=\"38\" x=\"612\" y=\"74.5508\">Integer</text><line style=\"stroke: #383838; stroke-width: 1.5;\" x1=\"598.5\" x2=\"663.5\" y1=\"82.1875\" y2=\"82.1875\"/><!--MD5=[09b614a08d8cba4a07c9adeb5e0fee81]\n",
       "class E3--><rect fill=\"#FFFFFF\" height=\"62.0234\" id=\"E3\" style=\"stroke: #383838; stroke-width: 1.5;\" width=\"71\" x=\"654.5\" y=\"258\"/><text fill=\"#000000\" font-family=\"sans-serif\" font-size=\"12\" font-style=\"italic\" lengthAdjust=\"spacingAndGlyphs\" textLength=\"55\" x=\"662.5\" y=\"275.457\">«part def»</text><text fill=\"#000000\" font-family=\"sans-serif\" font-size=\"12\" lengthAdjust=\"spacingAndGlyphs\" textLength=\"35\" x=\"672.5\" y=\"290.5508\">Wheel</text><line style=\"stroke: #383838; stroke-width: 1.5;\" x1=\"655.5\" x2=\"724.5\" y1=\"298.1875\" y2=\"298.1875\"/><text fill=\"#000000\" font-family=\"sans-serif\" font-size=\"11\" lengthAdjust=\"spacingAndGlyphs\" textLength=\"59\" x=\"660.5\" y=\"313.6064\">size: Integer</text><!--MD5=[ebbe1d658d1005bcc118a6aa81145e00]\n",
       "class E4--><rect fill=\"#FFFFFF\" height=\"48.1875\" id=\"E4\" rx=\"10\" ry=\"10\" style=\"stroke: #383838; stroke-width: 1.5;\" width=\"74\" x=\"342\" y=\"42\"/><text fill=\"#000000\" font-family=\"sans-serif\" font-size=\"12\" font-style=\"italic\" lengthAdjust=\"spacingAndGlyphs\" textLength=\"35\" x=\"361.5\" y=\"59.457\">«part»</text><text fill=\"#000000\" font-family=\"sans-serif\" font-size=\"12\" lengthAdjust=\"spacingAndGlyphs\" textLength=\"68\" x=\"345\" y=\"74.5508\">eHSUV: Part</text><line style=\"stroke: #383838; stroke-width: 1.5;\" x1=\"343\" x2=\"415\" y1=\"82.1875\" y2=\"82.1875\"/><!--MD5=[270fce915f116d4de14055a7c1d9a0f3]\n",
       "class E5--><rect fill=\"#FFFFFF\" height=\"48.1875\" id=\"E5\" rx=\"10\" ry=\"10\" style=\"stroke: #383838; stroke-width: 1.5;\" width=\"60\" x=\"32\" y=\"150\"/><text fill=\"#000000\" font-family=\"sans-serif\" font-size=\"12\" font-style=\"italic\" lengthAdjust=\"spacingAndGlyphs\" textLength=\"35\" x=\"44.5\" y=\"167.457\">«part»</text><text fill=\"#000000\" font-family=\"sans-serif\" font-size=\"12\" lengthAdjust=\"spacingAndGlyphs\" textLength=\"54\" x=\"35\" y=\"182.5508\">body: Part</text><line style=\"stroke: #383838; stroke-width: 1.5;\" x1=\"33\" x2=\"91\" y1=\"190.1875\" y2=\"190.1875\"/><!--MD5=[60a26617385b1d2d0262a64233df1f8d]\n",
       "class E6--><rect fill=\"#FFFFFF\" height=\"48.1875\" id=\"E6\" rx=\"10\" ry=\"10\" style=\"stroke: #383838; stroke-width: 1.5;\" width=\"70\" x=\"127\" y=\"150\"/><text fill=\"#000000\" font-family=\"sans-serif\" font-size=\"12\" font-style=\"italic\" lengthAdjust=\"spacingAndGlyphs\" textLength=\"35\" x=\"144.5\" y=\"167.457\">«part»</text><text fill=\"#000000\" font-family=\"sans-serif\" font-size=\"12\" lengthAdjust=\"spacingAndGlyphs\" textLength=\"64\" x=\"130\" y=\"182.5508\">battery: Part</text><line style=\"stroke: #383838; stroke-width: 1.5;\" x1=\"128\" x2=\"196\" y1=\"190.1875\" y2=\"190.1875\"/><!--MD5=[2156ba9850f5573cc1fc38a6a4b2f02b]\n",
       "class E7--><rect fill=\"#FFFFFF\" height=\"48.1875\" id=\"E7\" rx=\"10\" ry=\"10\" style=\"stroke: #383838; stroke-width: 1.5;\" width=\"72\" x=\"232\" y=\"150\"/><text fill=\"#000000\" font-family=\"sans-serif\" font-size=\"12\" font-style=\"italic\" lengthAdjust=\"spacingAndGlyphs\" textLength=\"35\" x=\"250.5\" y=\"167.457\">«part»</text><text fill=\"#000000\" font-family=\"sans-serif\" font-size=\"12\" lengthAdjust=\"spacingAndGlyphs\" textLength=\"66\" x=\"235\" y=\"182.5508\">engine: Part</text><line style=\"stroke: #383838; stroke-width: 1.5;\" x1=\"233\" x2=\"303\" y1=\"190.1875\" y2=\"190.1875\"/><!--MD5=[b9389687b975829384b498ac4b7476b2]\n",
       "class E8--><rect fill=\"#FFFFFF\" height=\"48.1875\" id=\"E8\" rx=\"10\" ry=\"10\" style=\"stroke: #383838; stroke-width: 1.5;\" width=\"80\" x=\"339\" y=\"150\"/><text fill=\"#000000\" font-family=\"sans-serif\" font-size=\"12\" font-style=\"italic\" lengthAdjust=\"spacingAndGlyphs\" textLength=\"35\" x=\"361.5\" y=\"167.457\">«part»</text><text fill=\"#000000\" font-family=\"sans-serif\" font-size=\"12\" lengthAdjust=\"spacingAndGlyphs\" textLength=\"74\" x=\"342\" y=\"182.5508\">frontAxis: Part</text><line style=\"stroke: #383838; stroke-width: 1.5;\" x1=\"340\" x2=\"418\" y1=\"190.1875\" y2=\"190.1875\"/><!--MD5=[fd4143e9d270a159db93a4ea2a975926]\n",
       "class E9--><rect fill=\"#FFFFFF\" height=\"48.1875\" id=\"E9\" rx=\"10\" ry=\"10\" style=\"stroke: #383838; stroke-width: 1.5;\" width=\"78\" x=\"454\" y=\"150\"/><text fill=\"#000000\" font-family=\"sans-serif\" font-size=\"12\" font-style=\"italic\" lengthAdjust=\"spacingAndGlyphs\" textLength=\"35\" x=\"475.5\" y=\"167.457\">«part»</text><text fill=\"#000000\" font-family=\"sans-serif\" font-size=\"12\" lengthAdjust=\"spacingAndGlyphs\" textLength=\"72\" x=\"457\" y=\"182.5508\">rearAxis: Part</text><line style=\"stroke: #383838; stroke-width: 1.5;\" x1=\"455\" x2=\"531\" y1=\"190.1875\" y2=\"190.1875\"/><!--MD5=[96f4274e9e20536e775497830990834d]\n",
       "class E10--><rect fill=\"#FFFFFF\" height=\"48.1875\" id=\"E10\" rx=\"10\" ry=\"10\" style=\"stroke: #383838; stroke-width: 1.5;\" width=\"106\" x=\"567\" y=\"150\"/><text fill=\"#000000\" font-family=\"sans-serif\" font-size=\"12\" font-style=\"italic\" lengthAdjust=\"spacingAndGlyphs\" textLength=\"35\" x=\"602.5\" y=\"167.457\">«part»</text><text fill=\"#000000\" font-family=\"sans-serif\" font-size=\"12\" lengthAdjust=\"spacingAndGlyphs\" textLength=\"100\" x=\"570\" y=\"182.5508\">frontWheel: Wheel</text><line style=\"stroke: #383838; stroke-width: 1.5;\" x1=\"568\" x2=\"672\" y1=\"190.1875\" y2=\"190.1875\"/><!--MD5=[1dd1bfd58a279cf63c5f349dbc8fc6a1]\n",
       "class E11--><rect fill=\"#FFFFFF\" height=\"48.1875\" id=\"E11\" rx=\"10\" ry=\"10\" style=\"stroke: #383838; stroke-width: 1.5;\" width=\"104\" x=\"708\" y=\"150\"/><text fill=\"#000000\" font-family=\"sans-serif\" font-size=\"12\" font-style=\"italic\" lengthAdjust=\"spacingAndGlyphs\" textLength=\"35\" x=\"742.5\" y=\"167.457\">«part»</text><text fill=\"#000000\" font-family=\"sans-serif\" font-size=\"12\" lengthAdjust=\"spacingAndGlyphs\" textLength=\"98\" x=\"711\" y=\"182.5508\">rearWheel: Wheel</text><line style=\"stroke: #383838; stroke-width: 1.5;\" x1=\"709\" x2=\"811\" y1=\"190.1875\" y2=\"190.1875\"/><!--MD5=[62aa6af11e70f752912c1cb0466f24f7]\n",
       "reverse link E4 to E5--><path d=\"M329.106,80.016 C274.527,94.801 184.841,120.708 110,150 C104.149,152.29 98.019,154.987 92.1719,157.712 \" fill=\"none\" id=\"E4&lt;-E5\" style=\"stroke: #383838; stroke-width: 1.0;\"/><polygon fill=\"#383838\" points=\"341.862,76.59,335.0299,74.2828,330.2725,79.702,337.1046,82.0091,341.862,76.59\" style=\"stroke: #383838; stroke-width: 1.0;\"/><!--MD5=[6db378b65e1aef66a01cb3103812b399]\n",
       "reverse link E4 to E6--><path d=\"M329.953,90.959 C289.486,110.726 233.058,138.29 197.024,155.892 \" fill=\"none\" id=\"E4&lt;-E6\" style=\"stroke: #383838; stroke-width: 1.0;\"/><polygon fill=\"#383838\" points=\"341.696,85.222,334.5491,84.2622,330.9143,90.4902,338.0612,91.45,341.696,85.222\" style=\"stroke: #383838; stroke-width: 1.0;\"/><!--MD5=[722ff4eef345aa10242dad44df0e98c7]\n",
       "reverse link E4 to E7--><path d=\"M345.314,99.168 C328.265,115.45 307.949,134.851 292.422,149.678 \" fill=\"none\" id=\"E4&lt;-E7\" style=\"stroke: #383838; stroke-width: 1.0;\"/><polygon fill=\"#383838\" points=\"354.915,90,347.8132,91.2506,346.2361,98.2872,353.338,97.0365,354.915,90\" style=\"stroke: #383838; stroke-width: 1.0;\"/><!--MD5=[c6fc7cdb0cabde04948078cf183fa696]\n",
       "reverse link E4 to E8--><path d=\"M379,103.338 C379,118.681 379,136.098 379,149.678 \" fill=\"none\" id=\"E4&lt;-E8\" style=\"stroke: #383838; stroke-width: 1.0;\"/><polygon fill=\"#383838\" points=\"379,90,375,96,379,102,383,96,379,90\" style=\"stroke: #383838; stroke-width: 1.0;\"/><!--MD5=[e7ea4bd30698dc91ca0c06b9d8e4f891]\n",
       "reverse link E4 to E9--><path d=\"M413.596,99.168 C431.106,115.45 451.972,134.851 467.918,149.678 \" fill=\"none\" id=\"E4&lt;-E9\" style=\"stroke: #383838; stroke-width: 1.0;\"/><polygon fill=\"#383838\" points=\"403.736,90,405.4059,97.0151,412.5236,98.1718,410.8537,91.1567,403.736,90\" style=\"stroke: #383838; stroke-width: 1.0;\"/><!--MD5=[feeac5eb423634930294aa81f2d25a4c]\n",
       "link E10 to E3--><path d=\"M634.334,198.14 C641.899,210.351 651.469,225.8 660.532,240.43 \" fill=\"none\" id=\"E10-&gt;E3\" style=\"stroke: #383838; stroke-width: 1.0;\"/><polygon fill=\"#FFFFFF\" points=\"671.166,257.5962,655.2098,245.1302,667.1114,237.7578,671.166,257.5962\" style=\"stroke: #383838; stroke-width: 1.0;\"/><ellipse cx=\"653.9085\" cy=\"239.2314\" fill=\"#383838\" rx=\"2\" ry=\"2\" style=\"stroke: #383838; stroke-width: 1.0;\"/><ellipse cx=\"662.4096\" cy=\"233.9654\" fill=\"#383838\" rx=\"2\" ry=\"2\" style=\"stroke: #383838; stroke-width: 1.0;\"/><!--MD5=[f119e7f268ff8fee167b0c2c9936af30]\n",
       "reverse link E4 to E10--><path d=\"M428.143,88.615 C468.721,106.462 526.173,131.732 567.617,149.96 \" fill=\"none\" id=\"E4&lt;-E10\" style=\"stroke: #383838; stroke-width: 1.0;\"/><polygon fill=\"#383838\" points=\"416.128,83.33,420.0097,89.4072,427.1124,88.1615,423.2307,82.0843,416.128,83.33\" style=\"stroke: #383838; stroke-width: 1.0;\"/><text fill=\"#000000\" font-family=\"sans-serif\" font-size=\"13\" lengthAdjust=\"spacingAndGlyphs\" textLength=\"7\" x=\"552.0599\" y=\"142.5616\">2</text><!--MD5=[0517f1ce58c4d5483948f93845c45e26]\n",
       "link E11 to E3--><path d=\"M745.666,198.14 C738.101,210.351 728.531,225.8 719.468,240.43 \" fill=\"none\" id=\"E11-&gt;E3\" style=\"stroke: #383838; stroke-width: 1.0;\"/><polygon fill=\"#FFFFFF\" points=\"708.834,257.5962,712.8886,237.7578,724.7902,245.1302,708.834,257.5962\" style=\"stroke: #383838; stroke-width: 1.0;\"/><ellipse cx=\"717.5904\" cy=\"233.9654\" fill=\"#383838\" rx=\"2\" ry=\"2\" style=\"stroke: #383838; stroke-width: 1.0;\"/><ellipse cx=\"726.0915\" cy=\"239.2314\" fill=\"#383838\" rx=\"2\" ry=\"2\" style=\"stroke: #383838; stroke-width: 1.0;\"/><!--MD5=[593b807a8aafaab39af1c25ada4edf41]\n",
       "reverse link E4 to E11--><path d=\"M429.027,79.295 C490.872,94.727 599.203,122.519 691,150 C696.444,151.63 702.105,153.397 707.741,155.203 \" fill=\"none\" id=\"E4&lt;-E11\" style=\"stroke: #383838; stroke-width: 1.0;\"/><polygon fill=\"#383838\" points=\"416.189,76.103,421.0464,81.4327,427.8343,78.9988,422.977,73.6691,416.189,76.103\" style=\"stroke: #383838; stroke-width: 1.0;\"/><text fill=\"#000000\" font-family=\"sans-serif\" font-size=\"13\" lengthAdjust=\"spacingAndGlyphs\" textLength=\"7\" x=\"692.8999\" y=\"148.9413\">2</text><!--MD5=[9ef3928c5596f1aea13f5957028aa856]\n",
       "@startuml\r\n",
       "skinparam monochrome true\r\n",
       "skinparam classbackgroundcolor white\r\n",
       "skinparam shadowing false\r\n",
       "skinparam wrapWidth 300\r\n",
       "hide circle\r\n",
       "\r\n",
       "package \"eVehicle_LogicalArchitecture_v3\" as E1   {\r\n",
       "comp def \"Integer\" as E2  <<(T,blue)dataType>> {\r\n",
       "}\r\n",
       "comp def \"Wheel\" as E3  <<(T,blue)part def>> {\r\n",
       "size: Integer\r\n",
       "}\r\n",
       "comp usage \"eHSUV: Part\" as E4  <<(T,blue)part>> {\r\n",
       "}\r\n",
       "comp usage \"body: Part\" as E5  <<(T,blue)part>> {\r\n",
       "}\r\n",
       "comp usage \"battery: Part\" as E6  <<(T,blue)part>> {\r\n",
       "}\r\n",
       "comp usage \"engine: Part\" as E7  <<(T,blue)part>> {\r\n",
       "}\r\n",
       "comp usage \"frontAxis: Part\" as E8  <<(T,blue)part>> {\r\n",
       "}\r\n",
       "comp usage \"rearAxis: Part\" as E9  <<(T,blue)part>> {\r\n",
       "}\r\n",
       "comp usage \"frontWheel: Wheel\" as E10  <<(T,blue)part>> {\r\n",
       "}\r\n",
       "comp usage \"rearWheel: Wheel\" as E11  <<(T,blue)part>> {\r\n",
       "}\r\n",
       "E4 *- - E5\r\n",
       "E4 *- - E6\r\n",
       "E4 *- - E7\r\n",
       "E4 *- - E8\r\n",
       "E4 *- - E9\r\n",
       "E10 - -:|> E3\r\n",
       "E4 *- - \"2\"E10\r\n",
       "E11 - -:|> E3\r\n",
       "E4 *- - \"2\"E11\r\n",
       "}\r\n",
       "@enduml\r\n",
       "\n",
       "PlantUML version 1.2020.13(Sat Jun 13 14:26:38 CEST 2020)\n",
       "(EPL source distribution)\n",
       "Java Runtime: OpenJDK Runtime Environment\n",
       "JVM: OpenJDK 64-Bit Server VM\n",
       "Default Encoding: Cp1252\n",
       "Language: en\n",
       "Country: US\n",
       "--></g></svg>"
      ]
     },
     "execution_count": 11,
     "metadata": {},
     "output_type": "execute_result"
    }
   ],
   "source": [
    "%viz eVehicle_LogicalArchitecture_v3"
   ]
  },
  {
   "cell_type": "code",
   "execution_count": 12,
   "metadata": {},
   "outputs": [
    {
     "data": {
      "text/plain": [
       "Package eVehicle_LogicalArchitecture_v3 (3f65a7f9-a60d-47b0-a56d-f881dabbeea5)\n"
      ]
     },
     "execution_count": 12,
     "metadata": {},
     "output_type": "execute_result"
    }
   ],
   "source": [
    "package eVehicle_LogicalArchitecture_v3 {\n",
    "    \n",
    "    part def Wheel {\n",
    "        attribute size : WheelSize;\n",
    "    }\n",
    "    \n",
    "    attribute def WheelSize {\n",
    "        import ScalarValues::Integer;\n",
    "        size : Integer;\n",
    "    }\n",
    "    \n",
    "    part eHSUV {    \n",
    "        part body;\n",
    "        part battery;\n",
    "        part engine;\n",
    "        part frontAxis;\n",
    "        part rearAxis;\n",
    "        part frontWheel : Wheel[2];\n",
    "        part rearWheel : Wheel[2];\n",
    "    }\n",
    "}"
   ]
  },
  {
   "cell_type": "code",
   "execution_count": 13,
   "metadata": {},
   "outputs": [
    {
     "data": {
      "text/plain": [
       "Package eVehicle_LogicalArchitecture_v3 (3f65a7f9-a60d-47b0-a56d-f881dabbeea5)\n",
       "  [Membership] PartDefinition Wheel (7487ea42-aced-444d-b031-ff12eb47939e)\n",
       "    [Superclassing] PartDefinition Part (4a2857f4-09da-4fdd-8476-5b165a232bcf)\n",
       "    [FeatureMembership] AttributeUsage size (3b95c286-4f35-4d7b-8f2c-8e66fbebecf7)\n",
       "      [FeatureTyping] AttributeDefinition WheelSize (c7ad38bf-12d6-4563-9b0b-ea70e3e27654)\n",
       "      [Subsetting] Feature dataValues (f3a38334-e242-43df-9e14-4ff29c657bae)\n",
       "  [Membership] AttributeDefinition WheelSize (c7ad38bf-12d6-4563-9b0b-ea70e3e27654)\n",
       "    [Superclassing] DataType DataValue (ec615e32-2b9c-469b-a459-bb58f0f917d3)\n",
       "    [Membership Integer] DataType Integer (399bfb58-0ee2-4bd9-91d7-08dfbf12ed3e)\n",
       "    [FeatureMembership] AttributeUsage size (aa0f027f-f2f0-4efc-8b5b-301f46d841e0)\n",
       "      [FeatureTyping] DataType Integer (399bfb58-0ee2-4bd9-91d7-08dfbf12ed3e)\n",
       "      [Subsetting] Feature dataValues (f3a38334-e242-43df-9e14-4ff29c657bae)\n",
       "  [Membership] PartUsage eHSUV (5d11ba03-c1e2-4dd6-ad32-5a7b46ecc436)\n",
       "    [Subsetting] PartUsage parts (0a76b9f8-236e-4824-a0fa-151cb4b1c00e)\n",
       "    [FeatureMembership] PartUsage body (00efc591-d996-4d2d-a689-be21023ab181)\n",
       "      [Subsetting] PartUsage parts (0a76b9f8-236e-4824-a0fa-151cb4b1c00e)\n",
       "    [FeatureMembership] PartUsage battery (c5c73341-09f2-4148-b9c9-8dd2daeae3ee)\n",
       "      [Subsetting] PartUsage parts (0a76b9f8-236e-4824-a0fa-151cb4b1c00e)\n",
       "    [FeatureMembership] PartUsage engine (499b2ebb-d2a3-444b-a682-deea6068d07e)\n",
       "      [Subsetting] PartUsage parts (0a76b9f8-236e-4824-a0fa-151cb4b1c00e)\n",
       "    [FeatureMembership] PartUsage frontAxis (23b8df09-65bb-4729-b07e-636c396cacd6)\n",
       "      [Subsetting] PartUsage parts (0a76b9f8-236e-4824-a0fa-151cb4b1c00e)\n",
       "    [FeatureMembership] PartUsage rearAxis (af8c5f77-c0c0-4231-aa6e-27db462ab59a)\n",
       "      [Subsetting] PartUsage parts (0a76b9f8-236e-4824-a0fa-151cb4b1c00e)\n",
       "    [FeatureMembership] PartUsage frontWheel (d822089c-0562-4ef6-9cce-ff8cc18ff287)\n",
       "      [FeatureTyping] PartDefinition Wheel (7487ea42-aced-444d-b031-ff12eb47939e)\n",
       "      [Subsetting] PartUsage parts (0a76b9f8-236e-4824-a0fa-151cb4b1c00e)\n",
       "      [FeatureMembership] MultiplicityRange (eb0b8006-90bb-4303-80e0-af1b2b6ffddc)\n",
       "        [Redefinition] MultiplicityRange (eb9d8589-1972-42ef-a6a6-f57d8f7611ab)\n",
       "        [FeatureMembership] LiteralInteger (66b09c5d-7012-4ecb-8c0c-24ab42fed442)\n",
       "          [ReturnParameterMembership] Feature $result (19f17120-9ece-402d-bbe2-a964fd441149)\n",
       "    [FeatureMembership] PartUsage rearWheel (3a68cbea-9deb-4810-95e3-8b31b1ca5d3e)\n",
       "      [FeatureTyping] PartDefinition Wheel (7487ea42-aced-444d-b031-ff12eb47939e)\n",
       "      [Subsetting] PartUsage parts (0a76b9f8-236e-4824-a0fa-151cb4b1c00e)\n",
       "      [FeatureMembership] MultiplicityRange (d833e96f-8c11-44dd-bd33-0b135bc1ec43)\n",
       "        [Redefinition] MultiplicityRange (eb9d8589-1972-42ef-a6a6-f57d8f7611ab)\n",
       "        [FeatureMembership] LiteralInteger (8728f27c-c53a-4b3e-9330-5431cf454e71)\n",
       "          [ReturnParameterMembership] Feature $result (d644fc0d-9c02-4200-8078-599f8232f9dd)\n"
      ]
     },
     "execution_count": 13,
     "metadata": {},
     "output_type": "execute_result"
    }
   ],
   "source": [
    "%show eVehicle_LogicalArchitecture_v3"
   ]
  },
  {
   "cell_type": "code",
   "execution_count": 14,
   "metadata": {},
   "outputs": [
    {
     "data": {
      "image/svg+xml": [
       "<?xml version=\"1.0\" encoding=\"UTF-8\" standalone=\"no\"?><svg xmlns=\"http://www.w3.org/2000/svg\" xmlns:xlink=\"http://www.w3.org/1999/xlink\" contentScriptType=\"application/ecmascript\" contentStyleType=\"text/css\" height=\"362px\" preserveAspectRatio=\"none\" style=\"width:953px;height:362px;\" version=\"1.1\" viewBox=\"0 0 953 362\" width=\"953px\" zoomAndPan=\"magnify\"><defs/><g><!--MD5=[fbc87193dbaf4d95561dea2c320d4a47]\n",
       "cluster E1--><polygon fill=\"#FFFFFF\" points=\"16,6,253,6,260,29.6094,931,29.6094,931,350,16,350,16,6\" style=\"stroke: #000000; stroke-width: 1.5;\"/><line style=\"stroke: #000000; stroke-width: 1.5;\" x1=\"16\" x2=\"260\" y1=\"29.6094\" y2=\"29.6094\"/><text fill=\"#000000\" font-family=\"sans-serif\" font-size=\"14\" font-weight=\"bold\" lengthAdjust=\"spacingAndGlyphs\" textLength=\"231\" x=\"20\" y=\"22.5332\">eVehicle_LogicalArchitecture_v3</text><!--MD5=[b4997ac47864f28c2f74865a473b2911]\n",
       "class E2--><rect fill=\"#FFFFFF\" height=\"62.0234\" id=\"E2\" style=\"stroke: #383838; stroke-width: 1.5;\" width=\"89\" x=\"645.5\" y=\"272\"/><text fill=\"#000000\" font-family=\"sans-serif\" font-size=\"12\" font-style=\"italic\" lengthAdjust=\"spacingAndGlyphs\" textLength=\"55\" x=\"662.5\" y=\"289.457\">«part def»</text><text fill=\"#000000\" font-family=\"sans-serif\" font-size=\"12\" lengthAdjust=\"spacingAndGlyphs\" textLength=\"35\" x=\"672.5\" y=\"304.5508\">Wheel</text><line style=\"stroke: #383838; stroke-width: 1.5;\" x1=\"646.5\" x2=\"733.5\" y1=\"312.1875\" y2=\"312.1875\"/><text fill=\"#000000\" font-family=\"sans-serif\" font-size=\"11\" lengthAdjust=\"spacingAndGlyphs\" textLength=\"77\" x=\"651.5\" y=\"327.6064\">size: WheelSize</text><!--MD5=[09b614a08d8cba4a07c9adeb5e0fee81]\n",
       "class E3--><rect fill=\"#FFFFFF\" height=\"62.0234\" id=\"E3\" style=\"stroke: #383838; stroke-width: 1.5;\" width=\"81\" x=\"833.5\" y=\"42\"/><text fill=\"#000000\" font-family=\"sans-serif\" font-size=\"12\" font-style=\"italic\" lengthAdjust=\"spacingAndGlyphs\" textLength=\"79\" x=\"834.5\" y=\"59.457\">«attribute def»</text><text fill=\"#000000\" font-family=\"sans-serif\" font-size=\"12\" lengthAdjust=\"spacingAndGlyphs\" textLength=\"58\" x=\"845\" y=\"74.5508\">WheelSize</text><line style=\"stroke: #383838; stroke-width: 1.5;\" x1=\"834.5\" x2=\"913.5\" y1=\"82.1875\" y2=\"82.1875\"/><text fill=\"#000000\" font-family=\"sans-serif\" font-size=\"11\" lengthAdjust=\"spacingAndGlyphs\" textLength=\"59\" x=\"839.5\" y=\"97.6064\">size: Integer</text><!--MD5=[ebbe1d658d1005bcc118a6aa81145e00]\n",
       "class E4--><rect fill=\"#FFFFFF\" height=\"48.1875\" id=\"E4\" style=\"stroke: #383838; stroke-width: 1.5;\" width=\"67\" x=\"847.5\" y=\"164\"/><text fill=\"#000000\" font-family=\"sans-serif\" font-size=\"12\" font-style=\"italic\" lengthAdjust=\"spacingAndGlyphs\" textLength=\"65\" x=\"848.5\" y=\"181.457\">«dataType»</text><text fill=\"#000000\" font-family=\"sans-serif\" font-size=\"12\" lengthAdjust=\"spacingAndGlyphs\" textLength=\"38\" x=\"862\" y=\"196.5508\">Integer</text><line style=\"stroke: #383838; stroke-width: 1.5;\" x1=\"848.5\" x2=\"913.5\" y1=\"204.1875\" y2=\"204.1875\"/><!--MD5=[270fce915f116d4de14055a7c1d9a0f3]\n",
       "class E5--><rect fill=\"#FFFFFF\" height=\"48.1875\" id=\"E5\" rx=\"10\" ry=\"10\" style=\"stroke: #383838; stroke-width: 1.5;\" width=\"74\" x=\"342\" y=\"49\"/><text fill=\"#000000\" font-family=\"sans-serif\" font-size=\"12\" font-style=\"italic\" lengthAdjust=\"spacingAndGlyphs\" textLength=\"35\" x=\"361.5\" y=\"66.457\">«part»</text><text fill=\"#000000\" font-family=\"sans-serif\" font-size=\"12\" lengthAdjust=\"spacingAndGlyphs\" textLength=\"68\" x=\"345\" y=\"81.5508\">eHSUV: Part</text><line style=\"stroke: #383838; stroke-width: 1.5;\" x1=\"343\" x2=\"415\" y1=\"89.1875\" y2=\"89.1875\"/><!--MD5=[60a26617385b1d2d0262a64233df1f8d]\n",
       "class E6--><rect fill=\"#FFFFFF\" height=\"48.1875\" id=\"E6\" rx=\"10\" ry=\"10\" style=\"stroke: #383838; stroke-width: 1.5;\" width=\"60\" x=\"32\" y=\"164\"/><text fill=\"#000000\" font-family=\"sans-serif\" font-size=\"12\" font-style=\"italic\" lengthAdjust=\"spacingAndGlyphs\" textLength=\"35\" x=\"44.5\" y=\"181.457\">«part»</text><text fill=\"#000000\" font-family=\"sans-serif\" font-size=\"12\" lengthAdjust=\"spacingAndGlyphs\" textLength=\"54\" x=\"35\" y=\"196.5508\">body: Part</text><line style=\"stroke: #383838; stroke-width: 1.5;\" x1=\"33\" x2=\"91\" y1=\"204.1875\" y2=\"204.1875\"/><!--MD5=[2156ba9850f5573cc1fc38a6a4b2f02b]\n",
       "class E7--><rect fill=\"#FFFFFF\" height=\"48.1875\" id=\"E7\" rx=\"10\" ry=\"10\" style=\"stroke: #383838; stroke-width: 1.5;\" width=\"70\" x=\"127\" y=\"164\"/><text fill=\"#000000\" font-family=\"sans-serif\" font-size=\"12\" font-style=\"italic\" lengthAdjust=\"spacingAndGlyphs\" textLength=\"35\" x=\"144.5\" y=\"181.457\">«part»</text><text fill=\"#000000\" font-family=\"sans-serif\" font-size=\"12\" lengthAdjust=\"spacingAndGlyphs\" textLength=\"64\" x=\"130\" y=\"196.5508\">battery: Part</text><line style=\"stroke: #383838; stroke-width: 1.5;\" x1=\"128\" x2=\"196\" y1=\"204.1875\" y2=\"204.1875\"/><!--MD5=[b9389687b975829384b498ac4b7476b2]\n",
       "class E8--><rect fill=\"#FFFFFF\" height=\"48.1875\" id=\"E8\" rx=\"10\" ry=\"10\" style=\"stroke: #383838; stroke-width: 1.5;\" width=\"72\" x=\"232\" y=\"164\"/><text fill=\"#000000\" font-family=\"sans-serif\" font-size=\"12\" font-style=\"italic\" lengthAdjust=\"spacingAndGlyphs\" textLength=\"35\" x=\"250.5\" y=\"181.457\">«part»</text><text fill=\"#000000\" font-family=\"sans-serif\" font-size=\"12\" lengthAdjust=\"spacingAndGlyphs\" textLength=\"66\" x=\"235\" y=\"196.5508\">engine: Part</text><line style=\"stroke: #383838; stroke-width: 1.5;\" x1=\"233\" x2=\"303\" y1=\"204.1875\" y2=\"204.1875\"/><!--MD5=[fd4143e9d270a159db93a4ea2a975926]\n",
       "class E9--><rect fill=\"#FFFFFF\" height=\"48.1875\" id=\"E9\" rx=\"10\" ry=\"10\" style=\"stroke: #383838; stroke-width: 1.5;\" width=\"80\" x=\"339\" y=\"164\"/><text fill=\"#000000\" font-family=\"sans-serif\" font-size=\"12\" font-style=\"italic\" lengthAdjust=\"spacingAndGlyphs\" textLength=\"35\" x=\"361.5\" y=\"181.457\">«part»</text><text fill=\"#000000\" font-family=\"sans-serif\" font-size=\"12\" lengthAdjust=\"spacingAndGlyphs\" textLength=\"74\" x=\"342\" y=\"196.5508\">frontAxis: Part</text><line style=\"stroke: #383838; stroke-width: 1.5;\" x1=\"340\" x2=\"418\" y1=\"204.1875\" y2=\"204.1875\"/><!--MD5=[96f4274e9e20536e775497830990834d]\n",
       "class E10--><rect fill=\"#FFFFFF\" height=\"48.1875\" id=\"E10\" rx=\"10\" ry=\"10\" style=\"stroke: #383838; stroke-width: 1.5;\" width=\"78\" x=\"454\" y=\"164\"/><text fill=\"#000000\" font-family=\"sans-serif\" font-size=\"12\" font-style=\"italic\" lengthAdjust=\"spacingAndGlyphs\" textLength=\"35\" x=\"475.5\" y=\"181.457\">«part»</text><text fill=\"#000000\" font-family=\"sans-serif\" font-size=\"12\" lengthAdjust=\"spacingAndGlyphs\" textLength=\"72\" x=\"457\" y=\"196.5508\">rearAxis: Part</text><line style=\"stroke: #383838; stroke-width: 1.5;\" x1=\"455\" x2=\"531\" y1=\"204.1875\" y2=\"204.1875\"/><!--MD5=[1dd1bfd58a279cf63c5f349dbc8fc6a1]\n",
       "class E11--><rect fill=\"#FFFFFF\" height=\"48.1875\" id=\"E11\" rx=\"10\" ry=\"10\" style=\"stroke: #383838; stroke-width: 1.5;\" width=\"106\" x=\"567\" y=\"164\"/><text fill=\"#000000\" font-family=\"sans-serif\" font-size=\"12\" font-style=\"italic\" lengthAdjust=\"spacingAndGlyphs\" textLength=\"35\" x=\"602.5\" y=\"181.457\">«part»</text><text fill=\"#000000\" font-family=\"sans-serif\" font-size=\"12\" lengthAdjust=\"spacingAndGlyphs\" textLength=\"100\" x=\"570\" y=\"196.5508\">frontWheel: Wheel</text><line style=\"stroke: #383838; stroke-width: 1.5;\" x1=\"568\" x2=\"672\" y1=\"204.1875\" y2=\"204.1875\"/><!--MD5=[49a0ec8f00dab7302a31f22d0f0fe584]\n",
       "class E12--><rect fill=\"#FFFFFF\" height=\"48.1875\" id=\"E12\" rx=\"10\" ry=\"10\" style=\"stroke: #383838; stroke-width: 1.5;\" width=\"104\" x=\"708\" y=\"164\"/><text fill=\"#000000\" font-family=\"sans-serif\" font-size=\"12\" font-style=\"italic\" lengthAdjust=\"spacingAndGlyphs\" textLength=\"35\" x=\"742.5\" y=\"181.457\">«part»</text><text fill=\"#000000\" font-family=\"sans-serif\" font-size=\"12\" lengthAdjust=\"spacingAndGlyphs\" textLength=\"98\" x=\"711\" y=\"196.5508\">rearWheel: Wheel</text><line style=\"stroke: #383838; stroke-width: 1.5;\" x1=\"709\" x2=\"811\" y1=\"204.1875\" y2=\"204.1875\"/><!--MD5=[4672eba38e49728da53d11aeb285b987]\n",
       "reverse link E3 to E4--><path d=\"M876.82,119.53 C877.762,134.732 878.772,151.035 879.563,163.807 \" fill=\"none\" id=\"E3&lt;-E4\" style=\"stroke: #383838; stroke-width: 1.0;\"/><ellipse cx=\"876.3705\" cy=\"112.2667\" fill=\"#FFFFFF\" rx=\"8\" ry=\"8\" style=\"stroke: #383838; stroke-width: 1.0;\"/><line style=\"stroke: #383838; stroke-width: 1.0;\" x1=\"876.8649\" x2=\"875.876\" y1=\"120.2514\" y2=\"104.282\"/><line style=\"stroke: #383838; stroke-width: 1.0;\" x1=\"868.3858\" x2=\"884.3552\" y1=\"112.7612\" y2=\"111.7722\"/><!--MD5=[85d356282659285ab4b2cfe2f634dd2b]\n",
       "reverse link E5 to E6--><path d=\"M328.951,88.493 C274.195,104.853 184.199,133.227 109,164 C103.451,166.271 97.6392,168.899 92.069,171.55 \" fill=\"none\" id=\"E5&lt;-E6\" style=\"stroke: #383838; stroke-width: 1.0;\"/><polygon fill=\"#383838\" points=\"341.748,84.697,334.8582,82.5686,330.2435,88.1098,337.1334,90.2382,341.748,84.697\" style=\"stroke: #383838; stroke-width: 1.0;\"/><!--MD5=[452b418e7f8a40397a49b8c0a78acc5b]\n",
       "reverse link E5 to E7--><path d=\"M329.953,99.541 C289.486,120.613 233.058,149.998 197.024,168.762 \" fill=\"none\" id=\"E5&lt;-E7\" style=\"stroke: #383838; stroke-width: 1.0;\"/><polygon fill=\"#383838\" points=\"341.696,93.425,334.5268,92.6485,331.0527,98.9675,338.2219,99.744,341.696,93.425\" style=\"stroke: #383838; stroke-width: 1.0;\"/><!--MD5=[827760032d119d06bbc92f75530fd7ae]\n",
       "reverse link E5 to E8--><path d=\"M347.008,106.569 C328.995,124.906 306.929,147.369 290.7,163.891 \" fill=\"none\" id=\"E5&lt;-E8\" style=\"stroke: #383838; stroke-width: 1.0;\"/><polygon fill=\"#383838\" points=\"356.27,97.14,349.2119,98.6173,347.8609,105.7008,354.919,104.2234,356.27,97.14\" style=\"stroke: #383838; stroke-width: 1.0;\"/><!--MD5=[9ae28de373ca99bb8a1b38d63370ca7e]\n",
       "reverse link E5 to E9--><path d=\"M379,110.167 C379,127.78 379,148.435 379,163.891 \" fill=\"none\" id=\"E5&lt;-E9\" style=\"stroke: #383838; stroke-width: 1.0;\"/><polygon fill=\"#383838\" points=\"379,97.14,375,103.14,379,109.14,383,103.14,379,97.14\" style=\"stroke: #383838; stroke-width: 1.0;\"/><!--MD5=[567a9522dca498f6b73d7bae1a0f7884]\n",
       "reverse link E5 to E10--><path d=\"M411.601,106.315 C430.148,124.699 452.942,147.293 469.687,163.891 \" fill=\"none\" id=\"E5&lt;-E10\" style=\"stroke: #383838; stroke-width: 1.0;\"/><polygon fill=\"#383838\" points=\"402.345,97.14,403.79,104.2048,410.8671,105.5883,409.4222,98.5234,402.345,97.14\" style=\"stroke: #383838; stroke-width: 1.0;\"/><!--MD5=[7877111193bc45e215789042e7f4cb0b]\n",
       "link E11 to E2--><path d=\"M634.334,212.14 C641.899,224.351 651.469,239.8 660.532,254.43 \" fill=\"none\" id=\"E11-&gt;E2\" style=\"stroke: #383838; stroke-width: 1.0;\"/><polygon fill=\"#FFFFFF\" points=\"671.166,271.5962,655.2098,259.1302,667.1114,251.7578,671.166,271.5962\" style=\"stroke: #383838; stroke-width: 1.0;\"/><ellipse cx=\"653.9085\" cy=\"253.2314\" fill=\"#383838\" rx=\"2\" ry=\"2\" style=\"stroke: #383838; stroke-width: 1.0;\"/><ellipse cx=\"662.4096\" cy=\"247.9654\" fill=\"#383838\" rx=\"2\" ry=\"2\" style=\"stroke: #383838; stroke-width: 1.0;\"/><!--MD5=[3325ed84abf42d30cf9871854ece8e0f]\n",
       "reverse link E5 to E11--><path d=\"M428.162,97.051 C469.76,116.556 529.081,144.37 570.714,163.891 \" fill=\"none\" id=\"E5&lt;-E11\" style=\"stroke: #383838; stroke-width: 1.0;\"/><polygon fill=\"#383838\" points=\"416.128,91.409,419.8624,97.5778,426.993,96.5033,423.2586,90.3345,416.128,91.409\" style=\"stroke: #383838; stroke-width: 1.0;\"/><text fill=\"#000000\" font-family=\"sans-serif\" font-size=\"13\" lengthAdjust=\"spacingAndGlyphs\" textLength=\"7\" x=\"552.1671\" y=\"154.3802\">2</text><!--MD5=[63c6921440a4d507355e031c43f22191]\n",
       "link E12 to E2--><path d=\"M745.666,212.14 C738.101,224.351 728.531,239.8 719.468,254.43 \" fill=\"none\" id=\"E12-&gt;E2\" style=\"stroke: #383838; stroke-width: 1.0;\"/><polygon fill=\"#FFFFFF\" points=\"708.834,271.5962,712.8886,251.7578,724.7902,259.1302,708.834,271.5962\" style=\"stroke: #383838; stroke-width: 1.0;\"/><ellipse cx=\"717.5904\" cy=\"247.9654\" fill=\"#383838\" rx=\"2\" ry=\"2\" style=\"stroke: #383838; stroke-width: 1.0;\"/><ellipse cx=\"726.0915\" cy=\"253.2314\" fill=\"#383838\" rx=\"2\" ry=\"2\" style=\"stroke: #383838; stroke-width: 1.0;\"/><!--MD5=[34d27d6d587f89a3ea738e677ae252de]\n",
       "reverse link E5 to E12--><path d=\"M428.948,87.729 C490.714,104.862 598.965,135.4 691,164 C696.426,165.686 702.077,167.49 707.705,169.319 \" fill=\"none\" id=\"E5&lt;-E12\" style=\"stroke: #383838; stroke-width: 1.0;\"/><polygon fill=\"#383838\" points=\"416.128,84.18,420.8438,89.6354,427.6933,87.3806,422.9775,81.9252,416.128,84.18\" style=\"stroke: #383838; stroke-width: 1.0;\"/><text fill=\"#000000\" font-family=\"sans-serif\" font-size=\"13\" lengthAdjust=\"spacingAndGlyphs\" textLength=\"7\" x=\"692.8588\" y=\"163.0736\">2</text><!--MD5=[7e811fa941a2799a084fe5d5ce6de182]\n",
       "@startuml\r\n",
       "skinparam monochrome true\r\n",
       "skinparam classbackgroundcolor white\r\n",
       "skinparam shadowing false\r\n",
       "skinparam wrapWidth 300\r\n",
       "hide circle\r\n",
       "\r\n",
       "package \"eVehicle_LogicalArchitecture_v3\" as E1   {\r\n",
       "comp def \"Wheel\" as E2  <<(T,blue)part def>> {\r\n",
       "size: WheelSize\r\n",
       "}\r\n",
       "comp def \"WheelSize\" as E3  <<(T,blue)attribute def>> {\r\n",
       "size: Integer\r\n",
       "}\r\n",
       "comp def \"Integer\" as E4  <<(T,blue)dataType>> {\r\n",
       "}\r\n",
       "comp usage \"eHSUV: Part\" as E5  <<(T,blue)part>> {\r\n",
       "}\r\n",
       "comp usage \"body: Part\" as E6  <<(T,blue)part>> {\r\n",
       "}\r\n",
       "comp usage \"battery: Part\" as E7  <<(T,blue)part>> {\r\n",
       "}\r\n",
       "comp usage \"engine: Part\" as E8  <<(T,blue)part>> {\r\n",
       "}\r\n",
       "comp usage \"frontAxis: Part\" as E9  <<(T,blue)part>> {\r\n",
       "}\r\n",
       "comp usage \"rearAxis: Part\" as E10  <<(T,blue)part>> {\r\n",
       "}\r\n",
       "comp usage \"frontWheel: Wheel\" as E11  <<(T,blue)part>> {\r\n",
       "}\r\n",
       "comp usage \"rearWheel: Wheel\" as E12  <<(T,blue)part>> {\r\n",
       "}\r\n",
       "E3 +- - E4\r\n",
       "E5 *- - E6\r\n",
       "E5 *- - E7\r\n",
       "E5 *- - E8\r\n",
       "E5 *- - E9\r\n",
       "E5 *- - E10\r\n",
       "E11 - -:|> E2\r\n",
       "E5 *- - \"2\"E11\r\n",
       "E12 - -:|> E2\r\n",
       "E5 *- - \"2\"E12\r\n",
       "}\r\n",
       "@enduml\r\n",
       "\n",
       "PlantUML version 1.2020.13(Sat Jun 13 14:26:38 CEST 2020)\n",
       "(EPL source distribution)\n",
       "Java Runtime: OpenJDK Runtime Environment\n",
       "JVM: OpenJDK 64-Bit Server VM\n",
       "Default Encoding: Cp1252\n",
       "Language: en\n",
       "Country: US\n",
       "--></g></svg>"
      ]
     },
     "execution_count": 14,
     "metadata": {},
     "output_type": "execute_result"
    }
   ],
   "source": [
    "%viz eVehicle_LogicalArchitecture_v3"
   ]
  },
  {
   "cell_type": "markdown",
   "metadata": {},
   "source": [
    "# Putting the parts together"
   ]
  },
  {
   "cell_type": "code",
   "execution_count": 10,
   "metadata": {},
   "outputs": [
    {
     "data": {
      "text/plain": [
       "Package eVehicle_LogicalArchitecture_v4 (58379191-e9f3-43e2-b4f5-cd0ab254e4af)\n"
      ]
     },
     "execution_count": 10,
     "metadata": {},
     "output_type": "execute_result"
    }
   ],
   "source": [
    "package eVehicle_LogicalArchitecture_v4 {\n",
    "    \n",
    "    part def Wheel {\n",
    "        attribute size : WheelSize;\n",
    "    }\n",
    "    \n",
    "    attribute def WheelSize {\n",
    "        import ScalarValues::Integer;\n",
    "        size : Integer;\n",
    "    }\n",
    "    \n",
    "    part eHSUV {    \n",
    "        part body;\n",
    "        part battery;\n",
    "        part engine;\n",
    "        part frontAxis;\n",
    "        part rearAxis;\n",
    "        part frontWheel : Wheel[2];\n",
    "        part rearWheel : Wheel[2];\n",
    "        \n",
    "        connect battery to engine;\n",
    "        connect engine to frontAxis;\n",
    "        connect frontAxis to frontWheel;\n",
    "        connect rearAxis to rearWheel;\n",
    "    }\n",
    "}"
   ]
  },
  {
   "cell_type": "code",
   "execution_count": 9,
   "metadata": {},
   "outputs": [
    {
     "data": {
      "text/plain": [
       "Package eVehicle_LogicalArchitecture_v4 (020efc19-c23d-4497-81ee-c0dcc833e7a9)\n",
       "  [Membership] PartDefinition Wheel (c82ae1fe-8579-4ec2-9b5d-0a0be76c6b0c)\n",
       "    [Superclassing] PartDefinition Part (f5d602d2-40c1-4c52-8ad0-ad452a58321c)\n",
       "    [FeatureMembership] AttributeUsage size (202a4e9c-a9e1-4d8a-83c9-d4257069312a)\n",
       "      [FeatureTyping] AttributeDefinition WheelSize (92e9c89b-00d0-4e62-9d2d-00ed86291477)\n",
       "      [Subsetting] Feature dataValues (831a3930-1874-43bb-949c-25443f00a684)\n",
       "  [Membership] AttributeDefinition WheelSize (92e9c89b-00d0-4e62-9d2d-00ed86291477)\n",
       "    [Superclassing] DataType DataValue (723b68e4-06a7-4316-9699-0a00c00a4be5)\n",
       "    [Membership Integer] DataType Integer (9fca8b37-48f9-4b74-83e0-eaace8c91022)\n",
       "    [FeatureMembership] AttributeUsage size (0ea367e8-9cea-44e3-9d14-78212a4601dc)\n",
       "      [FeatureTyping] DataType Integer (9fca8b37-48f9-4b74-83e0-eaace8c91022)\n",
       "      [Subsetting] Feature dataValues (831a3930-1874-43bb-949c-25443f00a684)\n",
       "  [Membership] PartUsage eHSUV (938edde2-7631-4663-b46c-ea2184eb0992)\n",
       "    [Subsetting] PartUsage parts (ddf56ce1-8d1b-4596-9d57-d96edd10d82f)\n",
       "    [FeatureMembership] PartUsage body (7c1b0deb-f315-4261-b808-853480725099)\n",
       "      [Subsetting] PartUsage parts (ddf56ce1-8d1b-4596-9d57-d96edd10d82f)\n",
       "    [FeatureMembership] PartUsage battery (8625febb-f1ab-42c6-97b8-e1782787e571)\n",
       "      [Subsetting] PartUsage parts (ddf56ce1-8d1b-4596-9d57-d96edd10d82f)\n",
       "    [FeatureMembership] PartUsage engine (e5f40230-df27-4213-8b04-d9ba60eb3acc)\n",
       "      [Subsetting] PartUsage parts (ddf56ce1-8d1b-4596-9d57-d96edd10d82f)\n",
       "    [FeatureMembership] PartUsage frontAxis (ea36a76d-3cc1-4e7c-8c9f-dd0473f8d844)\n",
       "      [Subsetting] PartUsage parts (ddf56ce1-8d1b-4596-9d57-d96edd10d82f)\n",
       "    [FeatureMembership] PartUsage rearAxis (04648c19-a374-4ac3-ab0d-510c2eea7e04)\n",
       "      [Subsetting] PartUsage parts (ddf56ce1-8d1b-4596-9d57-d96edd10d82f)\n",
       "    [FeatureMembership] PartUsage frontWheel (14013313-fa4d-4ac6-8c65-bbbe1cdef2a9)\n",
       "      [FeatureTyping] PartDefinition Wheel (c82ae1fe-8579-4ec2-9b5d-0a0be76c6b0c)\n",
       "      [Subsetting] PartUsage parts (ddf56ce1-8d1b-4596-9d57-d96edd10d82f)\n",
       "      [FeatureMembership] MultiplicityRange (2190d5d9-b2d7-4a2c-8cec-8552ea4b1895)\n",
       "        [Redefinition] MultiplicityRange (004bdc09-115d-4294-a861-00629a0fcf11)\n",
       "        [FeatureMembership] LiteralInteger (1feeb15b-d88e-4d96-a57c-27fee944fb73)\n",
       "          [ReturnParameterMembership] Feature $result (c975071f-b0b6-4f68-b40e-0e6940524f1e)\n",
       "    [FeatureMembership] PartUsage rearWheel (cccd2517-e708-4df4-8702-ebedecf9748b)\n",
       "      [FeatureTyping] PartDefinition Wheel (c82ae1fe-8579-4ec2-9b5d-0a0be76c6b0c)\n",
       "      [Subsetting] PartUsage parts (ddf56ce1-8d1b-4596-9d57-d96edd10d82f)\n",
       "      [FeatureMembership] MultiplicityRange (905e43b1-9e96-4a3c-85bc-bf968e7a739e)\n",
       "        [Redefinition] MultiplicityRange (004bdc09-115d-4294-a861-00629a0fcf11)\n",
       "        [FeatureMembership] LiteralInteger (1d975822-62c1-43ac-b12c-66be1c9c7360)\n",
       "          [ReturnParameterMembership] Feature $result (f10e03db-6af7-4363-a182-be02df59ff7d)\n",
       "    [FeatureMembership] ConnectionUsage (0b68c10c-8010-47c3-8afd-837060524930)\n",
       "      [Subsetting] ConnectionUsage connections (88383043-2dfb-4a17-afbc-0739abd6f925)\n",
       "      [EndFeatureMembership] Feature (8ba73aa0-fe49-48e2-8fc0-42107a651750)\n",
       "        [Subsetting] PartUsage battery (8625febb-f1ab-42c6-97b8-e1782787e571)\n",
       "        [Redefinition] ReferenceUsage (f2ac08a1-e010-45e4-bd55-b9c557f4e98b)\n",
       "      [EndFeatureMembership] Feature (22cd3f8c-8208-43ee-abbd-ce2265c9d86e)\n",
       "        [Subsetting] PartUsage engine (e5f40230-df27-4213-8b04-d9ba60eb3acc)\n",
       "        [Redefinition] ReferenceUsage (d137bbf7-16bf-4349-a1ca-69c14b190f10)\n"
      ]
     },
     "execution_count": 9,
     "metadata": {},
     "output_type": "execute_result"
    }
   ],
   "source": [
    "%show eVehicle_LogicalArchitecture_v4"
   ]
  },
  {
   "cell_type": "markdown",
   "metadata": {},
   "source": [
    "# Modeling interfaces"
   ]
  },
  {
   "cell_type": "markdown",
   "metadata": {},
   "source": [
    "# Modeling variants"
   ]
  },
  {
   "cell_type": "markdown",
   "metadata": {},
   "source": [
    "# Satisfying requirements"
   ]
  }
 ],
 "metadata": {
  "kernelspec": {
   "display_name": "SysML",
   "language": "sysml",
   "name": "sysml"
  },
  "language_info": {
   "codemirror_mode": "sysml",
   "file_extension": ".sysml",
   "mimetype": "text/x-sysml",
   "name": "SysML",
   "pygments_lexer": "java",
   "version": "1.0.0"
  }
 },
 "nbformat": 4,
 "nbformat_minor": 4
}
