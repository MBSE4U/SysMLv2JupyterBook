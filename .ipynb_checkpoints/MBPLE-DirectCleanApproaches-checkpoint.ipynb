{
 "cells": [
  {
   "cell_type": "code",
   "execution_count": 8,
   "id": "1d7b7f26",
   "metadata": {},
   "outputs": [
    {
     "data": {
      "text/plain": [
       "Package MPLEExample_DirectCleanApproach_Vehicle (a9a09c07-4d52-4707-8a0e-fc7188dfe098)\n"
      ]
     },
     "execution_count": 8,
     "metadata": {},
     "output_type": "execute_result"
    }
   ],
   "source": [
    "package MPLEExample_DirectCleanApproach_Vehicle {\n",
    "    \n",
    "    //\n",
    "    // Shared Assets\n",
    "    //\n",
    "    part def Vehicle {\n",
    "        variation roof : Roof {\n",
    "            variant part standardRoof : StandardRoof;\n",
    "            variant part skyRoof : SkyRoof;\n",
    "            variant part convertibleRoof : ConvertibleRoof;\n",
    "        }\n",
    "    }\n",
    "    \n",
    "    part def Roof;\n",
    "    part def StandardRoof :> Roof;\n",
    "    part def SkyRoof :> Roof;\n",
    "    part def ConvertibleRoof :> Roof;\n",
    "\n",
    "    //\n",
    "    // Member Products\n",
    "    //\n",
    "    part convertibleVehicle : Vehicle {\n",
    "        :>> roof = roof::convertibleRoof;\n",
    "    }\n",
    "    part standardVehicle : Vehicle {\n",
    "        :>> roof = roof::standardRoof;\n",
    "    }\n",
    "\n",
    "}"
   ]
  },
  {
   "cell_type": "code",
   "execution_count": 10,
   "id": "c59195de",
   "metadata": {},
   "outputs": [
    {
     "data": {
      "image/svg+xml": [
       "<?xml version=\"1.0\" encoding=\"UTF-8\" standalone=\"no\"?><svg xmlns=\"http://www.w3.org/2000/svg\" xmlns:xlink=\"http://www.w3.org/1999/xlink\" contentStyleType=\"text/css\" height=\"403px\" preserveAspectRatio=\"none\" style=\"width:492px;height:403px;background:#FFFFFF;\" version=\"1.1\" viewBox=\"0 0 492 403\" width=\"492px\" zoomAndPan=\"magnify\"><defs/><g><!--MD5=[fbc87193dbaf4d95561dea2c320d4a47]\n",
       "cluster E1--><g id=\"cluster_E1\"><a href=\"psysml:a9a09c07-4d52-4707-8a0e-fc7188dfe098\" target=\"_top\" title=\"psysml:a9a09c07-4d52-4707-8a0e-fc7188dfe098\" xlink:actuate=\"onRequest\" xlink:href=\"psysml:a9a09c07-4d52-4707-8a0e-fc7188dfe098\" xlink:show=\"new\" xlink:title=\"psysml:a9a09c07-4d52-4707-8a0e-fc7188dfe098\" xlink:type=\"simple\"><polygon fill=\"none\" points=\"16,6,337,6,344,29.6094,475,29.6094,475,396,16,396,16,6\" style=\"stroke:#000000;stroke-width:1.5;\"/><line style=\"stroke:#000000;stroke-width:1.5;\" x1=\"16\" x2=\"344\" y1=\"29.6094\" y2=\"29.6094\"/><text fill=\"#000000\" font-family=\"sans-serif\" font-size=\"14\" font-weight=\"bold\" lengthAdjust=\"spacing\" textLength=\"315\" x=\"20\" y=\"22.5332\">MPLEExample_DirectCleanApproach_Vehicle</text></a></g><!--MD5=[b4997ac47864f28c2f74865a473b2911]\n",
       "class E2--><a href=\"psysml:db09b05c-e286-4f0e-b699-aac27170c94f\" target=\"_top\" title=\"psysml:db09b05c-e286-4f0e-b699-aac27170c94f\" xlink:actuate=\"onRequest\" xlink:href=\"psysml:db09b05c-e286-4f0e-b699-aac27170c94f\" xlink:show=\"new\" xlink:title=\"psysml:db09b05c-e286-4f0e-b699-aac27170c94f\" xlink:type=\"simple\"><g id=\"elem_E2\"><rect fill=\"#FFFFFF\" height=\"50.7031\" id=\"E2\" style=\"stroke:#181818;stroke-width:0.5;\" width=\"60\" x=\"32\" y=\"200\"/><text fill=\"#000000\" font-family=\"sans-serif\" font-size=\"12\" font-style=\"italic\" lengthAdjust=\"spacing\" textLength=\"58\" x=\"33\" y=\"217.457\">«part  def»</text><text fill=\"#000000\" font-family=\"sans-serif\" font-size=\"14\" lengthAdjust=\"spacing\" textLength=\"46\" x=\"39\" y=\"234.627\">Vehicle</text><line style=\"stroke:#181818;stroke-width:0.5;\" x1=\"33\" x2=\"91\" y1=\"242.7031\" y2=\"242.7031\"/></g></a><!--MD5=[09b614a08d8cba4a07c9adeb5e0fee81]\n",
       "class E3--><a href=\"psysml:41e5240b-bbdc-42d9-8c76-485f31188b81\" target=\"_top\" title=\"psysml:41e5240b-bbdc-42d9-8c76-485f31188b81\" xlink:actuate=\"onRequest\" xlink:href=\"psysml:41e5240b-bbdc-42d9-8c76-485f31188b81\" xlink:show=\"new\" xlink:title=\"psysml:41e5240b-bbdc-42d9-8c76-485f31188b81\" xlink:type=\"simple\"><g id=\"elem_E3\"><rect fill=\"#FFFFFF\" height=\"50.7031\" id=\"E3\" style=\"stroke:#181818;stroke-width:0.5;\" width=\"60\" x=\"210\" y=\"329\"/><text fill=\"#000000\" font-family=\"sans-serif\" font-size=\"12\" font-style=\"italic\" lengthAdjust=\"spacing\" textLength=\"58\" x=\"211\" y=\"346.457\">«part  def»</text><text fill=\"#000000\" font-family=\"sans-serif\" font-size=\"14\" lengthAdjust=\"spacing\" textLength=\"30\" x=\"225\" y=\"363.627\">Roof</text><line style=\"stroke:#181818;stroke-width:0.5;\" x1=\"211\" x2=\"269\" y1=\"371.7031\" y2=\"371.7031\"/></g></a><!--MD5=[ebbe1d658d1005bcc118a6aa81145e00]\n",
       "class E4--><a href=\"psysml:50c5381b-5cd5-4333-bdb8-317bc870bd27\" target=\"_top\" title=\"psysml:50c5381b-5cd5-4333-bdb8-317bc870bd27\" xlink:actuate=\"onRequest\" xlink:href=\"psysml:50c5381b-5cd5-4333-bdb8-317bc870bd27\" xlink:show=\"new\" xlink:title=\"psysml:50c5381b-5cd5-4333-bdb8-317bc870bd27\" xlink:type=\"simple\"><g id=\"elem_E4\"><rect fill=\"#FFFFFF\" height=\"50.7031\" id=\"E4\" style=\"stroke:#181818;stroke-width:0.5;\" width=\"94\" x=\"365\" y=\"200\"/><text fill=\"#000000\" font-family=\"sans-serif\" font-size=\"12\" font-style=\"italic\" lengthAdjust=\"spacing\" textLength=\"58\" x=\"383\" y=\"217.457\">«part  def»</text><text fill=\"#000000\" font-family=\"sans-serif\" font-size=\"14\" lengthAdjust=\"spacing\" textLength=\"88\" x=\"368\" y=\"234.627\">StandardRoof</text><line style=\"stroke:#181818;stroke-width:0.5;\" x1=\"366\" x2=\"458\" y1=\"242.7031\" y2=\"242.7031\"/></g></a><!--MD5=[270fce915f116d4de14055a7c1d9a0f3]\n",
       "class E5--><a href=\"psysml:9f7fbeb3-46da-4e90-9590-c626614fe5e8\" target=\"_top\" title=\"psysml:9f7fbeb3-46da-4e90-9590-c626614fe5e8\" xlink:actuate=\"onRequest\" xlink:href=\"psysml:9f7fbeb3-46da-4e90-9590-c626614fe5e8\" xlink:show=\"new\" xlink:title=\"psysml:9f7fbeb3-46da-4e90-9590-c626614fe5e8\" xlink:type=\"simple\"><g id=\"elem_E5\"><rect fill=\"#FFFFFF\" height=\"50.7031\" id=\"E5\" style=\"stroke:#181818;stroke-width:0.5;\" width=\"60\" x=\"270\" y=\"200\"/><text fill=\"#000000\" font-family=\"sans-serif\" font-size=\"12\" font-style=\"italic\" lengthAdjust=\"spacing\" textLength=\"58\" x=\"271\" y=\"217.457\">«part  def»</text><text fill=\"#000000\" font-family=\"sans-serif\" font-size=\"14\" lengthAdjust=\"spacing\" textLength=\"53\" x=\"273.5\" y=\"234.627\">SkyRoof</text><line style=\"stroke:#181818;stroke-width:0.5;\" x1=\"271\" x2=\"329\" y1=\"242.7031\" y2=\"242.7031\"/></g></a><!--MD5=[60a26617385b1d2d0262a64233df1f8d]\n",
       "class E6--><a href=\"psysml:53e78ee7-2005-4a57-869c-ecff5def7467\" target=\"_top\" title=\"psysml:53e78ee7-2005-4a57-869c-ecff5def7467\" xlink:actuate=\"onRequest\" xlink:href=\"psysml:53e78ee7-2005-4a57-869c-ecff5def7467\" xlink:show=\"new\" xlink:title=\"psysml:53e78ee7-2005-4a57-869c-ecff5def7467\" xlink:type=\"simple\"><g id=\"elem_E6\"><rect fill=\"#FFFFFF\" height=\"50.7031\" id=\"E6\" style=\"stroke:#181818;stroke-width:0.5;\" width=\"108\" x=\"127\" y=\"200\"/><text fill=\"#000000\" font-family=\"sans-serif\" font-size=\"12\" font-style=\"italic\" lengthAdjust=\"spacing\" textLength=\"58\" x=\"152\" y=\"217.457\">«part  def»</text><text fill=\"#000000\" font-family=\"sans-serif\" font-size=\"14\" lengthAdjust=\"spacing\" textLength=\"102\" x=\"130\" y=\"234.627\">ConvertibleRoof</text><line style=\"stroke:#181818;stroke-width:0.5;\" x1=\"128\" x2=\"234\" y1=\"242.7031\" y2=\"242.7031\"/></g></a><!--MD5=[2156ba9850f5573cc1fc38a6a4b2f02b]\n",
       "class E7--><a href=\"psysml:59bfa2d0-709d-4baa-bc2f-5b2da9b5207d\" target=\"_top\" title=\"psysml:59bfa2d0-709d-4baa-bc2f-5b2da9b5207d\" xlink:actuate=\"onRequest\" xlink:href=\"psysml:59bfa2d0-709d-4baa-bc2f-5b2da9b5207d\" xlink:show=\"new\" xlink:title=\"psysml:59bfa2d0-709d-4baa-bc2f-5b2da9b5207d\" xlink:type=\"simple\"><g id=\"elem_E7\"><rect fill=\"#FFFFFF\" height=\"96.9656\" id=\"E7\" rx=\"10\" ry=\"10\" style=\"stroke:#181818;stroke-width:0.5;\" width=\"185\" x=\"239.5\" y=\"42\"/><text fill=\"#000000\" font-family=\"sans-serif\" font-size=\"12\" font-style=\"italic\" lengthAdjust=\"spacing\" textLength=\"35\" x=\"314.5\" y=\"59.457\">«part»</text><text fill=\"#000000\" font-family=\"sans-serif\" font-size=\"14\" lengthAdjust=\"spacing\" textLength=\"169\" x=\"245.5\" y=\"76.627\">convertibleVehicle: Vehicle</text><line style=\"stroke:#181818;stroke-width:0.5;\" x1=\"240.5\" x2=\"423.5\" y1=\"84.7031\" y2=\"84.7031\"/><text fill=\"#000000\" font-family=\"sans-serif\" font-size=\"14\" lengthAdjust=\"spacing\" textLength=\"173\" x=\"245.5\" y=\"114.2801\">roof = roof::convertibleRoof</text><text fill=\"#000000\" font-family=\"sans-serif\" font-size=\"14\" font-style=\"italic\" lengthAdjust=\"spacing\" textLength=\"99\" x=\"245.5\" y=\"131.8895\">:&gt;&gt;Vehicle::roof</text><text fill=\"#000000\" font-family=\"sans-serif\" font-size=\"14\" font-style=\"italic\" lengthAdjust=\"spacing\" textLength=\"68\" x=\"298\" y=\"97.9316\">references</text></g></a><!--MD5=[b9389687b975829384b498ac4b7476b2]\n",
       "class E8--><a href=\"psysml:7c2cfe1a-5b26-43dd-8693-0e74f7011e7c\" target=\"_top\" title=\"psysml:7c2cfe1a-5b26-43dd-8693-0e74f7011e7c\" xlink:actuate=\"onRequest\" xlink:href=\"psysml:7c2cfe1a-5b26-43dd-8693-0e74f7011e7c\" xlink:show=\"new\" xlink:title=\"psysml:7c2cfe1a-5b26-43dd-8693-0e74f7011e7c\" xlink:type=\"simple\"><g id=\"elem_E8\"><rect fill=\"#FFFFFF\" height=\"96.9656\" id=\"E8\" rx=\"10\" ry=\"10\" style=\"stroke:#181818;stroke-width:0.5;\" width=\"172\" x=\"32\" y=\"42\"/><text fill=\"#000000\" font-family=\"sans-serif\" font-size=\"12\" font-style=\"italic\" lengthAdjust=\"spacing\" textLength=\"35\" x=\"100.5\" y=\"59.457\">«part»</text><text fill=\"#000000\" font-family=\"sans-serif\" font-size=\"14\" lengthAdjust=\"spacing\" textLength=\"156\" x=\"38\" y=\"76.627\">standardVehicle: Vehicle</text><line style=\"stroke:#181818;stroke-width:0.5;\" x1=\"33\" x2=\"203\" y1=\"84.7031\" y2=\"84.7031\"/><text fill=\"#000000\" font-family=\"sans-serif\" font-size=\"14\" lengthAdjust=\"spacing\" textLength=\"160\" x=\"38\" y=\"114.2801\">roof = roof::standardRoof</text><text fill=\"#000000\" font-family=\"sans-serif\" font-size=\"14\" font-style=\"italic\" lengthAdjust=\"spacing\" textLength=\"99\" x=\"38\" y=\"131.8895\">:&gt;&gt;Vehicle::roof</text><text fill=\"#000000\" font-family=\"sans-serif\" font-size=\"14\" font-style=\"italic\" lengthAdjust=\"spacing\" textLength=\"68\" x=\"84\" y=\"97.9316\">references</text></g></a><!--MD5=[209b3feb70ccb6233bfe1053d122c12c]\n",
       "reverse link E2 to E3--><g id=\"link_E2_E3\"><a href=\"psysml:2c248bbd-a75a-4f13-864c-c8464b6d9e69\" target=\"_top\" title=\"psysml:2c248bbd-a75a-4f13-864c-c8464b6d9e69\" xlink:actuate=\"onRequest\" xlink:href=\"psysml:2c248bbd-a75a-4f13-864c-c8464b6d9e69\" xlink:show=\"new\" xlink:title=\"psysml:2c248bbd-a75a-4f13-864c-c8464b6d9e69\" xlink:type=\"simple\"><path d=\"M103.18,255.88 C135.81,279.16 180.64,311.15 209.95,332.06 \" fill=\"none\" id=\"E2-backto-E3\" style=\"stroke:#181818;stroke-width:1.0;\"/><polygon fill=\"none\" points=\"92.2,248.04,94.7652,254.7794,101.9728,255.0036,99.4076,248.2642,92.2,248.04\" style=\"stroke:#181818;stroke-width:1.0;\"/><text fill=\"#000000\" font-family=\"sans-serif\" font-size=\"13\" lengthAdjust=\"spacing\" textLength=\"21\" x=\"162\" y=\"295.4951\">roof</text><text fill=\"#000000\" font-family=\"sans-serif\" font-size=\"13\" lengthAdjust=\"spacing\" textLength=\"5\" x=\"197.0159\" y=\"322.2144\">*</text></a></g><!--MD5=[f0cdf4548168e5211fb3a02bf679d63a]\n",
       "link E4 to E3--><g id=\"link_E4_E3\"><a href=\"psysml:87cc4169-6024-4fbe-9d6b-363a23204933\" target=\"_top\" title=\"psysml:87cc4169-6024-4fbe-9d6b-363a23204933\" xlink:actuate=\"onRequest\" xlink:href=\"psysml:87cc4169-6024-4fbe-9d6b-363a23204933\" xlink:show=\"new\" xlink:title=\"psysml:87cc4169-6024-4fbe-9d6b-363a23204933\" xlink:type=\"simple\"><path d=\"M378.43,251.29 C352.24,270.63 315.55,297.71 286.53,319.15 \" fill=\"none\" id=\"E4-to-E3\" style=\"stroke:#181818;stroke-width:1.0;\"/><polygon fill=\"none\" points=\"290.28,325.07,270.04,331.32,281.97,313.81,290.28,325.07\" style=\"stroke:#181818;stroke-width:1.0;\"/></a></g><!--MD5=[e9be52314489bd878ff4c7144b63c9e1]\n",
       "link E5 to E3--><g id=\"link_E5_E3\"><a href=\"psysml:366ebf47-81a6-409d-82ae-3e9617817e7f\" target=\"_top\" title=\"psysml:366ebf47-81a6-409d-82ae-3e9617817e7f\" xlink:actuate=\"onRequest\" xlink:href=\"psysml:366ebf47-81a6-409d-82ae-3e9617817e7f\" xlink:show=\"new\" xlink:title=\"psysml:366ebf47-81a6-409d-82ae-3e9617817e7f\" xlink:type=\"simple\"><path d=\"M288.29,251.29 C280.32,268.16 269.56,290.92 260.23,310.69 \" fill=\"none\" id=\"E5-to-E3\" style=\"stroke:#181818;stroke-width:1.0;\"/><polygon fill=\"none\" points=\"266.55,313.68,251.68,328.77,253.9,307.7,266.55,313.68\" style=\"stroke:#181818;stroke-width:1.0;\"/></a></g><!--MD5=[a717450b82c80b9240a525fa862496af]\n",
       "link E6 to E3--><g id=\"link_E6_E3\"><a href=\"psysml:c6e3e807-38ba-4422-95f6-f0896cfef54b\" target=\"_top\" title=\"psysml:c6e3e807-38ba-4422-95f6-f0896cfef54b\" xlink:actuate=\"onRequest\" xlink:href=\"psysml:c6e3e807-38ba-4422-95f6-f0896cfef54b\" xlink:show=\"new\" xlink:title=\"psysml:c6e3e807-38ba-4422-95f6-f0896cfef54b\" xlink:type=\"simple\"><path d=\"M192.52,251.29 C200.31,268.07 210.82,290.69 219.97,310.38 \" fill=\"none\" id=\"E6-to-E3\" style=\"stroke:#181818;stroke-width:1.0;\"/><polygon fill=\"none\" points=\"226.44,307.69,228.51,328.77,213.74,313.59,226.44,307.69\" style=\"stroke:#181818;stroke-width:1.0;\"/></a></g><!--MD5=[583832df87f4419a098336a29a52fa00]\n",
       "link E7 to E2--><g id=\"link_E7_E2\"><a href=\"psysml:12dcc9df-258f-44c8-97d1-ff51459c8d8c\" target=\"_top\" title=\"psysml:12dcc9df-258f-44c8-97d1-ff51459c8d8c\" xlink:actuate=\"onRequest\" xlink:href=\"psysml:12dcc9df-258f-44c8-97d1-ff51459c8d8c\" xlink:show=\"new\" xlink:title=\"psysml:12dcc9df-258f-44c8-97d1-ff51459c8d8c\" xlink:type=\"simple\"><path d=\"M239.47,136.28 C203.62,153.73 161.91,174.16 110.13,200.02 \" fill=\"none\" id=\"E7-to-E2\" style=\"stroke:#181818;stroke-width:1.0;\"/><polygon fill=\"#FFFFFF\" points=\"92.17,209,106.0336,194.242,112.2946,206.7639,92.17,209\" style=\"stroke:#181818;stroke-width:1.0;\"/><ellipse cx=\"112.0263\" cy=\"193.4817\" fill=\"#181818\" rx=\"2\" ry=\"2\" style=\"stroke:#181818;stroke-width:1.0;\"/><ellipse cx=\"116.4984\" cy=\"202.426\" fill=\"#181818\" rx=\"2\" ry=\"2\" style=\"stroke:#181818;stroke-width:1.0;\"/></a></g><!--MD5=[f1f3f9f2fc535e6147756cb86a7f2e32]\n",
       "link E8 to E2--><g id=\"link_E8_E2\"><a href=\"psysml:4ea62164-ae44-4204-b4d6-28499342a42f\" target=\"_top\" title=\"psysml:4ea62164-ae44-4204-b4d6-28499342a42f\" xlink:actuate=\"onRequest\" xlink:href=\"psysml:4ea62164-ae44-4204-b4d6-28499342a42f\" xlink:show=\"new\" xlink:title=\"psysml:4ea62164-ae44-4204-b4d6-28499342a42f\" xlink:type=\"simple\"><path d=\"M97.94,139.14 C92.12,152.96 85.8,167.97 80.11,181.49 \" fill=\"none\" id=\"E8-to-E2\" style=\"stroke:#181818;stroke-width:1.0;\"/><polygon fill=\"#FFFFFF\" points=\"72.35,199.92,73.2828,179.693,86.1827,185.133,72.35,199.92\" style=\"stroke:#181818;stroke-width:1.0;\"/><ellipse cx=\"77.3405\" cy=\"175.2181\" fill=\"#181818\" rx=\"2\" ry=\"2\" style=\"stroke:#181818;stroke-width:1.0;\"/><ellipse cx=\"86.5547\" cy=\"179.1038\" fill=\"#181818\" rx=\"2\" ry=\"2\" style=\"stroke:#181818;stroke-width:1.0;\"/></a></g><!--MD5=[0d37027daffd4415bb60380bda3fbb50]\n",
       "@startuml\r\n",
       "skin sysmlbw\r\n",
       "skinparam monochrome true\r\n",
       "skinparam wrapWidth 300\r\n",
       "hide circle\r\n",
       "\r\n",
       "package \"MPLEExample_DirectCleanApproach_Vehicle\" as E1  [[psysml:a9a09c07-4d52-4707-8a0e-fc7188dfe098 ]]  {\r\n",
       "comp def \"Vehicle\" as E2  <<(T,blue) part  def>> [[psysml:db09b05c-e286-4f0e-b699-aac27170c94f ]] {\r\n",
       "}\r\n",
       "comp def \"Roof\" as E3  <<(T,blue) part  def>> [[psysml:41e5240b-bbdc-42d9-8c76-485f31188b81 ]] {\r\n",
       "}\r\n",
       "comp def \"StandardRoof\" as E4  <<(T,blue) part  def>> [[psysml:50c5381b-5cd5-4333-bdb8-317bc870bd27 ]] {\r\n",
       "}\r\n",
       "comp def \"SkyRoof\" as E5  <<(T,blue) part  def>> [[psysml:9f7fbeb3-46da-4e90-9590-c626614fe5e8 ]] {\r\n",
       "}\r\n",
       "comp def \"ConvertibleRoof\" as E6  <<(T,blue) part  def>> [[psysml:53e78ee7-2005-4a57-869c-ecff5def7467 ]] {\r\n",
       "}\r\n",
       "comp usage \"convertibleVehicle: Vehicle \" as E7  <<(T,blue) part>> [[psysml:59bfa2d0-709d-4baa-bc2f-5b2da9b5207d ]] {\r\n",
       "##//references//##\r\n",
       "roof <U+003D> roof::convertibleRoof\\n//:>>Vehicle::roof// \r\n",
       "}\r\n",
       "comp usage \"standardVehicle: Vehicle \" as E8  <<(T,blue) part>> [[psysml:7c2cfe1a-5b26-43dd-8693-0e74f7011e7c ]] {\r\n",
       "##//references//##\r\n",
       "roof <U+003D> roof::standardRoof\\n//:>>Vehicle::roof// \r\n",
       "}\r\n",
       "}\r\n",
       "E2 o- - \"*\"E3 [[psysml:2c248bbd-a75a-4f13-864c-c8464b6d9e69 ]] : roof\r\n",
       "E4 - -|> E3 [[psysml:87cc4169-6024-4fbe-9d6b-363a23204933 ]] \r\n",
       "E5 - -|> E3 [[psysml:366ebf47-81a6-409d-82ae-3e9617817e7f ]] \r\n",
       "E6 - -|> E3 [[psysml:c6e3e807-38ba-4422-95f6-f0896cfef54b ]] \r\n",
       "E7 - -:|> E2 [[psysml:12dcc9df-258f-44c8-97d1-ff51459c8d8c ]] \r\n",
       "E8 - -:|> E2 [[psysml:4ea62164-ae44-4204-b4d6-28499342a42f ]] \r\n",
       "@enduml\r\n",
       "\n",
       "PlantUML version 1.2022.7(Mon Aug 22 19:01:30 CEST 2022)\n",
       "(EPL source distribution)\n",
       "Java Runtime: OpenJDK Runtime Environment\n",
       "JVM: OpenJDK 64-Bit Server VM\n",
       "Default Encoding: Cp1252\n",
       "Language: en\n",
       "Country: US\n",
       "--></g></svg>"
      ]
     },
     "execution_count": 10,
     "metadata": {},
     "output_type": "execute_result"
    }
   ],
   "source": [
    "%viz MPLEExample_DirectCleanApproach_Vehicle"
   ]
  }
 ],
 "metadata": {
  "kernelspec": {
   "display_name": "SysML",
   "language": "sysml",
   "name": "sysml"
  },
  "language_info": {
   "codemirror_mode": "sysml",
   "file_extension": ".sysml",
   "mimetype": "text/x-sysml",
   "name": "SysML",
   "pygments_lexer": "java",
   "version": "1.0.0"
  }
 },
 "nbformat": 4,
 "nbformat_minor": 5
}
