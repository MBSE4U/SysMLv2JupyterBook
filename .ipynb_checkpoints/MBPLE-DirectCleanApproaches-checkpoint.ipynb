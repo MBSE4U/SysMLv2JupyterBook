{
 "cells": [
  {
   "cell_type": "code",
   "execution_count": 7,
   "id": "b06357d3",
   "metadata": {},
   "outputs": [
    {
     "data": {
      "text/plain": [
       "PartDefinition Vehicle (c72513c5-119b-464c-ad1c-a2b5bbe22421)\n",
       "PartDefinition Roof (0bbe1152-6738-4718-bd17-316dcbe3e0b6)\n",
       "PartDefinition StandardRoof (efd79c6b-1f36-4d0c-b1c4-f719b699f8ad)\n",
       "PartDefinition SkyRoof (2cd08732-f237-4857-b5e9-5d33b02f96e4)\n",
       "PartDefinition ConvertibleRoof (34559869-48ad-483b-b6fa-254d6b749ba6)\n",
       "PartDefinition RoofChoices (8673836d-27be-49b4-a9af-d65f446cd7e8)\n",
       "PartDefinition VehicleProductLine (68404c0d-a8f2-4e3c-88ba-f27ded99686d)\n",
       "PartUsage convertibleVehicle (953258c0-8509-40e4-9d4f-5646563e560f)\n"
      ]
     },
     "execution_count": 7,
     "metadata": {},
     "output_type": "execute_result"
    }
   ],
   "source": [
    "\n",
    "//\n",
    "// Shared Assets\n",
    "//\n",
    "part def Vehicle {\n",
    "    part roof : Roof;\n",
    "}\n",
    "\n",
    "part def Roof;\n",
    "part def StandardRoof :> Roof;\n",
    "part def SkyRoof :> Roof;\n",
    "part def ConvertibleRoof :> Roof;\n",
    "\n",
    "//\n",
    "// Definition of the variability\n",
    "//\n",
    "variation part def RoofChoices :> Roof {\n",
    "    variant part standardRoof : StandardRoof;\n",
    "    variant part skyRoof : SkyRoof;\n",
    "    variant part convertibleRoof : ConvertibleRoof;\n",
    "}\n",
    "part def VehicleProductLine :> Vehicle {\n",
    "    variation :>> roof : RoofChoices;\n",
    "}\n",
    "\n",
    "\n",
    "//\n",
    "// Member Products\n",
    "//\n",
    "part convertibleVehicle : VehicleProductLine {\n",
    "    :>> roof = roof::convertibleRoof;\n",
    "}"
   ]
  }
 ],
 "metadata": {
  "kernelspec": {
   "display_name": "SysML",
   "language": "sysml",
   "name": "sysml"
  },
  "language_info": {
   "codemirror_mode": "sysml",
   "file_extension": ".sysml",
   "mimetype": "text/x-sysml",
   "name": "SysML",
   "pygments_lexer": "java",
   "version": "1.0.0"
  }
 },
 "nbformat": 4,
 "nbformat_minor": 5
}
