{
 "cells": [
  {
   "cell_type": "markdown",
   "metadata": {},
   "source": [
    "# SysML v2 JupyterBook\n",
    "\n",
    "*Last update: December 12th, 2021*\n",
    "\n",
    "This Jupyter Notebook is an exploration of SysML v2 from the user perspective. It shows some SysML v2 basics, but mainly focuses on the special features compared to SysML v1 and how they can be used. For a detailed introduction to the textual syntax of SysML v2, I recommend the following PDF: [Introduction to the SysML v2 Language Textual Notation](https://github.com/Systems-Modeling/SysML-v2-Release/blob/master/doc/Intro%20to%20the%20SysML%20v2%20Language.pdf).\n",
    "\n",
    "**Please note: This is work in progress. You will see sketchy stuff. If you have any comments, contact me: [tim@mbse4u.com](mailto:tim@mbse4u.com).**\n",
    "\n",
    "## Table of Contents\n",
    "* [Modeling with SysML v2](#sysmlv2mod)\n",
    "    * [Introduction](#sysmlv2modintroduction)\n",
    "    * [Graphical and Textual Notation of SysML v2](#sysmlv2modnotation)\n",
    "    * [Example and first steps](#sysmlv2modexample)\n",
    "    * [Parts and PartDefinitions](#sysmlv2modparts)\n",
    "    * [Specialization and Subsetting](#sysmlv2modspecialization)\n",
    "    * [Putting the parts together](#sysmlv2modconnect)\n",
    "    * [Modeling Interfaces](#sysmlv2modinterfaces)\n",
    "    * [Modeling variants](#sysmlv2modvariants)\n",
    "    * [Modeling requirements](#sysmlv2modrequirements)\n",
    "    * [Libraries for the eVehicle example](#sysmlv2modlibrary)\n",
    "* [SysML v2 MBSE Methodologies JupyterBook](#sysmlv2modmethodologies)\n",
    "    * [SYSMOD with SysML v2](#sysmlv2sysmod)\n",
    "        * [System Idea and System Objectives](#sysmlv2sysmodidea)\n",
    "        * [System Context](#sysmlv2sysmodcontext)\n",
    "    * [FAS with SysML v2](#sysmlv2fas)\n",
    "    * [VAMOS (Variant Modeling with SysML](#sysmlv2vamos)\n",
    "\n",
    "# Modeling with SysML v2<a name=\"sysmlv2mod\"></a>"
   ]
  },
  {
   "cell_type": "markdown",
   "metadata": {},
   "source": [
    "## Introduction<a name=\"sysmlv2modintroduction\"></a>\n",
    "\n",
    "This section provides \n",
    "\n",
    "* a brief introduction of the modeling with SysML v2,\n",
    "* with a special focus on what is different compared to SysML v1.\n",
    "\n",
    "It is not (yet) a complete SysML v2 tutorial. It uses the SysML v2 pilot implementation which is not intended as full modeling tool for industrial application. "
   ]
  },
  {
   "cell_type": "markdown",
   "metadata": {},
   "source": [
    "## Graphical and Textual Notation of SysML v2<a name=\"sysmlv2modnotation\"></a>\n",
    "\n",
    "\n"
   ]
  },
  {
   "cell_type": "markdown",
   "metadata": {},
   "source": [
    "## Example and first steps<a name=\"sysmlv2modexample\"></a>\n",
    "\n",
    "The simple example system is the following electrical vehicle:\n",
    "\n",
    "![Electrical HSUV](lego-evehicle.jpg)\n",
    "\n",
    "Let's start with a logical architecture of the vehicle. A first major difference compared to SysML is that there is a textual syntax for SysML v2.\n",
    "The following cell shows the textual SysML v2 syntax of the logical architecture. The package statement defines the namespace of the architecture. The eVehicle architecture itself is a simple set of parts."
   ]
  },
  {
   "cell_type": "code",
   "execution_count": 1,
   "metadata": {},
   "outputs": [
    {
     "data": {
      "text/plain": [
       "Package eVehicle_LogicalArchitecture (38762aac-3544-4e04-bad2-e327772177c6)\n"
      ]
     },
     "execution_count": 1,
     "metadata": {},
     "output_type": "execute_result"
    }
   ],
   "source": [
    "package eVehicle_LogicalArchitecture {\n",
    "    part eVehicle {    \n",
    "        part body;\n",
    "        part battery;\n",
    "        part engine;\n",
    "        part frontAxis;\n",
    "        part rearAxis;\n",
    "        part frontWheel[2];\n",
    "        part rearWheel[2];\n",
    "    }\n",
    "}"
   ]
  },
  {
   "cell_type": "markdown",
   "metadata": {},
   "source": [
    "Run the cell above to create the real model. The text above is only the textual syntax of SysML v2. The show command provides a deep insight into the model structure:"
   ]
  },
  {
   "cell_type": "code",
   "execution_count": 2,
   "metadata": {},
   "outputs": [
    {
     "data": {
      "text/plain": [
       "Package eVehicle_LogicalArchitecture (38762aac-3544-4e04-bad2-e327772177c6)\n",
       "  [Membership] PartUsage eVehicle (4d31dd07-81a0-4fd5-85ab-55bff9dc1cd5)\n",
       "    [Subsetting (implicit)] PartUsage parts (a94fa591-5608-4e25-a690-494e9889965e)\n",
       "    [FeatureMembership] PartUsage body (e8cae817-f7cc-435d-a3bd-61891324bafb)\n",
       "      [Subsetting (implicit)] PartUsage parts (a94fa591-5608-4e25-a690-494e9889965e)\n",
       "    [FeatureMembership] PartUsage battery (efae3f3b-f0ae-47ec-b6cb-8ce7ad9b3a65)\n",
       "      [Subsetting (implicit)] PartUsage parts (a94fa591-5608-4e25-a690-494e9889965e)\n",
       "    [FeatureMembership] PartUsage engine (8d6ed75f-1a73-47f2-ae91-f8fb8e73bd0c)\n",
       "      [Subsetting (implicit)] PartUsage parts (a94fa591-5608-4e25-a690-494e9889965e)\n",
       "    [FeatureMembership] PartUsage frontAxis (c59799d3-b2f1-4387-ba91-00943df2e8ab)\n",
       "      [Subsetting (implicit)] PartUsage parts (a94fa591-5608-4e25-a690-494e9889965e)\n",
       "    [FeatureMembership] PartUsage rearAxis (bb1cc7af-62a3-49cf-9823-cfb3f7b72534)\n",
       "      [Subsetting (implicit)] PartUsage parts (a94fa591-5608-4e25-a690-494e9889965e)\n",
       "    [FeatureMembership] PartUsage frontWheel (600ccbd8-6ce9-442d-acc6-7e8fc58109e5)\n",
       "      [Subsetting (implicit)] PartUsage parts (a94fa591-5608-4e25-a690-494e9889965e)\n",
       "      [Membership] MultiplicityRange (85de026d-a033-42ac-ac8e-8b845468cc39)\n",
       "        [Subsetting (implicit)] Feature naturals (7daa3ba8-1580-4c74-a6ec-ea8c515c3b12)\n",
       "        [Membership] LiteralInteger (9d431957-e866-4789-964f-a2d4013c6d86)\n",
       "          [ReturnParameterMembership] Feature $result (42b82f0e-609c-48f6-b1a2-7fa70b354eed)\n",
       "    [FeatureMembership] PartUsage rearWheel (4df07ddc-739f-474e-9e7e-25b86094e6d6)\n",
       "      [Subsetting (implicit)] PartUsage parts (a94fa591-5608-4e25-a690-494e9889965e)\n",
       "      [Membership] MultiplicityRange (9680394f-b6a6-4793-80f1-1beebd969911)\n",
       "        [Subsetting (implicit)] Feature naturals (7daa3ba8-1580-4c74-a6ec-ea8c515c3b12)\n",
       "        [Membership] LiteralInteger (35f47da3-e928-41c8-888f-6416bfada141)\n",
       "          [ReturnParameterMembership] Feature $result (0157aea6-72dd-43e4-a05f-fa1a6f2e8a8e)\n"
      ]
     },
     "execution_count": 2,
     "metadata": {},
     "output_type": "execute_result"
    }
   ],
   "source": [
    "%show eVehicle_LogicalArchitecture"
   ]
  },
  {
   "cell_type": "markdown",
   "metadata": {},
   "source": [
    "More convenient for the common model user, of course, is the graphical notation presented after the execution of the following cell:"
   ]
  },
  {
   "cell_type": "code",
   "execution_count": 3,
   "metadata": {},
   "outputs": [
    {
     "data": {
      "image/svg+xml": [
       "<?xml version=\"1.0\" encoding=\"UTF-8\" standalone=\"no\"?><svg xmlns=\"http://www.w3.org/2000/svg\" xmlns:xlink=\"http://www.w3.org/1999/xlink\" contentScriptType=\"application/ecmascript\" contentStyleType=\"text/css\" height=\"226px\" preserveAspectRatio=\"none\" style=\"width:635px;height:226px;\" version=\"1.1\" viewBox=\"0 0 635 226\" width=\"635px\" zoomAndPan=\"magnify\"><defs/><g><!--MD5=[fbc87193dbaf4d95561dea2c320d4a47]\n",
       "cluster E1--><a href=\"psysml:e4fe39fc-58f5-4460-b6b0-7f97e9dfc836\" target=\"_top\" title=\"psysml:e4fe39fc-58f5-4460-b6b0-7f97e9dfc836\" xlink:actuate=\"onRequest\" xlink:href=\"psysml:e4fe39fc-58f5-4460-b6b0-7f97e9dfc836\" xlink:show=\"new\" xlink:title=\"psysml:e4fe39fc-58f5-4460-b6b0-7f97e9dfc836\" xlink:type=\"simple\"><polygon fill=\"#FFFFFF\" points=\"16,6,228,6,235,29.6094,613,29.6094,613,214,16,214,16,6\" style=\"stroke: #000000; stroke-width: 1.5;\"/><line style=\"stroke: #000000; stroke-width: 1.5;\" x1=\"16\" x2=\"235\" y1=\"29.6094\" y2=\"29.6094\"/><text fill=\"#000000\" font-family=\"sans-serif\" font-size=\"14\" font-weight=\"bold\" lengthAdjust=\"spacingAndGlyphs\" textLength=\"206\" x=\"20\" y=\"22.5332\">eVehicle_LogicalArchitecture</text></a><!--MD5=[b4997ac47864f28c2f74865a473b2911]\n",
       "class E2--><a href=\"psysml:0e94dd4f-1398-4675-936c-e69d1bbe1808\" target=\"_top\" title=\"psysml:0e94dd4f-1398-4675-936c-e69d1bbe1808\" xlink:actuate=\"onRequest\" xlink:href=\"psysml:0e94dd4f-1398-4675-936c-e69d1bbe1808\" xlink:show=\"new\" xlink:title=\"psysml:0e94dd4f-1398-4675-936c-e69d1bbe1808\" xlink:type=\"simple\"><rect fill=\"#FFFFFF\" height=\"48.1875\" id=\"E2\" rx=\"10\" ry=\"10\" style=\"stroke: #383838; stroke-width: 1.5;\" width=\"53\" x=\"260.5\" y=\"42\"/><text fill=\"#000000\" font-family=\"sans-serif\" font-size=\"12\" font-style=\"italic\" lengthAdjust=\"spacingAndGlyphs\" textLength=\"35\" x=\"269.5\" y=\"59.457\">«part»</text><text fill=\"#000000\" font-family=\"sans-serif\" font-size=\"12\" lengthAdjust=\"spacingAndGlyphs\" textLength=\"47\" x=\"263.5\" y=\"74.5508\">eVehicle</text><line style=\"stroke: #383838; stroke-width: 1.5;\" x1=\"261.5\" x2=\"312.5\" y1=\"82.1875\" y2=\"82.1875\"/></a><!--MD5=[09b614a08d8cba4a07c9adeb5e0fee81]\n",
       "class E3--><a href=\"psysml:9bff4ede-5569-4e95-870f-8db0d0263e47\" target=\"_top\" title=\"psysml:9bff4ede-5569-4e95-870f-8db0d0263e47\" xlink:actuate=\"onRequest\" xlink:href=\"psysml:9bff4ede-5569-4e95-870f-8db0d0263e47\" xlink:show=\"new\" xlink:title=\"psysml:9bff4ede-5569-4e95-870f-8db0d0263e47\" xlink:type=\"simple\"><rect fill=\"#FFFFFF\" height=\"48.1875\" id=\"E3\" rx=\"10\" ry=\"10\" style=\"stroke: #383838; stroke-width: 1.5;\" width=\"37\" x=\"32.5\" y=\"150\"/><text fill=\"#000000\" font-family=\"sans-serif\" font-size=\"12\" font-style=\"italic\" lengthAdjust=\"spacingAndGlyphs\" textLength=\"35\" x=\"33.5\" y=\"167.457\">«part»</text><text fill=\"#000000\" font-family=\"sans-serif\" font-size=\"12\" lengthAdjust=\"spacingAndGlyphs\" textLength=\"26\" x=\"38\" y=\"182.5508\">body</text><line style=\"stroke: #383838; stroke-width: 1.5;\" x1=\"33.5\" x2=\"68.5\" y1=\"190.1875\" y2=\"190.1875\"/></a><!--MD5=[ebbe1d658d1005bcc118a6aa81145e00]\n",
       "class E4--><a href=\"psysml:be66ea45-004d-4673-90cf-b9b0258f59cb\" target=\"_top\" title=\"psysml:be66ea45-004d-4673-90cf-b9b0258f59cb\" xlink:actuate=\"onRequest\" xlink:href=\"psysml:be66ea45-004d-4673-90cf-b9b0258f59cb\" xlink:show=\"new\" xlink:title=\"psysml:be66ea45-004d-4673-90cf-b9b0258f59cb\" xlink:type=\"simple\"><rect fill=\"#FFFFFF\" height=\"48.1875\" id=\"E4\" rx=\"10\" ry=\"10\" style=\"stroke: #383838; stroke-width: 1.5;\" width=\"42\" x=\"105\" y=\"150\"/><text fill=\"#000000\" font-family=\"sans-serif\" font-size=\"12\" font-style=\"italic\" lengthAdjust=\"spacingAndGlyphs\" textLength=\"35\" x=\"108.5\" y=\"167.457\">«part»</text><text fill=\"#000000\" font-family=\"sans-serif\" font-size=\"12\" lengthAdjust=\"spacingAndGlyphs\" textLength=\"36\" x=\"108\" y=\"182.5508\">battery</text><line style=\"stroke: #383838; stroke-width: 1.5;\" x1=\"106\" x2=\"146\" y1=\"190.1875\" y2=\"190.1875\"/></a><!--MD5=[270fce915f116d4de14055a7c1d9a0f3]\n",
       "class E5--><a href=\"psysml:5ea7a3c1-be92-47c7-9c88-38aab820bbbb\" target=\"_top\" title=\"psysml:5ea7a3c1-be92-47c7-9c88-38aab820bbbb\" xlink:actuate=\"onRequest\" xlink:href=\"psysml:5ea7a3c1-be92-47c7-9c88-38aab820bbbb\" xlink:show=\"new\" xlink:title=\"psysml:5ea7a3c1-be92-47c7-9c88-38aab820bbbb\" xlink:type=\"simple\"><rect fill=\"#FFFFFF\" height=\"48.1875\" id=\"E5\" rx=\"10\" ry=\"10\" style=\"stroke: #383838; stroke-width: 1.5;\" width=\"44\" x=\"182\" y=\"150\"/><text fill=\"#000000\" font-family=\"sans-serif\" font-size=\"12\" font-style=\"italic\" lengthAdjust=\"spacingAndGlyphs\" textLength=\"35\" x=\"186.5\" y=\"167.457\">«part»</text><text fill=\"#000000\" font-family=\"sans-serif\" font-size=\"12\" lengthAdjust=\"spacingAndGlyphs\" textLength=\"38\" x=\"185\" y=\"182.5508\">engine</text><line style=\"stroke: #383838; stroke-width: 1.5;\" x1=\"183\" x2=\"225\" y1=\"190.1875\" y2=\"190.1875\"/></a><!--MD5=[60a26617385b1d2d0262a64233df1f8d]\n",
       "class E6--><a href=\"psysml:9c9857a1-800b-46db-af41-80d83b7a96fa\" target=\"_top\" title=\"psysml:9c9857a1-800b-46db-af41-80d83b7a96fa\" xlink:actuate=\"onRequest\" xlink:href=\"psysml:9c9857a1-800b-46db-af41-80d83b7a96fa\" xlink:show=\"new\" xlink:title=\"psysml:9c9857a1-800b-46db-af41-80d83b7a96fa\" xlink:type=\"simple\"><rect fill=\"#FFFFFF\" height=\"48.1875\" id=\"E6\" rx=\"10\" ry=\"10\" style=\"stroke: #383838; stroke-width: 1.5;\" width=\"52\" x=\"261\" y=\"150\"/><text fill=\"#000000\" font-family=\"sans-serif\" font-size=\"12\" font-style=\"italic\" lengthAdjust=\"spacingAndGlyphs\" textLength=\"35\" x=\"269.5\" y=\"167.457\">«part»</text><text fill=\"#000000\" font-family=\"sans-serif\" font-size=\"12\" lengthAdjust=\"spacingAndGlyphs\" textLength=\"46\" x=\"264\" y=\"182.5508\">frontAxis</text><line style=\"stroke: #383838; stroke-width: 1.5;\" x1=\"262\" x2=\"312\" y1=\"190.1875\" y2=\"190.1875\"/></a><!--MD5=[2156ba9850f5573cc1fc38a6a4b2f02b]\n",
       "class E7--><a href=\"psysml:f09a2d77-44c0-4f20-bd99-16e26652c7bb\" target=\"_top\" title=\"psysml:f09a2d77-44c0-4f20-bd99-16e26652c7bb\" xlink:actuate=\"onRequest\" xlink:href=\"psysml:f09a2d77-44c0-4f20-bd99-16e26652c7bb\" xlink:show=\"new\" xlink:title=\"psysml:f09a2d77-44c0-4f20-bd99-16e26652c7bb\" xlink:type=\"simple\"><rect fill=\"#FFFFFF\" height=\"48.1875\" id=\"E7\" rx=\"10\" ry=\"10\" style=\"stroke: #383838; stroke-width: 1.5;\" width=\"50\" x=\"348\" y=\"150\"/><text fill=\"#000000\" font-family=\"sans-serif\" font-size=\"12\" font-style=\"italic\" lengthAdjust=\"spacingAndGlyphs\" textLength=\"35\" x=\"355.5\" y=\"167.457\">«part»</text><text fill=\"#000000\" font-family=\"sans-serif\" font-size=\"12\" lengthAdjust=\"spacingAndGlyphs\" textLength=\"44\" x=\"351\" y=\"182.5508\">rearAxis</text><line style=\"stroke: #383838; stroke-width: 1.5;\" x1=\"349\" x2=\"397\" y1=\"190.1875\" y2=\"190.1875\"/></a><!--MD5=[b9389687b975829384b498ac4b7476b2]\n",
       "class E8--><a href=\"psysml:a67dc1b3-76ae-4d67-a8a4-20e3767e6d8d\" target=\"_top\" title=\"psysml:a67dc1b3-76ae-4d67-a8a4-20e3767e6d8d\" xlink:actuate=\"onRequest\" xlink:href=\"psysml:a67dc1b3-76ae-4d67-a8a4-20e3767e6d8d\" xlink:show=\"new\" xlink:title=\"psysml:a67dc1b3-76ae-4d67-a8a4-20e3767e6d8d\" xlink:type=\"simple\"><rect fill=\"#FFFFFF\" height=\"48.1875\" id=\"E8\" rx=\"10\" ry=\"10\" style=\"stroke: #383838; stroke-width: 1.5;\" width=\"65\" x=\"433.5\" y=\"150\"/><text fill=\"#000000\" font-family=\"sans-serif\" font-size=\"12\" font-style=\"italic\" lengthAdjust=\"spacingAndGlyphs\" textLength=\"35\" x=\"448.5\" y=\"167.457\">«part»</text><text fill=\"#000000\" font-family=\"sans-serif\" font-size=\"12\" lengthAdjust=\"spacingAndGlyphs\" textLength=\"59\" x=\"436.5\" y=\"182.5508\">frontWheel</text><line style=\"stroke: #383838; stroke-width: 1.5;\" x1=\"434.5\" x2=\"497.5\" y1=\"190.1875\" y2=\"190.1875\"/></a><!--MD5=[fd4143e9d270a159db93a4ea2a975926]\n",
       "class E9--><a href=\"psysml:82db217f-d060-4430-9ecf-377454046b17\" target=\"_top\" title=\"psysml:82db217f-d060-4430-9ecf-377454046b17\" xlink:actuate=\"onRequest\" xlink:href=\"psysml:82db217f-d060-4430-9ecf-377454046b17\" xlink:show=\"new\" xlink:title=\"psysml:82db217f-d060-4430-9ecf-377454046b17\" xlink:type=\"simple\"><rect fill=\"#FFFFFF\" height=\"48.1875\" id=\"E9\" rx=\"10\" ry=\"10\" style=\"stroke: #383838; stroke-width: 1.5;\" width=\"63\" x=\"533.5\" y=\"150\"/><text fill=\"#000000\" font-family=\"sans-serif\" font-size=\"12\" font-style=\"italic\" lengthAdjust=\"spacingAndGlyphs\" textLength=\"35\" x=\"547.5\" y=\"167.457\">«part»</text><text fill=\"#000000\" font-family=\"sans-serif\" font-size=\"12\" lengthAdjust=\"spacingAndGlyphs\" textLength=\"57\" x=\"536.5\" y=\"182.5508\">rearWheel</text><line style=\"stroke: #383838; stroke-width: 1.5;\" x1=\"534.5\" x2=\"595.5\" y1=\"190.1875\" y2=\"190.1875\"/></a><!--MD5=[209b3feb70ccb6233bfe1053d122c12c]\n",
       "reverse link E2 to E3--><a href=\"psysml:9bff4ede-5569-4e95-870f-8db0d0263e47\" target=\"_top\" title=\"psysml:9bff4ede-5569-4e95-870f-8db0d0263e47\" xlink:actuate=\"onRequest\" xlink:href=\"psysml:9bff4ede-5569-4e95-870f-8db0d0263e47\" xlink:show=\"new\" xlink:title=\"psysml:9bff4ede-5569-4e95-870f-8db0d0263e47\" xlink:type=\"simple\"><path d=\"M247.996,81.13 C207.256,96.379 141.9,122.236 88,150 C81.9485,153.1172 75.5788,156.8853 69.8628,160.4614 \" fill=\"none\" id=\"E2&lt;-E3\" style=\"stroke: #383838; stroke-width: 1.0;\"/><polygon fill=\"#383838\" points=\"260.312,76.563,253.2956,74.8988,249.0607,80.7354,256.0772,82.3996,260.312,76.563\" style=\"stroke: #383838; stroke-width: 1.0;\"/></a><!--MD5=[9618e71518536f8baf3342ff6fdab317]\n",
       "reverse link E2 to E4--><a href=\"psysml:be66ea45-004d-4673-90cf-b9b0258f59cb\" target=\"_top\" title=\"psysml:be66ea45-004d-4673-90cf-b9b0258f59cb\" xlink:actuate=\"onRequest\" xlink:href=\"psysml:be66ea45-004d-4673-90cf-b9b0258f59cb\" xlink:show=\"new\" xlink:title=\"psysml:be66ea45-004d-4673-90cf-b9b0258f59cb\" xlink:type=\"simple\"><path d=\"M249.36,91.782 C217.664,112.65 173.454,141.7572 147.468,158.8658 \" fill=\"none\" id=\"E2&lt;-E4\" style=\"stroke: #383838; stroke-width: 1.0;\"/><polygon fill=\"#383838\" points=\"260.414,84.504,253.203,84.4622,250.391,91.1025,257.602,91.1442,260.414,84.504\" style=\"stroke: #383838; stroke-width: 1.0;\"/></a><!--MD5=[4e1a83fab71cdb913c109063314ae896]\n",
       "reverse link E2 to E5--><a href=\"psysml:5ea7a3c1-be92-47c7-9c88-38aab820bbbb\" target=\"_top\" title=\"psysml:5ea7a3c1-be92-47c7-9c88-38aab820bbbb\" xlink:actuate=\"onRequest\" xlink:href=\"psysml:5ea7a3c1-be92-47c7-9c88-38aab820bbbb\" xlink:show=\"new\" xlink:title=\"psysml:5ea7a3c1-be92-47c7-9c88-38aab820bbbb\" xlink:type=\"simple\"><path d=\"M260.734,100.545 C248.214,116.534 233.546,135.2666 222.261,149.6784 \" fill=\"none\" id=\"E2&lt;-E5\" style=\"stroke: #383838; stroke-width: 1.0;\"/><polygon fill=\"#383838\" points=\"268.99,90,262.1416,92.2583,261.5922,99.4484,268.4405,97.1901,268.99,90\" style=\"stroke: #383838; stroke-width: 1.0;\"/></a><!--MD5=[ce036f65110ae2351ccce5a81dc2e928]\n",
       "reverse link E2 to E6--><a href=\"psysml:9c9857a1-800b-46db-af41-80d83b7a96fa\" target=\"_top\" title=\"psysml:9c9857a1-800b-46db-af41-80d83b7a96fa\" xlink:actuate=\"onRequest\" xlink:href=\"psysml:9c9857a1-800b-46db-af41-80d83b7a96fa\" xlink:show=\"new\" xlink:title=\"psysml:9c9857a1-800b-46db-af41-80d83b7a96fa\" xlink:type=\"simple\"><path d=\"M287,103.338 C287,118.681 287,136.098 287,149.6784 \" fill=\"none\" id=\"E2&lt;-E6\" style=\"stroke: #383838; stroke-width: 1.0;\"/><polygon fill=\"#383838\" points=\"287,90,283,96,287,102,291,96,287,90\" style=\"stroke: #383838; stroke-width: 1.0;\"/></a><!--MD5=[1c72b32696d764168c30777981ec3f66]\n",
       "reverse link E2 to E7--><a href=\"psysml:f09a2d77-44c0-4f20-bd99-16e26652c7bb\" target=\"_top\" title=\"psysml:f09a2d77-44c0-4f20-bd99-16e26652c7bb\" xlink:actuate=\"onRequest\" xlink:href=\"psysml:f09a2d77-44c0-4f20-bd99-16e26652c7bb\" xlink:show=\"new\" xlink:title=\"psysml:f09a2d77-44c0-4f20-bd99-16e26652c7bb\" xlink:type=\"simple\"><path d=\"M314.216,100.545 C327.188,116.534 342.386,135.2666 354.079,149.6784 \" fill=\"none\" id=\"E2&lt;-E7\" style=\"stroke: #383838; stroke-width: 1.0;\"/><polygon fill=\"#383838\" points=\"305.661,90,306.3346,97.1796,313.221,99.3191,312.5474,92.1396,305.661,90\" style=\"stroke: #383838; stroke-width: 1.0;\"/></a><!--MD5=[65f962d72b3a6bed1ede4f3c867e43a4]\n",
       "reverse link E2 to E8--><a href=\"psysml:a67dc1b3-76ae-4d67-a8a4-20e3767e6d8d\" target=\"_top\" title=\"psysml:a67dc1b3-76ae-4d67-a8a4-20e3767e6d8d\" xlink:actuate=\"onRequest\" xlink:href=\"psysml:a67dc1b3-76ae-4d67-a8a4-20e3767e6d8d\" xlink:show=\"new\" xlink:title=\"psysml:a67dc1b3-76ae-4d67-a8a4-20e3767e6d8d\" xlink:type=\"simple\"><path d=\"M325.4,89.739 C357.509,108.754 402.815,135.5833 433.238,153.5989 \" fill=\"none\" id=\"E2&lt;-E8\" style=\"stroke: #383838; stroke-width: 1.0;\"/><polygon fill=\"#383838\" points=\"313.798,82.869,316.923,89.3678,324.1238,88.9827,320.9988,82.4839,313.798,82.869\" style=\"stroke: #383838; stroke-width: 1.0;\"/><text fill=\"#000000\" font-family=\"sans-serif\" font-size=\"13\" lengthAdjust=\"spacingAndGlyphs\" textLength=\"7\" x=\"418.3057\" y=\"144.8992\">2</text></a><!--MD5=[4a91eb351f2fb42055d99b719d3dd418]\n",
       "reverse link E2 to E9--><a href=\"psysml:82db217f-d060-4430-9ecf-377454046b17\" target=\"_top\" title=\"psysml:82db217f-d060-4430-9ecf-377454046b17\" xlink:actuate=\"onRequest\" xlink:href=\"psysml:82db217f-d060-4430-9ecf-377454046b17\" xlink:show=\"new\" xlink:title=\"psysml:82db217f-d060-4430-9ecf-377454046b17\" xlink:type=\"simple\"><path d=\"M326.081,79.95 C372,95.445 450.269,122.728 516,150 C521.642,152.3409 527.578,154.9758 533.295,157.6046 \" fill=\"none\" id=\"E2&lt;-E9\" style=\"stroke: #383838; stroke-width: 1.0;\"/><polygon fill=\"#383838\" points=\"313.748,75.81,318.1631,81.5115,325.1241,79.6289,320.709,73.9274,313.748,75.81\" style=\"stroke: #383838; stroke-width: 1.0;\"/><text fill=\"#000000\" font-family=\"sans-serif\" font-size=\"13\" lengthAdjust=\"spacingAndGlyphs\" textLength=\"7\" x=\"518.5939\" y=\"149.7812\">2</text></a><!--MD5=[7726550144215f7eda2da6ad4a02ece2]\n",
       "@startuml\r\n",
       "skinparam monochrome true\r\n",
       "skinparam classbackgroundcolor white\r\n",
       "skinparam shadowing false\r\n",
       "skinparam wrapWidth 300\r\n",
       "hide circle\r\n",
       "\r\n",
       "package \"eVehicle_LogicalArchitecture\" as E1  [[psysml:e4fe39fc-58f5-4460-b6b0-7f97e9dfc836 ]]  {\r\n",
       "comp usage \"eVehicle\" as E2  <<(T,blue)part>> [[psysml:0e94dd4f-1398-4675-936c-e69d1bbe1808 ]] {\r\n",
       "}\r\n",
       "comp usage \"body\" as E3  <<(T,blue)part>> [[psysml:9bff4ede-5569-4e95-870f-8db0d0263e47 ]] {\r\n",
       "}\r\n",
       "comp usage \"battery\" as E4  <<(T,blue)part>> [[psysml:be66ea45-004d-4673-90cf-b9b0258f59cb ]] {\r\n",
       "}\r\n",
       "comp usage \"engine\" as E5  <<(T,blue)part>> [[psysml:5ea7a3c1-be92-47c7-9c88-38aab820bbbb ]] {\r\n",
       "}\r\n",
       "comp usage \"frontAxis\" as E6  <<(T,blue)part>> [[psysml:9c9857a1-800b-46db-af41-80d83b7a96fa ]] {\r\n",
       "}\r\n",
       "comp usage \"rearAxis\" as E7  <<(T,blue)part>> [[psysml:f09a2d77-44c0-4f20-bd99-16e26652c7bb ]] {\r\n",
       "}\r\n",
       "comp usage \"frontWheel\" as E8  <<(T,blue)part>> [[psysml:a67dc1b3-76ae-4d67-a8a4-20e3767e6d8d ]] {\r\n",
       "}\r\n",
       "comp usage \"rearWheel\" as E9  <<(T,blue)part>> [[psysml:82db217f-d060-4430-9ecf-377454046b17 ]] {\r\n",
       "}\r\n",
       "E2 *- - E3 [[psysml:9bff4ede-5569-4e95-870f-8db0d0263e47 ]] \r\n",
       "E2 *- - E4 [[psysml:be66ea45-004d-4673-90cf-b9b0258f59cb ]] \r\n",
       "E2 *- - E5 [[psysml:5ea7a3c1-be92-47c7-9c88-38aab820bbbb ]] \r\n",
       "E2 *- - E6 [[psysml:9c9857a1-800b-46db-af41-80d83b7a96fa ]] \r\n",
       "E2 *- - E7 [[psysml:f09a2d77-44c0-4f20-bd99-16e26652c7bb ]] \r\n",
       "E2 *- - \"2\"E8 [[psysml:a67dc1b3-76ae-4d67-a8a4-20e3767e6d8d ]] \r\n",
       "E2 *- - \"2\"E9 [[psysml:82db217f-d060-4430-9ecf-377454046b17 ]] \r\n",
       "}\r\n",
       "@enduml\r\n",
       "\n",
       "PlantUML version 1.2020.13(Sat Jun 13 14:26:38 CEST 2020)\n",
       "(EPL source distribution)\n",
       "Java Runtime: OpenJDK Runtime Environment\n",
       "JVM: OpenJDK 64-Bit Server VM\n",
       "Default Encoding: Cp1252\n",
       "Language: en\n",
       "Country: US\n",
       "--></g></svg>"
      ]
     },
     "execution_count": 3,
     "metadata": {},
     "output_type": "execute_result"
    }
   ],
   "source": [
    "%viz --view=tree eVehicle_LogicalArchitecture"
   ]
  },
  {
   "cell_type": "markdown",
   "metadata": {},
   "source": [
    "The diagram is only a view, and not an editor. A graphical editor is not provided in the pilot implementation. Future SysML v2 modeling tools will certainly offer graphical editors."
   ]
  },
  {
   "cell_type": "markdown",
   "metadata": {},
   "source": [
    "### Changes to SysML v1\n",
    "\n",
    "SysML v2 is a complete new language with a different foundation than SysML v1. Therefore, there are plenty of differences. Here, I highlight only the changes that are most relevant to the modeler.\n",
    "\n",
    "If I had modeled the eVehicle in SysML v1, I would have had to first define blocks and then part properties whose types are the blocks.\n",
    "\n",
    "![eVehicle in SysML v1](evehicle-logical-architecture-sysmlv1.jpg)\n",
    "\n",
    "Did you notice it in my simple SysML v2 example above? There are no blocks there, only parts. To put it simply, this would be like modeling part properties in SysML v1 without blocks. Basically, it works that in SysML v1 you define a part without a block. But what is not possible in SysML v1 is that the parts themselves define substructures."
   ]
  },
  {
   "cell_type": "markdown",
   "metadata": {},
   "source": [
    "## Parts and PartDefinitions<a name=\"sysmlv2modparts\"></a>\n",
    "\n",
    "In SysML v2, you can define parts without types, but with substructures. I extend our example and add a property to the wheel to specify the size. The type of the attribute is Integer. I skip units for now. The textual syntax allows the keyword *attribute* or *value*. I prefer *value*."
   ]
  },
  {
   "cell_type": "code",
   "execution_count": 4,
   "metadata": {},
   "outputs": [
    {
     "data": {
      "text/plain": [
       "Package eVehicle_LogicalArchitecture (a25a6291-d1ee-4b7c-a19a-d9b881bdd0f5)\n"
      ]
     },
     "execution_count": 4,
     "metadata": {},
     "output_type": "execute_result"
    }
   ],
   "source": [
    "package eVehicle_LogicalArchitecture {\n",
    "    \n",
    "    import ScalarValues::Integer;\n",
    "    \n",
    "    part eVehicle {    \n",
    "        part body;\n",
    "        part battery;\n",
    "        part engine;\n",
    "        part frontAxis;\n",
    "        part rearAxis;\n",
    "        part frontWheel[2] {\n",
    "            value size : Integer;\n",
    "        }\n",
    "        part rearWheel[2] {\n",
    "            value size : Integer;\n",
    "        }\n",
    "    }\n",
    "}"
   ]
  },
  {
   "cell_type": "markdown",
   "metadata": {},
   "source": [
    "Run the cell with the SysML v2 model, and visualize the model. If you also would like to see the model structure, execute the %show command as described above."
   ]
  },
  {
   "cell_type": "code",
   "execution_count": 5,
   "metadata": {},
   "outputs": [
    {
     "data": {
      "image/svg+xml": [
       "<?xml version=\"1.0\" encoding=\"UTF-8\" standalone=\"no\"?><svg xmlns=\"http://www.w3.org/2000/svg\" xmlns:xlink=\"http://www.w3.org/1999/xlink\" contentScriptType=\"application/ecmascript\" contentStyleType=\"text/css\" height=\"258px\" preserveAspectRatio=\"none\" style=\"width:649px;height:258px;\" version=\"1.1\" viewBox=\"0 0 649 258\" width=\"649px\" zoomAndPan=\"magnify\"><defs/><g><!--MD5=[fbc87193dbaf4d95561dea2c320d4a47]\n",
       "cluster E1--><a href=\"psysml:70336afc-78c9-45b9-a88a-80b86f002aae\" target=\"_top\" title=\"psysml:70336afc-78c9-45b9-a88a-80b86f002aae\" xlink:actuate=\"onRequest\" xlink:href=\"psysml:70336afc-78c9-45b9-a88a-80b86f002aae\" xlink:show=\"new\" xlink:title=\"psysml:70336afc-78c9-45b9-a88a-80b86f002aae\" xlink:type=\"simple\"><polygon fill=\"#FFFFFF\" points=\"16,6,228,6,235,29.6094,627,29.6094,627,246,16,246,16,6\" style=\"stroke: #000000; stroke-width: 1.5;\"/><line style=\"stroke: #000000; stroke-width: 1.5;\" x1=\"16\" x2=\"235\" y1=\"29.6094\" y2=\"29.6094\"/><text fill=\"#000000\" font-family=\"sans-serif\" font-size=\"14\" font-weight=\"bold\" lengthAdjust=\"spacingAndGlyphs\" textLength=\"206\" x=\"20\" y=\"22.5332\">eVehicle_LogicalArchitecture</text></a><!--MD5=[b4997ac47864f28c2f74865a473b2911]\n",
       "class E2--><a href=\"psysml:b9e24e95-eb73-4c32-8ae2-4d6297abfadc\" target=\"_top\" title=\"psysml:b9e24e95-eb73-4c32-8ae2-4d6297abfadc\" xlink:actuate=\"onRequest\" xlink:href=\"psysml:b9e24e95-eb73-4c32-8ae2-4d6297abfadc\" xlink:show=\"new\" xlink:title=\"psysml:b9e24e95-eb73-4c32-8ae2-4d6297abfadc\" xlink:type=\"simple\"><rect fill=\"#FFFFFF\" height=\"48.1875\" id=\"E2\" style=\"stroke: #383838; stroke-width: 1.5;\" width=\"67\" x=\"445.5\" y=\"42\"/><text fill=\"#000000\" font-family=\"sans-serif\" font-size=\"12\" font-style=\"italic\" lengthAdjust=\"spacingAndGlyphs\" textLength=\"65\" x=\"446.5\" y=\"59.457\">«dataType»</text><text fill=\"#000000\" font-family=\"sans-serif\" font-size=\"12\" lengthAdjust=\"spacingAndGlyphs\" textLength=\"38\" x=\"460\" y=\"74.5508\">Integer</text><line style=\"stroke: #383838; stroke-width: 1.5;\" x1=\"446.5\" x2=\"511.5\" y1=\"82.1875\" y2=\"82.1875\"/></a><!--MD5=[09b614a08d8cba4a07c9adeb5e0fee81]\n",
       "class E3--><a href=\"psysml:ae00392f-3f91-4c68-a033-d4d36cded4ec\" target=\"_top\" title=\"psysml:ae00392f-3f91-4c68-a033-d4d36cded4ec\" xlink:actuate=\"onRequest\" xlink:href=\"psysml:ae00392f-3f91-4c68-a033-d4d36cded4ec\" xlink:show=\"new\" xlink:title=\"psysml:ae00392f-3f91-4c68-a033-d4d36cded4ec\" xlink:type=\"simple\"><rect fill=\"#FFFFFF\" height=\"48.1875\" id=\"E3\" rx=\"10\" ry=\"10\" style=\"stroke: #383838; stroke-width: 1.5;\" width=\"53\" x=\"260.5\" y=\"42\"/><text fill=\"#000000\" font-family=\"sans-serif\" font-size=\"12\" font-style=\"italic\" lengthAdjust=\"spacingAndGlyphs\" textLength=\"35\" x=\"269.5\" y=\"59.457\">«part»</text><text fill=\"#000000\" font-family=\"sans-serif\" font-size=\"12\" lengthAdjust=\"spacingAndGlyphs\" textLength=\"47\" x=\"263.5\" y=\"74.5508\">eVehicle</text><line style=\"stroke: #383838; stroke-width: 1.5;\" x1=\"261.5\" x2=\"312.5\" y1=\"82.1875\" y2=\"82.1875\"/></a><!--MD5=[ebbe1d658d1005bcc118a6aa81145e00]\n",
       "class E4--><a href=\"psysml:fc079aa5-fc77-4bba-8211-d16ab2a85a3c\" target=\"_top\" title=\"psysml:fc079aa5-fc77-4bba-8211-d16ab2a85a3c\" xlink:actuate=\"onRequest\" xlink:href=\"psysml:fc079aa5-fc77-4bba-8211-d16ab2a85a3c\" xlink:show=\"new\" xlink:title=\"psysml:fc079aa5-fc77-4bba-8211-d16ab2a85a3c\" xlink:type=\"simple\"><rect fill=\"#FFFFFF\" height=\"48.1875\" id=\"E4\" rx=\"10\" ry=\"10\" style=\"stroke: #383838; stroke-width: 1.5;\" width=\"37\" x=\"32.5\" y=\"166\"/><text fill=\"#000000\" font-family=\"sans-serif\" font-size=\"12\" font-style=\"italic\" lengthAdjust=\"spacingAndGlyphs\" textLength=\"35\" x=\"33.5\" y=\"183.457\">«part»</text><text fill=\"#000000\" font-family=\"sans-serif\" font-size=\"12\" lengthAdjust=\"spacingAndGlyphs\" textLength=\"26\" x=\"38\" y=\"198.5508\">body</text><line style=\"stroke: #383838; stroke-width: 1.5;\" x1=\"33.5\" x2=\"68.5\" y1=\"206.1875\" y2=\"206.1875\"/></a><!--MD5=[270fce915f116d4de14055a7c1d9a0f3]\n",
       "class E5--><a href=\"psysml:e0332da5-7433-4a50-8bd2-3705a2342767\" target=\"_top\" title=\"psysml:e0332da5-7433-4a50-8bd2-3705a2342767\" xlink:actuate=\"onRequest\" xlink:href=\"psysml:e0332da5-7433-4a50-8bd2-3705a2342767\" xlink:show=\"new\" xlink:title=\"psysml:e0332da5-7433-4a50-8bd2-3705a2342767\" xlink:type=\"simple\"><rect fill=\"#FFFFFF\" height=\"48.1875\" id=\"E5\" rx=\"10\" ry=\"10\" style=\"stroke: #383838; stroke-width: 1.5;\" width=\"42\" x=\"105\" y=\"166\"/><text fill=\"#000000\" font-family=\"sans-serif\" font-size=\"12\" font-style=\"italic\" lengthAdjust=\"spacingAndGlyphs\" textLength=\"35\" x=\"108.5\" y=\"183.457\">«part»</text><text fill=\"#000000\" font-family=\"sans-serif\" font-size=\"12\" lengthAdjust=\"spacingAndGlyphs\" textLength=\"36\" x=\"108\" y=\"198.5508\">battery</text><line style=\"stroke: #383838; stroke-width: 1.5;\" x1=\"106\" x2=\"146\" y1=\"206.1875\" y2=\"206.1875\"/></a><!--MD5=[60a26617385b1d2d0262a64233df1f8d]\n",
       "class E6--><a href=\"psysml:3e949bd2-d9e5-4cff-9288-ddb1ed205627\" target=\"_top\" title=\"psysml:3e949bd2-d9e5-4cff-9288-ddb1ed205627\" xlink:actuate=\"onRequest\" xlink:href=\"psysml:3e949bd2-d9e5-4cff-9288-ddb1ed205627\" xlink:show=\"new\" xlink:title=\"psysml:3e949bd2-d9e5-4cff-9288-ddb1ed205627\" xlink:type=\"simple\"><rect fill=\"#FFFFFF\" height=\"48.1875\" id=\"E6\" rx=\"10\" ry=\"10\" style=\"stroke: #383838; stroke-width: 1.5;\" width=\"44\" x=\"182\" y=\"166\"/><text fill=\"#000000\" font-family=\"sans-serif\" font-size=\"12\" font-style=\"italic\" lengthAdjust=\"spacingAndGlyphs\" textLength=\"35\" x=\"186.5\" y=\"183.457\">«part»</text><text fill=\"#000000\" font-family=\"sans-serif\" font-size=\"12\" lengthAdjust=\"spacingAndGlyphs\" textLength=\"38\" x=\"185\" y=\"198.5508\">engine</text><line style=\"stroke: #383838; stroke-width: 1.5;\" x1=\"183\" x2=\"225\" y1=\"206.1875\" y2=\"206.1875\"/></a><!--MD5=[2156ba9850f5573cc1fc38a6a4b2f02b]\n",
       "class E7--><a href=\"psysml:6cd6b740-3d25-4744-abff-f0ab8e77083c\" target=\"_top\" title=\"psysml:6cd6b740-3d25-4744-abff-f0ab8e77083c\" xlink:actuate=\"onRequest\" xlink:href=\"psysml:6cd6b740-3d25-4744-abff-f0ab8e77083c\" xlink:show=\"new\" xlink:title=\"psysml:6cd6b740-3d25-4744-abff-f0ab8e77083c\" xlink:type=\"simple\"><rect fill=\"#FFFFFF\" height=\"48.1875\" id=\"E7\" rx=\"10\" ry=\"10\" style=\"stroke: #383838; stroke-width: 1.5;\" width=\"52\" x=\"261\" y=\"166\"/><text fill=\"#000000\" font-family=\"sans-serif\" font-size=\"12\" font-style=\"italic\" lengthAdjust=\"spacingAndGlyphs\" textLength=\"35\" x=\"269.5\" y=\"183.457\">«part»</text><text fill=\"#000000\" font-family=\"sans-serif\" font-size=\"12\" lengthAdjust=\"spacingAndGlyphs\" textLength=\"46\" x=\"264\" y=\"198.5508\">frontAxis</text><line style=\"stroke: #383838; stroke-width: 1.5;\" x1=\"262\" x2=\"312\" y1=\"206.1875\" y2=\"206.1875\"/></a><!--MD5=[b9389687b975829384b498ac4b7476b2]\n",
       "class E8--><a href=\"psysml:45573fbe-6cb9-4e98-b058-5631baa04f04\" target=\"_top\" title=\"psysml:45573fbe-6cb9-4e98-b058-5631baa04f04\" xlink:actuate=\"onRequest\" xlink:href=\"psysml:45573fbe-6cb9-4e98-b058-5631baa04f04\" xlink:show=\"new\" xlink:title=\"psysml:45573fbe-6cb9-4e98-b058-5631baa04f04\" xlink:type=\"simple\"><rect fill=\"#FFFFFF\" height=\"48.1875\" id=\"E8\" rx=\"10\" ry=\"10\" style=\"stroke: #383838; stroke-width: 1.5;\" width=\"50\" x=\"348\" y=\"166\"/><text fill=\"#000000\" font-family=\"sans-serif\" font-size=\"12\" font-style=\"italic\" lengthAdjust=\"spacingAndGlyphs\" textLength=\"35\" x=\"355.5\" y=\"183.457\">«part»</text><text fill=\"#000000\" font-family=\"sans-serif\" font-size=\"12\" lengthAdjust=\"spacingAndGlyphs\" textLength=\"44\" x=\"351\" y=\"198.5508\">rearAxis</text><line style=\"stroke: #383838; stroke-width: 1.5;\" x1=\"349\" x2=\"397\" y1=\"206.1875\" y2=\"206.1875\"/></a><!--MD5=[fd4143e9d270a159db93a4ea2a975926]\n",
       "class E9--><a href=\"psysml:80135921-0845-49d6-a3fe-410a14d1c4f9\" target=\"_top\" title=\"psysml:80135921-0845-49d6-a3fe-410a14d1c4f9\" xlink:actuate=\"onRequest\" xlink:href=\"psysml:80135921-0845-49d6-a3fe-410a14d1c4f9\" xlink:show=\"new\" xlink:title=\"psysml:80135921-0845-49d6-a3fe-410a14d1c4f9\" xlink:type=\"simple\"><rect fill=\"#FFFFFF\" height=\"79.8594\" id=\"E9\" rx=\"10\" ry=\"10\" style=\"stroke: #383838; stroke-width: 1.5;\" width=\"71\" x=\"433.5\" y=\"150\"/><text fill=\"#000000\" font-family=\"sans-serif\" font-size=\"12\" font-style=\"italic\" lengthAdjust=\"spacingAndGlyphs\" textLength=\"35\" x=\"451.5\" y=\"167.457\">«part»</text><text fill=\"#000000\" font-family=\"sans-serif\" font-size=\"12\" lengthAdjust=\"spacingAndGlyphs\" textLength=\"59\" x=\"439.5\" y=\"182.5508\">frontWheel</text><line style=\"stroke: #383838; stroke-width: 1.5;\" x1=\"434.5\" x2=\"503.5\" y1=\"190.1875\" y2=\"190.1875\"/><text fill=\"#000000\" font-family=\"sans-serif\" font-size=\"11\" lengthAdjust=\"spacingAndGlyphs\" textLength=\"59\" x=\"439.5\" y=\"223.4424\">size: Integer</text><line style=\"stroke: #383838; stroke-width: 1.0;\" x1=\"434.5\" x2=\"446.5\" y1=\"205.1055\" y2=\"205.1055\"/><text fill=\"#000000\" font-family=\"sans-serif\" font-size=\"11\" lengthAdjust=\"spacingAndGlyphs\" textLength=\"45\" x=\"446.5\" y=\"209.1064\">attributes</text><line style=\"stroke: #383838; stroke-width: 1.0;\" x1=\"491.5\" x2=\"503.5\" y1=\"205.1055\" y2=\"205.1055\"/></a><!--MD5=[96f4274e9e20536e775497830990834d]\n",
       "class E10--><a href=\"psysml:6d8fe986-83d6-4b6f-ac90-1f4561507624\" target=\"_top\" title=\"psysml:6d8fe986-83d6-4b6f-ac90-1f4561507624\" xlink:actuate=\"onRequest\" xlink:href=\"psysml:6d8fe986-83d6-4b6f-ac90-1f4561507624\" xlink:show=\"new\" xlink:title=\"psysml:6d8fe986-83d6-4b6f-ac90-1f4561507624\" xlink:type=\"simple\"><rect fill=\"#FFFFFF\" height=\"79.8594\" id=\"E10\" rx=\"10\" ry=\"10\" style=\"stroke: #383838; stroke-width: 1.5;\" width=\"71\" x=\"539.5\" y=\"150\"/><text fill=\"#000000\" font-family=\"sans-serif\" font-size=\"12\" font-style=\"italic\" lengthAdjust=\"spacingAndGlyphs\" textLength=\"35\" x=\"557.5\" y=\"167.457\">«part»</text><text fill=\"#000000\" font-family=\"sans-serif\" font-size=\"12\" lengthAdjust=\"spacingAndGlyphs\" textLength=\"57\" x=\"546.5\" y=\"182.5508\">rearWheel</text><line style=\"stroke: #383838; stroke-width: 1.5;\" x1=\"540.5\" x2=\"609.5\" y1=\"190.1875\" y2=\"190.1875\"/><text fill=\"#000000\" font-family=\"sans-serif\" font-size=\"11\" lengthAdjust=\"spacingAndGlyphs\" textLength=\"59\" x=\"545.5\" y=\"223.4424\">size: Integer</text><line style=\"stroke: #383838; stroke-width: 1.0;\" x1=\"540.5\" x2=\"552.5\" y1=\"205.1055\" y2=\"205.1055\"/><text fill=\"#000000\" font-family=\"sans-serif\" font-size=\"11\" lengthAdjust=\"spacingAndGlyphs\" textLength=\"45\" x=\"552.5\" y=\"209.1064\">attributes</text><line style=\"stroke: #383838; stroke-width: 1.0;\" x1=\"597.5\" x2=\"609.5\" y1=\"205.1055\" y2=\"205.1055\"/></a><!--MD5=[4672eba38e49728da53d11aeb285b987]\n",
       "reverse link E3 to E4--><a href=\"psysml:fc079aa5-fc77-4bba-8211-d16ab2a85a3c\" target=\"_top\" title=\"psysml:fc079aa5-fc77-4bba-8211-d16ab2a85a3c\" xlink:actuate=\"onRequest\" xlink:href=\"psysml:fc079aa5-fc77-4bba-8211-d16ab2a85a3c\" xlink:show=\"new\" xlink:title=\"psysml:fc079aa5-fc77-4bba-8211-d16ab2a85a3c\" xlink:type=\"simple\"><path d=\"M247.782,78.009 C205.817,90.964 138.479,115.211 88,150 C81.391,154.555 75.0469,160.451 69.5354,166.2725 \" fill=\"none\" id=\"E3&lt;-E4\" style=\"stroke: #383838; stroke-width: 1.0;\"/><polygon fill=\"#383838\" points=\"260.463,74.201,253.5659,72.0963,248.9704,77.6534,255.8675,79.7581,260.463,74.201\" style=\"stroke: #383838; stroke-width: 1.0;\"/></a><!--MD5=[191cde3d490a3f6d7bb551fe3ddca469]\n",
       "reverse link E3 to E5--><a href=\"psysml:e0332da5-7433-4a50-8bd2-3705a2342767\" target=\"_top\" title=\"psysml:e0332da5-7433-4a50-8bd2-3705a2342767\" xlink:actuate=\"onRequest\" xlink:href=\"psysml:e0332da5-7433-4a50-8bd2-3705a2342767\" xlink:show=\"new\" xlink:title=\"psysml:e0332da5-7433-4a50-8bd2-3705a2342767\" xlink:type=\"simple\"><path d=\"M249.148,90.133 C224.369,105.9 191.747,127.862 165,150 C158.951,155.006 152.776,160.807 147.176,166.3794 \" fill=\"none\" id=\"E3&lt;-E5\" style=\"stroke: #383838; stroke-width: 1.0;\"/><polygon fill=\"#383838\" points=\"260.277,83.132,253.0684,82.9417,250.1202,89.5225,257.3288,89.7129,260.277,83.132\" style=\"stroke: #383838; stroke-width: 1.0;\"/></a><!--MD5=[1026b4b93417a13aa8999a858998add2]\n",
       "reverse link E3 to E6--><a href=\"psysml:3e949bd2-d9e5-4cff-9288-ddb1ed205627\" target=\"_top\" title=\"psysml:3e949bd2-d9e5-4cff-9288-ddb1ed205627\" xlink:actuate=\"onRequest\" xlink:href=\"psysml:3e949bd2-d9e5-4cff-9288-ddb1ed205627\" xlink:show=\"new\" xlink:title=\"psysml:3e949bd2-d9e5-4cff-9288-ddb1ed205627\" xlink:type=\"simple\"><path d=\"M263.801,101.1 C249.747,121.757 232.193,147.559 219.748,165.8521 \" fill=\"none\" id=\"E3&lt;-E6\" style=\"stroke: #383838; stroke-width: 1.0;\"/><polygon fill=\"#383838\" points=\"271.193,90.234,264.5106,92.9443,264.4423,100.1551,271.1246,97.4448,271.193,90.234\" style=\"stroke: #383838; stroke-width: 1.0;\"/></a><!--MD5=[85760999379eecfd2565a9fecdca67e4]\n",
       "reverse link E3 to E7--><a href=\"psysml:6cd6b740-3d25-4744-abff-f0ab8e77083c\" target=\"_top\" title=\"psysml:6cd6b740-3d25-4744-abff-f0ab8e77083c\" xlink:actuate=\"onRequest\" xlink:href=\"psysml:6cd6b740-3d25-4744-abff-f0ab8e77083c\" xlink:show=\"new\" xlink:title=\"psysml:6cd6b740-3d25-4744-abff-f0ab8e77083c\" xlink:type=\"simple\"><path d=\"M287,103.416 C287,123.658 287,148.237 287,165.8521 \" fill=\"none\" id=\"E3&lt;-E7\" style=\"stroke: #383838; stroke-width: 1.0;\"/><polygon fill=\"#383838\" points=\"287,90.234,283,96.234,287,102.234,291,96.234,287,90.234\" style=\"stroke: #383838; stroke-width: 1.0;\"/></a><!--MD5=[4cb75b73ec3682b8f7f8edc9cc86126a]\n",
       "reverse link E3 to E8--><a href=\"psysml:45573fbe-6cb9-4e98-b058-5631baa04f04\" target=\"_top\" title=\"psysml:45573fbe-6cb9-4e98-b058-5631baa04f04\" xlink:actuate=\"onRequest\" xlink:href=\"psysml:45573fbe-6cb9-4e98-b058-5631baa04f04\" xlink:show=\"new\" xlink:title=\"psysml:45573fbe-6cb9-4e98-b058-5631baa04f04\" xlink:type=\"simple\"><path d=\"M311.038,101.1 C325.599,121.757 343.788,147.559 356.683,165.8521 \" fill=\"none\" id=\"E3&lt;-E8\" style=\"stroke: #383838; stroke-width: 1.0;\"/><polygon fill=\"#383838\" points=\"303.378,90.234,303.5659,97.4427,310.2923,100.0417,310.1044,92.8331,303.378,90.234\" style=\"stroke: #383838; stroke-width: 1.0;\"/></a><!--MD5=[f7e0269b2e2fed3d07255bf4c5cf9d61]\n",
       "reverse link E3 to E9--><a href=\"psysml:80135921-0845-49d6-a3fe-410a14d1c4f9\" target=\"_top\" title=\"psysml:80135921-0845-49d6-a3fe-410a14d1c4f9\" xlink:actuate=\"onRequest\" xlink:href=\"psysml:80135921-0845-49d6-a3fe-410a14d1c4f9\" xlink:show=\"new\" xlink:title=\"psysml:80135921-0845-49d6-a3fe-410a14d1c4f9\" xlink:type=\"simple\"><path d=\"M324.73,90.403 C350.67,106.704 385.757,129.174 416,150 C421.645,153.888 427.556,158.095 433.297,162.2593 \" fill=\"none\" id=\"E3&lt;-E9\" style=\"stroke: #383838; stroke-width: 1.0;\"/><polygon fill=\"#383838\" points=\"313.506,83.375,316.4689,89.9493,323.677,89.7429,320.7141,83.1686,313.506,83.375\" style=\"stroke: #383838; stroke-width: 1.0;\"/><text fill=\"#000000\" font-family=\"sans-serif\" font-size=\"13\" lengthAdjust=\"spacingAndGlyphs\" textLength=\"7\" x=\"418.5789\" y=\"152.7661\">2</text></a><!--MD5=[622114938c97d4dd2a5a002a72a9cb82]\n",
       "reverse link E3 to E10--><a href=\"psysml:6d8fe986-83d6-4b6f-ac90-1f4561507624\" target=\"_top\" title=\"psysml:6d8fe986-83d6-4b6f-ac90-1f4561507624\" xlink:actuate=\"onRequest\" xlink:href=\"psysml:6d8fe986-83d6-4b6f-ac90-1f4561507624\" xlink:show=\"new\" xlink:title=\"psysml:6d8fe986-83d6-4b6f-ac90-1f4561507624\" xlink:type=\"simple\"><path d=\"M326.643,77.129 C374.589,90.241 456.952,115.559 522,150 C527.856,153.101 533.779,156.798 539.438,160.663 \" fill=\"none\" id=\"E3&lt;-E10\" style=\"stroke: #383838; stroke-width: 1.0;\"/><polygon fill=\"#383838\" points=\"313.788,73.681,318.5473,79.0985,325.3785,76.789,320.6193,71.3715,313.788,73.681\" style=\"stroke: #383838; stroke-width: 1.0;\"/><text fill=\"#000000\" font-family=\"sans-serif\" font-size=\"13\" lengthAdjust=\"spacingAndGlyphs\" textLength=\"7\" x=\"524.3815\" y=\"150.5081\">2</text></a><!--MD5=[cd829f5324fd0b0e989cce5b9892dde1]\n",
       "@startuml\r\n",
       "skinparam monochrome true\r\n",
       "skinparam classbackgroundcolor white\r\n",
       "skinparam shadowing false\r\n",
       "skinparam wrapWidth 300\r\n",
       "hide circle\r\n",
       "\r\n",
       "package \"eVehicle_LogicalArchitecture\" as E1  [[psysml:70336afc-78c9-45b9-a88a-80b86f002aae ]]  {\r\n",
       "comp def \"Integer\" as E2  <<(T,blue)dataType>> [[psysml:b9e24e95-eb73-4c32-8ae2-4d6297abfadc ]] {\r\n",
       "}\r\n",
       "comp usage \"eVehicle\" as E3  <<(T,blue)part>> [[psysml:ae00392f-3f91-4c68-a033-d4d36cded4ec ]] {\r\n",
       "}\r\n",
       "comp usage \"body\" as E4  <<(T,blue)part>> [[psysml:fc079aa5-fc77-4bba-8211-d16ab2a85a3c ]] {\r\n",
       "}\r\n",
       "comp usage \"battery\" as E5  <<(T,blue)part>> [[psysml:e0332da5-7433-4a50-8bd2-3705a2342767 ]] {\r\n",
       "}\r\n",
       "comp usage \"engine\" as E6  <<(T,blue)part>> [[psysml:3e949bd2-d9e5-4cff-9288-ddb1ed205627 ]] {\r\n",
       "}\r\n",
       "comp usage \"frontAxis\" as E7  <<(T,blue)part>> [[psysml:6cd6b740-3d25-4744-abff-f0ab8e77083c ]] {\r\n",
       "}\r\n",
       "comp usage \"rearAxis\" as E8  <<(T,blue)part>> [[psysml:45573fbe-6cb9-4e98-b058-5631baa04f04 ]] {\r\n",
       "}\r\n",
       "comp usage \"frontWheel\" as E9  <<(T,blue)part>> [[psysml:80135921-0845-49d6-a3fe-410a14d1c4f9 ]] {\r\n",
       "- - attributes - -\r\n",
       "size: Integer\r\n",
       "}\r\n",
       "comp usage \"rearWheel\" as E10  <<(T,blue)part>> [[psysml:6d8fe986-83d6-4b6f-ac90-1f4561507624 ]] {\r\n",
       "- - attributes - -\r\n",
       "size: Integer\r\n",
       "}\r\n",
       "E3 *- - E4 [[psysml:fc079aa5-fc77-4bba-8211-d16ab2a85a3c ]] \r\n",
       "E3 *- - E5 [[psysml:e0332da5-7433-4a50-8bd2-3705a2342767 ]] \r\n",
       "E3 *- - E6 [[psysml:3e949bd2-d9e5-4cff-9288-ddb1ed205627 ]] \r\n",
       "E3 *- - E7 [[psysml:6cd6b740-3d25-4744-abff-f0ab8e77083c ]] \r\n",
       "E3 *- - E8 [[psysml:45573fbe-6cb9-4e98-b058-5631baa04f04 ]] \r\n",
       "E3 *- - \"2\"E9 [[psysml:80135921-0845-49d6-a3fe-410a14d1c4f9 ]] \r\n",
       "E3 *- - \"2\"E10 [[psysml:6d8fe986-83d6-4b6f-ac90-1f4561507624 ]] \r\n",
       "}\r\n",
       "@enduml\r\n",
       "\n",
       "PlantUML version 1.2020.13(Sat Jun 13 14:26:38 CEST 2020)\n",
       "(EPL source distribution)\n",
       "Java Runtime: OpenJDK Runtime Environment\n",
       "JVM: OpenJDK 64-Bit Server VM\n",
       "Default Encoding: Cp1252\n",
       "Language: en\n",
       "Country: US\n",
       "--></g></svg>"
      ]
     },
     "execution_count": 5,
     "metadata": {},
     "output_type": "execute_result"
    }
   ],
   "source": [
    "%viz --view=tree eVehicle_LogicalArchitecture"
   ]
  },
  {
   "cell_type": "markdown",
   "metadata": {},
   "source": [
    "As in SysML v1, a part always needs a context in SysML v2. In our example, the part *eVehicle* is the context of the parts *body*, *battery*, and so forth. No context is explicitly defined for the part *eVehicle*. Then the context is implicitly the most general part definition named *Part* from the SysML v2 model library.\n",
    "\n",
    "Although it is still very simple, the model already smells of reuse. The size attribute is currently defined twice. Now, we define a type respectively PartDefinition *Wheel* and specify that as the type of the parts. The PartDefinition can be compared to the SysML v1 Block."
   ]
  },
  {
   "cell_type": "code",
   "execution_count": 51,
   "metadata": {},
   "outputs": [
    {
     "data": {
      "text/plain": [
       "Package eVehicle_Definitions (8d83e901-8b77-4e2d-889f-b2c3970f47bd)\n",
       "Package eVehicle_LogicalArchitecture (61745532-ca25-48ed-b21e-fbcb72dc3543)\n"
      ]
     },
     "execution_count": 51,
     "metadata": {},
     "output_type": "execute_result"
    }
   ],
   "source": [
    "package eVehicle_Definitions {\n",
    "\n",
    "    import ScalarValues::Integer;   \n",
    "    \n",
    "    part def Wheel {\n",
    "        value size : Integer;\n",
    "    }\n",
    "}\n",
    "\n",
    "package eVehicle_LogicalArchitecture {\n",
    "\n",
    "    import eVehicleDefinitions::*;\n",
    "    \n",
    "    part eVehicle {    \n",
    "        part body;\n",
    "        part battery;\n",
    "        part engine;\n",
    "        part frontAxis;\n",
    "        part rearAxis;\n",
    "        part frontWheel : Wheel[2];\n",
    "        part rearWheel : Wheel[2];\n",
    "    }\n",
    "}"
   ]
  },
  {
   "cell_type": "code",
   "execution_count": 7,
   "metadata": {},
   "outputs": [
    {
     "data": {
      "text/plain": [
       "ERROR:Couldn't resolve reference to Element 'eVehicle_Definitions'\n"
      ]
     },
     "execution_count": 7,
     "metadata": {},
     "output_type": "execute_result"
    }
   ],
   "source": [
    "%viz --view=tree eVehicle_Definitions"
   ]
  },
  {
   "cell_type": "code",
   "execution_count": 8,
   "metadata": {},
   "outputs": [
    {
     "data": {
      "image/svg+xml": [
       "<?xml version=\"1.0\" encoding=\"UTF-8\" standalone=\"no\"?><svg xmlns=\"http://www.w3.org/2000/svg\" xmlns:xlink=\"http://www.w3.org/1999/xlink\" contentScriptType=\"application/ecmascript\" contentStyleType=\"text/css\" height=\"258px\" preserveAspectRatio=\"none\" style=\"width:649px;height:258px;\" version=\"1.1\" viewBox=\"0 0 649 258\" width=\"649px\" zoomAndPan=\"magnify\"><defs/><g><!--MD5=[fbc87193dbaf4d95561dea2c320d4a47]\n",
       "cluster E1--><a href=\"psysml:70336afc-78c9-45b9-a88a-80b86f002aae\" target=\"_top\" title=\"psysml:70336afc-78c9-45b9-a88a-80b86f002aae\" xlink:actuate=\"onRequest\" xlink:href=\"psysml:70336afc-78c9-45b9-a88a-80b86f002aae\" xlink:show=\"new\" xlink:title=\"psysml:70336afc-78c9-45b9-a88a-80b86f002aae\" xlink:type=\"simple\"><polygon fill=\"#FFFFFF\" points=\"16,6,228,6,235,29.6094,627,29.6094,627,246,16,246,16,6\" style=\"stroke: #000000; stroke-width: 1.5;\"/><line style=\"stroke: #000000; stroke-width: 1.5;\" x1=\"16\" x2=\"235\" y1=\"29.6094\" y2=\"29.6094\"/><text fill=\"#000000\" font-family=\"sans-serif\" font-size=\"14\" font-weight=\"bold\" lengthAdjust=\"spacingAndGlyphs\" textLength=\"206\" x=\"20\" y=\"22.5332\">eVehicle_LogicalArchitecture</text></a><!--MD5=[b4997ac47864f28c2f74865a473b2911]\n",
       "class E2--><a href=\"psysml:b9e24e95-eb73-4c32-8ae2-4d6297abfadc\" target=\"_top\" title=\"psysml:b9e24e95-eb73-4c32-8ae2-4d6297abfadc\" xlink:actuate=\"onRequest\" xlink:href=\"psysml:b9e24e95-eb73-4c32-8ae2-4d6297abfadc\" xlink:show=\"new\" xlink:title=\"psysml:b9e24e95-eb73-4c32-8ae2-4d6297abfadc\" xlink:type=\"simple\"><rect fill=\"#FFFFFF\" height=\"48.1875\" id=\"E2\" style=\"stroke: #383838; stroke-width: 1.5;\" width=\"67\" x=\"445.5\" y=\"42\"/><text fill=\"#000000\" font-family=\"sans-serif\" font-size=\"12\" font-style=\"italic\" lengthAdjust=\"spacingAndGlyphs\" textLength=\"65\" x=\"446.5\" y=\"59.457\">«dataType»</text><text fill=\"#000000\" font-family=\"sans-serif\" font-size=\"12\" lengthAdjust=\"spacingAndGlyphs\" textLength=\"38\" x=\"460\" y=\"74.5508\">Integer</text><line style=\"stroke: #383838; stroke-width: 1.5;\" x1=\"446.5\" x2=\"511.5\" y1=\"82.1875\" y2=\"82.1875\"/></a><!--MD5=[09b614a08d8cba4a07c9adeb5e0fee81]\n",
       "class E3--><a href=\"psysml:ae00392f-3f91-4c68-a033-d4d36cded4ec\" target=\"_top\" title=\"psysml:ae00392f-3f91-4c68-a033-d4d36cded4ec\" xlink:actuate=\"onRequest\" xlink:href=\"psysml:ae00392f-3f91-4c68-a033-d4d36cded4ec\" xlink:show=\"new\" xlink:title=\"psysml:ae00392f-3f91-4c68-a033-d4d36cded4ec\" xlink:type=\"simple\"><rect fill=\"#FFFFFF\" height=\"48.1875\" id=\"E3\" rx=\"10\" ry=\"10\" style=\"stroke: #383838; stroke-width: 1.5;\" width=\"53\" x=\"260.5\" y=\"42\"/><text fill=\"#000000\" font-family=\"sans-serif\" font-size=\"12\" font-style=\"italic\" lengthAdjust=\"spacingAndGlyphs\" textLength=\"35\" x=\"269.5\" y=\"59.457\">«part»</text><text fill=\"#000000\" font-family=\"sans-serif\" font-size=\"12\" lengthAdjust=\"spacingAndGlyphs\" textLength=\"47\" x=\"263.5\" y=\"74.5508\">eVehicle</text><line style=\"stroke: #383838; stroke-width: 1.5;\" x1=\"261.5\" x2=\"312.5\" y1=\"82.1875\" y2=\"82.1875\"/></a><!--MD5=[ebbe1d658d1005bcc118a6aa81145e00]\n",
       "class E4--><a href=\"psysml:fc079aa5-fc77-4bba-8211-d16ab2a85a3c\" target=\"_top\" title=\"psysml:fc079aa5-fc77-4bba-8211-d16ab2a85a3c\" xlink:actuate=\"onRequest\" xlink:href=\"psysml:fc079aa5-fc77-4bba-8211-d16ab2a85a3c\" xlink:show=\"new\" xlink:title=\"psysml:fc079aa5-fc77-4bba-8211-d16ab2a85a3c\" xlink:type=\"simple\"><rect fill=\"#FFFFFF\" height=\"48.1875\" id=\"E4\" rx=\"10\" ry=\"10\" style=\"stroke: #383838; stroke-width: 1.5;\" width=\"37\" x=\"32.5\" y=\"166\"/><text fill=\"#000000\" font-family=\"sans-serif\" font-size=\"12\" font-style=\"italic\" lengthAdjust=\"spacingAndGlyphs\" textLength=\"35\" x=\"33.5\" y=\"183.457\">«part»</text><text fill=\"#000000\" font-family=\"sans-serif\" font-size=\"12\" lengthAdjust=\"spacingAndGlyphs\" textLength=\"26\" x=\"38\" y=\"198.5508\">body</text><line style=\"stroke: #383838; stroke-width: 1.5;\" x1=\"33.5\" x2=\"68.5\" y1=\"206.1875\" y2=\"206.1875\"/></a><!--MD5=[270fce915f116d4de14055a7c1d9a0f3]\n",
       "class E5--><a href=\"psysml:e0332da5-7433-4a50-8bd2-3705a2342767\" target=\"_top\" title=\"psysml:e0332da5-7433-4a50-8bd2-3705a2342767\" xlink:actuate=\"onRequest\" xlink:href=\"psysml:e0332da5-7433-4a50-8bd2-3705a2342767\" xlink:show=\"new\" xlink:title=\"psysml:e0332da5-7433-4a50-8bd2-3705a2342767\" xlink:type=\"simple\"><rect fill=\"#FFFFFF\" height=\"48.1875\" id=\"E5\" rx=\"10\" ry=\"10\" style=\"stroke: #383838; stroke-width: 1.5;\" width=\"42\" x=\"105\" y=\"166\"/><text fill=\"#000000\" font-family=\"sans-serif\" font-size=\"12\" font-style=\"italic\" lengthAdjust=\"spacingAndGlyphs\" textLength=\"35\" x=\"108.5\" y=\"183.457\">«part»</text><text fill=\"#000000\" font-family=\"sans-serif\" font-size=\"12\" lengthAdjust=\"spacingAndGlyphs\" textLength=\"36\" x=\"108\" y=\"198.5508\">battery</text><line style=\"stroke: #383838; stroke-width: 1.5;\" x1=\"106\" x2=\"146\" y1=\"206.1875\" y2=\"206.1875\"/></a><!--MD5=[60a26617385b1d2d0262a64233df1f8d]\n",
       "class E6--><a href=\"psysml:3e949bd2-d9e5-4cff-9288-ddb1ed205627\" target=\"_top\" title=\"psysml:3e949bd2-d9e5-4cff-9288-ddb1ed205627\" xlink:actuate=\"onRequest\" xlink:href=\"psysml:3e949bd2-d9e5-4cff-9288-ddb1ed205627\" xlink:show=\"new\" xlink:title=\"psysml:3e949bd2-d9e5-4cff-9288-ddb1ed205627\" xlink:type=\"simple\"><rect fill=\"#FFFFFF\" height=\"48.1875\" id=\"E6\" rx=\"10\" ry=\"10\" style=\"stroke: #383838; stroke-width: 1.5;\" width=\"44\" x=\"182\" y=\"166\"/><text fill=\"#000000\" font-family=\"sans-serif\" font-size=\"12\" font-style=\"italic\" lengthAdjust=\"spacingAndGlyphs\" textLength=\"35\" x=\"186.5\" y=\"183.457\">«part»</text><text fill=\"#000000\" font-family=\"sans-serif\" font-size=\"12\" lengthAdjust=\"spacingAndGlyphs\" textLength=\"38\" x=\"185\" y=\"198.5508\">engine</text><line style=\"stroke: #383838; stroke-width: 1.5;\" x1=\"183\" x2=\"225\" y1=\"206.1875\" y2=\"206.1875\"/></a><!--MD5=[2156ba9850f5573cc1fc38a6a4b2f02b]\n",
       "class E7--><a href=\"psysml:6cd6b740-3d25-4744-abff-f0ab8e77083c\" target=\"_top\" title=\"psysml:6cd6b740-3d25-4744-abff-f0ab8e77083c\" xlink:actuate=\"onRequest\" xlink:href=\"psysml:6cd6b740-3d25-4744-abff-f0ab8e77083c\" xlink:show=\"new\" xlink:title=\"psysml:6cd6b740-3d25-4744-abff-f0ab8e77083c\" xlink:type=\"simple\"><rect fill=\"#FFFFFF\" height=\"48.1875\" id=\"E7\" rx=\"10\" ry=\"10\" style=\"stroke: #383838; stroke-width: 1.5;\" width=\"52\" x=\"261\" y=\"166\"/><text fill=\"#000000\" font-family=\"sans-serif\" font-size=\"12\" font-style=\"italic\" lengthAdjust=\"spacingAndGlyphs\" textLength=\"35\" x=\"269.5\" y=\"183.457\">«part»</text><text fill=\"#000000\" font-family=\"sans-serif\" font-size=\"12\" lengthAdjust=\"spacingAndGlyphs\" textLength=\"46\" x=\"264\" y=\"198.5508\">frontAxis</text><line style=\"stroke: #383838; stroke-width: 1.5;\" x1=\"262\" x2=\"312\" y1=\"206.1875\" y2=\"206.1875\"/></a><!--MD5=[b9389687b975829384b498ac4b7476b2]\n",
       "class E8--><a href=\"psysml:45573fbe-6cb9-4e98-b058-5631baa04f04\" target=\"_top\" title=\"psysml:45573fbe-6cb9-4e98-b058-5631baa04f04\" xlink:actuate=\"onRequest\" xlink:href=\"psysml:45573fbe-6cb9-4e98-b058-5631baa04f04\" xlink:show=\"new\" xlink:title=\"psysml:45573fbe-6cb9-4e98-b058-5631baa04f04\" xlink:type=\"simple\"><rect fill=\"#FFFFFF\" height=\"48.1875\" id=\"E8\" rx=\"10\" ry=\"10\" style=\"stroke: #383838; stroke-width: 1.5;\" width=\"50\" x=\"348\" y=\"166\"/><text fill=\"#000000\" font-family=\"sans-serif\" font-size=\"12\" font-style=\"italic\" lengthAdjust=\"spacingAndGlyphs\" textLength=\"35\" x=\"355.5\" y=\"183.457\">«part»</text><text fill=\"#000000\" font-family=\"sans-serif\" font-size=\"12\" lengthAdjust=\"spacingAndGlyphs\" textLength=\"44\" x=\"351\" y=\"198.5508\">rearAxis</text><line style=\"stroke: #383838; stroke-width: 1.5;\" x1=\"349\" x2=\"397\" y1=\"206.1875\" y2=\"206.1875\"/></a><!--MD5=[fd4143e9d270a159db93a4ea2a975926]\n",
       "class E9--><a href=\"psysml:80135921-0845-49d6-a3fe-410a14d1c4f9\" target=\"_top\" title=\"psysml:80135921-0845-49d6-a3fe-410a14d1c4f9\" xlink:actuate=\"onRequest\" xlink:href=\"psysml:80135921-0845-49d6-a3fe-410a14d1c4f9\" xlink:show=\"new\" xlink:title=\"psysml:80135921-0845-49d6-a3fe-410a14d1c4f9\" xlink:type=\"simple\"><rect fill=\"#FFFFFF\" height=\"79.8594\" id=\"E9\" rx=\"10\" ry=\"10\" style=\"stroke: #383838; stroke-width: 1.5;\" width=\"71\" x=\"433.5\" y=\"150\"/><text fill=\"#000000\" font-family=\"sans-serif\" font-size=\"12\" font-style=\"italic\" lengthAdjust=\"spacingAndGlyphs\" textLength=\"35\" x=\"451.5\" y=\"167.457\">«part»</text><text fill=\"#000000\" font-family=\"sans-serif\" font-size=\"12\" lengthAdjust=\"spacingAndGlyphs\" textLength=\"59\" x=\"439.5\" y=\"182.5508\">frontWheel</text><line style=\"stroke: #383838; stroke-width: 1.5;\" x1=\"434.5\" x2=\"503.5\" y1=\"190.1875\" y2=\"190.1875\"/><text fill=\"#000000\" font-family=\"sans-serif\" font-size=\"11\" lengthAdjust=\"spacingAndGlyphs\" textLength=\"59\" x=\"439.5\" y=\"223.4424\">size: Integer</text><line style=\"stroke: #383838; stroke-width: 1.0;\" x1=\"434.5\" x2=\"446.5\" y1=\"205.1055\" y2=\"205.1055\"/><text fill=\"#000000\" font-family=\"sans-serif\" font-size=\"11\" lengthAdjust=\"spacingAndGlyphs\" textLength=\"45\" x=\"446.5\" y=\"209.1064\">attributes</text><line style=\"stroke: #383838; stroke-width: 1.0;\" x1=\"491.5\" x2=\"503.5\" y1=\"205.1055\" y2=\"205.1055\"/></a><!--MD5=[96f4274e9e20536e775497830990834d]\n",
       "class E10--><a href=\"psysml:6d8fe986-83d6-4b6f-ac90-1f4561507624\" target=\"_top\" title=\"psysml:6d8fe986-83d6-4b6f-ac90-1f4561507624\" xlink:actuate=\"onRequest\" xlink:href=\"psysml:6d8fe986-83d6-4b6f-ac90-1f4561507624\" xlink:show=\"new\" xlink:title=\"psysml:6d8fe986-83d6-4b6f-ac90-1f4561507624\" xlink:type=\"simple\"><rect fill=\"#FFFFFF\" height=\"79.8594\" id=\"E10\" rx=\"10\" ry=\"10\" style=\"stroke: #383838; stroke-width: 1.5;\" width=\"71\" x=\"539.5\" y=\"150\"/><text fill=\"#000000\" font-family=\"sans-serif\" font-size=\"12\" font-style=\"italic\" lengthAdjust=\"spacingAndGlyphs\" textLength=\"35\" x=\"557.5\" y=\"167.457\">«part»</text><text fill=\"#000000\" font-family=\"sans-serif\" font-size=\"12\" lengthAdjust=\"spacingAndGlyphs\" textLength=\"57\" x=\"546.5\" y=\"182.5508\">rearWheel</text><line style=\"stroke: #383838; stroke-width: 1.5;\" x1=\"540.5\" x2=\"609.5\" y1=\"190.1875\" y2=\"190.1875\"/><text fill=\"#000000\" font-family=\"sans-serif\" font-size=\"11\" lengthAdjust=\"spacingAndGlyphs\" textLength=\"59\" x=\"545.5\" y=\"223.4424\">size: Integer</text><line style=\"stroke: #383838; stroke-width: 1.0;\" x1=\"540.5\" x2=\"552.5\" y1=\"205.1055\" y2=\"205.1055\"/><text fill=\"#000000\" font-family=\"sans-serif\" font-size=\"11\" lengthAdjust=\"spacingAndGlyphs\" textLength=\"45\" x=\"552.5\" y=\"209.1064\">attributes</text><line style=\"stroke: #383838; stroke-width: 1.0;\" x1=\"597.5\" x2=\"609.5\" y1=\"205.1055\" y2=\"205.1055\"/></a><!--MD5=[4672eba38e49728da53d11aeb285b987]\n",
       "reverse link E3 to E4--><a href=\"psysml:fc079aa5-fc77-4bba-8211-d16ab2a85a3c\" target=\"_top\" title=\"psysml:fc079aa5-fc77-4bba-8211-d16ab2a85a3c\" xlink:actuate=\"onRequest\" xlink:href=\"psysml:fc079aa5-fc77-4bba-8211-d16ab2a85a3c\" xlink:show=\"new\" xlink:title=\"psysml:fc079aa5-fc77-4bba-8211-d16ab2a85a3c\" xlink:type=\"simple\"><path d=\"M247.782,78.009 C205.817,90.964 138.479,115.211 88,150 C81.391,154.555 75.0469,160.451 69.5354,166.2725 \" fill=\"none\" id=\"E3&lt;-E4\" style=\"stroke: #383838; stroke-width: 1.0;\"/><polygon fill=\"#383838\" points=\"260.463,74.201,253.5659,72.0963,248.9704,77.6534,255.8675,79.7581,260.463,74.201\" style=\"stroke: #383838; stroke-width: 1.0;\"/></a><!--MD5=[191cde3d490a3f6d7bb551fe3ddca469]\n",
       "reverse link E3 to E5--><a href=\"psysml:e0332da5-7433-4a50-8bd2-3705a2342767\" target=\"_top\" title=\"psysml:e0332da5-7433-4a50-8bd2-3705a2342767\" xlink:actuate=\"onRequest\" xlink:href=\"psysml:e0332da5-7433-4a50-8bd2-3705a2342767\" xlink:show=\"new\" xlink:title=\"psysml:e0332da5-7433-4a50-8bd2-3705a2342767\" xlink:type=\"simple\"><path d=\"M249.148,90.133 C224.369,105.9 191.747,127.862 165,150 C158.951,155.006 152.776,160.807 147.176,166.3794 \" fill=\"none\" id=\"E3&lt;-E5\" style=\"stroke: #383838; stroke-width: 1.0;\"/><polygon fill=\"#383838\" points=\"260.277,83.132,253.0684,82.9417,250.1202,89.5225,257.3288,89.7129,260.277,83.132\" style=\"stroke: #383838; stroke-width: 1.0;\"/></a><!--MD5=[1026b4b93417a13aa8999a858998add2]\n",
       "reverse link E3 to E6--><a href=\"psysml:3e949bd2-d9e5-4cff-9288-ddb1ed205627\" target=\"_top\" title=\"psysml:3e949bd2-d9e5-4cff-9288-ddb1ed205627\" xlink:actuate=\"onRequest\" xlink:href=\"psysml:3e949bd2-d9e5-4cff-9288-ddb1ed205627\" xlink:show=\"new\" xlink:title=\"psysml:3e949bd2-d9e5-4cff-9288-ddb1ed205627\" xlink:type=\"simple\"><path d=\"M263.801,101.1 C249.747,121.757 232.193,147.559 219.748,165.8521 \" fill=\"none\" id=\"E3&lt;-E6\" style=\"stroke: #383838; stroke-width: 1.0;\"/><polygon fill=\"#383838\" points=\"271.193,90.234,264.5106,92.9443,264.4423,100.1551,271.1246,97.4448,271.193,90.234\" style=\"stroke: #383838; stroke-width: 1.0;\"/></a><!--MD5=[85760999379eecfd2565a9fecdca67e4]\n",
       "reverse link E3 to E7--><a href=\"psysml:6cd6b740-3d25-4744-abff-f0ab8e77083c\" target=\"_top\" title=\"psysml:6cd6b740-3d25-4744-abff-f0ab8e77083c\" xlink:actuate=\"onRequest\" xlink:href=\"psysml:6cd6b740-3d25-4744-abff-f0ab8e77083c\" xlink:show=\"new\" xlink:title=\"psysml:6cd6b740-3d25-4744-abff-f0ab8e77083c\" xlink:type=\"simple\"><path d=\"M287,103.416 C287,123.658 287,148.237 287,165.8521 \" fill=\"none\" id=\"E3&lt;-E7\" style=\"stroke: #383838; stroke-width: 1.0;\"/><polygon fill=\"#383838\" points=\"287,90.234,283,96.234,287,102.234,291,96.234,287,90.234\" style=\"stroke: #383838; stroke-width: 1.0;\"/></a><!--MD5=[4cb75b73ec3682b8f7f8edc9cc86126a]\n",
       "reverse link E3 to E8--><a href=\"psysml:45573fbe-6cb9-4e98-b058-5631baa04f04\" target=\"_top\" title=\"psysml:45573fbe-6cb9-4e98-b058-5631baa04f04\" xlink:actuate=\"onRequest\" xlink:href=\"psysml:45573fbe-6cb9-4e98-b058-5631baa04f04\" xlink:show=\"new\" xlink:title=\"psysml:45573fbe-6cb9-4e98-b058-5631baa04f04\" xlink:type=\"simple\"><path d=\"M311.038,101.1 C325.599,121.757 343.788,147.559 356.683,165.8521 \" fill=\"none\" id=\"E3&lt;-E8\" style=\"stroke: #383838; stroke-width: 1.0;\"/><polygon fill=\"#383838\" points=\"303.378,90.234,303.5659,97.4427,310.2923,100.0417,310.1044,92.8331,303.378,90.234\" style=\"stroke: #383838; stroke-width: 1.0;\"/></a><!--MD5=[f7e0269b2e2fed3d07255bf4c5cf9d61]\n",
       "reverse link E3 to E9--><a href=\"psysml:80135921-0845-49d6-a3fe-410a14d1c4f9\" target=\"_top\" title=\"psysml:80135921-0845-49d6-a3fe-410a14d1c4f9\" xlink:actuate=\"onRequest\" xlink:href=\"psysml:80135921-0845-49d6-a3fe-410a14d1c4f9\" xlink:show=\"new\" xlink:title=\"psysml:80135921-0845-49d6-a3fe-410a14d1c4f9\" xlink:type=\"simple\"><path d=\"M324.73,90.403 C350.67,106.704 385.757,129.174 416,150 C421.645,153.888 427.556,158.095 433.297,162.2593 \" fill=\"none\" id=\"E3&lt;-E9\" style=\"stroke: #383838; stroke-width: 1.0;\"/><polygon fill=\"#383838\" points=\"313.506,83.375,316.4689,89.9493,323.677,89.7429,320.7141,83.1686,313.506,83.375\" style=\"stroke: #383838; stroke-width: 1.0;\"/><text fill=\"#000000\" font-family=\"sans-serif\" font-size=\"13\" lengthAdjust=\"spacingAndGlyphs\" textLength=\"7\" x=\"418.5789\" y=\"152.7661\">2</text></a><!--MD5=[622114938c97d4dd2a5a002a72a9cb82]\n",
       "reverse link E3 to E10--><a href=\"psysml:6d8fe986-83d6-4b6f-ac90-1f4561507624\" target=\"_top\" title=\"psysml:6d8fe986-83d6-4b6f-ac90-1f4561507624\" xlink:actuate=\"onRequest\" xlink:href=\"psysml:6d8fe986-83d6-4b6f-ac90-1f4561507624\" xlink:show=\"new\" xlink:title=\"psysml:6d8fe986-83d6-4b6f-ac90-1f4561507624\" xlink:type=\"simple\"><path d=\"M326.643,77.129 C374.589,90.241 456.952,115.559 522,150 C527.856,153.101 533.779,156.798 539.438,160.663 \" fill=\"none\" id=\"E3&lt;-E10\" style=\"stroke: #383838; stroke-width: 1.0;\"/><polygon fill=\"#383838\" points=\"313.788,73.681,318.5473,79.0985,325.3785,76.789,320.6193,71.3715,313.788,73.681\" style=\"stroke: #383838; stroke-width: 1.0;\"/><text fill=\"#000000\" font-family=\"sans-serif\" font-size=\"13\" lengthAdjust=\"spacingAndGlyphs\" textLength=\"7\" x=\"524.3815\" y=\"150.5081\">2</text></a><!--MD5=[cd829f5324fd0b0e989cce5b9892dde1]\n",
       "@startuml\r\n",
       "skinparam monochrome true\r\n",
       "skinparam classbackgroundcolor white\r\n",
       "skinparam shadowing false\r\n",
       "skinparam wrapWidth 300\r\n",
       "hide circle\r\n",
       "\r\n",
       "package \"eVehicle_LogicalArchitecture\" as E1  [[psysml:70336afc-78c9-45b9-a88a-80b86f002aae ]]  {\r\n",
       "comp def \"Integer\" as E2  <<(T,blue)dataType>> [[psysml:b9e24e95-eb73-4c32-8ae2-4d6297abfadc ]] {\r\n",
       "}\r\n",
       "comp usage \"eVehicle\" as E3  <<(T,blue)part>> [[psysml:ae00392f-3f91-4c68-a033-d4d36cded4ec ]] {\r\n",
       "}\r\n",
       "comp usage \"body\" as E4  <<(T,blue)part>> [[psysml:fc079aa5-fc77-4bba-8211-d16ab2a85a3c ]] {\r\n",
       "}\r\n",
       "comp usage \"battery\" as E5  <<(T,blue)part>> [[psysml:e0332da5-7433-4a50-8bd2-3705a2342767 ]] {\r\n",
       "}\r\n",
       "comp usage \"engine\" as E6  <<(T,blue)part>> [[psysml:3e949bd2-d9e5-4cff-9288-ddb1ed205627 ]] {\r\n",
       "}\r\n",
       "comp usage \"frontAxis\" as E7  <<(T,blue)part>> [[psysml:6cd6b740-3d25-4744-abff-f0ab8e77083c ]] {\r\n",
       "}\r\n",
       "comp usage \"rearAxis\" as E8  <<(T,blue)part>> [[psysml:45573fbe-6cb9-4e98-b058-5631baa04f04 ]] {\r\n",
       "}\r\n",
       "comp usage \"frontWheel\" as E9  <<(T,blue)part>> [[psysml:80135921-0845-49d6-a3fe-410a14d1c4f9 ]] {\r\n",
       "- - attributes - -\r\n",
       "size: Integer\r\n",
       "}\r\n",
       "comp usage \"rearWheel\" as E10  <<(T,blue)part>> [[psysml:6d8fe986-83d6-4b6f-ac90-1f4561507624 ]] {\r\n",
       "- - attributes - -\r\n",
       "size: Integer\r\n",
       "}\r\n",
       "E3 *- - E4 [[psysml:fc079aa5-fc77-4bba-8211-d16ab2a85a3c ]] \r\n",
       "E3 *- - E5 [[psysml:e0332da5-7433-4a50-8bd2-3705a2342767 ]] \r\n",
       "E3 *- - E6 [[psysml:3e949bd2-d9e5-4cff-9288-ddb1ed205627 ]] \r\n",
       "E3 *- - E7 [[psysml:6cd6b740-3d25-4744-abff-f0ab8e77083c ]] \r\n",
       "E3 *- - E8 [[psysml:45573fbe-6cb9-4e98-b058-5631baa04f04 ]] \r\n",
       "E3 *- - \"2\"E9 [[psysml:80135921-0845-49d6-a3fe-410a14d1c4f9 ]] \r\n",
       "E3 *- - \"2\"E10 [[psysml:6d8fe986-83d6-4b6f-ac90-1f4561507624 ]] \r\n",
       "}\r\n",
       "@enduml\r\n",
       "\n",
       "PlantUML version 1.2020.13(Sat Jun 13 14:26:38 CEST 2020)\n",
       "(EPL source distribution)\n",
       "Java Runtime: OpenJDK Runtime Environment\n",
       "JVM: OpenJDK 64-Bit Server VM\n",
       "Default Encoding: Cp1252\n",
       "Language: en\n",
       "Country: US\n",
       "--></g></svg>"
      ]
     },
     "execution_count": 8,
     "metadata": {},
     "output_type": "execute_result"
    }
   ],
   "source": [
    "%viz --view=tree eVehicle_LogicalArchitecture"
   ]
  },
  {
   "cell_type": "markdown",
   "metadata": {},
   "source": [
    "The value *size* itself can also be defined and reused for several attribute usages. It is a common concept in SysML v2 to separate the definition of elements and the usage of elements. SysML v1 also follows this concept, but not as consequent as SysML v2. \n",
    "\n",
    "The attribute definition is not mandatory and only partly useful in this example, because the size is only used at one place. But I added it anyhow as an example for attribute definitions. The keyword *value* or *attribute* can be omitted as, for example, in the definition of the *size* value. The AttributeDefinition can be compared to the SysML v1 ValueType."
   ]
  },
  {
   "cell_type": "code",
   "execution_count": 9,
   "metadata": {},
   "outputs": [
    {
     "data": {
      "text/plain": [
       "Package eVehicle_Definitions (bf4eac99-0c2b-4818-9ad1-b299d6a39c14)\n",
       "Package eVehicle_LogicalArchitecture (b6e9eb4d-c2cd-48a9-abc8-2058d1aeeb6e)\n"
      ]
     },
     "execution_count": 9,
     "metadata": {},
     "output_type": "execute_result"
    }
   ],
   "source": [
    "package eVehicle_Definitions {\n",
    "   \n",
    "    attribute def WheelSize {\n",
    "        import ScalarValues::Integer;\n",
    "        size : Integer;\n",
    "    }\n",
    "    \n",
    "    part def Wheel {\n",
    "        value sizeOfWheel : WheelSize;\n",
    "    }\n",
    "}\n",
    "\n",
    "package eVehicle_LogicalArchitecture {   \n",
    "    \n",
    "    import eVehicle_Definitions::*;\n",
    "    \n",
    "    part eVehicle {    \n",
    "        part body;\n",
    "        part battery;\n",
    "        part engine;\n",
    "        part frontAxis;\n",
    "        part rearAxis;\n",
    "        part frontWheel : Wheel[2];\n",
    "        part rearWheel : Wheel[2];\n",
    "    }\n",
    "}"
   ]
  },
  {
   "cell_type": "code",
   "execution_count": 10,
   "metadata": {},
   "outputs": [
    {
     "data": {
      "image/svg+xml": [
       "<?xml version=\"1.0\" encoding=\"UTF-8\" standalone=\"no\"?><svg xmlns=\"http://www.w3.org/2000/svg\" xmlns:xlink=\"http://www.w3.org/1999/xlink\" contentScriptType=\"application/ecmascript\" contentStyleType=\"text/css\" height=\"258px\" preserveAspectRatio=\"none\" style=\"width:318px;height:258px;\" version=\"1.1\" viewBox=\"0 0 318 258\" width=\"318px\" zoomAndPan=\"magnify\"><defs/><g><!--MD5=[fbc87193dbaf4d95561dea2c320d4a47]\n",
       "cluster E1--><a href=\"psysml:7641c160-7288-4d72-a406-2b8dfe7499cb\" target=\"_top\" title=\"psysml:7641c160-7288-4d72-a406-2b8dfe7499cb\" xlink:actuate=\"onRequest\" xlink:href=\"psysml:7641c160-7288-4d72-a406-2b8dfe7499cb\" xlink:show=\"new\" xlink:title=\"psysml:7641c160-7288-4d72-a406-2b8dfe7499cb\" xlink:type=\"simple\"><polygon fill=\"#FFFFFF\" points=\"16,6,167,6,174,29.6094,296,29.6094,296,246,16,246,16,6\" style=\"stroke: #000000; stroke-width: 1.5;\"/><line style=\"stroke: #000000; stroke-width: 1.5;\" x1=\"16\" x2=\"174\" y1=\"29.6094\" y2=\"29.6094\"/><text fill=\"#000000\" font-family=\"sans-serif\" font-size=\"14\" font-weight=\"bold\" lengthAdjust=\"spacingAndGlyphs\" textLength=\"145\" x=\"20\" y=\"22.5332\">eVehicle_Definitions</text></a><!--MD5=[b4997ac47864f28c2f74865a473b2911]\n",
       "class E2--><a href=\"psysml:b8ce99cc-d686-4e75-ab42-22e655779b8f\" target=\"_top\" title=\"psysml:b8ce99cc-d686-4e75-ab42-22e655779b8f\" xlink:actuate=\"onRequest\" xlink:href=\"psysml:b8ce99cc-d686-4e75-ab42-22e655779b8f\" xlink:show=\"new\" xlink:title=\"psysml:b8ce99cc-d686-4e75-ab42-22e655779b8f\" xlink:type=\"simple\"><rect fill=\"#FFFFFF\" height=\"79.8594\" id=\"E2\" style=\"stroke: #383838; stroke-width: 1.5;\" width=\"81\" x=\"198.5\" y=\"42\"/><text fill=\"#000000\" font-family=\"sans-serif\" font-size=\"12\" font-style=\"italic\" lengthAdjust=\"spacingAndGlyphs\" textLength=\"79\" x=\"199.5\" y=\"59.457\">«attribute def»</text><text fill=\"#000000\" font-family=\"sans-serif\" font-size=\"12\" lengthAdjust=\"spacingAndGlyphs\" textLength=\"58\" x=\"210\" y=\"74.5508\">WheelSize</text><line style=\"stroke: #383838; stroke-width: 1.5;\" x1=\"199.5\" x2=\"278.5\" y1=\"82.1875\" y2=\"82.1875\"/><text fill=\"#000000\" font-family=\"sans-serif\" font-size=\"11\" lengthAdjust=\"spacingAndGlyphs\" textLength=\"59\" x=\"204.5\" y=\"115.4424\">size: Integer</text><line style=\"stroke: #383838; stroke-width: 1.0;\" x1=\"199.5\" x2=\"216.5\" y1=\"97.1055\" y2=\"97.1055\"/><text fill=\"#000000\" font-family=\"sans-serif\" font-size=\"11\" lengthAdjust=\"spacingAndGlyphs\" textLength=\"45\" x=\"216.5\" y=\"101.1064\">attributes</text><line style=\"stroke: #383838; stroke-width: 1.0;\" x1=\"261.5\" x2=\"278.5\" y1=\"97.1055\" y2=\"97.1055\"/></a><!--MD5=[09b614a08d8cba4a07c9adeb5e0fee81]\n",
       "class E3--><a href=\"psysml:b9e24e95-eb73-4c32-8ae2-4d6297abfadc\" target=\"_top\" title=\"psysml:b9e24e95-eb73-4c32-8ae2-4d6297abfadc\" xlink:actuate=\"onRequest\" xlink:href=\"psysml:b9e24e95-eb73-4c32-8ae2-4d6297abfadc\" xlink:show=\"new\" xlink:title=\"psysml:b9e24e95-eb73-4c32-8ae2-4d6297abfadc\" xlink:type=\"simple\"><rect fill=\"#FFFFFF\" height=\"48.1875\" id=\"E3\" style=\"stroke: #383838; stroke-width: 1.5;\" width=\"67\" x=\"205.5\" y=\"182\"/><text fill=\"#000000\" font-family=\"sans-serif\" font-size=\"12\" font-style=\"italic\" lengthAdjust=\"spacingAndGlyphs\" textLength=\"65\" x=\"206.5\" y=\"199.457\">«dataType»</text><text fill=\"#000000\" font-family=\"sans-serif\" font-size=\"12\" lengthAdjust=\"spacingAndGlyphs\" textLength=\"38\" x=\"220\" y=\"214.5508\">Integer</text><line style=\"stroke: #383838; stroke-width: 1.5;\" x1=\"206.5\" x2=\"271.5\" y1=\"222.1875\" y2=\"222.1875\"/></a><!--MD5=[ebbe1d658d1005bcc118a6aa81145e00]\n",
       "class E4--><a href=\"psysml:d7954af4-bbc9-4da0-abec-0db11bb30bc7\" target=\"_top\" title=\"psysml:d7954af4-bbc9-4da0-abec-0db11bb30bc7\" xlink:actuate=\"onRequest\" xlink:href=\"psysml:d7954af4-bbc9-4da0-abec-0db11bb30bc7\" xlink:show=\"new\" xlink:title=\"psysml:d7954af4-bbc9-4da0-abec-0db11bb30bc7\" xlink:type=\"simple\"><rect fill=\"#FFFFFF\" height=\"79.8594\" id=\"E4\" style=\"stroke: #383838; stroke-width: 1.5;\" width=\"131\" x=\"32.5\" y=\"42\"/><text fill=\"#000000\" font-family=\"sans-serif\" font-size=\"12\" font-style=\"italic\" lengthAdjust=\"spacingAndGlyphs\" textLength=\"55\" x=\"70.5\" y=\"59.457\">«part def»</text><text fill=\"#000000\" font-family=\"sans-serif\" font-size=\"12\" lengthAdjust=\"spacingAndGlyphs\" textLength=\"35\" x=\"80.5\" y=\"74.5508\">Wheel</text><line style=\"stroke: #383838; stroke-width: 1.5;\" x1=\"33.5\" x2=\"162.5\" y1=\"82.1875\" y2=\"82.1875\"/><text fill=\"#000000\" font-family=\"sans-serif\" font-size=\"11\" lengthAdjust=\"spacingAndGlyphs\" textLength=\"119\" x=\"38.5\" y=\"115.4424\">sizeOfWheel: WheelSize</text><line style=\"stroke: #383838; stroke-width: 1.0;\" x1=\"33.5\" x2=\"75.5\" y1=\"97.1055\" y2=\"97.1055\"/><text fill=\"#000000\" font-family=\"sans-serif\" font-size=\"11\" lengthAdjust=\"spacingAndGlyphs\" textLength=\"45\" x=\"75.5\" y=\"101.1064\">attributes</text><line style=\"stroke: #383838; stroke-width: 1.0;\" x1=\"120.5\" x2=\"162.5\" y1=\"97.1055\" y2=\"97.1055\"/></a><!--MD5=[209b3feb70ccb6233bfe1053d122c12c]\n",
       "reverse link E2 to E3--><a href=\"psysml:b9e24e95-eb73-4c32-8ae2-4d6297abfadc\" target=\"_top\" title=\"psysml:b9e24e95-eb73-4c32-8ae2-4d6297abfadc\" xlink:actuate=\"onRequest\" xlink:href=\"psysml:b9e24e95-eb73-4c32-8ae2-4d6297abfadc\" xlink:show=\"new\" xlink:title=\"psysml:b9e24e95-eb73-4c32-8ae2-4d6297abfadc\" xlink:type=\"simple\"><path d=\"M239,137.501 C239,153.073 239,169.2151 239,181.8083 \" fill=\"none\" id=\"E2&lt;-E3\" style=\"stroke: #383838; stroke-width: 1.0;\"/><ellipse cx=\"239\" cy=\"130.273\" fill=\"#FFFFFF\" rx=\"8\" ry=\"8\" style=\"stroke: #383838; stroke-width: 1.0;\"/><line style=\"stroke: #383838; stroke-width: 1.0;\" x1=\"239\" x2=\"239\" y1=\"138.273\" y2=\"122.273\"/><line style=\"stroke: #383838; stroke-width: 1.0;\" x1=\"231\" x2=\"247\" y1=\"130.273\" y2=\"130.273\"/></a><!--MD5=[899e8c5117d6a68a294d7928788c6463]\n",
       "@startuml\r\n",
       "skinparam monochrome true\r\n",
       "skinparam classbackgroundcolor white\r\n",
       "skinparam shadowing false\r\n",
       "skinparam wrapWidth 300\r\n",
       "hide circle\r\n",
       "\r\n",
       "package \"eVehicle_Definitions\" as E1  [[psysml:7641c160-7288-4d72-a406-2b8dfe7499cb ]]  {\r\n",
       "comp def \"WheelSize\" as E2  <<(T,blue)attribute def>> [[psysml:b8ce99cc-d686-4e75-ab42-22e655779b8f ]] {\r\n",
       "- - attributes - -\r\n",
       "size: Integer\r\n",
       "}\r\n",
       "comp def \"Integer\" as E3  <<(T,blue)dataType>> [[psysml:b9e24e95-eb73-4c32-8ae2-4d6297abfadc ]] {\r\n",
       "}\r\n",
       "comp def \"Wheel\" as E4  <<(T,blue)part def>> [[psysml:d7954af4-bbc9-4da0-abec-0db11bb30bc7 ]] {\r\n",
       "- - attributes - -\r\n",
       "sizeOfWheel: WheelSize\r\n",
       "}\r\n",
       "E2 +- - E3 [[psysml:b9e24e95-eb73-4c32-8ae2-4d6297abfadc ]] \r\n",
       "}\r\n",
       "@enduml\r\n",
       "\n",
       "PlantUML version 1.2020.13(Sat Jun 13 14:26:38 CEST 2020)\n",
       "(EPL source distribution)\n",
       "Java Runtime: OpenJDK Runtime Environment\n",
       "JVM: OpenJDK 64-Bit Server VM\n",
       "Default Encoding: Cp1252\n",
       "Language: en\n",
       "Country: US\n",
       "--></g></svg>"
      ]
     },
     "execution_count": 10,
     "metadata": {},
     "output_type": "execute_result"
    }
   ],
   "source": [
    "%viz --view=tree eVehicle_Definitions"
   ]
  },
  {
   "cell_type": "markdown",
   "metadata": {},
   "source": [
    "### When to use Parts and when to use PartDefinitions\n",
    "\n",
    "A simple rule of thumb is: if you use a thing only once, model it as a part. If it is used multiple times or specializations of it, then model it as a part definition.\n",
    "\n",
    "Part definition is a classification of things, and parts are usages of part definitions. If you have only one engine in the model, then you can model it directly as a part. As described above, the part still has a part definition, which in this case is implicitly the general part definition *Part* from the system library."
   ]
  },
  {
   "cell_type": "markdown",
   "metadata": {},
   "source": [
    "## Specialization and Subsetting<a name=\"sysmlv2modspecialization\"></a>"
   ]
  },
  {
   "cell_type": "code",
   "execution_count": 11,
   "metadata": {},
   "outputs": [
    {
     "data": {
      "text/plain": [
       "Package eVehicle_Definitions (8e0236eb-0afe-4623-8fb2-b01303f58554)\n",
       "Package eVehicle_LogicalArchitecture (8190af9c-c74c-4a54-9250-655e883e41b4)\n"
      ]
     },
     "execution_count": 11,
     "metadata": {},
     "output_type": "execute_result"
    }
   ],
   "source": [
    "package eVehicle_Definitions {\n",
    "   \n",
    "    attribute def WheelSize {\n",
    "        import ScalarValues::Integer;\n",
    "        size : Integer;\n",
    "    }\n",
    "    \n",
    "    part def Wheel {\n",
    "        constraint pressureConstraint : WheelPressureConstraint (\n",
    "            currentPressure = currentPressure,\n",
    "            limitPressure = maxPressure);\n",
    "        value sizeOfWheel : WheelSize;\n",
    "        value currentPressure : ScalarValues::Real;\n",
    "        value maxPressure : ScalarValues::Real;\n",
    "    }\n",
    "    \n",
    "    part def FrontWheel :> Wheel {\n",
    "        value redefines maxPressure = 2.0;\n",
    "    }\n",
    "    part def RearWheel :> Wheel {\n",
    "        value redefines maxPressure = 2.5;\n",
    "    }\n",
    "    \n",
    "    constraint def WheelPressureConstraint (\n",
    "        currentPressure : ScalarValues::Real,\n",
    "        limitPressure : ScalarValues::Real) {\n",
    "            currentPressure <= limitPressure\n",
    "        }\n",
    "    }\n",
    "\n",
    "package eVehicle_LogicalArchitecture {   \n",
    "    \n",
    "    import eVehicle_Definitions::*;\n",
    "    \n",
    "    part eVehicle {\n",
    "        part body;\n",
    "        part battery;\n",
    "        part engine;\n",
    "        part frontAxis;\n",
    "        part rearAxis;\n",
    "        part frontWheel : FrontWheel[2];\n",
    "        part frontLeftWheel :> frontWheel {\n",
    "            redefines currentPressure = 1.6;\n",
    "        }\n",
    "        part frontRightWheel :> frontWheel {\n",
    "            redefines currentPressure = 1.8;\n",
    "        }\n",
    "\n",
    "        part rearWheel : RearWheel[2];\n",
    "        part rearLeftWheel :> rearWheel {\n",
    "            redefines currentPressure = 2.4;\n",
    "        }\n",
    "        part rearRightWheel :> rearWheel {\n",
    "            redefines currentPressure = 2.5;\n",
    "        }\n",
    "        \n",
    "    }\n",
    "}"
   ]
  },
  {
   "cell_type": "markdown",
   "metadata": {},
   "source": [
    "## Putting the parts together<a name=\"sysmlv2modconnect\"></a>\n",
    "\n",
    "By now the model only defines the breakdown structure of the vehicle. There is no definition yet of how the parts are connected. The next example model *eVehicle_LogicalArchitecture* connects the parts in a meaningful way.\n"
   ]
  },
  {
   "cell_type": "code",
   "execution_count": 52,
   "metadata": {},
   "outputs": [
    {
     "data": {
      "text/plain": [
       "Package eVehicle_LogicalArchitecture (5b15ed34-8381-45f0-826c-553366d9bbbd)\n"
      ]
     },
     "execution_count": 52,
     "metadata": {},
     "output_type": "execute_result"
    }
   ],
   "source": [
    "package eVehicle_LogicalArchitecture {\n",
    "       \n",
    "    import eVehicleDefinitions::*;\n",
    "    \n",
    "    part eVehicle {    \n",
    "        part body;\n",
    "        part battery;\n",
    "        part engine;\n",
    "        part frontAxis;\n",
    "        part rearAxis;\n",
    "        part frontWheel : Wheel[2];\n",
    "        part rearWheel : Wheel[2];\n",
    "        \n",
    "        connect battery to engine;\n",
    "        connect engine to frontAxis;\n",
    "        connect frontAxis to frontWheel;\n",
    "        connect rearAxis to rearWheel;\n",
    "        connect body to battery;\n",
    "        connect body to engine;\n",
    "        connect body to frontAxis;\n",
    "        connect body to rearAxis;\n",
    "    }\n",
    "}"
   ]
  },
  {
   "cell_type": "code",
   "execution_count": 13,
   "metadata": {},
   "outputs": [
    {
     "data": {
      "image/svg+xml": [
       "<?xml version=\"1.0\" encoding=\"UTF-8\" standalone=\"no\"?><svg xmlns=\"http://www.w3.org/2000/svg\" xmlns:xlink=\"http://www.w3.org/1999/xlink\" contentScriptType=\"application/ecmascript\" contentStyleType=\"text/css\" height=\"186px\" preserveAspectRatio=\"none\" style=\"width:1413px;height:186px;\" version=\"1.1\" viewBox=\"0 0 1413 186\" width=\"1413px\" zoomAndPan=\"magnify\"><defs/><g><!--MD5=[fbc87193dbaf4d95561dea2c320d4a47]\n",
       "cluster E1--><a href=\"psysml:8b9c7dc3-24d2-4b9d-9930-10eb546b3782\" target=\"_top\" title=\"psysml:8b9c7dc3-24d2-4b9d-9930-10eb546b3782\" xlink:actuate=\"onRequest\" xlink:href=\"psysml:8b9c7dc3-24d2-4b9d-9930-10eb546b3782\" xlink:show=\"new\" xlink:title=\"psysml:8b9c7dc3-24d2-4b9d-9930-10eb546b3782\" xlink:type=\"simple\"><rect fill=\"#FFFFFF\" height=\"168\" id=\"E1\" rx=\"10\" ry=\"10\" style=\"stroke: #383838; stroke-width: 1.5;\" width=\"1394\" x=\"7\" y=\"7\"/><rect fill=\"#F8F8F8\" height=\"25.0938\" rx=\"10\" ry=\"10\" style=\"stroke: #F8F8F8; stroke-width: 1.5;\" width=\"1394\" x=\"7\" y=\"7\"/><rect fill=\"#F8F8F8\" height=\"10\" style=\"stroke: #F8F8F8; stroke-width: 1.5;\" width=\"1394\" x=\"7\" y=\"22.0938\"/><rect fill=\"none\" height=\"168\" id=\"E1\" rx=\"10\" ry=\"10\" style=\"stroke: #383838; stroke-width: 1.5;\" width=\"1394\" x=\"7\" y=\"7\"/><text fill=\"#000000\" font-family=\"sans-serif\" font-size=\"12\" lengthAdjust=\"spacingAndGlyphs\" textLength=\"47\" x=\"680.5\" y=\"24.457\">eVehicle</text><line style=\"stroke: #383838; stroke-width: 1.0;\" x1=\"7\" x2=\"1401\" y1=\"32.0938\" y2=\"32.0938\"/></a><!--MD5=[55dfccfc6c49c2d10cd1bd2211a6c90c]\n",
       "cluster E8--><a href=\"psysml:7a571cb2-fcbc-45ec-a122-7b211af28f7e\" target=\"_top\" title=\"psysml:7a571cb2-fcbc-45ec-a122-7b211af28f7e\" xlink:actuate=\"onRequest\" xlink:href=\"psysml:7a571cb2-fcbc-45ec-a122-7b211af28f7e\" xlink:show=\"new\" xlink:title=\"psysml:7a571cb2-fcbc-45ec-a122-7b211af28f7e\" xlink:type=\"simple\"><rect fill=\"#FFFFFF\" height=\"100\" id=\"E8\" rx=\"10\" ry=\"10\" style=\"stroke: #383838; stroke-width: 1.5;\" width=\"128\" x=\"1249\" y=\"51\"/><rect fill=\"#F8F8F8\" height=\"25.0938\" rx=\"10\" ry=\"10\" style=\"stroke: #F8F8F8; stroke-width: 1.5;\" width=\"128\" x=\"1249\" y=\"51\"/><rect fill=\"#F8F8F8\" height=\"10\" style=\"stroke: #F8F8F8; stroke-width: 1.5;\" width=\"128\" x=\"1249\" y=\"66.0938\"/><rect fill=\"none\" height=\"100\" id=\"E8\" rx=\"10\" ry=\"10\" style=\"stroke: #383838; stroke-width: 1.5;\" width=\"128\" x=\"1249\" y=\"51\"/><text fill=\"#000000\" font-family=\"sans-serif\" font-size=\"12\" lengthAdjust=\"spacingAndGlyphs\" textLength=\"79\" x=\"1273.5\" y=\"68.457\">frontLeftWheel</text><line style=\"stroke: #383838; stroke-width: 1.0;\" x1=\"1249\" x2=\"1377\" y1=\"76.0938\" y2=\"76.0938\"/></a><!--MD5=[a84b4591f868c1fa4a211716a82f2f0d]\n",
       "cluster E10--><a href=\"psysml:11507b3a-133b-4740-bc3e-e329fcedbe0c\" target=\"_top\" title=\"psysml:11507b3a-133b-4740-bc3e-e329fcedbe0c\" xlink:actuate=\"onRequest\" xlink:href=\"psysml:11507b3a-133b-4740-bc3e-e329fcedbe0c\" xlink:show=\"new\" xlink:title=\"psysml:11507b3a-133b-4740-bc3e-e329fcedbe0c\" xlink:type=\"simple\"><rect fill=\"#FFFFFF\" height=\"100\" id=\"E10\" rx=\"10\" ry=\"10\" style=\"stroke: #383838; stroke-width: 1.5;\" width=\"131\" x=\"1094\" y=\"51\"/><rect fill=\"#F8F8F8\" height=\"25.0938\" rx=\"10\" ry=\"10\" style=\"stroke: #F8F8F8; stroke-width: 1.5;\" width=\"131\" x=\"1094\" y=\"51\"/><rect fill=\"#F8F8F8\" height=\"10\" style=\"stroke: #F8F8F8; stroke-width: 1.5;\" width=\"131\" x=\"1094\" y=\"66.0938\"/><rect fill=\"none\" height=\"100\" id=\"E10\" rx=\"10\" ry=\"10\" style=\"stroke: #383838; stroke-width: 1.5;\" width=\"131\" x=\"1094\" y=\"51\"/><text fill=\"#000000\" font-family=\"sans-serif\" font-size=\"12\" lengthAdjust=\"spacingAndGlyphs\" textLength=\"88\" x=\"1115.5\" y=\"68.457\">frontRightWheel</text><line style=\"stroke: #383838; stroke-width: 1.0;\" x1=\"1094\" x2=\"1225\" y1=\"76.0938\" y2=\"76.0938\"/></a><!--MD5=[03104f77b71e2d8d3500c651e6e31181]\n",
       "cluster E13--><a href=\"psysml:0e7331ee-0605-484c-a898-1f114cc23422\" target=\"_top\" title=\"psysml:0e7331ee-0605-484c-a898-1f114cc23422\" xlink:actuate=\"onRequest\" xlink:href=\"psysml:0e7331ee-0605-484c-a898-1f114cc23422\" xlink:show=\"new\" xlink:title=\"psysml:0e7331ee-0605-484c-a898-1f114cc23422\" xlink:type=\"simple\"><rect fill=\"#FFFFFF\" height=\"100\" id=\"E13\" rx=\"10\" ry=\"10\" style=\"stroke: #383838; stroke-width: 1.5;\" width=\"128\" x=\"942\" y=\"51\"/><rect fill=\"#F8F8F8\" height=\"25.0938\" rx=\"10\" ry=\"10\" style=\"stroke: #F8F8F8; stroke-width: 1.5;\" width=\"128\" x=\"942\" y=\"51\"/><rect fill=\"#F8F8F8\" height=\"10\" style=\"stroke: #F8F8F8; stroke-width: 1.5;\" width=\"128\" x=\"942\" y=\"66.0938\"/><rect fill=\"none\" height=\"100\" id=\"E13\" rx=\"10\" ry=\"10\" style=\"stroke: #383838; stroke-width: 1.5;\" width=\"128\" x=\"942\" y=\"51\"/><text fill=\"#000000\" font-family=\"sans-serif\" font-size=\"12\" lengthAdjust=\"spacingAndGlyphs\" textLength=\"77\" x=\"967.5\" y=\"68.457\">rearLeftWheel</text><line style=\"stroke: #383838; stroke-width: 1.0;\" x1=\"942\" x2=\"1070\" y1=\"76.0938\" y2=\"76.0938\"/></a><!--MD5=[ab3548ab6224ff035c4047a4d30b7567]\n",
       "cluster E15--><a href=\"psysml:04914127-1227-442e-8052-37a0ab6e1610\" target=\"_top\" title=\"psysml:04914127-1227-442e-8052-37a0ab6e1610\" xlink:actuate=\"onRequest\" xlink:href=\"psysml:04914127-1227-442e-8052-37a0ab6e1610\" xlink:show=\"new\" xlink:title=\"psysml:04914127-1227-442e-8052-37a0ab6e1610\" xlink:type=\"simple\"><rect fill=\"#FFFFFF\" height=\"100\" id=\"E15\" rx=\"10\" ry=\"10\" style=\"stroke: #383838; stroke-width: 1.5;\" width=\"128\" x=\"790\" y=\"51\"/><rect fill=\"#F8F8F8\" height=\"25.0938\" rx=\"10\" ry=\"10\" style=\"stroke: #F8F8F8; stroke-width: 1.5;\" width=\"128\" x=\"790\" y=\"51\"/><rect fill=\"#F8F8F8\" height=\"10\" style=\"stroke: #F8F8F8; stroke-width: 1.5;\" width=\"128\" x=\"790\" y=\"66.0938\"/><rect fill=\"none\" height=\"100\" id=\"E15\" rx=\"10\" ry=\"10\" style=\"stroke: #383838; stroke-width: 1.5;\" width=\"128\" x=\"790\" y=\"51\"/><text fill=\"#000000\" font-family=\"sans-serif\" font-size=\"12\" lengthAdjust=\"spacingAndGlyphs\" textLength=\"86\" x=\"811\" y=\"68.457\">rearRightWheel</text><line style=\"stroke: #383838; stroke-width: 1.0;\" x1=\"790\" x2=\"918\" y1=\"76.0938\" y2=\"76.0938\"/></a><g id=\"E1.E2\"><a href=\"psysml:75741529-6113-4ff7-82d6-24e4b198fd86\" target=\"_top\" title=\"psysml:75741529-6113-4ff7-82d6-24e4b198fd86\" xlink:actuate=\"onRequest\" xlink:href=\"psysml:75741529-6113-4ff7-82d6-24e4b198fd86\" xlink:show=\"new\" xlink:title=\"psysml:75741529-6113-4ff7-82d6-24e4b198fd86\" xlink:type=\"simple\"><rect fill=\"#FFFFFF\" height=\"40\" id=\"E2\" rx=\"10\" ry=\"10\" style=\"stroke: #383838; stroke-width: 1.5;\" width=\"50\" x=\"721\" y=\"91\"/><rect fill=\"#F8F8F8\" height=\"25.0938\" rx=\"10\" ry=\"10\" style=\"stroke: #F8F8F8; stroke-width: 1.5;\" width=\"50\" x=\"721\" y=\"91\"/><rect fill=\"#F8F8F8\" height=\"10\" style=\"stroke: #F8F8F8; stroke-width: 1.5;\" width=\"50\" x=\"721\" y=\"106.0938\"/><rect fill=\"none\" height=\"40\" id=\"E2\" rx=\"10\" ry=\"10\" style=\"stroke: #383838; stroke-width: 1.5;\" width=\"50\" x=\"721\" y=\"91\"/><text fill=\"#000000\" font-family=\"sans-serif\" font-size=\"12\" lengthAdjust=\"spacingAndGlyphs\" textLength=\"26\" x=\"733\" y=\"108.457\">body</text></a></g><g id=\"E1.E3\"><a href=\"psysml:3d93517b-2c89-4d52-9ae6-a8db0bf51158\" target=\"_top\" title=\"psysml:3d93517b-2c89-4d52-9ae6-a8db0bf51158\" xlink:actuate=\"onRequest\" xlink:href=\"psysml:3d93517b-2c89-4d52-9ae6-a8db0bf51158\" xlink:show=\"new\" xlink:title=\"psysml:3d93517b-2c89-4d52-9ae6-a8db0bf51158\" xlink:type=\"simple\"><rect fill=\"#FFFFFF\" height=\"40\" id=\"E3\" rx=\"10\" ry=\"10\" style=\"stroke: #383838; stroke-width: 1.5;\" width=\"50\" x=\"636\" y=\"91\"/><rect fill=\"#F8F8F8\" height=\"25.0938\" rx=\"10\" ry=\"10\" style=\"stroke: #F8F8F8; stroke-width: 1.5;\" width=\"50\" x=\"636\" y=\"91\"/><rect fill=\"#F8F8F8\" height=\"10\" style=\"stroke: #F8F8F8; stroke-width: 1.5;\" width=\"50\" x=\"636\" y=\"106.0938\"/><rect fill=\"none\" height=\"40\" id=\"E3\" rx=\"10\" ry=\"10\" style=\"stroke: #383838; stroke-width: 1.5;\" width=\"50\" x=\"636\" y=\"91\"/><text fill=\"#000000\" font-family=\"sans-serif\" font-size=\"12\" lengthAdjust=\"spacingAndGlyphs\" textLength=\"36\" x=\"643\" y=\"108.457\">battery</text></a></g><g id=\"E1.E4\"><a href=\"psysml:f49d2219-1dbe-4c1d-b0b7-528976b98040\" target=\"_top\" title=\"psysml:f49d2219-1dbe-4c1d-b0b7-528976b98040\" xlink:actuate=\"onRequest\" xlink:href=\"psysml:f49d2219-1dbe-4c1d-b0b7-528976b98040\" xlink:show=\"new\" xlink:title=\"psysml:f49d2219-1dbe-4c1d-b0b7-528976b98040\" xlink:type=\"simple\"><rect fill=\"#FFFFFF\" height=\"40\" id=\"E4\" rx=\"10\" ry=\"10\" style=\"stroke: #383838; stroke-width: 1.5;\" width=\"50\" x=\"551\" y=\"91\"/><rect fill=\"#F8F8F8\" height=\"25.0938\" rx=\"10\" ry=\"10\" style=\"stroke: #F8F8F8; stroke-width: 1.5;\" width=\"50\" x=\"551\" y=\"91\"/><rect fill=\"#F8F8F8\" height=\"10\" style=\"stroke: #F8F8F8; stroke-width: 1.5;\" width=\"50\" x=\"551\" y=\"106.0938\"/><rect fill=\"none\" height=\"40\" id=\"E4\" rx=\"10\" ry=\"10\" style=\"stroke: #383838; stroke-width: 1.5;\" width=\"50\" x=\"551\" y=\"91\"/><text fill=\"#000000\" font-family=\"sans-serif\" font-size=\"12\" lengthAdjust=\"spacingAndGlyphs\" textLength=\"38\" x=\"557\" y=\"108.457\">engine</text></a></g><g id=\"E1.E5\"><a href=\"psysml:bb3d4ae9-311e-483d-91a3-7843f1b6a3c5\" target=\"_top\" title=\"psysml:bb3d4ae9-311e-483d-91a3-7843f1b6a3c5\" xlink:actuate=\"onRequest\" xlink:href=\"psysml:bb3d4ae9-311e-483d-91a3-7843f1b6a3c5\" xlink:show=\"new\" xlink:title=\"psysml:bb3d4ae9-311e-483d-91a3-7843f1b6a3c5\" xlink:type=\"simple\"><rect fill=\"#FFFFFF\" height=\"40\" id=\"E5\" rx=\"10\" ry=\"10\" style=\"stroke: #383838; stroke-width: 1.5;\" width=\"57\" x=\"458.5\" y=\"91\"/><rect fill=\"#F8F8F8\" height=\"25.0938\" rx=\"10\" ry=\"10\" style=\"stroke: #F8F8F8; stroke-width: 1.5;\" width=\"57\" x=\"458.5\" y=\"91\"/><rect fill=\"#F8F8F8\" height=\"10\" style=\"stroke: #F8F8F8; stroke-width: 1.5;\" width=\"57\" x=\"458.5\" y=\"106.0938\"/><rect fill=\"none\" height=\"40\" id=\"E5\" rx=\"10\" ry=\"10\" style=\"stroke: #383838; stroke-width: 1.5;\" width=\"57\" x=\"458.5\" y=\"91\"/><text fill=\"#000000\" font-family=\"sans-serif\" font-size=\"12\" lengthAdjust=\"spacingAndGlyphs\" textLength=\"46\" x=\"464\" y=\"108.457\">frontAxis</text></a></g><g id=\"E1.E6\"><a href=\"psysml:7f42fcfa-4eb6-4a36-b119-d0e9efeb685d\" target=\"_top\" title=\"psysml:7f42fcfa-4eb6-4a36-b119-d0e9efeb685d\" xlink:actuate=\"onRequest\" xlink:href=\"psysml:7f42fcfa-4eb6-4a36-b119-d0e9efeb685d\" xlink:show=\"new\" xlink:title=\"psysml:7f42fcfa-4eb6-4a36-b119-d0e9efeb685d\" xlink:type=\"simple\"><rect fill=\"#FFFFFF\" height=\"40\" id=\"E6\" rx=\"10\" ry=\"10\" style=\"stroke: #383838; stroke-width: 1.5;\" width=\"55\" x=\"368.5\" y=\"91\"/><rect fill=\"#F8F8F8\" height=\"25.0938\" rx=\"10\" ry=\"10\" style=\"stroke: #F8F8F8; stroke-width: 1.5;\" width=\"55\" x=\"368.5\" y=\"91\"/><rect fill=\"#F8F8F8\" height=\"10\" style=\"stroke: #F8F8F8; stroke-width: 1.5;\" width=\"55\" x=\"368.5\" y=\"106.0938\"/><rect fill=\"none\" height=\"40\" id=\"E6\" rx=\"10\" ry=\"10\" style=\"stroke: #383838; stroke-width: 1.5;\" width=\"55\" x=\"368.5\" y=\"91\"/><text fill=\"#000000\" font-family=\"sans-serif\" font-size=\"12\" lengthAdjust=\"spacingAndGlyphs\" textLength=\"44\" x=\"374\" y=\"108.457\">rearAxis</text></a></g><g id=\"E1.E7\"><a href=\"psysml:0aa9471a-4bac-420b-a8df-6c9174a4e8b5\" target=\"_top\" title=\"psysml:0aa9471a-4bac-420b-a8df-6c9174a4e8b5\" xlink:actuate=\"onRequest\" xlink:href=\"psysml:0aa9471a-4bac-420b-a8df-6c9174a4e8b5\" xlink:show=\"new\" xlink:title=\"psysml:0aa9471a-4bac-420b-a8df-6c9174a4e8b5\" xlink:type=\"simple\"><rect fill=\"#FFFFFF\" height=\"40\" id=\"E7\" rx=\"10\" ry=\"10\" style=\"stroke: #383838; stroke-width: 1.5;\" width=\"139\" x=\"194.5\" y=\"91\"/><rect fill=\"#F8F8F8\" height=\"25.0938\" rx=\"10\" ry=\"10\" style=\"stroke: #F8F8F8; stroke-width: 1.5;\" width=\"139\" x=\"194.5\" y=\"91\"/><rect fill=\"#F8F8F8\" height=\"10\" style=\"stroke: #F8F8F8; stroke-width: 1.5;\" width=\"139\" x=\"194.5\" y=\"106.0938\"/><rect fill=\"none\" height=\"40\" id=\"E7\" rx=\"10\" ry=\"10\" style=\"stroke: #383838; stroke-width: 1.5;\" width=\"139\" x=\"194.5\" y=\"91\"/><text fill=\"#000000\" font-family=\"sans-serif\" font-size=\"12\" lengthAdjust=\"spacingAndGlyphs\" textLength=\"128\" x=\"200\" y=\"108.457\">frontWheel: FrontWheel</text></a></g><!--MD5=[fd4143e9d270a159db93a4ea2a975926]\n",
       "class E9--><a href=\"psysml:1ccc2790-0587-490b-bfe0-d063fdc5b6e8\" target=\"_top\" title=\"psysml:1ccc2790-0587-490b-bfe0-d063fdc5b6e8\" xlink:actuate=\"onRequest\" xlink:href=\"psysml:1ccc2790-0587-490b-bfe0-d063fdc5b6e8\" xlink:show=\"new\" xlink:title=\"psysml:1ccc2790-0587-490b-bfe0-d063fdc5b6e8\" xlink:type=\"simple\"><rect fill=\"#FFFFFF\" height=\"48.1875\" id=\"E9\" rx=\"10\" ry=\"10\" style=\"stroke: #383838; stroke-width: 1.5;\" width=\"95\" x=\"1265.5\" y=\"87\"/><text fill=\"#000000\" font-family=\"sans-serif\" font-size=\"12\" font-style=\"italic\" lengthAdjust=\"spacingAndGlyphs\" textLength=\"59\" x=\"1283.5\" y=\"104.457\">«attribute»</text><text fill=\"#000000\" font-family=\"sans-serif\" font-size=\"12\" lengthAdjust=\"spacingAndGlyphs\" textLength=\"89\" x=\"1268.5\" y=\"119.5508\">currentPressure</text><line style=\"stroke: #383838; stroke-width: 1.5;\" x1=\"1266.5\" x2=\"1359.5\" y1=\"127.1875\" y2=\"127.1875\"/></a><!--MD5=[1dd1bfd58a279cf63c5f349dbc8fc6a1]\n",
       "class E11--><a href=\"psysml:7cca604c-af4f-4cee-ac35-6611e175f458\" target=\"_top\" title=\"psysml:7cca604c-af4f-4cee-ac35-6611e175f458\" xlink:actuate=\"onRequest\" xlink:href=\"psysml:7cca604c-af4f-4cee-ac35-6611e175f458\" xlink:show=\"new\" xlink:title=\"psysml:7cca604c-af4f-4cee-ac35-6611e175f458\" xlink:type=\"simple\"><rect fill=\"#FFFFFF\" height=\"48.1875\" id=\"E11\" rx=\"10\" ry=\"10\" style=\"stroke: #383838; stroke-width: 1.5;\" width=\"95\" x=\"1111.5\" y=\"87\"/><text fill=\"#000000\" font-family=\"sans-serif\" font-size=\"12\" font-style=\"italic\" lengthAdjust=\"spacingAndGlyphs\" textLength=\"59\" x=\"1129.5\" y=\"104.457\">«attribute»</text><text fill=\"#000000\" font-family=\"sans-serif\" font-size=\"12\" lengthAdjust=\"spacingAndGlyphs\" textLength=\"89\" x=\"1114.5\" y=\"119.5508\">currentPressure</text><line style=\"stroke: #383838; stroke-width: 1.5;\" x1=\"1112.5\" x2=\"1205.5\" y1=\"127.1875\" y2=\"127.1875\"/></a><g id=\"E1.E12\"><a href=\"psysml:24af48a6-9abc-4f0d-8666-5e30f41a47f1\" target=\"_top\" title=\"psysml:24af48a6-9abc-4f0d-8666-5e30f41a47f1\" xlink:actuate=\"onRequest\" xlink:href=\"psysml:24af48a6-9abc-4f0d-8666-5e30f41a47f1\" xlink:show=\"new\" xlink:title=\"psysml:24af48a6-9abc-4f0d-8666-5e30f41a47f1\" xlink:type=\"simple\"><rect fill=\"#FFFFFF\" height=\"40\" id=\"E12\" rx=\"10\" ry=\"10\" style=\"stroke: #383838; stroke-width: 1.5;\" width=\"136\" x=\"23\" y=\"91\"/><rect fill=\"#F8F8F8\" height=\"25.0938\" rx=\"10\" ry=\"10\" style=\"stroke: #F8F8F8; stroke-width: 1.5;\" width=\"136\" x=\"23\" y=\"91\"/><rect fill=\"#F8F8F8\" height=\"10\" style=\"stroke: #F8F8F8; stroke-width: 1.5;\" width=\"136\" x=\"23\" y=\"106.0938\"/><rect fill=\"none\" height=\"40\" id=\"E12\" rx=\"10\" ry=\"10\" style=\"stroke: #383838; stroke-width: 1.5;\" width=\"136\" x=\"23\" y=\"91\"/><text fill=\"#000000\" font-family=\"sans-serif\" font-size=\"12\" lengthAdjust=\"spacingAndGlyphs\" textLength=\"125\" x=\"28.5\" y=\"108.457\">rearWheel: RearWheel</text></a></g><!--MD5=[bee11217b2f71d958a27249dc326068c]\n",
       "class E14--><a href=\"psysml:56849d5a-0fa7-45b6-97db-547faca6ce98\" target=\"_top\" title=\"psysml:56849d5a-0fa7-45b6-97db-547faca6ce98\" xlink:actuate=\"onRequest\" xlink:href=\"psysml:56849d5a-0fa7-45b6-97db-547faca6ce98\" xlink:show=\"new\" xlink:title=\"psysml:56849d5a-0fa7-45b6-97db-547faca6ce98\" xlink:type=\"simple\"><rect fill=\"#FFFFFF\" height=\"48.1875\" id=\"E14\" rx=\"10\" ry=\"10\" style=\"stroke: #383838; stroke-width: 1.5;\" width=\"95\" x=\"958.5\" y=\"87\"/><text fill=\"#000000\" font-family=\"sans-serif\" font-size=\"12\" font-style=\"italic\" lengthAdjust=\"spacingAndGlyphs\" textLength=\"59\" x=\"976.5\" y=\"104.457\">«attribute»</text><text fill=\"#000000\" font-family=\"sans-serif\" font-size=\"12\" lengthAdjust=\"spacingAndGlyphs\" textLength=\"89\" x=\"961.5\" y=\"119.5508\">currentPressure</text><line style=\"stroke: #383838; stroke-width: 1.5;\" x1=\"959.5\" x2=\"1052.5\" y1=\"127.1875\" y2=\"127.1875\"/></a><!--MD5=[35f0587eaee8d5bb9a02e25b63afc23b]\n",
       "class E16--><a href=\"psysml:62caf10a-6e33-44f4-86ca-c7225744b180\" target=\"_top\" title=\"psysml:62caf10a-6e33-44f4-86ca-c7225744b180\" xlink:actuate=\"onRequest\" xlink:href=\"psysml:62caf10a-6e33-44f4-86ca-c7225744b180\" xlink:show=\"new\" xlink:title=\"psysml:62caf10a-6e33-44f4-86ca-c7225744b180\" xlink:type=\"simple\"><rect fill=\"#FFFFFF\" height=\"48.1875\" id=\"E16\" rx=\"10\" ry=\"10\" style=\"stroke: #383838; stroke-width: 1.5;\" width=\"95\" x=\"806.5\" y=\"87\"/><text fill=\"#000000\" font-family=\"sans-serif\" font-size=\"12\" font-style=\"italic\" lengthAdjust=\"spacingAndGlyphs\" textLength=\"59\" x=\"824.5\" y=\"104.457\">«attribute»</text><text fill=\"#000000\" font-family=\"sans-serif\" font-size=\"12\" lengthAdjust=\"spacingAndGlyphs\" textLength=\"89\" x=\"809.5\" y=\"119.5508\">currentPressure</text><line style=\"stroke: #383838; stroke-width: 1.5;\" x1=\"807.5\" x2=\"900.5\" y1=\"127.1875\" y2=\"127.1875\"/></a><!--MD5=[ee1e00efed7f89f3f5699f3725c2164e]\n",
       "@startuml\r\n",
       "skinparam ranksep 10\r\n",
       "skinparam rectangle {\r\n",
       " backgroundColor<<block>> LightGreen\r\n",
       "}\r\n",
       "skinparam monochrome true\r\n",
       "skinparam classbackgroundcolor white\r\n",
       "skinparam shadowing false\r\n",
       "skinparam wrapWidth 300\r\n",
       "hide circle\r\n",
       "\r\n",
       "rec usage \"eVehicle\" as E1  [[psysml:8b9c7dc3-24d2-4b9d-9930-10eb546b3782 ]] {\r\n",
       "rec usage \"body\" as E2  [[psysml:75741529-6113-4ff7-82d6-24e4b198fd86 ]] {\r\n",
       "}\r\n",
       "rec usage \"battery\" as E3  [[psysml:3d93517b-2c89-4d52-9ae6-a8db0bf51158 ]] {\r\n",
       "}\r\n",
       "rec usage \"engine\" as E4  [[psysml:f49d2219-1dbe-4c1d-b0b7-528976b98040 ]] {\r\n",
       "}\r\n",
       "rec usage \"frontAxis\" as E5  [[psysml:bb3d4ae9-311e-483d-91a3-7843f1b6a3c5 ]] {\r\n",
       "}\r\n",
       "rec usage \"rearAxis\" as E6  [[psysml:7f42fcfa-4eb6-4a36-b119-d0e9efeb685d ]] {\r\n",
       "}\r\n",
       "rec usage \"frontWheel: FrontWheel\" as E7  [[psysml:0aa9471a-4bac-420b-a8df-6c9174a4e8b5 ]] {\r\n",
       "}\r\n",
       "rec usage \"frontLeftWheel\" as E8  [[psysml:7a571cb2-fcbc-45ec-a122-7b211af28f7e ]] {\r\n",
       "comp usage \"currentPressure\" as E9  <<(T,blue)attribute>> [[psysml:1ccc2790-0587-490b-bfe0-d063fdc5b6e8 ]] {\r\n",
       "}\r\n",
       "}\r\n",
       "rec usage \"frontRightWheel\" as E10  [[psysml:11507b3a-133b-4740-bc3e-e329fcedbe0c ]] {\r\n",
       "comp usage \"currentPressure\" as E11  <<(T,blue)attribute>> [[psysml:7cca604c-af4f-4cee-ac35-6611e175f458 ]] {\r\n",
       "}\r\n",
       "}\r\n",
       "rec usage \"rearWheel: RearWheel\" as E12  [[psysml:24af48a6-9abc-4f0d-8666-5e30f41a47f1 ]] {\r\n",
       "}\r\n",
       "rec usage \"rearLeftWheel\" as E13  [[psysml:0e7331ee-0605-484c-a898-1f114cc23422 ]] {\r\n",
       "comp usage \"currentPressure\" as E14  <<(T,blue)attribute>> [[psysml:56849d5a-0fa7-45b6-97db-547faca6ce98 ]] {\r\n",
       "}\r\n",
       "}\r\n",
       "rec usage \"rearRightWheel\" as E15  [[psysml:04914127-1227-442e-8052-37a0ab6e1610 ]] {\r\n",
       "comp usage \"currentPressure\" as E16  <<(T,blue)attribute>> [[psysml:62caf10a-6e33-44f4-86ca-c7225744b180 ]] {\r\n",
       "}\r\n",
       "}\r\n",
       "}\r\n",
       "@enduml\r\n",
       "\n",
       "PlantUML version 1.2020.13(Sat Jun 13 14:26:38 CEST 2020)\n",
       "(EPL source distribution)\n",
       "Java Runtime: OpenJDK Runtime Environment\n",
       "JVM: OpenJDK 64-Bit Server VM\n",
       "Default Encoding: Cp1252\n",
       "Language: en\n",
       "Country: US\n",
       "--></g></svg>"
      ]
     },
     "execution_count": 13,
     "metadata": {},
     "output_type": "execute_result"
    }
   ],
   "source": [
    "%viz --view=interconnection eVehicle_LogicalArchitecture::eVehicle"
   ]
  },
  {
   "cell_type": "markdown",
   "metadata": {},
   "source": [
    "## Modeling interfaces<a name=\"sysmlv2modinterfaces\"></a>\n",
    "\n",
    "The interaction points are defined by ports in SysML v2, similar to SysML v1. The following extended example defines the interaction points between the engine and the battery. The connection is changed to connect the ports instead of the parts."
   ]
  },
  {
   "cell_type": "code",
   "execution_count": 53,
   "metadata": {},
   "outputs": [
    {
     "data": {
      "text/plain": [
       "Package eVehicle_LogicalArchitecture (53f63bd3-422e-48c1-84de-bcbe00a09574)\n"
      ]
     },
     "execution_count": 53,
     "metadata": {},
     "output_type": "execute_result"
    }
   ],
   "source": [
    "package eVehicle_LogicalArchitecture {\n",
    "       \n",
    "    import eVehicleDefinitions::*;\n",
    "    \n",
    "    part eVehicle {    \n",
    "        part body;\n",
    "        part battery {\n",
    "            port powerOut;\n",
    "        }\n",
    "        part engine {\n",
    "            port powerIn;\n",
    "        }\n",
    "        part frontAxis;\n",
    "        part rearAxis;\n",
    "        part frontWheel : Wheel[2];\n",
    "        part rearWheel : Wheel[2];\n",
    "        \n",
    "        connect battery::powerOut to engine::powerIn;\n",
    "        connect engine to frontAxis;\n",
    "        connect frontAxis to frontWheel;\n",
    "        connect rearAxis to rearWheel;\n",
    "        connect body to battery;\n",
    "        connect body to engine;\n",
    "        connect body to frontAxis;\n",
    "        connect body to rearAxis;\n",
    "    }\n",
    "}"
   ]
  },
  {
   "cell_type": "code",
   "execution_count": 15,
   "metadata": {},
   "outputs": [
    {
     "data": {
      "image/svg+xml": [
       "<?xml version=\"1.0\" encoding=\"UTF-8\" standalone=\"no\"?><svg xmlns=\"http://www.w3.org/2000/svg\" xmlns:xlink=\"http://www.w3.org/1999/xlink\" contentScriptType=\"application/ecmascript\" contentStyleType=\"text/css\" height=\"186px\" preserveAspectRatio=\"none\" style=\"width:1413px;height:186px;\" version=\"1.1\" viewBox=\"0 0 1413 186\" width=\"1413px\" zoomAndPan=\"magnify\"><defs/><g><!--MD5=[fbc87193dbaf4d95561dea2c320d4a47]\n",
       "cluster E1--><a href=\"psysml:8b9c7dc3-24d2-4b9d-9930-10eb546b3782\" target=\"_top\" title=\"psysml:8b9c7dc3-24d2-4b9d-9930-10eb546b3782\" xlink:actuate=\"onRequest\" xlink:href=\"psysml:8b9c7dc3-24d2-4b9d-9930-10eb546b3782\" xlink:show=\"new\" xlink:title=\"psysml:8b9c7dc3-24d2-4b9d-9930-10eb546b3782\" xlink:type=\"simple\"><rect fill=\"#FFFFFF\" height=\"168\" id=\"E1\" rx=\"10\" ry=\"10\" style=\"stroke: #383838; stroke-width: 1.5;\" width=\"1394\" x=\"7\" y=\"7\"/><rect fill=\"#F8F8F8\" height=\"25.0938\" rx=\"10\" ry=\"10\" style=\"stroke: #F8F8F8; stroke-width: 1.5;\" width=\"1394\" x=\"7\" y=\"7\"/><rect fill=\"#F8F8F8\" height=\"10\" style=\"stroke: #F8F8F8; stroke-width: 1.5;\" width=\"1394\" x=\"7\" y=\"22.0938\"/><rect fill=\"none\" height=\"168\" id=\"E1\" rx=\"10\" ry=\"10\" style=\"stroke: #383838; stroke-width: 1.5;\" width=\"1394\" x=\"7\" y=\"7\"/><text fill=\"#000000\" font-family=\"sans-serif\" font-size=\"12\" lengthAdjust=\"spacingAndGlyphs\" textLength=\"47\" x=\"680.5\" y=\"24.457\">eVehicle</text><line style=\"stroke: #383838; stroke-width: 1.0;\" x1=\"7\" x2=\"1401\" y1=\"32.0938\" y2=\"32.0938\"/></a><!--MD5=[55dfccfc6c49c2d10cd1bd2211a6c90c]\n",
       "cluster E8--><a href=\"psysml:7a571cb2-fcbc-45ec-a122-7b211af28f7e\" target=\"_top\" title=\"psysml:7a571cb2-fcbc-45ec-a122-7b211af28f7e\" xlink:actuate=\"onRequest\" xlink:href=\"psysml:7a571cb2-fcbc-45ec-a122-7b211af28f7e\" xlink:show=\"new\" xlink:title=\"psysml:7a571cb2-fcbc-45ec-a122-7b211af28f7e\" xlink:type=\"simple\"><rect fill=\"#FFFFFF\" height=\"100\" id=\"E8\" rx=\"10\" ry=\"10\" style=\"stroke: #383838; stroke-width: 1.5;\" width=\"128\" x=\"1094\" y=\"51\"/><rect fill=\"#F8F8F8\" height=\"25.0938\" rx=\"10\" ry=\"10\" style=\"stroke: #F8F8F8; stroke-width: 1.5;\" width=\"128\" x=\"1094\" y=\"51\"/><rect fill=\"#F8F8F8\" height=\"10\" style=\"stroke: #F8F8F8; stroke-width: 1.5;\" width=\"128\" x=\"1094\" y=\"66.0938\"/><rect fill=\"none\" height=\"100\" id=\"E8\" rx=\"10\" ry=\"10\" style=\"stroke: #383838; stroke-width: 1.5;\" width=\"128\" x=\"1094\" y=\"51\"/><text fill=\"#000000\" font-family=\"sans-serif\" font-size=\"12\" lengthAdjust=\"spacingAndGlyphs\" textLength=\"79\" x=\"1118.5\" y=\"68.457\">frontLeftWheel</text><line style=\"stroke: #383838; stroke-width: 1.0;\" x1=\"1094\" x2=\"1222\" y1=\"76.0938\" y2=\"76.0938\"/></a><!--MD5=[a84b4591f868c1fa4a211716a82f2f0d]\n",
       "cluster E10--><a href=\"psysml:11507b3a-133b-4740-bc3e-e329fcedbe0c\" target=\"_top\" title=\"psysml:11507b3a-133b-4740-bc3e-e329fcedbe0c\" xlink:actuate=\"onRequest\" xlink:href=\"psysml:11507b3a-133b-4740-bc3e-e329fcedbe0c\" xlink:show=\"new\" xlink:title=\"psysml:11507b3a-133b-4740-bc3e-e329fcedbe0c\" xlink:type=\"simple\"><rect fill=\"#FFFFFF\" height=\"100\" id=\"E10\" rx=\"10\" ry=\"10\" style=\"stroke: #383838; stroke-width: 1.5;\" width=\"131\" x=\"1246\" y=\"51\"/><rect fill=\"#F8F8F8\" height=\"25.0938\" rx=\"10\" ry=\"10\" style=\"stroke: #F8F8F8; stroke-width: 1.5;\" width=\"131\" x=\"1246\" y=\"51\"/><rect fill=\"#F8F8F8\" height=\"10\" style=\"stroke: #F8F8F8; stroke-width: 1.5;\" width=\"131\" x=\"1246\" y=\"66.0938\"/><rect fill=\"none\" height=\"100\" id=\"E10\" rx=\"10\" ry=\"10\" style=\"stroke: #383838; stroke-width: 1.5;\" width=\"131\" x=\"1246\" y=\"51\"/><text fill=\"#000000\" font-family=\"sans-serif\" font-size=\"12\" lengthAdjust=\"spacingAndGlyphs\" textLength=\"88\" x=\"1267.5\" y=\"68.457\">frontRightWheel</text><line style=\"stroke: #383838; stroke-width: 1.0;\" x1=\"1246\" x2=\"1377\" y1=\"76.0938\" y2=\"76.0938\"/></a><!--MD5=[03104f77b71e2d8d3500c651e6e31181]\n",
       "cluster E13--><a href=\"psysml:0e7331ee-0605-484c-a898-1f114cc23422\" target=\"_top\" title=\"psysml:0e7331ee-0605-484c-a898-1f114cc23422\" xlink:actuate=\"onRequest\" xlink:href=\"psysml:0e7331ee-0605-484c-a898-1f114cc23422\" xlink:show=\"new\" xlink:title=\"psysml:0e7331ee-0605-484c-a898-1f114cc23422\" xlink:type=\"simple\"><rect fill=\"#FFFFFF\" height=\"100\" id=\"E13\" rx=\"10\" ry=\"10\" style=\"stroke: #383838; stroke-width: 1.5;\" width=\"128\" x=\"942\" y=\"51\"/><rect fill=\"#F8F8F8\" height=\"25.0938\" rx=\"10\" ry=\"10\" style=\"stroke: #F8F8F8; stroke-width: 1.5;\" width=\"128\" x=\"942\" y=\"51\"/><rect fill=\"#F8F8F8\" height=\"10\" style=\"stroke: #F8F8F8; stroke-width: 1.5;\" width=\"128\" x=\"942\" y=\"66.0938\"/><rect fill=\"none\" height=\"100\" id=\"E13\" rx=\"10\" ry=\"10\" style=\"stroke: #383838; stroke-width: 1.5;\" width=\"128\" x=\"942\" y=\"51\"/><text fill=\"#000000\" font-family=\"sans-serif\" font-size=\"12\" lengthAdjust=\"spacingAndGlyphs\" textLength=\"77\" x=\"967.5\" y=\"68.457\">rearLeftWheel</text><line style=\"stroke: #383838; stroke-width: 1.0;\" x1=\"942\" x2=\"1070\" y1=\"76.0938\" y2=\"76.0938\"/></a><!--MD5=[ab3548ab6224ff035c4047a4d30b7567]\n",
       "cluster E15--><a href=\"psysml:04914127-1227-442e-8052-37a0ab6e1610\" target=\"_top\" title=\"psysml:04914127-1227-442e-8052-37a0ab6e1610\" xlink:actuate=\"onRequest\" xlink:href=\"psysml:04914127-1227-442e-8052-37a0ab6e1610\" xlink:show=\"new\" xlink:title=\"psysml:04914127-1227-442e-8052-37a0ab6e1610\" xlink:type=\"simple\"><rect fill=\"#FFFFFF\" height=\"100\" id=\"E15\" rx=\"10\" ry=\"10\" style=\"stroke: #383838; stroke-width: 1.5;\" width=\"128\" x=\"790\" y=\"51\"/><rect fill=\"#F8F8F8\" height=\"25.0938\" rx=\"10\" ry=\"10\" style=\"stroke: #F8F8F8; stroke-width: 1.5;\" width=\"128\" x=\"790\" y=\"51\"/><rect fill=\"#F8F8F8\" height=\"10\" style=\"stroke: #F8F8F8; stroke-width: 1.5;\" width=\"128\" x=\"790\" y=\"66.0938\"/><rect fill=\"none\" height=\"100\" id=\"E15\" rx=\"10\" ry=\"10\" style=\"stroke: #383838; stroke-width: 1.5;\" width=\"128\" x=\"790\" y=\"51\"/><text fill=\"#000000\" font-family=\"sans-serif\" font-size=\"12\" lengthAdjust=\"spacingAndGlyphs\" textLength=\"86\" x=\"811\" y=\"68.457\">rearRightWheel</text><line style=\"stroke: #383838; stroke-width: 1.0;\" x1=\"790\" x2=\"918\" y1=\"76.0938\" y2=\"76.0938\"/></a><g id=\"E1.E2\"><a href=\"psysml:75741529-6113-4ff7-82d6-24e4b198fd86\" target=\"_top\" title=\"psysml:75741529-6113-4ff7-82d6-24e4b198fd86\" xlink:actuate=\"onRequest\" xlink:href=\"psysml:75741529-6113-4ff7-82d6-24e4b198fd86\" xlink:show=\"new\" xlink:title=\"psysml:75741529-6113-4ff7-82d6-24e4b198fd86\" xlink:type=\"simple\"><rect fill=\"#FFFFFF\" height=\"40\" id=\"E2\" rx=\"10\" ry=\"10\" style=\"stroke: #383838; stroke-width: 1.5;\" width=\"50\" x=\"721\" y=\"91\"/><rect fill=\"#F8F8F8\" height=\"25.0938\" rx=\"10\" ry=\"10\" style=\"stroke: #F8F8F8; stroke-width: 1.5;\" width=\"50\" x=\"721\" y=\"91\"/><rect fill=\"#F8F8F8\" height=\"10\" style=\"stroke: #F8F8F8; stroke-width: 1.5;\" width=\"50\" x=\"721\" y=\"106.0938\"/><rect fill=\"none\" height=\"40\" id=\"E2\" rx=\"10\" ry=\"10\" style=\"stroke: #383838; stroke-width: 1.5;\" width=\"50\" x=\"721\" y=\"91\"/><text fill=\"#000000\" font-family=\"sans-serif\" font-size=\"12\" lengthAdjust=\"spacingAndGlyphs\" textLength=\"26\" x=\"733\" y=\"108.457\">body</text></a></g><g id=\"E1.E3\"><a href=\"psysml:3d93517b-2c89-4d52-9ae6-a8db0bf51158\" target=\"_top\" title=\"psysml:3d93517b-2c89-4d52-9ae6-a8db0bf51158\" xlink:actuate=\"onRequest\" xlink:href=\"psysml:3d93517b-2c89-4d52-9ae6-a8db0bf51158\" xlink:show=\"new\" xlink:title=\"psysml:3d93517b-2c89-4d52-9ae6-a8db0bf51158\" xlink:type=\"simple\"><rect fill=\"#FFFFFF\" height=\"40\" id=\"E3\" rx=\"10\" ry=\"10\" style=\"stroke: #383838; stroke-width: 1.5;\" width=\"50\" x=\"636\" y=\"91\"/><rect fill=\"#F8F8F8\" height=\"25.0938\" rx=\"10\" ry=\"10\" style=\"stroke: #F8F8F8; stroke-width: 1.5;\" width=\"50\" x=\"636\" y=\"91\"/><rect fill=\"#F8F8F8\" height=\"10\" style=\"stroke: #F8F8F8; stroke-width: 1.5;\" width=\"50\" x=\"636\" y=\"106.0938\"/><rect fill=\"none\" height=\"40\" id=\"E3\" rx=\"10\" ry=\"10\" style=\"stroke: #383838; stroke-width: 1.5;\" width=\"50\" x=\"636\" y=\"91\"/><text fill=\"#000000\" font-family=\"sans-serif\" font-size=\"12\" lengthAdjust=\"spacingAndGlyphs\" textLength=\"36\" x=\"643\" y=\"108.457\">battery</text></a></g><g id=\"E1.E4\"><a href=\"psysml:f49d2219-1dbe-4c1d-b0b7-528976b98040\" target=\"_top\" title=\"psysml:f49d2219-1dbe-4c1d-b0b7-528976b98040\" xlink:actuate=\"onRequest\" xlink:href=\"psysml:f49d2219-1dbe-4c1d-b0b7-528976b98040\" xlink:show=\"new\" xlink:title=\"psysml:f49d2219-1dbe-4c1d-b0b7-528976b98040\" xlink:type=\"simple\"><rect fill=\"#FFFFFF\" height=\"40\" id=\"E4\" rx=\"10\" ry=\"10\" style=\"stroke: #383838; stroke-width: 1.5;\" width=\"50\" x=\"551\" y=\"91\"/><rect fill=\"#F8F8F8\" height=\"25.0938\" rx=\"10\" ry=\"10\" style=\"stroke: #F8F8F8; stroke-width: 1.5;\" width=\"50\" x=\"551\" y=\"91\"/><rect fill=\"#F8F8F8\" height=\"10\" style=\"stroke: #F8F8F8; stroke-width: 1.5;\" width=\"50\" x=\"551\" y=\"106.0938\"/><rect fill=\"none\" height=\"40\" id=\"E4\" rx=\"10\" ry=\"10\" style=\"stroke: #383838; stroke-width: 1.5;\" width=\"50\" x=\"551\" y=\"91\"/><text fill=\"#000000\" font-family=\"sans-serif\" font-size=\"12\" lengthAdjust=\"spacingAndGlyphs\" textLength=\"38\" x=\"557\" y=\"108.457\">engine</text></a></g><g id=\"E1.E5\"><a href=\"psysml:bb3d4ae9-311e-483d-91a3-7843f1b6a3c5\" target=\"_top\" title=\"psysml:bb3d4ae9-311e-483d-91a3-7843f1b6a3c5\" xlink:actuate=\"onRequest\" xlink:href=\"psysml:bb3d4ae9-311e-483d-91a3-7843f1b6a3c5\" xlink:show=\"new\" xlink:title=\"psysml:bb3d4ae9-311e-483d-91a3-7843f1b6a3c5\" xlink:type=\"simple\"><rect fill=\"#FFFFFF\" height=\"40\" id=\"E5\" rx=\"10\" ry=\"10\" style=\"stroke: #383838; stroke-width: 1.5;\" width=\"57\" x=\"458.5\" y=\"91\"/><rect fill=\"#F8F8F8\" height=\"25.0938\" rx=\"10\" ry=\"10\" style=\"stroke: #F8F8F8; stroke-width: 1.5;\" width=\"57\" x=\"458.5\" y=\"91\"/><rect fill=\"#F8F8F8\" height=\"10\" style=\"stroke: #F8F8F8; stroke-width: 1.5;\" width=\"57\" x=\"458.5\" y=\"106.0938\"/><rect fill=\"none\" height=\"40\" id=\"E5\" rx=\"10\" ry=\"10\" style=\"stroke: #383838; stroke-width: 1.5;\" width=\"57\" x=\"458.5\" y=\"91\"/><text fill=\"#000000\" font-family=\"sans-serif\" font-size=\"12\" lengthAdjust=\"spacingAndGlyphs\" textLength=\"46\" x=\"464\" y=\"108.457\">frontAxis</text></a></g><g id=\"E1.E6\"><a href=\"psysml:7f42fcfa-4eb6-4a36-b119-d0e9efeb685d\" target=\"_top\" title=\"psysml:7f42fcfa-4eb6-4a36-b119-d0e9efeb685d\" xlink:actuate=\"onRequest\" xlink:href=\"psysml:7f42fcfa-4eb6-4a36-b119-d0e9efeb685d\" xlink:show=\"new\" xlink:title=\"psysml:7f42fcfa-4eb6-4a36-b119-d0e9efeb685d\" xlink:type=\"simple\"><rect fill=\"#FFFFFF\" height=\"40\" id=\"E6\" rx=\"10\" ry=\"10\" style=\"stroke: #383838; stroke-width: 1.5;\" width=\"55\" x=\"368.5\" y=\"91\"/><rect fill=\"#F8F8F8\" height=\"25.0938\" rx=\"10\" ry=\"10\" style=\"stroke: #F8F8F8; stroke-width: 1.5;\" width=\"55\" x=\"368.5\" y=\"91\"/><rect fill=\"#F8F8F8\" height=\"10\" style=\"stroke: #F8F8F8; stroke-width: 1.5;\" width=\"55\" x=\"368.5\" y=\"106.0938\"/><rect fill=\"none\" height=\"40\" id=\"E6\" rx=\"10\" ry=\"10\" style=\"stroke: #383838; stroke-width: 1.5;\" width=\"55\" x=\"368.5\" y=\"91\"/><text fill=\"#000000\" font-family=\"sans-serif\" font-size=\"12\" lengthAdjust=\"spacingAndGlyphs\" textLength=\"44\" x=\"374\" y=\"108.457\">rearAxis</text></a></g><g id=\"E1.E7\"><a href=\"psysml:0aa9471a-4bac-420b-a8df-6c9174a4e8b5\" target=\"_top\" title=\"psysml:0aa9471a-4bac-420b-a8df-6c9174a4e8b5\" xlink:actuate=\"onRequest\" xlink:href=\"psysml:0aa9471a-4bac-420b-a8df-6c9174a4e8b5\" xlink:show=\"new\" xlink:title=\"psysml:0aa9471a-4bac-420b-a8df-6c9174a4e8b5\" xlink:type=\"simple\"><rect fill=\"#FFFFFF\" height=\"40\" id=\"E7\" rx=\"10\" ry=\"10\" style=\"stroke: #383838; stroke-width: 1.5;\" width=\"139\" x=\"194.5\" y=\"91\"/><rect fill=\"#F8F8F8\" height=\"25.0938\" rx=\"10\" ry=\"10\" style=\"stroke: #F8F8F8; stroke-width: 1.5;\" width=\"139\" x=\"194.5\" y=\"91\"/><rect fill=\"#F8F8F8\" height=\"10\" style=\"stroke: #F8F8F8; stroke-width: 1.5;\" width=\"139\" x=\"194.5\" y=\"106.0938\"/><rect fill=\"none\" height=\"40\" id=\"E7\" rx=\"10\" ry=\"10\" style=\"stroke: #383838; stroke-width: 1.5;\" width=\"139\" x=\"194.5\" y=\"91\"/><text fill=\"#000000\" font-family=\"sans-serif\" font-size=\"12\" lengthAdjust=\"spacingAndGlyphs\" textLength=\"128\" x=\"200\" y=\"108.457\">frontWheel: FrontWheel</text></a></g><!--MD5=[fd4143e9d270a159db93a4ea2a975926]\n",
       "class E9--><a href=\"psysml:1ccc2790-0587-490b-bfe0-d063fdc5b6e8\" target=\"_top\" title=\"psysml:1ccc2790-0587-490b-bfe0-d063fdc5b6e8\" xlink:actuate=\"onRequest\" xlink:href=\"psysml:1ccc2790-0587-490b-bfe0-d063fdc5b6e8\" xlink:show=\"new\" xlink:title=\"psysml:1ccc2790-0587-490b-bfe0-d063fdc5b6e8\" xlink:type=\"simple\"><rect fill=\"#FFFFFF\" height=\"48.1875\" id=\"E9\" rx=\"10\" ry=\"10\" style=\"stroke: #383838; stroke-width: 1.5;\" width=\"95\" x=\"1110.5\" y=\"87\"/><text fill=\"#000000\" font-family=\"sans-serif\" font-size=\"12\" font-style=\"italic\" lengthAdjust=\"spacingAndGlyphs\" textLength=\"59\" x=\"1128.5\" y=\"104.457\">«attribute»</text><text fill=\"#000000\" font-family=\"sans-serif\" font-size=\"12\" lengthAdjust=\"spacingAndGlyphs\" textLength=\"89\" x=\"1113.5\" y=\"119.5508\">currentPressure</text><line style=\"stroke: #383838; stroke-width: 1.5;\" x1=\"1111.5\" x2=\"1204.5\" y1=\"127.1875\" y2=\"127.1875\"/></a><!--MD5=[1dd1bfd58a279cf63c5f349dbc8fc6a1]\n",
       "class E11--><a href=\"psysml:7cca604c-af4f-4cee-ac35-6611e175f458\" target=\"_top\" title=\"psysml:7cca604c-af4f-4cee-ac35-6611e175f458\" xlink:actuate=\"onRequest\" xlink:href=\"psysml:7cca604c-af4f-4cee-ac35-6611e175f458\" xlink:show=\"new\" xlink:title=\"psysml:7cca604c-af4f-4cee-ac35-6611e175f458\" xlink:type=\"simple\"><rect fill=\"#FFFFFF\" height=\"48.1875\" id=\"E11\" rx=\"10\" ry=\"10\" style=\"stroke: #383838; stroke-width: 1.5;\" width=\"95\" x=\"1263.5\" y=\"87\"/><text fill=\"#000000\" font-family=\"sans-serif\" font-size=\"12\" font-style=\"italic\" lengthAdjust=\"spacingAndGlyphs\" textLength=\"59\" x=\"1281.5\" y=\"104.457\">«attribute»</text><text fill=\"#000000\" font-family=\"sans-serif\" font-size=\"12\" lengthAdjust=\"spacingAndGlyphs\" textLength=\"89\" x=\"1266.5\" y=\"119.5508\">currentPressure</text><line style=\"stroke: #383838; stroke-width: 1.5;\" x1=\"1264.5\" x2=\"1357.5\" y1=\"127.1875\" y2=\"127.1875\"/></a><g id=\"E1.E12\"><a href=\"psysml:24af48a6-9abc-4f0d-8666-5e30f41a47f1\" target=\"_top\" title=\"psysml:24af48a6-9abc-4f0d-8666-5e30f41a47f1\" xlink:actuate=\"onRequest\" xlink:href=\"psysml:24af48a6-9abc-4f0d-8666-5e30f41a47f1\" xlink:show=\"new\" xlink:title=\"psysml:24af48a6-9abc-4f0d-8666-5e30f41a47f1\" xlink:type=\"simple\"><rect fill=\"#FFFFFF\" height=\"40\" id=\"E12\" rx=\"10\" ry=\"10\" style=\"stroke: #383838; stroke-width: 1.5;\" width=\"136\" x=\"23\" y=\"91\"/><rect fill=\"#F8F8F8\" height=\"25.0938\" rx=\"10\" ry=\"10\" style=\"stroke: #F8F8F8; stroke-width: 1.5;\" width=\"136\" x=\"23\" y=\"91\"/><rect fill=\"#F8F8F8\" height=\"10\" style=\"stroke: #F8F8F8; stroke-width: 1.5;\" width=\"136\" x=\"23\" y=\"106.0938\"/><rect fill=\"none\" height=\"40\" id=\"E12\" rx=\"10\" ry=\"10\" style=\"stroke: #383838; stroke-width: 1.5;\" width=\"136\" x=\"23\" y=\"91\"/><text fill=\"#000000\" font-family=\"sans-serif\" font-size=\"12\" lengthAdjust=\"spacingAndGlyphs\" textLength=\"125\" x=\"28.5\" y=\"108.457\">rearWheel: RearWheel</text></a></g><!--MD5=[bee11217b2f71d958a27249dc326068c]\n",
       "class E14--><a href=\"psysml:56849d5a-0fa7-45b6-97db-547faca6ce98\" target=\"_top\" title=\"psysml:56849d5a-0fa7-45b6-97db-547faca6ce98\" xlink:actuate=\"onRequest\" xlink:href=\"psysml:56849d5a-0fa7-45b6-97db-547faca6ce98\" xlink:show=\"new\" xlink:title=\"psysml:56849d5a-0fa7-45b6-97db-547faca6ce98\" xlink:type=\"simple\"><rect fill=\"#FFFFFF\" height=\"48.1875\" id=\"E14\" rx=\"10\" ry=\"10\" style=\"stroke: #383838; stroke-width: 1.5;\" width=\"95\" x=\"958.5\" y=\"87\"/><text fill=\"#000000\" font-family=\"sans-serif\" font-size=\"12\" font-style=\"italic\" lengthAdjust=\"spacingAndGlyphs\" textLength=\"59\" x=\"976.5\" y=\"104.457\">«attribute»</text><text fill=\"#000000\" font-family=\"sans-serif\" font-size=\"12\" lengthAdjust=\"spacingAndGlyphs\" textLength=\"89\" x=\"961.5\" y=\"119.5508\">currentPressure</text><line style=\"stroke: #383838; stroke-width: 1.5;\" x1=\"959.5\" x2=\"1052.5\" y1=\"127.1875\" y2=\"127.1875\"/></a><!--MD5=[35f0587eaee8d5bb9a02e25b63afc23b]\n",
       "class E16--><a href=\"psysml:62caf10a-6e33-44f4-86ca-c7225744b180\" target=\"_top\" title=\"psysml:62caf10a-6e33-44f4-86ca-c7225744b180\" xlink:actuate=\"onRequest\" xlink:href=\"psysml:62caf10a-6e33-44f4-86ca-c7225744b180\" xlink:show=\"new\" xlink:title=\"psysml:62caf10a-6e33-44f4-86ca-c7225744b180\" xlink:type=\"simple\"><rect fill=\"#FFFFFF\" height=\"48.1875\" id=\"E16\" rx=\"10\" ry=\"10\" style=\"stroke: #383838; stroke-width: 1.5;\" width=\"95\" x=\"806.5\" y=\"87\"/><text fill=\"#000000\" font-family=\"sans-serif\" font-size=\"12\" font-style=\"italic\" lengthAdjust=\"spacingAndGlyphs\" textLength=\"59\" x=\"824.5\" y=\"104.457\">«attribute»</text><text fill=\"#000000\" font-family=\"sans-serif\" font-size=\"12\" lengthAdjust=\"spacingAndGlyphs\" textLength=\"89\" x=\"809.5\" y=\"119.5508\">currentPressure</text><line style=\"stroke: #383838; stroke-width: 1.5;\" x1=\"807.5\" x2=\"900.5\" y1=\"127.1875\" y2=\"127.1875\"/></a><!--MD5=[ee1e00efed7f89f3f5699f3725c2164e]\n",
       "@startuml\r\n",
       "skinparam ranksep 10\r\n",
       "skinparam rectangle {\r\n",
       " backgroundColor<<block>> LightGreen\r\n",
       "}\r\n",
       "skinparam monochrome true\r\n",
       "skinparam classbackgroundcolor white\r\n",
       "skinparam shadowing false\r\n",
       "skinparam wrapWidth 300\r\n",
       "hide circle\r\n",
       "\r\n",
       "rec usage \"eVehicle\" as E1  [[psysml:8b9c7dc3-24d2-4b9d-9930-10eb546b3782 ]] {\r\n",
       "rec usage \"body\" as E2  [[psysml:75741529-6113-4ff7-82d6-24e4b198fd86 ]] {\r\n",
       "}\r\n",
       "rec usage \"battery\" as E3  [[psysml:3d93517b-2c89-4d52-9ae6-a8db0bf51158 ]] {\r\n",
       "}\r\n",
       "rec usage \"engine\" as E4  [[psysml:f49d2219-1dbe-4c1d-b0b7-528976b98040 ]] {\r\n",
       "}\r\n",
       "rec usage \"frontAxis\" as E5  [[psysml:bb3d4ae9-311e-483d-91a3-7843f1b6a3c5 ]] {\r\n",
       "}\r\n",
       "rec usage \"rearAxis\" as E6  [[psysml:7f42fcfa-4eb6-4a36-b119-d0e9efeb685d ]] {\r\n",
       "}\r\n",
       "rec usage \"frontWheel: FrontWheel\" as E7  [[psysml:0aa9471a-4bac-420b-a8df-6c9174a4e8b5 ]] {\r\n",
       "}\r\n",
       "rec usage \"frontLeftWheel\" as E8  [[psysml:7a571cb2-fcbc-45ec-a122-7b211af28f7e ]] {\r\n",
       "comp usage \"currentPressure\" as E9  <<(T,blue)attribute>> [[psysml:1ccc2790-0587-490b-bfe0-d063fdc5b6e8 ]] {\r\n",
       "}\r\n",
       "}\r\n",
       "rec usage \"frontRightWheel\" as E10  [[psysml:11507b3a-133b-4740-bc3e-e329fcedbe0c ]] {\r\n",
       "comp usage \"currentPressure\" as E11  <<(T,blue)attribute>> [[psysml:7cca604c-af4f-4cee-ac35-6611e175f458 ]] {\r\n",
       "}\r\n",
       "}\r\n",
       "rec usage \"rearWheel: RearWheel\" as E12  [[psysml:24af48a6-9abc-4f0d-8666-5e30f41a47f1 ]] {\r\n",
       "}\r\n",
       "rec usage \"rearLeftWheel\" as E13  [[psysml:0e7331ee-0605-484c-a898-1f114cc23422 ]] {\r\n",
       "comp usage \"currentPressure\" as E14  <<(T,blue)attribute>> [[psysml:56849d5a-0fa7-45b6-97db-547faca6ce98 ]] {\r\n",
       "}\r\n",
       "}\r\n",
       "rec usage \"rearRightWheel\" as E15  [[psysml:04914127-1227-442e-8052-37a0ab6e1610 ]] {\r\n",
       "comp usage \"currentPressure\" as E16  <<(T,blue)attribute>> [[psysml:62caf10a-6e33-44f4-86ca-c7225744b180 ]] {\r\n",
       "}\r\n",
       "}\r\n",
       "}\r\n",
       "@enduml\r\n",
       "\n",
       "PlantUML version 1.2020.13(Sat Jun 13 14:26:38 CEST 2020)\n",
       "(EPL source distribution)\n",
       "Java Runtime: OpenJDK Runtime Environment\n",
       "JVM: OpenJDK 64-Bit Server VM\n",
       "Default Encoding: Cp1252\n",
       "Language: en\n",
       "Country: US\n",
       "--></g></svg>"
      ]
     },
     "execution_count": 15,
     "metadata": {},
     "output_type": "execute_result"
    }
   ],
   "source": [
    "%viz --view=interconnection eVehicle_LogicalArchitecture::eVehicle"
   ]
  },
  {
   "cell_type": "markdown",
   "metadata": {},
   "source": [
    "The ports *powerIn* and *powerOut* have no types respectively the SysML v2 library element *Port* as default type. The consistent usage/definition pattern applies here as well. The port is a usage. With a PortDef the interaction point can be defined. In this example it is a good candidate for a model library.\n",
    "\n",
    "The port only specifies the interaction point. The interface defines the connection between interaction points. The *PowerOutPort* is conjugated for the *consumerPort* port."
   ]
  },
  {
   "cell_type": "code",
   "execution_count": 54,
   "metadata": {},
   "outputs": [
    {
     "data": {
      "text/plain": [
       "Package eVehicleLibrary (7ede2aa6-1e5f-4964-af19-3d1ede8966e4)\n"
      ]
     },
     "execution_count": 54,
     "metadata": {},
     "output_type": "execute_result"
    }
   ],
   "source": [
    "package eVehicleLibrary {\n",
    "    \n",
    "    import ScalarValues::Integer;\n",
    "    \n",
    "    attribute def ElectricEnergy;\n",
    "    \n",
    "    port def PowerOutPort {\n",
    "        out energy : ElectricEnergy;\n",
    "    }\n",
    "    \n",
    "    interface def PowerInterface {\n",
    "        end supplierPort : PowerOutPort;\n",
    "        end consumerPort : ~PowerOutPort;\n",
    "    }\n",
    "}"
   ]
  },
  {
   "cell_type": "code",
   "execution_count": 17,
   "metadata": {},
   "outputs": [
    {
     "data": {
      "image/svg+xml": [
       "<?xml version=\"1.0\" encoding=\"UTF-8\" standalone=\"no\"?><svg xmlns=\"http://www.w3.org/2000/svg\" xmlns:xlink=\"http://www.w3.org/1999/xlink\" contentScriptType=\"application/ecmascript\" contentStyleType=\"text/css\" height=\"164px\" preserveAspectRatio=\"none\" style=\"width:608px;height:164px;\" version=\"1.1\" viewBox=\"0 0 608 164\" width=\"608px\" zoomAndPan=\"magnify\"><defs/><g><!--MD5=[fbc87193dbaf4d95561dea2c320d4a47]\n",
       "cluster E1--><a href=\"psysml:11f9becc-f03c-4900-b59a-ee99b20eef2c\" target=\"_top\" title=\"psysml:11f9becc-f03c-4900-b59a-ee99b20eef2c\" xlink:actuate=\"onRequest\" xlink:href=\"psysml:11f9becc-f03c-4900-b59a-ee99b20eef2c\" xlink:show=\"new\" xlink:title=\"psysml:11f9becc-f03c-4900-b59a-ee99b20eef2c\" xlink:type=\"simple\"><polygon fill=\"#FFFFFF\" points=\"16,6,131,6,138,29.6094,586,29.6094,586,152,16,152,16,6\" style=\"stroke: #000000; stroke-width: 1.5;\"/><line style=\"stroke: #000000; stroke-width: 1.5;\" x1=\"16\" x2=\"138\" y1=\"29.6094\" y2=\"29.6094\"/><text fill=\"#000000\" font-family=\"sans-serif\" font-size=\"14\" font-weight=\"bold\" lengthAdjust=\"spacingAndGlyphs\" textLength=\"109\" x=\"20\" y=\"22.5332\">eVehicleLibrary</text></a><!--MD5=[b4997ac47864f28c2f74865a473b2911]\n",
       "class E2--><a href=\"psysml:b9e24e95-eb73-4c32-8ae2-4d6297abfadc\" target=\"_top\" title=\"psysml:b9e24e95-eb73-4c32-8ae2-4d6297abfadc\" xlink:actuate=\"onRequest\" xlink:href=\"psysml:b9e24e95-eb73-4c32-8ae2-4d6297abfadc\" xlink:show=\"new\" xlink:title=\"psysml:b9e24e95-eb73-4c32-8ae2-4d6297abfadc\" xlink:type=\"simple\"><rect fill=\"#FFFFFF\" height=\"48.1875\" id=\"E2\" style=\"stroke: #383838; stroke-width: 1.5;\" width=\"67\" x=\"502.5\" y=\"65\"/><text fill=\"#000000\" font-family=\"sans-serif\" font-size=\"12\" font-style=\"italic\" lengthAdjust=\"spacingAndGlyphs\" textLength=\"65\" x=\"503.5\" y=\"82.457\">«dataType»</text><text fill=\"#000000\" font-family=\"sans-serif\" font-size=\"12\" lengthAdjust=\"spacingAndGlyphs\" textLength=\"38\" x=\"517\" y=\"97.5508\">Integer</text><line style=\"stroke: #383838; stroke-width: 1.5;\" x1=\"503.5\" x2=\"568.5\" y1=\"105.1875\" y2=\"105.1875\"/></a><!--MD5=[09b614a08d8cba4a07c9adeb5e0fee81]\n",
       "class E3--><a href=\"psysml:5fd97c7a-99c7-4eac-998c-eec89d99f3ec\" target=\"_top\" title=\"psysml:5fd97c7a-99c7-4eac-998c-eec89d99f3ec\" xlink:actuate=\"onRequest\" xlink:href=\"psysml:5fd97c7a-99c7-4eac-998c-eec89d99f3ec\" xlink:show=\"new\" xlink:title=\"psysml:5fd97c7a-99c7-4eac-998c-eec89d99f3ec\" xlink:type=\"simple\"><rect fill=\"#FFFFFF\" height=\"48.1875\" id=\"E3\" style=\"stroke: #383838; stroke-width: 1.5;\" width=\"84\" x=\"383\" y=\"65\"/><text fill=\"#000000\" font-family=\"sans-serif\" font-size=\"12\" font-style=\"italic\" lengthAdjust=\"spacingAndGlyphs\" textLength=\"79\" x=\"385.5\" y=\"82.457\">«attribute def»</text><text fill=\"#000000\" font-family=\"sans-serif\" font-size=\"12\" lengthAdjust=\"spacingAndGlyphs\" textLength=\"78\" x=\"386\" y=\"97.5508\">ElectricEnergy</text><line style=\"stroke: #383838; stroke-width: 1.5;\" x1=\"384\" x2=\"466\" y1=\"105.1875\" y2=\"105.1875\"/></a><!--MD5=[ebbe1d658d1005bcc118a6aa81145e00]\n",
       "class E4--><a href=\"psysml:88d343b2-2b5b-458c-9c36-2d7b1762b02c\" target=\"_top\" title=\"psysml:88d343b2-2b5b-458c-9c36-2d7b1762b02c\" xlink:actuate=\"onRequest\" xlink:href=\"psysml:88d343b2-2b5b-458c-9c36-2d7b1762b02c\" xlink:show=\"new\" xlink:title=\"psysml:88d343b2-2b5b-458c-9c36-2d7b1762b02c\" xlink:type=\"simple\"><rect fill=\"#FFFFFF\" height=\"79.8594\" id=\"E4\" style=\"stroke: #383838; stroke-width: 1.5;\" width=\"121\" x=\"226.5\" y=\"49\"/><text fill=\"#000000\" font-family=\"sans-serif\" font-size=\"12\" font-style=\"italic\" lengthAdjust=\"spacingAndGlyphs\" textLength=\"55\" x=\"259.5\" y=\"66.457\">«port def»</text><text fill=\"#000000\" font-family=\"sans-serif\" font-size=\"12\" lengthAdjust=\"spacingAndGlyphs\" textLength=\"76\" x=\"249\" y=\"81.5508\">PowerOutPort</text><line style=\"stroke: #383838; stroke-width: 1.5;\" x1=\"227.5\" x2=\"346.5\" y1=\"89.1875\" y2=\"89.1875\"/><text fill=\"#000000\" font-family=\"sans-serif\" font-size=\"11\" lengthAdjust=\"spacingAndGlyphs\" textLength=\"109\" x=\"232.5\" y=\"122.4424\">energy: ElectricEnergy</text><line style=\"stroke: #383838; stroke-width: 1.0;\" x1=\"227.5\" x2=\"264.5\" y1=\"104.1055\" y2=\"104.1055\"/><text fill=\"#000000\" font-family=\"sans-serif\" font-size=\"11\" lengthAdjust=\"spacingAndGlyphs\" textLength=\"45\" x=\"264.5\" y=\"108.1064\">attributes</text><line style=\"stroke: #383838; stroke-width: 1.0;\" x1=\"309.5\" x2=\"346.5\" y1=\"104.1055\" y2=\"104.1055\"/></a><!--MD5=[270fce915f116d4de14055a7c1d9a0f3]\n",
       "class E5--><a href=\"psysml:9163748a-a485-49fb-8576-42ddd61296cb\" target=\"_top\" title=\"psysml:9163748a-a485-49fb-8576-42ddd61296cb\" xlink:actuate=\"onRequest\" xlink:href=\"psysml:9163748a-a485-49fb-8576-42ddd61296cb\" xlink:show=\"new\" xlink:title=\"psysml:9163748a-a485-49fb-8576-42ddd61296cb\" xlink:type=\"simple\"><rect fill=\"#FFFFFF\" height=\"93.6953\" id=\"E5\" style=\"stroke: #383838; stroke-width: 1.5;\" width=\"159\" x=\"32.5\" y=\"42\"/><text fill=\"#000000\" font-family=\"sans-serif\" font-size=\"12\" font-style=\"italic\" lengthAdjust=\"spacingAndGlyphs\" textLength=\"81\" x=\"71.5\" y=\"59.457\">«interface def»</text><text fill=\"#000000\" font-family=\"sans-serif\" font-size=\"12\" lengthAdjust=\"spacingAndGlyphs\" textLength=\"82\" x=\"71\" y=\"74.5508\">PowerInterface</text><line style=\"stroke: #383838; stroke-width: 1.5;\" x1=\"33.5\" x2=\"190.5\" y1=\"82.1875\" y2=\"82.1875\"/><text fill=\"#000000\" font-family=\"sans-serif\" font-size=\"11\" lengthAdjust=\"spacingAndGlyphs\" textLength=\"147\" x=\"38.5\" y=\"115.4424\">consumerPort: ~PowerOutPort</text><text fill=\"#000000\" font-family=\"sans-serif\" font-size=\"11\" lengthAdjust=\"spacingAndGlyphs\" textLength=\"131\" x=\"38.5\" y=\"129.2783\">supplierPort: PowerOutPort</text><line style=\"stroke: #383838; stroke-width: 1.0;\" x1=\"33.5\" x2=\"99.5\" y1=\"97.1055\" y2=\"97.1055\"/><text fill=\"#000000\" font-family=\"sans-serif\" font-size=\"11\" lengthAdjust=\"spacingAndGlyphs\" textLength=\"25\" x=\"99.5\" y=\"101.1064\">ports</text><line style=\"stroke: #383838; stroke-width: 1.0;\" x1=\"124.5\" x2=\"190.5\" y1=\"97.1055\" y2=\"97.1055\"/></a><!--MD5=[deec2a07afb6886ac998f7909aefe2a6]\n",
       "@startuml\r\n",
       "skinparam monochrome true\r\n",
       "skinparam classbackgroundcolor white\r\n",
       "skinparam shadowing false\r\n",
       "skinparam wrapWidth 300\r\n",
       "hide circle\r\n",
       "\r\n",
       "package \"eVehicleLibrary\" as E1  [[psysml:11f9becc-f03c-4900-b59a-ee99b20eef2c ]]  {\r\n",
       "comp def \"Integer\" as E2  <<(T,blue)dataType>> [[psysml:b9e24e95-eb73-4c32-8ae2-4d6297abfadc ]] {\r\n",
       "}\r\n",
       "comp def \"ElectricEnergy\" as E3  <<(T,blue)attribute def>> [[psysml:5fd97c7a-99c7-4eac-998c-eec89d99f3ec ]] {\r\n",
       "}\r\n",
       "comp def \"PowerOutPort\" as E4  <<(T,blue)port def>> [[psysml:88d343b2-2b5b-458c-9c36-2d7b1762b02c ]] {\r\n",
       "- - attributes - -\r\n",
       "energy: ElectricEnergy\r\n",
       "}\r\n",
       "comp def \"PowerInterface\" as E5  <<(T,blue)interface def>> [[psysml:9163748a-a485-49fb-8576-42ddd61296cb ]] {\r\n",
       "- - ports - -\r\n",
       "consumerPort: ~PowerOutPort\r\n",
       "supplierPort: PowerOutPort\r\n",
       "}\r\n",
       "}\r\n",
       "@enduml\r\n",
       "\n",
       "PlantUML version 1.2020.13(Sat Jun 13 14:26:38 CEST 2020)\n",
       "(EPL source distribution)\n",
       "Java Runtime: OpenJDK Runtime Environment\n",
       "JVM: OpenJDK 64-Bit Server VM\n",
       "Default Encoding: Cp1252\n",
       "Language: en\n",
       "Country: US\n",
       "--></g></svg>"
      ]
     },
     "execution_count": 17,
     "metadata": {},
     "output_type": "execute_result"
    }
   ],
   "source": [
    "%viz --view=tree eVehicleLibrary"
   ]
  },
  {
   "cell_type": "markdown",
   "metadata": {},
   "source": [
    "Next, the definitions of the port and the interface are applied to the model. **Do not forget to run the eVehicle_Definitions and eVehicleLibrary in section [Libraries for the eVehicle example](#sysmlv2modlibrary).**"
   ]
  },
  {
   "cell_type": "code",
   "execution_count": 55,
   "metadata": {},
   "outputs": [
    {
     "data": {
      "text/plain": [
       "Package eVehicle_LogicalArchitecture (559e5dc5-15f7-406c-8e52-2ec6474be9ed)\n"
      ]
     },
     "execution_count": 55,
     "metadata": {},
     "output_type": "execute_result"
    }
   ],
   "source": [
    "package eVehicle_LogicalArchitecture {\n",
    "       \n",
    "    import eVehicleDefinitions::*;\n",
    "    import eVehicleLibrary::*;\n",
    "    \n",
    "    part eVehicle {    \n",
    "        part body;\n",
    "        part battery {\n",
    "            attribute capacity : BatteryCapacity;\n",
    "            port powerOut : PowerOutPort;\n",
    "        }\n",
    "        part engine {\n",
    "            port powerIn : ~PowerOutPort;\n",
    "        }\n",
    "        part frontAxis;\n",
    "        part rearAxis;\n",
    "        part frontWheel : Wheel[2];\n",
    "        part rearWheel : Wheel[2];\n",
    "        \n",
    "        interface : PowerInterface connect \n",
    "            supplierPort => battery::powerOut to \n",
    "            consumerPort => engine::powerIn;\n",
    "        connect engine to frontAxis;\n",
    "        connect frontAxis to frontWheel;\n",
    "        connect rearAxis to rearWheel;\n",
    "        connect body to battery;\n",
    "        connect body to engine;\n",
    "        connect body to frontAxis;\n",
    "        connect body to rearAxis;\n",
    "    }\n",
    "}"
   ]
  },
  {
   "cell_type": "code",
   "execution_count": 19,
   "metadata": {},
   "outputs": [
    {
     "data": {
      "image/svg+xml": [
       "<?xml version=\"1.0\" encoding=\"UTF-8\" standalone=\"no\"?><svg xmlns=\"http://www.w3.org/2000/svg\" xmlns:xlink=\"http://www.w3.org/1999/xlink\" contentScriptType=\"application/ecmascript\" contentStyleType=\"text/css\" height=\"186px\" preserveAspectRatio=\"none\" style=\"width:1413px;height:186px;\" version=\"1.1\" viewBox=\"0 0 1413 186\" width=\"1413px\" zoomAndPan=\"magnify\"><defs/><g><!--MD5=[fbc87193dbaf4d95561dea2c320d4a47]\n",
       "cluster E1--><a href=\"psysml:8b9c7dc3-24d2-4b9d-9930-10eb546b3782\" target=\"_top\" title=\"psysml:8b9c7dc3-24d2-4b9d-9930-10eb546b3782\" xlink:actuate=\"onRequest\" xlink:href=\"psysml:8b9c7dc3-24d2-4b9d-9930-10eb546b3782\" xlink:show=\"new\" xlink:title=\"psysml:8b9c7dc3-24d2-4b9d-9930-10eb546b3782\" xlink:type=\"simple\"><rect fill=\"#FFFFFF\" height=\"168\" id=\"E1\" rx=\"10\" ry=\"10\" style=\"stroke: #383838; stroke-width: 1.5;\" width=\"1394\" x=\"7\" y=\"7\"/><rect fill=\"#F8F8F8\" height=\"25.0938\" rx=\"10\" ry=\"10\" style=\"stroke: #F8F8F8; stroke-width: 1.5;\" width=\"1394\" x=\"7\" y=\"7\"/><rect fill=\"#F8F8F8\" height=\"10\" style=\"stroke: #F8F8F8; stroke-width: 1.5;\" width=\"1394\" x=\"7\" y=\"22.0938\"/><rect fill=\"none\" height=\"168\" id=\"E1\" rx=\"10\" ry=\"10\" style=\"stroke: #383838; stroke-width: 1.5;\" width=\"1394\" x=\"7\" y=\"7\"/><text fill=\"#000000\" font-family=\"sans-serif\" font-size=\"12\" lengthAdjust=\"spacingAndGlyphs\" textLength=\"47\" x=\"680.5\" y=\"24.457\">eVehicle</text><line style=\"stroke: #383838; stroke-width: 1.0;\" x1=\"7\" x2=\"1401\" y1=\"32.0938\" y2=\"32.0938\"/></a><!--MD5=[55dfccfc6c49c2d10cd1bd2211a6c90c]\n",
       "cluster E8--><a href=\"psysml:7a571cb2-fcbc-45ec-a122-7b211af28f7e\" target=\"_top\" title=\"psysml:7a571cb2-fcbc-45ec-a122-7b211af28f7e\" xlink:actuate=\"onRequest\" xlink:href=\"psysml:7a571cb2-fcbc-45ec-a122-7b211af28f7e\" xlink:show=\"new\" xlink:title=\"psysml:7a571cb2-fcbc-45ec-a122-7b211af28f7e\" xlink:type=\"simple\"><rect fill=\"#FFFFFF\" height=\"100\" id=\"E8\" rx=\"10\" ry=\"10\" style=\"stroke: #383838; stroke-width: 1.5;\" width=\"128\" x=\"1094\" y=\"51\"/><rect fill=\"#F8F8F8\" height=\"25.0938\" rx=\"10\" ry=\"10\" style=\"stroke: #F8F8F8; stroke-width: 1.5;\" width=\"128\" x=\"1094\" y=\"51\"/><rect fill=\"#F8F8F8\" height=\"10\" style=\"stroke: #F8F8F8; stroke-width: 1.5;\" width=\"128\" x=\"1094\" y=\"66.0938\"/><rect fill=\"none\" height=\"100\" id=\"E8\" rx=\"10\" ry=\"10\" style=\"stroke: #383838; stroke-width: 1.5;\" width=\"128\" x=\"1094\" y=\"51\"/><text fill=\"#000000\" font-family=\"sans-serif\" font-size=\"12\" lengthAdjust=\"spacingAndGlyphs\" textLength=\"79\" x=\"1118.5\" y=\"68.457\">frontLeftWheel</text><line style=\"stroke: #383838; stroke-width: 1.0;\" x1=\"1094\" x2=\"1222\" y1=\"76.0938\" y2=\"76.0938\"/></a><!--MD5=[a84b4591f868c1fa4a211716a82f2f0d]\n",
       "cluster E10--><a href=\"psysml:11507b3a-133b-4740-bc3e-e329fcedbe0c\" target=\"_top\" title=\"psysml:11507b3a-133b-4740-bc3e-e329fcedbe0c\" xlink:actuate=\"onRequest\" xlink:href=\"psysml:11507b3a-133b-4740-bc3e-e329fcedbe0c\" xlink:show=\"new\" xlink:title=\"psysml:11507b3a-133b-4740-bc3e-e329fcedbe0c\" xlink:type=\"simple\"><rect fill=\"#FFFFFF\" height=\"100\" id=\"E10\" rx=\"10\" ry=\"10\" style=\"stroke: #383838; stroke-width: 1.5;\" width=\"131\" x=\"1246\" y=\"51\"/><rect fill=\"#F8F8F8\" height=\"25.0938\" rx=\"10\" ry=\"10\" style=\"stroke: #F8F8F8; stroke-width: 1.5;\" width=\"131\" x=\"1246\" y=\"51\"/><rect fill=\"#F8F8F8\" height=\"10\" style=\"stroke: #F8F8F8; stroke-width: 1.5;\" width=\"131\" x=\"1246\" y=\"66.0938\"/><rect fill=\"none\" height=\"100\" id=\"E10\" rx=\"10\" ry=\"10\" style=\"stroke: #383838; stroke-width: 1.5;\" width=\"131\" x=\"1246\" y=\"51\"/><text fill=\"#000000\" font-family=\"sans-serif\" font-size=\"12\" lengthAdjust=\"spacingAndGlyphs\" textLength=\"88\" x=\"1267.5\" y=\"68.457\">frontRightWheel</text><line style=\"stroke: #383838; stroke-width: 1.0;\" x1=\"1246\" x2=\"1377\" y1=\"76.0938\" y2=\"76.0938\"/></a><!--MD5=[03104f77b71e2d8d3500c651e6e31181]\n",
       "cluster E13--><a href=\"psysml:0e7331ee-0605-484c-a898-1f114cc23422\" target=\"_top\" title=\"psysml:0e7331ee-0605-484c-a898-1f114cc23422\" xlink:actuate=\"onRequest\" xlink:href=\"psysml:0e7331ee-0605-484c-a898-1f114cc23422\" xlink:show=\"new\" xlink:title=\"psysml:0e7331ee-0605-484c-a898-1f114cc23422\" xlink:type=\"simple\"><rect fill=\"#FFFFFF\" height=\"100\" id=\"E13\" rx=\"10\" ry=\"10\" style=\"stroke: #383838; stroke-width: 1.5;\" width=\"128\" x=\"942\" y=\"51\"/><rect fill=\"#F8F8F8\" height=\"25.0938\" rx=\"10\" ry=\"10\" style=\"stroke: #F8F8F8; stroke-width: 1.5;\" width=\"128\" x=\"942\" y=\"51\"/><rect fill=\"#F8F8F8\" height=\"10\" style=\"stroke: #F8F8F8; stroke-width: 1.5;\" width=\"128\" x=\"942\" y=\"66.0938\"/><rect fill=\"none\" height=\"100\" id=\"E13\" rx=\"10\" ry=\"10\" style=\"stroke: #383838; stroke-width: 1.5;\" width=\"128\" x=\"942\" y=\"51\"/><text fill=\"#000000\" font-family=\"sans-serif\" font-size=\"12\" lengthAdjust=\"spacingAndGlyphs\" textLength=\"77\" x=\"967.5\" y=\"68.457\">rearLeftWheel</text><line style=\"stroke: #383838; stroke-width: 1.0;\" x1=\"942\" x2=\"1070\" y1=\"76.0938\" y2=\"76.0938\"/></a><!--MD5=[ab3548ab6224ff035c4047a4d30b7567]\n",
       "cluster E15--><a href=\"psysml:04914127-1227-442e-8052-37a0ab6e1610\" target=\"_top\" title=\"psysml:04914127-1227-442e-8052-37a0ab6e1610\" xlink:actuate=\"onRequest\" xlink:href=\"psysml:04914127-1227-442e-8052-37a0ab6e1610\" xlink:show=\"new\" xlink:title=\"psysml:04914127-1227-442e-8052-37a0ab6e1610\" xlink:type=\"simple\"><rect fill=\"#FFFFFF\" height=\"100\" id=\"E15\" rx=\"10\" ry=\"10\" style=\"stroke: #383838; stroke-width: 1.5;\" width=\"128\" x=\"790\" y=\"51\"/><rect fill=\"#F8F8F8\" height=\"25.0938\" rx=\"10\" ry=\"10\" style=\"stroke: #F8F8F8; stroke-width: 1.5;\" width=\"128\" x=\"790\" y=\"51\"/><rect fill=\"#F8F8F8\" height=\"10\" style=\"stroke: #F8F8F8; stroke-width: 1.5;\" width=\"128\" x=\"790\" y=\"66.0938\"/><rect fill=\"none\" height=\"100\" id=\"E15\" rx=\"10\" ry=\"10\" style=\"stroke: #383838; stroke-width: 1.5;\" width=\"128\" x=\"790\" y=\"51\"/><text fill=\"#000000\" font-family=\"sans-serif\" font-size=\"12\" lengthAdjust=\"spacingAndGlyphs\" textLength=\"86\" x=\"811\" y=\"68.457\">rearRightWheel</text><line style=\"stroke: #383838; stroke-width: 1.0;\" x1=\"790\" x2=\"918\" y1=\"76.0938\" y2=\"76.0938\"/></a><g id=\"E1.E2\"><a href=\"psysml:75741529-6113-4ff7-82d6-24e4b198fd86\" target=\"_top\" title=\"psysml:75741529-6113-4ff7-82d6-24e4b198fd86\" xlink:actuate=\"onRequest\" xlink:href=\"psysml:75741529-6113-4ff7-82d6-24e4b198fd86\" xlink:show=\"new\" xlink:title=\"psysml:75741529-6113-4ff7-82d6-24e4b198fd86\" xlink:type=\"simple\"><rect fill=\"#FFFFFF\" height=\"40\" id=\"E2\" rx=\"10\" ry=\"10\" style=\"stroke: #383838; stroke-width: 1.5;\" width=\"50\" x=\"721\" y=\"91\"/><rect fill=\"#F8F8F8\" height=\"25.0938\" rx=\"10\" ry=\"10\" style=\"stroke: #F8F8F8; stroke-width: 1.5;\" width=\"50\" x=\"721\" y=\"91\"/><rect fill=\"#F8F8F8\" height=\"10\" style=\"stroke: #F8F8F8; stroke-width: 1.5;\" width=\"50\" x=\"721\" y=\"106.0938\"/><rect fill=\"none\" height=\"40\" id=\"E2\" rx=\"10\" ry=\"10\" style=\"stroke: #383838; stroke-width: 1.5;\" width=\"50\" x=\"721\" y=\"91\"/><text fill=\"#000000\" font-family=\"sans-serif\" font-size=\"12\" lengthAdjust=\"spacingAndGlyphs\" textLength=\"26\" x=\"733\" y=\"108.457\">body</text></a></g><g id=\"E1.E3\"><a href=\"psysml:3d93517b-2c89-4d52-9ae6-a8db0bf51158\" target=\"_top\" title=\"psysml:3d93517b-2c89-4d52-9ae6-a8db0bf51158\" xlink:actuate=\"onRequest\" xlink:href=\"psysml:3d93517b-2c89-4d52-9ae6-a8db0bf51158\" xlink:show=\"new\" xlink:title=\"psysml:3d93517b-2c89-4d52-9ae6-a8db0bf51158\" xlink:type=\"simple\"><rect fill=\"#FFFFFF\" height=\"40\" id=\"E3\" rx=\"10\" ry=\"10\" style=\"stroke: #383838; stroke-width: 1.5;\" width=\"50\" x=\"636\" y=\"91\"/><rect fill=\"#F8F8F8\" height=\"25.0938\" rx=\"10\" ry=\"10\" style=\"stroke: #F8F8F8; stroke-width: 1.5;\" width=\"50\" x=\"636\" y=\"91\"/><rect fill=\"#F8F8F8\" height=\"10\" style=\"stroke: #F8F8F8; stroke-width: 1.5;\" width=\"50\" x=\"636\" y=\"106.0938\"/><rect fill=\"none\" height=\"40\" id=\"E3\" rx=\"10\" ry=\"10\" style=\"stroke: #383838; stroke-width: 1.5;\" width=\"50\" x=\"636\" y=\"91\"/><text fill=\"#000000\" font-family=\"sans-serif\" font-size=\"12\" lengthAdjust=\"spacingAndGlyphs\" textLength=\"36\" x=\"643\" y=\"108.457\">battery</text></a></g><g id=\"E1.E4\"><a href=\"psysml:f49d2219-1dbe-4c1d-b0b7-528976b98040\" target=\"_top\" title=\"psysml:f49d2219-1dbe-4c1d-b0b7-528976b98040\" xlink:actuate=\"onRequest\" xlink:href=\"psysml:f49d2219-1dbe-4c1d-b0b7-528976b98040\" xlink:show=\"new\" xlink:title=\"psysml:f49d2219-1dbe-4c1d-b0b7-528976b98040\" xlink:type=\"simple\"><rect fill=\"#FFFFFF\" height=\"40\" id=\"E4\" rx=\"10\" ry=\"10\" style=\"stroke: #383838; stroke-width: 1.5;\" width=\"50\" x=\"551\" y=\"91\"/><rect fill=\"#F8F8F8\" height=\"25.0938\" rx=\"10\" ry=\"10\" style=\"stroke: #F8F8F8; stroke-width: 1.5;\" width=\"50\" x=\"551\" y=\"91\"/><rect fill=\"#F8F8F8\" height=\"10\" style=\"stroke: #F8F8F8; stroke-width: 1.5;\" width=\"50\" x=\"551\" y=\"106.0938\"/><rect fill=\"none\" height=\"40\" id=\"E4\" rx=\"10\" ry=\"10\" style=\"stroke: #383838; stroke-width: 1.5;\" width=\"50\" x=\"551\" y=\"91\"/><text fill=\"#000000\" font-family=\"sans-serif\" font-size=\"12\" lengthAdjust=\"spacingAndGlyphs\" textLength=\"38\" x=\"557\" y=\"108.457\">engine</text></a></g><g id=\"E1.E5\"><a href=\"psysml:bb3d4ae9-311e-483d-91a3-7843f1b6a3c5\" target=\"_top\" title=\"psysml:bb3d4ae9-311e-483d-91a3-7843f1b6a3c5\" xlink:actuate=\"onRequest\" xlink:href=\"psysml:bb3d4ae9-311e-483d-91a3-7843f1b6a3c5\" xlink:show=\"new\" xlink:title=\"psysml:bb3d4ae9-311e-483d-91a3-7843f1b6a3c5\" xlink:type=\"simple\"><rect fill=\"#FFFFFF\" height=\"40\" id=\"E5\" rx=\"10\" ry=\"10\" style=\"stroke: #383838; stroke-width: 1.5;\" width=\"57\" x=\"458.5\" y=\"91\"/><rect fill=\"#F8F8F8\" height=\"25.0938\" rx=\"10\" ry=\"10\" style=\"stroke: #F8F8F8; stroke-width: 1.5;\" width=\"57\" x=\"458.5\" y=\"91\"/><rect fill=\"#F8F8F8\" height=\"10\" style=\"stroke: #F8F8F8; stroke-width: 1.5;\" width=\"57\" x=\"458.5\" y=\"106.0938\"/><rect fill=\"none\" height=\"40\" id=\"E5\" rx=\"10\" ry=\"10\" style=\"stroke: #383838; stroke-width: 1.5;\" width=\"57\" x=\"458.5\" y=\"91\"/><text fill=\"#000000\" font-family=\"sans-serif\" font-size=\"12\" lengthAdjust=\"spacingAndGlyphs\" textLength=\"46\" x=\"464\" y=\"108.457\">frontAxis</text></a></g><g id=\"E1.E6\"><a href=\"psysml:7f42fcfa-4eb6-4a36-b119-d0e9efeb685d\" target=\"_top\" title=\"psysml:7f42fcfa-4eb6-4a36-b119-d0e9efeb685d\" xlink:actuate=\"onRequest\" xlink:href=\"psysml:7f42fcfa-4eb6-4a36-b119-d0e9efeb685d\" xlink:show=\"new\" xlink:title=\"psysml:7f42fcfa-4eb6-4a36-b119-d0e9efeb685d\" xlink:type=\"simple\"><rect fill=\"#FFFFFF\" height=\"40\" id=\"E6\" rx=\"10\" ry=\"10\" style=\"stroke: #383838; stroke-width: 1.5;\" width=\"55\" x=\"368.5\" y=\"91\"/><rect fill=\"#F8F8F8\" height=\"25.0938\" rx=\"10\" ry=\"10\" style=\"stroke: #F8F8F8; stroke-width: 1.5;\" width=\"55\" x=\"368.5\" y=\"91\"/><rect fill=\"#F8F8F8\" height=\"10\" style=\"stroke: #F8F8F8; stroke-width: 1.5;\" width=\"55\" x=\"368.5\" y=\"106.0938\"/><rect fill=\"none\" height=\"40\" id=\"E6\" rx=\"10\" ry=\"10\" style=\"stroke: #383838; stroke-width: 1.5;\" width=\"55\" x=\"368.5\" y=\"91\"/><text fill=\"#000000\" font-family=\"sans-serif\" font-size=\"12\" lengthAdjust=\"spacingAndGlyphs\" textLength=\"44\" x=\"374\" y=\"108.457\">rearAxis</text></a></g><g id=\"E1.E7\"><a href=\"psysml:0aa9471a-4bac-420b-a8df-6c9174a4e8b5\" target=\"_top\" title=\"psysml:0aa9471a-4bac-420b-a8df-6c9174a4e8b5\" xlink:actuate=\"onRequest\" xlink:href=\"psysml:0aa9471a-4bac-420b-a8df-6c9174a4e8b5\" xlink:show=\"new\" xlink:title=\"psysml:0aa9471a-4bac-420b-a8df-6c9174a4e8b5\" xlink:type=\"simple\"><rect fill=\"#FFFFFF\" height=\"40\" id=\"E7\" rx=\"10\" ry=\"10\" style=\"stroke: #383838; stroke-width: 1.5;\" width=\"139\" x=\"194.5\" y=\"91\"/><rect fill=\"#F8F8F8\" height=\"25.0938\" rx=\"10\" ry=\"10\" style=\"stroke: #F8F8F8; stroke-width: 1.5;\" width=\"139\" x=\"194.5\" y=\"91\"/><rect fill=\"#F8F8F8\" height=\"10\" style=\"stroke: #F8F8F8; stroke-width: 1.5;\" width=\"139\" x=\"194.5\" y=\"106.0938\"/><rect fill=\"none\" height=\"40\" id=\"E7\" rx=\"10\" ry=\"10\" style=\"stroke: #383838; stroke-width: 1.5;\" width=\"139\" x=\"194.5\" y=\"91\"/><text fill=\"#000000\" font-family=\"sans-serif\" font-size=\"12\" lengthAdjust=\"spacingAndGlyphs\" textLength=\"128\" x=\"200\" y=\"108.457\">frontWheel: FrontWheel</text></a></g><!--MD5=[fd4143e9d270a159db93a4ea2a975926]\n",
       "class E9--><a href=\"psysml:1ccc2790-0587-490b-bfe0-d063fdc5b6e8\" target=\"_top\" title=\"psysml:1ccc2790-0587-490b-bfe0-d063fdc5b6e8\" xlink:actuate=\"onRequest\" xlink:href=\"psysml:1ccc2790-0587-490b-bfe0-d063fdc5b6e8\" xlink:show=\"new\" xlink:title=\"psysml:1ccc2790-0587-490b-bfe0-d063fdc5b6e8\" xlink:type=\"simple\"><rect fill=\"#FFFFFF\" height=\"48.1875\" id=\"E9\" rx=\"10\" ry=\"10\" style=\"stroke: #383838; stroke-width: 1.5;\" width=\"95\" x=\"1110.5\" y=\"87\"/><text fill=\"#000000\" font-family=\"sans-serif\" font-size=\"12\" font-style=\"italic\" lengthAdjust=\"spacingAndGlyphs\" textLength=\"59\" x=\"1128.5\" y=\"104.457\">«attribute»</text><text fill=\"#000000\" font-family=\"sans-serif\" font-size=\"12\" lengthAdjust=\"spacingAndGlyphs\" textLength=\"89\" x=\"1113.5\" y=\"119.5508\">currentPressure</text><line style=\"stroke: #383838; stroke-width: 1.5;\" x1=\"1111.5\" x2=\"1204.5\" y1=\"127.1875\" y2=\"127.1875\"/></a><!--MD5=[1dd1bfd58a279cf63c5f349dbc8fc6a1]\n",
       "class E11--><a href=\"psysml:7cca604c-af4f-4cee-ac35-6611e175f458\" target=\"_top\" title=\"psysml:7cca604c-af4f-4cee-ac35-6611e175f458\" xlink:actuate=\"onRequest\" xlink:href=\"psysml:7cca604c-af4f-4cee-ac35-6611e175f458\" xlink:show=\"new\" xlink:title=\"psysml:7cca604c-af4f-4cee-ac35-6611e175f458\" xlink:type=\"simple\"><rect fill=\"#FFFFFF\" height=\"48.1875\" id=\"E11\" rx=\"10\" ry=\"10\" style=\"stroke: #383838; stroke-width: 1.5;\" width=\"95\" x=\"1263.5\" y=\"87\"/><text fill=\"#000000\" font-family=\"sans-serif\" font-size=\"12\" font-style=\"italic\" lengthAdjust=\"spacingAndGlyphs\" textLength=\"59\" x=\"1281.5\" y=\"104.457\">«attribute»</text><text fill=\"#000000\" font-family=\"sans-serif\" font-size=\"12\" lengthAdjust=\"spacingAndGlyphs\" textLength=\"89\" x=\"1266.5\" y=\"119.5508\">currentPressure</text><line style=\"stroke: #383838; stroke-width: 1.5;\" x1=\"1264.5\" x2=\"1357.5\" y1=\"127.1875\" y2=\"127.1875\"/></a><g id=\"E1.E12\"><a href=\"psysml:24af48a6-9abc-4f0d-8666-5e30f41a47f1\" target=\"_top\" title=\"psysml:24af48a6-9abc-4f0d-8666-5e30f41a47f1\" xlink:actuate=\"onRequest\" xlink:href=\"psysml:24af48a6-9abc-4f0d-8666-5e30f41a47f1\" xlink:show=\"new\" xlink:title=\"psysml:24af48a6-9abc-4f0d-8666-5e30f41a47f1\" xlink:type=\"simple\"><rect fill=\"#FFFFFF\" height=\"40\" id=\"E12\" rx=\"10\" ry=\"10\" style=\"stroke: #383838; stroke-width: 1.5;\" width=\"136\" x=\"23\" y=\"91\"/><rect fill=\"#F8F8F8\" height=\"25.0938\" rx=\"10\" ry=\"10\" style=\"stroke: #F8F8F8; stroke-width: 1.5;\" width=\"136\" x=\"23\" y=\"91\"/><rect fill=\"#F8F8F8\" height=\"10\" style=\"stroke: #F8F8F8; stroke-width: 1.5;\" width=\"136\" x=\"23\" y=\"106.0938\"/><rect fill=\"none\" height=\"40\" id=\"E12\" rx=\"10\" ry=\"10\" style=\"stroke: #383838; stroke-width: 1.5;\" width=\"136\" x=\"23\" y=\"91\"/><text fill=\"#000000\" font-family=\"sans-serif\" font-size=\"12\" lengthAdjust=\"spacingAndGlyphs\" textLength=\"125\" x=\"28.5\" y=\"108.457\">rearWheel: RearWheel</text></a></g><!--MD5=[bee11217b2f71d958a27249dc326068c]\n",
       "class E14--><a href=\"psysml:56849d5a-0fa7-45b6-97db-547faca6ce98\" target=\"_top\" title=\"psysml:56849d5a-0fa7-45b6-97db-547faca6ce98\" xlink:actuate=\"onRequest\" xlink:href=\"psysml:56849d5a-0fa7-45b6-97db-547faca6ce98\" xlink:show=\"new\" xlink:title=\"psysml:56849d5a-0fa7-45b6-97db-547faca6ce98\" xlink:type=\"simple\"><rect fill=\"#FFFFFF\" height=\"48.1875\" id=\"E14\" rx=\"10\" ry=\"10\" style=\"stroke: #383838; stroke-width: 1.5;\" width=\"95\" x=\"958.5\" y=\"87\"/><text fill=\"#000000\" font-family=\"sans-serif\" font-size=\"12\" font-style=\"italic\" lengthAdjust=\"spacingAndGlyphs\" textLength=\"59\" x=\"976.5\" y=\"104.457\">«attribute»</text><text fill=\"#000000\" font-family=\"sans-serif\" font-size=\"12\" lengthAdjust=\"spacingAndGlyphs\" textLength=\"89\" x=\"961.5\" y=\"119.5508\">currentPressure</text><line style=\"stroke: #383838; stroke-width: 1.5;\" x1=\"959.5\" x2=\"1052.5\" y1=\"127.1875\" y2=\"127.1875\"/></a><!--MD5=[35f0587eaee8d5bb9a02e25b63afc23b]\n",
       "class E16--><a href=\"psysml:62caf10a-6e33-44f4-86ca-c7225744b180\" target=\"_top\" title=\"psysml:62caf10a-6e33-44f4-86ca-c7225744b180\" xlink:actuate=\"onRequest\" xlink:href=\"psysml:62caf10a-6e33-44f4-86ca-c7225744b180\" xlink:show=\"new\" xlink:title=\"psysml:62caf10a-6e33-44f4-86ca-c7225744b180\" xlink:type=\"simple\"><rect fill=\"#FFFFFF\" height=\"48.1875\" id=\"E16\" rx=\"10\" ry=\"10\" style=\"stroke: #383838; stroke-width: 1.5;\" width=\"95\" x=\"806.5\" y=\"87\"/><text fill=\"#000000\" font-family=\"sans-serif\" font-size=\"12\" font-style=\"italic\" lengthAdjust=\"spacingAndGlyphs\" textLength=\"59\" x=\"824.5\" y=\"104.457\">«attribute»</text><text fill=\"#000000\" font-family=\"sans-serif\" font-size=\"12\" lengthAdjust=\"spacingAndGlyphs\" textLength=\"89\" x=\"809.5\" y=\"119.5508\">currentPressure</text><line style=\"stroke: #383838; stroke-width: 1.5;\" x1=\"807.5\" x2=\"900.5\" y1=\"127.1875\" y2=\"127.1875\"/></a><!--MD5=[ee1e00efed7f89f3f5699f3725c2164e]\n",
       "@startuml\r\n",
       "skinparam ranksep 10\r\n",
       "skinparam rectangle {\r\n",
       " backgroundColor<<block>> LightGreen\r\n",
       "}\r\n",
       "skinparam monochrome true\r\n",
       "skinparam classbackgroundcolor white\r\n",
       "skinparam shadowing false\r\n",
       "skinparam wrapWidth 300\r\n",
       "hide circle\r\n",
       "\r\n",
       "rec usage \"eVehicle\" as E1  [[psysml:8b9c7dc3-24d2-4b9d-9930-10eb546b3782 ]] {\r\n",
       "rec usage \"body\" as E2  [[psysml:75741529-6113-4ff7-82d6-24e4b198fd86 ]] {\r\n",
       "}\r\n",
       "rec usage \"battery\" as E3  [[psysml:3d93517b-2c89-4d52-9ae6-a8db0bf51158 ]] {\r\n",
       "}\r\n",
       "rec usage \"engine\" as E4  [[psysml:f49d2219-1dbe-4c1d-b0b7-528976b98040 ]] {\r\n",
       "}\r\n",
       "rec usage \"frontAxis\" as E5  [[psysml:bb3d4ae9-311e-483d-91a3-7843f1b6a3c5 ]] {\r\n",
       "}\r\n",
       "rec usage \"rearAxis\" as E6  [[psysml:7f42fcfa-4eb6-4a36-b119-d0e9efeb685d ]] {\r\n",
       "}\r\n",
       "rec usage \"frontWheel: FrontWheel\" as E7  [[psysml:0aa9471a-4bac-420b-a8df-6c9174a4e8b5 ]] {\r\n",
       "}\r\n",
       "rec usage \"frontLeftWheel\" as E8  [[psysml:7a571cb2-fcbc-45ec-a122-7b211af28f7e ]] {\r\n",
       "comp usage \"currentPressure\" as E9  <<(T,blue)attribute>> [[psysml:1ccc2790-0587-490b-bfe0-d063fdc5b6e8 ]] {\r\n",
       "}\r\n",
       "}\r\n",
       "rec usage \"frontRightWheel\" as E10  [[psysml:11507b3a-133b-4740-bc3e-e329fcedbe0c ]] {\r\n",
       "comp usage \"currentPressure\" as E11  <<(T,blue)attribute>> [[psysml:7cca604c-af4f-4cee-ac35-6611e175f458 ]] {\r\n",
       "}\r\n",
       "}\r\n",
       "rec usage \"rearWheel: RearWheel\" as E12  [[psysml:24af48a6-9abc-4f0d-8666-5e30f41a47f1 ]] {\r\n",
       "}\r\n",
       "rec usage \"rearLeftWheel\" as E13  [[psysml:0e7331ee-0605-484c-a898-1f114cc23422 ]] {\r\n",
       "comp usage \"currentPressure\" as E14  <<(T,blue)attribute>> [[psysml:56849d5a-0fa7-45b6-97db-547faca6ce98 ]] {\r\n",
       "}\r\n",
       "}\r\n",
       "rec usage \"rearRightWheel\" as E15  [[psysml:04914127-1227-442e-8052-37a0ab6e1610 ]] {\r\n",
       "comp usage \"currentPressure\" as E16  <<(T,blue)attribute>> [[psysml:62caf10a-6e33-44f4-86ca-c7225744b180 ]] {\r\n",
       "}\r\n",
       "}\r\n",
       "}\r\n",
       "@enduml\r\n",
       "\n",
       "PlantUML version 1.2020.13(Sat Jun 13 14:26:38 CEST 2020)\n",
       "(EPL source distribution)\n",
       "Java Runtime: OpenJDK Runtime Environment\n",
       "JVM: OpenJDK 64-Bit Server VM\n",
       "Default Encoding: Cp1252\n",
       "Language: en\n",
       "Country: US\n",
       "--></g></svg>"
      ]
     },
     "execution_count": 19,
     "metadata": {},
     "output_type": "execute_result"
    }
   ],
   "source": [
    "%viz --view=interconnection eVehicle_LogicalArchitecture::eVehicle"
   ]
  },
  {
   "cell_type": "markdown",
   "metadata": {},
   "source": [
    "## Modeling variants<a name=\"sysmlv2modvariants\"></a>\n",
    "\n",
    "SysML v2 provides model elements for variants. This is a new feature compared to SysML v2. Following the typical approach of SysML, these are only generic concepts, but they form the foundation for tools to provide functions for them and for language extensions to be defined.\n",
    "\n",
    "The electrical vehicle model is extended with different types of batteries and engines. First, we extend the *eVehicleDefinitions* and *eVehicleLibrary*, and define a part definition for the battery. The complete library can be found in section [Libraries for the eVehicle example](#sysmlv2modlibrary)."
   ]
  },
  {
   "cell_type": "code",
   "execution_count": 58,
   "metadata": {},
   "outputs": [
    {
     "data": {
      "text/plain": [
       "Package eVehicleLibrary (1e59ac49-dbc8-472e-b81b-5a063e1a205b)\n",
       "Package eVehicleDefinitions (e12ca956-9066-46cd-9b85-778c2304e9dd)\n"
      ]
     },
     "execution_count": 58,
     "metadata": {},
     "output_type": "execute_result"
    }
   ],
   "source": [
    "package eVehicleLibrary {\n",
    "    \n",
    "    import ScalarValues::Integer;\n",
    "    \n",
    "    attribute def ElectricEnergy;\n",
    "    attribute def BatteryCapacity :> ScalarValues::Integer;\n",
    "    attribute def Speed :> ScalarValues::Integer;\n",
    "    \n",
    "    port def PowerOutPort {\n",
    "        out energy : ElectricEnergy;\n",
    "    }\n",
    "    \n",
    "    interface def PowerInterface {\n",
    "        end supplierPort : PowerOutPort;\n",
    "        end consumerPort : ~PowerOutPort;\n",
    "    }\n",
    "}\n",
    "\n",
    "package eVehicleDefinitions {\n",
    "\n",
    "    import eVehicleLibrary::*;   \n",
    "    \n",
    "    part def Wheel {\n",
    "        value size : Integer;\n",
    "    }\n",
    "    \n",
    "    part def Battery {\n",
    "        value capacity : BatteryCapacity;\n",
    "    }\n",
    "    \n",
    "    part def Engine;\n",
    "}"
   ]
  },
  {
   "cell_type": "markdown",
   "metadata": {},
   "source": [
    "The new part definition of the *Battery* is now used in the eVehicle architecture."
   ]
  },
  {
   "cell_type": "code",
   "execution_count": 59,
   "metadata": {},
   "outputs": [
    {
     "data": {
      "text/plain": [
       "Package eVehicle_LogicalArchitecture (851072ad-e79f-4647-ad14-d7fb81f38c83)\n"
      ]
     },
     "execution_count": 59,
     "metadata": {},
     "output_type": "execute_result"
    }
   ],
   "source": [
    "package eVehicle_LogicalArchitecture {\n",
    "    \n",
    "    import eVehicleDefinitions::*;\n",
    "    import eVehicleLibrary::*;\n",
    "    \n",
    "    part eVehicle {    \n",
    "        value maxSpeed : Speed = 142;\n",
    "        part body;\n",
    "        part battery : Battery {\n",
    "            value redefines capacity = 42;\n",
    "            port powerOut : PowerOutPort;\n",
    "        }\n",
    "        part engine : Engine {\n",
    "            port powerIn : ~PowerOutPort;\n",
    "        }\n",
    "        part frontAxis;\n",
    "        part rearAxis;\n",
    "        part frontWheel : Wheel[2];\n",
    "        part rearWheel : Wheel[2];\n",
    "        \n",
    "        interface : PowerInterface connect \n",
    "            supplierPort => battery::powerOut to \n",
    "            consumerPort => engine::powerIn;\n",
    "        connect engine to frontAxis;\n",
    "        connect frontAxis to frontWheel;\n",
    "        connect rearAxis to rearWheel;\n",
    "        connect body to battery;\n",
    "        connect body to engine;\n",
    "        connect body to frontAxis;\n",
    "        connect body to rearAxis;\n",
    "    }\n",
    "}"
   ]
  },
  {
   "cell_type": "code",
   "execution_count": 60,
   "metadata": {},
   "outputs": [
    {
     "data": {
      "image/svg+xml": [
       "<?xml version=\"1.0\" encoding=\"UTF-8\" standalone=\"no\"?><svg xmlns=\"http://www.w3.org/2000/svg\" xmlns:xlink=\"http://www.w3.org/1999/xlink\" contentScriptType=\"application/ecmascript\" contentStyleType=\"text/css\" height=\"456px\" preserveAspectRatio=\"none\" style=\"width:655px;height:456px;\" version=\"1.1\" viewBox=\"0 0 655 456\" width=\"655px\" zoomAndPan=\"magnify\"><defs/><g><!--MD5=[fbc87193dbaf4d95561dea2c320d4a47]\n",
       "cluster E1--><a href=\"psysml:5023ffb2-2ff7-4e6a-8fec-13654d5df6a2\" target=\"_top\" title=\"psysml:5023ffb2-2ff7-4e6a-8fec-13654d5df6a2\" xlink:actuate=\"onRequest\" xlink:href=\"psysml:5023ffb2-2ff7-4e6a-8fec-13654d5df6a2\" xlink:show=\"new\" xlink:title=\"psysml:5023ffb2-2ff7-4e6a-8fec-13654d5df6a2\" xlink:type=\"simple\"><polygon fill=\"#FFFFFF\" points=\"16,6,228,6,235,29.6094,633,29.6094,633,444,16,444,16,6\" style=\"stroke: #000000; stroke-width: 1.5;\"/><line style=\"stroke: #000000; stroke-width: 1.5;\" x1=\"16\" x2=\"235\" y1=\"29.6094\" y2=\"29.6094\"/><text fill=\"#000000\" font-family=\"sans-serif\" font-size=\"14\" font-weight=\"bold\" lengthAdjust=\"spacingAndGlyphs\" textLength=\"206\" x=\"20\" y=\"22.5332\">eVehicle_LogicalArchitecture</text></a><!--MD5=[e4f7fae6ed58524ba242bb0b0d3be6b7]\n",
       "cluster E2--><a href=\"psysml:08b83bf2-4a0f-4ad5-adfa-40462f4f94aa\" target=\"_top\" title=\"psysml:08b83bf2-4a0f-4ad5-adfa-40462f4f94aa\" xlink:actuate=\"onRequest\" xlink:href=\"psysml:08b83bf2-4a0f-4ad5-adfa-40462f4f94aa\" xlink:show=\"new\" xlink:title=\"psysml:08b83bf2-4a0f-4ad5-adfa-40462f4f94aa\" xlink:type=\"simple\"><rect fill=\"#FFFFFF\" height=\"370\" id=\"E2\" rx=\"10\" ry=\"10\" style=\"stroke: #383838; stroke-width: 1.5;\" width=\"569\" x=\"40\" y=\"50\"/><rect fill=\"#F8F8F8\" height=\"25.0938\" rx=\"10\" ry=\"10\" style=\"stroke: #F8F8F8; stroke-width: 1.5;\" width=\"569\" x=\"40\" y=\"50\"/><rect fill=\"#F8F8F8\" height=\"10\" style=\"stroke: #F8F8F8; stroke-width: 1.5;\" width=\"569\" x=\"40\" y=\"65.0938\"/><rect fill=\"none\" height=\"370\" id=\"E2\" rx=\"10\" ry=\"10\" style=\"stroke: #383838; stroke-width: 1.5;\" width=\"569\" x=\"40\" y=\"50\"/><text fill=\"#000000\" font-family=\"sans-serif\" font-size=\"12\" lengthAdjust=\"spacingAndGlyphs\" textLength=\"47\" x=\"301\" y=\"67.457\">eVehicle</text><line style=\"stroke: #383838; stroke-width: 1.0;\" x1=\"40\" x2=\"609\" y1=\"75.0938\" y2=\"75.0938\"/></a><!--MD5=[de5ec2e2e8f62f467e546659f5068c88]\n",
       "cluster E5--><a href=\"psysml:8cbeadd8-fec1-4653-a829-6739a378a8c9\" target=\"_top\" title=\"psysml:8cbeadd8-fec1-4653-a829-6739a378a8c9\" xlink:actuate=\"onRequest\" xlink:href=\"psysml:8cbeadd8-fec1-4653-a829-6739a378a8c9\" xlink:show=\"new\" xlink:title=\"psysml:8cbeadd8-fec1-4653-a829-6739a378a8c9\" xlink:type=\"simple\"><rect fill=\"#FFFFFF\" height=\"178\" id=\"E5\" rx=\"10\" ry=\"10\" style=\"stroke: #383838; stroke-width: 1.5;\" width=\"140\" x=\"445\" y=\"218\"/><rect fill=\"#F8F8F8\" height=\"25.0938\" rx=\"10\" ry=\"10\" style=\"stroke: #F8F8F8; stroke-width: 1.5;\" width=\"140\" x=\"445\" y=\"218\"/><rect fill=\"#F8F8F8\" height=\"10\" style=\"stroke: #F8F8F8; stroke-width: 1.5;\" width=\"140\" x=\"445\" y=\"233.0938\"/><rect fill=\"none\" height=\"178\" id=\"E5\" rx=\"10\" ry=\"10\" style=\"stroke: #383838; stroke-width: 1.5;\" width=\"140\" x=\"445\" y=\"218\"/><text fill=\"#000000\" font-family=\"sans-serif\" font-size=\"12\" lengthAdjust=\"spacingAndGlyphs\" textLength=\"79\" x=\"475.5\" y=\"235.457\">battery: Battery</text><line style=\"stroke: #383838; stroke-width: 1.0;\" x1=\"445\" x2=\"585\" y1=\"243.0938\" y2=\"243.0938\"/></a><!--MD5=[55dfccfc6c49c2d10cd1bd2211a6c90c]\n",
       "cluster E8--><a href=\"psysml:9937dcd0-d3d9-4533-b385-b17933ed340e\" target=\"_top\" title=\"psysml:9937dcd0-d3d9-4533-b385-b17933ed340e\" xlink:actuate=\"onRequest\" xlink:href=\"psysml:9937dcd0-d3d9-4533-b385-b17933ed340e\" xlink:show=\"new\" xlink:title=\"psysml:9937dcd0-d3d9-4533-b385-b17933ed340e\" xlink:type=\"simple\"><rect fill=\"#FFFFFF\" height=\"88\" id=\"E8\" rx=\"10\" ry=\"10\" style=\"stroke: #383838; stroke-width: 1.5;\" width=\"138\" x=\"219\" y=\"164\"/><rect fill=\"#F8F8F8\" height=\"25.0938\" rx=\"10\" ry=\"10\" style=\"stroke: #F8F8F8; stroke-width: 1.5;\" width=\"138\" x=\"219\" y=\"164\"/><rect fill=\"#F8F8F8\" height=\"10\" style=\"stroke: #F8F8F8; stroke-width: 1.5;\" width=\"138\" x=\"219\" y=\"179.0938\"/><rect fill=\"none\" height=\"88\" id=\"E8\" rx=\"10\" ry=\"10\" style=\"stroke: #383838; stroke-width: 1.5;\" width=\"138\" x=\"219\" y=\"164\"/><text fill=\"#000000\" font-family=\"sans-serif\" font-size=\"12\" lengthAdjust=\"spacingAndGlyphs\" textLength=\"83\" x=\"246.5\" y=\"181.457\">engine: Engine</text><line style=\"stroke: #383838; stroke-width: 1.0;\" x1=\"219\" x2=\"357\" y1=\"189.0938\" y2=\"189.0938\"/></a><!--MD5=[09b614a08d8cba4a07c9adeb5e0fee81]\n",
       "class E3--><a href=\"psysml:53c839d0-bced-4224-8e6b-ca2cb5446b82\" target=\"_top\" title=\"psysml:53c839d0-bced-4224-8e6b-ca2cb5446b82\" xlink:actuate=\"onRequest\" xlink:href=\"psysml:53c839d0-bced-4224-8e6b-ca2cb5446b82\" xlink:show=\"new\" xlink:title=\"psysml:53c839d0-bced-4224-8e6b-ca2cb5446b82\" xlink:type=\"simple\"><rect fill=\"#FFFFFF\" height=\"48.1875\" id=\"E3\" rx=\"10\" ry=\"10\" style=\"stroke: #383838; stroke-width: 1.5;\" width=\"107\" x=\"374.5\" y=\"86\"/><text fill=\"#000000\" font-family=\"sans-serif\" font-size=\"12\" font-style=\"italic\" lengthAdjust=\"spacingAndGlyphs\" textLength=\"59\" x=\"398.5\" y=\"103.457\">«attribute»</text><text fill=\"#000000\" font-family=\"sans-serif\" font-size=\"12\" lengthAdjust=\"spacingAndGlyphs\" textLength=\"101\" x=\"377.5\" y=\"118.5508\">maxSpeed: Speed</text><line style=\"stroke: #383838; stroke-width: 1.5;\" x1=\"375.5\" x2=\"480.5\" y1=\"126.1875\" y2=\"126.1875\"/></a><g id=\"E1.E2.E4\"><a href=\"psysml:acab99ae-07e6-424a-abec-6e3c73a21f8e\" target=\"_top\" title=\"psysml:acab99ae-07e6-424a-abec-6e3c73a21f8e\" xlink:actuate=\"onRequest\" xlink:href=\"psysml:acab99ae-07e6-424a-abec-6e3c73a21f8e\" xlink:show=\"new\" xlink:title=\"psysml:acab99ae-07e6-424a-abec-6e3c73a21f8e\" xlink:type=\"simple\"><rect fill=\"#FFFFFF\" height=\"40\" id=\"E4\" rx=\"10\" ry=\"10\" style=\"stroke: #383838; stroke-width: 1.5;\" width=\"50\" x=\"211\" y=\"328\"/><rect fill=\"#F8F8F8\" height=\"25.0938\" rx=\"10\" ry=\"10\" style=\"stroke: #F8F8F8; stroke-width: 1.5;\" width=\"50\" x=\"211\" y=\"328\"/><rect fill=\"#F8F8F8\" height=\"10\" style=\"stroke: #F8F8F8; stroke-width: 1.5;\" width=\"50\" x=\"211\" y=\"343.0938\"/><rect fill=\"none\" height=\"40\" id=\"E4\" rx=\"10\" ry=\"10\" style=\"stroke: #383838; stroke-width: 1.5;\" width=\"50\" x=\"211\" y=\"328\"/><text fill=\"#000000\" font-family=\"sans-serif\" font-size=\"12\" lengthAdjust=\"spacingAndGlyphs\" textLength=\"26\" x=\"223\" y=\"345.457\">body</text></a></g><!--MD5=[60a26617385b1d2d0262a64233df1f8d]\n",
       "class E6--><a href=\"psysml:93132713-db31-4e0c-b4cb-8004d5922270\" target=\"_top\" title=\"psysml:93132713-db31-4e0c-b4cb-8004d5922270\" xlink:actuate=\"onRequest\" xlink:href=\"psysml:93132713-db31-4e0c-b4cb-8004d5922270\" xlink:show=\"new\" xlink:title=\"psysml:93132713-db31-4e0c-b4cb-8004d5922270\" xlink:type=\"simple\"><rect fill=\"#FFFFFF\" height=\"48.1875\" id=\"E6\" rx=\"10\" ry=\"10\" style=\"stroke: #383838; stroke-width: 1.5;\" width=\"61\" x=\"468.5\" y=\"324\"/><text fill=\"#000000\" font-family=\"sans-serif\" font-size=\"12\" font-style=\"italic\" lengthAdjust=\"spacingAndGlyphs\" textLength=\"59\" x=\"469.5\" y=\"341.457\">«attribute»</text><text fill=\"#000000\" font-family=\"sans-serif\" font-size=\"12\" lengthAdjust=\"spacingAndGlyphs\" textLength=\"44\" x=\"477\" y=\"356.5508\">capacity</text><line style=\"stroke: #383838; stroke-width: 1.5;\" x1=\"469.5\" x2=\"528.5\" y1=\"364.1875\" y2=\"364.1875\"/></a><text fill=\"#000000\" font-family=\"sans-serif\" font-size=\"14\" lengthAdjust=\"spacingAndGlyphs\" textLength=\"157\" x=\"384.5\" y=\"196.9238\">powerOut: PowerOutPort</text><rect fill=\"#383838\" height=\"12\" style=\"stroke: #F8F8F8; stroke-width: 1.5;\" width=\"12\" x=\"457\" y=\"212\"/><text fill=\"#000000\" font-family=\"sans-serif\" font-size=\"14\" lengthAdjust=\"spacingAndGlyphs\" textLength=\"153\" x=\"262.5\" y=\"142.9238\">powerIn: ~PowerOutPort</text><rect fill=\"#383838\" height=\"12\" style=\"stroke: #F8F8F8; stroke-width: 1.5;\" width=\"12\" x=\"333\" y=\"158\"/><g id=\"E1.E2.E10\"><a href=\"psysml:683e5489-8afa-43b4-9a46-0a95570d227c\" target=\"_top\" title=\"psysml:683e5489-8afa-43b4-9a46-0a95570d227c\" xlink:actuate=\"onRequest\" xlink:href=\"psysml:683e5489-8afa-43b4-9a46-0a95570d227c\" xlink:show=\"new\" xlink:title=\"psysml:683e5489-8afa-43b4-9a46-0a95570d227c\" xlink:type=\"simple\"><rect fill=\"#FFFFFF\" height=\"40\" id=\"E10\" rx=\"10\" ry=\"10\" style=\"stroke: #383838; stroke-width: 1.5;\" width=\"57\" x=\"145.5\" y=\"144\"/><rect fill=\"#F8F8F8\" height=\"25.0938\" rx=\"10\" ry=\"10\" style=\"stroke: #F8F8F8; stroke-width: 1.5;\" width=\"57\" x=\"145.5\" y=\"144\"/><rect fill=\"#F8F8F8\" height=\"10\" style=\"stroke: #F8F8F8; stroke-width: 1.5;\" width=\"57\" x=\"145.5\" y=\"159.0938\"/><rect fill=\"none\" height=\"40\" id=\"E10\" rx=\"10\" ry=\"10\" style=\"stroke: #383838; stroke-width: 1.5;\" width=\"57\" x=\"145.5\" y=\"144\"/><text fill=\"#000000\" font-family=\"sans-serif\" font-size=\"12\" lengthAdjust=\"spacingAndGlyphs\" textLength=\"46\" x=\"151\" y=\"161.457\">frontAxis</text></a></g><g id=\"E1.E2.E11\"><a href=\"psysml:61afc09c-c87e-47d4-b1af-a0fe2769d087\" target=\"_top\" title=\"psysml:61afc09c-c87e-47d4-b1af-a0fe2769d087\" xlink:actuate=\"onRequest\" xlink:href=\"psysml:61afc09c-c87e-47d4-b1af-a0fe2769d087\" xlink:show=\"new\" xlink:title=\"psysml:61afc09c-c87e-47d4-b1af-a0fe2769d087\" xlink:type=\"simple\"><rect fill=\"#FFFFFF\" height=\"40\" id=\"E11\" rx=\"10\" ry=\"10\" style=\"stroke: #383838; stroke-width: 1.5;\" width=\"55\" x=\"97.5\" y=\"274\"/><rect fill=\"#F8F8F8\" height=\"25.0938\" rx=\"10\" ry=\"10\" style=\"stroke: #F8F8F8; stroke-width: 1.5;\" width=\"55\" x=\"97.5\" y=\"274\"/><rect fill=\"#F8F8F8\" height=\"10\" style=\"stroke: #F8F8F8; stroke-width: 1.5;\" width=\"55\" x=\"97.5\" y=\"289.0938\"/><rect fill=\"none\" height=\"40\" id=\"E11\" rx=\"10\" ry=\"10\" style=\"stroke: #383838; stroke-width: 1.5;\" width=\"55\" x=\"97.5\" y=\"274\"/><text fill=\"#000000\" font-family=\"sans-serif\" font-size=\"12\" lengthAdjust=\"spacingAndGlyphs\" textLength=\"44\" x=\"103\" y=\"291.457\">rearAxis</text></a></g><g id=\"E1.E2.E12\"><a href=\"psysml:8d23be7e-1dcf-4d2f-baf3-4d1520ffdfd2\" target=\"_top\" title=\"psysml:8d23be7e-1dcf-4d2f-baf3-4d1520ffdfd2\" xlink:actuate=\"onRequest\" xlink:href=\"psysml:8d23be7e-1dcf-4d2f-baf3-4d1520ffdfd2\" xlink:show=\"new\" xlink:title=\"psysml:8d23be7e-1dcf-4d2f-baf3-4d1520ffdfd2\" xlink:type=\"simple\"><rect fill=\"#FFFFFF\" height=\"40\" id=\"E12\" rx=\"10\" ry=\"10\" style=\"stroke: #383838; stroke-width: 1.5;\" width=\"111\" x=\"118.5\" y=\"90\"/><rect fill=\"#F8F8F8\" height=\"25.0938\" rx=\"10\" ry=\"10\" style=\"stroke: #F8F8F8; stroke-width: 1.5;\" width=\"111\" x=\"118.5\" y=\"90\"/><rect fill=\"#F8F8F8\" height=\"10\" style=\"stroke: #F8F8F8; stroke-width: 1.5;\" width=\"111\" x=\"118.5\" y=\"105.0938\"/><rect fill=\"none\" height=\"40\" id=\"E12\" rx=\"10\" ry=\"10\" style=\"stroke: #383838; stroke-width: 1.5;\" width=\"111\" x=\"118.5\" y=\"90\"/><text fill=\"#000000\" font-family=\"sans-serif\" font-size=\"12\" lengthAdjust=\"spacingAndGlyphs\" textLength=\"100\" x=\"124\" y=\"107.457\">frontWheel: Wheel</text></a></g><g id=\"E1.E2.E13\"><a href=\"psysml:c77b17b1-a64a-4cf0-a98e-cc1df8dc39e6\" target=\"_top\" title=\"psysml:c77b17b1-a64a-4cf0-a98e-cc1df8dc39e6\" xlink:actuate=\"onRequest\" xlink:href=\"psysml:c77b17b1-a64a-4cf0-a98e-cc1df8dc39e6\" xlink:show=\"new\" xlink:title=\"psysml:c77b17b1-a64a-4cf0-a98e-cc1df8dc39e6\" xlink:type=\"simple\"><rect fill=\"#FFFFFF\" height=\"40\" id=\"E13\" rx=\"10\" ry=\"10\" style=\"stroke: #383838; stroke-width: 1.5;\" width=\"109\" x=\"56.5\" y=\"198\"/><rect fill=\"#F8F8F8\" height=\"25.0938\" rx=\"10\" ry=\"10\" style=\"stroke: #F8F8F8; stroke-width: 1.5;\" width=\"109\" x=\"56.5\" y=\"198\"/><rect fill=\"#F8F8F8\" height=\"10\" style=\"stroke: #F8F8F8; stroke-width: 1.5;\" width=\"109\" x=\"56.5\" y=\"213.0938\"/><rect fill=\"none\" height=\"40\" id=\"E13\" rx=\"10\" ry=\"10\" style=\"stroke: #383838; stroke-width: 1.5;\" width=\"109\" x=\"56.5\" y=\"198\"/><text fill=\"#000000\" font-family=\"sans-serif\" font-size=\"12\" lengthAdjust=\"spacingAndGlyphs\" textLength=\"98\" x=\"62\" y=\"215.457\">rearWheel: Wheel</text></a></g><!--MD5=[cf04703ca05eebef50f1cfe8b03e143b]\n",
       "link E9 to E7--><a href=\"psysml:3b5522a7-a336-49ea-b156-879ce0017c6f\" target=\"_top\" title=\"psysml:3b5522a7-a336-49ea-b156-879ce0017c6f\" xlink:actuate=\"onRequest\" xlink:href=\"psysml:3b5522a7-a336-49ea-b156-879ce0017c6f\" xlink:show=\"new\" xlink:title=\"psysml:3b5522a7-a336-49ea-b156-879ce0017c6f\" xlink:type=\"simple\"><path d=\"M345.32,167.65 C366.64,176.591 435.761,205.577 456.84,214.417 \" fill=\"none\" id=\"E9-E7\" style=\"stroke: #383838; stroke-width: 3.0;\"/></a><!--MD5=[211124029f8d90d89da20960a30e5017]\n",
       "link E10 to E8--><a href=\"psysml:88cbeb0a-baeb-4a99-8cfa-46443941f707\" target=\"_top\" title=\"psysml:88cbeb0a-baeb-4a99-8cfa-46443941f707\" xlink:actuate=\"onRequest\" xlink:href=\"psysml:88cbeb0a-baeb-4a99-8cfa-46443941f707\" xlink:show=\"new\" xlink:title=\"psysml:88cbeb0a-baeb-4a99-8cfa-46443941f707\" xlink:type=\"simple\"><path d=\"M202.835,180.486 C205.564,181.745 208.314,182.938 211,184 C214.0093,185.1893 216.4968,186.0273 218.7271,186.6796 C218.7968,186.7 218.8662,186.7202 218.9354,186.7402 \" fill=\"none\" id=\"E10-E8\" style=\"stroke: #383838; stroke-width: 3.0;\"/></a><!--MD5=[65481eef76a7486101c58ded21a552db]\n",
       "link E12 to E10--><a href=\"psysml:d5543156-cb7f-4ae6-8704-0e3bcbb6e064\" target=\"_top\" title=\"psysml:d5543156-cb7f-4ae6-8704-0e3bcbb6e064\" xlink:actuate=\"onRequest\" xlink:href=\"psysml:d5543156-cb7f-4ae6-8704-0e3bcbb6e064\" xlink:show=\"new\" xlink:title=\"psysml:d5543156-cb7f-4ae6-8704-0e3bcbb6e064\" xlink:type=\"simple\"><path d=\"M174,130.068 C174,134.589 174,139.413 174,143.935 \" fill=\"none\" id=\"E12-E10\" style=\"stroke: #383838; stroke-width: 3.0;\"/></a><!--MD5=[2cfe899c895462254056921bfb67315f]\n",
       "link E13 to E11--><a href=\"psysml:a34d32eb-8c27-4ab5-81c9-9eb0754893c8\" target=\"_top\" title=\"psysml:a34d32eb-8c27-4ab5-81c9-9eb0754893c8\" xlink:actuate=\"onRequest\" xlink:href=\"psysml:a34d32eb-8c27-4ab5-81c9-9eb0754893c8\" xlink:show=\"new\" xlink:title=\"psysml:a34d32eb-8c27-4ab5-81c9-9eb0754893c8\" xlink:type=\"simple\"><path d=\"M114.605,238.057 C116.679,249.02 119.278,262.755 121.358,273.751 \" fill=\"none\" id=\"E13-E11\" style=\"stroke: #383838; stroke-width: 3.0;\"/></a><!--MD5=[1c62de2aa5b76f0fb657ff8443a1a700]\n",
       "link E5 to E4--><a href=\"psysml:308ce73d-ced4-4c03-9c9b-429a9e249ed4\" target=\"_top\" title=\"psysml:308ce73d-ced4-4c03-9c9b-429a9e249ed4\" xlink:actuate=\"onRequest\" xlink:href=\"psysml:308ce73d-ced4-4c03-9c9b-429a9e249ed4\" xlink:show=\"new\" xlink:title=\"psysml:308ce73d-ced4-4c03-9c9b-429a9e249ed4\" xlink:type=\"simple\"><path d=\"M444.9368,311.1023 C444.8871,311.115 444.8374,311.1278 444.7877,311.1405 C443.9926,311.3444 443.1981,311.5462 442.4049,311.7455 C439.2323,312.5427 436.0815,313.3008 433,314 C371.789,327.89 298.655,338.635 261.057,343.739 \" fill=\"none\" id=\"E5-E4\" style=\"stroke: #383838; stroke-width: 3.0;\"/></a><!--MD5=[d7bb3fb34add81b710575eb3799fa2ad]\n",
       "link E8 to E4--><a href=\"psysml:b892e8e8-dc58-401d-b01f-c9d6b2022a76\" target=\"_top\" title=\"psysml:b892e8e8-dc58-401d-b01f-c9d6b2022a76\" xlink:actuate=\"onRequest\" xlink:href=\"psysml:b892e8e8-dc58-401d-b01f-c9d6b2022a76\" xlink:show=\"new\" xlink:title=\"psysml:b892e8e8-dc58-401d-b01f-c9d6b2022a76\" xlink:type=\"simple\"><path d=\"M286.4371,252.0598 C286.3674,252.191 286.2976,252.3224 286.2276,252.4541 C286.0878,252.7174 285.9474,252.9816 285.8066,253.2466 C285.5249,253.7768 285.2414,254.3105 284.9562,254.8474 C283.8151,256.9953 282.646,259.196 281.4557,261.4366 C279.075,265.9178 276.6095,270.5587 274.114,275.2561 C264.132,294.0458 253.67,313.739 246.238,327.729 \" fill=\"none\" id=\"E8-E4\" style=\"stroke: #383838; stroke-width: 3.0;\"/></a><!--MD5=[57433df93ad577f9868318758b27f148]\n",
       "link E10 to E4--><a href=\"psysml:f155bb62-4cdc-4ddb-a666-0365b1e452ab\" target=\"_top\" title=\"psysml:f155bb62-4cdc-4ddb-a666-0365b1e452ab\" xlink:actuate=\"onRequest\" xlink:href=\"psysml:f155bb62-4cdc-4ddb-a666-0365b1e452ab\" xlink:show=\"new\" xlink:title=\"psysml:f155bb62-4cdc-4ddb-a666-0365b1e452ab\" xlink:type=\"simple\"><path d=\"M180.518,184.133 C192.426,219.088 217.565,292.883 229.476,327.85 \" fill=\"none\" id=\"E10-E4\" style=\"stroke: #383838; stroke-width: 3.0;\"/></a><!--MD5=[ec94bbf1cc51e764a85f513ca72c9175]\n",
       "link E11 to E4--><a href=\"psysml:dfb43652-82fd-4f70-964f-25cd6f1ccdde\" target=\"_top\" title=\"psysml:dfb43652-82fd-4f70-964f-25cd6f1ccdde\" xlink:actuate=\"onRequest\" xlink:href=\"psysml:dfb43652-82fd-4f70-964f-25cd6f1ccdde\" xlink:show=\"new\" xlink:title=\"psysml:dfb43652-82fd-4f70-964f-25cd6f1ccdde\" xlink:type=\"simple\"><path d=\"M152.724,307.988 C170.575,316.35 193.592,327.133 210.902,335.243 \" fill=\"none\" id=\"E11-E4\" style=\"stroke: #383838; stroke-width: 3.0;\"/></a><!--MD5=[2d092458151a85f18ba381b04988d875]\n",
       "@startuml\r\n",
       "skinparam ranksep 10\r\n",
       "skinparam rectangle {\r\n",
       " backgroundColor<<block>> LightGreen\r\n",
       "}\r\n",
       "skinparam monochrome true\r\n",
       "skinparam classbackgroundcolor white\r\n",
       "skinparam shadowing false\r\n",
       "skinparam wrapWidth 300\r\n",
       "hide circle\r\n",
       "\r\n",
       "package \"eVehicle_LogicalArchitecture\" as E1  [[psysml:5023ffb2-2ff7-4e6a-8fec-13654d5df6a2 ]]  {\r\n",
       "rec usage \"eVehicle\" as E2  [[psysml:08b83bf2-4a0f-4ad5-adfa-40462f4f94aa ]] {\r\n",
       "comp usage \"maxSpeed: Speed\" as E3  <<(T,blue)attribute>> [[psysml:53c839d0-bced-4224-8e6b-ca2cb5446b82 ]] {\r\n",
       "}\r\n",
       "rec usage \"body\" as E4  [[psysml:acab99ae-07e6-424a-abec-6e3c73a21f8e ]] {\r\n",
       "}\r\n",
       "rec usage \"battery: Battery\" as E5  [[psysml:8cbeadd8-fec1-4653-a829-6739a378a8c9 ]] {\r\n",
       "comp usage \"capacity\" as E6  <<(T,blue)attribute>> [[psysml:93132713-db31-4e0c-b4cb-8004d5922270 ]] {\r\n",
       "}\r\n",
       "portin \"powerOut: PowerOutPort\" as E7  <<(T,blue)port>> [[psysml:0d475912-6394-4887-80a9-736d4cbcd2be ]] \r\n",
       "}\r\n",
       "rec usage \"engine: Engine\" as E8  [[psysml:9937dcd0-d3d9-4533-b385-b17933ed340e ]] {\r\n",
       "portin \"powerIn: ~PowerOutPort\" as E9  <<(T,blue)port>> [[psysml:3393f795-1105-4b00-bf5f-d107528d7895 ]] \r\n",
       "}\r\n",
       "rec usage \"frontAxis\" as E10  [[psysml:683e5489-8afa-43b4-9a46-0a95570d227c ]] {\r\n",
       "}\r\n",
       "rec usage \"rearAxis\" as E11  [[psysml:61afc09c-c87e-47d4-b1af-a0fe2769d087 ]] {\r\n",
       "}\r\n",
       "rec usage \"frontWheel: Wheel\" as E12  [[psysml:8d23be7e-1dcf-4d2f-baf3-4d1520ffdfd2 ]] {\r\n",
       "}\r\n",
       "rec usage \"rearWheel: Wheel\" as E13  [[psysml:c77b17b1-a64a-4cf0-a98e-cc1df8dc39e6 ]] {\r\n",
       "}\r\n",
       "}\r\n",
       "E9 -[thickness=3]- E7 [[psysml:3b5522a7-a336-49ea-b156-879ce0017c6f ]] \r\n",
       "E10 -[thickness=3]- E8 [[psysml:88cbeb0a-baeb-4a99-8cfa-46443941f707 ]] \r\n",
       "E12 -[thickness=3]- E10 [[psysml:d5543156-cb7f-4ae6-8704-0e3bcbb6e064 ]] \r\n",
       "E13 -[thickness=3]- E11 [[psysml:a34d32eb-8c27-4ab5-81c9-9eb0754893c8 ]] \r\n",
       "E5 -[thickness=3]- E4 [[psysml:308ce73d-ced4-4c03-9c9b-429a9e249ed4 ]] \r\n",
       "E8 -[thickness=3]- E4 [[psysml:b892e8e8-dc58-401d-b01f-c9d6b2022a76 ]] \r\n",
       "E10 -[thickness=3]- E4 [[psysml:f155bb62-4cdc-4ddb-a666-0365b1e452ab ]] \r\n",
       "E11 -[thickness=3]- E4 [[psysml:dfb43652-82fd-4f70-964f-25cd6f1ccdde ]] \r\n",
       "}\r\n",
       "@enduml\r\n",
       "\n",
       "PlantUML version 1.2020.13(Sat Jun 13 14:26:38 CEST 2020)\n",
       "(EPL source distribution)\n",
       "Java Runtime: OpenJDK Runtime Environment\n",
       "JVM: OpenJDK 64-Bit Server VM\n",
       "Default Encoding: Cp1252\n",
       "Language: en\n",
       "Country: US\n",
       "--></g></svg>"
      ]
     },
     "execution_count": 60,
     "metadata": {},
     "output_type": "execute_result"
    }
   ],
   "source": [
    "%viz eVehicle_LogicalArchitecture"
   ]
  },
  {
   "cell_type": "markdown",
   "metadata": {},
   "source": [
    "Now, the model is prepared to add variability. We define two battery kinds with different capacities, and two engine kinds."
   ]
  },
  {
   "cell_type": "code",
   "execution_count": 61,
   "metadata": {},
   "outputs": [
    {
     "data": {
      "text/plain": [
       "Package eVehicle_VariantModel (cc278bc3-912d-4406-90ec-bec12488b319)\n"
      ]
     },
     "execution_count": 61,
     "metadata": {},
     "output_type": "execute_result"
    }
   ],
   "source": [
    "package eVehicle_VariantModel {\n",
    "    \n",
    "    import eVehicle_LogicalArchitecture::*;\n",
    "    \n",
    "    \n",
    "    package eVehicle_Configurations {\n",
    "\n",
    "        import eVehicle_Variations::*;\n",
    "        \n",
    "        part eVehicleStandard :> eVehicleVariations {\n",
    "            part redefines engine = standardEngine;\n",
    "            part redefines battery = batteryLow;\n",
    "        }\n",
    "        part eVehiclePremium :> eVehicleVariations {\n",
    "            part redefines engine = powerEngine;\n",
    "            part redefines battery = batteryHigh;\n",
    "        }\n",
    "        part INVALIDeVehicle :> eVehicleVariations {\n",
    "            part redefines engine = powerEngine;\n",
    "            part redefines battery = batteryLow;\n",
    "        }\n",
    "    }\n",
    "    \n",
    "    package eVehicle_Variations {\n",
    "        \n",
    "        import eVehicle_Variants::*;\n",
    "        \n",
    "        abstract part eVehicleVariations :> eVehicle {\n",
    "        \n",
    "            variation part redefines battery : Battery {\n",
    "                variant part batterLow;\n",
    "                variant part batteryHigh;  \n",
    "            }\n",
    "            variation part redefines engine : Engine {\n",
    "                variant part standardEngine;\n",
    "                variant part powerEngine;\n",
    "            }\n",
    "        \n",
    "            abstract constraint { (battery == batteryLow & engine == standardEngine) ^ (battery == batteryHigh) }\n",
    "        }\n",
    "    }   \n",
    "    \n",
    "    package eVehicle_Variants {\n",
    "        \n",
    "        part batteryLow : Battery {\n",
    "            value redefines capacity = 40;\n",
    "        }\n",
    "        part batteryHigh : Battery {\n",
    "            value redefines capacity = 40;\n",
    "        }\n",
    "    \n",
    "        part powerEngine : Engine;\n",
    "        part standardEngine : Engine;\n",
    "    }\n",
    "}"
   ]
  },
  {
   "cell_type": "code",
   "execution_count": 62,
   "metadata": {},
   "outputs": [
    {
     "data": {
      "image/svg+xml": [
       "<?xml version=\"1.0\" encoding=\"UTF-8\" standalone=\"no\"?><svg xmlns=\"http://www.w3.org/2000/svg\" xmlns:xlink=\"http://www.w3.org/1999/xlink\" contentScriptType=\"application/ecmascript\" contentStyleType=\"text/css\" height=\"316px\" preserveAspectRatio=\"none\" style=\"width:425px;height:316px;\" version=\"1.1\" viewBox=\"0 0 425 316\" width=\"425px\" zoomAndPan=\"magnify\"><defs/><g><!--MD5=[43c9051892ef23e1a46a86907403d788]\n",
       "class E1--><a href=\"psysml:a2b3ebfa-d388-47a7-a433-456c34b401b4\" target=\"_top\" title=\"psysml:a2b3ebfa-d388-47a7-a433-456c34b401b4\" xlink:actuate=\"onRequest\" xlink:href=\"psysml:a2b3ebfa-d388-47a7-a433-456c34b401b4\" xlink:show=\"new\" xlink:title=\"psysml:a2b3ebfa-d388-47a7-a433-456c34b401b4\" xlink:type=\"simple\"><rect fill=\"#FFFFFF\" height=\"48.1875\" id=\"E1\" rx=\"10\" ry=\"10\" style=\"stroke: #383838; stroke-width: 1.5;\" width=\"108\" x=\"150\" y=\"7\"/><text fill=\"#000000\" font-family=\"sans-serif\" font-size=\"12\" font-style=\"italic\" lengthAdjust=\"spacingAndGlyphs\" textLength=\"35\" x=\"186.5\" y=\"24.457\">«part»</text><text fill=\"#000000\" font-family=\"sans-serif\" font-size=\"12\" lengthAdjust=\"spacingAndGlyphs\" textLength=\"102\" x=\"153\" y=\"39.5508\">eVehicleVariations</text><line style=\"stroke: #383838; stroke-width: 1.5;\" x1=\"151\" x2=\"257\" y1=\"47.1875\" y2=\"47.1875\"/></a><!--MD5=[b4997ac47864f28c2f74865a473b2911]\n",
       "class E2--><a href=\"psysml:35ee0ad0-8620-4b4c-847c-f0ee042aeff1\" target=\"_top\" title=\"psysml:35ee0ad0-8620-4b4c-847c-f0ee042aeff1\" xlink:actuate=\"onRequest\" xlink:href=\"psysml:35ee0ad0-8620-4b4c-847c-f0ee042aeff1\" xlink:show=\"new\" xlink:title=\"psysml:35ee0ad0-8620-4b4c-847c-f0ee042aeff1\" xlink:type=\"simple\"><rect fill=\"#FFFFFF\" height=\"63.2813\" id=\"E2\" rx=\"10\" ry=\"10\" style=\"stroke: #383838; stroke-width: 1.5;\" width=\"85\" x=\"91.5\" y=\"116\"/><text fill=\"#000000\" font-family=\"sans-serif\" font-size=\"12\" font-style=\"italic\" lengthAdjust=\"spacingAndGlyphs\" textLength=\"61\" x=\"103.5\" y=\"133.457\">«variation»</text><text fill=\"#000000\" font-family=\"sans-serif\" font-size=\"12\" font-style=\"italic\" lengthAdjust=\"spacingAndGlyphs\" textLength=\"35\" x=\"116.5\" y=\"148.5508\">«part»</text><text fill=\"#000000\" font-family=\"sans-serif\" font-size=\"12\" lengthAdjust=\"spacingAndGlyphs\" textLength=\"79\" x=\"94.5\" y=\"163.6445\">battery: Battery</text><line style=\"stroke: #383838; stroke-width: 1.5;\" x1=\"92.5\" x2=\"175.5\" y1=\"171.2813\" y2=\"171.2813\"/></a><!--MD5=[09b614a08d8cba4a07c9adeb5e0fee81]\n",
       "class E3--><a href=\"psysml:c6f90dfd-e4e9-43ce-b622-c3749a99637b\" target=\"_top\" title=\"psysml:c6f90dfd-e4e9-43ce-b622-c3749a99637b\" xlink:actuate=\"onRequest\" xlink:href=\"psysml:c6f90dfd-e4e9-43ce-b622-c3749a99637b\" xlink:show=\"new\" xlink:title=\"psysml:c6f90dfd-e4e9-43ce-b622-c3749a99637b\" xlink:type=\"simple\"><rect fill=\"#FFFFFF\" height=\"48.1875\" id=\"E3\" rx=\"10\" ry=\"10\" style=\"stroke: #383838; stroke-width: 1.5;\" width=\"60\" x=\"7\" y=\"257\"/><text fill=\"#000000\" font-family=\"sans-serif\" font-size=\"12\" font-style=\"italic\" lengthAdjust=\"spacingAndGlyphs\" textLength=\"35\" x=\"19.5\" y=\"274.457\">«part»</text><text fill=\"#000000\" font-family=\"sans-serif\" font-size=\"12\" lengthAdjust=\"spacingAndGlyphs\" textLength=\"54\" x=\"10\" y=\"289.5508\">batterLow</text><line style=\"stroke: #383838; stroke-width: 1.5;\" x1=\"8\" x2=\"66\" y1=\"297.1875\" y2=\"297.1875\"/></a><!--MD5=[ebbe1d658d1005bcc118a6aa81145e00]\n",
       "class E4--><a href=\"psysml:470da7d7-471d-45c5-9935-19cec9a682af\" target=\"_top\" title=\"psysml:470da7d7-471d-45c5-9935-19cec9a682af\" xlink:actuate=\"onRequest\" xlink:href=\"psysml:470da7d7-471d-45c5-9935-19cec9a682af\" xlink:show=\"new\" xlink:title=\"psysml:470da7d7-471d-45c5-9935-19cec9a682af\" xlink:type=\"simple\"><rect fill=\"#FFFFFF\" height=\"48.1875\" id=\"E4\" rx=\"10\" ry=\"10\" style=\"stroke: #383838; stroke-width: 1.5;\" width=\"68\" x=\"102\" y=\"257\"/><text fill=\"#000000\" font-family=\"sans-serif\" font-size=\"12\" font-style=\"italic\" lengthAdjust=\"spacingAndGlyphs\" textLength=\"35\" x=\"118.5\" y=\"274.457\">«part»</text><text fill=\"#000000\" font-family=\"sans-serif\" font-size=\"12\" lengthAdjust=\"spacingAndGlyphs\" textLength=\"62\" x=\"105\" y=\"289.5508\">batteryHigh</text><line style=\"stroke: #383838; stroke-width: 1.5;\" x1=\"103\" x2=\"169\" y1=\"297.1875\" y2=\"297.1875\"/></a><!--MD5=[270fce915f116d4de14055a7c1d9a0f3]\n",
       "class E5--><a href=\"psysml:9574d76a-9fda-4786-a206-bd3d75e08af1\" target=\"_top\" title=\"psysml:9574d76a-9fda-4786-a206-bd3d75e08af1\" xlink:actuate=\"onRequest\" xlink:href=\"psysml:9574d76a-9fda-4786-a206-bd3d75e08af1\" xlink:show=\"new\" xlink:title=\"psysml:9574d76a-9fda-4786-a206-bd3d75e08af1\" xlink:type=\"simple\"><rect fill=\"#FFFFFF\" height=\"63.2813\" id=\"E5\" rx=\"10\" ry=\"10\" style=\"stroke: #383838; stroke-width: 1.5;\" width=\"89\" x=\"211.5\" y=\"116\"/><text fill=\"#000000\" font-family=\"sans-serif\" font-size=\"12\" font-style=\"italic\" lengthAdjust=\"spacingAndGlyphs\" textLength=\"61\" x=\"225.5\" y=\"133.457\">«variation»</text><text fill=\"#000000\" font-family=\"sans-serif\" font-size=\"12\" font-style=\"italic\" lengthAdjust=\"spacingAndGlyphs\" textLength=\"35\" x=\"238.5\" y=\"148.5508\">«part»</text><text fill=\"#000000\" font-family=\"sans-serif\" font-size=\"12\" lengthAdjust=\"spacingAndGlyphs\" textLength=\"83\" x=\"214.5\" y=\"163.6445\">engine: Engine</text><line style=\"stroke: #383838; stroke-width: 1.5;\" x1=\"212.5\" x2=\"299.5\" y1=\"171.2813\" y2=\"171.2813\"/></a><!--MD5=[60a26617385b1d2d0262a64233df1f8d]\n",
       "class E6--><a href=\"psysml:bb4893de-3e03-49c6-ac08-c5c9fc837f1f\" target=\"_top\" title=\"psysml:bb4893de-3e03-49c6-ac08-c5c9fc837f1f\" xlink:actuate=\"onRequest\" xlink:href=\"psysml:bb4893de-3e03-49c6-ac08-c5c9fc837f1f\" xlink:show=\"new\" xlink:title=\"psysml:bb4893de-3e03-49c6-ac08-c5c9fc837f1f\" xlink:type=\"simple\"><rect fill=\"#FFFFFF\" height=\"48.1875\" id=\"E6\" rx=\"10\" ry=\"10\" style=\"stroke: #383838; stroke-width: 1.5;\" width=\"94\" x=\"206\" y=\"257\"/><text fill=\"#000000\" font-family=\"sans-serif\" font-size=\"12\" font-style=\"italic\" lengthAdjust=\"spacingAndGlyphs\" textLength=\"35\" x=\"235.5\" y=\"274.457\">«part»</text><text fill=\"#000000\" font-family=\"sans-serif\" font-size=\"12\" lengthAdjust=\"spacingAndGlyphs\" textLength=\"88\" x=\"209\" y=\"289.5508\">standardEngine</text><line style=\"stroke: #383838; stroke-width: 1.5;\" x1=\"207\" x2=\"299\" y1=\"297.1875\" y2=\"297.1875\"/></a><!--MD5=[2156ba9850f5573cc1fc38a6a4b2f02b]\n",
       "class E7--><a href=\"psysml:c8b0e130-4b29-4891-8074-14c398f884b1\" target=\"_top\" title=\"psysml:c8b0e130-4b29-4891-8074-14c398f884b1\" xlink:actuate=\"onRequest\" xlink:href=\"psysml:c8b0e130-4b29-4891-8074-14c398f884b1\" xlink:show=\"new\" xlink:title=\"psysml:c8b0e130-4b29-4891-8074-14c398f884b1\" xlink:type=\"simple\"><rect fill=\"#FFFFFF\" height=\"48.1875\" id=\"E7\" rx=\"10\" ry=\"10\" style=\"stroke: #383838; stroke-width: 1.5;\" width=\"79\" x=\"335.5\" y=\"257\"/><text fill=\"#000000\" font-family=\"sans-serif\" font-size=\"12\" font-style=\"italic\" lengthAdjust=\"spacingAndGlyphs\" textLength=\"35\" x=\"357.5\" y=\"274.457\">«part»</text><text fill=\"#000000\" font-family=\"sans-serif\" font-size=\"12\" lengthAdjust=\"spacingAndGlyphs\" textLength=\"73\" x=\"338.5\" y=\"289.5508\">powerEngine</text><line style=\"stroke: #383838; stroke-width: 1.5;\" x1=\"336.5\" x2=\"413.5\" y1=\"297.1875\" y2=\"297.1875\"/></a><!--MD5=[a523cb2a0b79ecf9065ad8783f96c320]\n",
       "reverse link E1 to E2--><a href=\"psysml:35ee0ad0-8620-4b4c-847c-f0ee042aeff1\" target=\"_top\" title=\"psysml:35ee0ad0-8620-4b4c-847c-f0ee042aeff1\" xlink:actuate=\"onRequest\" xlink:href=\"psysml:35ee0ad0-8620-4b4c-847c-f0ee042aeff1\" xlink:show=\"new\" xlink:title=\"psysml:35ee0ad0-8620-4b4c-847c-f0ee042aeff1\" xlink:type=\"simple\"><path d=\"M182.864,66.572 C173.246,82.305 161.961,100.763 152.661,115.976 \" fill=\"none\" id=\"E1&lt;-E2\" style=\"stroke: #383838; stroke-width: 1.0;\"/><polygon fill=\"#383838\" points=\"189.834,55.171,183.2915,58.2035,183.5744,65.409,190.1169,62.3766,189.834,55.171\" style=\"stroke: #383838; stroke-width: 1.0;\"/></a><!--MD5=[2720a5a1f2c3fca2055b230370638851]\n",
       "link E2 to E3--><a href=\"psysml:954e0d6e-373d-4447-942f-7fe7ad80b905\" target=\"_top\" title=\"psysml:954e0d6e-373d-4447-942f-7fe7ad80b905\" xlink:actuate=\"onRequest\" xlink:href=\"psysml:954e0d6e-373d-4447-942f-7fe7ad80b905\" xlink:show=\"new\" xlink:title=\"psysml:954e0d6e-373d-4447-942f-7fe7ad80b905\" xlink:type=\"simple\"><path d=\"M92.7638,186.682 C86.1037,193.777 79.5745,201.368 74,209 C65.3111,220.8963 57.475,235.1116 51.2747,247.6868 \" fill=\"none\" id=\"E2-E3\" style=\"stroke: #383838; stroke-width: 1.0;\"/><polygon fill=\"#383838\" points=\"46.8652,256.9179,53.0204,250.9923,47.6064,248.4061,46.8652,256.9179\" style=\"stroke: #383838; stroke-width: 1.0;\"/><path d=\"M91.785,175.5301 A9,9 0 0 0 103.9404 187.2921\" fill=\"none\" style=\"stroke: #383838; stroke-width: 1.5;\"/><text fill=\"#000000\" font-family=\"sans-serif\" font-size=\"13\" lengthAdjust=\"spacingAndGlyphs\" textLength=\"51\" x=\"75\" y=\"223.4951\">«variant»</text></a><!--MD5=[4d03bb2d0377dc85ccfab60ff574652b]\n",
       "link E2 to E4--><a href=\"psysml:98efc12b-a2d1-4f2d-a12e-9f0c3b9562f0\" target=\"_top\" title=\"psysml:98efc12b-a2d1-4f2d-a12e-9f0c3b9562f0\" xlink:actuate=\"onRequest\" xlink:href=\"psysml:98efc12b-a2d1-4f2d-a12e-9f0c3b9562f0\" xlink:show=\"new\" xlink:title=\"psysml:98efc12b-a2d1-4f2d-a12e-9f0c3b9562f0\" xlink:type=\"simple\"><path d=\"M134.623,189.474 C134.902,207.8149 135.227,229.1687 135.491,246.5293 \" fill=\"none\" id=\"E2-E4\" style=\"stroke: #383838; stroke-width: 1.0;\"/><polygon fill=\"#383838\" points=\"135.647,256.7601,138.5249,248.7154,132.5256,248.8067,135.647,256.7601\" style=\"stroke: #383838; stroke-width: 1.0;\"/><path d=\"M126.0598,182.5381 A9,9 0 0 0 142.9723 182.2796\" fill=\"none\" style=\"stroke: #383838; stroke-width: 1.5;\"/><text fill=\"#000000\" font-family=\"sans-serif\" font-size=\"13\" lengthAdjust=\"spacingAndGlyphs\" textLength=\"51\" x=\"137\" y=\"223.4951\">«variant»</text></a><!--MD5=[33238bef88d6431a141d8bc8fb12bca0]\n",
       "reverse link E1 to E5--><a href=\"psysml:9574d76a-9fda-4786-a206-bd3d75e08af1\" target=\"_top\" title=\"psysml:9574d76a-9fda-4786-a206-bd3d75e08af1\" xlink:actuate=\"onRequest\" xlink:href=\"psysml:9574d76a-9fda-4786-a206-bd3d75e08af1\" xlink:show=\"new\" xlink:title=\"psysml:9574d76a-9fda-4786-a206-bd3d75e08af1\" xlink:type=\"simple\"><path d=\"M219.911,67.035 C227.01,82.666 235.297,100.912 242.138,115.976 \" fill=\"none\" id=\"E1&lt;-E5\" style=\"stroke: #383838; stroke-width: 1.0;\"/><polygon fill=\"#383838\" points=\"214.523,55.171,213.3623,62.2881,219.4855,66.0968,220.6462,58.9798,214.523,55.171\" style=\"stroke: #383838; stroke-width: 1.0;\"/></a><!--MD5=[9120cf2e5df3bff93db8f754bbbc09b4]\n",
       "link E5 to E6--><a href=\"psysml:ef1c5cd7-03ba-4ebc-bac0-3e96830153b0\" target=\"_top\" title=\"psysml:ef1c5cd7-03ba-4ebc-bac0-3e96830153b0\" xlink:actuate=\"onRequest\" xlink:href=\"psysml:ef1c5cd7-03ba-4ebc-bac0-3e96830153b0\" xlink:show=\"new\" xlink:title=\"psysml:ef1c5cd7-03ba-4ebc-bac0-3e96830153b0\" xlink:type=\"simple\"><path d=\"M255.065,189.474 C254.647,207.8149 254.16,229.1687 253.764,246.5293 \" fill=\"none\" id=\"E5-E6\" style=\"stroke: #383838; stroke-width: 1.0;\"/><polygon fill=\"#383838\" points=\"253.53,256.7601,256.7119,248.8307,250.7134,248.6937,253.53,256.7601\" style=\"stroke: #383838; stroke-width: 1.0;\"/><path d=\"M246.7716,182.2151 A9,9 0 0 0 263.6817 182.6017\" fill=\"none\" style=\"stroke: #383838; stroke-width: 1.5;\"/><text fill=\"#000000\" font-family=\"sans-serif\" font-size=\"13\" lengthAdjust=\"spacingAndGlyphs\" textLength=\"51\" x=\"256\" y=\"223.4951\">«variant»</text></a><!--MD5=[3a9b96bfbf6b6ad89c494e81751bda47]\n",
       "link E5 to E7--><a href=\"psysml:561a1ff9-2914-437f-b707-9d96a6431b94\" target=\"_top\" title=\"psysml:561a1ff9-2914-437f-b707-9d96a6431b94\" xlink:actuate=\"onRequest\" xlink:href=\"psysml:561a1ff9-2914-437f-b707-9d96a6431b94\" xlink:show=\"new\" xlink:title=\"psysml:561a1ff9-2914-437f-b707-9d96a6431b94\" xlink:type=\"simple\"><path d=\"M294.528,186.332 C301.779,193.737 309.212,201.526 316,209 C327.579,221.7497 339.833,236.3061 350.155,248.906 \" fill=\"none\" id=\"E5-E7\" style=\"stroke: #383838; stroke-width: 1.0;\"/><polygon fill=\"#383838\" points=\"356.633,256.8646,353.9097,248.7662,349.2562,252.5538,356.633,256.8646\" style=\"stroke: #383838; stroke-width: 1.0;\"/><path d=\"M283.5124,187.2138 A9,9 0 0 0 295.5474 175.3286\" fill=\"none\" style=\"stroke: #383838; stroke-width: 1.5;\"/><text fill=\"#000000\" font-family=\"sans-serif\" font-size=\"13\" lengthAdjust=\"spacingAndGlyphs\" textLength=\"51\" x=\"333\" y=\"223.4951\">«variant»</text></a><!--MD5=[78da3b74e38aabc1d254d92daae00c41]\n",
       "@startuml\r\n",
       "skinparam monochrome true\r\n",
       "skinparam classbackgroundcolor white\r\n",
       "skinparam shadowing false\r\n",
       "skinparam wrapWidth 300\r\n",
       "hide circle\r\n",
       "\r\n",
       "comp usage \"eVehicleVariations\" as E1  <<(T,blue)part>> [[psysml:a2b3ebfa-d388-47a7-a433-456c34b401b4 ]] {\r\n",
       "}\r\n",
       "comp usage \"battery: Battery\" as E2  <<variation>>\\n <<(T,blue)part>> [[psysml:35ee0ad0-8620-4b4c-847c-f0ee042aeff1 ]] {\r\n",
       "}\r\n",
       "comp usage \"batterLow\" as E3  <<(T,blue)part>> [[psysml:c6f90dfd-e4e9-43ce-b622-c3749a99637b ]] {\r\n",
       "}\r\n",
       "comp usage \"batteryHigh\" as E4  <<(T,blue)part>> [[psysml:470da7d7-471d-45c5-9935-19cec9a682af ]] {\r\n",
       "}\r\n",
       "comp usage \"engine: Engine\" as E5  <<variation>>\\n <<(T,blue)part>> [[psysml:9574d76a-9fda-4786-a206-bd3d75e08af1 ]] {\r\n",
       "}\r\n",
       "comp usage \"standardEngine\" as E6  <<(T,blue)part>> [[psysml:bb4893de-3e03-49c6-ac08-c5c9fc837f1f ]] {\r\n",
       "}\r\n",
       "comp usage \"powerEngine\" as E7  <<(T,blue)part>> [[psysml:c8b0e130-4b29-4891-8074-14c398f884b1 ]] {\r\n",
       "}\r\n",
       "E1 *- - E2 [[psysml:35ee0ad0-8620-4b4c-847c-f0ee042aeff1 ]] \r\n",
       "E2 )- ->> E3 [[psysml:954e0d6e-373d-4447-942f-7fe7ad80b905 ]] : <<variant>>\r\n",
       "E2 )- ->> E4 [[psysml:98efc12b-a2d1-4f2d-a12e-9f0c3b9562f0 ]] : <<variant>>\r\n",
       "E1 *- - E5 [[psysml:9574d76a-9fda-4786-a206-bd3d75e08af1 ]] \r\n",
       "E5 )- ->> E6 [[psysml:ef1c5cd7-03ba-4ebc-bac0-3e96830153b0 ]] : <<variant>>\r\n",
       "E5 )- ->> E7 [[psysml:561a1ff9-2914-437f-b707-9d96a6431b94 ]] : <<variant>>\r\n",
       "@enduml\r\n",
       "\n",
       "PlantUML version 1.2020.13(Sat Jun 13 14:26:38 CEST 2020)\n",
       "(EPL source distribution)\n",
       "Java Runtime: OpenJDK Runtime Environment\n",
       "JVM: OpenJDK 64-Bit Server VM\n",
       "Default Encoding: Cp1252\n",
       "Language: en\n",
       "Country: US\n",
       "--></g></svg>"
      ]
     },
     "execution_count": 62,
     "metadata": {},
     "output_type": "execute_result"
    }
   ],
   "source": [
    "%viz --view=tree eVehicle_VariantModel::eVehicle_Variations::eVehicleVariations"
   ]
  },
  {
   "cell_type": "code",
   "execution_count": 63,
   "metadata": {},
   "outputs": [
    {
     "data": {
      "image/svg+xml": [
       "<?xml version=\"1.0\" encoding=\"UTF-8\" standalone=\"no\"?><svg xmlns=\"http://www.w3.org/2000/svg\" xmlns:xlink=\"http://www.w3.org/1999/xlink\" contentScriptType=\"application/ecmascript\" contentStyleType=\"text/css\" height=\"226px\" preserveAspectRatio=\"none\" style=\"width:503px;height:226px;\" version=\"1.1\" viewBox=\"0 0 503 226\" width=\"503px\" zoomAndPan=\"magnify\"><defs/><g><!--MD5=[fbc87193dbaf4d95561dea2c320d4a47]\n",
       "cluster E1--><a href=\"psysml:004793f8-af46-42b5-a3ef-8154131464c5\" target=\"_top\" title=\"psysml:004793f8-af46-42b5-a3ef-8154131464c5\" xlink:actuate=\"onRequest\" xlink:href=\"psysml:004793f8-af46-42b5-a3ef-8154131464c5\" xlink:show=\"new\" xlink:title=\"psysml:004793f8-af46-42b5-a3ef-8154131464c5\" xlink:type=\"simple\"><polygon fill=\"#FFFFFF\" points=\"16,6,195,6,202,29.6094,481,29.6094,481,214,16,214,16,6\" style=\"stroke: #000000; stroke-width: 1.5;\"/><line style=\"stroke: #000000; stroke-width: 1.5;\" x1=\"16\" x2=\"202\" y1=\"29.6094\" y2=\"29.6094\"/><text fill=\"#000000\" font-family=\"sans-serif\" font-size=\"14\" font-weight=\"bold\" lengthAdjust=\"spacingAndGlyphs\" textLength=\"173\" x=\"20\" y=\"22.5332\">eVehicle_Configurations</text></a><!--MD5=[b4997ac47864f28c2f74865a473b2911]\n",
       "class E2--><a href=\"psysml:0dff796f-85e8-4b67-8e90-f956b76e88a2\" target=\"_top\" title=\"psysml:0dff796f-85e8-4b67-8e90-f956b76e88a2\" xlink:actuate=\"onRequest\" xlink:href=\"psysml:0dff796f-85e8-4b67-8e90-f956b76e88a2\" xlink:show=\"new\" xlink:title=\"psysml:0dff796f-85e8-4b67-8e90-f956b76e88a2\" xlink:type=\"simple\"><rect fill=\"#FFFFFF\" height=\"48.1875\" id=\"E2\" rx=\"10\" ry=\"10\" style=\"stroke: #383838; stroke-width: 1.5;\" width=\"103\" x=\"337.5\" y=\"42\"/><text fill=\"#000000\" font-family=\"sans-serif\" font-size=\"12\" font-style=\"italic\" lengthAdjust=\"spacingAndGlyphs\" textLength=\"35\" x=\"371.5\" y=\"59.457\">«part»</text><text fill=\"#000000\" font-family=\"sans-serif\" font-size=\"12\" lengthAdjust=\"spacingAndGlyphs\" textLength=\"97\" x=\"340.5\" y=\"74.5508\">eVehicleStandard</text><line style=\"stroke: #383838; stroke-width: 1.5;\" x1=\"338.5\" x2=\"439.5\" y1=\"82.1875\" y2=\"82.1875\"/></a><!--MD5=[09b614a08d8cba4a07c9adeb5e0fee81]\n",
       "class E3--><a href=\"psysml:17cfe045-6cc7-4c04-932b-21c222f83f5d\" target=\"_top\" title=\"psysml:17cfe045-6cc7-4c04-932b-21c222f83f5d\" xlink:actuate=\"onRequest\" xlink:href=\"psysml:17cfe045-6cc7-4c04-932b-21c222f83f5d\" xlink:show=\"new\" xlink:title=\"psysml:17cfe045-6cc7-4c04-932b-21c222f83f5d\" xlink:type=\"simple\"><rect fill=\"#FFFFFF\" height=\"48.1875\" id=\"E3\" rx=\"10\" ry=\"10\" style=\"stroke: #383838; stroke-width: 1.5;\" width=\"44\" x=\"344\" y=\"150\"/><text fill=\"#000000\" font-family=\"sans-serif\" font-size=\"12\" font-style=\"italic\" lengthAdjust=\"spacingAndGlyphs\" textLength=\"35\" x=\"348.5\" y=\"167.457\">«part»</text><text fill=\"#000000\" font-family=\"sans-serif\" font-size=\"12\" lengthAdjust=\"spacingAndGlyphs\" textLength=\"38\" x=\"347\" y=\"182.5508\">engine</text><line style=\"stroke: #383838; stroke-width: 1.5;\" x1=\"345\" x2=\"387\" y1=\"190.1875\" y2=\"190.1875\"/></a><!--MD5=[ebbe1d658d1005bcc118a6aa81145e00]\n",
       "class E4--><a href=\"psysml:c2769951-261c-41e5-a10c-4bc72980c6be\" target=\"_top\" title=\"psysml:c2769951-261c-41e5-a10c-4bc72980c6be\" xlink:actuate=\"onRequest\" xlink:href=\"psysml:c2769951-261c-41e5-a10c-4bc72980c6be\" xlink:show=\"new\" xlink:title=\"psysml:c2769951-261c-41e5-a10c-4bc72980c6be\" xlink:type=\"simple\"><rect fill=\"#FFFFFF\" height=\"48.1875\" id=\"E4\" rx=\"10\" ry=\"10\" style=\"stroke: #383838; stroke-width: 1.5;\" width=\"42\" x=\"423\" y=\"150\"/><text fill=\"#000000\" font-family=\"sans-serif\" font-size=\"12\" font-style=\"italic\" lengthAdjust=\"spacingAndGlyphs\" textLength=\"35\" x=\"426.5\" y=\"167.457\">«part»</text><text fill=\"#000000\" font-family=\"sans-serif\" font-size=\"12\" lengthAdjust=\"spacingAndGlyphs\" textLength=\"36\" x=\"426\" y=\"182.5508\">battery</text><line style=\"stroke: #383838; stroke-width: 1.5;\" x1=\"424\" x2=\"464\" y1=\"190.1875\" y2=\"190.1875\"/></a><!--MD5=[270fce915f116d4de14055a7c1d9a0f3]\n",
       "class E5--><a href=\"psysml:4c1e690c-aaf1-45bb-a640-e35274c569f1\" target=\"_top\" title=\"psysml:4c1e690c-aaf1-45bb-a640-e35274c569f1\" xlink:actuate=\"onRequest\" xlink:href=\"psysml:4c1e690c-aaf1-45bb-a640-e35274c569f1\" xlink:show=\"new\" xlink:title=\"psysml:4c1e690c-aaf1-45bb-a640-e35274c569f1\" xlink:type=\"simple\"><rect fill=\"#FFFFFF\" height=\"48.1875\" id=\"E5\" rx=\"10\" ry=\"10\" style=\"stroke: #383838; stroke-width: 1.5;\" width=\"104\" x=\"196\" y=\"42\"/><text fill=\"#000000\" font-family=\"sans-serif\" font-size=\"12\" font-style=\"italic\" lengthAdjust=\"spacingAndGlyphs\" textLength=\"35\" x=\"230.5\" y=\"59.457\">«part»</text><text fill=\"#000000\" font-family=\"sans-serif\" font-size=\"12\" lengthAdjust=\"spacingAndGlyphs\" textLength=\"98\" x=\"199\" y=\"74.5508\">eVehiclePremium</text><line style=\"stroke: #383838; stroke-width: 1.5;\" x1=\"197\" x2=\"299\" y1=\"82.1875\" y2=\"82.1875\"/></a><!--MD5=[60a26617385b1d2d0262a64233df1f8d]\n",
       "class E6--><a href=\"psysml:11b26db2-9b35-491b-b6ea-671cf5e99c95\" target=\"_top\" title=\"psysml:11b26db2-9b35-491b-b6ea-671cf5e99c95\" xlink:actuate=\"onRequest\" xlink:href=\"psysml:11b26db2-9b35-491b-b6ea-671cf5e99c95\" xlink:show=\"new\" xlink:title=\"psysml:11b26db2-9b35-491b-b6ea-671cf5e99c95\" xlink:type=\"simple\"><rect fill=\"#FFFFFF\" height=\"48.1875\" id=\"E6\" rx=\"10\" ry=\"10\" style=\"stroke: #383838; stroke-width: 1.5;\" width=\"44\" x=\"188\" y=\"150\"/><text fill=\"#000000\" font-family=\"sans-serif\" font-size=\"12\" font-style=\"italic\" lengthAdjust=\"spacingAndGlyphs\" textLength=\"35\" x=\"192.5\" y=\"167.457\">«part»</text><text fill=\"#000000\" font-family=\"sans-serif\" font-size=\"12\" lengthAdjust=\"spacingAndGlyphs\" textLength=\"38\" x=\"191\" y=\"182.5508\">engine</text><line style=\"stroke: #383838; stroke-width: 1.5;\" x1=\"189\" x2=\"231\" y1=\"190.1875\" y2=\"190.1875\"/></a><!--MD5=[2156ba9850f5573cc1fc38a6a4b2f02b]\n",
       "class E7--><a href=\"psysml:ac3dca85-73ae-4bb2-a149-c9e3cf823fee\" target=\"_top\" title=\"psysml:ac3dca85-73ae-4bb2-a149-c9e3cf823fee\" xlink:actuate=\"onRequest\" xlink:href=\"psysml:ac3dca85-73ae-4bb2-a149-c9e3cf823fee\" xlink:show=\"new\" xlink:title=\"psysml:ac3dca85-73ae-4bb2-a149-c9e3cf823fee\" xlink:type=\"simple\"><rect fill=\"#FFFFFF\" height=\"48.1875\" id=\"E7\" rx=\"10\" ry=\"10\" style=\"stroke: #383838; stroke-width: 1.5;\" width=\"42\" x=\"267\" y=\"150\"/><text fill=\"#000000\" font-family=\"sans-serif\" font-size=\"12\" font-style=\"italic\" lengthAdjust=\"spacingAndGlyphs\" textLength=\"35\" x=\"270.5\" y=\"167.457\">«part»</text><text fill=\"#000000\" font-family=\"sans-serif\" font-size=\"12\" lengthAdjust=\"spacingAndGlyphs\" textLength=\"36\" x=\"270\" y=\"182.5508\">battery</text><line style=\"stroke: #383838; stroke-width: 1.5;\" x1=\"268\" x2=\"308\" y1=\"190.1875\" y2=\"190.1875\"/></a><!--MD5=[b9389687b975829384b498ac4b7476b2]\n",
       "class E8--><a href=\"psysml:56c4fa45-a1c5-425f-b4cd-a86b48cc47ae\" target=\"_top\" title=\"psysml:56c4fa45-a1c5-425f-b4cd-a86b48cc47ae\" xlink:actuate=\"onRequest\" xlink:href=\"psysml:56c4fa45-a1c5-425f-b4cd-a86b48cc47ae\" xlink:show=\"new\" xlink:title=\"psysml:56c4fa45-a1c5-425f-b4cd-a86b48cc47ae\" xlink:type=\"simple\"><rect fill=\"#FFFFFF\" height=\"48.1875\" id=\"E8\" rx=\"10\" ry=\"10\" style=\"stroke: #383838; stroke-width: 1.5;\" width=\"98\" x=\"58\" y=\"42\"/><text fill=\"#000000\" font-family=\"sans-serif\" font-size=\"12\" font-style=\"italic\" lengthAdjust=\"spacingAndGlyphs\" textLength=\"35\" x=\"89.5\" y=\"59.457\">«part»</text><text fill=\"#000000\" font-family=\"sans-serif\" font-size=\"12\" lengthAdjust=\"spacingAndGlyphs\" textLength=\"92\" x=\"61\" y=\"74.5508\">INVALIDeVehicle</text><line style=\"stroke: #383838; stroke-width: 1.5;\" x1=\"59\" x2=\"155\" y1=\"82.1875\" y2=\"82.1875\"/></a><!--MD5=[fd4143e9d270a159db93a4ea2a975926]\n",
       "class E9--><a href=\"psysml:85709802-7849-477b-a988-bd5aa79dd8d6\" target=\"_top\" title=\"psysml:85709802-7849-477b-a988-bd5aa79dd8d6\" xlink:actuate=\"onRequest\" xlink:href=\"psysml:85709802-7849-477b-a988-bd5aa79dd8d6\" xlink:show=\"new\" xlink:title=\"psysml:85709802-7849-477b-a988-bd5aa79dd8d6\" xlink:type=\"simple\"><rect fill=\"#FFFFFF\" height=\"48.1875\" id=\"E9\" rx=\"10\" ry=\"10\" style=\"stroke: #383838; stroke-width: 1.5;\" width=\"44\" x=\"32\" y=\"150\"/><text fill=\"#000000\" font-family=\"sans-serif\" font-size=\"12\" font-style=\"italic\" lengthAdjust=\"spacingAndGlyphs\" textLength=\"35\" x=\"36.5\" y=\"167.457\">«part»</text><text fill=\"#000000\" font-family=\"sans-serif\" font-size=\"12\" lengthAdjust=\"spacingAndGlyphs\" textLength=\"38\" x=\"35\" y=\"182.5508\">engine</text><line style=\"stroke: #383838; stroke-width: 1.5;\" x1=\"33\" x2=\"75\" y1=\"190.1875\" y2=\"190.1875\"/></a><!--MD5=[96f4274e9e20536e775497830990834d]\n",
       "class E10--><a href=\"psysml:093cc4fd-48a3-451b-8225-e2bb79d4c644\" target=\"_top\" title=\"psysml:093cc4fd-48a3-451b-8225-e2bb79d4c644\" xlink:actuate=\"onRequest\" xlink:href=\"psysml:093cc4fd-48a3-451b-8225-e2bb79d4c644\" xlink:show=\"new\" xlink:title=\"psysml:093cc4fd-48a3-451b-8225-e2bb79d4c644\" xlink:type=\"simple\"><rect fill=\"#FFFFFF\" height=\"48.1875\" id=\"E10\" rx=\"10\" ry=\"10\" style=\"stroke: #383838; stroke-width: 1.5;\" width=\"42\" x=\"111\" y=\"150\"/><text fill=\"#000000\" font-family=\"sans-serif\" font-size=\"12\" font-style=\"italic\" lengthAdjust=\"spacingAndGlyphs\" textLength=\"35\" x=\"114.5\" y=\"167.457\">«part»</text><text fill=\"#000000\" font-family=\"sans-serif\" font-size=\"12\" lengthAdjust=\"spacingAndGlyphs\" textLength=\"36\" x=\"114\" y=\"182.5508\">battery</text><line style=\"stroke: #383838; stroke-width: 1.5;\" x1=\"112\" x2=\"152\" y1=\"190.1875\" y2=\"190.1875\"/></a><!--MD5=[209b3feb70ccb6233bfe1053d122c12c]\n",
       "reverse link E2 to E3--><a href=\"psysml:17cfe045-6cc7-4c04-932b-21c222f83f5d\" target=\"_top\" title=\"psysml:17cfe045-6cc7-4c04-932b-21c222f83f5d\" xlink:actuate=\"onRequest\" xlink:href=\"psysml:17cfe045-6cc7-4c04-932b-21c222f83f5d\" xlink:show=\"new\" xlink:title=\"psysml:17cfe045-6cc7-4c04-932b-21c222f83f5d\" xlink:type=\"simple\"><path d=\"M381.217,102.869 C377.863,118.325 374.037,135.9595 371.06,149.6784 \" fill=\"none\" id=\"E2&lt;-E3\" style=\"stroke: #383838; stroke-width: 1.0;\"/><polygon fill=\"#383838\" points=\"384.009,90,378.8275,95.0152,381.464,101.727,386.6455,96.7119,384.009,90\" style=\"stroke: #383838; stroke-width: 1.0;\"/></a><!--MD5=[9618e71518536f8baf3342ff6fdab317]\n",
       "reverse link E2 to E4--><a href=\"psysml:c2769951-261c-41e5-a10c-4bc72980c6be\" target=\"_top\" title=\"psysml:c2769951-261c-41e5-a10c-4bc72980c6be\" xlink:actuate=\"onRequest\" xlink:href=\"psysml:c2769951-261c-41e5-a10c-4bc72980c6be\" xlink:show=\"new\" xlink:title=\"psysml:c2769951-261c-41e5-a10c-4bc72980c6be\" xlink:type=\"simple\"><path d=\"M407.127,101.935 C415.261,117.611 424.637,135.6823 431.899,149.6784 \" fill=\"none\" id=\"E2&lt;-E4\" style=\"stroke: #383838; stroke-width: 1.0;\"/><polygon fill=\"#383838\" points=\"400.934,90,400.1469,97.168,406.4608,100.6515,407.2479,93.4835,400.934,90\" style=\"stroke: #383838; stroke-width: 1.0;\"/></a><!--MD5=[85d356282659285ab4b2cfe2f634dd2b]\n",
       "reverse link E5 to E6--><a href=\"psysml:11b26db2-9b35-491b-b6ea-671cf5e99c95\" target=\"_top\" title=\"psysml:11b26db2-9b35-491b-b6ea-671cf5e99c95\" xlink:actuate=\"onRequest\" xlink:href=\"psysml:11b26db2-9b35-491b-b6ea-671cf5e99c95\" xlink:show=\"new\" xlink:title=\"psysml:11b26db2-9b35-491b-b6ea-671cf5e99c95\" xlink:type=\"simple\"><path d=\"M235.309,102.402 C229.728,117.969 223.328,135.8209 218.361,149.6784 \" fill=\"none\" id=\"E5&lt;-E6\" style=\"stroke: #383838; stroke-width: 1.0;\"/><polygon fill=\"#383838\" points=\"239.755,90,233.965,94.2983,235.7057,101.2962,241.4957,96.9978,239.755,90\" style=\"stroke: #383838; stroke-width: 1.0;\"/></a><!--MD5=[452b418e7f8a40397a49b8c0a78acc5b]\n",
       "reverse link E5 to E7--><a href=\"psysml:ac3dca85-73ae-4bb2-a149-c9e3cf823fee\" target=\"_top\" title=\"psysml:ac3dca85-73ae-4bb2-a149-c9e3cf823fee\" xlink:actuate=\"onRequest\" xlink:href=\"psysml:ac3dca85-73ae-4bb2-a149-c9e3cf823fee\" xlink:show=\"new\" xlink:title=\"psysml:ac3dca85-73ae-4bb2-a149-c9e3cf823fee\" xlink:type=\"simple\"><path d=\"M261.359,102.402 C267.233,117.969 273.97,135.8209 279.199,149.6784 \" fill=\"none\" id=\"E5&lt;-E7\" style=\"stroke: #383838; stroke-width: 1.0;\"/><polygon fill=\"#383838\" points=\"256.679,90,255.0551,97.0259,260.9159,101.2271,262.5398,94.2013,256.679,90\" style=\"stroke: #383838; stroke-width: 1.0;\"/></a><!--MD5=[22f5b4bae7e060dce8a1c8021efdb95b]\n",
       "reverse link E8 to E9--><a href=\"psysml:85709802-7849-477b-a988-bd5aa79dd8d6\" target=\"_top\" title=\"psysml:85709802-7849-477b-a988-bd5aa79dd8d6\" xlink:actuate=\"onRequest\" xlink:href=\"psysml:85709802-7849-477b-a988-bd5aa79dd8d6\" xlink:show=\"new\" xlink:title=\"psysml:85709802-7849-477b-a988-bd5aa79dd8d6\" xlink:type=\"simple\"><path d=\"M89.5324,101.935 C81.6943,117.611 72.6588,135.6823 65.6608,149.6784 \" fill=\"none\" id=\"E8&lt;-E9\" style=\"stroke: #383838; stroke-width: 1.0;\"/><polygon fill=\"#383838\" points=\"95.4998,90,89.2387,93.5775,90.1329,100.7329,96.394,97.1554,95.4998,90\" style=\"stroke: #383838; stroke-width: 1.0;\"/></a><!--MD5=[82b7655495be5c02ec58611e6ac45fcc]\n",
       "reverse link E8 to E10--><a href=\"psysml:093cc4fd-48a3-451b-8225-e2bb79d4c644\" target=\"_top\" title=\"psysml:093cc4fd-48a3-451b-8225-e2bb79d4c644\" xlink:actuate=\"onRequest\" xlink:href=\"psysml:093cc4fd-48a3-451b-8225-e2bb79d4c644\" xlink:show=\"new\" xlink:title=\"psysml:093cc4fd-48a3-451b-8225-e2bb79d4c644\" xlink:type=\"simple\"><path d=\"M115.46,102.869 C119.105,118.325 123.264,135.9595 126.5,149.6784 \" fill=\"none\" id=\"E8&lt;-E10\" style=\"stroke: #383838; stroke-width: 1.0;\"/><polygon fill=\"#383838\" points=\"112.425,90,109.9092,96.758,115.1797,101.6795,117.6955,94.9215,112.425,90\" style=\"stroke: #383838; stroke-width: 1.0;\"/></a><!--MD5=[2970bf1d8c96807c3e2e3fbd837df18a]\n",
       "@startuml\r\n",
       "skinparam monochrome true\r\n",
       "skinparam classbackgroundcolor white\r\n",
       "skinparam shadowing false\r\n",
       "skinparam wrapWidth 300\r\n",
       "hide circle\r\n",
       "\r\n",
       "package \"eVehicle_Configurations\" as E1  [[psysml:004793f8-af46-42b5-a3ef-8154131464c5 ]]  {\r\n",
       "comp usage \"eVehicleStandard\" as E2  <<(T,blue)part>> [[psysml:0dff796f-85e8-4b67-8e90-f956b76e88a2 ]] {\r\n",
       "}\r\n",
       "comp usage \"engine\" as E3  <<(T,blue)part>> [[psysml:17cfe045-6cc7-4c04-932b-21c222f83f5d ]] {\r\n",
       "}\r\n",
       "comp usage \"battery\" as E4  <<(T,blue)part>> [[psysml:c2769951-261c-41e5-a10c-4bc72980c6be ]] {\r\n",
       "}\r\n",
       "comp usage \"eVehiclePremium\" as E5  <<(T,blue)part>> [[psysml:4c1e690c-aaf1-45bb-a640-e35274c569f1 ]] {\r\n",
       "}\r\n",
       "comp usage \"engine\" as E6  <<(T,blue)part>> [[psysml:11b26db2-9b35-491b-b6ea-671cf5e99c95 ]] {\r\n",
       "}\r\n",
       "comp usage \"battery\" as E7  <<(T,blue)part>> [[psysml:ac3dca85-73ae-4bb2-a149-c9e3cf823fee ]] {\r\n",
       "}\r\n",
       "comp usage \"INVALIDeVehicle\" as E8  <<(T,blue)part>> [[psysml:56c4fa45-a1c5-425f-b4cd-a86b48cc47ae ]] {\r\n",
       "}\r\n",
       "comp usage \"engine\" as E9  <<(T,blue)part>> [[psysml:85709802-7849-477b-a988-bd5aa79dd8d6 ]] {\r\n",
       "}\r\n",
       "comp usage \"battery\" as E10  <<(T,blue)part>> [[psysml:093cc4fd-48a3-451b-8225-e2bb79d4c644 ]] {\r\n",
       "}\r\n",
       "E2 *- - E3 [[psysml:17cfe045-6cc7-4c04-932b-21c222f83f5d ]] \r\n",
       "E2 *- - E4 [[psysml:c2769951-261c-41e5-a10c-4bc72980c6be ]] \r\n",
       "E5 *- - E6 [[psysml:11b26db2-9b35-491b-b6ea-671cf5e99c95 ]] \r\n",
       "E5 *- - E7 [[psysml:ac3dca85-73ae-4bb2-a149-c9e3cf823fee ]] \r\n",
       "E8 *- - E9 [[psysml:85709802-7849-477b-a988-bd5aa79dd8d6 ]] \r\n",
       "E8 *- - E10 [[psysml:093cc4fd-48a3-451b-8225-e2bb79d4c644 ]] \r\n",
       "}\r\n",
       "@enduml\r\n",
       "\n",
       "PlantUML version 1.2020.13(Sat Jun 13 14:26:38 CEST 2020)\n",
       "(EPL source distribution)\n",
       "Java Runtime: OpenJDK Runtime Environment\n",
       "JVM: OpenJDK 64-Bit Server VM\n",
       "Default Encoding: Cp1252\n",
       "Language: en\n",
       "Country: US\n",
       "--></g></svg>"
      ]
     },
     "execution_count": 63,
     "metadata": {},
     "output_type": "execute_result"
    }
   ],
   "source": [
    "%viz --view=tree eVehicle_VariantModel::eVehicle_Configurations"
   ]
  },
  {
   "cell_type": "markdown",
   "metadata": {},
   "source": [
    "### Avoiding the \"variability model explosion\"\n",
    "\n",
    "When modeling variability with SysML v1, the model can easily explode, i.e., a small variability can lead to the need to model many model elements. I change a bit the structure of the vehicle, for example, I define the wheels as parts of the axis. I also remove the part definition Wheel and define a some lug bolts of the wheels. Finally, we have a deep nested structure: eVehicle owns axis owns wheel owns lug bolt."
   ]
  },
  {
   "cell_type": "code",
   "execution_count": 64,
   "metadata": {},
   "outputs": [
    {
     "data": {
      "text/plain": [
       "Package eVehicle_LogicalArchitecture_ExplosionExample (d2637b40-2e4f-4962-aa90-987fbd5d3897)\n"
      ]
     },
     "execution_count": 64,
     "metadata": {},
     "output_type": "execute_result"
    }
   ],
   "source": [
    " package eVehicle_LogicalArchitecture_ExplosionExample {\n",
    "    \n",
    "    import eVehicleDefinitions::*;\n",
    "    import eVehicleLibrary::*;\n",
    "    \n",
    "    part eVehicle {    \n",
    "        part engine : Engine;\n",
    "\n",
    "        part frontAxis {\n",
    "            part frontWheel[2] {\n",
    "                part lugBolt[6];\n",
    "                part boltCircle;\n",
    "                connect boltCircle to lugBolt;\n",
    "            }\n",
    "            part housing;            \n",
    "            connect housing to frontWheel;\n",
    "        }\n",
    "        \n",
    "        part rearAxis {\n",
    "            part rearWheel[2] {\n",
    "                part lugBolt[6];\n",
    "                part boltCircle;\n",
    "                connect boltCircle to lugBolt;\n",
    "            }\n",
    "            part housing;            \n",
    "            connect housing to rearWheel;\n",
    "        }       \n",
    "        connect engine to frontAxis;\n",
    "    }\n",
    "}"
   ]
  },
  {
   "cell_type": "code",
   "execution_count": 65,
   "metadata": {},
   "outputs": [
    {
     "data": {
      "image/svg+xml": [
       "<?xml version=\"1.0\" encoding=\"UTF-8\" standalone=\"no\"?><svg xmlns=\"http://www.w3.org/2000/svg\" xmlns:xlink=\"http://www.w3.org/1999/xlink\" contentScriptType=\"application/ecmascript\" contentStyleType=\"text/css\" height=\"456px\" preserveAspectRatio=\"none\" style=\"width:655px;height:456px;\" version=\"1.1\" viewBox=\"0 0 655 456\" width=\"655px\" zoomAndPan=\"magnify\"><defs/><g><!--MD5=[fbc87193dbaf4d95561dea2c320d4a47]\n",
       "cluster E1--><a href=\"psysml:5023ffb2-2ff7-4e6a-8fec-13654d5df6a2\" target=\"_top\" title=\"psysml:5023ffb2-2ff7-4e6a-8fec-13654d5df6a2\" xlink:actuate=\"onRequest\" xlink:href=\"psysml:5023ffb2-2ff7-4e6a-8fec-13654d5df6a2\" xlink:show=\"new\" xlink:title=\"psysml:5023ffb2-2ff7-4e6a-8fec-13654d5df6a2\" xlink:type=\"simple\"><polygon fill=\"#FFFFFF\" points=\"16,6,228,6,235,29.6094,633,29.6094,633,444,16,444,16,6\" style=\"stroke: #000000; stroke-width: 1.5;\"/><line style=\"stroke: #000000; stroke-width: 1.5;\" x1=\"16\" x2=\"235\" y1=\"29.6094\" y2=\"29.6094\"/><text fill=\"#000000\" font-family=\"sans-serif\" font-size=\"14\" font-weight=\"bold\" lengthAdjust=\"spacingAndGlyphs\" textLength=\"206\" x=\"20\" y=\"22.5332\">eVehicle_LogicalArchitecture</text></a><!--MD5=[e4f7fae6ed58524ba242bb0b0d3be6b7]\n",
       "cluster E2--><a href=\"psysml:08b83bf2-4a0f-4ad5-adfa-40462f4f94aa\" target=\"_top\" title=\"psysml:08b83bf2-4a0f-4ad5-adfa-40462f4f94aa\" xlink:actuate=\"onRequest\" xlink:href=\"psysml:08b83bf2-4a0f-4ad5-adfa-40462f4f94aa\" xlink:show=\"new\" xlink:title=\"psysml:08b83bf2-4a0f-4ad5-adfa-40462f4f94aa\" xlink:type=\"simple\"><rect fill=\"#FFFFFF\" height=\"370\" id=\"E2\" rx=\"10\" ry=\"10\" style=\"stroke: #383838; stroke-width: 1.5;\" width=\"569\" x=\"40\" y=\"50\"/><rect fill=\"#F8F8F8\" height=\"25.0938\" rx=\"10\" ry=\"10\" style=\"stroke: #F8F8F8; stroke-width: 1.5;\" width=\"569\" x=\"40\" y=\"50\"/><rect fill=\"#F8F8F8\" height=\"10\" style=\"stroke: #F8F8F8; stroke-width: 1.5;\" width=\"569\" x=\"40\" y=\"65.0938\"/><rect fill=\"none\" height=\"370\" id=\"E2\" rx=\"10\" ry=\"10\" style=\"stroke: #383838; stroke-width: 1.5;\" width=\"569\" x=\"40\" y=\"50\"/><text fill=\"#000000\" font-family=\"sans-serif\" font-size=\"12\" lengthAdjust=\"spacingAndGlyphs\" textLength=\"47\" x=\"301\" y=\"67.457\">eVehicle</text><line style=\"stroke: #383838; stroke-width: 1.0;\" x1=\"40\" x2=\"609\" y1=\"75.0938\" y2=\"75.0938\"/></a><!--MD5=[de5ec2e2e8f62f467e546659f5068c88]\n",
       "cluster E5--><a href=\"psysml:8cbeadd8-fec1-4653-a829-6739a378a8c9\" target=\"_top\" title=\"psysml:8cbeadd8-fec1-4653-a829-6739a378a8c9\" xlink:actuate=\"onRequest\" xlink:href=\"psysml:8cbeadd8-fec1-4653-a829-6739a378a8c9\" xlink:show=\"new\" xlink:title=\"psysml:8cbeadd8-fec1-4653-a829-6739a378a8c9\" xlink:type=\"simple\"><rect fill=\"#FFFFFF\" height=\"178\" id=\"E5\" rx=\"10\" ry=\"10\" style=\"stroke: #383838; stroke-width: 1.5;\" width=\"140\" x=\"445\" y=\"218\"/><rect fill=\"#F8F8F8\" height=\"25.0938\" rx=\"10\" ry=\"10\" style=\"stroke: #F8F8F8; stroke-width: 1.5;\" width=\"140\" x=\"445\" y=\"218\"/><rect fill=\"#F8F8F8\" height=\"10\" style=\"stroke: #F8F8F8; stroke-width: 1.5;\" width=\"140\" x=\"445\" y=\"233.0938\"/><rect fill=\"none\" height=\"178\" id=\"E5\" rx=\"10\" ry=\"10\" style=\"stroke: #383838; stroke-width: 1.5;\" width=\"140\" x=\"445\" y=\"218\"/><text fill=\"#000000\" font-family=\"sans-serif\" font-size=\"12\" lengthAdjust=\"spacingAndGlyphs\" textLength=\"79\" x=\"475.5\" y=\"235.457\">battery: Battery</text><line style=\"stroke: #383838; stroke-width: 1.0;\" x1=\"445\" x2=\"585\" y1=\"243.0938\" y2=\"243.0938\"/></a><!--MD5=[55dfccfc6c49c2d10cd1bd2211a6c90c]\n",
       "cluster E8--><a href=\"psysml:9937dcd0-d3d9-4533-b385-b17933ed340e\" target=\"_top\" title=\"psysml:9937dcd0-d3d9-4533-b385-b17933ed340e\" xlink:actuate=\"onRequest\" xlink:href=\"psysml:9937dcd0-d3d9-4533-b385-b17933ed340e\" xlink:show=\"new\" xlink:title=\"psysml:9937dcd0-d3d9-4533-b385-b17933ed340e\" xlink:type=\"simple\"><rect fill=\"#FFFFFF\" height=\"88\" id=\"E8\" rx=\"10\" ry=\"10\" style=\"stroke: #383838; stroke-width: 1.5;\" width=\"138\" x=\"219\" y=\"164\"/><rect fill=\"#F8F8F8\" height=\"25.0938\" rx=\"10\" ry=\"10\" style=\"stroke: #F8F8F8; stroke-width: 1.5;\" width=\"138\" x=\"219\" y=\"164\"/><rect fill=\"#F8F8F8\" height=\"10\" style=\"stroke: #F8F8F8; stroke-width: 1.5;\" width=\"138\" x=\"219\" y=\"179.0938\"/><rect fill=\"none\" height=\"88\" id=\"E8\" rx=\"10\" ry=\"10\" style=\"stroke: #383838; stroke-width: 1.5;\" width=\"138\" x=\"219\" y=\"164\"/><text fill=\"#000000\" font-family=\"sans-serif\" font-size=\"12\" lengthAdjust=\"spacingAndGlyphs\" textLength=\"83\" x=\"246.5\" y=\"181.457\">engine: Engine</text><line style=\"stroke: #383838; stroke-width: 1.0;\" x1=\"219\" x2=\"357\" y1=\"189.0938\" y2=\"189.0938\"/></a><!--MD5=[09b614a08d8cba4a07c9adeb5e0fee81]\n",
       "class E3--><a href=\"psysml:53c839d0-bced-4224-8e6b-ca2cb5446b82\" target=\"_top\" title=\"psysml:53c839d0-bced-4224-8e6b-ca2cb5446b82\" xlink:actuate=\"onRequest\" xlink:href=\"psysml:53c839d0-bced-4224-8e6b-ca2cb5446b82\" xlink:show=\"new\" xlink:title=\"psysml:53c839d0-bced-4224-8e6b-ca2cb5446b82\" xlink:type=\"simple\"><rect fill=\"#FFFFFF\" height=\"48.1875\" id=\"E3\" rx=\"10\" ry=\"10\" style=\"stroke: #383838; stroke-width: 1.5;\" width=\"107\" x=\"374.5\" y=\"86\"/><text fill=\"#000000\" font-family=\"sans-serif\" font-size=\"12\" font-style=\"italic\" lengthAdjust=\"spacingAndGlyphs\" textLength=\"59\" x=\"398.5\" y=\"103.457\">«attribute»</text><text fill=\"#000000\" font-family=\"sans-serif\" font-size=\"12\" lengthAdjust=\"spacingAndGlyphs\" textLength=\"101\" x=\"377.5\" y=\"118.5508\">maxSpeed: Speed</text><line style=\"stroke: #383838; stroke-width: 1.5;\" x1=\"375.5\" x2=\"480.5\" y1=\"126.1875\" y2=\"126.1875\"/></a><g id=\"E1.E2.E4\"><a href=\"psysml:acab99ae-07e6-424a-abec-6e3c73a21f8e\" target=\"_top\" title=\"psysml:acab99ae-07e6-424a-abec-6e3c73a21f8e\" xlink:actuate=\"onRequest\" xlink:href=\"psysml:acab99ae-07e6-424a-abec-6e3c73a21f8e\" xlink:show=\"new\" xlink:title=\"psysml:acab99ae-07e6-424a-abec-6e3c73a21f8e\" xlink:type=\"simple\"><rect fill=\"#FFFFFF\" height=\"40\" id=\"E4\" rx=\"10\" ry=\"10\" style=\"stroke: #383838; stroke-width: 1.5;\" width=\"50\" x=\"211\" y=\"328\"/><rect fill=\"#F8F8F8\" height=\"25.0938\" rx=\"10\" ry=\"10\" style=\"stroke: #F8F8F8; stroke-width: 1.5;\" width=\"50\" x=\"211\" y=\"328\"/><rect fill=\"#F8F8F8\" height=\"10\" style=\"stroke: #F8F8F8; stroke-width: 1.5;\" width=\"50\" x=\"211\" y=\"343.0938\"/><rect fill=\"none\" height=\"40\" id=\"E4\" rx=\"10\" ry=\"10\" style=\"stroke: #383838; stroke-width: 1.5;\" width=\"50\" x=\"211\" y=\"328\"/><text fill=\"#000000\" font-family=\"sans-serif\" font-size=\"12\" lengthAdjust=\"spacingAndGlyphs\" textLength=\"26\" x=\"223\" y=\"345.457\">body</text></a></g><!--MD5=[60a26617385b1d2d0262a64233df1f8d]\n",
       "class E6--><a href=\"psysml:93132713-db31-4e0c-b4cb-8004d5922270\" target=\"_top\" title=\"psysml:93132713-db31-4e0c-b4cb-8004d5922270\" xlink:actuate=\"onRequest\" xlink:href=\"psysml:93132713-db31-4e0c-b4cb-8004d5922270\" xlink:show=\"new\" xlink:title=\"psysml:93132713-db31-4e0c-b4cb-8004d5922270\" xlink:type=\"simple\"><rect fill=\"#FFFFFF\" height=\"48.1875\" id=\"E6\" rx=\"10\" ry=\"10\" style=\"stroke: #383838; stroke-width: 1.5;\" width=\"61\" x=\"468.5\" y=\"324\"/><text fill=\"#000000\" font-family=\"sans-serif\" font-size=\"12\" font-style=\"italic\" lengthAdjust=\"spacingAndGlyphs\" textLength=\"59\" x=\"469.5\" y=\"341.457\">«attribute»</text><text fill=\"#000000\" font-family=\"sans-serif\" font-size=\"12\" lengthAdjust=\"spacingAndGlyphs\" textLength=\"44\" x=\"477\" y=\"356.5508\">capacity</text><line style=\"stroke: #383838; stroke-width: 1.5;\" x1=\"469.5\" x2=\"528.5\" y1=\"364.1875\" y2=\"364.1875\"/></a><text fill=\"#000000\" font-family=\"sans-serif\" font-size=\"14\" lengthAdjust=\"spacingAndGlyphs\" textLength=\"157\" x=\"384.5\" y=\"196.9238\">powerOut: PowerOutPort</text><rect fill=\"#383838\" height=\"12\" style=\"stroke: #F8F8F8; stroke-width: 1.5;\" width=\"12\" x=\"457\" y=\"212\"/><text fill=\"#000000\" font-family=\"sans-serif\" font-size=\"14\" lengthAdjust=\"spacingAndGlyphs\" textLength=\"153\" x=\"262.5\" y=\"142.9238\">powerIn: ~PowerOutPort</text><rect fill=\"#383838\" height=\"12\" style=\"stroke: #F8F8F8; stroke-width: 1.5;\" width=\"12\" x=\"333\" y=\"158\"/><g id=\"E1.E2.E10\"><a href=\"psysml:683e5489-8afa-43b4-9a46-0a95570d227c\" target=\"_top\" title=\"psysml:683e5489-8afa-43b4-9a46-0a95570d227c\" xlink:actuate=\"onRequest\" xlink:href=\"psysml:683e5489-8afa-43b4-9a46-0a95570d227c\" xlink:show=\"new\" xlink:title=\"psysml:683e5489-8afa-43b4-9a46-0a95570d227c\" xlink:type=\"simple\"><rect fill=\"#FFFFFF\" height=\"40\" id=\"E10\" rx=\"10\" ry=\"10\" style=\"stroke: #383838; stroke-width: 1.5;\" width=\"57\" x=\"145.5\" y=\"144\"/><rect fill=\"#F8F8F8\" height=\"25.0938\" rx=\"10\" ry=\"10\" style=\"stroke: #F8F8F8; stroke-width: 1.5;\" width=\"57\" x=\"145.5\" y=\"144\"/><rect fill=\"#F8F8F8\" height=\"10\" style=\"stroke: #F8F8F8; stroke-width: 1.5;\" width=\"57\" x=\"145.5\" y=\"159.0938\"/><rect fill=\"none\" height=\"40\" id=\"E10\" rx=\"10\" ry=\"10\" style=\"stroke: #383838; stroke-width: 1.5;\" width=\"57\" x=\"145.5\" y=\"144\"/><text fill=\"#000000\" font-family=\"sans-serif\" font-size=\"12\" lengthAdjust=\"spacingAndGlyphs\" textLength=\"46\" x=\"151\" y=\"161.457\">frontAxis</text></a></g><g id=\"E1.E2.E11\"><a href=\"psysml:61afc09c-c87e-47d4-b1af-a0fe2769d087\" target=\"_top\" title=\"psysml:61afc09c-c87e-47d4-b1af-a0fe2769d087\" xlink:actuate=\"onRequest\" xlink:href=\"psysml:61afc09c-c87e-47d4-b1af-a0fe2769d087\" xlink:show=\"new\" xlink:title=\"psysml:61afc09c-c87e-47d4-b1af-a0fe2769d087\" xlink:type=\"simple\"><rect fill=\"#FFFFFF\" height=\"40\" id=\"E11\" rx=\"10\" ry=\"10\" style=\"stroke: #383838; stroke-width: 1.5;\" width=\"55\" x=\"97.5\" y=\"274\"/><rect fill=\"#F8F8F8\" height=\"25.0938\" rx=\"10\" ry=\"10\" style=\"stroke: #F8F8F8; stroke-width: 1.5;\" width=\"55\" x=\"97.5\" y=\"274\"/><rect fill=\"#F8F8F8\" height=\"10\" style=\"stroke: #F8F8F8; stroke-width: 1.5;\" width=\"55\" x=\"97.5\" y=\"289.0938\"/><rect fill=\"none\" height=\"40\" id=\"E11\" rx=\"10\" ry=\"10\" style=\"stroke: #383838; stroke-width: 1.5;\" width=\"55\" x=\"97.5\" y=\"274\"/><text fill=\"#000000\" font-family=\"sans-serif\" font-size=\"12\" lengthAdjust=\"spacingAndGlyphs\" textLength=\"44\" x=\"103\" y=\"291.457\">rearAxis</text></a></g><g id=\"E1.E2.E12\"><a href=\"psysml:8d23be7e-1dcf-4d2f-baf3-4d1520ffdfd2\" target=\"_top\" title=\"psysml:8d23be7e-1dcf-4d2f-baf3-4d1520ffdfd2\" xlink:actuate=\"onRequest\" xlink:href=\"psysml:8d23be7e-1dcf-4d2f-baf3-4d1520ffdfd2\" xlink:show=\"new\" xlink:title=\"psysml:8d23be7e-1dcf-4d2f-baf3-4d1520ffdfd2\" xlink:type=\"simple\"><rect fill=\"#FFFFFF\" height=\"40\" id=\"E12\" rx=\"10\" ry=\"10\" style=\"stroke: #383838; stroke-width: 1.5;\" width=\"111\" x=\"118.5\" y=\"90\"/><rect fill=\"#F8F8F8\" height=\"25.0938\" rx=\"10\" ry=\"10\" style=\"stroke: #F8F8F8; stroke-width: 1.5;\" width=\"111\" x=\"118.5\" y=\"90\"/><rect fill=\"#F8F8F8\" height=\"10\" style=\"stroke: #F8F8F8; stroke-width: 1.5;\" width=\"111\" x=\"118.5\" y=\"105.0938\"/><rect fill=\"none\" height=\"40\" id=\"E12\" rx=\"10\" ry=\"10\" style=\"stroke: #383838; stroke-width: 1.5;\" width=\"111\" x=\"118.5\" y=\"90\"/><text fill=\"#000000\" font-family=\"sans-serif\" font-size=\"12\" lengthAdjust=\"spacingAndGlyphs\" textLength=\"100\" x=\"124\" y=\"107.457\">frontWheel: Wheel</text></a></g><g id=\"E1.E2.E13\"><a href=\"psysml:c77b17b1-a64a-4cf0-a98e-cc1df8dc39e6\" target=\"_top\" title=\"psysml:c77b17b1-a64a-4cf0-a98e-cc1df8dc39e6\" xlink:actuate=\"onRequest\" xlink:href=\"psysml:c77b17b1-a64a-4cf0-a98e-cc1df8dc39e6\" xlink:show=\"new\" xlink:title=\"psysml:c77b17b1-a64a-4cf0-a98e-cc1df8dc39e6\" xlink:type=\"simple\"><rect fill=\"#FFFFFF\" height=\"40\" id=\"E13\" rx=\"10\" ry=\"10\" style=\"stroke: #383838; stroke-width: 1.5;\" width=\"109\" x=\"56.5\" y=\"198\"/><rect fill=\"#F8F8F8\" height=\"25.0938\" rx=\"10\" ry=\"10\" style=\"stroke: #F8F8F8; stroke-width: 1.5;\" width=\"109\" x=\"56.5\" y=\"198\"/><rect fill=\"#F8F8F8\" height=\"10\" style=\"stroke: #F8F8F8; stroke-width: 1.5;\" width=\"109\" x=\"56.5\" y=\"213.0938\"/><rect fill=\"none\" height=\"40\" id=\"E13\" rx=\"10\" ry=\"10\" style=\"stroke: #383838; stroke-width: 1.5;\" width=\"109\" x=\"56.5\" y=\"198\"/><text fill=\"#000000\" font-family=\"sans-serif\" font-size=\"12\" lengthAdjust=\"spacingAndGlyphs\" textLength=\"98\" x=\"62\" y=\"215.457\">rearWheel: Wheel</text></a></g><!--MD5=[cf04703ca05eebef50f1cfe8b03e143b]\n",
       "link E9 to E7--><a href=\"psysml:3b5522a7-a336-49ea-b156-879ce0017c6f\" target=\"_top\" title=\"psysml:3b5522a7-a336-49ea-b156-879ce0017c6f\" xlink:actuate=\"onRequest\" xlink:href=\"psysml:3b5522a7-a336-49ea-b156-879ce0017c6f\" xlink:show=\"new\" xlink:title=\"psysml:3b5522a7-a336-49ea-b156-879ce0017c6f\" xlink:type=\"simple\"><path d=\"M345.32,167.65 C366.64,176.591 435.761,205.577 456.84,214.417 \" fill=\"none\" id=\"E9-E7\" style=\"stroke: #383838; stroke-width: 3.0;\"/></a><!--MD5=[211124029f8d90d89da20960a30e5017]\n",
       "link E10 to E8--><a href=\"psysml:88cbeb0a-baeb-4a99-8cfa-46443941f707\" target=\"_top\" title=\"psysml:88cbeb0a-baeb-4a99-8cfa-46443941f707\" xlink:actuate=\"onRequest\" xlink:href=\"psysml:88cbeb0a-baeb-4a99-8cfa-46443941f707\" xlink:show=\"new\" xlink:title=\"psysml:88cbeb0a-baeb-4a99-8cfa-46443941f707\" xlink:type=\"simple\"><path d=\"M202.835,180.486 C205.564,181.745 208.314,182.938 211,184 C214.0093,185.1893 216.4968,186.0273 218.7271,186.6796 C218.7968,186.7 218.8662,186.7202 218.9354,186.7402 \" fill=\"none\" id=\"E10-E8\" style=\"stroke: #383838; stroke-width: 3.0;\"/></a><!--MD5=[65481eef76a7486101c58ded21a552db]\n",
       "link E12 to E10--><a href=\"psysml:d5543156-cb7f-4ae6-8704-0e3bcbb6e064\" target=\"_top\" title=\"psysml:d5543156-cb7f-4ae6-8704-0e3bcbb6e064\" xlink:actuate=\"onRequest\" xlink:href=\"psysml:d5543156-cb7f-4ae6-8704-0e3bcbb6e064\" xlink:show=\"new\" xlink:title=\"psysml:d5543156-cb7f-4ae6-8704-0e3bcbb6e064\" xlink:type=\"simple\"><path d=\"M174,130.068 C174,134.589 174,139.413 174,143.935 \" fill=\"none\" id=\"E12-E10\" style=\"stroke: #383838; stroke-width: 3.0;\"/></a><!--MD5=[2cfe899c895462254056921bfb67315f]\n",
       "link E13 to E11--><a href=\"psysml:a34d32eb-8c27-4ab5-81c9-9eb0754893c8\" target=\"_top\" title=\"psysml:a34d32eb-8c27-4ab5-81c9-9eb0754893c8\" xlink:actuate=\"onRequest\" xlink:href=\"psysml:a34d32eb-8c27-4ab5-81c9-9eb0754893c8\" xlink:show=\"new\" xlink:title=\"psysml:a34d32eb-8c27-4ab5-81c9-9eb0754893c8\" xlink:type=\"simple\"><path d=\"M114.605,238.057 C116.679,249.02 119.278,262.755 121.358,273.751 \" fill=\"none\" id=\"E13-E11\" style=\"stroke: #383838; stroke-width: 3.0;\"/></a><!--MD5=[1c62de2aa5b76f0fb657ff8443a1a700]\n",
       "link E5 to E4--><a href=\"psysml:308ce73d-ced4-4c03-9c9b-429a9e249ed4\" target=\"_top\" title=\"psysml:308ce73d-ced4-4c03-9c9b-429a9e249ed4\" xlink:actuate=\"onRequest\" xlink:href=\"psysml:308ce73d-ced4-4c03-9c9b-429a9e249ed4\" xlink:show=\"new\" xlink:title=\"psysml:308ce73d-ced4-4c03-9c9b-429a9e249ed4\" xlink:type=\"simple\"><path d=\"M444.9368,311.1023 C444.8871,311.115 444.8374,311.1278 444.7877,311.1405 C443.9926,311.3444 443.1981,311.5462 442.4049,311.7455 C439.2323,312.5427 436.0815,313.3008 433,314 C371.789,327.89 298.655,338.635 261.057,343.739 \" fill=\"none\" id=\"E5-E4\" style=\"stroke: #383838; stroke-width: 3.0;\"/></a><!--MD5=[d7bb3fb34add81b710575eb3799fa2ad]\n",
       "link E8 to E4--><a href=\"psysml:b892e8e8-dc58-401d-b01f-c9d6b2022a76\" target=\"_top\" title=\"psysml:b892e8e8-dc58-401d-b01f-c9d6b2022a76\" xlink:actuate=\"onRequest\" xlink:href=\"psysml:b892e8e8-dc58-401d-b01f-c9d6b2022a76\" xlink:show=\"new\" xlink:title=\"psysml:b892e8e8-dc58-401d-b01f-c9d6b2022a76\" xlink:type=\"simple\"><path d=\"M286.4371,252.0598 C286.3674,252.191 286.2976,252.3224 286.2276,252.4541 C286.0878,252.7174 285.9474,252.9816 285.8066,253.2466 C285.5249,253.7768 285.2414,254.3105 284.9562,254.8474 C283.8151,256.9953 282.646,259.196 281.4557,261.4366 C279.075,265.9178 276.6095,270.5587 274.114,275.2561 C264.132,294.0458 253.67,313.739 246.238,327.729 \" fill=\"none\" id=\"E8-E4\" style=\"stroke: #383838; stroke-width: 3.0;\"/></a><!--MD5=[57433df93ad577f9868318758b27f148]\n",
       "link E10 to E4--><a href=\"psysml:f155bb62-4cdc-4ddb-a666-0365b1e452ab\" target=\"_top\" title=\"psysml:f155bb62-4cdc-4ddb-a666-0365b1e452ab\" xlink:actuate=\"onRequest\" xlink:href=\"psysml:f155bb62-4cdc-4ddb-a666-0365b1e452ab\" xlink:show=\"new\" xlink:title=\"psysml:f155bb62-4cdc-4ddb-a666-0365b1e452ab\" xlink:type=\"simple\"><path d=\"M180.518,184.133 C192.426,219.088 217.565,292.883 229.476,327.85 \" fill=\"none\" id=\"E10-E4\" style=\"stroke: #383838; stroke-width: 3.0;\"/></a><!--MD5=[ec94bbf1cc51e764a85f513ca72c9175]\n",
       "link E11 to E4--><a href=\"psysml:dfb43652-82fd-4f70-964f-25cd6f1ccdde\" target=\"_top\" title=\"psysml:dfb43652-82fd-4f70-964f-25cd6f1ccdde\" xlink:actuate=\"onRequest\" xlink:href=\"psysml:dfb43652-82fd-4f70-964f-25cd6f1ccdde\" xlink:show=\"new\" xlink:title=\"psysml:dfb43652-82fd-4f70-964f-25cd6f1ccdde\" xlink:type=\"simple\"><path d=\"M152.724,307.988 C170.575,316.35 193.592,327.133 210.902,335.243 \" fill=\"none\" id=\"E11-E4\" style=\"stroke: #383838; stroke-width: 3.0;\"/></a><!--MD5=[2d092458151a85f18ba381b04988d875]\n",
       "@startuml\r\n",
       "skinparam ranksep 10\r\n",
       "skinparam rectangle {\r\n",
       " backgroundColor<<block>> LightGreen\r\n",
       "}\r\n",
       "skinparam monochrome true\r\n",
       "skinparam classbackgroundcolor white\r\n",
       "skinparam shadowing false\r\n",
       "skinparam wrapWidth 300\r\n",
       "hide circle\r\n",
       "\r\n",
       "package \"eVehicle_LogicalArchitecture\" as E1  [[psysml:5023ffb2-2ff7-4e6a-8fec-13654d5df6a2 ]]  {\r\n",
       "rec usage \"eVehicle\" as E2  [[psysml:08b83bf2-4a0f-4ad5-adfa-40462f4f94aa ]] {\r\n",
       "comp usage \"maxSpeed: Speed\" as E3  <<(T,blue)attribute>> [[psysml:53c839d0-bced-4224-8e6b-ca2cb5446b82 ]] {\r\n",
       "}\r\n",
       "rec usage \"body\" as E4  [[psysml:acab99ae-07e6-424a-abec-6e3c73a21f8e ]] {\r\n",
       "}\r\n",
       "rec usage \"battery: Battery\" as E5  [[psysml:8cbeadd8-fec1-4653-a829-6739a378a8c9 ]] {\r\n",
       "comp usage \"capacity\" as E6  <<(T,blue)attribute>> [[psysml:93132713-db31-4e0c-b4cb-8004d5922270 ]] {\r\n",
       "}\r\n",
       "portin \"powerOut: PowerOutPort\" as E7  <<(T,blue)port>> [[psysml:0d475912-6394-4887-80a9-736d4cbcd2be ]] \r\n",
       "}\r\n",
       "rec usage \"engine: Engine\" as E8  [[psysml:9937dcd0-d3d9-4533-b385-b17933ed340e ]] {\r\n",
       "portin \"powerIn: ~PowerOutPort\" as E9  <<(T,blue)port>> [[psysml:3393f795-1105-4b00-bf5f-d107528d7895 ]] \r\n",
       "}\r\n",
       "rec usage \"frontAxis\" as E10  [[psysml:683e5489-8afa-43b4-9a46-0a95570d227c ]] {\r\n",
       "}\r\n",
       "rec usage \"rearAxis\" as E11  [[psysml:61afc09c-c87e-47d4-b1af-a0fe2769d087 ]] {\r\n",
       "}\r\n",
       "rec usage \"frontWheel: Wheel\" as E12  [[psysml:8d23be7e-1dcf-4d2f-baf3-4d1520ffdfd2 ]] {\r\n",
       "}\r\n",
       "rec usage \"rearWheel: Wheel\" as E13  [[psysml:c77b17b1-a64a-4cf0-a98e-cc1df8dc39e6 ]] {\r\n",
       "}\r\n",
       "}\r\n",
       "E9 -[thickness=3]- E7 [[psysml:3b5522a7-a336-49ea-b156-879ce0017c6f ]] \r\n",
       "E10 -[thickness=3]- E8 [[psysml:88cbeb0a-baeb-4a99-8cfa-46443941f707 ]] \r\n",
       "E12 -[thickness=3]- E10 [[psysml:d5543156-cb7f-4ae6-8704-0e3bcbb6e064 ]] \r\n",
       "E13 -[thickness=3]- E11 [[psysml:a34d32eb-8c27-4ab5-81c9-9eb0754893c8 ]] \r\n",
       "E5 -[thickness=3]- E4 [[psysml:308ce73d-ced4-4c03-9c9b-429a9e249ed4 ]] \r\n",
       "E8 -[thickness=3]- E4 [[psysml:b892e8e8-dc58-401d-b01f-c9d6b2022a76 ]] \r\n",
       "E10 -[thickness=3]- E4 [[psysml:f155bb62-4cdc-4ddb-a666-0365b1e452ab ]] \r\n",
       "E11 -[thickness=3]- E4 [[psysml:dfb43652-82fd-4f70-964f-25cd6f1ccdde ]] \r\n",
       "}\r\n",
       "@enduml\r\n",
       "\n",
       "PlantUML version 1.2020.13(Sat Jun 13 14:26:38 CEST 2020)\n",
       "(EPL source distribution)\n",
       "Java Runtime: OpenJDK Runtime Environment\n",
       "JVM: OpenJDK 64-Bit Server VM\n",
       "Default Encoding: Cp1252\n",
       "Language: en\n",
       "Country: US\n",
       "--></g></svg>"
      ]
     },
     "execution_count": 65,
     "metadata": {},
     "output_type": "execute_result"
    }
   ],
   "source": [
    "%viz --view=interconnection eVehicle_LogicalArchitecture"
   ]
  },
  {
   "cell_type": "markdown",
   "metadata": {},
   "source": [
    "The structure *eVehicle/axis/wheel/lugBolt* can easily be modeled with SysML v1. It is slightly different in that in SysML v1 we have to use types, i.e. blocks, and cannot model parts directly.\n",
    "\n",
    "![SysML v1 eVehicle Model](sysmlv1-variability-example-core.jpg)\n",
    "\n",
    "Now, if we introduce variants of lug bolts, this variance ripples up through the entire structure:\n",
    "\n",
    "![SysML v1 eVehicle Model - Variability explosion](sysmlv1-variability-example-explosion.jpg)\n",
    "\n",
    "In SysML v2 it looks like this:"
   ]
  },
  {
   "cell_type": "code",
   "execution_count": 66,
   "metadata": {},
   "outputs": [
    {
     "data": {
      "text/plain": [
       "Package eVehicleVariants_ExplosionExample (4842ca91-cb58-45d5-bef7-7b292d77b63b)\n",
       "Package eVehicle_LogicalArchitecture_ExplosionExample (c45f6b55-c7fd-4f04-afa3-2997aa8f3401)\n"
      ]
     },
     "execution_count": 66,
     "metadata": {},
     "output_type": "execute_result"
    }
   ],
   "source": [
    "package eVehicleVariants_ExplosionExample {\n",
    "    part lugBolt42;\n",
    "    part lugBolt23;\n",
    "}\n",
    "\n",
    "package eVehicle_LogicalArchitecture_ExplosionExample {\n",
    "    \n",
    "    import eVehicleDefinitions::*;\n",
    "    import eVehicleLibrary::*;\n",
    "    import eVehicleVariants_ExplosionExample::*;\n",
    "        \n",
    "    part eVehicle {    \n",
    "        part engine : Engine;\n",
    "\n",
    "        part frontAxis {\n",
    "            part frontWheel[2] {\n",
    "                /*-----------------------------\n",
    "                 * Definition of the variation\n",
    "                 * ----------------------------*/\n",
    "                variation part lugBolt[6] {\n",
    "                    variant part lugBolt23;\n",
    "                    variant part lugBolt42;  \n",
    "                }\n",
    "                part boltCircle;\n",
    "                connect boltCircle to lugBolt;\n",
    "            }\n",
    "            part housing;            \n",
    "            connect housing to frontWheel;\n",
    "        }\n",
    "        \n",
    "        part rearAxis {\n",
    "            part rearWheel[2] {\n",
    "                part lugBolt[6];\n",
    "                part boltCircle;\n",
    "                connect boltCircle to lugBolt;\n",
    "            }\n",
    "            part housing;    \n",
    "            connect housing to rearWheel;\n",
    "        }        \n",
    "        connect engine to frontAxis;\n",
    "    }\n",
    "}"
   ]
  },
  {
   "cell_type": "code",
   "execution_count": 67,
   "metadata": {},
   "outputs": [
    {
     "data": {
      "image/svg+xml": [
       "<?xml version=\"1.0\" encoding=\"UTF-8\" standalone=\"no\"?><svg xmlns=\"http://www.w3.org/2000/svg\" xmlns:xlink=\"http://www.w3.org/1999/xlink\" contentScriptType=\"application/ecmascript\" contentStyleType=\"text/css\" height=\"335px\" preserveAspectRatio=\"none\" style=\"width:897px;height:335px;\" version=\"1.1\" viewBox=\"0 0 897 335\" width=\"897px\" zoomAndPan=\"magnify\"><defs/><g><!--MD5=[fbc87193dbaf4d95561dea2c320d4a47]\n",
       "cluster E1--><a href=\"psysml:5023ffb2-2ff7-4e6a-8fec-13654d5df6a2\" target=\"_top\" title=\"psysml:5023ffb2-2ff7-4e6a-8fec-13654d5df6a2\" xlink:actuate=\"onRequest\" xlink:href=\"psysml:5023ffb2-2ff7-4e6a-8fec-13654d5df6a2\" xlink:show=\"new\" xlink:title=\"psysml:5023ffb2-2ff7-4e6a-8fec-13654d5df6a2\" xlink:type=\"simple\"><polygon fill=\"#FFFFFF\" points=\"16,6,228,6,235,29.6094,875,29.6094,875,323,16,323,16,6\" style=\"stroke: #000000; stroke-width: 1.5;\"/><line style=\"stroke: #000000; stroke-width: 1.5;\" x1=\"16\" x2=\"235\" y1=\"29.6094\" y2=\"29.6094\"/><text fill=\"#000000\" font-family=\"sans-serif\" font-size=\"14\" font-weight=\"bold\" lengthAdjust=\"spacingAndGlyphs\" textLength=\"206\" x=\"20\" y=\"22.5332\">eVehicle_LogicalArchitecture</text></a><!--MD5=[b4997ac47864f28c2f74865a473b2911]\n",
       "class E2--><a href=\"psysml:08b83bf2-4a0f-4ad5-adfa-40462f4f94aa\" target=\"_top\" title=\"psysml:08b83bf2-4a0f-4ad5-adfa-40462f4f94aa\" xlink:actuate=\"onRequest\" xlink:href=\"psysml:08b83bf2-4a0f-4ad5-adfa-40462f4f94aa\" xlink:show=\"new\" xlink:title=\"psysml:08b83bf2-4a0f-4ad5-adfa-40462f4f94aa\" xlink:type=\"simple\"><rect fill=\"#FFFFFF\" height=\"79.8594\" id=\"E2\" rx=\"10\" ry=\"10\" style=\"stroke: #383838; stroke-width: 1.5;\" width=\"127\" x=\"404.5\" y=\"42\"/><text fill=\"#000000\" font-family=\"sans-serif\" font-size=\"12\" font-style=\"italic\" lengthAdjust=\"spacingAndGlyphs\" textLength=\"35\" x=\"450.5\" y=\"59.457\">«part»</text><text fill=\"#000000\" font-family=\"sans-serif\" font-size=\"12\" lengthAdjust=\"spacingAndGlyphs\" textLength=\"47\" x=\"444.5\" y=\"74.5508\">eVehicle</text><line style=\"stroke: #383838; stroke-width: 1.5;\" x1=\"405.5\" x2=\"530.5\" y1=\"82.1875\" y2=\"82.1875\"/><text fill=\"#000000\" font-family=\"sans-serif\" font-size=\"11\" lengthAdjust=\"spacingAndGlyphs\" textLength=\"115\" x=\"410.5\" y=\"115.4424\">maxSpeed: Speed=142;</text><line style=\"stroke: #383838; stroke-width: 1.0;\" x1=\"405.5\" x2=\"445.5\" y1=\"97.1055\" y2=\"97.1055\"/><text fill=\"#000000\" font-family=\"sans-serif\" font-size=\"11\" lengthAdjust=\"spacingAndGlyphs\" textLength=\"45\" x=\"445.5\" y=\"101.1064\">attributes</text><line style=\"stroke: #383838; stroke-width: 1.0;\" x1=\"490.5\" x2=\"530.5\" y1=\"97.1055\" y2=\"97.1055\"/></a><!--MD5=[09b614a08d8cba4a07c9adeb5e0fee81]\n",
       "class E3--><a href=\"psysml:acab99ae-07e6-424a-abec-6e3c73a21f8e\" target=\"_top\" title=\"psysml:acab99ae-07e6-424a-abec-6e3c73a21f8e\" xlink:actuate=\"onRequest\" xlink:href=\"psysml:acab99ae-07e6-424a-abec-6e3c73a21f8e\" xlink:show=\"new\" xlink:title=\"psysml:acab99ae-07e6-424a-abec-6e3c73a21f8e\" xlink:type=\"simple\"><rect fill=\"#FFFFFF\" height=\"48.1875\" id=\"E3\" rx=\"10\" ry=\"10\" style=\"stroke: #383838; stroke-width: 1.5;\" width=\"37\" x=\"32.5\" y=\"220.5\"/><text fill=\"#000000\" font-family=\"sans-serif\" font-size=\"12\" font-style=\"italic\" lengthAdjust=\"spacingAndGlyphs\" textLength=\"35\" x=\"33.5\" y=\"237.957\">«part»</text><text fill=\"#000000\" font-family=\"sans-serif\" font-size=\"12\" lengthAdjust=\"spacingAndGlyphs\" textLength=\"26\" x=\"38\" y=\"253.0508\">body</text><line style=\"stroke: #383838; stroke-width: 1.5;\" x1=\"33.5\" x2=\"68.5\" y1=\"260.6875\" y2=\"260.6875\"/></a><!--MD5=[ebbe1d658d1005bcc118a6aa81145e00]\n",
       "class E4--><a href=\"psysml:8cbeadd8-fec1-4653-a829-6739a378a8c9\" target=\"_top\" title=\"psysml:8cbeadd8-fec1-4653-a829-6739a378a8c9\" xlink:actuate=\"onRequest\" xlink:href=\"psysml:8cbeadd8-fec1-4653-a829-6739a378a8c9\" xlink:show=\"new\" xlink:title=\"psysml:8cbeadd8-fec1-4653-a829-6739a378a8c9\" xlink:type=\"simple\"><rect fill=\"#FFFFFF\" height=\"125.3672\" id=\"E4\" rx=\"10\" ry=\"10\" style=\"stroke: #383838; stroke-width: 1.5;\" width=\"135\" x=\"104.5\" y=\"182\"/><text fill=\"#000000\" font-family=\"sans-serif\" font-size=\"12\" font-style=\"italic\" lengthAdjust=\"spacingAndGlyphs\" textLength=\"35\" x=\"154.5\" y=\"199.457\">«part»</text><text fill=\"#000000\" font-family=\"sans-serif\" font-size=\"12\" lengthAdjust=\"spacingAndGlyphs\" textLength=\"79\" x=\"132.5\" y=\"214.5508\">battery: Battery</text><line style=\"stroke: #383838; stroke-width: 1.5;\" x1=\"105.5\" x2=\"238.5\" y1=\"222.1875\" y2=\"222.1875\"/><text fill=\"#000000\" font-family=\"sans-serif\" font-size=\"11\" lengthAdjust=\"spacingAndGlyphs\" textLength=\"62\" x=\"110.5\" y=\"255.4424\">capacity=42;</text><text fill=\"#000000\" font-family=\"sans-serif\" font-size=\"11\" font-style=\"italic\" lengthAdjust=\"spacingAndGlyphs\" textLength=\"96\" x=\"110.5\" y=\"269.2783\">:&gt;&gt;Battery::capacity</text><line style=\"stroke: #383838; stroke-width: 1.0;\" x1=\"105.5\" x2=\"149.5\" y1=\"237.1055\" y2=\"237.1055\"/><text fill=\"#000000\" font-family=\"sans-serif\" font-size=\"11\" lengthAdjust=\"spacingAndGlyphs\" textLength=\"45\" x=\"149.5\" y=\"241.1064\">attributes</text><line style=\"stroke: #383838; stroke-width: 1.0;\" x1=\"194.5\" x2=\"238.5\" y1=\"237.1055\" y2=\"237.1055\"/><text fill=\"#000000\" font-family=\"sans-serif\" font-size=\"11\" lengthAdjust=\"spacingAndGlyphs\" textLength=\"123\" x=\"110.5\" y=\"300.9502\">powerOut: PowerOutPort</text><line style=\"stroke: #383838; stroke-width: 1.0;\" x1=\"105.5\" x2=\"159.5\" y1=\"282.6133\" y2=\"282.6133\"/><text fill=\"#000000\" font-family=\"sans-serif\" font-size=\"11\" lengthAdjust=\"spacingAndGlyphs\" textLength=\"25\" x=\"159.5\" y=\"286.6143\">ports</text><line style=\"stroke: #383838; stroke-width: 1.0;\" x1=\"184.5\" x2=\"238.5\" y1=\"282.6133\" y2=\"282.6133\"/></a><!--MD5=[60a26617385b1d2d0262a64233df1f8d]\n",
       "class E6--><a href=\"psysml:9937dcd0-d3d9-4533-b385-b17933ed340e\" target=\"_top\" title=\"psysml:9937dcd0-d3d9-4533-b385-b17933ed340e\" xlink:actuate=\"onRequest\" xlink:href=\"psysml:9937dcd0-d3d9-4533-b385-b17933ed340e\" xlink:show=\"new\" xlink:title=\"psysml:9937dcd0-d3d9-4533-b385-b17933ed340e\" xlink:type=\"simple\"><rect fill=\"#FFFFFF\" height=\"79.8594\" id=\"E6\" rx=\"10\" ry=\"10\" style=\"stroke: #383838; stroke-width: 1.5;\" width=\"132\" x=\"275\" y=\"204.5\"/><text fill=\"#000000\" font-family=\"sans-serif\" font-size=\"12\" font-style=\"italic\" lengthAdjust=\"spacingAndGlyphs\" textLength=\"35\" x=\"323.5\" y=\"221.957\">«part»</text><text fill=\"#000000\" font-family=\"sans-serif\" font-size=\"12\" lengthAdjust=\"spacingAndGlyphs\" textLength=\"83\" x=\"299.5\" y=\"237.0508\">engine: Engine</text><line style=\"stroke: #383838; stroke-width: 1.5;\" x1=\"276\" x2=\"406\" y1=\"244.6875\" y2=\"244.6875\"/><text fill=\"#000000\" font-family=\"sans-serif\" font-size=\"11\" lengthAdjust=\"spacingAndGlyphs\" textLength=\"120\" x=\"281\" y=\"277.9424\">powerIn: ~PowerOutPort</text><line style=\"stroke: #383838; stroke-width: 1.0;\" x1=\"276\" x2=\"328.5\" y1=\"259.6055\" y2=\"259.6055\"/><text fill=\"#000000\" font-family=\"sans-serif\" font-size=\"11\" lengthAdjust=\"spacingAndGlyphs\" textLength=\"25\" x=\"328.5\" y=\"263.6064\">ports</text><line style=\"stroke: #383838; stroke-width: 1.0;\" x1=\"353.5\" x2=\"406\" y1=\"259.6055\" y2=\"259.6055\"/></a><!--MD5=[b9389687b975829384b498ac4b7476b2]\n",
       "class E8--><a href=\"psysml:683e5489-8afa-43b4-9a46-0a95570d227c\" target=\"_top\" title=\"psysml:683e5489-8afa-43b4-9a46-0a95570d227c\" xlink:actuate=\"onRequest\" xlink:href=\"psysml:683e5489-8afa-43b4-9a46-0a95570d227c\" xlink:show=\"new\" xlink:title=\"psysml:683e5489-8afa-43b4-9a46-0a95570d227c\" xlink:type=\"simple\"><rect fill=\"#FFFFFF\" height=\"48.1875\" id=\"E8\" rx=\"10\" ry=\"10\" style=\"stroke: #383838; stroke-width: 1.5;\" width=\"52\" x=\"442\" y=\"220.5\"/><text fill=\"#000000\" font-family=\"sans-serif\" font-size=\"12\" font-style=\"italic\" lengthAdjust=\"spacingAndGlyphs\" textLength=\"35\" x=\"450.5\" y=\"237.957\">«part»</text><text fill=\"#000000\" font-family=\"sans-serif\" font-size=\"12\" lengthAdjust=\"spacingAndGlyphs\" textLength=\"46\" x=\"445\" y=\"253.0508\">frontAxis</text><line style=\"stroke: #383838; stroke-width: 1.5;\" x1=\"443\" x2=\"493\" y1=\"260.6875\" y2=\"260.6875\"/></a><!--MD5=[fd4143e9d270a159db93a4ea2a975926]\n",
       "class E9--><a href=\"psysml:61afc09c-c87e-47d4-b1af-a0fe2769d087\" target=\"_top\" title=\"psysml:61afc09c-c87e-47d4-b1af-a0fe2769d087\" xlink:actuate=\"onRequest\" xlink:href=\"psysml:61afc09c-c87e-47d4-b1af-a0fe2769d087\" xlink:show=\"new\" xlink:title=\"psysml:61afc09c-c87e-47d4-b1af-a0fe2769d087\" xlink:type=\"simple\"><rect fill=\"#FFFFFF\" height=\"48.1875\" id=\"E9\" rx=\"10\" ry=\"10\" style=\"stroke: #383838; stroke-width: 1.5;\" width=\"50\" x=\"529\" y=\"220.5\"/><text fill=\"#000000\" font-family=\"sans-serif\" font-size=\"12\" font-style=\"italic\" lengthAdjust=\"spacingAndGlyphs\" textLength=\"35\" x=\"536.5\" y=\"237.957\">«part»</text><text fill=\"#000000\" font-family=\"sans-serif\" font-size=\"12\" lengthAdjust=\"spacingAndGlyphs\" textLength=\"44\" x=\"532\" y=\"253.0508\">rearAxis</text><line style=\"stroke: #383838; stroke-width: 1.5;\" x1=\"530\" x2=\"578\" y1=\"260.6875\" y2=\"260.6875\"/></a><!--MD5=[96f4274e9e20536e775497830990834d]\n",
       "class E10--><a href=\"psysml:8d23be7e-1dcf-4d2f-baf3-4d1520ffdfd2\" target=\"_top\" title=\"psysml:8d23be7e-1dcf-4d2f-baf3-4d1520ffdfd2\" xlink:actuate=\"onRequest\" xlink:href=\"psysml:8d23be7e-1dcf-4d2f-baf3-4d1520ffdfd2\" xlink:show=\"new\" xlink:title=\"psysml:8d23be7e-1dcf-4d2f-baf3-4d1520ffdfd2\" xlink:type=\"simple\"><rect fill=\"#FFFFFF\" height=\"48.1875\" id=\"E10\" rx=\"10\" ry=\"10\" style=\"stroke: #383838; stroke-width: 1.5;\" width=\"106\" x=\"614\" y=\"220.5\"/><text fill=\"#000000\" font-family=\"sans-serif\" font-size=\"12\" font-style=\"italic\" lengthAdjust=\"spacingAndGlyphs\" textLength=\"35\" x=\"649.5\" y=\"237.957\">«part»</text><text fill=\"#000000\" font-family=\"sans-serif\" font-size=\"12\" lengthAdjust=\"spacingAndGlyphs\" textLength=\"100\" x=\"617\" y=\"253.0508\">frontWheel: Wheel</text><line style=\"stroke: #383838; stroke-width: 1.5;\" x1=\"615\" x2=\"719\" y1=\"260.6875\" y2=\"260.6875\"/></a><!--MD5=[1dd1bfd58a279cf63c5f349dbc8fc6a1]\n",
       "class E11--><a href=\"psysml:c77b17b1-a64a-4cf0-a98e-cc1df8dc39e6\" target=\"_top\" title=\"psysml:c77b17b1-a64a-4cf0-a98e-cc1df8dc39e6\" xlink:actuate=\"onRequest\" xlink:href=\"psysml:c77b17b1-a64a-4cf0-a98e-cc1df8dc39e6\" xlink:show=\"new\" xlink:title=\"psysml:c77b17b1-a64a-4cf0-a98e-cc1df8dc39e6\" xlink:type=\"simple\"><rect fill=\"#FFFFFF\" height=\"48.1875\" id=\"E11\" rx=\"10\" ry=\"10\" style=\"stroke: #383838; stroke-width: 1.5;\" width=\"104\" x=\"755\" y=\"220.5\"/><text fill=\"#000000\" font-family=\"sans-serif\" font-size=\"12\" font-style=\"italic\" lengthAdjust=\"spacingAndGlyphs\" textLength=\"35\" x=\"789.5\" y=\"237.957\">«part»</text><text fill=\"#000000\" font-family=\"sans-serif\" font-size=\"12\" lengthAdjust=\"spacingAndGlyphs\" textLength=\"98\" x=\"758\" y=\"253.0508\">rearWheel: Wheel</text><line style=\"stroke: #383838; stroke-width: 1.5;\" x1=\"756\" x2=\"858\" y1=\"260.6875\" y2=\"260.6875\"/></a><!--MD5=[209b3feb70ccb6233bfe1053d122c12c]\n",
       "reverse link E2 to E3--><a href=\"psysml:acab99ae-07e6-424a-abec-6e3c73a21f8e\" target=\"_top\" title=\"psysml:acab99ae-07e6-424a-abec-6e3c73a21f8e\" xlink:actuate=\"onRequest\" xlink:href=\"psysml:acab99ae-07e6-424a-abec-6e3c73a21f8e\" xlink:show=\"new\" xlink:title=\"psysml:acab99ae-07e6-424a-abec-6e3c73a21f8e\" xlink:type=\"simple\"><path d=\"M391.165,85.902 C308.438,92.628 176.665,114.16 87,182 C74.2727,191.63 65.231,207.17 59.3922,220.22 \" fill=\"none\" id=\"E2&lt;-E3\" style=\"stroke: #383838; stroke-width: 1.0;\"/><polygon fill=\"#383838\" points=\"404.258,84.928,397.9774,81.3848,392.2912,85.8194,398.5717,89.3627,404.258,84.928\" style=\"stroke: #383838; stroke-width: 1.0;\"/></a><!--MD5=[9618e71518536f8baf3342ff6fdab317]\n",
       "reverse link E2 to E4--><a href=\"psysml:8cbeadd8-fec1-4653-a829-6739a378a8c9\" target=\"_top\" title=\"psysml:8cbeadd8-fec1-4653-a829-6739a378a8c9\" xlink:actuate=\"onRequest\" xlink:href=\"psysml:8cbeadd8-fec1-4653-a829-6739a378a8c9\" xlink:show=\"new\" xlink:title=\"psysml:8cbeadd8-fec1-4653-a829-6739a378a8c9\" xlink:type=\"simple\"><path d=\"M392.432,114.657 C351.699,132.699 301.096,156.711 258,182 C251.984,185.53 245.859,189.367 239.791,193.343 \" fill=\"none\" id=\"E2&lt;-E4\" style=\"stroke: #383838; stroke-width: 1.0;\"/><polygon fill=\"#383838\" points=\"404.463,109.374,397.361,108.1241,393.4758,114.199,400.5777,115.4489,404.463,109.374\" style=\"stroke: #383838; stroke-width: 1.0;\"/></a><!--MD5=[ce036f65110ae2351ccce5a81dc2e928]\n",
       "reverse link E2 to E6--><a href=\"psysml:9937dcd0-d3d9-4533-b385-b17933ed340e\" target=\"_top\" title=\"psysml:9937dcd0-d3d9-4533-b385-b17933ed340e\" xlink:actuate=\"onRequest\" xlink:href=\"psysml:9937dcd0-d3d9-4533-b385-b17933ed340e\" xlink:show=\"new\" xlink:title=\"psysml:9937dcd0-d3d9-4533-b385-b17933ed340e\" xlink:type=\"simple\"><path d=\"M428.786,132.558 C410.512,155.652 389.08,182.737 371.967,204.365 \" fill=\"none\" id=\"E2&lt;-E6\" style=\"stroke: #383838; stroke-width: 1.0;\"/><polygon fill=\"#383838\" points=\"436.932,122.263,430.0722,124.4863,429.4861,131.6736,436.3459,129.4502,436.932,122.263\" style=\"stroke: #383838; stroke-width: 1.0;\"/></a><!--MD5=[65f962d72b3a6bed1ede4f3c867e43a4]\n",
       "reverse link E2 to E8--><a href=\"psysml:683e5489-8afa-43b4-9a46-0a95570d227c\" target=\"_top\" title=\"psysml:683e5489-8afa-43b4-9a46-0a95570d227c\" xlink:actuate=\"onRequest\" xlink:href=\"psysml:683e5489-8afa-43b4-9a46-0a95570d227c\" xlink:show=\"new\" xlink:title=\"psysml:683e5489-8afa-43b4-9a46-0a95570d227c\" xlink:type=\"simple\"><path d=\"M468,135.366 C468,163.942 468,197.906 468,220.042 \" fill=\"none\" id=\"E2&lt;-E8\" style=\"stroke: #383838; stroke-width: 1.0;\"/><polygon fill=\"#383838\" points=\"468,122.263,464,128.263,468,134.263,472,128.263,468,122.263\" style=\"stroke: #383838; stroke-width: 1.0;\"/></a><!--MD5=[4a91eb351f2fb42055d99b719d3dd418]\n",
       "reverse link E2 to E9--><a href=\"psysml:61afc09c-c87e-47d4-b1af-a0fe2769d087\" target=\"_top\" title=\"psysml:61afc09c-c87e-47d4-b1af-a0fe2769d087\" xlink:actuate=\"onRequest\" xlink:href=\"psysml:61afc09c-c87e-47d4-b1af-a0fe2769d087\" xlink:show=\"new\" xlink:title=\"psysml:61afc09c-c87e-47d4-b1af-a0fe2769d087\" xlink:type=\"simple\"><path d=\"M495.231,133.82 C510.71,162.709 529.355,197.505 541.431,220.042 \" fill=\"none\" id=\"E2&lt;-E9\" style=\"stroke: #383838; stroke-width: 1.0;\"/><polygon fill=\"#383838\" points=\"489.038,122.263,488.3461,129.4408,494.7057,132.8402,495.3976,125.6624,489.038,122.263\" style=\"stroke: #383838; stroke-width: 1.0;\"/></a><!--MD5=[711ca45a9d2d52e8f9099142e409bd9b]\n",
       "reverse link E2 to E10--><a href=\"psysml:8d23be7e-1dcf-4d2f-baf3-4d1520ffdfd2\" target=\"_top\" title=\"psysml:8d23be7e-1dcf-4d2f-baf3-4d1520ffdfd2\" xlink:actuate=\"onRequest\" xlink:href=\"psysml:8d23be7e-1dcf-4d2f-baf3-4d1520ffdfd2\" xlink:show=\"new\" xlink:title=\"psysml:8d23be7e-1dcf-4d2f-baf3-4d1520ffdfd2\" xlink:type=\"simple\"><path d=\"M531.204,130.181 C552.357,146.32 575.913,164.677 597,182 C612,194.322 628.318,208.606 641.423,220.304 \" fill=\"none\" id=\"E2&lt;-E10\" style=\"stroke: #383838; stroke-width: 1.0;\"/><polygon fill=\"#383838\" points=\"520.712,122.206,523.0682,129.0213,530.2654,129.4677,527.9093,122.6524,520.712,122.206\" style=\"stroke: #383838; stroke-width: 1.0;\"/><text fill=\"#000000\" font-family=\"sans-serif\" font-size=\"13\" lengthAdjust=\"spacingAndGlyphs\" textLength=\"7\" x=\"626.972\" y=\"209.5699\">2</text></a><!--MD5=[4707ab6d7598e99e3d49e48452b527e3]\n",
       "reverse link E2 to E11--><a href=\"psysml:c77b17b1-a64a-4cf0-a98e-cc1df8dc39e6\" target=\"_top\" title=\"psysml:c77b17b1-a64a-4cf0-a98e-cc1df8dc39e6\" xlink:actuate=\"onRequest\" xlink:href=\"psysml:c77b17b1-a64a-4cf0-a98e-cc1df8dc39e6\" xlink:show=\"new\" xlink:title=\"psysml:c77b17b1-a64a-4cf0-a98e-cc1df8dc39e6\" xlink:type=\"simple\"><path d=\"M544.277,102.597 C600.322,118.94 677.007,145.463 738,182 C755.483,192.473 772.601,207.69 785.413,220.368 \" fill=\"none\" id=\"E2&lt;-E11\" style=\"stroke: #383838; stroke-width: 1.0;\"/><polygon fill=\"#383838\" points=\"531.573,98.963,536.2419,104.4586,543.1105,102.2624,538.4416,96.7669,531.573,98.963\" style=\"stroke: #383838; stroke-width: 1.0;\"/><text fill=\"#000000\" font-family=\"sans-serif\" font-size=\"13\" lengthAdjust=\"spacingAndGlyphs\" textLength=\"7\" x=\"771.9845\" y=\"209.6503\">2</text></a><!--MD5=[fa93814d18d6b1c1c4a9cfeaa48212ae]\n",
       "@startuml\r\n",
       "skinparam monochrome true\r\n",
       "skinparam classbackgroundcolor white\r\n",
       "skinparam shadowing false\r\n",
       "skinparam wrapWidth 300\r\n",
       "hide circle\r\n",
       "\r\n",
       "package \"eVehicle_LogicalArchitecture\" as E1  [[psysml:5023ffb2-2ff7-4e6a-8fec-13654d5df6a2 ]]  {\r\n",
       "comp usage \"eVehicle\" as E2  <<(T,blue)part>> [[psysml:08b83bf2-4a0f-4ad5-adfa-40462f4f94aa ]] {\r\n",
       "- - attributes - -\r\n",
       "maxSpeed: Speed=142; \r\n",
       "}\r\n",
       "comp usage \"body\" as E3  <<(T,blue)part>> [[psysml:acab99ae-07e6-424a-abec-6e3c73a21f8e ]] {\r\n",
       "}\r\n",
       "comp usage \"battery: Battery\" as E4  <<(T,blue)part>> [[psysml:8cbeadd8-fec1-4653-a829-6739a378a8c9 ]] {\r\n",
       "- - attributes - -\r\n",
       "capacity=42; \\n//:>>Battery::capacity// \r\n",
       "- - ports - -\r\n",
       "powerOut: PowerOutPort\r\n",
       "}\r\n",
       "comp usage \"engine: Engine\" as E6  <<(T,blue)part>> [[psysml:9937dcd0-d3d9-4533-b385-b17933ed340e ]] {\r\n",
       "- - ports - -\r\n",
       "powerIn: ~PowerOutPort\r\n",
       "}\r\n",
       "comp usage \"frontAxis\" as E8  <<(T,blue)part>> [[psysml:683e5489-8afa-43b4-9a46-0a95570d227c ]] {\r\n",
       "}\r\n",
       "comp usage \"rearAxis\" as E9  <<(T,blue)part>> [[psysml:61afc09c-c87e-47d4-b1af-a0fe2769d087 ]] {\r\n",
       "}\r\n",
       "comp usage \"frontWheel: Wheel\" as E10  <<(T,blue)part>> [[psysml:8d23be7e-1dcf-4d2f-baf3-4d1520ffdfd2 ]] {\r\n",
       "}\r\n",
       "comp usage \"rearWheel: Wheel\" as E11  <<(T,blue)part>> [[psysml:c77b17b1-a64a-4cf0-a98e-cc1df8dc39e6 ]] {\r\n",
       "}\r\n",
       "E2 *- - E3 [[psysml:acab99ae-07e6-424a-abec-6e3c73a21f8e ]] \r\n",
       "E2 *- - E4 [[psysml:8cbeadd8-fec1-4653-a829-6739a378a8c9 ]] \r\n",
       "E2 *- - E6 [[psysml:9937dcd0-d3d9-4533-b385-b17933ed340e ]] \r\n",
       "E2 *- - E8 [[psysml:683e5489-8afa-43b4-9a46-0a95570d227c ]] \r\n",
       "E2 *- - E9 [[psysml:61afc09c-c87e-47d4-b1af-a0fe2769d087 ]] \r\n",
       "E2 *- - \"2\"E10 [[psysml:8d23be7e-1dcf-4d2f-baf3-4d1520ffdfd2 ]] \r\n",
       "E2 *- - \"2\"E11 [[psysml:c77b17b1-a64a-4cf0-a98e-cc1df8dc39e6 ]] \r\n",
       "}\r\n",
       "@enduml\r\n",
       "\n",
       "PlantUML version 1.2020.13(Sat Jun 13 14:26:38 CEST 2020)\n",
       "(EPL source distribution)\n",
       "Java Runtime: OpenJDK Runtime Environment\n",
       "JVM: OpenJDK 64-Bit Server VM\n",
       "Default Encoding: Cp1252\n",
       "Language: en\n",
       "Country: US\n",
       "--></g></svg>"
      ]
     },
     "execution_count": 67,
     "metadata": {},
     "output_type": "execute_result"
    }
   ],
   "source": [
    "%viz --view=tree eVehicle_LogicalArchitecture"
   ]
  },
  {
   "cell_type": "markdown",
   "metadata": {},
   "source": [
    "A concrete variant configuration of the eVehicle with lug bolts *42* can be simply created by specialization:"
   ]
  },
  {
   "cell_type": "code",
   "execution_count": 68,
   "metadata": {},
   "outputs": [
    {
     "data": {
      "text/plain": [
       "Package eVehicle_Edition42 (6567d239-c3ba-49ee-a840-57a36008c7f7)\n"
      ]
     },
     "execution_count": 68,
     "metadata": {},
     "output_type": "execute_result"
    }
   ],
   "source": [
    "package eVehicle_Edition42 {\n",
    "    \n",
    "    import eVehicle_LogicalArchitecture_ExplosionExample::*;\n",
    "           \n",
    "    part eVehicle42 :> eVehicle {\n",
    "       part redefines lugBolt42 = frontAxis::frontWheel::lugBolt;\n",
    "    }\n",
    "}\n",
    "    "
   ]
  },
  {
   "cell_type": "markdown",
   "metadata": {},
   "source": [
    "## Modeling requirements<a name=\"sysmlv2modrequirements\"></a>\n",
    "\n",
    "A requirement definition is a special kind of a constraint definition including parameters and required constraints. \n",
    "\n",
    "**Do not forget to run the eVehicle_Definitions and eVehicleLibrary in section [Libraries for the eVehicle example](#sysmlv2modlibrary).**"
   ]
  },
  {
   "cell_type": "code",
   "execution_count": 69,
   "metadata": {},
   "outputs": [
    {
     "data": {
      "text/plain": [
       "Package eVehicleRequirementDefinitions (7008caa4-dcfb-44a4-b87d-090e1eb82250)\n"
      ]
     },
     "execution_count": 69,
     "metadata": {},
     "output_type": "execute_result"
    }
   ],
   "source": [
    "package eVehicleRequirementDefinitions {\n",
    "    \n",
    "    import eVehicleDefinitions::*;\n",
    "    \n",
    "    requirement def BatteryCapacityReqDef {\n",
    "        doc /* The actual battery capacity shall be greater than or equal\n",
    "             * to the required capacity. */\n",
    "\n",
    "            attribute capacityActual : BatteryCapacity;\n",
    "            attribute capacityRequired : BatteryCapacity;\n",
    "        \n",
    "            require constraint{ capacityActual <= capacityRequired }\n",
    "    }\n",
    "    \n",
    "    requirement def MaxSpeedReqDef {\n",
    "        doc /* The maximum speed of the vehicle shall be \n",
    "             * not greater than the required maximum speed. */\n",
    "            \n",
    "            attribute maxSpeedVehicle : Speed;\n",
    "            attribute maxSpeedRequired : Speed;\n",
    "        \n",
    "            require constraint{ maxSpeedVehicle <= maxSpeedRequired }\n",
    "    }\n",
    "    \n",
    "}"
   ]
  },
  {
   "cell_type": "code",
   "execution_count": 70,
   "metadata": {},
   "outputs": [
    {
     "data": {
      "image/svg+xml": [
       "<?xml version=\"1.0\" encoding=\"UTF-8\" standalone=\"no\"?><svg xmlns=\"http://www.w3.org/2000/svg\" xmlns:xlink=\"http://www.w3.org/1999/xlink\" contentScriptType=\"application/ecmascript\" contentStyleType=\"text/css\" height=\"231px\" preserveAspectRatio=\"none\" style=\"width:706px;height:231px;\" version=\"1.1\" viewBox=\"0 0 706 231\" width=\"706px\" zoomAndPan=\"magnify\"><defs/><g><!--MD5=[fbc87193dbaf4d95561dea2c320d4a47]\n",
       "cluster E1--><a href=\"psysml:ebaeaa03-8dea-4494-b761-1175efc51256\" target=\"_top\" title=\"psysml:ebaeaa03-8dea-4494-b761-1175efc51256\" xlink:actuate=\"onRequest\" xlink:href=\"psysml:ebaeaa03-8dea-4494-b761-1175efc51256\" xlink:show=\"new\" xlink:title=\"psysml:ebaeaa03-8dea-4494-b761-1175efc51256\" xlink:type=\"simple\"><polygon fill=\"#FFFFFF\" points=\"16,6,250,6,257,29.6094,684,29.6094,684,219,16,219,16,6\" style=\"stroke: #000000; stroke-width: 1.5;\"/><line style=\"stroke: #000000; stroke-width: 1.5;\" x1=\"16\" x2=\"257\" y1=\"29.6094\" y2=\"29.6094\"/><text fill=\"#000000\" font-family=\"sans-serif\" font-size=\"14\" font-weight=\"bold\" lengthAdjust=\"spacingAndGlyphs\" textLength=\"228\" x=\"20\" y=\"22.5332\">eVehicleRequirementDefinitions</text></a><!--MD5=[b4997ac47864f28c2f74865a473b2911]\n",
       "class E2--><a href=\"psysml:773c59af-e94a-4c7d-9130-910bd9a165ed\" target=\"_top\" title=\"psysml:773c59af-e94a-4c7d-9130-910bd9a165ed\" xlink:actuate=\"onRequest\" xlink:href=\"psysml:773c59af-e94a-4c7d-9130-910bd9a165ed\" xlink:show=\"new\" xlink:title=\"psysml:773c59af-e94a-4c7d-9130-910bd9a165ed\" xlink:type=\"simple\"><rect fill=\"#FFFFFF\" height=\"161.0391\" id=\"E2\" style=\"stroke: #383838; stroke-width: 1.5;\" width=\"299\" x=\"368.5\" y=\"42\"/><text fill=\"#000000\" font-family=\"sans-serif\" font-size=\"12\" font-style=\"italic\" lengthAdjust=\"spacingAndGlyphs\" textLength=\"101\" x=\"467.5\" y=\"59.457\">«requirement def»</text><text fill=\"#000000\" font-family=\"sans-serif\" font-size=\"12\" lengthAdjust=\"spacingAndGlyphs\" textLength=\"126\" x=\"455\" y=\"74.5508\">BatteryCapacityReqDef</text><line style=\"stroke: #383838; stroke-width: 1.5;\" x1=\"369.5\" x2=\"666.5\" y1=\"82.1875\" y2=\"82.1875\"/><text fill=\"#000000\" font-family=\"sans-serif\" font-size=\"11\" lengthAdjust=\"spacingAndGlyphs\" textLength=\"284\" x=\"374.5\" y=\"97.6064\">The actual battery capacity shall be greater than or equalto</text><text fill=\"#000000\" font-family=\"sans-serif\" font-size=\"11\" lengthAdjust=\"spacingAndGlyphs\" textLength=\"105\" x=\"374.5\" y=\"111.4424\">the required capacity.</text><line style=\"stroke: #383838; stroke-width: 1.0;\" x1=\"369.5\" x2=\"666.5\" y1=\"117.8594\" y2=\"117.8594\"/><text fill=\"#000000\" font-family=\"sans-serif\" font-size=\"11\" lengthAdjust=\"spacingAndGlyphs\" textLength=\"155\" x=\"374.5\" y=\"151.1143\">capacityActual: BatteryCapacity</text><text fill=\"#000000\" font-family=\"sans-serif\" font-size=\"11\" lengthAdjust=\"spacingAndGlyphs\" textLength=\"167\" x=\"374.5\" y=\"164.9502\">capacityRequired: BatteryCapacity</text><line style=\"stroke: #383838; stroke-width: 1.0;\" x1=\"369.5\" x2=\"495.5\" y1=\"132.7773\" y2=\"132.7773\"/><text fill=\"#000000\" font-family=\"sans-serif\" font-size=\"11\" lengthAdjust=\"spacingAndGlyphs\" textLength=\"45\" x=\"495.5\" y=\"136.7783\">attributes</text><line style=\"stroke: #383838; stroke-width: 1.0;\" x1=\"540.5\" x2=\"666.5\" y1=\"132.7773\" y2=\"132.7773\"/><text fill=\"#000000\" font-family=\"sans-serif\" font-size=\"11\" font-weight=\"bold\" lengthAdjust=\"spacingAndGlyphs\" textLength=\"41\" x=\"374.5\" y=\"196.6221\">require</text><text fill=\"#000000\" font-family=\"sans-serif\" font-size=\"11\" lengthAdjust=\"spacingAndGlyphs\" textLength=\"188\" x=\"421.5\" y=\"196.6221\">{ capacityActual &lt;= capacityRequired }</text><line style=\"stroke: #383838; stroke-width: 1.0;\" x1=\"369.5\" x2=\"491\" y1=\"178.2852\" y2=\"178.2852\"/><text fill=\"#000000\" font-family=\"sans-serif\" font-size=\"11\" lengthAdjust=\"spacingAndGlyphs\" textLength=\"54\" x=\"491\" y=\"182.2861\">constraints</text><line style=\"stroke: #383838; stroke-width: 1.0;\" x1=\"545\" x2=\"666.5\" y1=\"178.2852\" y2=\"178.2852\"/></a><!--MD5=[ebbe1d658d1005bcc118a6aa81145e00]\n",
       "class E4--><a href=\"psysml:18a80db7-58c3-465f-9967-d0c38dd1da06\" target=\"_top\" title=\"psysml:18a80db7-58c3-465f-9967-d0c38dd1da06\" xlink:actuate=\"onRequest\" xlink:href=\"psysml:18a80db7-58c3-465f-9967-d0c38dd1da06\" xlink:show=\"new\" xlink:title=\"psysml:18a80db7-58c3-465f-9967-d0c38dd1da06\" xlink:type=\"simple\"><rect fill=\"#FFFFFF\" height=\"161.0391\" id=\"E4\" style=\"stroke: #383838; stroke-width: 1.5;\" width=\"301\" x=\"32.5\" y=\"42\"/><text fill=\"#000000\" font-family=\"sans-serif\" font-size=\"12\" font-style=\"italic\" lengthAdjust=\"spacingAndGlyphs\" textLength=\"101\" x=\"132.5\" y=\"59.457\">«requirement def»</text><text fill=\"#000000\" font-family=\"sans-serif\" font-size=\"12\" lengthAdjust=\"spacingAndGlyphs\" textLength=\"99\" x=\"133.5\" y=\"74.5508\">MaxSpeedReqDef</text><line style=\"stroke: #383838; stroke-width: 1.5;\" x1=\"33.5\" x2=\"332.5\" y1=\"82.1875\" y2=\"82.1875\"/><text fill=\"#000000\" font-family=\"sans-serif\" font-size=\"11\" lengthAdjust=\"spacingAndGlyphs\" textLength=\"286\" x=\"38.5\" y=\"97.6064\">The maximum speed of the vehicle shall be not greater than</text><text fill=\"#000000\" font-family=\"sans-serif\" font-size=\"11\" lengthAdjust=\"spacingAndGlyphs\" textLength=\"141\" x=\"38.5\" y=\"111.4424\">the required maximum speed.</text><line style=\"stroke: #383838; stroke-width: 1.0;\" x1=\"33.5\" x2=\"332.5\" y1=\"117.8594\" y2=\"117.8594\"/><text fill=\"#000000\" font-family=\"sans-serif\" font-size=\"11\" lengthAdjust=\"spacingAndGlyphs\" textLength=\"131\" x=\"38.5\" y=\"151.1143\">maxSpeedRequired: Speed</text><text fill=\"#000000\" font-family=\"sans-serif\" font-size=\"11\" lengthAdjust=\"spacingAndGlyphs\" textLength=\"124\" x=\"38.5\" y=\"164.9502\">maxSpeedVehicle: Speed</text><line style=\"stroke: #383838; stroke-width: 1.0;\" x1=\"33.5\" x2=\"160.5\" y1=\"132.7773\" y2=\"132.7773\"/><text fill=\"#000000\" font-family=\"sans-serif\" font-size=\"11\" lengthAdjust=\"spacingAndGlyphs\" textLength=\"45\" x=\"160.5\" y=\"136.7783\">attributes</text><line style=\"stroke: #383838; stroke-width: 1.0;\" x1=\"205.5\" x2=\"332.5\" y1=\"132.7773\" y2=\"132.7773\"/><text fill=\"#000000\" font-family=\"sans-serif\" font-size=\"11\" font-weight=\"bold\" lengthAdjust=\"spacingAndGlyphs\" textLength=\"41\" x=\"38.5\" y=\"196.6221\">require</text><text fill=\"#000000\" font-family=\"sans-serif\" font-size=\"11\" lengthAdjust=\"spacingAndGlyphs\" textLength=\"213\" x=\"85.5\" y=\"196.6221\">{ maxSpeedVehicle &lt;= maxSpeedRequired }</text><line style=\"stroke: #383838; stroke-width: 1.0;\" x1=\"33.5\" x2=\"156\" y1=\"178.2852\" y2=\"178.2852\"/><text fill=\"#000000\" font-family=\"sans-serif\" font-size=\"11\" lengthAdjust=\"spacingAndGlyphs\" textLength=\"54\" x=\"156\" y=\"182.2861\">constraints</text><line style=\"stroke: #383838; stroke-width: 1.0;\" x1=\"210\" x2=\"332.5\" y1=\"178.2852\" y2=\"178.2852\"/></a><!--MD5=[c421fd18cc384adb172066436147dbd6]\n",
       "@startuml\r\n",
       "skinparam monochrome true\r\n",
       "skinparam classbackgroundcolor white\r\n",
       "skinparam shadowing false\r\n",
       "skinparam wrapWidth 300\r\n",
       "hide circle\r\n",
       "\r\n",
       "package \"eVehicleRequirementDefinitions\" as E1  [[psysml:ebaeaa03-8dea-4494-b761-1175efc51256 ]]  {\r\n",
       "comp def \"BatteryCapacityReqDef\" as E2  <<(T,blue)requirement def>> [[psysml:773c59af-e94a-4c7d-9130-910bd9a165ed ]] {\r\n",
       "The actual battery capacity shall be greater than or equalto the required capacity.\r\n",
       "- -\r\n",
       "- - attributes - -\r\n",
       "capacityActual: BatteryCapacity\r\n",
       "capacityRequired: BatteryCapacity\r\n",
       "- - constraints - -\r\n",
       "<b>require</b>  { capacityActual <= capacityRequired }\r\n",
       "}\r\n",
       "comp def \"MaxSpeedReqDef\" as E4  <<(T,blue)requirement def>> [[psysml:18a80db7-58c3-465f-9967-d0c38dd1da06 ]] {\r\n",
       "The maximum speed of the vehicle shall be not greater than the required maximum speed.\r\n",
       "- -\r\n",
       "- - attributes - -\r\n",
       "maxSpeedRequired: Speed\r\n",
       "maxSpeedVehicle: Speed\r\n",
       "- - constraints - -\r\n",
       "<b>require</b>  { maxSpeedVehicle <= maxSpeedRequired }\r\n",
       "}\r\n",
       "}\r\n",
       "@enduml\r\n",
       "\n",
       "PlantUML version 1.2020.13(Sat Jun 13 14:26:38 CEST 2020)\n",
       "(EPL source distribution)\n",
       "Java Runtime: OpenJDK Runtime Environment\n",
       "JVM: OpenJDK 64-Bit Server VM\n",
       "Default Encoding: Cp1252\n",
       "Language: en\n",
       "Country: US\n",
       "--></g></svg>"
      ]
     },
     "execution_count": 70,
     "metadata": {},
     "output_type": "execute_result"
    }
   ],
   "source": [
    "%viz eVehicleRequirementDefinitions"
   ]
  },
  {
   "cell_type": "markdown",
   "metadata": {},
   "source": [
    "The definition of a requirement provides a reusable structure. Next, the requirement definition *BatteryCapacityRequirementDef* is used to specify a concrete requirement for the *eVehicle*. The requirement *REQ.B.1* redefines the requirement attribute *capacityRequired* with a concrete value.\n",
    "\n",
    "It is possible to define requirement groups to manage a large set of requirements by defining that a requirement requires other requirements.\n",
    "\n",
    "**Do not forget to run the eVehicle_VariantModel above before you run this model.**"
   ]
  },
  {
   "cell_type": "code",
   "execution_count": 71,
   "metadata": {},
   "outputs": [
    {
     "data": {
      "image/svg+xml": [
       "<?xml version=\"1.0\" encoding=\"UTF-8\" standalone=\"no\"?><svg xmlns=\"http://www.w3.org/2000/svg\" xmlns:xlink=\"http://www.w3.org/1999/xlink\" contentScriptType=\"application/ecmascript\" contentStyleType=\"text/css\" height=\"283px\" preserveAspectRatio=\"none\" style=\"width:844px;height:283px;\" version=\"1.1\" viewBox=\"0 0 844 283\" width=\"844px\" zoomAndPan=\"magnify\"><defs/><g><!--MD5=[43c9051892ef23e1a46a86907403d788]\n",
       "class E1--><a href=\"psysml:08b83bf2-4a0f-4ad5-adfa-40462f4f94aa\" target=\"_top\" title=\"psysml:08b83bf2-4a0f-4ad5-adfa-40462f4f94aa\" xlink:actuate=\"onRequest\" xlink:href=\"psysml:08b83bf2-4a0f-4ad5-adfa-40462f4f94aa\" xlink:show=\"new\" xlink:title=\"psysml:08b83bf2-4a0f-4ad5-adfa-40462f4f94aa\" xlink:type=\"simple\"><rect fill=\"#FFFFFF\" height=\"79.8594\" id=\"E1\" rx=\"10\" ry=\"10\" style=\"stroke: #383838; stroke-width: 1.5;\" width=\"127\" x=\"379\" y=\"7\"/><text fill=\"#000000\" font-family=\"sans-serif\" font-size=\"12\" font-style=\"italic\" lengthAdjust=\"spacingAndGlyphs\" textLength=\"35\" x=\"425\" y=\"24.457\">«part»</text><text fill=\"#000000\" font-family=\"sans-serif\" font-size=\"12\" lengthAdjust=\"spacingAndGlyphs\" textLength=\"47\" x=\"419\" y=\"39.5508\">eVehicle</text><line style=\"stroke: #383838; stroke-width: 1.5;\" x1=\"380\" x2=\"505\" y1=\"47.1875\" y2=\"47.1875\"/><text fill=\"#000000\" font-family=\"sans-serif\" font-size=\"11\" lengthAdjust=\"spacingAndGlyphs\" textLength=\"115\" x=\"385\" y=\"80.4424\">maxSpeed: Speed=142;</text><line style=\"stroke: #383838; stroke-width: 1.0;\" x1=\"380\" x2=\"420\" y1=\"62.1055\" y2=\"62.1055\"/><text fill=\"#000000\" font-family=\"sans-serif\" font-size=\"11\" lengthAdjust=\"spacingAndGlyphs\" textLength=\"45\" x=\"420\" y=\"66.1064\">attributes</text><line style=\"stroke: #383838; stroke-width: 1.0;\" x1=\"465\" x2=\"505\" y1=\"62.1055\" y2=\"62.1055\"/></a><!--MD5=[b4997ac47864f28c2f74865a473b2911]\n",
       "class E2--><a href=\"psysml:acab99ae-07e6-424a-abec-6e3c73a21f8e\" target=\"_top\" title=\"psysml:acab99ae-07e6-424a-abec-6e3c73a21f8e\" xlink:actuate=\"onRequest\" xlink:href=\"psysml:acab99ae-07e6-424a-abec-6e3c73a21f8e\" xlink:show=\"new\" xlink:title=\"psysml:acab99ae-07e6-424a-abec-6e3c73a21f8e\" xlink:type=\"simple\"><rect fill=\"#FFFFFF\" height=\"48.1875\" id=\"E2\" rx=\"10\" ry=\"10\" style=\"stroke: #383838; stroke-width: 1.5;\" width=\"37\" x=\"7\" y=\"185.5\"/><text fill=\"#000000\" font-family=\"sans-serif\" font-size=\"12\" font-style=\"italic\" lengthAdjust=\"spacingAndGlyphs\" textLength=\"35\" x=\"8\" y=\"202.957\">«part»</text><text fill=\"#000000\" font-family=\"sans-serif\" font-size=\"12\" lengthAdjust=\"spacingAndGlyphs\" textLength=\"26\" x=\"12.5\" y=\"218.0508\">body</text><line style=\"stroke: #383838; stroke-width: 1.5;\" x1=\"8\" x2=\"43\" y1=\"225.6875\" y2=\"225.6875\"/></a><!--MD5=[09b614a08d8cba4a07c9adeb5e0fee81]\n",
       "class E3--><a href=\"psysml:8cbeadd8-fec1-4653-a829-6739a378a8c9\" target=\"_top\" title=\"psysml:8cbeadd8-fec1-4653-a829-6739a378a8c9\" xlink:actuate=\"onRequest\" xlink:href=\"psysml:8cbeadd8-fec1-4653-a829-6739a378a8c9\" xlink:show=\"new\" xlink:title=\"psysml:8cbeadd8-fec1-4653-a829-6739a378a8c9\" xlink:type=\"simple\"><rect fill=\"#FFFFFF\" height=\"125.3672\" id=\"E3\" rx=\"10\" ry=\"10\" style=\"stroke: #383838; stroke-width: 1.5;\" width=\"135\" x=\"79\" y=\"147\"/><text fill=\"#000000\" font-family=\"sans-serif\" font-size=\"12\" font-style=\"italic\" lengthAdjust=\"spacingAndGlyphs\" textLength=\"35\" x=\"129\" y=\"164.457\">«part»</text><text fill=\"#000000\" font-family=\"sans-serif\" font-size=\"12\" lengthAdjust=\"spacingAndGlyphs\" textLength=\"79\" x=\"107\" y=\"179.5508\">battery: Battery</text><line style=\"stroke: #383838; stroke-width: 1.5;\" x1=\"80\" x2=\"213\" y1=\"187.1875\" y2=\"187.1875\"/><text fill=\"#000000\" font-family=\"sans-serif\" font-size=\"11\" lengthAdjust=\"spacingAndGlyphs\" textLength=\"62\" x=\"85\" y=\"220.4424\">capacity=42;</text><text fill=\"#000000\" font-family=\"sans-serif\" font-size=\"11\" font-style=\"italic\" lengthAdjust=\"spacingAndGlyphs\" textLength=\"96\" x=\"85\" y=\"234.2783\">:&gt;&gt;Battery::capacity</text><line style=\"stroke: #383838; stroke-width: 1.0;\" x1=\"80\" x2=\"124\" y1=\"202.1055\" y2=\"202.1055\"/><text fill=\"#000000\" font-family=\"sans-serif\" font-size=\"11\" lengthAdjust=\"spacingAndGlyphs\" textLength=\"45\" x=\"124\" y=\"206.1064\">attributes</text><line style=\"stroke: #383838; stroke-width: 1.0;\" x1=\"169\" x2=\"213\" y1=\"202.1055\" y2=\"202.1055\"/><text fill=\"#000000\" font-family=\"sans-serif\" font-size=\"11\" lengthAdjust=\"spacingAndGlyphs\" textLength=\"123\" x=\"85\" y=\"265.9502\">powerOut: PowerOutPort</text><line style=\"stroke: #383838; stroke-width: 1.0;\" x1=\"80\" x2=\"134\" y1=\"247.6133\" y2=\"247.6133\"/><text fill=\"#000000\" font-family=\"sans-serif\" font-size=\"11\" lengthAdjust=\"spacingAndGlyphs\" textLength=\"25\" x=\"134\" y=\"251.6143\">ports</text><line style=\"stroke: #383838; stroke-width: 1.0;\" x1=\"159\" x2=\"213\" y1=\"247.6133\" y2=\"247.6133\"/></a><!--MD5=[270fce915f116d4de14055a7c1d9a0f3]\n",
       "class E5--><a href=\"psysml:9937dcd0-d3d9-4533-b385-b17933ed340e\" target=\"_top\" title=\"psysml:9937dcd0-d3d9-4533-b385-b17933ed340e\" xlink:actuate=\"onRequest\" xlink:href=\"psysml:9937dcd0-d3d9-4533-b385-b17933ed340e\" xlink:show=\"new\" xlink:title=\"psysml:9937dcd0-d3d9-4533-b385-b17933ed340e\" xlink:type=\"simple\"><rect fill=\"#FFFFFF\" height=\"79.8594\" id=\"E5\" rx=\"10\" ry=\"10\" style=\"stroke: #383838; stroke-width: 1.5;\" width=\"132\" x=\"249.5\" y=\"169.5\"/><text fill=\"#000000\" font-family=\"sans-serif\" font-size=\"12\" font-style=\"italic\" lengthAdjust=\"spacingAndGlyphs\" textLength=\"35\" x=\"298\" y=\"186.957\">«part»</text><text fill=\"#000000\" font-family=\"sans-serif\" font-size=\"12\" lengthAdjust=\"spacingAndGlyphs\" textLength=\"83\" x=\"274\" y=\"202.0508\">engine: Engine</text><line style=\"stroke: #383838; stroke-width: 1.5;\" x1=\"250.5\" x2=\"380.5\" y1=\"209.6875\" y2=\"209.6875\"/><text fill=\"#000000\" font-family=\"sans-serif\" font-size=\"11\" lengthAdjust=\"spacingAndGlyphs\" textLength=\"120\" x=\"255.5\" y=\"242.9424\">powerIn: ~PowerOutPort</text><line style=\"stroke: #383838; stroke-width: 1.0;\" x1=\"250.5\" x2=\"303\" y1=\"224.6055\" y2=\"224.6055\"/><text fill=\"#000000\" font-family=\"sans-serif\" font-size=\"11\" lengthAdjust=\"spacingAndGlyphs\" textLength=\"25\" x=\"303\" y=\"228.6064\">ports</text><line style=\"stroke: #383838; stroke-width: 1.0;\" x1=\"328\" x2=\"380.5\" y1=\"224.6055\" y2=\"224.6055\"/></a><!--MD5=[2156ba9850f5573cc1fc38a6a4b2f02b]\n",
       "class E7--><a href=\"psysml:683e5489-8afa-43b4-9a46-0a95570d227c\" target=\"_top\" title=\"psysml:683e5489-8afa-43b4-9a46-0a95570d227c\" xlink:actuate=\"onRequest\" xlink:href=\"psysml:683e5489-8afa-43b4-9a46-0a95570d227c\" xlink:show=\"new\" xlink:title=\"psysml:683e5489-8afa-43b4-9a46-0a95570d227c\" xlink:type=\"simple\"><rect fill=\"#FFFFFF\" height=\"48.1875\" id=\"E7\" rx=\"10\" ry=\"10\" style=\"stroke: #383838; stroke-width: 1.5;\" width=\"52\" x=\"416.5\" y=\"185.5\"/><text fill=\"#000000\" font-family=\"sans-serif\" font-size=\"12\" font-style=\"italic\" lengthAdjust=\"spacingAndGlyphs\" textLength=\"35\" x=\"425\" y=\"202.957\">«part»</text><text fill=\"#000000\" font-family=\"sans-serif\" font-size=\"12\" lengthAdjust=\"spacingAndGlyphs\" textLength=\"46\" x=\"419.5\" y=\"218.0508\">frontAxis</text><line style=\"stroke: #383838; stroke-width: 1.5;\" x1=\"417.5\" x2=\"467.5\" y1=\"225.6875\" y2=\"225.6875\"/></a><!--MD5=[b9389687b975829384b498ac4b7476b2]\n",
       "class E8--><a href=\"psysml:61afc09c-c87e-47d4-b1af-a0fe2769d087\" target=\"_top\" title=\"psysml:61afc09c-c87e-47d4-b1af-a0fe2769d087\" xlink:actuate=\"onRequest\" xlink:href=\"psysml:61afc09c-c87e-47d4-b1af-a0fe2769d087\" xlink:show=\"new\" xlink:title=\"psysml:61afc09c-c87e-47d4-b1af-a0fe2769d087\" xlink:type=\"simple\"><rect fill=\"#FFFFFF\" height=\"48.1875\" id=\"E8\" rx=\"10\" ry=\"10\" style=\"stroke: #383838; stroke-width: 1.5;\" width=\"50\" x=\"503.5\" y=\"185.5\"/><text fill=\"#000000\" font-family=\"sans-serif\" font-size=\"12\" font-style=\"italic\" lengthAdjust=\"spacingAndGlyphs\" textLength=\"35\" x=\"511\" y=\"202.957\">«part»</text><text fill=\"#000000\" font-family=\"sans-serif\" font-size=\"12\" lengthAdjust=\"spacingAndGlyphs\" textLength=\"44\" x=\"506.5\" y=\"218.0508\">rearAxis</text><line style=\"stroke: #383838; stroke-width: 1.5;\" x1=\"504.5\" x2=\"552.5\" y1=\"225.6875\" y2=\"225.6875\"/></a><!--MD5=[fd4143e9d270a159db93a4ea2a975926]\n",
       "class E9--><a href=\"psysml:8d23be7e-1dcf-4d2f-baf3-4d1520ffdfd2\" target=\"_top\" title=\"psysml:8d23be7e-1dcf-4d2f-baf3-4d1520ffdfd2\" xlink:actuate=\"onRequest\" xlink:href=\"psysml:8d23be7e-1dcf-4d2f-baf3-4d1520ffdfd2\" xlink:show=\"new\" xlink:title=\"psysml:8d23be7e-1dcf-4d2f-baf3-4d1520ffdfd2\" xlink:type=\"simple\"><rect fill=\"#FFFFFF\" height=\"48.1875\" id=\"E9\" rx=\"10\" ry=\"10\" style=\"stroke: #383838; stroke-width: 1.5;\" width=\"106\" x=\"588.5\" y=\"185.5\"/><text fill=\"#000000\" font-family=\"sans-serif\" font-size=\"12\" font-style=\"italic\" lengthAdjust=\"spacingAndGlyphs\" textLength=\"35\" x=\"624\" y=\"202.957\">«part»</text><text fill=\"#000000\" font-family=\"sans-serif\" font-size=\"12\" lengthAdjust=\"spacingAndGlyphs\" textLength=\"100\" x=\"591.5\" y=\"218.0508\">frontWheel: Wheel</text><line style=\"stroke: #383838; stroke-width: 1.5;\" x1=\"589.5\" x2=\"693.5\" y1=\"225.6875\" y2=\"225.6875\"/></a><!--MD5=[96f4274e9e20536e775497830990834d]\n",
       "class E10--><a href=\"psysml:c77b17b1-a64a-4cf0-a98e-cc1df8dc39e6\" target=\"_top\" title=\"psysml:c77b17b1-a64a-4cf0-a98e-cc1df8dc39e6\" xlink:actuate=\"onRequest\" xlink:href=\"psysml:c77b17b1-a64a-4cf0-a98e-cc1df8dc39e6\" xlink:show=\"new\" xlink:title=\"psysml:c77b17b1-a64a-4cf0-a98e-cc1df8dc39e6\" xlink:type=\"simple\"><rect fill=\"#FFFFFF\" height=\"48.1875\" id=\"E10\" rx=\"10\" ry=\"10\" style=\"stroke: #383838; stroke-width: 1.5;\" width=\"104\" x=\"729.5\" y=\"185.5\"/><text fill=\"#000000\" font-family=\"sans-serif\" font-size=\"12\" font-style=\"italic\" lengthAdjust=\"spacingAndGlyphs\" textLength=\"35\" x=\"764\" y=\"202.957\">«part»</text><text fill=\"#000000\" font-family=\"sans-serif\" font-size=\"12\" lengthAdjust=\"spacingAndGlyphs\" textLength=\"98\" x=\"732.5\" y=\"218.0508\">rearWheel: Wheel</text><line style=\"stroke: #383838; stroke-width: 1.5;\" x1=\"730.5\" x2=\"832.5\" y1=\"225.6875\" y2=\"225.6875\"/></a><!--MD5=[a523cb2a0b79ecf9065ad8783f96c320]\n",
       "reverse link E1 to E2--><a href=\"psysml:acab99ae-07e6-424a-abec-6e3c73a21f8e\" target=\"_top\" title=\"psysml:acab99ae-07e6-424a-abec-6e3c73a21f8e\" xlink:actuate=\"onRequest\" xlink:href=\"psysml:acab99ae-07e6-424a-abec-6e3c73a21f8e\" xlink:show=\"new\" xlink:title=\"psysml:acab99ae-07e6-424a-abec-6e3c73a21f8e\" xlink:type=\"simple\"><path d=\"M365.665,50.902 C282.938,57.628 151.165,79.16 61.5,147 C48.7727,156.63 39.731,172.1705 33.8922,185.2201 \" fill=\"none\" id=\"E1&lt;-E2\" style=\"stroke: #383838; stroke-width: 1.0;\"/><polygon fill=\"#383838\" points=\"378.758,49.928,372.4774,46.3848,366.7912,50.8194,373.0717,54.3627,378.758,49.928\" style=\"stroke: #383838; stroke-width: 1.0;\"/></a><!--MD5=[5d7b3810b1dd9b5164bea1151b29b665]\n",
       "reverse link E1 to E3--><a href=\"psysml:8cbeadd8-fec1-4653-a829-6739a378a8c9\" target=\"_top\" title=\"psysml:8cbeadd8-fec1-4653-a829-6739a378a8c9\" xlink:actuate=\"onRequest\" xlink:href=\"psysml:8cbeadd8-fec1-4653-a829-6739a378a8c9\" xlink:show=\"new\" xlink:title=\"psysml:8cbeadd8-fec1-4653-a829-6739a378a8c9\" xlink:type=\"simple\"><path d=\"M366.505,79.514 C325.558,97.514 274.717,121.532 231.5,147 C225.851,150.329 220.109,153.938 214.414,157.682 \" fill=\"none\" id=\"E1&lt;-E3\" style=\"stroke: #383838; stroke-width: 1.0;\"/><polygon fill=\"#383838\" points=\"378.599,74.245,371.5008,72.9738,367.5973,79.037,374.6955,80.3082,378.599,74.245\" style=\"stroke: #383838; stroke-width: 1.0;\"/></a><!--MD5=[33238bef88d6431a141d8bc8fb12bca0]\n",
       "reverse link E1 to E5--><a href=\"psysml:9937dcd0-d3d9-4533-b385-b17933ed340e\" target=\"_top\" title=\"psysml:9937dcd0-d3d9-4533-b385-b17933ed340e\" xlink:actuate=\"onRequest\" xlink:href=\"psysml:9937dcd0-d3d9-4533-b385-b17933ed340e\" xlink:show=\"new\" xlink:title=\"psysml:9937dcd0-d3d9-4533-b385-b17933ed340e\" xlink:type=\"simple\"><path d=\"M403.286,97.558 C385.012,120.652 363.58,147.737 346.467,169.365 \" fill=\"none\" id=\"E1&lt;-E5\" style=\"stroke: #383838; stroke-width: 1.0;\"/><polygon fill=\"#383838\" points=\"411.432,87.263,404.5722,89.4863,403.9861,96.6736,410.8459,94.4502,411.432,87.263\" style=\"stroke: #383838; stroke-width: 1.0;\"/></a><!--MD5=[fc9706a6b2cf8c0e423679d303750d3f]\n",
       "reverse link E1 to E7--><a href=\"psysml:683e5489-8afa-43b4-9a46-0a95570d227c\" target=\"_top\" title=\"psysml:683e5489-8afa-43b4-9a46-0a95570d227c\" xlink:actuate=\"onRequest\" xlink:href=\"psysml:683e5489-8afa-43b4-9a46-0a95570d227c\" xlink:show=\"new\" xlink:title=\"psysml:683e5489-8afa-43b4-9a46-0a95570d227c\" xlink:type=\"simple\"><path d=\"M442.5,100.366 C442.5,128.942 442.5,162.906 442.5,185.0425 \" fill=\"none\" id=\"E1&lt;-E7\" style=\"stroke: #383838; stroke-width: 1.0;\"/><polygon fill=\"#383838\" points=\"442.5,87.263,438.5,93.263,442.5,99.263,446.5,93.263,442.5,87.263\" style=\"stroke: #383838; stroke-width: 1.0;\"/></a><!--MD5=[661cb7e25c535686a73d30316f0ecb18]\n",
       "reverse link E1 to E8--><a href=\"psysml:61afc09c-c87e-47d4-b1af-a0fe2769d087\" target=\"_top\" title=\"psysml:61afc09c-c87e-47d4-b1af-a0fe2769d087\" xlink:actuate=\"onRequest\" xlink:href=\"psysml:61afc09c-c87e-47d4-b1af-a0fe2769d087\" xlink:show=\"new\" xlink:title=\"psysml:61afc09c-c87e-47d4-b1af-a0fe2769d087\" xlink:type=\"simple\"><path d=\"M469.731,98.82 C485.21,127.709 503.855,162.505 515.931,185.0425 \" fill=\"none\" id=\"E1&lt;-E8\" style=\"stroke: #383838; stroke-width: 1.0;\"/><polygon fill=\"#383838\" points=\"463.538,87.263,462.8461,94.4408,469.2057,97.8402,469.8976,90.6624,463.538,87.263\" style=\"stroke: #383838; stroke-width: 1.0;\"/></a><!--MD5=[12b85c4d420790db1e7d6becd0483003]\n",
       "reverse link E1 to E9--><a href=\"psysml:8d23be7e-1dcf-4d2f-baf3-4d1520ffdfd2\" target=\"_top\" title=\"psysml:8d23be7e-1dcf-4d2f-baf3-4d1520ffdfd2\" xlink:actuate=\"onRequest\" xlink:href=\"psysml:8d23be7e-1dcf-4d2f-baf3-4d1520ffdfd2\" xlink:show=\"new\" xlink:title=\"psysml:8d23be7e-1dcf-4d2f-baf3-4d1520ffdfd2\" xlink:type=\"simple\"><path d=\"M505.704,95.181 C526.857,111.32 550.413,129.677 571.5,147 C586.5,159.322 602.818,173.6056 615.923,185.304 \" fill=\"none\" id=\"E1&lt;-E9\" style=\"stroke: #383838; stroke-width: 1.0;\"/><polygon fill=\"#383838\" points=\"495.212,87.206,497.5682,94.0213,504.7654,94.4677,502.4093,87.6524,495.212,87.206\" style=\"stroke: #383838; stroke-width: 1.0;\"/><text fill=\"#000000\" font-family=\"sans-serif\" font-size=\"13\" lengthAdjust=\"spacingAndGlyphs\" textLength=\"7\" x=\"601.472\" y=\"174.5699\">2</text></a><!--MD5=[ea7c523cf29368ef1946af14beed0adc]\n",
       "reverse link E1 to E10--><a href=\"psysml:c77b17b1-a64a-4cf0-a98e-cc1df8dc39e6\" target=\"_top\" title=\"psysml:c77b17b1-a64a-4cf0-a98e-cc1df8dc39e6\" xlink:actuate=\"onRequest\" xlink:href=\"psysml:c77b17b1-a64a-4cf0-a98e-cc1df8dc39e6\" xlink:show=\"new\" xlink:title=\"psysml:c77b17b1-a64a-4cf0-a98e-cc1df8dc39e6\" xlink:type=\"simple\"><path d=\"M518.777,67.597 C574.822,83.94 651.507,110.463 712.5,147 C729.983,157.473 747.101,172.6904 759.913,185.3675 \" fill=\"none\" id=\"E1&lt;-E10\" style=\"stroke: #383838; stroke-width: 1.0;\"/><polygon fill=\"#383838\" points=\"506.073,63.963,510.7419,69.4586,517.6105,67.2624,512.9416,61.7669,506.073,63.963\" style=\"stroke: #383838; stroke-width: 1.0;\"/><text fill=\"#000000\" font-family=\"sans-serif\" font-size=\"13\" lengthAdjust=\"spacingAndGlyphs\" textLength=\"7\" x=\"746.4845\" y=\"174.6503\">2</text></a><!--MD5=[a3e936e599047831c3342c72a7396df2]\n",
       "@startuml\r\n",
       "skinparam monochrome true\r\n",
       "skinparam classbackgroundcolor white\r\n",
       "skinparam shadowing false\r\n",
       "skinparam wrapWidth 300\r\n",
       "hide circle\r\n",
       "\r\n",
       "comp usage \"eVehicle\" as E1  <<(T,blue)part>> [[psysml:08b83bf2-4a0f-4ad5-adfa-40462f4f94aa ]] {\r\n",
       "- - attributes - -\r\n",
       "maxSpeed: Speed=142; \r\n",
       "}\r\n",
       "comp usage \"body\" as E2  <<(T,blue)part>> [[psysml:acab99ae-07e6-424a-abec-6e3c73a21f8e ]] {\r\n",
       "}\r\n",
       "comp usage \"battery: Battery\" as E3  <<(T,blue)part>> [[psysml:8cbeadd8-fec1-4653-a829-6739a378a8c9 ]] {\r\n",
       "- - attributes - -\r\n",
       "capacity=42; \\n//:>>Battery::capacity// \r\n",
       "- - ports - -\r\n",
       "powerOut: PowerOutPort\r\n",
       "}\r\n",
       "comp usage \"engine: Engine\" as E5  <<(T,blue)part>> [[psysml:9937dcd0-d3d9-4533-b385-b17933ed340e ]] {\r\n",
       "- - ports - -\r\n",
       "powerIn: ~PowerOutPort\r\n",
       "}\r\n",
       "comp usage \"frontAxis\" as E7  <<(T,blue)part>> [[psysml:683e5489-8afa-43b4-9a46-0a95570d227c ]] {\r\n",
       "}\r\n",
       "comp usage \"rearAxis\" as E8  <<(T,blue)part>> [[psysml:61afc09c-c87e-47d4-b1af-a0fe2769d087 ]] {\r\n",
       "}\r\n",
       "comp usage \"frontWheel: Wheel\" as E9  <<(T,blue)part>> [[psysml:8d23be7e-1dcf-4d2f-baf3-4d1520ffdfd2 ]] {\r\n",
       "}\r\n",
       "comp usage \"rearWheel: Wheel\" as E10  <<(T,blue)part>> [[psysml:c77b17b1-a64a-4cf0-a98e-cc1df8dc39e6 ]] {\r\n",
       "}\r\n",
       "E1 *- - E2 [[psysml:acab99ae-07e6-424a-abec-6e3c73a21f8e ]] \r\n",
       "E1 *- - E3 [[psysml:8cbeadd8-fec1-4653-a829-6739a378a8c9 ]] \r\n",
       "E1 *- - E5 [[psysml:9937dcd0-d3d9-4533-b385-b17933ed340e ]] \r\n",
       "E1 *- - E7 [[psysml:683e5489-8afa-43b4-9a46-0a95570d227c ]] \r\n",
       "E1 *- - E8 [[psysml:61afc09c-c87e-47d4-b1af-a0fe2769d087 ]] \r\n",
       "E1 *- - \"2\"E9 [[psysml:8d23be7e-1dcf-4d2f-baf3-4d1520ffdfd2 ]] \r\n",
       "E1 *- - \"2\"E10 [[psysml:c77b17b1-a64a-4cf0-a98e-cc1df8dc39e6 ]] \r\n",
       "@enduml\r\n",
       "\n",
       "PlantUML version 1.2020.13(Sat Jun 13 14:26:38 CEST 2020)\n",
       "(EPL source distribution)\n",
       "Java Runtime: OpenJDK Runtime Environment\n",
       "JVM: OpenJDK 64-Bit Server VM\n",
       "Default Encoding: Cp1252\n",
       "Language: en\n",
       "Country: US\n",
       "--></g></svg>"
      ]
     },
     "execution_count": 71,
     "metadata": {},
     "output_type": "execute_result"
    }
   ],
   "source": [
    "%viz eVehicle_LogicalArchitecture::eVehicle"
   ]
  },
  {
   "cell_type": "code",
   "execution_count": 72,
   "metadata": {},
   "outputs": [
    {
     "data": {
      "text/plain": [
       "Package eVehicleRequirements (05cb08a6-9f40-4380-8b8f-5da30cb2282a)\n"
      ]
     },
     "execution_count": 72,
     "metadata": {},
     "output_type": "execute_result"
    }
   ],
   "source": [
    "package eVehicleRequirements {\n",
    "    \n",
    "    import eVehicleRequirementDefinitions::*;\n",
    "    import eVehicle_LogicalArchitecture::*;\n",
    "    \n",
    "    requirement eVehicleSpecification {\n",
    "        doc /* Requirement Specification of the eVehicle  */\n",
    "        subject eVehicle :>> eVehicle;\n",
    "        require eVehicleBatteryCapacity;\n",
    "        require eVehicleMaxSpeed;\n",
    "    }\n",
    "    \n",
    "    requirement id 'REQ.B.1' eVehicleBatteryCapacity : BatteryCapacityReqDef {\n",
    "        subject eVehicle :>> eVehicle;\n",
    "        attribute :>> capacityRequired = 50;\n",
    "        attribute :>> capacityActual = eVehicle::battery::capacity;\n",
    "    }\n",
    "    \n",
    "    requirement id 'REQ.V.1' eVehicleMaxSpeed : MaxSpeedReqDef {\n",
    "        subject eVehicle :>> eVehicle;\n",
    "        attribute :>> maxSpeedRequired = 140;\n",
    "        attribute :>> maxSpeedVehicle = eVehicle::maxSpeed;\n",
    "    }\n",
    "}"
   ]
  },
  {
   "cell_type": "code",
   "execution_count": 73,
   "metadata": {},
   "outputs": [
    {
     "data": {
      "image/svg+xml": [
       "<?xml version=\"1.0\" encoding=\"UTF-8\" standalone=\"no\"?><svg xmlns=\"http://www.w3.org/2000/svg\" xmlns:xlink=\"http://www.w3.org/1999/xlink\" contentScriptType=\"application/ecmascript\" contentStyleType=\"text/css\" height=\"191px\" preserveAspectRatio=\"none\" style=\"width:952px;height:191px;\" version=\"1.1\" viewBox=\"0 0 952 191\" width=\"952px\" zoomAndPan=\"magnify\"><defs/><g><!--MD5=[fbc87193dbaf4d95561dea2c320d4a47]\n",
       "cluster E1--><a href=\"psysml:301c4999-55fc-4a17-9a03-8cd305636b09\" target=\"_top\" title=\"psysml:301c4999-55fc-4a17-9a03-8cd305636b09\" xlink:actuate=\"onRequest\" xlink:href=\"psysml:301c4999-55fc-4a17-9a03-8cd305636b09\" xlink:show=\"new\" xlink:title=\"psysml:301c4999-55fc-4a17-9a03-8cd305636b09\" xlink:type=\"simple\"><polygon fill=\"#FFFFFF\" points=\"16,6,182,6,189,29.6094,930,29.6094,930,179,16,179,16,6\" style=\"stroke: #000000; stroke-width: 1.5;\"/><line style=\"stroke: #000000; stroke-width: 1.5;\" x1=\"16\" x2=\"189\" y1=\"29.6094\" y2=\"29.6094\"/><text fill=\"#000000\" font-family=\"sans-serif\" font-size=\"14\" font-weight=\"bold\" lengthAdjust=\"spacingAndGlyphs\" textLength=\"160\" x=\"20\" y=\"22.5332\">eVehicleRequirements</text></a><!--MD5=[b4997ac47864f28c2f74865a473b2911]\n",
       "class E2--><a href=\"psysml:512eefe0-9062-476c-a972-f47b64bb7394\" target=\"_top\" title=\"psysml:512eefe0-9062-476c-a972-f47b64bb7394\" xlink:actuate=\"onRequest\" xlink:href=\"psysml:512eefe0-9062-476c-a972-f47b64bb7394\" xlink:show=\"new\" xlink:title=\"psysml:512eefe0-9062-476c-a972-f47b64bb7394\" xlink:type=\"simple\"><rect fill=\"#FFFFFF\" height=\"115.5313\" id=\"E2\" rx=\"10\" ry=\"10\" style=\"stroke: #383838; stroke-width: 1.5;\" width=\"213\" x=\"700.5\" y=\"44.5\"/><text fill=\"#000000\" font-family=\"sans-serif\" font-size=\"12\" font-style=\"italic\" lengthAdjust=\"spacingAndGlyphs\" textLength=\"81\" x=\"766.5\" y=\"61.957\">«requirement»</text><text fill=\"#000000\" font-family=\"sans-serif\" font-size=\"12\" lengthAdjust=\"spacingAndGlyphs\" textLength=\"117\" x=\"748.5\" y=\"77.0508\">eVehicleSpecification</text><line style=\"stroke: #383838; stroke-width: 1.5;\" x1=\"701.5\" x2=\"912.5\" y1=\"84.6875\" y2=\"84.6875\"/><text fill=\"#000000\" font-family=\"sans-serif\" font-size=\"11\" lengthAdjust=\"spacingAndGlyphs\" textLength=\"201\" x=\"706.5\" y=\"100.1064\">Requirement Specification of the eVehicle</text><line style=\"stroke: #383838; stroke-width: 1.0;\" x1=\"701.5\" x2=\"912.5\" y1=\"106.5234\" y2=\"106.5234\"/><text fill=\"#000000\" font-family=\"sans-serif\" font-size=\"11\" font-weight=\"bold\" lengthAdjust=\"spacingAndGlyphs\" textLength=\"41\" x=\"706.5\" y=\"139.7783\">require</text><text fill=\"#000000\" font-family=\"sans-serif\" font-size=\"11\" lengthAdjust=\"spacingAndGlyphs\" textLength=\"119\" x=\"750.5\" y=\"139.7783\">eVehicleBatteryCapacity</text><text fill=\"#000000\" font-family=\"sans-serif\" font-size=\"11\" font-weight=\"bold\" lengthAdjust=\"spacingAndGlyphs\" textLength=\"41\" x=\"706.5\" y=\"153.6143\">require</text><text fill=\"#000000\" font-family=\"sans-serif\" font-size=\"11\" lengthAdjust=\"spacingAndGlyphs\" textLength=\"93\" x=\"750.5\" y=\"153.6143\">eVehicleMaxSpeed</text><line style=\"stroke: #383838; stroke-width: 1.0;\" x1=\"701.5\" x2=\"780\" y1=\"121.4414\" y2=\"121.4414\"/><text fill=\"#000000\" font-family=\"sans-serif\" font-size=\"11\" lengthAdjust=\"spacingAndGlyphs\" textLength=\"54\" x=\"780\" y=\"125.4424\">constraints</text><line style=\"stroke: #383838; stroke-width: 1.0;\" x1=\"834\" x2=\"912.5\" y1=\"121.4414\" y2=\"121.4414\"/></a><!--MD5=[270fce915f116d4de14055a7c1d9a0f3]\n",
       "class E5--><a href=\"psysml:3bbd64c3-c85e-44bd-ac58-62b74f443d55\" target=\"_top\" title=\"psysml:3bbd64c3-c85e-44bd-ac58-62b74f443d55\" xlink:actuate=\"onRequest\" xlink:href=\"psysml:3bbd64c3-c85e-44bd-ac58-62b74f443d55\" xlink:show=\"new\" xlink:title=\"psysml:3bbd64c3-c85e-44bd-ac58-62b74f443d55\" xlink:type=\"simple\"><rect fill=\"#FFFFFF\" height=\"121.3672\" id=\"E5\" rx=\"10\" ry=\"10\" style=\"stroke: #383838; stroke-width: 1.5;\" width=\"326\" x=\"339\" y=\"42\"/><text fill=\"#000000\" font-family=\"sans-serif\" font-size=\"12\" font-style=\"italic\" lengthAdjust=\"spacingAndGlyphs\" textLength=\"81\" x=\"461.5\" y=\"59.457\">«requirement»</text><text fill=\"#000000\" font-family=\"sans-serif\" font-size=\"12\" lengthAdjust=\"spacingAndGlyphs\" textLength=\"3\" x=\"345\" y=\"74.5508\">[</text><text fill=\"#000000\" font-family=\"sans-serif\" font-size=\"12\" font-weight=\"bold\" lengthAdjust=\"spacingAndGlyphs\" textLength=\"45\" x=\"348\" y=\"74.5508\">REQ.B.1</text><text fill=\"#000000\" font-family=\"sans-serif\" font-size=\"12\" lengthAdjust=\"spacingAndGlyphs\" textLength=\"269\" x=\"393\" y=\"74.5508\">] eVehicleBatteryCapacity: BatteryCapacityReqDef</text><line style=\"stroke: #383838; stroke-width: 1.5;\" x1=\"340\" x2=\"664\" y1=\"82.1875\" y2=\"82.1875\"/><text fill=\"#000000\" font-family=\"sans-serif\" font-size=\"11\" lengthAdjust=\"spacingAndGlyphs\" textLength=\"105\" x=\"345\" y=\"115.4424\">capacityRequired=50;</text><text fill=\"#000000\" font-family=\"sans-serif\" font-size=\"11\" font-style=\"italic\" lengthAdjust=\"spacingAndGlyphs\" textLength=\"221\" x=\"345\" y=\"129.2783\">:&gt;&gt;BatteryCapacityReqDef::capacityRequired</text><text fill=\"#000000\" font-family=\"sans-serif\" font-size=\"11\" lengthAdjust=\"spacingAndGlyphs\" textLength=\"210\" x=\"345\" y=\"143.1143\">capacityActual=eVehicle::battery::capacity;</text><text fill=\"#000000\" font-family=\"sans-serif\" font-size=\"11\" font-style=\"italic\" lengthAdjust=\"spacingAndGlyphs\" textLength=\"207\" x=\"345\" y=\"156.9502\">:&gt;&gt;BatteryCapacityReqDef::capacityActual</text><line style=\"stroke: #383838; stroke-width: 1.0;\" x1=\"340\" x2=\"479.5\" y1=\"97.1055\" y2=\"97.1055\"/><text fill=\"#000000\" font-family=\"sans-serif\" font-size=\"11\" lengthAdjust=\"spacingAndGlyphs\" textLength=\"45\" x=\"479.5\" y=\"101.1064\">attributes</text><line style=\"stroke: #383838; stroke-width: 1.0;\" x1=\"524.5\" x2=\"664\" y1=\"97.1055\" y2=\"97.1055\"/></a><!--MD5=[60a26617385b1d2d0262a64233df1f8d]\n",
       "class E6--><a href=\"psysml:dfdeb5fb-9c6b-4d89-9faf-b355d2dd415f\" target=\"_top\" title=\"psysml:dfdeb5fb-9c6b-4d89-9faf-b355d2dd415f\" xlink:actuate=\"onRequest\" xlink:href=\"psysml:dfdeb5fb-9c6b-4d89-9faf-b355d2dd415f\" xlink:show=\"new\" xlink:title=\"psysml:dfdeb5fb-9c6b-4d89-9faf-b355d2dd415f\" xlink:type=\"simple\"><rect fill=\"#FFFFFF\" height=\"121.3672\" id=\"E6\" rx=\"10\" ry=\"10\" style=\"stroke: #383838; stroke-width: 1.5;\" width=\"272\" x=\"32\" y=\"42\"/><text fill=\"#000000\" font-family=\"sans-serif\" font-size=\"12\" font-style=\"italic\" lengthAdjust=\"spacingAndGlyphs\" textLength=\"81\" x=\"127.5\" y=\"59.457\">«requirement»</text><text fill=\"#000000\" font-family=\"sans-serif\" font-size=\"12\" lengthAdjust=\"spacingAndGlyphs\" textLength=\"3\" x=\"38\" y=\"74.5508\">[</text><text fill=\"#000000\" font-family=\"sans-serif\" font-size=\"12\" font-weight=\"bold\" lengthAdjust=\"spacingAndGlyphs\" textLength=\"45\" x=\"41\" y=\"74.5508\">REQ.V.1</text><text fill=\"#000000\" font-family=\"sans-serif\" font-size=\"12\" lengthAdjust=\"spacingAndGlyphs\" textLength=\"215\" x=\"86\" y=\"74.5508\">] eVehicleMaxSpeed: MaxSpeedReqDef</text><line style=\"stroke: #383838; stroke-width: 1.5;\" x1=\"33\" x2=\"303\" y1=\"82.1875\" y2=\"82.1875\"/><text fill=\"#000000\" font-family=\"sans-serif\" font-size=\"11\" lengthAdjust=\"spacingAndGlyphs\" textLength=\"121\" x=\"38\" y=\"115.4424\">maxSpeedRequired=140;</text><text fill=\"#000000\" font-family=\"sans-serif\" font-size=\"11\" font-style=\"italic\" lengthAdjust=\"spacingAndGlyphs\" textLength=\"207\" x=\"38\" y=\"129.2783\">:&gt;&gt;MaxSpeedReqDef::maxSpeedRequired</text><text fill=\"#000000\" font-family=\"sans-serif\" font-size=\"11\" lengthAdjust=\"spacingAndGlyphs\" textLength=\"195\" x=\"38\" y=\"143.1143\">maxSpeedVehicle=eVehicle::maxSpeed;</text><text fill=\"#000000\" font-family=\"sans-serif\" font-size=\"11\" font-style=\"italic\" lengthAdjust=\"spacingAndGlyphs\" textLength=\"199\" x=\"38\" y=\"156.9502\">:&gt;&gt;MaxSpeedReqDef::maxSpeedVehicle</text><line style=\"stroke: #383838; stroke-width: 1.0;\" x1=\"33\" x2=\"145.5\" y1=\"97.1055\" y2=\"97.1055\"/><text fill=\"#000000\" font-family=\"sans-serif\" font-size=\"11\" lengthAdjust=\"spacingAndGlyphs\" textLength=\"45\" x=\"145.5\" y=\"101.1064\">attributes</text><line style=\"stroke: #383838; stroke-width: 1.0;\" x1=\"190.5\" x2=\"303\" y1=\"97.1055\" y2=\"97.1055\"/></a><!--MD5=[ebb525f9710d09cceb9cf5d8b13d4c0e]\n",
       "@startuml\r\n",
       "skinparam monochrome true\r\n",
       "skinparam classbackgroundcolor white\r\n",
       "skinparam shadowing false\r\n",
       "skinparam wrapWidth 300\r\n",
       "hide circle\r\n",
       "\r\n",
       "package \"eVehicleRequirements\" as E1  [[psysml:301c4999-55fc-4a17-9a03-8cd305636b09 ]]  {\r\n",
       "comp usage \"eVehicleSpecification\" as E2  <<(T,blue)requirement>> [[psysml:512eefe0-9062-476c-a972-f47b64bb7394 ]] {\r\n",
       "Requirement Specification of the eVehicle\r\n",
       "- -\r\n",
       "- - constraints - -\r\n",
       "<b>require</b> eVehicleBatteryCapacity\r\n",
       "<b>require</b> eVehicleMaxSpeed\r\n",
       "}\r\n",
       "comp usage \" [<b>REQ.B.1</b>] eVehicleBatteryCapacity: BatteryCapacityReqDef\" as E5  <<(T,blue)requirement>> [[psysml:3bbd64c3-c85e-44bd-ac58-62b74f443d55 ]] {\r\n",
       "- - attributes - -\r\n",
       "capacityRequired=50; \\n//:>>BatteryCapacityReqDef::capacityRequired// \r\n",
       "capacityActual=eVehicle::battery::capacity; \\n//:>>BatteryCapacityReqDef::capacityActual// \r\n",
       "}\r\n",
       "comp usage \" [<b>REQ.V.1</b>] eVehicleMaxSpeed: MaxSpeedReqDef\" as E6  <<(T,blue)requirement>> [[psysml:dfdeb5fb-9c6b-4d89-9faf-b355d2dd415f ]] {\r\n",
       "- - attributes - -\r\n",
       "maxSpeedRequired=140; \\n//:>>MaxSpeedReqDef::maxSpeedRequired// \r\n",
       "maxSpeedVehicle=eVehicle::maxSpeed; \\n//:>>MaxSpeedReqDef::maxSpeedVehicle// \r\n",
       "}\r\n",
       "}\r\n",
       "@enduml\r\n",
       "\n",
       "PlantUML version 1.2020.13(Sat Jun 13 14:26:38 CEST 2020)\n",
       "(EPL source distribution)\n",
       "Java Runtime: OpenJDK Runtime Environment\n",
       "JVM: OpenJDK 64-Bit Server VM\n",
       "Default Encoding: Cp1252\n",
       "Language: en\n",
       "Country: US\n",
       "--></g></svg>"
      ]
     },
     "execution_count": 73,
     "metadata": {},
     "output_type": "execute_result"
    }
   ],
   "source": [
    "%viz eVehicleRequirements"
   ]
  },
  {
   "cell_type": "markdown",
   "metadata": {},
   "source": [
    "Finally, we model that the eVehicle satisfies the requirement."
   ]
  },
  {
   "cell_type": "code",
   "execution_count": 74,
   "metadata": {},
   "outputs": [
    {
     "data": {
      "text/plain": [
       "Package eVehicle_LogicalArchitecture (8dc466d7-a517-4233-94df-c775c649aa33)\n"
      ]
     },
     "execution_count": 74,
     "metadata": {},
     "output_type": "execute_result"
    }
   ],
   "source": [
    "package eVehicle_LogicalArchitecture {\n",
    "    \n",
    "    import eVehicleDefinitions::*;\n",
    "    import eVehicleLibrary::*;\n",
    "    import eVehicleRequirements::*;\n",
    "    \n",
    "    part eVehicleContext {\n",
    "    \n",
    "       part eVehicle {    \n",
    "          value maxSpeed :Speed = 142;\n",
    "          part body;\n",
    "          part battery : Battery {\n",
    "              value redefines capacity = 42;\n",
    "              port powerOut : PowerOutPort;\n",
    "          }\n",
    "          part engine : Engine {\n",
    "              port powerIn : ~PowerOutPort;\n",
    "          }\n",
    "          part frontAxis;\n",
    "          part rearAxis;\n",
    "          part frontWheel : Wheel[2];\n",
    "          part rearWheel : Wheel[2];\n",
    "        \n",
    "          interface : PowerInterface connect \n",
    "            supplierPort => battery::powerOut to \n",
    "            consumerPort => engine::powerIn;\n",
    "          connect engine to frontAxis;\n",
    "          connect frontAxis to frontWheel;\n",
    "          connect rearAxis to rearWheel;\n",
    "          connect body to battery;\n",
    "          connect body to engine;\n",
    "          connect body to frontAxis;\n",
    "          connect body to rearAxis;\n",
    "      }\n",
    "      satisfy eVehicleSpecification by eVehicle;\n",
    "    }\n",
    "}"
   ]
  },
  {
   "cell_type": "markdown",
   "metadata": {},
   "source": [
    "## Libraries for the eVehicle example<a name=\"sysmlv2modlibrary\"></a>\n",
    "\n",
    "This section contains the complete libraries used in the examples of this chapter. You must run them to execute the examples."
   ]
  },
  {
   "cell_type": "code",
   "execution_count": 75,
   "metadata": {},
   "outputs": [
    {
     "data": {
      "text/plain": [
       "Package eVehicleLibrary (243f8292-0ad2-48f3-bb55-d9c3c7a46d12)\n",
       "Package eVehicleDefinitions (04a9ea79-3cb9-4ce5-997d-174a05ebc450)\n"
      ]
     },
     "execution_count": 75,
     "metadata": {},
     "output_type": "execute_result"
    }
   ],
   "source": [
    "package eVehicleLibrary {\n",
    "        \n",
    "    attribute def ElectricEnergy;\n",
    "    attribute def BatteryCapacity :> ScalarValues::Integer;\n",
    "    attribute def Speed :> ScalarValues::Integer;\n",
    "    \n",
    "    port def PowerOutPort {\n",
    "        out energy : ElectricEnergy;\n",
    "    }\n",
    "    \n",
    "    interface def PowerInterface {\n",
    "        end supplierPort : PowerOutPort;\n",
    "        end consumerPort : ~PowerOutPort;\n",
    "    }\n",
    "}\n",
    "\n",
    "package eVehicleDefinitions {\n",
    "\n",
    "    import eVehicleLibrary::*;   \n",
    "    \n",
    "    part def Wheel {\n",
    "        value size : ScalarValues::Integer;\n",
    "    }\n",
    "    \n",
    "    part def Battery {\n",
    "        value capacity : BatteryCapacity;\n",
    "    }\n",
    "    \n",
    "    part def Engine;\n",
    "}"
   ]
  },
  {
   "cell_type": "code",
   "execution_count": 76,
   "metadata": {},
   "outputs": [
    {
     "data": {
      "image/svg+xml": [
       "<?xml version=\"1.0\" encoding=\"UTF-8\" standalone=\"no\"?><svg xmlns=\"http://www.w3.org/2000/svg\" xmlns:xlink=\"http://www.w3.org/1999/xlink\" contentScriptType=\"application/ecmascript\" contentStyleType=\"text/css\" height=\"164px\" preserveAspectRatio=\"none\" style=\"width:746px;height:164px;\" version=\"1.1\" viewBox=\"0 0 746 164\" width=\"746px\" zoomAndPan=\"magnify\"><defs/><g><!--MD5=[fbc87193dbaf4d95561dea2c320d4a47]\n",
       "cluster E1--><a href=\"psysml:16551ba0-614a-4493-920c-773fdd07bd42\" target=\"_top\" title=\"psysml:16551ba0-614a-4493-920c-773fdd07bd42\" xlink:actuate=\"onRequest\" xlink:href=\"psysml:16551ba0-614a-4493-920c-773fdd07bd42\" xlink:show=\"new\" xlink:title=\"psysml:16551ba0-614a-4493-920c-773fdd07bd42\" xlink:type=\"simple\"><polygon fill=\"#FFFFFF\" points=\"16,6,131,6,138,29.6094,724,29.6094,724,152,16,152,16,6\" style=\"stroke: #000000; stroke-width: 1.5;\"/><line style=\"stroke: #000000; stroke-width: 1.5;\" x1=\"16\" x2=\"138\" y1=\"29.6094\" y2=\"29.6094\"/><text fill=\"#000000\" font-family=\"sans-serif\" font-size=\"14\" font-weight=\"bold\" lengthAdjust=\"spacingAndGlyphs\" textLength=\"109\" x=\"20\" y=\"22.5332\">eVehicleLibrary</text></a><!--MD5=[b4997ac47864f28c2f74865a473b2911]\n",
       "class E2--><a href=\"psysml:6f00d54a-d154-4e52-a80b-764af4bb7636\" target=\"_top\" title=\"psysml:6f00d54a-d154-4e52-a80b-764af4bb7636\" xlink:actuate=\"onRequest\" xlink:href=\"psysml:6f00d54a-d154-4e52-a80b-764af4bb7636\" xlink:show=\"new\" xlink:title=\"psysml:6f00d54a-d154-4e52-a80b-764af4bb7636\" xlink:type=\"simple\"><rect fill=\"#FFFFFF\" height=\"48.1875\" id=\"E2\" style=\"stroke: #383838; stroke-width: 1.5;\" width=\"84\" x=\"624\" y=\"65\"/><text fill=\"#000000\" font-family=\"sans-serif\" font-size=\"12\" font-style=\"italic\" lengthAdjust=\"spacingAndGlyphs\" textLength=\"79\" x=\"626.5\" y=\"82.457\">«attribute def»</text><text fill=\"#000000\" font-family=\"sans-serif\" font-size=\"12\" lengthAdjust=\"spacingAndGlyphs\" textLength=\"78\" x=\"627\" y=\"97.5508\">ElectricEnergy</text><line style=\"stroke: #383838; stroke-width: 1.5;\" x1=\"625\" x2=\"707\" y1=\"105.1875\" y2=\"105.1875\"/></a><!--MD5=[09b614a08d8cba4a07c9adeb5e0fee81]\n",
       "class E3--><a href=\"psysml:79c7413f-9638-4652-af1d-a2ecacbe87bb\" target=\"_top\" title=\"psysml:79c7413f-9638-4652-af1d-a2ecacbe87bb\" xlink:actuate=\"onRequest\" xlink:href=\"psysml:79c7413f-9638-4652-af1d-a2ecacbe87bb\" xlink:show=\"new\" xlink:title=\"psysml:79c7413f-9638-4652-af1d-a2ecacbe87bb\" xlink:type=\"simple\"><rect fill=\"#FFFFFF\" height=\"48.1875\" id=\"E3\" style=\"stroke: #383838; stroke-width: 1.5;\" width=\"90\" x=\"499\" y=\"65\"/><text fill=\"#000000\" font-family=\"sans-serif\" font-size=\"12\" font-style=\"italic\" lengthAdjust=\"spacingAndGlyphs\" textLength=\"79\" x=\"504.5\" y=\"82.457\">«attribute def»</text><text fill=\"#000000\" font-family=\"sans-serif\" font-size=\"12\" lengthAdjust=\"spacingAndGlyphs\" textLength=\"84\" x=\"502\" y=\"97.5508\">BatteryCapacity</text><line style=\"stroke: #383838; stroke-width: 1.5;\" x1=\"500\" x2=\"588\" y1=\"105.1875\" y2=\"105.1875\"/></a><!--MD5=[ebbe1d658d1005bcc118a6aa81145e00]\n",
       "class E4--><a href=\"psysml:36c7a5c5-3c41-48b3-b252-94045f3d1f67\" target=\"_top\" title=\"psysml:36c7a5c5-3c41-48b3-b252-94045f3d1f67\" xlink:actuate=\"onRequest\" xlink:href=\"psysml:36c7a5c5-3c41-48b3-b252-94045f3d1f67\" xlink:show=\"new\" xlink:title=\"psysml:36c7a5c5-3c41-48b3-b252-94045f3d1f67\" xlink:type=\"simple\"><rect fill=\"#FFFFFF\" height=\"48.1875\" id=\"E4\" style=\"stroke: #383838; stroke-width: 1.5;\" width=\"81\" x=\"382.5\" y=\"65\"/><text fill=\"#000000\" font-family=\"sans-serif\" font-size=\"12\" font-style=\"italic\" lengthAdjust=\"spacingAndGlyphs\" textLength=\"79\" x=\"383.5\" y=\"82.457\">«attribute def»</text><text fill=\"#000000\" font-family=\"sans-serif\" font-size=\"12\" lengthAdjust=\"spacingAndGlyphs\" textLength=\"36\" x=\"405\" y=\"97.5508\">Speed</text><line style=\"stroke: #383838; stroke-width: 1.5;\" x1=\"383.5\" x2=\"462.5\" y1=\"105.1875\" y2=\"105.1875\"/></a><!--MD5=[270fce915f116d4de14055a7c1d9a0f3]\n",
       "class E5--><a href=\"psysml:9a65b8a6-abef-4722-8afc-ffe79558f8db\" target=\"_top\" title=\"psysml:9a65b8a6-abef-4722-8afc-ffe79558f8db\" xlink:actuate=\"onRequest\" xlink:href=\"psysml:9a65b8a6-abef-4722-8afc-ffe79558f8db\" xlink:show=\"new\" xlink:title=\"psysml:9a65b8a6-abef-4722-8afc-ffe79558f8db\" xlink:type=\"simple\"><rect fill=\"#FFFFFF\" height=\"79.8594\" id=\"E5\" style=\"stroke: #383838; stroke-width: 1.5;\" width=\"121\" x=\"226.5\" y=\"49\"/><text fill=\"#000000\" font-family=\"sans-serif\" font-size=\"12\" font-style=\"italic\" lengthAdjust=\"spacingAndGlyphs\" textLength=\"55\" x=\"259.5\" y=\"66.457\">«port def»</text><text fill=\"#000000\" font-family=\"sans-serif\" font-size=\"12\" lengthAdjust=\"spacingAndGlyphs\" textLength=\"76\" x=\"249\" y=\"81.5508\">PowerOutPort</text><line style=\"stroke: #383838; stroke-width: 1.5;\" x1=\"227.5\" x2=\"346.5\" y1=\"89.1875\" y2=\"89.1875\"/><text fill=\"#000000\" font-family=\"sans-serif\" font-size=\"11\" lengthAdjust=\"spacingAndGlyphs\" textLength=\"109\" x=\"232.5\" y=\"122.4424\">energy: ElectricEnergy</text><line style=\"stroke: #383838; stroke-width: 1.0;\" x1=\"227.5\" x2=\"264.5\" y1=\"104.1055\" y2=\"104.1055\"/><text fill=\"#000000\" font-family=\"sans-serif\" font-size=\"11\" lengthAdjust=\"spacingAndGlyphs\" textLength=\"45\" x=\"264.5\" y=\"108.1064\">attributes</text><line style=\"stroke: #383838; stroke-width: 1.0;\" x1=\"309.5\" x2=\"346.5\" y1=\"104.1055\" y2=\"104.1055\"/></a><!--MD5=[60a26617385b1d2d0262a64233df1f8d]\n",
       "class E6--><a href=\"psysml:d87513d0-412f-4c57-b958-3b32fbc51a0a\" target=\"_top\" title=\"psysml:d87513d0-412f-4c57-b958-3b32fbc51a0a\" xlink:actuate=\"onRequest\" xlink:href=\"psysml:d87513d0-412f-4c57-b958-3b32fbc51a0a\" xlink:show=\"new\" xlink:title=\"psysml:d87513d0-412f-4c57-b958-3b32fbc51a0a\" xlink:type=\"simple\"><rect fill=\"#FFFFFF\" height=\"93.6953\" id=\"E6\" style=\"stroke: #383838; stroke-width: 1.5;\" width=\"159\" x=\"32.5\" y=\"42\"/><text fill=\"#000000\" font-family=\"sans-serif\" font-size=\"12\" font-style=\"italic\" lengthAdjust=\"spacingAndGlyphs\" textLength=\"81\" x=\"71.5\" y=\"59.457\">«interface def»</text><text fill=\"#000000\" font-family=\"sans-serif\" font-size=\"12\" lengthAdjust=\"spacingAndGlyphs\" textLength=\"82\" x=\"71\" y=\"74.5508\">PowerInterface</text><line style=\"stroke: #383838; stroke-width: 1.5;\" x1=\"33.5\" x2=\"190.5\" y1=\"82.1875\" y2=\"82.1875\"/><text fill=\"#000000\" font-family=\"sans-serif\" font-size=\"11\" lengthAdjust=\"spacingAndGlyphs\" textLength=\"147\" x=\"38.5\" y=\"115.4424\">consumerPort: ~PowerOutPort</text><text fill=\"#000000\" font-family=\"sans-serif\" font-size=\"11\" lengthAdjust=\"spacingAndGlyphs\" textLength=\"131\" x=\"38.5\" y=\"129.2783\">supplierPort: PowerOutPort</text><line style=\"stroke: #383838; stroke-width: 1.0;\" x1=\"33.5\" x2=\"99.5\" y1=\"97.1055\" y2=\"97.1055\"/><text fill=\"#000000\" font-family=\"sans-serif\" font-size=\"11\" lengthAdjust=\"spacingAndGlyphs\" textLength=\"25\" x=\"99.5\" y=\"101.1064\">ports</text><line style=\"stroke: #383838; stroke-width: 1.0;\" x1=\"124.5\" x2=\"190.5\" y1=\"97.1055\" y2=\"97.1055\"/></a><!--MD5=[3cfb53e92dcf89b96acb00d9f4c79d7b]\n",
       "@startuml\r\n",
       "skinparam monochrome true\r\n",
       "skinparam classbackgroundcolor white\r\n",
       "skinparam shadowing false\r\n",
       "skinparam wrapWidth 300\r\n",
       "hide circle\r\n",
       "\r\n",
       "package \"eVehicleLibrary\" as E1  [[psysml:16551ba0-614a-4493-920c-773fdd07bd42 ]]  {\r\n",
       "comp def \"ElectricEnergy\" as E2  <<(T,blue)attribute def>> [[psysml:6f00d54a-d154-4e52-a80b-764af4bb7636 ]] {\r\n",
       "}\r\n",
       "comp def \"BatteryCapacity\" as E3  <<(T,blue)attribute def>> [[psysml:79c7413f-9638-4652-af1d-a2ecacbe87bb ]] {\r\n",
       "}\r\n",
       "comp def \"Speed\" as E4  <<(T,blue)attribute def>> [[psysml:36c7a5c5-3c41-48b3-b252-94045f3d1f67 ]] {\r\n",
       "}\r\n",
       "comp def \"PowerOutPort\" as E5  <<(T,blue)port def>> [[psysml:9a65b8a6-abef-4722-8afc-ffe79558f8db ]] {\r\n",
       "- - attributes - -\r\n",
       "energy: ElectricEnergy\r\n",
       "}\r\n",
       "comp def \"PowerInterface\" as E6  <<(T,blue)interface def>> [[psysml:d87513d0-412f-4c57-b958-3b32fbc51a0a ]] {\r\n",
       "- - ports - -\r\n",
       "consumerPort: ~PowerOutPort\r\n",
       "supplierPort: PowerOutPort\r\n",
       "}\r\n",
       "}\r\n",
       "@enduml\r\n",
       "\n",
       "PlantUML version 1.2020.13(Sat Jun 13 14:26:38 CEST 2020)\n",
       "(EPL source distribution)\n",
       "Java Runtime: OpenJDK Runtime Environment\n",
       "JVM: OpenJDK 64-Bit Server VM\n",
       "Default Encoding: Cp1252\n",
       "Language: en\n",
       "Country: US\n",
       "--></g></svg>"
      ]
     },
     "execution_count": 76,
     "metadata": {},
     "output_type": "execute_result"
    }
   ],
   "source": [
    "%viz eVehicleLibrary"
   ]
  },
  {
   "cell_type": "code",
   "execution_count": 77,
   "metadata": {},
   "outputs": [
    {
     "data": {
      "image/svg+xml": [
       "<?xml version=\"1.0\" encoding=\"UTF-8\" standalone=\"no\"?><svg xmlns=\"http://www.w3.org/2000/svg\" xmlns:xlink=\"http://www.w3.org/1999/xlink\" contentScriptType=\"application/ecmascript\" contentStyleType=\"text/css\" height=\"150px\" preserveAspectRatio=\"none\" style=\"width:406px;height:150px;\" version=\"1.1\" viewBox=\"0 0 406 150\" width=\"406px\" zoomAndPan=\"magnify\"><defs/><g><!--MD5=[fbc87193dbaf4d95561dea2c320d4a47]\n",
       "cluster E1--><a href=\"psysml:2e4031c7-01f1-448e-affb-8c8169d9e3de\" target=\"_top\" title=\"psysml:2e4031c7-01f1-448e-affb-8c8169d9e3de\" xlink:actuate=\"onRequest\" xlink:href=\"psysml:2e4031c7-01f1-448e-affb-8c8169d9e3de\" xlink:show=\"new\" xlink:title=\"psysml:2e4031c7-01f1-448e-affb-8c8169d9e3de\" xlink:type=\"simple\"><polygon fill=\"#FFFFFF\" points=\"16,6,159,6,166,29.6094,384,29.6094,384,138,16,138,16,6\" style=\"stroke: #000000; stroke-width: 1.5;\"/><line style=\"stroke: #000000; stroke-width: 1.5;\" x1=\"16\" x2=\"166\" y1=\"29.6094\" y2=\"29.6094\"/><text fill=\"#000000\" font-family=\"sans-serif\" font-size=\"14\" font-weight=\"bold\" lengthAdjust=\"spacingAndGlyphs\" textLength=\"137\" x=\"20\" y=\"22.5332\">eVehicleDefinitions</text></a><!--MD5=[b4997ac47864f28c2f74865a473b2911]\n",
       "class E2--><a href=\"psysml:9aa09bb3-9324-4769-bbf9-e622fba69cde\" target=\"_top\" title=\"psysml:9aa09bb3-9324-4769-bbf9-e622fba69cde\" xlink:actuate=\"onRequest\" xlink:href=\"psysml:9aa09bb3-9324-4769-bbf9-e622fba69cde\" xlink:show=\"new\" xlink:title=\"psysml:9aa09bb3-9324-4769-bbf9-e622fba69cde\" xlink:type=\"simple\"><rect fill=\"#FFFFFF\" height=\"79.8594\" id=\"E2\" style=\"stroke: #383838; stroke-width: 1.5;\" width=\"71\" x=\"296.5\" y=\"42\"/><text fill=\"#000000\" font-family=\"sans-serif\" font-size=\"12\" font-style=\"italic\" lengthAdjust=\"spacingAndGlyphs\" textLength=\"55\" x=\"304.5\" y=\"59.457\">«part def»</text><text fill=\"#000000\" font-family=\"sans-serif\" font-size=\"12\" lengthAdjust=\"spacingAndGlyphs\" textLength=\"35\" x=\"314.5\" y=\"74.5508\">Wheel</text><line style=\"stroke: #383838; stroke-width: 1.5;\" x1=\"297.5\" x2=\"366.5\" y1=\"82.1875\" y2=\"82.1875\"/><text fill=\"#000000\" font-family=\"sans-serif\" font-size=\"11\" lengthAdjust=\"spacingAndGlyphs\" textLength=\"59\" x=\"302.5\" y=\"115.4424\">size: Integer</text><line style=\"stroke: #383838; stroke-width: 1.0;\" x1=\"297.5\" x2=\"309.5\" y1=\"97.1055\" y2=\"97.1055\"/><text fill=\"#000000\" font-family=\"sans-serif\" font-size=\"11\" lengthAdjust=\"spacingAndGlyphs\" textLength=\"45\" x=\"309.5\" y=\"101.1064\">attributes</text><line style=\"stroke: #383838; stroke-width: 1.0;\" x1=\"354.5\" x2=\"366.5\" y1=\"97.1055\" y2=\"97.1055\"/></a><!--MD5=[09b614a08d8cba4a07c9adeb5e0fee81]\n",
       "class E3--><a href=\"psysml:2ceb3303-9237-4463-99b9-1b1bd574946a\" target=\"_top\" title=\"psysml:2ceb3303-9237-4463-99b9-1b1bd574946a\" xlink:actuate=\"onRequest\" xlink:href=\"psysml:2ceb3303-9237-4463-99b9-1b1bd574946a\" xlink:show=\"new\" xlink:title=\"psysml:2ceb3303-9237-4463-99b9-1b1bd574946a\" xlink:type=\"simple\"><rect fill=\"#FFFFFF\" height=\"79.8594\" id=\"E3\" style=\"stroke: #383838; stroke-width: 1.5;\" width=\"136\" x=\"125\" y=\"42\"/><text fill=\"#000000\" font-family=\"sans-serif\" font-size=\"12\" font-style=\"italic\" lengthAdjust=\"spacingAndGlyphs\" textLength=\"55\" x=\"165.5\" y=\"59.457\">«part def»</text><text fill=\"#000000\" font-family=\"sans-serif\" font-size=\"12\" lengthAdjust=\"spacingAndGlyphs\" textLength=\"37\" x=\"174.5\" y=\"74.5508\">Battery</text><line style=\"stroke: #383838; stroke-width: 1.5;\" x1=\"126\" x2=\"260\" y1=\"82.1875\" y2=\"82.1875\"/><text fill=\"#000000\" font-family=\"sans-serif\" font-size=\"11\" lengthAdjust=\"spacingAndGlyphs\" textLength=\"124\" x=\"131\" y=\"115.4424\">capacity: BatteryCapacity</text><line style=\"stroke: #383838; stroke-width: 1.0;\" x1=\"126\" x2=\"170.5\" y1=\"97.1055\" y2=\"97.1055\"/><text fill=\"#000000\" font-family=\"sans-serif\" font-size=\"11\" lengthAdjust=\"spacingAndGlyphs\" textLength=\"45\" x=\"170.5\" y=\"101.1064\">attributes</text><line style=\"stroke: #383838; stroke-width: 1.0;\" x1=\"215.5\" x2=\"260\" y1=\"97.1055\" y2=\"97.1055\"/></a><!--MD5=[ebbe1d658d1005bcc118a6aa81145e00]\n",
       "class E4--><a href=\"psysml:1f7fdfff-d87d-4903-ad48-6c4339274851\" target=\"_top\" title=\"psysml:1f7fdfff-d87d-4903-ad48-6c4339274851\" xlink:actuate=\"onRequest\" xlink:href=\"psysml:1f7fdfff-d87d-4903-ad48-6c4339274851\" xlink:show=\"new\" xlink:title=\"psysml:1f7fdfff-d87d-4903-ad48-6c4339274851\" xlink:type=\"simple\"><rect fill=\"#FFFFFF\" height=\"48.1875\" id=\"E4\" style=\"stroke: #383838; stroke-width: 1.5;\" width=\"57\" x=\"32.5\" y=\"58\"/><text fill=\"#000000\" font-family=\"sans-serif\" font-size=\"12\" font-style=\"italic\" lengthAdjust=\"spacingAndGlyphs\" textLength=\"55\" x=\"33.5\" y=\"75.457\">«part def»</text><text fill=\"#000000\" font-family=\"sans-serif\" font-size=\"12\" lengthAdjust=\"spacingAndGlyphs\" textLength=\"39\" x=\"41.5\" y=\"90.5508\">Engine</text><line style=\"stroke: #383838; stroke-width: 1.5;\" x1=\"33.5\" x2=\"88.5\" y1=\"98.1875\" y2=\"98.1875\"/></a><!--MD5=[a9f5388965f0a0152a53bbc3ef08a634]\n",
       "@startuml\r\n",
       "skinparam monochrome true\r\n",
       "skinparam classbackgroundcolor white\r\n",
       "skinparam shadowing false\r\n",
       "skinparam wrapWidth 300\r\n",
       "hide circle\r\n",
       "\r\n",
       "package \"eVehicleDefinitions\" as E1  [[psysml:2e4031c7-01f1-448e-affb-8c8169d9e3de ]]  {\r\n",
       "comp def \"Wheel\" as E2  <<(T,blue)part def>> [[psysml:9aa09bb3-9324-4769-bbf9-e622fba69cde ]] {\r\n",
       "- - attributes - -\r\n",
       "size: Integer\r\n",
       "}\r\n",
       "comp def \"Battery\" as E3  <<(T,blue)part def>> [[psysml:2ceb3303-9237-4463-99b9-1b1bd574946a ]] {\r\n",
       "- - attributes - -\r\n",
       "capacity: BatteryCapacity\r\n",
       "}\r\n",
       "comp def \"Engine\" as E4  <<(T,blue)part def>> [[psysml:1f7fdfff-d87d-4903-ad48-6c4339274851 ]] {\r\n",
       "}\r\n",
       "}\r\n",
       "@enduml\r\n",
       "\n",
       "PlantUML version 1.2020.13(Sat Jun 13 14:26:38 CEST 2020)\n",
       "(EPL source distribution)\n",
       "Java Runtime: OpenJDK Runtime Environment\n",
       "JVM: OpenJDK 64-Bit Server VM\n",
       "Default Encoding: Cp1252\n",
       "Language: en\n",
       "Country: US\n",
       "--></g></svg>"
      ]
     },
     "execution_count": 77,
     "metadata": {},
     "output_type": "execute_result"
    }
   ],
   "source": [
    "%viz eVehicleDefinitions"
   ]
  },
  {
   "cell_type": "markdown",
   "metadata": {},
   "source": [
    "# SysML v2 MBSE Methodologies JupyterBook<a name=\"sysmlv2modmethodologies\"></a>\n",
    "\n",
    "This chapter covers the impact of SysML v2 on MBSE methodologies.\n",
    "\n",
    "Which methods continue to work well and which would need to be adapted? Theoretically, the methodologies have been developed independently of the SysML language, but definitely with a focus on SysML v1.\n",
    "\n",
    "New features of SysML v2 can also lead to new methods in the methodologies.\n"
   ]
  },
  {
   "cell_type": "markdown",
   "metadata": {},
   "source": [
    "## SYSMOD with SysML v2<a name=\"sysmlv2sysmod\"></a>\n",
    "\n",
    "The example is taken from the book [SYSMOD - The Systems Modeling Toolbox](https://leanpub.com/sysmod). It is a Forest Fire Detection System (FFDS)."
   ]
  },
  {
   "cell_type": "markdown",
   "metadata": {},
   "source": [
    "### System Idea and System Objectives<a name=\"sysmlv2sysmodidea\"></a>\n",
    "\n",
    "The language extension of SysML v2 is still under development. Until it is available, I use a simplified approach to introduce SYSMOD concepts into the language. \n",
    "\n",
    "The following SysML v2 code defines the SYSMOD concepts of a *system* and an *objective*. They are applied to define the forest fire detection system element including the problem statement and the system idea, and the three system objectives. The complete definition of SYSMOD is described in chapter [SYSMOD Language Library](#sysmodlibrary).\n"
   ]
  },
  {
   "cell_type": "code",
   "execution_count": 78,
   "metadata": {},
   "outputs": [
    {
     "data": {
      "text/plain": [
       "Package SYSMOD (6496713c-fd00-4f40-be48-5cea7e6365f9)\n"
      ]
     },
     "execution_count": 78,
     "metadata": {},
     "output_type": "execute_result"
    }
   ],
   "source": [
    "package SYSMOD {\n",
    "\n",
    "    doc /* SYSMOD - The Systems Modeling Toolbox, Version 5.0beta */\n",
    "        \n",
    "    requirement def Objective {\n",
    "        doc /* A objective is an objective of the system. It is a special kind of a requirement that is typically not satisfied but amplified by the system. */\n",
    "    }\n",
    "    \n",
    "    part def System {\n",
    "        doc /* Marks the system under development. Typically there is only one block in the model with that stereotype. However in a System of Systems (SoS) model there could be more. */\n",
    "        import ScalarValues::String;\n",
    "        value problemStatement : String;\n",
    "        value systemIdea : String;\n",
    "    }\n",
    "}"
   ]
  },
  {
   "cell_type": "code",
   "execution_count": 79,
   "metadata": {},
   "outputs": [
    {
     "data": {
      "image/svg+xml": [
       "<?xml version=\"1.0\" encoding=\"UTF-8\" standalone=\"no\"?><svg xmlns=\"http://www.w3.org/2000/svg\" xmlns:xlink=\"http://www.w3.org/1999/xlink\" contentScriptType=\"application/ecmascript\" contentStyleType=\"text/css\" height=\"276px\" preserveAspectRatio=\"none\" style=\"width:547px;height:276px;\" version=\"1.1\" viewBox=\"0 0 547 276\" width=\"547px\" zoomAndPan=\"magnify\"><defs/><g><!--MD5=[fbc87193dbaf4d95561dea2c320d4a47]\n",
       "cluster E1--><a href=\"psysml:9e4ed735-694d-414d-b423-cce678b50b84\" target=\"_top\" title=\"psysml:9e4ed735-694d-414d-b423-cce678b50b84\" xlink:actuate=\"onRequest\" xlink:href=\"psysml:9e4ed735-694d-414d-b423-cce678b50b84\" xlink:show=\"new\" xlink:title=\"psysml:9e4ed735-694d-414d-b423-cce678b50b84\" xlink:type=\"simple\"><polygon fill=\"#FFFFFF\" points=\"16,6,84,6,91,29.6094,525,29.6094,525,264,16,264,16,6\" style=\"stroke: #000000; stroke-width: 1.5;\"/><line style=\"stroke: #000000; stroke-width: 1.5;\" x1=\"16\" x2=\"91\" y1=\"29.6094\" y2=\"29.6094\"/><text fill=\"#000000\" font-family=\"sans-serif\" font-size=\"14\" font-weight=\"bold\" lengthAdjust=\"spacingAndGlyphs\" textLength=\"62\" x=\"20\" y=\"22.5332\">SYSMOD</text></a><!--MD5=[b4997ac47864f28c2f74865a473b2911]\n",
       "class E2--><a href=\"psysml:1701ec34-8048-4dc2-b03e-3b495b6aab43\" target=\"_top\" title=\"psysml:1701ec34-8048-4dc2-b03e-3b495b6aab43\" xlink:actuate=\"onRequest\" xlink:href=\"psysml:1701ec34-8048-4dc2-b03e-3b495b6aab43\" xlink:show=\"new\" xlink:title=\"psysml:1701ec34-8048-4dc2-b03e-3b495b6aab43\" xlink:type=\"simple\"><rect fill=\"#FFFFFF\" height=\"97.6953\" id=\"E2\" style=\"stroke: #383838; stroke-width: 1.5;\" width=\"310\" x=\"199\" y=\"42\"/><text fill=\"#000000\" font-family=\"sans-serif\" font-size=\"12\" font-style=\"italic\" lengthAdjust=\"spacingAndGlyphs\" textLength=\"101\" x=\"303.5\" y=\"59.457\">«requirement def»</text><text fill=\"#000000\" font-family=\"sans-serif\" font-size=\"12\" lengthAdjust=\"spacingAndGlyphs\" textLength=\"50\" x=\"329\" y=\"74.5508\">Objective</text><line style=\"stroke: #383838; stroke-width: 1.5;\" x1=\"200\" x2=\"508\" y1=\"82.1875\" y2=\"82.1875\"/><text fill=\"#000000\" font-family=\"sans-serif\" font-size=\"11\" lengthAdjust=\"spacingAndGlyphs\" textLength=\"298\" x=\"205\" y=\"97.6064\">A objective is an objective of the system. It is a special kind of</text><text fill=\"#000000\" font-family=\"sans-serif\" font-size=\"11\" lengthAdjust=\"spacingAndGlyphs\" textLength=\"298\" x=\"205\" y=\"111.4424\">a requirement that is typically not satisfied but amplified by the</text><text fill=\"#000000\" font-family=\"sans-serif\" font-size=\"11\" lengthAdjust=\"spacingAndGlyphs\" textLength=\"38\" x=\"205\" y=\"125.2783\">system.</text><line style=\"stroke: #383838; stroke-width: 1.0;\" x1=\"200\" x2=\"508\" y1=\"131.6953\" y2=\"131.6953\"/></a><!--MD5=[09b614a08d8cba4a07c9adeb5e0fee81]\n",
       "class E3--><a href=\"psysml:cb23a2ae-e9ce-44d2-a1a1-c0c8c21d4f2a\" target=\"_top\" title=\"psysml:cb23a2ae-e9ce-44d2-a1a1-c0c8c21d4f2a\" xlink:actuate=\"onRequest\" xlink:href=\"psysml:cb23a2ae-e9ce-44d2-a1a1-c0c8c21d4f2a\" xlink:show=\"new\" xlink:title=\"psysml:cb23a2ae-e9ce-44d2-a1a1-c0c8c21d4f2a\" xlink:type=\"simple\"><rect fill=\"#FFFFFF\" height=\"93.6953\" id=\"E3\" style=\"stroke: #383838; stroke-width: 1.5;\" width=\"132\" x=\"32\" y=\"44\"/><text fill=\"#000000\" font-family=\"sans-serif\" font-size=\"12\" font-style=\"italic\" lengthAdjust=\"spacingAndGlyphs\" textLength=\"55\" x=\"70.5\" y=\"61.457\">«part def»</text><text fill=\"#000000\" font-family=\"sans-serif\" font-size=\"12\" lengthAdjust=\"spacingAndGlyphs\" textLength=\"41\" x=\"77.5\" y=\"76.5508\">System</text><line style=\"stroke: #383838; stroke-width: 1.5;\" x1=\"33\" x2=\"163\" y1=\"84.1875\" y2=\"84.1875\"/><text fill=\"#000000\" font-family=\"sans-serif\" font-size=\"11\" lengthAdjust=\"spacingAndGlyphs\" textLength=\"120\" x=\"38\" y=\"117.4424\">problemStatement: String</text><text fill=\"#000000\" font-family=\"sans-serif\" font-size=\"11\" lengthAdjust=\"spacingAndGlyphs\" textLength=\"89\" x=\"38\" y=\"131.2783\">systemIdea: String</text><line style=\"stroke: #383838; stroke-width: 1.0;\" x1=\"33\" x2=\"75.5\" y1=\"99.1055\" y2=\"99.1055\"/><text fill=\"#000000\" font-family=\"sans-serif\" font-size=\"11\" lengthAdjust=\"spacingAndGlyphs\" textLength=\"45\" x=\"75.5\" y=\"103.1064\">attributes</text><line style=\"stroke: #383838; stroke-width: 1.0;\" x1=\"120.5\" x2=\"163\" y1=\"99.1055\" y2=\"99.1055\"/></a><!--MD5=[ebbe1d658d1005bcc118a6aa81145e00]\n",
       "class E4--><a href=\"psysml:0ac38d87-dafc-4e7f-896e-4797ae262b55\" target=\"_top\" title=\"psysml:0ac38d87-dafc-4e7f-896e-4797ae262b55\" xlink:actuate=\"onRequest\" xlink:href=\"psysml:0ac38d87-dafc-4e7f-896e-4797ae262b55\" xlink:show=\"new\" xlink:title=\"psysml:0ac38d87-dafc-4e7f-896e-4797ae262b55\" xlink:type=\"simple\"><rect fill=\"#FFFFFF\" height=\"48.1875\" id=\"E4\" style=\"stroke: #383838; stroke-width: 1.5;\" width=\"67\" x=\"64.5\" y=\"200\"/><text fill=\"#000000\" font-family=\"sans-serif\" font-size=\"12\" font-style=\"italic\" lengthAdjust=\"spacingAndGlyphs\" textLength=\"65\" x=\"65.5\" y=\"217.457\">«dataType»</text><text fill=\"#000000\" font-family=\"sans-serif\" font-size=\"12\" lengthAdjust=\"spacingAndGlyphs\" textLength=\"32\" x=\"82\" y=\"232.5508\">String</text><line style=\"stroke: #383838; stroke-width: 1.5;\" x1=\"65.5\" x2=\"130.5\" y1=\"240.1875\" y2=\"240.1875\"/></a><!--MD5=[4672eba38e49728da53d11aeb285b987]\n",
       "reverse link E3 to E4--><a href=\"psysml:0ac38d87-dafc-4e7f-896e-4797ae262b55\" target=\"_top\" title=\"psysml:0ac38d87-dafc-4e7f-896e-4797ae262b55\" xlink:actuate=\"onRequest\" xlink:href=\"psysml:0ac38d87-dafc-4e7f-896e-4797ae262b55\" xlink:show=\"new\" xlink:title=\"psysml:0ac38d87-dafc-4e7f-896e-4797ae262b55\" xlink:type=\"simple\"><path d=\"M98,153.247 C98,169.895 98,186.9107 98,199.9683 \" fill=\"none\" id=\"E3&lt;-E4\" style=\"stroke: #383838; stroke-width: 1.0;\"/><ellipse cx=\"98\" cy=\"146.186\" fill=\"#FFFFFF\" rx=\"8\" ry=\"8\" style=\"stroke: #383838; stroke-width: 1.0;\"/><line style=\"stroke: #383838; stroke-width: 1.0;\" x1=\"98\" x2=\"98\" y1=\"154.186\" y2=\"138.186\"/><line style=\"stroke: #383838; stroke-width: 1.0;\" x1=\"90\" x2=\"106\" y1=\"146.186\" y2=\"146.186\"/></a><!--MD5=[fb1a9b29f2fb3d79a36b42d5ced7751e]\n",
       "@startuml\r\n",
       "skinparam monochrome true\r\n",
       "skinparam classbackgroundcolor white\r\n",
       "skinparam shadowing false\r\n",
       "skinparam wrapWidth 300\r\n",
       "hide circle\r\n",
       "\r\n",
       "package \"SYSMOD\" as E1  [[psysml:9e4ed735-694d-414d-b423-cce678b50b84 ]]  {\r\n",
       "comp def \"Objective\" as E2  <<(T,blue)requirement def>> [[psysml:1701ec34-8048-4dc2-b03e-3b495b6aab43 ]] {\r\n",
       "A objective is an objective of the system. It is a special kind of a requirement that is typically not satisfied but amplified by the system.\r\n",
       "- -\r\n",
       "}\r\n",
       "comp def \"System\" as E3  <<(T,blue)part def>> [[psysml:cb23a2ae-e9ce-44d2-a1a1-c0c8c21d4f2a ]] {\r\n",
       "- - attributes - -\r\n",
       "problemStatement: String\r\n",
       "systemIdea: String\r\n",
       "}\r\n",
       "comp def \"String\" as E4  <<(T,blue)dataType>> [[psysml:0ac38d87-dafc-4e7f-896e-4797ae262b55 ]] {\r\n",
       "}\r\n",
       "E3 +- - E4 [[psysml:0ac38d87-dafc-4e7f-896e-4797ae262b55 ]] \r\n",
       "}\r\n",
       "@enduml\r\n",
       "\n",
       "PlantUML version 1.2020.13(Sat Jun 13 14:26:38 CEST 2020)\n",
       "(EPL source distribution)\n",
       "Java Runtime: OpenJDK Runtime Environment\n",
       "JVM: OpenJDK 64-Bit Server VM\n",
       "Default Encoding: Cp1252\n",
       "Language: en\n",
       "Country: US\n",
       "--></g></svg>"
      ]
     },
     "execution_count": 79,
     "metadata": {},
     "output_type": "execute_result"
    }
   ],
   "source": [
    "%viz SYSMOD"
   ]
  },
  {
   "cell_type": "code",
   "execution_count": 80,
   "metadata": {},
   "outputs": [
    {
     "data": {
      "text/plain": [
       "Package ForestFireDetectionSystemModel (009a17b7-084e-4c1b-8da7-125d37df44fe)\n"
      ]
     },
     "execution_count": 80,
     "metadata": {},
     "output_type": "execute_result"
    }
   ],
   "source": [
    "package ForestFireDetectionSystemModel {\n",
    "    \n",
    "    import SYSMOD::*;\n",
    "    \n",
    "    package FFDS_Core {\n",
    "    \n",
    "        part FFDS : System {\n",
    "            value redefines problemStatement = \"How can we provide a forest fire detection system for forest authorities that can be scaled to any forest size, is affordable, highly reliable and accurate in detecting forest fires.\";\n",
    "            value redefines systemIdea = \"The FFDS is a satellite-based system to detect forest fires in very large areas. The system is also equipped with stationary sensors and animal sensors. Using different sources for the fire detection increases the reliability of the system and enables different system configurations for different environmental contexts and price segments. Main features of the FFDS are Detecting and reporting forest fires on time Monitoring forest and fires Uses the behavior of forest animals to detect fires\";\n",
    "        }\n",
    "        \n",
    "        package FFDS_Requirements {\n",
    "            package FFDS_Objectives {\n",
    "                requirement id 'OBJ-B1' 'Market Leader' : Objective {\n",
    "                    doc /* The system will make the vendor the market leader for forest fire detection systems. */\n",
    "                }\n",
    "                requirement id 'OBJ-S1' 'Reliable Detection' : Objective {\n",
    "                    doc /* Any forest fire is detected by the system on time to start effective counteractions. */\n",
    "                }\n",
    "                requirement id 'OBJ-S2' 'Affordability' : Objective {\n",
    "                    doc /* The system is affordable for any forest authority. */\n",
    "                }                               \n",
    "            }\n",
    "        }\n",
    "    }\n",
    "}"
   ]
  },
  {
   "cell_type": "code",
   "execution_count": 81,
   "metadata": {},
   "outputs": [
    {
     "data": {
      "image/svg+xml": [
       "<?xml version=\"1.0\" encoding=\"UTF-8\" standalone=\"no\"?><svg xmlns=\"http://www.w3.org/2000/svg\" xmlns:xlink=\"http://www.w3.org/1999/xlink\" contentScriptType=\"application/ecmascript\" contentStyleType=\"text/css\" height=\"412px\" preserveAspectRatio=\"none\" style=\"width:1450px;height:412px;\" version=\"1.1\" viewBox=\"0 0 1450 412\" width=\"1450px\" zoomAndPan=\"magnify\"><defs/><g><!--MD5=[fbc87193dbaf4d95561dea2c320d4a47]\n",
       "cluster E1--><a href=\"psysml:733cd720-d594-4c30-9510-d487251e51bf\" target=\"_top\" title=\"psysml:733cd720-d594-4c30-9510-d487251e51bf\" xlink:actuate=\"onRequest\" xlink:href=\"psysml:733cd720-d594-4c30-9510-d487251e51bf\" xlink:show=\"new\" xlink:title=\"psysml:733cd720-d594-4c30-9510-d487251e51bf\" xlink:type=\"simple\"><polygon fill=\"#FFFFFF\" points=\"16,6,258,6,265,29.6094,1428,29.6094,1428,400,16,400,16,6\" style=\"stroke: #000000; stroke-width: 1.5;\"/><line style=\"stroke: #000000; stroke-width: 1.5;\" x1=\"16\" x2=\"265\" y1=\"29.6094\" y2=\"29.6094\"/><text fill=\"#000000\" font-family=\"sans-serif\" font-size=\"14\" font-weight=\"bold\" lengthAdjust=\"spacingAndGlyphs\" textLength=\"236\" x=\"20\" y=\"22.5332\">ForestFireDetectionSystemModel</text></a><!--MD5=[e4f7fae6ed58524ba242bb0b0d3be6b7]\n",
       "cluster E2--><a href=\"psysml:ad121bbf-440b-4d61-9827-a563d5c85ec7\" target=\"_top\" title=\"psysml:ad121bbf-440b-4d61-9827-a563d5c85ec7\" xlink:actuate=\"onRequest\" xlink:href=\"psysml:ad121bbf-440b-4d61-9827-a563d5c85ec7\" xlink:show=\"new\" xlink:title=\"psysml:ad121bbf-440b-4d61-9827-a563d5c85ec7\" xlink:type=\"simple\"><polygon fill=\"#FFFFFF\" points=\"40,50,125,50,132,73.6094,1404,73.6094,1404,376,40,376,40,50\" style=\"stroke: #000000; stroke-width: 1.5;\"/><line style=\"stroke: #000000; stroke-width: 1.5;\" x1=\"40\" x2=\"132\" y1=\"73.6094\" y2=\"73.6094\"/><text fill=\"#000000\" font-family=\"sans-serif\" font-size=\"14\" font-weight=\"bold\" lengthAdjust=\"spacingAndGlyphs\" textLength=\"79\" x=\"44\" y=\"66.5332\">FFDS_Core</text></a><!--MD5=[f6df4d0ebaf0b5dfb2ced0ae5af7c670]\n",
       "cluster E4--><a href=\"psysml:f3bbcd87-ecd3-4d1a-9a3e-7a6c441a740e\" target=\"_top\" title=\"psysml:f3bbcd87-ecd3-4d1a-9a3e-7a6c441a740e\" xlink:actuate=\"onRequest\" xlink:href=\"psysml:f3bbcd87-ecd3-4d1a-9a3e-7a6c441a740e\" xlink:show=\"new\" xlink:title=\"psysml:f3bbcd87-ecd3-4d1a-9a3e-7a6c441a740e\" xlink:type=\"simple\"><polygon fill=\"#FFFFFF\" points=\"384,101,534,101,541,124.6094,1380,124.6094,1380,305,384,305,384,101\" style=\"stroke: #000000; stroke-width: 1.5;\"/><line style=\"stroke: #000000; stroke-width: 1.5;\" x1=\"384\" x2=\"541\" y1=\"124.6094\" y2=\"124.6094\"/><text fill=\"#000000\" font-family=\"sans-serif\" font-size=\"14\" font-weight=\"bold\" lengthAdjust=\"spacingAndGlyphs\" textLength=\"144\" x=\"388\" y=\"117.5332\">FFDS_Requirements</text></a><!--MD5=[de5ec2e2e8f62f467e546659f5068c88]\n",
       "cluster E5--><a href=\"psysml:cd66eee8-78bd-4c5f-b684-296b88267a48\" target=\"_top\" title=\"psysml:cd66eee8-78bd-4c5f-b684-296b88267a48\" xlink:actuate=\"onRequest\" xlink:href=\"psysml:cd66eee8-78bd-4c5f-b684-296b88267a48\" xlink:show=\"new\" xlink:title=\"psysml:cd66eee8-78bd-4c5f-b684-296b88267a48\" xlink:type=\"simple\"><polygon fill=\"#FFFFFF\" points=\"408,145,535,145,542,168.6094,1356,168.6094,1356,281,408,281,408,145\" style=\"stroke: #000000; stroke-width: 1.5;\"/><line style=\"stroke: #000000; stroke-width: 1.5;\" x1=\"408\" x2=\"542\" y1=\"168.6094\" y2=\"168.6094\"/><text fill=\"#000000\" font-family=\"sans-serif\" font-size=\"14\" font-weight=\"bold\" lengthAdjust=\"spacingAndGlyphs\" textLength=\"121\" x=\"412\" y=\"161.5332\">FFDS_Objectives</text></a><!--MD5=[09b614a08d8cba4a07c9adeb5e0fee81]\n",
       "class E3--><a href=\"psysml:6615324a-aed1-4462-9667-65c08ebfc1dc\" target=\"_top\" title=\"psysml:6615324a-aed1-4462-9667-65c08ebfc1dc\" xlink:actuate=\"onRequest\" xlink:href=\"psysml:6615324a-aed1-4462-9667-65c08ebfc1dc\" xlink:show=\"new\" xlink:title=\"psysml:6615324a-aed1-4462-9667-65c08ebfc1dc\" xlink:type=\"simple\"><rect fill=\"#FFFFFF\" height=\"273.5625\" id=\"E3\" rx=\"10\" ry=\"10\" style=\"stroke: #383838; stroke-width: 1.5;\" width=\"312\" x=\"56\" y=\"86\"/><text fill=\"#000000\" font-family=\"sans-serif\" font-size=\"12\" font-style=\"italic\" lengthAdjust=\"spacingAndGlyphs\" textLength=\"35\" x=\"194.5\" y=\"103.457\">«part»</text><text fill=\"#000000\" font-family=\"sans-serif\" font-size=\"12\" lengthAdjust=\"spacingAndGlyphs\" textLength=\"78\" x=\"173\" y=\"118.5508\">FFDS: System</text><line style=\"stroke: #383838; stroke-width: 1.5;\" x1=\"57\" x2=\"367\" y1=\"126.1875\" y2=\"126.1875\"/><text fill=\"#000000\" font-family=\"sans-serif\" font-size=\"11\" lengthAdjust=\"spacingAndGlyphs\" textLength=\"258\" x=\"62\" y=\"159.4424\">problemStatement=\"How can we provide a forest fire</text><text fill=\"#000000\" font-family=\"sans-serif\" font-size=\"11\" lengthAdjust=\"spacingAndGlyphs\" textLength=\"288\" x=\"62\" y=\"173.2783\">detection system for forest authorities that can be scaled to</text><text fill=\"#000000\" font-family=\"sans-serif\" font-size=\"11\" lengthAdjust=\"spacingAndGlyphs\" textLength=\"289\" x=\"62\" y=\"187.1143\">any forest size, is affordable, highly reliable and accurate in</text><text fill=\"#000000\" font-family=\"sans-serif\" font-size=\"11\" lengthAdjust=\"spacingAndGlyphs\" textLength=\"111\" x=\"62\" y=\"200.9502\">detecting forest fires.\";</text><text fill=\"#000000\" font-family=\"sans-serif\" font-size=\"11\" font-style=\"italic\" lengthAdjust=\"spacingAndGlyphs\" textLength=\"147\" x=\"62\" y=\"214.7861\">:&gt;&gt;System::problemStatement</text><text fill=\"#000000\" font-family=\"sans-serif\" font-size=\"11\" lengthAdjust=\"spacingAndGlyphs\" textLength=\"288\" x=\"62\" y=\"228.6221\">systemIdea=\"The FFDS is a satellite-based system to detect</text><text fill=\"#000000\" font-family=\"sans-serif\" font-size=\"11\" lengthAdjust=\"spacingAndGlyphs\" textLength=\"291\" x=\"62\" y=\"242.458\">forest fires in very large areas. The system is also equipped</text><text fill=\"#000000\" font-family=\"sans-serif\" font-size=\"11\" lengthAdjust=\"spacingAndGlyphs\" textLength=\"289\" x=\"62\" y=\"256.2939\">with stationary sensors and animal sensors. Using different</text><text fill=\"#000000\" font-family=\"sans-serif\" font-size=\"11\" lengthAdjust=\"spacingAndGlyphs\" textLength=\"285\" x=\"62\" y=\"270.1299\">sources for the fire detection increases the reliability of the</text><text fill=\"#000000\" font-family=\"sans-serif\" font-size=\"11\" lengthAdjust=\"spacingAndGlyphs\" textLength=\"268\" x=\"62\" y=\"283.9658\">system and enables different system configurations for</text><text fill=\"#000000\" font-family=\"sans-serif\" font-size=\"11\" lengthAdjust=\"spacingAndGlyphs\" textLength=\"282\" x=\"62\" y=\"297.8018\">different environmental contexts and price segments. Main</text><text fill=\"#000000\" font-family=\"sans-serif\" font-size=\"11\" lengthAdjust=\"spacingAndGlyphs\" textLength=\"292\" x=\"62\" y=\"311.6377\">features of the FFDS are Detecting and reporting forest fires</text><text fill=\"#000000\" font-family=\"sans-serif\" font-size=\"11\" lengthAdjust=\"spacingAndGlyphs\" textLength=\"300\" x=\"62\" y=\"325.4736\">on time Monitoring forest and fires Uses the behavior of forest</text><text fill=\"#000000\" font-family=\"sans-serif\" font-size=\"11\" lengthAdjust=\"spacingAndGlyphs\" textLength=\"113\" x=\"62\" y=\"339.3096\">animals to detect fires\";</text><text fill=\"#000000\" font-family=\"sans-serif\" font-size=\"11\" font-style=\"italic\" lengthAdjust=\"spacingAndGlyphs\" textLength=\"113\" x=\"62\" y=\"353.1455\">:&gt;&gt;System::systemIdea</text><line style=\"stroke: #383838; stroke-width: 1.0;\" x1=\"57\" x2=\"189.5\" y1=\"141.1055\" y2=\"141.1055\"/><text fill=\"#000000\" font-family=\"sans-serif\" font-size=\"11\" lengthAdjust=\"spacingAndGlyphs\" textLength=\"45\" x=\"189.5\" y=\"145.1064\">attributes</text><line style=\"stroke: #383838; stroke-width: 1.0;\" x1=\"234.5\" x2=\"367\" y1=\"141.1055\" y2=\"141.1055\"/></a><!--MD5=[60a26617385b1d2d0262a64233df1f8d]\n",
       "class E6--><a href=\"psysml:bfd722b6-1666-439a-852a-6ee9f0f5d500\" target=\"_top\" title=\"psysml:bfd722b6-1666-439a-852a-6ee9f0f5d500\" xlink:actuate=\"onRequest\" xlink:href=\"psysml:bfd722b6-1666-439a-852a-6ee9f0f5d500\" xlink:show=\"new\" xlink:title=\"psysml:bfd722b6-1666-439a-852a-6ee9f0f5d500\" xlink:type=\"simple\"><rect fill=\"#FFFFFF\" height=\"83.8594\" id=\"E6\" rx=\"10\" ry=\"10\" style=\"stroke: #383838; stroke-width: 1.5;\" width=\"308\" x=\"1032\" y=\"181\"/><text fill=\"#000000\" font-family=\"sans-serif\" font-size=\"12\" font-style=\"italic\" lengthAdjust=\"spacingAndGlyphs\" textLength=\"81\" x=\"1145.5\" y=\"198.457\">«requirement»</text><text fill=\"#000000\" font-family=\"sans-serif\" font-size=\"12\" lengthAdjust=\"spacingAndGlyphs\" textLength=\"3\" x=\"1094.5\" y=\"213.5508\">[</text><text fill=\"#000000\" font-family=\"sans-serif\" font-size=\"12\" font-weight=\"bold\" lengthAdjust=\"spacingAndGlyphs\" textLength=\"43\" x=\"1097.5\" y=\"213.5508\">OBJ-B1</text><text fill=\"#000000\" font-family=\"sans-serif\" font-size=\"12\" lengthAdjust=\"spacingAndGlyphs\" textLength=\"140\" x=\"1140.5\" y=\"213.5508\">] Market Leader: Objective</text><line style=\"stroke: #383838; stroke-width: 1.5;\" x1=\"1033\" x2=\"1339\" y1=\"221.1875\" y2=\"221.1875\"/><text fill=\"#000000\" font-family=\"sans-serif\" font-size=\"11\" lengthAdjust=\"spacingAndGlyphs\" textLength=\"293\" x=\"1038\" y=\"236.6064\">The system will make the vendor the market leader for forest</text><text fill=\"#000000\" font-family=\"sans-serif\" font-size=\"11\" lengthAdjust=\"spacingAndGlyphs\" textLength=\"110\" x=\"1038\" y=\"250.4424\">fire detection systems.</text><line style=\"stroke: #383838; stroke-width: 1.0;\" x1=\"1033\" x2=\"1339\" y1=\"256.8594\" y2=\"256.8594\"/></a><!--MD5=[2156ba9850f5573cc1fc38a6a4b2f02b]\n",
       "class E7--><a href=\"psysml:bdb80e14-4ee3-44d4-a893-c2fa1d025ca1\" target=\"_top\" title=\"psysml:bdb80e14-4ee3-44d4-a893-c2fa1d025ca1\" xlink:actuate=\"onRequest\" xlink:href=\"psysml:bdb80e14-4ee3-44d4-a893-c2fa1d025ca1\" xlink:show=\"new\" xlink:title=\"psysml:bdb80e14-4ee3-44d4-a893-c2fa1d025ca1\" xlink:type=\"simple\"><rect fill=\"#FFFFFF\" height=\"83.8594\" id=\"E7\" rx=\"10\" ry=\"10\" style=\"stroke: #383838; stroke-width: 1.5;\" width=\"287\" x=\"709.5\" y=\"181\"/><text fill=\"#000000\" font-family=\"sans-serif\" font-size=\"12\" font-style=\"italic\" lengthAdjust=\"spacingAndGlyphs\" textLength=\"81\" x=\"812.5\" y=\"198.457\">«requirement»</text><text fill=\"#000000\" font-family=\"sans-serif\" font-size=\"12\" lengthAdjust=\"spacingAndGlyphs\" textLength=\"3\" x=\"750\" y=\"213.5508\">[</text><text fill=\"#000000\" font-family=\"sans-serif\" font-size=\"12\" font-weight=\"bold\" lengthAdjust=\"spacingAndGlyphs\" textLength=\"43\" x=\"753\" y=\"213.5508\">OBJ-S1</text><text fill=\"#000000\" font-family=\"sans-serif\" font-size=\"12\" lengthAdjust=\"spacingAndGlyphs\" textLength=\"163\" x=\"796\" y=\"213.5508\">] Reliable Detection: Objective</text><line style=\"stroke: #383838; stroke-width: 1.5;\" x1=\"710.5\" x2=\"995.5\" y1=\"221.1875\" y2=\"221.1875\"/><text fill=\"#000000\" font-family=\"sans-serif\" font-size=\"11\" lengthAdjust=\"spacingAndGlyphs\" textLength=\"272\" x=\"715.5\" y=\"236.6064\">Any forest fire is detected by the system on time to start</text><text fill=\"#000000\" font-family=\"sans-serif\" font-size=\"11\" lengthAdjust=\"spacingAndGlyphs\" textLength=\"121\" x=\"715.5\" y=\"250.4424\">effective counteractions.</text><line style=\"stroke: #383838; stroke-width: 1.0;\" x1=\"710.5\" x2=\"995.5\" y1=\"256.8594\" y2=\"256.8594\"/></a><!--MD5=[b9389687b975829384b498ac4b7476b2]\n",
       "class E8--><a href=\"psysml:b1a99408-4ce3-41b3-8e29-ca94e3ce7a12\" target=\"_top\" title=\"psysml:b1a99408-4ce3-41b3-8e29-ca94e3ce7a12\" xlink:actuate=\"onRequest\" xlink:href=\"psysml:b1a99408-4ce3-41b3-8e29-ca94e3ce7a12\" xlink:show=\"new\" xlink:title=\"psysml:b1a99408-4ce3-41b3-8e29-ca94e3ce7a12\" xlink:type=\"simple\"><rect fill=\"#FFFFFF\" height=\"70.0234\" id=\"E8\" rx=\"10\" ry=\"10\" style=\"stroke: #383838; stroke-width: 1.5;\" width=\"250\" x=\"424\" y=\"188\"/><text fill=\"#000000\" font-family=\"sans-serif\" font-size=\"12\" font-style=\"italic\" lengthAdjust=\"spacingAndGlyphs\" textLength=\"81\" x=\"508.5\" y=\"205.457\">«requirement»</text><text fill=\"#000000\" font-family=\"sans-serif\" font-size=\"12\" lengthAdjust=\"spacingAndGlyphs\" textLength=\"3\" x=\"465.5\" y=\"220.5508\">[</text><text fill=\"#000000\" font-family=\"sans-serif\" font-size=\"12\" font-weight=\"bold\" lengthAdjust=\"spacingAndGlyphs\" textLength=\"43\" x=\"468.5\" y=\"220.5508\">OBJ-S2</text><text fill=\"#000000\" font-family=\"sans-serif\" font-size=\"12\" lengthAdjust=\"spacingAndGlyphs\" textLength=\"124\" x=\"511.5\" y=\"220.5508\">] Affordability: Objective</text><line style=\"stroke: #383838; stroke-width: 1.5;\" x1=\"425\" x2=\"673\" y1=\"228.1875\" y2=\"228.1875\"/><text fill=\"#000000\" font-family=\"sans-serif\" font-size=\"11\" lengthAdjust=\"spacingAndGlyphs\" textLength=\"238\" x=\"430\" y=\"243.6064\">The system is affordable for any forest authority.</text><line style=\"stroke: #383838; stroke-width: 1.0;\" x1=\"425\" x2=\"673\" y1=\"250.0234\" y2=\"250.0234\"/></a><!--MD5=[ecb7582045645d3bd5a6ff194eea96c5]\n",
       "@startuml\r\n",
       "skinparam monochrome true\r\n",
       "skinparam classbackgroundcolor white\r\n",
       "skinparam shadowing false\r\n",
       "skinparam wrapWidth 300\r\n",
       "hide circle\r\n",
       "\r\n",
       "package \"ForestFireDetectionSystemModel\" as E1  [[psysml:733cd720-d594-4c30-9510-d487251e51bf ]]  {\r\n",
       "package \"FFDS_Core\" as E2  [[psysml:ad121bbf-440b-4d61-9827-a563d5c85ec7 ]]  {\r\n",
       "comp usage \"FFDS: System\" as E3  <<(T,blue)part>> [[psysml:6615324a-aed1-4462-9667-65c08ebfc1dc ]] {\r\n",
       "- - attributes - -\r\n",
       "problemStatement=\"How can we provide a forest fire detection system for forest authorities that can be scaled to any forest size, is affordable, highly reliable and accurate in detecting forest fires.\"; \\n//:>>System::problemStatement// \r\n",
       "systemIdea=\"The FFDS is a satellite-based system to detect forest fires in very large areas. The system is also equipped with stationary sensors and animal sensors. Using different sources for the fire detection increases the reliability of the system and enables different system configurations for different environmental contexts and price segments. Main features of the FFDS are Detecting and reporting forest fires on time Monitoring forest and fires Uses the behavior of forest animals to detect fires\"; \\n//:>>System::systemIdea// \r\n",
       "}\r\n",
       "package \"FFDS_Requirements\" as E4  [[psysml:f3bbcd87-ecd3-4d1a-9a3e-7a6c441a740e ]]  {\r\n",
       "package \"FFDS_Objectives\" as E5  [[psysml:cd66eee8-78bd-4c5f-b684-296b88267a48 ]]  {\r\n",
       "comp usage \" [<b>OBJ-B1</b>] Market Leader: Objective\" as E6  <<(T,blue)requirement>> [[psysml:bfd722b6-1666-439a-852a-6ee9f0f5d500 ]] {\r\n",
       "The system will make the vendor the market leader for forest fire detection systems.\r\n",
       "- -\r\n",
       "}\r\n",
       "comp usage \" [<b>OBJ-S1</b>] Reliable Detection: Objective\" as E7  <<(T,blue)requirement>> [[psysml:bdb80e14-4ee3-44d4-a893-c2fa1d025ca1 ]] {\r\n",
       "Any forest fire is detected by the system on time to start effective counteractions.\r\n",
       "- -\r\n",
       "}\r\n",
       "comp usage \" [<b>OBJ-S2</b>] Affordability: Objective\" as E8  <<(T,blue)requirement>> [[psysml:b1a99408-4ce3-41b3-8e29-ca94e3ce7a12 ]] {\r\n",
       "The system is affordable for any forest authority.\r\n",
       "- -\r\n",
       "}\r\n",
       "}\r\n",
       "}\r\n",
       "}\r\n",
       "}\r\n",
       "@enduml\r\n",
       "\n",
       "PlantUML version 1.2020.13(Sat Jun 13 14:26:38 CEST 2020)\n",
       "(EPL source distribution)\n",
       "Java Runtime: OpenJDK Runtime Environment\n",
       "JVM: OpenJDK 64-Bit Server VM\n",
       "Default Encoding: Cp1252\n",
       "Language: en\n",
       "Country: US\n",
       "--></g></svg>"
      ]
     },
     "execution_count": 81,
     "metadata": {},
     "output_type": "execute_result"
    }
   ],
   "source": [
    "%viz ForestFireDetectionSystemModel"
   ]
  },
  {
   "cell_type": "markdown",
   "metadata": {},
   "source": [
    "### System Context<a name=\"sysmlv2sysmodcontext\"></a>"
   ]
  },
  {
   "cell_type": "markdown",
   "metadata": {},
   "source": [
    "The concepts of use cases and actors are not yet defined in SysML v2. Therefore, the external entities of the system are defined as parts of the context. You must execute the SYSMOD library in chapter [SYSMOD Language Library](#sysmodlibrary) before executing the following cell."
   ]
  },
  {
   "cell_type": "code",
   "execution_count": 88,
   "metadata": {},
   "outputs": [
    {
     "data": {
      "text/plain": [
       "Package ForestFireDetectionSystemModel (37342c2d-d124-4f2b-b8ea-5f459fb91f73)\n"
      ]
     },
     "execution_count": 88,
     "metadata": {},
     "output_type": "execute_result"
    }
   ],
   "source": [
    "package ForestFireDetectionSystemModel {\n",
    "    \n",
    "    import SYSMOD::*;\n",
    "    \n",
    "    package FFDS_Core {\n",
    "    \n",
    "       part 'FFDS System Context' : SystemContext {\n",
    "          part FFDS : System :> systemOfInterest {            \n",
    "            value redefines problemStatement = \"How can we provide a forest fire detection system for forest authorities that can be scaled to any forest size, is affordable, highly reliable and accurate in detecting forest fires.\";\n",
    "            value redefines systemIdea = \"The FFDS is a satellite-based system to detect forest fires in very large areas. The system is also equipped with stationary sensors and animal sensors. Using different sources for the fire detection increases the reliability of the system and enables different system configurations for different environmental contexts and price segments. Main features of the FFDS are Detecting and reporting forest fires on time Monitoring forest and fires Uses the behavior of forest animals to detect fires\";\n",
    "          }\n",
    "          part Operator : User subsets actors;\n",
    "          part Administrator : User subsets actors;\n",
    "          part 'Forest Ranger' : User subsets actors;\n",
    "          part Maintenance : User subsets actors;\n",
    "          part 'Fire Department' : ExternalSystem subsets actors;\n",
    "          part 'Meteorology data system' : ExternalSystem subsets actors;\n",
    "          part 'Research analysis system' : ExternalSystem subsets actors;\n",
    "          part 'Weather' : EnvironmentalEffect subsets actors;\n",
    "          part 'Fire' : EnvironmentalEffect subsets actors;\n",
    "          part 'Planet Environment' : EnvironmentalImpact subsets actors;          \n",
    "       }                \n",
    "    \n",
    "       package FFDS_Requirements {\n",
    "          package FFDS_Objectives {\n",
    "             requirement id 'OBJ-B1' 'Market Leader' : Objective {\n",
    "                  doc /* The system will make the vendor the market leader for forest fire detection systems. */\n",
    "             }\n",
    "             requirement id 'OBJ-S1' 'Reliable Detection' : Objective {\n",
    "                  doc /* Any forest fire is detected by the system on time to start effective counteractions. */\n",
    "             }\n",
    "             requirement id 'OBJ-S2' 'Affordability' : Objective {\n",
    "                  doc /* The system is affordable for any forest authority. */\n",
    "             }                               \n",
    "         }\n",
    "      }\n",
    "   }\n",
    "}"
   ]
  },
  {
   "cell_type": "code",
   "execution_count": 84,
   "metadata": {},
   "outputs": [
    {
     "data": {
      "image/svg+xml": [
       "<?xml version=\"1.0\" encoding=\"UTF-8\" standalone=\"no\"?><svg xmlns=\"http://www.w3.org/2000/svg\" xmlns:xlink=\"http://www.w3.org/1999/xlink\" contentScriptType=\"application/ecmascript\" contentStyleType=\"text/css\" height=\"412px\" preserveAspectRatio=\"none\" style=\"width:1450px;height:412px;\" version=\"1.1\" viewBox=\"0 0 1450 412\" width=\"1450px\" zoomAndPan=\"magnify\"><defs/><g><!--MD5=[fbc87193dbaf4d95561dea2c320d4a47]\n",
       "cluster E1--><a href=\"psysml:733cd720-d594-4c30-9510-d487251e51bf\" target=\"_top\" title=\"psysml:733cd720-d594-4c30-9510-d487251e51bf\" xlink:actuate=\"onRequest\" xlink:href=\"psysml:733cd720-d594-4c30-9510-d487251e51bf\" xlink:show=\"new\" xlink:title=\"psysml:733cd720-d594-4c30-9510-d487251e51bf\" xlink:type=\"simple\"><polygon fill=\"#FFFFFF\" points=\"16,6,258,6,265,29.6094,1428,29.6094,1428,400,16,400,16,6\" style=\"stroke: #000000; stroke-width: 1.5;\"/><line style=\"stroke: #000000; stroke-width: 1.5;\" x1=\"16\" x2=\"265\" y1=\"29.6094\" y2=\"29.6094\"/><text fill=\"#000000\" font-family=\"sans-serif\" font-size=\"14\" font-weight=\"bold\" lengthAdjust=\"spacingAndGlyphs\" textLength=\"236\" x=\"20\" y=\"22.5332\">ForestFireDetectionSystemModel</text></a><!--MD5=[e4f7fae6ed58524ba242bb0b0d3be6b7]\n",
       "cluster E2--><a href=\"psysml:ad121bbf-440b-4d61-9827-a563d5c85ec7\" target=\"_top\" title=\"psysml:ad121bbf-440b-4d61-9827-a563d5c85ec7\" xlink:actuate=\"onRequest\" xlink:href=\"psysml:ad121bbf-440b-4d61-9827-a563d5c85ec7\" xlink:show=\"new\" xlink:title=\"psysml:ad121bbf-440b-4d61-9827-a563d5c85ec7\" xlink:type=\"simple\"><polygon fill=\"#FFFFFF\" points=\"40,50,125,50,132,73.6094,1404,73.6094,1404,376,40,376,40,50\" style=\"stroke: #000000; stroke-width: 1.5;\"/><line style=\"stroke: #000000; stroke-width: 1.5;\" x1=\"40\" x2=\"132\" y1=\"73.6094\" y2=\"73.6094\"/><text fill=\"#000000\" font-family=\"sans-serif\" font-size=\"14\" font-weight=\"bold\" lengthAdjust=\"spacingAndGlyphs\" textLength=\"79\" x=\"44\" y=\"66.5332\">FFDS_Core</text></a><!--MD5=[f6df4d0ebaf0b5dfb2ced0ae5af7c670]\n",
       "cluster E4--><a href=\"psysml:f3bbcd87-ecd3-4d1a-9a3e-7a6c441a740e\" target=\"_top\" title=\"psysml:f3bbcd87-ecd3-4d1a-9a3e-7a6c441a740e\" xlink:actuate=\"onRequest\" xlink:href=\"psysml:f3bbcd87-ecd3-4d1a-9a3e-7a6c441a740e\" xlink:show=\"new\" xlink:title=\"psysml:f3bbcd87-ecd3-4d1a-9a3e-7a6c441a740e\" xlink:type=\"simple\"><polygon fill=\"#FFFFFF\" points=\"384,101,534,101,541,124.6094,1380,124.6094,1380,305,384,305,384,101\" style=\"stroke: #000000; stroke-width: 1.5;\"/><line style=\"stroke: #000000; stroke-width: 1.5;\" x1=\"384\" x2=\"541\" y1=\"124.6094\" y2=\"124.6094\"/><text fill=\"#000000\" font-family=\"sans-serif\" font-size=\"14\" font-weight=\"bold\" lengthAdjust=\"spacingAndGlyphs\" textLength=\"144\" x=\"388\" y=\"117.5332\">FFDS_Requirements</text></a><!--MD5=[de5ec2e2e8f62f467e546659f5068c88]\n",
       "cluster E5--><a href=\"psysml:cd66eee8-78bd-4c5f-b684-296b88267a48\" target=\"_top\" title=\"psysml:cd66eee8-78bd-4c5f-b684-296b88267a48\" xlink:actuate=\"onRequest\" xlink:href=\"psysml:cd66eee8-78bd-4c5f-b684-296b88267a48\" xlink:show=\"new\" xlink:title=\"psysml:cd66eee8-78bd-4c5f-b684-296b88267a48\" xlink:type=\"simple\"><polygon fill=\"#FFFFFF\" points=\"408,145,535,145,542,168.6094,1356,168.6094,1356,281,408,281,408,145\" style=\"stroke: #000000; stroke-width: 1.5;\"/><line style=\"stroke: #000000; stroke-width: 1.5;\" x1=\"408\" x2=\"542\" y1=\"168.6094\" y2=\"168.6094\"/><text fill=\"#000000\" font-family=\"sans-serif\" font-size=\"14\" font-weight=\"bold\" lengthAdjust=\"spacingAndGlyphs\" textLength=\"121\" x=\"412\" y=\"161.5332\">FFDS_Objectives</text></a><!--MD5=[09b614a08d8cba4a07c9adeb5e0fee81]\n",
       "class E3--><a href=\"psysml:6615324a-aed1-4462-9667-65c08ebfc1dc\" target=\"_top\" title=\"psysml:6615324a-aed1-4462-9667-65c08ebfc1dc\" xlink:actuate=\"onRequest\" xlink:href=\"psysml:6615324a-aed1-4462-9667-65c08ebfc1dc\" xlink:show=\"new\" xlink:title=\"psysml:6615324a-aed1-4462-9667-65c08ebfc1dc\" xlink:type=\"simple\"><rect fill=\"#FFFFFF\" height=\"273.5625\" id=\"E3\" rx=\"10\" ry=\"10\" style=\"stroke: #383838; stroke-width: 1.5;\" width=\"312\" x=\"56\" y=\"86\"/><text fill=\"#000000\" font-family=\"sans-serif\" font-size=\"12\" font-style=\"italic\" lengthAdjust=\"spacingAndGlyphs\" textLength=\"35\" x=\"194.5\" y=\"103.457\">«part»</text><text fill=\"#000000\" font-family=\"sans-serif\" font-size=\"12\" lengthAdjust=\"spacingAndGlyphs\" textLength=\"78\" x=\"173\" y=\"118.5508\">FFDS: System</text><line style=\"stroke: #383838; stroke-width: 1.5;\" x1=\"57\" x2=\"367\" y1=\"126.1875\" y2=\"126.1875\"/><text fill=\"#000000\" font-family=\"sans-serif\" font-size=\"11\" lengthAdjust=\"spacingAndGlyphs\" textLength=\"258\" x=\"62\" y=\"159.4424\">problemStatement=\"How can we provide a forest fire</text><text fill=\"#000000\" font-family=\"sans-serif\" font-size=\"11\" lengthAdjust=\"spacingAndGlyphs\" textLength=\"288\" x=\"62\" y=\"173.2783\">detection system for forest authorities that can be scaled to</text><text fill=\"#000000\" font-family=\"sans-serif\" font-size=\"11\" lengthAdjust=\"spacingAndGlyphs\" textLength=\"289\" x=\"62\" y=\"187.1143\">any forest size, is affordable, highly reliable and accurate in</text><text fill=\"#000000\" font-family=\"sans-serif\" font-size=\"11\" lengthAdjust=\"spacingAndGlyphs\" textLength=\"111\" x=\"62\" y=\"200.9502\">detecting forest fires.\";</text><text fill=\"#000000\" font-family=\"sans-serif\" font-size=\"11\" font-style=\"italic\" lengthAdjust=\"spacingAndGlyphs\" textLength=\"147\" x=\"62\" y=\"214.7861\">:&gt;&gt;System::problemStatement</text><text fill=\"#000000\" font-family=\"sans-serif\" font-size=\"11\" lengthAdjust=\"spacingAndGlyphs\" textLength=\"288\" x=\"62\" y=\"228.6221\">systemIdea=\"The FFDS is a satellite-based system to detect</text><text fill=\"#000000\" font-family=\"sans-serif\" font-size=\"11\" lengthAdjust=\"spacingAndGlyphs\" textLength=\"291\" x=\"62\" y=\"242.458\">forest fires in very large areas. The system is also equipped</text><text fill=\"#000000\" font-family=\"sans-serif\" font-size=\"11\" lengthAdjust=\"spacingAndGlyphs\" textLength=\"289\" x=\"62\" y=\"256.2939\">with stationary sensors and animal sensors. Using different</text><text fill=\"#000000\" font-family=\"sans-serif\" font-size=\"11\" lengthAdjust=\"spacingAndGlyphs\" textLength=\"285\" x=\"62\" y=\"270.1299\">sources for the fire detection increases the reliability of the</text><text fill=\"#000000\" font-family=\"sans-serif\" font-size=\"11\" lengthAdjust=\"spacingAndGlyphs\" textLength=\"268\" x=\"62\" y=\"283.9658\">system and enables different system configurations for</text><text fill=\"#000000\" font-family=\"sans-serif\" font-size=\"11\" lengthAdjust=\"spacingAndGlyphs\" textLength=\"282\" x=\"62\" y=\"297.8018\">different environmental contexts and price segments. Main</text><text fill=\"#000000\" font-family=\"sans-serif\" font-size=\"11\" lengthAdjust=\"spacingAndGlyphs\" textLength=\"292\" x=\"62\" y=\"311.6377\">features of the FFDS are Detecting and reporting forest fires</text><text fill=\"#000000\" font-family=\"sans-serif\" font-size=\"11\" lengthAdjust=\"spacingAndGlyphs\" textLength=\"300\" x=\"62\" y=\"325.4736\">on time Monitoring forest and fires Uses the behavior of forest</text><text fill=\"#000000\" font-family=\"sans-serif\" font-size=\"11\" lengthAdjust=\"spacingAndGlyphs\" textLength=\"113\" x=\"62\" y=\"339.3096\">animals to detect fires\";</text><text fill=\"#000000\" font-family=\"sans-serif\" font-size=\"11\" font-style=\"italic\" lengthAdjust=\"spacingAndGlyphs\" textLength=\"113\" x=\"62\" y=\"353.1455\">:&gt;&gt;System::systemIdea</text><line style=\"stroke: #383838; stroke-width: 1.0;\" x1=\"57\" x2=\"189.5\" y1=\"141.1055\" y2=\"141.1055\"/><text fill=\"#000000\" font-family=\"sans-serif\" font-size=\"11\" lengthAdjust=\"spacingAndGlyphs\" textLength=\"45\" x=\"189.5\" y=\"145.1064\">attributes</text><line style=\"stroke: #383838; stroke-width: 1.0;\" x1=\"234.5\" x2=\"367\" y1=\"141.1055\" y2=\"141.1055\"/></a><!--MD5=[60a26617385b1d2d0262a64233df1f8d]\n",
       "class E6--><a href=\"psysml:bfd722b6-1666-439a-852a-6ee9f0f5d500\" target=\"_top\" title=\"psysml:bfd722b6-1666-439a-852a-6ee9f0f5d500\" xlink:actuate=\"onRequest\" xlink:href=\"psysml:bfd722b6-1666-439a-852a-6ee9f0f5d500\" xlink:show=\"new\" xlink:title=\"psysml:bfd722b6-1666-439a-852a-6ee9f0f5d500\" xlink:type=\"simple\"><rect fill=\"#FFFFFF\" height=\"83.8594\" id=\"E6\" rx=\"10\" ry=\"10\" style=\"stroke: #383838; stroke-width: 1.5;\" width=\"308\" x=\"1032\" y=\"181\"/><text fill=\"#000000\" font-family=\"sans-serif\" font-size=\"12\" font-style=\"italic\" lengthAdjust=\"spacingAndGlyphs\" textLength=\"81\" x=\"1145.5\" y=\"198.457\">«requirement»</text><text fill=\"#000000\" font-family=\"sans-serif\" font-size=\"12\" lengthAdjust=\"spacingAndGlyphs\" textLength=\"3\" x=\"1094.5\" y=\"213.5508\">[</text><text fill=\"#000000\" font-family=\"sans-serif\" font-size=\"12\" font-weight=\"bold\" lengthAdjust=\"spacingAndGlyphs\" textLength=\"43\" x=\"1097.5\" y=\"213.5508\">OBJ-B1</text><text fill=\"#000000\" font-family=\"sans-serif\" font-size=\"12\" lengthAdjust=\"spacingAndGlyphs\" textLength=\"140\" x=\"1140.5\" y=\"213.5508\">] Market Leader: Objective</text><line style=\"stroke: #383838; stroke-width: 1.5;\" x1=\"1033\" x2=\"1339\" y1=\"221.1875\" y2=\"221.1875\"/><text fill=\"#000000\" font-family=\"sans-serif\" font-size=\"11\" lengthAdjust=\"spacingAndGlyphs\" textLength=\"293\" x=\"1038\" y=\"236.6064\">The system will make the vendor the market leader for forest</text><text fill=\"#000000\" font-family=\"sans-serif\" font-size=\"11\" lengthAdjust=\"spacingAndGlyphs\" textLength=\"110\" x=\"1038\" y=\"250.4424\">fire detection systems.</text><line style=\"stroke: #383838; stroke-width: 1.0;\" x1=\"1033\" x2=\"1339\" y1=\"256.8594\" y2=\"256.8594\"/></a><!--MD5=[2156ba9850f5573cc1fc38a6a4b2f02b]\n",
       "class E7--><a href=\"psysml:bdb80e14-4ee3-44d4-a893-c2fa1d025ca1\" target=\"_top\" title=\"psysml:bdb80e14-4ee3-44d4-a893-c2fa1d025ca1\" xlink:actuate=\"onRequest\" xlink:href=\"psysml:bdb80e14-4ee3-44d4-a893-c2fa1d025ca1\" xlink:show=\"new\" xlink:title=\"psysml:bdb80e14-4ee3-44d4-a893-c2fa1d025ca1\" xlink:type=\"simple\"><rect fill=\"#FFFFFF\" height=\"83.8594\" id=\"E7\" rx=\"10\" ry=\"10\" style=\"stroke: #383838; stroke-width: 1.5;\" width=\"287\" x=\"709.5\" y=\"181\"/><text fill=\"#000000\" font-family=\"sans-serif\" font-size=\"12\" font-style=\"italic\" lengthAdjust=\"spacingAndGlyphs\" textLength=\"81\" x=\"812.5\" y=\"198.457\">«requirement»</text><text fill=\"#000000\" font-family=\"sans-serif\" font-size=\"12\" lengthAdjust=\"spacingAndGlyphs\" textLength=\"3\" x=\"750\" y=\"213.5508\">[</text><text fill=\"#000000\" font-family=\"sans-serif\" font-size=\"12\" font-weight=\"bold\" lengthAdjust=\"spacingAndGlyphs\" textLength=\"43\" x=\"753\" y=\"213.5508\">OBJ-S1</text><text fill=\"#000000\" font-family=\"sans-serif\" font-size=\"12\" lengthAdjust=\"spacingAndGlyphs\" textLength=\"163\" x=\"796\" y=\"213.5508\">] Reliable Detection: Objective</text><line style=\"stroke: #383838; stroke-width: 1.5;\" x1=\"710.5\" x2=\"995.5\" y1=\"221.1875\" y2=\"221.1875\"/><text fill=\"#000000\" font-family=\"sans-serif\" font-size=\"11\" lengthAdjust=\"spacingAndGlyphs\" textLength=\"272\" x=\"715.5\" y=\"236.6064\">Any forest fire is detected by the system on time to start</text><text fill=\"#000000\" font-family=\"sans-serif\" font-size=\"11\" lengthAdjust=\"spacingAndGlyphs\" textLength=\"121\" x=\"715.5\" y=\"250.4424\">effective counteractions.</text><line style=\"stroke: #383838; stroke-width: 1.0;\" x1=\"710.5\" x2=\"995.5\" y1=\"256.8594\" y2=\"256.8594\"/></a><!--MD5=[b9389687b975829384b498ac4b7476b2]\n",
       "class E8--><a href=\"psysml:b1a99408-4ce3-41b3-8e29-ca94e3ce7a12\" target=\"_top\" title=\"psysml:b1a99408-4ce3-41b3-8e29-ca94e3ce7a12\" xlink:actuate=\"onRequest\" xlink:href=\"psysml:b1a99408-4ce3-41b3-8e29-ca94e3ce7a12\" xlink:show=\"new\" xlink:title=\"psysml:b1a99408-4ce3-41b3-8e29-ca94e3ce7a12\" xlink:type=\"simple\"><rect fill=\"#FFFFFF\" height=\"70.0234\" id=\"E8\" rx=\"10\" ry=\"10\" style=\"stroke: #383838; stroke-width: 1.5;\" width=\"250\" x=\"424\" y=\"188\"/><text fill=\"#000000\" font-family=\"sans-serif\" font-size=\"12\" font-style=\"italic\" lengthAdjust=\"spacingAndGlyphs\" textLength=\"81\" x=\"508.5\" y=\"205.457\">«requirement»</text><text fill=\"#000000\" font-family=\"sans-serif\" font-size=\"12\" lengthAdjust=\"spacingAndGlyphs\" textLength=\"3\" x=\"465.5\" y=\"220.5508\">[</text><text fill=\"#000000\" font-family=\"sans-serif\" font-size=\"12\" font-weight=\"bold\" lengthAdjust=\"spacingAndGlyphs\" textLength=\"43\" x=\"468.5\" y=\"220.5508\">OBJ-S2</text><text fill=\"#000000\" font-family=\"sans-serif\" font-size=\"12\" lengthAdjust=\"spacingAndGlyphs\" textLength=\"124\" x=\"511.5\" y=\"220.5508\">] Affordability: Objective</text><line style=\"stroke: #383838; stroke-width: 1.5;\" x1=\"425\" x2=\"673\" y1=\"228.1875\" y2=\"228.1875\"/><text fill=\"#000000\" font-family=\"sans-serif\" font-size=\"11\" lengthAdjust=\"spacingAndGlyphs\" textLength=\"238\" x=\"430\" y=\"243.6064\">The system is affordable for any forest authority.</text><line style=\"stroke: #383838; stroke-width: 1.0;\" x1=\"425\" x2=\"673\" y1=\"250.0234\" y2=\"250.0234\"/></a><!--MD5=[ecb7582045645d3bd5a6ff194eea96c5]\n",
       "@startuml\r\n",
       "skinparam monochrome true\r\n",
       "skinparam classbackgroundcolor white\r\n",
       "skinparam shadowing false\r\n",
       "skinparam wrapWidth 300\r\n",
       "hide circle\r\n",
       "\r\n",
       "package \"ForestFireDetectionSystemModel\" as E1  [[psysml:733cd720-d594-4c30-9510-d487251e51bf ]]  {\r\n",
       "package \"FFDS_Core\" as E2  [[psysml:ad121bbf-440b-4d61-9827-a563d5c85ec7 ]]  {\r\n",
       "comp usage \"FFDS: System\" as E3  <<(T,blue)part>> [[psysml:6615324a-aed1-4462-9667-65c08ebfc1dc ]] {\r\n",
       "- - attributes - -\r\n",
       "problemStatement=\"How can we provide a forest fire detection system for forest authorities that can be scaled to any forest size, is affordable, highly reliable and accurate in detecting forest fires.\"; \\n//:>>System::problemStatement// \r\n",
       "systemIdea=\"The FFDS is a satellite-based system to detect forest fires in very large areas. The system is also equipped with stationary sensors and animal sensors. Using different sources for the fire detection increases the reliability of the system and enables different system configurations for different environmental contexts and price segments. Main features of the FFDS are Detecting and reporting forest fires on time Monitoring forest and fires Uses the behavior of forest animals to detect fires\"; \\n//:>>System::systemIdea// \r\n",
       "}\r\n",
       "package \"FFDS_Requirements\" as E4  [[psysml:f3bbcd87-ecd3-4d1a-9a3e-7a6c441a740e ]]  {\r\n",
       "package \"FFDS_Objectives\" as E5  [[psysml:cd66eee8-78bd-4c5f-b684-296b88267a48 ]]  {\r\n",
       "comp usage \" [<b>OBJ-B1</b>] Market Leader: Objective\" as E6  <<(T,blue)requirement>> [[psysml:bfd722b6-1666-439a-852a-6ee9f0f5d500 ]] {\r\n",
       "The system will make the vendor the market leader for forest fire detection systems.\r\n",
       "- -\r\n",
       "}\r\n",
       "comp usage \" [<b>OBJ-S1</b>] Reliable Detection: Objective\" as E7  <<(T,blue)requirement>> [[psysml:bdb80e14-4ee3-44d4-a893-c2fa1d025ca1 ]] {\r\n",
       "Any forest fire is detected by the system on time to start effective counteractions.\r\n",
       "- -\r\n",
       "}\r\n",
       "comp usage \" [<b>OBJ-S2</b>] Affordability: Objective\" as E8  <<(T,blue)requirement>> [[psysml:b1a99408-4ce3-41b3-8e29-ca94e3ce7a12 ]] {\r\n",
       "The system is affordable for any forest authority.\r\n",
       "- -\r\n",
       "}\r\n",
       "}\r\n",
       "}\r\n",
       "}\r\n",
       "}\r\n",
       "@enduml\r\n",
       "\n",
       "PlantUML version 1.2020.13(Sat Jun 13 14:26:38 CEST 2020)\n",
       "(EPL source distribution)\n",
       "Java Runtime: OpenJDK Runtime Environment\n",
       "JVM: OpenJDK 64-Bit Server VM\n",
       "Default Encoding: Cp1252\n",
       "Language: en\n",
       "Country: US\n",
       "--></g></svg>"
      ]
     },
     "execution_count": 84,
     "metadata": {},
     "output_type": "execute_result"
    }
   ],
   "source": [
    "%viz ForestFireDetectionSystemModel"
   ]
  },
  {
   "cell_type": "markdown",
   "metadata": {},
   "source": [
    "### System Use Cases"
   ]
  },
  {
   "cell_type": "markdown",
   "metadata": {},
   "source": [
    "### Use Case Activities"
   ]
  },
  {
   "cell_type": "markdown",
   "metadata": {},
   "source": [
    "### Domain Model"
   ]
  },
  {
   "cell_type": "markdown",
   "metadata": {},
   "source": [
    "### Quality Requirements"
   ]
  },
  {
   "cell_type": "markdown",
   "metadata": {},
   "source": [
    "### Logical Architecture "
   ]
  },
  {
   "cell_type": "markdown",
   "metadata": {},
   "source": [
    "### Product Architecture"
   ]
  },
  {
   "cell_type": "markdown",
   "metadata": {},
   "source": [
    "### System States"
   ]
  },
  {
   "cell_type": "markdown",
   "metadata": {},
   "source": [
    "### Verify Architecture with Scenarios"
   ]
  },
  {
   "cell_type": "markdown",
   "metadata": {},
   "source": [
    "### Test Cases"
   ]
  },
  {
   "cell_type": "markdown",
   "metadata": {},
   "source": [
    "### SYSMOD Language Library<a name=\"sysmodlibrary\"></a>"
   ]
  },
  {
   "cell_type": "code",
   "execution_count": 85,
   "metadata": {},
   "outputs": [
    {
     "data": {
      "text/plain": [
       "Package SYSMOD (fe87ed88-2df4-474b-9fbe-beff8d091e11)\n"
      ]
     },
     "execution_count": 85,
     "metadata": {},
     "output_type": "execute_result"
    }
   ],
   "source": [
    "package SYSMOD {\n",
    "\n",
    "    doc /* SYSMOD - The Systems Modeling Toolbox, Version 5.0beta */\n",
    "        \n",
    "    requirement def Objective {\n",
    "        doc /* A objective is an objective of the system. It is a special kind of a requirement that is typically not satisfied but amplified by the system. */\n",
    "    }\n",
    "    \n",
    "    part def System {\n",
    "        doc /* Marks the system under development. Typically there is only one block in the model with that stereotype. However in a System of Systems (SoS) model there could be more. */\n",
    "        import ScalarValues::String;\n",
    "        value problemStatement : String;\n",
    "        value systemIdea : String;\n",
    "    }\n",
    "    \n",
    "    part def SystemContext {\n",
    "        doc /* A system context is a wrapper around the system and it's actors to allow a detailed system context modeling. The system context references the appropriate system. This is important in a SoS model. */\n",
    "            \n",
    "        part systemOfInterest : System;\n",
    "        part actors[0..*];        \n",
    "    }\n",
    "    \n",
    "    part def User;\n",
    "    part def ExternalSystem;\n",
    "    part def EnvironmentalEffect;\n",
    "    part def EnvironmentalImpact;\n",
    "}"
   ]
  },
  {
   "cell_type": "code",
   "execution_count": 47,
   "metadata": {},
   "outputs": [
    {
     "data": {
      "image/svg+xml": [
       "<?xml version=\"1.0\" encoding=\"UTF-8\" standalone=\"no\"?><svg xmlns=\"http://www.w3.org/2000/svg\" xmlns:xlink=\"http://www.w3.org/1999/xlink\" contentScriptType=\"application/ecmascript\" contentStyleType=\"text/css\" height=\"538px\" preserveAspectRatio=\"none\" style=\"width:1029px;height:538px;\" version=\"1.1\" viewBox=\"0 0 1029 538\" width=\"1029px\" zoomAndPan=\"magnify\"><defs/><g><!--MD5=[fbc87193dbaf4d95561dea2c320d4a47]\n",
       "cluster E1--><a href=\"psysml:efa24f7d-f116-4730-93ea-341f3bac3471\" target=\"_top\" title=\"psysml:efa24f7d-f116-4730-93ea-341f3bac3471\" xlink:actuate=\"onRequest\" xlink:href=\"psysml:efa24f7d-f116-4730-93ea-341f3bac3471\" xlink:show=\"new\" xlink:title=\"psysml:efa24f7d-f116-4730-93ea-341f3bac3471\" xlink:type=\"simple\"><polygon fill=\"#FFFFFF\" points=\"16,6,84,6,91,29.6094,1007,29.6094,1007,526,16,526,16,6\" style=\"stroke: #000000; stroke-width: 1.5;\"/><line style=\"stroke: #000000; stroke-width: 1.5;\" x1=\"16\" x2=\"91\" y1=\"29.6094\" y2=\"29.6094\"/><text fill=\"#000000\" font-family=\"sans-serif\" font-size=\"14\" font-weight=\"bold\" lengthAdjust=\"spacingAndGlyphs\" textLength=\"62\" x=\"20\" y=\"22.5332\">SYSMOD</text></a><!--MD5=[b4997ac47864f28c2f74865a473b2911]\n",
       "class E2--><a href=\"psysml:ff9358ca-914d-4071-806c-0332d8148cb8\" target=\"_top\" title=\"psysml:ff9358ca-914d-4071-806c-0332d8148cb8\" xlink:actuate=\"onRequest\" xlink:href=\"psysml:ff9358ca-914d-4071-806c-0332d8148cb8\" xlink:show=\"new\" xlink:title=\"psysml:ff9358ca-914d-4071-806c-0332d8148cb8\" xlink:type=\"simple\"><rect fill=\"#FFFFFF\" height=\"97.6953\" id=\"E2\" style=\"stroke: #383838; stroke-width: 1.5;\" width=\"310\" x=\"681\" y=\"42\"/><text fill=\"#000000\" font-family=\"sans-serif\" font-size=\"12\" font-style=\"italic\" lengthAdjust=\"spacingAndGlyphs\" textLength=\"101\" x=\"785.5\" y=\"59.457\">«requirement def»</text><text fill=\"#000000\" font-family=\"sans-serif\" font-size=\"12\" lengthAdjust=\"spacingAndGlyphs\" textLength=\"50\" x=\"811\" y=\"74.5508\">Objective</text><line style=\"stroke: #383838; stroke-width: 1.5;\" x1=\"682\" x2=\"990\" y1=\"82.1875\" y2=\"82.1875\"/><text fill=\"#000000\" font-family=\"sans-serif\" font-size=\"11\" lengthAdjust=\"spacingAndGlyphs\" textLength=\"298\" x=\"687\" y=\"97.6064\">A objective is an objective of the system. It is a special kind of</text><text fill=\"#000000\" font-family=\"sans-serif\" font-size=\"11\" lengthAdjust=\"spacingAndGlyphs\" textLength=\"298\" x=\"687\" y=\"111.4424\">a requirement that is typically not satisfied but amplified by the</text><text fill=\"#000000\" font-family=\"sans-serif\" font-size=\"11\" lengthAdjust=\"spacingAndGlyphs\" textLength=\"38\" x=\"687\" y=\"125.2783\">system.</text><line style=\"stroke: #383838; stroke-width: 1.0;\" x1=\"682\" x2=\"990\" y1=\"131.6953\" y2=\"131.6953\"/></a><!--MD5=[09b614a08d8cba4a07c9adeb5e0fee81]\n",
       "class E3--><a href=\"psysml:062e54d8-292a-4160-88b0-bcb3ab0689d6\" target=\"_top\" title=\"psysml:062e54d8-292a-4160-88b0-bcb3ab0689d6\" xlink:actuate=\"onRequest\" xlink:href=\"psysml:062e54d8-292a-4160-88b0-bcb3ab0689d6\" xlink:show=\"new\" xlink:title=\"psysml:062e54d8-292a-4160-88b0-bcb3ab0689d6\" xlink:type=\"simple\"><rect fill=\"#FFFFFF\" height=\"93.6953\" id=\"E3\" style=\"stroke: #383838; stroke-width: 1.5;\" width=\"132\" x=\"472\" y=\"308\"/><text fill=\"#000000\" font-family=\"sans-serif\" font-size=\"12\" font-style=\"italic\" lengthAdjust=\"spacingAndGlyphs\" textLength=\"55\" x=\"510.5\" y=\"325.457\">«part def»</text><text fill=\"#000000\" font-family=\"sans-serif\" font-size=\"12\" lengthAdjust=\"spacingAndGlyphs\" textLength=\"41\" x=\"517.5\" y=\"340.5508\">System</text><line style=\"stroke: #383838; stroke-width: 1.5;\" x1=\"473\" x2=\"603\" y1=\"348.1875\" y2=\"348.1875\"/><text fill=\"#000000\" font-family=\"sans-serif\" font-size=\"11\" lengthAdjust=\"spacingAndGlyphs\" textLength=\"120\" x=\"478\" y=\"381.4424\">problemStatement: String</text><text fill=\"#000000\" font-family=\"sans-serif\" font-size=\"11\" lengthAdjust=\"spacingAndGlyphs\" textLength=\"89\" x=\"478\" y=\"395.2783\">systemIdea: String</text><line style=\"stroke: #383838; stroke-width: 1.0;\" x1=\"473\" x2=\"515.5\" y1=\"363.1055\" y2=\"363.1055\"/><text fill=\"#000000\" font-family=\"sans-serif\" font-size=\"11\" lengthAdjust=\"spacingAndGlyphs\" textLength=\"45\" x=\"515.5\" y=\"367.1064\">attributes</text><line style=\"stroke: #383838; stroke-width: 1.0;\" x1=\"560.5\" x2=\"603\" y1=\"363.1055\" y2=\"363.1055\"/></a><!--MD5=[ebbe1d658d1005bcc118a6aa81145e00]\n",
       "class E4--><a href=\"psysml:0ac38d87-dafc-4e7f-896e-4797ae262b55\" target=\"_top\" title=\"psysml:0ac38d87-dafc-4e7f-896e-4797ae262b55\" xlink:actuate=\"onRequest\" xlink:href=\"psysml:0ac38d87-dafc-4e7f-896e-4797ae262b55\" xlink:show=\"new\" xlink:title=\"psysml:0ac38d87-dafc-4e7f-896e-4797ae262b55\" xlink:type=\"simple\"><rect fill=\"#FFFFFF\" height=\"48.1875\" id=\"E4\" style=\"stroke: #383838; stroke-width: 1.5;\" width=\"67\" x=\"504.5\" y=\"462\"/><text fill=\"#000000\" font-family=\"sans-serif\" font-size=\"12\" font-style=\"italic\" lengthAdjust=\"spacingAndGlyphs\" textLength=\"65\" x=\"505.5\" y=\"479.457\">«dataType»</text><text fill=\"#000000\" font-family=\"sans-serif\" font-size=\"12\" lengthAdjust=\"spacingAndGlyphs\" textLength=\"32\" x=\"522\" y=\"494.5508\">String</text><line style=\"stroke: #383838; stroke-width: 1.5;\" x1=\"505.5\" x2=\"570.5\" y1=\"502.1875\" y2=\"502.1875\"/></a><!--MD5=[270fce915f116d4de14055a7c1d9a0f3]\n",
       "class E5--><a href=\"psysml:f4bacf1e-1be8-4d77-aeb1-a07a4cae33fd\" target=\"_top\" title=\"psysml:f4bacf1e-1be8-4d77-aeb1-a07a4cae33fd\" xlink:actuate=\"onRequest\" xlink:href=\"psysml:f4bacf1e-1be8-4d77-aeb1-a07a4cae33fd\" xlink:show=\"new\" xlink:title=\"psysml:f4bacf1e-1be8-4d77-aeb1-a07a4cae33fd\" xlink:type=\"simple\"><rect fill=\"#FFFFFF\" height=\"48.1875\" id=\"E5\" style=\"stroke: #383838; stroke-width: 1.5;\" width=\"88\" x=\"558\" y=\"67\"/><text fill=\"#000000\" font-family=\"sans-serif\" font-size=\"12\" font-style=\"italic\" lengthAdjust=\"spacingAndGlyphs\" textLength=\"55\" x=\"574.5\" y=\"84.457\">«part def»</text><text fill=\"#000000\" font-family=\"sans-serif\" font-size=\"12\" lengthAdjust=\"spacingAndGlyphs\" textLength=\"82\" x=\"561\" y=\"99.5508\">SystemContext</text><line style=\"stroke: #383838; stroke-width: 1.5;\" x1=\"559\" x2=\"645\" y1=\"107.1875\" y2=\"107.1875\"/></a><!--MD5=[60a26617385b1d2d0262a64233df1f8d]\n",
       "class E6--><a href=\"psysml:979076b9-7317-40b7-807e-672f4827915a\" target=\"_top\" title=\"psysml:979076b9-7317-40b7-807e-672f4827915a\" xlink:actuate=\"onRequest\" xlink:href=\"psysml:979076b9-7317-40b7-807e-672f4827915a\" xlink:show=\"new\" xlink:title=\"psysml:979076b9-7317-40b7-807e-672f4827915a\" xlink:type=\"simple\"><rect fill=\"#FFFFFF\" height=\"48.1875\" id=\"E6\" rx=\"10\" ry=\"10\" style=\"stroke: #383838; stroke-width: 1.5;\" width=\"146\" x=\"465\" y=\"200\"/><text fill=\"#000000\" font-family=\"sans-serif\" font-size=\"12\" font-style=\"italic\" lengthAdjust=\"spacingAndGlyphs\" textLength=\"35\" x=\"520.5\" y=\"217.457\">«part»</text><text fill=\"#000000\" font-family=\"sans-serif\" font-size=\"12\" lengthAdjust=\"spacingAndGlyphs\" textLength=\"140\" x=\"468\" y=\"232.5508\">systemOfInterest: System</text><line style=\"stroke: #383838; stroke-width: 1.5;\" x1=\"466\" x2=\"610\" y1=\"240.1875\" y2=\"240.1875\"/></a><!--MD5=[2156ba9850f5573cc1fc38a6a4b2f02b]\n",
       "class E7--><a href=\"psysml:98cd631b-7e2b-4bac-a86e-90bcc59055ea\" target=\"_top\" title=\"psysml:98cd631b-7e2b-4bac-a86e-90bcc59055ea\" xlink:actuate=\"onRequest\" xlink:href=\"psysml:98cd631b-7e2b-4bac-a86e-90bcc59055ea\" xlink:show=\"new\" xlink:title=\"psysml:98cd631b-7e2b-4bac-a86e-90bcc59055ea\" xlink:type=\"simple\"><rect fill=\"#FFFFFF\" height=\"48.1875\" id=\"E7\" rx=\"10\" ry=\"10\" style=\"stroke: #383838; stroke-width: 1.5;\" width=\"40\" x=\"646\" y=\"200\"/><text fill=\"#000000\" font-family=\"sans-serif\" font-size=\"12\" font-style=\"italic\" lengthAdjust=\"spacingAndGlyphs\" textLength=\"35\" x=\"648.5\" y=\"217.457\">«part»</text><text fill=\"#000000\" font-family=\"sans-serif\" font-size=\"12\" lengthAdjust=\"spacingAndGlyphs\" textLength=\"34\" x=\"649\" y=\"232.5508\">actors</text><line style=\"stroke: #383838; stroke-width: 1.5;\" x1=\"647\" x2=\"685\" y1=\"240.1875\" y2=\"240.1875\"/></a><!--MD5=[b9389687b975829384b498ac4b7476b2]\n",
       "class E8--><a href=\"psysml:b9c42aa2-4fdd-457f-9185-84f1a5e6967b\" target=\"_top\" title=\"psysml:b9c42aa2-4fdd-457f-9185-84f1a5e6967b\" xlink:actuate=\"onRequest\" xlink:href=\"psysml:b9c42aa2-4fdd-457f-9185-84f1a5e6967b\" xlink:show=\"new\" xlink:title=\"psysml:b9c42aa2-4fdd-457f-9185-84f1a5e6967b\" xlink:type=\"simple\"><rect fill=\"#FFFFFF\" height=\"48.1875\" id=\"E8\" style=\"stroke: #383838; stroke-width: 1.5;\" width=\"57\" x=\"465.5\" y=\"67\"/><text fill=\"#000000\" font-family=\"sans-serif\" font-size=\"12\" font-style=\"italic\" lengthAdjust=\"spacingAndGlyphs\" textLength=\"55\" x=\"466.5\" y=\"84.457\">«part def»</text><text fill=\"#000000\" font-family=\"sans-serif\" font-size=\"12\" lengthAdjust=\"spacingAndGlyphs\" textLength=\"27\" x=\"480.5\" y=\"99.5508\">User</text><line style=\"stroke: #383838; stroke-width: 1.5;\" x1=\"466.5\" x2=\"521.5\" y1=\"107.1875\" y2=\"107.1875\"/></a><!--MD5=[fd4143e9d270a159db93a4ea2a975926]\n",
       "class E9--><a href=\"psysml:ff468c5d-163c-4862-a516-55880e054b5e\" target=\"_top\" title=\"psysml:ff468c5d-163c-4862-a516-55880e054b5e\" xlink:actuate=\"onRequest\" xlink:href=\"psysml:ff468c5d-163c-4862-a516-55880e054b5e\" xlink:show=\"new\" xlink:title=\"psysml:ff468c5d-163c-4862-a516-55880e054b5e\" xlink:type=\"simple\"><rect fill=\"#FFFFFF\" height=\"48.1875\" id=\"E9\" style=\"stroke: #383838; stroke-width: 1.5;\" width=\"91\" x=\"339.5\" y=\"67\"/><text fill=\"#000000\" font-family=\"sans-serif\" font-size=\"12\" font-style=\"italic\" lengthAdjust=\"spacingAndGlyphs\" textLength=\"55\" x=\"357.5\" y=\"84.457\">«part def»</text><text fill=\"#000000\" font-family=\"sans-serif\" font-size=\"12\" lengthAdjust=\"spacingAndGlyphs\" textLength=\"85\" x=\"342.5\" y=\"99.5508\">ExternalSystem</text><line style=\"stroke: #383838; stroke-width: 1.5;\" x1=\"340.5\" x2=\"429.5\" y1=\"107.1875\" y2=\"107.1875\"/></a><!--MD5=[96f4274e9e20536e775497830990834d]\n",
       "class E10--><a href=\"psysml:e2f23534-33d3-4264-a1ea-8cbbb36d3320\" target=\"_top\" title=\"psysml:e2f23534-33d3-4264-a1ea-8cbbb36d3320\" xlink:actuate=\"onRequest\" xlink:href=\"psysml:e2f23534-33d3-4264-a1ea-8cbbb36d3320\" xlink:show=\"new\" xlink:title=\"psysml:e2f23534-33d3-4264-a1ea-8cbbb36d3320\" xlink:type=\"simple\"><rect fill=\"#FFFFFF\" height=\"48.1875\" id=\"E10\" style=\"stroke: #383838; stroke-width: 1.5;\" width=\"115\" x=\"189.5\" y=\"67\"/><text fill=\"#000000\" font-family=\"sans-serif\" font-size=\"12\" font-style=\"italic\" lengthAdjust=\"spacingAndGlyphs\" textLength=\"55\" x=\"219.5\" y=\"84.457\">«part def»</text><text fill=\"#000000\" font-family=\"sans-serif\" font-size=\"12\" lengthAdjust=\"spacingAndGlyphs\" textLength=\"109\" x=\"192.5\" y=\"99.5508\">EnvironmentalEffect</text><line style=\"stroke: #383838; stroke-width: 1.5;\" x1=\"190.5\" x2=\"303.5\" y1=\"107.1875\" y2=\"107.1875\"/></a><!--MD5=[1dd1bfd58a279cf63c5f349dbc8fc6a1]\n",
       "class E11--><a href=\"psysml:39fa49d8-9186-4760-b08a-70773e42e062\" target=\"_top\" title=\"psysml:39fa49d8-9186-4760-b08a-70773e42e062\" xlink:actuate=\"onRequest\" xlink:href=\"psysml:39fa49d8-9186-4760-b08a-70773e42e062\" xlink:show=\"new\" xlink:title=\"psysml:39fa49d8-9186-4760-b08a-70773e42e062\" xlink:type=\"simple\"><rect fill=\"#FFFFFF\" height=\"48.1875\" id=\"E11\" style=\"stroke: #383838; stroke-width: 1.5;\" width=\"122\" x=\"32\" y=\"67\"/><text fill=\"#000000\" font-family=\"sans-serif\" font-size=\"12\" font-style=\"italic\" lengthAdjust=\"spacingAndGlyphs\" textLength=\"55\" x=\"65.5\" y=\"84.457\">«part def»</text><text fill=\"#000000\" font-family=\"sans-serif\" font-size=\"12\" lengthAdjust=\"spacingAndGlyphs\" textLength=\"116\" x=\"35\" y=\"99.5508\">EnvironmentalImpact</text><line style=\"stroke: #383838; stroke-width: 1.5;\" x1=\"33\" x2=\"153\" y1=\"107.1875\" y2=\"107.1875\"/></a><!--MD5=[4672eba38e49728da53d11aeb285b987]\n",
       "reverse link E3 to E4--><a href=\"psysml:0ac38d87-dafc-4e7f-896e-4797ae262b55\" target=\"_top\" title=\"psysml:0ac38d87-dafc-4e7f-896e-4797ae262b55\" xlink:actuate=\"onRequest\" xlink:href=\"psysml:0ac38d87-dafc-4e7f-896e-4797ae262b55\" xlink:show=\"new\" xlink:title=\"psysml:0ac38d87-dafc-4e7f-896e-4797ae262b55\" xlink:type=\"simple\"><path d=\"M538,417.25 C538,433.155 538,449.3249 538,461.8769 \" fill=\"none\" id=\"E3&lt;-E4\" style=\"stroke: #383838; stroke-width: 1.0;\"/><ellipse cx=\"538\" cy=\"410.208\" fill=\"#FFFFFF\" rx=\"8\" ry=\"8\" style=\"stroke: #383838; stroke-width: 1.0;\"/><line style=\"stroke: #383838; stroke-width: 1.0;\" x1=\"538\" x2=\"538\" y1=\"418.208\" y2=\"402.208\"/><line style=\"stroke: #383838; stroke-width: 1.0;\" x1=\"530\" x2=\"546\" y1=\"410.208\" y2=\"410.208\"/></a><!--MD5=[a717450b82c80b9240a525fa862496af]\n",
       "link E6 to E3--><a href=\"psysml:48a9f7bb-7333-4904-8932-06cbeb587ab0\" target=\"_top\" title=\"psysml:48a9f7bb-7333-4904-8932-06cbeb587ab0\" xlink:actuate=\"onRequest\" xlink:href=\"psysml:48a9f7bb-7333-4904-8932-06cbeb587ab0\" xlink:show=\"new\" xlink:title=\"psysml:48a9f7bb-7333-4904-8932-06cbeb587ab0\" xlink:type=\"simple\"><path d=\"M538,248.063 C538,259.343 538,273.555 538,287.874 \" fill=\"none\" id=\"E6-&gt;E3\" style=\"stroke: #383838; stroke-width: 1.0;\"/><polygon fill=\"#FFFFFF\" points=\"538,307.893,531,288.893,545,288.893,538,307.893\" style=\"stroke: #383838; stroke-width: 1.0;\"/><ellipse cx=\"533\" cy=\"283.193\" fill=\"#383838\" rx=\"2\" ry=\"2\" style=\"stroke: #383838; stroke-width: 1.0;\"/><ellipse cx=\"543\" cy=\"283.193\" fill=\"#383838\" rx=\"2\" ry=\"2\" style=\"stroke: #383838; stroke-width: 1.0;\"/></a><!--MD5=[85d356282659285ab4b2cfe2f634dd2b]\n",
       "reverse link E5 to E6--><a href=\"psysml:979076b9-7317-40b7-807e-672f4827915a\" target=\"_top\" title=\"psysml:979076b9-7317-40b7-807e-672f4827915a\" xlink:actuate=\"onRequest\" xlink:href=\"psysml:979076b9-7317-40b7-807e-672f4827915a\" xlink:show=\"new\" xlink:title=\"psysml:979076b9-7317-40b7-807e-672f4827915a\" xlink:type=\"simple\"><path d=\"M584.992,126.814 C573.736,149.852 559.284,179.434 549.397,199.672 \" fill=\"none\" id=\"E5&lt;-E6\" style=\"stroke: #383838; stroke-width: 1.0;\"/><polygon fill=\"#383838\" points=\"590.705,115.119,584.4773,118.7544,585.4378,125.9013,591.6655,122.2658,590.705,115.119\" style=\"stroke: #383838; stroke-width: 1.0;\"/></a><!--MD5=[452b418e7f8a40397a49b8c0a78acc5b]\n",
       "reverse link E5 to E7--><a href=\"psysml:98cd631b-7e2b-4bac-a86e-90bcc59055ea\" target=\"_top\" title=\"psysml:98cd631b-7e2b-4bac-a86e-90bcc59055ea\" xlink:actuate=\"onRequest\" xlink:href=\"psysml:98cd631b-7e2b-4bac-a86e-90bcc59055ea\" xlink:show=\"new\" xlink:title=\"psysml:98cd631b-7e2b-4bac-a86e-90bcc59055ea\" xlink:type=\"simple\"><path d=\"M619.008,126.814 C630.264,149.852 644.716,179.434 654.603,199.672 \" fill=\"none\" id=\"E5&lt;-E7\" style=\"stroke: #383838; stroke-width: 1.0;\"/><polygon fill=\"#383838\" points=\"613.295,115.119,612.3345,122.2658,618.5622,125.9013,619.5227,118.7544,613.295,115.119\" style=\"stroke: #383838; stroke-width: 1.0;\"/><text fill=\"#000000\" font-family=\"sans-serif\" font-size=\"13\" lengthAdjust=\"spacingAndGlyphs\" textLength=\"5\" x=\"646.2156\" y=\"189.3072\">*</text></a><!--MD5=[5cb7a48feb3ab9e754154f7e1762d4c3]\n",
       "@startuml\r\n",
       "skinparam monochrome true\r\n",
       "skinparam classbackgroundcolor white\r\n",
       "skinparam shadowing false\r\n",
       "skinparam wrapWidth 300\r\n",
       "hide circle\r\n",
       "\r\n",
       "package \"SYSMOD\" as E1  [[psysml:efa24f7d-f116-4730-93ea-341f3bac3471 ]]  {\r\n",
       "comp def \"Objective\" as E2  <<(T,blue)requirement def>> [[psysml:ff9358ca-914d-4071-806c-0332d8148cb8 ]] {\r\n",
       "A objective is an objective of the system. It is a special kind of a requirement that is typically not satisfied but amplified by the system.\r\n",
       "- -\r\n",
       "}\r\n",
       "comp def \"System\" as E3  <<(T,blue)part def>> [[psysml:062e54d8-292a-4160-88b0-bcb3ab0689d6 ]] {\r\n",
       "- - attributes - -\r\n",
       "problemStatement: String\r\n",
       "systemIdea: String\r\n",
       "}\r\n",
       "comp def \"String\" as E4  <<(T,blue)dataType>> [[psysml:0ac38d87-dafc-4e7f-896e-4797ae262b55 ]] {\r\n",
       "}\r\n",
       "comp def \"SystemContext\" as E5  <<(T,blue)part def>> [[psysml:f4bacf1e-1be8-4d77-aeb1-a07a4cae33fd ]] {\r\n",
       "}\r\n",
       "comp usage \"systemOfInterest: System\" as E6  <<(T,blue)part>> [[psysml:979076b9-7317-40b7-807e-672f4827915a ]] {\r\n",
       "}\r\n",
       "comp usage \"actors\" as E7  <<(T,blue)part>> [[psysml:98cd631b-7e2b-4bac-a86e-90bcc59055ea ]] {\r\n",
       "}\r\n",
       "comp def \"User\" as E8  <<(T,blue)part def>> [[psysml:b9c42aa2-4fdd-457f-9185-84f1a5e6967b ]] {\r\n",
       "}\r\n",
       "comp def \"ExternalSystem\" as E9  <<(T,blue)part def>> [[psysml:ff468c5d-163c-4862-a516-55880e054b5e ]] {\r\n",
       "}\r\n",
       "comp def \"EnvironmentalEffect\" as E10  <<(T,blue)part def>> [[psysml:e2f23534-33d3-4264-a1ea-8cbbb36d3320 ]] {\r\n",
       "}\r\n",
       "comp def \"EnvironmentalImpact\" as E11  <<(T,blue)part def>> [[psysml:39fa49d8-9186-4760-b08a-70773e42e062 ]] {\r\n",
       "}\r\n",
       "E3 +- - E4 [[psysml:0ac38d87-dafc-4e7f-896e-4797ae262b55 ]] \r\n",
       "E6 - -:|> E3 [[psysml:48a9f7bb-7333-4904-8932-06cbeb587ab0 ]] \r\n",
       "E5 *- - E6 [[psysml:979076b9-7317-40b7-807e-672f4827915a ]] \r\n",
       "E5 *- - \"*\"E7 [[psysml:98cd631b-7e2b-4bac-a86e-90bcc59055ea ]] \r\n",
       "}\r\n",
       "@enduml\r\n",
       "\n",
       "PlantUML version 1.2020.13(Sat Jun 13 14:26:38 CEST 2020)\n",
       "(EPL source distribution)\n",
       "Java Runtime: OpenJDK Runtime Environment\n",
       "JVM: OpenJDK 64-Bit Server VM\n",
       "Default Encoding: Cp1252\n",
       "Language: en\n",
       "Country: US\n",
       "--></g></svg>"
      ]
     },
     "execution_count": 47,
     "metadata": {},
     "output_type": "execute_result"
    }
   ],
   "source": [
    "%viz SYSMOD"
   ]
  },
  {
   "cell_type": "markdown",
   "metadata": {},
   "source": [
    "## FAS with SysML v2<a name=\"sysmlv2fas\"></a>\n",
    "\n",
    "The example is taken from the tutorial of the FAS plugin for MagicDraw: http://sourceforge.net/projects/fas4md/files/FAS_plugin_tutorial.pdf/download."
   ]
  },
  {
   "cell_type": "code",
   "execution_count": 86,
   "metadata": {},
   "outputs": [
    {
     "data": {
      "text/plain": [
       "Package TheFASJukeBox (e9345dee-26b9-4578-afee-5b74ec42eb9d)\n"
      ]
     },
     "execution_count": 86,
     "metadata": {},
     "output_type": "execute_result"
    }
   ],
   "source": [
    "package TheFASJukeBox {\n",
    "    \n",
    "    package FASLanguage {\n",
    "        part def FunctionalBlock;\n",
    "    }\n",
    "    \n",
    "    package UseCases {\n",
    "        activity '(Un)install and Move Jukebox';\n",
    "        activity 'Ask for Track to Play';\n",
    "        activity 'Assemble Music Collection';\n",
    "        activity 'Connect Jukebox with Electrical Supply';\n",
    "        activity 'Disconnect from Electrical Supply';\n",
    "        activity 'Distribute Energy';\n",
    "        activity 'Get Energy';\n",
    "        activity 'Get Mechanical Energy';\n",
    "        activity 'Get Money';\n",
    "        activity 'Insert Cash';\n",
    "        activity 'Install Jukebox';\n",
    "        activity 'Listen to Music';\n",
    "        activity 'Make Music Available';\n",
    "        activity 'Monitor Payment';\n",
    "        activity 'Play Music Track';\n",
    "        activity 'Produce Sound';\n",
    "        activity 'Provide Music Track';\n",
    "        activity 'Retrieve Identification of Music Track';\n",
    "        activity 'Retrieve Money';\n",
    "        activity 'Supply Jukebox with Energy';\n",
    "        activity 'Transform Mechanical Engery into Something Harmless';\n",
    "        activity 'Uninstall Jukebox';\n",
    "        activity 'Use Means of Music Transfer to Retrieve Music';\n",
    "    }\n",
    "    \n",
    "    package DomainKnowledge {\n",
    "        item def AudioSignal;\n",
    "        item def ClearanceToPlayMusic;\n",
    "        item def ElectricalEnergy;\n",
    "        item def IdentificationOfMusicTrack;\n",
    "        item def MechanicalEnergy;\n",
    "        item def Money;\n",
    "        item def MusicTrack;\n",
    "    }\n",
    "\n",
    "    package FunctionalArchitecture {\n",
    "        \n",
    "        import UseCases::*;\n",
    "        import DomainKnowledge::*;\n",
    "        import FASLanguage::*;\n",
    "        import SYSMOD::*;\n",
    "        \n",
    "        package FunctionalInterfaces {\n",
    "\n",
    "            port def AudioSignalPort {\n",
    "                out item a : AudioSignal;\n",
    "            }\n",
    "            port def ClearanceToPlayMusicPort {\n",
    "                out item m : ClearanceToPlayMusic;\n",
    "            }\n",
    "            port def ElectricalEnergyPort {\n",
    "                out item e : ElectricalEnergy;\n",
    "            }\n",
    "            port def IdentificationOfMusicTrackPort {\n",
    "                out item m : IdentificationOfMusicTrack;\n",
    "            }\n",
    "            port def MechanicalEnergyPort {\n",
    "                out item m : MechanicalEnergy;\n",
    "            }\n",
    "            port def MoneyPort {\n",
    "                out item m : Money;\n",
    "            }\n",
    "            port def MusicTrackPort {\n",
    "                out item m : MusicTrack;\n",
    "            }\n",
    "        }\n",
    "\n",
    "        part TheFASJukeBoxFunctionalContext {\n",
    "            \n",
    "            import FunctionalInterfaces::*;\n",
    "            \n",
    "            part TheFASJukeBoxFunctionalArchitecture {\n",
    "\n",
    "                dependency from TheFASJukeBoxFunctionalArchitecture to '(Un)install and Move Jukebox';\n",
    "                dependency from TheFASJukeBoxFunctionalArchitecture to 'Assemble Music Collection';\n",
    "                dependency from TheFASJukeBoxFunctionalArchitecture to 'Listen to Music';\n",
    "                dependency from TheFASJukeBoxFunctionalArchitecture to 'Supply Jukebox with Energy';\n",
    "\n",
    "                part 'I/O Customer' : FunctionalBlock {\n",
    "                    dependency from 'I/O Customer' to 'Ask for Track to Play';\n",
    "                    dependency from 'I/O Customer' to 'Get Money';\n",
    "                    dependency from 'I/O Customer' to 'Produce Sound';\n",
    "                    \n",
    "                    port p1 : MoneyPort;\n",
    "                    port p2 : ~AudioSignalPort;\n",
    "                    port p3 : IdentificationOfMusicTrackPort;\n",
    "                }\n",
    "                part 'I/O Electrical Supply' : FunctionalBlock {\n",
    "                    dependency from 'I/O Electrical Supply' to 'Get Energy';\n",
    "                    \n",
    "                    port p1 : ElectricalEnergyPort;\n",
    "                }\n",
    "                part 'I/O Music Supplier' : FunctionalBlock {\n",
    "                    dependency from 'I/O Music Supplier' to 'Use Means of Music Transfer to Retrieve Music';\n",
    "                    \n",
    "                    port p1 : MusicTrackPort;\n",
    "                }\n",
    "                part 'I/O Pub Interior' : FunctionalBlock {\n",
    "                    dependency from 'I/O Pub Interior' to 'Get Mechanical Energy';\n",
    "                    \n",
    "                    port p1 : MechanicalEnergyPort;\n",
    "                }\n",
    "                part 'I/O Pub Manager' : FunctionalBlock {\n",
    "                    dependency from 'I/O Pub Manager' to 'Connect Jukebox with Electrical Supply';\n",
    "                    dependency from 'I/O Pub Manager' to 'Disconnect from Electrical Supply';\n",
    "                    dependency from 'I/O Pub Manager' to 'Insert Cash';\n",
    "                    dependency from 'I/O Pub Manager' to 'Retrieve Identification of Music Track';\n",
    "\n",
    "                    port p1 : IdentificationOfMusicTrackPort;\n",
    "                }\n",
    "                part Accounting : FunctionalBlock {\n",
    "                    dependency from Accounting to 'Monitor Payment';\n",
    "                    \n",
    "                    port p1 : ClearanceToPlayMusicPort;\n",
    "                    port p2 : ~MoneyPort;\n",
    "                }\n",
    "                part 'Energy Distribution' : FunctionalBlock {\n",
    "                    dependency from 'Energy Distribution' to 'Distribute Energy';\n",
    "                    \n",
    "                    port p1 : ~ElectricalEnergyPort;\n",
    "                }\n",
    "                part 'Music Player' : FunctionalBlock {\n",
    "                    dependency from 'Music Player' to 'Play Music Track';\n",
    "                    \n",
    "                    port p1 : AudioSignalPort;\n",
    "                }\n",
    "                part 'Music Storage' : FunctionalBlock {\n",
    "                    dependency from 'Music Storage' to 'Make Music Available';\n",
    "                    dependency from 'Music Storage' to 'Provide Music Track';\n",
    "\n",
    "                    port p1 : ~IdentificationOfMusicTrackPort;\n",
    "                    port p2 : ~MusicTrackPort;\n",
    "                    port p3 : ClearanceToPlayMusicPort;\n",
    "                }\n",
    "                part Suspension : FunctionalBlock {\n",
    "                    dependency from Suspension to 'Uninstall Jukebox';\n",
    "                    \n",
    "                    port p1 : ~MechanicalEnergyPort;\n",
    "                }\n",
    "\n",
    "                connect 'I/O Pub Manager'::p1 to 'Music Storage'::p1;\n",
    "                connect 'I/O Pub Manager' to 'Accounting';\n",
    "                connect 'I/O Music Supplier'::p1 to 'Music Storage'::p2;\n",
    "                connect 'Accounting'::p1 to 'Music Storage'::p3;\n",
    "                connect 'I/O Customer'::p1 to Accounting::p2;\n",
    "                connect 'Music Player'::p1 to 'I/O Customer'::p2;\n",
    "                connect 'I/O Customer'::p3 to 'Music Storage'::p1;\n",
    "                connect 'I/O Electrical Supply'::p1 to 'Energy Distribution'::p1;\n",
    "                connect 'I/O Pub Interior'::p1 to Suspension::p1;\n",
    "            }\n",
    "\n",
    "            part Customer : User;\n",
    "            part 'Pub Manager' : User;\n",
    "            part 'Music Supplier' : ExternalSystem;\n",
    "            part 'Electrical Supply' : ExternalSystem;\n",
    "            part 'Pub Interior' : ExternalSystem;\n",
    "            \n",
    "            connect 'Pub Manager' to TheFASJukeBoxFunctionalArchitecture::'I/O Pub Manager';\n",
    "            connect 'Music Supplier' to TheFASJukeBoxFunctionalArchitecture::'I/O Music Supplier';\n",
    "            connect Customer to TheFASJukeBoxFunctionalArchitecture::'I/O Customer';\n",
    "            connect 'Electrical Supply' to TheFASJukeBoxFunctionalArchitecture::'I/O Electrical Supply';\n",
    "            connect 'Pub Interior' to TheFASJukeBoxFunctionalArchitecture::'I/O Pub Interior';\n",
    "        }\n",
    "    }   \n",
    "}"
   ]
  },
  {
   "cell_type": "code",
   "execution_count": 87,
   "metadata": {},
   "outputs": [
    {
     "data": {
      "image/svg+xml": [
       "<?xml version=\"1.0\" encoding=\"UTF-8\" standalone=\"no\"?><svg xmlns=\"http://www.w3.org/2000/svg\" xmlns:xlink=\"http://www.w3.org/1999/xlink\" contentScriptType=\"application/ecmascript\" contentStyleType=\"text/css\" height=\"692px\" preserveAspectRatio=\"none\" style=\"width:4152px;height:692px;\" version=\"1.1\" viewBox=\"0 0 4152 692\" width=\"4152px\" zoomAndPan=\"magnify\"><defs/><g><!--MD5=[fbc87193dbaf4d95561dea2c320d4a47]\n",
       "cluster E1--><a href=\"psysml:ecf0ab9e-6274-478f-81a6-bb046b8b6f33\" target=\"_top\" title=\"psysml:ecf0ab9e-6274-478f-81a6-bb046b8b6f33\" xlink:actuate=\"onRequest\" xlink:href=\"psysml:ecf0ab9e-6274-478f-81a6-bb046b8b6f33\" xlink:show=\"new\" xlink:title=\"psysml:ecf0ab9e-6274-478f-81a6-bb046b8b6f33\" xlink:type=\"simple\"><polygon fill=\"#FFFFFF\" points=\"16,6,136,6,143,29.6094,4130,29.6094,4130,680,16,680,16,6\" style=\"stroke: #000000; stroke-width: 1.5;\"/><line style=\"stroke: #000000; stroke-width: 1.5;\" x1=\"16\" x2=\"143\" y1=\"29.6094\" y2=\"29.6094\"/><text fill=\"#000000\" font-family=\"sans-serif\" font-size=\"14\" font-weight=\"bold\" lengthAdjust=\"spacingAndGlyphs\" textLength=\"114\" x=\"20\" y=\"22.5332\">TheFASJukeBox</text></a><!--MD5=[e4f7fae6ed58524ba242bb0b0d3be6b7]\n",
       "cluster E2--><a href=\"psysml:d3e12d30-4af9-46c6-a06d-27cbdbbe285f\" target=\"_top\" title=\"psysml:d3e12d30-4af9-46c6-a06d-27cbdbbe285f\" xlink:actuate=\"onRequest\" xlink:href=\"psysml:d3e12d30-4af9-46c6-a06d-27cbdbbe285f\" xlink:show=\"new\" xlink:title=\"psysml:d3e12d30-4af9-46c6-a06d-27cbdbbe285f\" xlink:type=\"simple\"><polygon fill=\"#FFFFFF\" points=\"40,556,142,556,149,579.6094,166,579.6094,166,656,40,656,40,556\" style=\"stroke: #000000; stroke-width: 1.5;\"/><line style=\"stroke: #000000; stroke-width: 1.5;\" x1=\"40\" x2=\"149\" y1=\"579.6094\" y2=\"579.6094\"/><text fill=\"#000000\" font-family=\"sans-serif\" font-size=\"14\" font-weight=\"bold\" lengthAdjust=\"spacingAndGlyphs\" textLength=\"96\" x=\"44\" y=\"572.5332\">FASLanguage</text></a><!--MD5=[f6df4d0ebaf0b5dfb2ced0ae5af7c670]\n",
       "cluster E4--><a href=\"psysml:0e5df247-5b9d-4a09-8b27-5bb53ebe4792\" target=\"_top\" title=\"psysml:0e5df247-5b9d-4a09-8b27-5bb53ebe4792\" xlink:actuate=\"onRequest\" xlink:href=\"psysml:0e5df247-5b9d-4a09-8b27-5bb53ebe4792\" xlink:show=\"new\" xlink:title=\"psysml:0e5df247-5b9d-4a09-8b27-5bb53ebe4792\" xlink:type=\"simple\"><polygon fill=\"#FFFFFF\" points=\"190,556,266,556,273,579.6094,4106,579.6094,4106,656,190,656,190,556\" style=\"stroke: #000000; stroke-width: 1.5;\"/><line style=\"stroke: #000000; stroke-width: 1.5;\" x1=\"190\" x2=\"273\" y1=\"579.6094\" y2=\"579.6094\"/><text fill=\"#000000\" font-family=\"sans-serif\" font-size=\"14\" font-weight=\"bold\" lengthAdjust=\"spacingAndGlyphs\" textLength=\"70\" x=\"194\" y=\"572.5332\">UseCases</text></a><!--MD5=[2f0afd24c78442d4f5bb8ec5a9a774bc]\n",
       "cluster E28--><a href=\"psysml:30323c7e-a274-467f-be9b-29045c98645c\" target=\"_top\" title=\"psysml:30323c7e-a274-467f-be9b-29045c98645c\" xlink:actuate=\"onRequest\" xlink:href=\"psysml:30323c7e-a274-467f-be9b-29045c98645c\" xlink:show=\"new\" xlink:title=\"psysml:30323c7e-a274-467f-be9b-29045c98645c\" xlink:type=\"simple\"><polygon fill=\"#FFFFFF\" points=\"2911,110,3048,110,3055,133.6094,3835,133.6094,3835,210,2911,210,2911,110\" style=\"stroke: #000000; stroke-width: 1.5;\"/><line style=\"stroke: #000000; stroke-width: 1.5;\" x1=\"2911\" x2=\"3055\" y1=\"133.6094\" y2=\"133.6094\"/><text fill=\"#000000\" font-family=\"sans-serif\" font-size=\"14\" font-weight=\"bold\" lengthAdjust=\"spacingAndGlyphs\" textLength=\"131\" x=\"2915\" y=\"126.5332\">DomainKnowledge</text></a><!--MD5=[d82e600d5bff1b9414ed01a44f80003c]\n",
       "cluster E36--><a href=\"psysml:a04d72b4-8a87-4977-954d-46c5acd1774a\" target=\"_top\" title=\"psysml:a04d72b4-8a87-4977-954d-46c5acd1774a\" xlink:actuate=\"onRequest\" xlink:href=\"psysml:a04d72b4-8a87-4977-954d-46c5acd1774a\" xlink:show=\"new\" xlink:title=\"psysml:a04d72b4-8a87-4977-954d-46c5acd1774a\" xlink:type=\"simple\"><polygon fill=\"#FFFFFF\" points=\"439,50,606,50,613,73.6094,2617,73.6094,2617,506,439,506,439,50\" style=\"stroke: #000000; stroke-width: 1.5;\"/><line style=\"stroke: #000000; stroke-width: 1.5;\" x1=\"439\" x2=\"613\" y1=\"73.6094\" y2=\"73.6094\"/><text fill=\"#000000\" font-family=\"sans-serif\" font-size=\"14\" font-weight=\"bold\" lengthAdjust=\"spacingAndGlyphs\" textLength=\"161\" x=\"443\" y=\"66.5332\">FunctionalArchitecture</text></a><!--MD5=[d3830175e0981549895ee8d9e3caaa09]\n",
       "cluster E37--><a href=\"psysml:d62a3bc4-f9fb-4fb3-95ae-a81d194bf80a\" target=\"_top\" title=\"psysml:d62a3bc4-f9fb-4fb3-95ae-a81d194bf80a\" xlink:actuate=\"onRequest\" xlink:href=\"psysml:d62a3bc4-f9fb-4fb3-95ae-a81d194bf80a\" xlink:show=\"new\" xlink:title=\"psysml:d62a3bc4-f9fb-4fb3-95ae-a81d194bf80a\" xlink:type=\"simple\"><polygon fill=\"#FFFFFF\" points=\"1533,94,1684,94,1691,117.6094,2593,117.6094,2593,226,1533,226,1533,94\" style=\"stroke: #000000; stroke-width: 1.5;\"/><line style=\"stroke: #000000; stroke-width: 1.5;\" x1=\"1533\" x2=\"1691\" y1=\"117.6094\" y2=\"117.6094\"/><text fill=\"#000000\" font-family=\"sans-serif\" font-size=\"14\" font-weight=\"bold\" lengthAdjust=\"spacingAndGlyphs\" textLength=\"145\" x=\"1537\" y=\"110.5332\">FunctionalInterfaces</text></a><!--MD5=[09b614a08d8cba4a07c9adeb5e0fee81]\n",
       "class E3--><a href=\"psysml:0812ff0a-d532-4811-853f-9aeba8c7a750\" target=\"_top\" title=\"psysml:0812ff0a-d532-4811-853f-9aeba8c7a750\" xlink:actuate=\"onRequest\" xlink:href=\"psysml:0812ff0a-d532-4811-853f-9aeba8c7a750\" xlink:show=\"new\" xlink:title=\"psysml:0812ff0a-d532-4811-853f-9aeba8c7a750\" xlink:type=\"simple\"><rect fill=\"#FFFFFF\" height=\"48.1875\" id=\"E3\" style=\"stroke: #383838; stroke-width: 1.5;\" width=\"93\" x=\"56.5\" y=\"592\"/><text fill=\"#000000\" font-family=\"sans-serif\" font-size=\"12\" font-style=\"italic\" lengthAdjust=\"spacingAndGlyphs\" textLength=\"55\" x=\"75.5\" y=\"609.457\">«part def»</text><text fill=\"#000000\" font-family=\"sans-serif\" font-size=\"12\" lengthAdjust=\"spacingAndGlyphs\" textLength=\"87\" x=\"59.5\" y=\"624.5508\">FunctionalBlock</text><line style=\"stroke: #383838; stroke-width: 1.5;\" x1=\"57.5\" x2=\"148.5\" y1=\"632.1875\" y2=\"632.1875\"/></a><!--MD5=[270fce915f116d4de14055a7c1d9a0f3]\n",
       "class E5--><a href=\"psysml:3bbf9cff-0d0f-4f4d-aa6c-517476c77628\" target=\"_top\" title=\"psysml:3bbf9cff-0d0f-4f4d-aa6c-517476c77628\" xlink:actuate=\"onRequest\" xlink:href=\"psysml:3bbf9cff-0d0f-4f4d-aa6c-517476c77628\" xlink:show=\"new\" xlink:title=\"psysml:3bbf9cff-0d0f-4f4d-aa6c-517476c77628\" xlink:type=\"simple\"><rect fill=\"#FFFFFF\" height=\"48.1875\" id=\"E5\" style=\"stroke: #383838; stroke-width: 1.5;\" width=\"166\" x=\"3733\" y=\"592\"/><text fill=\"#000000\" font-family=\"sans-serif\" font-size=\"12\" font-style=\"italic\" lengthAdjust=\"spacingAndGlyphs\" textLength=\"67\" x=\"3782.5\" y=\"609.457\">«action def»</text><text fill=\"#000000\" font-family=\"sans-serif\" font-size=\"12\" lengthAdjust=\"spacingAndGlyphs\" textLength=\"160\" x=\"3736\" y=\"624.5508\">(Un)install and Move Jukebox</text><line style=\"stroke: #383838; stroke-width: 1.5;\" x1=\"3734\" x2=\"3898\" y1=\"632.1875\" y2=\"632.1875\"/></a><!--MD5=[60a26617385b1d2d0262a64233df1f8d]\n",
       "class E6--><a href=\"psysml:1bad7a0c-674e-4fc7-91df-d3b58c014ac8\" target=\"_top\" title=\"psysml:1bad7a0c-674e-4fc7-91df-d3b58c014ac8\" xlink:actuate=\"onRequest\" xlink:href=\"psysml:1bad7a0c-674e-4fc7-91df-d3b58c014ac8\" xlink:show=\"new\" xlink:title=\"psysml:1bad7a0c-674e-4fc7-91df-d3b58c014ac8\" xlink:type=\"simple\"><rect fill=\"#FFFFFF\" height=\"48.1875\" id=\"E6\" style=\"stroke: #383838; stroke-width: 1.5;\" width=\"115\" x=\"3140.5\" y=\"592\"/><text fill=\"#000000\" font-family=\"sans-serif\" font-size=\"12\" font-style=\"italic\" lengthAdjust=\"spacingAndGlyphs\" textLength=\"67\" x=\"3164.5\" y=\"609.457\">«action def»</text><text fill=\"#000000\" font-family=\"sans-serif\" font-size=\"12\" lengthAdjust=\"spacingAndGlyphs\" textLength=\"109\" x=\"3143.5\" y=\"624.5508\">Ask for Track to Play</text><line style=\"stroke: #383838; stroke-width: 1.5;\" x1=\"3141.5\" x2=\"3254.5\" y1=\"632.1875\" y2=\"632.1875\"/></a><!--MD5=[2156ba9850f5573cc1fc38a6a4b2f02b]\n",
       "class E7--><a href=\"psysml:c42f972c-78fc-49c9-9bb7-8c0154a5a1cc\" target=\"_top\" title=\"psysml:c42f972c-78fc-49c9-9bb7-8c0154a5a1cc\" xlink:actuate=\"onRequest\" xlink:href=\"psysml:c42f972c-78fc-49c9-9bb7-8c0154a5a1cc\" xlink:show=\"new\" xlink:title=\"psysml:c42f972c-78fc-49c9-9bb7-8c0154a5a1cc\" xlink:type=\"simple\"><rect fill=\"#FFFFFF\" height=\"48.1875\" id=\"E7\" style=\"stroke: #383838; stroke-width: 1.5;\" width=\"155\" x=\"3934.5\" y=\"592\"/><text fill=\"#000000\" font-family=\"sans-serif\" font-size=\"12\" font-style=\"italic\" lengthAdjust=\"spacingAndGlyphs\" textLength=\"67\" x=\"3978.5\" y=\"609.457\">«action def»</text><text fill=\"#000000\" font-family=\"sans-serif\" font-size=\"12\" lengthAdjust=\"spacingAndGlyphs\" textLength=\"149\" x=\"3937.5\" y=\"624.5508\">Assemble Music Collection</text><line style=\"stroke: #383838; stroke-width: 1.5;\" x1=\"3935.5\" x2=\"4088.5\" y1=\"632.1875\" y2=\"632.1875\"/></a><!--MD5=[b9389687b975829384b498ac4b7476b2]\n",
       "class E8--><a href=\"psysml:cfb8c6b1-984d-479a-bfee-c7338e7bff0d\" target=\"_top\" title=\"psysml:cfb8c6b1-984d-479a-bfee-c7338e7bff0d\" xlink:actuate=\"onRequest\" xlink:href=\"psysml:cfb8c6b1-984d-479a-bfee-c7338e7bff0d\" xlink:show=\"new\" xlink:title=\"psysml:cfb8c6b1-984d-479a-bfee-c7338e7bff0d\" xlink:type=\"simple\"><rect fill=\"#FFFFFF\" height=\"48.1875\" id=\"E8\" style=\"stroke: #383838; stroke-width: 1.5;\" width=\"218\" x=\"1646\" y=\"592\"/><text fill=\"#000000\" font-family=\"sans-serif\" font-size=\"12\" font-style=\"italic\" lengthAdjust=\"spacingAndGlyphs\" textLength=\"67\" x=\"1721.5\" y=\"609.457\">«action def»</text><text fill=\"#000000\" font-family=\"sans-serif\" font-size=\"12\" lengthAdjust=\"spacingAndGlyphs\" textLength=\"212\" x=\"1649\" y=\"624.5508\">Connect Jukebox with Electrical Supply</text><line style=\"stroke: #383838; stroke-width: 1.5;\" x1=\"1647\" x2=\"1863\" y1=\"632.1875\" y2=\"632.1875\"/></a><!--MD5=[fd4143e9d270a159db93a4ea2a975926]\n",
       "class E9--><a href=\"psysml:e9041aa3-127d-4e8a-9e3b-efe2d6116842\" target=\"_top\" title=\"psysml:e9041aa3-127d-4e8a-9e3b-efe2d6116842\" xlink:actuate=\"onRequest\" xlink:href=\"psysml:e9041aa3-127d-4e8a-9e3b-efe2d6116842\" xlink:show=\"new\" xlink:title=\"psysml:e9041aa3-127d-4e8a-9e3b-efe2d6116842\" xlink:type=\"simple\"><rect fill=\"#FFFFFF\" height=\"48.1875\" id=\"E9\" style=\"stroke: #383838; stroke-width: 1.5;\" width=\"189\" x=\"1899.5\" y=\"592\"/><text fill=\"#000000\" font-family=\"sans-serif\" font-size=\"12\" font-style=\"italic\" lengthAdjust=\"spacingAndGlyphs\" textLength=\"67\" x=\"1960.5\" y=\"609.457\">«action def»</text><text fill=\"#000000\" font-family=\"sans-serif\" font-size=\"12\" lengthAdjust=\"spacingAndGlyphs\" textLength=\"183\" x=\"1902.5\" y=\"624.5508\">Disconnect from Electrical Supply</text><line style=\"stroke: #383838; stroke-width: 1.5;\" x1=\"1900.5\" x2=\"2087.5\" y1=\"632.1875\" y2=\"632.1875\"/></a><!--MD5=[96f4274e9e20536e775497830990834d]\n",
       "class E10--><a href=\"psysml:323dc071-d560-4965-9b29-f15917c01c45\" target=\"_top\" title=\"psysml:323dc071-d560-4965-9b29-f15917c01c45\" xlink:actuate=\"onRequest\" xlink:href=\"psysml:323dc071-d560-4965-9b29-f15917c01c45\" xlink:show=\"new\" xlink:title=\"psysml:323dc071-d560-4965-9b29-f15917c01c45\" xlink:type=\"simple\"><rect fill=\"#FFFFFF\" height=\"48.1875\" id=\"E10\" style=\"stroke: #383838; stroke-width: 1.5;\" width=\"100\" x=\"1378\" y=\"592\"/><text fill=\"#000000\" font-family=\"sans-serif\" font-size=\"12\" font-style=\"italic\" lengthAdjust=\"spacingAndGlyphs\" textLength=\"67\" x=\"1394.5\" y=\"609.457\">«action def»</text><text fill=\"#000000\" font-family=\"sans-serif\" font-size=\"12\" lengthAdjust=\"spacingAndGlyphs\" textLength=\"94\" x=\"1381\" y=\"624.5508\">Distribute Energy</text><line style=\"stroke: #383838; stroke-width: 1.5;\" x1=\"1379\" x2=\"1477\" y1=\"632.1875\" y2=\"632.1875\"/></a><!--MD5=[1dd1bfd58a279cf63c5f349dbc8fc6a1]\n",
       "class E11--><a href=\"psysml:ff1457fa-4a60-490f-8d47-538326345ad0\" target=\"_top\" title=\"psysml:ff1457fa-4a60-490f-8d47-538326345ad0\" xlink:actuate=\"onRequest\" xlink:href=\"psysml:ff1457fa-4a60-490f-8d47-538326345ad0\" xlink:show=\"new\" xlink:title=\"psysml:ff1457fa-4a60-490f-8d47-538326345ad0\" xlink:type=\"simple\"><rect fill=\"#FFFFFF\" height=\"48.1875\" id=\"E11\" style=\"stroke: #383838; stroke-width: 1.5;\" width=\"69\" x=\"503.5\" y=\"592\"/><text fill=\"#000000\" font-family=\"sans-serif\" font-size=\"12\" font-style=\"italic\" lengthAdjust=\"spacingAndGlyphs\" textLength=\"67\" x=\"504.5\" y=\"609.457\">«action def»</text><text fill=\"#000000\" font-family=\"sans-serif\" font-size=\"12\" lengthAdjust=\"spacingAndGlyphs\" textLength=\"60\" x=\"508\" y=\"624.5508\">Get Energy</text><line style=\"stroke: #383838; stroke-width: 1.5;\" x1=\"504.5\" x2=\"571.5\" y1=\"632.1875\" y2=\"632.1875\"/></a><!--MD5=[49a0ec8f00dab7302a31f22d0f0fe584]\n",
       "class E12--><a href=\"psysml:cb48e60c-9d44-448a-9a52-bad29a7f6d0a\" target=\"_top\" title=\"psysml:cb48e60c-9d44-448a-9a52-bad29a7f6d0a\" xlink:actuate=\"onRequest\" xlink:href=\"psysml:cb48e60c-9d44-448a-9a52-bad29a7f6d0a\" xlink:show=\"new\" xlink:title=\"psysml:cb48e60c-9d44-448a-9a52-bad29a7f6d0a\" xlink:type=\"simple\"><rect fill=\"#FFFFFF\" height=\"48.1875\" id=\"E12\" style=\"stroke: #383838; stroke-width: 1.5;\" width=\"131\" x=\"955.5\" y=\"592\"/><text fill=\"#000000\" font-family=\"sans-serif\" font-size=\"12\" font-style=\"italic\" lengthAdjust=\"spacingAndGlyphs\" textLength=\"67\" x=\"987.5\" y=\"609.457\">«action def»</text><text fill=\"#000000\" font-family=\"sans-serif\" font-size=\"12\" lengthAdjust=\"spacingAndGlyphs\" textLength=\"125\" x=\"958.5\" y=\"624.5508\">Get Mechanical Energy</text><line style=\"stroke: #383838; stroke-width: 1.5;\" x1=\"956.5\" x2=\"1085.5\" y1=\"632.1875\" y2=\"632.1875\"/></a><!--MD5=[ee3c913d1a06f366521f9ef512b67efe]\n",
       "class E13--><a href=\"psysml:8e8d5917-7f6e-400c-afdc-457e919f6877\" target=\"_top\" title=\"psysml:8e8d5917-7f6e-400c-afdc-457e919f6877\" xlink:actuate=\"onRequest\" xlink:href=\"psysml:8e8d5917-7f6e-400c-afdc-457e919f6877\" xlink:show=\"new\" xlink:title=\"psysml:8e8d5917-7f6e-400c-afdc-457e919f6877\" xlink:type=\"simple\"><rect fill=\"#FFFFFF\" height=\"48.1875\" id=\"E13\" style=\"stroke: #383838; stroke-width: 1.5;\" width=\"69\" x=\"3036.5\" y=\"592\"/><text fill=\"#000000\" font-family=\"sans-serif\" font-size=\"12\" font-style=\"italic\" lengthAdjust=\"spacingAndGlyphs\" textLength=\"67\" x=\"3037.5\" y=\"609.457\">«action def»</text><text fill=\"#000000\" font-family=\"sans-serif\" font-size=\"12\" lengthAdjust=\"spacingAndGlyphs\" textLength=\"57\" x=\"3042.5\" y=\"624.5508\">Get Money</text><line style=\"stroke: #383838; stroke-width: 1.5;\" x1=\"3037.5\" x2=\"3104.5\" y1=\"632.1875\" y2=\"632.1875\"/></a><!--MD5=[bee11217b2f71d958a27249dc326068c]\n",
       "class E14--><a href=\"psysml:e4b183b7-aa67-4d02-a165-9f575793fd8b\" target=\"_top\" title=\"psysml:e4b183b7-aa67-4d02-a165-9f575793fd8b\" xlink:actuate=\"onRequest\" xlink:href=\"psysml:e4b183b7-aa67-4d02-a165-9f575793fd8b\" xlink:show=\"new\" xlink:title=\"psysml:e4b183b7-aa67-4d02-a165-9f575793fd8b\" xlink:type=\"simple\"><rect fill=\"#FFFFFF\" height=\"48.1875\" id=\"E14\" style=\"stroke: #383838; stroke-width: 1.5;\" width=\"70\" x=\"2124\" y=\"592\"/><text fill=\"#000000\" font-family=\"sans-serif\" font-size=\"12\" font-style=\"italic\" lengthAdjust=\"spacingAndGlyphs\" textLength=\"67\" x=\"2125.5\" y=\"609.457\">«action def»</text><text fill=\"#000000\" font-family=\"sans-serif\" font-size=\"12\" lengthAdjust=\"spacingAndGlyphs\" textLength=\"64\" x=\"2127\" y=\"624.5508\">Insert Cash</text><line style=\"stroke: #383838; stroke-width: 1.5;\" x1=\"2125\" x2=\"2193\" y1=\"632.1875\" y2=\"632.1875\"/></a><!--MD5=[0c48fb7552dae8cbbef69381101a84c8]\n",
       "class E15--><a href=\"psysml:b4a8ca44-db3d-47eb-b821-24a002fc2f5a\" target=\"_top\" title=\"psysml:b4a8ca44-db3d-47eb-b821-24a002fc2f5a\" xlink:actuate=\"onRequest\" xlink:href=\"psysml:b4a8ca44-db3d-47eb-b821-24a002fc2f5a\" xlink:show=\"new\" xlink:title=\"psysml:b4a8ca44-db3d-47eb-b821-24a002fc2f5a\" xlink:type=\"simple\"><rect fill=\"#FFFFFF\" height=\"48.1875\" id=\"E15\" style=\"stroke: #383838; stroke-width: 1.5;\" width=\"87\" x=\"2468.5\" y=\"592\"/><text fill=\"#000000\" font-family=\"sans-serif\" font-size=\"12\" font-style=\"italic\" lengthAdjust=\"spacingAndGlyphs\" textLength=\"67\" x=\"2478.5\" y=\"609.457\">«action def»</text><text fill=\"#000000\" font-family=\"sans-serif\" font-size=\"12\" lengthAdjust=\"spacingAndGlyphs\" textLength=\"81\" x=\"2471.5\" y=\"624.5508\">Install Jukebox</text><line style=\"stroke: #383838; stroke-width: 1.5;\" x1=\"2469.5\" x2=\"2554.5\" y1=\"632.1875\" y2=\"632.1875\"/></a><!--MD5=[35f0587eaee8d5bb9a02e25b63afc23b]\n",
       "class E16--><a href=\"psysml:14756052-6a21-4af1-a93c-cd594c3a7951\" target=\"_top\" title=\"psysml:14756052-6a21-4af1-a93c-cd594c3a7951\" xlink:actuate=\"onRequest\" xlink:href=\"psysml:14756052-6a21-4af1-a93c-cd594c3a7951\" xlink:show=\"new\" xlink:title=\"psysml:14756052-6a21-4af1-a93c-cd594c3a7951\" xlink:type=\"simple\"><rect fill=\"#FFFFFF\" height=\"48.1875\" id=\"E16\" style=\"stroke: #383838; stroke-width: 1.5;\" width=\"88\" x=\"3417\" y=\"592\"/><text fill=\"#000000\" font-family=\"sans-serif\" font-size=\"12\" font-style=\"italic\" lengthAdjust=\"spacingAndGlyphs\" textLength=\"67\" x=\"3427.5\" y=\"609.457\">«action def»</text><text fill=\"#000000\" font-family=\"sans-serif\" font-size=\"12\" lengthAdjust=\"spacingAndGlyphs\" textLength=\"82\" x=\"3420\" y=\"624.5508\">Listen to Music</text><line style=\"stroke: #383838; stroke-width: 1.5;\" x1=\"3418\" x2=\"3504\" y1=\"632.1875\" y2=\"632.1875\"/></a><!--MD5=[60e55a4a9b2f0dc0a36787c5a2095786]\n",
       "class E17--><a href=\"psysml:89a9e7ba-7ddc-4e54-bc41-51103892d1d2\" target=\"_top\" title=\"psysml:89a9e7ba-7ddc-4e54-bc41-51103892d1d2\" xlink:actuate=\"onRequest\" xlink:href=\"psysml:89a9e7ba-7ddc-4e54-bc41-51103892d1d2\" xlink:show=\"new\" xlink:title=\"psysml:89a9e7ba-7ddc-4e54-bc41-51103892d1d2\" xlink:type=\"simple\"><rect fill=\"#FFFFFF\" height=\"48.1875\" id=\"E17\" style=\"stroke: #383838; stroke-width: 1.5;\" width=\"122\" x=\"2729\" y=\"592\"/><text fill=\"#000000\" font-family=\"sans-serif\" font-size=\"12\" font-style=\"italic\" lengthAdjust=\"spacingAndGlyphs\" textLength=\"67\" x=\"2756.5\" y=\"609.457\">«action def»</text><text fill=\"#000000\" font-family=\"sans-serif\" font-size=\"12\" lengthAdjust=\"spacingAndGlyphs\" textLength=\"116\" x=\"2732\" y=\"624.5508\">Make Music Available</text><line style=\"stroke: #383838; stroke-width: 1.5;\" x1=\"2730\" x2=\"2850\" y1=\"632.1875\" y2=\"632.1875\"/></a><!--MD5=[e3af68e2095dcd46cf4beab32f25c64b]\n",
       "class E18--><a href=\"psysml:898c1eb1-d522-42d3-99a0-d9301a5264ee\" target=\"_top\" title=\"psysml:898c1eb1-d522-42d3-99a0-d9301a5264ee\" xlink:actuate=\"onRequest\" xlink:href=\"psysml:898c1eb1-d522-42d3-99a0-d9301a5264ee\" xlink:show=\"new\" xlink:title=\"psysml:898c1eb1-d522-42d3-99a0-d9301a5264ee\" xlink:type=\"simple\"><rect fill=\"#FFFFFF\" height=\"48.1875\" id=\"E18\" style=\"stroke: #383838; stroke-width: 1.5;\" width=\"97\" x=\"1513.5\" y=\"592\"/><text fill=\"#000000\" font-family=\"sans-serif\" font-size=\"12\" font-style=\"italic\" lengthAdjust=\"spacingAndGlyphs\" textLength=\"67\" x=\"1528.5\" y=\"609.457\">«action def»</text><text fill=\"#000000\" font-family=\"sans-serif\" font-size=\"12\" lengthAdjust=\"spacingAndGlyphs\" textLength=\"91\" x=\"1516.5\" y=\"624.5508\">Monitor Payment</text><line style=\"stroke: #383838; stroke-width: 1.5;\" x1=\"1514.5\" x2=\"1609.5\" y1=\"632.1875\" y2=\"632.1875\"/></a><!--MD5=[2afd267d199484aabbd2f23ded056bb0]\n",
       "class E19--><a href=\"psysml:eacd3ee7-a650-4705-9d53-97134486fc7e\" target=\"_top\" title=\"psysml:eacd3ee7-a650-4705-9d53-97134486fc7e\" xlink:actuate=\"onRequest\" xlink:href=\"psysml:eacd3ee7-a650-4705-9d53-97134486fc7e\" xlink:show=\"new\" xlink:title=\"psysml:eacd3ee7-a650-4705-9d53-97134486fc7e\" xlink:type=\"simple\"><rect fill=\"#FFFFFF\" height=\"48.1875\" id=\"E19\" style=\"stroke: #383838; stroke-width: 1.5;\" width=\"97\" x=\"1245.5\" y=\"592\"/><text fill=\"#000000\" font-family=\"sans-serif\" font-size=\"12\" font-style=\"italic\" lengthAdjust=\"spacingAndGlyphs\" textLength=\"67\" x=\"1260.5\" y=\"609.457\">«action def»</text><text fill=\"#000000\" font-family=\"sans-serif\" font-size=\"12\" lengthAdjust=\"spacingAndGlyphs\" textLength=\"91\" x=\"1248.5\" y=\"624.5508\">Play Music Track</text><line style=\"stroke: #383838; stroke-width: 1.5;\" x1=\"1246.5\" x2=\"1341.5\" y1=\"632.1875\" y2=\"632.1875\"/></a><!--MD5=[98c62f1084e4f84a692d89b659ad1ae4]\n",
       "class E20--><a href=\"psysml:7bce493c-7ffb-4dcb-9055-6c20d9d6d401\" target=\"_top\" title=\"psysml:7bce493c-7ffb-4dcb-9055-6c20d9d6d401\" xlink:actuate=\"onRequest\" xlink:href=\"psysml:7bce493c-7ffb-4dcb-9055-6c20d9d6d401\" xlink:show=\"new\" xlink:title=\"psysml:7bce493c-7ffb-4dcb-9055-6c20d9d6d401\" xlink:type=\"simple\"><rect fill=\"#FFFFFF\" height=\"48.1875\" id=\"E20\" style=\"stroke: #383838; stroke-width: 1.5;\" width=\"91\" x=\"3290.5\" y=\"592\"/><text fill=\"#000000\" font-family=\"sans-serif\" font-size=\"12\" font-style=\"italic\" lengthAdjust=\"spacingAndGlyphs\" textLength=\"67\" x=\"3302.5\" y=\"609.457\">«action def»</text><text fill=\"#000000\" font-family=\"sans-serif\" font-size=\"12\" lengthAdjust=\"spacingAndGlyphs\" textLength=\"85\" x=\"3293.5\" y=\"624.5508\">Produce Sound</text><line style=\"stroke: #383838; stroke-width: 1.5;\" x1=\"3291.5\" x2=\"3380.5\" y1=\"632.1875\" y2=\"632.1875\"/></a><!--MD5=[0a5eafc7463fe4c3b6356fe5913c4902]\n",
       "class E21--><a href=\"psysml:cfa7de16-efc2-48a1-afea-591a210eefdb\" target=\"_top\" title=\"psysml:cfa7de16-efc2-48a1-afea-591a210eefdb\" xlink:actuate=\"onRequest\" xlink:href=\"psysml:cfa7de16-efc2-48a1-afea-591a210eefdb\" xlink:show=\"new\" xlink:title=\"psysml:cfa7de16-efc2-48a1-afea-591a210eefdb\" xlink:type=\"simple\"><rect fill=\"#FFFFFF\" height=\"48.1875\" id=\"E21\" style=\"stroke: #383838; stroke-width: 1.5;\" width=\"115\" x=\"2886.5\" y=\"592\"/><text fill=\"#000000\" font-family=\"sans-serif\" font-size=\"12\" font-style=\"italic\" lengthAdjust=\"spacingAndGlyphs\" textLength=\"67\" x=\"2910.5\" y=\"609.457\">«action def»</text><text fill=\"#000000\" font-family=\"sans-serif\" font-size=\"12\" lengthAdjust=\"spacingAndGlyphs\" textLength=\"109\" x=\"2889.5\" y=\"624.5508\">Provide Music Track</text><line style=\"stroke: #383838; stroke-width: 1.5;\" x1=\"2887.5\" x2=\"3000.5\" y1=\"632.1875\" y2=\"632.1875\"/></a><!--MD5=[6284cf9f06086a212f4fa89d0d29ec03]\n",
       "class E22--><a href=\"psysml:b8dccae6-909f-4be0-bd05-dd8e3abbdafb\" target=\"_top\" title=\"psysml:b8dccae6-909f-4be0-bd05-dd8e3abbdafb\" xlink:actuate=\"onRequest\" xlink:href=\"psysml:b8dccae6-909f-4be0-bd05-dd8e3abbdafb\" xlink:show=\"new\" xlink:title=\"psysml:b8dccae6-909f-4be0-bd05-dd8e3abbdafb\" xlink:type=\"simple\"><rect fill=\"#FFFFFF\" height=\"48.1875\" id=\"E22\" style=\"stroke: #383838; stroke-width: 1.5;\" width=\"204\" x=\"2229\" y=\"592\"/><text fill=\"#000000\" font-family=\"sans-serif\" font-size=\"12\" font-style=\"italic\" lengthAdjust=\"spacingAndGlyphs\" textLength=\"67\" x=\"2297.5\" y=\"609.457\">«action def»</text><text fill=\"#000000\" font-family=\"sans-serif\" font-size=\"12\" lengthAdjust=\"spacingAndGlyphs\" textLength=\"198\" x=\"2232\" y=\"624.5508\">Retrieve Identification of Music Track</text><line style=\"stroke: #383838; stroke-width: 1.5;\" x1=\"2230\" x2=\"2432\" y1=\"632.1875\" y2=\"632.1875\"/></a><!--MD5=[a4184b15efaeca9fb90158e34dfc9305]\n",
       "class E23--><a href=\"psysml:aa52e813-4bf9-4529-89e0-70b8b6fe0d19\" target=\"_top\" title=\"psysml:aa52e813-4bf9-4529-89e0-70b8b6fe0d19\" xlink:actuate=\"onRequest\" xlink:href=\"psysml:aa52e813-4bf9-4529-89e0-70b8b6fe0d19\" xlink:show=\"new\" xlink:title=\"psysml:aa52e813-4bf9-4529-89e0-70b8b6fe0d19\" xlink:type=\"simple\"><rect fill=\"#FFFFFF\" height=\"48.1875\" id=\"E23\" style=\"stroke: #383838; stroke-width: 1.5;\" width=\"89\" x=\"1121.5\" y=\"592\"/><text fill=\"#000000\" font-family=\"sans-serif\" font-size=\"12\" font-style=\"italic\" lengthAdjust=\"spacingAndGlyphs\" textLength=\"67\" x=\"1132.5\" y=\"609.457\">«action def»</text><text fill=\"#000000\" font-family=\"sans-serif\" font-size=\"12\" lengthAdjust=\"spacingAndGlyphs\" textLength=\"83\" x=\"1124.5\" y=\"624.5508\">Retrieve Money</text><line style=\"stroke: #383838; stroke-width: 1.5;\" x1=\"1122.5\" x2=\"1209.5\" y1=\"632.1875\" y2=\"632.1875\"/></a><!--MD5=[d961d9d5dcc77964a221abceaadb3cc6]\n",
       "class E24--><a href=\"psysml:a688ecd3-960c-47e5-9b3d-ba95e83f8e97\" target=\"_top\" title=\"psysml:a688ecd3-960c-47e5-9b3d-ba95e83f8e97\" xlink:actuate=\"onRequest\" xlink:href=\"psysml:a688ecd3-960c-47e5-9b3d-ba95e83f8e97\" xlink:show=\"new\" xlink:title=\"psysml:a688ecd3-960c-47e5-9b3d-ba95e83f8e97\" xlink:type=\"simple\"><rect fill=\"#FFFFFF\" height=\"48.1875\" id=\"E24\" style=\"stroke: #383838; stroke-width: 1.5;\" width=\"157\" x=\"3540.5\" y=\"592\"/><text fill=\"#000000\" font-family=\"sans-serif\" font-size=\"12\" font-style=\"italic\" lengthAdjust=\"spacingAndGlyphs\" textLength=\"67\" x=\"3585.5\" y=\"609.457\">«action def»</text><text fill=\"#000000\" font-family=\"sans-serif\" font-size=\"12\" lengthAdjust=\"spacingAndGlyphs\" textLength=\"151\" x=\"3543.5\" y=\"624.5508\">Supply Jukebox with Energy</text><line style=\"stroke: #383838; stroke-width: 1.5;\" x1=\"3541.5\" x2=\"3696.5\" y1=\"632.1875\" y2=\"632.1875\"/></a><!--MD5=[27602d2299176a43176dae1470eb318a]\n",
       "class E25--><a href=\"psysml:b255a280-7311-43b9-8b52-36662fdc1f0d\" target=\"_top\" title=\"psysml:b255a280-7311-43b9-8b52-36662fdc1f0d\" xlink:actuate=\"onRequest\" xlink:href=\"psysml:b255a280-7311-43b9-8b52-36662fdc1f0d\" xlink:show=\"new\" xlink:title=\"psysml:b255a280-7311-43b9-8b52-36662fdc1f0d\" xlink:type=\"simple\"><rect fill=\"#FFFFFF\" height=\"48.1875\" id=\"E25\" style=\"stroke: #383838; stroke-width: 1.5;\" width=\"313\" x=\"607.5\" y=\"592\"/><text fill=\"#000000\" font-family=\"sans-serif\" font-size=\"12\" font-style=\"italic\" lengthAdjust=\"spacingAndGlyphs\" textLength=\"67\" x=\"730.5\" y=\"609.457\">«action def»</text><text fill=\"#000000\" font-family=\"sans-serif\" font-size=\"12\" lengthAdjust=\"spacingAndGlyphs\" textLength=\"307\" x=\"610.5\" y=\"624.5508\">Transform Mechanical Engery into Something Harmless</text><line style=\"stroke: #383838; stroke-width: 1.5;\" x1=\"608.5\" x2=\"919.5\" y1=\"632.1875\" y2=\"632.1875\"/></a><!--MD5=[cd9920ba5ec815a2e5c5d0d6af8dfd7b]\n",
       "class E26--><a href=\"psysml:5e55d891-6658-40e5-902a-b6f89a8ae30e\" target=\"_top\" title=\"psysml:5e55d891-6658-40e5-902a-b6f89a8ae30e\" xlink:actuate=\"onRequest\" xlink:href=\"psysml:5e55d891-6658-40e5-902a-b6f89a8ae30e\" xlink:show=\"new\" xlink:title=\"psysml:5e55d891-6658-40e5-902a-b6f89a8ae30e\" xlink:type=\"simple\"><rect fill=\"#FFFFFF\" height=\"48.1875\" id=\"E26\" style=\"stroke: #383838; stroke-width: 1.5;\" width=\"103\" x=\"2590.5\" y=\"592\"/><text fill=\"#000000\" font-family=\"sans-serif\" font-size=\"12\" font-style=\"italic\" lengthAdjust=\"spacingAndGlyphs\" textLength=\"67\" x=\"2608.5\" y=\"609.457\">«action def»</text><text fill=\"#000000\" font-family=\"sans-serif\" font-size=\"12\" lengthAdjust=\"spacingAndGlyphs\" textLength=\"97\" x=\"2593.5\" y=\"624.5508\">Uninstall Jukebox</text><line style=\"stroke: #383838; stroke-width: 1.5;\" x1=\"2591.5\" x2=\"2692.5\" y1=\"632.1875\" y2=\"632.1875\"/></a><!--MD5=[066bc520e5788adc19ecb36845367d7b]\n",
       "class E27--><a href=\"psysml:a6d68485-656a-490b-944b-c7e8b8b3ffb2\" target=\"_top\" title=\"psysml:a6d68485-656a-490b-944b-c7e8b8b3ffb2\" xlink:actuate=\"onRequest\" xlink:href=\"psysml:a6d68485-656a-490b-944b-c7e8b8b3ffb2\" xlink:show=\"new\" xlink:title=\"psysml:a6d68485-656a-490b-944b-c7e8b8b3ffb2\" xlink:type=\"simple\"><rect fill=\"#FFFFFF\" height=\"48.1875\" id=\"E27\" style=\"stroke: #383838; stroke-width: 1.5;\" width=\"262\" x=\"206\" y=\"592\"/><text fill=\"#000000\" font-family=\"sans-serif\" font-size=\"12\" font-style=\"italic\" lengthAdjust=\"spacingAndGlyphs\" textLength=\"67\" x=\"303.5\" y=\"609.457\">«action def»</text><text fill=\"#000000\" font-family=\"sans-serif\" font-size=\"12\" lengthAdjust=\"spacingAndGlyphs\" textLength=\"256\" x=\"209\" y=\"624.5508\">Use Means of Music Transfer to Retrieve Music</text><line style=\"stroke: #383838; stroke-width: 1.5;\" x1=\"207\" x2=\"467\" y1=\"632.1875\" y2=\"632.1875\"/></a><!--MD5=[25464c42cc0d14ebb0038e04d39d9569]\n",
       "class E29--><a href=\"psysml:7b9a0cb8-90ae-4216-ba8f-38ef2162c6d9\" target=\"_top\" title=\"psysml:7b9a0cb8-90ae-4216-ba8f-38ef2162c6d9\" xlink:actuate=\"onRequest\" xlink:href=\"psysml:7b9a0cb8-90ae-4216-ba8f-38ef2162c6d9\" xlink:show=\"new\" xlink:title=\"psysml:7b9a0cb8-90ae-4216-ba8f-38ef2162c6d9\" xlink:type=\"simple\"><rect fill=\"#FFFFFF\" height=\"48.1875\" id=\"E29\" style=\"stroke: #383838; stroke-width: 1.5;\" width=\"72\" x=\"3747\" y=\"146\"/><text fill=\"#000000\" font-family=\"sans-serif\" font-size=\"12\" font-style=\"italic\" lengthAdjust=\"spacingAndGlyphs\" textLength=\"58\" x=\"3754\" y=\"163.457\">«item def»</text><text fill=\"#000000\" font-family=\"sans-serif\" font-size=\"12\" lengthAdjust=\"spacingAndGlyphs\" textLength=\"66\" x=\"3750\" y=\"178.5508\">AudioSignal</text><line style=\"stroke: #383838; stroke-width: 1.5;\" x1=\"3748\" x2=\"3818\" y1=\"186.1875\" y2=\"186.1875\"/></a><!--MD5=[6366ee80e77914263c86fca8571e11f5]\n",
       "class E30--><a href=\"psysml:d75029e3-6a38-4bfa-8cc7-cda38c45aa81\" target=\"_top\" title=\"psysml:d75029e3-6a38-4bfa-8cc7-cda38c45aa81\" xlink:actuate=\"onRequest\" xlink:href=\"psysml:d75029e3-6a38-4bfa-8cc7-cda38c45aa81\" xlink:show=\"new\" xlink:title=\"psysml:d75029e3-6a38-4bfa-8cc7-cda38c45aa81\" xlink:type=\"simple\"><rect fill=\"#FFFFFF\" height=\"48.1875\" id=\"E30\" style=\"stroke: #383838; stroke-width: 1.5;\" width=\"132\" x=\"3580\" y=\"146\"/><text fill=\"#000000\" font-family=\"sans-serif\" font-size=\"12\" font-style=\"italic\" lengthAdjust=\"spacingAndGlyphs\" textLength=\"58\" x=\"3617\" y=\"163.457\">«item def»</text><text fill=\"#000000\" font-family=\"sans-serif\" font-size=\"12\" lengthAdjust=\"spacingAndGlyphs\" textLength=\"126\" x=\"3583\" y=\"178.5508\">ClearanceToPlayMusic</text><line style=\"stroke: #383838; stroke-width: 1.5;\" x1=\"3581\" x2=\"3711\" y1=\"186.1875\" y2=\"186.1875\"/></a><!--MD5=[25feff12fec73981df06979b9bb6cf9e]\n",
       "class E31--><a href=\"psysml:a423c0ad-cc5c-489c-9ff4-db4a39fd33a1\" target=\"_top\" title=\"psysml:a423c0ad-cc5c-489c-9ff4-db4a39fd33a1\" xlink:actuate=\"onRequest\" xlink:href=\"psysml:a423c0ad-cc5c-489c-9ff4-db4a39fd33a1\" xlink:show=\"new\" xlink:title=\"psysml:a423c0ad-cc5c-489c-9ff4-db4a39fd33a1\" xlink:type=\"simple\"><rect fill=\"#FFFFFF\" height=\"48.1875\" id=\"E31\" style=\"stroke: #383838; stroke-width: 1.5;\" width=\"94\" x=\"3451\" y=\"146\"/><text fill=\"#000000\" font-family=\"sans-serif\" font-size=\"12\" font-style=\"italic\" lengthAdjust=\"spacingAndGlyphs\" textLength=\"58\" x=\"3469\" y=\"163.457\">«item def»</text><text fill=\"#000000\" font-family=\"sans-serif\" font-size=\"12\" lengthAdjust=\"spacingAndGlyphs\" textLength=\"88\" x=\"3454\" y=\"178.5508\">ElectricalEnergy</text><line style=\"stroke: #383838; stroke-width: 1.5;\" x1=\"3452\" x2=\"3544\" y1=\"186.1875\" y2=\"186.1875\"/></a><!--MD5=[541982d0c4e6f81f5d688cdf05a252dd]\n",
       "class E32--><a href=\"psysml:a8b799ad-c6b8-42d9-8c92-7a435e1f0272\" target=\"_top\" title=\"psysml:a8b799ad-c6b8-42d9-8c92-7a435e1f0272\" xlink:actuate=\"onRequest\" xlink:href=\"psysml:a8b799ad-c6b8-42d9-8c92-7a435e1f0272\" xlink:show=\"new\" xlink:title=\"psysml:a8b799ad-c6b8-42d9-8c92-7a435e1f0272\" xlink:type=\"simple\"><rect fill=\"#FFFFFF\" height=\"48.1875\" id=\"E32\" style=\"stroke: #383838; stroke-width: 1.5;\" width=\"149\" x=\"3266.5\" y=\"146\"/><text fill=\"#000000\" font-family=\"sans-serif\" font-size=\"12\" font-style=\"italic\" lengthAdjust=\"spacingAndGlyphs\" textLength=\"58\" x=\"3312\" y=\"163.457\">«item def»</text><text fill=\"#000000\" font-family=\"sans-serif\" font-size=\"12\" lengthAdjust=\"spacingAndGlyphs\" textLength=\"143\" x=\"3269.5\" y=\"178.5508\">IdentificationOfMusicTrack</text><line style=\"stroke: #383838; stroke-width: 1.5;\" x1=\"3267.5\" x2=\"3414.5\" y1=\"186.1875\" y2=\"186.1875\"/></a><!--MD5=[c001dd83e7e635e78b1155d783a31b32]\n",
       "class E33--><a href=\"psysml:7a7d588e-36ad-4534-99cf-9c5caf6ecbc6\" target=\"_top\" title=\"psysml:7a7d588e-36ad-4534-99cf-9c5caf6ecbc6\" xlink:actuate=\"onRequest\" xlink:href=\"psysml:7a7d588e-36ad-4534-99cf-9c5caf6ecbc6\" xlink:show=\"new\" xlink:title=\"psysml:7a7d588e-36ad-4534-99cf-9c5caf6ecbc6\" xlink:type=\"simple\"><rect fill=\"#FFFFFF\" height=\"48.1875\" id=\"E33\" style=\"stroke: #383838; stroke-width: 1.5;\" width=\"106\" x=\"3125\" y=\"146\"/><text fill=\"#000000\" font-family=\"sans-serif\" font-size=\"12\" font-style=\"italic\" lengthAdjust=\"spacingAndGlyphs\" textLength=\"58\" x=\"3149\" y=\"163.457\">«item def»</text><text fill=\"#000000\" font-family=\"sans-serif\" font-size=\"12\" lengthAdjust=\"spacingAndGlyphs\" textLength=\"100\" x=\"3128\" y=\"178.5508\">MechanicalEnergy</text><line style=\"stroke: #383838; stroke-width: 1.5;\" x1=\"3126\" x2=\"3230\" y1=\"186.1875\" y2=\"186.1875\"/></a><!--MD5=[2d9fbeae1c55644634d3f76b2d39f306]\n",
       "class E34--><a href=\"psysml:2880305f-e779-48e4-9680-4cf241a6d60c\" target=\"_top\" title=\"psysml:2880305f-e779-48e4-9680-4cf241a6d60c\" xlink:actuate=\"onRequest\" xlink:href=\"psysml:2880305f-e779-48e4-9680-4cf241a6d60c\" xlink:show=\"new\" xlink:title=\"psysml:2880305f-e779-48e4-9680-4cf241a6d60c\" xlink:type=\"simple\"><rect fill=\"#FFFFFF\" height=\"48.1875\" id=\"E34\" style=\"stroke: #383838; stroke-width: 1.5;\" width=\"60\" x=\"3030\" y=\"146\"/><text fill=\"#000000\" font-family=\"sans-serif\" font-size=\"12\" font-style=\"italic\" lengthAdjust=\"spacingAndGlyphs\" textLength=\"58\" x=\"3031\" y=\"163.457\">«item def»</text><text fill=\"#000000\" font-family=\"sans-serif\" font-size=\"12\" lengthAdjust=\"spacingAndGlyphs\" textLength=\"35\" x=\"3042.5\" y=\"178.5508\">Money</text><line style=\"stroke: #383838; stroke-width: 1.5;\" x1=\"3031\" x2=\"3089\" y1=\"186.1875\" y2=\"186.1875\"/></a><!--MD5=[4bed7091ef0f4510d2ba4e40068699fa]\n",
       "class E35--><a href=\"psysml:a69bb768-bc55-4433-a98a-d927cb376455\" target=\"_top\" title=\"psysml:a69bb768-bc55-4433-a98a-d927cb376455\" xlink:actuate=\"onRequest\" xlink:href=\"psysml:a69bb768-bc55-4433-a98a-d927cb376455\" xlink:show=\"new\" xlink:title=\"psysml:a69bb768-bc55-4433-a98a-d927cb376455\" xlink:type=\"simple\"><rect fill=\"#FFFFFF\" height=\"48.1875\" id=\"E35\" style=\"stroke: #383838; stroke-width: 1.5;\" width=\"68\" x=\"2927\" y=\"146\"/><text fill=\"#000000\" font-family=\"sans-serif\" font-size=\"12\" font-style=\"italic\" lengthAdjust=\"spacingAndGlyphs\" textLength=\"58\" x=\"2932\" y=\"163.457\">«item def»</text><text fill=\"#000000\" font-family=\"sans-serif\" font-size=\"12\" lengthAdjust=\"spacingAndGlyphs\" textLength=\"62\" x=\"2930\" y=\"178.5508\">MusicTrack</text><line style=\"stroke: #383838; stroke-width: 1.5;\" x1=\"2928\" x2=\"2994\" y1=\"186.1875\" y2=\"186.1875\"/></a><!--MD5=[0a35238ba3ead4d973bf2299dd53feb0]\n",
       "class E52--><a href=\"psysml:5917708f-100d-47cd-8ab5-ce2addca15e3\" target=\"_top\" title=\"psysml:5917708f-100d-47cd-8ab5-ce2addca15e3\" xlink:actuate=\"onRequest\" xlink:href=\"psysml:5917708f-100d-47cd-8ab5-ce2addca15e3\" xlink:show=\"new\" xlink:title=\"psysml:5917708f-100d-47cd-8ab5-ce2addca15e3\" xlink:type=\"simple\"><rect fill=\"#FFFFFF\" height=\"48.1875\" id=\"E52\" rx=\"10\" ry=\"10\" style=\"stroke: #383838; stroke-width: 1.5;\" width=\"193\" x=\"1320.5\" y=\"146\"/><text fill=\"#000000\" font-family=\"sans-serif\" font-size=\"12\" font-style=\"italic\" lengthAdjust=\"spacingAndGlyphs\" textLength=\"35\" x=\"1399.5\" y=\"163.457\">«part»</text><text fill=\"#000000\" font-family=\"sans-serif\" font-size=\"12\" lengthAdjust=\"spacingAndGlyphs\" textLength=\"187\" x=\"1323.5\" y=\"178.5508\">TheFASJukeBoxFunctionalContext</text><line style=\"stroke: #383838; stroke-width: 1.5;\" x1=\"1321.5\" x2=\"1512.5\" y1=\"186.1875\" y2=\"186.1875\"/></a><!--MD5=[c1e2eec4360a6cb215ea5ab1a98c5668]\n",
       "class E53--><a href=\"psysml:33d4680a-a9e8-487c-ae88-8905c746417c\" target=\"_top\" title=\"psysml:33d4680a-a9e8-487c-ae88-8905c746417c\" xlink:actuate=\"onRequest\" xlink:href=\"psysml:33d4680a-a9e8-487c-ae88-8905c746417c\" xlink:show=\"new\" xlink:title=\"psysml:33d4680a-a9e8-487c-ae88-8905c746417c\" xlink:type=\"simple\"><rect fill=\"#FFFFFF\" height=\"48.1875\" id=\"E53\" rx=\"10\" ry=\"10\" style=\"stroke: #383838; stroke-width: 1.5;\" width=\"216\" x=\"1331\" y=\"273\"/><text fill=\"#000000\" font-family=\"sans-serif\" font-size=\"12\" font-style=\"italic\" lengthAdjust=\"spacingAndGlyphs\" textLength=\"35\" x=\"1421.5\" y=\"290.457\">«part»</text><text fill=\"#000000\" font-family=\"sans-serif\" font-size=\"12\" lengthAdjust=\"spacingAndGlyphs\" textLength=\"210\" x=\"1334\" y=\"305.5508\">TheFASJukeBoxFunctionalArchitecture</text><line style=\"stroke: #383838; stroke-width: 1.5;\" x1=\"1332\" x2=\"1546\" y1=\"313.1875\" y2=\"313.1875\"/></a><!--MD5=[e658748ad39c9e428a00c3bb17362aef]\n",
       "class E54--><a href=\"psysml:eab38ea9-a866-41ac-91a0-b891156d65a5\" target=\"_top\" title=\"psysml:eab38ea9-a866-41ac-91a0-b891156d65a5\" xlink:actuate=\"onRequest\" xlink:href=\"psysml:eab38ea9-a866-41ac-91a0-b891156d65a5\" xlink:show=\"new\" xlink:title=\"psysml:eab38ea9-a866-41ac-91a0-b891156d65a5\" xlink:type=\"simple\"><rect fill=\"#FFFFFF\" height=\"107.5313\" id=\"E54\" rx=\"10\" ry=\"10\" style=\"stroke: #383838; stroke-width: 1.5;\" width=\"176\" x=\"2425\" y=\"382\"/><text fill=\"#000000\" font-family=\"sans-serif\" font-size=\"12\" font-style=\"italic\" lengthAdjust=\"spacingAndGlyphs\" textLength=\"35\" x=\"2495.5\" y=\"399.457\">«part»</text><text fill=\"#000000\" font-family=\"sans-serif\" font-size=\"12\" lengthAdjust=\"spacingAndGlyphs\" textLength=\"166\" x=\"2430\" y=\"414.5508\">I/O Customer: FunctionalBlock</text><line style=\"stroke: #383838; stroke-width: 1.5;\" x1=\"2426\" x2=\"2600\" y1=\"422.1875\" y2=\"422.1875\"/><text fill=\"#000000\" font-family=\"sans-serif\" font-size=\"11\" lengthAdjust=\"spacingAndGlyphs\" textLength=\"69\" x=\"2431\" y=\"455.4424\">p1: MoneyPort</text><text fill=\"#000000\" font-family=\"sans-serif\" font-size=\"11\" lengthAdjust=\"spacingAndGlyphs\" textLength=\"100\" x=\"2431\" y=\"469.2783\">p2: ~AudioSignalPort</text><text fill=\"#000000\" font-family=\"sans-serif\" font-size=\"11\" lengthAdjust=\"spacingAndGlyphs\" textLength=\"164\" x=\"2431\" y=\"483.1143\">p3: IdentificationOfMusicTrackPort</text><line style=\"stroke: #383838; stroke-width: 1.0;\" x1=\"2426\" x2=\"2500.5\" y1=\"437.1055\" y2=\"437.1055\"/><text fill=\"#000000\" font-family=\"sans-serif\" font-size=\"11\" lengthAdjust=\"spacingAndGlyphs\" textLength=\"25\" x=\"2500.5\" y=\"441.1064\">ports</text><line style=\"stroke: #383838; stroke-width: 1.0;\" x1=\"2525.5\" x2=\"2600\" y1=\"437.1055\" y2=\"437.1055\"/></a><!--MD5=[aa0ba4058ce3aabd0d0dfe8c7406759c]\n",
       "class E58--><a href=\"psysml:43a110a9-32bf-40af-8368-a121575e6e34\" target=\"_top\" title=\"psysml:43a110a9-32bf-40af-8368-a121575e6e34\" xlink:actuate=\"onRequest\" xlink:href=\"psysml:43a110a9-32bf-40af-8368-a121575e6e34\" xlink:show=\"new\" xlink:title=\"psysml:43a110a9-32bf-40af-8368-a121575e6e34\" xlink:type=\"simple\"><rect fill=\"#FFFFFF\" height=\"79.8594\" id=\"E58\" rx=\"10\" ry=\"10\" style=\"stroke: #383838; stroke-width: 1.5;\" width=\"207\" x=\"903.5\" y=\"396\"/><text fill=\"#000000\" font-family=\"sans-serif\" font-size=\"12\" font-style=\"italic\" lengthAdjust=\"spacingAndGlyphs\" textLength=\"35\" x=\"989.5\" y=\"413.457\">«part»</text><text fill=\"#000000\" font-family=\"sans-serif\" font-size=\"12\" lengthAdjust=\"spacingAndGlyphs\" textLength=\"201\" x=\"906.5\" y=\"428.5508\">I/O Electrical Supply: FunctionalBlock</text><line style=\"stroke: #383838; stroke-width: 1.5;\" x1=\"904.5\" x2=\"1109.5\" y1=\"436.1875\" y2=\"436.1875\"/><text fill=\"#000000\" font-family=\"sans-serif\" font-size=\"11\" lengthAdjust=\"spacingAndGlyphs\" textLength=\"114\" x=\"909.5\" y=\"469.4424\">p1: ElectricalEnergyPort</text><line style=\"stroke: #383838; stroke-width: 1.0;\" x1=\"904.5\" x2=\"994.5\" y1=\"451.1055\" y2=\"451.1055\"/><text fill=\"#000000\" font-family=\"sans-serif\" font-size=\"11\" lengthAdjust=\"spacingAndGlyphs\" textLength=\"25\" x=\"994.5\" y=\"455.1064\">ports</text><line style=\"stroke: #383838; stroke-width: 1.0;\" x1=\"1019.5\" x2=\"1109.5\" y1=\"451.1055\" y2=\"451.1055\"/></a><!--MD5=[43a0aaa6ccc5ffecb1d9d6c429068755]\n",
       "class E60--><a href=\"psysml:90f1d61b-8c9d-4301-b730-9447639de9bc\" target=\"_top\" title=\"psysml:90f1d61b-8c9d-4301-b730-9447639de9bc\" xlink:actuate=\"onRequest\" xlink:href=\"psysml:90f1d61b-8c9d-4301-b730-9447639de9bc\" xlink:show=\"new\" xlink:title=\"psysml:90f1d61b-8c9d-4301-b730-9447639de9bc\" xlink:type=\"simple\"><rect fill=\"#FFFFFF\" height=\"79.8594\" id=\"E60\" rx=\"10\" ry=\"10\" style=\"stroke: #383838; stroke-width: 1.5;\" width=\"198\" x=\"455\" y=\"396\"/><text fill=\"#000000\" font-family=\"sans-serif\" font-size=\"12\" font-style=\"italic\" lengthAdjust=\"spacingAndGlyphs\" textLength=\"35\" x=\"536.5\" y=\"413.457\">«part»</text><text fill=\"#000000\" font-family=\"sans-serif\" font-size=\"12\" lengthAdjust=\"spacingAndGlyphs\" textLength=\"192\" x=\"458\" y=\"428.5508\">I/O Music Supplier: FunctionalBlock</text><line style=\"stroke: #383838; stroke-width: 1.5;\" x1=\"456\" x2=\"652\" y1=\"436.1875\" y2=\"436.1875\"/><text fill=\"#000000\" font-family=\"sans-serif\" font-size=\"11\" lengthAdjust=\"spacingAndGlyphs\" textLength=\"92\" x=\"461\" y=\"469.4424\">p1: MusicTrackPort</text><line style=\"stroke: #383838; stroke-width: 1.0;\" x1=\"456\" x2=\"541.5\" y1=\"451.1055\" y2=\"451.1055\"/><text fill=\"#000000\" font-family=\"sans-serif\" font-size=\"11\" lengthAdjust=\"spacingAndGlyphs\" textLength=\"25\" x=\"541.5\" y=\"455.1064\">ports</text><line style=\"stroke: #383838; stroke-width: 1.0;\" x1=\"566.5\" x2=\"652\" y1=\"451.1055\" y2=\"451.1055\"/></a><!--MD5=[b673fc53e05caebd98366d82742eaffe]\n",
       "class E62--><a href=\"psysml:19d6896a-b2d7-4c61-8d11-be935094248f\" target=\"_top\" title=\"psysml:19d6896a-b2d7-4c61-8d11-be935094248f\" xlink:actuate=\"onRequest\" xlink:href=\"psysml:19d6896a-b2d7-4c61-8d11-be935094248f\" xlink:show=\"new\" xlink:title=\"psysml:19d6896a-b2d7-4c61-8d11-be935094248f\" xlink:type=\"simple\"><rect fill=\"#FFFFFF\" height=\"79.8594\" id=\"E62\" rx=\"10\" ry=\"10\" style=\"stroke: #383838; stroke-width: 1.5;\" width=\"180\" x=\"688\" y=\"396\"/><text fill=\"#000000\" font-family=\"sans-serif\" font-size=\"12\" font-style=\"italic\" lengthAdjust=\"spacingAndGlyphs\" textLength=\"35\" x=\"760.5\" y=\"413.457\">«part»</text><text fill=\"#000000\" font-family=\"sans-serif\" font-size=\"12\" lengthAdjust=\"spacingAndGlyphs\" textLength=\"174\" x=\"691\" y=\"428.5508\">I/O Pub Interior: FunctionalBlock</text><line style=\"stroke: #383838; stroke-width: 1.5;\" x1=\"689\" x2=\"867\" y1=\"436.1875\" y2=\"436.1875\"/><text fill=\"#000000\" font-family=\"sans-serif\" font-size=\"11\" lengthAdjust=\"spacingAndGlyphs\" textLength=\"125\" x=\"694\" y=\"469.4424\">p1: MechanicalEnergyPort</text><line style=\"stroke: #383838; stroke-width: 1.0;\" x1=\"689\" x2=\"765.5\" y1=\"451.1055\" y2=\"451.1055\"/><text fill=\"#000000\" font-family=\"sans-serif\" font-size=\"11\" lengthAdjust=\"spacingAndGlyphs\" textLength=\"25\" x=\"765.5\" y=\"455.1064\">ports</text><line style=\"stroke: #383838; stroke-width: 1.0;\" x1=\"790.5\" x2=\"867\" y1=\"451.1055\" y2=\"451.1055\"/></a><!--MD5=[67ee8e9e6a44d50103ae9dbf9abdd284]\n",
       "class E64--><a href=\"psysml:90d1eaf7-a653-4514-bb6b-feb2fc856dd5\" target=\"_top\" title=\"psysml:90d1eaf7-a653-4514-bb6b-feb2fc856dd5\" xlink:actuate=\"onRequest\" xlink:href=\"psysml:90d1eaf7-a653-4514-bb6b-feb2fc856dd5\" xlink:show=\"new\" xlink:title=\"psysml:90d1eaf7-a653-4514-bb6b-feb2fc856dd5\" xlink:type=\"simple\"><rect fill=\"#FFFFFF\" height=\"79.8594\" id=\"E64\" rx=\"10\" ry=\"10\" style=\"stroke: #383838; stroke-width: 1.5;\" width=\"190\" x=\"1983\" y=\"396\"/><text fill=\"#000000\" font-family=\"sans-serif\" font-size=\"12\" font-style=\"italic\" lengthAdjust=\"spacingAndGlyphs\" textLength=\"35\" x=\"2060.5\" y=\"413.457\">«part»</text><text fill=\"#000000\" font-family=\"sans-serif\" font-size=\"12\" lengthAdjust=\"spacingAndGlyphs\" textLength=\"184\" x=\"1986\" y=\"428.5508\">I/O Pub Manager: FunctionalBlock</text><line style=\"stroke: #383838; stroke-width: 1.5;\" x1=\"1984\" x2=\"2172\" y1=\"436.1875\" y2=\"436.1875\"/><text fill=\"#000000\" font-family=\"sans-serif\" font-size=\"11\" lengthAdjust=\"spacingAndGlyphs\" textLength=\"164\" x=\"1989\" y=\"469.4424\">p1: IdentificationOfMusicTrackPort</text><line style=\"stroke: #383838; stroke-width: 1.0;\" x1=\"1984\" x2=\"2065.5\" y1=\"451.1055\" y2=\"451.1055\"/><text fill=\"#000000\" font-family=\"sans-serif\" font-size=\"11\" lengthAdjust=\"spacingAndGlyphs\" textLength=\"25\" x=\"2065.5\" y=\"455.1064\">ports</text><line style=\"stroke: #383838; stroke-width: 1.0;\" x1=\"2090.5\" x2=\"2172\" y1=\"451.1055\" y2=\"451.1055\"/></a><!--MD5=[519cf3b4786fbe4f15abdc0de402df2c]\n",
       "class E66--><a href=\"psysml:aaa4028c-b8b6-4b75-9210-2a8dcb4c89c9\" target=\"_top\" title=\"psysml:aaa4028c-b8b6-4b75-9210-2a8dcb4c89c9\" xlink:actuate=\"onRequest\" xlink:href=\"psysml:aaa4028c-b8b6-4b75-9210-2a8dcb4c89c9\" xlink:show=\"new\" xlink:title=\"psysml:aaa4028c-b8b6-4b75-9210-2a8dcb4c89c9\" xlink:type=\"simple\"><rect fill=\"#FFFFFF\" height=\"93.6953\" id=\"E66\" rx=\"10\" ry=\"10\" style=\"stroke: #383838; stroke-width: 1.5;\" width=\"159\" x=\"1587.5\" y=\"389\"/><text fill=\"#000000\" font-family=\"sans-serif\" font-size=\"12\" font-style=\"italic\" lengthAdjust=\"spacingAndGlyphs\" textLength=\"35\" x=\"1649.5\" y=\"406.457\">«part»</text><text fill=\"#000000\" font-family=\"sans-serif\" font-size=\"12\" lengthAdjust=\"spacingAndGlyphs\" textLength=\"153\" x=\"1590.5\" y=\"421.5508\">Accounting: FunctionalBlock</text><line style=\"stroke: #383838; stroke-width: 1.5;\" x1=\"1588.5\" x2=\"1745.5\" y1=\"429.1875\" y2=\"429.1875\"/><text fill=\"#000000\" font-family=\"sans-serif\" font-size=\"11\" lengthAdjust=\"spacingAndGlyphs\" textLength=\"146\" x=\"1593.5\" y=\"462.4424\">p1: ClearanceToPlayMusicPort</text><text fill=\"#000000\" font-family=\"sans-serif\" font-size=\"11\" lengthAdjust=\"spacingAndGlyphs\" textLength=\"75\" x=\"1593.5\" y=\"476.2783\">p2: ~MoneyPort</text><line style=\"stroke: #383838; stroke-width: 1.0;\" x1=\"1588.5\" x2=\"1654.5\" y1=\"444.1055\" y2=\"444.1055\"/><text fill=\"#000000\" font-family=\"sans-serif\" font-size=\"11\" lengthAdjust=\"spacingAndGlyphs\" textLength=\"25\" x=\"1654.5\" y=\"448.1064\">ports</text><line style=\"stroke: #383838; stroke-width: 1.0;\" x1=\"1679.5\" x2=\"1745.5\" y1=\"444.1055\" y2=\"444.1055\"/></a><!--MD5=[6bcfe46f38fffd76c258130a08fdd4cb]\n",
       "class E69--><a href=\"psysml:df7b056c-a2a7-4efa-a502-cd18c1923ebc\" target=\"_top\" title=\"psysml:df7b056c-a2a7-4efa-a502-cd18c1923ebc\" xlink:actuate=\"onRequest\" xlink:href=\"psysml:df7b056c-a2a7-4efa-a502-cd18c1923ebc\" xlink:show=\"new\" xlink:title=\"psysml:df7b056c-a2a7-4efa-a502-cd18c1923ebc\" xlink:type=\"simple\"><rect fill=\"#FFFFFF\" height=\"79.8594\" id=\"E69\" rx=\"10\" ry=\"10\" style=\"stroke: #383838; stroke-width: 1.5;\" width=\"203\" x=\"1349.5\" y=\"396\"/><text fill=\"#000000\" font-family=\"sans-serif\" font-size=\"12\" font-style=\"italic\" lengthAdjust=\"spacingAndGlyphs\" textLength=\"35\" x=\"1433.5\" y=\"413.457\">«part»</text><text fill=\"#000000\" font-family=\"sans-serif\" font-size=\"12\" lengthAdjust=\"spacingAndGlyphs\" textLength=\"197\" x=\"1352.5\" y=\"428.5508\">Energy Distribution: FunctionalBlock</text><line style=\"stroke: #383838; stroke-width: 1.5;\" x1=\"1350.5\" x2=\"1551.5\" y1=\"436.1875\" y2=\"436.1875\"/><text fill=\"#000000\" font-family=\"sans-serif\" font-size=\"11\" lengthAdjust=\"spacingAndGlyphs\" textLength=\"120\" x=\"1355.5\" y=\"469.4424\">p1: ~ElectricalEnergyPort</text><line style=\"stroke: #383838; stroke-width: 1.0;\" x1=\"1350.5\" x2=\"1438.5\" y1=\"451.1055\" y2=\"451.1055\"/><text fill=\"#000000\" font-family=\"sans-serif\" font-size=\"11\" lengthAdjust=\"spacingAndGlyphs\" textLength=\"25\" x=\"1438.5\" y=\"455.1064\">ports</text><line style=\"stroke: #383838; stroke-width: 1.0;\" x1=\"1463.5\" x2=\"1551.5\" y1=\"451.1055\" y2=\"451.1055\"/></a><!--MD5=[95dbd26da6bdf629b18903685c39dee4]\n",
       "class E71--><a href=\"psysml:c8fc11d3-2523-4ecb-b4c3-5ed57a7169a2\" target=\"_top\" title=\"psysml:c8fc11d3-2523-4ecb-b4c3-5ed57a7169a2\" xlink:actuate=\"onRequest\" xlink:href=\"psysml:c8fc11d3-2523-4ecb-b4c3-5ed57a7169a2\" xlink:show=\"new\" xlink:title=\"psysml:c8fc11d3-2523-4ecb-b4c3-5ed57a7169a2\" xlink:type=\"simple\"><rect fill=\"#FFFFFF\" height=\"79.8594\" id=\"E71\" rx=\"10\" ry=\"10\" style=\"stroke: #383838; stroke-width: 1.5;\" width=\"168\" x=\"1146\" y=\"396\"/><text fill=\"#000000\" font-family=\"sans-serif\" font-size=\"12\" font-style=\"italic\" lengthAdjust=\"spacingAndGlyphs\" textLength=\"35\" x=\"1212.5\" y=\"413.457\">«part»</text><text fill=\"#000000\" font-family=\"sans-serif\" font-size=\"12\" lengthAdjust=\"spacingAndGlyphs\" textLength=\"162\" x=\"1149\" y=\"428.5508\">Music Player: FunctionalBlock</text><line style=\"stroke: #383838; stroke-width: 1.5;\" x1=\"1147\" x2=\"1313\" y1=\"436.1875\" y2=\"436.1875\"/><text fill=\"#000000\" font-family=\"sans-serif\" font-size=\"11\" lengthAdjust=\"spacingAndGlyphs\" textLength=\"94\" x=\"1152\" y=\"469.4424\">p1: AudioSignalPort</text><line style=\"stroke: #383838; stroke-width: 1.0;\" x1=\"1147\" x2=\"1217.5\" y1=\"451.1055\" y2=\"451.1055\"/><text fill=\"#000000\" font-family=\"sans-serif\" font-size=\"11\" lengthAdjust=\"spacingAndGlyphs\" textLength=\"25\" x=\"1217.5\" y=\"455.1064\">ports</text><line style=\"stroke: #383838; stroke-width: 1.0;\" x1=\"1242.5\" x2=\"1313\" y1=\"451.1055\" y2=\"451.1055\"/></a><!--MD5=[b14c858f64fd0dcfcb6b8a99df16206b]\n",
       "class E73--><a href=\"psysml:b15916ae-0ad7-4b3a-a46f-8a020be1c15c\" target=\"_top\" title=\"psysml:b15916ae-0ad7-4b3a-a46f-8a020be1c15c\" xlink:actuate=\"onRequest\" xlink:href=\"psysml:b15916ae-0ad7-4b3a-a46f-8a020be1c15c\" xlink:show=\"new\" xlink:title=\"psysml:b15916ae-0ad7-4b3a-a46f-8a020be1c15c\" xlink:type=\"simple\"><rect fill=\"#FFFFFF\" height=\"107.5313\" id=\"E73\" rx=\"10\" ry=\"10\" style=\"stroke: #383838; stroke-width: 1.5;\" width=\"182\" x=\"2208\" y=\"382\"/><text fill=\"#000000\" font-family=\"sans-serif\" font-size=\"12\" font-style=\"italic\" lengthAdjust=\"spacingAndGlyphs\" textLength=\"35\" x=\"2281.5\" y=\"399.457\">«part»</text><text fill=\"#000000\" font-family=\"sans-serif\" font-size=\"12\" lengthAdjust=\"spacingAndGlyphs\" textLength=\"171\" x=\"2213.5\" y=\"414.5508\">Music Storage: FunctionalBlock</text><line style=\"stroke: #383838; stroke-width: 1.5;\" x1=\"2209\" x2=\"2389\" y1=\"422.1875\" y2=\"422.1875\"/><text fill=\"#000000\" font-family=\"sans-serif\" font-size=\"11\" lengthAdjust=\"spacingAndGlyphs\" textLength=\"170\" x=\"2214\" y=\"455.4424\">p1: ~IdentificationOfMusicTrackPort</text><text fill=\"#000000\" font-family=\"sans-serif\" font-size=\"11\" lengthAdjust=\"spacingAndGlyphs\" textLength=\"98\" x=\"2214\" y=\"469.2783\">p2: ~MusicTrackPort</text><text fill=\"#000000\" font-family=\"sans-serif\" font-size=\"11\" lengthAdjust=\"spacingAndGlyphs\" textLength=\"146\" x=\"2214\" y=\"483.1143\">p3: ClearanceToPlayMusicPort</text><line style=\"stroke: #383838; stroke-width: 1.0;\" x1=\"2209\" x2=\"2286.5\" y1=\"437.1055\" y2=\"437.1055\"/><text fill=\"#000000\" font-family=\"sans-serif\" font-size=\"11\" lengthAdjust=\"spacingAndGlyphs\" textLength=\"25\" x=\"2286.5\" y=\"441.1064\">ports</text><line style=\"stroke: #383838; stroke-width: 1.0;\" x1=\"2311.5\" x2=\"2389\" y1=\"437.1055\" y2=\"437.1055\"/></a><!--MD5=[65fe413742f8f59252703b2386f6e5e6]\n",
       "class E77--><a href=\"psysml:20415235-65c0-402f-b5ea-3f8fb79140e3\" target=\"_top\" title=\"psysml:20415235-65c0-402f-b5ea-3f8fb79140e3\" xlink:actuate=\"onRequest\" xlink:href=\"psysml:20415235-65c0-402f-b5ea-3f8fb79140e3\" xlink:show=\"new\" xlink:title=\"psysml:20415235-65c0-402f-b5ea-3f8fb79140e3\" xlink:type=\"simple\"><rect fill=\"#FFFFFF\" height=\"79.8594\" id=\"E77\" rx=\"10\" ry=\"10\" style=\"stroke: #383838; stroke-width: 1.5;\" width=\"166\" x=\"1782\" y=\"396\"/><text fill=\"#000000\" font-family=\"sans-serif\" font-size=\"12\" font-style=\"italic\" lengthAdjust=\"spacingAndGlyphs\" textLength=\"35\" x=\"1847.5\" y=\"413.457\">«part»</text><text fill=\"#000000\" font-family=\"sans-serif\" font-size=\"12\" lengthAdjust=\"spacingAndGlyphs\" textLength=\"160\" x=\"1785\" y=\"428.5508\">Suspension: FunctionalBlock</text><line style=\"stroke: #383838; stroke-width: 1.5;\" x1=\"1783\" x2=\"1947\" y1=\"436.1875\" y2=\"436.1875\"/><text fill=\"#000000\" font-family=\"sans-serif\" font-size=\"11\" lengthAdjust=\"spacingAndGlyphs\" textLength=\"131\" x=\"1788\" y=\"469.4424\">p1: ~MechanicalEnergyPort</text><line style=\"stroke: #383838; stroke-width: 1.0;\" x1=\"1783\" x2=\"1852.5\" y1=\"451.1055\" y2=\"451.1055\"/><text fill=\"#000000\" font-family=\"sans-serif\" font-size=\"11\" lengthAdjust=\"spacingAndGlyphs\" textLength=\"25\" x=\"1852.5\" y=\"455.1064\">ports</text><line style=\"stroke: #383838; stroke-width: 1.0;\" x1=\"1877.5\" x2=\"1947\" y1=\"451.1055\" y2=\"451.1055\"/></a><!--MD5=[10d525ea05cb2082cbc57e4b30a6758c]\n",
       "class E79--><a href=\"psysml:55d77672-7b13-4920-92c7-dc3fe05c02c3\" target=\"_top\" title=\"psysml:55d77672-7b13-4920-92c7-dc3fe05c02c3\" xlink:actuate=\"onRequest\" xlink:href=\"psysml:55d77672-7b13-4920-92c7-dc3fe05c02c3\" xlink:show=\"new\" xlink:title=\"psysml:55d77672-7b13-4920-92c7-dc3fe05c02c3\" xlink:type=\"simple\"><rect fill=\"#FFFFFF\" height=\"48.1875\" id=\"E79\" rx=\"10\" ry=\"10\" style=\"stroke: #383838; stroke-width: 1.5;\" width=\"94\" x=\"1582\" y=\"273\"/><text fill=\"#000000\" font-family=\"sans-serif\" font-size=\"12\" font-style=\"italic\" lengthAdjust=\"spacingAndGlyphs\" textLength=\"35\" x=\"1611.5\" y=\"290.457\">«part»</text><text fill=\"#000000\" font-family=\"sans-serif\" font-size=\"12\" lengthAdjust=\"spacingAndGlyphs\" textLength=\"88\" x=\"1585\" y=\"305.5508\">Customer: User</text><line style=\"stroke: #383838; stroke-width: 1.5;\" x1=\"1583\" x2=\"1675\" y1=\"313.1875\" y2=\"313.1875\"/></a><!--MD5=[54b7cb996b06535293f54122c71a33aa]\n",
       "class E80--><a href=\"psysml:c88ab6cd-71a6-4627-a469-487a230acc17\" target=\"_top\" title=\"psysml:c88ab6cd-71a6-4627-a469-487a230acc17\" xlink:actuate=\"onRequest\" xlink:href=\"psysml:c88ab6cd-71a6-4627-a469-487a230acc17\" xlink:show=\"new\" xlink:title=\"psysml:c88ab6cd-71a6-4627-a469-487a230acc17\" xlink:type=\"simple\"><rect fill=\"#FFFFFF\" height=\"48.1875\" id=\"E80\" rx=\"10\" ry=\"10\" style=\"stroke: #383838; stroke-width: 1.5;\" width=\"112\" x=\"1711\" y=\"273\"/><text fill=\"#000000\" font-family=\"sans-serif\" font-size=\"12\" font-style=\"italic\" lengthAdjust=\"spacingAndGlyphs\" textLength=\"35\" x=\"1749.5\" y=\"290.457\">«part»</text><text fill=\"#000000\" font-family=\"sans-serif\" font-size=\"12\" lengthAdjust=\"spacingAndGlyphs\" textLength=\"106\" x=\"1714\" y=\"305.5508\">Pub Manager: User</text><line style=\"stroke: #383838; stroke-width: 1.5;\" x1=\"1712\" x2=\"1822\" y1=\"313.1875\" y2=\"313.1875\"/></a><!--MD5=[5a52627e34f563723e54d7a71754e5d7]\n",
       "class E81--><a href=\"psysml:a5606886-d166-472c-b7b8-c598714f344e\" target=\"_top\" title=\"psysml:a5606886-d166-472c-b7b8-c598714f344e\" xlink:actuate=\"onRequest\" xlink:href=\"psysml:a5606886-d166-472c-b7b8-c598714f344e\" xlink:show=\"new\" xlink:title=\"psysml:a5606886-d166-472c-b7b8-c598714f344e\" xlink:type=\"simple\"><rect fill=\"#FFFFFF\" height=\"48.1875\" id=\"E81\" rx=\"10\" ry=\"10\" style=\"stroke: #383838; stroke-width: 1.5;\" width=\"178\" x=\"1858\" y=\"273\"/><text fill=\"#000000\" font-family=\"sans-serif\" font-size=\"12\" font-style=\"italic\" lengthAdjust=\"spacingAndGlyphs\" textLength=\"35\" x=\"1929.5\" y=\"290.457\">«part»</text><text fill=\"#000000\" font-family=\"sans-serif\" font-size=\"12\" lengthAdjust=\"spacingAndGlyphs\" textLength=\"172\" x=\"1861\" y=\"305.5508\">Music Supplier: ExternalSystem</text><line style=\"stroke: #383838; stroke-width: 1.5;\" x1=\"1859\" x2=\"2035\" y1=\"313.1875\" y2=\"313.1875\"/></a><!--MD5=[afc1f32a29e46a330823ee7d4e3093ae]\n",
       "class E82--><a href=\"psysml:63347ea3-50d8-4ca9-89ac-69e39bfb3995\" target=\"_top\" title=\"psysml:63347ea3-50d8-4ca9-89ac-69e39bfb3995\" xlink:actuate=\"onRequest\" xlink:href=\"psysml:63347ea3-50d8-4ca9-89ac-69e39bfb3995\" xlink:show=\"new\" xlink:title=\"psysml:63347ea3-50d8-4ca9-89ac-69e39bfb3995\" xlink:type=\"simple\"><rect fill=\"#FFFFFF\" height=\"48.1875\" id=\"E82\" rx=\"10\" ry=\"10\" style=\"stroke: #383838; stroke-width: 1.5;\" width=\"187\" x=\"2071.5\" y=\"273\"/><text fill=\"#000000\" font-family=\"sans-serif\" font-size=\"12\" font-style=\"italic\" lengthAdjust=\"spacingAndGlyphs\" textLength=\"35\" x=\"2147.5\" y=\"290.457\">«part»</text><text fill=\"#000000\" font-family=\"sans-serif\" font-size=\"12\" lengthAdjust=\"spacingAndGlyphs\" textLength=\"181\" x=\"2074.5\" y=\"305.5508\">Electrical Supply: ExternalSystem</text><line style=\"stroke: #383838; stroke-width: 1.5;\" x1=\"2072.5\" x2=\"2257.5\" y1=\"313.1875\" y2=\"313.1875\"/></a><!--MD5=[1a59caccb644ebb0f37264ffee2f2afa]\n",
       "class E83--><a href=\"psysml:11ce706f-a206-4ff2-b4ed-3741d9d15197\" target=\"_top\" title=\"psysml:11ce706f-a206-4ff2-b4ed-3741d9d15197\" xlink:actuate=\"onRequest\" xlink:href=\"psysml:11ce706f-a206-4ff2-b4ed-3741d9d15197\" xlink:show=\"new\" xlink:title=\"psysml:11ce706f-a206-4ff2-b4ed-3741d9d15197\" xlink:type=\"simple\"><rect fill=\"#FFFFFF\" height=\"48.1875\" id=\"E83\" rx=\"10\" ry=\"10\" style=\"stroke: #383838; stroke-width: 1.5;\" width=\"160\" x=\"2294\" y=\"273\"/><text fill=\"#000000\" font-family=\"sans-serif\" font-size=\"12\" font-style=\"italic\" lengthAdjust=\"spacingAndGlyphs\" textLength=\"35\" x=\"2356.5\" y=\"290.457\">«part»</text><text fill=\"#000000\" font-family=\"sans-serif\" font-size=\"12\" lengthAdjust=\"spacingAndGlyphs\" textLength=\"154\" x=\"2297\" y=\"305.5508\">Pub Interior: ExternalSystem</text><line style=\"stroke: #383838; stroke-width: 1.5;\" x1=\"2295\" x2=\"2453\" y1=\"313.1875\" y2=\"313.1875\"/></a><!--MD5=[083bb9bd746f04a0a4515a3d1bab9f78]\n",
       "class E38--><a href=\"psysml:f8197a1a-ec9f-484c-b98b-c7e49788285d\" target=\"_top\" title=\"psysml:f8197a1a-ec9f-484c-b98b-c7e49788285d\" xlink:actuate=\"onRequest\" xlink:href=\"psysml:f8197a1a-ec9f-484c-b98b-c7e49788285d\" xlink:show=\"new\" xlink:title=\"psysml:f8197a1a-ec9f-484c-b98b-c7e49788285d\" xlink:type=\"simple\"><rect fill=\"#FFFFFF\" height=\"79.8594\" id=\"E38\" style=\"stroke: #383838; stroke-width: 1.5;\" width=\"94\" x=\"2483\" y=\"130\"/><text fill=\"#000000\" font-family=\"sans-serif\" font-size=\"12\" font-style=\"italic\" lengthAdjust=\"spacingAndGlyphs\" textLength=\"55\" x=\"2502.5\" y=\"147.457\">«port def»</text><text fill=\"#000000\" font-family=\"sans-serif\" font-size=\"12\" lengthAdjust=\"spacingAndGlyphs\" textLength=\"88\" x=\"2486\" y=\"162.5508\">AudioSignalPort</text><line style=\"stroke: #383838; stroke-width: 1.5;\" x1=\"2484\" x2=\"2576\" y1=\"170.1875\" y2=\"170.1875\"/><text fill=\"#000000\" font-family=\"sans-serif\" font-size=\"11\" lengthAdjust=\"spacingAndGlyphs\" textLength=\"69\" x=\"2489\" y=\"203.4424\">a: AudioSignal</text><line style=\"stroke: #383838; stroke-width: 1.0;\" x1=\"2484\" x2=\"2517.5\" y1=\"185.1055\" y2=\"185.1055\"/><text fill=\"#000000\" font-family=\"sans-serif\" font-size=\"11\" lengthAdjust=\"spacingAndGlyphs\" textLength=\"25\" x=\"2517.5\" y=\"189.1064\">items</text><line style=\"stroke: #383838; stroke-width: 1.0;\" x1=\"2542.5\" x2=\"2576\" y1=\"185.1055\" y2=\"185.1055\"/></a><!--MD5=[de9ab62424c84275f0e8550964ee4428]\n",
       "class E40--><a href=\"psysml:f295bbed-cc9e-49a4-93e4-490f97ecc4bf\" target=\"_top\" title=\"psysml:f295bbed-cc9e-49a4-93e4-490f97ecc4bf\" xlink:actuate=\"onRequest\" xlink:href=\"psysml:f295bbed-cc9e-49a4-93e4-490f97ecc4bf\" xlink:show=\"new\" xlink:title=\"psysml:f295bbed-cc9e-49a4-93e4-490f97ecc4bf\" xlink:type=\"simple\"><rect fill=\"#FFFFFF\" height=\"79.8594\" id=\"E40\" style=\"stroke: #383838; stroke-width: 1.5;\" width=\"154\" x=\"2294\" y=\"130\"/><text fill=\"#000000\" font-family=\"sans-serif\" font-size=\"12\" font-style=\"italic\" lengthAdjust=\"spacingAndGlyphs\" textLength=\"55\" x=\"2343.5\" y=\"147.457\">«port def»</text><text fill=\"#000000\" font-family=\"sans-serif\" font-size=\"12\" lengthAdjust=\"spacingAndGlyphs\" textLength=\"148\" x=\"2297\" y=\"162.5508\">ClearanceToPlayMusicPort</text><line style=\"stroke: #383838; stroke-width: 1.5;\" x1=\"2295\" x2=\"2447\" y1=\"170.1875\" y2=\"170.1875\"/><text fill=\"#000000\" font-family=\"sans-serif\" font-size=\"11\" lengthAdjust=\"spacingAndGlyphs\" textLength=\"123\" x=\"2300\" y=\"203.4424\">m: ClearanceToPlayMusic</text><line style=\"stroke: #383838; stroke-width: 1.0;\" x1=\"2295\" x2=\"2358.5\" y1=\"185.1055\" y2=\"185.1055\"/><text fill=\"#000000\" font-family=\"sans-serif\" font-size=\"11\" lengthAdjust=\"spacingAndGlyphs\" textLength=\"25\" x=\"2358.5\" y=\"189.1064\">items</text><line style=\"stroke: #383838; stroke-width: 1.0;\" x1=\"2383.5\" x2=\"2447\" y1=\"185.1055\" y2=\"185.1055\"/></a><!--MD5=[c31ca20d5303d26323f505ce5af8a2cb]\n",
       "class E42--><a href=\"psysml:b3305aa6-5567-4946-af6f-083264303f58\" target=\"_top\" title=\"psysml:b3305aa6-5567-4946-af6f-083264303f58\" xlink:actuate=\"onRequest\" xlink:href=\"psysml:b3305aa6-5567-4946-af6f-083264303f58\" xlink:show=\"new\" xlink:title=\"psysml:b3305aa6-5567-4946-af6f-083264303f58\" xlink:type=\"simple\"><rect fill=\"#FFFFFF\" height=\"79.8594\" id=\"E42\" style=\"stroke: #383838; stroke-width: 1.5;\" width=\"116\" x=\"2143\" y=\"130\"/><text fill=\"#000000\" font-family=\"sans-serif\" font-size=\"12\" font-style=\"italic\" lengthAdjust=\"spacingAndGlyphs\" textLength=\"55\" x=\"2173.5\" y=\"147.457\">«port def»</text><text fill=\"#000000\" font-family=\"sans-serif\" font-size=\"12\" lengthAdjust=\"spacingAndGlyphs\" textLength=\"110\" x=\"2146\" y=\"162.5508\">ElectricalEnergyPort</text><line style=\"stroke: #383838; stroke-width: 1.5;\" x1=\"2144\" x2=\"2258\" y1=\"170.1875\" y2=\"170.1875\"/><text fill=\"#000000\" font-family=\"sans-serif\" font-size=\"11\" lengthAdjust=\"spacingAndGlyphs\" textLength=\"89\" x=\"2149\" y=\"203.4424\">e: ElectricalEnergy</text><line style=\"stroke: #383838; stroke-width: 1.0;\" x1=\"2144\" x2=\"2188.5\" y1=\"185.1055\" y2=\"185.1055\"/><text fill=\"#000000\" font-family=\"sans-serif\" font-size=\"11\" lengthAdjust=\"spacingAndGlyphs\" textLength=\"25\" x=\"2188.5\" y=\"189.1064\">items</text><line style=\"stroke: #383838; stroke-width: 1.0;\" x1=\"2213.5\" x2=\"2258\" y1=\"185.1055\" y2=\"185.1055\"/></a><!--MD5=[22b6b591e8a4768415521beb1a77d9b7]\n",
       "class E44--><a href=\"psysml:88ff8a73-9a1c-40c8-b79e-3c592cb70028\" target=\"_top\" title=\"psysml:88ff8a73-9a1c-40c8-b79e-3c592cb70028\" xlink:actuate=\"onRequest\" xlink:href=\"psysml:88ff8a73-9a1c-40c8-b79e-3c592cb70028\" xlink:show=\"new\" xlink:title=\"psysml:88ff8a73-9a1c-40c8-b79e-3c592cb70028\" xlink:type=\"simple\"><rect fill=\"#FFFFFF\" height=\"79.8594\" id=\"E44\" style=\"stroke: #383838; stroke-width: 1.5;\" width=\"171\" x=\"1936.5\" y=\"130\"/><text fill=\"#000000\" font-family=\"sans-serif\" font-size=\"12\" font-style=\"italic\" lengthAdjust=\"spacingAndGlyphs\" textLength=\"55\" x=\"1994.5\" y=\"147.457\">«port def»</text><text fill=\"#000000\" font-family=\"sans-serif\" font-size=\"12\" lengthAdjust=\"spacingAndGlyphs\" textLength=\"165\" x=\"1939.5\" y=\"162.5508\">IdentificationOfMusicTrackPort</text><line style=\"stroke: #383838; stroke-width: 1.5;\" x1=\"1937.5\" x2=\"2106.5\" y1=\"170.1875\" y2=\"170.1875\"/><text fill=\"#000000\" font-family=\"sans-serif\" font-size=\"11\" lengthAdjust=\"spacingAndGlyphs\" textLength=\"141\" x=\"1942.5\" y=\"203.4424\">m: IdentificationOfMusicTrack</text><line style=\"stroke: #383838; stroke-width: 1.0;\" x1=\"1937.5\" x2=\"2009.5\" y1=\"185.1055\" y2=\"185.1055\"/><text fill=\"#000000\" font-family=\"sans-serif\" font-size=\"11\" lengthAdjust=\"spacingAndGlyphs\" textLength=\"25\" x=\"2009.5\" y=\"189.1064\">items</text><line style=\"stroke: #383838; stroke-width: 1.0;\" x1=\"2034.5\" x2=\"2106.5\" y1=\"185.1055\" y2=\"185.1055\"/></a><!--MD5=[e446e6635b0a21d74509846bd38e1295]\n",
       "class E46--><a href=\"psysml:3b5b6279-2b22-486d-9b1c-c8461c2047ca\" target=\"_top\" title=\"psysml:3b5b6279-2b22-486d-9b1c-c8461c2047ca\" xlink:actuate=\"onRequest\" xlink:href=\"psysml:3b5b6279-2b22-486d-9b1c-c8461c2047ca\" xlink:show=\"new\" xlink:title=\"psysml:3b5b6279-2b22-486d-9b1c-c8461c2047ca\" xlink:type=\"simple\"><rect fill=\"#FFFFFF\" height=\"79.8594\" id=\"E46\" style=\"stroke: #383838; stroke-width: 1.5;\" width=\"128\" x=\"1773\" y=\"130\"/><text fill=\"#000000\" font-family=\"sans-serif\" font-size=\"12\" font-style=\"italic\" lengthAdjust=\"spacingAndGlyphs\" textLength=\"55\" x=\"1809.5\" y=\"147.457\">«port def»</text><text fill=\"#000000\" font-family=\"sans-serif\" font-size=\"12\" lengthAdjust=\"spacingAndGlyphs\" textLength=\"122\" x=\"1776\" y=\"162.5508\">MechanicalEnergyPort</text><line style=\"stroke: #383838; stroke-width: 1.5;\" x1=\"1774\" x2=\"1900\" y1=\"170.1875\" y2=\"170.1875\"/><text fill=\"#000000\" font-family=\"sans-serif\" font-size=\"11\" lengthAdjust=\"spacingAndGlyphs\" textLength=\"102\" x=\"1779\" y=\"203.4424\">m: MechanicalEnergy</text><line style=\"stroke: #383838; stroke-width: 1.0;\" x1=\"1774\" x2=\"1824.5\" y1=\"185.1055\" y2=\"185.1055\"/><text fill=\"#000000\" font-family=\"sans-serif\" font-size=\"11\" lengthAdjust=\"spacingAndGlyphs\" textLength=\"25\" x=\"1824.5\" y=\"189.1064\">items</text><line style=\"stroke: #383838; stroke-width: 1.0;\" x1=\"1849.5\" x2=\"1900\" y1=\"185.1055\" y2=\"185.1055\"/></a><!--MD5=[1128e724b42a0dac8815b583af827bcc]\n",
       "class E48--><a href=\"psysml:c67c8730-ef54-478d-9cc3-0f047ac58f26\" target=\"_top\" title=\"psysml:c67c8730-ef54-478d-9cc3-0f047ac58f26\" xlink:actuate=\"onRequest\" xlink:href=\"psysml:c67c8730-ef54-478d-9cc3-0f047ac58f26\" xlink:show=\"new\" xlink:title=\"psysml:c67c8730-ef54-478d-9cc3-0f047ac58f26\" xlink:type=\"simple\"><rect fill=\"#FFFFFF\" height=\"79.8594\" id=\"E48\" style=\"stroke: #383838; stroke-width: 1.5;\" width=\"63\" x=\"1674.5\" y=\"130\"/><text fill=\"#000000\" font-family=\"sans-serif\" font-size=\"12\" font-style=\"italic\" lengthAdjust=\"spacingAndGlyphs\" textLength=\"55\" x=\"1678.5\" y=\"147.457\">«port def»</text><text fill=\"#000000\" font-family=\"sans-serif\" font-size=\"12\" lengthAdjust=\"spacingAndGlyphs\" textLength=\"57\" x=\"1677.5\" y=\"162.5508\">MoneyPort</text><line style=\"stroke: #383838; stroke-width: 1.5;\" x1=\"1675.5\" x2=\"1736.5\" y1=\"170.1875\" y2=\"170.1875\"/><text fill=\"#000000\" font-family=\"sans-serif\" font-size=\"11\" lengthAdjust=\"spacingAndGlyphs\" textLength=\"46\" x=\"1680.5\" y=\"203.4424\">m: Money</text><line style=\"stroke: #383838; stroke-width: 1.0;\" x1=\"1675.5\" x2=\"1693.5\" y1=\"185.1055\" y2=\"185.1055\"/><text fill=\"#000000\" font-family=\"sans-serif\" font-size=\"11\" lengthAdjust=\"spacingAndGlyphs\" textLength=\"25\" x=\"1693.5\" y=\"189.1064\">items</text><line style=\"stroke: #383838; stroke-width: 1.0;\" x1=\"1718.5\" x2=\"1736.5\" y1=\"185.1055\" y2=\"185.1055\"/></a><!--MD5=[5d6775bd366c0b29840c7aa4b8b57c1d]\n",
       "class E50--><a href=\"psysml:180aa2db-8f1e-4bb8-bd02-a5570b768943\" target=\"_top\" title=\"psysml:180aa2db-8f1e-4bb8-bd02-a5570b768943\" xlink:actuate=\"onRequest\" xlink:href=\"psysml:180aa2db-8f1e-4bb8-bd02-a5570b768943\" xlink:show=\"new\" xlink:title=\"psysml:180aa2db-8f1e-4bb8-bd02-a5570b768943\" xlink:type=\"simple\"><rect fill=\"#FFFFFF\" height=\"79.8594\" id=\"E50\" style=\"stroke: #383838; stroke-width: 1.5;\" width=\"90\" x=\"1549\" y=\"130\"/><text fill=\"#000000\" font-family=\"sans-serif\" font-size=\"12\" font-style=\"italic\" lengthAdjust=\"spacingAndGlyphs\" textLength=\"55\" x=\"1566.5\" y=\"147.457\">«port def»</text><text fill=\"#000000\" font-family=\"sans-serif\" font-size=\"12\" lengthAdjust=\"spacingAndGlyphs\" textLength=\"84\" x=\"1552\" y=\"162.5508\">MusicTrackPort</text><line style=\"stroke: #383838; stroke-width: 1.5;\" x1=\"1550\" x2=\"1638\" y1=\"170.1875\" y2=\"170.1875\"/><text fill=\"#000000\" font-family=\"sans-serif\" font-size=\"11\" lengthAdjust=\"spacingAndGlyphs\" textLength=\"69\" x=\"1555\" y=\"203.4424\">m: MusicTrack</text><line style=\"stroke: #383838; stroke-width: 1.0;\" x1=\"1550\" x2=\"1581.5\" y1=\"185.1055\" y2=\"185.1055\"/><text fill=\"#000000\" font-family=\"sans-serif\" font-size=\"11\" lengthAdjust=\"spacingAndGlyphs\" textLength=\"25\" x=\"1581.5\" y=\"189.1064\">items</text><line style=\"stroke: #383838; stroke-width: 1.0;\" x1=\"1606.5\" x2=\"1638\" y1=\"185.1055\" y2=\"185.1055\"/></a><!--MD5=[766a66f822c9ce62787f24098774b63b]\n",
       "reverse link E52 to E53--><a href=\"psysml:33d4680a-a9e8-487c-ae88-8905c746417c\" target=\"_top\" title=\"psysml:33d4680a-a9e8-487c-ae88-8905c746417c\" xlink:actuate=\"onRequest\" xlink:href=\"psysml:33d4680a-a9e8-487c-ae88-8905c746417c\" xlink:show=\"new\" xlink:title=\"psysml:33d4680a-a9e8-487c-ae88-8905c746417c\" xlink:type=\"simple\"><path d=\"M1423.39,207.291 C1427.11,228.458 1431.7,254.523 1434.94,272.906 \" fill=\"none\" id=\"E52&lt;-E53\" style=\"stroke: #383838; stroke-width: 1.0;\"/><polygon fill=\"#383838\" points=\"1421.09,194.219,1418.1913,200.8218,1423.1714,206.0371,1426.0701,199.4343,1421.09,194.219\" style=\"stroke: #383838; stroke-width: 1.0;\"/></a><!--MD5=[500d69f21bf365a0598b60700afed3ec]\n",
       "link E53 to E5--><a href=\"psysml:bc11476c-040b-485a-aea9-8a5e041fe6ac\" target=\"_top\" title=\"psysml:bc11476c-040b-485a-aea9-8a5e041fe6ac\" xlink:actuate=\"onRequest\" xlink:href=\"psysml:bc11476c-040b-485a-aea9-8a5e041fe6ac\" xlink:show=\"new\" xlink:title=\"psysml:bc11476c-040b-485a-aea9-8a5e041fe6ac\" xlink:type=\"simple\"><path d=\"M1547.25,319.032 C1552.9,319.782 1558.51,320.446 1564,321 C1911.41,356.043 2786.15,335.974 3135,351 C3340.6,359.856 3410.95,294.031 3597,382 C3691.91,426.875 3766.1,532.593 3798.4,584.778 \" fill=\"none\" id=\"E53-&gt;E5\" style=\"stroke: #383838; stroke-width: 1.0; stroke-dasharray: 7.0,7.0;\"/><polygon fill=\"#383838\" points=\"3802.67,591.775,3801.0597,583.3841,3795.9394,586.512,3802.67,591.775\" style=\"stroke: #383838; stroke-width: 1.0;\"/><text fill=\"#000000\" font-family=\"sans-serif\" font-size=\"13\" lengthAdjust=\"spacingAndGlyphs\" textLength=\"56\" x=\"3747\" y=\"441.4951\">«depend»</text></a><!--MD5=[498dfc97242acd21db6968155244b800]\n",
       "link E53 to E7--><a href=\"psysml:1454414f-715a-45a2-9aae-a734b1846b95\" target=\"_top\" title=\"psysml:1454414f-715a-45a2-9aae-a734b1846b95\" xlink:actuate=\"onRequest\" xlink:href=\"psysml:1454414f-715a-45a2-9aae-a734b1846b95\" xlink:show=\"new\" xlink:title=\"psysml:1454414f-715a-45a2-9aae-a734b1846b95\" xlink:type=\"simple\"><path d=\"M1547.25,319.047 C1552.9,319.792 1558.51,320.452 1564,321 C1955.67,360.081 2941.72,334.899 3335,351 C3547.27,359.691 3621.94,287.079 3812,382 C3902.01,426.95 3968,532.249 3996.47,584.492 \" fill=\"none\" id=\"E53-&gt;E7\" style=\"stroke: #383838; stroke-width: 1.0; stroke-dasharray: 7.0,7.0;\"/><polygon fill=\"#383838\" points=\"4000.4,591.802,3999.2619,583.3341,3993.9746,586.1704,4000.4,591.802\" style=\"stroke: #383838; stroke-width: 1.0;\"/><text fill=\"#000000\" font-family=\"sans-serif\" font-size=\"13\" lengthAdjust=\"spacingAndGlyphs\" textLength=\"56\" x=\"3951\" y=\"441.4951\">«depend»</text></a><!--MD5=[28acd4cf5dfb15d1fb88b189484596b8]\n",
       "link E53 to E16--><a href=\"psysml:c11a54e2-fe4b-4cbe-8317-c52209d2829c\" target=\"_top\" title=\"psysml:c11a54e2-fe4b-4cbe-8317-c52209d2829c\" xlink:actuate=\"onRequest\" xlink:href=\"psysml:c11a54e2-fe4b-4cbe-8317-c52209d2829c\" xlink:show=\"new\" xlink:title=\"psysml:c11a54e2-fe4b-4cbe-8317-c52209d2829c\" xlink:type=\"simple\"><path d=\"M1547.27,318.884 C1552.91,319.672 1558.52,320.386 1564,321 C1885.82,357.056 1968.91,329.044 2292,351 C2755.41,382.492 2874.49,401.261 3323,522 C3357.47,531.28 3369.08,528.529 3399,548 C3414.3,557.954 3428.38,572.51 3439.24,585.513 \" fill=\"none\" id=\"E53-&gt;E16\" style=\"stroke: #383838; stroke-width: 1.0; stroke-dasharray: 7.0,7.0;\"/><polygon fill=\"#383838\" points=\"3444.31,591.745,3441.586,583.6469,3436.9329,587.4348,3444.31,591.745\" style=\"stroke: #383838; stroke-width: 1.0;\"/><text fill=\"#000000\" font-family=\"sans-serif\" font-size=\"13\" lengthAdjust=\"spacingAndGlyphs\" textLength=\"56\" x=\"3280\" y=\"441.4951\">«depend»</text></a><!--MD5=[58745daa147364b9d69547066dd8d473]\n",
       "link E53 to E24--><a href=\"psysml:38cad844-e5f2-4198-a932-342aca0abcbb\" target=\"_top\" title=\"psysml:38cad844-e5f2-4198-a932-342aca0abcbb\" xlink:actuate=\"onRequest\" xlink:href=\"psysml:38cad844-e5f2-4198-a932-342aca0abcbb\" xlink:show=\"new\" xlink:title=\"psysml:38cad844-e5f2-4198-a932-342aca0abcbb\" xlink:type=\"simple\"><path d=\"M1547.26,318.931 C1552.91,319.707 1558.52,320.405 1564,321 C1760.85,342.363 3160.36,310.496 3345,382 C3455.84,424.925 3553.34,532.844 3596.06,585.365 \" fill=\"none\" id=\"E53-&gt;E24\" style=\"stroke: #383838; stroke-width: 1.0; stroke-dasharray: 7.0,7.0;\"/><polygon fill=\"#383838\" points=\"3601.23,591.791,3598.5547,583.6766,3593.8789,587.4365,3601.23,591.791\" style=\"stroke: #383838; stroke-width: 1.0;\"/><text fill=\"#000000\" font-family=\"sans-serif\" font-size=\"13\" lengthAdjust=\"spacingAndGlyphs\" textLength=\"56\" x=\"3532\" y=\"441.4951\">«depend»</text></a><!--MD5=[a004c8bd3290863732cda88c237098e1]\n",
       "link E54 to E3--><a href=\"psysml:9e8a0dcc-d75a-4cfe-907a-c34b4a38b035\" target=\"_top\" title=\"psysml:9e8a0dcc-d75a-4cfe-907a-c34b4a38b035\" xlink:actuate=\"onRequest\" xlink:href=\"psysml:9e8a0dcc-d75a-4cfe-907a-c34b4a38b035\" xlink:show=\"new\" xlink:title=\"psysml:9e8a0dcc-d75a-4cfe-907a-c34b4a38b035\" xlink:type=\"simple\"><path d=\"M2518.97,490 C2518.02,508.498 2513.05,527.69 2499,540 C2486.94,550.568 205.17,542.806 190,548 C171.523,554.326 153.901,566.318 139.41,578.429 \" fill=\"none\" id=\"E54-&gt;E3\" style=\"stroke: #383838; stroke-width: 1.0;\"/><polygon fill=\"#FFFFFF\" points=\"124.5,591.857,133.9338,573.9405,143.3028,584.3434,124.5,591.857\" style=\"stroke: #383838; stroke-width: 1.0;\"/><ellipse cx=\"139.5078\" cy=\"571.6121\" fill=\"#383838\" rx=\"2\" ry=\"2\" style=\"stroke: #383838; stroke-width: 1.0;\"/><ellipse cx=\"146.1999\" cy=\"579.0428\" fill=\"#383838\" rx=\"2\" ry=\"2\" style=\"stroke: #383838; stroke-width: 1.0;\"/></a><!--MD5=[0fc06163df12da7668da273260889ea1]\n",
       "reverse link E53 to E54--><a href=\"psysml:eab38ea9-a866-41ac-91a0-b891156d65a5\" target=\"_top\" title=\"psysml:eab38ea9-a866-41ac-91a0-b891156d65a5\" xlink:actuate=\"onRequest\" xlink:href=\"psysml:eab38ea9-a866-41ac-91a0-b891156d65a5\" xlink:show=\"new\" xlink:title=\"psysml:eab38ea9-a866-41ac-91a0-b891156d65a5\" xlink:type=\"simple\"><path d=\"M1560.39,320.551 C1561.6,320.705 1562.8,320.854 1564,321 C1937.34,366.376 2046.42,278.549 2408,382 C2413.6,383.601 2419.25,385.502 2424.87,387.617 \" fill=\"none\" id=\"E53&lt;-E54\" style=\"stroke: #383838; stroke-width: 1.0;\"/><polygon fill=\"#383838\" points=\"1547.28,318.759,1552.6791,323.5391,1559.1681,320.3938,1553.769,315.6137,1547.28,318.759\" style=\"stroke: #383838; stroke-width: 1.0;\"/></a><!--MD5=[a448702681eca6ed85b17201204f5319]\n",
       "link E54 to E6--><a href=\"psysml:ca8897d3-51a0-4464-a81e-b200d550eb9a\" target=\"_top\" title=\"psysml:ca8897d3-51a0-4464-a81e-b200d550eb9a\" xlink:actuate=\"onRequest\" xlink:href=\"psysml:ca8897d3-51a0-4464-a81e-b200d550eb9a\" xlink:show=\"new\" xlink:title=\"psysml:ca8897d3-51a0-4464-a81e-b200d550eb9a\" xlink:type=\"simple\"><path d=\"M2601.25,444.034 C2710.73,454.27 2902.34,477.153 3061,522 C3089.75,530.128 3097.73,532.05 3123,548 C3139.9,558.669 3156.68,573.192 3170.07,585.99 \" fill=\"none\" id=\"E54-&gt;E6\" style=\"stroke: #383838; stroke-width: 1.0; stroke-dasharray: 7.0,7.0;\"/><polygon fill=\"#383838\" points=\"3175.97,591.729,3172.3218,584.003,3168.1413,588.3068,3175.97,591.729\" style=\"stroke: #383838; stroke-width: 1.0;\"/><text fill=\"#000000\" font-family=\"sans-serif\" font-size=\"13\" lengthAdjust=\"spacingAndGlyphs\" textLength=\"56\" x=\"3110\" y=\"536.4951\">«depend»</text></a><!--MD5=[2fa0b4cd616e6ed9d9368724dab0d137]\n",
       "link E54 to E13--><a href=\"psysml:f872cdc3-805a-45a1-aff6-60596dd372fe\" target=\"_top\" title=\"psysml:f872cdc3-805a-45a1-aff6-60596dd372fe\" xlink:actuate=\"onRequest\" xlink:href=\"psysml:f872cdc3-805a-45a1-aff6-60596dd372fe\" xlink:show=\"new\" xlink:title=\"psysml:f872cdc3-805a-45a1-aff6-60596dd372fe\" xlink:type=\"simple\"><path d=\"M2601.24,438.471 C2707.95,444.063 2889.36,466.11 3019,548 C3033.42,557.107 3045.43,571.686 3054.27,584.922 \" fill=\"none\" id=\"E54-&gt;E13\" style=\"stroke: #383838; stroke-width: 1.0; stroke-dasharray: 7.0,7.0;\"/><polygon fill=\"#383838\" points=\"3058.59,591.686,3056.8079,583.3299,3051.7529,586.5621,3058.59,591.686\" style=\"stroke: #383838; stroke-width: 1.0;\"/><text fill=\"#000000\" font-family=\"sans-serif\" font-size=\"13\" lengthAdjust=\"spacingAndGlyphs\" textLength=\"56\" x=\"2996\" y=\"536.4951\">«depend»</text></a><!--MD5=[b5075c317c2f3fe3f15623ea1fe137e0]\n",
       "link E54 to E20--><a href=\"psysml:680ee066-8f1e-497a-929a-b0bafdcaa9ea\" target=\"_top\" title=\"psysml:680ee066-8f1e-497a-929a-b0bafdcaa9ea\" xlink:actuate=\"onRequest\" xlink:href=\"psysml:680ee066-8f1e-497a-929a-b0bafdcaa9ea\" xlink:show=\"new\" xlink:title=\"psysml:680ee066-8f1e-497a-929a-b0bafdcaa9ea\" xlink:type=\"simple\"><path d=\"M2601.13,444.593 C2728.56,456.412 2971.31,482.084 3175,522 C3219.22,530.666 3234.3,524.919 3273,548 C3289.03,557.558 3303.55,572.354 3314.6,585.612 \" fill=\"none\" id=\"E54-&gt;E20\" style=\"stroke: #383838; stroke-width: 1.0; stroke-dasharray: 7.0,7.0;\"/><polygon fill=\"#383838\" points=\"3319.74,591.968,3317.0398,583.8619,3312.3755,587.6362,3319.74,591.968\" style=\"stroke: #383838; stroke-width: 1.0;\"/><text fill=\"#000000\" font-family=\"sans-serif\" font-size=\"13\" lengthAdjust=\"spacingAndGlyphs\" textLength=\"56\" x=\"3258\" y=\"536.4951\">«depend»</text></a><!--MD5=[7ef8f8d8910daebcf3b73f4b6d389fbb]\n",
       "link E58 to E3--><a href=\"psysml:b8fddb05-3085-42cd-ba77-5555dc87bfd1\" target=\"_top\" title=\"psysml:b8fddb05-3085-42cd-ba77-5555dc87bfd1\" xlink:actuate=\"onRequest\" xlink:href=\"psysml:b8fddb05-3085-42cd-ba77-5555dc87bfd1\" xlink:show=\"new\" xlink:title=\"psysml:b8fddb05-3085-42cd-ba77-5555dc87bfd1\" xlink:type=\"simple\"><path d=\"M958.692,476.098 C937.405,490.953 911.285,506.172 885,514 C858.161,521.993 408.913,519.746 381,522 C325.93,526.448 312.774,532.772 258,540 C227.831,543.981 218.184,536.524 190,548 C172.487,555.131 155.485,566.794 141.226,578.407 \" fill=\"none\" id=\"E58-&gt;E3\" style=\"stroke: #383838; stroke-width: 1.0;\"/><polygon fill=\"#FFFFFF\" points=\"125.882,591.742,135.6307,573.9948,144.8146,584.5616,125.882,591.742\" style=\"stroke: #383838; stroke-width: 1.0;\"/><ellipse cx=\"141.2449\" cy=\"571.7652\" fill=\"#383838\" rx=\"2\" ry=\"2\" style=\"stroke: #383838; stroke-width: 1.0;\"/><ellipse cx=\"147.8048\" cy=\"579.313\" fill=\"#383838\" rx=\"2\" ry=\"2\" style=\"stroke: #383838; stroke-width: 1.0;\"/></a><!--MD5=[cb6be4bb50b56e9697acc66eb7c303f0]\n",
       "reverse link E53 to E58--><a href=\"psysml:43a110a9-32bf-40af-8368-a121575e6e34\" target=\"_top\" title=\"psysml:43a110a9-32bf-40af-8368-a121575e6e34\" xlink:actuate=\"onRequest\" xlink:href=\"psysml:43a110a9-32bf-40af-8368-a121575e6e34\" xlink:show=\"new\" xlink:title=\"psysml:43a110a9-32bf-40af-8368-a121575e6e34\" xlink:type=\"simple\"><path d=\"M1325.89,324.235 C1266.35,339.123 1192.51,359.302 1128,382 C1116.21,386.148 1103.96,390.933 1091.97,395.894 \" fill=\"none\" id=\"E53&lt;-E58\" style=\"stroke: #383838; stroke-width: 1.0;\"/><polygon fill=\"#383838\" points=\"1338.75,321.044,1331.9637,318.6054,1327.1026,323.9318,1333.8889,326.3703,1338.75,321.044\" style=\"stroke: #383838; stroke-width: 1.0;\"/></a><!--MD5=[844f28674b8d5d1dce40022dea196d6a]\n",
       "link E58 to E11--><a href=\"psysml:3879d23b-d74a-4254-8145-df5c21c13fe1\" target=\"_top\" title=\"psysml:3879d23b-d74a-4254-8145-df5c21c13fe1\" xlink:actuate=\"onRequest\" xlink:href=\"psysml:3879d23b-d74a-4254-8145-df5c21c13fe1\" xlink:show=\"new\" xlink:title=\"psysml:3879d23b-d74a-4254-8145-df5c21c13fe1\" xlink:type=\"simple\"><path d=\"M956.514,476.037 C935.497,490.317 910.157,505.133 885,514 C853.882,524.968 618.751,531.813 590,548 C574.922,556.489 562.73,571.303 553.95,584.846 \" fill=\"none\" id=\"E58-&gt;E11\" style=\"stroke: #383838; stroke-width: 1.0; stroke-dasharray: 7.0,7.0;\"/><polygon fill=\"#383838\" points=\"549.674,591.772,556.43,586.5416,551.3249,583.389,549.674,591.772\" style=\"stroke: #383838; stroke-width: 1.0;\"/><text fill=\"#000000\" font-family=\"sans-serif\" font-size=\"13\" lengthAdjust=\"spacingAndGlyphs\" textLength=\"56\" x=\"821\" y=\"536.4951\">«depend»</text></a><!--MD5=[71e85e34a303e1671bac05b89eca599d]\n",
       "link E60 to E3--><a href=\"psysml:89b9753b-71a2-462d-bb40-492eb28a58a5\" target=\"_top\" title=\"psysml:89b9753b-71a2-462d-bb40-492eb28a58a5\" xlink:actuate=\"onRequest\" xlink:href=\"psysml:89b9753b-71a2-462d-bb40-492eb28a58a5\" xlink:show=\"new\" xlink:title=\"psysml:89b9753b-71a2-462d-bb40-492eb28a58a5\" xlink:type=\"simple\"><path d=\"M454.908,442.834 C339.6,451.813 159.187,473.383 114,522 C101.803,535.123 98.0681,554.18 97.7704,571.631 \" fill=\"none\" id=\"E60-&gt;E3\" style=\"stroke: #383838; stroke-width: 1.0;\"/><polygon fill=\"#FFFFFF\" points=\"98.7741,591.614,90.8289,572.9895,104.8112,572.2865,98.7741,591.614\" style=\"stroke: #383838; stroke-width: 1.0;\"/><ellipse cx=\"92.5401\" cy=\"567.1962\" fill=\"#383838\" rx=\"2\" ry=\"2\" style=\"stroke: #383838; stroke-width: 1.0;\"/><ellipse cx=\"102.5275\" cy=\"566.6941\" fill=\"#383838\" rx=\"2\" ry=\"2\" style=\"stroke: #383838; stroke-width: 1.0;\"/></a><!--MD5=[f9cd33ce6b76154f4747908f732b787d]\n",
       "reverse link E53 to E60--><a href=\"psysml:90f1d61b-8c9d-4301-b730-9447639de9bc\" target=\"_top\" title=\"psysml:90f1d61b-8c9d-4301-b730-9447639de9bc\" xlink:actuate=\"onRequest\" xlink:href=\"psysml:90f1d61b-8c9d-4301-b730-9447639de9bc\" xlink:show=\"new\" xlink:title=\"psysml:90f1d61b-8c9d-4301-b730-9447639de9bc\" xlink:type=\"simple\"><path d=\"M1317.82,299.363 C1164.4,303.77 893.165,320.552 670,382 C656.872,385.615 643.356,390.552 630.398,395.967 \" fill=\"none\" id=\"E53&lt;-E60\" style=\"stroke: #383838; stroke-width: 1.0;\"/><polygon fill=\"#383838\" points=\"1330.94,299.008,1324.8366,295.1676,1318.9442,299.3245,1325.0476,303.1648,1330.94,299.008\" style=\"stroke: #383838; stroke-width: 1.0;\"/></a><!--MD5=[bea3ccc3a558bd1416169cf759c6ac40]\n",
       "link E60 to E27--><a href=\"psysml:c1e41af3-67de-4cd6-8cca-e14b382692dc\" target=\"_top\" title=\"psysml:c1e41af3-67de-4cd6-8cca-e14b382692dc\" xlink:actuate=\"onRequest\" xlink:href=\"psysml:c1e41af3-67de-4cd6-8cca-e14b382692dc\" xlink:show=\"new\" xlink:title=\"psysml:c1e41af3-67de-4cd6-8cca-e14b382692dc\" xlink:type=\"simple\"><path d=\"M506.378,476.063 C465.741,509.397 408.256,556.55 371.808,586.448 \" fill=\"none\" id=\"E60-&gt;E27\" style=\"stroke: #383838; stroke-width: 1.0; stroke-dasharray: 7.0,7.0;\"/><polygon fill=\"#383838\" points=\"365.256,591.822,373.3438,589.0676,369.5385,584.4287,365.256,591.822\" style=\"stroke: #383838; stroke-width: 1.0;\"/><text fill=\"#000000\" font-family=\"sans-serif\" font-size=\"13\" lengthAdjust=\"spacingAndGlyphs\" textLength=\"56\" x=\"447\" y=\"536.4951\">«depend»</text></a><!--MD5=[9c59d695384390176c4f200335a30856]\n",
       "link E62 to E3--><a href=\"psysml:3fe6082a-393d-4723-aeac-06cb8721185c\" target=\"_top\" title=\"psysml:3fe6082a-393d-4723-aeac-06cb8721185c\" xlink:actuate=\"onRequest\" xlink:href=\"psysml:3fe6082a-393d-4723-aeac-06cb8721185c\" xlink:show=\"new\" xlink:title=\"psysml:3fe6082a-393d-4723-aeac-06cb8721185c\" xlink:type=\"simple\"><path d=\"M735.631,476.194 C716.94,490.967 693.824,506.099 670,514 C629.915,527.293 331.832,516.203 290,522 C244.513,528.304 231.244,527.806 190,548 C173.567,556.046 157.227,567.476 143.221,578.622 \" fill=\"none\" id=\"E62-&gt;E3\" style=\"stroke: #383838; stroke-width: 1.0;\"/><polygon fill=\"#FFFFFF\" points=\"127.444,591.83,137.5194,574.2662,146.5062,585.0011,127.444,591.83\" style=\"stroke: #383838; stroke-width: 1.0;\"/><ellipse cx=\"143.1739\" cy=\"572.1409\" fill=\"#383838\" rx=\"2\" ry=\"2\" style=\"stroke: #383838; stroke-width: 1.0;\"/><ellipse cx=\"149.593\" cy=\"579.8087\" fill=\"#383838\" rx=\"2\" ry=\"2\" style=\"stroke: #383838; stroke-width: 1.0;\"/></a><!--MD5=[de40749e9836a32431be4690a93051f8]\n",
       "reverse link E53 to E62--><a href=\"psysml:19d6896a-b2d7-4c61-8d11-be935094248f\" target=\"_top\" title=\"psysml:19d6896a-b2d7-4c61-8d11-be935094248f\" xlink:actuate=\"onRequest\" xlink:href=\"psysml:19d6896a-b2d7-4c61-8d11-be935094248f\" xlink:show=\"new\" xlink:title=\"psysml:19d6896a-b2d7-4c61-8d11-be935094248f\" xlink:type=\"simple\"><path d=\"M1317.58,305.747 C1203.91,315.486 1030.41,336.778 886,382 C874.041,385.745 861.755,390.646 849.953,395.955 \" fill=\"none\" id=\"E53&lt;-E62\" style=\"stroke: #383838; stroke-width: 1.0;\"/><polygon fill=\"#383838\" points=\"1330.8,304.644,1324.4907,301.1522,1318.8408,305.6331,1325.1501,309.125,1330.8,304.644\" style=\"stroke: #383838; stroke-width: 1.0;\"/></a><!--MD5=[49e3bf1f2ff4150ffdb66687de520394]\n",
       "link E62 to E12--><a href=\"psysml:702ec4e9-e03c-4718-9c69-15778ade96f6\" target=\"_top\" title=\"psysml:702ec4e9-e03c-4718-9c69-15778ade96f6\" xlink:actuate=\"onRequest\" xlink:href=\"psysml:702ec4e9-e03c-4718-9c69-15778ade96f6\" xlink:show=\"new\" xlink:title=\"psysml:702ec4e9-e03c-4718-9c69-15778ade96f6\" xlink:type=\"simple\"><path d=\"M831.812,476.01 C849.022,488.312 868.22,501.857 886,514 C908.802,529.574 915.673,531.752 938,548 C954.77,560.204 972.753,574.554 987.678,586.836 \" fill=\"none\" id=\"E62-&gt;E12\" style=\"stroke: #383838; stroke-width: 1.0; stroke-dasharray: 7.0,7.0;\"/><polygon fill=\"#383838\" points=\"993.874,591.961,989.6215,584.5505,985.7974,589.1739,993.874,591.961\" style=\"stroke: #383838; stroke-width: 1.0;\"/><text fill=\"#000000\" font-family=\"sans-serif\" font-size=\"13\" lengthAdjust=\"spacingAndGlyphs\" textLength=\"56\" x=\"928\" y=\"536.4951\">«depend»</text></a><!--MD5=[6b99714fbfbbb30dd5ffc500784e4d33]\n",
       "link E64 to E3--><a href=\"psysml:49cd070c-0ca1-43e8-a4b1-7b0b4e507b58\" target=\"_top\" title=\"psysml:49cd070c-0ca1-43e8-a4b1-7b0b4e507b58\" xlink:actuate=\"onRequest\" xlink:href=\"psysml:49cd070c-0ca1-43e8-a4b1-7b0b4e507b58\" xlink:show=\"new\" xlink:title=\"psysml:49cd070c-0ca1-43e8-a4b1-7b0b4e507b58\" xlink:type=\"simple\"><path d=\"M2034.17,476.193 C2014.71,491.064 1990.65,506.269 1966,514 C1927.2,526.168 539.053,505.239 502,522 C492.248,526.411 495.704,535.484 486,540 C456.171,553.882 220.999,536.977 190,548 C171.925,554.427 154.618,566.153 140.268,578.019 \" fill=\"none\" id=\"E64-&gt;E3\" style=\"stroke: #383838; stroke-width: 1.0;\"/><polygon fill=\"#FFFFFF\" points=\"124.911,591.705,134.439,573.8383,143.7531,584.2905,124.911,591.705\" style=\"stroke: #383838; stroke-width: 1.0;\"/><ellipse cx=\"140.0251\" cy=\"571.5393\" fill=\"#383838\" rx=\"2\" ry=\"2\" style=\"stroke: #383838; stroke-width: 1.0;\"/><ellipse cx=\"146.678\" cy=\"579.0051\" fill=\"#383838\" rx=\"2\" ry=\"2\" style=\"stroke: #383838; stroke-width: 1.0;\"/></a><!--MD5=[c87b740779d8f38b170972ceff022f67]\n",
       "reverse link E53 to E64--><a href=\"psysml:90d1eaf7-a653-4514-bb6b-feb2fc856dd5\" target=\"_top\" title=\"psysml:90d1eaf7-a653-4514-bb6b-feb2fc856dd5\" xlink:actuate=\"onRequest\" xlink:href=\"psysml:90d1eaf7-a653-4514-bb6b-feb2fc856dd5\" xlink:show=\"new\" xlink:title=\"psysml:90d1eaf7-a653-4514-bb6b-feb2fc856dd5\" xlink:type=\"simple\"><path d=\"M1560.08,320.338 C1561.39,320.561 1562.7,320.782 1564,321 C1742.22,350.91 1793.16,329.237 1966,382 C1978.34,385.769 1991.05,390.682 2003.28,395.997 \" fill=\"none\" id=\"E53&lt;-E64\" style=\"stroke: #383838; stroke-width: 1.0;\"/><polygon fill=\"#383838\" points=\"1547.03,318.096,1552.2665,323.0538,1558.8569,320.1269,1553.6204,315.1692,1547.03,318.096\" style=\"stroke: #383838; stroke-width: 1.0;\"/></a><!--MD5=[38d42b26c095371b89a751793b7ebcad]\n",
       "link E64 to E8--><a href=\"psysml:686da0bb-ea61-4ea1-a3ee-ae72f59d8e3e\" target=\"_top\" title=\"psysml:686da0bb-ea61-4ea1-a3ee-ae72f59d8e3e\" xlink:actuate=\"onRequest\" xlink:href=\"psysml:686da0bb-ea61-4ea1-a3ee-ae72f59d8e3e\" xlink:show=\"new\" xlink:title=\"psysml:686da0bb-ea61-4ea1-a3ee-ae72f59d8e3e\" xlink:type=\"simple\"><path d=\"M2028.91,476.142 C2010.08,489.667 1987.86,503.935 1966,514 C1953.47,519.771 1948.94,517.208 1936,522 C1887.86,539.828 1836.05,567.381 1800.25,587.875 \" fill=\"none\" id=\"E64-&gt;E8\" style=\"stroke: #383838; stroke-width: 1.0; stroke-dasharray: 7.0,7.0;\"/><polygon fill=\"#383838\" points=\"1793.31,591.875,1801.7385,590.4748,1798.7395,585.278,1793.31,591.875\" style=\"stroke: #383838; stroke-width: 1.0;\"/><text fill=\"#000000\" font-family=\"sans-serif\" font-size=\"13\" lengthAdjust=\"spacingAndGlyphs\" textLength=\"56\" x=\"1937\" y=\"536.4951\">«depend»</text></a><!--MD5=[a3823b4739999f2f20189c456abafaf5]\n",
       "link E64 to E9--><a href=\"psysml:0c306a8a-0e56-4be3-9479-39a1644e57b7\" target=\"_top\" title=\"psysml:0c306a8a-0e56-4be3-9479-39a1644e57b7\" xlink:actuate=\"onRequest\" xlink:href=\"psysml:0c306a8a-0e56-4be3-9479-39a1644e57b7\" xlink:show=\"new\" xlink:title=\"psysml:0c306a8a-0e56-4be3-9479-39a1644e57b7\" xlink:type=\"simple\"><path d=\"M2039.21,476.016 C2027.78,489.565 2016.38,505.519 2009,522 C2000.31,541.417 1996.58,565.113 1995.01,583.726 \" fill=\"none\" id=\"E64-&gt;E9\" style=\"stroke: #383838; stroke-width: 1.0; stroke-dasharray: 7.0,7.0;\"/><polygon fill=\"#383838\" points=\"1994.43,591.887,1997.9878,584.119,1992.0028,583.695,1994.43,591.887\" style=\"stroke: #383838; stroke-width: 1.0;\"/><text fill=\"#000000\" font-family=\"sans-serif\" font-size=\"13\" lengthAdjust=\"spacingAndGlyphs\" textLength=\"56\" x=\"2010\" y=\"536.4951\">«depend»</text></a><!--MD5=[ef6a124a342791900c4876c2c6f7ce1d]\n",
       "link E64 to E14--><a href=\"psysml:db0b9403-67b2-42fa-b17e-a8defc9e2f5a\" target=\"_top\" title=\"psysml:db0b9403-67b2-42fa-b17e-a8defc9e2f5a\" xlink:actuate=\"onRequest\" xlink:href=\"psysml:db0b9403-67b2-42fa-b17e-a8defc9e2f5a\" xlink:show=\"new\" xlink:title=\"psysml:db0b9403-67b2-42fa-b17e-a8defc9e2f5a\" xlink:type=\"simple\"><path d=\"M2070.6,476.203 C2068.88,497.064 2070.63,522.042 2084,540 C2090.21,548.344 2097.56,541.911 2106,548 C2119.6,557.813 2131.52,572.027 2140.6,584.841 \" fill=\"none\" id=\"E64-&gt;E14\" style=\"stroke: #383838; stroke-width: 1.0; stroke-dasharray: 7.0,7.0;\"/><polygon fill=\"#383838\" points=\"2145.34,591.778,2143.2997,583.4812,2138.3474,586.8685,2145.34,591.778\" style=\"stroke: #383838; stroke-width: 1.0;\"/><text fill=\"#000000\" font-family=\"sans-serif\" font-size=\"13\" lengthAdjust=\"spacingAndGlyphs\" textLength=\"56\" x=\"2085\" y=\"536.4951\">«depend»</text></a><!--MD5=[097bba37910d32805b54e6d7f22a2849]\n",
       "link E64 to E22--><a href=\"psysml:be45cd9a-683d-45db-936c-8f5478f10258\" target=\"_top\" title=\"psysml:be45cd9a-683d-45db-936c-8f5478f10258\" xlink:actuate=\"onRequest\" xlink:href=\"psysml:be45cd9a-683d-45db-936c-8f5478f10258\" xlink:show=\"new\" xlink:title=\"psysml:be45cd9a-683d-45db-936c-8f5478f10258\" xlink:type=\"simple\"><path d=\"M2108.61,476.112 C2127.58,497.87 2153.67,523.758 2182,540 C2193.97,546.864 2199.22,542.796 2212,548 C2238.45,558.771 2266.36,574.241 2288.49,587.602 \" fill=\"none\" id=\"E64-&gt;E22\" style=\"stroke: #383838; stroke-width: 1.0; stroke-dasharray: 7.0,7.0;\"/><polygon fill=\"#383838\" points=\"2295.47,591.858,2290.207,585.1274,2287.0791,590.2477,2295.47,591.858\" style=\"stroke: #383838; stroke-width: 1.0;\"/><text fill=\"#000000\" font-family=\"sans-serif\" font-size=\"13\" lengthAdjust=\"spacingAndGlyphs\" textLength=\"56\" x=\"2183\" y=\"536.4951\">«depend»</text></a><!--MD5=[5f99c7f8f663bc3b6fed96151e7ccbbd]\n",
       "link E66 to E3--><a href=\"psysml:397e8d9e-ec87-4f00-ac27-45d061c5c582\" target=\"_top\" title=\"psysml:397e8d9e-ec87-4f00-ac27-45d061c5c582\" xlink:actuate=\"onRequest\" xlink:href=\"psysml:397e8d9e-ec87-4f00-ac27-45d061c5c582\" xlink:show=\"new\" xlink:title=\"psysml:397e8d9e-ec87-4f00-ac27-45d061c5c582\" xlink:type=\"simple\"><path d=\"M1621.55,483.212 C1606.43,495.624 1588.65,507.419 1570,514 C1541.34,524.11 505.773,515.907 476,522 C455.703,526.154 453.242,535.586 433,540 C380.211,551.51 240.853,529.749 190,548 C171.944,554.48 154.641,566.218 140.289,578.078 \" fill=\"none\" id=\"E66-&gt;E3\" style=\"stroke: #383838; stroke-width: 1.0;\"/><polygon fill=\"#FFFFFF\" points=\"124.927,591.751,134.4658,573.8901,143.7736,584.3479,124.927,591.751\" style=\"stroke: #383838; stroke-width: 1.0;\"/><ellipse cx=\"140.0533\" cy=\"571.5945\" fill=\"#383838\" rx=\"2\" ry=\"2\" style=\"stroke: #383838; stroke-width: 1.0;\"/><ellipse cx=\"146.7017\" cy=\"579.0643\" fill=\"#383838\" rx=\"2\" ry=\"2\" style=\"stroke: #383838; stroke-width: 1.0;\"/></a><!--MD5=[cd9ef708f167301cf07fcb4263aeb2b0]\n",
       "reverse link E53 to E66--><a href=\"psysml:aaa4028c-b8b6-4b75-9210-2a8dcb4c89c9\" target=\"_top\" title=\"psysml:aaa4028c-b8b6-4b75-9210-2a8dcb4c89c9\" xlink:actuate=\"onRequest\" xlink:href=\"psysml:aaa4028c-b8b6-4b75-9210-2a8dcb4c89c9\" xlink:show=\"new\" xlink:title=\"psysml:aaa4028c-b8b6-4b75-9210-2a8dcb4c89c9\" xlink:type=\"simple\"><path d=\"M1488.73,327.884 C1518.37,345.69 1556.61,368.667 1590.06,388.771 \" fill=\"none\" id=\"E53&lt;-E66\" style=\"stroke: #383838; stroke-width: 1.0;\"/><polygon fill=\"#383838\" points=\"1477.42,321.085,1480.5008,327.6049,1487.7041,327.2686,1484.6233,320.7488,1477.42,321.085\" style=\"stroke: #383838; stroke-width: 1.0;\"/></a><!--MD5=[ab37c68c812046f24f214d68ea0b5548]\n",
       "link E66 to E18--><a href=\"psysml:87260f02-6ed1-4305-9f86-035f5ea8e982\" target=\"_top\" title=\"psysml:87260f02-6ed1-4305-9f86-035f5ea8e982\" xlink:actuate=\"onRequest\" xlink:href=\"psysml:87260f02-6ed1-4305-9f86-035f5ea8e982\" xlink:show=\"new\" xlink:title=\"psysml:87260f02-6ed1-4305-9f86-035f5ea8e982\" xlink:type=\"simple\"><path d=\"M1639.69,483.303 C1620.83,515.264 1596.3,556.852 1579.9,584.662 \" fill=\"none\" id=\"E66-&gt;E18\" style=\"stroke: #383838; stroke-width: 1.0; stroke-dasharray: 7.0,7.0;\"/><polygon fill=\"#383838\" points=\"1575.7,591.771,1582.35,586.4065,1577.1829,583.3567,1575.7,591.771\" style=\"stroke: #383838; stroke-width: 1.0;\"/><text fill=\"#000000\" font-family=\"sans-serif\" font-size=\"13\" lengthAdjust=\"spacingAndGlyphs\" textLength=\"56\" x=\"1616\" y=\"536.4951\">«depend»</text></a><!--MD5=[7ddd939b1d513b5803b8002c9b4115b2]\n",
       "link E69 to E3--><a href=\"psysml:2e0ceea7-7d40-4f64-9635-e396d696bbad\" target=\"_top\" title=\"psysml:2e0ceea7-7d40-4f64-9635-e396d696bbad\" xlink:actuate=\"onRequest\" xlink:href=\"psysml:2e0ceea7-7d40-4f64-9635-e396d696bbad\" xlink:show=\"new\" xlink:title=\"psysml:2e0ceea7-7d40-4f64-9635-e396d696bbad\" xlink:type=\"simple\"><path d=\"M1403.6,476.178 C1382.68,491.046 1356.97,506.254 1331,514 C1284.52,527.861 506.079,515.608 458,522 C426.583,526.177 420.348,535.337 389,540 C345.224,546.512 231.602,532.898 190,548 C171.968,554.546 154.67,566.297 140.315,578.151 \" fill=\"none\" id=\"E69-&gt;E3\" style=\"stroke: #383838; stroke-width: 1.0;\"/><polygon fill=\"#FFFFFF\" points=\"124.947,591.807,134.5003,573.9539,143.7996,584.4192,124.947,591.807\" style=\"stroke: #383838; stroke-width: 1.0;\"/><ellipse cx=\"140.0897\" cy=\"571.6628\" fill=\"#383838\" rx=\"2\" ry=\"2\" style=\"stroke: #383838; stroke-width: 1.0;\"/><ellipse cx=\"146.732\" cy=\"579.138\" fill=\"#383838\" rx=\"2\" ry=\"2\" style=\"stroke: #383838; stroke-width: 1.0;\"/></a><!--MD5=[4ed29a7d83de6589bebc5cb0b4300b1d]\n",
       "reverse link E53 to E69--><a href=\"psysml:df7b056c-a2a7-4efa-a502-cd18c1923ebc\" target=\"_top\" title=\"psysml:df7b056c-a2a7-4efa-a502-cd18c1923ebc\" xlink:actuate=\"onRequest\" xlink:href=\"psysml:df7b056c-a2a7-4efa-a502-cd18c1923ebc\" xlink:show=\"new\" xlink:title=\"psysml:df7b056c-a2a7-4efa-a502-cd18c1923ebc\" xlink:type=\"simple\"><path d=\"M1442.19,334.451 C1443.85,353.364 1445.87,376.485 1447.57,395.786 \" fill=\"none\" id=\"E53&lt;-E69\" style=\"stroke: #383838; stroke-width: 1.0;\"/><polygon fill=\"#383838\" points=\"1441.04,321.24,1437.5791,327.5663,1442.0876,333.1942,1445.5485,326.8679,1441.04,321.24\" style=\"stroke: #383838; stroke-width: 1.0;\"/></a><!--MD5=[109e95ab9869f5d94eb7e94a2141aeb1]\n",
       "link E69 to E10--><a href=\"psysml:0955b073-7156-4d76-83c1-1317b529e8b1\" target=\"_top\" title=\"psysml:0955b073-7156-4d76-83c1-1317b529e8b1\" xlink:actuate=\"onRequest\" xlink:href=\"psysml:0955b073-7156-4d76-83c1-1317b529e8b1\" xlink:show=\"new\" xlink:title=\"psysml:0955b073-7156-4d76-83c1-1317b529e8b1\" xlink:type=\"simple\"><path d=\"M1445.95,476.063 C1441.77,508.429 1435.9,553.823 1432.03,583.8 \" fill=\"none\" id=\"E69-&gt;E10\" style=\"stroke: #383838; stroke-width: 1.0; stroke-dasharray: 7.0,7.0;\"/><polygon fill=\"#383838\" points=\"1430.99,591.822,1434.9899,584.2721,1429.0393,583.5037,1430.99,591.822\" style=\"stroke: #383838; stroke-width: 1.0;\"/><text fill=\"#000000\" font-family=\"sans-serif\" font-size=\"13\" lengthAdjust=\"spacingAndGlyphs\" textLength=\"56\" x=\"1441\" y=\"536.4951\">«depend»</text></a><!--MD5=[5bfcb1df10add3a1436fdc0ed1dc0290]\n",
       "link E71 to E3--><a href=\"psysml:ac81dbb1-ac21-4958-b6e3-f338db573516\" target=\"_top\" title=\"psysml:ac81dbb1-ac21-4958-b6e3-f338db573516\" xlink:actuate=\"onRequest\" xlink:href=\"psysml:ac81dbb1-ac21-4958-b6e3-f338db573516\" xlink:show=\"new\" xlink:title=\"psysml:ac81dbb1-ac21-4958-b6e3-f338db573516\" xlink:type=\"simple\"><path d=\"M1190.37,476.279 C1172.78,491.066 1150.89,506.185 1128,514 C1091.3,526.531 468.609,518.363 430,522 C384.605,526.276 374.285,534.681 329,540 C298.271,543.61 218.991,537.191 190,548 C172.025,554.702 154.74,566.486 140.378,578.323 \" fill=\"none\" id=\"E71-&gt;E3\" style=\"stroke: #383838; stroke-width: 1.0;\"/><polygon fill=\"#FFFFFF\" points=\"124.997,591.94,134.5818,574.1038,143.8626,584.5855,124.997,591.94\" style=\"stroke: #383838; stroke-width: 1.0;\"/><ellipse cx=\"140.1752\" cy=\"571.8226\" fill=\"#383838\" rx=\"2\" ry=\"2\" style=\"stroke: #383838; stroke-width: 1.0;\"/><ellipse cx=\"146.8044\" cy=\"579.3095\" fill=\"#383838\" rx=\"2\" ry=\"2\" style=\"stroke: #383838; stroke-width: 1.0;\"/></a><!--MD5=[6998d242d2c9fb0f828c5591112aacb9]\n",
       "reverse link E53 to E71--><a href=\"psysml:c8fc11d3-2523-4ecb-b4c3-5ed57a7169a2\" target=\"_top\" title=\"psysml:c8fc11d3-2523-4ecb-b4c3-5ed57a7169a2\" xlink:actuate=\"onRequest\" xlink:href=\"psysml:c8fc11d3-2523-4ecb-b4c3-5ed57a7169a2\" xlink:show=\"new\" xlink:title=\"psysml:c8fc11d3-2523-4ecb-b4c3-5ed57a7169a2\" xlink:type=\"simple\"><path d=\"M1392.44,328.517 C1362.18,348.357 1322.43,374.414 1289.82,395.786 \" fill=\"none\" id=\"E53&lt;-E71\" style=\"stroke: #383838; stroke-width: 1.0;\"/><polygon fill=\"#383838\" points=\"1403.55,321.24,1396.3391,321.1851,1393.515,327.8201,1400.7259,327.8751,1403.55,321.24\" style=\"stroke: #383838; stroke-width: 1.0;\"/></a><!--MD5=[7c9f69c6cc7a3708e9b9de4f38d2a809]\n",
       "link E71 to E19--><a href=\"psysml:11ddb989-37dc-4f0b-88c7-a1a0b1891a48\" target=\"_top\" title=\"psysml:11ddb989-37dc-4f0b-88c7-a1a0b1891a48\" xlink:actuate=\"onRequest\" xlink:href=\"psysml:11ddb989-37dc-4f0b-88c7-a1a0b1891a48\" xlink:show=\"new\" xlink:title=\"psysml:11ddb989-37dc-4f0b-88c7-a1a0b1891a48\" xlink:type=\"simple\"><path d=\"M1244.05,476.063 C1255.73,508.567 1272.14,554.211 1282.92,584.183 \" fill=\"none\" id=\"E71-&gt;E19\" style=\"stroke: #383838; stroke-width: 1.0; stroke-dasharray: 7.0,7.0;\"/><polygon fill=\"#383838\" points=\"1285.67,591.822,1285.7861,583.2788,1280.14,585.309,1285.67,591.822\" style=\"stroke: #383838; stroke-width: 1.0;\"/><text fill=\"#000000\" font-family=\"sans-serif\" font-size=\"13\" lengthAdjust=\"spacingAndGlyphs\" textLength=\"56\" x=\"1267\" y=\"536.4951\">«depend»</text></a><!--MD5=[8ec8d72a13c8ccb1882474c2c954f3b1]\n",
       "link E73 to E3--><a href=\"psysml:f564d1aa-8954-4fc1-9f6b-2b0d5d5e5899\" target=\"_top\" title=\"psysml:f564d1aa-8954-4fc1-9f6b-2b0d5d5e5899\" xlink:actuate=\"onRequest\" xlink:href=\"psysml:f564d1aa-8954-4fc1-9f6b-2b0d5d5e5899\" xlink:show=\"new\" xlink:title=\"psysml:f564d1aa-8954-4fc1-9f6b-2b0d5d5e5899\" xlink:type=\"simple\"><path d=\"M2342.82,490.102 C2352.14,507.74 2355.61,526.341 2342,540 C2331.45,550.587 204.138,543.158 190,548 C171.523,554.328 153.902,566.321 139.411,578.432 \" fill=\"none\" id=\"E73-&gt;E3\" style=\"stroke: #383838; stroke-width: 1.0;\"/><polygon fill=\"#FFFFFF\" points=\"124.501,591.859,133.9348,573.9425,143.3038,584.3454,124.501,591.859\" style=\"stroke: #383838; stroke-width: 1.0;\"/><ellipse cx=\"139.5088\" cy=\"571.6141\" fill=\"#383838\" rx=\"2\" ry=\"2\" style=\"stroke: #383838; stroke-width: 1.0;\"/><ellipse cx=\"146.2009\" cy=\"579.0448\" fill=\"#383838\" rx=\"2\" ry=\"2\" style=\"stroke: #383838; stroke-width: 1.0;\"/></a><!--MD5=[8e7100f69bed025ae2593a85d031ee1c]\n",
       "reverse link E53 to E73--><a href=\"psysml:b15916ae-0ad7-4b3a-a46f-8a020be1c15c\" target=\"_top\" title=\"psysml:b15916ae-0ad7-4b3a-a46f-8a020be1c15c\" xlink:actuate=\"onRequest\" xlink:href=\"psysml:b15916ae-0ad7-4b3a-a46f-8a020be1c15c\" xlink:show=\"new\" xlink:title=\"psysml:b15916ae-0ad7-4b3a-a46f-8a020be1c15c\" xlink:type=\"simple\"><path d=\"M1560.4,320.487 C1561.6,320.661 1562.81,320.832 1564,321 C1841.26,359.924 1921.66,305.541 2191,382 C2196.63,383.597 2202.31,385.479 2207.98,387.564 \" fill=\"none\" id=\"E53&lt;-E73\" style=\"stroke: #383838; stroke-width: 1.0;\"/><polygon fill=\"#383838\" points=\"1547.31,318.512,1552.6448,323.3638,1559.1752,320.3054,1553.8404,315.4536,1547.31,318.512\" style=\"stroke: #383838; stroke-width: 1.0;\"/></a><!--MD5=[50497a99910f4f057379226883cb748f]\n",
       "link E73 to E17--><a href=\"psysml:f3d6e7f8-2785-47bf-9a9b-e01746fd6e20\" target=\"_top\" title=\"psysml:f3d6e7f8-2785-47bf-9a9b-e01746fd6e20\" xlink:actuate=\"onRequest\" xlink:href=\"psysml:f3d6e7f8-2785-47bf-9a9b-e01746fd6e20\" xlink:show=\"new\" xlink:title=\"psysml:f3d6e7f8-2785-47bf-9a9b-e01746fd6e20\" xlink:type=\"simple\"><path d=\"M2363.11,490.16 C2377.18,499.506 2392.52,508.112 2408,514 C2423.83,520.021 2695.45,541.286 2711,548 C2730.94,556.607 2749.64,572.001 2763.84,585.864 \" fill=\"none\" id=\"E73-&gt;E17\" style=\"stroke: #383838; stroke-width: 1.0; stroke-dasharray: 7.0,7.0;\"/><polygon fill=\"#383838\" points=\"2769.64,591.688,2766.1221,583.9018,2761.8699,588.1348,2769.64,591.688\" style=\"stroke: #383838; stroke-width: 1.0;\"/><text fill=\"#000000\" font-family=\"sans-serif\" font-size=\"13\" lengthAdjust=\"spacingAndGlyphs\" textLength=\"56\" x=\"2649\" y=\"536.4951\">«depend»</text></a><!--MD5=[13c8811e7b32a32b84d6390ca97e80be]\n",
       "link E73 to E21--><a href=\"psysml:e2c57cd0-aa48-42d0-8b7e-c055d4b2bd3b\" target=\"_top\" title=\"psysml:e2c57cd0-aa48-42d0-8b7e-c055d4b2bd3b\" xlink:actuate=\"onRequest\" xlink:href=\"psysml:e2c57cd0-aa48-42d0-8b7e-c055d4b2bd3b\" xlink:show=\"new\" xlink:title=\"psysml:e2c57cd0-aa48-42d0-8b7e-c055d4b2bd3b\" xlink:type=\"simple\"><path d=\"M2360.98,490.03 C2375.54,499.766 2391.62,508.561 2408,514 C2440.28,524.718 2680.15,518.734 2714,522 C2783.53,528.707 2806.03,517.765 2869,548 C2887.7,556.979 2905.2,572.054 2918.58,585.633 \" fill=\"none\" id=\"E73-&gt;E21\" style=\"stroke: #383838; stroke-width: 1.0; stroke-dasharray: 7.0,7.0;\"/><polygon fill=\"#383838\" points=\"2924.43,591.739,2921.0594,583.888,2916.7282,588.0401,2924.43,591.739\" style=\"stroke: #383838; stroke-width: 1.0;\"/><text fill=\"#000000\" font-family=\"sans-serif\" font-size=\"13\" lengthAdjust=\"spacingAndGlyphs\" textLength=\"56\" x=\"2848\" y=\"536.4951\">«depend»</text></a><!--MD5=[e953a6083c42f738bbe5fe0ab0d19c4e]\n",
       "link E77 to E3--><a href=\"psysml:bd5b7520-0071-4d74-93ac-a4b9f6c46fe5\" target=\"_top\" title=\"psysml:bd5b7520-0071-4d74-93ac-a4b9f6c46fe5\" xlink:actuate=\"onRequest\" xlink:href=\"psysml:bd5b7520-0071-4d74-93ac-a4b9f6c46fe5\" xlink:show=\"new\" xlink:title=\"psysml:bd5b7520-0071-4d74-93ac-a4b9f6c46fe5\" xlink:type=\"simple\"><path d=\"M1825.84,476.332 C1808.43,491.127 1786.75,506.239 1764,514 C1697.01,536.857 557.493,500.684 490,522 C476.598,526.233 477.353,535.614 464,540 C406.127,559.009 247.372,527.53 190,548 C171.932,554.447 154.627,566.177 140.275,578.041 \" fill=\"none\" id=\"E77-&gt;E3\" style=\"stroke: #383838; stroke-width: 1.0;\"/><polygon fill=\"#FFFFFF\" points=\"124.917,591.722,134.4486,573.8573,143.7606,584.3113,124.917,591.722\" style=\"stroke: #383838; stroke-width: 1.0;\"/><ellipse cx=\"140.0351\" cy=\"571.5594\" fill=\"#383838\" rx=\"2\" ry=\"2\" style=\"stroke: #383838; stroke-width: 1.0;\"/><ellipse cx=\"146.6866\" cy=\"579.0265\" fill=\"#383838\" rx=\"2\" ry=\"2\" style=\"stroke: #383838; stroke-width: 1.0;\"/></a><!--MD5=[231781b2f762a41bd6e26c60b7669a55]\n",
       "reverse link E53 to E77--><a href=\"psysml:20415235-65c0-402f-b5ea-3f8fb79140e3\" target=\"_top\" title=\"psysml:20415235-65c0-402f-b5ea-3f8fb79140e3\" xlink:actuate=\"onRequest\" xlink:href=\"psysml:20415235-65c0-402f-b5ea-3f8fb79140e3\" xlink:show=\"new\" xlink:title=\"psysml:20415235-65c0-402f-b5ea-3f8fb79140e3\" xlink:type=\"simple\"><path d=\"M1560.08,322.308 C1622.13,336.506 1698.26,356.647 1764,382 C1774.44,386.026 1785.19,390.856 1795.61,395.94 \" fill=\"none\" id=\"E53&lt;-E77\" style=\"stroke: #383838; stroke-width: 1.0;\"/><polygon fill=\"#383838\" points=\"1547.06,319.369,1552.0284,324.5954,1558.7637,322.0193,1553.7953,316.7929,1547.06,319.369\" style=\"stroke: #383838; stroke-width: 1.0;\"/></a><!--MD5=[0bc179dfcd83eb0286506d573f51a5a8]\n",
       "link E77 to E26--><a href=\"psysml:845d124a-5842-4c43-a0c5-d2332107efc9\" target=\"_top\" title=\"psysml:845d124a-5842-4c43-a0c5-d2332107efc9\" xlink:actuate=\"onRequest\" xlink:href=\"psysml:845d124a-5842-4c43-a0c5-d2332107efc9\" xlink:show=\"new\" xlink:title=\"psysml:845d124a-5842-4c43-a0c5-d2332107efc9\" xlink:type=\"simple\"><path d=\"M1904.25,476.079 C1921.67,490.834 1943.34,505.983 1966,514 C1995.13,524.307 2213.17,519.898 2244,522 C2318.48,527.078 2336.58,534.157 2411,540 C2428.97,541.411 2556.47,540.816 2573,548 C2591.59,556.081 2608.07,571.566 2620.25,585.615 \" fill=\"none\" id=\"E77-&gt;E26\" style=\"stroke: #383838; stroke-width: 1.0; stroke-dasharray: 7.0,7.0;\"/><polygon fill=\"#383838\" points=\"2625.54,591.937,2622.7114,583.8748,2618.1077,587.7226,2625.54,591.937\" style=\"stroke: #383838; stroke-width: 1.0;\"/><text fill=\"#000000\" font-family=\"sans-serif\" font-size=\"13\" lengthAdjust=\"spacingAndGlyphs\" textLength=\"56\" x=\"2412\" y=\"536.4951\">«depend»</text></a><!--MD5=[a2cbc3f93c8414fb80eddf751ce4b602]\n",
       "reverse link E52 to E79--><a href=\"psysml:55d77672-7b13-4920-92c7-dc3fe05c02c3\" target=\"_top\" title=\"psysml:55d77672-7b13-4920-92c7-dc3fe05c02c3\" xlink:actuate=\"onRequest\" xlink:href=\"psysml:55d77672-7b13-4920-92c7-dc3fe05c02c3\" xlink:show=\"new\" xlink:title=\"psysml:55d77672-7b13-4920-92c7-dc3fe05c02c3\" xlink:type=\"simple\"><path d=\"M1468.05,201.1 C1505.48,223.168 1555.54,252.684 1589.83,272.906 \" fill=\"none\" id=\"E52&lt;-E79\" style=\"stroke: #383838; stroke-width: 1.0;\"/><polygon fill=\"#383838\" points=\"1456.38,194.219,1459.5181,200.7115,1466.7181,200.3119,1463.58,193.8194,1456.38,194.219\" style=\"stroke: #383838; stroke-width: 1.0;\"/></a><!--MD5=[d6b351a5dad31290cd762772ac3da67a]\n",
       "reverse link E52 to E80--><a href=\"psysml:c88ab6cd-71a6-4627-a469-487a230acc17\" target=\"_top\" title=\"psysml:c88ab6cd-71a6-4627-a469-487a230acc17\" xlink:actuate=\"onRequest\" xlink:href=\"psysml:c88ab6cd-71a6-4627-a469-487a230acc17\" xlink:show=\"new\" xlink:title=\"psysml:c88ab6cd-71a6-4627-a469-487a230acc17\" xlink:type=\"simple\"><path d=\"M1465.18,200.822 C1485.53,212.444 1509.85,225.084 1533,234 C1601.71,260.459 1623.07,253.26 1694,273 C1699.5,274.532 1705.22,276.198 1710.92,277.91 \" fill=\"none\" id=\"E52&lt;-E80\" style=\"stroke: #383838; stroke-width: 1.0;\"/><polygon fill=\"#383838\" points=\"1453.69,194.134,1456.8617,200.6101,1464.0596,200.1732,1460.8879,193.6971,1453.69,194.134\" style=\"stroke: #383838; stroke-width: 1.0;\"/></a><!--MD5=[06ab02dd12885c45d0edb0579865b020]\n",
       "reverse link E52 to E81--><a href=\"psysml:a5606886-d166-472c-b7b8-c598714f344e\" target=\"_top\" title=\"psysml:a5606886-d166-472c-b7b8-c598714f344e\" xlink:actuate=\"onRequest\" xlink:href=\"psysml:a5606886-d166-472c-b7b8-c598714f344e\" xlink:show=\"new\" xlink:title=\"psysml:a5606886-d166-472c-b7b8-c598714f344e\" xlink:type=\"simple\"><path d=\"M1462.56,200.864 C1483.26,213.057 1508.54,226.119 1533,234 C1598.67,255.161 1773,261.341 1841,273 C1846.48,273.939 1852.1,274.967 1857.76,276.051 \" fill=\"none\" id=\"E52&lt;-E81\" style=\"stroke: #383838; stroke-width: 1.0;\"/><polygon fill=\"#383838\" points=\"1451.26,194.025,1454.3234,200.5531,1461.5275,200.2361,1458.4641,193.7081,1451.26,194.025\" style=\"stroke: #383838; stroke-width: 1.0;\"/></a><!--MD5=[7208186a7bcf91b59209f7ddff41c699]\n",
       "reverse link E52 to E82--><a href=\"psysml:63347ea3-50d8-4ca9-89ac-69e39bfb3995\" target=\"_top\" title=\"psysml:63347ea3-50d8-4ca9-89ac-69e39bfb3995\" xlink:actuate=\"onRequest\" xlink:href=\"psysml:63347ea3-50d8-4ca9-89ac-69e39bfb3995\" xlink:show=\"new\" xlink:title=\"psysml:63347ea3-50d8-4ca9-89ac-69e39bfb3995\" xlink:type=\"simple\"><path d=\"M1461.68,201.045 C1482.47,213.472 1508.07,226.667 1533,234 C1588.69,250.384 1996.51,264.927 2054,273 C2059.65,273.794 2065.45,274.703 2071.28,275.691 \" fill=\"none\" id=\"E52&lt;-E82\" style=\"stroke: #383838; stroke-width: 1.0;\"/><polygon fill=\"#383838\" points=\"1450.35,194.066,1453.3623,200.6178,1460.5687,200.3571,1457.5564,193.8053,1450.35,194.066\" style=\"stroke: #383838; stroke-width: 1.0;\"/></a><!--MD5=[f42e760fb4e1d85ae0b316b3955c675b]\n",
       "reverse link E52 to E83--><a href=\"psysml:11ce706f-a206-4ff2-b4ed-3741d9d15197\" target=\"_top\" title=\"psysml:11ce706f-a206-4ff2-b4ed-3741d9d15197\" xlink:actuate=\"onRequest\" xlink:href=\"psysml:11ce706f-a206-4ff2-b4ed-3741d9d15197\" xlink:show=\"new\" xlink:title=\"psysml:11ce706f-a206-4ff2-b4ed-3741d9d15197\" xlink:type=\"simple\"><path d=\"M1461.61,201.304 C1482.38,213.781 1507.99,226.945 1533,234 C1572.78,245.224 2235.08,267.171 2276,273 C2281.88,273.838 2287.93,274.859 2294,276 \" fill=\"none\" id=\"E52&lt;-E83\" style=\"stroke: #383838; stroke-width: 1.0;\"/><polygon fill=\"#383838\" points=\"1450.29,194.288,1453.279,200.8504,1460.4863,200.6154,1457.4973,194.0529,1450.29,194.288\" style=\"stroke: #383838; stroke-width: 1.0;\"/></a><!--MD5=[13b2341c9fc52b535b6036cfbbb61abd]\n",
       "@startuml\r\n",
       "skinparam monochrome true\r\n",
       "skinparam classbackgroundcolor white\r\n",
       "skinparam shadowing false\r\n",
       "skinparam wrapWidth 300\r\n",
       "hide circle\r\n",
       "\r\n",
       "package \"TheFASJukeBox\" as E1  [[psysml:ecf0ab9e-6274-478f-81a6-bb046b8b6f33 ]]  {\r\n",
       "package \"FASLanguage\" as E2  [[psysml:d3e12d30-4af9-46c6-a06d-27cbdbbe285f ]]  {\r\n",
       "comp def \"FunctionalBlock\" as E3  <<(T,blue)part def>> [[psysml:0812ff0a-d532-4811-853f-9aeba8c7a750 ]] {\r\n",
       "}\r\n",
       "}\r\n",
       "package \"UseCases\" as E4  [[psysml:0e5df247-5b9d-4a09-8b27-5bb53ebe4792 ]]  {\r\n",
       "comp def \"(Un)install and Move Jukebox\" as E5  <<(T,blue)action def>> [[psysml:3bbf9cff-0d0f-4f4d-aa6c-517476c77628 ]] {\r\n",
       "}\r\n",
       "comp def \"Ask for Track to Play\" as E6  <<(T,blue)action def>> [[psysml:1bad7a0c-674e-4fc7-91df-d3b58c014ac8 ]] {\r\n",
       "}\r\n",
       "comp def \"Assemble Music Collection\" as E7  <<(T,blue)action def>> [[psysml:c42f972c-78fc-49c9-9bb7-8c0154a5a1cc ]] {\r\n",
       "}\r\n",
       "comp def \"Connect Jukebox with Electrical Supply\" as E8  <<(T,blue)action def>> [[psysml:cfb8c6b1-984d-479a-bfee-c7338e7bff0d ]] {\r\n",
       "}\r\n",
       "comp def \"Disconnect from Electrical Supply\" as E9  <<(T,blue)action def>> [[psysml:e9041aa3-127d-4e8a-9e3b-efe2d6116842 ]] {\r\n",
       "}\r\n",
       "comp def \"Distribute Energy\" as E10  <<(T,blue)action def>> [[psysml:323dc071-d560-4965-9b29-f15917c01c45 ]] {\r\n",
       "}\r\n",
       "comp def \"Get Energy\" as E11  <<(T,blue)action def>> [[psysml:ff1457fa-4a60-490f-8d47-538326345ad0 ]] {\r\n",
       "}\r\n",
       "comp def \"Get Mechanical Energy\" as E12  <<(T,blue)action def>> [[psysml:cb48e60c-9d44-448a-9a52-bad29a7f6d0a ]] {\r\n",
       "}\r\n",
       "comp def \"Get Money\" as E13  <<(T,blue)action def>> [[psysml:8e8d5917-7f6e-400c-afdc-457e919f6877 ]] {\r\n",
       "}\r\n",
       "comp def \"Insert Cash\" as E14  <<(T,blue)action def>> [[psysml:e4b183b7-aa67-4d02-a165-9f575793fd8b ]] {\r\n",
       "}\r\n",
       "comp def \"Install Jukebox\" as E15  <<(T,blue)action def>> [[psysml:b4a8ca44-db3d-47eb-b821-24a002fc2f5a ]] {\r\n",
       "}\r\n",
       "comp def \"Listen to Music\" as E16  <<(T,blue)action def>> [[psysml:14756052-6a21-4af1-a93c-cd594c3a7951 ]] {\r\n",
       "}\r\n",
       "comp def \"Make Music Available\" as E17  <<(T,blue)action def>> [[psysml:89a9e7ba-7ddc-4e54-bc41-51103892d1d2 ]] {\r\n",
       "}\r\n",
       "comp def \"Monitor Payment\" as E18  <<(T,blue)action def>> [[psysml:898c1eb1-d522-42d3-99a0-d9301a5264ee ]] {\r\n",
       "}\r\n",
       "comp def \"Play Music Track\" as E19  <<(T,blue)action def>> [[psysml:eacd3ee7-a650-4705-9d53-97134486fc7e ]] {\r\n",
       "}\r\n",
       "comp def \"Produce Sound\" as E20  <<(T,blue)action def>> [[psysml:7bce493c-7ffb-4dcb-9055-6c20d9d6d401 ]] {\r\n",
       "}\r\n",
       "comp def \"Provide Music Track\" as E21  <<(T,blue)action def>> [[psysml:cfa7de16-efc2-48a1-afea-591a210eefdb ]] {\r\n",
       "}\r\n",
       "comp def \"Retrieve Identification of Music Track\" as E22  <<(T,blue)action def>> [[psysml:b8dccae6-909f-4be0-bd05-dd8e3abbdafb ]] {\r\n",
       "}\r\n",
       "comp def \"Retrieve Money\" as E23  <<(T,blue)action def>> [[psysml:aa52e813-4bf9-4529-89e0-70b8b6fe0d19 ]] {\r\n",
       "}\r\n",
       "comp def \"Supply Jukebox with Energy\" as E24  <<(T,blue)action def>> [[psysml:a688ecd3-960c-47e5-9b3d-ba95e83f8e97 ]] {\r\n",
       "}\r\n",
       "comp def \"Transform Mechanical Engery into Something Harmless\" as E25  <<(T,blue)action def>> [[psysml:b255a280-7311-43b9-8b52-36662fdc1f0d ]] {\r\n",
       "}\r\n",
       "comp def \"Uninstall Jukebox\" as E26  <<(T,blue)action def>> [[psysml:5e55d891-6658-40e5-902a-b6f89a8ae30e ]] {\r\n",
       "}\r\n",
       "comp def \"Use Means of Music Transfer to Retrieve Music\" as E27  <<(T,blue)action def>> [[psysml:a6d68485-656a-490b-944b-c7e8b8b3ffb2 ]] {\r\n",
       "}\r\n",
       "}\r\n",
       "package \"DomainKnowledge\" as E28  [[psysml:30323c7e-a274-467f-be9b-29045c98645c ]]  {\r\n",
       "comp def \"AudioSignal\" as E29  <<(T,blue)item def>> [[psysml:7b9a0cb8-90ae-4216-ba8f-38ef2162c6d9 ]] {\r\n",
       "}\r\n",
       "comp def \"ClearanceToPlayMusic\" as E30  <<(T,blue)item def>> [[psysml:d75029e3-6a38-4bfa-8cc7-cda38c45aa81 ]] {\r\n",
       "}\r\n",
       "comp def \"ElectricalEnergy\" as E31  <<(T,blue)item def>> [[psysml:a423c0ad-cc5c-489c-9ff4-db4a39fd33a1 ]] {\r\n",
       "}\r\n",
       "comp def \"IdentificationOfMusicTrack\" as E32  <<(T,blue)item def>> [[psysml:a8b799ad-c6b8-42d9-8c92-7a435e1f0272 ]] {\r\n",
       "}\r\n",
       "comp def \"MechanicalEnergy\" as E33  <<(T,blue)item def>> [[psysml:7a7d588e-36ad-4534-99cf-9c5caf6ecbc6 ]] {\r\n",
       "}\r\n",
       "comp def \"Money\" as E34  <<(T,blue)item def>> [[psysml:2880305f-e779-48e4-9680-4cf241a6d60c ]] {\r\n",
       "}\r\n",
       "comp def \"MusicTrack\" as E35  <<(T,blue)item def>> [[psysml:a69bb768-bc55-4433-a98a-d927cb376455 ]] {\r\n",
       "}\r\n",
       "}\r\n",
       "package \"FunctionalArchitecture\" as E36  [[psysml:a04d72b4-8a87-4977-954d-46c5acd1774a ]]  {\r\n",
       "package \"FunctionalInterfaces\" as E37  [[psysml:d62a3bc4-f9fb-4fb3-95ae-a81d194bf80a ]]  {\r\n",
       "comp def \"AudioSignalPort\" as E38  <<(T,blue)port def>> [[psysml:f8197a1a-ec9f-484c-b98b-c7e49788285d ]] {\r\n",
       "- - items - -\r\n",
       "a: AudioSignal\r\n",
       "}\r\n",
       "comp def \"ClearanceToPlayMusicPort\" as E40  <<(T,blue)port def>> [[psysml:f295bbed-cc9e-49a4-93e4-490f97ecc4bf ]] {\r\n",
       "- - items - -\r\n",
       "m: ClearanceToPlayMusic\r\n",
       "}\r\n",
       "comp def \"ElectricalEnergyPort\" as E42  <<(T,blue)port def>> [[psysml:b3305aa6-5567-4946-af6f-083264303f58 ]] {\r\n",
       "- - items - -\r\n",
       "e: ElectricalEnergy\r\n",
       "}\r\n",
       "comp def \"IdentificationOfMusicTrackPort\" as E44  <<(T,blue)port def>> [[psysml:88ff8a73-9a1c-40c8-b79e-3c592cb70028 ]] {\r\n",
       "- - items - -\r\n",
       "m: IdentificationOfMusicTrack\r\n",
       "}\r\n",
       "comp def \"MechanicalEnergyPort\" as E46  <<(T,blue)port def>> [[psysml:3b5b6279-2b22-486d-9b1c-c8461c2047ca ]] {\r\n",
       "- - items - -\r\n",
       "m: MechanicalEnergy\r\n",
       "}\r\n",
       "comp def \"MoneyPort\" as E48  <<(T,blue)port def>> [[psysml:c67c8730-ef54-478d-9cc3-0f047ac58f26 ]] {\r\n",
       "- - items - -\r\n",
       "m: Money\r\n",
       "}\r\n",
       "comp def \"MusicTrackPort\" as E50  <<(T,blue)port def>> [[psysml:180aa2db-8f1e-4bb8-bd02-a5570b768943 ]] {\r\n",
       "- - items - -\r\n",
       "m: MusicTrack\r\n",
       "}\r\n",
       "}\r\n",
       "comp usage \"TheFASJukeBoxFunctionalContext\" as E52  <<(T,blue)part>> [[psysml:5917708f-100d-47cd-8ab5-ce2addca15e3 ]] {\r\n",
       "}\r\n",
       "comp usage \"TheFASJukeBoxFunctionalArchitecture\" as E53  <<(T,blue)part>> [[psysml:33d4680a-a9e8-487c-ae88-8905c746417c ]] {\r\n",
       "}\r\n",
       "comp usage \"I/O Customer: FunctionalBlock\" as E54  <<(T,blue)part>> [[psysml:eab38ea9-a866-41ac-91a0-b891156d65a5 ]] {\r\n",
       "- - ports - -\r\n",
       "p1: MoneyPort\r\n",
       "p2: ~AudioSignalPort\r\n",
       "p3: IdentificationOfMusicTrackPort\r\n",
       "}\r\n",
       "comp usage \"I/O Electrical Supply: FunctionalBlock\" as E58  <<(T,blue)part>> [[psysml:43a110a9-32bf-40af-8368-a121575e6e34 ]] {\r\n",
       "- - ports - -\r\n",
       "p1: ElectricalEnergyPort\r\n",
       "}\r\n",
       "comp usage \"I/O Music Supplier: FunctionalBlock\" as E60  <<(T,blue)part>> [[psysml:90f1d61b-8c9d-4301-b730-9447639de9bc ]] {\r\n",
       "- - ports - -\r\n",
       "p1: MusicTrackPort\r\n",
       "}\r\n",
       "comp usage \"I/O Pub Interior: FunctionalBlock\" as E62  <<(T,blue)part>> [[psysml:19d6896a-b2d7-4c61-8d11-be935094248f ]] {\r\n",
       "- - ports - -\r\n",
       "p1: MechanicalEnergyPort\r\n",
       "}\r\n",
       "comp usage \"I/O Pub Manager: FunctionalBlock\" as E64  <<(T,blue)part>> [[psysml:90d1eaf7-a653-4514-bb6b-feb2fc856dd5 ]] {\r\n",
       "- - ports - -\r\n",
       "p1: IdentificationOfMusicTrackPort\r\n",
       "}\r\n",
       "comp usage \"Accounting: FunctionalBlock\" as E66  <<(T,blue)part>> [[psysml:aaa4028c-b8b6-4b75-9210-2a8dcb4c89c9 ]] {\r\n",
       "- - ports - -\r\n",
       "p1: ClearanceToPlayMusicPort\r\n",
       "p2: ~MoneyPort\r\n",
       "}\r\n",
       "comp usage \"Energy Distribution: FunctionalBlock\" as E69  <<(T,blue)part>> [[psysml:df7b056c-a2a7-4efa-a502-cd18c1923ebc ]] {\r\n",
       "- - ports - -\r\n",
       "p1: ~ElectricalEnergyPort\r\n",
       "}\r\n",
       "comp usage \"Music Player: FunctionalBlock\" as E71  <<(T,blue)part>> [[psysml:c8fc11d3-2523-4ecb-b4c3-5ed57a7169a2 ]] {\r\n",
       "- - ports - -\r\n",
       "p1: AudioSignalPort\r\n",
       "}\r\n",
       "comp usage \"Music Storage: FunctionalBlock\" as E73  <<(T,blue)part>> [[psysml:b15916ae-0ad7-4b3a-a46f-8a020be1c15c ]] {\r\n",
       "- - ports - -\r\n",
       "p1: ~IdentificationOfMusicTrackPort\r\n",
       "p2: ~MusicTrackPort\r\n",
       "p3: ClearanceToPlayMusicPort\r\n",
       "}\r\n",
       "comp usage \"Suspension: FunctionalBlock\" as E77  <<(T,blue)part>> [[psysml:20415235-65c0-402f-b5ea-3f8fb79140e3 ]] {\r\n",
       "- - ports - -\r\n",
       "p1: ~MechanicalEnergyPort\r\n",
       "}\r\n",
       "comp usage \"Customer: User\" as E79  <<(T,blue)part>> [[psysml:55d77672-7b13-4920-92c7-dc3fe05c02c3 ]] {\r\n",
       "}\r\n",
       "comp usage \"Pub Manager: User\" as E80  <<(T,blue)part>> [[psysml:c88ab6cd-71a6-4627-a469-487a230acc17 ]] {\r\n",
       "}\r\n",
       "comp usage \"Music Supplier: ExternalSystem\" as E81  <<(T,blue)part>> [[psysml:a5606886-d166-472c-b7b8-c598714f344e ]] {\r\n",
       "}\r\n",
       "comp usage \"Electrical Supply: ExternalSystem\" as E82  <<(T,blue)part>> [[psysml:63347ea3-50d8-4ca9-89ac-69e39bfb3995 ]] {\r\n",
       "}\r\n",
       "comp usage \"Pub Interior: ExternalSystem\" as E83  <<(T,blue)part>> [[psysml:11ce706f-a206-4ff2-b4ed-3741d9d15197 ]] {\r\n",
       "}\r\n",
       "E52 *- - E53 [[psysml:33d4680a-a9e8-487c-ae88-8905c746417c ]] \r\n",
       "E53 ..>> E5 [[psysml:bc11476c-040b-485a-aea9-8a5e041fe6ac ]] : <<depend>>\r\n",
       "E53 ..>> E7 [[psysml:1454414f-715a-45a2-9aae-a734b1846b95 ]] : <<depend>>\r\n",
       "E53 ..>> E16 [[psysml:c11a54e2-fe4b-4cbe-8317-c52209d2829c ]] : <<depend>>\r\n",
       "E53 ..>> E24 [[psysml:38cad844-e5f2-4198-a932-342aca0abcbb ]] : <<depend>>\r\n",
       "E54 - -:|> E3 [[psysml:9e8a0dcc-d75a-4cfe-907a-c34b4a38b035 ]] \r\n",
       "E53 *- - E54 [[psysml:eab38ea9-a866-41ac-91a0-b891156d65a5 ]] \r\n",
       "E54 ..>> E6 [[psysml:ca8897d3-51a0-4464-a81e-b200d550eb9a ]] : <<depend>>\r\n",
       "E54 ..>> E13 [[psysml:f872cdc3-805a-45a1-aff6-60596dd372fe ]] : <<depend>>\r\n",
       "E54 ..>> E20 [[psysml:680ee066-8f1e-497a-929a-b0bafdcaa9ea ]] : <<depend>>\r\n",
       "E58 - -:|> E3 [[psysml:b8fddb05-3085-42cd-ba77-5555dc87bfd1 ]] \r\n",
       "E53 *- - E58 [[psysml:43a110a9-32bf-40af-8368-a121575e6e34 ]] \r\n",
       "E58 ..>> E11 [[psysml:3879d23b-d74a-4254-8145-df5c21c13fe1 ]] : <<depend>>\r\n",
       "E60 - -:|> E3 [[psysml:89b9753b-71a2-462d-bb40-492eb28a58a5 ]] \r\n",
       "E53 *- - E60 [[psysml:90f1d61b-8c9d-4301-b730-9447639de9bc ]] \r\n",
       "E60 ..>> E27 [[psysml:c1e41af3-67de-4cd6-8cca-e14b382692dc ]] : <<depend>>\r\n",
       "E62 - -:|> E3 [[psysml:3fe6082a-393d-4723-aeac-06cb8721185c ]] \r\n",
       "E53 *- - E62 [[psysml:19d6896a-b2d7-4c61-8d11-be935094248f ]] \r\n",
       "E62 ..>> E12 [[psysml:702ec4e9-e03c-4718-9c69-15778ade96f6 ]] : <<depend>>\r\n",
       "E64 - -:|> E3 [[psysml:49cd070c-0ca1-43e8-a4b1-7b0b4e507b58 ]] \r\n",
       "E53 *- - E64 [[psysml:90d1eaf7-a653-4514-bb6b-feb2fc856dd5 ]] \r\n",
       "E64 ..>> E8 [[psysml:686da0bb-ea61-4ea1-a3ee-ae72f59d8e3e ]] : <<depend>>\r\n",
       "E64 ..>> E9 [[psysml:0c306a8a-0e56-4be3-9479-39a1644e57b7 ]] : <<depend>>\r\n",
       "E64 ..>> E14 [[psysml:db0b9403-67b2-42fa-b17e-a8defc9e2f5a ]] : <<depend>>\r\n",
       "E64 ..>> E22 [[psysml:be45cd9a-683d-45db-936c-8f5478f10258 ]] : <<depend>>\r\n",
       "E66 - -:|> E3 [[psysml:397e8d9e-ec87-4f00-ac27-45d061c5c582 ]] \r\n",
       "E53 *- - E66 [[psysml:aaa4028c-b8b6-4b75-9210-2a8dcb4c89c9 ]] \r\n",
       "E66 ..>> E18 [[psysml:87260f02-6ed1-4305-9f86-035f5ea8e982 ]] : <<depend>>\r\n",
       "E69 - -:|> E3 [[psysml:2e0ceea7-7d40-4f64-9635-e396d696bbad ]] \r\n",
       "E53 *- - E69 [[psysml:df7b056c-a2a7-4efa-a502-cd18c1923ebc ]] \r\n",
       "E69 ..>> E10 [[psysml:0955b073-7156-4d76-83c1-1317b529e8b1 ]] : <<depend>>\r\n",
       "E71 - -:|> E3 [[psysml:ac81dbb1-ac21-4958-b6e3-f338db573516 ]] \r\n",
       "E53 *- - E71 [[psysml:c8fc11d3-2523-4ecb-b4c3-5ed57a7169a2 ]] \r\n",
       "E71 ..>> E19 [[psysml:11ddb989-37dc-4f0b-88c7-a1a0b1891a48 ]] : <<depend>>\r\n",
       "E73 - -:|> E3 [[psysml:f564d1aa-8954-4fc1-9f6b-2b0d5d5e5899 ]] \r\n",
       "E53 *- - E73 [[psysml:b15916ae-0ad7-4b3a-a46f-8a020be1c15c ]] \r\n",
       "E73 ..>> E17 [[psysml:f3d6e7f8-2785-47bf-9a9b-e01746fd6e20 ]] : <<depend>>\r\n",
       "E73 ..>> E21 [[psysml:e2c57cd0-aa48-42d0-8b7e-c055d4b2bd3b ]] : <<depend>>\r\n",
       "E77 - -:|> E3 [[psysml:bd5b7520-0071-4d74-93ac-a4b9f6c46fe5 ]] \r\n",
       "E53 *- - E77 [[psysml:20415235-65c0-402f-b5ea-3f8fb79140e3 ]] \r\n",
       "E77 ..>> E26 [[psysml:845d124a-5842-4c43-a0c5-d2332107efc9 ]] : <<depend>>\r\n",
       "E52 *- - E79 [[psysml:55d77672-7b13-4920-92c7-dc3fe05c02c3 ]] \r\n",
       "E52 *- - E80 [[psysml:c88ab6cd-71a6-4627-a469-487a230acc17 ]] \r\n",
       "E52 *- - E81 [[psysml:a5606886-d166-472c-b7b8-c598714f344e ]] \r\n",
       "E52 *- - E82 [[psysml:63347ea3-50d8-4ca9-89ac-69e39bfb3995 ]] \r\n",
       "E52 *- - E83 [[psysml:11ce706f-a206-4ff2-b4ed-3741d9d15197 ]] \r\n",
       "}\r\n",
       "}\r\n",
       "@enduml\r\n",
       "\n",
       "PlantUML version 1.2020.13(Sat Jun 13 14:26:38 CEST 2020)\n",
       "(EPL source distribution)\n",
       "Java Runtime: OpenJDK Runtime Environment\n",
       "JVM: OpenJDK 64-Bit Server VM\n",
       "Default Encoding: Cp1252\n",
       "Language: en\n",
       "Country: US\n",
       "--></g></svg>"
      ]
     },
     "execution_count": 87,
     "metadata": {},
     "output_type": "execute_result"
    }
   ],
   "source": [
    "%viz --view=tree TheFASJukeBox"
   ]
  },
  {
   "cell_type": "code",
   "execution_count": 50,
   "metadata": {},
   "outputs": [
    {
     "data": {
      "image/svg+xml": [
       "<?xml version=\"1.0\" encoding=\"UTF-8\" standalone=\"no\"?><svg xmlns=\"http://www.w3.org/2000/svg\" xmlns:xlink=\"http://www.w3.org/1999/xlink\" contentScriptType=\"application/ecmascript\" contentStyleType=\"text/css\" height=\"420px\" preserveAspectRatio=\"none\" style=\"width:3920px;height:420px;\" version=\"1.1\" viewBox=\"0 0 3920 420\" width=\"3920px\" zoomAndPan=\"magnify\"><defs/><g><!--MD5=[fbc87193dbaf4d95561dea2c320d4a47]\n",
       "cluster E1--><a href=\"psysml:f2e6fd16-3f5a-48b2-af8b-086ff99099d6\" target=\"_top\" title=\"psysml:f2e6fd16-3f5a-48b2-af8b-086ff99099d6\" xlink:actuate=\"onRequest\" xlink:href=\"psysml:f2e6fd16-3f5a-48b2-af8b-086ff99099d6\" xlink:show=\"new\" xlink:title=\"psysml:f2e6fd16-3f5a-48b2-af8b-086ff99099d6\" xlink:type=\"simple\"><rect fill=\"#FFFFFF\" height=\"402\" id=\"E1\" rx=\"10\" ry=\"10\" style=\"stroke: #383838; stroke-width: 1.5;\" width=\"3901\" x=\"7\" y=\"7\"/><rect fill=\"#F8F8F8\" height=\"25.0938\" rx=\"10\" ry=\"10\" style=\"stroke: #F8F8F8; stroke-width: 1.5;\" width=\"3901\" x=\"7\" y=\"7\"/><rect fill=\"#F8F8F8\" height=\"10\" style=\"stroke: #F8F8F8; stroke-width: 1.5;\" width=\"3901\" x=\"7\" y=\"22.0938\"/><rect fill=\"none\" height=\"402\" id=\"E1\" rx=\"10\" ry=\"10\" style=\"stroke: #383838; stroke-width: 1.5;\" width=\"3901\" x=\"7\" y=\"7\"/><text fill=\"#000000\" font-family=\"sans-serif\" font-size=\"12\" lengthAdjust=\"spacingAndGlyphs\" textLength=\"187\" x=\"1864\" y=\"24.457\">TheFASJukeBoxFunctionalContext</text><line style=\"stroke: #383838; stroke-width: 1.0;\" x1=\"7\" x2=\"3908\" y1=\"32.0938\" y2=\"32.0938\"/></a><!--MD5=[e4f7fae6ed58524ba242bb0b0d3be6b7]\n",
       "cluster E2--><a href=\"psysml:036e3b03-63c5-4cd2-81b1-aef615651c69\" target=\"_top\" title=\"psysml:036e3b03-63c5-4cd2-81b1-aef615651c69\" xlink:actuate=\"onRequest\" xlink:href=\"psysml:036e3b03-63c5-4cd2-81b1-aef615651c69\" xlink:show=\"new\" xlink:title=\"psysml:036e3b03-63c5-4cd2-81b1-aef615651c69\" xlink:type=\"simple\"><rect fill=\"#FFFFFF\" height=\"334\" id=\"E2\" rx=\"10\" ry=\"10\" style=\"stroke: #383838; stroke-width: 1.5;\" width=\"3234\" x=\"31\" y=\"51\"/><rect fill=\"#F8F8F8\" height=\"25.0938\" rx=\"10\" ry=\"10\" style=\"stroke: #F8F8F8; stroke-width: 1.5;\" width=\"3234\" x=\"31\" y=\"51\"/><rect fill=\"#F8F8F8\" height=\"10\" style=\"stroke: #F8F8F8; stroke-width: 1.5;\" width=\"3234\" x=\"31\" y=\"66.0938\"/><rect fill=\"none\" height=\"334\" id=\"E2\" rx=\"10\" ry=\"10\" style=\"stroke: #383838; stroke-width: 1.5;\" width=\"3234\" x=\"31\" y=\"51\"/><text fill=\"#000000\" font-family=\"sans-serif\" font-size=\"12\" lengthAdjust=\"spacingAndGlyphs\" textLength=\"210\" x=\"1543\" y=\"68.457\">TheFASJukeBoxFunctionalArchitecture</text><line style=\"stroke: #383838; stroke-width: 1.0;\" x1=\"31\" x2=\"3265\" y1=\"76.0938\" y2=\"76.0938\"/></a><!--MD5=[d5e69f78d87373223dbae638b30a9c99]\n",
       "cluster E3--><a href=\"psysml:59ece546-c3bc-48a1-8a40-c3cdba27f5ae\" target=\"_top\" title=\"psysml:59ece546-c3bc-48a1-8a40-c3cdba27f5ae\" xlink:actuate=\"onRequest\" xlink:href=\"psysml:59ece546-c3bc-48a1-8a40-c3cdba27f5ae\" xlink:show=\"new\" xlink:title=\"psysml:59ece546-c3bc-48a1-8a40-c3cdba27f5ae\" xlink:type=\"simple\"><rect fill=\"#FFFFFF\" height=\"110\" id=\"E3\" rx=\"10\" ry=\"10\" style=\"stroke: #383838; stroke-width: 1.5;\" width=\"492\" x=\"317\" y=\"197\"/><rect fill=\"#F8F8F8\" height=\"25.0938\" rx=\"10\" ry=\"10\" style=\"stroke: #F8F8F8; stroke-width: 1.5;\" width=\"492\" x=\"317\" y=\"197\"/><rect fill=\"#F8F8F8\" height=\"10\" style=\"stroke: #F8F8F8; stroke-width: 1.5;\" width=\"492\" x=\"317\" y=\"212.0938\"/><rect fill=\"none\" height=\"110\" id=\"E3\" rx=\"10\" ry=\"10\" style=\"stroke: #383838; stroke-width: 1.5;\" width=\"492\" x=\"317\" y=\"197\"/><text fill=\"#000000\" font-family=\"sans-serif\" font-size=\"12\" lengthAdjust=\"spacingAndGlyphs\" textLength=\"166\" x=\"480\" y=\"214.457\">I/O Customer: FunctionalBlock</text><line style=\"stroke: #383838; stroke-width: 1.0;\" x1=\"317\" x2=\"809\" y1=\"222.0938\" y2=\"222.0938\"/></a><!--MD5=[168fadf3d0c3fd93dd5d6da1b1d7ab76]\n",
       "cluster E7--><a href=\"psysml:49bf4ddd-07cb-4bac-bf7c-5308d118e704\" target=\"_top\" title=\"psysml:49bf4ddd-07cb-4bac-bf7c-5308d118e704\" xlink:actuate=\"onRequest\" xlink:href=\"psysml:49bf4ddd-07cb-4bac-bf7c-5308d118e704\" xlink:show=\"new\" xlink:title=\"psysml:49bf4ddd-07cb-4bac-bf7c-5308d118e704\" xlink:type=\"simple\"><rect fill=\"#FFFFFF\" height=\"94\" id=\"E7\" rx=\"10\" ry=\"10\" style=\"stroke: #383838; stroke-width: 1.5;\" width=\"270\" x=\"2986\" y=\"137\"/><rect fill=\"#F8F8F8\" height=\"25.0938\" rx=\"10\" ry=\"10\" style=\"stroke: #F8F8F8; stroke-width: 1.5;\" width=\"270\" x=\"2986\" y=\"137\"/><rect fill=\"#F8F8F8\" height=\"10\" style=\"stroke: #F8F8F8; stroke-width: 1.5;\" width=\"270\" x=\"2986\" y=\"152.0938\"/><rect fill=\"none\" height=\"94\" id=\"E7\" rx=\"10\" ry=\"10\" style=\"stroke: #383838; stroke-width: 1.5;\" width=\"270\" x=\"2986\" y=\"137\"/><text fill=\"#000000\" font-family=\"sans-serif\" font-size=\"12\" lengthAdjust=\"spacingAndGlyphs\" textLength=\"201\" x=\"3020.5\" y=\"154.457\">I/O Electrical Supply: FunctionalBlock</text><line style=\"stroke: #383838; stroke-width: 1.0;\" x1=\"2986\" x2=\"3256\" y1=\"162.0938\" y2=\"162.0938\"/></a><!--MD5=[7f149f147074ac12df2cb0a7728a5fb0]\n",
       "cluster E9--><a href=\"psysml:20516aba-9b24-4a39-9da3-3fc9f3ef0a6e\" target=\"_top\" title=\"psysml:20516aba-9b24-4a39-9da3-3fc9f3ef0a6e\" xlink:actuate=\"onRequest\" xlink:href=\"psysml:20516aba-9b24-4a39-9da3-3fc9f3ef0a6e\" xlink:show=\"new\" xlink:title=\"psysml:20516aba-9b24-4a39-9da3-3fc9f3ef0a6e\" xlink:type=\"simple\"><rect fill=\"#FFFFFF\" height=\"94\" id=\"E9\" rx=\"10\" ry=\"10\" style=\"stroke: #383838; stroke-width: 1.5;\" width=\"259\" x=\"1155\" y=\"137\"/><rect fill=\"#F8F8F8\" height=\"25.0938\" rx=\"10\" ry=\"10\" style=\"stroke: #F8F8F8; stroke-width: 1.5;\" width=\"259\" x=\"1155\" y=\"137\"/><rect fill=\"#F8F8F8\" height=\"10\" style=\"stroke: #F8F8F8; stroke-width: 1.5;\" width=\"259\" x=\"1155\" y=\"152.0938\"/><rect fill=\"none\" height=\"94\" id=\"E9\" rx=\"10\" ry=\"10\" style=\"stroke: #383838; stroke-width: 1.5;\" width=\"259\" x=\"1155\" y=\"137\"/><text fill=\"#000000\" font-family=\"sans-serif\" font-size=\"12\" lengthAdjust=\"spacingAndGlyphs\" textLength=\"192\" x=\"1188.5\" y=\"154.457\">I/O Music Supplier: FunctionalBlock</text><line style=\"stroke: #383838; stroke-width: 1.0;\" x1=\"1155\" x2=\"1414\" y1=\"162.0938\" y2=\"162.0938\"/></a><!--MD5=[917b9dd0c7eca3ee5f47219d1a84c0ad]\n",
       "cluster E11--><a href=\"psysml:eaae3fc1-f0de-4985-8262-a8fb3c23a4da\" target=\"_top\" title=\"psysml:eaae3fc1-f0de-4985-8262-a8fb3c23a4da\" xlink:actuate=\"onRequest\" xlink:href=\"psysml:eaae3fc1-f0de-4985-8262-a8fb3c23a4da\" xlink:show=\"new\" xlink:title=\"psysml:eaae3fc1-f0de-4985-8262-a8fb3c23a4da\" xlink:type=\"simple\"><rect fill=\"#FFFFFF\" height=\"94\" id=\"E11\" rx=\"10\" ry=\"10\" style=\"stroke: #383838; stroke-width: 1.5;\" width=\"237\" x=\"1554.5625\" y=\"137\"/><rect fill=\"#F8F8F8\" height=\"25.0938\" rx=\"10\" ry=\"10\" style=\"stroke: #F8F8F8; stroke-width: 1.5;\" width=\"237\" x=\"1554.5625\" y=\"137\"/><rect fill=\"#F8F8F8\" height=\"10\" style=\"stroke: #F8F8F8; stroke-width: 1.5;\" width=\"237\" x=\"1554.5625\" y=\"152.0938\"/><rect fill=\"none\" height=\"94\" id=\"E11\" rx=\"10\" ry=\"10\" style=\"stroke: #383838; stroke-width: 1.5;\" width=\"237\" x=\"1554.5625\" y=\"137\"/><text fill=\"#000000\" font-family=\"sans-serif\" font-size=\"12\" lengthAdjust=\"spacingAndGlyphs\" textLength=\"174\" x=\"1586.0625\" y=\"154.457\">I/O Pub Interior: FunctionalBlock</text><line style=\"stroke: #383838; stroke-width: 1.0;\" x1=\"1554.5625\" x2=\"1791.5625\" y1=\"162.0938\" y2=\"162.0938\"/></a><!--MD5=[03104f77b71e2d8d3500c651e6e31181]\n",
       "cluster E13--><a href=\"psysml:b0f7ea4c-dc1d-418b-aaab-ab9e8b7bf23b\" target=\"_top\" title=\"psysml:b0f7ea4c-dc1d-418b-aaab-ab9e8b7bf23b\" xlink:actuate=\"onRequest\" xlink:href=\"psysml:b0f7ea4c-dc1d-418b-aaab-ab9e8b7bf23b\" xlink:show=\"new\" xlink:title=\"psysml:b0f7ea4c-dc1d-418b-aaab-ab9e8b7bf23b\" xlink:type=\"simple\"><rect fill=\"#FFFFFF\" height=\"110\" id=\"E13\" rx=\"10\" ry=\"10\" style=\"stroke: #383838; stroke-width: 1.5;\" width=\"247\" x=\"829\" y=\"197\"/><rect fill=\"#F8F8F8\" height=\"25.0938\" rx=\"10\" ry=\"10\" style=\"stroke: #F8F8F8; stroke-width: 1.5;\" width=\"247\" x=\"829\" y=\"197\"/><rect fill=\"#F8F8F8\" height=\"10\" style=\"stroke: #F8F8F8; stroke-width: 1.5;\" width=\"247\" x=\"829\" y=\"212.0938\"/><rect fill=\"none\" height=\"110\" id=\"E13\" rx=\"10\" ry=\"10\" style=\"stroke: #383838; stroke-width: 1.5;\" width=\"247\" x=\"829\" y=\"197\"/><text fill=\"#000000\" font-family=\"sans-serif\" font-size=\"12\" lengthAdjust=\"spacingAndGlyphs\" textLength=\"184\" x=\"860.5\" y=\"214.457\">I/O Pub Manager: FunctionalBlock</text><line style=\"stroke: #383838; stroke-width: 1.0;\" x1=\"829\" x2=\"1076\" y1=\"222.0938\" y2=\"222.0938\"/></a><!--MD5=[ab3548ab6224ff035c4047a4d30b7567]\n",
       "cluster E15--><a href=\"psysml:21f9698a-f3b2-4b62-9d9b-d5fefce9fe09\" target=\"_top\" title=\"psysml:21f9698a-f3b2-4b62-9d9b-d5fefce9fe09\" xlink:actuate=\"onRequest\" xlink:href=\"psysml:21f9698a-f3b2-4b62-9d9b-d5fefce9fe09\" xlink:show=\"new\" xlink:title=\"psysml:21f9698a-f3b2-4b62-9d9b-d5fefce9fe09\" xlink:type=\"simple\"><rect fill=\"#FFFFFF\" height=\"94\" id=\"E15\" rx=\"10\" ry=\"10\" style=\"stroke: #383838; stroke-width: 1.5;\" width=\"244\" x=\"2313\" y=\"137\"/><rect fill=\"#F8F8F8\" height=\"25.0938\" rx=\"10\" ry=\"10\" style=\"stroke: #F8F8F8; stroke-width: 1.5;\" width=\"244\" x=\"2313\" y=\"137\"/><rect fill=\"#F8F8F8\" height=\"10\" style=\"stroke: #F8F8F8; stroke-width: 1.5;\" width=\"244\" x=\"2313\" y=\"152.0938\"/><rect fill=\"none\" height=\"94\" id=\"E15\" rx=\"10\" ry=\"10\" style=\"stroke: #383838; stroke-width: 1.5;\" width=\"244\" x=\"2313\" y=\"137\"/><text fill=\"#000000\" font-family=\"sans-serif\" font-size=\"12\" lengthAdjust=\"spacingAndGlyphs\" textLength=\"153\" x=\"2358.5\" y=\"154.457\">Accounting: FunctionalBlock</text><line style=\"stroke: #383838; stroke-width: 1.0;\" x1=\"2313\" x2=\"2557\" y1=\"162.0938\" y2=\"162.0938\"/></a><!--MD5=[8f9210536e795b388518d3fe69e1cfa6]\n",
       "cluster E18--><a href=\"psysml:302b8151-b166-4f54-baa3-e9f64b9d41c0\" target=\"_top\" title=\"psysml:302b8151-b166-4f54-baa3-e9f64b9d41c0\" xlink:actuate=\"onRequest\" xlink:href=\"psysml:302b8151-b166-4f54-baa3-e9f64b9d41c0\" xlink:show=\"new\" xlink:title=\"psysml:302b8151-b166-4f54-baa3-e9f64b9d41c0\" xlink:type=\"simple\"><rect fill=\"#FFFFFF\" height=\"62\" id=\"E18\" rx=\"10\" ry=\"10\" style=\"stroke: #383838; stroke-width: 1.5;\" width=\"266\" x=\"2597\" y=\"101\"/><rect fill=\"#F8F8F8\" height=\"25.0938\" rx=\"10\" ry=\"10\" style=\"stroke: #F8F8F8; stroke-width: 1.5;\" width=\"266\" x=\"2597\" y=\"101\"/><rect fill=\"#F8F8F8\" height=\"10\" style=\"stroke: #F8F8F8; stroke-width: 1.5;\" width=\"266\" x=\"2597\" y=\"116.0938\"/><rect fill=\"none\" height=\"62\" id=\"E18\" rx=\"10\" ry=\"10\" style=\"stroke: #383838; stroke-width: 1.5;\" width=\"266\" x=\"2597\" y=\"101\"/><text fill=\"#000000\" font-family=\"sans-serif\" font-size=\"12\" lengthAdjust=\"spacingAndGlyphs\" textLength=\"197\" x=\"2631.5\" y=\"118.457\">Energy Distribution: FunctionalBlock</text><line style=\"stroke: #383838; stroke-width: 1.0;\" x1=\"2597\" x2=\"2863\" y1=\"126.0938\" y2=\"126.0938\"/></a><!--MD5=[1c41e8fd36bfdc40ba89cc99c68e74fc]\n",
       "cluster E20--><a href=\"psysml:97f16153-fd3d-4794-a3c7-6af8dffc0caf\" target=\"_top\" title=\"psysml:97f16153-fd3d-4794-a3c7-6af8dffc0caf\" xlink:actuate=\"onRequest\" xlink:href=\"psysml:97f16153-fd3d-4794-a3c7-6af8dffc0caf\" xlink:show=\"new\" xlink:title=\"psysml:97f16153-fd3d-4794-a3c7-6af8dffc0caf\" xlink:type=\"simple\"><rect fill=\"#FFFFFF\" height=\"96\" id=\"E20\" rx=\"10\" ry=\"10\" style=\"stroke: #383838; stroke-width: 1.5;\" width=\"220\" x=\"47\" y=\"273\"/><rect fill=\"#F8F8F8\" height=\"25.0938\" rx=\"10\" ry=\"10\" style=\"stroke: #F8F8F8; stroke-width: 1.5;\" width=\"220\" x=\"47\" y=\"273\"/><rect fill=\"#F8F8F8\" height=\"10\" style=\"stroke: #F8F8F8; stroke-width: 1.5;\" width=\"220\" x=\"47\" y=\"288.0938\"/><rect fill=\"none\" height=\"96\" id=\"E20\" rx=\"10\" ry=\"10\" style=\"stroke: #383838; stroke-width: 1.5;\" width=\"220\" x=\"47\" y=\"273\"/><text fill=\"#000000\" font-family=\"sans-serif\" font-size=\"12\" lengthAdjust=\"spacingAndGlyphs\" textLength=\"162\" x=\"76\" y=\"290.457\">Music Player: FunctionalBlock</text><line style=\"stroke: #383838; stroke-width: 1.0;\" x1=\"47\" x2=\"267\" y1=\"298.0938\" y2=\"298.0938\"/></a><!--MD5=[ab20031b5f5b330fca1652864e8cfe71]\n",
       "cluster E22--><a href=\"psysml:cbf26b7f-33c4-47d2-8525-eb9c04ce0eb9\" target=\"_top\" title=\"psysml:cbf26b7f-33c4-47d2-8525-eb9c04ce0eb9\" xlink:actuate=\"onRequest\" xlink:href=\"psysml:cbf26b7f-33c4-47d2-8525-eb9c04ce0eb9\" xlink:show=\"new\" xlink:title=\"psysml:cbf26b7f-33c4-47d2-8525-eb9c04ce0eb9\" xlink:type=\"simple\"><rect fill=\"#FFFFFF\" height=\"62\" id=\"E22\" rx=\"10\" ry=\"10\" style=\"stroke: #383838; stroke-width: 1.5;\" width=\"508\" x=\"1797\" y=\"101\"/><rect fill=\"#F8F8F8\" height=\"25.0938\" rx=\"10\" ry=\"10\" style=\"stroke: #F8F8F8; stroke-width: 1.5;\" width=\"508\" x=\"1797\" y=\"101\"/><rect fill=\"#F8F8F8\" height=\"10\" style=\"stroke: #F8F8F8; stroke-width: 1.5;\" width=\"508\" x=\"1797\" y=\"116.0938\"/><rect fill=\"none\" height=\"62\" id=\"E22\" rx=\"10\" ry=\"10\" style=\"stroke: #383838; stroke-width: 1.5;\" width=\"508\" x=\"1797\" y=\"101\"/><text fill=\"#000000\" font-family=\"sans-serif\" font-size=\"12\" lengthAdjust=\"spacingAndGlyphs\" textLength=\"171\" x=\"1965.5\" y=\"118.457\">Music Storage: FunctionalBlock</text><line style=\"stroke: #383838; stroke-width: 1.0;\" x1=\"1797\" x2=\"2305\" y1=\"126.0938\" y2=\"126.0938\"/></a><!--MD5=[dc75c50e9758de09bc45469de8601ca7]\n",
       "cluster E26--><a href=\"psysml:f0afabb0-0ca4-4664-99c5-ba17bb110178\" target=\"_top\" title=\"psysml:f0afabb0-0ca4-4664-99c5-ba17bb110178\" xlink:actuate=\"onRequest\" xlink:href=\"psysml:f0afabb0-0ca4-4664-99c5-ba17bb110178\" xlink:show=\"new\" xlink:title=\"psysml:f0afabb0-0ca4-4664-99c5-ba17bb110178\" xlink:type=\"simple\"><rect fill=\"#FFFFFF\" height=\"62\" id=\"E26\" rx=\"10\" ry=\"10\" style=\"stroke: #383838; stroke-width: 1.5;\" width=\"214\" x=\"829\" y=\"101\"/><rect fill=\"#F8F8F8\" height=\"25.0938\" rx=\"10\" ry=\"10\" style=\"stroke: #F8F8F8; stroke-width: 1.5;\" width=\"214\" x=\"829\" y=\"101\"/><rect fill=\"#F8F8F8\" height=\"10\" style=\"stroke: #F8F8F8; stroke-width: 1.5;\" width=\"214\" x=\"829\" y=\"116.0938\"/><rect fill=\"none\" height=\"62\" id=\"E26\" rx=\"10\" ry=\"10\" style=\"stroke: #383838; stroke-width: 1.5;\" width=\"214\" x=\"829\" y=\"101\"/><text fill=\"#000000\" font-family=\"sans-serif\" font-size=\"12\" lengthAdjust=\"spacingAndGlyphs\" textLength=\"160\" x=\"856\" y=\"118.457\">Suspension: FunctionalBlock</text><line style=\"stroke: #383838; stroke-width: 1.0;\" x1=\"829\" x2=\"1043\" y1=\"126.0938\" y2=\"126.0938\"/></a><text fill=\"#000000\" font-family=\"sans-serif\" font-size=\"14\" lengthAdjust=\"spacingAndGlyphs\" textLength=\"92\" x=\"289\" y=\"175.9238\">p1: MoneyPort</text><rect fill=\"#383838\" height=\"12\" style=\"stroke: #F8F8F8; stroke-width: 1.5;\" width=\"12\" x=\"329\" y=\"191\"/><text fill=\"#000000\" font-family=\"sans-serif\" font-size=\"14\" lengthAdjust=\"spacingAndGlyphs\" textLength=\"133\" x=\"496.5\" y=\"175.9238\">p2: ~AudioSignalPort</text><rect fill=\"#383838\" height=\"12\" style=\"stroke: #F8F8F8; stroke-width: 1.5;\" width=\"12\" x=\"557\" y=\"191\"/><text fill=\"#000000\" font-family=\"sans-serif\" font-size=\"14\" lengthAdjust=\"spacingAndGlyphs\" textLength=\"216\" x=\"683\" y=\"175.9238\">p3: IdentificationOfMusicTrackPort</text><rect fill=\"#383838\" height=\"12\" style=\"stroke: #F8F8F8; stroke-width: 1.5;\" width=\"12\" x=\"785\" y=\"191\"/><text fill=\"#000000\" font-family=\"sans-serif\" font-size=\"14\" lengthAdjust=\"spacingAndGlyphs\" textLength=\"152\" x=\"2929\" y=\"115.9238\">p1: ElectricalEnergyPort</text><rect fill=\"#383838\" height=\"12\" style=\"stroke: #F8F8F8; stroke-width: 1.5;\" width=\"12\" x=\"2999\" y=\"131\"/><text fill=\"#000000\" font-family=\"sans-serif\" font-size=\"14\" lengthAdjust=\"spacingAndGlyphs\" textLength=\"122\" x=\"1322\" y=\"115.9238\">p1: MusicTrackPort</text><rect fill=\"#383838\" height=\"12\" style=\"stroke: #F8F8F8; stroke-width: 1.5;\" width=\"12\" x=\"1377\" y=\"131\"/><text fill=\"#000000\" font-family=\"sans-serif\" font-size=\"14\" lengthAdjust=\"spacingAndGlyphs\" textLength=\"166\" x=\"1490\" y=\"115.9238\">p1: MechanicalEnergyPort</text><rect fill=\"#383838\" height=\"12\" style=\"stroke: #F8F8F8; stroke-width: 1.5;\" width=\"12\" x=\"1567\" y=\"131\"/><text fill=\"#000000\" font-family=\"sans-serif\" font-size=\"14\" lengthAdjust=\"spacingAndGlyphs\" textLength=\"216\" x=\"941\" y=\"175.9238\">p1: IdentificationOfMusicTrackPort</text><rect fill=\"#383838\" height=\"12\" style=\"stroke: #F8F8F8; stroke-width: 1.5;\" width=\"12\" x=\"1043\" y=\"191\"/><text fill=\"#000000\" font-family=\"sans-serif\" font-size=\"14\" lengthAdjust=\"spacingAndGlyphs\" textLength=\"195\" x=\"2233.5\" y=\"115.9238\">p1: ClearanceToPlayMusicPort</text><rect fill=\"#383838\" height=\"12\" style=\"stroke: #F8F8F8; stroke-width: 1.5;\" width=\"12\" x=\"2325\" y=\"131\"/><text fill=\"#000000\" font-family=\"sans-serif\" font-size=\"14\" lengthAdjust=\"spacingAndGlyphs\" textLength=\"100\" x=\"2489\" y=\"115.9238\">p2: ~MoneyPort</text><rect fill=\"#383838\" height=\"12\" style=\"stroke: #F8F8F8; stroke-width: 1.5;\" width=\"12\" x=\"2533\" y=\"131\"/><text fill=\"#000000\" font-family=\"sans-serif\" font-size=\"14\" lengthAdjust=\"spacingAndGlyphs\" textLength=\"160\" x=\"2738\" y=\"79.9238\">p1: ~ElectricalEnergyPort</text><rect fill=\"#383838\" height=\"12\" style=\"stroke: #F8F8F8; stroke-width: 1.5;\" width=\"12\" x=\"2812\" y=\"95\"/><text fill=\"#000000\" font-family=\"sans-serif\" font-size=\"14\" lengthAdjust=\"spacingAndGlyphs\" textLength=\"125\" x=\"170.5\" y=\"251.9238\">p1: AudioSignalPort</text><rect fill=\"#383838\" height=\"12\" style=\"stroke: #F8F8F8; stroke-width: 1.5;\" width=\"12\" x=\"227\" y=\"267\"/><text fill=\"#000000\" font-family=\"sans-serif\" font-size=\"14\" lengthAdjust=\"spacingAndGlyphs\" textLength=\"224\" x=\"1703\" y=\"79.9238\">p1: ~IdentificationOfMusicTrackPort</text><rect fill=\"#383838\" height=\"12\" style=\"stroke: #F8F8F8; stroke-width: 1.5;\" width=\"12\" x=\"1809\" y=\"95\"/><text fill=\"#000000\" font-family=\"sans-serif\" font-size=\"14\" lengthAdjust=\"spacingAndGlyphs\" textLength=\"130\" x=\"1986\" y=\"79.9238\">p2: ~MusicTrackPort</text><rect fill=\"#383838\" height=\"12\" style=\"stroke: #F8F8F8; stroke-width: 1.5;\" width=\"12\" x=\"2045\" y=\"95\"/><text fill=\"#000000\" font-family=\"sans-serif\" font-size=\"14\" lengthAdjust=\"spacingAndGlyphs\" textLength=\"195\" x=\"2189.5\" y=\"79.9238\">p3: ClearanceToPlayMusicPort</text><rect fill=\"#383838\" height=\"12\" style=\"stroke: #F8F8F8; stroke-width: 1.5;\" width=\"12\" x=\"2281\" y=\"95\"/><text fill=\"#000000\" font-family=\"sans-serif\" font-size=\"14\" lengthAdjust=\"spacingAndGlyphs\" textLength=\"174\" x=\"924\" y=\"79.9238\">p1: ~MechanicalEnergyPort</text><rect fill=\"#383838\" height=\"12\" style=\"stroke: #F8F8F8; stroke-width: 1.5;\" width=\"12\" x=\"1005\" y=\"95\"/><g id=\"E1.E28\"><a href=\"psysml:bf048ced-6fb4-4f41-918d-b5314fb946b6\" target=\"_top\" title=\"psysml:bf048ced-6fb4-4f41-918d-b5314fb946b6\" xlink:actuate=\"onRequest\" xlink:href=\"psysml:bf048ced-6fb4-4f41-918d-b5314fb946b6\" xlink:show=\"new\" xlink:title=\"psysml:bf048ced-6fb4-4f41-918d-b5314fb946b6\" xlink:type=\"simple\"><rect fill=\"#FFFFFF\" height=\"40\" id=\"E28\" rx=\"10\" ry=\"10\" style=\"stroke: #383838; stroke-width: 1.5;\" width=\"99\" x=\"3281.5\" y=\"323\"/><rect fill=\"#F8F8F8\" height=\"25.0938\" rx=\"10\" ry=\"10\" style=\"stroke: #F8F8F8; stroke-width: 1.5;\" width=\"99\" x=\"3281.5\" y=\"323\"/><rect fill=\"#F8F8F8\" height=\"10\" style=\"stroke: #F8F8F8; stroke-width: 1.5;\" width=\"99\" x=\"3281.5\" y=\"338.0938\"/><rect fill=\"none\" height=\"40\" id=\"E28\" rx=\"10\" ry=\"10\" style=\"stroke: #383838; stroke-width: 1.5;\" width=\"99\" x=\"3281.5\" y=\"323\"/><text fill=\"#000000\" font-family=\"sans-serif\" font-size=\"12\" lengthAdjust=\"spacingAndGlyphs\" textLength=\"88\" x=\"3287\" y=\"340.457\">Customer: User</text></a></g><g id=\"E1.E29\"><a href=\"psysml:0bb8ecd8-09d3-4f6e-baab-88b6b6b04418\" target=\"_top\" title=\"psysml:0bb8ecd8-09d3-4f6e-baab-88b6b6b04418\" xlink:actuate=\"onRequest\" xlink:href=\"psysml:0bb8ecd8-09d3-4f6e-baab-88b6b6b04418\" xlink:show=\"new\" xlink:title=\"psysml:0bb8ecd8-09d3-4f6e-baab-88b6b6b04418\" xlink:type=\"simple\"><rect fill=\"#FFFFFF\" height=\"40\" id=\"E29\" rx=\"10\" ry=\"10\" style=\"stroke: #383838; stroke-width: 1.5;\" width=\"117\" x=\"3415.5\" y=\"323\"/><rect fill=\"#F8F8F8\" height=\"25.0938\" rx=\"10\" ry=\"10\" style=\"stroke: #F8F8F8; stroke-width: 1.5;\" width=\"117\" x=\"3415.5\" y=\"323\"/><rect fill=\"#F8F8F8\" height=\"10\" style=\"stroke: #F8F8F8; stroke-width: 1.5;\" width=\"117\" x=\"3415.5\" y=\"338.0938\"/><rect fill=\"none\" height=\"40\" id=\"E29\" rx=\"10\" ry=\"10\" style=\"stroke: #383838; stroke-width: 1.5;\" width=\"117\" x=\"3415.5\" y=\"323\"/><text fill=\"#000000\" font-family=\"sans-serif\" font-size=\"12\" lengthAdjust=\"spacingAndGlyphs\" textLength=\"106\" x=\"3421\" y=\"340.457\">Pub Manager: User</text></a></g><g id=\"E1.E30\"><a href=\"psysml:3edc830f-6da7-4b30-98ea-0ce113f3e62e\" target=\"_top\" title=\"psysml:3edc830f-6da7-4b30-98ea-0ce113f3e62e\" xlink:actuate=\"onRequest\" xlink:href=\"psysml:3edc830f-6da7-4b30-98ea-0ce113f3e62e\" xlink:show=\"new\" xlink:title=\"psysml:3edc830f-6da7-4b30-98ea-0ce113f3e62e\" xlink:type=\"simple\"><rect fill=\"#FFFFFF\" height=\"40\" id=\"E30\" rx=\"10\" ry=\"10\" style=\"stroke: #383838; stroke-width: 1.5;\" width=\"183\" x=\"3281.5\" y=\"253\"/><rect fill=\"#F8F8F8\" height=\"25.0938\" rx=\"10\" ry=\"10\" style=\"stroke: #F8F8F8; stroke-width: 1.5;\" width=\"183\" x=\"3281.5\" y=\"253\"/><rect fill=\"#F8F8F8\" height=\"10\" style=\"stroke: #F8F8F8; stroke-width: 1.5;\" width=\"183\" x=\"3281.5\" y=\"268.0938\"/><rect fill=\"none\" height=\"40\" id=\"E30\" rx=\"10\" ry=\"10\" style=\"stroke: #383838; stroke-width: 1.5;\" width=\"183\" x=\"3281.5\" y=\"253\"/><text fill=\"#000000\" font-family=\"sans-serif\" font-size=\"12\" lengthAdjust=\"spacingAndGlyphs\" textLength=\"172\" x=\"3287\" y=\"270.457\">Music Supplier: ExternalSystem</text></a></g><g id=\"E1.E31\"><a href=\"psysml:a177ae23-c13c-47e4-b504-2731720d0d7d\" target=\"_top\" title=\"psysml:a177ae23-c13c-47e4-b504-2731720d0d7d\" xlink:actuate=\"onRequest\" xlink:href=\"psysml:a177ae23-c13c-47e4-b504-2731720d0d7d\" xlink:show=\"new\" xlink:title=\"psysml:a177ae23-c13c-47e4-b504-2731720d0d7d\" xlink:type=\"simple\"><rect fill=\"#FFFFFF\" height=\"40\" id=\"E31\" rx=\"10\" ry=\"10\" style=\"stroke: #383838; stroke-width: 1.5;\" width=\"192\" x=\"3700\" y=\"253\"/><rect fill=\"#F8F8F8\" height=\"25.0938\" rx=\"10\" ry=\"10\" style=\"stroke: #F8F8F8; stroke-width: 1.5;\" width=\"192\" x=\"3700\" y=\"253\"/><rect fill=\"#F8F8F8\" height=\"10\" style=\"stroke: #F8F8F8; stroke-width: 1.5;\" width=\"192\" x=\"3700\" y=\"268.0938\"/><rect fill=\"none\" height=\"40\" id=\"E31\" rx=\"10\" ry=\"10\" style=\"stroke: #383838; stroke-width: 1.5;\" width=\"192\" x=\"3700\" y=\"253\"/><text fill=\"#000000\" font-family=\"sans-serif\" font-size=\"12\" lengthAdjust=\"spacingAndGlyphs\" textLength=\"181\" x=\"3705.5\" y=\"270.457\">Electrical Supply: ExternalSystem</text></a></g><g id=\"E1.E32\"><a href=\"psysml:bf33aeff-25e6-4d5e-b259-00378ceb8e80\" target=\"_top\" title=\"psysml:bf33aeff-25e6-4d5e-b259-00378ceb8e80\" xlink:actuate=\"onRequest\" xlink:href=\"psysml:bf33aeff-25e6-4d5e-b259-00378ceb8e80\" xlink:show=\"new\" xlink:title=\"psysml:bf33aeff-25e6-4d5e-b259-00378ceb8e80\" xlink:type=\"simple\"><rect fill=\"#FFFFFF\" height=\"40\" id=\"E32\" rx=\"10\" ry=\"10\" style=\"stroke: #383838; stroke-width: 1.5;\" width=\"165\" x=\"3499.5\" y=\"253\"/><rect fill=\"#F8F8F8\" height=\"25.0938\" rx=\"10\" ry=\"10\" style=\"stroke: #F8F8F8; stroke-width: 1.5;\" width=\"165\" x=\"3499.5\" y=\"253\"/><rect fill=\"#F8F8F8\" height=\"10\" style=\"stroke: #F8F8F8; stroke-width: 1.5;\" width=\"165\" x=\"3499.5\" y=\"268.0938\"/><rect fill=\"none\" height=\"40\" id=\"E32\" rx=\"10\" ry=\"10\" style=\"stroke: #383838; stroke-width: 1.5;\" width=\"165\" x=\"3499.5\" y=\"253\"/><text fill=\"#000000\" font-family=\"sans-serif\" font-size=\"12\" lengthAdjust=\"spacingAndGlyphs\" textLength=\"154\" x=\"3505\" y=\"270.457\">Pub Interior: ExternalSystem</text></a></g><!--MD5=[f1fd5ab0a324a1a6f30ec69da7767ad3]\n",
       "link E23 to E14--><a href=\"psysml:32cc0914-bdf7-4bb0-a060-2843d19e8d30\" target=\"_top\" title=\"psysml:32cc0914-bdf7-4bb0-a060-2843d19e8d30\" xlink:actuate=\"onRequest\" xlink:href=\"psysml:32cc0914-bdf7-4bb0-a060-2843d19e8d30\" xlink:show=\"new\" xlink:title=\"psysml:32cc0914-bdf7-4bb0-a060-2843d19e8d30\" xlink:type=\"simple\"><path d=\"M1808.71,101.967 C1742.67,101.636 1178.21,99.275 1147,115 C1122.95,127.121 1130.51,145.545 1110,163 C1092.39,177.981 1066.88,189.053 1055.23,193.653 \" fill=\"none\" id=\"E23-E14\" style=\"stroke: #383838; stroke-width: 3.0;\"/></a><!--MD5=[6d237fe5184b1cde996713da3520e740]\n",
       "link E15 to E13--><a href=\"psysml:0fddc2d7-7b2f-4107-8d6e-400b0267216f\" target=\"_top\" title=\"psysml:0fddc2d7-7b2f-4107-8d6e-400b0267216f\" xlink:actuate=\"onRequest\" xlink:href=\"psysml:0fddc2d7-7b2f-4107-8d6e-400b0267216f\" xlink:show=\"new\" xlink:title=\"psysml:0fddc2d7-7b2f-4107-8d6e-400b0267216f\" xlink:type=\"simple\"><path d=\"M2311.4164,208.3702 C2310.2756,208.4523 2309.1292,208.5347 2307.9774,208.6173 C2305.6738,208.7827 2303.3486,208.9492 2301.0021,209.1169 C2296.3091,209.4523 2291.5313,209.7923 2286.6727,210.1364 C2267.2384,211.5127 2246.5116,212.9551 2224.75,214.4352 C2181.2269,217.3953 2133.565,220.5061 2083.8275,223.5399 C1984.3525,229.6075 1876.575,235.3675 1777,239 C1702.935,241.702 1573.055,239.9658 1443.2563,239.4221 C1378.3569,239.1503 1313.4778,239.1767 1255.6061,240.205 C1226.6702,240.7192 1199.4862,241.4839 1174.9274,242.587 C1162.648,243.1386 1151.0249,243.7748 1140.1673,244.5067 C1137.4529,244.6896 1134.7863,244.8786 1132.1693,245.0736 \" fill=\"none\" id=\"E15-E13\" style=\"stroke: #383838; stroke-width: 3.0;\"/></a><!--MD5=[75c9fdd0ed921f573fb5a09b70f78001]\n",
       "link E24 to E10--><a href=\"psysml:e12de583-d01a-4b45-8a54-50df7119f1ce\" target=\"_top\" title=\"psysml:e12de583-d01a-4b45-8a54-50df7119f1ce\" xlink:actuate=\"onRequest\" xlink:href=\"psysml:e12de583-d01a-4b45-8a54-50df7119f1ce\" xlink:show=\"new\" xlink:title=\"psysml:e12de583-d01a-4b45-8a54-50df7119f1ce\" xlink:type=\"simple\"><path d=\"M2044.74,103.647 C2039.92,104.829 2033.09,106.327 2027,107 C1907.27,120.233 1604.74,101.908 1485,115 C1448.34,119.009 1405.33,129.964 1389.38,134.249 \" fill=\"none\" id=\"E24-E10\" style=\"stroke: #383838; stroke-width: 3.0;\"/></a><!--MD5=[962e9324dd3a3b8a790f5068b5d96b7d]\n",
       "link E25 to E16--><a href=\"psysml:1379efaf-9c52-4b08-bc1d-bcd011bc442f\" target=\"_top\" title=\"psysml:1379efaf-9c52-4b08-bc1d-bcd011bc442f\" xlink:actuate=\"onRequest\" xlink:href=\"psysml:1379efaf-9c52-4b08-bc1d-bcd011bc442f\" xlink:show=\"new\" xlink:title=\"psysml:1379efaf-9c52-4b08-bc1d-bcd011bc442f\" xlink:type=\"simple\"><path d=\"M2293.12,106.728 C2301.52,113.223 2316.56,124.838 2324.93,131.313 \" fill=\"none\" id=\"E25-E16\" style=\"stroke: #383838; stroke-width: 3.0;\"/></a><!--MD5=[47a206ff035912d4d024938fdf950b20]\n",
       "link E17 to E4--><a href=\"psysml:458434a2-02a1-48f1-8a20-2fd4cf152657\" target=\"_top\" title=\"psysml:458434a2-02a1-48f1-8a20-2fd4cf152657\" xlink:actuate=\"onRequest\" xlink:href=\"psysml:458434a2-02a1-48f1-8a20-2fd4cf152657\" xlink:show=\"new\" xlink:title=\"psysml:458434a2-02a1-48f1-8a20-2fd4cf152657\" xlink:type=\"simple\"><path d=\"M2535.74,143.42 C2531.72,149.497 2524.29,159.02 2515,163 C2487.46,174.798 385.411,158.911 358,171 C348.934,174.998 341.862,184.515 338.071,190.586 \" fill=\"none\" id=\"E17-E4\" style=\"stroke: #383838; stroke-width: 3.0;\"/></a><!--MD5=[d046c62b2aa97c8260f5b011c77e4d99]\n",
       "link E5 to E21--><a href=\"psysml:5ada1d14-8396-47a1-8970-610b1346994b\" target=\"_top\" title=\"psysml:5ada1d14-8396-47a1-8970-610b1346994b\" xlink:actuate=\"onRequest\" xlink:href=\"psysml:5ada1d14-8396-47a1-8970-610b1346994b\" xlink:show=\"new\" xlink:title=\"psysml:5ada1d14-8396-47a1-8970-610b1346994b\" xlink:type=\"simple\"><path d=\"M561.66,203.073 C559.004,212.026 552.157,230.487 539,239 C486.962,272.673 277.928,272.416 239.192,272.072 \" fill=\"none\" id=\"E5-E21\" style=\"stroke: #383838; stroke-width: 3.0;\"/></a><!--MD5=[caa0f9c1831a500007a5e901641aac67]\n",
       "link E23 to E6--><a href=\"psysml:24fcec42-1922-4b7a-b44a-b5aa4c69461a\" target=\"_top\" title=\"psysml:24fcec42-1922-4b7a-b44a-b5aa4c69461a\" xlink:actuate=\"onRequest\" xlink:href=\"psysml:24fcec42-1922-4b7a-b44a-b5aa4c69461a\" xlink:show=\"new\" xlink:title=\"psysml:24fcec42-1922-4b7a-b44a-b5aa4c69461a\" xlink:type=\"simple\"><path d=\"M1808.59,102.026 C1738.75,102.323 1121.8,105.217 1106,115 C1085.55,127.664 1101.37,150.209 1081,163 C1056.52,178.37 848.022,160.744 821,171 C810.351,175.042 800.759,184.545 795.423,190.601 \" fill=\"none\" id=\"E23-E6\" style=\"stroke: #383838; stroke-width: 3.0;\"/></a><!--MD5=[9987cf1cd8fa13a40db1d21e8902453f]\n",
       "link E19 to E8--><a href=\"psysml:04cdd99a-cb0a-422d-8921-b2b1af257481\" target=\"_top\" title=\"psysml:04cdd99a-cb0a-422d-8921-b2b1af257481\" xlink:actuate=\"onRequest\" xlink:href=\"psysml:04cdd99a-cb0a-422d-8921-b2b1af257481\" xlink:show=\"new\" xlink:title=\"psysml:04cdd99a-cb0a-422d-8921-b2b1af257481\" xlink:type=\"simple\"><path d=\"M2824.06,102.855 C2837.78,104.814 2872.29,109.855 2901,115 C2938.35,121.693 2982.93,131.212 2998.92,134.676 \" fill=\"none\" id=\"E19-E8\" style=\"stroke: #383838; stroke-width: 3.0;\"/></a><!--MD5=[c5b2f84a146a968dd8d9b03d726746b0]\n",
       "link E27 to E12--><a href=\"psysml:f490e312-494d-4ba2-88e8-4041efa3a383\" target=\"_top\" title=\"psysml:f490e312-494d-4ba2-88e8-4041efa3a383\" xlink:actuate=\"onRequest\" xlink:href=\"psysml:f490e312-494d-4ba2-88e8-4041efa3a383\" xlink:show=\"new\" xlink:title=\"psysml:f490e312-494d-4ba2-88e8-4041efa3a383\" xlink:type=\"simple\"><path d=\"M1017.05,102.013 C1064.82,102.136 1382,103.389 1477,115 C1511.21,119.181 1551.2,129.839 1566.55,134.149 \" fill=\"none\" id=\"E27-E12\" style=\"stroke: #383838; stroke-width: 3.0;\"/></a><!--MD5=[3d4257681592d12b19c8e3ec2a90116d]\n",
       "link E13 to E29--><a href=\"psysml:83c4049d-12cb-45e8-8f0c-8282ed443107\" target=\"_top\" title=\"psysml:83c4049d-12cb-45e8-8f0c-8282ed443107\" xlink:actuate=\"onRequest\" xlink:href=\"psysml:83c4049d-12cb-45e8-8f0c-8282ed443107\" xlink:show=\"new\" xlink:title=\"psysml:83c4049d-12cb-45e8-8f0c-8282ed443107\" xlink:type=\"simple\"><path d=\"M1073.0377,307.0343 C1073.1933,307.0757 1073.349,307.1171 1073.5048,307.1583 C1073.8163,307.2409 1074.1279,307.3231 1074.4397,307.4051 C1075.0632,307.569 1075.6873,307.7316 1076.3119,307.893 C1077.5611,308.2156 1078.8122,308.5331 1080.0645,308.8449 C1090.0831,311.3393 1100.18,313.4705 1110,315 C1235.6,334.5612 3271.87,307.249 3398,323 C3403.67,323.708 3409.52,324.695 3415.35,325.8503 \" fill=\"none\" id=\"E13-E29\" style=\"stroke: #383838; stroke-width: 3.0;\"/></a><!--MD5=[81b9579c9968a7667c1ead30d396c579]\n",
       "link E9 to E30--><a href=\"psysml:b32a917b-13aa-4ca7-a394-15154228a93b\" target=\"_top\" title=\"psysml:b32a917b-13aa-4ca7-a394-15154228a93b\" xlink:actuate=\"onRequest\" xlink:href=\"psysml:b32a917b-13aa-4ca7-a394-15154228a93b\" xlink:show=\"new\" xlink:title=\"psysml:b32a917b-13aa-4ca7-a394-15154228a93b\" xlink:type=\"simple\"><path d=\"M1414.5713,224.0761 C1414.9999,224.1689 1415.429,224.2615 1415.8588,224.3541 C1443.36,230.2793 1473.15,235.7655 1501,239 C1678.33,259.596 2929.9,269.145 3281.39,271.44 \" fill=\"none\" id=\"E9-E30\" style=\"stroke: #383838; stroke-width: 3.0;\"/></a><!--MD5=[db716f1e8a55ec56342791e6b0f7e6cb]\n",
       "link E3 to E28--><a href=\"psysml:814a5d58-e397-4c8d-ae6c-ef52c3b87fdb\" target=\"_top\" title=\"psysml:814a5d58-e397-4c8d-ae6c-ef52c3b87fdb\" xlink:actuate=\"onRequest\" xlink:href=\"psysml:814a5d58-e397-4c8d-ae6c-ef52c3b87fdb\" xlink:show=\"new\" xlink:title=\"psysml:814a5d58-e397-4c8d-ae6c-ef52c3b87fdb\" xlink:type=\"simple\"><path d=\"M789.8559,307.0834 C790.2602,307.1661 790.6647,307.2485 791.0692,307.3306 C791.8784,307.4948 792.6881,307.6577 793.4982,307.8195 C795.1185,308.1429 796.7405,308.4613 798.3635,308.7743 C811.3467,311.2779 824.384,313.4308 837,315 C1087.57,346.165 2951.96,342.9535 3281.35,342.1366 \" fill=\"none\" id=\"E3-E28\" style=\"stroke: #383838; stroke-width: 3.0;\"/></a><!--MD5=[09a3c4c8454756419d2b588fad20b2f4]\n",
       "link E7 to E31--><a href=\"psysml:95ad5219-667a-47a4-9240-f7882c2359f3\" target=\"_top\" title=\"psysml:95ad5219-667a-47a4-9240-f7882c2359f3\" xlink:actuate=\"onRequest\" xlink:href=\"psysml:95ad5219-667a-47a4-9240-f7882c2359f3\" xlink:show=\"new\" xlink:title=\"psysml:95ad5219-667a-47a4-9240-f7882c2359f3\" xlink:type=\"simple\"><path d=\"M3249.9242,205.739 C3250.9594,205.7986 3251.9978,205.8587 3253.0395,205.9192 C3257.2063,206.1612 3261.4249,206.4098 3265.6928,206.6651 C3282.7641,207.6864 3300.623,208.8156 3319.1003,210.0615 C3356.055,212.5533 3395.4838,215.5119 3436.035,219.008 C3517.1375,226.0003 3602.73,235.1425 3682,247 C3692.92,248.634 3704.36,250.705 3715.6,252.953 \" fill=\"none\" id=\"E7-E31\" style=\"stroke: #383838; stroke-width: 3.0;\"/></a><!--MD5=[627fb724a575997adbb3e9e32d8a4793]\n",
       "link E11 to E32--><a href=\"psysml:4bd1907d-bead-40df-890e-c335835679bd\" target=\"_top\" title=\"psysml:4bd1907d-bead-40df-890e-c335835679bd\" xlink:actuate=\"onRequest\" xlink:href=\"psysml:4bd1907d-bead-40df-890e-c335835679bd\" xlink:show=\"new\" xlink:title=\"psysml:4bd1907d-bead-40df-890e-c335835679bd\" xlink:type=\"simple\"><path d=\"M1789.834,209.3097 C1790.4202,209.3514 1791.0077,209.3931 1791.5964,209.4349 C1793.9515,209.602 1796.3273,209.7702 1798.7232,209.9394 C1803.5151,210.2779 1808.3876,210.6204 1813.3371,210.9665 C1833.1347,212.351 1854.162,213.7936 1876.1714,215.2663 C1920.1903,218.2117 1968.1381,221.2777 2018.0363,224.2409 C2117.8325,230.1673 2225.43,235.6825 2325,239 C2389.24,241.14 3418.23,238.926 3482,247 C3492.83,248.371 3504.18,250.508 3515.18,252.969 \" fill=\"none\" id=\"E11-E32\" style=\"stroke: #383838; stroke-width: 3.0;\"/></a><!--MD5=[fe4f7de2e4e2b620ea4ed46ac4c485b0]\n",
       "@startuml\r\n",
       "skinparam ranksep 10\r\n",
       "skinparam rectangle {\r\n",
       " backgroundColor<<block>> LightGreen\r\n",
       "}\r\n",
       "skinparam monochrome true\r\n",
       "skinparam classbackgroundcolor white\r\n",
       "skinparam shadowing false\r\n",
       "skinparam wrapWidth 300\r\n",
       "hide circle\r\n",
       "\r\n",
       "rec usage \"TheFASJukeBoxFunctionalContext\" as E1  [[psysml:f2e6fd16-3f5a-48b2-af8b-086ff99099d6 ]] {\r\n",
       "rec usage \"TheFASJukeBoxFunctionalArchitecture\" as E2  [[psysml:036e3b03-63c5-4cd2-81b1-aef615651c69 ]] {\r\n",
       "rec usage \"I/O Customer: FunctionalBlock\" as E3  [[psysml:59ece546-c3bc-48a1-8a40-c3cdba27f5ae ]] {\r\n",
       "portin \"p1: MoneyPort\" as E4  <<(T,blue)port>> [[psysml:1705c20b-d39c-4cd4-a40c-aa4d181f2a9b ]] \r\n",
       "portin \"p2: ~AudioSignalPort\" as E5  <<(T,blue)port>> [[psysml:0a73e350-b452-4a83-ad6b-45ff75051ca7 ]] \r\n",
       "portin \"p3: IdentificationOfMusicTrackPort\" as E6  <<(T,blue)port>> [[psysml:9451728c-29fe-4a29-b899-658ecf31ca7a ]] \r\n",
       "}\r\n",
       "rec usage \"I/O Electrical Supply: FunctionalBlock\" as E7  [[psysml:49bf4ddd-07cb-4bac-bf7c-5308d118e704 ]] {\r\n",
       "portin \"p1: ElectricalEnergyPort\" as E8  <<(T,blue)port>> [[psysml:e84b5439-ca0c-4b6a-96f5-f6d5b6b95867 ]] \r\n",
       "}\r\n",
       "rec usage \"I/O Music Supplier: FunctionalBlock\" as E9  [[psysml:20516aba-9b24-4a39-9da3-3fc9f3ef0a6e ]] {\r\n",
       "portin \"p1: MusicTrackPort\" as E10  <<(T,blue)port>> [[psysml:f76db810-8687-4538-914c-1e8f1986ea8a ]] \r\n",
       "}\r\n",
       "rec usage \"I/O Pub Interior: FunctionalBlock\" as E11  [[psysml:eaae3fc1-f0de-4985-8262-a8fb3c23a4da ]] {\r\n",
       "portin \"p1: MechanicalEnergyPort\" as E12  <<(T,blue)port>> [[psysml:ef99c125-b76e-46de-927a-be99ef80bf39 ]] \r\n",
       "}\r\n",
       "rec usage \"I/O Pub Manager: FunctionalBlock\" as E13  [[psysml:b0f7ea4c-dc1d-418b-aaab-ab9e8b7bf23b ]] {\r\n",
       "portin \"p1: IdentificationOfMusicTrackPort\" as E14  <<(T,blue)port>> [[psysml:a7c1a162-9188-4213-b68b-f8e8f2f67cb8 ]] \r\n",
       "}\r\n",
       "rec usage \"Accounting: FunctionalBlock\" as E15  [[psysml:21f9698a-f3b2-4b62-9d9b-d5fefce9fe09 ]] {\r\n",
       "portin \"p1: ClearanceToPlayMusicPort\" as E16  <<(T,blue)port>> [[psysml:1dae9fa7-5600-400f-9884-511c7c477d99 ]] \r\n",
       "portin \"p2: ~MoneyPort\" as E17  <<(T,blue)port>> [[psysml:4fdbb5f7-bd00-4d00-9f02-1ed112401f02 ]] \r\n",
       "}\r\n",
       "rec usage \"Energy Distribution: FunctionalBlock\" as E18  [[psysml:302b8151-b166-4f54-baa3-e9f64b9d41c0 ]] {\r\n",
       "portin \"p1: ~ElectricalEnergyPort\" as E19  <<(T,blue)port>> [[psysml:fb285392-9e4b-46fc-adb5-fb7acc9ef5b5 ]] \r\n",
       "}\r\n",
       "rec usage \"Music Player: FunctionalBlock\" as E20  [[psysml:97f16153-fd3d-4794-a3c7-6af8dffc0caf ]] {\r\n",
       "portin \"p1: AudioSignalPort\" as E21  <<(T,blue)port>> [[psysml:ba13c9e8-a7c9-4937-948f-a5bac8e9c365 ]] \r\n",
       "}\r\n",
       "rec usage \"Music Storage: FunctionalBlock\" as E22  [[psysml:cbf26b7f-33c4-47d2-8525-eb9c04ce0eb9 ]] {\r\n",
       "portin \"p1: ~IdentificationOfMusicTrackPort\" as E23  <<(T,blue)port>> [[psysml:3536b71d-5fe1-46d1-b5db-5d8d04e54519 ]] \r\n",
       "portin \"p2: ~MusicTrackPort\" as E24  <<(T,blue)port>> [[psysml:cc0334da-3a35-49a1-bf5b-f9410b200c5b ]] \r\n",
       "portin \"p3: ClearanceToPlayMusicPort\" as E25  <<(T,blue)port>> [[psysml:f2d7572a-8dfa-44e6-a5fe-327750bc3325 ]] \r\n",
       "}\r\n",
       "rec usage \"Suspension: FunctionalBlock\" as E26  [[psysml:f0afabb0-0ca4-4664-99c5-ba17bb110178 ]] {\r\n",
       "portin \"p1: ~MechanicalEnergyPort\" as E27  <<(T,blue)port>> [[psysml:3cf823e3-2584-41ba-967a-8dcdcc27ceeb ]] \r\n",
       "}\r\n",
       "}\r\n",
       "rec usage \"Customer: User\" as E28  [[psysml:bf048ced-6fb4-4f41-918d-b5314fb946b6 ]] {\r\n",
       "}\r\n",
       "rec usage \"Pub Manager: User\" as E29  [[psysml:0bb8ecd8-09d3-4f6e-baab-88b6b6b04418 ]] {\r\n",
       "}\r\n",
       "rec usage \"Music Supplier: ExternalSystem\" as E30  [[psysml:3edc830f-6da7-4b30-98ea-0ce113f3e62e ]] {\r\n",
       "}\r\n",
       "rec usage \"Electrical Supply: ExternalSystem\" as E31  [[psysml:a177ae23-c13c-47e4-b504-2731720d0d7d ]] {\r\n",
       "}\r\n",
       "rec usage \"Pub Interior: ExternalSystem\" as E32  [[psysml:bf33aeff-25e6-4d5e-b259-00378ceb8e80 ]] {\r\n",
       "}\r\n",
       "}\r\n",
       "E23 -[thickness=3]- E14 [[psysml:32cc0914-bdf7-4bb0-a060-2843d19e8d30 ]] \r\n",
       "E15 -[thickness=3]- E13 [[psysml:0fddc2d7-7b2f-4107-8d6e-400b0267216f ]] \r\n",
       "E24 -[thickness=3]- E10 [[psysml:e12de583-d01a-4b45-8a54-50df7119f1ce ]] \r\n",
       "E25 -[thickness=3]- E16 [[psysml:1379efaf-9c52-4b08-bc1d-bcd011bc442f ]] \r\n",
       "E17 -[thickness=3]- E4 [[psysml:458434a2-02a1-48f1-8a20-2fd4cf152657 ]] \r\n",
       "E5 -[thickness=3]- E21 [[psysml:5ada1d14-8396-47a1-8970-610b1346994b ]] \r\n",
       "E23 -[thickness=3]- E6 [[psysml:24fcec42-1922-4b7a-b44a-b5aa4c69461a ]] \r\n",
       "E19 -[thickness=3]- E8 [[psysml:04cdd99a-cb0a-422d-8921-b2b1af257481 ]] \r\n",
       "E27 -[thickness=3]- E12 [[psysml:f490e312-494d-4ba2-88e8-4041efa3a383 ]] \r\n",
       "E13 -[thickness=3]- E29 [[psysml:83c4049d-12cb-45e8-8f0c-8282ed443107 ]] \r\n",
       "E9 -[thickness=3]- E30 [[psysml:b32a917b-13aa-4ca7-a394-15154228a93b ]] \r\n",
       "E3 -[thickness=3]- E28 [[psysml:814a5d58-e397-4c8d-ae6c-ef52c3b87fdb ]] \r\n",
       "E7 -[thickness=3]- E31 [[psysml:95ad5219-667a-47a4-9240-f7882c2359f3 ]] \r\n",
       "E11 -[thickness=3]- E32 [[psysml:4bd1907d-bead-40df-890e-c335835679bd ]] \r\n",
       "@enduml\r\n",
       "\n",
       "PlantUML version 1.2020.13(Sat Jun 13 14:26:38 CEST 2020)\n",
       "(EPL source distribution)\n",
       "Java Runtime: OpenJDK Runtime Environment\n",
       "JVM: OpenJDK 64-Bit Server VM\n",
       "Default Encoding: Cp1252\n",
       "Language: en\n",
       "Country: US\n",
       "--></g></svg>"
      ]
     },
     "execution_count": 50,
     "metadata": {},
     "output_type": "execute_result"
    }
   ],
   "source": [
    "%viz --view=interconnection TheFASJukeBox::FunctionalArchitecture::TheFASJukeBoxFunctionalContext"
   ]
  },
  {
   "cell_type": "markdown",
   "metadata": {},
   "source": [
    "# VAMOS (Variant Modeling with SysML)<a name=\"sysmlv2vamos\"></a>"
   ]
  }
 ],
 "metadata": {
  "kernelspec": {
   "display_name": "SysML",
   "language": "sysml",
   "name": "sysml"
  },
  "language_info": {
   "codemirror_mode": "sysml",
   "file_extension": ".sysml",
   "mimetype": "text/x-sysml",
   "name": "SysML",
   "pygments_lexer": "java",
   "version": "1.0.0"
  }
 },
 "nbformat": 4,
 "nbformat_minor": 4
}
