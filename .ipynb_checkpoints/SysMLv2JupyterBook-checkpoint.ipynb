{
 "cells": [
  {
   "cell_type": "markdown",
   "metadata": {},
   "source": [
    "# SysML v2 JupyterBook\n",
    "\n",
    "This Jupyter Notebook is an exploration of SysML v2 from the user perspective. It shows some SysML v2 basics, but mainly focuses on the special features compared to SysML v1 and how they can be used. For a detailed introduction to the textual syntax of SysML v2, I recommend the following PDF: [Introduction to the SysML v2 Language Textual Notation](https://github.com/Systems-Modeling/SysML-v2-Release/blob/master/doc/Intro%20to%20the%20SysML%20v2%20Language.pdf).\n",
    "\n",
    "**Please note: This is work in progress. You will see sketchy stuff. If you have any comments, contact me: [tim@mbse4u.com](mailto:tim@mbse4u.com).**\n",
    "\n",
    "## Modeling with SysML v2\n",
    "\n",
    "### Introduction\n",
    "\n",
    "This section provides \n",
    "\n",
    "* a brief introduction of the structural modeling with SysML v2,\n",
    "* with a special focus on what is different compared to SysML v1.\n",
    "\n",
    "It is not (yet) a complete SysML v2 tutorial. It uses the SysML v2 pilot implementation which is not intended as full modeling tool for industrail application. The SysML v2 pilot implementation is developed and used \n",
    "\n",
    "### Example and first steps\n",
    "\n",
    "The simple example system is the following electrical vehicle:\n",
    "\n",
    "![Electrical HSUV](lego-evehicle.jpg)\n",
    "\n",
    "Let's start with a logical architecture of the vehicle. A first major difference compared to SysML is that there is a textual syntax for SysML v2.\n",
    "The following cell shows the textual SysML v2 syntax of the logical architecture. The package statement defines the namespace of our architecture. The architecture itself is a simple hierarchical set of parts."
   ]
  },
  {
   "cell_type": "code",
   "execution_count": 2,
   "metadata": {},
   "outputs": [
    {
     "data": {
      "text/plain": [
       "Package eVehicle_LogicalArchitecture_v1 (683b099e-395b-45bb-b9eb-e59e1f851fd2)\n"
      ]
     },
     "execution_count": 2,
     "metadata": {},
     "output_type": "execute_result"
    }
   ],
   "source": [
    "package eVehicle_LogicalArchitecture_v1 {\n",
    "    part eVehicle {    \n",
    "        part body;\n",
    "        part battery;\n",
    "        part engine;\n",
    "        part frontAxis;\n",
    "        part rearAxis;\n",
    "        part frontWheel[2];\n",
    "        part rearWheel[2];\n",
    "    }\n",
    "}"
   ]
  },
  {
   "cell_type": "markdown",
   "metadata": {},
   "source": [
    "Run the cell above to create the real model (it is only a textual visualization). Then you can see the model by running the following code. It provides a deep insight into the model structures:"
   ]
  },
  {
   "cell_type": "code",
   "execution_count": 22,
   "metadata": {},
   "outputs": [
    {
     "data": {
      "text/plain": [
       "Package eVehicle_LogicalArchitecture_v1 (729cc3b8-f71b-44d8-9ab5-8f47cf55bd35)\n",
       "  [Membership] PartUsage eVehicle (77c1c296-eb9c-4651-be5f-e94ddd0560d9)\n",
       "    [Subsetting] PartUsage parts (dd2b8e55-3b4e-4e0d-a7bb-50c2e287d52d)\n",
       "    [FeatureMembership] PartUsage body (fa5dcb0a-b9c7-4d0b-9c59-d8be387b2c1e)\n",
       "      [Subsetting] PartUsage parts (dd2b8e55-3b4e-4e0d-a7bb-50c2e287d52d)\n",
       "    [FeatureMembership] PartUsage battery (f91a6a74-bf94-489d-989e-7198dee2e8f7)\n",
       "      [Subsetting] PartUsage parts (dd2b8e55-3b4e-4e0d-a7bb-50c2e287d52d)\n",
       "    [FeatureMembership] PartUsage engine (b7d29b37-afdc-48f1-81e0-209a94139682)\n",
       "      [Subsetting] PartUsage parts (dd2b8e55-3b4e-4e0d-a7bb-50c2e287d52d)\n",
       "    [FeatureMembership] PartUsage frontAxis (13b6e678-80d0-4d65-a320-a9f08d0732cd)\n",
       "      [Subsetting] PartUsage parts (dd2b8e55-3b4e-4e0d-a7bb-50c2e287d52d)\n",
       "    [FeatureMembership] PartUsage rearAxis (675fd99d-4bab-4226-98fa-faa57432db93)\n",
       "      [Subsetting] PartUsage parts (dd2b8e55-3b4e-4e0d-a7bb-50c2e287d52d)\n",
       "    [FeatureMembership] PartUsage frontWheel (2fb064fe-b00b-4bcf-9ea4-9e898e216f80)\n",
       "      [Subsetting] PartUsage parts (dd2b8e55-3b4e-4e0d-a7bb-50c2e287d52d)\n",
       "      [FeatureMembership] MultiplicityRange (0c3fe23d-0a66-4a5e-b06c-b264396420a3)\n",
       "        [Redefinition] MultiplicityRange (0868b519-d8d8-46ab-bef4-b50057954913)\n",
       "        [FeatureMembership] LiteralInteger (15863513-46c6-4b88-a9be-00bd0c7a0888)\n",
       "          [ReturnParameterMembership] Feature $result (18d9c409-21a2-4cae-84f1-1af71665596e)\n",
       "    [FeatureMembership] PartUsage rearWheel (56da1b28-b39b-4928-acc1-d3a6dc4cf12d)\n",
       "      [Subsetting] PartUsage parts (dd2b8e55-3b4e-4e0d-a7bb-50c2e287d52d)\n",
       "      [FeatureMembership] MultiplicityRange (57fb0db2-cf3e-4202-93d7-b7ba4412bcc3)\n",
       "        [Redefinition] MultiplicityRange (0868b519-d8d8-46ab-bef4-b50057954913)\n",
       "        [FeatureMembership] LiteralInteger (4314868e-8f0d-4fdb-90b5-e40e7d1489fc)\n",
       "          [ReturnParameterMembership] Feature $result (0ea4f115-a5a2-4dec-bf5c-dc3c99bee0d8)\n"
      ]
     },
     "execution_count": 22,
     "metadata": {},
     "output_type": "execute_result"
    }
   ],
   "source": [
    "%show eVehicle_LogicalArchitecture_v1"
   ]
  },
  {
   "cell_type": "markdown",
   "metadata": {},
   "source": [
    "More convenient for the common model user, of course, is the graphical notation presented after the execution of the following cell:"
   ]
  },
  {
   "cell_type": "code",
   "execution_count": 4,
   "metadata": {},
   "outputs": [
    {
     "data": {
      "image/svg+xml": [
       "<?xml version=\"1.0\" encoding=\"UTF-8\" standalone=\"no\"?><svg xmlns=\"http://www.w3.org/2000/svg\" xmlns:xlink=\"http://www.w3.org/1999/xlink\" contentScriptType=\"application/ecmascript\" contentStyleType=\"text/css\" height=\"226px\" preserveAspectRatio=\"none\" style=\"width:825px;height:226px;\" version=\"1.1\" viewBox=\"0 0 825 226\" width=\"825px\" zoomAndPan=\"magnify\"><defs/><g><!--MD5=[fbc87193dbaf4d95561dea2c320d4a47]\n",
       "cluster E1--><polygon fill=\"#FFFFFF\" points=\"16,6,253,6,260,29.6094,803,29.6094,803,214,16,214,16,6\" style=\"stroke: #000000; stroke-width: 1.5;\"/><line style=\"stroke: #000000; stroke-width: 1.5;\" x1=\"16\" x2=\"260\" y1=\"29.6094\" y2=\"29.6094\"/><text fill=\"#000000\" font-family=\"sans-serif\" font-size=\"14\" font-weight=\"bold\" lengthAdjust=\"spacingAndGlyphs\" textLength=\"231\" x=\"20\" y=\"22.5332\">eVehicle_LogicalArchitecture_v1</text><!--MD5=[b4997ac47864f28c2f74865a473b2911]\n",
       "class E2--><rect fill=\"#FFFFFF\" height=\"48.1875\" id=\"E2\" rx=\"10\" ry=\"10\" style=\"stroke: #383838; stroke-width: 1.5;\" width=\"81\" x=\"338.5\" y=\"42\"/><text fill=\"#000000\" font-family=\"sans-serif\" font-size=\"12\" font-style=\"italic\" lengthAdjust=\"spacingAndGlyphs\" textLength=\"35\" x=\"361.5\" y=\"59.457\">«part»</text><text fill=\"#000000\" font-family=\"sans-serif\" font-size=\"12\" lengthAdjust=\"spacingAndGlyphs\" textLength=\"75\" x=\"341.5\" y=\"74.5508\">eVehicle: Part</text><line style=\"stroke: #383838; stroke-width: 1.5;\" x1=\"339.5\" x2=\"418.5\" y1=\"82.1875\" y2=\"82.1875\"/><!--MD5=[09b614a08d8cba4a07c9adeb5e0fee81]\n",
       "class E3--><rect fill=\"#FFFFFF\" height=\"48.1875\" id=\"E3\" rx=\"10\" ry=\"10\" style=\"stroke: #383838; stroke-width: 1.5;\" width=\"60\" x=\"32\" y=\"150\"/><text fill=\"#000000\" font-family=\"sans-serif\" font-size=\"12\" font-style=\"italic\" lengthAdjust=\"spacingAndGlyphs\" textLength=\"35\" x=\"44.5\" y=\"167.457\">«part»</text><text fill=\"#000000\" font-family=\"sans-serif\" font-size=\"12\" lengthAdjust=\"spacingAndGlyphs\" textLength=\"54\" x=\"35\" y=\"182.5508\">body: Part</text><line style=\"stroke: #383838; stroke-width: 1.5;\" x1=\"33\" x2=\"91\" y1=\"190.1875\" y2=\"190.1875\"/><!--MD5=[ebbe1d658d1005bcc118a6aa81145e00]\n",
       "class E4--><rect fill=\"#FFFFFF\" height=\"48.1875\" id=\"E4\" rx=\"10\" ry=\"10\" style=\"stroke: #383838; stroke-width: 1.5;\" width=\"70\" x=\"127\" y=\"150\"/><text fill=\"#000000\" font-family=\"sans-serif\" font-size=\"12\" font-style=\"italic\" lengthAdjust=\"spacingAndGlyphs\" textLength=\"35\" x=\"144.5\" y=\"167.457\">«part»</text><text fill=\"#000000\" font-family=\"sans-serif\" font-size=\"12\" lengthAdjust=\"spacingAndGlyphs\" textLength=\"64\" x=\"130\" y=\"182.5508\">battery: Part</text><line style=\"stroke: #383838; stroke-width: 1.5;\" x1=\"128\" x2=\"196\" y1=\"190.1875\" y2=\"190.1875\"/><!--MD5=[270fce915f116d4de14055a7c1d9a0f3]\n",
       "class E5--><rect fill=\"#FFFFFF\" height=\"48.1875\" id=\"E5\" rx=\"10\" ry=\"10\" style=\"stroke: #383838; stroke-width: 1.5;\" width=\"72\" x=\"232\" y=\"150\"/><text fill=\"#000000\" font-family=\"sans-serif\" font-size=\"12\" font-style=\"italic\" lengthAdjust=\"spacingAndGlyphs\" textLength=\"35\" x=\"250.5\" y=\"167.457\">«part»</text><text fill=\"#000000\" font-family=\"sans-serif\" font-size=\"12\" lengthAdjust=\"spacingAndGlyphs\" textLength=\"66\" x=\"235\" y=\"182.5508\">engine: Part</text><line style=\"stroke: #383838; stroke-width: 1.5;\" x1=\"233\" x2=\"303\" y1=\"190.1875\" y2=\"190.1875\"/><!--MD5=[60a26617385b1d2d0262a64233df1f8d]\n",
       "class E6--><rect fill=\"#FFFFFF\" height=\"48.1875\" id=\"E6\" rx=\"10\" ry=\"10\" style=\"stroke: #383838; stroke-width: 1.5;\" width=\"80\" x=\"339\" y=\"150\"/><text fill=\"#000000\" font-family=\"sans-serif\" font-size=\"12\" font-style=\"italic\" lengthAdjust=\"spacingAndGlyphs\" textLength=\"35\" x=\"361.5\" y=\"167.457\">«part»</text><text fill=\"#000000\" font-family=\"sans-serif\" font-size=\"12\" lengthAdjust=\"spacingAndGlyphs\" textLength=\"74\" x=\"342\" y=\"182.5508\">frontAxis: Part</text><line style=\"stroke: #383838; stroke-width: 1.5;\" x1=\"340\" x2=\"418\" y1=\"190.1875\" y2=\"190.1875\"/><!--MD5=[2156ba9850f5573cc1fc38a6a4b2f02b]\n",
       "class E7--><rect fill=\"#FFFFFF\" height=\"48.1875\" id=\"E7\" rx=\"10\" ry=\"10\" style=\"stroke: #383838; stroke-width: 1.5;\" width=\"78\" x=\"454\" y=\"150\"/><text fill=\"#000000\" font-family=\"sans-serif\" font-size=\"12\" font-style=\"italic\" lengthAdjust=\"spacingAndGlyphs\" textLength=\"35\" x=\"475.5\" y=\"167.457\">«part»</text><text fill=\"#000000\" font-family=\"sans-serif\" font-size=\"12\" lengthAdjust=\"spacingAndGlyphs\" textLength=\"72\" x=\"457\" y=\"182.5508\">rearAxis: Part</text><line style=\"stroke: #383838; stroke-width: 1.5;\" x1=\"455\" x2=\"531\" y1=\"190.1875\" y2=\"190.1875\"/><!--MD5=[b9389687b975829384b498ac4b7476b2]\n",
       "class E8--><rect fill=\"#FFFFFF\" height=\"48.1875\" id=\"E8\" rx=\"10\" ry=\"10\" style=\"stroke: #383838; stroke-width: 1.5;\" width=\"93\" x=\"567.5\" y=\"150\"/><text fill=\"#000000\" font-family=\"sans-serif\" font-size=\"12\" font-style=\"italic\" lengthAdjust=\"spacingAndGlyphs\" textLength=\"35\" x=\"596.5\" y=\"167.457\">«part»</text><text fill=\"#000000\" font-family=\"sans-serif\" font-size=\"12\" lengthAdjust=\"spacingAndGlyphs\" textLength=\"87\" x=\"570.5\" y=\"182.5508\">frontWheel: Part</text><line style=\"stroke: #383838; stroke-width: 1.5;\" x1=\"568.5\" x2=\"659.5\" y1=\"190.1875\" y2=\"190.1875\"/><!--MD5=[fd4143e9d270a159db93a4ea2a975926]\n",
       "class E9--><rect fill=\"#FFFFFF\" height=\"48.1875\" id=\"E9\" rx=\"10\" ry=\"10\" style=\"stroke: #383838; stroke-width: 1.5;\" width=\"91\" x=\"695.5\" y=\"150\"/><text fill=\"#000000\" font-family=\"sans-serif\" font-size=\"12\" font-style=\"italic\" lengthAdjust=\"spacingAndGlyphs\" textLength=\"35\" x=\"723.5\" y=\"167.457\">«part»</text><text fill=\"#000000\" font-family=\"sans-serif\" font-size=\"12\" lengthAdjust=\"spacingAndGlyphs\" textLength=\"85\" x=\"698.5\" y=\"182.5508\">rearWheel: Part</text><line style=\"stroke: #383838; stroke-width: 1.5;\" x1=\"696.5\" x2=\"785.5\" y1=\"190.1875\" y2=\"190.1875\"/><!--MD5=[209b3feb70ccb6233bfe1053d122c12c]\n",
       "reverse link E2 to E3--><path d=\"M325.374,81.029 C270.503,95.967 183.159,121.366 110,150 C104.149,152.2902 98.019,154.9865 92.1719,157.7116 \" fill=\"none\" id=\"E2&lt;-E3\" style=\"stroke: #383838; stroke-width: 1.0;\"/><polygon fill=\"#383838\" points=\"338.258,77.552,331.423,75.2536,326.6725,80.6788,333.5075,82.9772,338.258,77.552\" style=\"stroke: #383838; stroke-width: 1.0;\"/><!--MD5=[9618e71518536f8baf3342ff6fdab317]\n",
       "reverse link E2 to E4--><path d=\"M326.754,92.521 C286.675,112.099 232.441,138.5911 197.337,155.7387 \" fill=\"none\" id=\"E2&lt;-E4\" style=\"stroke: #383838; stroke-width: 1.0;\"/><polygon fill=\"#383838\" points=\"338.439,86.813,331.2922,85.8522,327.6565,92.0796,334.8033,93.0405,338.439,86.813\" style=\"stroke: #383838; stroke-width: 1.0;\"/><!--MD5=[4e1a83fab71cdb913c109063314ae896]\n",
       "reverse link E2 to E5--><path d=\"M345.314,99.168 C328.265,115.45 307.949,134.8509 292.422,149.6784 \" fill=\"none\" id=\"E2&lt;-E5\" style=\"stroke: #383838; stroke-width: 1.0;\"/><polygon fill=\"#383838\" points=\"354.915,90,347.8132,91.2506,346.2361,98.2872,353.338,97.0365,354.915,90\" style=\"stroke: #383838; stroke-width: 1.0;\"/><!--MD5=[ce036f65110ae2351ccce5a81dc2e928]\n",
       "reverse link E2 to E6--><path d=\"M379,103.338 C379,118.681 379,136.098 379,149.6784 \" fill=\"none\" id=\"E2&lt;-E6\" style=\"stroke: #383838; stroke-width: 1.0;\"/><polygon fill=\"#383838\" points=\"379,90,375,96,379,102,383,96,379,90\" style=\"stroke: #383838; stroke-width: 1.0;\"/><!--MD5=[1c72b32696d764168c30777981ec3f66]\n",
       "reverse link E2 to E7--><path d=\"M413.596,99.168 C431.106,115.45 451.972,134.8509 467.918,149.6784 \" fill=\"none\" id=\"E2&lt;-E7\" style=\"stroke: #383838; stroke-width: 1.0;\"/><polygon fill=\"#383838\" points=\"403.736,90,405.4059,97.0151,412.5236,98.1718,410.8537,91.1567,403.736,90\" style=\"stroke: #383838; stroke-width: 1.0;\"/><!--MD5=[65f962d72b3a6bed1ede4f3c867e43a4]\n",
       "reverse link E2 to E8--><path d=\"M431.521,90.69 C472.265,109.069 528.214,134.3052 567.383,151.9729 \" fill=\"none\" id=\"E2&lt;-E8\" style=\"stroke: #383838; stroke-width: 1.0;\"/><polygon fill=\"#383838\" points=\"419.666,85.343,423.4907,91.4562,430.6047,90.277,426.78,84.1638,419.666,85.343\" style=\"stroke: #383838; stroke-width: 1.0;\"/><text fill=\"#000000\" font-family=\"sans-serif\" font-size=\"13\" lengthAdjust=\"spacingAndGlyphs\" textLength=\"7\" x=\"552.3956\" y=\"144.6955\">2</text><!--MD5=[4a91eb351f2fb42055d99b719d3dd418]\n",
       "reverse link E2 to E9--><path d=\"M432.868,80.578 C493.029,96.061 593.11,122.769 678,150 C683.654,151.8138 689.556,153.8178 695.383,155.8641 \" fill=\"none\" id=\"E2&lt;-E9\" style=\"stroke: #383838; stroke-width: 1.0;\"/><polygon fill=\"#383838\" points=\"419.928,77.263,424.7472,82.6273,431.5524,80.2419,426.7332,74.8777,419.928,77.263\" style=\"stroke: #383838; stroke-width: 1.0;\"/><text fill=\"#000000\" font-family=\"sans-serif\" font-size=\"13\" lengthAdjust=\"spacingAndGlyphs\" textLength=\"7\" x=\"680.555\" y=\"149.2069\">2</text><!--MD5=[a112889e778a182104ab473a370d662c]\n",
       "@startuml\r\n",
       "skinparam monochrome true\r\n",
       "skinparam classbackgroundcolor white\r\n",
       "skinparam shadowing false\r\n",
       "skinparam wrapWidth 300\r\n",
       "hide circle\r\n",
       "\r\n",
       "package \"eVehicle_LogicalArchitecture_v1\" as E1   {\r\n",
       "comp usage \"eVehicle: Part\" as E2  <<(T,blue)part>> {\r\n",
       "}\r\n",
       "comp usage \"body: Part\" as E3  <<(T,blue)part>> {\r\n",
       "}\r\n",
       "comp usage \"battery: Part\" as E4  <<(T,blue)part>> {\r\n",
       "}\r\n",
       "comp usage \"engine: Part\" as E5  <<(T,blue)part>> {\r\n",
       "}\r\n",
       "comp usage \"frontAxis: Part\" as E6  <<(T,blue)part>> {\r\n",
       "}\r\n",
       "comp usage \"rearAxis: Part\" as E7  <<(T,blue)part>> {\r\n",
       "}\r\n",
       "comp usage \"frontWheel: Part\" as E8  <<(T,blue)part>> {\r\n",
       "}\r\n",
       "comp usage \"rearWheel: Part\" as E9  <<(T,blue)part>> {\r\n",
       "}\r\n",
       "E2 *- - E3\r\n",
       "E2 *- - E4\r\n",
       "E2 *- - E5\r\n",
       "E2 *- - E6\r\n",
       "E2 *- - E7\r\n",
       "E2 *- - \"2\"E8\r\n",
       "E2 *- - \"2\"E9\r\n",
       "}\r\n",
       "@enduml\r\n",
       "\n",
       "PlantUML version 1.2020.13(Sat Jun 13 14:26:38 CEST 2020)\n",
       "(EPL source distribution)\n",
       "Java Runtime: OpenJDK Runtime Environment\n",
       "JVM: OpenJDK 64-Bit Server VM\n",
       "Default Encoding: Cp1252\n",
       "Language: en\n",
       "Country: US\n",
       "--></g></svg>"
      ]
     },
     "execution_count": 4,
     "metadata": {},
     "output_type": "execute_result"
    }
   ],
   "source": [
    "%viz --view=tree eVehicle_LogicalArchitecture_v1"
   ]
  },
  {
   "cell_type": "markdown",
   "metadata": {},
   "source": [
    "The diagram is only a view, and not an editor. A graphical editor is not provided in the pilot implementation. Future SysML v2 modeling tools will certainly offer graphical editors."
   ]
  },
  {
   "cell_type": "markdown",
   "metadata": {},
   "source": [
    "### Changes to SysML v1\n",
    "\n",
    "SysML v2 is a complete new language with a different foundation than SysML v1. Therefore, there are plenty of differences. Here, we highlight only the changes that are most relevant to the modeler.\n",
    "\n",
    "If I had modeled the eHSUV in SysML v1, I would have had to first define blocks and then part properties whose types are the blocks.\n",
    "\n",
    "![eVehicle in SysML v1](evehicle-logical-architecture-sysmlv1.jpg)\n"
   ]
  },
  {
   "cell_type": "markdown",
   "metadata": {},
   "source": [
    "### Parts and PartDefinitions\n",
    "\n",
    "In SysML v2, you can define parts without types. However, you could define types if you like. A type can be used to reuse definitions. I extend our example and add a property to the wheel to specify the size. The type of the attribute is Integer. I skip units for now."
   ]
  },
  {
   "cell_type": "code",
   "execution_count": 25,
   "metadata": {},
   "outputs": [
    {
     "data": {
      "text/plain": [
       "Package eVehicle_LogicalArchitecture_v2 (85e5b29c-15c9-4e0a-b949-c031b3fe7bad)\n"
      ]
     },
     "execution_count": 25,
     "metadata": {},
     "output_type": "execute_result"
    }
   ],
   "source": [
    "package eVehicle_LogicalArchitecture_v2 {\n",
    "    \n",
    "    import ScalarValues::Integer;\n",
    "    \n",
    "    part eVehicle {    \n",
    "        part body;\n",
    "        part battery;\n",
    "        part engine;\n",
    "        part frontAxis;\n",
    "        part rearAxis;\n",
    "        part frontWheel[2] {\n",
    "            attribute size : Integer;\n",
    "        }\n",
    "        part rearWheel[2] {\n",
    "            attribute size : Integer;\n",
    "        }\n",
    "    }\n",
    "}"
   ]
  },
  {
   "cell_type": "markdown",
   "metadata": {},
   "source": [
    "Run the cell with the SysML v2 model, and visualize the model. If you also would like to see the model structure, execute the %show command."
   ]
  },
  {
   "cell_type": "code",
   "execution_count": 26,
   "metadata": {},
   "outputs": [
    {
     "data": {
      "image/svg+xml": [
       "<?xml version=\"1.0\" encoding=\"UTF-8\" standalone=\"no\"?><svg xmlns=\"http://www.w3.org/2000/svg\" xmlns:xlink=\"http://www.w3.org/1999/xlink\" contentScriptType=\"application/ecmascript\" contentStyleType=\"text/css\" height=\"240px\" preserveAspectRatio=\"none\" style=\"width:825px;height:240px;\" version=\"1.1\" viewBox=\"0 0 825 240\" width=\"825px\" zoomAndPan=\"magnify\"><defs/><g><!--MD5=[fbc87193dbaf4d95561dea2c320d4a47]\n",
       "cluster E1--><polygon fill=\"#FFFFFF\" points=\"16,6,253,6,260,29.6094,803,29.6094,803,228,16,228,16,6\" style=\"stroke: #000000; stroke-width: 1.5;\"/><line style=\"stroke: #000000; stroke-width: 1.5;\" x1=\"16\" x2=\"260\" y1=\"29.6094\" y2=\"29.6094\"/><text fill=\"#000000\" font-family=\"sans-serif\" font-size=\"14\" font-weight=\"bold\" lengthAdjust=\"spacingAndGlyphs\" textLength=\"231\" x=\"20\" y=\"22.5332\">eVehicle_LogicalArchitecture_v2</text><!--MD5=[b4997ac47864f28c2f74865a473b2911]\n",
       "class E2--><rect fill=\"#FFFFFF\" height=\"48.1875\" id=\"E2\" style=\"stroke: #383838; stroke-width: 1.5;\" width=\"67\" x=\"586.5\" y=\"42\"/><text fill=\"#000000\" font-family=\"sans-serif\" font-size=\"12\" font-style=\"italic\" lengthAdjust=\"spacingAndGlyphs\" textLength=\"65\" x=\"587.5\" y=\"59.457\">«dataType»</text><text fill=\"#000000\" font-family=\"sans-serif\" font-size=\"12\" lengthAdjust=\"spacingAndGlyphs\" textLength=\"38\" x=\"601\" y=\"74.5508\">Integer</text><line style=\"stroke: #383838; stroke-width: 1.5;\" x1=\"587.5\" x2=\"652.5\" y1=\"82.1875\" y2=\"82.1875\"/><!--MD5=[09b614a08d8cba4a07c9adeb5e0fee81]\n",
       "class E3--><rect fill=\"#FFFFFF\" height=\"48.1875\" id=\"E3\" rx=\"10\" ry=\"10\" style=\"stroke: #383838; stroke-width: 1.5;\" width=\"81\" x=\"338.5\" y=\"42\"/><text fill=\"#000000\" font-family=\"sans-serif\" font-size=\"12\" font-style=\"italic\" lengthAdjust=\"spacingAndGlyphs\" textLength=\"35\" x=\"361.5\" y=\"59.457\">«part»</text><text fill=\"#000000\" font-family=\"sans-serif\" font-size=\"12\" lengthAdjust=\"spacingAndGlyphs\" textLength=\"75\" x=\"341.5\" y=\"74.5508\">eVehicle: Part</text><line style=\"stroke: #383838; stroke-width: 1.5;\" x1=\"339.5\" x2=\"418.5\" y1=\"82.1875\" y2=\"82.1875\"/><!--MD5=[ebbe1d658d1005bcc118a6aa81145e00]\n",
       "class E4--><rect fill=\"#FFFFFF\" height=\"48.1875\" id=\"E4\" rx=\"10\" ry=\"10\" style=\"stroke: #383838; stroke-width: 1.5;\" width=\"60\" x=\"32\" y=\"157\"/><text fill=\"#000000\" font-family=\"sans-serif\" font-size=\"12\" font-style=\"italic\" lengthAdjust=\"spacingAndGlyphs\" textLength=\"35\" x=\"44.5\" y=\"174.457\">«part»</text><text fill=\"#000000\" font-family=\"sans-serif\" font-size=\"12\" lengthAdjust=\"spacingAndGlyphs\" textLength=\"54\" x=\"35\" y=\"189.5508\">body: Part</text><line style=\"stroke: #383838; stroke-width: 1.5;\" x1=\"33\" x2=\"91\" y1=\"197.1875\" y2=\"197.1875\"/><!--MD5=[270fce915f116d4de14055a7c1d9a0f3]\n",
       "class E5--><rect fill=\"#FFFFFF\" height=\"48.1875\" id=\"E5\" rx=\"10\" ry=\"10\" style=\"stroke: #383838; stroke-width: 1.5;\" width=\"70\" x=\"127\" y=\"157\"/><text fill=\"#000000\" font-family=\"sans-serif\" font-size=\"12\" font-style=\"italic\" lengthAdjust=\"spacingAndGlyphs\" textLength=\"35\" x=\"144.5\" y=\"174.457\">«part»</text><text fill=\"#000000\" font-family=\"sans-serif\" font-size=\"12\" lengthAdjust=\"spacingAndGlyphs\" textLength=\"64\" x=\"130\" y=\"189.5508\">battery: Part</text><line style=\"stroke: #383838; stroke-width: 1.5;\" x1=\"128\" x2=\"196\" y1=\"197.1875\" y2=\"197.1875\"/><!--MD5=[60a26617385b1d2d0262a64233df1f8d]\n",
       "class E6--><rect fill=\"#FFFFFF\" height=\"48.1875\" id=\"E6\" rx=\"10\" ry=\"10\" style=\"stroke: #383838; stroke-width: 1.5;\" width=\"72\" x=\"232\" y=\"157\"/><text fill=\"#000000\" font-family=\"sans-serif\" font-size=\"12\" font-style=\"italic\" lengthAdjust=\"spacingAndGlyphs\" textLength=\"35\" x=\"250.5\" y=\"174.457\">«part»</text><text fill=\"#000000\" font-family=\"sans-serif\" font-size=\"12\" lengthAdjust=\"spacingAndGlyphs\" textLength=\"66\" x=\"235\" y=\"189.5508\">engine: Part</text><line style=\"stroke: #383838; stroke-width: 1.5;\" x1=\"233\" x2=\"303\" y1=\"197.1875\" y2=\"197.1875\"/><!--MD5=[2156ba9850f5573cc1fc38a6a4b2f02b]\n",
       "class E7--><rect fill=\"#FFFFFF\" height=\"48.1875\" id=\"E7\" rx=\"10\" ry=\"10\" style=\"stroke: #383838; stroke-width: 1.5;\" width=\"80\" x=\"339\" y=\"157\"/><text fill=\"#000000\" font-family=\"sans-serif\" font-size=\"12\" font-style=\"italic\" lengthAdjust=\"spacingAndGlyphs\" textLength=\"35\" x=\"361.5\" y=\"174.457\">«part»</text><text fill=\"#000000\" font-family=\"sans-serif\" font-size=\"12\" lengthAdjust=\"spacingAndGlyphs\" textLength=\"74\" x=\"342\" y=\"189.5508\">frontAxis: Part</text><line style=\"stroke: #383838; stroke-width: 1.5;\" x1=\"340\" x2=\"418\" y1=\"197.1875\" y2=\"197.1875\"/><!--MD5=[b9389687b975829384b498ac4b7476b2]\n",
       "class E8--><rect fill=\"#FFFFFF\" height=\"48.1875\" id=\"E8\" rx=\"10\" ry=\"10\" style=\"stroke: #383838; stroke-width: 1.5;\" width=\"78\" x=\"454\" y=\"157\"/><text fill=\"#000000\" font-family=\"sans-serif\" font-size=\"12\" font-style=\"italic\" lengthAdjust=\"spacingAndGlyphs\" textLength=\"35\" x=\"475.5\" y=\"174.457\">«part»</text><text fill=\"#000000\" font-family=\"sans-serif\" font-size=\"12\" lengthAdjust=\"spacingAndGlyphs\" textLength=\"72\" x=\"457\" y=\"189.5508\">rearAxis: Part</text><line style=\"stroke: #383838; stroke-width: 1.5;\" x1=\"455\" x2=\"531\" y1=\"197.1875\" y2=\"197.1875\"/><!--MD5=[fd4143e9d270a159db93a4ea2a975926]\n",
       "class E9--><rect fill=\"#FFFFFF\" height=\"62.0234\" id=\"E9\" rx=\"10\" ry=\"10\" style=\"stroke: #383838; stroke-width: 1.5;\" width=\"93\" x=\"567.5\" y=\"150\"/><text fill=\"#000000\" font-family=\"sans-serif\" font-size=\"12\" font-style=\"italic\" lengthAdjust=\"spacingAndGlyphs\" textLength=\"35\" x=\"596.5\" y=\"167.457\">«part»</text><text fill=\"#000000\" font-family=\"sans-serif\" font-size=\"12\" lengthAdjust=\"spacingAndGlyphs\" textLength=\"87\" x=\"570.5\" y=\"182.5508\">frontWheel: Part</text><line style=\"stroke: #383838; stroke-width: 1.5;\" x1=\"568.5\" x2=\"659.5\" y1=\"190.1875\" y2=\"190.1875\"/><text fill=\"#000000\" font-family=\"sans-serif\" font-size=\"11\" lengthAdjust=\"spacingAndGlyphs\" textLength=\"59\" x=\"573.5\" y=\"205.6064\">size: Integer</text><!--MD5=[96f4274e9e20536e775497830990834d]\n",
       "class E10--><rect fill=\"#FFFFFF\" height=\"62.0234\" id=\"E10\" rx=\"10\" ry=\"10\" style=\"stroke: #383838; stroke-width: 1.5;\" width=\"91\" x=\"695.5\" y=\"150\"/><text fill=\"#000000\" font-family=\"sans-serif\" font-size=\"12\" font-style=\"italic\" lengthAdjust=\"spacingAndGlyphs\" textLength=\"35\" x=\"723.5\" y=\"167.457\">«part»</text><text fill=\"#000000\" font-family=\"sans-serif\" font-size=\"12\" lengthAdjust=\"spacingAndGlyphs\" textLength=\"85\" x=\"698.5\" y=\"182.5508\">rearWheel: Part</text><line style=\"stroke: #383838; stroke-width: 1.5;\" x1=\"696.5\" x2=\"785.5\" y1=\"190.1875\" y2=\"190.1875\"/><text fill=\"#000000\" font-family=\"sans-serif\" font-size=\"11\" lengthAdjust=\"spacingAndGlyphs\" textLength=\"59\" x=\"701.5\" y=\"205.6064\">size: Integer</text><!--MD5=[4672eba38e49728da53d11aeb285b987]\n",
       "reverse link E3 to E4--><path d=\"M325.49,79.148 C270.105,92.716 181.802,117.162 110,150 C104.012,152.7384 97.871,156.0983 92.0666,159.5668 \" fill=\"none\" id=\"E3&lt;-E4\" style=\"stroke: #383838; stroke-width: 1.0;\"/><polygon fill=\"#383838\" points=\"338.15,76.095,331.3796,73.6127,326.4843,78.9076,333.2547,81.3899,338.15,76.095\" style=\"stroke: #383838; stroke-width: 1.0;\"/><!--MD5=[191cde3d490a3f6d7bb551fe3ddca469]\n",
       "reverse link E3 to E5--><path d=\"M326.412,92.836 C294.08,108.913 251.915,130.225 215,150 C209.222,153.0955 203.133,156.4513 197.224,159.7596 \" fill=\"none\" id=\"E3&lt;-E5\" style=\"stroke: #383838; stroke-width: 1.0;\"/><polygon fill=\"#383838\" points=\"338.291,86.945,331.1385,86.0274,327.5405,92.2767,334.693,93.1944,338.291,86.945\" style=\"stroke: #383838; stroke-width: 1.0;\"/><!--MD5=[1026b4b93417a13aa8999a858998add2]\n",
       "reverse link E3 to E6--><path d=\"M347.008,99.569 C328.995,117.906 306.929,140.369 290.7,156.891 \" fill=\"none\" id=\"E3&lt;-E6\" style=\"stroke: #383838; stroke-width: 1.0;\"/><polygon fill=\"#383838\" points=\"356.27,90.14,349.2119,91.6173,347.8609,98.7008,354.919,97.2234,356.27,90.14\" style=\"stroke: #383838; stroke-width: 1.0;\"/><!--MD5=[85760999379eecfd2565a9fecdca67e4]\n",
       "reverse link E3 to E7--><path d=\"M379,103.167 C379,120.78 379,141.435 379,156.891 \" fill=\"none\" id=\"E3&lt;-E7\" style=\"stroke: #383838; stroke-width: 1.0;\"/><polygon fill=\"#383838\" points=\"379,90.14,375,96.14,379,102.14,383,96.14,379,90.14\" style=\"stroke: #383838; stroke-width: 1.0;\"/><!--MD5=[4cb75b73ec3682b8f7f8edc9cc86126a]\n",
       "reverse link E3 to E8--><path d=\"M411.601,99.315 C430.148,117.699 452.942,140.293 469.687,156.891 \" fill=\"none\" id=\"E3&lt;-E8\" style=\"stroke: #383838; stroke-width: 1.0;\"/><polygon fill=\"#383838\" points=\"402.345,90.14,403.79,97.2048,410.8671,98.5883,409.4222,91.5234,402.345,90.14\" style=\"stroke: #383838; stroke-width: 1.0;\"/><!--MD5=[f7e0269b2e2fed3d07255bf4c5cf9d61]\n",
       "reverse link E3 to E9--><path d=\"M431.521,92.255 C472.265,111.847 528.214,138.75 567.383,157.5844 \" fill=\"none\" id=\"E3&lt;-E9\" style=\"stroke: #383838; stroke-width: 1.0;\"/><polygon fill=\"#383838\" points=\"419.666,86.554,423.3402,92.7589,430.4809,91.7538,426.8067,85.5489,419.666,86.554\" style=\"stroke: #383838; stroke-width: 1.0;\"/><text fill=\"#000000\" font-family=\"sans-serif\" font-size=\"13\" lengthAdjust=\"spacingAndGlyphs\" textLength=\"7\" x=\"552.3956\" y=\"150.0983\">2</text><!--MD5=[622114938c97d4dd2a5a002a72a9cb82]\n",
       "reverse link E3 to E10--><path d=\"M432.876,78.969 C493.439,93.107 594.254,118.707 678,150 C683.674,152.1201 689.535,154.5565 695.293,157.1047 \" fill=\"none\" id=\"E3&lt;-E10\" style=\"stroke: #383838; stroke-width: 1.0;\"/><polygon fill=\"#383838\" points=\"419.85,75.96,424.7952,81.2083,431.5418,78.6621,426.5966,73.4138,419.85,75.96\" style=\"stroke: #383838; stroke-width: 1.0;\"/><text fill=\"#000000\" font-family=\"sans-serif\" font-size=\"13\" lengthAdjust=\"spacingAndGlyphs\" textLength=\"7\" x=\"680.4506\" y=\"149.543\">2</text><!--MD5=[2998ef95fec41671ce1e26a3242000d6]\n",
       "@startuml\r\n",
       "skinparam monochrome true\r\n",
       "skinparam classbackgroundcolor white\r\n",
       "skinparam shadowing false\r\n",
       "skinparam wrapWidth 300\r\n",
       "hide circle\r\n",
       "\r\n",
       "package \"eVehicle_LogicalArchitecture_v2\" as E1   {\r\n",
       "comp def \"Integer\" as E2  <<(T,blue)dataType>> {\r\n",
       "}\r\n",
       "comp usage \"eVehicle: Part\" as E3  <<(T,blue)part>> {\r\n",
       "}\r\n",
       "comp usage \"body: Part\" as E4  <<(T,blue)part>> {\r\n",
       "}\r\n",
       "comp usage \"battery: Part\" as E5  <<(T,blue)part>> {\r\n",
       "}\r\n",
       "comp usage \"engine: Part\" as E6  <<(T,blue)part>> {\r\n",
       "}\r\n",
       "comp usage \"frontAxis: Part\" as E7  <<(T,blue)part>> {\r\n",
       "}\r\n",
       "comp usage \"rearAxis: Part\" as E8  <<(T,blue)part>> {\r\n",
       "}\r\n",
       "comp usage \"frontWheel: Part\" as E9  <<(T,blue)part>> {\r\n",
       "size: Integer\r\n",
       "}\r\n",
       "comp usage \"rearWheel: Part\" as E10  <<(T,blue)part>> {\r\n",
       "size: Integer\r\n",
       "}\r\n",
       "E3 *- - E4\r\n",
       "E3 *- - E5\r\n",
       "E3 *- - E6\r\n",
       "E3 *- - E7\r\n",
       "E3 *- - E8\r\n",
       "E3 *- - \"2\"E9\r\n",
       "E3 *- - \"2\"E10\r\n",
       "}\r\n",
       "@enduml\r\n",
       "\n",
       "PlantUML version 1.2020.13(Sat Jun 13 14:26:38 CEST 2020)\n",
       "(EPL source distribution)\n",
       "Java Runtime: OpenJDK Runtime Environment\n",
       "JVM: OpenJDK 64-Bit Server VM\n",
       "Default Encoding: Cp1252\n",
       "Language: en\n",
       "Country: US\n",
       "--></g></svg>"
      ]
     },
     "execution_count": 26,
     "metadata": {},
     "output_type": "execute_result"
    }
   ],
   "source": [
    "%viz --view=tree eVehicle_LogicalArchitecture_v2"
   ]
  },
  {
   "cell_type": "markdown",
   "metadata": {},
   "source": [
    "Although it is still very simple, the model already smells of reuse. The size attribute is currently defined twice. Now we define a type repsectively PartDefinition Wheels and specify that as the type of Parts."
   ]
  },
  {
   "cell_type": "code",
   "execution_count": 2,
   "metadata": {},
   "outputs": [
    {
     "name": "stderr",
     "output_type": "stream",
     "text": [
      "ERROR:Couldn't resolve reference to Type 'Wheel'. (2.sysml line : 18 column : 27)\n",
      "ERROR:Couldn't resolve reference to Type 'Wheel'. (2.sysml line : 19 column : 26)\n",
      "ERROR:A part usage must be typed by item definitions and at least one part definition. (2.sysml line : 18 column : 9)\n",
      "ERROR:A part usage must be typed by item definitions and at least one part definition. (2.sysml line : 19 column : 9)\n"
     ]
    },
    {
     "data": {
      "text/plain": []
     },
     "execution_count": 2,
     "metadata": {},
     "output_type": "execute_result"
    }
   ],
   "source": [
    "package eVehicle_Definitions {\n",
    "\n",
    "    import ScalarValues::Integer;   \n",
    "    \n",
    "    part def Wheel {\n",
    "        attribute size : Integer;\n",
    "    }\n",
    "}\n",
    "\n",
    "package eVehicle_LogicalArchitecture_v3 {\n",
    "\n",
    "    import eVehicle_Definitions;\n",
    "    \n",
    "    part eVehicle {    \n",
    "        part body;\n",
    "        part battery;\n",
    "        part engine;\n",
    "        part frontAxis;\n",
    "        part rearAxis;\n",
    "        part frontWheel : Wheel[2];\n",
    "        part rearWheel : Wheel[2];\n",
    "    }\n",
    "}"
   ]
  },
  {
   "cell_type": "code",
   "execution_count": 28,
   "metadata": {},
   "outputs": [
    {
     "data": {
      "image/svg+xml": [
       "<?xml version=\"1.0\" encoding=\"UTF-8\" standalone=\"no\"?><svg xmlns=\"http://www.w3.org/2000/svg\" xmlns:xlink=\"http://www.w3.org/1999/xlink\" contentScriptType=\"application/ecmascript\" contentStyleType=\"text/css\" height=\"348px\" preserveAspectRatio=\"none\" style=\"width:850px;height:348px;\" version=\"1.1\" viewBox=\"0 0 850 348\" width=\"850px\" zoomAndPan=\"magnify\"><defs/><g><!--MD5=[fbc87193dbaf4d95561dea2c320d4a47]\n",
       "cluster E1--><polygon fill=\"#FFFFFF\" points=\"16,6,253,6,260,29.6094,828,29.6094,828,336,16,336,16,6\" style=\"stroke: #000000; stroke-width: 1.5;\"/><line style=\"stroke: #000000; stroke-width: 1.5;\" x1=\"16\" x2=\"260\" y1=\"29.6094\" y2=\"29.6094\"/><text fill=\"#000000\" font-family=\"sans-serif\" font-size=\"14\" font-weight=\"bold\" lengthAdjust=\"spacingAndGlyphs\" textLength=\"231\" x=\"20\" y=\"22.5332\">eVehicle_LogicalArchitecture_v3</text><!--MD5=[b4997ac47864f28c2f74865a473b2911]\n",
       "class E2--><rect fill=\"#FFFFFF\" height=\"48.1875\" id=\"E2\" style=\"stroke: #383838; stroke-width: 1.5;\" width=\"67\" x=\"599.5\" y=\"42\"/><text fill=\"#000000\" font-family=\"sans-serif\" font-size=\"12\" font-style=\"italic\" lengthAdjust=\"spacingAndGlyphs\" textLength=\"65\" x=\"600.5\" y=\"59.457\">«dataType»</text><text fill=\"#000000\" font-family=\"sans-serif\" font-size=\"12\" lengthAdjust=\"spacingAndGlyphs\" textLength=\"38\" x=\"614\" y=\"74.5508\">Integer</text><line style=\"stroke: #383838; stroke-width: 1.5;\" x1=\"600.5\" x2=\"665.5\" y1=\"82.1875\" y2=\"82.1875\"/><!--MD5=[09b614a08d8cba4a07c9adeb5e0fee81]\n",
       "class E3--><rect fill=\"#FFFFFF\" height=\"62.0234\" id=\"E3\" style=\"stroke: #383838; stroke-width: 1.5;\" width=\"71\" x=\"654.5\" y=\"258\"/><text fill=\"#000000\" font-family=\"sans-serif\" font-size=\"12\" font-style=\"italic\" lengthAdjust=\"spacingAndGlyphs\" textLength=\"55\" x=\"662.5\" y=\"275.457\">«part def»</text><text fill=\"#000000\" font-family=\"sans-serif\" font-size=\"12\" lengthAdjust=\"spacingAndGlyphs\" textLength=\"35\" x=\"672.5\" y=\"290.5508\">Wheel</text><line style=\"stroke: #383838; stroke-width: 1.5;\" x1=\"655.5\" x2=\"724.5\" y1=\"298.1875\" y2=\"298.1875\"/><text fill=\"#000000\" font-family=\"sans-serif\" font-size=\"11\" lengthAdjust=\"spacingAndGlyphs\" textLength=\"59\" x=\"660.5\" y=\"313.6064\">size: Integer</text><!--MD5=[ebbe1d658d1005bcc118a6aa81145e00]\n",
       "class E4--><rect fill=\"#FFFFFF\" height=\"48.1875\" id=\"E4\" rx=\"10\" ry=\"10\" style=\"stroke: #383838; stroke-width: 1.5;\" width=\"81\" x=\"338.5\" y=\"42\"/><text fill=\"#000000\" font-family=\"sans-serif\" font-size=\"12\" font-style=\"italic\" lengthAdjust=\"spacingAndGlyphs\" textLength=\"35\" x=\"361.5\" y=\"59.457\">«part»</text><text fill=\"#000000\" font-family=\"sans-serif\" font-size=\"12\" lengthAdjust=\"spacingAndGlyphs\" textLength=\"75\" x=\"341.5\" y=\"74.5508\">eVehicle: Part</text><line style=\"stroke: #383838; stroke-width: 1.5;\" x1=\"339.5\" x2=\"418.5\" y1=\"82.1875\" y2=\"82.1875\"/><!--MD5=[270fce915f116d4de14055a7c1d9a0f3]\n",
       "class E5--><rect fill=\"#FFFFFF\" height=\"48.1875\" id=\"E5\" rx=\"10\" ry=\"10\" style=\"stroke: #383838; stroke-width: 1.5;\" width=\"60\" x=\"32\" y=\"150\"/><text fill=\"#000000\" font-family=\"sans-serif\" font-size=\"12\" font-style=\"italic\" lengthAdjust=\"spacingAndGlyphs\" textLength=\"35\" x=\"44.5\" y=\"167.457\">«part»</text><text fill=\"#000000\" font-family=\"sans-serif\" font-size=\"12\" lengthAdjust=\"spacingAndGlyphs\" textLength=\"54\" x=\"35\" y=\"182.5508\">body: Part</text><line style=\"stroke: #383838; stroke-width: 1.5;\" x1=\"33\" x2=\"91\" y1=\"190.1875\" y2=\"190.1875\"/><!--MD5=[60a26617385b1d2d0262a64233df1f8d]\n",
       "class E6--><rect fill=\"#FFFFFF\" height=\"48.1875\" id=\"E6\" rx=\"10\" ry=\"10\" style=\"stroke: #383838; stroke-width: 1.5;\" width=\"70\" x=\"127\" y=\"150\"/><text fill=\"#000000\" font-family=\"sans-serif\" font-size=\"12\" font-style=\"italic\" lengthAdjust=\"spacingAndGlyphs\" textLength=\"35\" x=\"144.5\" y=\"167.457\">«part»</text><text fill=\"#000000\" font-family=\"sans-serif\" font-size=\"12\" lengthAdjust=\"spacingAndGlyphs\" textLength=\"64\" x=\"130\" y=\"182.5508\">battery: Part</text><line style=\"stroke: #383838; stroke-width: 1.5;\" x1=\"128\" x2=\"196\" y1=\"190.1875\" y2=\"190.1875\"/><!--MD5=[2156ba9850f5573cc1fc38a6a4b2f02b]\n",
       "class E7--><rect fill=\"#FFFFFF\" height=\"48.1875\" id=\"E7\" rx=\"10\" ry=\"10\" style=\"stroke: #383838; stroke-width: 1.5;\" width=\"72\" x=\"232\" y=\"150\"/><text fill=\"#000000\" font-family=\"sans-serif\" font-size=\"12\" font-style=\"italic\" lengthAdjust=\"spacingAndGlyphs\" textLength=\"35\" x=\"250.5\" y=\"167.457\">«part»</text><text fill=\"#000000\" font-family=\"sans-serif\" font-size=\"12\" lengthAdjust=\"spacingAndGlyphs\" textLength=\"66\" x=\"235\" y=\"182.5508\">engine: Part</text><line style=\"stroke: #383838; stroke-width: 1.5;\" x1=\"233\" x2=\"303\" y1=\"190.1875\" y2=\"190.1875\"/><!--MD5=[b9389687b975829384b498ac4b7476b2]\n",
       "class E8--><rect fill=\"#FFFFFF\" height=\"48.1875\" id=\"E8\" rx=\"10\" ry=\"10\" style=\"stroke: #383838; stroke-width: 1.5;\" width=\"80\" x=\"339\" y=\"150\"/><text fill=\"#000000\" font-family=\"sans-serif\" font-size=\"12\" font-style=\"italic\" lengthAdjust=\"spacingAndGlyphs\" textLength=\"35\" x=\"361.5\" y=\"167.457\">«part»</text><text fill=\"#000000\" font-family=\"sans-serif\" font-size=\"12\" lengthAdjust=\"spacingAndGlyphs\" textLength=\"74\" x=\"342\" y=\"182.5508\">frontAxis: Part</text><line style=\"stroke: #383838; stroke-width: 1.5;\" x1=\"340\" x2=\"418\" y1=\"190.1875\" y2=\"190.1875\"/><!--MD5=[fd4143e9d270a159db93a4ea2a975926]\n",
       "class E9--><rect fill=\"#FFFFFF\" height=\"48.1875\" id=\"E9\" rx=\"10\" ry=\"10\" style=\"stroke: #383838; stroke-width: 1.5;\" width=\"78\" x=\"454\" y=\"150\"/><text fill=\"#000000\" font-family=\"sans-serif\" font-size=\"12\" font-style=\"italic\" lengthAdjust=\"spacingAndGlyphs\" textLength=\"35\" x=\"475.5\" y=\"167.457\">«part»</text><text fill=\"#000000\" font-family=\"sans-serif\" font-size=\"12\" lengthAdjust=\"spacingAndGlyphs\" textLength=\"72\" x=\"457\" y=\"182.5508\">rearAxis: Part</text><line style=\"stroke: #383838; stroke-width: 1.5;\" x1=\"455\" x2=\"531\" y1=\"190.1875\" y2=\"190.1875\"/><!--MD5=[96f4274e9e20536e775497830990834d]\n",
       "class E10--><rect fill=\"#FFFFFF\" height=\"48.1875\" id=\"E10\" rx=\"10\" ry=\"10\" style=\"stroke: #383838; stroke-width: 1.5;\" width=\"106\" x=\"567\" y=\"150\"/><text fill=\"#000000\" font-family=\"sans-serif\" font-size=\"12\" font-style=\"italic\" lengthAdjust=\"spacingAndGlyphs\" textLength=\"35\" x=\"602.5\" y=\"167.457\">«part»</text><text fill=\"#000000\" font-family=\"sans-serif\" font-size=\"12\" lengthAdjust=\"spacingAndGlyphs\" textLength=\"100\" x=\"570\" y=\"182.5508\">frontWheel: Wheel</text><line style=\"stroke: #383838; stroke-width: 1.5;\" x1=\"568\" x2=\"672\" y1=\"190.1875\" y2=\"190.1875\"/><!--MD5=[1dd1bfd58a279cf63c5f349dbc8fc6a1]\n",
       "class E11--><rect fill=\"#FFFFFF\" height=\"48.1875\" id=\"E11\" rx=\"10\" ry=\"10\" style=\"stroke: #383838; stroke-width: 1.5;\" width=\"104\" x=\"708\" y=\"150\"/><text fill=\"#000000\" font-family=\"sans-serif\" font-size=\"12\" font-style=\"italic\" lengthAdjust=\"spacingAndGlyphs\" textLength=\"35\" x=\"742.5\" y=\"167.457\">«part»</text><text fill=\"#000000\" font-family=\"sans-serif\" font-size=\"12\" lengthAdjust=\"spacingAndGlyphs\" textLength=\"98\" x=\"711\" y=\"182.5508\">rearWheel: Wheel</text><line style=\"stroke: #383838; stroke-width: 1.5;\" x1=\"709\" x2=\"811\" y1=\"190.1875\" y2=\"190.1875\"/><!--MD5=[62aa6af11e70f752912c1cb0466f24f7]\n",
       "reverse link E4 to E5--><path d=\"M325.374,81.029 C270.503,95.967 183.159,121.366 110,150 C104.149,152.29 98.019,154.987 92.1719,157.712 \" fill=\"none\" id=\"E4&lt;-E5\" style=\"stroke: #383838; stroke-width: 1.0;\"/><polygon fill=\"#383838\" points=\"338.258,77.552,331.423,75.2536,326.6725,80.6788,333.5075,82.9772,338.258,77.552\" style=\"stroke: #383838; stroke-width: 1.0;\"/><!--MD5=[6db378b65e1aef66a01cb3103812b399]\n",
       "reverse link E4 to E6--><path d=\"M326.754,92.521 C286.675,112.099 232.441,138.591 197.337,155.739 \" fill=\"none\" id=\"E4&lt;-E6\" style=\"stroke: #383838; stroke-width: 1.0;\"/><polygon fill=\"#383838\" points=\"338.439,86.813,331.2922,85.8522,327.6565,92.0796,334.8033,93.0405,338.439,86.813\" style=\"stroke: #383838; stroke-width: 1.0;\"/><!--MD5=[722ff4eef345aa10242dad44df0e98c7]\n",
       "reverse link E4 to E7--><path d=\"M345.314,99.168 C328.265,115.45 307.949,134.851 292.422,149.678 \" fill=\"none\" id=\"E4&lt;-E7\" style=\"stroke: #383838; stroke-width: 1.0;\"/><polygon fill=\"#383838\" points=\"354.915,90,347.8132,91.2506,346.2361,98.2872,353.338,97.0365,354.915,90\" style=\"stroke: #383838; stroke-width: 1.0;\"/><!--MD5=[c6fc7cdb0cabde04948078cf183fa696]\n",
       "reverse link E4 to E8--><path d=\"M379,103.338 C379,118.681 379,136.098 379,149.678 \" fill=\"none\" id=\"E4&lt;-E8\" style=\"stroke: #383838; stroke-width: 1.0;\"/><polygon fill=\"#383838\" points=\"379,90,375,96,379,102,383,96,379,90\" style=\"stroke: #383838; stroke-width: 1.0;\"/><!--MD5=[e7ea4bd30698dc91ca0c06b9d8e4f891]\n",
       "reverse link E4 to E9--><path d=\"M413.596,99.168 C431.106,115.45 451.972,134.851 467.918,149.678 \" fill=\"none\" id=\"E4&lt;-E9\" style=\"stroke: #383838; stroke-width: 1.0;\"/><polygon fill=\"#383838\" points=\"403.736,90,405.4059,97.0151,412.5236,98.1718,410.8537,91.1567,403.736,90\" style=\"stroke: #383838; stroke-width: 1.0;\"/><!--MD5=[feeac5eb423634930294aa81f2d25a4c]\n",
       "link E10 to E3--><path d=\"M634.334,198.14 C641.899,210.351 651.469,225.8 660.532,240.43 \" fill=\"none\" id=\"E10-&gt;E3\" style=\"stroke: #383838; stroke-width: 1.0;\"/><polygon fill=\"#FFFFFF\" points=\"671.166,257.5962,655.2098,245.1302,667.1114,237.7578,671.166,257.5962\" style=\"stroke: #383838; stroke-width: 1.0;\"/><ellipse cx=\"653.9085\" cy=\"239.2314\" fill=\"#383838\" rx=\"2\" ry=\"2\" style=\"stroke: #383838; stroke-width: 1.0;\"/><ellipse cx=\"662.4096\" cy=\"233.9654\" fill=\"#383838\" rx=\"2\" ry=\"2\" style=\"stroke: #383838; stroke-width: 1.0;\"/><!--MD5=[f119e7f268ff8fee167b0c2c9936af30]\n",
       "reverse link E4 to E10--><path d=\"M431.59,90.131 C471.855,107.841 527.141,132.157 567.406,149.868 \" fill=\"none\" id=\"E4&lt;-E10\" style=\"stroke: #383838; stroke-width: 1.0;\"/><polygon fill=\"#383838\" points=\"419.61,84.862,423.4917,90.9392,430.5944,89.6935,426.7127,83.6163,419.61,84.862\" style=\"stroke: #383838; stroke-width: 1.0;\"/><text fill=\"#000000\" font-family=\"sans-serif\" font-size=\"13\" lengthAdjust=\"spacingAndGlyphs\" textLength=\"7\" x=\"552.1672\" y=\"142.6558\">2</text><!--MD5=[0517f1ce58c4d5483948f93845c45e26]\n",
       "link E11 to E3--><path d=\"M745.666,198.14 C738.101,210.351 728.531,225.8 719.468,240.43 \" fill=\"none\" id=\"E11-&gt;E3\" style=\"stroke: #383838; stroke-width: 1.0;\"/><polygon fill=\"#FFFFFF\" points=\"708.834,257.5962,712.8886,237.7578,724.7902,245.1302,708.834,257.5962\" style=\"stroke: #383838; stroke-width: 1.0;\"/><ellipse cx=\"717.5904\" cy=\"233.9654\" fill=\"#383838\" rx=\"2\" ry=\"2\" style=\"stroke: #383838; stroke-width: 1.0;\"/><ellipse cx=\"726.0915\" cy=\"239.2314\" fill=\"#383838\" rx=\"2\" ry=\"2\" style=\"stroke: #383838; stroke-width: 1.0;\"/><!--MD5=[593b807a8aafaab39af1c25ada4edf41]\n",
       "reverse link E4 to E11--><path d=\"M432.616,80.192 C494.999,95.787 600.954,123.043 691,150 C696.444,151.63 702.105,153.397 707.741,155.203 \" fill=\"none\" id=\"E4&lt;-E11\" style=\"stroke: #383838; stroke-width: 1.0;\"/><polygon fill=\"#383838\" points=\"419.612,76.952,424.4671,82.2838,431.2561,79.8528,426.401,74.521,419.612,76.952\" style=\"stroke: #383838; stroke-width: 1.0;\"/><text fill=\"#000000\" font-family=\"sans-serif\" font-size=\"13\" lengthAdjust=\"spacingAndGlyphs\" textLength=\"7\" x=\"692.8999\" y=\"148.9413\">2</text><!--MD5=[b1e53c4a4a506a8e340c48430a16fb18]\n",
       "@startuml\r\n",
       "skinparam monochrome true\r\n",
       "skinparam classbackgroundcolor white\r\n",
       "skinparam shadowing false\r\n",
       "skinparam wrapWidth 300\r\n",
       "hide circle\r\n",
       "\r\n",
       "package \"eVehicle_LogicalArchitecture_v3\" as E1   {\r\n",
       "comp def \"Integer\" as E2  <<(T,blue)dataType>> {\r\n",
       "}\r\n",
       "comp def \"Wheel\" as E3  <<(T,blue)part def>> {\r\n",
       "size: Integer\r\n",
       "}\r\n",
       "comp usage \"eVehicle: Part\" as E4  <<(T,blue)part>> {\r\n",
       "}\r\n",
       "comp usage \"body: Part\" as E5  <<(T,blue)part>> {\r\n",
       "}\r\n",
       "comp usage \"battery: Part\" as E6  <<(T,blue)part>> {\r\n",
       "}\r\n",
       "comp usage \"engine: Part\" as E7  <<(T,blue)part>> {\r\n",
       "}\r\n",
       "comp usage \"frontAxis: Part\" as E8  <<(T,blue)part>> {\r\n",
       "}\r\n",
       "comp usage \"rearAxis: Part\" as E9  <<(T,blue)part>> {\r\n",
       "}\r\n",
       "comp usage \"frontWheel: Wheel\" as E10  <<(T,blue)part>> {\r\n",
       "}\r\n",
       "comp usage \"rearWheel: Wheel\" as E11  <<(T,blue)part>> {\r\n",
       "}\r\n",
       "E4 *- - E5\r\n",
       "E4 *- - E6\r\n",
       "E4 *- - E7\r\n",
       "E4 *- - E8\r\n",
       "E4 *- - E9\r\n",
       "E10 - -:|> E3\r\n",
       "E4 *- - \"2\"E10\r\n",
       "E11 - -:|> E3\r\n",
       "E4 *- - \"2\"E11\r\n",
       "}\r\n",
       "@enduml\r\n",
       "\n",
       "PlantUML version 1.2020.13(Sat Jun 13 14:26:38 CEST 2020)\n",
       "(EPL source distribution)\n",
       "Java Runtime: OpenJDK Runtime Environment\n",
       "JVM: OpenJDK 64-Bit Server VM\n",
       "Default Encoding: Cp1252\n",
       "Language: en\n",
       "Country: US\n",
       "--></g></svg>"
      ]
     },
     "execution_count": 28,
     "metadata": {},
     "output_type": "execute_result"
    }
   ],
   "source": [
    "%viz --view=tree eVehicle_LogicalArchitecture_v3"
   ]
  },
  {
   "cell_type": "markdown",
   "metadata": {},
   "source": [
    "The attribute size itself can also be defined and reused for several attribute usages. It is a common concept in SysML v2 to separate  definition of elements and usage of elements. SysML v1 also follows this concept, but not as consequent as SysML v2. For example, SysML v1 does not provide a separate attribute definition.\n",
    "\n",
    "The attribute definition is not mandatory and only partly useful in this example, because the size is only used at one place. But I added it anyhow as an example for attribute definitions."
   ]
  },
  {
   "cell_type": "code",
   "execution_count": 29,
   "metadata": {},
   "outputs": [
    {
     "data": {
      "text/plain": [
       "Package eVehicle_LogicalArchitecture_v4 (bbf4a9b1-de5e-49de-80df-1d8ea029b9d8)\n"
      ]
     },
     "execution_count": 29,
     "metadata": {},
     "output_type": "execute_result"
    }
   ],
   "source": [
    "package eVehicle_LogicalArchitecture_v4 {\n",
    "    \n",
    "    part def Wheel {\n",
    "        attribute size : WheelSize;\n",
    "    }\n",
    "    \n",
    "    attribute def WheelSize {\n",
    "        import ScalarValues::Integer;\n",
    "        size : Integer;\n",
    "    }\n",
    "    \n",
    "    part eVehicle {    \n",
    "        part body;\n",
    "        part battery;\n",
    "        part engine;\n",
    "        part frontAxis;\n",
    "        part rearAxis;\n",
    "        part frontWheel : Wheel[2];\n",
    "        part rearWheel : Wheel[2];\n",
    "    }\n",
    "}"
   ]
  },
  {
   "cell_type": "code",
   "execution_count": 30,
   "metadata": {},
   "outputs": [
    {
     "data": {
      "image/svg+xml": [
       "<?xml version=\"1.0\" encoding=\"UTF-8\" standalone=\"no\"?><svg xmlns=\"http://www.w3.org/2000/svg\" xmlns:xlink=\"http://www.w3.org/1999/xlink\" contentScriptType=\"application/ecmascript\" contentStyleType=\"text/css\" height=\"362px\" preserveAspectRatio=\"none\" style=\"width:953px;height:362px;\" version=\"1.1\" viewBox=\"0 0 953 362\" width=\"953px\" zoomAndPan=\"magnify\"><defs/><g><!--MD5=[fbc87193dbaf4d95561dea2c320d4a47]\n",
       "cluster E1--><polygon fill=\"#FFFFFF\" points=\"16,6,253,6,260,29.6094,931,29.6094,931,350,16,350,16,6\" style=\"stroke: #000000; stroke-width: 1.5;\"/><line style=\"stroke: #000000; stroke-width: 1.5;\" x1=\"16\" x2=\"260\" y1=\"29.6094\" y2=\"29.6094\"/><text fill=\"#000000\" font-family=\"sans-serif\" font-size=\"14\" font-weight=\"bold\" lengthAdjust=\"spacingAndGlyphs\" textLength=\"231\" x=\"20\" y=\"22.5332\">eVehicle_LogicalArchitecture_v4</text><!--MD5=[b4997ac47864f28c2f74865a473b2911]\n",
       "class E2--><rect fill=\"#FFFFFF\" height=\"62.0234\" id=\"E2\" style=\"stroke: #383838; stroke-width: 1.5;\" width=\"89\" x=\"645.5\" y=\"272\"/><text fill=\"#000000\" font-family=\"sans-serif\" font-size=\"12\" font-style=\"italic\" lengthAdjust=\"spacingAndGlyphs\" textLength=\"55\" x=\"662.5\" y=\"289.457\">«part def»</text><text fill=\"#000000\" font-family=\"sans-serif\" font-size=\"12\" lengthAdjust=\"spacingAndGlyphs\" textLength=\"35\" x=\"672.5\" y=\"304.5508\">Wheel</text><line style=\"stroke: #383838; stroke-width: 1.5;\" x1=\"646.5\" x2=\"733.5\" y1=\"312.1875\" y2=\"312.1875\"/><text fill=\"#000000\" font-family=\"sans-serif\" font-size=\"11\" lengthAdjust=\"spacingAndGlyphs\" textLength=\"77\" x=\"651.5\" y=\"327.6064\">size: WheelSize</text><!--MD5=[09b614a08d8cba4a07c9adeb5e0fee81]\n",
       "class E3--><rect fill=\"#FFFFFF\" height=\"62.0234\" id=\"E3\" style=\"stroke: #383838; stroke-width: 1.5;\" width=\"81\" x=\"833.5\" y=\"42\"/><text fill=\"#000000\" font-family=\"sans-serif\" font-size=\"12\" font-style=\"italic\" lengthAdjust=\"spacingAndGlyphs\" textLength=\"79\" x=\"834.5\" y=\"59.457\">«attribute def»</text><text fill=\"#000000\" font-family=\"sans-serif\" font-size=\"12\" lengthAdjust=\"spacingAndGlyphs\" textLength=\"58\" x=\"845\" y=\"74.5508\">WheelSize</text><line style=\"stroke: #383838; stroke-width: 1.5;\" x1=\"834.5\" x2=\"913.5\" y1=\"82.1875\" y2=\"82.1875\"/><text fill=\"#000000\" font-family=\"sans-serif\" font-size=\"11\" lengthAdjust=\"spacingAndGlyphs\" textLength=\"59\" x=\"839.5\" y=\"97.6064\">size: Integer</text><!--MD5=[ebbe1d658d1005bcc118a6aa81145e00]\n",
       "class E4--><rect fill=\"#FFFFFF\" height=\"48.1875\" id=\"E4\" style=\"stroke: #383838; stroke-width: 1.5;\" width=\"67\" x=\"847.5\" y=\"164\"/><text fill=\"#000000\" font-family=\"sans-serif\" font-size=\"12\" font-style=\"italic\" lengthAdjust=\"spacingAndGlyphs\" textLength=\"65\" x=\"848.5\" y=\"181.457\">«dataType»</text><text fill=\"#000000\" font-family=\"sans-serif\" font-size=\"12\" lengthAdjust=\"spacingAndGlyphs\" textLength=\"38\" x=\"862\" y=\"196.5508\">Integer</text><line style=\"stroke: #383838; stroke-width: 1.5;\" x1=\"848.5\" x2=\"913.5\" y1=\"204.1875\" y2=\"204.1875\"/><!--MD5=[270fce915f116d4de14055a7c1d9a0f3]\n",
       "class E5--><rect fill=\"#FFFFFF\" height=\"48.1875\" id=\"E5\" rx=\"10\" ry=\"10\" style=\"stroke: #383838; stroke-width: 1.5;\" width=\"81\" x=\"338.5\" y=\"49\"/><text fill=\"#000000\" font-family=\"sans-serif\" font-size=\"12\" font-style=\"italic\" lengthAdjust=\"spacingAndGlyphs\" textLength=\"35\" x=\"361.5\" y=\"66.457\">«part»</text><text fill=\"#000000\" font-family=\"sans-serif\" font-size=\"12\" lengthAdjust=\"spacingAndGlyphs\" textLength=\"75\" x=\"341.5\" y=\"81.5508\">eVehicle: Part</text><line style=\"stroke: #383838; stroke-width: 1.5;\" x1=\"339.5\" x2=\"418.5\" y1=\"89.1875\" y2=\"89.1875\"/><!--MD5=[60a26617385b1d2d0262a64233df1f8d]\n",
       "class E6--><rect fill=\"#FFFFFF\" height=\"48.1875\" id=\"E6\" rx=\"10\" ry=\"10\" style=\"stroke: #383838; stroke-width: 1.5;\" width=\"60\" x=\"32\" y=\"164\"/><text fill=\"#000000\" font-family=\"sans-serif\" font-size=\"12\" font-style=\"italic\" lengthAdjust=\"spacingAndGlyphs\" textLength=\"35\" x=\"44.5\" y=\"181.457\">«part»</text><text fill=\"#000000\" font-family=\"sans-serif\" font-size=\"12\" lengthAdjust=\"spacingAndGlyphs\" textLength=\"54\" x=\"35\" y=\"196.5508\">body: Part</text><line style=\"stroke: #383838; stroke-width: 1.5;\" x1=\"33\" x2=\"91\" y1=\"204.1875\" y2=\"204.1875\"/><!--MD5=[2156ba9850f5573cc1fc38a6a4b2f02b]\n",
       "class E7--><rect fill=\"#FFFFFF\" height=\"48.1875\" id=\"E7\" rx=\"10\" ry=\"10\" style=\"stroke: #383838; stroke-width: 1.5;\" width=\"70\" x=\"127\" y=\"164\"/><text fill=\"#000000\" font-family=\"sans-serif\" font-size=\"12\" font-style=\"italic\" lengthAdjust=\"spacingAndGlyphs\" textLength=\"35\" x=\"144.5\" y=\"181.457\">«part»</text><text fill=\"#000000\" font-family=\"sans-serif\" font-size=\"12\" lengthAdjust=\"spacingAndGlyphs\" textLength=\"64\" x=\"130\" y=\"196.5508\">battery: Part</text><line style=\"stroke: #383838; stroke-width: 1.5;\" x1=\"128\" x2=\"196\" y1=\"204.1875\" y2=\"204.1875\"/><!--MD5=[b9389687b975829384b498ac4b7476b2]\n",
       "class E8--><rect fill=\"#FFFFFF\" height=\"48.1875\" id=\"E8\" rx=\"10\" ry=\"10\" style=\"stroke: #383838; stroke-width: 1.5;\" width=\"72\" x=\"232\" y=\"164\"/><text fill=\"#000000\" font-family=\"sans-serif\" font-size=\"12\" font-style=\"italic\" lengthAdjust=\"spacingAndGlyphs\" textLength=\"35\" x=\"250.5\" y=\"181.457\">«part»</text><text fill=\"#000000\" font-family=\"sans-serif\" font-size=\"12\" lengthAdjust=\"spacingAndGlyphs\" textLength=\"66\" x=\"235\" y=\"196.5508\">engine: Part</text><line style=\"stroke: #383838; stroke-width: 1.5;\" x1=\"233\" x2=\"303\" y1=\"204.1875\" y2=\"204.1875\"/><!--MD5=[fd4143e9d270a159db93a4ea2a975926]\n",
       "class E9--><rect fill=\"#FFFFFF\" height=\"48.1875\" id=\"E9\" rx=\"10\" ry=\"10\" style=\"stroke: #383838; stroke-width: 1.5;\" width=\"80\" x=\"339\" y=\"164\"/><text fill=\"#000000\" font-family=\"sans-serif\" font-size=\"12\" font-style=\"italic\" lengthAdjust=\"spacingAndGlyphs\" textLength=\"35\" x=\"361.5\" y=\"181.457\">«part»</text><text fill=\"#000000\" font-family=\"sans-serif\" font-size=\"12\" lengthAdjust=\"spacingAndGlyphs\" textLength=\"74\" x=\"342\" y=\"196.5508\">frontAxis: Part</text><line style=\"stroke: #383838; stroke-width: 1.5;\" x1=\"340\" x2=\"418\" y1=\"204.1875\" y2=\"204.1875\"/><!--MD5=[96f4274e9e20536e775497830990834d]\n",
       "class E10--><rect fill=\"#FFFFFF\" height=\"48.1875\" id=\"E10\" rx=\"10\" ry=\"10\" style=\"stroke: #383838; stroke-width: 1.5;\" width=\"78\" x=\"454\" y=\"164\"/><text fill=\"#000000\" font-family=\"sans-serif\" font-size=\"12\" font-style=\"italic\" lengthAdjust=\"spacingAndGlyphs\" textLength=\"35\" x=\"475.5\" y=\"181.457\">«part»</text><text fill=\"#000000\" font-family=\"sans-serif\" font-size=\"12\" lengthAdjust=\"spacingAndGlyphs\" textLength=\"72\" x=\"457\" y=\"196.5508\">rearAxis: Part</text><line style=\"stroke: #383838; stroke-width: 1.5;\" x1=\"455\" x2=\"531\" y1=\"204.1875\" y2=\"204.1875\"/><!--MD5=[1dd1bfd58a279cf63c5f349dbc8fc6a1]\n",
       "class E11--><rect fill=\"#FFFFFF\" height=\"48.1875\" id=\"E11\" rx=\"10\" ry=\"10\" style=\"stroke: #383838; stroke-width: 1.5;\" width=\"106\" x=\"567\" y=\"164\"/><text fill=\"#000000\" font-family=\"sans-serif\" font-size=\"12\" font-style=\"italic\" lengthAdjust=\"spacingAndGlyphs\" textLength=\"35\" x=\"602.5\" y=\"181.457\">«part»</text><text fill=\"#000000\" font-family=\"sans-serif\" font-size=\"12\" lengthAdjust=\"spacingAndGlyphs\" textLength=\"100\" x=\"570\" y=\"196.5508\">frontWheel: Wheel</text><line style=\"stroke: #383838; stroke-width: 1.5;\" x1=\"568\" x2=\"672\" y1=\"204.1875\" y2=\"204.1875\"/><!--MD5=[49a0ec8f00dab7302a31f22d0f0fe584]\n",
       "class E12--><rect fill=\"#FFFFFF\" height=\"48.1875\" id=\"E12\" rx=\"10\" ry=\"10\" style=\"stroke: #383838; stroke-width: 1.5;\" width=\"104\" x=\"708\" y=\"164\"/><text fill=\"#000000\" font-family=\"sans-serif\" font-size=\"12\" font-style=\"italic\" lengthAdjust=\"spacingAndGlyphs\" textLength=\"35\" x=\"742.5\" y=\"181.457\">«part»</text><text fill=\"#000000\" font-family=\"sans-serif\" font-size=\"12\" lengthAdjust=\"spacingAndGlyphs\" textLength=\"98\" x=\"711\" y=\"196.5508\">rearWheel: Wheel</text><line style=\"stroke: #383838; stroke-width: 1.5;\" x1=\"709\" x2=\"811\" y1=\"204.1875\" y2=\"204.1875\"/><!--MD5=[4672eba38e49728da53d11aeb285b987]\n",
       "reverse link E3 to E4--><path d=\"M876.82,119.53 C877.762,134.732 878.772,151.035 879.563,163.807 \" fill=\"none\" id=\"E3&lt;-E4\" style=\"stroke: #383838; stroke-width: 1.0;\"/><ellipse cx=\"876.3705\" cy=\"112.2667\" fill=\"#FFFFFF\" rx=\"8\" ry=\"8\" style=\"stroke: #383838; stroke-width: 1.0;\"/><line style=\"stroke: #383838; stroke-width: 1.0;\" x1=\"876.8649\" x2=\"875.876\" y1=\"120.2514\" y2=\"104.282\"/><line style=\"stroke: #383838; stroke-width: 1.0;\" x1=\"868.3858\" x2=\"884.3552\" y1=\"112.7612\" y2=\"111.7722\"/><!--MD5=[85d356282659285ab4b2cfe2f634dd2b]\n",
       "reverse link E5 to E6--><path d=\"M325.555,89.51 C270.529,106.012 182.664,133.855 109,164 C103.451,166.271 97.6392,168.899 92.069,171.55 \" fill=\"none\" id=\"E5&lt;-E6\" style=\"stroke: #383838; stroke-width: 1.0;\"/><polygon fill=\"#383838\" points=\"338.132,85.764,331.2397,83.6435,326.6315,89.19,333.5237,91.3105,338.132,85.764\" style=\"stroke: #383838; stroke-width: 1.0;\"/><!--MD5=[452b418e7f8a40397a49b8c0a78acc5b]\n",
       "reverse link E5 to E7--><path d=\"M326.754,101.206 C286.675,122.077 232.441,150.319 197.337,168.599 \" fill=\"none\" id=\"E5&lt;-E7\" style=\"stroke: #383838; stroke-width: 1.0;\"/><polygon fill=\"#383838\" points=\"338.439,95.122,331.2698,94.3455,327.7957,100.6645,334.9649,101.441,338.439,95.122\" style=\"stroke: #383838; stroke-width: 1.0;\"/><!--MD5=[827760032d119d06bbc92f75530fd7ae]\n",
       "reverse link E5 to E8--><path d=\"M347.008,106.569 C328.995,124.906 306.929,147.369 290.7,163.891 \" fill=\"none\" id=\"E5&lt;-E8\" style=\"stroke: #383838; stroke-width: 1.0;\"/><polygon fill=\"#383838\" points=\"356.27,97.14,349.2119,98.6173,347.8609,105.7008,354.919,104.2234,356.27,97.14\" style=\"stroke: #383838; stroke-width: 1.0;\"/><!--MD5=[9ae28de373ca99bb8a1b38d63370ca7e]\n",
       "reverse link E5 to E9--><path d=\"M379,110.167 C379,127.78 379,148.435 379,163.891 \" fill=\"none\" id=\"E5&lt;-E9\" style=\"stroke: #383838; stroke-width: 1.0;\"/><polygon fill=\"#383838\" points=\"379,97.14,375,103.14,379,109.14,383,103.14,379,97.14\" style=\"stroke: #383838; stroke-width: 1.0;\"/><!--MD5=[567a9522dca498f6b73d7bae1a0f7884]\n",
       "reverse link E5 to E10--><path d=\"M411.601,106.315 C430.148,124.699 452.942,147.293 469.687,163.891 \" fill=\"none\" id=\"E5&lt;-E10\" style=\"stroke: #383838; stroke-width: 1.0;\"/><polygon fill=\"#383838\" points=\"402.345,97.14,403.79,104.2048,410.8671,105.5883,409.4222,98.5234,402.345,97.14\" style=\"stroke: #383838; stroke-width: 1.0;\"/><!--MD5=[7877111193bc45e215789042e7f4cb0b]\n",
       "link E11 to E2--><path d=\"M634.334,212.14 C641.899,224.351 651.469,239.8 660.532,254.43 \" fill=\"none\" id=\"E11-&gt;E2\" style=\"stroke: #383838; stroke-width: 1.0;\"/><polygon fill=\"#FFFFFF\" points=\"671.166,271.5962,655.2098,259.1302,667.1114,251.7578,671.166,271.5962\" style=\"stroke: #383838; stroke-width: 1.0;\"/><ellipse cx=\"653.9085\" cy=\"253.2314\" fill=\"#383838\" rx=\"2\" ry=\"2\" style=\"stroke: #383838; stroke-width: 1.0;\"/><ellipse cx=\"662.4096\" cy=\"247.9654\" fill=\"#383838\" rx=\"2\" ry=\"2\" style=\"stroke: #383838; stroke-width: 1.0;\"/><!--MD5=[3325ed84abf42d30cf9871854ece8e0f]\n",
       "reverse link E5 to E11--><path d=\"M431.386,98.563 C472.84,118 530.308,144.945 570.887,163.972 \" fill=\"none\" id=\"E5&lt;-E11\" style=\"stroke: #383838; stroke-width: 1.0;\"/><polygon fill=\"#383838\" points=\"419.61,93.041,423.3447,99.2096,430.4753,98.1347,426.7405,91.9661,419.61,93.041\" style=\"stroke: #383838; stroke-width: 1.0;\"/><text fill=\"#000000\" font-family=\"sans-serif\" font-size=\"13\" lengthAdjust=\"spacingAndGlyphs\" textLength=\"7\" x=\"551.7202\" y=\"154.0796\">2</text><!--MD5=[63c6921440a4d507355e031c43f22191]\n",
       "link E12 to E2--><path d=\"M745.666,212.14 C738.101,224.351 728.531,239.8 719.468,254.43 \" fill=\"none\" id=\"E12-&gt;E2\" style=\"stroke: #383838; stroke-width: 1.0;\"/><polygon fill=\"#FFFFFF\" points=\"708.834,271.5962,712.8886,251.7578,724.7902,259.1302,708.834,271.5962\" style=\"stroke: #383838; stroke-width: 1.0;\"/><ellipse cx=\"717.5904\" cy=\"247.9654\" fill=\"#383838\" rx=\"2\" ry=\"2\" style=\"stroke: #383838; stroke-width: 1.0;\"/><ellipse cx=\"726.0915\" cy=\"253.2314\" fill=\"#383838\" rx=\"2\" ry=\"2\" style=\"stroke: #383838; stroke-width: 1.0;\"/><!--MD5=[34d27d6d587f89a3ea738e677ae252de]\n",
       "reverse link E5 to E12--><path d=\"M432.142,88.615 C494.393,105.901 600.531,135.886 691,164 C696.426,165.686 702.077,167.49 707.705,169.319 \" fill=\"none\" id=\"E5&lt;-E12\" style=\"stroke: #383838; stroke-width: 1.0;\"/><polygon fill=\"#383838\" points=\"419.545,85.125,424.2591,90.5819,431.1093,88.3292,426.3952,82.8724,419.545,85.125\" style=\"stroke: #383838; stroke-width: 1.0;\"/><text fill=\"#000000\" font-family=\"sans-serif\" font-size=\"13\" lengthAdjust=\"spacingAndGlyphs\" textLength=\"7\" x=\"692.8588\" y=\"163.0736\">2</text><!--MD5=[2b334cccd340ed3ac32bcf7846e654cd]\n",
       "@startuml\r\n",
       "skinparam monochrome true\r\n",
       "skinparam classbackgroundcolor white\r\n",
       "skinparam shadowing false\r\n",
       "skinparam wrapWidth 300\r\n",
       "hide circle\r\n",
       "\r\n",
       "package \"eVehicle_LogicalArchitecture_v4\" as E1   {\r\n",
       "comp def \"Wheel\" as E2  <<(T,blue)part def>> {\r\n",
       "size: WheelSize\r\n",
       "}\r\n",
       "comp def \"WheelSize\" as E3  <<(T,blue)attribute def>> {\r\n",
       "size: Integer\r\n",
       "}\r\n",
       "comp def \"Integer\" as E4  <<(T,blue)dataType>> {\r\n",
       "}\r\n",
       "comp usage \"eVehicle: Part\" as E5  <<(T,blue)part>> {\r\n",
       "}\r\n",
       "comp usage \"body: Part\" as E6  <<(T,blue)part>> {\r\n",
       "}\r\n",
       "comp usage \"battery: Part\" as E7  <<(T,blue)part>> {\r\n",
       "}\r\n",
       "comp usage \"engine: Part\" as E8  <<(T,blue)part>> {\r\n",
       "}\r\n",
       "comp usage \"frontAxis: Part\" as E9  <<(T,blue)part>> {\r\n",
       "}\r\n",
       "comp usage \"rearAxis: Part\" as E10  <<(T,blue)part>> {\r\n",
       "}\r\n",
       "comp usage \"frontWheel: Wheel\" as E11  <<(T,blue)part>> {\r\n",
       "}\r\n",
       "comp usage \"rearWheel: Wheel\" as E12  <<(T,blue)part>> {\r\n",
       "}\r\n",
       "E3 +- - E4\r\n",
       "E5 *- - E6\r\n",
       "E5 *- - E7\r\n",
       "E5 *- - E8\r\n",
       "E5 *- - E9\r\n",
       "E5 *- - E10\r\n",
       "E11 - -:|> E2\r\n",
       "E5 *- - \"2\"E11\r\n",
       "E12 - -:|> E2\r\n",
       "E5 *- - \"2\"E12\r\n",
       "}\r\n",
       "@enduml\r\n",
       "\n",
       "PlantUML version 1.2020.13(Sat Jun 13 14:26:38 CEST 2020)\n",
       "(EPL source distribution)\n",
       "Java Runtime: OpenJDK Runtime Environment\n",
       "JVM: OpenJDK 64-Bit Server VM\n",
       "Default Encoding: Cp1252\n",
       "Language: en\n",
       "Country: US\n",
       "--></g></svg>"
      ]
     },
     "execution_count": 30,
     "metadata": {},
     "output_type": "execute_result"
    }
   ],
   "source": [
    "%viz --view=tree eVehicle_LogicalArchitecture_v4"
   ]
  },
  {
   "cell_type": "markdown",
   "metadata": {},
   "source": [
    "## Putting the parts together\n",
    "\n",
    "By now the model only defines the breakdown structure of the vehicle. There is no definition yet of how the parts are connected. The next example model *eVehicle_LogicalArchitecture_v5* connects the parts in a meaningful way.\n"
   ]
  },
  {
   "cell_type": "code",
   "execution_count": 31,
   "metadata": {},
   "outputs": [
    {
     "data": {
      "text/plain": [
       "Package eVehicle_LogicalArchitecture_v5 (5e000787-f618-476e-8942-d939e82d4347)\n"
      ]
     },
     "execution_count": 31,
     "metadata": {},
     "output_type": "execute_result"
    }
   ],
   "source": [
    "package eVehicle_LogicalArchitecture_v5 {\n",
    "    \n",
    "    part def Wheel {\n",
    "        attribute size : WheelSize;\n",
    "    }\n",
    "    \n",
    "    attribute def WheelSize {\n",
    "        import ScalarValues::Integer;\n",
    "        size : Integer;\n",
    "    }\n",
    "    \n",
    "    part eVehicle {    \n",
    "        part body;\n",
    "        part battery;\n",
    "        part engine;\n",
    "        part frontAxis;\n",
    "        part rearAxis;\n",
    "        part frontWheel : Wheel[2];\n",
    "        part rearWheel : Wheel[2];\n",
    "        \n",
    "        connect battery to engine;\n",
    "        connect engine to frontAxis;\n",
    "        connect frontAxis to frontWheel;\n",
    "        connect rearAxis to rearWheel;\n",
    "        connect body to battery;\n",
    "        connect body to engine;\n",
    "        connect body to frontAxis;\n",
    "        connect body to rearAxis;\n",
    "    }\n",
    "}"
   ]
  },
  {
   "cell_type": "code",
   "execution_count": 33,
   "metadata": {},
   "outputs": [
    {
     "data": {
      "image/svg+xml": [
       "<?xml version=\"1.0\" encoding=\"UTF-8\" standalone=\"no\"?><svg xmlns=\"http://www.w3.org/2000/svg\" xmlns:xlink=\"http://www.w3.org/1999/xlink\" contentScriptType=\"application/ecmascript\" contentStyleType=\"text/css\" height=\"352px\" preserveAspectRatio=\"none\" style=\"width:364px;height:352px;\" version=\"1.1\" viewBox=\"0 0 364 352\" width=\"364px\" zoomAndPan=\"magnify\"><defs/><g><!--MD5=[fbc87193dbaf4d95561dea2c320d4a47]\n",
       "cluster E1--><rect fill=\"#F8F8F8\" height=\"334\" rx=\"12.5\" ry=\"12.5\" style=\"stroke: #000000; stroke-width: 1.5;\" width=\"345\" x=\"7\" y=\"7\"/><rect fill=\"#FFFFFF\" height=\"300.3906\" rx=\"12.5\" ry=\"12.5\" style=\"stroke: #FFFFFF; stroke-width: 1.0;\" width=\"339\" x=\"10\" y=\"37.6094\"/><line style=\"stroke: #000000; stroke-width: 1.5;\" x1=\"7\" x2=\"352\" y1=\"34.6094\" y2=\"34.6094\"/><text fill=\"#000000\" font-family=\"sans-serif\" font-size=\"14\" lengthAdjust=\"spacingAndGlyphs\" textLength=\"88\" x=\"135.5\" y=\"25.5332\">eVehicle: Part</text><g id=\"E1.E2\"><rect fill=\"#FFFFFF\" height=\"50\" rx=\"12.5\" ry=\"12.5\" style=\"stroke: #383838; stroke-width: 1.5;\" width=\"85\" x=\"140.5\" y=\"275\"/><line style=\"stroke: #383838; stroke-width: 1.5;\" x1=\"140.5\" x2=\"225.5\" y1=\"302.6094\" y2=\"302.6094\"/><text fill=\"#000000\" font-family=\"sans-serif\" font-size=\"14\" lengthAdjust=\"spacingAndGlyphs\" textLength=\"65\" x=\"150.5\" y=\"294.5332\">body: Part</text></g><g id=\"E1.E3\"><rect fill=\"#FFFFFF\" height=\"50\" rx=\"12.5\" ry=\"12.5\" style=\"stroke: #383838; stroke-width: 1.5;\" width=\"98\" x=\"238\" y=\"217\"/><line style=\"stroke: #383838; stroke-width: 1.5;\" x1=\"238\" x2=\"336\" y1=\"244.6094\" y2=\"244.6094\"/><text fill=\"#000000\" font-family=\"sans-serif\" font-size=\"14\" lengthAdjust=\"spacingAndGlyphs\" textLength=\"78\" x=\"248\" y=\"236.5332\">battery: Part</text></g><g id=\"E1.E4\"><rect fill=\"#FFFFFF\" height=\"50\" rx=\"12.5\" ry=\"12.5\" style=\"stroke: #383838; stroke-width: 1.5;\" width=\"97\" x=\"229.5\" y=\"159\"/><line style=\"stroke: #383838; stroke-width: 1.5;\" x1=\"229.5\" x2=\"326.5\" y1=\"186.6094\" y2=\"186.6094\"/><text fill=\"#000000\" font-family=\"sans-serif\" font-size=\"14\" lengthAdjust=\"spacingAndGlyphs\" textLength=\"77\" x=\"239.5\" y=\"178.5332\">engine: Part</text></g><g id=\"E1.E5\"><rect fill=\"#FFFFFF\" height=\"50\" rx=\"12.5\" ry=\"12.5\" style=\"stroke: #383838; stroke-width: 1.5;\" width=\"108\" x=\"176\" y=\"101\"/><line style=\"stroke: #383838; stroke-width: 1.5;\" x1=\"176\" x2=\"284\" y1=\"128.6094\" y2=\"128.6094\"/><text fill=\"#000000\" font-family=\"sans-serif\" font-size=\"14\" lengthAdjust=\"spacingAndGlyphs\" textLength=\"88\" x=\"186\" y=\"120.5332\">frontAxis: Part</text></g><g id=\"E1.E6\"><rect fill=\"#FFFFFF\" height=\"50\" rx=\"12.5\" ry=\"12.5\" style=\"stroke: #383838; stroke-width: 1.5;\" width=\"105\" x=\"23.5\" y=\"217\"/><line style=\"stroke: #383838; stroke-width: 1.5;\" x1=\"23.5\" x2=\"128.5\" y1=\"244.6094\" y2=\"244.6094\"/><text fill=\"#000000\" font-family=\"sans-serif\" font-size=\"14\" lengthAdjust=\"spacingAndGlyphs\" textLength=\"85\" x=\"33.5\" y=\"236.5332\">rearAxis: Part</text></g><g id=\"E1.E7\"><rect fill=\"#FFFFFF\" height=\"50\" rx=\"12.5\" ry=\"12.5\" style=\"stroke: #383838; stroke-width: 1.5;\" width=\"137\" x=\"161.5\" y=\"43\"/><line style=\"stroke: #383838; stroke-width: 1.5;\" x1=\"161.5\" x2=\"298.5\" y1=\"70.6094\" y2=\"70.6094\"/><text fill=\"#000000\" font-family=\"sans-serif\" font-size=\"14\" lengthAdjust=\"spacingAndGlyphs\" textLength=\"117\" x=\"171.5\" y=\"62.5332\">frontWheel: Wheel</text></g><g id=\"E1.E8\"><rect fill=\"#FFFFFF\" height=\"50\" rx=\"12.5\" ry=\"12.5\" style=\"stroke: #383838; stroke-width: 1.5;\" width=\"134\" x=\"23\" y=\"159\"/><line style=\"stroke: #383838; stroke-width: 1.5;\" x1=\"23\" x2=\"157\" y1=\"186.6094\" y2=\"186.6094\"/><text fill=\"#000000\" font-family=\"sans-serif\" font-size=\"14\" lengthAdjust=\"spacingAndGlyphs\" textLength=\"114\" x=\"33\" y=\"178.5332\">rearWheel: Wheel</text></g><!--MD5=[f0cdf4548168e5211fb3a02bf679d63a]\n",
       "link E4 to E3--><path d=\"M281.869,209.074 C282.288,211.683 282.715,214.338 283.134,216.946 \" fill=\"none\" id=\"E4-E3\" style=\"stroke: #383838; stroke-width: 3.0;\"/><!--MD5=[1c62de2aa5b76f0fb657ff8443a1a700]\n",
       "link E5 to E4--><path d=\"M250.635,151.074 C252.871,153.683 255.147,156.338 257.383,158.946 \" fill=\"none\" id=\"E5-E4\" style=\"stroke: #383838; stroke-width: 3.0;\"/><!--MD5=[4d1e63f6c5cc89ece832f1e02a2fb60c]\n",
       "link E7 to E5--><path d=\"M230,93.074 C230,95.683 230,98.338 230,100.946 \" fill=\"none\" id=\"E7-E5\" style=\"stroke: #383838; stroke-width: 3.0;\"/><!--MD5=[c5e8897d989ce984f93528998a7150fe]\n",
       "link E8 to E6--><path d=\"M83.9815,209.074 C83.3293,211.683 82.6655,214.338 82.0134,216.946 \" fill=\"none\" id=\"E8-E6\" style=\"stroke: #383838; stroke-width: 3.0;\"/><!--MD5=[05d275557350bfb9b23a4ef7222b4c39]\n",
       "link E3 to E2--><path d=\"M242.291,267.074 C236.786,270.0385 231.169,273.0628 225.695,276.0106 \" fill=\"none\" id=\"E3-E2\" style=\"stroke: #383838; stroke-width: 3.0;\"/><!--MD5=[185131fc0dcab0a4505a2ebe144e961b]\n",
       "link E4 to E2--><path d=\"M229.339,208.538 C225.973,211.138 222.808,213.957 220,217 C204.854,233.414 195.084,257.0765 189.41,274.7682 \" fill=\"none\" id=\"E4-E2\" style=\"stroke: #383838; stroke-width: 3.0;\"/><!--MD5=[15ebcb19ae302d9b601edb458606d402]\n",
       "link E5 to E2--><path d=\"M214.09,151.023 C203.512,168.503 190.576,193.187 185,217 C180.519,236.134 180.288,258.4674 181.027,274.9908 \" fill=\"none\" id=\"E5-E2\" style=\"stroke: #383838; stroke-width: 3.0;\"/><!--MD5=[2351f337d6de0f557b50152ba70847b5]\n",
       "link E6 to E2--><path d=\"M121.999,267.074 C128.116,270.2756 134.367,273.5471 140.423,276.7165 \" fill=\"none\" id=\"E6-E2\" style=\"stroke: #383838; stroke-width: 3.0;\"/><!--MD5=[df1f860b4f243f3ef5c23c4b4db4dcd8]\n",
       "@startuml\r\n",
       "skinparam ranksep 8\r\n",
       "skinparam rectangle {\r\n",
       " backgroundColor<<block>> LightGreen\r\n",
       "}\r\n",
       "skinparam monochrome true\r\n",
       "skinparam classbackgroundcolor white\r\n",
       "skinparam shadowing false\r\n",
       "skinparam wrapWidth 300\r\n",
       "hide circle\r\n",
       "\r\n",
       "rec usage \"eVehicle: Part\" as E1  {\r\n",
       "rec usage \"body: Part\" as E2  {\r\n",
       "}\r\n",
       "rec usage \"battery: Part\" as E3  {\r\n",
       "}\r\n",
       "rec usage \"engine: Part\" as E4  {\r\n",
       "}\r\n",
       "rec usage \"frontAxis: Part\" as E5  {\r\n",
       "}\r\n",
       "rec usage \"rearAxis: Part\" as E6  {\r\n",
       "}\r\n",
       "rec usage \"frontWheel: Wheel\" as E7  {\r\n",
       "}\r\n",
       "rec usage \"rearWheel: Wheel\" as E8  {\r\n",
       "}\r\n",
       "}\r\n",
       "E4 -[thickness=3]- E3\r\n",
       "E5 -[thickness=3]- E4\r\n",
       "E7 -[thickness=3]- E5\r\n",
       "E8 -[thickness=3]- E6\r\n",
       "E3 -[thickness=3]- E2\r\n",
       "E4 -[thickness=3]- E2\r\n",
       "E5 -[thickness=3]- E2\r\n",
       "E6 -[thickness=3]- E2\r\n",
       "@enduml\r\n",
       "\n",
       "PlantUML version 1.2020.13(Sat Jun 13 14:26:38 CEST 2020)\n",
       "(EPL source distribution)\n",
       "Java Runtime: OpenJDK Runtime Environment\n",
       "JVM: OpenJDK 64-Bit Server VM\n",
       "Default Encoding: Cp1252\n",
       "Language: en\n",
       "Country: US\n",
       "--></g></svg>"
      ]
     },
     "execution_count": 33,
     "metadata": {},
     "output_type": "execute_result"
    }
   ],
   "source": [
    "%viz --view=interconnection eVehicle_LogicalArchitecture_v5::eVehicle"
   ]
  },
  {
   "cell_type": "markdown",
   "metadata": {},
   "source": [
    "## Modeling interfaces"
   ]
  },
  {
   "cell_type": "markdown",
   "metadata": {},
   "source": [
    "## Modeling variants"
   ]
  },
  {
   "cell_type": "markdown",
   "metadata": {},
   "source": [
    "## Satisfying requirements"
   ]
  },
  {
   "cell_type": "markdown",
   "metadata": {},
   "source": [
    "# SysML v2 MBSE Methodologies JupyterBook\n",
    "\n",
    "This chapter covers the impact of SysML v2 on MBSE methodologies.\n",
    "\n",
    "Which methods continue to work well and which would need to be adapted? Theoretically, the methodologies have been developed independently of the SysML language, but definitely with a focus on SysML v1.\n",
    "\n",
    "New features of SysML v2 can also lead to new methods in the methodologies.\n"
   ]
  },
  {
   "cell_type": "markdown",
   "metadata": {},
   "source": [
    "## SYSMOD with SysML v2\n",
    "\n",
    "The example is taken from the book [SYSMOD - The Systems Modeling Toolbox](https://leanpub.com/sysmod)."
   ]
  },
  {
   "cell_type": "markdown",
   "metadata": {},
   "source": [
    "### System Idea and System Objectives"
   ]
  },
  {
   "cell_type": "markdown",
   "metadata": {},
   "source": [
    "### System Context"
   ]
  },
  {
   "cell_type": "markdown",
   "metadata": {},
   "source": [
    "### System Use Cases"
   ]
  },
  {
   "cell_type": "markdown",
   "metadata": {},
   "source": [
    "### Use Case Activities"
   ]
  },
  {
   "cell_type": "markdown",
   "metadata": {},
   "source": [
    "### Domain Model"
   ]
  },
  {
   "cell_type": "markdown",
   "metadata": {},
   "source": [
    "### Quality Requirements"
   ]
  },
  {
   "cell_type": "markdown",
   "metadata": {},
   "source": [
    "### Logical Architecture "
   ]
  },
  {
   "cell_type": "markdown",
   "metadata": {},
   "source": [
    "### Product Architecture"
   ]
  },
  {
   "cell_type": "markdown",
   "metadata": {},
   "source": [
    "### System States"
   ]
  },
  {
   "cell_type": "markdown",
   "metadata": {},
   "source": [
    "### Verify Architecture with Scenarios"
   ]
  },
  {
   "cell_type": "markdown",
   "metadata": {},
   "source": [
    "### Test Cases"
   ]
  },
  {
   "cell_type": "markdown",
   "metadata": {},
   "source": [
    "### FAS with SysML v2\n",
    "\n",
    "The example is taken from the tutorial of the FAS plugin for MagicDraw: http://sourceforge.net/projects/fas4md/files/FAS_plugin_tutorial.pdf/download."
   ]
  },
  {
   "cell_type": "code",
   "execution_count": 5,
   "metadata": {},
   "outputs": [
    {
     "data": {
      "text/plain": [
       "Package TheFASJukeBox (7b5c7211-47e3-4007-b34c-e176981952a3)\n"
      ]
     },
     "execution_count": 5,
     "metadata": {},
     "output_type": "execute_result"
    }
   ],
   "source": [
    "package TheFASJukeBox {\n",
    "    \n",
    "    package UseCases {\n",
    "        activity 'Listen to Music';\n",
    "        activity 'Assemble Music Collection';\n",
    "        activity 'Retrieve Money';\n",
    "        activity '(Un)install and Move Jukebox';\n",
    "        activity 'Uninstall Jukebox';\n",
    "        activity 'Install Jukebox';\n",
    "        activity 'Supply Jukebox with Energy';\n",
    "    }\n",
    "    \n",
    "    package FunctionalArchitecture {\n",
    "        package FunctionalGroups {\n",
    "            \n",
    "        }\n",
    "        \n",
    "        part TheFASJukeBoxFunctionalContext {\n",
    "            part TheFASJukeBoxFunctionalArchitecture {\n",
    "                \n",
    "            }\n",
    "        }\n",
    "        \n",
    "    }\n",
    "    \n",
    "}"
   ]
  },
  {
   "cell_type": "code",
   "execution_count": 6,
   "metadata": {},
   "outputs": [
    {
     "data": {
      "image/svg+xml": [
       "<?xml version=\"1.0\" encoding=\"UTF-8\" standalone=\"no\"?><svg xmlns=\"http://www.w3.org/2000/svg\" xmlns:xlink=\"http://www.w3.org/1999/xlink\" contentScriptType=\"application/ecmascript\" contentStyleType=\"text/css\" height=\"301px\" preserveAspectRatio=\"none\" style=\"width:1634px;height:301px;\" version=\"1.1\" viewBox=\"0 0 1634 301\" width=\"1634px\" zoomAndPan=\"magnify\"><defs/><g><!--MD5=[fbc87193dbaf4d95561dea2c320d4a47]\n",
       "cluster E1--><polygon fill=\"#FFFFFF\" points=\"16,6,136,6,143,29.6094,1612,29.6094,1612,289,16,289,16,6\" style=\"stroke: #000000; stroke-width: 1.5;\"/><line style=\"stroke: #000000; stroke-width: 1.5;\" x1=\"16\" x2=\"143\" y1=\"29.6094\" y2=\"29.6094\"/><text fill=\"#000000\" font-family=\"sans-serif\" font-size=\"14\" font-weight=\"bold\" lengthAdjust=\"spacingAndGlyphs\" textLength=\"114\" x=\"20\" y=\"22.5332\">TheFASJukeBox</text><!--MD5=[e4f7fae6ed58524ba242bb0b0d3be6b7]\n",
       "cluster E2--><polygon fill=\"#FFFFFF\" points=\"499,53.5,575,53.5,582,77.1094,1588,77.1094,1588,153.5,499,153.5,499,53.5\" style=\"stroke: #000000; stroke-width: 1.5;\"/><line style=\"stroke: #000000; stroke-width: 1.5;\" x1=\"499\" x2=\"582\" y1=\"77.1094\" y2=\"77.1094\"/><text fill=\"#000000\" font-family=\"sans-serif\" font-size=\"14\" font-weight=\"bold\" lengthAdjust=\"spacingAndGlyphs\" textLength=\"70\" x=\"503\" y=\"70.0332\">UseCases</text><!--MD5=[a84b4591f868c1fa4a211716a82f2f0d]\n",
       "cluster E10--><polygon fill=\"#FFFFFF\" points=\"40,50,207,50,214,73.6094,475,73.6094,475,265,40,265,40,50\" style=\"stroke: #000000; stroke-width: 1.5;\"/><line style=\"stroke: #000000; stroke-width: 1.5;\" x1=\"40\" x2=\"214\" y1=\"73.6094\" y2=\"73.6094\"/><text fill=\"#000000\" font-family=\"sans-serif\" font-size=\"14\" font-weight=\"bold\" lengthAdjust=\"spacingAndGlyphs\" textLength=\"161\" x=\"44\" y=\"66.5332\">FunctionalArchitecture</text><!--MD5=[09b614a08d8cba4a07c9adeb5e0fee81]\n",
       "class E3--><rect fill=\"#FFFFFF\" height=\"48.1875\" id=\"E3\" style=\"stroke: #383838; stroke-width: 1.5;\" width=\"88\" x=\"1484\" y=\"89.5\"/><text fill=\"#000000\" font-family=\"sans-serif\" font-size=\"12\" font-style=\"italic\" lengthAdjust=\"spacingAndGlyphs\" textLength=\"67\" x=\"1494.5\" y=\"106.957\">«action def»</text><text fill=\"#000000\" font-family=\"sans-serif\" font-size=\"12\" lengthAdjust=\"spacingAndGlyphs\" textLength=\"82\" x=\"1487\" y=\"122.0508\">Listen to Music</text><line style=\"stroke: #383838; stroke-width: 1.5;\" x1=\"1485\" x2=\"1571\" y1=\"129.6875\" y2=\"129.6875\"/><!--MD5=[ebbe1d658d1005bcc118a6aa81145e00]\n",
       "class E4--><rect fill=\"#FFFFFF\" height=\"48.1875\" id=\"E4\" style=\"stroke: #383838; stroke-width: 1.5;\" width=\"155\" x=\"1293.5\" y=\"89.5\"/><text fill=\"#000000\" font-family=\"sans-serif\" font-size=\"12\" font-style=\"italic\" lengthAdjust=\"spacingAndGlyphs\" textLength=\"67\" x=\"1337.5\" y=\"106.957\">«action def»</text><text fill=\"#000000\" font-family=\"sans-serif\" font-size=\"12\" lengthAdjust=\"spacingAndGlyphs\" textLength=\"149\" x=\"1296.5\" y=\"122.0508\">Assemble Music Collection</text><line style=\"stroke: #383838; stroke-width: 1.5;\" x1=\"1294.5\" x2=\"1447.5\" y1=\"129.6875\" y2=\"129.6875\"/><!--MD5=[270fce915f116d4de14055a7c1d9a0f3]\n",
       "class E5--><rect fill=\"#FFFFFF\" height=\"48.1875\" id=\"E5\" style=\"stroke: #383838; stroke-width: 1.5;\" width=\"89\" x=\"1169.5\" y=\"89.5\"/><text fill=\"#000000\" font-family=\"sans-serif\" font-size=\"12\" font-style=\"italic\" lengthAdjust=\"spacingAndGlyphs\" textLength=\"67\" x=\"1180.5\" y=\"106.957\">«action def»</text><text fill=\"#000000\" font-family=\"sans-serif\" font-size=\"12\" lengthAdjust=\"spacingAndGlyphs\" textLength=\"83\" x=\"1172.5\" y=\"122.0508\">Retrieve Money</text><line style=\"stroke: #383838; stroke-width: 1.5;\" x1=\"1170.5\" x2=\"1257.5\" y1=\"129.6875\" y2=\"129.6875\"/><!--MD5=[60a26617385b1d2d0262a64233df1f8d]\n",
       "class E6--><rect fill=\"#FFFFFF\" height=\"48.1875\" id=\"E6\" style=\"stroke: #383838; stroke-width: 1.5;\" width=\"166\" x=\"968\" y=\"89.5\"/><text fill=\"#000000\" font-family=\"sans-serif\" font-size=\"12\" font-style=\"italic\" lengthAdjust=\"spacingAndGlyphs\" textLength=\"67\" x=\"1017.5\" y=\"106.957\">«action def»</text><text fill=\"#000000\" font-family=\"sans-serif\" font-size=\"12\" lengthAdjust=\"spacingAndGlyphs\" textLength=\"160\" x=\"971\" y=\"122.0508\">(Un)install and Move Jukebox</text><line style=\"stroke: #383838; stroke-width: 1.5;\" x1=\"969\" x2=\"1133\" y1=\"129.6875\" y2=\"129.6875\"/><!--MD5=[2156ba9850f5573cc1fc38a6a4b2f02b]\n",
       "class E7--><rect fill=\"#FFFFFF\" height=\"48.1875\" id=\"E7\" style=\"stroke: #383838; stroke-width: 1.5;\" width=\"103\" x=\"829.5\" y=\"89.5\"/><text fill=\"#000000\" font-family=\"sans-serif\" font-size=\"12\" font-style=\"italic\" lengthAdjust=\"spacingAndGlyphs\" textLength=\"67\" x=\"847.5\" y=\"106.957\">«action def»</text><text fill=\"#000000\" font-family=\"sans-serif\" font-size=\"12\" lengthAdjust=\"spacingAndGlyphs\" textLength=\"97\" x=\"832.5\" y=\"122.0508\">Uninstall Jukebox</text><line style=\"stroke: #383838; stroke-width: 1.5;\" x1=\"830.5\" x2=\"931.5\" y1=\"129.6875\" y2=\"129.6875\"/><!--MD5=[b9389687b975829384b498ac4b7476b2]\n",
       "class E8--><rect fill=\"#FFFFFF\" height=\"48.1875\" id=\"E8\" style=\"stroke: #383838; stroke-width: 1.5;\" width=\"87\" x=\"707.5\" y=\"89.5\"/><text fill=\"#000000\" font-family=\"sans-serif\" font-size=\"12\" font-style=\"italic\" lengthAdjust=\"spacingAndGlyphs\" textLength=\"67\" x=\"717.5\" y=\"106.957\">«action def»</text><text fill=\"#000000\" font-family=\"sans-serif\" font-size=\"12\" lengthAdjust=\"spacingAndGlyphs\" textLength=\"81\" x=\"710.5\" y=\"122.0508\">Install Jukebox</text><line style=\"stroke: #383838; stroke-width: 1.5;\" x1=\"708.5\" x2=\"793.5\" y1=\"129.6875\" y2=\"129.6875\"/><!--MD5=[fd4143e9d270a159db93a4ea2a975926]\n",
       "class E9--><rect fill=\"#FFFFFF\" height=\"48.1875\" id=\"E9\" style=\"stroke: #383838; stroke-width: 1.5;\" width=\"157\" x=\"515.5\" y=\"89.5\"/><text fill=\"#000000\" font-family=\"sans-serif\" font-size=\"12\" font-style=\"italic\" lengthAdjust=\"spacingAndGlyphs\" textLength=\"67\" x=\"560.5\" y=\"106.957\">«action def»</text><text fill=\"#000000\" font-family=\"sans-serif\" font-size=\"12\" lengthAdjust=\"spacingAndGlyphs\" textLength=\"151\" x=\"518.5\" y=\"122.0508\">Supply Jukebox with Energy</text><line style=\"stroke: #383838; stroke-width: 1.5;\" x1=\"516.5\" x2=\"671.5\" y1=\"129.6875\" y2=\"129.6875\"/><!--MD5=[49a0ec8f00dab7302a31f22d0f0fe584]\n",
       "class E12--><rect fill=\"#FFFFFF\" height=\"48.1875\" id=\"E12\" rx=\"10\" ry=\"10\" style=\"stroke: #383838; stroke-width: 1.5;\" width=\"221\" x=\"237.5\" y=\"89.5\"/><text fill=\"#000000\" font-family=\"sans-serif\" font-size=\"12\" font-style=\"italic\" lengthAdjust=\"spacingAndGlyphs\" textLength=\"35\" x=\"330.5\" y=\"106.957\">«part»</text><text fill=\"#000000\" font-family=\"sans-serif\" font-size=\"12\" lengthAdjust=\"spacingAndGlyphs\" textLength=\"215\" x=\"240.5\" y=\"122.0508\">TheFASJukeBoxFunctionalContext: Part</text><line style=\"stroke: #383838; stroke-width: 1.5;\" x1=\"238.5\" x2=\"457.5\" y1=\"129.6875\" y2=\"129.6875\"/><!--MD5=[ee3c913d1a06f366521f9ef512b67efe]\n",
       "class E13--><rect fill=\"#FFFFFF\" height=\"48.1875\" id=\"E13\" rx=\"10\" ry=\"10\" style=\"stroke: #383838; stroke-width: 1.5;\" width=\"244\" x=\"215\" y=\"201\"/><text fill=\"#000000\" font-family=\"sans-serif\" font-size=\"12\" font-style=\"italic\" lengthAdjust=\"spacingAndGlyphs\" textLength=\"35\" x=\"319.5\" y=\"218.457\">«part»</text><text fill=\"#000000\" font-family=\"sans-serif\" font-size=\"12\" lengthAdjust=\"spacingAndGlyphs\" textLength=\"238\" x=\"218\" y=\"233.5508\">TheFASJukeBoxFunctionalArchitecture: Part</text><line style=\"stroke: #383838; stroke-width: 1.5;\" x1=\"216\" x2=\"458\" y1=\"241.1875\" y2=\"241.1875\"/><polygon fill=\"#FFFFFF\" points=\"56,86,188,86,195,109.6094,202,109.6094,202,141.2188,56,141.2188,56,86\" style=\"stroke: #000000; stroke-width: 1.5;\"/><line style=\"stroke: #000000; stroke-width: 1.5;\" x1=\"56\" x2=\"195\" y1=\"109.6094\" y2=\"109.6094\"/><text fill=\"#000000\" font-family=\"sans-serif\" font-size=\"14\" font-weight=\"bold\" lengthAdjust=\"spacingAndGlyphs\" textLength=\"126\" x=\"60\" y=\"102.5332\">FunctionalGroups</text><!--MD5=[062ed86c389d1a88f61c6380d0491e17]\n",
       "reverse link E12 to E13--><path d=\"M344.352,150.818 C342.696,167.298 340.787,186.301 339.329,200.811 \" fill=\"none\" id=\"E12&lt;-E13\" style=\"stroke: #383838; stroke-width: 1.0;\"/><polygon fill=\"#383838\" points=\"345.667,137.722,341.0871,143.292,344.4671,149.6619,349.047,144.0919,345.667,137.722\" style=\"stroke: #383838; stroke-width: 1.0;\"/><!--MD5=[265fac25fef14b91f276be560c282563]\n",
       "@startuml\r\n",
       "skinparam monochrome true\r\n",
       "skinparam classbackgroundcolor white\r\n",
       "skinparam shadowing false\r\n",
       "skinparam wrapWidth 300\r\n",
       "hide circle\r\n",
       "\r\n",
       "package \"TheFASJukeBox\" as E1   {\r\n",
       "package \"UseCases\" as E2   {\r\n",
       "comp def \"Listen to Music\" as E3  <<(T,blue)action def>> {\r\n",
       "}\r\n",
       "comp def \"Assemble Music Collection\" as E4  <<(T,blue)action def>> {\r\n",
       "}\r\n",
       "comp def \"Retrieve Money\" as E5  <<(T,blue)action def>> {\r\n",
       "}\r\n",
       "comp def \"(Un)install and Move Jukebox\" as E6  <<(T,blue)action def>> {\r\n",
       "}\r\n",
       "comp def \"Uninstall Jukebox\" as E7  <<(T,blue)action def>> {\r\n",
       "}\r\n",
       "comp def \"Install Jukebox\" as E8  <<(T,blue)action def>> {\r\n",
       "}\r\n",
       "comp def \"Supply Jukebox with Energy\" as E9  <<(T,blue)action def>> {\r\n",
       "}\r\n",
       "}\r\n",
       "package \"FunctionalArchitecture\" as E10   {\r\n",
       "package \"FunctionalGroups\" as E11   {\r\n",
       "}\r\n",
       "comp usage \"TheFASJukeBoxFunctionalContext: Part\" as E12  <<(T,blue)part>> {\r\n",
       "}\r\n",
       "comp usage \"TheFASJukeBoxFunctionalArchitecture: Part\" as E13  <<(T,blue)part>> {\r\n",
       "}\r\n",
       "E12 *- - E13\r\n",
       "}\r\n",
       "}\r\n",
       "@enduml\r\n",
       "\n",
       "PlantUML version 1.2020.13(Sat Jun 13 14:26:38 CEST 2020)\n",
       "(EPL source distribution)\n",
       "Java Runtime: OpenJDK Runtime Environment\n",
       "JVM: OpenJDK 64-Bit Server VM\n",
       "Default Encoding: Cp1252\n",
       "Language: en\n",
       "Country: US\n",
       "--></g></svg>"
      ]
     },
     "execution_count": 6,
     "metadata": {},
     "output_type": "execute_result"
    }
   ],
   "source": [
    "%viz --view=tree TheFASJukeBox"
   ]
  }
 ],
 "metadata": {
  "kernelspec": {
   "display_name": "SysML",
   "language": "sysml",
   "name": "sysml"
  },
  "language_info": {
   "codemirror_mode": "sysml",
   "file_extension": ".sysml",
   "mimetype": "text/x-sysml",
   "name": "SysML",
   "pygments_lexer": "java",
   "version": "1.0.0"
  }
 },
 "nbformat": 4,
 "nbformat_minor": 4
}
